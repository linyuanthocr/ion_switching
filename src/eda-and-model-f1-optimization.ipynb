{
 "cells": [
  {
   "cell_type": "markdown",
   "metadata": {},
   "source": [
    "## General information\n",
    "\n",
    "```\n",
    "Many diseases, including cancer, are believed to have a contributing factor in common. Ion channels are pore-forming proteins present in animals and plants. They encode learning and memory, help fight infections, enable pain signals, and stimulate muscle contraction. If scientists could better study ion channels, which may be possible with the aid of machine learning, it could have a far-reaching impact.\n",
    "\n",
    "When ion channels open, they pass electric currents. Existing methods of detecting these state changes are slow and laborious. Humans must supervise the analysis, which imparts considerable bias, in addition to being tedious. These difficulties limit the volume of ion channel current analysis that can be used in research. Scientists hope that technology could enable rapid automatic detection of ion channel current events in raw data.\n",
    "```\n",
    "\n",
    "In other words this competition we work with time series and predict classes for each time point. In the original [paper](https://www.nature.com/articles/s42003-019-0729-3) deep learning approach is recommended. For now I'll build an LGBM model.\n",
    "\n",
    "A notice: the competition has QWK metric, this means we can work with it as with classification or regression problem.\n",
    "\n",
    "By the way, at last we have a normal competition and not kernel-only!\n",
    "\n",
    "![](https://storage.googleapis.com/kaggle-media/competitions/Liverpool/ion%20image.jpg)\n",
    "\n",
    "*Work in progress. Really :)*"
   ]
  },
  {
   "cell_type": "markdown",
   "metadata": {},
   "source": [
    "## Import libraries"
   ]
  },
  {
   "cell_type": "code",
   "execution_count": 6,
   "metadata": {
    "ExecuteTime": {
     "end_time": "2020-03-25T01:17:21.135911Z",
     "start_time": "2020-03-25T01:17:21.113566Z"
    },
    "_cell_guid": "b1076dfc-b9ad-4769-8c92-a6c4dae69d19",
    "_kg_hide-input": true,
    "_uuid": "8f2839f25d086af736a60e9eeb907d3b93b6e0e5"
   },
   "outputs": [],
   "source": [
    "import numpy as np\n",
    "import pandas as pd\n",
    "import os\n",
    "from scipy.signal import hilbert\n",
    "from scipy.signal import hann\n",
    "from scipy.signal import convolve\n",
    "import copy\n",
    "import matplotlib.pyplot as plt\n",
    "%matplotlib inline\n",
    "from tqdm import tqdm_notebook\n",
    "from sklearn.preprocessing import StandardScaler\n",
    "from sklearn.svm import NuSVR, SVR\n",
    "from sklearn.metrics import mean_absolute_error, f1_score\n",
    "pd.options.display.precision = 15\n",
    "from collections import defaultdict\n",
    "import lightgbm as lgb\n",
    "import xgboost as xgb\n",
    "import catboost as cat\n",
    "import time\n",
    "from collections import Counter\n",
    "import datetime\n",
    "from catboost import CatBoostRegressor\n",
    "from sklearn.preprocessing import LabelEncoder\n",
    "from sklearn.model_selection import StratifiedKFold, KFold, RepeatedKFold, GroupKFold, GridSearchCV, train_test_split, TimeSeriesSplit, RepeatedStratifiedKFold\n",
    "from sklearn import metrics\n",
    "from sklearn.metrics import classification_report, confusion_matrix\n",
    "from sklearn import linear_model\n",
    "import gc\n",
    "import seaborn as sns\n",
    "import warnings\n",
    "warnings.filterwarnings(\"ignore\")\n",
    "from bayes_opt import BayesianOptimization\n",
    "# import eli5\n",
    "import shap\n",
    "from IPython.display import HTML\n",
    "import json\n",
    "import altair as alt\n",
    "from category_encoders.ordinal import OrdinalEncoder\n",
    "import networkx as nx\n",
    "import matplotlib.pyplot as plt\n",
    "%matplotlib inline\n",
    "from typing import List\n",
    "\n",
    "import os\n",
    "import time\n",
    "import datetime\n",
    "import json\n",
    "import gc\n",
    "from numba import jit\n",
    "\n",
    "import numpy as np\n",
    "import pandas as pd\n",
    "\n",
    "import matplotlib.pyplot as plt\n",
    "import seaborn as sns\n",
    "from tqdm import tqdm_notebook\n",
    "\n",
    "import lightgbm as lgb\n",
    "import xgboost as xgb\n",
    "from catboost import CatBoostRegressor, CatBoostClassifier\n",
    "from sklearn import metrics\n",
    "from typing import Any\n",
    "from itertools import product\n",
    "pd.set_option('max_rows', 500)\n",
    "import re\n",
    "from tqdm import tqdm\n",
    "from joblib import Parallel, delayed"
   ]
  },
  {
   "cell_type": "code",
   "execution_count": 7,
   "metadata": {
    "ExecuteTime": {
     "end_time": "2020-03-25T01:17:26.062687Z",
     "start_time": "2020-03-25T01:17:26.060125Z"
    }
   },
   "outputs": [],
   "source": [
    "# PATH = '/kaggle/input/'\n",
    "PATH = '/Users/helen/Desktop/Data/'"
   ]
  },
  {
   "cell_type": "markdown",
   "metadata": {},
   "source": [
    "## helper functions and classes"
   ]
  },
  {
   "cell_type": "code",
   "execution_count": 8,
   "metadata": {
    "ExecuteTime": {
     "end_time": "2020-03-25T01:17:26.083479Z",
     "start_time": "2020-03-25T01:17:26.067749Z"
    },
    "_kg_hide-input": false
   },
   "outputs": [],
   "source": [
    "def reduce_mem_usage(df, verbose=True):\n",
    "    numerics = ['int16', 'int32', 'int64', 'float16', 'float32', 'float64']\n",
    "    start_mem = df.memory_usage().sum() / 1024**2    \n",
    "    for col in df.columns:\n",
    "        col_type = df[col].dtypes\n",
    "        if col_type in numerics:\n",
    "            c_min = df[col].min()\n",
    "            c_max = df[col].max()\n",
    "            if str(col_type)[:3] == 'int':\n",
    "                if c_min > np.iinfo(np.int8).min and c_max < np.iinfo(np.int8).max:\n",
    "                    df[col] = df[col].astype(np.int8)\n",
    "                elif c_min > np.iinfo(np.int16).min and c_max < np.iinfo(np.int16).max:\n",
    "                    df[col] = df[col].astype(np.int16)\n",
    "                elif c_min > np.iinfo(np.int32).min and c_max < np.iinfo(np.int32).max:\n",
    "                    df[col] = df[col].astype(np.int32)\n",
    "                elif c_min > np.iinfo(np.int64).min and c_max < np.iinfo(np.int64).max:\n",
    "                    df[col] = df[col].astype(np.int64)  \n",
    "            else:\n",
    "                if c_min > np.finfo(np.float16).min and c_max < np.finfo(np.float16).max:\n",
    "                    df[col] = df[col].astype(np.float16)\n",
    "                elif c_min > np.finfo(np.float32).min and c_max < np.finfo(np.float32).max:\n",
    "                    df[col] = df[col].astype(np.float32)\n",
    "                else:\n",
    "                    df[col] = df[col].astype(np.float64)    \n",
    "    end_mem = df.memory_usage().sum() / 1024**2\n",
    "    if verbose: print('Mem. usage decreased to {:5.2f} Mb ({:.1f}% reduction)'.format(end_mem, 100 * (start_mem - end_mem) / start_mem))\n",
    "    return df"
   ]
  },
  {
   "cell_type": "code",
   "execution_count": 9,
   "metadata": {
    "ExecuteTime": {
     "end_time": "2020-03-25T01:17:26.121872Z",
     "start_time": "2020-03-25T01:17:26.086177Z"
    },
    "_cell_guid": "79c7e3d0-c299-4dcb-8224-4455121ee9b0",
    "_kg_hide-input": true,
    "_uuid": "d629ff2d2480ee46fbb7e2d37f6b5fab8052498a"
   },
   "outputs": [],
   "source": [
    "from sklearn.base import BaseEstimator, TransformerMixin\n",
    "@jit\n",
    "def qwk(a1, a2):\n",
    "    \"\"\"\n",
    "    Source: https://www.kaggle.com/c/data-science-bowl-2019/discussion/114133#latest-660168\n",
    "\n",
    "    :param a1:\n",
    "    :param a2:\n",
    "    :param max_rat:\n",
    "    :return:\n",
    "    \"\"\"\n",
    "    max_rat = 10\n",
    "    a1 = np.asarray(a1, dtype=int)\n",
    "    a2 = np.asarray(a2, dtype=int)\n",
    "\n",
    "    hist1 = np.zeros((max_rat + 1, ))\n",
    "    hist2 = np.zeros((max_rat + 1, ))\n",
    "\n",
    "    o = 0\n",
    "    for k in range(a1.shape[0]):\n",
    "        i, j = a1[k], a2[k]\n",
    "        hist1[i] += 1\n",
    "        hist2[j] += 1\n",
    "        o +=  (i - j) * (i - j)\n",
    "\n",
    "    e = 0\n",
    "    for i in range(max_rat + 1):\n",
    "        for j in range(max_rat + 1):\n",
    "            e += hist1[i] * hist2[j] * (i - j) * (i - j)\n",
    "\n",
    "    e = e / a1.shape[0]\n",
    "\n",
    "    return 1 - o / e\n",
    "\n",
    "\n",
    "def eval_qwk_lgb(y_true, y_pred):\n",
    "    \"\"\"\n",
    "    Fast cappa eval function for lgb.\n",
    "    \"\"\"\n",
    "\n",
    "    y_pred = y_pred.reshape(len(np.unique(y_true)), -1).argmax(axis=0)\n",
    "    return 'cappa', qwk(y_true, y_pred), True\n",
    "\n",
    "\n",
    "def eval_qwk_lgb_regr(y_true, y_pred):\n",
    "    \"\"\"\n",
    "    Fast cappa eval function for lgb.\n",
    "    \"\"\"\n",
    "    y_pred[y_pred <= 0.5] = 0\n",
    "    y_pred[np.where(np.logical_and(y_pred > 0.5, y_pred <= 1.5))] = 1\n",
    "    y_pred[np.where(np.logical_and(y_pred > 1.5, y_pred <= 2.5))] = 2\n",
    "    y_pred[np.where(np.logical_and(y_pred > 2.5, y_pred <= 3.5))] = 3\n",
    "    y_pred[np.where(np.logical_and(y_pred > 3.5, y_pred <= 4.5))] = 4\n",
    "    y_pred[np.where(np.logical_and(y_pred > 4.5, y_pred <= 5.5))] = 5\n",
    "    y_pred[np.where(np.logical_and(y_pred > 5.5, y_pred <= 6.5))] = 6\n",
    "    y_pred[np.where(np.logical_and(y_pred > 6.5, y_pred <= 7.5))] = 7\n",
    "    y_pred[np.where(np.logical_and(y_pred > 7.5, y_pred <= 8.5))] = 8\n",
    "    y_pred[np.where(np.logical_and(y_pred > 8.5, y_pred <= 9.5))] = 9\n",
    "    y_pred[y_pred > 9.5] = 10\n",
    "\n",
    "    return 'cappa', qwk(y_true, y_pred), True\n",
    "\n",
    "\n",
    "class LGBWrapper_regr(object):\n",
    "    \"\"\"\n",
    "    A wrapper for lightgbm model so that we will have a single api for various models.\n",
    "    \"\"\"\n",
    "\n",
    "    def __init__(self):\n",
    "        self.model = lgb.LGBMRegressor()\n",
    "\n",
    "    def fit(self, X_train, y_train, X_valid=None, y_valid=None, X_holdout=None, y_holdout=None, params=None):\n",
    "        if params['eval_metric'] == 'cappa':\n",
    "            eval_metric = eval_qwk_lgb_regr\n",
    "        elif params['eval_metric'] == 'f1_macro':\n",
    "            eval_metric = evaluate_macroF1_lgb\n",
    "        else:\n",
    "            eval_metric = params['eval_metric']\n",
    "\n",
    "        eval_set = [(X_train, y_train)]\n",
    "        eval_names = ['train']\n",
    "        self.model = self.model.set_params(**params)\n",
    "\n",
    "        if X_valid is not None:\n",
    "            eval_set.append((X_valid, y_valid))\n",
    "            eval_names.append('valid')\n",
    "\n",
    "        if X_holdout is not None:\n",
    "            eval_set.append((X_holdout, y_holdout))\n",
    "            eval_names.append('holdout')\n",
    "\n",
    "        if 'cat_cols' in params.keys():\n",
    "            cat_cols = [col for col in params['cat_cols'] if col in X_train.columns]\n",
    "            if len(cat_cols) > 0:\n",
    "                categorical_columns = params['cat_cols']\n",
    "            else:\n",
    "                categorical_columns = 'auto'\n",
    "        else:\n",
    "            categorical_columns = 'auto'\n",
    "\n",
    "        self.model.fit(X=X_train, y=y_train,\n",
    "                       eval_set=eval_set, eval_names=eval_names, eval_metric=eval_metric,\n",
    "                       verbose=params['verbose'], early_stopping_rounds=params['early_stopping_rounds'],\n",
    "                       categorical_feature=categorical_columns)\n",
    "\n",
    "        self.best_score_ = self.model.best_score_\n",
    "        self.feature_importances_ = self.model.feature_importances_\n",
    "\n",
    "    def predict(self, X_test):\n",
    "        return self.model.predict(X_test, num_iteration=self.model.best_iteration_)\n",
    "\n",
    "    \n",
    "def eval_qwk_xgb(y_pred, y_true):\n",
    "    \"\"\"\n",
    "    Fast cappa eval function for xgb.\n",
    "    \"\"\"\n",
    "    # print('y_true', y_true)\n",
    "    # print('y_pred', y_pred)\n",
    "    y_true = y_true.get_label()\n",
    "    y_pred = y_pred.argmax(axis=1)\n",
    "    return 'cappa', -qwk(y_true, y_pred)\n",
    "\n",
    "def evaluate_macroF1_lgb(truth, predictions):\n",
    "    \n",
    "    # pred_labels = predictions.reshape(len(np.unique(truth)),-1).argmax(axis=0)\n",
    "    f1 = f1_score(truth, predictions.astype(int), average='macro')\n",
    "    return ('f1_macro', f1, True) \n",
    "\n",
    "\n",
    "class LGBWrapper(object):\n",
    "    \"\"\"\n",
    "    A wrapper for lightgbm model so that we will have a single api for various models.\n",
    "    \"\"\"\n",
    "\n",
    "    def __init__(self):\n",
    "        self.model = lgb.LGBMClassifier()\n",
    "\n",
    "    def fit(self, X_train, y_train, X_valid=None, y_valid=None, X_holdout=None, y_holdout=None, params=None):\n",
    "\n",
    "        eval_set = [(X_train, y_train)]\n",
    "        eval_names = ['train']\n",
    "        self.model = self.model.set_params(**params)\n",
    "\n",
    "        if X_valid is not None:\n",
    "            eval_set.append((X_valid, y_valid))\n",
    "            eval_names.append('valid')\n",
    "\n",
    "        if X_holdout is not None:\n",
    "            eval_set.append((X_holdout, y_holdout))\n",
    "            eval_names.append('holdout')\n",
    "\n",
    "        if 'cat_cols' in params.keys():\n",
    "            cat_cols = [col for col in params['cat_cols'] if col in X_train.columns]\n",
    "            if len(cat_cols) > 0:\n",
    "                categorical_columns = params['cat_cols']\n",
    "            else:\n",
    "                categorical_columns = 'auto'\n",
    "        else:\n",
    "            categorical_columns = 'auto'\n",
    "\n",
    "        self.model.fit(X=X_train, y=y_train,\n",
    "                       eval_set=eval_set, eval_names=eval_names, eval_metric=evaluate_macroF1_lgb,\n",
    "                       verbose=params['verbose'], early_stopping_rounds=params['early_stopping_rounds'],\n",
    "                       categorical_feature=categorical_columns)\n",
    "\n",
    "        self.best_score_ = self.model.best_score_\n",
    "        self.feature_importances_ = self.model.feature_importances_\n",
    "\n",
    "    def predict_proba(self, X_test):\n",
    "        if self.model.objective == 'binary':\n",
    "            return self.model.predict_proba(X_test, num_iteration=self.model.best_iteration_)[:, 1]\n",
    "        else:\n",
    "            return self.model.predict_proba(X_test, num_iteration=self.model.best_iteration_)"
   ]
  },
  {
   "cell_type": "code",
   "execution_count": 10,
   "metadata": {
    "ExecuteTime": {
     "end_time": "2020-03-25T01:17:26.133953Z",
     "start_time": "2020-03-25T01:17:26.124840Z"
    },
    "_kg_hide-input": true
   },
   "outputs": [],
   "source": [
    "class MainTransformer(BaseEstimator, TransformerMixin):\n",
    "\n",
    "    def __init__(self, convert_cyclical: bool = False, create_interactions: bool = False, n_interactions: int = 20):\n",
    "        \"\"\"\n",
    "        Main transformer for the data. Can be used for processing on the whole data.\n",
    "\n",
    "        :param convert_cyclical: convert cyclical features into continuous\n",
    "        :param create_interactions: create interactions between features\n",
    "        \"\"\"\n",
    "\n",
    "        self.convert_cyclical = convert_cyclical\n",
    "        self.create_interactions = create_interactions\n",
    "        self.feats_for_interaction = None\n",
    "        self.n_interactions = n_interactions\n",
    "\n",
    "    def fit(self, X, y=None):\n",
    "\n",
    "\n",
    "\n",
    "        return self\n",
    "\n",
    "    def transform(self, X, y=None):\n",
    "        data = copy.deepcopy(X)\n",
    "\n",
    "\n",
    "        return data\n",
    "\n",
    "    def fit_transform(self, X, y=None, **fit_params):\n",
    "        data = copy.deepcopy(X)\n",
    "        self.fit(data)\n",
    "        return self.transform(data)\n",
    "\n",
    "\n",
    "class FeatureTransformer(BaseEstimator, TransformerMixin):\n",
    "\n",
    "    def __init__(self, main_cat_features: list = None, num_cols: list = None):\n",
    "        \"\"\"\n",
    "\n",
    "        :param main_cat_features:\n",
    "        :param num_cols:\n",
    "        \"\"\"\n",
    "        self.main_cat_features = main_cat_features\n",
    "        self.num_cols = num_cols\n",
    "\n",
    "    def fit(self, X, y=None):\n",
    "\n",
    "        \n",
    "\n",
    "        return self\n",
    "\n",
    "    def transform(self, X, y=None):\n",
    "        data = copy.deepcopy(X)\n",
    "\n",
    "        return data\n",
    "\n",
    "    def fit_transform(self, X, y=None, **fit_params):\n",
    "        data = copy.deepcopy(X)\n",
    "        self.fit(data)\n",
    "        return self.transform(data)"
   ]
  },
  {
   "cell_type": "code",
   "execution_count": 11,
   "metadata": {
    "ExecuteTime": {
     "end_time": "2020-03-25T01:17:26.182791Z",
     "start_time": "2020-03-25T01:17:26.136628Z"
    },
    "_kg_hide-input": true
   },
   "outputs": [],
   "source": [
    "class RegressorModel(object):\n",
    "    \"\"\"\n",
    "    A wrapper class for classification models.\n",
    "    It can be used for training and prediction.\n",
    "    Can plot feature importance and training progress (if relevant for model).\n",
    "\n",
    "    \"\"\"\n",
    "\n",
    "    def __init__(self, columns: list = None, model_wrapper=None):\n",
    "        \"\"\"\n",
    "\n",
    "        :param original_columns:\n",
    "        :param model_wrapper:\n",
    "        \"\"\"\n",
    "        self.columns = columns\n",
    "        self.model_wrapper = model_wrapper\n",
    "        self.result_dict = {}\n",
    "        self.train_one_fold = False\n",
    "        self.preprocesser = None\n",
    "\n",
    "    def fit(self, X: pd.DataFrame, y,\n",
    "            X_holdout: pd.DataFrame = None, y_holdout=None,\n",
    "            folds=None,\n",
    "            params: dict = None,\n",
    "            eval_metric='rmse',\n",
    "            cols_to_drop: list = None,\n",
    "            preprocesser=None,\n",
    "            transformers: dict = None,\n",
    "            adversarial: bool = False,\n",
    "            plot: bool = True):\n",
    "        \"\"\"\n",
    "        Training the model.\n",
    "\n",
    "        :param X: training data\n",
    "        :param y: training target\n",
    "        :param X_holdout: holdout data\n",
    "        :param y_holdout: holdout target\n",
    "        :param folds: folds to split the data. If not defined, then model will be trained on the whole X\n",
    "        :param params: training parameters\n",
    "        :param eval_metric: metric for validataion\n",
    "        :param cols_to_drop: list of columns to drop (for example ID)\n",
    "        :param preprocesser: preprocesser class\n",
    "        :param transformers: transformer to use on folds\n",
    "        :param adversarial\n",
    "        :return:\n",
    "        \"\"\"\n",
    "\n",
    "        if folds is None:\n",
    "            folds = KFold(n_splits=3, random_state=42)\n",
    "            self.train_one_fold = True\n",
    "\n",
    "        self.columns = X.columns if self.columns is None else self.columns\n",
    "        self.feature_importances = pd.DataFrame(columns=['feature', 'importance'])\n",
    "        self.trained_transformers = {k: [] for k in transformers}\n",
    "        self.transformers = transformers\n",
    "        self.models = []\n",
    "        self.folds_dict = {}\n",
    "        self.eval_metric = eval_metric\n",
    "        n_target = 1\n",
    "        self.oof = np.zeros((len(X), n_target))\n",
    "        self.n_target = n_target\n",
    "\n",
    "        X = X[self.columns]\n",
    "        if X_holdout is not None:\n",
    "            X_holdout = X_holdout[self.columns]\n",
    "\n",
    "        if preprocesser is not None:\n",
    "            self.preprocesser = preprocesser\n",
    "            self.preprocesser.fit(X, y)\n",
    "            X = self.preprocesser.transform(X, y)\n",
    "            self.columns = X.columns.tolist()\n",
    "            if X_holdout is not None:\n",
    "                X_holdout = self.preprocesser.transform(X_holdout)\n",
    "\n",
    "        for fold_n, (train_index, valid_index) in enumerate(folds.split(X, y, X['batch'])):\n",
    "\n",
    "            if X_holdout is not None:\n",
    "                X_hold = X_holdout.copy()\n",
    "            else:\n",
    "                X_hold = None\n",
    "            self.folds_dict[fold_n] = {}\n",
    "            if params['verbose']:\n",
    "                print(f'Fold {fold_n + 1} started at {time.ctime()}')\n",
    "            self.folds_dict[fold_n] = {}\n",
    "\n",
    "            X_train, X_valid = X.iloc[train_index], X.iloc[valid_index]\n",
    "            y_train, y_valid = y.iloc[train_index], y.iloc[valid_index]\n",
    "            if self.train_one_fold:\n",
    "                X_train = X[self.original_columns]\n",
    "                y_train = y\n",
    "                X_valid = None\n",
    "                y_valid = None\n",
    "\n",
    "            datasets = {'X_train': X_train, 'X_valid': X_valid, 'X_holdout': X_hold, 'y_train': y_train}\n",
    "            X_train, X_valid, X_hold = self.transform_(datasets, cols_to_drop)\n",
    "\n",
    "            self.folds_dict[fold_n]['columns'] = X_train.columns.tolist()\n",
    "\n",
    "            model = copy.deepcopy(self.model_wrapper)\n",
    "\n",
    "            if adversarial:\n",
    "                X_new1 = X_train.copy()\n",
    "                if X_valid is not None:\n",
    "                    X_new2 = X_valid.copy()\n",
    "                elif X_holdout is not None:\n",
    "                    X_new2 = X_holdout.copy()\n",
    "                X_new = pd.concat([X_new1, X_new2], axis=0)\n",
    "                y_new = np.hstack((np.zeros((X_new1.shape[0])), np.ones((X_new2.shape[0]))))\n",
    "                X_train, X_valid, y_train, y_valid = train_test_split(X_new, y_new)\n",
    "\n",
    "            model.fit(X_train, y_train, X_valid, y_valid, X_hold, y_holdout, params=params)\n",
    "\n",
    "            self.folds_dict[fold_n]['scores'] = model.best_score_\n",
    "            if self.oof.shape[0] != len(X):\n",
    "                self.oof = np.zeros((X.shape[0], self.oof.shape[1]))\n",
    "            if not adversarial:\n",
    "                self.oof[valid_index] = model.predict(X_valid).reshape(-1, n_target)\n",
    "\n",
    "            fold_importance = pd.DataFrame(list(zip(X_train.columns, model.feature_importances_)),\n",
    "                                           columns=['feature', 'importance'])\n",
    "            self.feature_importances = self.feature_importances.append(fold_importance)\n",
    "            self.models.append(model)\n",
    "\n",
    "        self.feature_importances['importance'] = self.feature_importances['importance'].astype(int)\n",
    "\n",
    "        # if params['verbose']:\n",
    "        self.calc_scores_()\n",
    "\n",
    "        if plot:\n",
    "            # print(classification_report(y, self.oof.argmax(1)))\n",
    "            fig, ax = plt.subplots(figsize=(16, 12))\n",
    "            plt.subplot(2, 2, 1)\n",
    "            self.plot_feature_importance(top_n=20)\n",
    "            plt.subplot(2, 2, 2)\n",
    "            self.plot_metric()\n",
    "            plt.subplot(2, 2, 3)\n",
    "            plt.hist(y.values.reshape(-1, 1) - self.oof)\n",
    "            plt.title('Distribution of errors')\n",
    "            plt.subplot(2, 2, 4)\n",
    "            plt.hist(self.oof)\n",
    "            plt.title('Distribution of oof predictions');\n",
    "\n",
    "    def transform_(self, datasets, cols_to_drop):\n",
    "        for name, transformer in self.transformers.items():\n",
    "            transformer.fit(datasets['X_train'], datasets['y_train'])\n",
    "            datasets['X_train'] = transformer.transform(datasets['X_train'])\n",
    "            if datasets['X_valid'] is not None:\n",
    "                datasets['X_valid'] = transformer.transform(datasets['X_valid'])\n",
    "            if datasets['X_holdout'] is not None:\n",
    "                datasets['X_holdout'] = transformer.transform(datasets['X_holdout'])\n",
    "            self.trained_transformers[name].append(transformer)\n",
    "        if cols_to_drop is not None:\n",
    "            cols_to_drop = [col for col in cols_to_drop if col in datasets['X_train'].columns]\n",
    "\n",
    "            datasets['X_train'] = datasets['X_train'].drop(cols_to_drop, axis=1)\n",
    "            if datasets['X_valid'] is not None:\n",
    "                datasets['X_valid'] = datasets['X_valid'].drop(cols_to_drop, axis=1)\n",
    "            if datasets['X_holdout'] is not None:\n",
    "                datasets['X_holdout'] = datasets['X_holdout'].drop(cols_to_drop, axis=1)\n",
    "        self.cols_to_drop = cols_to_drop\n",
    "\n",
    "        return datasets['X_train'], datasets['X_valid'], datasets['X_holdout']\n",
    "\n",
    "    def calc_scores_(self):\n",
    "        print()\n",
    "        datasets = [k for k, v in [v['scores'] for k, v in self.folds_dict.items()][0].items() if len(v) > 0]\n",
    "        self.scores = {}\n",
    "        for d in datasets:\n",
    "            scores = [v['scores'][d][self.eval_metric] for k, v in self.folds_dict.items()]\n",
    "            print(f\"CV mean score on {d}: {np.mean(scores):.4f} +/- {np.std(scores):.4f} std.\")\n",
    "            self.scores[d] = np.mean(scores)\n",
    "\n",
    "    def predict(self, X_test, averaging: str = 'usual'):\n",
    "        \"\"\"\n",
    "        Make prediction\n",
    "\n",
    "        :param X_test:\n",
    "        :param averaging: method of averaging\n",
    "        :return:\n",
    "        \"\"\"\n",
    "        full_prediction = np.zeros((X_test.shape[0], self.oof.shape[1]))\n",
    "        if self.preprocesser is not None:\n",
    "            X_test = self.preprocesser.transform(X_test)\n",
    "        for i in range(len(self.models)):\n",
    "            X_t = X_test.copy()\n",
    "            for name, transformers in self.trained_transformers.items():\n",
    "                X_t = transformers[i].transform(X_t)\n",
    "\n",
    "            if self.cols_to_drop is not None:\n",
    "                cols_to_drop = [col for col in self.cols_to_drop if col in X_t.columns]\n",
    "                X_t = X_t.drop(cols_to_drop, axis=1)\n",
    "            y_pred = self.models[i].predict(X_t[self.folds_dict[i]['columns']]).reshape(-1, full_prediction.shape[1])\n",
    "\n",
    "            # if case transformation changes the number of the rows\n",
    "            if full_prediction.shape[0] != len(y_pred):\n",
    "                full_prediction = np.zeros((y_pred.shape[0], self.oof.shape[1]))\n",
    "\n",
    "            if averaging == 'usual':\n",
    "                full_prediction += y_pred\n",
    "            elif averaging == 'rank':\n",
    "                full_prediction += pd.Series(y_pred).rank().values\n",
    "\n",
    "        return full_prediction / len(self.models)\n",
    "\n",
    "    def plot_feature_importance(self, drop_null_importance: bool = True, top_n: int = 10):\n",
    "        \"\"\"\n",
    "        Plot default feature importance.\n",
    "\n",
    "        :param drop_null_importance: drop columns with null feature importance\n",
    "        :param top_n: show top n columns\n",
    "        :return:\n",
    "        \"\"\"\n",
    "\n",
    "        top_feats = self.get_top_features(drop_null_importance, top_n)\n",
    "        feature_importances = self.feature_importances.loc[self.feature_importances['feature'].isin(top_feats)]\n",
    "        feature_importances['feature'] = feature_importances['feature'].astype(str)\n",
    "        top_feats = [str(i) for i in top_feats]\n",
    "        sns.barplot(data=feature_importances, x='importance', y='feature', orient='h', order=top_feats)\n",
    "        plt.title('Feature importances')\n",
    "\n",
    "    def get_top_features(self, drop_null_importance: bool = True, top_n: int = 10):\n",
    "        \"\"\"\n",
    "        Get top features by importance.\n",
    "\n",
    "        :param drop_null_importance:\n",
    "        :param top_n:\n",
    "        :return:\n",
    "        \"\"\"\n",
    "        grouped_feats = self.feature_importances.groupby(['feature'])['importance'].mean()\n",
    "        if drop_null_importance:\n",
    "            grouped_feats = grouped_feats[grouped_feats != 0]\n",
    "        return list(grouped_feats.sort_values(ascending=False).index)[:top_n]\n",
    "\n",
    "    def plot_metric(self):\n",
    "        \"\"\"\n",
    "        Plot training progress.\n",
    "        Inspired by `plot_metric` from https://lightgbm.readthedocs.io/en/latest/_modules/lightgbm/plotting.html\n",
    "\n",
    "        :return:\n",
    "        \"\"\"\n",
    "        full_evals_results = pd.DataFrame()\n",
    "        for model in self.models:\n",
    "            evals_result = pd.DataFrame()\n",
    "            for k in model.model.evals_result_.keys():\n",
    "                evals_result[k] = model.model.evals_result_[k][self.eval_metric]\n",
    "            evals_result = evals_result.reset_index().rename(columns={'index': 'iteration'})\n",
    "            full_evals_results = full_evals_results.append(evals_result)\n",
    "\n",
    "        full_evals_results = full_evals_results.melt(id_vars=['iteration']).rename(columns={'value': self.eval_metric,\n",
    "                                                                                            'variable': 'dataset'})\n",
    "        sns.lineplot(data=full_evals_results, x='iteration', y=self.eval_metric, hue='dataset')\n",
    "        plt.title('Training progress')"
   ]
  },
  {
   "cell_type": "code",
   "execution_count": 12,
   "metadata": {
    "ExecuteTime": {
     "end_time": "2020-03-25T01:17:26.228813Z",
     "start_time": "2020-03-25T01:17:26.184901Z"
    },
    "_kg_hide-input": true
   },
   "outputs": [],
   "source": [
    "class ClassifierModel(object):\n",
    "    \"\"\"\n",
    "    A wrapper class for classification models.\n",
    "    It can be used for training and prediction.\n",
    "    Can plot feature importance and training progress (if relevant for model).\n",
    "\n",
    "    \"\"\"\n",
    "\n",
    "    def __init__(self, columns: list = None, model_wrapper=None):\n",
    "        \"\"\"\n",
    "\n",
    "        :param original_columns:\n",
    "        :param model_wrapper:\n",
    "        \"\"\"\n",
    "        self.columns = columns\n",
    "        self.model_wrapper = model_wrapper\n",
    "        self.result_dict = {}\n",
    "        self.train_one_fold = False\n",
    "        self.preprocesser = None\n",
    "\n",
    "    def fit(self, X: pd.DataFrame, y,\n",
    "            X_holdout: pd.DataFrame = None, y_holdout=None,\n",
    "            folds=None,\n",
    "            params: dict = None,\n",
    "            eval_metric='auc',\n",
    "            cols_to_drop: list = None,\n",
    "            preprocesser=None,\n",
    "            transformers: dict = None,\n",
    "            adversarial: bool = False,\n",
    "            plot: bool = True):\n",
    "        \"\"\"\n",
    "        Training the model.\n",
    "\n",
    "        :param X: training data\n",
    "        :param y: training target\n",
    "        :param X_holdout: holdout data\n",
    "        :param y_holdout: holdout target\n",
    "        :param folds: folds to split the data. If not defined, then model will be trained on the whole X\n",
    "        :param params: training parameters\n",
    "        :param eval_metric: metric for validataion\n",
    "        :param cols_to_drop: list of columns to drop (for example ID)\n",
    "        :param preprocesser: preprocesser class\n",
    "        :param transformers: transformer to use on folds\n",
    "        :param adversarial\n",
    "        :return:\n",
    "        \"\"\"\n",
    "\n",
    "        if folds is None:\n",
    "            folds = KFold(n_splits=3, random_state=42)\n",
    "            self.train_one_fold = True\n",
    "\n",
    "        self.columns = X.columns if self.columns is None else self.columns\n",
    "        self.feature_importances = pd.DataFrame(columns=['feature', 'importance'])\n",
    "        self.trained_transformers = {k: [] for k in transformers}\n",
    "        self.transformers = transformers\n",
    "        self.models = []\n",
    "        self.folds_dict = {}\n",
    "        self.eval_metric = eval_metric\n",
    "        n_target = 11# 1 if len(set(y.values)) == 2 else len(set(y.values))\n",
    "        self.oof = np.zeros((len(X), 11))\n",
    "        self.n_target = n_target\n",
    "\n",
    "        X = X[self.columns]\n",
    "        if X_holdout is not None:\n",
    "            X_holdout = X_holdout[self.columns]\n",
    "\n",
    "        if preprocesser is not None:\n",
    "            self.preprocesser = preprocesser\n",
    "            self.preprocesser.fit(X, y)\n",
    "            X = self.preprocesser.transform(X, y)\n",
    "            self.columns = X.columns.tolist()\n",
    "            if X_holdout is not None:\n",
    "                X_holdout = self.preprocesser.transform(X_holdout)\n",
    "            # y = X['accuracy_group']\n",
    "\n",
    "        for fold_n, (train_index, valid_index) in enumerate(folds.split(X, y)):\n",
    "            if X_holdout is not None:\n",
    "                X_hold = X_holdout.copy()\n",
    "            else:\n",
    "                X_hold = None\n",
    "            self.folds_dict[fold_n] = {}\n",
    "            if params['verbose']:\n",
    "                print(f'Fold {fold_n + 1} started at {time.ctime()}')\n",
    "            self.folds_dict[fold_n] = {}\n",
    "\n",
    "            X_train, X_valid = X.iloc[train_index], X.iloc[valid_index]\n",
    "            y_train, y_valid = y.iloc[train_index], y.iloc[valid_index]\n",
    "            if self.train_one_fold:\n",
    "                X_train = X[self.original_columns]\n",
    "                y_train = y\n",
    "                X_valid = None\n",
    "                y_valid = None\n",
    "\n",
    "            datasets = {'X_train': X_train, 'X_valid': X_valid, 'X_holdout': X_hold, 'y_train': y_train}\n",
    "            X_train, X_valid, X_hold = self.transform_(datasets, cols_to_drop)\n",
    "\n",
    "            self.folds_dict[fold_n]['columns'] = X_train.columns.tolist()\n",
    "\n",
    "            model = copy.deepcopy(self.model_wrapper)\n",
    "\n",
    "            if adversarial:\n",
    "                X_new1 = X_train.copy()\n",
    "                if X_valid is not None:\n",
    "                    X_new2 = X_valid.copy()\n",
    "                elif X_holdout is not None:\n",
    "                    X_new2 = X_holdout.copy()\n",
    "                X_new = pd.concat([X_new1, X_new2], axis=0)\n",
    "                y_new = np.hstack((np.zeros((X_new1.shape[0])), np.ones((X_new2.shape[0]))))\n",
    "                X_train, X_valid, y_train, y_valid = train_test_split(X_new, y_new)\n",
    "\n",
    "            model.fit(X_train, y_train, X_valid, y_valid, X_hold, y_holdout, params=params)\n",
    "\n",
    "            self.folds_dict[fold_n]['scores'] = model.best_score_\n",
    "            if self.oof.shape[0] != len(X):\n",
    "                self.oof = np.zeros((X.shape[0], self.oof.shape[1]))\n",
    "            if not adversarial:\n",
    "                self.oof[valid_index] = model.predict_proba(X_valid).reshape(-1, n_target)\n",
    "\n",
    "            fold_importance = pd.DataFrame(list(zip(X_train.columns, model.feature_importances_)),\n",
    "                                           columns=['feature', 'importance'])\n",
    "            self.feature_importances = self.feature_importances.append(fold_importance)\n",
    "            self.models.append(model)\n",
    "\n",
    "        self.feature_importances['importance'] = self.feature_importances['importance'].astype(float)\n",
    "\n",
    "        # if params['verbose']:\n",
    "        self.calc_scores_()\n",
    "\n",
    "        if plot:\n",
    "            print(classification_report(y, self.oof.argmax(1)))\n",
    "            fig, ax = plt.subplots(figsize=(16, 12))\n",
    "            plt.subplot(2, 2, 1)\n",
    "            self.plot_feature_importance(top_n=25)\n",
    "            plt.subplot(2, 2, 2)\n",
    "            self.plot_metric()\n",
    "            plt.subplot(2, 2, 3)\n",
    "            g = sns.heatmap(confusion_matrix(y, self.oof.argmax(1)), annot=True, cmap=plt.cm.Blues,fmt=\"d\")\n",
    "            g.set(ylim=(-0.5, 4), xlim=(-0.5, 4), title='Confusion matrix')\n",
    "\n",
    "            plt.subplot(2, 2, 4)\n",
    "            plt.hist(self.oof.argmax(1))\n",
    "            plt.xticks(range(self.n_target), range(self.n_target))\n",
    "            plt.title('Distribution of oof predictions');\n",
    "\n",
    "    def transform_(self, datasets, cols_to_drop):\n",
    "        for name, transformer in self.transformers.items():\n",
    "            transformer.fit(datasets['X_train'], datasets['y_train'])\n",
    "            datasets['X_train'] = transformer.transform(datasets['X_train'])\n",
    "            if datasets['X_valid'] is not None:\n",
    "                datasets['X_valid'] = transformer.transform(datasets['X_valid'])\n",
    "            if datasets['X_holdout'] is not None:\n",
    "                datasets['X_holdout'] = transformer.transform(datasets['X_holdout'])\n",
    "            self.trained_transformers[name].append(transformer)\n",
    "        if cols_to_drop is not None:\n",
    "            cols_to_drop = [col for col in cols_to_drop if col in datasets['X_train'].columns]\n",
    "            self.cols_to_drop = cols_to_drop\n",
    "            datasets['X_train'] = datasets['X_train'].drop(cols_to_drop, axis=1)\n",
    "            if datasets['X_valid'] is not None:\n",
    "                datasets['X_valid'] = datasets['X_valid'].drop(cols_to_drop, axis=1)\n",
    "            if datasets['X_holdout'] is not None:\n",
    "                datasets['X_holdout'] = datasets['X_holdout'].drop(cols_to_drop, axis=1)\n",
    "\n",
    "        return datasets['X_train'], datasets['X_valid'], datasets['X_holdout']\n",
    "\n",
    "    def calc_scores_(self):\n",
    "        print()\n",
    "        datasets = [k for k, v in [v['scores'] for k, v in self.folds_dict.items()][0].items() if len(v) > 0]\n",
    "        self.scores = {}\n",
    "        for d in datasets:\n",
    "            scores = [v['scores'][d][self.eval_metric] for k, v in self.folds_dict.items()]\n",
    "            print(f\"CV mean score on {d}: {np.mean(scores):.4f} +/- {np.std(scores):.4f} std.\")\n",
    "            self.scores[d] = np.mean(scores)\n",
    "\n",
    "    def predict(self, X_test, averaging: str = 'usual'):\n",
    "        \"\"\"\n",
    "        Make prediction\n",
    "\n",
    "        :param X_test:\n",
    "        :param averaging: method of averaging\n",
    "        :return:\n",
    "        \"\"\"\n",
    "        full_prediction = np.zeros((X_test.shape[0], self.oof.shape[1]))\n",
    "        if self.preprocesser is not None:\n",
    "            X_test = self.preprocesser.transform(X_test)\n",
    "        for i in range(len(self.models)):\n",
    "            X_t = X_test.copy()\n",
    "            for name, transformers in self.trained_transformers.items():\n",
    "                X_t = transformers[i].transform(X_t)\n",
    "\n",
    "            cols_to_drop = [col for col in self.cols_to_drop if col in X_t.columns]\n",
    "            X_t = X_t.drop(cols_to_drop, axis=1)\n",
    "            y_pred = self.models[i].predict_proba(X_t[self.folds_dict[i]['columns']]).reshape(-1, full_prediction.shape[1])\n",
    "\n",
    "            # if case transformation changes the number of the rows\n",
    "            if full_prediction.shape[0] != len(y_pred):\n",
    "                full_prediction = np.zeros((y_pred.shape[0], self.oof.shape[1]))\n",
    "\n",
    "            if averaging == 'usual':\n",
    "                full_prediction += y_pred\n",
    "            elif averaging == 'rank':\n",
    "                full_prediction += pd.Series(y_pred).rank().values\n",
    "\n",
    "        return full_prediction / len(self.models)\n",
    "\n",
    "    def plot_feature_importance(self, drop_null_importance: bool = True, top_n: int = 10):\n",
    "        \"\"\"\n",
    "        Plot default feature importance.\n",
    "\n",
    "        :param drop_null_importance: drop columns with null feature importance\n",
    "        :param top_n: show top n columns\n",
    "        :return:\n",
    "        \"\"\"\n",
    "\n",
    "        top_feats = self.get_top_features(drop_null_importance, top_n)\n",
    "        feature_importances = self.feature_importances.loc[self.feature_importances['feature'].isin(top_feats)]\n",
    "        feature_importances['feature'] = feature_importances['feature'].astype(str)\n",
    "        top_feats = [str(i) for i in top_feats]\n",
    "        sns.barplot(data=feature_importances, x='importance', y='feature', orient='h', order=top_feats)\n",
    "        plt.title('Feature importances')\n",
    "\n",
    "    def get_top_features(self, drop_null_importance: bool = True, top_n: int = 10):\n",
    "        \"\"\"\n",
    "        Get top features by importance.\n",
    "\n",
    "        :param drop_null_importance:\n",
    "        :param top_n:\n",
    "        :return:\n",
    "        \"\"\"\n",
    "        grouped_feats = self.feature_importances.groupby(['feature'])['importance'].mean()\n",
    "        if drop_null_importance:\n",
    "            grouped_feats = grouped_feats[grouped_feats != 0]\n",
    "        return list(grouped_feats.sort_values(ascending=False).index)[:top_n]\n",
    "\n",
    "    def plot_metric(self):\n",
    "        \"\"\"\n",
    "        Plot training progress.\n",
    "        Inspired by `plot_metric` from https://lightgbm.readthedocs.io/en/latest/_modules/lightgbm/plotting.html\n",
    "\n",
    "        :return:\n",
    "        \"\"\"\n",
    "        full_evals_results = pd.DataFrame()\n",
    "        for model in self.models:\n",
    "            evals_result = pd.DataFrame()\n",
    "            for k in model.model.evals_result_.keys():\n",
    "                evals_result[k] = model.model.evals_result_[k][self.eval_metric]\n",
    "            evals_result = evals_result.reset_index().rename(columns={'index': 'iteration'})\n",
    "            full_evals_results = full_evals_results.append(evals_result)\n",
    "\n",
    "        full_evals_results = full_evals_results.melt(id_vars=['iteration']).rename(columns={'value': self.eval_metric,\n",
    "                                                                                            'variable': 'dataset'})\n",
    "        full_evals_results[self.eval_metric] = np.abs(full_evals_results[self.eval_metric])\n",
    "        sns.lineplot(data=full_evals_results, x='iteration', y=self.eval_metric, hue='dataset')\n",
    "        plt.title('Training progress')"
   ]
  },
  {
   "cell_type": "code",
   "execution_count": 13,
   "metadata": {
    "ExecuteTime": {
     "end_time": "2020-03-25T01:17:26.241109Z",
     "start_time": "2020-03-25T01:17:26.230688Z"
    },
    "_kg_hide-input": true
   },
   "outputs": [],
   "source": [
    "from functools import partial\n",
    "import scipy as sp\n",
    "class OptimizedRounder(object):\n",
    "    \"\"\"\n",
    "    An optimizer for rounding thresholds\n",
    "    to maximize Quadratic Weighted Kappa (QWK) score\n",
    "    # https://www.kaggle.com/naveenasaithambi/optimizedrounder-improved\n",
    "    \"\"\"\n",
    "    def __init__(self):\n",
    "        self.coef_ = 0\n",
    "\n",
    "    def _kappa_loss(self, coef, X, y):\n",
    "        \"\"\"\n",
    "        Get loss according to\n",
    "        using current coefficients\n",
    "        \n",
    "        :param coef: A list of coefficients that will be used for rounding\n",
    "        :param X: The raw predictions\n",
    "        :param y: The ground truth labels\n",
    "        \"\"\"\n",
    "        X_p = pd.cut(X, [-np.inf] + list(np.sort(coef)) + [np.inf], labels = [0, 1, 2, 3, 4, 5, 6, 7, 8, 9, 10])\n",
    "\n",
    "        return -qwk(y, X_p)\n",
    "\n",
    "    def fit(self, X, y):\n",
    "        \"\"\"\n",
    "        Optimize rounding thresholds\n",
    "        \n",
    "        :param X: The raw predictions\n",
    "        :param y: The ground truth labels\n",
    "        \"\"\"\n",
    "        loss_partial = partial(self._kappa_loss, X=X, y=y)\n",
    "        initial_coef = [0.5, 1.5, 2.5, 3.5, 4.5, 5.5, 6.5, 7.5, 8.5, 9.5]\n",
    "        self.coef_ = sp.optimize.minimize(loss_partial, initial_coef, method='nelder-mead')\n",
    "\n",
    "    def predict(self, X, coef):\n",
    "        \"\"\"\n",
    "        Make predictions with specified thresholds\n",
    "        \n",
    "        :param X: The raw predictions\n",
    "        :param coef: A list of coefficients that will be used for rounding\n",
    "        \"\"\"\n",
    "        return pd.cut(X, [-np.inf] + list(np.sort(coef)) + [np.inf], labels = [0, 1, 2, 3, 4, 5, 6, 7, 8, 9, 10])\n",
    "\n",
    "\n",
    "    def coefficients(self):\n",
    "        \"\"\"\n",
    "        Return the optimized coefficients\n",
    "        \"\"\"\n",
    "        return self.coef_['x']"
   ]
  },
  {
   "cell_type": "code",
   "execution_count": 14,
   "metadata": {
    "ExecuteTime": {
     "end_time": "2020-03-25T01:17:26.256186Z",
     "start_time": "2020-03-25T01:17:26.244205Z"
    },
    "_kg_hide-input": true
   },
   "outputs": [],
   "source": [
    "class OptimizedRounderF1(object):\n",
    "    \"\"\"\n",
    "    An optimizer for rounding thresholds\n",
    "    to maximize f1 score\n",
    "    \"\"\"\n",
    "    def __init__(self):\n",
    "        self.coef_ = 0\n",
    "\n",
    "    def _f1_loss(self, coef, X, y):\n",
    "        \"\"\"\n",
    "        Get loss according to\n",
    "        using current coefficients\n",
    "        \n",
    "        :param coef: A list of coefficients that will be used for rounding\n",
    "        :param X: The raw predictions\n",
    "        :param y: The ground truth labels\n",
    "        \"\"\"\n",
    "        X_p = pd.cut(X, [-np.inf] + list(np.sort(coef)) + [np.inf], labels = [0, 1, 2, 3, 4, 5, 6, 7, 8, 9, 10])\n",
    "\n",
    "        return -metrics.f1_score(y, X_p, average='macro')\n",
    "\n",
    "    def fit(self, X, y):\n",
    "        \"\"\"\n",
    "        Optimize rounding thresholds\n",
    "        \n",
    "        :param X: The raw predictions\n",
    "        :param y: The ground truth labels\n",
    "        \"\"\"\n",
    "        loss_partial = partial(self._f1_loss, X=X, y=y)\n",
    "        initial_coef = [0.5, 1.5, 2.5, 3.5, 4.5, 5.5, 6.5, 7.5, 8.5, 9.5]\n",
    "        self.coef_ = sp.optimize.minimize(loss_partial, initial_coef, method='nelder-mead')\n",
    "\n",
    "    def predict(self, X, coef):\n",
    "        \"\"\"\n",
    "        Make predictions with specified thresholds\n",
    "        \n",
    "        :param X: The raw predictions\n",
    "        :param coef: A list of coefficients that will be used for rounding\n",
    "        \"\"\"\n",
    "        return pd.cut(X, [-np.inf] + list(np.sort(coef)) + [np.inf], labels = [0, 1, 2, 3, 4, 5, 6, 7, 8, 9, 10])\n",
    "\n",
    "\n",
    "    def coefficients(self):\n",
    "        \"\"\"\n",
    "        Return the optimized coefficients\n",
    "        \"\"\"\n",
    "        return self.coef_['x']"
   ]
  },
  {
   "cell_type": "markdown",
   "metadata": {},
   "source": [
    "## Data loading and overview"
   ]
  },
  {
   "cell_type": "code",
   "execution_count": 15,
   "metadata": {
    "ExecuteTime": {
     "end_time": "2020-03-25T01:17:27.710793Z",
     "start_time": "2020-03-25T01:17:26.259212Z"
    }
   },
   "outputs": [],
   "source": [
    "\n",
    "file_path = PATH + 'liverpool-ion-switching'\n",
    "train = pd.read_csv(f'{file_path}/train.csv')\n",
    "submission = pd.read_csv(f'{file_path}/sample_submission.csv')\n",
    "test = pd.read_csv(f'{file_path}/test.csv')"
   ]
  },
  {
   "cell_type": "code",
   "execution_count": 16,
   "metadata": {
    "ExecuteTime": {
     "end_time": "2020-03-25T01:17:27.720614Z",
     "start_time": "2020-03-25T01:17:27.715010Z"
    }
   },
   "outputs": [
    {
     "data": {
      "text/plain": [
       "((5000000, 3), (2000000, 2))"
      ]
     },
     "execution_count": 16,
     "metadata": {},
     "output_type": "execute_result"
    }
   ],
   "source": [
    "train.shape, test.shape"
   ]
  },
  {
   "cell_type": "code",
   "execution_count": 17,
   "metadata": {
    "ExecuteTime": {
     "end_time": "2020-03-25T01:17:27.740433Z",
     "start_time": "2020-03-25T01:17:27.723592Z"
    }
   },
   "outputs": [
    {
     "data": {
      "text/html": [
       "<div>\n",
       "<style scoped>\n",
       "    .dataframe tbody tr th:only-of-type {\n",
       "        vertical-align: middle;\n",
       "    }\n",
       "\n",
       "    .dataframe tbody tr th {\n",
       "        vertical-align: top;\n",
       "    }\n",
       "\n",
       "    .dataframe thead th {\n",
       "        text-align: right;\n",
       "    }\n",
       "</style>\n",
       "<table border=\"1\" class=\"dataframe\">\n",
       "  <thead>\n",
       "    <tr style=\"text-align: right;\">\n",
       "      <th></th>\n",
       "      <th>time</th>\n",
       "      <th>signal</th>\n",
       "      <th>open_channels</th>\n",
       "    </tr>\n",
       "  </thead>\n",
       "  <tbody>\n",
       "    <tr>\n",
       "      <th>0</th>\n",
       "      <td>0.0001</td>\n",
       "      <td>-2.7600</td>\n",
       "      <td>0</td>\n",
       "    </tr>\n",
       "    <tr>\n",
       "      <th>1</th>\n",
       "      <td>0.0002</td>\n",
       "      <td>-2.8557</td>\n",
       "      <td>0</td>\n",
       "    </tr>\n",
       "    <tr>\n",
       "      <th>2</th>\n",
       "      <td>0.0003</td>\n",
       "      <td>-2.4074</td>\n",
       "      <td>0</td>\n",
       "    </tr>\n",
       "    <tr>\n",
       "      <th>3</th>\n",
       "      <td>0.0004</td>\n",
       "      <td>-3.1404</td>\n",
       "      <td>0</td>\n",
       "    </tr>\n",
       "    <tr>\n",
       "      <th>4</th>\n",
       "      <td>0.0005</td>\n",
       "      <td>-3.1525</td>\n",
       "      <td>0</td>\n",
       "    </tr>\n",
       "  </tbody>\n",
       "</table>\n",
       "</div>"
      ],
      "text/plain": [
       "     time  signal  open_channels\n",
       "0  0.0001 -2.7600              0\n",
       "1  0.0002 -2.8557              0\n",
       "2  0.0003 -2.4074              0\n",
       "3  0.0004 -3.1404              0\n",
       "4  0.0005 -3.1525              0"
      ]
     },
     "execution_count": 17,
     "metadata": {},
     "output_type": "execute_result"
    }
   ],
   "source": [
    "train.head()"
   ]
  },
  {
   "cell_type": "code",
   "execution_count": 18,
   "metadata": {
    "ExecuteTime": {
     "end_time": "2020-03-25T01:17:27.752478Z",
     "start_time": "2020-03-25T01:17:27.742961Z"
    }
   },
   "outputs": [
    {
     "data": {
      "text/html": [
       "<div>\n",
       "<style scoped>\n",
       "    .dataframe tbody tr th:only-of-type {\n",
       "        vertical-align: middle;\n",
       "    }\n",
       "\n",
       "    .dataframe tbody tr th {\n",
       "        vertical-align: top;\n",
       "    }\n",
       "\n",
       "    .dataframe thead th {\n",
       "        text-align: right;\n",
       "    }\n",
       "</style>\n",
       "<table border=\"1\" class=\"dataframe\">\n",
       "  <thead>\n",
       "    <tr style=\"text-align: right;\">\n",
       "      <th></th>\n",
       "      <th>time</th>\n",
       "      <th>signal</th>\n",
       "    </tr>\n",
       "  </thead>\n",
       "  <tbody>\n",
       "    <tr>\n",
       "      <th>0</th>\n",
       "      <td>500.000099999999975</td>\n",
       "      <td>-2.6498</td>\n",
       "    </tr>\n",
       "    <tr>\n",
       "      <th>1</th>\n",
       "      <td>500.000200000000007</td>\n",
       "      <td>-2.8494</td>\n",
       "    </tr>\n",
       "    <tr>\n",
       "      <th>2</th>\n",
       "      <td>500.000299999999982</td>\n",
       "      <td>-2.8600</td>\n",
       "    </tr>\n",
       "    <tr>\n",
       "      <th>3</th>\n",
       "      <td>500.000400000000013</td>\n",
       "      <td>-2.4350</td>\n",
       "    </tr>\n",
       "    <tr>\n",
       "      <th>4</th>\n",
       "      <td>500.000499999999988</td>\n",
       "      <td>-2.6155</td>\n",
       "    </tr>\n",
       "  </tbody>\n",
       "</table>\n",
       "</div>"
      ],
      "text/plain": [
       "                  time  signal\n",
       "0  500.000099999999975 -2.6498\n",
       "1  500.000200000000007 -2.8494\n",
       "2  500.000299999999982 -2.8600\n",
       "3  500.000400000000013 -2.4350\n",
       "4  500.000499999999988 -2.6155"
      ]
     },
     "execution_count": 18,
     "metadata": {},
     "output_type": "execute_result"
    }
   ],
   "source": [
    "test.head()"
   ]
  },
  {
   "cell_type": "markdown",
   "metadata": {},
   "source": [
    "As we can see, we have two columns with data available: timestamp and signal value. Our task is to predict open_channels.\n",
    "\n",
    "Notice, that while time in train data starts from `0.0001`, time in test data starts from `500.0001`. Let's start by fixing it."
   ]
  },
  {
   "cell_type": "code",
   "execution_count": 19,
   "metadata": {
    "ExecuteTime": {
     "end_time": "2020-03-25T01:17:27.795243Z",
     "start_time": "2020-03-25T01:17:27.754715Z"
    }
   },
   "outputs": [],
   "source": [
    "test['time'] = (test['time'] - 500).round(4)"
   ]
  },
  {
   "cell_type": "code",
   "execution_count": 20,
   "metadata": {
    "ExecuteTime": {
     "end_time": "2020-03-25T01:17:28.092270Z",
     "start_time": "2020-03-25T01:17:27.797493Z"
    }
   },
   "outputs": [
    {
     "data": {
      "image/png": "[encoded data removed]",
      "text/plain": [
       "<Figure size 432x288 with 1 Axes>"
      ]
     },
     "metadata": {
      "needs_background": "light"
     },
     "output_type": "display_data"
    }
   ],
   "source": [
    "train['open_channels'].value_counts().plot(kind='barh');\n",
    "plt.title('Target values count');"
   ]
  },
  {
   "cell_type": "markdown",
   "metadata": {},
   "source": [
    "As per data description:\n",
    "\n",
    "```\n",
    "IMPORTANT: While the time series appears continuous, the data is from discrete batches of 50 seconds long 10 kHz samples (500,000 rows per batch).\n",
    "In other words, the data from 0.0001 - 50.0000 is a different batch than 50.0001 - 100.0000, and thus discontinuous between 50.0000 and 50.0001.\n",
    "```\n",
    "I think it would be reasonable to create a new column showing the batch number and use groupkfold cross-validation based on the batch"
   ]
  },
  {
   "cell_type": "code",
   "execution_count": 21,
   "metadata": {
    "ExecuteTime": {
     "end_time": "2020-03-25T01:17:29.494950Z",
     "start_time": "2020-03-25T01:17:28.094473Z"
    }
   },
   "outputs": [],
   "source": [
    "train['batch'] = 0\n",
    "for i in range(0, 10):\n",
    "    train.iloc[i * 500000: 500000 * (i + 1), 3] = i"
   ]
  },
  {
   "cell_type": "code",
   "execution_count": 22,
   "metadata": {
    "ExecuteTime": {
     "end_time": "2020-03-25T01:17:29.659222Z",
     "start_time": "2020-03-25T01:17:29.496984Z"
    },
    "_kg_hide-input": true,
    "_kg_hide-output": true
   },
   "outputs": [
    {
     "data": {
      "image/png": "[encoded data removed]",
      "text/plain": [
       "<Figure size 1152x576 with 1 Axes>"
      ]
     },
     "metadata": {
      "needs_background": "light"
     },
     "output_type": "display_data"
    }
   ],
   "source": [
    "fig, ax1 = plt.subplots(figsize=(16, 8));"
   ]
  },
  {
   "cell_type": "code",
   "execution_count": 23,
   "metadata": {
    "ExecuteTime": {
     "end_time": "2020-03-25T01:17:36.564315Z",
     "start_time": "2020-03-25T01:17:29.661407Z"
    }
   },
   "outputs": [
    {
     "data": {
      "image/png": "[encoded data removed]",
      "text/plain": [
       "<Figure size 1872x864 with 10 Axes>"
      ]
     },
     "metadata": {
      "needs_background": "light"
     },
     "output_type": "display_data"
    }
   ],
   "source": [
    "plt.figure(figsize=(26, 12))\n",
    "for i, b in enumerate(train['batch'].unique()):\n",
    "    plt.subplot(2, 5, i + 1)\n",
    "    plt.plot(train.loc[train['batch'] == b, ['signal']], color='blue')\n",
    "    plt.title(f'Batch: {b}')\n",
    "    ax1.set_ylabel(b, color='b')\n",
    "    # plt.legend([col])\n",
    "    ax2 = ax1.twinx()\n",
    "    plt.plot(train.loc[train['batch'] == b, ['open_channels']], color='g')\n",
    "    ax2.set_ylabel('Open channels', color='g')\n",
    "    plt.legend([b, 'open_channels'], loc=(0.875, 0.9))\n",
    "    plt.grid(False)"
   ]
  },
  {
   "cell_type": "markdown",
   "metadata": {},
   "source": [
    "As we can see different batches have very different distributions of target variable.\n",
    "\n",
    "Hm. I think I'll need to make better plots in the next version "
   ]
  },
  {
   "cell_type": "code",
   "execution_count": 24,
   "metadata": {
    "ExecuteTime": {
     "end_time": "2020-03-25T01:17:36.818428Z",
     "start_time": "2020-03-25T01:17:36.566807Z"
    }
   },
   "outputs": [
    {
     "data": {
      "image/png": "[encoded data removed]",
      "text/plain": [
       "<Figure size 432x288 with 1 Axes>"
      ]
     },
     "metadata": {
      "needs_background": "light"
     },
     "output_type": "display_data"
    }
   ],
   "source": [
    "train['open_channels'].value_counts().plot(kind='bar')\n",
    "plt.title('Open channels distribution');"
   ]
  },
  {
   "cell_type": "markdown",
   "metadata": {},
   "source": [
    "## Feature Engineering\n"
   ]
  },
  {
   "cell_type": "markdown",
   "metadata": {},
   "source": [
    "The idea of feature generation is taken from these kernels: https://www.kaggle.com/gpreda/ion-switching-advanced-eda-and-prediction\n",
    "I also add some more features"
   ]
  },
  {
   "cell_type": "code",
   "execution_count": 25,
   "metadata": {
    "ExecuteTime": {
     "end_time": "2020-03-25T01:23:35.509692Z",
     "start_time": "2020-03-25T01:17:36.820356Z"
    }
   },
   "outputs": [
    {
     "data": {
      "application/vnd.jupyter.widget-view+json": {
       "model_id": "f972d0748c8d43bd815605f563a5e62f",
       "version_major": 2,
       "version_minor": 0
      },
      "text/plain": [
       "HBox(children=(IntProgress(value=0, max=3), HTML(value='')))"
      ]
     },
     "metadata": {},
     "output_type": "display_data"
    },
    {
     "name": "stdout",
     "output_type": "stream",
     "text": [
      "\n"
     ]
    }
   ],
   "source": [
    "for batch_size in tqdm_notebook([10000, 25000, 50000]):\n",
    "    train['batch'] = ((train['time'] * 10_000) - 1) // batch_size\n",
    "    train['batch_index'] = ((train['time'] * 10_000) - 1)  - (train['batch'] * batch_size)\n",
    "    train['batch_slices'] = train['batch_index']  // (batch_size / 10)\n",
    "    train['batch_slices2'] = train['batch'].astype(str).str.zfill(3) + '_' + train['batch_slices'].astype(str).str.zfill(3)\n",
    "    \n",
    "    for agg_feature in ['batch', 'batch_slices2']:\n",
    "        train[f\"min_{agg_feature}_{batch_size}\"] = train.groupby(agg_feature)['signal'].transform('min')\n",
    "        train[f\"max_{agg_feature}_{batch_size}\"] = train.groupby(agg_feature)['signal'].transform('max')\n",
    "        train[f\"std_{agg_feature}_{batch_size}\"] = train.groupby(agg_feature)['signal'].transform('std')\n",
    "        train[f\"mean_{agg_feature}_{batch_size}\"] = train.groupby(agg_feature)['signal'].transform('mean')\n",
    "        \n",
    "        train[f\"min_{agg_feature}_{batch_size}_diff\"] = train[f\"min_{agg_feature}_{batch_size}\"] - train['signal']\n",
    "        train[f\"max_{agg_feature}_{batch_size}_diff\"] = train[f\"max_{agg_feature}_{batch_size}\"] - train['signal']\n",
    "        train[f\"std_{agg_feature}_{batch_size}_diff\"] = train[f\"std_{agg_feature}_{batch_size}\"] - train['signal']\n",
    "        train[f\"mean_{agg_feature}_{batch_size}_diff\"] = train[f\"mean_{agg_feature}_{batch_size}\"] - train['signal']\n",
    "        \n",
    "        train[f'signal_shift+1_{agg_feature}_{batch_size}'] = train.groupby([agg_feature]).shift(1)['signal']\n",
    "        train[f'signal_shift-1_{agg_feature}_{batch_size}'] = train.groupby([agg_feature]).shift(-1)['signal']\n",
    "        train[f'signal_shift+2_{agg_feature}_{batch_size}'] = train.groupby([agg_feature]).shift(2)['signal']\n",
    "        train[f'signal_shift-2_{agg_feature}_{batch_size}'] = train.groupby([agg_feature]).shift(-2)['signal']\n",
    "\n",
    "    window_sizes = [1000, 5000, 10000, 25000]\n",
    "    for window in window_sizes:\n",
    "        train[\"rolling_std_\" + str(window) + '_batch_' + str(batch_size)] = train.groupby('batch')['signal'].rolling(window=window).std().reset_index()['signal']\n",
    "\n",
    "        ewma = pd.Series.ewm\n",
    "\n",
    "        train[f'exp_Moving__{window}_{batch_size}'] = train.groupby('batch')['signal'].apply(lambda x: x.ewm(alpha=0.5, adjust=False).mean())\n",
    "train.fillna(0, inplace=True)"
   ]
  },
  {
   "cell_type": "code",
   "execution_count": 26,
   "metadata": {
    "ExecuteTime": {
     "end_time": "2020-03-25T01:25:24.959295Z",
     "start_time": "2020-03-25T01:23:35.517321Z"
    }
   },
   "outputs": [
    {
     "data": {
      "application/vnd.jupyter.widget-view+json": {
       "model_id": "862b8b2c564e46f79f4b28664e131537",
       "version_major": 2,
       "version_minor": 0
      },
      "text/plain": [
       "HBox(children=(IntProgress(value=0, max=3), HTML(value='')))"
      ]
     },
     "metadata": {},
     "output_type": "display_data"
    },
    {
     "name": "stdout",
     "output_type": "stream",
     "text": [
      "\n"
     ]
    }
   ],
   "source": [
    "for batch_size in tqdm_notebook([10000, 25000, 50000]):\n",
    "    test['batch'] = ((test['time'] * 10_000) - 1) // batch_size\n",
    "    test['batch_index'] = ((test['time'] * 10_000) - 1)  - (test['batch'] * batch_size)\n",
    "    test['batch_slices'] = test['batch_index']  // (batch_size / 10)\n",
    "    test['batch_slices2'] = test['batch'].astype(str).str.zfill(3) + '_' + test['batch_slices'].astype(str).str.zfill(3)\n",
    "    \n",
    "    for agg_feature in ['batch', 'batch_slices2']:\n",
    "        test[f\"min_{agg_feature}_{batch_size}\"] = test.groupby(agg_feature)['signal'].transform('min')\n",
    "        test[f\"max_{agg_feature}_{batch_size}\"] = test.groupby(agg_feature)['signal'].transform('max')\n",
    "        test[f\"std_{agg_feature}_{batch_size}\"] = test.groupby(agg_feature)['signal'].transform('std')\n",
    "        test[f\"mean_{agg_feature}_{batch_size}\"] = test.groupby(agg_feature)['signal'].transform('mean')\n",
    "        \n",
    "        test[f\"min_{agg_feature}_{batch_size}_diff\"] = test[f\"min_{agg_feature}_{batch_size}\"] - test['signal']\n",
    "        test[f\"max_{agg_feature}_{batch_size}_diff\"] = test[f\"max_{agg_feature}_{batch_size}\"] - test['signal']\n",
    "        test[f\"std_{agg_feature}_{batch_size}_diff\"] = test[f\"std_{agg_feature}_{batch_size}\"] - test['signal']\n",
    "        test[f\"mean_{agg_feature}_{batch_size}_diff\"] = test[f\"mean_{agg_feature}_{batch_size}\"] - test['signal']\n",
    "        \n",
    "        test[f'signal_shift+1_{agg_feature}_{batch_size}'] = test.groupby([agg_feature]).shift(1)['signal']\n",
    "        test[f'signal_shift-1_{agg_feature}_{batch_size}'] = test.groupby([agg_feature]).shift(-1)['signal']\n",
    "        test[f'signal_shift+2_{agg_feature}_{batch_size}'] = test.groupby([agg_feature]).shift(2)['signal']\n",
    "        test[f'signal_shift-2_{agg_feature}_{batch_size}'] = test.groupby([agg_feature]).shift(-2)['signal']\n",
    "\n",
    "    window_sizes = [1000, 5000, 10000, 25000]\n",
    "    for window in window_sizes:\n",
    "        test[\"rolling_std_\" + str(window) + '_batch_' + str(batch_size)] = test.groupby('batch')['signal'].rolling(window=window).std().reset_index()['signal']\n",
    "\n",
    "        ewma = pd.Series.ewm\n",
    "\n",
    "        test[f'exp_Moving__{window}_{batch_size}'] = test.groupby('batch')['signal'].apply(lambda x: x.ewm(alpha=0.5, adjust=False).mean())\n",
    "test.fillna(0, inplace=True)"
   ]
  },
  {
   "cell_type": "code",
   "execution_count": 27,
   "metadata": {
    "ExecuteTime": {
     "end_time": "2020-03-25T01:25:25.009321Z",
     "start_time": "2020-03-25T01:25:24.967371Z"
    }
   },
   "outputs": [
    {
     "data": {
      "text/html": [
       "<div>\n",
       "<style scoped>\n",
       "    .dataframe tbody tr th:only-of-type {\n",
       "        vertical-align: middle;\n",
       "    }\n",
       "\n",
       "    .dataframe tbody tr th {\n",
       "        vertical-align: top;\n",
       "    }\n",
       "\n",
       "    .dataframe thead th {\n",
       "        text-align: right;\n",
       "    }\n",
       "</style>\n",
       "<table border=\"1\" class=\"dataframe\">\n",
       "  <thead>\n",
       "    <tr style=\"text-align: right;\">\n",
       "      <th></th>\n",
       "      <th>time</th>\n",
       "      <th>signal</th>\n",
       "      <th>open_channels</th>\n",
       "      <th>batch</th>\n",
       "      <th>batch_index</th>\n",
       "      <th>batch_slices</th>\n",
       "      <th>batch_slices2</th>\n",
       "      <th>min_batch_10000</th>\n",
       "      <th>max_batch_10000</th>\n",
       "      <th>std_batch_10000</th>\n",
       "      <th>...</th>\n",
       "      <th>signal_shift+2_batch_slices2_50000</th>\n",
       "      <th>signal_shift-2_batch_slices2_50000</th>\n",
       "      <th>rolling_std_1000_batch_50000</th>\n",
       "      <th>exp_Moving__1000_50000</th>\n",
       "      <th>rolling_std_5000_batch_50000</th>\n",
       "      <th>exp_Moving__5000_50000</th>\n",
       "      <th>rolling_std_10000_batch_50000</th>\n",
       "      <th>exp_Moving__10000_50000</th>\n",
       "      <th>rolling_std_25000_batch_50000</th>\n",
       "      <th>exp_Moving__25000_50000</th>\n",
       "    </tr>\n",
       "  </thead>\n",
       "  <tbody>\n",
       "    <tr>\n",
       "      <th>0</th>\n",
       "      <td>0.0001</td>\n",
       "      <td>-2.7600</td>\n",
       "      <td>0</td>\n",
       "      <td>0.0</td>\n",
       "      <td>0.0</td>\n",
       "      <td>0.0</td>\n",
       "      <td>0.0_0.0</td>\n",
       "      <td>-3.5896</td>\n",
       "      <td>-1.0483</td>\n",
       "      <td>0.243935804306588</td>\n",
       "      <td>...</td>\n",
       "      <td>0.0000</td>\n",
       "      <td>-2.4074</td>\n",
       "      <td>0.0</td>\n",
       "      <td>-2.76000000</td>\n",
       "      <td>0.0</td>\n",
       "      <td>-2.76000000</td>\n",
       "      <td>0.0</td>\n",
       "      <td>-2.76000000</td>\n",
       "      <td>0.0</td>\n",
       "      <td>-2.76000000</td>\n",
       "    </tr>\n",
       "    <tr>\n",
       "      <th>1</th>\n",
       "      <td>0.0002</td>\n",
       "      <td>-2.8557</td>\n",
       "      <td>0</td>\n",
       "      <td>0.0</td>\n",
       "      <td>1.0</td>\n",
       "      <td>0.0</td>\n",
       "      <td>0.0_0.0</td>\n",
       "      <td>-3.5896</td>\n",
       "      <td>-1.0483</td>\n",
       "      <td>0.243935804306588</td>\n",
       "      <td>...</td>\n",
       "      <td>0.0000</td>\n",
       "      <td>-3.1404</td>\n",
       "      <td>0.0</td>\n",
       "      <td>-2.80785000</td>\n",
       "      <td>0.0</td>\n",
       "      <td>-2.80785000</td>\n",
       "      <td>0.0</td>\n",
       "      <td>-2.80785000</td>\n",
       "      <td>0.0</td>\n",
       "      <td>-2.80785000</td>\n",
       "    </tr>\n",
       "    <tr>\n",
       "      <th>2</th>\n",
       "      <td>0.0003</td>\n",
       "      <td>-2.4074</td>\n",
       "      <td>0</td>\n",
       "      <td>0.0</td>\n",
       "      <td>2.0</td>\n",
       "      <td>0.0</td>\n",
       "      <td>0.0_0.0</td>\n",
       "      <td>-3.5896</td>\n",
       "      <td>-1.0483</td>\n",
       "      <td>0.243935804306588</td>\n",
       "      <td>...</td>\n",
       "      <td>-2.7600</td>\n",
       "      <td>-3.1525</td>\n",
       "      <td>0.0</td>\n",
       "      <td>-2.60762500</td>\n",
       "      <td>0.0</td>\n",
       "      <td>-2.60762500</td>\n",
       "      <td>0.0</td>\n",
       "      <td>-2.60762500</td>\n",
       "      <td>0.0</td>\n",
       "      <td>-2.60762500</td>\n",
       "    </tr>\n",
       "    <tr>\n",
       "      <th>3</th>\n",
       "      <td>0.0004</td>\n",
       "      <td>-3.1404</td>\n",
       "      <td>0</td>\n",
       "      <td>0.0</td>\n",
       "      <td>3.0</td>\n",
       "      <td>0.0</td>\n",
       "      <td>0.0_0.0</td>\n",
       "      <td>-3.5896</td>\n",
       "      <td>-1.0483</td>\n",
       "      <td>0.243935804306588</td>\n",
       "      <td>...</td>\n",
       "      <td>-2.8557</td>\n",
       "      <td>-2.6418</td>\n",
       "      <td>0.0</td>\n",
       "      <td>-2.87401250</td>\n",
       "      <td>0.0</td>\n",
       "      <td>-2.87401250</td>\n",
       "      <td>0.0</td>\n",
       "      <td>-2.87401250</td>\n",
       "      <td>0.0</td>\n",
       "      <td>-2.87401250</td>\n",
       "    </tr>\n",
       "    <tr>\n",
       "      <th>4</th>\n",
       "      <td>0.0005</td>\n",
       "      <td>-3.1525</td>\n",
       "      <td>0</td>\n",
       "      <td>0.0</td>\n",
       "      <td>4.0</td>\n",
       "      <td>0.0</td>\n",
       "      <td>0.0_0.0</td>\n",
       "      <td>-3.5896</td>\n",
       "      <td>-1.0483</td>\n",
       "      <td>0.243935804306588</td>\n",
       "      <td>...</td>\n",
       "      <td>-2.4074</td>\n",
       "      <td>-2.6993</td>\n",
       "      <td>0.0</td>\n",
       "      <td>-3.01325625</td>\n",
       "      <td>0.0</td>\n",
       "      <td>-3.01325625</td>\n",
       "      <td>0.0</td>\n",
       "      <td>-3.01325625</td>\n",
       "      <td>0.0</td>\n",
       "      <td>-3.01325625</td>\n",
       "    </tr>\n",
       "  </tbody>\n",
       "</table>\n",
       "<p>5 rows × 103 columns</p>\n",
       "</div>"
      ],
      "text/plain": [
       "     time  signal  open_channels  batch  batch_index  batch_slices  \\\n",
       "0  0.0001 -2.7600              0    0.0          0.0           0.0   \n",
       "1  0.0002 -2.8557              0    0.0          1.0           0.0   \n",
       "2  0.0003 -2.4074              0    0.0          2.0           0.0   \n",
       "3  0.0004 -3.1404              0    0.0          3.0           0.0   \n",
       "4  0.0005 -3.1525              0    0.0          4.0           0.0   \n",
       "\n",
       "  batch_slices2  min_batch_10000  max_batch_10000    std_batch_10000  ...  \\\n",
       "0       0.0_0.0          -3.5896          -1.0483  0.243935804306588  ...   \n",
       "1       0.0_0.0          -3.5896          -1.0483  0.243935804306588  ...   \n",
       "2       0.0_0.0          -3.5896          -1.0483  0.243935804306588  ...   \n",
       "3       0.0_0.0          -3.5896          -1.0483  0.243935804306588  ...   \n",
       "4       0.0_0.0          -3.5896          -1.0483  0.243935804306588  ...   \n",
       "\n",
       "   signal_shift+2_batch_slices2_50000  signal_shift-2_batch_slices2_50000  \\\n",
       "0                              0.0000                             -2.4074   \n",
       "1                              0.0000                             -3.1404   \n",
       "2                             -2.7600                             -3.1525   \n",
       "3                             -2.8557                             -2.6418   \n",
       "4                             -2.4074                             -2.6993   \n",
       "\n",
       "   rolling_std_1000_batch_50000  exp_Moving__1000_50000  \\\n",
       "0                           0.0             -2.76000000   \n",
       "1                           0.0             -2.80785000   \n",
       "2                           0.0             -2.60762500   \n",
       "3                           0.0             -2.87401250   \n",
       "4                           0.0             -3.01325625   \n",
       "\n",
       "   rolling_std_5000_batch_50000  exp_Moving__5000_50000  \\\n",
       "0                           0.0             -2.76000000   \n",
       "1                           0.0             -2.80785000   \n",
       "2                           0.0             -2.60762500   \n",
       "3                           0.0             -2.87401250   \n",
       "4                           0.0             -3.01325625   \n",
       "\n",
       "   rolling_std_10000_batch_50000  exp_Moving__10000_50000  \\\n",
       "0                            0.0              -2.76000000   \n",
       "1                            0.0              -2.80785000   \n",
       "2                            0.0              -2.60762500   \n",
       "3                            0.0              -2.87401250   \n",
       "4                            0.0              -3.01325625   \n",
       "\n",
       "   rolling_std_25000_batch_50000  exp_Moving__25000_50000  \n",
       "0                            0.0              -2.76000000  \n",
       "1                            0.0              -2.80785000  \n",
       "2                            0.0              -2.60762500  \n",
       "3                            0.0              -2.87401250  \n",
       "4                            0.0              -3.01325625  \n",
       "\n",
       "[5 rows x 103 columns]"
      ]
     },
     "execution_count": 27,
     "metadata": {},
     "output_type": "execute_result"
    }
   ],
   "source": [
    "train.head()"
   ]
  },
  {
   "cell_type": "markdown",
   "metadata": {},
   "source": [
    "## Modelling\n",
    "\n",
    "It is modelling time! I'll use my usual class for modelling with lgbm.\n",
    "\n",
    "Please, notice that I calculate cappa metric, but it isn't optimized and uses default thresholds, so the metric values are funny. I think I'll set better thresholds later.\n",
    "It would be a very bad idea to optimize thresholds for each iteration, as it would take too much time and could cause overfitting."
   ]
  },
  {
   "cell_type": "code",
   "execution_count": 28,
   "metadata": {
    "ExecuteTime": {
     "end_time": "2020-03-25T01:25:25.015573Z",
     "start_time": "2020-03-25T01:25:25.012531Z"
    }
   },
   "outputs": [],
   "source": [
    "n_fold = 5\n",
    "# folds = KFold(n_splits=n_fold, shuffle=True)\n",
    "# folds = StratifiedKFold(n_splits=n_fold)\n",
    "folds = GroupKFold(n_splits=n_fold)"
   ]
  },
  {
   "cell_type": "code",
   "execution_count": 29,
   "metadata": {
    "ExecuteTime": {
     "end_time": "2020-03-25T01:25:25.022493Z",
     "start_time": "2020-03-25T01:25:25.017601Z"
    }
   },
   "outputs": [],
   "source": [
    "params = {'n_estimators': 2000,\n",
    "          'num_leaves': 128,\n",
    "          'min_data_in_leaf': 60,\n",
    "          'objective': 'huber',\n",
    "          'max_depth': -1,\n",
    "          'learning_rate': 0.05,\n",
    "          \"boosting\": \"gbdt\",\n",
    "          \"metric\": 'rmse',\n",
    "          \"verbosity\": -1,\n",
    "          'verbose': 100,\n",
    "          'early_stopping_rounds': 50,\n",
    "          'eval_metric': 'rmse',\n",
    "          'num_threads': -1\n",
    "            }"
   ]
  },
  {
   "cell_type": "code",
   "execution_count": 30,
   "metadata": {
    "ExecuteTime": {
     "end_time": "2020-03-25T01:25:25.027612Z",
     "start_time": "2020-03-25T01:25:25.025059Z"
    }
   },
   "outputs": [],
   "source": [
    "y = train['open_channels']"
   ]
  },
  {
   "cell_type": "code",
   "execution_count": 31,
   "metadata": {
    "ExecuteTime": {
     "end_time": "2020-03-25T01:26:35.316248Z",
     "start_time": "2020-03-25T01:25:25.029190Z"
    }
   },
   "outputs": [
    {
     "name": "stdout",
     "output_type": "stream",
     "text": [
      "Mem. usage decreased to 1006.13 Mb (74.4% reduction)\n"
     ]
    }
   ],
   "source": [
    "train = reduce_mem_usage(train)"
   ]
  },
  {
   "cell_type": "code",
   "execution_count": 32,
   "metadata": {
    "ExecuteTime": {
     "end_time": "2020-03-25T01:26:35.334626Z",
     "start_time": "2020-03-25T01:26:35.319267Z"
    }
   },
   "outputs": [
    {
     "data": {
      "text/html": [
       "['time', 'signal', 'open_channels', 'batch', 'batch_index', 'batch_slices', 'batch_slices2', 'min_batch_10000', 'max_batch_10000', 'std_batch_10000', 'mean_batch_10000', 'min_batch_10000_diff', 'max_batch_10000_diff', 'std_batch_10000_diff', 'mean_batch_10000_diff', 'signal_shift+1_batch_10000', 'signal_shift-1_batch_10000', 'signal_shift+2_batch_10000', 'signal_shift-2_batch_10000', 'min_batch_slices2_10000', 'max_batch_slices2_10000', 'std_batch_slices2_10000', 'mean_batch_slices2_10000', 'min_batch_slices2_10000_diff', 'max_batch_slices2_10000_diff', 'std_batch_slices2_10000_diff', 'mean_batch_slices2_10000_diff', 'signal_shift+1_batch_slices2_10000', 'signal_shift-1_batch_slices2_10000', 'signal_shift+2_batch_slices2_10000', 'signal_shift-2_batch_slices2_10000', 'rolling_std_1000_batch_10000', 'exp_Moving__1000_10000', 'rolling_std_5000_batch_10000', 'exp_Moving__5000_10000', 'rolling_std_10000_batch_10000', 'exp_Moving__10000_10000', 'rolling_std_25000_batch_10000', 'exp_Moving__25000_10000', 'min_batch_25000', 'max_batch_25000', 'std_batch_25000', 'mean_batch_25000', 'min_batch_25000_diff', 'max_batch_25000_diff', 'std_batch_25000_diff', 'mean_batch_25000_diff', 'signal_shift+1_batch_25000', 'signal_shift-1_batch_25000', 'signal_shift+2_batch_25000', 'signal_shift-2_batch_25000', 'min_batch_slices2_25000', 'max_batch_slices2_25000', 'std_batch_slices2_25000', 'mean_batch_slices2_25000', 'min_batch_slices2_25000_diff', 'max_batch_slices2_25000_diff', 'std_batch_slices2_25000_diff', 'mean_batch_slices2_25000_diff', 'signal_shift+1_batch_slices2_25000', 'signal_shift-1_batch_slices2_25000', 'signal_shift+2_batch_slices2_25000', 'signal_shift-2_batch_slices2_25000', 'rolling_std_1000_batch_25000', 'exp_Moving__1000_25000', 'rolling_std_5000_batch_25000', 'exp_Moving__5000_25000', 'rolling_std_10000_batch_25000', 'exp_Moving__10000_25000', 'rolling_std_25000_batch_25000', 'exp_Moving__25000_25000', 'min_batch_50000', 'max_batch_50000', 'std_batch_50000', 'mean_batch_50000', 'min_batch_50000_diff', 'max_batch_50000_diff', 'std_batch_50000_diff', 'mean_batch_50000_diff', 'signal_shift+1_batch_50000', 'signal_shift-1_batch_50000', 'signal_shift+2_batch_50000', 'signal_shift-2_batch_50000', 'min_batch_slices2_50000', 'max_batch_slices2_50000', 'std_batch_slices2_50000', 'mean_batch_slices2_50000', 'min_batch_slices2_50000_diff', 'max_batch_slices2_50000_diff', 'std_batch_slices2_50000_diff', 'mean_batch_slices2_50000_diff', 'signal_shift+1_batch_slices2_50000', 'signal_shift-1_batch_slices2_50000', 'signal_shift+2_batch_slices2_50000', 'signal_shift-2_batch_slices2_50000', 'rolling_std_1000_batch_50000', 'exp_Moving__1000_50000', 'rolling_std_5000_batch_50000', 'exp_Moving__5000_50000', 'rolling_std_10000_batch_50000', 'exp_Moving__10000_50000', 'rolling_std_25000_batch_50000', 'exp_Moving__25000_50000']"
      ],
      "text/plain": [
       "['time',\n",
       " 'signal',\n",
       " 'open_channels',\n",
       " 'batch',\n",
       " 'batch_index',\n",
       " 'batch_slices',\n",
       " 'batch_slices2',\n",
       " 'min_batch_10000',\n",
       " 'max_batch_10000',\n",
       " 'std_batch_10000',\n",
       " 'mean_batch_10000',\n",
       " 'min_batch_10000_diff',\n",
       " 'max_batch_10000_diff',\n",
       " 'std_batch_10000_diff',\n",
       " 'mean_batch_10000_diff',\n",
       " 'signal_shift+1_batch_10000',\n",
       " 'signal_shift-1_batch_10000',\n",
       " 'signal_shift+2_batch_10000',\n",
       " 'signal_shift-2_batch_10000',\n",
       " 'min_batch_slices2_10000',\n",
       " 'max_batch_slices2_10000',\n",
       " 'std_batch_slices2_10000',\n",
       " 'mean_batch_slices2_10000',\n",
       " 'min_batch_slices2_10000_diff',\n",
       " 'max_batch_slices2_10000_diff',\n",
       " 'std_batch_slices2_10000_diff',\n",
       " 'mean_batch_slices2_10000_diff',\n",
       " 'signal_shift+1_batch_slices2_10000',\n",
       " 'signal_shift-1_batch_slices2_10000',\n",
       " 'signal_shift+2_batch_slices2_10000',\n",
       " 'signal_shift-2_batch_slices2_10000',\n",
       " 'rolling_std_1000_batch_10000',\n",
       " 'exp_Moving__1000_10000',\n",
       " 'rolling_std_5000_batch_10000',\n",
       " 'exp_Moving__5000_10000',\n",
       " 'rolling_std_10000_batch_10000',\n",
       " 'exp_Moving__10000_10000',\n",
       " 'rolling_std_25000_batch_10000',\n",
       " 'exp_Moving__25000_10000',\n",
       " 'min_batch_25000',\n",
       " 'max_batch_25000',\n",
       " 'std_batch_25000',\n",
       " 'mean_batch_25000',\n",
       " 'min_batch_25000_diff',\n",
       " 'max_batch_25000_diff',\n",
       " 'std_batch_25000_diff',\n",
       " 'mean_batch_25000_diff',\n",
       " 'signal_shift+1_batch_25000',\n",
       " 'signal_shift-1_batch_25000',\n",
       " 'signal_shift+2_batch_25000',\n",
       " 'signal_shift-2_batch_25000',\n",
       " 'min_batch_slices2_25000',\n",
       " 'max_batch_slices2_25000',\n",
       " 'std_batch_slices2_25000',\n",
       " 'mean_batch_slices2_25000',\n",
       " 'min_batch_slices2_25000_diff',\n",
       " 'max_batch_slices2_25000_diff',\n",
       " 'std_batch_slices2_25000_diff',\n",
       " 'mean_batch_slices2_25000_diff',\n",
       " 'signal_shift+1_batch_slices2_25000',\n",
       " 'signal_shift-1_batch_slices2_25000',\n",
       " 'signal_shift+2_batch_slices2_25000',\n",
       " 'signal_shift-2_batch_slices2_25000',\n",
       " 'rolling_std_1000_batch_25000',\n",
       " 'exp_Moving__1000_25000',\n",
       " 'rolling_std_5000_batch_25000',\n",
       " 'exp_Moving__5000_25000',\n",
       " 'rolling_std_10000_batch_25000',\n",
       " 'exp_Moving__10000_25000',\n",
       " 'rolling_std_25000_batch_25000',\n",
       " 'exp_Moving__25000_25000',\n",
       " 'min_batch_50000',\n",
       " 'max_batch_50000',\n",
       " 'std_batch_50000',\n",
       " 'mean_batch_50000',\n",
       " 'min_batch_50000_diff',\n",
       " 'max_batch_50000_diff',\n",
       " 'std_batch_50000_diff',\n",
       " 'mean_batch_50000_diff',\n",
       " 'signal_shift+1_batch_50000',\n",
       " 'signal_shift-1_batch_50000',\n",
       " 'signal_shift+2_batch_50000',\n",
       " 'signal_shift-2_batch_50000',\n",
       " 'min_batch_slices2_50000',\n",
       " 'max_batch_slices2_50000',\n",
       " 'std_batch_slices2_50000',\n",
       " 'mean_batch_slices2_50000',\n",
       " 'min_batch_slices2_50000_diff',\n",
       " 'max_batch_slices2_50000_diff',\n",
       " 'std_batch_slices2_50000_diff',\n",
       " 'mean_batch_slices2_50000_diff',\n",
       " 'signal_shift+1_batch_slices2_50000',\n",
       " 'signal_shift-1_batch_slices2_50000',\n",
       " 'signal_shift+2_batch_slices2_50000',\n",
       " 'signal_shift-2_batch_slices2_50000',\n",
       " 'rolling_std_1000_batch_50000',\n",
       " 'exp_Moving__1000_50000',\n",
       " 'rolling_std_5000_batch_50000',\n",
       " 'exp_Moving__5000_50000',\n",
       " 'rolling_std_10000_batch_50000',\n",
       " 'exp_Moving__10000_50000',\n",
       " 'rolling_std_25000_batch_50000',\n",
       " 'exp_Moving__25000_50000']"
      ]
     },
     "execution_count": 32,
     "metadata": {},
     "output_type": "execute_result"
    }
   ],
   "source": [
    "list(train.columns)"
   ]
  },
  {
   "cell_type": "code",
   "execution_count": 33,
   "metadata": {
    "ExecuteTime": {
     "end_time": "2020-03-25T01:58:41.147220Z",
     "start_time": "2020-03-25T01:26:35.336788Z"
    }
   },
   "outputs": [
    {
     "name": "stdout",
     "output_type": "stream",
     "text": [
      "Fold 1 started at Tue Mar 24 18:26:37 2020\n",
      "Training until validation scores don't improve for 50 rounds\n",
      "[100]\ttrain's rmse: 0.456416\tvalid's rmse: 0.473622\n",
      "[200]\ttrain's rmse: 0.162414\tvalid's rmse: 0.176987\n",
      "[300]\ttrain's rmse: 0.159329\tvalid's rmse: 0.175193\n",
      "[400]\ttrain's rmse: 0.157668\tvalid's rmse: 0.174795\n",
      "[500]\ttrain's rmse: 0.156452\tvalid's rmse: 0.174558\n",
      "[600]\ttrain's rmse: 0.155308\tvalid's rmse: 0.174362\n",
      "[700]\ttrain's rmse: 0.154348\tvalid's rmse: 0.174263\n",
      "[800]\ttrain's rmse: 0.153472\tvalid's rmse: 0.174169\n",
      "[900]\ttrain's rmse: 0.152588\tvalid's rmse: 0.174083\n",
      "[1000]\ttrain's rmse: 0.151751\tvalid's rmse: 0.173976\n",
      "[1100]\ttrain's rmse: 0.150993\tvalid's rmse: 0.173914\n",
      "[1200]\ttrain's rmse: 0.150263\tvalid's rmse: 0.173883\n",
      "[1300]\ttrain's rmse: 0.149493\tvalid's rmse: 0.173805\n",
      "[1400]\ttrain's rmse: 0.148786\tvalid's rmse: 0.173733\n",
      "[1500]\ttrain's rmse: 0.1481\tvalid's rmse: 0.173693\n",
      "[1600]\ttrain's rmse: 0.147429\tvalid's rmse: 0.173624\n",
      "Early stopping, best iteration is:\n",
      "[1624]\ttrain's rmse: 0.147254\tvalid's rmse: 0.17361\n",
      "Fold 2 started at Tue Mar 24 18:34:37 2020\n",
      "Training until validation scores don't improve for 50 rounds\n",
      "[100]\ttrain's rmse: 0.445578\tvalid's rmse: 0.460453\n",
      "[200]\ttrain's rmse: 0.163013\tvalid's rmse: 0.195391\n",
      "[300]\ttrain's rmse: 0.160079\tvalid's rmse: 0.193862\n",
      "[400]\ttrain's rmse: 0.158407\tvalid's rmse: 0.193394\n",
      "[500]\ttrain's rmse: 0.157147\tvalid's rmse: 0.19322\n",
      "[600]\ttrain's rmse: 0.156083\tvalid's rmse: 0.193074\n",
      "[700]\ttrain's rmse: 0.155132\tvalid's rmse: 0.192982\n",
      "[800]\ttrain's rmse: 0.154216\tvalid's rmse: 0.192951\n",
      "[900]\ttrain's rmse: 0.153324\tvalid's rmse: 0.192908\n",
      "[1000]\ttrain's rmse: 0.152447\tvalid's rmse: 0.192808\n",
      "[1100]\ttrain's rmse: 0.15164\tvalid's rmse: 0.192735\n",
      "[1200]\ttrain's rmse: 0.15085\tvalid's rmse: 0.192715\n",
      "Early stopping, best iteration is:\n",
      "[1184]\ttrain's rmse: 0.150968\tvalid's rmse: 0.192711\n",
      "Fold 3 started at Tue Mar 24 18:41:54 2020\n",
      "Training until validation scores don't improve for 50 rounds\n",
      "[100]\ttrain's rmse: 0.437392\tvalid's rmse: 0.786264\n",
      "Early stopping, best iteration is:\n",
      "[143]\ttrain's rmse: 0.183543\tvalid's rmse: 0.734659\n",
      "Fold 4 started at Tue Mar 24 18:44:05 2020\n",
      "Training until validation scores don't improve for 50 rounds\n",
      "[100]\ttrain's rmse: 0.449034\tvalid's rmse: 0.47168\n",
      "[200]\ttrain's rmse: 0.162217\tvalid's rmse: 0.20919\n",
      "[300]\ttrain's rmse: 0.159299\tvalid's rmse: 0.208123\n",
      "[400]\ttrain's rmse: 0.157692\tvalid's rmse: 0.20778\n",
      "[500]\ttrain's rmse: 0.156465\tvalid's rmse: 0.207558\n",
      "[600]\ttrain's rmse: 0.155383\tvalid's rmse: 0.207295\n",
      "[700]\ttrain's rmse: 0.154384\tvalid's rmse: 0.207201\n",
      "[800]\ttrain's rmse: 0.153472\tvalid's rmse: 0.207131\n",
      "Early stopping, best iteration is:\n",
      "[761]\ttrain's rmse: 0.153803\tvalid's rmse: 0.207031\n",
      "Fold 5 started at Tue Mar 24 18:51:21 2020\n",
      "Training until validation scores don't improve for 50 rounds\n",
      "[100]\ttrain's rmse: 0.441565\tvalid's rmse: 0.435239\n",
      "[200]\ttrain's rmse: 0.164707\tvalid's rmse: 0.169185\n",
      "[300]\ttrain's rmse: 0.161632\tvalid's rmse: 0.168201\n",
      "[400]\ttrain's rmse: 0.159912\tvalid's rmse: 0.167838\n",
      "[500]\ttrain's rmse: 0.158622\tvalid's rmse: 0.167685\n",
      "[600]\ttrain's rmse: 0.157571\tvalid's rmse: 0.16764\n",
      "[700]\ttrain's rmse: 0.156578\tvalid's rmse: 0.167589\n",
      "[800]\ttrain's rmse: 0.155591\tvalid's rmse: 0.167508\n",
      "[900]\ttrain's rmse: 0.154701\tvalid's rmse: 0.167443\n",
      "[1000]\ttrain's rmse: 0.153889\tvalid's rmse: 0.167418\n",
      "Early stopping, best iteration is:\n",
      "[1029]\ttrain's rmse: 0.153676\tvalid's rmse: 0.167411\n",
      "\n",
      "CV mean score on train: 0.1578 +/- 0.0131 std.\n",
      "CV mean score on valid: 0.2951 +/- 0.2202 std.\n"
     ]
    },
    {
     "data": {
      "image/png": "[encoded data removed]",
      "text/plain": [
       "<Figure size 1152x864 with 4 Axes>"
      ]
     },
     "metadata": {
      "needs_background": "light"
     },
     "output_type": "display_data"
    }
   ],
   "source": [
    "mt = MainTransformer()\n",
    "ft = FeatureTransformer()\n",
    "transformers = {'ft': ft}\n",
    "regressor_model = RegressorModel(model_wrapper=LGBWrapper_regr())\n",
    "regressor_model.fit(X=train, y=y, folds=folds, params=params, preprocesser=mt, transformers=transformers,\n",
    "                    eval_metric='rmse', cols_to_drop=['batch', 'open_channels', 'batch_index', 'batch_slices', 'batch_slices2'])"
   ]
  },
  {
   "cell_type": "code",
   "execution_count": 34,
   "metadata": {
    "ExecuteTime": {
     "end_time": "2020-03-25T02:54:30.075963Z",
     "start_time": "2020-03-25T01:58:41.166145Z"
    }
   },
   "outputs": [
    {
     "name": "stdout",
     "output_type": "stream",
     "text": [
      "Fold 1 started at Tue Mar 24 18:58:43 2020\n",
      "Training until validation scores don't improve for 20 rounds\n",
      "[100]\ttrain's l1: 0.305823\tvalid's l1: 0.346085\n",
      "[200]\ttrain's l1: 0.0856012\tvalid's l1: 0.0965265\n",
      "[300]\ttrain's l1: 0.0555129\tvalid's l1: 0.062719\n",
      "[400]\ttrain's l1: 0.0515286\tvalid's l1: 0.0581613\n",
      "[500]\ttrain's l1: 0.050992\tvalid's l1: 0.0575577\n",
      "[600]\ttrain's l1: 0.0508813\tvalid's l1: 0.0574663\n",
      "[700]\ttrain's l1: 0.0508478\tvalid's l1: 0.0574532\n",
      "[800]\ttrain's l1: 0.0508189\tvalid's l1: 0.0574215\n",
      "[900]\ttrain's l1: 0.0508052\tvalid's l1: 0.0574124\n",
      "Early stopping, best iteration is:\n",
      "[899]\ttrain's l1: 0.0508061\tvalid's l1: 0.0574109\n",
      "Fold 2 started at Tue Mar 24 19:12:53 2020\n",
      "Training until validation scores don't improve for 20 rounds\n",
      "[100]\ttrain's l1: 0.327009\tvalid's l1: 0.333475\n",
      "[200]\ttrain's l1: 0.0907852\tvalid's l1: 0.0970056\n",
      "[300]\ttrain's l1: 0.0595744\tvalid's l1: 0.0660289\n",
      "[400]\ttrain's l1: 0.0551032\tvalid's l1: 0.0617764\n",
      "[500]\ttrain's l1: 0.0543443\tvalid's l1: 0.0612363\n",
      "[600]\ttrain's l1: 0.054259\tvalid's l1: 0.0610946\n",
      "[700]\ttrain's l1: 0.0536265\tvalid's l1: 0.0606937\n",
      "Early stopping, best iteration is:\n",
      "[773]\ttrain's l1: 0.0534328\tvalid's l1: 0.0605689\n",
      "Fold 3 started at Tue Mar 24 19:23:44 2020\n",
      "Training until validation scores don't improve for 20 rounds\n",
      "[100]\ttrain's l1: 0.329092\tvalid's l1: 0.358317\n",
      "[200]\ttrain's l1: 0.0881484\tvalid's l1: 0.15017\n",
      "[300]\ttrain's l1: 0.0557767\tvalid's l1: 0.123489\n",
      "[400]\ttrain's l1: 0.0512862\tvalid's l1: 0.120524\n",
      "[500]\ttrain's l1: 0.050303\tvalid's l1: 0.11984\n",
      "[600]\ttrain's l1: 0.0501353\tvalid's l1: 0.119706\n",
      "[700]\ttrain's l1: 0.0500868\tvalid's l1: 0.11967\n",
      "Early stopping, best iteration is:\n",
      "[779]\ttrain's l1: 0.0500775\tvalid's l1: 0.119658\n",
      "Fold 4 started at Tue Mar 24 19:34:44 2020\n",
      "Training until validation scores don't improve for 20 rounds\n",
      "[100]\ttrain's l1: 0.3146\tvalid's l1: 0.348557\n",
      "[200]\ttrain's l1: 0.0858969\tvalid's l1: 0.1437\n",
      "[300]\ttrain's l1: 0.0564934\tvalid's l1: 0.116596\n",
      "[400]\ttrain's l1: 0.0526869\tvalid's l1: 0.113172\n",
      "[500]\ttrain's l1: 0.0520098\tvalid's l1: 0.112679\n",
      "[600]\ttrain's l1: 0.0518905\tvalid's l1: 0.11261\n",
      "Early stopping, best iteration is:\n",
      "[670]\ttrain's l1: 0.0518713\tvalid's l1: 0.1126\n",
      "Fold 5 started at Tue Mar 24 19:44:07 2020\n",
      "Training until validation scores don't improve for 20 rounds\n",
      "[100]\ttrain's l1: 0.327752\tvalid's l1: 0.32464\n",
      "[200]\ttrain's l1: 0.0914409\tvalid's l1: 0.0880616\n",
      "[300]\ttrain's l1: 0.0604174\tvalid's l1: 0.0570428\n",
      "[400]\ttrain's l1: 0.0561697\tvalid's l1: 0.0528179\n",
      "[500]\ttrain's l1: 0.055221\tvalid's l1: 0.0514626\n",
      "[600]\ttrain's l1: 0.0549867\tvalid's l1: 0.0511058\n",
      "[700]\ttrain's l1: 0.0549644\tvalid's l1: 0.0510768\n",
      "Early stopping, best iteration is:\n",
      "[705]\ttrain's l1: 0.0549641\tvalid's l1: 0.0510764\n",
      "\n",
      "CV mean score on train: 0.0522 +/- 0.0018 std.\n",
      "CV mean score on valid: 0.0803 +/- 0.0295 std.\n"
     ]
    },
    {
     "data": {
      "image/png": "[encoded data removed]",
      "text/plain": [
       "<Figure size 1152x864 with 4 Axes>"
      ]
     },
     "metadata": {
      "needs_background": "light"
     },
     "output_type": "display_data"
    }
   ],
   "source": [
    "params1 = {'n_estimators': 2000,\n",
    "          'num_leaves': 256,\n",
    "          'min_data_in_leaf': 32,\n",
    "          'objective': 'mape',\n",
    "          'max_depth': -1,\n",
    "          'learning_rate': 0.02,\n",
    "          \"boosting\": \"gbdt\",\n",
    "          \"metric\": 'mae',\n",
    "          \"verbosity\": -1,\n",
    "          'verbose': 100,\n",
    "          'early_stopping_rounds': 20,\n",
    "          'eval_metric': 'mae',\n",
    "          'num_threads': -1\n",
    "            }\n",
    "mt = MainTransformer()\n",
    "ft = FeatureTransformer()\n",
    "transformers = {'ft': ft}\n",
    "regressor_model1 = RegressorModel(model_wrapper=LGBWrapper_regr())\n",
    "regressor_model1.fit(X=train, y=y, folds=folds, params=params1, preprocesser=mt, transformers=transformers,\n",
    "                    eval_metric='l1', cols_to_drop=['batch', 'open_channels', 'batch_index', 'batch_slices', 'batch_slices2'])"
   ]
  },
  {
   "cell_type": "markdown",
   "metadata": {},
   "source": [
    "## Optimizing predictions.\n",
    "\n",
    "Note that this is a baseline optimization. I'm not sure that finding thresholds based on the whole train is optimal."
   ]
  },
  {
   "cell_type": "code",
   "execution_count": 35,
   "metadata": {
    "ExecuteTime": {
     "end_time": "2020-03-25T03:06:20.244958Z",
     "start_time": "2020-03-25T02:54:30.078870Z"
    }
   },
   "outputs": [
    {
     "name": "stdout",
     "output_type": "stream",
     "text": [
      "CPU times: user 1h 14min 51s, sys: 1min 20s, total: 1h 16min 11s\n",
      "Wall time: 11min 50s\n"
     ]
    }
   ],
   "source": [
    "%%time\n",
    "pr = (regressor_model.predict(train) + regressor_model1.predict(train)) / 2\n",
    "\n",
    "# optR = OptimizedRounder()\n",
    "# optR.fit(pr.reshape(-1,), y)\n",
    "# coefficients = optR.coefficients()\n",
    "# print(coefficients)"
   ]
  },
  {
   "cell_type": "code",
   "execution_count": 36,
   "metadata": {
    "ExecuteTime": {
     "end_time": "2020-03-25T03:06:22.077209Z",
     "start_time": "2020-03-25T03:06:20.262198Z"
    }
   },
   "outputs": [
    {
     "data": {
      "text/plain": [
       "16200"
      ]
     },
     "execution_count": 36,
     "metadata": {},
     "output_type": "execute_result"
    }
   ],
   "source": [
    "del train\n",
    "gc.collect()"
   ]
  },
  {
   "cell_type": "code",
   "execution_count": 37,
   "metadata": {
    "ExecuteTime": {
     "end_time": "2020-03-25T03:14:03.963695Z",
     "start_time": "2020-03-25T03:06:22.081088Z"
    }
   },
   "outputs": [
    {
     "name": "stdout",
     "output_type": "stream",
     "text": [
      "[0.52572295 1.52757378 2.67755496 3.73319998 4.2608136  5.23367775\n",
      " 6.32440529 7.30558138 8.22347479 9.18218498]\n"
     ]
    }
   ],
   "source": [
    "optRf = OptimizedRounderF1()\n",
    "optRf.fit(pr.reshape(-1,), y)\n",
    "coefficientsf = optRf.coefficients()\n",
    "print(coefficientsf)"
   ]
  },
  {
   "cell_type": "code",
   "execution_count": 38,
   "metadata": {
    "ExecuteTime": {
     "end_time": "2020-03-25T03:14:03.972796Z",
     "start_time": "2020-03-25T03:14:03.965431Z"
    }
   },
   "outputs": [],
   "source": [
    "# opt_preds = optR.predict(pr.reshape(-1, ), coefficients)\n",
    "# print('qwk', qwk(y, opt_preds))\n",
    "# print('f1', metrics.f1_score(y, opt_preds, average = 'macro'))"
   ]
  },
  {
   "cell_type": "code",
   "execution_count": 39,
   "metadata": {
    "ExecuteTime": {
     "end_time": "2020-03-25T03:14:06.927346Z",
     "start_time": "2020-03-25T03:14:03.974620Z"
    }
   },
   "outputs": [
    {
     "name": "stdout",
     "output_type": "stream",
     "text": [
      "qwk 0.9971957688950666\n",
      "f1 0.9294876954187538\n"
     ]
    }
   ],
   "source": [
    "opt_predsf = optRf.predict(pr.reshape(-1, ), coefficientsf)\n",
    "print('qwk', qwk(y, opt_predsf))\n",
    "print('f1', metrics.f1_score(y, opt_predsf, average = 'macro'))"
   ]
  },
  {
   "cell_type": "code",
   "execution_count": 40,
   "metadata": {
    "ExecuteTime": {
     "end_time": "2020-03-25T03:19:41.868261Z",
     "start_time": "2020-03-25T03:14:06.935207Z"
    }
   },
   "outputs": [],
   "source": [
    "test_preds = (regressor_model.predict(test) + regressor_model1.predict(test)) / 2\n",
    "# opt_test_preds = optR.predict(test_preds.reshape(-1, ), coefficients)\n",
    "opt_test_predsf = optRf.predict(test_preds.reshape(-1, ), coefficientsf)"
   ]
  },
  {
   "cell_type": "code",
   "execution_count": 41,
   "metadata": {
    "ExecuteTime": {
     "end_time": "2020-03-25T03:19:42.365766Z",
     "start_time": "2020-03-25T03:19:41.875605Z"
    }
   },
   "outputs": [
    {
     "data": {
      "text/plain": [
       "Text(0.5, 1.0, 'Predictions distribution')"
      ]
     },
     "execution_count": 41,
     "metadata": {},
     "output_type": "execute_result"
    },
    {
     "data": {
      "image/png": "[encoded data removed]",
      "text/plain": [
       "<Figure size 432x288 with 1 Axes>"
      ]
     },
     "metadata": {
      "needs_background": "light"
     },
     "output_type": "display_data"
    }
   ],
   "source": [
    "plt.hist(test_preds);\n",
    "plt.title('Predictions distribution')"
   ]
  },
  {
   "cell_type": "code",
   "execution_count": 42,
   "metadata": {
    "ExecuteTime": {
     "end_time": "2020-03-25T03:19:42.369869Z",
     "start_time": "2020-03-25T03:19:42.367733Z"
    }
   },
   "outputs": [],
   "source": [
    "# submission['open_channels'] = opt_test_preds\n",
    "# submission.to_csv('submission_lgb_optimized.csv', index=False, float_format='%.4f')"
   ]
  },
  {
   "cell_type": "code",
   "execution_count": 43,
   "metadata": {
    "ExecuteTime": {
     "end_time": "2020-03-25T03:19:46.323621Z",
     "start_time": "2020-03-25T03:19:42.372829Z"
    }
   },
   "outputs": [],
   "source": [
    "submission['open_channels'] = opt_test_predsf\n",
    "submission.to_csv('submission_blend_optimizedf.csv', index=False, float_format='%.4f')"
   ]
  },
  {
   "cell_type": "code",
   "execution_count": 44,
   "metadata": {
    "ExecuteTime": {
     "end_time": "2020-03-25T03:19:51.298646Z",
     "start_time": "2020-03-25T03:19:46.326342Z"
    }
   },
   "outputs": [],
   "source": [
    "submission['open_channels'] = test_preds.astype(int)\n",
    "submission.to_csv('submission_blend.csv', index=False, float_format='%.4f')"
   ]
  },
  {
   "cell_type": "code",
   "execution_count": null,
   "metadata": {},
   "outputs": [],
   "source": []
  }
 ],
 "metadata": {
  "kernelspec": {
   "display_name": "Python 3",
   "language": "python",
   "name": "python3"
  },
  "language_info": {
   "codemirror_mode": {
    "name": "ipython",
    "version": 3
   },
   "file_extension": ".py",
   "mimetype": "text/x-python",
   "name": "python",
   "nbconvert_exporter": "python",
   "pygments_lexer": "ipython3",
   "version": "3.7.5"
  },
  "widgets": {
   "application/vnd.jupyter.widget-state+json": {
    "state": {
     "04ae31df302c49da8bc1770c0ab6e4f9": {
      "model_module": "@jupyter-widgets/controls",
      "model_module_version": "1.5.0",
      "model_name": "HBoxModel",
      "state": {
       "_dom_classes": [],
       "_model_module": "@jupyter-widgets/controls",
       "_model_module_version": "1.5.0",
       "_model_name": "HBoxModel",
       "_view_count": null,
       "_view_module": "@jupyter-widgets/controls",
       "_view_module_version": "1.5.0",
       "_view_name": "HBoxView",
       "box_style": "",
       "children": [
        "IPY_MODEL_3900f47b2de043d2afb9223dee8ef9a6",
        "IPY_MODEL_80fe2b7aa4dd417b8f7056c2d04510c9"
       ],
       "layout": "IPY_MODEL_81df73d83ada42cc8142b68016600a22"
      }
     },
     "2d65de632de444d981cc9caeeb7c4007": {
      "model_module": "@jupyter-widgets/controls",
      "model_module_version": "1.5.0",
      "model_name": "DescriptionStyleModel",
      "state": {
       "_model_module": "@jupyter-widgets/controls",
       "_model_module_version": "1.5.0",
       "_model_name": "DescriptionStyleModel",
       "_view_count": null,
       "_view_module": "@jupyter-widgets/base",
       "_view_module_version": "1.2.0",
       "_view_name": "StyleView",
       "description_width": ""
      }
     },
     "3900f47b2de043d2afb9223dee8ef9a6": {
      "model_module": "@jupyter-widgets/controls",
      "model_module_version": "1.5.0",
      "model_name": "FloatProgressModel",
      "state": {
       "_dom_classes": [],
       "_model_module": "@jupyter-widgets/controls",
       "_model_module_version": "1.5.0",
       "_model_name": "FloatProgressModel",
       "_view_count": null,
       "_view_module": "@jupyter-widgets/controls",
       "_view_module_version": "1.5.0",
       "_view_name": "ProgressView",
       "bar_style": "success",
       "description": "100%",
       "description_tooltip": null,
       "layout": "IPY_MODEL_9899ecd2cf174d58b611225d8539a18f",
       "max": 3,
       "min": 0,
       "orientation": "horizontal",
       "style": "IPY_MODEL_e7fffbf620e94fbc92d72263a0191d19",
       "value": 3
      }
     },
     "55f7a5ade6594e3586db76fe72a705a0": {
      "model_module": "@jupyter-widgets/controls",
      "model_module_version": "1.5.0",
      "model_name": "HTMLModel",
      "state": {
       "_dom_classes": [],
       "_model_module": "@jupyter-widgets/controls",
       "_model_module_version": "1.5.0",
       "_model_name": "HTMLModel",
       "_view_count": null,
       "_view_module": "@jupyter-widgets/controls",
       "_view_module_version": "1.5.0",
       "_view_name": "HTMLView",
       "description": "",
       "description_tooltip": null,
       "layout": "IPY_MODEL_bcf9835c44c24b8e91244093e44390a6",
       "placeholder": "​",
       "style": "IPY_MODEL_2d65de632de444d981cc9caeeb7c4007",
       "value": " 3/3 [3:16:22&lt;00:00, 3927.55s/it]"
      }
     },
     "80fe2b7aa4dd417b8f7056c2d04510c9": {
      "model_module": "@jupyter-widgets/controls",
      "model_module_version": "1.5.0",
      "model_name": "HTMLModel",
      "state": {
       "_dom_classes": [],
       "_model_module": "@jupyter-widgets/controls",
       "_model_module_version": "1.5.0",
       "_model_name": "HTMLModel",
       "_view_count": null,
       "_view_module": "@jupyter-widgets/controls",
       "_view_module_version": "1.5.0",
       "_view_name": "HTMLView",
       "description": "",
       "description_tooltip": null,
       "layout": "IPY_MODEL_f8728d5b5b05474abc237a5d6e7c9571",
       "placeholder": "​",
       "style": "IPY_MODEL_9284588049f44457a2da2ed959b763ce",
       "value": " 3/3 [3:25:01&lt;00:00, 4100.41s/it]"
      }
     },
     "81df73d83ada42cc8142b68016600a22": {
      "model_module": "@jupyter-widgets/base",
      "model_module_version": "1.2.0",
      "model_name": "LayoutModel",
      "state": {
       "_model_module": "@jupyter-widgets/base",
       "_model_module_version": "1.2.0",
       "_model_name": "LayoutModel",
       "_view_count": null,
       "_view_module": "@jupyter-widgets/base",
       "_view_module_version": "1.2.0",
       "_view_name": "LayoutView",
       "align_content": null,
       "align_items": null,
       "align_self": null,
       "border": null,
       "bottom": null,
       "display": null,
       "flex": null,
       "flex_flow": null,
       "grid_area": null,
       "grid_auto_columns": null,
       "grid_auto_flow": null,
       "grid_auto_rows": null,
       "grid_column": null,
       "grid_gap": null,
       "grid_row": null,
       "grid_template_areas": null,
       "grid_template_columns": null,
       "grid_template_rows": null,
       "height": null,
       "justify_content": null,
       "justify_items": null,
       "left": null,
       "margin": null,
       "max_height": null,
       "max_width": null,
       "min_height": null,
       "min_width": null,
       "object_fit": null,
       "object_position": null,
       "order": null,
       "overflow": null,
       "overflow_x": null,
       "overflow_y": null,
       "padding": null,
       "right": null,
       "top": null,
       "visibility": null,
       "width": null
      }
     },
     "9284588049f44457a2da2ed959b763ce": {
      "model_module": "@jupyter-widgets/controls",
      "model_module_version": "1.5.0",
      "model_name": "DescriptionStyleModel",
      "state": {
       "_model_module": "@jupyter-widgets/controls",
       "_model_module_version": "1.5.0",
       "_model_name": "DescriptionStyleModel",
       "_view_count": null,
       "_view_module": "@jupyter-widgets/base",
       "_view_module_version": "1.2.0",
       "_view_name": "StyleView",
       "description_width": ""
      }
     },
     "9899ecd2cf174d58b611225d8539a18f": {
      "model_module": "@jupyter-widgets/base",
      "model_module_version": "1.2.0",
      "model_name": "LayoutModel",
      "state": {
       "_model_module": "@jupyter-widgets/base",
       "_model_module_version": "1.2.0",
       "_model_name": "LayoutModel",
       "_view_count": null,
       "_view_module": "@jupyter-widgets/base",
       "_view_module_version": "1.2.0",
       "_view_name": "LayoutView",
       "align_content": null,
       "align_items": null,
       "align_self": null,
       "border": null,
       "bottom": null,
       "display": null,
       "flex": null,
       "flex_flow": null,
       "grid_area": null,
       "grid_auto_columns": null,
       "grid_auto_flow": null,
       "grid_auto_rows": null,
       "grid_column": null,
       "grid_gap": null,
       "grid_row": null,
       "grid_template_areas": null,
       "grid_template_columns": null,
       "grid_template_rows": null,
       "height": null,
       "justify_content": null,
       "justify_items": null,
       "left": null,
       "margin": null,
       "max_height": null,
       "max_width": null,
       "min_height": null,
       "min_width": null,
       "object_fit": null,
       "object_position": null,
       "order": null,
       "overflow": null,
       "overflow_x": null,
       "overflow_y": null,
       "padding": null,
       "right": null,
       "top": null,
       "visibility": null,
       "width": null
      }
     },
     "af3aa68261544a07893981820ddac44f": {
      "model_module": "@jupyter-widgets/controls",
      "model_module_version": "1.5.0",
      "model_name": "ProgressStyleModel",
      "state": {
       "_model_module": "@jupyter-widgets/controls",
       "_model_module_version": "1.5.0",
       "_model_name": "ProgressStyleModel",
       "_view_count": null,
       "_view_module": "@jupyter-widgets/base",
       "_view_module_version": "1.2.0",
       "_view_name": "StyleView",
       "bar_color": null,
       "description_width": "initial"
      }
     },
     "b7feaab3a59d46949862e422ccdf5eef": {
      "model_module": "@jupyter-widgets/base",
      "model_module_version": "1.2.0",
      "model_name": "LayoutModel",
      "state": {
       "_model_module": "@jupyter-widgets/base",
       "_model_module_version": "1.2.0",
       "_model_name": "LayoutModel",
       "_view_count": null,
       "_view_module": "@jupyter-widgets/base",
       "_view_module_version": "1.2.0",
       "_view_name": "LayoutView",
       "align_content": null,
       "align_items": null,
       "align_self": null,
       "border": null,
       "bottom": null,
       "display": null,
       "flex": null,
       "flex_flow": null,
       "grid_area": null,
       "grid_auto_columns": null,
       "grid_auto_flow": null,
       "grid_auto_rows": null,
       "grid_column": null,
       "grid_gap": null,
       "grid_row": null,
       "grid_template_areas": null,
       "grid_template_columns": null,
       "grid_template_rows": null,
       "height": null,
       "justify_content": null,
       "justify_items": null,
       "left": null,
       "margin": null,
       "max_height": null,
       "max_width": null,
       "min_height": null,
       "min_width": null,
       "object_fit": null,
       "object_position": null,
       "order": null,
       "overflow": null,
       "overflow_x": null,
       "overflow_y": null,
       "padding": null,
       "right": null,
       "top": null,
       "visibility": null,
       "width": null
      }
     },
     "bcf9835c44c24b8e91244093e44390a6": {
      "model_module": "@jupyter-widgets/base",
      "model_module_version": "1.2.0",
      "model_name": "LayoutModel",
      "state": {
       "_model_module": "@jupyter-widgets/base",
       "_model_module_version": "1.2.0",
       "_model_name": "LayoutModel",
       "_view_count": null,
       "_view_module": "@jupyter-widgets/base",
       "_view_module_version": "1.2.0",
       "_view_name": "LayoutView",
       "align_content": null,
       "align_items": null,
       "align_self": null,
       "border": null,
       "bottom": null,
       "display": null,
       "flex": null,
       "flex_flow": null,
       "grid_area": null,
       "grid_auto_columns": null,
       "grid_auto_flow": null,
       "grid_auto_rows": null,
       "grid_column": null,
       "grid_gap": null,
       "grid_row": null,
       "grid_template_areas": null,
       "grid_template_columns": null,
       "grid_template_rows": null,
       "height": null,
       "justify_content": null,
       "justify_items": null,
       "left": null,
       "margin": null,
       "max_height": null,
       "max_width": null,
       "min_height": null,
       "min_width": null,
       "object_fit": null,
       "object_position": null,
       "order": null,
       "overflow": null,
       "overflow_x": null,
       "overflow_y": null,
       "padding": null,
       "right": null,
       "top": null,
       "visibility": null,
       "width": null
      }
     },
     "c54eeb13b1984ae39db91ca12f922ec5": {
      "model_module": "@jupyter-widgets/controls",
      "model_module_version": "1.5.0",
      "model_name": "HBoxModel",
      "state": {
       "_dom_classes": [],
       "_model_module": "@jupyter-widgets/controls",
       "_model_module_version": "1.5.0",
       "_model_name": "HBoxModel",
       "_view_count": null,
       "_view_module": "@jupyter-widgets/controls",
       "_view_module_version": "1.5.0",
       "_view_name": "HBoxView",
       "box_style": "",
       "children": [
        "IPY_MODEL_fb13a33151844ed7ae3289eeb0ed6079",
        "IPY_MODEL_55f7a5ade6594e3586db76fe72a705a0"
       ],
       "layout": "IPY_MODEL_fb206238ea634fc29e26bd5ec8afed85"
      }
     },
     "e7fffbf620e94fbc92d72263a0191d19": {
      "model_module": "@jupyter-widgets/controls",
      "model_module_version": "1.5.0",
      "model_name": "ProgressStyleModel",
      "state": {
       "_model_module": "@jupyter-widgets/controls",
       "_model_module_version": "1.5.0",
       "_model_name": "ProgressStyleModel",
       "_view_count": null,
       "_view_module": "@jupyter-widgets/base",
       "_view_module_version": "1.2.0",
       "_view_name": "StyleView",
       "bar_color": null,
       "description_width": "initial"
      }
     },
     "f8728d5b5b05474abc237a5d6e7c9571": {
      "model_module": "@jupyter-widgets/base",
      "model_module_version": "1.2.0",
      "model_name": "LayoutModel",
      "state": {
       "_model_module": "@jupyter-widgets/base",
       "_model_module_version": "1.2.0",
       "_model_name": "LayoutModel",
       "_view_count": null,
       "_view_module": "@jupyter-widgets/base",
       "_view_module_version": "1.2.0",
       "_view_name": "LayoutView",
       "align_content": null,
       "align_items": null,
       "align_self": null,
       "border": null,
       "bottom": null,
       "display": null,
       "flex": null,
       "flex_flow": null,
       "grid_area": null,
       "grid_auto_columns": null,
       "grid_auto_flow": null,
       "grid_auto_rows": null,
       "grid_column": null,
       "grid_gap": null,
       "grid_row": null,
       "grid_template_areas": null,
       "grid_template_columns": null,
       "grid_template_rows": null,
       "height": null,
       "justify_content": null,
       "justify_items": null,
       "left": null,
       "margin": null,
       "max_height": null,
       "max_width": null,
       "min_height": null,
       "min_width": null,
       "object_fit": null,
       "object_position": null,
       "order": null,
       "overflow": null,
       "overflow_x": null,
       "overflow_y": null,
       "padding": null,
       "right": null,
       "top": null,
       "visibility": null,
       "width": null
      }
     },
     "fb13a33151844ed7ae3289eeb0ed6079": {
      "model_module": "@jupyter-widgets/controls",
      "model_module_version": "1.5.0",
      "model_name": "FloatProgressModel",
      "state": {
       "_dom_classes": [],
       "_model_module": "@jupyter-widgets/controls",
       "_model_module_version": "1.5.0",
       "_model_name": "FloatProgressModel",
       "_view_count": null,
       "_view_module": "@jupyter-widgets/controls",
       "_view_module_version": "1.5.0",
       "_view_name": "ProgressView",
       "bar_style": "success",
       "description": "100%",
       "description_tooltip": null,
       "layout": "IPY_MODEL_b7feaab3a59d46949862e422ccdf5eef",
       "max": 3,
       "min": 0,
       "orientation": "horizontal",
       "style": "IPY_MODEL_af3aa68261544a07893981820ddac44f",
       "value": 3
      }
     },
     "fb206238ea634fc29e26bd5ec8afed85": {
      "model_module": "@jupyter-widgets/base",
      "model_module_version": "1.2.0",
      "model_name": "LayoutModel",
      "state": {
       "_model_module": "@jupyter-widgets/base",
       "_model_module_version": "1.2.0",
       "_model_name": "LayoutModel",
       "_view_count": null,
       "_view_module": "@jupyter-widgets/base",
       "_view_module_version": "1.2.0",
       "_view_name": "LayoutView",
       "align_content": null,
       "align_items": null,
       "align_self": null,
       "border": null,
       "bottom": null,
       "display": null,
       "flex": null,
       "flex_flow": null,
       "grid_area": null,
       "grid_auto_columns": null,
       "grid_auto_flow": null,
       "grid_auto_rows": null,
       "grid_column": null,
       "grid_gap": null,
       "grid_row": null,
       "grid_template_areas": null,
       "grid_template_columns": null,
       "grid_template_rows": null,
       "height": null,
       "justify_content": null,
       "justify_items": null,
       "left": null,
       "margin": null,
       "max_height": null,
       "max_width": null,
       "min_height": null,
       "min_width": null,
       "object_fit": null,
       "object_position": null,
       "order": null,
       "overflow": null,
       "overflow_x": null,
       "overflow_y": null,
       "padding": null,
       "right": null,
       "top": null,
       "visibility": null,
       "width": null
      }
     }
    },
    "version_major": 2,
    "version_minor": 0
   }
  }
 },
 "nbformat": 4,
 "nbformat_minor": 4
}
