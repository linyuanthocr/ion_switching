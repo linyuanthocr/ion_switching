{
  "nbformat": 4,
  "nbformat_minor": 0,
  "metadata": {
    "colab": {
      "name": "wavenetmulti.ipynb",
      "provenance": [],
      "collapsed_sections": []
    },
    "kernelspec": {
      "name": "python3",
      "display_name": "Python 3"
    },
    "language_info": {
      "codemirror_mode": {
        "name": "ipython",
        "version": 3
      },
      "file_extension": ".py",
      "mimetype": "text/x-python",
      "name": "python",
      "nbconvert_exporter": "python",
      "pygments_lexer": "ipython3",
      "version": "3.7.5"
    },
    "accelerator": "GPU",
    "widgets": {
      "application/vnd.jupyter.widget-state+json": {
        "24102620df504534b4da4d8d3b2492fa": {
          "model_module": "@jupyter-widgets/controls",
          "model_name": "HBoxModel",
          "state": {
            "_view_name": "HBoxView",
            "_dom_classes": [],
            "_model_name": "HBoxModel",
            "_view_module": "@jupyter-widgets/controls",
            "_model_module_version": "1.5.0",
            "_view_count": null,
            "_view_module_version": "1.5.0",
            "box_style": "",
            "layout": "IPY_MODEL_a5d1058662ae46e781e20a3cdde5448d",
            "_model_module": "@jupyter-widgets/controls",
            "children": [
              "IPY_MODEL_927e40eb95ea4c32a0991c4125fb322c",
              "IPY_MODEL_02b94591d5e64cc68fa9d44922f21574"
            ]
          }
        },
        "a5d1058662ae46e781e20a3cdde5448d": {
          "model_module": "@jupyter-widgets/base",
          "model_name": "LayoutModel",
          "state": {
            "_view_name": "LayoutView",
            "grid_template_rows": null,
            "right": null,
            "justify_content": null,
            "_view_module": "@jupyter-widgets/base",
            "overflow": null,
            "_model_module_version": "1.2.0",
            "_view_count": null,
            "flex_flow": "row wrap",
            "width": "100%",
            "min_width": null,
            "border": null,
            "align_items": null,
            "bottom": null,
            "_model_module": "@jupyter-widgets/base",
            "top": null,
            "grid_column": null,
            "overflow_y": null,
            "overflow_x": null,
            "grid_auto_flow": null,
            "grid_area": null,
            "grid_template_columns": null,
            "flex": null,
            "_model_name": "LayoutModel",
            "justify_items": null,
            "grid_row": null,
            "max_height": null,
            "align_content": null,
            "visibility": null,
            "align_self": null,
            "height": null,
            "min_height": null,
            "padding": null,
            "grid_auto_rows": null,
            "grid_gap": null,
            "max_width": null,
            "order": null,
            "_view_module_version": "1.2.0",
            "grid_template_areas": null,
            "object_position": null,
            "object_fit": null,
            "grid_auto_columns": null,
            "margin": null,
            "display": "inline-flex",
            "left": null
          }
        },
        "927e40eb95ea4c32a0991c4125fb322c": {
          "model_module": "@jupyter-widgets/controls",
          "model_name": "FloatProgressModel",
          "state": {
            "_view_name": "ProgressView",
            "style": "IPY_MODEL_587397514ee74575b64013c9f0e54769",
            "_dom_classes": [],
            "description": "Training: 100%",
            "_model_name": "FloatProgressModel",
            "bar_style": "",
            "max": 180,
            "_view_module": "@jupyter-widgets/controls",
            "_model_module_version": "1.5.0",
            "value": 180,
            "_view_count": null,
            "_view_module_version": "1.5.0",
            "orientation": "horizontal",
            "min": 0,
            "description_tooltip": null,
            "_model_module": "@jupyter-widgets/controls",
            "layout": "IPY_MODEL_d2e0aaae1a8e45b7a5436a633a4d2127"
          }
        },
        "02b94591d5e64cc68fa9d44922f21574": {
          "model_module": "@jupyter-widgets/controls",
          "model_name": "HTMLModel",
          "state": {
            "_view_name": "HTMLView",
            "style": "IPY_MODEL_278579e0a53a48d2a0ee139dd9b83c67",
            "_dom_classes": [],
            "description": "",
            "_model_name": "HTMLModel",
            "placeholder": "​",
            "_view_module": "@jupyter-widgets/controls",
            "_model_module_version": "1.5.0",
            "value": " 180/180 ETA: 00:00s,  34.88s/epochs",
            "_view_count": null,
            "_view_module_version": "1.5.0",
            "description_tooltip": null,
            "_model_module": "@jupyter-widgets/controls",
            "layout": "IPY_MODEL_d13d98a7d753428d84b881406ba7f783"
          }
        },
        "587397514ee74575b64013c9f0e54769": {
          "model_module": "@jupyter-widgets/controls",
          "model_name": "ProgressStyleModel",
          "state": {
            "_view_name": "StyleView",
            "_model_name": "ProgressStyleModel",
            "description_width": "initial",
            "_view_module": "@jupyter-widgets/base",
            "_model_module_version": "1.5.0",
            "_view_count": null,
            "_view_module_version": "1.2.0",
            "bar_color": null,
            "_model_module": "@jupyter-widgets/controls"
          }
        },
        "d2e0aaae1a8e45b7a5436a633a4d2127": {
          "model_module": "@jupyter-widgets/base",
          "model_name": "LayoutModel",
          "state": {
            "_view_name": "LayoutView",
            "grid_template_rows": null,
            "right": null,
            "justify_content": null,
            "_view_module": "@jupyter-widgets/base",
            "overflow": null,
            "_model_module_version": "1.2.0",
            "_view_count": null,
            "flex_flow": null,
            "width": null,
            "min_width": null,
            "border": null,
            "align_items": null,
            "bottom": null,
            "_model_module": "@jupyter-widgets/base",
            "top": null,
            "grid_column": null,
            "overflow_y": null,
            "overflow_x": null,
            "grid_auto_flow": null,
            "grid_area": null,
            "grid_template_columns": null,
            "flex": "2",
            "_model_name": "LayoutModel",
            "justify_items": null,
            "grid_row": null,
            "max_height": null,
            "align_content": null,
            "visibility": null,
            "align_self": null,
            "height": null,
            "min_height": null,
            "padding": null,
            "grid_auto_rows": null,
            "grid_gap": null,
            "max_width": null,
            "order": null,
            "_view_module_version": "1.2.0",
            "grid_template_areas": null,
            "object_position": null,
            "object_fit": null,
            "grid_auto_columns": null,
            "margin": null,
            "display": null,
            "left": null
          }
        },
        "278579e0a53a48d2a0ee139dd9b83c67": {
          "model_module": "@jupyter-widgets/controls",
          "model_name": "DescriptionStyleModel",
          "state": {
            "_view_name": "StyleView",
            "_model_name": "DescriptionStyleModel",
            "description_width": "",
            "_view_module": "@jupyter-widgets/base",
            "_model_module_version": "1.5.0",
            "_view_count": null,
            "_view_module_version": "1.2.0",
            "_model_module": "@jupyter-widgets/controls"
          }
        },
        "d13d98a7d753428d84b881406ba7f783": {
          "model_module": "@jupyter-widgets/base",
          "model_name": "LayoutModel",
          "state": {
            "_view_name": "LayoutView",
            "grid_template_rows": null,
            "right": null,
            "justify_content": null,
            "_view_module": "@jupyter-widgets/base",
            "overflow": null,
            "_model_module_version": "1.2.0",
            "_view_count": null,
            "flex_flow": null,
            "width": null,
            "min_width": null,
            "border": null,
            "align_items": null,
            "bottom": null,
            "_model_module": "@jupyter-widgets/base",
            "top": null,
            "grid_column": null,
            "overflow_y": null,
            "overflow_x": null,
            "grid_auto_flow": null,
            "grid_area": null,
            "grid_template_columns": null,
            "flex": null,
            "_model_name": "LayoutModel",
            "justify_items": null,
            "grid_row": null,
            "max_height": null,
            "align_content": null,
            "visibility": null,
            "align_self": null,
            "height": null,
            "min_height": null,
            "padding": null,
            "grid_auto_rows": null,
            "grid_gap": null,
            "max_width": null,
            "order": null,
            "_view_module_version": "1.2.0",
            "grid_template_areas": null,
            "object_position": null,
            "object_fit": null,
            "grid_auto_columns": null,
            "margin": null,
            "display": null,
            "left": null
          }
        },
        "8748397ed4b94eb8bf2c5122cf510a80": {
          "model_module": "@jupyter-widgets/controls",
          "model_name": "HBoxModel",
          "state": {
            "_view_name": "HBoxView",
            "_dom_classes": [],
            "_model_name": "HBoxModel",
            "_view_module": "@jupyter-widgets/controls",
            "_model_module_version": "1.5.0",
            "_view_count": null,
            "_view_module_version": "1.5.0",
            "box_style": "",
            "layout": "IPY_MODEL_0db931692f9c4ecdbf570ef5e9f5830d",
            "_model_module": "@jupyter-widgets/controls",
            "children": [
              "IPY_MODEL_4bf4237ded1c4593935b17de6b42470b",
              "IPY_MODEL_b689eefcfa7f4b7498f77119fae74814"
            ]
          }
        },
        "0db931692f9c4ecdbf570ef5e9f5830d": {
          "model_module": "@jupyter-widgets/base",
          "model_name": "LayoutModel",
          "state": {
            "_view_name": "LayoutView",
            "grid_template_rows": null,
            "right": null,
            "justify_content": null,
            "_view_module": "@jupyter-widgets/base",
            "overflow": null,
            "_model_module_version": "1.2.0",
            "_view_count": null,
            "flex_flow": "row wrap",
            "width": "100%",
            "min_width": null,
            "border": null,
            "align_items": null,
            "bottom": null,
            "_model_module": "@jupyter-widgets/base",
            "top": null,
            "grid_column": null,
            "overflow_y": null,
            "overflow_x": null,
            "grid_auto_flow": null,
            "grid_area": null,
            "grid_template_columns": null,
            "flex": null,
            "_model_name": "LayoutModel",
            "justify_items": null,
            "grid_row": null,
            "max_height": null,
            "align_content": null,
            "visibility": null,
            "align_self": null,
            "height": null,
            "min_height": null,
            "padding": null,
            "grid_auto_rows": null,
            "grid_gap": null,
            "max_width": null,
            "order": null,
            "_view_module_version": "1.2.0",
            "grid_template_areas": null,
            "object_position": null,
            "object_fit": null,
            "grid_auto_columns": null,
            "margin": null,
            "display": "inline-flex",
            "left": null
          }
        },
        "4bf4237ded1c4593935b17de6b42470b": {
          "model_module": "@jupyter-widgets/controls",
          "model_name": "FloatProgressModel",
          "state": {
            "_view_name": "ProgressView",
            "style": "IPY_MODEL_4d795001232c4dccab08411bf6e14177",
            "_dom_classes": [],
            "description": "Training: 100%",
            "_model_name": "FloatProgressModel",
            "bar_style": "",
            "max": 180,
            "_view_module": "@jupyter-widgets/controls",
            "_model_module_version": "1.5.0",
            "value": 180,
            "_view_count": null,
            "_view_module_version": "1.5.0",
            "orientation": "horizontal",
            "min": 0,
            "description_tooltip": null,
            "_model_module": "@jupyter-widgets/controls",
            "layout": "IPY_MODEL_05b74a342b3d487e80d9281661cac28c"
          }
        },
        "b689eefcfa7f4b7498f77119fae74814": {
          "model_module": "@jupyter-widgets/controls",
          "model_name": "HTMLModel",
          "state": {
            "_view_name": "HTMLView",
            "style": "IPY_MODEL_4990b11023a04ad6baae2ceb76080e68",
            "_dom_classes": [],
            "description": "",
            "_model_name": "HTMLModel",
            "placeholder": "​",
            "_view_module": "@jupyter-widgets/controls",
            "_model_module_version": "1.5.0",
            "value": " 180/180 ETA: 00:00s,  34.75s/epochs",
            "_view_count": null,
            "_view_module_version": "1.5.0",
            "description_tooltip": null,
            "_model_module": "@jupyter-widgets/controls",
            "layout": "IPY_MODEL_a3732d6993734f41aca29efe46b45cda"
          }
        },
        "4d795001232c4dccab08411bf6e14177": {
          "model_module": "@jupyter-widgets/controls",
          "model_name": "ProgressStyleModel",
          "state": {
            "_view_name": "StyleView",
            "_model_name": "ProgressStyleModel",
            "description_width": "initial",
            "_view_module": "@jupyter-widgets/base",
            "_model_module_version": "1.5.0",
            "_view_count": null,
            "_view_module_version": "1.2.0",
            "bar_color": null,
            "_model_module": "@jupyter-widgets/controls"
          }
        },
        "05b74a342b3d487e80d9281661cac28c": {
          "model_module": "@jupyter-widgets/base",
          "model_name": "LayoutModel",
          "state": {
            "_view_name": "LayoutView",
            "grid_template_rows": null,
            "right": null,
            "justify_content": null,
            "_view_module": "@jupyter-widgets/base",
            "overflow": null,
            "_model_module_version": "1.2.0",
            "_view_count": null,
            "flex_flow": null,
            "width": null,
            "min_width": null,
            "border": null,
            "align_items": null,
            "bottom": null,
            "_model_module": "@jupyter-widgets/base",
            "top": null,
            "grid_column": null,
            "overflow_y": null,
            "overflow_x": null,
            "grid_auto_flow": null,
            "grid_area": null,
            "grid_template_columns": null,
            "flex": "2",
            "_model_name": "LayoutModel",
            "justify_items": null,
            "grid_row": null,
            "max_height": null,
            "align_content": null,
            "visibility": null,
            "align_self": null,
            "height": null,
            "min_height": null,
            "padding": null,
            "grid_auto_rows": null,
            "grid_gap": null,
            "max_width": null,
            "order": null,
            "_view_module_version": "1.2.0",
            "grid_template_areas": null,
            "object_position": null,
            "object_fit": null,
            "grid_auto_columns": null,
            "margin": null,
            "display": null,
            "left": null
          }
        },
        "4990b11023a04ad6baae2ceb76080e68": {
          "model_module": "@jupyter-widgets/controls",
          "model_name": "DescriptionStyleModel",
          "state": {
            "_view_name": "StyleView",
            "_model_name": "DescriptionStyleModel",
            "description_width": "",
            "_view_module": "@jupyter-widgets/base",
            "_model_module_version": "1.5.0",
            "_view_count": null,
            "_view_module_version": "1.2.0",
            "_model_module": "@jupyter-widgets/controls"
          }
        },
        "a3732d6993734f41aca29efe46b45cda": {
          "model_module": "@jupyter-widgets/base",
          "model_name": "LayoutModel",
          "state": {
            "_view_name": "LayoutView",
            "grid_template_rows": null,
            "right": null,
            "justify_content": null,
            "_view_module": "@jupyter-widgets/base",
            "overflow": null,
            "_model_module_version": "1.2.0",
            "_view_count": null,
            "flex_flow": null,
            "width": null,
            "min_width": null,
            "border": null,
            "align_items": null,
            "bottom": null,
            "_model_module": "@jupyter-widgets/base",
            "top": null,
            "grid_column": null,
            "overflow_y": null,
            "overflow_x": null,
            "grid_auto_flow": null,
            "grid_area": null,
            "grid_template_columns": null,
            "flex": null,
            "_model_name": "LayoutModel",
            "justify_items": null,
            "grid_row": null,
            "max_height": null,
            "align_content": null,
            "visibility": null,
            "align_self": null,
            "height": null,
            "min_height": null,
            "padding": null,
            "grid_auto_rows": null,
            "grid_gap": null,
            "max_width": null,
            "order": null,
            "_view_module_version": "1.2.0",
            "grid_template_areas": null,
            "object_position": null,
            "object_fit": null,
            "grid_auto_columns": null,
            "margin": null,
            "display": null,
            "left": null
          }
        },
        "7b1c9b7401d44b15b6c43ebfa7a0f672": {
          "model_module": "@jupyter-widgets/controls",
          "model_name": "HBoxModel",
          "state": {
            "_view_name": "HBoxView",
            "_dom_classes": [],
            "_model_name": "HBoxModel",
            "_view_module": "@jupyter-widgets/controls",
            "_model_module_version": "1.5.0",
            "_view_count": null,
            "_view_module_version": "1.5.0",
            "box_style": "",
            "layout": "IPY_MODEL_2ea34659e54a4b719921e9215f8cbd81",
            "_model_module": "@jupyter-widgets/controls",
            "children": [
              "IPY_MODEL_55836c5cf64d452a9235739797f49de7",
              "IPY_MODEL_9545eef45e4e4f6f9132ec59fbd37059"
            ]
          }
        },
        "2ea34659e54a4b719921e9215f8cbd81": {
          "model_module": "@jupyter-widgets/base",
          "model_name": "LayoutModel",
          "state": {
            "_view_name": "LayoutView",
            "grid_template_rows": null,
            "right": null,
            "justify_content": null,
            "_view_module": "@jupyter-widgets/base",
            "overflow": null,
            "_model_module_version": "1.2.0",
            "_view_count": null,
            "flex_flow": "row wrap",
            "width": "100%",
            "min_width": null,
            "border": null,
            "align_items": null,
            "bottom": null,
            "_model_module": "@jupyter-widgets/base",
            "top": null,
            "grid_column": null,
            "overflow_y": null,
            "overflow_x": null,
            "grid_auto_flow": null,
            "grid_area": null,
            "grid_template_columns": null,
            "flex": null,
            "_model_name": "LayoutModel",
            "justify_items": null,
            "grid_row": null,
            "max_height": null,
            "align_content": null,
            "visibility": null,
            "align_self": null,
            "height": null,
            "min_height": null,
            "padding": null,
            "grid_auto_rows": null,
            "grid_gap": null,
            "max_width": null,
            "order": null,
            "_view_module_version": "1.2.0",
            "grid_template_areas": null,
            "object_position": null,
            "object_fit": null,
            "grid_auto_columns": null,
            "margin": null,
            "display": "inline-flex",
            "left": null
          }
        },
        "55836c5cf64d452a9235739797f49de7": {
          "model_module": "@jupyter-widgets/controls",
          "model_name": "FloatProgressModel",
          "state": {
            "_view_name": "ProgressView",
            "style": "IPY_MODEL_cfc36b4f3e244d85b87ace828483dd7b",
            "_dom_classes": [],
            "description": "Training:  90%",
            "_model_name": "FloatProgressModel",
            "bar_style": "danger",
            "max": 180,
            "_view_module": "@jupyter-widgets/controls",
            "_model_module_version": "1.5.0",
            "value": 162,
            "_view_count": null,
            "_view_module_version": "1.5.0",
            "orientation": "horizontal",
            "min": 0,
            "description_tooltip": null,
            "_model_module": "@jupyter-widgets/controls",
            "layout": "IPY_MODEL_f0f8f0e788f043e3b68bdb7ce3851674"
          }
        },
        "9545eef45e4e4f6f9132ec59fbd37059": {
          "model_module": "@jupyter-widgets/controls",
          "model_name": "HTMLModel",
          "state": {
            "_view_name": "HTMLView",
            "style": "IPY_MODEL_d894164eb5784154932876d77f27ce1e",
            "_dom_classes": [],
            "description": "",
            "_model_name": "HTMLModel",
            "placeholder": "​",
            "_view_module": "@jupyter-widgets/controls",
            "_model_module_version": "1.5.0",
            "value": " 162/180 ETA: 10:23s,  34.64s/epochs",
            "_view_count": null,
            "_view_module_version": "1.5.0",
            "description_tooltip": null,
            "_model_module": "@jupyter-widgets/controls",
            "layout": "IPY_MODEL_f811e5e8f91c499cbcd64e7569d627e7"
          }
        },
        "cfc36b4f3e244d85b87ace828483dd7b": {
          "model_module": "@jupyter-widgets/controls",
          "model_name": "ProgressStyleModel",
          "state": {
            "_view_name": "StyleView",
            "_model_name": "ProgressStyleModel",
            "description_width": "initial",
            "_view_module": "@jupyter-widgets/base",
            "_model_module_version": "1.5.0",
            "_view_count": null,
            "_view_module_version": "1.2.0",
            "bar_color": null,
            "_model_module": "@jupyter-widgets/controls"
          }
        },
        "f0f8f0e788f043e3b68bdb7ce3851674": {
          "model_module": "@jupyter-widgets/base",
          "model_name": "LayoutModel",
          "state": {
            "_view_name": "LayoutView",
            "grid_template_rows": null,
            "right": null,
            "justify_content": null,
            "_view_module": "@jupyter-widgets/base",
            "overflow": null,
            "_model_module_version": "1.2.0",
            "_view_count": null,
            "flex_flow": null,
            "width": null,
            "min_width": null,
            "border": null,
            "align_items": null,
            "bottom": null,
            "_model_module": "@jupyter-widgets/base",
            "top": null,
            "grid_column": null,
            "overflow_y": null,
            "overflow_x": null,
            "grid_auto_flow": null,
            "grid_area": null,
            "grid_template_columns": null,
            "flex": "2",
            "_model_name": "LayoutModel",
            "justify_items": null,
            "grid_row": null,
            "max_height": null,
            "align_content": null,
            "visibility": null,
            "align_self": null,
            "height": null,
            "min_height": null,
            "padding": null,
            "grid_auto_rows": null,
            "grid_gap": null,
            "max_width": null,
            "order": null,
            "_view_module_version": "1.2.0",
            "grid_template_areas": null,
            "object_position": null,
            "object_fit": null,
            "grid_auto_columns": null,
            "margin": null,
            "display": null,
            "left": null
          }
        },
        "d894164eb5784154932876d77f27ce1e": {
          "model_module": "@jupyter-widgets/controls",
          "model_name": "DescriptionStyleModel",
          "state": {
            "_view_name": "StyleView",
            "_model_name": "DescriptionStyleModel",
            "description_width": "",
            "_view_module": "@jupyter-widgets/base",
            "_model_module_version": "1.5.0",
            "_view_count": null,
            "_view_module_version": "1.2.0",
            "_model_module": "@jupyter-widgets/controls"
          }
        },
        "f811e5e8f91c499cbcd64e7569d627e7": {
          "model_module": "@jupyter-widgets/base",
          "model_name": "LayoutModel",
          "state": {
            "_view_name": "LayoutView",
            "grid_template_rows": null,
            "right": null,
            "justify_content": null,
            "_view_module": "@jupyter-widgets/base",
            "overflow": null,
            "_model_module_version": "1.2.0",
            "_view_count": null,
            "flex_flow": null,
            "width": null,
            "min_width": null,
            "border": null,
            "align_items": null,
            "bottom": null,
            "_model_module": "@jupyter-widgets/base",
            "top": null,
            "grid_column": null,
            "overflow_y": null,
            "overflow_x": null,
            "grid_auto_flow": null,
            "grid_area": null,
            "grid_template_columns": null,
            "flex": null,
            "_model_name": "LayoutModel",
            "justify_items": null,
            "grid_row": null,
            "max_height": null,
            "align_content": null,
            "visibility": null,
            "align_self": null,
            "height": null,
            "min_height": null,
            "padding": null,
            "grid_auto_rows": null,
            "grid_gap": null,
            "max_width": null,
            "order": null,
            "_view_module_version": "1.2.0",
            "grid_template_areas": null,
            "object_position": null,
            "object_fit": null,
            "grid_auto_columns": null,
            "margin": null,
            "display": null,
            "left": null
          }
        },
        "f78160be8e6545908860f404362972e2": {
          "model_module": "@jupyter-widgets/controls",
          "model_name": "HBoxModel",
          "state": {
            "_view_name": "HBoxView",
            "_dom_classes": [],
            "_model_name": "HBoxModel",
            "_view_module": "@jupyter-widgets/controls",
            "_model_module_version": "1.5.0",
            "_view_count": null,
            "_view_module_version": "1.5.0",
            "box_style": "",
            "layout": "IPY_MODEL_abf04cc029ad43d5aa2e2ce419aff639",
            "_model_module": "@jupyter-widgets/controls",
            "children": [
              "IPY_MODEL_0cef6de75cb84ab693730ebb47454fbf",
              "IPY_MODEL_10cc2419d05d4b1d9e65c947fced5f8e"
            ]
          }
        },
        "abf04cc029ad43d5aa2e2ce419aff639": {
          "model_module": "@jupyter-widgets/base",
          "model_name": "LayoutModel",
          "state": {
            "_view_name": "LayoutView",
            "grid_template_rows": null,
            "right": null,
            "justify_content": null,
            "_view_module": "@jupyter-widgets/base",
            "overflow": null,
            "_model_module_version": "1.2.0",
            "_view_count": null,
            "flex_flow": "row wrap",
            "width": "100%",
            "min_width": null,
            "border": null,
            "align_items": null,
            "bottom": null,
            "_model_module": "@jupyter-widgets/base",
            "top": null,
            "grid_column": null,
            "overflow_y": null,
            "overflow_x": null,
            "grid_auto_flow": null,
            "grid_area": null,
            "grid_template_columns": null,
            "flex": null,
            "_model_name": "LayoutModel",
            "justify_items": null,
            "grid_row": null,
            "max_height": null,
            "align_content": null,
            "visibility": null,
            "align_self": null,
            "height": null,
            "min_height": null,
            "padding": null,
            "grid_auto_rows": null,
            "grid_gap": null,
            "max_width": null,
            "order": null,
            "_view_module_version": "1.2.0",
            "grid_template_areas": null,
            "object_position": null,
            "object_fit": null,
            "grid_auto_columns": null,
            "margin": null,
            "display": "inline-flex",
            "left": null
          }
        },
        "0cef6de75cb84ab693730ebb47454fbf": {
          "model_module": "@jupyter-widgets/controls",
          "model_name": "FloatProgressModel",
          "state": {
            "_view_name": "ProgressView",
            "style": "IPY_MODEL_c0c580974bfe43e0a4f9203ebb9e9bc0",
            "_dom_classes": [],
            "description": "Training: 100%",
            "_model_name": "FloatProgressModel",
            "bar_style": "",
            "max": 180,
            "_view_module": "@jupyter-widgets/controls",
            "_model_module_version": "1.5.0",
            "value": 180,
            "_view_count": null,
            "_view_module_version": "1.5.0",
            "orientation": "horizontal",
            "min": 0,
            "description_tooltip": null,
            "_model_module": "@jupyter-widgets/controls",
            "layout": "IPY_MODEL_754773c6815a4675bbc061e4f6a5602f"
          }
        },
        "10cc2419d05d4b1d9e65c947fced5f8e": {
          "model_module": "@jupyter-widgets/controls",
          "model_name": "HTMLModel",
          "state": {
            "_view_name": "HTMLView",
            "style": "IPY_MODEL_c916c66ab2ce41889f2f28e74c2ec4ba",
            "_dom_classes": [],
            "description": "",
            "_model_name": "HTMLModel",
            "placeholder": "​",
            "_view_module": "@jupyter-widgets/controls",
            "_model_module_version": "1.5.0",
            "value": " 180/180 ETA: 00:00s,  34.65s/epochs",
            "_view_count": null,
            "_view_module_version": "1.5.0",
            "description_tooltip": null,
            "_model_module": "@jupyter-widgets/controls",
            "layout": "IPY_MODEL_75264117864a4083a08a3c4bff4ebf4b"
          }
        },
        "c0c580974bfe43e0a4f9203ebb9e9bc0": {
          "model_module": "@jupyter-widgets/controls",
          "model_name": "ProgressStyleModel",
          "state": {
            "_view_name": "StyleView",
            "_model_name": "ProgressStyleModel",
            "description_width": "initial",
            "_view_module": "@jupyter-widgets/base",
            "_model_module_version": "1.5.0",
            "_view_count": null,
            "_view_module_version": "1.2.0",
            "bar_color": null,
            "_model_module": "@jupyter-widgets/controls"
          }
        },
        "754773c6815a4675bbc061e4f6a5602f": {
          "model_module": "@jupyter-widgets/base",
          "model_name": "LayoutModel",
          "state": {
            "_view_name": "LayoutView",
            "grid_template_rows": null,
            "right": null,
            "justify_content": null,
            "_view_module": "@jupyter-widgets/base",
            "overflow": null,
            "_model_module_version": "1.2.0",
            "_view_count": null,
            "flex_flow": null,
            "width": null,
            "min_width": null,
            "border": null,
            "align_items": null,
            "bottom": null,
            "_model_module": "@jupyter-widgets/base",
            "top": null,
            "grid_column": null,
            "overflow_y": null,
            "overflow_x": null,
            "grid_auto_flow": null,
            "grid_area": null,
            "grid_template_columns": null,
            "flex": "2",
            "_model_name": "LayoutModel",
            "justify_items": null,
            "grid_row": null,
            "max_height": null,
            "align_content": null,
            "visibility": null,
            "align_self": null,
            "height": null,
            "min_height": null,
            "padding": null,
            "grid_auto_rows": null,
            "grid_gap": null,
            "max_width": null,
            "order": null,
            "_view_module_version": "1.2.0",
            "grid_template_areas": null,
            "object_position": null,
            "object_fit": null,
            "grid_auto_columns": null,
            "margin": null,
            "display": null,
            "left": null
          }
        },
        "c916c66ab2ce41889f2f28e74c2ec4ba": {
          "model_module": "@jupyter-widgets/controls",
          "model_name": "DescriptionStyleModel",
          "state": {
            "_view_name": "StyleView",
            "_model_name": "DescriptionStyleModel",
            "description_width": "",
            "_view_module": "@jupyter-widgets/base",
            "_model_module_version": "1.5.0",
            "_view_count": null,
            "_view_module_version": "1.2.0",
            "_model_module": "@jupyter-widgets/controls"
          }
        },
        "75264117864a4083a08a3c4bff4ebf4b": {
          "model_module": "@jupyter-widgets/base",
          "model_name": "LayoutModel",
          "state": {
            "_view_name": "LayoutView",
            "grid_template_rows": null,
            "right": null,
            "justify_content": null,
            "_view_module": "@jupyter-widgets/base",
            "overflow": null,
            "_model_module_version": "1.2.0",
            "_view_count": null,
            "flex_flow": null,
            "width": null,
            "min_width": null,
            "border": null,
            "align_items": null,
            "bottom": null,
            "_model_module": "@jupyter-widgets/base",
            "top": null,
            "grid_column": null,
            "overflow_y": null,
            "overflow_x": null,
            "grid_auto_flow": null,
            "grid_area": null,
            "grid_template_columns": null,
            "flex": null,
            "_model_name": "LayoutModel",
            "justify_items": null,
            "grid_row": null,
            "max_height": null,
            "align_content": null,
            "visibility": null,
            "align_self": null,
            "height": null,
            "min_height": null,
            "padding": null,
            "grid_auto_rows": null,
            "grid_gap": null,
            "max_width": null,
            "order": null,
            "_view_module_version": "1.2.0",
            "grid_template_areas": null,
            "object_position": null,
            "object_fit": null,
            "grid_auto_columns": null,
            "margin": null,
            "display": null,
            "left": null
          }
        },
        "6f40f06425c84e0c942459ec2cad10da": {
          "model_module": "@jupyter-widgets/controls",
          "model_name": "HBoxModel",
          "state": {
            "_view_name": "HBoxView",
            "_dom_classes": [],
            "_model_name": "HBoxModel",
            "_view_module": "@jupyter-widgets/controls",
            "_model_module_version": "1.5.0",
            "_view_count": null,
            "_view_module_version": "1.5.0",
            "box_style": "",
            "layout": "IPY_MODEL_562f38850f7f4b368044a5c210ec8467",
            "_model_module": "@jupyter-widgets/controls",
            "children": [
              "IPY_MODEL_5829aaee67e643c986205aaaded398bd",
              "IPY_MODEL_fadebd68cbfa4572b7fd1a02fcf3cae0"
            ]
          }
        },
        "562f38850f7f4b368044a5c210ec8467": {
          "model_module": "@jupyter-widgets/base",
          "model_name": "LayoutModel",
          "state": {
            "_view_name": "LayoutView",
            "grid_template_rows": null,
            "right": null,
            "justify_content": null,
            "_view_module": "@jupyter-widgets/base",
            "overflow": null,
            "_model_module_version": "1.2.0",
            "_view_count": null,
            "flex_flow": "row wrap",
            "width": "100%",
            "min_width": null,
            "border": null,
            "align_items": null,
            "bottom": null,
            "_model_module": "@jupyter-widgets/base",
            "top": null,
            "grid_column": null,
            "overflow_y": null,
            "overflow_x": null,
            "grid_auto_flow": null,
            "grid_area": null,
            "grid_template_columns": null,
            "flex": null,
            "_model_name": "LayoutModel",
            "justify_items": null,
            "grid_row": null,
            "max_height": null,
            "align_content": null,
            "visibility": null,
            "align_self": null,
            "height": null,
            "min_height": null,
            "padding": null,
            "grid_auto_rows": null,
            "grid_gap": null,
            "max_width": null,
            "order": null,
            "_view_module_version": "1.2.0",
            "grid_template_areas": null,
            "object_position": null,
            "object_fit": null,
            "grid_auto_columns": null,
            "margin": null,
            "display": "inline-flex",
            "left": null
          }
        },
        "5829aaee67e643c986205aaaded398bd": {
          "model_module": "@jupyter-widgets/controls",
          "model_name": "FloatProgressModel",
          "state": {
            "_view_name": "ProgressView",
            "style": "IPY_MODEL_b9ebdb0c7b784bffaa048a4f6b753177",
            "_dom_classes": [],
            "description": "Training:  80%",
            "_model_name": "FloatProgressModel",
            "bar_style": "danger",
            "max": 180,
            "_view_module": "@jupyter-widgets/controls",
            "_model_module_version": "1.5.0",
            "value": 144,
            "_view_count": null,
            "_view_module_version": "1.5.0",
            "orientation": "horizontal",
            "min": 0,
            "description_tooltip": null,
            "_model_module": "@jupyter-widgets/controls",
            "layout": "IPY_MODEL_e7eada4e1b074b808b7db8f6e618303e"
          }
        },
        "fadebd68cbfa4572b7fd1a02fcf3cae0": {
          "model_module": "@jupyter-widgets/controls",
          "model_name": "HTMLModel",
          "state": {
            "_view_name": "HTMLView",
            "style": "IPY_MODEL_0514336e588e4942a45b63ae32919d92",
            "_dom_classes": [],
            "description": "",
            "_model_name": "HTMLModel",
            "placeholder": "​",
            "_view_module": "@jupyter-widgets/controls",
            "_model_module_version": "1.5.0",
            "value": " 144/180 ETA: 20:59s,  34.97s/epochs",
            "_view_count": null,
            "_view_module_version": "1.5.0",
            "description_tooltip": null,
            "_model_module": "@jupyter-widgets/controls",
            "layout": "IPY_MODEL_7cc1ddbd991042b7a12089d638d63546"
          }
        },
        "b9ebdb0c7b784bffaa048a4f6b753177": {
          "model_module": "@jupyter-widgets/controls",
          "model_name": "ProgressStyleModel",
          "state": {
            "_view_name": "StyleView",
            "_model_name": "ProgressStyleModel",
            "description_width": "initial",
            "_view_module": "@jupyter-widgets/base",
            "_model_module_version": "1.5.0",
            "_view_count": null,
            "_view_module_version": "1.2.0",
            "bar_color": null,
            "_model_module": "@jupyter-widgets/controls"
          }
        },
        "e7eada4e1b074b808b7db8f6e618303e": {
          "model_module": "@jupyter-widgets/base",
          "model_name": "LayoutModel",
          "state": {
            "_view_name": "LayoutView",
            "grid_template_rows": null,
            "right": null,
            "justify_content": null,
            "_view_module": "@jupyter-widgets/base",
            "overflow": null,
            "_model_module_version": "1.2.0",
            "_view_count": null,
            "flex_flow": null,
            "width": null,
            "min_width": null,
            "border": null,
            "align_items": null,
            "bottom": null,
            "_model_module": "@jupyter-widgets/base",
            "top": null,
            "grid_column": null,
            "overflow_y": null,
            "overflow_x": null,
            "grid_auto_flow": null,
            "grid_area": null,
            "grid_template_columns": null,
            "flex": "2",
            "_model_name": "LayoutModel",
            "justify_items": null,
            "grid_row": null,
            "max_height": null,
            "align_content": null,
            "visibility": null,
            "align_self": null,
            "height": null,
            "min_height": null,
            "padding": null,
            "grid_auto_rows": null,
            "grid_gap": null,
            "max_width": null,
            "order": null,
            "_view_module_version": "1.2.0",
            "grid_template_areas": null,
            "object_position": null,
            "object_fit": null,
            "grid_auto_columns": null,
            "margin": null,
            "display": null,
            "left": null
          }
        },
        "0514336e588e4942a45b63ae32919d92": {
          "model_module": "@jupyter-widgets/controls",
          "model_name": "DescriptionStyleModel",
          "state": {
            "_view_name": "StyleView",
            "_model_name": "DescriptionStyleModel",
            "description_width": "",
            "_view_module": "@jupyter-widgets/base",
            "_model_module_version": "1.5.0",
            "_view_count": null,
            "_view_module_version": "1.2.0",
            "_model_module": "@jupyter-widgets/controls"
          }
        },
        "7cc1ddbd991042b7a12089d638d63546": {
          "model_module": "@jupyter-widgets/base",
          "model_name": "LayoutModel",
          "state": {
            "_view_name": "LayoutView",
            "grid_template_rows": null,
            "right": null,
            "justify_content": null,
            "_view_module": "@jupyter-widgets/base",
            "overflow": null,
            "_model_module_version": "1.2.0",
            "_view_count": null,
            "flex_flow": null,
            "width": null,
            "min_width": null,
            "border": null,
            "align_items": null,
            "bottom": null,
            "_model_module": "@jupyter-widgets/base",
            "top": null,
            "grid_column": null,
            "overflow_y": null,
            "overflow_x": null,
            "grid_auto_flow": null,
            "grid_area": null,
            "grid_template_columns": null,
            "flex": null,
            "_model_name": "LayoutModel",
            "justify_items": null,
            "grid_row": null,
            "max_height": null,
            "align_content": null,
            "visibility": null,
            "align_self": null,
            "height": null,
            "min_height": null,
            "padding": null,
            "grid_auto_rows": null,
            "grid_gap": null,
            "max_width": null,
            "order": null,
            "_view_module_version": "1.2.0",
            "grid_template_areas": null,
            "object_position": null,
            "object_fit": null,
            "grid_auto_columns": null,
            "margin": null,
            "display": null,
            "left": null
          }
        }
      }
    }
  },
  "cells": [
    {
      "cell_type": "markdown",
      "metadata": {
        "id": "huixWaL42uZi",
        "colab_type": "text"
      },
      "source": [
        "The validation scheme is based on [seq2seq-rnn-with-gru](https://www.kaggle.com/brandenkmurray/seq2seq-rnn-with-gru/output), and cleaned data is from [data-without-drift](https://www.kaggle.com/cdeotte/data-without-drift) and Kalman filter is from [https://www.kaggle.com/teejmahal20/single-model-lgbm-kalman-filter](single-model-lgbm-kalman-filter) and the added feature is from [wavenet-with-1-more-feature](wavenet-with-1-more-feature). I also used ragnar's data in this version [clean-kalman](https://www.kaggle.com/ragnar123/clean-kalman). The Wavenet is based on [https://github.com/philipperemy/keras-tcn](https://github.com/philipperemy/keras-tcn), [https://github.com/peustr/wavenet](https://github.com/peustr/wavenet) and [https://github.com/basveeling/wavenet](https://github.com/basveeling/wavenet) and also [https://www.kaggle.com/wimwim/wavenet-lstm](https://www.kaggle.com/wimwim/wavenet-lstm). If any refrence is not mentioned it was not intentional, please add them in comments.\n",
        "\n",
        "Previous versions were mainly based on [https://www.kaggle.com/wimwim/wavenet-lstm](https://www.kaggle.com/wimwim/wavenet-lstm)  "
      ]
    },
    {
      "cell_type": "code",
      "metadata": {
        "ExecuteTime": {
          "end_time": "2020-04-11T02:14:24.121605Z",
          "start_time": "2020-04-11T02:14:22.792317Z"
        },
        "_kg_hide-input": true,
        "id": "LqmWjeYJ2uZn",
        "trusted": true,
        "colab_type": "code",
        "colab": {}
      },
      "source": [
        "!pip install --no-warn-conflicts -q tensorflow-addons"
      ],
      "execution_count": 0,
      "outputs": []
    },
    {
      "cell_type": "code",
      "metadata": {
        "id": "1DbSxqaBWiqQ",
        "colab_type": "code",
        "colab": {}
      },
      "source": [
        ""
      ],
      "execution_count": 0,
      "outputs": []
    },
    {
      "cell_type": "code",
      "metadata": {
        "ExecuteTime": {
          "end_time": "2020-04-11T02:14:24.152214Z",
          "start_time": "2020-04-11T02:14:24.125295Z"
        },
        "_cell_guid": "b1076dfc-b9ad-4769-8c92-a6c4dae69d19",
        "_uuid": "8f2839f25d086af736a60e9eeb907d3b93b6e0e5",
        "id": "y1qOuodBfSxN",
        "trusted": true,
        "colab_type": "code",
        "colab": {}
      },
      "source": [
        "from tensorflow.keras.layers import (TimeDistributed, Dropout, BatchNormalization, Flatten, Convolution1D, Activation, Input, Dense, LSTM, Lambda, Bidirectional,\n",
        "                                     Add, AveragePooling1D, Multiply, GRU, GRUCell, LSTMCell, SimpleRNNCell, SimpleRNN, TimeDistributed, RNN,SpatialDropout1D,\n",
        "                                     RepeatVector, Conv1D, MaxPooling1D, GlobalMaxPooling1D,Concatenate, GlobalAveragePooling1D, UpSampling1D, Reshape)\n",
        "from tensorflow.keras.callbacks import ModelCheckpoint, EarlyStopping, Callback, ReduceLROnPlateau, LearningRateScheduler, CSVLogger\n",
        "from tensorflow.keras.losses import binary_crossentropy, categorical_crossentropy, mean_squared_error\n",
        "# from tensorflow.keras.experimental import export_saved_model, load_from_saved_model\n",
        "from tensorflow.keras.optimizers import Adam, RMSprop, SGD\n",
        "from tensorflow.keras.utils import Sequence, to_categorical\n",
        "from tensorflow.keras.preprocessing.sequence import TimeseriesGenerator\n",
        "from tensorflow.keras import losses, models, optimizers\n",
        "from tensorflow.keras import backend as K\n",
        "from tensorflow.python.ops import array_ops\n",
        "import tensorflow as tf\n",
        "from typing import List, NoReturn, Union, Tuple, Optional, Text, Generic, Callable, Dict\n",
        "from sklearn.metrics import f1_score, cohen_kappa_score, mean_squared_error\n",
        "from logging import getLogger, Formatter, StreamHandler, FileHandler, INFO, DEBUG, NOTSET\n",
        "from sklearn.model_selection import KFold, GroupKFold\n",
        "from tqdm import tqdm_notebook as tqdm\n",
        "from contextlib import contextmanager\n",
        "from joblib import Parallel, delayed\n",
        "from IPython.display import display\n",
        "from sklearn import preprocessing\n",
        "from sklearn.utils import class_weight\n",
        "import tensorflow_addons as tfa\n",
        "import scipy.stats as stats\n",
        "import random as rn\n",
        "import pandas as pd\n",
        "import numpy as np\n",
        "import scipy as sp\n",
        "import itertools\n",
        "import warnings\n",
        "import time\n",
        "import pywt\n",
        "import os\n",
        "import gc\n",
        "\n",
        "from tensorflow.keras.metrics import Precision, Recall\n",
        "# from tensorflow_addons.metrics import F1Score\n",
        "\n",
        "warnings.simplefilter('ignore')\n",
        "warnings.filterwarnings('ignore')\n",
        "pd.set_option('display.max_columns', 1000)\n",
        "pd.set_option('display.max_rows', 500)\n",
        "%matplotlib inline"
      ],
      "execution_count": 0,
      "outputs": []
    },
    {
      "cell_type": "code",
      "metadata": {
        "trusted": true,
        "id": "AVvcAEP0iEyp",
        "colab_type": "code",
        "colab": {}
      },
      "source": [
        "Kaggle = False\n",
        "Colab = True"
      ],
      "execution_count": 0,
      "outputs": []
    },
    {
      "cell_type": "code",
      "metadata": {
        "id": "LC8XqE14cSRm",
        "trusted": true,
        "colab_type": "code",
        "outputId": "1bb01ef4-99f6-46e1-cb32-0eb4703ebd27",
        "colab": {
          "base_uri": "https://localhost:8080/",
          "height": 34
        }
      },
      "source": [
        "import os, sys\n",
        "from pathlib import Path\n",
        "\n",
        "if Colab:\n",
        "    from google.colab import drive\n",
        "    drive.mount('/content/drive')\n",
        "\n",
        "    path = \"/content/drive/My Drive\"\n",
        "\n",
        "    os.chdir(path)\n",
        "    os.listdir(path)"
      ],
      "execution_count": 4,
      "outputs": [
        {
          "output_type": "stream",
          "text": [
            "Drive already mounted at /content/drive; to attempt to forcibly remount, call drive.mount(\"/content/drive\", force_remount=True).\n"
          ],
          "name": "stdout"
        }
      ]
    },
    {
      "cell_type": "code",
      "metadata": {
        "id": "z0fJcaGLoPY3",
        "trusted": true,
        "colab_type": "code",
        "colab": {}
      },
      "source": [
        "# a = np.random.rand(2,4,3)\n",
        "# print(a)\n",
        "# b = np.reshape(a,(4,2,3))\n",
        "# print(b)\n",
        "# c = np.reshape(b, (2,4,3))\n",
        "# print(c)"
      ],
      "execution_count": 0,
      "outputs": []
    },
    {
      "cell_type": "code",
      "metadata": {
        "id": "M-sYfdXdWyTI",
        "trusted": true,
        "colab_type": "code",
        "colab": {}
      },
      "source": [
        "# sys.path.append('ion_switch/keras-one-cycle')\n",
        "# # os.listdir(patholr)\n",
        "# from clr import OneCycleLR"
      ],
      "execution_count": 0,
      "outputs": []
    },
    {
      "cell_type": "code",
      "metadata": {
        "ExecuteTime": {
          "end_time": "2020-04-11T02:14:24.159766Z",
          "start_time": "2020-04-11T02:14:24.155918Z"
        },
        "trusted": true,
        "id": "zdosugVWcOf0",
        "colab_type": "code",
        "colab": {}
      },
      "source": [
        "if Kaggle:\n",
        "    PATH = '/kaggle/input/'\n",
        "    outdir = '.'\n",
        "# PATH = '/Users/helen/Desktop/Data/'\n",
        "else:\n",
        "    PATH = 'ion_switch/'\n",
        "    outdir = Path(PATH+'res')\n",
        "    if not os.path.exists(outdir):\n",
        "        os.mkdir(outdir)\n",
        "    outdir = Path(PATH+'res/wavenet-dlr-res')\n",
        "    if not os.path.exists(outdir):\n",
        "        os.mkdir(outdir)"
      ],
      "execution_count": 0,
      "outputs": []
    },
    {
      "cell_type": "code",
      "metadata": {
        "ExecuteTime": {
          "end_time": "2020-04-11T02:14:24.168634Z",
          "start_time": "2020-04-11T02:14:24.163612Z"
        },
        "id": "UafJMtyefSxU",
        "trusted": true,
        "colab_type": "code",
        "colab": {}
      },
      "source": [
        "EPOCHS=180\n",
        "NNBATCHSIZE= 16\n",
        "BATCHSIZE = 4000\n",
        "FEASIZE = 21\n",
        "SEED = 321\n",
        "SELECT = True\n",
        "SPLITS = 5\n",
        "LR = 0.001\n",
        "WD = 1e-5\n",
        "Gamma = 1.0 #0.99994\n",
        "BETA = 0.99996\n",
        "fe_config = [\n",
        "    (True, BATCHSIZE),\n",
        "]\n",
        "TREES = 100\n",
        "DEPTH = 12\n",
        "COMPETITION = 'ION-Switching'\n",
        "logger = getLogger(COMPETITION)\n",
        "LOGFORMAT = '%(asctime)s %(levelname)s %(message)s'\n",
        "MODELNAME = 'ClassifierCBRWmulti-Prob11-NESCAL'\n",
        "weights = []\n",
        "# TRAINEDMODEL = os.path.join(outdir, 'wavenet-es-v1/wavenet_es_f0_checkpoint.h5')\n",
        "\n",
        "VERSION = '{}'.format(MODELNAME)\n",
        "outdir = os.path.join(outdir, VERSION)\n",
        "if not os.path.exists(outdir):\n",
        "    os.mkdir(outdir)\n",
        "\n",
        "from datetime import datetime\n",
        "dateTimeObj = datetime.now()\n",
        "# timestampStr = dateTimeObj.strftime(\"%d-%b-%Y-%H\")\n",
        "timestampStr = 'all'\n",
        "outdir = os.path.join(outdir, timestampStr)\n",
        "if not os.path.exists(outdir):\n",
        "    os.mkdir(outdir)"
      ],
      "execution_count": 0,
      "outputs": []
    },
    {
      "cell_type": "code",
      "metadata": {
        "id": "fouKVpNaFNKQ",
        "trusted": true,
        "colab_type": "code",
        "colab": {}
      },
      "source": [
        "\n",
        "@contextmanager\n",
        "def timer(name : Text):\n",
        "    t0 = time.time()\n",
        "    yield\n",
        "    logger.info(f'[{name}] done in {time.time() - t0:.0f} s')"
      ],
      "execution_count": 0,
      "outputs": []
    },
    {
      "cell_type": "code",
      "metadata": {
        "ExecuteTime": {
          "end_time": "2020-04-11T02:14:24.177661Z",
          "start_time": "2020-04-11T02:14:24.171732Z"
        },
        "id": "EE4v8h1tfSxb",
        "trusted": true,
        "colab_type": "code",
        "colab": {}
      },
      "source": [
        "\n",
        "def init_logger():\n",
        "\n",
        "    handler = StreamHandler()\n",
        "    handler.setLevel(INFO)\n",
        "    handler.setFormatter(Formatter(LOGFORMAT))\n",
        "    fh_handler = FileHandler(os.path.join(outdir,'{}-len{}-lr{}-{}-fpre.log'.format(MODELNAME,BATCHSIZE,LR,timestampStr)))\n",
        "    fh_handler.setFormatter(Formatter(LOGFORMAT))\n",
        "    logger.setLevel(INFO)\n",
        "    logger.addHandler(handler)\n",
        "    logger.addHandler(fh_handler)\n",
        "    "
      ],
      "execution_count": 0,
      "outputs": []
    },
    {
      "cell_type": "code",
      "metadata": {
        "ExecuteTime": {
          "end_time": "2020-04-11T02:14:24.358957Z",
          "start_time": "2020-04-11T02:14:24.187096Z"
        },
        "id": "OC5DOcDifSxx",
        "trusted": true,
        "colab_type": "code",
        "colab": {}
      },
      "source": [
        "\n",
        "def seed_everything(seed : int) -> NoReturn :\n",
        "    \n",
        "    rn.seed(seed)\n",
        "    np.random.seed(seed)\n",
        "    os.environ['PYTHONHASHSEED'] = str(seed)\n",
        "    tf.random.set_seed(seed)\n",
        "    # os.environ['TF_CUDNN_DETERMINISTIC'] = str(seed) \n",
        "\n",
        "seed_everything(SEED)"
      ],
      "execution_count": 0,
      "outputs": []
    },
    {
      "cell_type": "code",
      "metadata": {
        "id": "5tInVDxBn-lQ",
        "trusted": true,
        "colab_type": "code",
        "colab": {}
      },
      "source": [
        "class CyclicLR(tf.keras.callbacks.Callback):\n",
        "\n",
        "    def __init__(self, base_lr=0.001, max_lr=0.006, step_size=2000., mode='triangular',\n",
        "                 gamma=1., scale_fn=None, scale_mode='cycle'):\n",
        "        super(CyclicLR, self).__init__()\n",
        "\n",
        "        self.base_lr = base_lr\n",
        "        self.max_lr = max_lr\n",
        "        self.step_size = step_size\n",
        "        self.mode = mode\n",
        "        self.gamma = gamma\n",
        "        if scale_fn == None:\n",
        "            if self.mode == 'triangular':\n",
        "                self.scale_fn = lambda x: 1.\n",
        "                self.scale_mode = 'cycle'\n",
        "            elif self.mode == 'triangular2':\n",
        "                self.scale_fn = lambda x: 1 / (2. ** (x - 1))\n",
        "                self.scale_mode = 'cycle'\n",
        "            elif self.mode == 'exp_range':\n",
        "                self.scale_fn = lambda x: gamma ** (x)\n",
        "                self.scale_mode = 'iterations'\n",
        "        else:\n",
        "            self.scale_fn = scale_fn\n",
        "            self.scale_mode = scale_mode\n",
        "        self.clr_iterations = 0.\n",
        "        self.trn_iterations = 0.\n",
        "        self.history = {}\n",
        "\n",
        "        self._reset()\n",
        "\n",
        "    def _reset(self, new_base_lr=None, new_max_lr=None,\n",
        "               new_step_size=None):\n",
        "        \"\"\"Resets cycle iterations.\n",
        "        Optional boundary/step size adjustment.\n",
        "        \"\"\"\n",
        "        if new_base_lr != None:\n",
        "            self.base_lr = new_base_lr\n",
        "        if new_max_lr != None:\n",
        "            self.max_lr = new_max_lr\n",
        "        if new_step_size != None:\n",
        "            self.step_size = new_step_size\n",
        "        self.clr_iterations = 0.\n",
        "\n",
        "    def clr(self):\n",
        "        cycle = np.floor(1 + self.clr_iterations / (2 * self.step_size))\n",
        "        x = np.abs(self.clr_iterations / self.step_size - 2 * cycle + 1)\n",
        "        if self.scale_mode == 'cycle':\n",
        "            return self.base_lr + (self.max_lr - self.base_lr) * np.maximum(0, (1 - x)) * self.scale_fn(cycle)\n",
        "        else:\n",
        "            return self.base_lr + (self.max_lr - self.base_lr) * np.maximum(0, (1 - x)) * self.scale_fn(\n",
        "                self.clr_iterations)\n",
        "\n",
        "    def on_train_begin(self, logs={}):\n",
        "        logs = logs or {}\n",
        "\n",
        "        if self.clr_iterations == 0:\n",
        "            K.set_value(self.model.optimizer.lr, self.base_lr)\n",
        "        else:\n",
        "            K.set_value(self.model.optimizer.lr, self.clr())\n",
        "\n",
        "    def on_batch_end(self, epoch, logs=None):\n",
        "\n",
        "        logs = logs or {}\n",
        "        self.trn_iterations += 1\n",
        "        self.clr_iterations += 1\n",
        "\n",
        "        K.set_value(self.model.optimizer.lr, self.clr())\n",
        "        # print(\"learning rate- self.model.optimizer.lr: \", self.model.optimizer.lr)\n",
        "\n",
        "    # def on_epoch_end(self, epoch, logs=None):\n",
        "\n",
        "    #     logs = logs or {}\n",
        "    #     self.trn_iterations += 1\n",
        "    #     self.clr_iterations += 1\n",
        "\n",
        "    #     K.set_value(self.model.optimizer.lr, self.clr())\n",
        "    #     logger.info(f'epoch:{epoch:03d},'+str(K.eval(self.model.optimizer.lr)))"
      ],
      "execution_count": 0,
      "outputs": []
    },
    {
      "cell_type": "code",
      "metadata": {
        "id": "fmKgNg1Mmzrk",
        "trusted": true,
        "colab_type": "code",
        "colab": {}
      },
      "source": [
        "import matplotlib.pyplot as plt\n",
        "\n",
        "# 写一个LossHistory类，保存训练集的loss和acc\n",
        "# 当然我也可以完全不这么做，可以直接使用model.fit()方法返回的 history对象去做\n",
        "'''Callback有6个常用的方法，这里实现其中的四个\n",
        "    def on_epoch_begin(self, epoch, logs=None):\n",
        "    def on_epoch_end(self, epoch, logs=None):\n",
        "    def on_batch_begin(self, batch, logs=None):\n",
        "    def on_batch_end(self, batch, logs=None):\n",
        "    def on_train_begin(self, logs=None):\n",
        "    def on_train_end(self, logs=None):\n",
        "'''\n",
        "class LossHistory(Callback):  # 继承自Callback类\n",
        " \n",
        "    '''\n",
        "    在模型开始的时候定义四个属性，每一个属性都是字典类型，存储相对应的值和epoch\n",
        "    '''\n",
        "    def on_train_begin(self, logs={}):\n",
        "        self.losses = {'batch':[], 'epoch':[]}\n",
        "        self.accuracy = {'batch':[], 'epoch':[]}\n",
        "        self.val_loss = {'batch':[], 'epoch':[]}\n",
        "        self.val_acc = {'batch':[], 'epoch':[]}\n",
        " \n",
        "    # 在每一个batch结束后记录相应的值\n",
        "    def on_batch_end(self, batch, logs={}):\n",
        "        self.losses['batch'].append(logs.get('loss'))\n",
        "        self.accuracy['batch'].append(logs.get('accuracy'))\n",
        "        self.val_loss['batch'].append(logs.get('val_loss'))\n",
        "        self.val_acc['batch'].append(logs.get('val_accuracy'))\n",
        "    \n",
        "    # 在每一个epoch之后记录相应的值\n",
        "    def on_epoch_end(self, epoch, logs={}):\n",
        "        trloss, tracc, vloss, vacc = logs.get('loss'), logs.get('accuracy'), logs.get('val_loss'), logs.get('val_accuracy')\n",
        "        self.losses['epoch'].append(trloss)\n",
        "        self.accuracy['epoch'].append(tracc)\n",
        "        self.val_loss['epoch'].append(vloss)\n",
        "        self.val_acc['epoch'].append(vacc)\n",
        "        logger.info(\"epoch:{:03d}, train_loss:{:1.5f}, train_acc:{:1.5f}, val_loss:{:1.5f}, val_acc:{:1.5f}\".format(epoch, \n",
        "                                                                                                                trloss, tracc, vloss, vacc))\n",
        " \n",
        "    def loss_plot(self, loss_type, pngname):\n",
        "        '''\n",
        "        loss_type：指的是 'epoch'或者是'batch'，分别表示是一个batch之后记录还是一个epoch之后记录\n",
        "        '''\n",
        "        iters = range(len(self.losses[loss_type]))\n",
        "        plt.figure()\n",
        "        # acc\n",
        "        plt.plot(iters, self.accuracy[loss_type], 'r', label='train acc')\n",
        "        # loss\n",
        "        plt.plot(iters, self.losses[loss_type], 'g', label='train loss')\n",
        "        if loss_type == 'epoch':\n",
        "            # val_acc\n",
        "            plt.plot(iters, self.val_acc[loss_type], 'b', label='val acc')\n",
        "            # val_loss\n",
        "            plt.plot(iters, self.val_loss[loss_type], 'k', label='val loss')\n",
        "        plt.grid(True)\n",
        "        plt.xlabel(loss_type)\n",
        "        plt.ylabel('acc-loss')\n",
        "        plt.legend(loc=\"upper right\")\n",
        "        plt.savefig(pngname)\n",
        "        plt.show()"
      ],
      "execution_count": 0,
      "outputs": []
    },
    {
      "cell_type": "code",
      "metadata": {
        "ExecuteTime": {
          "end_time": "2020-04-11T02:14:24.368249Z",
          "start_time": "2020-04-11T02:14:24.362616Z"
        },
        "id": "adUHGQUTfSyA",
        "trusted": true,
        "colab_type": "code",
        "colab": {}
      },
      "source": [
        "\n",
        "def read_data(base : os.path.abspath) -> Tuple[pd.DataFrame, pd.DataFrame, pd.DataFrame]:\n",
        "    \n",
        "    train = pd.read_csv(PATH+'clean-kalman/train_clean_kalman.csv', dtype={'time': np.float32, 'signal': np.float32, 'open_channels':np.int32})\n",
        "    test  = pd.read_csv(PATH+'clean-kalman/test_clean_kalman.csv', dtype={'time': np.float32, 'signal': np.float32})\n",
        "    sub  = pd.read_csv(PATH+'liverpool-ion-switching/sample_submission.csv', dtype={'time': np.float32})\n",
        "    \n",
        "    return train, test, sub\n"
      ],
      "execution_count": 0,
      "outputs": []
    },
    {
      "cell_type": "code",
      "metadata": {
        "ExecuteTime": {
          "end_time": "2020-04-11T02:14:24.376185Z",
          "start_time": "2020-04-11T02:14:24.371687Z"
        },
        "id": "HpDaJQ5yfSyI",
        "trusted": true,
        "colab_type": "code",
        "colab": {}
      },
      "source": [
        "\n",
        "def batching(df : pd.DataFrame,\n",
        "             batch_size : int) -> pd.DataFrame :\n",
        "    \n",
        "    df['group'] = df.groupby(df.index//batch_size, sort=False)['signal'].agg(['ngroup']).values\n",
        "    df['group'] = df['group'].astype(np.uint16)\n",
        "        \n",
        "    return df\n"
      ],
      "execution_count": 0,
      "outputs": []
    },
    {
      "cell_type": "code",
      "metadata": {
        "ExecuteTime": {
          "end_time": "2020-04-11T02:14:24.391087Z",
          "start_time": "2020-04-11T02:14:24.378989Z"
        },
        "id": "iQxOYF3tfSyj",
        "trusted": true,
        "colab_type": "code",
        "colab": {}
      },
      "source": [
        "\n",
        "def reduce_mem_usage(df: pd.DataFrame,\n",
        "                     verbose: bool = True) -> pd.DataFrame:\n",
        "    \n",
        "    numerics = ['int16', 'int32', 'int64', 'float16', 'float32', 'float64']\n",
        "    start_mem = df.memory_usage().sum() / 1024**2\n",
        "\n",
        "    for col in df.columns:\n",
        "        col_type = df[col].dtypes\n",
        "\n",
        "        if col_type in numerics:\n",
        "            c_min = df[col].min()\n",
        "            c_max = df[col].max()\n",
        "\n",
        "            if str(col_type)[:3] == 'int':\n",
        "\n",
        "                if (c_min > np.iinfo(np.int32).min\n",
        "                      and c_max < np.iinfo(np.int32).max):\n",
        "                    df[col] = df[col].astype(np.int32)\n",
        "                elif (c_min > np.iinfo(np.int64).min\n",
        "                      and c_max < np.iinfo(np.int64).max):\n",
        "                    df[col] = df[col].astype(np.int64)\n",
        "            else:\n",
        "                if (c_min > np.finfo(np.float16).min\n",
        "                        and c_max < np.finfo(np.float16).max):\n",
        "                    df[col] = df[col].astype(np.float16)\n",
        "                elif (c_min > np.finfo(np.float32).min\n",
        "                      and c_max < np.finfo(np.float32).max):\n",
        "                    df[col] = df[col].astype(np.float32)\n",
        "                else:\n",
        "                    df[col] = df[col].astype(np.float64)\n",
        "\n",
        "    end_mem = df.memory_usage().sum() / 1024**2\n",
        "    reduction = (start_mem - end_mem) / start_mem\n",
        "\n",
        "    msg = f'Mem. usage decreased to {end_mem:5.2f} MB ({reduction * 100:.1f} % reduction)'\n",
        "    if verbose:\n",
        "        print(msg)\n",
        "\n",
        "    return df\n"
      ],
      "execution_count": 0,
      "outputs": []
    },
    {
      "cell_type": "code",
      "metadata": {
        "ExecuteTime": {
          "end_time": "2020-04-11T02:14:24.402186Z",
          "start_time": "2020-04-11T02:14:24.393787Z"
        },
        "id": "dytmNmL_fSzj",
        "trusted": true,
        "colab_type": "code",
        "colab": {}
      },
      "source": [
        "\n",
        "def lag_with_pct_change(df : pd.DataFrame,\n",
        "                        shift_sizes : Optional[List]=[1, 2],\n",
        "                        add_pct_change : Optional[bool]=False,\n",
        "                        add_pct_change_lag : Optional[bool]=False,\n",
        "                        add_diff : Optional[bool]=False) -> pd.DataFrame:\n",
        "    \n",
        "    for shift_size in shift_sizes:    \n",
        "        df['signal_shift_pos_'+str(shift_size)] = df.groupby('group')['signal'].shift(shift_size).fillna(0)\n",
        "        df['signal_shift_neg_'+str(shift_size)] = df.groupby('group')['signal'].shift(-1*shift_size).fillna(0)\n",
        "\n",
        "    if add_pct_change:\n",
        "        df['pct_change'] = df['signal'].pct_change()\n",
        "        if add_pct_change_lag:\n",
        "            for shift_size in shift_sizes:    \n",
        "                df['pct_change_shift_pos_'+str(shift_size)] = df.groupby('group')['pct_change'].shift(shift_size).fillna(0)\n",
        "                df['pct_change_shift_neg_'+str(shift_size)] = df.groupby('group')['pct_change'].shift(-1*shift_size).fillna(0)\n",
        "    if add_diff:\n",
        "        for c in [c1 for c1 in df.columns if c1 not in ['time', 'signal', 'open_channels', 'group', 'index']]:\n",
        "            df[c+'_msignal'] = df[c] - df['signal']\n",
        "    return df\n"
      ],
      "execution_count": 0,
      "outputs": []
    },
    {
      "cell_type": "code",
      "metadata": {
        "ExecuteTime": {
          "end_time": "2020-04-11T02:14:24.409381Z",
          "start_time": "2020-04-11T02:14:24.404800Z"
        },
        "id": "m-ULWLF_fS0B",
        "trusted": true,
        "colab_type": "code",
        "colab": {}
      },
      "source": [
        "\n",
        "def run_feat_enginnering(df : pd.DataFrame,\n",
        "                         create_all_data_feats : bool,\n",
        "                         batch_size : int) -> pd.DataFrame:\n",
        "    \n",
        "    df = batching(df, batch_size=batch_size)\n",
        "    if create_all_data_feats:\n",
        "        df = lag_with_pct_change(df, [1, 2, 3],  add_pct_change=False, add_pct_change_lag=False, add_diff=False)\n",
        "    df['signal_2'] = df['signal'] ** 2\n",
        "    return df\n"
      ],
      "execution_count": 0,
      "outputs": []
    },
    {
      "cell_type": "code",
      "metadata": {
        "ExecuteTime": {
          "end_time": "2020-04-11T02:14:24.419991Z",
          "start_time": "2020-04-11T02:14:24.412368Z"
        },
        "id": "6E87jcu2fS0O",
        "trusted": true,
        "colab_type": "code",
        "colab": {}
      },
      "source": [
        "def feature_selection(df : pd.DataFrame,\n",
        "                      df_test : pd.DataFrame) -> Tuple[pd.DataFrame , pd.DataFrame, List]:\n",
        "    use_cols = [col for col in df.columns if col not in ['index','group', 'open_channels', 'time']]\n",
        "    print(use_cols)\n",
        "    df = df.replace([np.inf, -np.inf], np.nan)\n",
        "    df_test = df_test.replace([np.inf, -np.inf], np.nan)\n",
        "    for col in use_cols:\n",
        "        col_mean = pd.concat([df[col], df_test[col]], axis=0).mean()\n",
        "        df[col] = df[col].fillna(col_mean)\n",
        "        df_test[col] = df_test[col].fillna(col_mean)\n",
        "   \n",
        "    gc.collect()\n",
        "    return df, df_test, use_cols\n"
      ],
      "execution_count": 0,
      "outputs": []
    },
    {
      "cell_type": "code",
      "metadata": {
        "id": "41LbkJYqxJlV",
        "trusted": true,
        "colab_type": "code",
        "colab": {}
      },
      "source": [
        "def jitter(x, sigma=0.03):\n",
        "    # print(\"jitter x shape:\", x.shape)\n",
        "    # https://arxiv.org/pdf/1706.00527.pdf\n",
        "    return x + np.random.normal(loc=0., scale=sigma, size=x.shape)\n",
        "\n",
        "def scaling(x, sigma=0.1):\n",
        "    # https://arxiv.org/pdf/1706.00527.pdf\n",
        "    factor = np.random.normal(loc=1., scale=sigma, size=(x.shape[0],x.shape[2]))\n",
        "    return np.multiply(x, factor[:,np.newaxis,:])\n",
        "\n",
        "def rotation(x):\n",
        "    flip = np.random.choice([-1, 1], size=(x.shape[0],x.shape[2]))\n",
        "    rotate_axis = np.arange(x.shape[2])\n",
        "    np.random.shuffle(rotate_axis)    \n",
        "    return flip[:,np.newaxis,:] * x[:,:,rotate_axis]\n",
        "\n",
        "def rotation2d(x, sigma=0.2):\n",
        "    thetas = np.random.normal(loc=0, scale=sigma, size=(x.shape[0]))\n",
        "    c = np.cos(thetas)\n",
        "    s = np.sin(thetas)\n",
        "    \n",
        "    ret = np.zeros_like(x)\n",
        "    for i, pat in enumerate(x):\n",
        "        rot = np.array(((c[i], -s[i]), (s[i], c[i])))\n",
        "        ret[i] = np.dot(pat, rot)\n",
        "    return ret\n",
        "\n",
        "def permutation(x, max_segments=5, seg_mode=\"equal\"):\n",
        "    orig_steps = np.arange(x.shape[1])\n",
        "    \n",
        "    num_segs = np.random.randint(1, max_segments, size=(x.shape[0]))\n",
        "    \n",
        "    ret = np.zeros_like(x)\n",
        "    for i, pat in enumerate(x):\n",
        "        if num_segs[i] > 1:\n",
        "            if seg_mode == \"random\":\n",
        "                split_points = np.random.choice(x.shape[1]-2, num_segs[i]-1, replace=False)\n",
        "                split_points.sort()\n",
        "                splits = np.split(orig_steps, split_points)\n",
        "            else:\n",
        "                splits = np.array_split(orig_steps, num_segs[i])\n",
        "            warp = np.concatenate(np.random.permutation(splits)).ravel()\n",
        "            ret[i] = pat[warp]\n",
        "        else:\n",
        "            ret[i] = pat\n",
        "    return ret\n",
        "\n",
        "def magnitude_warp(x, sigma=0.2, knot=4):\n",
        "    from scipy.interpolate import CubicSpline\n",
        "    orig_steps = np.arange(x.shape[1])\n",
        "    \n",
        "    random_warps = np.random.normal(loc=1.0, scale=sigma, size=(x.shape[0], knot+2, x.shape[2]))\n",
        "    warp_steps = (np.ones((x.shape[2],1))*(np.linspace(0, x.shape[1]-1., num=knot+2))).T\n",
        "    ret = np.zeros_like(x)\n",
        "    for i, pat in enumerate(x):\n",
        "        warper = np.array([CubicSpline(warp_steps[:,dim], random_warps[i,:,dim])(orig_steps) for dim in range(x.shape[2])]).T\n",
        "        ret[i] = pat * warper\n",
        "\n",
        "    return ret\n",
        "\n",
        "def time_warp(x, sigma=0.2, knot=4):\n",
        "    from scipy.interpolate import CubicSpline\n",
        "    orig_steps = np.arange(x.shape[1])\n",
        "    \n",
        "    random_warps = np.random.normal(loc=1.0, scale=sigma, size=(x.shape[0], knot+2, x.shape[2]))\n",
        "    warp_steps = (np.ones((x.shape[2],1))*(np.linspace(0, x.shape[1]-1., num=knot+2))).T\n",
        "    \n",
        "    ret = np.zeros_like(x)\n",
        "    for i, pat in enumerate(x):\n",
        "        for dim in range(x.shape[2]):\n",
        "            time_warp = CubicSpline(warp_steps[:,dim], warp_steps[:,dim] * random_warps[i,:,dim])(orig_steps)\n",
        "            scale = (x.shape[1]-1)/time_warp[-1]\n",
        "            ret[i,:,dim] = np.interp(orig_steps, np.clip(scale*time_warp, 0, x.shape[1]-1), pat[:,dim]).T\n",
        "    return ret\n",
        "\n",
        "def window_slice(x, reduce_ratio=0.9):\n",
        "    # https://halshs.archives-ouvertes.fr/halshs-01357973/document\n",
        "    target_len = np.ceil(reduce_ratio*x.shape[1]).astype(int)\n",
        "    if target_len >= x.shape[1]:\n",
        "        return x\n",
        "    starts = np.random.randint(low=0, high=x.shape[1]-target_len, size=(x.shape[0])).astype(int)\n",
        "    ends = (target_len + starts).astype(int)\n",
        "    \n",
        "    ret = np.zeros_like(x)\n",
        "    for i, pat in enumerate(x):\n",
        "        for dim in range(x.shape[2]):\n",
        "            ret[i,:,dim] = np.interp(np.linspace(0, target_len, num=x.shape[1]), np.arange(target_len), pat[starts[i]:ends[i],dim]).T\n",
        "    return ret\n",
        "\n",
        "def window_warp(x, window_ratio=0.1, scales=[0.5, 2.]):\n",
        "    # https://halshs.archives-ouvertes.fr/halshs-01357973/document\n",
        "    warp_scales = np.random.choice(scales, x.shape[0])\n",
        "    warp_size = np.ceil(window_ratio*x.shape[1]).astype(int)\n",
        "    window_steps = np.arange(warp_size)\n",
        "        \n",
        "    window_starts = np.random.randint(low=1, high=x.shape[1]-warp_size-1, size=(x.shape[0])).astype(int)\n",
        "    window_ends = (window_starts + warp_size).astype(int)\n",
        "            \n",
        "    ret = np.zeros_like(x)\n",
        "    for i, pat in enumerate(x):\n",
        "        for dim in range(x.shape[2]):\n",
        "            start_seg = pat[:window_starts[i],dim]\n",
        "            window_seg = np.interp(np.linspace(0, warp_size-1, num=int(warp_size*warp_scales[i])), window_steps, pat[window_starts[i]:window_ends[i],dim])\n",
        "            end_seg = pat[window_ends[i]:,dim]\n",
        "            warped = np.concatenate((start_seg, window_seg, end_seg))                \n",
        "            ret[i,:,dim] = np.interp(np.arange(x.shape[1]), np.linspace(0, x.shape[1]-1., num=warped.size), warped).T\n",
        "    return ret\n",
        "\n",
        "def spawner(x, labels, sigma=0.05, verbose=0):\n",
        "    # https://www.ncbi.nlm.nih.gov/pmc/articles/PMC6983028/\n",
        "    \n",
        "    import utils.dtw as dtw\n",
        "    random_points = np.random.randint(low=1, high=x.shape[1]-1, size=x.shape[0])\n",
        "    window = np.ceil(x.shape[1] / 10.).astype(int)\n",
        "    orig_steps = np.arange(x.shape[1])\n",
        "    l = np.argmax(labels, axis=1) if labels.ndim > 1 else labels\n",
        "    \n",
        "    ret = np.zeros_like(x)\n",
        "    for i, pat in enumerate(tqdm(x)):\n",
        "        # guarentees that same one isnt selected\n",
        "        choices = np.delete(np.arange(x.shape[0]), i)\n",
        "        # remove ones of different classes\n",
        "        choices = np.where(l[choices] == l[i])[0]\n",
        "        if choices.size > 0:     \n",
        "            random_sample = x[np.random.choice(choices)]\n",
        "            # SPAWNER splits the path into two randomly\n",
        "            path1 = dtw.dtw(pat[:random_points[i]], random_sample[:random_points[i]], dtw.RETURN_PATH, slope_constraint=\"symmetric\", window=window)\n",
        "            path2 = dtw.dtw(pat[random_points[i]:], random_sample[random_points[i]:], dtw.RETURN_PATH, slope_constraint=\"symmetric\", window=window)\n",
        "            combined = np.concatenate((np.vstack(path1), np.vstack(path2+random_points[i])), axis=1)\n",
        "            if verbose:\n",
        "                print(random_points[i])\n",
        "                dtw_value, cost, DTW_map, path = dtw.dtw(pat, random_sample, return_flag = dtw.RETURN_ALL, slope_constraint=slope_constraint, window=window)\n",
        "                dtw.draw_graph1d(cost, DTW_map, path, pat, random_sample)\n",
        "                dtw.draw_graph1d(cost, DTW_map, combined, pat, random_sample)\n",
        "            mean = np.mean([pat[combined[0]], random_sample[combined[1]]], axis=0)\n",
        "            for dim in range(x.shape[2]):\n",
        "                ret[i,:,dim] = np.interp(orig_steps, np.linspace(0, x.shape[1]-1., num=mean.shape[0]), mean[:,dim]).T\n",
        "        else:\n",
        "            print(\"There is only one pattern of class %d, skipping pattern average\"%l[i])\n",
        "            ret[i,:] = pat\n",
        "    return jitter(ret, sigma=sigma)\n",
        "\n",
        "def wdba(x, labels, batch_size=6, slope_constraint=\"symmetric\", use_window=True):\n",
        "    # https://ieeexplore.ieee.org/document/8215569\n",
        "    \n",
        "    import utils.dtw as dtw\n",
        "    \n",
        "    if use_window:\n",
        "        window = np.ceil(x.shape[1] / 10.).astype(int)\n",
        "    else:\n",
        "        window = None\n",
        "    orig_steps = np.arange(x.shape[1])\n",
        "    l = np.argmax(labels, axis=1) if labels.ndim > 1 else labels\n",
        "        \n",
        "    ret = np.zeros_like(x)\n",
        "    for i in tqdm(range(ret.shape[0])):\n",
        "        # get the same class as i\n",
        "        choices = np.where(l == l[i])[0]\n",
        "        if choices.size > 0:        \n",
        "            # pick random intra-class pattern\n",
        "            k = min(choices.size, batch_size)\n",
        "            random_prototypes = x[np.random.choice(choices, k, replace=False)]\n",
        "            \n",
        "            # calculate dtw between all\n",
        "            dtw_matrix = np.zeros((k, k))\n",
        "            for p, prototype in enumerate(random_prototypes):\n",
        "                for s, sample in enumerate(random_prototypes):\n",
        "                    if p == s:\n",
        "                        dtw_matrix[p, s] = 0.\n",
        "                    else:\n",
        "                        dtw_matrix[p, s] = dtw.dtw(prototype, sample, dtw.RETURN_VALUE, slope_constraint=slope_constraint, window=window)\n",
        "                        \n",
        "            # get medoid\n",
        "            medoid_id = np.argsort(np.sum(dtw_matrix, axis=1))[0]\n",
        "            nearest_order = np.argsort(dtw_matrix[medoid_id])\n",
        "            medoid_pattern = random_prototypes[medoid_id]\n",
        "            \n",
        "            # start weighted DBA\n",
        "            average_pattern = np.zeros_like(medoid_pattern)\n",
        "            weighted_sums = np.zeros((medoid_pattern.shape[0]))\n",
        "            for nid in nearest_order:\n",
        "                if nid == medoid_id or dtw_matrix[medoid_id, nearest_order[1]] == 0.:\n",
        "                    average_pattern += medoid_pattern \n",
        "                    weighted_sums += np.ones_like(weighted_sums) \n",
        "                else:\n",
        "                    path = dtw.dtw(medoid_pattern, random_prototypes[nid], dtw.RETURN_PATH, slope_constraint=slope_constraint, window=window)\n",
        "                    dtw_value = dtw_matrix[medoid_id, nid]\n",
        "                    warped = random_prototypes[nid, path[1]]\n",
        "                    weight = np.exp(np.log(0.5)*dtw_value/dtw_matrix[medoid_id, nearest_order[1]])\n",
        "                    average_pattern[path[0]] += weight * warped\n",
        "                    weighted_sums[path[0]] += weight \n",
        "            \n",
        "            ret[i,:] = average_pattern / weighted_sums[:,np.newaxis]\n",
        "        else:\n",
        "            print(\"There is only one pattern of class %d, skipping pattern average\"%l[i])\n",
        "            ret[i,:] = x[i]\n",
        "    return ret\n",
        "\n",
        "# Proposed\n",
        "\n",
        "def random_guided_warp(x, labels, slope_constraint=\"symmetric\", use_window=True, dtw_type=\"normal\"):\n",
        "    import utils.dtw as dtw\n",
        "    \n",
        "    if use_window:\n",
        "        window = np.ceil(x.shape[1] / 10.).astype(int)\n",
        "    else:\n",
        "        window = None\n",
        "    orig_steps = np.arange(x.shape[1])\n",
        "    l = np.argmax(labels, axis=1) if labels.ndim > 1 else labels\n",
        "    \n",
        "    ret = np.zeros_like(x)\n",
        "    for i, pat in enumerate(tqdm(x)):\n",
        "        # guarentees that same one isnt selected\n",
        "        choices = np.delete(np.arange(x.shape[0]), i)\n",
        "        # remove ones of different classes\n",
        "        choices = np.where(l[choices] == l[i])[0]\n",
        "        if choices.size > 0:        \n",
        "            # pick random intra-class pattern\n",
        "            random_prototype = x[np.random.choice(choices)]\n",
        "            \n",
        "            if dtw_type == \"shape\":\n",
        "                path = dtw.shape_dtw(random_prototype, pat, dtw.RETURN_PATH, slope_constraint=slope_constraint, window=window)\n",
        "            else:\n",
        "                path = dtw.dtw(random_prototype, pat, dtw.RETURN_PATH, slope_constraint=slope_constraint, window=window)\n",
        "                            \n",
        "            # Time warp\n",
        "            warped = pat[path[1]]\n",
        "            for dim in range(x.shape[2]):\n",
        "                ret[i,:,dim] = np.interp(orig_steps, np.linspace(0, x.shape[1]-1., num=warped.shape[0]), warped[:,dim]).T\n",
        "        else:\n",
        "            print(\"There is only one pattern of class %d, skipping timewarping\"%l[i])\n",
        "            ret[i,:] = pat\n",
        "    return ret\n",
        "\n",
        "def discriminative_guided_warp(x, labels, batch_size=6, slope_constraint=\"symmetric\", use_window=True, dtw_type=\"normal\", use_variable_slice=True):\n",
        "    import utils.dtw as dtw\n",
        "    \n",
        "    if use_window:\n",
        "        window = np.ceil(x.shape[1] / 10.).astype(int)\n",
        "    else:\n",
        "        window = None\n",
        "    orig_steps = np.arange(x.shape[1])\n",
        "    l = np.argmax(labels, axis=1) if labels.ndim > 1 else labels\n",
        "    \n",
        "    positive_batch = np.ceil(batch_size / 2).astype(int)\n",
        "    negative_batch = np.floor(batch_size / 2).astype(int)\n",
        "        \n",
        "    ret = np.zeros_like(x)\n",
        "    warp_amount = np.zeros(x.shape[0])\n",
        "    for i, pat in enumerate(tqdm(x)):\n",
        "        # guarentees that same one isnt selected\n",
        "        choices = np.delete(np.arange(x.shape[0]), i)\n",
        "        \n",
        "        # remove ones of different classes\n",
        "        positive = np.where(l[choices] == l[i])[0]\n",
        "        negative = np.where(l[choices] != l[i])[0]\n",
        "        \n",
        "        if positive.size > 0 and negative.size > 0:\n",
        "            pos_k = min(positive.size, positive_batch)\n",
        "            neg_k = min(negative.size, negative_batch)\n",
        "            positive_prototypes = x[np.random.choice(positive, pos_k, replace=False)]\n",
        "            negative_prototypes = x[np.random.choice(negative, neg_k, replace=False)]\n",
        "                        \n",
        "            # vector embedding and nearest prototype in one\n",
        "            pos_aves = np.zeros((pos_k))\n",
        "            neg_aves = np.zeros((pos_k))\n",
        "            if dtw_type == \"shape\":\n",
        "                for p, pos_prot in enumerate(positive_prototypes):\n",
        "                    for ps, pos_samp in enumerate(positive_prototypes):\n",
        "                        if p != ps:\n",
        "                            pos_aves[p] += (1./(pos_k-1.))*dtw.shape_dtw(pos_prot, pos_samp, dtw.RETURN_VALUE, slope_constraint=slope_constraint, window=window)\n",
        "                    for ns, neg_samp in enumerate(negative_prototypes):\n",
        "                        neg_aves[p] += (1./neg_k)*dtw.shape_dtw(pos_prot, neg_samp, dtw.RETURN_VALUE, slope_constraint=slope_constraint, window=window)\n",
        "                selected_id = np.argmax(neg_aves - pos_aves)\n",
        "                path = dtw.shape_dtw(positive_prototypes[selected_id], pat, dtw.RETURN_PATH, slope_constraint=slope_constraint, window=window)\n",
        "            else:\n",
        "                for p, pos_prot in enumerate(positive_prototypes):\n",
        "                    for ps, pos_samp in enumerate(positive_prototypes):\n",
        "                        if p != ps:\n",
        "                            pos_aves[p] += (1./(pos_k-1.))*dtw.dtw(pos_prot, pos_samp, dtw.RETURN_VALUE, slope_constraint=slope_constraint, window=window)\n",
        "                    for ns, neg_samp in enumerate(negative_prototypes):\n",
        "                        neg_aves[p] += (1./neg_k)*dtw.dtw(pos_prot, neg_samp, dtw.RETURN_VALUE, slope_constraint=slope_constraint, window=window)\n",
        "                selected_id = np.argmax(neg_aves - pos_aves)\n",
        "                path = dtw.dtw(positive_prototypes[selected_id], pat, dtw.RETURN_PATH, slope_constraint=slope_constraint, window=window)\n",
        "                   \n",
        "            # Time warp\n",
        "            warped = pat[path[1]]\n",
        "            warp_path_interp = np.interp(orig_steps, np.linspace(0, x.shape[1]-1., num=warped.shape[0]), path[1])\n",
        "            warp_amount[i] = np.sum(np.abs(orig_steps-warp_path_interp))\n",
        "            for dim in range(x.shape[2]):\n",
        "                ret[i,:,dim] = np.interp(orig_steps, np.linspace(0, x.shape[1]-1., num=warped.shape[0]), warped[:,dim]).T\n",
        "        else:\n",
        "            print(\"There is only one pattern of class %d\"%l[i])\n",
        "            ret[i,:] = pat\n",
        "            warp_amount[i] = 0.\n",
        "    if use_variable_slice:\n",
        "        max_warp = np.max(warp_amount)\n",
        "        if max_warp == 0:\n",
        "            # unchanged\n",
        "            ret = window_slice(ret, reduce_ratio=0.95)\n",
        "        else:\n",
        "            for i, pat in enumerate(ret):\n",
        "                # Variable Sllicing\n",
        "                ret[i] = window_slice(pat[np.newaxis,:,:], reduce_ratio=0.95+0.05*warp_amount[i]/max_warp)[0]\n",
        "    return ret"
      ],
      "execution_count": 0,
      "outputs": []
    },
    {
      "cell_type": "code",
      "metadata": {
        "id": "9yEnd2lT4RQb",
        "trusted": true,
        "colab_type": "code",
        "colab": {}
      },
      "source": [
        "def feature_roll_diff(x):\n",
        "    for i in range(3):\n",
        "      pos_x = np.roll(x[:,:,0][:,:,None], i)\n",
        "      neg_x = np.roll(x[:,:,0][:,:,None], -i)\n",
        "      # print(\"pos_x.shape\", pos_x.shape)\n",
        "      x =  np.concatenate((x, pos_x),axis = 2)\n",
        "      x =  np.concatenate((x, neg_x),axis = 2)\n",
        "      # print(\"x.shape 1 \", x.shape)\n",
        "      x =  np.concatenate((x, pos_x - x[:,:,0][:,:,None]),axis = 2) \n",
        "      x =  np.concatenate((x, neg_x - x[:,:,0][:,:,None]),axis = 2)\n",
        "      # print(\"x.shape 2 \", x.shape)\n",
        "    x =  np.concatenate((x, x[:,:,0][:,:,None]**2),axis = 2)\n",
        "      # print(\"x.shape 3 \", x.shape) \n",
        "    return x       "
      ],
      "execution_count": 0,
      "outputs": []
    },
    {
      "cell_type": "code",
      "metadata": {
        "id": "AdlC7eijQ1TI",
        "trusted": true,
        "colab_type": "code",
        "colab": {}
      },
      "source": [
        "# @tf.function(input_signature=[tf.TensorSpec(None, tf.float32)]) \n",
        "# def tf_feature_roll_diff(input): \n",
        "#   y = tf.numpy_function(feature_roll_diff, [input], tf.float32) \n",
        "#   return y"
      ],
      "execution_count": 0,
      "outputs": []
    },
    {
      "cell_type": "code",
      "metadata": {
        "ExecuteTime": {
          "end_time": "2020-04-11T02:14:24.427483Z",
          "start_time": "2020-04-11T02:14:24.422535Z"
        },
        "trusted": true,
        "id": "Ft7_2jVZcOgQ",
        "colab_type": "code",
        "colab": {}
      },
      "source": [
        "\n",
        "def augment(X: np.array, y:np.array) -> Tuple[np.array, np.array]:\n",
        "    X_aug = np.flip(X, axis=1)\n",
        "    # print(\"X_aug shape:\", X_aug.shape)\n",
        "    X = np.vstack((X, X_aug))\n",
        "\n",
        "    y = np.vstack((y, np.flip(y, axis=1)))\n",
        "    \n",
        "    return X, y"
      ],
      "execution_count": 0,
      "outputs": []
    },
    {
      "cell_type": "code",
      "metadata": {
        "id": "KVJepJOdUGqK",
        "colab_type": "code",
        "colab": {}
      },
      "source": [
        "def augment_label(X: np.array, y:np.array, Xtest : np.array, Xval : np.array) -> Tuple[np.array, np.array, np.array, np.array]:\n",
        "    X_aug = np.flip(X, axis=1)\n",
        "    print(\"X_aug shape 1:\", X_aug.shape)\n",
        "    X = np.concatenate((X, np.zeros_like(X[:,:,0][:,:,np.newaxis],dtype=np.uint8)),axis = 2)\n",
        "    Xtest = np.concatenate((Xtest, np.zeros_like(Xtest[:,:,0][:,:,np.newaxis],dtype=np.uint8)),axis = 2)\n",
        "    Xval = np.concatenate((Xval, np.zeros_like(Xval[:,:,0][:,:,np.newaxis],dtype=np.uint8)),axis = 2)   \n",
        "    \n",
        "    X_aug = np.concatenate((X_aug, np.ones_like(X_aug[:,:,0][:,:,np.newaxis],dtype=np.uint8)),axis = 2)\n",
        "\n",
        "    print(\"X_aug shape 2:\", X_aug.shape)\n",
        "    X = np.vstack((X, X_aug))\n",
        "    y = np.vstack((y, np.flip(y, axis=1)))\n",
        "    \n",
        "    return X, y, Xtest, Xval"
      ],
      "execution_count": 0,
      "outputs": []
    },
    {
      "cell_type": "code",
      "metadata": {
        "ExecuteTime": {
          "end_time": "2020-04-11T02:14:24.432964Z",
          "start_time": "2020-04-11T02:14:24.430264Z"
        },
        "trusted": true,
        "id": "Y-nODxu7cOgS",
        "colab_type": "code",
        "colab": {}
      },
      "source": [
        "# Add ops to save and restore all the variables.\n",
        "# saver = tf.train.Saver()"
      ],
      "execution_count": 0,
      "outputs": []
    },
    {
      "cell_type": "code",
      "metadata": {
        "ExecuteTime": {
          "end_time": "2020-04-11T02:14:24.438940Z",
          "start_time": "2020-04-11T02:14:24.436211Z"
        },
        "trusted": true,
        "id": "VRzoz-eacOgU",
        "colab_type": "code",
        "colab": {}
      },
      "source": [
        "# # %% [code] {\"ExecuteTime\":{\"end_time\":\"2020-04-03T23:24:41.652529Z\",\"start_time\":\"2020-04-03T23:24:41.645025Z\"}}\n",
        "# class EarlyStopping:\n",
        "#     def __init__(self, patience=5, delta=0, checkpoint_path='checkpoint.pt', is_maximize=True):\n",
        "#         self.patience, self.delta, self.checkpoint_path = patience, delta, checkpoint_path\n",
        "#         self.counter, self.best_score = 0, None\n",
        "#         self.is_maximize = is_maximize\n",
        "\n",
        "#     def load_best_weights(self, sess):\n",
        "#         saver.restore(sess, self.checkpoint_path)\n",
        "\n",
        "#     def __call__(self, score, sess):\n",
        "#         if self.best_score is None or \\\n",
        "#         (score > self.best_score + self.delta if self.is_maximize else score < self.best_score - self.delta):\n",
        "#             saver.save(sess, self.checkpoint_path)\n",
        "#             self.best_score, self.counter = score, 0\n",
        "#         else:\n",
        "#             self.counter += 1\n",
        "#             if self.counter >= self.patience:\n",
        "#                 return True\n",
        "#         return False"
      ],
      "execution_count": 0,
      "outputs": []
    },
    {
      "cell_type": "code",
      "metadata": {
        "id": "Yzq5iOKjuWUY",
        "trusted": true,
        "colab_type": "code",
        "colab": {}
      },
      "source": [
        "from sklearn.ensemble import RandomForestClassifier\n",
        "from sklearn.pipeline import make_pipeline\n",
        "from sklearn.base import BaseEstimator, TransformerMixin\n",
        "\n",
        "\n",
        "class ShiftedFeatureMaker(BaseEstimator, TransformerMixin):\n",
        "    \n",
        "    def __init__(self, periods=[1], column=\"signal\", add_minus=False, fill_value=None, copy=True):\n",
        "        self.periods = periods\n",
        "        self.column = column\n",
        "        self.add_minus = add_minus\n",
        "        self.fill_value = fill_value\n",
        "        self.copy = copy\n",
        "        \n",
        "    def fit(self, X, y):\n",
        "        \"\"\"Mock method\"\"\"\n",
        "        return self\n",
        "    \n",
        "    def transform(self, X: pd.DataFrame, y=None):\n",
        "        periods = np.asarray(self.periods, dtype=np.int32)\n",
        "        \n",
        "        if self.add_minus:\n",
        "            periods = np.append(periods, -periods)\n",
        "        \n",
        "        X_transformed = X.copy() if self.copy else X\n",
        "        \n",
        "        for p in periods:\n",
        "            X_transformed[f\"{self.column}_shifted_{p}\"] = X_transformed[self.column].shift(\n",
        "                periods=p, fill_value=self.fill_value\n",
        "            )\n",
        "            \n",
        "        return X_transformed\n",
        "\n",
        "\n",
        "class ColumnDropper(BaseEstimator, TransformerMixin):\n",
        "    \n",
        "    def __init__(self, columns=None):\n",
        "        self.columns = columns\n",
        "    \n",
        "    def fit(self, X, y):\n",
        "        \"\"\"Mock method\"\"\"\n",
        "        return self\n",
        "    \n",
        "    def transform(self, X: pd.DataFrame, y=None):\n",
        "        return X[[c for c in X.columns if c not in self.columns]]\n",
        "\n",
        "\n",
        "def add_category(train, test):\n",
        "    train[\"category\"] = 0\n",
        "    test[\"category\"] = 0\n",
        "    \n",
        "    # train segments with more then 9 open channels classes\n",
        "    train.loc[2_000_000:2_500_000-1, 'category'] = 1\n",
        "    train.loc[4_500_000:5_000_000-1, 'category'] = 1\n",
        "    \n",
        "    # # delete very noized part \n",
        "    # train.loc[3_650_000:3_820_000, \"category\"] = -1\n",
        "    # train = train[train.category != -1].reset_index(drop=True)\n",
        "    \n",
        "    # test segments with more then 9 open channels classes (potentially)\n",
        "    test.loc[500_000:600_000-1, \"category\"] = 1\n",
        "    test.loc[700_000:800_000-1, \"category\"] = 1\n",
        "    \n",
        "    return train, test\n",
        "\n",
        "def add_5_category(train, test):\n",
        "\n",
        "    train[\"category\"] = 0\n",
        "    test[\"category\"] = 0\n",
        "\n",
        "    #slow open channel\n",
        "    batch = 1; a = 500000*(batch-1); b = 500000*batch\n",
        "    batch = 2; c = 500000*(batch-1); d = 500000*batch\n",
        "    train.loc[a:b, \"category\"] = 1\n",
        "    train.loc[c:d, \"category\"] = 1 \n",
        "\n",
        "    # fast open channel\n",
        "    batch = 3; a = 500000*(batch-1); b = 500000*batch\n",
        "    batch = 7; c = 500000*(batch-1); d = 500000*batch\n",
        "    train.loc[a:b, \"category\"] = 2\n",
        "    train.loc[c:d, \"category\"] = 2\n",
        "\n",
        "    # 3 channel\n",
        "    batch = 4; a = 500000*(batch-1); b = 500000*batch\n",
        "    batch = 8; c = 500000*(batch-1); d = 500000*batch\n",
        "    train.loc[a:b, \"category\"] = 3\n",
        "    train.loc[c:d, \"category\"] = 3\n",
        "\n",
        "    # 5 open channel\n",
        "    batch = 6; a = 500000*(batch-1); b = 500000*batch\n",
        "    batch = 9; c = 500000*(batch-1); d = 500000*batch\n",
        "    train.loc[a:b, \"category\"] = 4\n",
        "    train.loc[c:d, \"category\"] = 4\n",
        "\n",
        "    # 10 open channel\n",
        "    batch = 5; a = 500000*(batch-1); b = 500000*batch\n",
        "    batch = 10; c = 500000*(batch-1); d = 500000*batch\n",
        "    train.loc[a:b, \"category\"] = 5\n",
        "    train.loc[c:d, \"category\"] = 5\n",
        "\n",
        "    a = 0 # SUBSAMPLE A, Model 1s\n",
        "    test[\"category\"].iloc[100000*a:100000*(a+1)] = 1 \n",
        "\n",
        "    a = 1 # SUBSAMPLE B, Model 3\n",
        "    test[\"category\"].iloc[100000*a:100000*(a+1)] = 3\n",
        "\n",
        "    a = 2 # SUBSAMPLE C, Model 5\n",
        "    test[\"category\"].iloc[100000*a:100000*(a+1)] = 4\n",
        "\n",
        "    a = 3 # SUBSAMPLE D, Model 1s\n",
        "    test[\"category\"].iloc[100000*a:100000*(a+1)] = 1\n",
        "\n",
        "    a = 4 # SUBSAMPLE E, Model 1f\n",
        "    test[\"category\"].iloc[100000*a:100000*(a+1)] = 2\n",
        "\n",
        "    a = 5 # SUBSAMPLE F, Model 10\n",
        "    test[\"category\"].iloc[100000*a:100000*(a+1)] = 5\n",
        "\n",
        "    a = 6 # SUBSAMPLE G, Model 5\n",
        "    test[\"category\"].iloc[100000*a:100000*(a+1)] = 4\n",
        "\n",
        "    a = 7 # SUBSAMPLE H, Model 10\n",
        "    test[\"category\"].iloc[100000*a:100000*(a+1)]= 5\n",
        "\n",
        "    a = 8 # SUBSAMPLE I, Model 1s\n",
        "    test[\"category\"].iloc[100000*a:100000*(a+1)] = 1\n",
        "\n",
        "    a = 9 # SUBSAMPLE J, Model 3\n",
        "    test[\"category\"].iloc[100000*a:100000*(a+1)] = 3\n",
        "\n",
        "    # BATCHES 3 AND 4, Model 1s\n",
        "    test[\"category\"].iloc[1000000:2000000] = 1\n",
        "\n",
        "    return train, test   "
      ],
      "execution_count": 0,
      "outputs": []
    },
    {
      "cell_type": "code",
      "metadata": {
        "id": "e6l0nc-llBdy",
        "trusted": true,
        "colab_type": "code",
        "colab": {}
      },
      "source": [
        "import pickle\n",
        "\n",
        "def prob_with_RF(train_rfc, val_rfc, test_rfc, pkl_model_filename, force_build=False):\n",
        "    shifted_rfc = make_pipeline(\n",
        "        ShiftedFeatureMaker(\n",
        "            periods=range(1, 20),\n",
        "            add_minus=True,\n",
        "            fill_value=0\n",
        "        ),\n",
        "        ColumnDropper(\n",
        "            columns=[\"open_channels\", \"time\", \"group\"]\n",
        "        ),\n",
        "        # RandomForestClassifier(\n",
        "        #     n_estimators=120,\n",
        "        #     max_depth=19,\n",
        "        #     max_features=10,\n",
        "        #     random_state=42,\n",
        "        #     n_jobs=20,\n",
        "        #     verbose=2\n",
        "        # )\n",
        "        RandomForestClassifier(\n",
        "            n_estimators=TREES,\n",
        "            max_depth=DEPTH,\n",
        "            max_features=10,\n",
        "            random_state=42,\n",
        "            n_jobs=-1,\n",
        "            verbose=2\n",
        "        )\n",
        "    )\n",
        "    if force_build or (not os.path.exists(pkl_model_filename)):\n",
        "        print(\"Train RF model:\", pkl_model_filename)\n",
        "        shifted_rfc.fit(train_rfc, train_rfc.open_channels)\n",
        "        # Save to file in the current working directory\n",
        "        # pkl_filename = \"pickle_model.pkl\"\n",
        "        with open(pkl_model_filename, 'wb') as file:\n",
        "          pickle.dump(shifted_rfc, file)\n",
        "          print(\"Save RF model: \", pkl_model_filename)\n",
        "\n",
        "    # Load from file\n",
        "    with open(pkl_model_filename, 'rb') as file:\n",
        "        pickle_model = pickle.load(file)\n",
        "        print(\"Loading RF model: \", pkl_model_filename)\n",
        "    train_predictions = pickle_model.predict_proba(train_rfc)\n",
        "    # print(\"train predic\")\n",
        "    # print(train_predictions[:10])\n",
        "    test_predictions = pickle_model.predict_proba(test_rfc)\n",
        "    val_predictions = pickle_model.predict_proba(val_rfc)\n",
        "    for i in range(11):\n",
        "        train_rfc['Prob_{}'.format(i)] = train_predictions[:,i]\n",
        "        test_rfc['Prob_{}'.format(i)] = test_predictions[:,i]\n",
        "        val_rfc['Prob_{}'.format(i)] = val_predictions[:,i]\n",
        "    \n",
        "    train_rfc = reduce_mem_usage(train_rfc)\n",
        "    test_rfc = reduce_mem_usage(test_rfc)\n",
        "    val_rfc = reduce_mem_usage(val_rfc)\n",
        "    return train_rfc, val_rfc, test_rfc\n"
      ],
      "execution_count": 0,
      "outputs": []
    },
    {
      "cell_type": "code",
      "metadata": {
        "id": "Xuj2XnjrBJmg",
        "trusted": true,
        "colab_type": "code",
        "colab": {}
      },
      "source": [
        "# a = np.random.randn(3,4,2)\n",
        "# print(a)\n",
        "# print(a.shape)\n",
        "# b = np.random.randn(3,4)\n",
        "# print(b)\n",
        "# print(b.shape)\n",
        "# print(b[:,:,None].shape)\n",
        "# c = np.concatenate((a,b[:,:,None]), axis=2)\n",
        "# print(c)\n",
        "# print(c.shape)"
      ],
      "execution_count": 0,
      "outputs": []
    },
    {
      "cell_type": "code",
      "metadata": {
        "id": "MY_Z_SDD1kkJ",
        "trusted": true,
        "colab_type": "code",
        "colab": {}
      },
      "source": [
        "# class CustomGen(TimeseriesGenerator):\n",
        "#     def __getitem__(self, idx):\n",
        "#         x, y = super().__getitem__(idx)\n",
        "#         print(\"x.shape 1:\", x.shape)\n",
        "#         x = np.squeeze(x)\n",
        "#         # y = np.squeeze(y)\n",
        "#         # print(y[0])\n",
        "#         # timelen = x.shape[1]\n",
        "#         # jitterscale = 0.1\n",
        "#         # mulscale = 0.1\n",
        "#         ## do processing here\n",
        "#         # if (np.random.rand()<0):\n",
        "#         #     if(np.random.rand()<0.5):\n",
        "#         #         # augid = np.random.randint(low = 0, high = timelen, size = np.ceil(timelen*jitterscale).astype(int))\n",
        "#         #         # augid = np.unique(augid)\n",
        "#         #         x[:,:,0] = np.squeeze(jitter(x[:,:,0][:,:,None], sigma = 0.01))\n",
        "#         #     else:\n",
        "#         #         # augid = np.random.randint(low = 0, high = timelen, size = np.ceil(timelen*mulscale).astype(int))\n",
        "#         #         # augid = np.unique(augid)\n",
        "#         #         x[:,:,0] = np.squeeze(scaling(x[:,:,0][:,:,None], sigma = 0.02))\n",
        "#         #     for i in range(3):\n",
        "#         #         pos_x = np.roll(x[:,:,0], i)\n",
        "#         #         neg_x = np.roll(x[:,:,0], -i)\n",
        "#         #         x[:,:,12+i*4] = pos_x\n",
        "#         #         x[:,:,12+i*4+1] = neg_x\n",
        "#         #         x[:,:,12+i*4+3] = pos_x - x[:,:,0]\n",
        "#         #         x[:,:,12+i*4+4] = neg_x - x[:,:,0]\n",
        "#         #     x[:,:,24] = x[:,:,0]**2\n",
        "#         # print(\"x.shape 2:\", x.shape)\n",
        "#         return x, y"
      ],
      "execution_count": 0,
      "outputs": []
    },
    {
      "cell_type": "code",
      "metadata": {
        "id": "RXy4eGuFM4Gq",
        "trusted": true,
        "colab_type": "code",
        "colab": {}
      },
      "source": [
        "from tensorflow.python.keras.utils.data_utils import Sequence\n",
        "\n",
        "class CustomSequence(Sequence):\n",
        "    def __init__(self, x_set, y_set, batch_size, augmentations=None):\n",
        "        self.x, self.y = x_set, y_set\n",
        "        self.batch_size = batch_size\n",
        "        self.augment = augmentations\n",
        "        self.indices = np.arange(self.x.shape[0])\n",
        "\n",
        "    def __len__(self):\n",
        "        return int(np.ceil(len(self.x) / float(self.batch_size)))\n",
        "\n",
        "    def my_aug(self, x):\n",
        "        if(np.random.rand()<0.5):\n",
        "            x[:,:,0] = np.squeeze(jitter(x[:,:,0][:,:,None], sigma = 0.01))\n",
        "        else:\n",
        "            x[:,:,0] = np.squeeze(scaling(x[:,:,0][:,:,None], sigma = 0.02))\n",
        "        for i in range(3):\n",
        "            pos_x = np.roll(x[:,:,0], i)\n",
        "            neg_x = np.roll(x[:,:,0], -i)\n",
        "            x[:,:,12+i*4] = pos_x\n",
        "            x[:,:,12+i*4+1] = neg_x\n",
        "            x[:,:,12+i*4+3] = pos_x - x[:,:,0]\n",
        "            x[:,:,12+i*4+4] = neg_x - x[:,:,0]\n",
        "        x[:,:,24] = x[:,:,0]**2\n",
        "        return x\n",
        "\n",
        "    def __getitem__(self, idx):\n",
        "        inds = self.indices[idx * self.batch_size:(idx + 1) * self.batch_size]\n",
        "        batch_x = self.x[inds]\n",
        "        batch_y = self.y[inds]\n",
        "        if (np.random.rand()<0.1):\n",
        "            batch_x = self.my_aug(batch_x)\n",
        "\n",
        "        return np.array(batch_x), np.array(batch_y)\n",
        "        # return np.stack([\n",
        "        #     self.augment(image=x)[\"image\"] for x in batch_x\n",
        "        # ], axis=0), np.array(batch_y)\n",
        "    def on_epoch_end(self):\n",
        "          np.random.shuffle(self.indices)"
      ],
      "execution_count": 0,
      "outputs": []
    },
    {
      "cell_type": "code",
      "metadata": {
        "id": "7cZcailO_uCR",
        "trusted": true,
        "colab_type": "code",
        "colab": {}
      },
      "source": [
        "# a = np.random.randn(8,3)\n",
        "# print(a)\n",
        "# b = np.random.randn(8,5)\n",
        "# print(b)\n",
        "# data_gen = CustomSequence(a,b, batch_size=2)\n",
        "# print(\"get custom data\")\n",
        "# tx, ty = data_gen[0]\n",
        "# print(tx.shape)\n",
        "# print(ty.shape)\n",
        "# print(tx)\n",
        "# print(ty)"
      ],
      "execution_count": 0,
      "outputs": []
    },
    {
      "cell_type": "code",
      "metadata": {
        "id": "amY5F_7BqFHc",
        "trusted": true,
        "colab_type": "code",
        "colab": {}
      },
      "source": [
        "def generate_sample_weights(training_data): \n",
        "    sample_weights = np.where(training_data[:,:,8] == 0, 1, 3.0)\n",
        "    print(\"unique sample:\", np.unique(sample_weights))\n",
        "    print(\"3 count:\", np.count_nonzero(np.asarray(sample_weights)-1))\n",
        "    print(\"1 count:\", np.count_nonzero(np.asarray(sample_weights)-3))\n",
        "    return np.asarray(sample_weights)"
      ],
      "execution_count": 0,
      "outputs": []
    },
    {
      "cell_type": "code",
      "metadata": {
        "ExecuteTime": {
          "end_time": "2020-04-11T02:14:24.477074Z",
          "start_time": "2020-04-11T02:14:24.441269Z"
        },
        "code_folding": [],
        "id": "e4QulGxHfS0n",
        "trusted": true,
        "colab_type": "code",
        "colab": {}
      },
      "source": [
        "from tensorflow.keras.utils import plot_model\n",
        "def run_cv_model_by_batch(train : pd.DataFrame,\n",
        "                          test : pd.DataFrame,\n",
        "                          splits : int,\n",
        "                          batch_col : Text,\n",
        "                          feats : List,\n",
        "                          sample_submission: pd.DataFrame,\n",
        "                          nn_epochs : int,\n",
        "                          nn_batch_size : int) -> NoReturn:\n",
        "    seed_everything(SEED)\n",
        "    K.clear_session()\n",
        "    if not os.path.exists(outdir):\n",
        "      os.mkdir(outdir)\n",
        "    print(outdir)\n",
        "    config = tf.compat.v1.ConfigProto(intra_op_parallelism_threads=1,inter_op_parallelism_threads=1)\n",
        "    sess = tf.compat.v1.Session(graph=tf.compat.v1.get_default_graph(), config=config)\n",
        "    tf.compat.v1.keras.backend.set_session(sess)\n",
        "\n",
        "    train_rfc = pd.DataFrame(train, columns=['time', 'signal', 'open_channels', 'group'])\n",
        "\n",
        "    test_rfc = pd.DataFrame(test, columns=['time', 'signal', 'group'])\n",
        "    train_rfc, test_rfc = add_category(train_rfc, test_rfc)\n",
        "    print(train_rfc.shape[0],train_rfc.shape[1])\n",
        "    print(train_rfc.head())\n",
        "    oof_ = np.zeros((len(train), 11))\n",
        "    preds_ = np.zeros((len(test), 11))\n",
        "    target = ['open_channels']\n",
        "    group = train['group']\n",
        "    kf = GroupKFold(n_splits=5)\n",
        "    splits = [x for x in kf.split(train, train[target], group)]\n",
        "\n",
        "    # pkl_path = os.path.join(PATH,'res/RFC/pickle_model_rfc_20_10.pkl')\n",
        "    # pkl_gen_path = os.path.join(PATH,'res/RFC/pickle_model_rfc_20_10_run3.pkl')\n",
        "\n",
        "    new_splits = []\n",
        "    for sp in splits:\n",
        "        new_split = []\n",
        "        new_split.append(np.unique(group[sp[0]]))\n",
        "        new_split.append(np.unique(group[sp[1]]))\n",
        "        new_split.append(sp[0])  \n",
        "        new_split.append(sp[1])    \n",
        "        new_splits.append(new_split)\n",
        "\n",
        "    # Calculate the weights for each class so that we can balance the data\n",
        "    weights_ = class_weight.compute_class_weight('balanced',\n",
        "                                                np.unique(train.open_channels),\n",
        "                                                train.open_channels)\n",
        "    print(\"weights_:\", weights_)\n",
        "\n",
        "    nums_ = train.open_channels.value_counts(sort=False)\n",
        "    print(\"nums_:\", nums_)\n",
        "    beta = BETA\n",
        "    effective_num = 1.0 - np.power(beta, nums_)\n",
        "    weights = (1.0 - beta) / np.array(effective_num)\n",
        "    cb_weights_ = weights / np.sum(weights) * 11\n",
        "    print(\"cb_weights_:\", cb_weights_)   \n",
        "        \n",
        "    tr = pd.concat([pd.get_dummies(train.open_channels), train[['group']]], axis=1)\n",
        "\n",
        "    tr.columns = ['target_'+str(i) for i in range(11)] + ['group']\n",
        "    # print(tr.head())\n",
        "    target_cols = ['target_'+str(i) for i in range(11)]\n",
        "    train_tr = np.array(list(tr.groupby('group').apply(lambda x: x[target_cols].values))).astype(np.float32)\n",
        "    print(np.shape(train_tr))\n",
        "    train = np.array(list(train.groupby('group').apply(lambda x: x[feats].values)))\n",
        "    print(np.shape(train))\n",
        "    test = np.array(list(test.groupby('group').apply(lambda x: x[feats].values)))\n",
        "    # print(\"test shape:\", np.shape(test))\n",
        "    for n_fold, (tr_idx, val_idx, tr_orig_idx, val_orig_idx) in enumerate(new_splits[0:], start=0):\n",
        "        sub_dir = os.path.join(outdir,\"{}_fold\".format(n_fold))\n",
        "        # if n_fold<3:\n",
        "        #     continue\n",
        "        # if n_fold== 4:\n",
        "        #     break\n",
        "\n",
        "        if not os.path.exists(sub_dir):\n",
        "            os.mkdir(sub_dir)\n",
        "        # pkl_model_filename = os.path.join(sub_dir,'rf-{}-tn{}-dn{}.pkl'.format(n_fold, TREES, DEPTH))\n",
        "        pkl_model_filename = os.path.join(PATH,'res/RFC/RF100-D12/rf-f{}-tn{}-dn{}.pkl'.format(n_fold, TREES, DEPTH))\n",
        "        # pkl_model_filename = os.path.join(PATH,'myrfres/rf-f{}-tn{}-dn{}.pkl'.format(n_fold, TREES, DEPTH))\n",
        "        # print(\"train index\")\n",
        "        # print(\"tr_orig_idx max and min:\", max(tr_orig_idx), min(tr_orig_idx))\n",
        "        # print(\"tr_orig_idx shape:\", np.shape(tr_orig_idx))\n",
        "        # train_rfc_ = train_rfc.iloc[tr_orig_idx].copy()\n",
        "        # valid_rfc_ = train_rfc.iloc[val_orig_idx].copy()\n",
        "        # test_rfc_ = test_rfc.copy()\n",
        "        # train_rfc_, valid_rfc_, test_rfc_ = prob_with_RF(train_rfc_, valid_rfc_, test_rfc_, pkl_model_filename)\n",
        "        # # print(train_rfc_.head())\n",
        "        # # print(valid_rfc_.head())\n",
        "        # # print(test_rfc.head())\n",
        "        # print(\"train_rfc_.shape: \",train_rfc_.shape)\n",
        "        # print(\"tr_idx shape: \", np.shape(tr_idx))\n",
        "        # print(\"train shape:\", np.shape(train))\n",
        "\n",
        "        # if n_fold < 2:\n",
        "        train_x, train_y = train[tr_idx], train_tr[tr_idx]\n",
        "        valid_x, valid_y = train[val_idx], train_tr[val_idx]\n",
        "        test_ = test.copy()\n",
        "\n",
        "        # print(\"train_x shape 1: \", np.shape(train_x))\n",
        "        # for i in range(11):\n",
        "        #   trainprob = np.array(list(train_rfc_.groupby('group').apply(lambda x: x['Prob_{}'.format(i)].values)))\n",
        "        #   train_x = np.concatenate((train_x, trainprob[:,:,None]),axis = 2)\n",
        "        #   vprob = np.array(list(valid_rfc_.groupby('group').apply(lambda x: x['Prob_{}'.format(i)].values)))\n",
        "        #   valid_x = np.concatenate((valid_x, vprob[:,:,None]),axis = 2)\n",
        "        #   testprob = np.array(list(test_rfc_.groupby('group').apply(lambda x: x['Prob_{}'.format(i)].values)))\n",
        "        #   test_ = np.concatenate((test_, testprob[:,:,None]),axis = 2)\n",
        "        # print(\"train_x shape 2: \", np.shape(train_x))\n",
        "\n",
        "\n",
        "        # train_x, train_y = augment(train_x, train_y)\n",
        "        train_x, train_y, test_, valid_x = augment_label(train_x, train_y, test_, valid_x)\n",
        "\n",
        "        print(\"unique train_x[8]:\", np.unique(train_x[:,:,8]))\n",
        "        # train_x = feature_roll_diff(train_x)\n",
        "        # test_ = feature_roll_diff(test_)\n",
        "        # valid_x = feature_roll_diff(valid_x)\n",
        "        print(\"test shape after roll diff:\", np.shape(test_))\n",
        "\n",
        "        print(\"train_x shape 3: \", np.shape(train_x))\n",
        "        print(\"train_y shape 3: \", np.shape(train_y))\n",
        "        gc.collect()\n",
        "        shape_ = (BATCHSIZE, train_x.shape[2])\n",
        "        model = ClassifierCBRWmulti(shape_)\n",
        "        # plot_model(model, to_file='model.png')\n",
        "        print(\"model initilization done!\")\n",
        "        cb_lr_schedule = LearningRateScheduler(lr_schedule)\n",
        "        # cb_clr = CyclicLR(base_lr=1e-7, max_lr = LR, step_size= int(1.0*(train.shape[0])/(nn_batch_size*4)) , \n",
        "        #                   mode='exp_range', gamma=Gamma, scale_fn=None, scale_mode='cycle')\n",
        "        cb_prg = tfa.callbacks.TQDMProgressBar(leave_epoch_progress=False,leave_overall_progress=False, \n",
        "                                               show_epoch_progress=False,show_overall_progress=True)\n",
        "        cb_reduce_lr = ReduceLROnPlateau(monitor='val_loss', factor=0.2,\n",
        "                              patience=5, min_lr=1e-6, verbose = 1)\n",
        "        # cb_csv_logger= CSVLogger(os.path.join(sub_dir,'res.csv'))\n",
        "        # cb_history = LossHistory()  # 这里是使用自定义的Callback回调函数，当然本身fit函数也会返回一个history可供使用\n",
        "        \n",
        "        save_checkpoint_path = os.path.join(sub_dir,'checkpoint-modelonly-{}.h5'.format(n_fold))\n",
        "        save_finalmodel_path = os.path.join(sub_dir,'fmodel-modelonly-{}.h5'.format(n_fold))\n",
        "        save_bestf1macro_path = os.path.join(sub_dir,'checkpoint-{}.h5'.format(n_fold)) \n",
        "        cp_callback = tf.keras.callbacks.ModelCheckpoint(filepath=save_checkpoint_path,\n",
        "                                              monitor='val_accuracy',\n",
        "                                              mode = 'max',            \n",
        "                                              save_weights_only=True,\n",
        "                                              save_best_only=True,           \n",
        "                                              verbose=1)\n",
        "        # print(train_y[0])\n",
        "        data_gen = CustomSequence(train_x,train_y, batch_size = nn_batch_size)\n",
        "        # history = model.fit_generator(generator = data_gen,\n",
        "        #     epochs=nn_epochs,\n",
        "        #     callbacks=[cb_prg, cb_clr, cp_callback,\n",
        "        #                 MacroF1ES(model, valid_x, valid_y, patience=70, delta=0, \n",
        "        #                           checkpoint_path=save_bestf1macro_path)],\n",
        "        #     verbose=1,\n",
        "        #     validation_data=(valid_x,valid_y))\n",
        "        # history = model.fit(x = data_gen,\n",
        "        #             epochs=nn_epochs,\n",
        "        #             callbacks=[cb_prg, cb_lr_schedule, cp_callback,\n",
        "        #                         MacroF1ES(model, valid_x, valid_y, patience=70, delta=0, \n",
        "        #                                   checkpoint_path=save_bestf1macro_path)],\n",
        "        #             batch_size=nn_batch_size,\n",
        "        #             verbose=1,\n",
        "        #             validation_data=(valid_x,valid_y),\n",
        "        #             shuffle = False)\n",
        "        history = model.fit(train_x, train_y,\n",
        "            epochs=nn_epochs,\n",
        "            callbacks=[cb_prg, cb_lr_schedule, cp_callback,\n",
        "                        MacroF1ES(model, valid_x, valid_y, patience=70, delta=0, \n",
        "                                  checkpoint_path=save_bestf1macro_path)],\n",
        "            batch_size=nn_batch_size,\n",
        "#             sample_weights = generate_sample_weights(train_x),\n",
        "            verbose=1,\n",
        "            validation_data=(valid_x,valid_y))\n",
        "        pd.DataFrame(history.history).to_csv(os.path.join(sub_dir,'{}-len{}-lr{}-{}-log-{}.csv'.format(MODELNAME,BATCHSIZE,LR,timestampStr, n_fold)), float_format='%.4f')\n",
        "        # print('\\nhistory dict:', history.history)\n",
        "        model.save_weights(save_finalmodel_path)\n",
        "        model.load_weights(save_finalmodel_path)\n",
        "        # model.load_weights(save_checkpoint_path)\n",
        "        preds_f = model.predict(valid_x)\n",
        "        # preds_f = np.squeeze(preds_f)\n",
        "        print(\"preds_f shape:\", preds_f.shape)\n",
        "        f1_score_ = f1_score(np.argmax(valid_y, axis=2).reshape(-1),  \n",
        "                             np.argmax(preds_f, axis=2).reshape(-1), average = 'macro')\n",
        "        logger.info(f'Training fold {n_fold + 1} completed. macro f1 score : {f1_score_ :1.5f}')\n",
        "        preds_f = preds_f.reshape(-1, preds_f.shape[-1])\n",
        "        oof_[val_orig_idx,:] += preds_f\n",
        "        te_preds = model.predict(test_)\n",
        "        # te_preds = np.squeeze(te_preds)\n",
        "        te_preds = te_preds.reshape(-1, te_preds.shape[-1])           \n",
        "        preds_ += te_preds / SPLITS\n",
        "\n",
        "    # oof_ = np.array([oof_[k]/sum(oof_[k]) for k in range(len(oof_))])\n",
        "    # print(np.all(abs(1-np.sum(oof_,axis = 1))<1e-6))\n",
        "    # oofres = pd.DataFrame({f'tProb{k}': oof_[:, k] for k in range(11)})\n",
        "    # oofres.to_csv(os.path.join(outdir,'{}_tranformerprobv2.csv'.format(VERSION)), float_format='%.4f')\n",
        "    # display(oofres.head())\n",
        "\n",
        "    # preds_ = np.array([preds_[k]/sum(preds_[k]) for k in range(len(preds_))])\n",
        "    # print(np.all(abs(1-np.sum(preds_,axis = 1))<1e-6))\n",
        "    # predsres = pd.DataFrame({f'tProb{k}': preds_[:, k] for k in range(11)})\n",
        "    # predsres.to_csv(os.path.join(outdir,'{}_test_tranformerprobv2.csv'.format(VERSION)), float_format='%.4f')\n",
        "    # display(predsres.head())\n",
        "\n",
        "    f1_score_ =f1_score(np.argmax(train_tr, axis=2).reshape(-1),  np.argmax(oof_, axis=1), average = 'macro')\n",
        "    logger.info(f'Training completed. oof macro f1 score : {f1_score_:1.5f}')\n",
        "    sample_submission['open_channels'] = np.argmax(preds_, axis=1).astype(int)\n",
        "    sample_submission.to_csv(os.path.join(outdir,'{}_pred.csv'.format(VERSION)), index=False, float_format='%.4f')\n",
        "    display(sample_submission.head())\n",
        "    # np.save(os.path.join(outdir,'oof.npy'), oof_)\n",
        "    # np.save(os.path.join(outdir,'preds.npy'), preds_)\n",
        "\n",
        "    return \n"
      ],
      "execution_count": 0,
      "outputs": []
    },
    {
      "cell_type": "code",
      "metadata": {
        "ExecuteTime": {
          "end_time": "2020-04-11T02:14:24.485692Z",
          "start_time": "2020-04-11T02:14:24.479620Z"
        },
        "id": "dqt0VJAS2ucB",
        "trusted": true,
        "colab_type": "code",
        "colab": {}
      },
      "source": [
        "\n",
        "# def lr_schedule(epoch):\n",
        "#     if epoch < 40:\n",
        "#         lr = LR\n",
        "#     elif epoch < 50:\n",
        "#         lr = LR / 3\n",
        "#     elif epoch < 60:\n",
        "#         lr = LR / 6\n",
        "#     elif epoch < 75:\n",
        "#         lr = LR / 9\n",
        "#     elif epoch < 85:\n",
        "#         lr = LR / 12\n",
        "#     elif epoch < 100:\n",
        "#         lr = LR / 15\n",
        "#     else:\n",
        "#         lr = LR / 50\n",
        "#     return lr"
      ],
      "execution_count": 0,
      "outputs": []
    },
    {
      "cell_type": "code",
      "metadata": {
        "id": "aaClcd8zJIyC",
        "trusted": true,
        "colab_type": "code",
        "colab": {}
      },
      "source": [
        "# # function that decrease the learning as epochs increase (i also change this part of the code)\n",
        "def lr_schedule(epoch):\n",
        "    if epoch < 30:\n",
        "        lr = LR\n",
        "    elif epoch < 40:\n",
        "        lr = LR / 3\n",
        "    elif epoch < 50:\n",
        "        lr = LR / 5\n",
        "    elif epoch < 60:\n",
        "        lr = LR / 7\n",
        "    elif epoch < 70:\n",
        "        lr = LR / 9\n",
        "    elif epoch < 80:\n",
        "        lr = LR / 11\n",
        "    elif epoch < 90:\n",
        "        lr = LR / 13\n",
        "    elif epoch < 150:\n",
        "        lr = LR / 100\n",
        "    else:\n",
        "        lr = LR / 1000\n",
        "    return lr"
      ],
      "execution_count": 0,
      "outputs": []
    },
    {
      "cell_type": "code",
      "metadata": {
        "id": "AeyLImbpAKdx",
        "colab_type": "code",
        "colab": {}
      },
      "source": [
        "# function that decrease the learning as epochs increase (i also change this part of the code)\n",
        "# def lr_schedule(epoch):\n",
        "#     if epoch < 30:\n",
        "#         lr = LR\n",
        "#     elif epoch < 40:\n",
        "#         lr = LR / 5\n",
        "#     elif epoch < 50:\n",
        "#         lr = LR / 9\n",
        "#     elif epoch < 60:\n",
        "#         lr = LR / 13\n",
        "#     elif epoch < 70:\n",
        "#         lr = LR / 15\n",
        "#     elif epoch < 80:\n",
        "#         lr = LR / 100\n",
        "#     else:\n",
        "#         lr = LR / 1000\n",
        "#     return lr"
      ],
      "execution_count": 0,
      "outputs": []
    },
    {
      "cell_type": "code",
      "metadata": {
        "id": "nzrGUesf5vYU",
        "colab_type": "code",
        "colab": {}
      },
      "source": [
        "# # function that decrease the learning as epochs increase (i also change this part of the code)\n",
        "# def lr_schedule(epoch):\n",
        "#     if epoch < 20:\n",
        "#         lr = LR\n",
        "#     elif epoch < 30:\n",
        "#         lr = LR / 3\n",
        "#     elif epoch < 40:\n",
        "#         lr = LR / 5\n",
        "#     elif epoch < 50:\n",
        "#         lr = LR / 9\n",
        "#     elif epoch < 60:\n",
        "#         lr = LR / 13\n",
        "#     elif epoch < 70:\n",
        "#         lr = LR / 15\n",
        "#     elif epoch < 80:\n",
        "#         lr = LR / 100\n",
        "#     else:\n",
        "#         lr = LR / 1000\n",
        "#     return lr"
      ],
      "execution_count": 0,
      "outputs": []
    },
    {
      "cell_type": "code",
      "metadata": {
        "ExecuteTime": {
          "end_time": "2020-04-11T02:14:24.499088Z",
          "start_time": "2020-04-11T02:14:24.488223Z"
        },
        "id": "SjbrEQSa2ucN",
        "trusted": true,
        "colab_type": "code",
        "colab": {}
      },
      "source": [
        "class Mish(tf.keras.layers.Layer):\n",
        "\n",
        "    def __init__(self, **kwargs):\n",
        "        super(Mish, self).__init__(**kwargs)\n",
        "        self.supports_masking = True\n",
        "\n",
        "    def call(self, inputs):\n",
        "        return inputs * K.tanh(K.softplus(inputs))\n",
        "\n",
        "    def get_config(self):\n",
        "        base_config = super(Mish, self).get_config()\n",
        "        return dict(list(base_config.items()) + list(config.items()))\n",
        "\n",
        "    def compute_output_shape(self, input_shape):\n",
        "        return input_shape\n",
        "def mish(x):\n",
        "\treturn tf.keras.layers.Lambda(lambda x: x*K.tanh(K.softplus(x)))(x)\n",
        " \n",
        "from tensorflow.keras.utils import get_custom_objects\n",
        "# from tensorflow.keras.layers import Activation\n",
        "get_custom_objects().update({'mish': Activation(mish)})"
      ],
      "execution_count": 0,
      "outputs": []
    },
    {
      "cell_type": "code",
      "metadata": {
        "ExecuteTime": {
          "end_time": "2020-04-11T02:14:24.521416Z",
          "start_time": "2020-04-11T02:14:24.502541Z"
        },
        "id": "dM8RiNfL2ucY",
        "trusted": true,
        "colab_type": "code",
        "colab": {}
      },
      "source": [
        "import tensorflow as tf\n",
        "from tensorflow.keras.layers import Layer\n",
        "from tensorflow.keras import initializers\n",
        "from tensorflow.keras import regularizers\n",
        "from tensorflow.keras import constraints\n",
        "\n",
        "# class Attention(Layer):\n",
        "#     \"\"\"Multi-headed attention layer.\"\"\"\n",
        "    \n",
        "#     def __init__(self, hidden_size, \n",
        "#                  num_heads = 8, \n",
        "#                  attention_dropout=.1,\n",
        "#                  trainable=True,\n",
        "#                  name='Attention'):\n",
        "        \n",
        "#         if hidden_size % num_heads != 0:\n",
        "#             raise ValueError(\"Hidden size must be evenly divisible by the number of heads.\")\n",
        "            \n",
        "#         self.hidden_size = hidden_size\n",
        "#         self.num_heads = num_heads\n",
        "#         self.trainable = trainable\n",
        "#         self.attention_dropout = attention_dropout\n",
        "#         self.dense = tf.keras.layers.Dense(self.hidden_size, use_bias=False)\n",
        "#         self.time_dense = TimeDistributed(Dense(self.hidden_size, use_bias=False))\n",
        "#         super(Attention, self).__init__(name=name)\n",
        "\n",
        "#     def split_heads(self, x):\n",
        "#         \"\"\"Split x into different heads, and transpose the resulting value.\n",
        "#         The tensor is transposed to insure the inner dimensions hold the correct\n",
        "#         values during the matrix multiplication.\n",
        "#         Args:\n",
        "#           x: A tensor with shape [batch_size, length, hidden_size]\n",
        "#         Returns:\n",
        "#           A tensor with shape [batch_size, num_heads, length, hidden_size/num_heads]\n",
        "#         \"\"\"\n",
        "#         with tf.name_scope(\"split_heads\"):\n",
        "#             batch_size = tf.shape(x)[0]\n",
        "#             length = tf.shape(x)[1]\n",
        "\n",
        "#             # Calculate depth of last dimension after it has been split.\n",
        "#             depth = (self.hidden_size // self.num_heads)\n",
        "\n",
        "#             # Split the last dimension\n",
        "#             x = tf.reshape(x, [batch_size, length, self.num_heads, depth])\n",
        "\n",
        "#             # Transpose the result\n",
        "#             return tf.transpose(x, [0, 2, 1, 3])\n",
        "    \n",
        "#     def combine_heads(self, x):\n",
        "#         \"\"\"Combine tensor that has been split.\n",
        "#         Args:\n",
        "#           x: A tensor [batch_size, num_heads, length, hidden_size/num_heads]\n",
        "#         Returns:\n",
        "#           A tensor with shape [batch_size, length, hidden_size]\n",
        "#         \"\"\"\n",
        "#         with tf.name_scope(\"combine_heads\"):\n",
        "#             batch_size = tf.shape(x)[0]\n",
        "#             length = tf.shape(x)[2]\n",
        "#             x = tf.transpose(x, [0, 2, 1, 3])  # --> [batch, length, num_heads, depth]\n",
        "#             return tf.reshape(x, [batch_size, length, self.hidden_size])        \n",
        "\n",
        "#     def call(self, inputs):\n",
        "#         \"\"\"Apply attention mechanism to inputs.\n",
        "#         Args:\n",
        "#           inputs: a tensor with shape [batch_size, length_x, hidden_size]\n",
        "#         Returns:\n",
        "#           Attention layer output with shape [batch_size, length_x, hidden_size]\n",
        "#         \"\"\"\n",
        "#         # Google developper use tf.layer.Dense to linearly project the queries, keys, and values.\n",
        "#         q = self.dense(inputs)\n",
        "#         k = self.dense(inputs)\n",
        "#         v = self.dense(inputs)\n",
        "\n",
        "#         q = self.split_heads(q)\n",
        "#         k = self.split_heads(k)\n",
        "#         v = self.split_heads(v)\n",
        "        \n",
        "#         # Scale q to prevent the dot product between q and k from growing too large.\n",
        "#         depth = (self.hidden_size // self.num_heads)\n",
        "#         q *= depth ** -0.5\n",
        "        \n",
        "#         logits = tf.matmul(q, k, transpose_b=True)\n",
        "#         # logits += self.bias\n",
        "#         weights = tf.nn.softmax(logits, name=\"attention_weights\")\n",
        "        \n",
        "#         if self.trainable:\n",
        "#             weights = tf.nn.dropout(weights, 1.0 - self.attention_dropout)\n",
        "        \n",
        "#         attention_output = tf.matmul(weights, v)\n",
        "#         attention_output = self.combine_heads(attention_output)\n",
        "#         attention_output = self.time_dense(attention_output)\n",
        "#         attention_output = Dropout(self.attention_dropout)(attention_output)\n",
        "#         return attention_output\n",
        "        \n",
        "#     def compute_output_shape(self, input_shape):\n",
        "#         return tf.TensorShape(input_shape)\n",
        "\n",
        "#     def get_config(self):\n",
        "#         base_config = super(Attention, self).get_config()\n",
        "#         config = {'hidden_size' : self.hidden_size,\n",
        "#                     'num_heads' : self.num_heads,\n",
        "#                     'trainable' : self.trainable,\n",
        "#                     'attention_dropout' : self.attention_dropout,\n",
        "#                     'name':'Attention'}\n",
        "#         # config = {'name':'Attention'}\n",
        "#         return dict(list(base_config.items()) + list(config.items()))"
      ],
      "execution_count": 0,
      "outputs": []
    },
    {
      "cell_type": "code",
      "metadata": {
        "id": "Vrzikcyx8ptJ",
        "trusted": true,
        "colab_type": "code",
        "colab": {}
      },
      "source": [
        "# focal loss with one-hot labels, multiclass\n",
        "def cb_focal_loss(classes_weights, gamma=2., alpha=.25, w=3e-4):\n",
        "    # classes_weights contains weights of each classes\n",
        "    def cb_focal_loss_fixed(target_tensor, prediction_tensor):\n",
        "        '''\n",
        "        prediction_tensor is the output tensor with shape [None, 100], where 100 is the number of classes\n",
        "        target_tensor is the label tensor, same shape as predcition_tensor\n",
        "        '''\n",
        "\n",
        "        #1# get focal loss with no balanced weight which presented in paper function (4)\n",
        "        zeros = array_ops.zeros_like(prediction_tensor, dtype=prediction_tensor.dtype)\n",
        "        one_minus_p = array_ops.where(tf.greater(target_tensor,zeros), target_tensor - prediction_tensor, zeros)\n",
        "        FT = -1 * (one_minus_p ** gamma) * tf.math.log(tf.clip_by_value(prediction_tensor, 1e-8, 1.0))\n",
        "\n",
        "        #2# get balanced weight alpha\n",
        "        classes_weight = array_ops.zeros_like(prediction_tensor, dtype=prediction_tensor.dtype)\n",
        "        classes_w_tensor = tf.convert_to_tensor(classes_weights, dtype=prediction_tensor.dtype)\n",
        "        classes_weight += classes_w_tensor\n",
        "\n",
        "        alpha = array_ops.where(tf.greater(target_tensor, zeros), classes_weight, zeros)\n",
        "\n",
        "        #3# get balanced focal loss\n",
        "        balanced_fl = alpha * FT\n",
        "        balanced_fl = tf.reduce_mean(balanced_fl)\n",
        "\n",
        "        #4# add other op to prevent overfit\n",
        "        # reference : https://spaces.ac.cn/archives/4493\n",
        "        nb_classes = len(classes_weights)\n",
        "        fianal_loss = (1-w) * balanced_fl + w * K.categorical_crossentropy(K.ones_like(prediction_tensor)/nb_classes, prediction_tensor)\n",
        "\n",
        "        return fianal_loss\n",
        "    return cb_focal_loss_fixed"
      ],
      "execution_count": 0,
      "outputs": []
    },
    {
      "cell_type": "code",
      "metadata": {
        "id": "JM2iC9UwFd-c",
        "trusted": true,
        "colab_type": "code",
        "colab": {}
      },
      "source": [
        "def multi_category_focal_loss2(gamma=2., alpha=.25):\n",
        "    \"\"\"\n",
        "    focal loss for multi category of multi label problem\n",
        "    适用于多分类或多标签问题的focal loss\n",
        "    alpha控制真值y_true为1/0时的权重\n",
        "        1的权重为alpha, 0的权重为1-alpha\n",
        "    当你的模型欠拟合，学习存在困难时，可以尝试适用本函数作为loss\n",
        "    当模型过于激进(无论何时总是倾向于预测出1),尝试将alpha调小\n",
        "    当模型过于惰性(无论何时总是倾向于预测出0,或是某一个固定的常数,说明没有学到有效特征)\n",
        "        尝试将alpha调大,鼓励模型进行预测出1。\n",
        "    Usage:\n",
        "     model.compile(loss=[multi_category_focal_loss2(alpha=0.25, gamma=2)], metrics=[\"accuracy\"], optimizer=adam)\n",
        "    \"\"\"\n",
        "    epsilon = 1.e-7\n",
        "    gamma = float(gamma)\n",
        "    alpha = tf.constant(alpha, dtype=tf.float32)\n",
        "\n",
        "    def multi_category_focal_loss2_fixed(y_true, y_pred):\n",
        "        y_true = tf.cast(y_true, tf.float32)\n",
        "        y_pred = tf.clip_by_value(y_pred, epsilon, 1. - epsilon)\n",
        "    \n",
        "        alpha_t = y_true*alpha + (tf.ones_like(y_true)-y_true)*(1-alpha)\n",
        "        y_t = tf.multiply(y_true, y_pred) + tf.multiply(1-y_true, 1-y_pred)\n",
        "        ce = -tf.math.log(y_t)\n",
        "        weight = tf.pow(tf.subtract(1., y_t), gamma)\n",
        "        fl = tf.multiply(tf.multiply(weight, ce), alpha_t)\n",
        "        loss = tf.reduce_mean(fl)\n",
        "        return loss\n",
        "    return multi_category_focal_loss2_fixed"
      ],
      "execution_count": 0,
      "outputs": []
    },
    {
      "cell_type": "code",
      "metadata": {
        "id": "c6d4mH_0Omj2",
        "trusted": true,
        "colab_type": "code",
        "colab": {}
      },
      "source": [
        "def get_f1(y_true, y_pred): #taken from old keras source code\n",
        "    true_positives = K.sum(K.round(K.clip(y_true * y_pred, 0, 1)))\n",
        "    possible_positives = K.sum(K.round(K.clip(y_true, 0, 1)))\n",
        "    predicted_positives = K.sum(K.round(K.clip(y_pred, 0, 1)))\n",
        "    precision = true_positives / (predicted_positives + K.epsilon())\n",
        "    recall = true_positives / (possible_positives + K.epsilon())\n",
        "    f1_val = 2*(precision*recall)/(precision+recall+K.epsilon())\n",
        "    return f1_val"
      ],
      "execution_count": 0,
      "outputs": []
    },
    {
      "cell_type": "code",
      "metadata": {
        "ExecuteTime": {
          "end_time": "2020-04-11T02:14:24.549703Z",
          "start_time": "2020-04-11T02:14:24.533479Z"
        },
        "id": "YSESlpaNwkkx",
        "trusted": true,
        "colab_type": "code",
        "colab": {}
      },
      "source": [
        "def WaveNetResidualConv1D(num_filters, kernel_size, stacked_layer):\n",
        "\n",
        "    def build_residual_block(l_input):\n",
        "        resid_input = l_input\n",
        "        for dilation_rate in [2**i for i in range(stacked_layer)]:\n",
        "            l_sigmoid_conv1d = Conv1D(\n",
        "              num_filters, kernel_size, dilation_rate=dilation_rate,\n",
        "              padding='same', activation='sigmoid')(l_input)\n",
        "            l_tanh_conv1d = Conv1D(\n",
        "             num_filters, kernel_size, dilation_rate=dilation_rate,\n",
        "             padding='same', activation='mish')(l_input)\n",
        "            l_input = Multiply()([l_sigmoid_conv1d, l_tanh_conv1d])\n",
        "            l_input = Conv1D(num_filters, 1, padding='same')(l_input)\n",
        "            resid_input = Add()([resid_input ,l_input])\n",
        "        return resid_input\n",
        "    return build_residual_block\n"
      ],
      "execution_count": 0,
      "outputs": []
    },
    {
      "cell_type": "code",
      "metadata": {
        "id": "GEn4iIRTaslB",
        "trusted": true,
        "colab_type": "code",
        "colab": {}
      },
      "source": [
        "def Classifier(shape_):\n",
        "    num_filters_ = 16\n",
        "    kernel_size_ = 3\n",
        "    stacked_layers_ = [12, 8, 4, 1]\n",
        "    l_input = Input(shape=(shape_))\n",
        "    x = Conv1D(num_filters_, 1, padding='same')(l_input)\n",
        "    x = WaveNetResidualConv1D(num_filters_, kernel_size_, stacked_layers_[0])(x)\n",
        "    x = Conv1D(num_filters_*2, 1, padding='same')(x)\n",
        "    x = WaveNetResidualConv1D(num_filters_*2, kernel_size_, stacked_layers_[1])(x)\n",
        "    x = Conv1D(num_filters_*4, 1, padding='same')(x)\n",
        "    x = WaveNetResidualConv1D(num_filters_*4, kernel_size_, stacked_layers_[2])(x)\n",
        "    x = Conv1D(num_filters_*8, 1, padding='same')(x)\n",
        "    x = WaveNetResidualConv1D(num_filters_*8, kernel_size_, stacked_layers_[3])(x)\n",
        "    l_output = Dense(11, activation='softmax')(x)\n",
        "    model = models.Model(inputs=[l_input], outputs=[l_output])\n",
        "    opt = Adam(lr=LR)\n",
        "    opt = tfa.optimizers.SWA(opt)\n",
        "#      MacroF1(model, valid_x,valid_y)\n",
        "    model.compile(loss=losses.CategoricalCrossentropy(), optimizer=opt, \n",
        "                  metrics=['accuracy', Precision(), Recall(), get_f1])\n",
        "    return model"
      ],
      "execution_count": 0,
      "outputs": []
    },
    {
      "cell_type": "code",
      "metadata": {
        "id": "ZymKtoVo8F06",
        "trusted": true,
        "colab_type": "code",
        "colab": {}
      },
      "source": [
        "def ClassifierW(shape_, weights_):\n",
        "    num_filters_ = 16\n",
        "    kernel_size_ = 3\n",
        "    stacked_layers_ = [12, 8, 4, 1]\n",
        "    l_input = Input(shape=(shape_))\n",
        "    x = Conv1D(num_filters_, 1, padding='same')(l_input)\n",
        "    x = WaveNetResidualConv1D(num_filters_, kernel_size_, stacked_layers_[0])(x)\n",
        "    x = Conv1D(num_filters_*2, 1, padding='same')(x)\n",
        "    x = WaveNetResidualConv1D(num_filters_*2, kernel_size_, stacked_layers_[1])(x)\n",
        "    x = Conv1D(num_filters_*4, 1, padding='same')(x)\n",
        "    x = WaveNetResidualConv1D(num_filters_*4, kernel_size_, stacked_layers_[2])(x)\n",
        "    x = Conv1D(num_filters_*8, 1, padding='same')(x)\n",
        "    x = WaveNetResidualConv1D(num_filters_*8, kernel_size_, stacked_layers_[3])(x)\n",
        "    l_output = Dense(11, activation='softmax')(x)\n",
        "    model = models.Model(inputs=[l_input], outputs=[l_output])\n",
        "    opt = Adam(lr=LR)\n",
        "    opt = tfa.optimizers.SWA(opt)\n",
        "\n",
        "#      MacroF1(model, valid_x,valid_y)\n",
        "    model.compile(loss = [multi_category_focal_loss2(alpha=0.25, gamma=2)], optimizer=opt, \n",
        "                  metrics=['accuracy', Precision(), Recall(), get_f1])\n",
        "\n",
        "    # model.compile(loss = [categorical_focal_loss(alpha=0.25, gamma=2)], optimizer=opt, \n",
        "    #               metrics=['accuracy', Precision(), Recall(), get_f1])    \n",
        "\n",
        "#     model.compile(loss = [cb_focal_loss(weights_, alpha=0.25, gamma=2)], optimizer=opt, \n",
        "#                   metrics=['accuracy', Precision(), Recall(), get_f1])    \n",
        "    return model"
      ],
      "execution_count": 0,
      "outputs": []
    },
    {
      "cell_type": "code",
      "metadata": {
        "ExecuteTime": {
          "end_time": "2020-04-11T02:14:24.563702Z",
          "start_time": "2020-04-11T02:14:24.556844Z"
        },
        "id": "9Cckpy4I2uco",
        "trusted": true,
        "colab_type": "code",
        "colab": {}
      },
      "source": [
        "def Classifierx(shape_):        \n",
        "    # dsize = [256, 512, 256, 128, 11] # try 2: batchsize = 64, len = 1000\n",
        "    dsize = [128, 256, 128, 64, 11] # try3: batchsize = 32, len = 1000\n",
        "    # dsize = [32, 64, 32, 32, 11]  # try 1: batchsize=10, len=1000\n",
        "    inp = Input(shape=(shape_))\n",
        "    x = Bidirectional(GRU(dsize[0], return_sequences=True))(inp)\n",
        "    x = Attention(dsize[1])(x)\n",
        "    x = TimeDistributed(Dense(dsize[2], activation='mish'))(x)\n",
        "    x = TimeDistributed(Dense(dsize[3], activation='mish'))(x)\n",
        "    out = TimeDistributed(Dense(dsize[4], activation='softmax', name='out'))(x)\n",
        "    \n",
        "    model = models.Model(inputs=inp, outputs=out) \n",
        "    \n",
        "    opt = Adam(lr=LR)\n",
        "    opt = tfa.optimizers.SWA(opt)\n",
        "    model.compile(loss = [multi_category_focal_loss2(alpha=0.25, gamma=2)], optimizer=opt, \n",
        "                  metrics=['accuracy', Precision(), Recall(), get_f1])\n",
        "    return model"
      ],
      "execution_count": 0,
      "outputs": []
    },
    {
      "cell_type": "code",
      "metadata": {
        "id": "yMi9nBlRtw_-",
        "colab_type": "code",
        "colab": {}
      },
      "source": [
        "try:\n",
        "    from dataloader import TokenList, pad_to_longest\n",
        "    # for transformer\n",
        "except: pass\n",
        "\n",
        "\n",
        "class LayerNormalization(Layer):\n",
        "    def __init__(self, eps=1e-6, **kwargs):\n",
        "        self.eps = eps\n",
        "        super(LayerNormalization, self).__init__(**kwargs)\n",
        "    def build(self, input_shape):\n",
        "        self.gamma = self.add_weight(name='gamma', shape=input_shape[-1:],\n",
        "                                     initializer=tf.ones_initializer(), trainable=True)\n",
        "        self.beta = self.add_weight(name='beta', shape=input_shape[-1:],\n",
        "                                    initializer=tf.zeros_initializer(), trainable=True)\n",
        "        super(LayerNormalization, self).build(input_shape)\n",
        "    def call(self, x):\n",
        "        mean = K.mean(x, axis=-1, keepdims=True)\n",
        "        std = K.std(x, axis=-1, keepdims=True)\n",
        "        return self.gamma * (x - mean) / (std + self.eps) + self.beta\n",
        "    def compute_output_shape(self, input_shape):\n",
        "        return input_shape\n",
        "\n",
        "class ScaledDotProductAttention():\n",
        "    def __init__(self, d_model, attn_dropout=0.1):\n",
        "        self.temper = np.sqrt(d_model)\n",
        "        self.dropout = Dropout(attn_dropout)\n",
        "    def __call__(self, q, k, v, mask):\n",
        "        attn = Lambda(lambda x:K.batch_dot(x[0],x[1],axes=[2,2])/self.temper)([q, k])\n",
        "        if mask is not None:\n",
        "            mmask = Lambda(lambda x:(-1e+10)*(1-x))(mask)\n",
        "            attn = Add()([attn, mmask])\n",
        "        attn = Activation('softmax')(attn)\n",
        "        attn = self.dropout(attn)\n",
        "        output = Lambda(lambda x:K.batch_dot(x[0], x[1]))([attn, v])\n",
        "        return output, attn\n",
        "\n",
        "class MultiHeadAttention():\n",
        "    # mode 0 - big martixes, faster; mode 1 - more clear implementation\n",
        "    def __init__(self, n_head, d_model, d_k, d_v, dropout, mode=0, use_norm=True):\n",
        "        self.mode = mode\n",
        "        self.n_head = n_head\n",
        "        self.d_k = d_k\n",
        "        self.d_v = d_v\n",
        "        self.dropout = dropout\n",
        "        if mode == 0:\n",
        "            self.qs_layer = Dense(n_head*d_k, use_bias=False)\n",
        "            self.ks_layer = Dense(n_head*d_k, use_bias=False)\n",
        "            self.vs_layer = Dense(n_head*d_v, use_bias=False)\n",
        "        elif mode == 1:\n",
        "            self.qs_layers = []\n",
        "            self.ks_layers = []\n",
        "            self.vs_layers = []\n",
        "            for _ in range(n_head):\n",
        "                self.qs_layers.append(TimeDistributed(Dense(d_k, use_bias=False)))\n",
        "                self.ks_layers.append(TimeDistributed(Dense(d_k, use_bias=False)))\n",
        "                self.vs_layers.append(TimeDistributed(Dense(d_v, use_bias=False)))\n",
        "        self.attention = ScaledDotProductAttention(d_model)\n",
        "        self.layer_norm = LayerNormalization() if use_norm else None\n",
        "        self.w_o = TimeDistributed(Dense(d_model))\n",
        "\n",
        "    def __call__(self, q, k, v, mask=None):\n",
        "        d_k, d_v = self.d_k, self.d_v\n",
        "        n_head = self.n_head\n",
        "\n",
        "        if self.mode == 0:\n",
        "            qs = self.qs_layer(q)  # [batch_size, len_q, n_head*d_k]\n",
        "            ks = self.ks_layer(k)\n",
        "            vs = self.vs_layer(v)\n",
        "\n",
        "            def reshape1(x):\n",
        "                s = tf.shape(x)   # [batch_size, len_q, n_head * d_k]\n",
        "                x = tf.reshape(x, [s[0], s[1], n_head, d_k])\n",
        "                x = tf.transpose(x, [2, 0, 1, 3])  \n",
        "                x = tf.reshape(x, [-1, s[1], d_k])  # [n_head * batch_size, len_q, d_k]\n",
        "                return x\n",
        "            qs = Lambda(reshape1)(qs)\n",
        "            ks = Lambda(reshape1)(ks)\n",
        "            vs = Lambda(reshape1)(vs)\n",
        "\n",
        "            if mask is not None:\n",
        "                mask = Lambda(lambda x:K.repeat_elements(x, n_head, 0))(mask)\n",
        "            head, attn = self.attention(qs, ks, vs, mask=mask)  \n",
        "                \n",
        "            def reshape2(x):\n",
        "                s = tf.shape(x)   # [n_head * batch_size, len_v, d_v]\n",
        "                x = tf.reshape(x, [n_head, -1, s[1], s[2]]) \n",
        "                x = tf.transpose(x, [1, 2, 0, 3])\n",
        "                x = tf.reshape(x, [-1, s[1], n_head*d_v])  # [batch_size, len_v, n_head * d_v]\n",
        "                return x\n",
        "            head = Lambda(reshape2)(head)\n",
        "        elif self.mode == 1:\n",
        "            heads = []; attns = []\n",
        "            for i in range(n_head):\n",
        "                qs = self.qs_layers[i](q)   \n",
        "                ks = self.ks_layers[i](k) \n",
        "                vs = self.vs_layers[i](v) \n",
        "                head, attn = self.attention(qs, ks, vs, mask)\n",
        "                heads.append(head); attns.append(attn)\n",
        "            head = Concatenate()(heads) if n_head > 1 else heads[0]\n",
        "            attn = Concatenate()(attns) if n_head > 1 else attns[0]\n",
        "\n",
        "        outputs = self.w_o(head)\n",
        "        outputs = Dropout(self.dropout)(outputs)\n",
        "        if not self.layer_norm: return outputs, attn\n",
        "        # outputs = Add()([outputs, q]) # sl: fix\n",
        "        return self.layer_norm(outputs), attn\n",
        "\n",
        "class PositionwiseFeedForward():\n",
        "    def __init__(self, d_hid, d_inner_hid, dropout=0.1):\n",
        "        self.w_1 = Conv1D(d_inner_hid, 1, activation='relu')\n",
        "        self.w_2 = Conv1D(d_hid, 1)\n",
        "        self.layer_norm = LayerNormalization()\n",
        "        self.dropout = Dropout(dropout)\n",
        "    def __call__(self, x):\n",
        "        output = self.w_1(x) \n",
        "        output = self.w_2(output)\n",
        "        output = self.dropout(output)\n",
        "        output = Add()([output, x])\n",
        "        return self.layer_norm(output)\n",
        "\n",
        "class EncoderLayer():\n",
        "    def __init__(self, d_model, d_inner_hid, n_head, d_k, d_v, dropout=0.1):\n",
        "        self.self_att_layer = MultiHeadAttention(n_head, d_model, d_k, d_v, dropout=dropout)\n",
        "        self.pos_ffn_layer  = PositionwiseFeedForward(d_model, d_inner_hid, dropout=dropout)\n",
        "    def __call__(self, enc_input, mask=None):\n",
        "        output, slf_attn = self.self_att_layer(enc_input, enc_input, enc_input, mask=mask)\n",
        "        output = self.pos_ffn_layer(output)\n",
        "        return output, slf_attn\n",
        "\n",
        "\n",
        "def GetPosEncodingMatrix(max_len, d_emb):\n",
        "    pos_enc = np.array([\n",
        "        [pos / np.power(10000, 2 * (j // 2) / d_emb) for j in range(d_emb)] \n",
        "        if pos != 0 else np.zeros(d_emb) \n",
        "            for pos in range(max_len)\n",
        "            ])\n",
        "    pos_enc[1:, 0::2] = np.sin(pos_enc[1:, 0::2]) # dim 2i\n",
        "    pos_enc[1:, 1::2] = np.cos(pos_enc[1:, 1::2]) # dim 2i+1\n",
        "    return pos_enc\n",
        "\n",
        "def GetPadMask(q, k):\n",
        "    ones = K.expand_dims(K.ones_like(q, 'float32'), -1)\n",
        "    mask = K.cast(K.expand_dims(K.not_equal(k, 0), 1), 'float32')\n",
        "    mask = K.batch_dot(ones, mask, axes=[2,1])\n",
        "    return mask\n",
        "\n",
        "def GetSubMask(s):\n",
        "    len_s = tf.shape(s)[1]\n",
        "    bs = tf.shape(s)[:1]\n",
        "    mask = K.cumsum(tf.eye(len_s, batch_shape=bs), 1)\n",
        "    return mask"
      ],
      "execution_count": 0,
      "outputs": []
    },
    {
      "cell_type": "code",
      "metadata": {
        "id": "_9ik1QsWt23L",
        "colab_type": "code",
        "colab": {}
      },
      "source": [
        "# def CnnTransformerModel(shape_):\n",
        "#     inp = Input(shape = (shape_))\n",
        "    \n",
        "#     x = BatchNormalization(axis=-1, momentum=0.99, epsilon=0.001, center=True, scale=True, beta_initializer='zeros', \n",
        "#                            gamma_initializer='ones', moving_mean_initializer='zeros', moving_variance_initializer='ones', \n",
        "#                            beta_regularizer=None, gamma_regularizer=None, beta_constraint=None, gamma_constraint=None)(inp)\n",
        "\n",
        "#     x = Convolution1D( 8, kernel_size = 7, padding='same', activation='relu')(x)\n",
        "    \n",
        "#     x = BatchNormalization(axis=-1, momentum=0.99, epsilon=0.001, center=True, scale=True, beta_initializer='zeros', \n",
        "#                            gamma_initializer='ones', moving_mean_initializer='zeros', moving_variance_initializer='ones', \n",
        "#                            beta_regularizer=None, gamma_regularizer=None, beta_constraint=None, gamma_constraint=None)(x)\n",
        "\n",
        "#     x = Convolution1D(16, kernel_size = 5, padding='same', activation='relu')(x)\n",
        "    \n",
        "#     x = BatchNormalization(axis=-1, momentum=0.99, epsilon=0.001, center=True, scale=True, beta_initializer='zeros', \n",
        "#                            gamma_initializer='ones', moving_mean_initializer='zeros', moving_variance_initializer='ones', \n",
        "#                            beta_regularizer=None, gamma_regularizer=None, beta_constraint=None, gamma_constraint=None)(x)\n",
        "\n",
        "#     x = Convolution1D(32, kernel_size = 5, padding='same', activation='relu')(x)\n",
        "    \n",
        "#     x = BatchNormalization(axis=-1, momentum=0.99, epsilon=0.001, center=True, scale=True, beta_initializer='zeros', \n",
        "#                            gamma_initializer='ones', moving_mean_initializer='zeros', moving_variance_initializer='ones', \n",
        "#                            beta_regularizer=None, gamma_regularizer=None, beta_constraint=None, gamma_constraint=None)(x)\n",
        "\n",
        "#     x = Convolution1D(64, kernel_size = 5, padding='same', activation='relu')(x)\n",
        "\n",
        "#     x = Bidirectional(tf.compat.v1.keras.layers.CuDNNLSTM(128, return_sequences = True, return_state = False))(x)\n",
        "    \n",
        "#     x = Bidirectional(tf.compat.v1.keras.layers.CuDNNLSTM(64, return_sequences = True, return_state = False))(x)\n",
        "    \n",
        "#     x, slf_attn = MultiHeadAttention(n_head=4, d_model=128, d_k=64, d_v=64, dropout=0.3)(x, x, x)\n",
        "#     # avg_pool = GlobalAveragePooling1D()(x)\n",
        "    \n",
        "#     # avg_pool = Dense(60,activation = 'relu')(avg_pool)\n",
        "#     x = Dropout(0.2)(x)\n",
        "#     out = Dense(11, activation = 'softmax', name = 'out')(x)\n",
        "    \n",
        "#     model = models.Model(inputs = inp, outputs = out)\n",
        "    \n",
        "#     opt = Adam(lr = LR)\n",
        "#     opt = tfa.optimizers.SWA(opt)\n",
        "#     model.compile(loss=losses.CategoricalCrossentropy(), optimizer = opt, metrics = ['accuracy'])\n",
        "#     return model\n"
      ],
      "execution_count": 0,
      "outputs": []
    },
    {
      "cell_type": "code",
      "metadata": {
        "id": "08yqygQjDQB9",
        "colab_type": "code",
        "colab": {}
      },
      "source": [
        "def CnnTransformerModel(shape_):\n",
        "    inp = Input(shape = (shape_))\n",
        "    \n",
        "    x = Bidirectional(GRU(208, return_sequences=True))(inp)\n",
        "    x, slf_attn = MultiHeadAttention(n_head=8, d_model=416, d_k=64, d_v=64, dropout=0.05)(x, x, x)\n",
        "    x = TimeDistributed(Dense(208, activation='mish'))(x)\n",
        "    x = Dropout(0.2)(x)\n",
        "    out = Dense(11, activation = 'softmax', name = 'out')(x)\n",
        "    \n",
        "    model = models.Model(inputs = inp, outputs = out)\n",
        "    \n",
        "    opt = Adam(lr = LR)\n",
        "    opt = tfa.optimizers.SWA(opt)\n",
        "    model.compile(loss=losses.CategoricalCrossentropy(), optimizer = opt, metrics = ['accuracy'])\n",
        "    return model\n"
      ],
      "execution_count": 0,
      "outputs": []
    },
    {
      "cell_type": "code",
      "metadata": {
        "id": "57U9mCWQ7amw",
        "colab_type": "code",
        "colab": {}
      },
      "source": [
        "def WaveCnnTransformerModel(shape_):\n",
        "    def cbr(x, out_layer, kernel, stride, dilation):\n",
        "        x = Conv1D(out_layer, kernel_size=kernel, dilation_rate=dilation, strides=stride, padding=\"same\")(x)\n",
        "        x = BatchNormalization()(x)\n",
        "        x = Activation(\"relu\")(x)\n",
        "        return x\n",
        "    \n",
        "    def wave_block(x, filters, kernel_size, n):\n",
        "        dilation_rates = [2**i for i in range(n)]\n",
        "        x = Conv1D(filters = filters,\n",
        "                   kernel_size = 1,\n",
        "                   padding = 'same')(x)\n",
        "        res_x = x\n",
        "        for dilation_rate in dilation_rates:\n",
        "            tanh_out = Conv1D(filters = filters,\n",
        "                              kernel_size = kernel_size,\n",
        "                              padding = 'same', \n",
        "                              activation = 'tanh', \n",
        "                              dilation_rate = dilation_rate)(x)\n",
        "            sigm_out = Conv1D(filters = filters,\n",
        "                              kernel_size = kernel_size,\n",
        "                              padding = 'same',\n",
        "                              activation = 'sigmoid', \n",
        "                              dilation_rate = dilation_rate)(x)\n",
        "            x = Multiply()([tanh_out, sigm_out])\n",
        "            x = Conv1D(filters = filters,\n",
        "                       kernel_size = 1,\n",
        "                       padding = 'same')(x)\n",
        "            res_x = Add()([res_x, x])\n",
        "        return res_x\n",
        "    \n",
        "    inp = Input(shape = (shape_))\n",
        "    x = cbr(inp, 64, 7, 1, 1)\n",
        "    x = BatchNormalization()(x)\n",
        "    x = wave_block(x, 16, 3, 10)\n",
        "    x = BatchNormalization()(x)\n",
        "    x = wave_block(x, 32, 3, 8)\n",
        "    x = BatchNormalization()(x)\n",
        "    # x = wave_block(x, 64, 3, 4)\n",
        "    # x = BatchNormalization()(x)\n",
        "    # x = wave_block(x, 128, 3, 1)\n",
        "    # x = cbr(x, 32, 7, 1, 1)\n",
        "    # x = BatchNormalization()(x)\n",
        "    # x = Bidirectional(GRU(128, return_sequences=True))(x)\n",
        "    x = Bidirectional(GRU(64, return_sequences=True))(x)\n",
        "    x, slf_attn = MultiHeadAttention(n_head=2, d_model=96, d_k=48, d_v=48, dropout=0.05)(x, x, x)\n",
        "    x1 = MaxPooling1D(data_format='channels_first')(x)\n",
        "    x2 = AveragePooling1D(data_format='channels_first')(x)\n",
        "    x = Concatenate()([x1,x2])\n",
        "\n",
        "    # x = Dense(32, activation='mish')(x)\n",
        "    # x = Add()([x1,x])\n",
        "    # x = BatchNormalization()(x)\n",
        "    x = Dropout(0.2)(x)\n",
        "    out = Dense(11, activation = 'softmax', name = 'out')(x)\n",
        "    \n",
        "    model = models.Model(inputs = inp, outputs = out)\n",
        "    \n",
        "    opt = Adam(lr = LR)\n",
        "    opt = tfa.optimizers.SWA(opt)\n",
        "    model.compile(loss=losses.CategoricalCrossentropy(), optimizer = opt, metrics = ['accuracy'])\n",
        "    return model"
      ],
      "execution_count": 0,
      "outputs": []
    },
    {
      "cell_type": "code",
      "metadata": {
        "id": "M0lPAcchdy7-",
        "trusted": true,
        "colab_type": "code",
        "colab": {}
      },
      "source": [
        "def CnnGRUTransformer(shape_):\n",
        "    def cbr(x, out_layer, kernel, stride, dilation):\n",
        "      x = Conv1D(out_layer, kernel_size=kernel, dilation_rate=dilation, strides=stride, padding=\"same\")(x)\n",
        "      x = BatchNormalization()(x)\n",
        "      x = Activation(\"relu\")(x)\n",
        "      return x\n",
        "    inp = Input(shape = (shape_))\n",
        "    x = cbr(inp, 64, 1, 1, 1)\n",
        "    x1 = MaxPooling1D(data_format='channels_first')(x)\n",
        "    x2 = AveragePooling1D(data_format='channels_first')(x)\n",
        "    x = Concatenate()([x1,x2])\n",
        "    x = Bidirectional(GRU(128, return_sequences=True))(x)\n",
        "    x = BatchNormalization()(x)\n",
        "    x = Dropout(0.2)(x)\n",
        "    x = Bidirectional(GRU(64, return_sequences=True))(x)\n",
        "    x = BatchNormalization()(x)\n",
        "    x = Dropout(0.2)(x)\n",
        "    x, slf_attn = MultiHeadAttention(n_head=4, d_model=128, d_k=64, d_v=64, dropout=0.1)(x, x, x)\n",
        "    x1 = MaxPooling1D(data_format='channels_first')(x)\n",
        "    x2 = AveragePooling1D(data_format='channels_first')(x)\n",
        "    x = Concatenate()([x1,x2])\n",
        "    x = Dropout(0.2)(x)\n",
        "    out = Dense(11, activation = 'softmax', name = 'out')(x)\n",
        "    \n",
        "    model = models.Model(inputs = inp, outputs = out)\n",
        "    \n",
        "    opt = Adam(lr = LR)\n",
        "    opt = tfa.optimizers.SWA(opt)\n",
        "    model.compile(loss=losses.CategoricalCrossentropy(), optimizer = opt, metrics = ['accuracy'])\n",
        "    return model"
      ],
      "execution_count": 0,
      "outputs": []
    },
    {
      "cell_type": "code",
      "metadata": {
        "id": "91lX-JW5PFh5",
        "colab_type": "code",
        "colab": {}
      },
      "source": [
        "# a = np.random.rand(1,2,3)\n",
        "# print(a)\n",
        "# b = a.reshape((-1,2,3,1))\n",
        "# print(b)"
      ],
      "execution_count": 0,
      "outputs": []
    },
    {
      "cell_type": "code",
      "metadata": {
        "id": "kLrqe5Fc7qpl",
        "trusted": true,
        "colab_type": "code",
        "colab": {}
      },
      "source": [
        "def ClassifierCBRW(shape_):\n",
        "    \n",
        "    def cbr(x, out_layer, kernel, stride, dilation):\n",
        "        x = Conv1D(out_layer, kernel_size=kernel, dilation_rate=dilation, strides=stride, padding=\"same\")(x)\n",
        "        x = BatchNormalization()(x)\n",
        "        x = Activation(\"relu\")(x)\n",
        "        return x\n",
        "    \n",
        "    def wave_block(x, filters, kernel_size, n):\n",
        "        dilation_rates = [2**i for i in range(n)]\n",
        "        x = Conv1D(filters = filters,\n",
        "                   kernel_size = 1,\n",
        "                   padding = 'same')(x)\n",
        "        res_x = x\n",
        "        for dilation_rate in dilation_rates:\n",
        "            tanh_out = Conv1D(filters = filters,\n",
        "                              kernel_size = kernel_size,\n",
        "                              padding = 'same', \n",
        "                              activation = 'tanh', \n",
        "                              dilation_rate = dilation_rate)(x)\n",
        "            sigm_out = Conv1D(filters = filters,\n",
        "                              kernel_size = kernel_size,\n",
        "                              padding = 'same',\n",
        "                              activation = 'sigmoid', \n",
        "                              dilation_rate = dilation_rate)(x)\n",
        "            x = Multiply()([tanh_out, sigm_out])\n",
        "            x = Conv1D(filters = filters,\n",
        "                       kernel_size = 1,\n",
        "                       padding = 'same')(x)\n",
        "            res_x = Add()([res_x, x])\n",
        "        return res_x\n",
        "    \n",
        "    inp = Input(shape = (shape_))\n",
        "    x = cbr(inp, 64, 7, 1, 1)\n",
        "    x = BatchNormalization()(x)\n",
        "    x = wave_block(x, 16, 3, 12)\n",
        "    x = BatchNormalization()(x)\n",
        "    x = wave_block(x, 32, 3, 8)\n",
        "    x = BatchNormalization()(x)\n",
        "    x = wave_block(x, 64, 3, 4)\n",
        "    x = BatchNormalization()(x)\n",
        "    x = wave_block(x, 128, 3, 1)\n",
        "    x = cbr(x, 32, 7, 1, 1)\n",
        "    x = BatchNormalization()(x)\n",
        "    x = Dropout(0.2)(x)\n",
        "    out = Dense(11, activation = 'softmax', name = 'out')(x)\n",
        "    \n",
        "    model = models.Model(inputs = inp, outputs = out)\n",
        "    \n",
        "    opt = Adam(lr = LR)\n",
        "    opt = tfa.optimizers.SWA(opt)\n",
        "    model.compile(loss=losses.CategoricalCrossentropy(), optimizer = opt, metrics = ['accuracy'])\n",
        "    return model\n"
      ],
      "execution_count": 0,
      "outputs": []
    },
    {
      "cell_type": "code",
      "metadata": {
        "id": "Zt1qkf9Lsp0W",
        "colab_type": "code",
        "colab": {}
      },
      "source": [
        ""
      ],
      "execution_count": 0,
      "outputs": []
    },
    {
      "cell_type": "code",
      "metadata": {
        "id": "OH0upYDmmbIp",
        "colab_type": "code",
        "colab": {}
      },
      "source": [
        "# def ClassifierCBRWmulti(shape_):\n",
        "    \n",
        "#     def cbr(x, out_layer, kernel, stride, dilation):\n",
        "#         x = Conv1D(out_layer, kernel_size=kernel, dilation_rate=dilation, strides=stride, padding=\"same\")(x)\n",
        "#         x = BatchNormalization()(x)\n",
        "#         x = Activation(\"relu\")(x)\n",
        "#         return x\n",
        "    \n",
        "#     def wave_block(x, filters, kernel_size, n):\n",
        "#         dilation_rates = [2**i for i in range(n)]\n",
        "#         x = Conv1D(filters = filters,\n",
        "#                    kernel_size = 1,\n",
        "#                    padding = 'same')(x)\n",
        "#         res_x = x\n",
        "#         for dilation_rate in dilation_rates:\n",
        "#             tanh_out = Conv1D(filters = filters,\n",
        "#                               kernel_size = kernel_size,\n",
        "#                               padding = 'same', \n",
        "#                               activation = 'tanh', \n",
        "#                               dilation_rate = dilation_rate)(x)\n",
        "#             sigm_out = Conv1D(filters = filters,\n",
        "#                               kernel_size = kernel_size,\n",
        "#                               padding = 'same',\n",
        "#                               activation = 'sigmoid', \n",
        "#                               dilation_rate = dilation_rate)(x)\n",
        "#             x = Multiply()([tanh_out, sigm_out])\n",
        "#             x = Conv1D(filters = filters,\n",
        "#                        kernel_size = 1,\n",
        "#                        padding = 'same')(x)\n",
        "#             res_x = Add()([res_x, x])\n",
        "#         return res_x\n",
        "    \n",
        "#     def channelPool(x):\n",
        "#         return K.max(x,axis=-1)   \n",
        "\n",
        "#     def wave_process(inp, name):\n",
        "#         x = cbr(inp, 64, 7, 1, 1)\n",
        "#         x = BatchNormalization()(x)\n",
        "#         x = wave_block(x, 16, 3, 12)\n",
        "#         x = BatchNormalization()(x)\n",
        "#         x = wave_block(x, 32, 3, 8)\n",
        "#         x = BatchNormalization()(x)\n",
        "#         x = wave_block(x, 64, 3, 4)\n",
        "#         x = BatchNormalization()(x)\n",
        "#         x = wave_block(x, 128, 3, 1)\n",
        "#         x = cbr(x, 32, 7, 1, 1)\n",
        "#         x = BatchNormalization()(x)\n",
        "#         x = Dropout(0.2)(x)\n",
        "#         x = Dense(11, activation = 'softmax', name = name)(x)\n",
        "#         return x\n",
        "#     print(\"shape_:\", shape_)\n",
        "#     inp = Input(shape = (shape_))\n",
        "#     out1 = wave_process(inp, 'out1')\n",
        "#     out1 = K.reshape(out1, (-1, shape_[0], 11, 1))\n",
        "\n",
        "#     inp2 = K.reshape(inp, (-1, shape_[0]//2, shape_[1]))\n",
        "#     out2 = wave_process(inp2, 'out2')\n",
        "#     out2 = K.reshape(out2, (-1, shape_[0], 11, 1))\n",
        "    \n",
        "#     inp3 = K.reshape(inp, (-1, shape_[0]//4, shape_[1]))\n",
        "#     out3 = wave_process(inp3, 'out3')\n",
        "#     out3 = K.reshape(out3, (-1, shape_[0], 11, 1))\n",
        "\n",
        "#     inp4 = K.reshape(inp, (-1, shape_[0]//8, shape_[1]))\n",
        "#     out4 = wave_process(inp4, 'out4')\n",
        "#     out4 = K.reshape(out4, (-1, shape_[0], 11, 1))\n",
        "\n",
        "#     out = Concatenate()([out1, out2, out3, out4])\n",
        "#     out = Dense(11, activation = 'softmax', name = 'out')(out)\n",
        "#     out = Lambda(channelPool)(out)\n",
        "#     out = K.reshape(out, (-1, shape_[0], 11))\n",
        "#     out = Activation('softmax')(out)\n",
        "#     model = models.Model(inputs = inp, outputs = out)\n",
        "    \n",
        "#     opt = Adam(lr = LR)\n",
        "#     opt = tfa.optimizers.SWA(opt)\n",
        "#     model.compile(loss=losses.CategoricalCrossentropy(), optimizer = opt, metrics = ['accuracy'])\n",
        "#     return model\n"
      ],
      "execution_count": 0,
      "outputs": []
    },
    {
      "cell_type": "code",
      "metadata": {
        "id": "YDkxS_gC9rzc",
        "colab_type": "code",
        "colab": {}
      },
      "source": [
        "def ClassifierCBRWmulti(shape_):\n",
        "    \n",
        "    def cbr(x, out_layer, kernel, stride, dilation):\n",
        "        x = Conv1D(out_layer, kernel_size=kernel, dilation_rate=dilation, strides=stride, padding=\"same\")(x)\n",
        "        x = BatchNormalization()(x)\n",
        "        x = Activation(\"relu\")(x)\n",
        "        return x\n",
        "    \n",
        "    def wave_block(x, filters, kernel_size, n):\n",
        "        dilation_rates = [2**i for i in range(n)]\n",
        "        x = Conv1D(filters = filters,\n",
        "                   kernel_size = 1,\n",
        "                   padding = 'same')(x)\n",
        "        res_x = x\n",
        "        for dilation_rate in dilation_rates:\n",
        "            tanh_out = Conv1D(filters = filters,\n",
        "                              kernel_size = kernel_size,\n",
        "                              padding = 'same', \n",
        "                              activation = 'tanh', \n",
        "                              dilation_rate = dilation_rate)(x)\n",
        "            sigm_out = Conv1D(filters = filters,\n",
        "                              kernel_size = kernel_size,\n",
        "                              padding = 'same',\n",
        "                              activation = 'sigmoid', \n",
        "                              dilation_rate = dilation_rate)(x)\n",
        "            x = Multiply()([tanh_out, sigm_out])\n",
        "            x = Conv1D(filters = filters,\n",
        "                       kernel_size = 1,\n",
        "                       padding = 'same')(x)\n",
        "            res_x = Add()([res_x, x])\n",
        "        return res_x\n",
        "    \n",
        "    def channelPool(x):\n",
        "        return K.max(x,axis=-1)   \n",
        "\n",
        "    def wave_process(inp, name):\n",
        "        x = cbr(inp, 64, 7, 1, 1)\n",
        "        x = BatchNormalization()(x)\n",
        "        x = wave_block(x, 16, 3, 12)\n",
        "        x = BatchNormalization()(x)\n",
        "        x = wave_block(x, 32, 3, 8)\n",
        "        x = BatchNormalization()(x)\n",
        "        x = wave_block(x, 64, 3, 4)\n",
        "        x = BatchNormalization()(x)\n",
        "        x = wave_block(x, 128, 3, 1)\n",
        "        x = cbr(x, 32, 7, 1, 1)\n",
        "        x = BatchNormalization()(x)\n",
        "        x = Dropout(0.2)(x)\n",
        "        x = Dense(11, activation = 'softmax', name = name)(x)\n",
        "        return x\n",
        "    print(\"shape_:\", shape_)\n",
        "    inp = Input(shape = (shape_))\n",
        "    out1 = wave_process(inp, 'out1')\n",
        "\n",
        "    inp2 = K.reshape(inp, (-1, shape_[0]//2, shape_[1]))\n",
        "    out2 = wave_process(inp2, 'out2')\n",
        "    out2 = K.reshape(out2, (-1, shape_[0], 11))\n",
        "    \n",
        "    # inp3 = K.reshape(inp, (-1, shape_[0]//4, shape_[1]))\n",
        "    # out3 = wave_process(inp3, 'out3')\n",
        "    # out3 = K.reshape(out3, (-1, shape_[0], 11))\n",
        "\n",
        "    # inp4 = K.reshape(inp, (-1, shape_[0]//8, shape_[1]))\n",
        "    # out4 = wave_process(inp4, 'out4')\n",
        "    # out4 = K.reshape(out4, (-1, shape_[0], 11))\n",
        "\n",
        "    out = Concatenate()([out1, out2])\n",
        "    out = Dense(11, activation = 'softmax', name = 'out')(out)\n",
        "    model = models.Model(inputs = inp, outputs = out)\n",
        "    \n",
        "    opt = Adam(lr = LR)\n",
        "    opt = tfa.optimizers.SWA(opt)\n",
        "    model.compile(loss=losses.CategoricalCrossentropy(), optimizer = opt, metrics = ['accuracy'])\n",
        "    return model\n"
      ],
      "execution_count": 0,
      "outputs": []
    },
    {
      "cell_type": "code",
      "metadata": {
        "ExecuteTime": {
          "end_time": "2020-04-11T02:14:24.579491Z",
          "start_time": "2020-04-11T02:14:24.567764Z"
        },
        "trusted": true,
        "id": "L4cQ0L8ucOgn",
        "colab_type": "code",
        "colab": {}
      },
      "source": [
        "\n",
        "class MacroF1ES(Callback):\n",
        "    def __init__(self, model, inputs, targets, \n",
        "                 patience=5, delta=0, checkpoint_path='checkpoint.h5', is_maximize=True):\n",
        "        \n",
        "        self.model = model\n",
        "        self.inputs = inputs\n",
        "        self.targets = np.argmax(targets, axis=2).reshape(-1)\n",
        "        self.patience, self.delta, self.checkpoint_path = patience, delta, checkpoint_path\n",
        "        self.counter, self.best_score = 0, None\n",
        "        self.is_maximize = is_maximize\n",
        "        self.stopped_epoch = 0\n",
        "        \n",
        "    def on_epoch_end(self, epoch, logs):\n",
        "        pred = np.argmax(self.model.predict(self.inputs), axis=2).reshape(-1)\n",
        "        score = f1_score(self.targets, pred, average=\"macro\")\n",
        "        logger.info(f'\\n epoch:{epoch:03d}, F1Macro: {score:.5f}')   \n",
        "        \n",
        "        if self.best_score is None or \\\n",
        "        (score > self.best_score + self.delta if self.is_maximize else score < self.best_score - self.delta):\n",
        "            self.model.save_weights(self.checkpoint_path)\n",
        "#             torch.save(model.state_dict(), self.checkpoint_path)\n",
        "            self.best_score, self.counter = score, 0\n",
        "        else:\n",
        "            self.counter += 1\n",
        "            if self.counter >= self.patience: ##stop training\n",
        "                self.stopped_epoch = epoch\n",
        "                self.model.stop_training = True\n",
        "                \n",
        "    def on_train_end(self, logs=None):\n",
        "        if self.stopped_epoch > 0:\n",
        "              logger.info('Epoch %05d: early stopping' % (self.stopped_epoch + 1))   "
      ],
      "execution_count": 0,
      "outputs": []
    },
    {
      "cell_type": "code",
      "metadata": {
        "ExecuteTime": {
          "end_time": "2020-04-11T02:14:24.589759Z",
          "start_time": "2020-04-11T02:14:24.582640Z"
        },
        "id": "1yfpldH_2ucw",
        "trusted": true,
        "colab_type": "code",
        "colab": {}
      },
      "source": [
        "class MacroF1(Callback):\n",
        "    def __init__(self, model, inputs, targets):\n",
        "        self.model = model\n",
        "        self.inputs = inputs\n",
        "        self.targets = np.argmax(targets, axis=2).reshape(-1)\n",
        "\n",
        "    def on_epoch_end(self, epoch, logs):\n",
        "        pred = np.argmax(self.model.predict(self.inputs), axis=2).reshape(-1)\n",
        "        score = f1_score(self.targets, pred, average=\"macro\")\n",
        "        print(f' F1Macro: {score:.5f}')    "
      ],
      "execution_count": 0,
      "outputs": []
    },
    {
      "cell_type": "code",
      "metadata": {
        "ExecuteTime": {
          "end_time": "2020-04-11T02:14:24.596693Z",
          "start_time": "2020-04-11T02:14:24.591931Z"
        },
        "id": "skru4lPt2uc6",
        "trusted": true,
        "colab_type": "code",
        "colab": {}
      },
      "source": [
        "def normalize(train, test):\n",
        "    \n",
        "    train_input_mean = train.signal.mean()\n",
        "    train_input_sigma = train.signal.std()\n",
        "    train['signal'] = (train.signal-train_input_mean)/train_input_sigma\n",
        "    test['signal'] = (test.signal-train_input_mean)/train_input_sigma\n",
        "\n",
        "    return train, test"
      ],
      "execution_count": 0,
      "outputs": []
    },
    {
      "cell_type": "code",
      "metadata": {
        "ExecuteTime": {
          "end_time": "2020-04-11T02:14:24.609602Z",
          "start_time": "2020-04-11T02:14:24.600166Z"
        },
        "id": "02TDJtejfS0_",
        "trusted": true,
        "colab_type": "code",
        "colab": {}
      },
      "source": [
        "\n",
        "def run_everything(fe_config : List) -> NoReturn:\n",
        "    not_feats_cols = ['time']\n",
        "    target_col = ['open_channels']\n",
        "    init_logger()\n",
        "    with timer(f'Reading Data'):\n",
        "        logger.info('Reading Darta Started ...')\n",
        "        base = os.path.abspath(PATH+'liverpool-ion-switching/')\n",
        "        train, test, sample_submission = read_data(base)\n",
        "        train, test = normalize(train, test)    \n",
        "        logger.info('Reading and Normalizing Data Completed ...')\n",
        "    with timer(f'Creating Features'):\n",
        "        logger.info('Feature Enginnering Started ...')\n",
        "        for config in fe_config:\n",
        "            train = run_feat_enginnering(train, create_all_data_feats=config[0], batch_size=config[1])\n",
        "            test  = run_feat_enginnering(test,  create_all_data_feats=config[0], batch_size=config[1])\n",
        "        train, test = add_category(train, test)\n",
        "        train, test, feats = feature_selection(train, test)\n",
        "        train = reduce_mem_usage(train)\n",
        "        test = reduce_mem_usage(test)\n",
        "        logger.info('Feature Enginnering Completed ...')\n",
        "\n",
        "    with timer(f'Running Wavenet model'):\n",
        "        logger.info(f'Training Wavenet model with {SPLITS} folds of GroupKFold Started ...')\n",
        "        run_cv_model_by_batch(train, test, splits=SPLITS, batch_col='group', feats=feats, \n",
        "                              sample_submission=sample_submission, nn_epochs=EPOCHS, nn_batch_size=NNBATCHSIZE)\n",
        "        logger.info(f'Training completed ...')\n"
      ],
      "execution_count": 0,
      "outputs": []
    },
    {
      "cell_type": "code",
      "metadata": {
        "ExecuteTime": {
          "end_time": "2020-04-11T02:15:53.901793Z",
          "start_time": "2020-04-11T02:14:24.612467Z"
        },
        "id": "_w4_OJJtfS1K",
        "trusted": true,
        "colab_type": "code",
        "outputId": "05438eb4-80b0-433d-fade-2d30f80bd771",
        "colab": {
          "base_uri": "https://localhost:8080/",
          "height": 1000,
          "referenced_widgets": [
            "24102620df504534b4da4d8d3b2492fa",
            "a5d1058662ae46e781e20a3cdde5448d",
            "927e40eb95ea4c32a0991c4125fb322c",
            "02b94591d5e64cc68fa9d44922f21574",
            "587397514ee74575b64013c9f0e54769",
            "d2e0aaae1a8e45b7a5436a633a4d2127",
            "278579e0a53a48d2a0ee139dd9b83c67",
            "d13d98a7d753428d84b881406ba7f783",
            "8748397ed4b94eb8bf2c5122cf510a80",
            "0db931692f9c4ecdbf570ef5e9f5830d",
            "4bf4237ded1c4593935b17de6b42470b",
            "b689eefcfa7f4b7498f77119fae74814",
            "4d795001232c4dccab08411bf6e14177",
            "05b74a342b3d487e80d9281661cac28c",
            "4990b11023a04ad6baae2ceb76080e68",
            "a3732d6993734f41aca29efe46b45cda",
            "7b1c9b7401d44b15b6c43ebfa7a0f672",
            "2ea34659e54a4b719921e9215f8cbd81",
            "55836c5cf64d452a9235739797f49de7",
            "9545eef45e4e4f6f9132ec59fbd37059",
            "cfc36b4f3e244d85b87ace828483dd7b",
            "f0f8f0e788f043e3b68bdb7ce3851674",
            "d894164eb5784154932876d77f27ce1e",
            "f811e5e8f91c499cbcd64e7569d627e7",
            "f78160be8e6545908860f404362972e2",
            "abf04cc029ad43d5aa2e2ce419aff639",
            "0cef6de75cb84ab693730ebb47454fbf",
            "10cc2419d05d4b1d9e65c947fced5f8e",
            "c0c580974bfe43e0a4f9203ebb9e9bc0",
            "754773c6815a4675bbc061e4f6a5602f",
            "c916c66ab2ce41889f2f28e74c2ec4ba",
            "75264117864a4083a08a3c4bff4ebf4b",
            "6f40f06425c84e0c942459ec2cad10da",
            "562f38850f7f4b368044a5c210ec8467",
            "5829aaee67e643c986205aaaded398bd",
            "fadebd68cbfa4572b7fd1a02fcf3cae0",
            "b9ebdb0c7b784bffaa048a4f6b753177",
            "e7eada4e1b074b808b7db8f6e618303e",
            "0514336e588e4942a45b63ae32919d92",
            "7cc1ddbd991042b7a12089d638d63546"
          ]
        }
      },
      "source": [
        "run_everything(fe_config)"
      ],
      "execution_count": 61,
      "outputs": [
        {
          "output_type": "stream",
          "text": [
            "2020-05-13 02:58:13,788 INFO Reading Darta Started ...\n",
            "2020-05-13 02:58:16,279 INFO Reading and Normalizing Data Completed ...\n",
            "2020-05-13 02:58:16,280 INFO [Reading Data] done in 2 s\n",
            "2020-05-13 02:58:16,281 INFO Feature Enginnering Started ...\n"
          ],
          "name": "stderr"
        },
        {
          "output_type": "stream",
          "text": [
            "['signal', 'signal_shift_pos_1', 'signal_shift_neg_1', 'signal_shift_pos_2', 'signal_shift_neg_2', 'signal_shift_pos_3', 'signal_shift_neg_3', 'signal_2', 'category']\n",
            "Mem. usage decreased to 133.51 MB (65.9 % reduction)\n"
          ],
          "name": "stdout"
        },
        {
          "output_type": "stream",
          "text": [
            "2020-05-13 02:58:21,686 INFO Feature Enginnering Completed ...\n",
            "2020-05-13 02:58:21,687 INFO [Creating Features] done in 5 s\n",
            "2020-05-13 02:58:21,690 INFO Training Wavenet model with 5 folds of GroupKFold Started ...\n"
          ],
          "name": "stderr"
        },
        {
          "output_type": "stream",
          "text": [
            "Mem. usage decreased to 45.78 MB (69.2 % reduction)\n",
            "ion_switch/res/wavenet-dlr-res/ClassifierCBRWmulti-Prob11-NESCAL/all\n",
            "5000000 5\n",
            "     time    signal  open_channels  group  category\n",
            "0  0.0001 -1.148438              0      0         0\n",
            "1  0.0002 -1.183594              0      0         0\n",
            "2  0.0003 -1.012695              0      0         0\n",
            "3  0.0004 -1.297852              0      0         0\n",
            "4  0.0005 -1.303711              0      0         0\n",
            "weights_: [ 0.36652399  0.46106257  0.82059173  0.67983748  1.12675802  1.63577934\n",
            "  2.41635544  1.71516878  1.85390282  3.33929955 12.72060713]\n",
            "nums_: 0     1240152\n",
            "1      985865\n",
            "2      553924\n",
            "3      668609\n",
            "4      403410\n",
            "5      277877\n",
            "6      188112\n",
            "7      265015\n",
            "8      245183\n",
            "9      136120\n",
            "10      35733\n",
            "Name: open_channels, dtype: int64\n",
            "cb_weights_: [0.97174558 0.97174558 0.97174558 0.97174558 0.97174567 0.97176004\n",
            " 0.97227024 0.97176977 0.97179906 0.97596    1.27771292]\n",
            "(1250, 4000, 11)\n",
            "(1250, 4000, 9)\n",
            "X_aug shape 1: (1000, 4000, 9)\n",
            "X_aug shape 2: (1000, 4000, 10)\n",
            "unique train_x[8]: [0. 1.]\n",
            "test shape after roll diff: (500, 4000, 10)\n",
            "train_x shape 3:  (2000, 4000, 10)\n",
            "train_y shape 3:  (2000, 4000, 11)\n",
            "shape_: (4000, 10)\n",
            "model initilization done!\n"
          ],
          "name": "stdout"
        },
        {
          "output_type": "display_data",
          "data": {
            "application/vnd.jupyter.widget-view+json": {
              "model_id": "24102620df504534b4da4d8d3b2492fa",
              "version_minor": 0,
              "version_major": 2
            },
            "text/plain": [
              "HBox(children=(FloatProgress(value=0.0, description='Training', layout=Layout(flex='2'), max=180.0, style=Prog…"
            ]
          },
          "metadata": {
            "tags": []
          }
        },
        {
          "output_type": "stream",
          "text": [
            "Epoch 1/180\n",
            "WARNING:tensorflow:From /usr/local/lib/python3.6/dist-packages/tensorflow/python/ops/resource_variable_ops.py:1817: calling BaseResourceVariable.__init__ (from tensorflow.python.ops.resource_variable_ops) with constraint is deprecated and will be removed in a future version.\n",
            "Instructions for updating:\n",
            "If using Keras pass *_constraint arguments to layers.\n",
            "125/125 [==============================] - ETA: 0s - loss: 1.8533 - accuracy: 0.6504\n",
            "Epoch 00001: val_accuracy improved from -inf to 0.62626, saving model to ion_switch/res/wavenet-dlr-res/ClassifierCBRWmulti-Prob11-NESCAL/all/0_fold/checkpoint-modelonly-0.h5\n"
          ],
          "name": "stdout"
        },
        {
          "output_type": "stream",
          "text": [
            "2020-05-13 03:00:12,440 INFO \n",
            " epoch:000, F1Macro: 0.45318\n"
          ],
          "name": "stderr"
        },
        {
          "output_type": "stream",
          "text": [
            "\b\b\b\b\b\b\b\b\b\b\b\b\b\b\b\b\b\b\b\b\b\b\b\b\b\b\b\b\b\b\b\b\b\b\b\b\b\b\b\b\b\b\b\b\b\b\b\b\b\b\b\b\b\b\b\b\b\b\b\b\b\b\b\b\b\b\b\b\b\b\b\b\b\b\b\b\b\b\b\b\b\b\b\b\r125/125 [==============================] - 43s 341ms/step - loss: 1.8533 - accuracy: 0.6504 - val_loss: 1.8093 - val_accuracy: 0.6263 - lr: 0.0010\n",
            "Epoch 2/180\n",
            "125/125 [==============================] - ETA: 0s - loss: 1.4390 - accuracy: 0.8553\n",
            "Epoch 00002: val_accuracy improved from 0.62626 to 0.74238, saving model to ion_switch/res/wavenet-dlr-res/ClassifierCBRWmulti-Prob11-NESCAL/all/0_fold/checkpoint-modelonly-0.h5\n"
          ],
          "name": "stdout"
        },
        {
          "output_type": "stream",
          "text": [
            "2020-05-13 03:00:48,895 INFO \n",
            " epoch:001, F1Macro: 0.60943\n"
          ],
          "name": "stderr"
        },
        {
          "output_type": "stream",
          "text": [
            "\b\b\b\b\b\b\b\b\b\b\b\b\b\b\b\b\b\b\b\b\b\b\b\b\b\b\b\b\b\b\b\b\b\b\b\b\b\b\b\b\b\b\b\b\b\b\b\b\b\b\b\b\b\b\b\b\b\b\b\b\b\b\b\b\b\b\b\b\b\b\b\b\b\b\b\b\b\b\b\b\b\b\b\b\r125/125 [==============================] - 36s 290ms/step - loss: 1.4390 - accuracy: 0.8553 - val_loss: 1.3963 - val_accuracy: 0.7424 - lr: 0.0010\n",
            "Epoch 3/180\n",
            "125/125 [==============================] - ETA: 0s - loss: 1.1471 - accuracy: 0.8961\n",
            "Epoch 00003: val_accuracy improved from 0.74238 to 0.89281, saving model to ion_switch/res/wavenet-dlr-res/ClassifierCBRWmulti-Prob11-NESCAL/all/0_fold/checkpoint-modelonly-0.h5\n"
          ],
          "name": "stdout"
        },
        {
          "output_type": "stream",
          "text": [
            "2020-05-13 03:01:25,460 INFO \n",
            " epoch:002, F1Macro: 0.74261\n"
          ],
          "name": "stderr"
        },
        {
          "output_type": "stream",
          "text": [
            "\b\b\b\b\b\b\b\b\b\b\b\b\b\b\b\b\b\b\b\b\b\b\b\b\b\b\b\b\b\b\b\b\b\b\b\b\b\b\b\b\b\b\b\b\b\b\b\b\b\b\b\b\b\b\b\b\b\b\b\b\b\b\b\b\b\b\b\b\b\b\b\b\b\b\b\b\b\b\b\b\b\b\b\b\r125/125 [==============================] - 36s 290ms/step - loss: 1.1471 - accuracy: 0.8961 - val_loss: 1.0263 - val_accuracy: 0.8928 - lr: 0.0010\n",
            "Epoch 4/180\n",
            "125/125 [==============================] - ETA: 0s - loss: 0.9160 - accuracy: 0.9197\n",
            "Epoch 00004: val_accuracy improved from 0.89281 to 0.92766, saving model to ion_switch/res/wavenet-dlr-res/ClassifierCBRWmulti-Prob11-NESCAL/all/0_fold/checkpoint-modelonly-0.h5\n"
          ],
          "name": "stdout"
        },
        {
          "output_type": "stream",
          "text": [
            "2020-05-13 03:02:02,121 INFO \n",
            " epoch:003, F1Macro: 0.80267\n"
          ],
          "name": "stderr"
        },
        {
          "output_type": "stream",
          "text": [
            "\b\b\b\b\b\b\b\b\b\b\b\b\b\b\b\b\b\b\b\b\b\b\b\b\b\b\b\b\b\b\b\b\b\b\b\b\b\b\b\b\b\b\b\b\b\b\b\b\b\b\b\b\b\b\b\b\b\b\b\b\b\b\b\b\b\b\b\b\b\b\b\b\b\b\b\b\b\b\b\b\b\b\b\b\r125/125 [==============================] - 37s 294ms/step - loss: 0.9160 - accuracy: 0.9197 - val_loss: 0.8220 - val_accuracy: 0.9277 - lr: 0.0010\n",
            "Epoch 5/180\n",
            "125/125 [==============================] - ETA: 0s - loss: 0.7479 - accuracy: 0.9290\n",
            "Epoch 00005: val_accuracy improved from 0.92766 to 0.92816, saving model to ion_switch/res/wavenet-dlr-res/ClassifierCBRWmulti-Prob11-NESCAL/all/0_fold/checkpoint-modelonly-0.h5\n"
          ],
          "name": "stdout"
        },
        {
          "output_type": "stream",
          "text": [
            "2020-05-13 03:02:39,179 INFO \n",
            " epoch:004, F1Macro: 0.80266\n"
          ],
          "name": "stderr"
        },
        {
          "output_type": "stream",
          "text": [
            "\b\b\b\b\b\b\b\b\b\b\b\b\b\b\b\b\b\b\b\b\b\b\b\b\b\b\b\b\b\b\b\b\b\b\b\b\b\b\b\b\b\b\b\b\b\b\b\b\b\b\b\b\b\b\b\b\b\b\b\b\b\b\b\b\b\b\b\b\b\b\b\b\b\b\b\b\b\b\b\b\b\b\b\b\r125/125 [==============================] - 36s 285ms/step - loss: 0.7479 - accuracy: 0.9290 - val_loss: 0.6858 - val_accuracy: 0.9282 - lr: 0.0010\n",
            "Epoch 6/180\n",
            "125/125 [==============================] - ETA: 0s - loss: 0.6292 - accuracy: 0.9310\n",
            "Epoch 00006: val_accuracy did not improve from 0.92816\n"
          ],
          "name": "stdout"
        },
        {
          "output_type": "stream",
          "text": [
            "2020-05-13 03:03:14,269 INFO \n",
            " epoch:005, F1Macro: 0.79793\n"
          ],
          "name": "stderr"
        },
        {
          "output_type": "stream",
          "text": [
            "\b\b\b\b\b\b\b\b\b\b\b\b\b\b\b\b\b\b\b\b\b\b\b\b\b\b\b\b\b\b\b\b\b\b\b\b\b\b\b\b\b\b\b\b\b\b\b\b\b\b\b\b\b\b\b\b\b\b\b\b\b\b\b\b\b\b\b\b\b\b\b\b\b\b\b\b\b\b\b\b\b\b\b\b\r125/125 [==============================] - 35s 279ms/step - loss: 0.6292 - accuracy: 0.9310 - val_loss: 0.5902 - val_accuracy: 0.9227 - lr: 0.0010\n",
            "Epoch 7/180\n",
            "125/125 [==============================] - ETA: 0s - loss: 0.5409 - accuracy: 0.9320\n",
            "Epoch 00007: val_accuracy improved from 0.92816 to 0.93046, saving model to ion_switch/res/wavenet-dlr-res/ClassifierCBRWmulti-Prob11-NESCAL/all/0_fold/checkpoint-modelonly-0.h5\n"
          ],
          "name": "stdout"
        },
        {
          "output_type": "stream",
          "text": [
            "2020-05-13 03:03:50,117 INFO \n",
            " epoch:006, F1Macro: 0.80318\n"
          ],
          "name": "stderr"
        },
        {
          "output_type": "stream",
          "text": [
            "\b\b\b\b\b\b\b\b\b\b\b\b\b\b\b\b\b\b\b\b\b\b\b\b\b\b\b\b\b\b\b\b\b\b\b\b\b\b\b\b\b\b\b\b\b\b\b\b\b\b\b\b\b\b\b\b\b\b\b\b\b\b\b\b\b\b\b\b\b\b\b\b\b\b\b\b\b\b\b\b\b\b\b\b\r125/125 [==============================] - 36s 291ms/step - loss: 0.5409 - accuracy: 0.9320 - val_loss: 0.5138 - val_accuracy: 0.9305 - lr: 0.0010\n",
            "Epoch 8/180\n",
            "125/125 [==============================] - ETA: 0s - loss: 0.4700 - accuracy: 0.9345\n",
            "Epoch 00008: val_accuracy improved from 0.93046 to 0.93528, saving model to ion_switch/res/wavenet-dlr-res/ClassifierCBRWmulti-Prob11-NESCAL/all/0_fold/checkpoint-modelonly-0.h5\n"
          ],
          "name": "stdout"
        },
        {
          "output_type": "stream",
          "text": [
            "2020-05-13 03:04:26,596 INFO \n",
            " epoch:007, F1Macro: 0.80964\n"
          ],
          "name": "stderr"
        },
        {
          "output_type": "stream",
          "text": [
            "\b\b\b\b\b\b\b\b\b\b\b\b\b\b\b\b\b\b\b\b\b\b\b\b\b\b\b\b\b\b\b\b\b\b\b\b\b\b\b\b\b\b\b\b\b\b\b\b\b\b\b\b\b\b\b\b\b\b\b\b\b\b\b\b\b\b\b\b\b\b\b\b\b\b\b\b\b\b\b\b\b\b\b\b\r125/125 [==============================] - 36s 289ms/step - loss: 0.4700 - accuracy: 0.9345 - val_loss: 0.4441 - val_accuracy: 0.9353 - lr: 0.0010\n",
            "Epoch 9/180\n",
            "125/125 [==============================] - ETA: 0s - loss: 0.4130 - accuracy: 0.9370\n",
            "Epoch 00009: val_accuracy improved from 0.93528 to 0.93648, saving model to ion_switch/res/wavenet-dlr-res/ClassifierCBRWmulti-Prob11-NESCAL/all/0_fold/checkpoint-modelonly-0.h5\n"
          ],
          "name": "stdout"
        },
        {
          "output_type": "stream",
          "text": [
            "2020-05-13 03:05:03,139 INFO \n",
            " epoch:008, F1Macro: 0.81180\n"
          ],
          "name": "stderr"
        },
        {
          "output_type": "stream",
          "text": [
            "\b\b\b\b\b\b\b\b\b\b\b\b\b\b\b\b\b\b\b\b\b\b\b\b\b\b\b\b\b\b\b\b\b\b\b\b\b\b\b\b\b\b\b\b\b\b\b\b\b\b\b\b\b\b\b\b\b\b\b\b\b\b\b\b\b\b\b\b\b\b\b\b\b\b\b\b\b\b\b\b\b\b\b\b\r125/125 [==============================] - 36s 290ms/step - loss: 0.4130 - accuracy: 0.9370 - val_loss: 0.3943 - val_accuracy: 0.9365 - lr: 0.0010\n",
            "Epoch 10/180\n",
            "125/125 [==============================] - ETA: 0s - loss: 0.3707 - accuracy: 0.9379\n",
            "Epoch 00010: val_accuracy did not improve from 0.93648\n"
          ],
          "name": "stdout"
        },
        {
          "output_type": "stream",
          "text": [
            "2020-05-13 03:05:38,931 INFO \n",
            " epoch:009, F1Macro: 0.81039\n"
          ],
          "name": "stderr"
        },
        {
          "output_type": "stream",
          "text": [
            "\b\b\b\b\b\b\b\b\b\b\b\b\b\b\b\b\b\b\b\b\b\b\b\b\b\b\b\b\b\b\b\b\b\b\b\b\b\b\b\b\b\b\b\b\b\b\b\b\b\b\b\b\b\b\b\b\b\b\b\b\b\b\b\b\b\b\b\b\b\b\b\b\b\b\b\b\b\b\b\b\b\b\b\b\r125/125 [==============================] - 35s 279ms/step - loss: 0.3707 - accuracy: 0.9379 - val_loss: 0.3568 - val_accuracy: 0.9358 - lr: 0.0010\n",
            "Epoch 11/180\n",
            "125/125 [==============================] - ETA: 0s - loss: 0.3870 - accuracy: 0.9185\n",
            "Epoch 00011: val_accuracy did not improve from 0.93648\n"
          ],
          "name": "stdout"
        },
        {
          "output_type": "stream",
          "text": [
            "2020-05-13 03:06:13,964 INFO \n",
            " epoch:010, F1Macro: 0.80522\n"
          ],
          "name": "stderr"
        },
        {
          "output_type": "stream",
          "text": [
            "\b\b\b\b\b\b\b\b\b\b\b\b\b\b\b\b\b\b\b\b\b\b\b\b\b\b\b\b\b\b\b\b\b\b\b\b\b\b\b\b\b\b\b\b\b\b\b\b\b\b\b\b\b\b\b\b\b\b\b\b\b\b\b\b\b\b\b\b\b\b\b\b\b\b\b\b\b\b\b\b\b\b\b\b\r125/125 [==============================] - 35s 278ms/step - loss: 0.3870 - accuracy: 0.9185 - val_loss: 0.3475 - val_accuracy: 0.9281 - lr: 0.0010\n",
            "Epoch 12/180\n",
            "125/125 [==============================] - ETA: 0s - loss: 0.3179 - accuracy: 0.9365\n",
            "Epoch 00012: val_accuracy did not improve from 0.93648\n"
          ],
          "name": "stdout"
        },
        {
          "output_type": "stream",
          "text": [
            "2020-05-13 03:06:48,827 INFO \n",
            " epoch:011, F1Macro: 0.81002\n"
          ],
          "name": "stderr"
        },
        {
          "output_type": "stream",
          "text": [
            "\b\b\b\b\b\b\b\b\b\b\b\b\b\b\b\b\b\b\b\b\b\b\b\b\b\b\b\b\b\b\b\b\b\b\b\b\b\b\b\b\b\b\b\b\b\b\b\b\b\b\b\b\b\b\b\b\b\b\b\b\b\b\b\b\b\b\b\b\b\b\b\b\b\b\b\b\b\b\b\b\b\b\b\b\r125/125 [==============================] - 35s 277ms/step - loss: 0.3179 - accuracy: 0.9365 - val_loss: 0.3108 - val_accuracy: 0.9334 - lr: 0.0010\n",
            "Epoch 13/180\n",
            "125/125 [==============================] - ETA: 0s - loss: 0.2891 - accuracy: 0.9387\n",
            "Epoch 00013: val_accuracy did not improve from 0.93648\n"
          ],
          "name": "stdout"
        },
        {
          "output_type": "stream",
          "text": [
            "2020-05-13 03:07:23,923 INFO \n",
            " epoch:012, F1Macro: 0.83736\n"
          ],
          "name": "stderr"
        },
        {
          "output_type": "stream",
          "text": [
            "\b\b\b\b\b\b\b\b\b\b\b\b\b\b\b\b\b\b\b\b\b\b\b\b\b\b\b\b\b\b\b\b\b\b\b\b\b\b\b\b\b\b\b\b\b\b\b\b\b\b\b\b\b\b\b\b\b\b\b\b\b\b\b\b\b\b\b\b\b\b\b\b\b\b\b\b\b\b\b\b\b\b\b\b\r125/125 [==============================] - 36s 284ms/step - loss: 0.2891 - accuracy: 0.9387 - val_loss: 0.2858 - val_accuracy: 0.9357 - lr: 0.0010\n",
            "Epoch 14/180\n",
            "125/125 [==============================] - ETA: 0s - loss: 0.2771 - accuracy: 0.9374\n",
            "Epoch 00014: val_accuracy improved from 0.93648 to 0.94156, saving model to ion_switch/res/wavenet-dlr-res/ClassifierCBRWmulti-Prob11-NESCAL/all/0_fold/checkpoint-modelonly-0.h5\n"
          ],
          "name": "stdout"
        },
        {
          "output_type": "stream",
          "text": [
            "2020-05-13 03:08:00,462 INFO \n",
            " epoch:013, F1Macro: 0.89795\n"
          ],
          "name": "stderr"
        },
        {
          "output_type": "stream",
          "text": [
            "\b\b\b\b\b\b\b\b\b\b\b\b\b\b\b\b\b\b\b\b\b\b\b\b\b\b\b\b\b\b\b\b\b\b\b\b\b\b\b\b\b\b\b\b\b\b\b\b\b\b\b\b\b\b\b\b\b\b\b\b\b\b\b\b\b\b\b\b\b\b\b\b\b\b\b\b\b\b\b\b\b\b\b\b\r125/125 [==============================] - 36s 290ms/step - loss: 0.2771 - accuracy: 0.9374 - val_loss: 0.2603 - val_accuracy: 0.9416 - lr: 0.0010\n",
            "Epoch 15/180\n",
            "125/125 [==============================] - ETA: 0s - loss: 0.2474 - accuracy: 0.9461\n",
            "Epoch 00015: val_accuracy improved from 0.94156 to 0.95460, saving model to ion_switch/res/wavenet-dlr-res/ClassifierCBRWmulti-Prob11-NESCAL/all/0_fold/checkpoint-modelonly-0.h5\n"
          ],
          "name": "stdout"
        },
        {
          "output_type": "stream",
          "text": [
            "2020-05-13 03:08:37,083 INFO \n",
            " epoch:014, F1Macro: 0.91253\n"
          ],
          "name": "stderr"
        },
        {
          "output_type": "stream",
          "text": [
            "\b\b\b\b\b\b\b\b\b\b\b\b\b\b\b\b\b\b\b\b\b\b\b\b\b\b\b\b\b\b\b\b\b\b\b\b\b\b\b\b\b\b\b\b\b\b\b\b\b\b\b\b\b\b\b\b\b\b\b\b\b\b\b\b\b\b\b\b\b\b\b\b\b\b\b\b\b\b\b\b\b\b\b\b\r125/125 [==============================] - 36s 291ms/step - loss: 0.2474 - accuracy: 0.9461 - val_loss: 0.2471 - val_accuracy: 0.9546 - lr: 0.0010\n",
            "Epoch 16/180\n",
            "125/125 [==============================] - ETA: 0s - loss: 0.2286 - accuracy: 0.9610\n",
            "Epoch 00016: val_accuracy improved from 0.95460 to 0.96171, saving model to ion_switch/res/wavenet-dlr-res/ClassifierCBRWmulti-Prob11-NESCAL/all/0_fold/checkpoint-modelonly-0.h5\n"
          ],
          "name": "stdout"
        },
        {
          "output_type": "stream",
          "text": [
            "2020-05-13 03:09:13,722 INFO \n",
            " epoch:015, F1Macro: 0.93120\n"
          ],
          "name": "stderr"
        },
        {
          "output_type": "stream",
          "text": [
            "\b\b\b\b\b\b\b\b\b\b\b\b\b\b\b\b\b\b\b\b\b\b\b\b\b\b\b\b\b\b\b\b\b\b\b\b\b\b\b\b\b\b\b\b\b\b\b\b\b\b\b\b\b\b\b\b\b\b\b\b\b\b\b\b\b\b\b\b\b\b\b\b\b\b\b\b\b\b\b\b\b\b\b\b\r125/125 [==============================] - 36s 291ms/step - loss: 0.2286 - accuracy: 0.9610 - val_loss: 0.2215 - val_accuracy: 0.9617 - lr: 0.0010\n",
            "Epoch 17/180\n",
            "125/125 [==============================] - ETA: 0s - loss: 0.2109 - accuracy: 0.9626\n",
            "Epoch 00017: val_accuracy did not improve from 0.96171\n"
          ],
          "name": "stdout"
        },
        {
          "output_type": "stream",
          "text": [
            "2020-05-13 03:09:49,637 INFO \n",
            " epoch:016, F1Macro: 0.92270\n"
          ],
          "name": "stderr"
        },
        {
          "output_type": "stream",
          "text": [
            "\b\b\b\b\b\b\b\b\b\b\b\b\b\b\b\b\b\b\b\b\b\b\b\b\b\b\b\b\b\b\b\b\b\b\b\b\b\b\b\b\b\b\b\b\b\b\b\b\b\b\b\b\b\b\b\b\b\b\b\b\b\b\b\b\b\b\b\b\b\b\b\b\b\b\b\b\b\b\b\b\b\b\b\b\r125/125 [==============================] - 35s 279ms/step - loss: 0.2109 - accuracy: 0.9626 - val_loss: 0.2152 - val_accuracy: 0.9592 - lr: 0.0010\n",
            "Epoch 18/180\n",
            "125/125 [==============================] - ETA: 0s - loss: 0.2012 - accuracy: 0.9619\n",
            "Epoch 00018: val_accuracy did not improve from 0.96171\n"
          ],
          "name": "stdout"
        },
        {
          "output_type": "stream",
          "text": [
            "2020-05-13 03:10:24,783 INFO \n",
            " epoch:017, F1Macro: 0.91598\n"
          ],
          "name": "stderr"
        },
        {
          "output_type": "stream",
          "text": [
            "\b\b\b\b\b\b\b\b\b\b\b\b\b\b\b\b\b\b\b\b\b\b\b\b\b\b\b\b\b\b\b\b\b\b\b\b\b\b\b\b\b\b\b\b\b\b\b\b\b\b\b\b\b\b\b\b\b\b\b\b\b\b\b\b\b\b\b\b\b\b\b\b\b\b\b\b\b\b\b\b\b\b\b\b\r125/125 [==============================] - 35s 279ms/step - loss: 0.2012 - accuracy: 0.9619 - val_loss: 0.3143 - val_accuracy: 0.9369 - lr: 0.0010\n",
            "Epoch 19/180\n",
            "125/125 [==============================] - ETA: 0s - loss: 0.2484 - accuracy: 0.9396\n",
            "Epoch 00019: val_accuracy did not improve from 0.96171\n"
          ],
          "name": "stdout"
        },
        {
          "output_type": "stream",
          "text": [
            "2020-05-13 03:10:59,887 INFO \n",
            " epoch:018, F1Macro: 0.91943\n"
          ],
          "name": "stderr"
        },
        {
          "output_type": "stream",
          "text": [
            "\b\b\b\b\b\b\b\b\b\b\b\b\b\b\b\b\b\b\b\b\b\b\b\b\b\b\b\b\b\b\b\b\b\b\b\b\b\b\b\b\b\b\b\b\b\b\b\b\b\b\b\b\b\b\b\b\b\b\b\b\b\b\b\b\b\b\b\b\b\b\b\b\b\b\b\b\b\b\b\b\b\b\b\b\r125/125 [==============================] - 35s 279ms/step - loss: 0.2484 - accuracy: 0.9396 - val_loss: 0.2030 - val_accuracy: 0.9565 - lr: 0.0010\n",
            "Epoch 20/180\n",
            "125/125 [==============================] - ETA: 0s - loss: 0.2216 - accuracy: 0.9471\n",
            "Epoch 00020: val_accuracy did not improve from 0.96171\n"
          ],
          "name": "stdout"
        },
        {
          "output_type": "stream",
          "text": [
            "2020-05-13 03:11:34,999 INFO \n",
            " epoch:019, F1Macro: 0.92407\n"
          ],
          "name": "stderr"
        },
        {
          "output_type": "stream",
          "text": [
            "\b\b\b\b\b\b\b\b\b\b\b\b\b\b\b\b\b\b\b\b\b\b\b\b\b\b\b\b\b\b\b\b\b\b\b\b\b\b\b\b\b\b\b\b\b\b\b\b\b\b\b\b\b\b\b\b\b\b\b\b\b\b\b\b\b\b\b\b\b\b\b\b\b\b\b\b\b\b\b\b\b\b\b\b\r125/125 [==============================] - 35s 279ms/step - loss: 0.2216 - accuracy: 0.9471 - val_loss: 0.1963 - val_accuracy: 0.9572 - lr: 0.0010\n",
            "Epoch 21/180\n",
            "125/125 [==============================] - ETA: 0s - loss: 0.1785 - accuracy: 0.9617\n",
            "Epoch 00021: val_accuracy did not improve from 0.96171\n"
          ],
          "name": "stdout"
        },
        {
          "output_type": "stream",
          "text": [
            "2020-05-13 03:12:10,123 INFO \n",
            " epoch:020, F1Macro: 0.92845\n"
          ],
          "name": "stderr"
        },
        {
          "output_type": "stream",
          "text": [
            "\b\b\b\b\b\b\b\b\b\b\b\b\b\b\b\b\b\b\b\b\b\b\b\b\b\b\b\b\b\b\b\b\b\b\b\b\b\b\b\b\b\b\b\b\b\b\b\b\b\b\b\b\b\b\b\b\b\b\b\b\b\b\b\b\b\b\b\b\b\b\b\b\b\b\b\b\b\b\b\b\b\b\b\b\r125/125 [==============================] - 35s 279ms/step - loss: 0.1785 - accuracy: 0.9617 - val_loss: 0.1780 - val_accuracy: 0.9602 - lr: 0.0010\n",
            "Epoch 22/180\n",
            "125/125 [==============================] - ETA: 0s - loss: 0.1832 - accuracy: 0.9586\n",
            "Epoch 00022: val_accuracy did not improve from 0.96171\n"
          ],
          "name": "stdout"
        },
        {
          "output_type": "stream",
          "text": [
            "2020-05-13 03:12:45,164 INFO \n",
            " epoch:021, F1Macro: 0.91461\n"
          ],
          "name": "stderr"
        },
        {
          "output_type": "stream",
          "text": [
            "\b\b\b\b\b\b\b\b\b\b\b\b\b\b\b\b\b\b\b\b\b\b\b\b\b\b\b\b\b\b\b\b\b\b\b\b\b\b\b\b\b\b\b\b\b\b\b\b\b\b\b\b\b\b\b\b\b\b\b\b\b\b\b\b\b\b\b\b\b\b\b\b\b\b\b\b\b\b\b\b\b\b\b\b\r125/125 [==============================] - 35s 278ms/step - loss: 0.1832 - accuracy: 0.9586 - val_loss: 0.1913 - val_accuracy: 0.9532 - lr: 0.0010\n",
            "Epoch 23/180\n",
            "125/125 [==============================] - ETA: 0s - loss: 0.1751 - accuracy: 0.9586\n",
            "Epoch 00023: val_accuracy improved from 0.96171 to 0.96345, saving model to ion_switch/res/wavenet-dlr-res/ClassifierCBRWmulti-Prob11-NESCAL/all/0_fold/checkpoint-modelonly-0.h5\n"
          ],
          "name": "stdout"
        },
        {
          "output_type": "stream",
          "text": [
            "2020-05-13 03:13:21,059 INFO \n",
            " epoch:022, F1Macro: 0.93383\n"
          ],
          "name": "stderr"
        },
        {
          "output_type": "stream",
          "text": [
            "\b\b\b\b\b\b\b\b\b\b\b\b\b\b\b\b\b\b\b\b\b\b\b\b\b\b\b\b\b\b\b\b\b\b\b\b\b\b\b\b\b\b\b\b\b\b\b\b\b\b\b\b\b\b\b\b\b\b\b\b\b\b\b\b\b\b\b\b\b\b\b\b\b\b\b\b\b\b\b\b\b\b\b\b\r125/125 [==============================] - 36s 291ms/step - loss: 0.1751 - accuracy: 0.9586 - val_loss: 0.1595 - val_accuracy: 0.9635 - lr: 0.0010\n",
            "Epoch 24/180\n",
            "125/125 [==============================] - ETA: 0s - loss: 0.1553 - accuracy: 0.9637\n",
            "Epoch 00024: val_accuracy did not improve from 0.96345\n"
          ],
          "name": "stdout"
        },
        {
          "output_type": "stream",
          "text": [
            "2020-05-13 03:13:56,918 INFO \n",
            " epoch:023, F1Macro: 0.93267\n"
          ],
          "name": "stderr"
        },
        {
          "output_type": "stream",
          "text": [
            "\b\b\b\b\b\b\b\b\b\b\b\b\b\b\b\b\b\b\b\b\b\b\b\b\b\b\b\b\b\b\b\b\b\b\b\b\b\b\b\b\b\b\b\b\b\b\b\b\b\b\b\b\b\b\b\b\b\b\b\b\b\b\b\b\b\b\b\b\b\b\b\b\b\b\b\b\b\b\b\b\b\b\b\b\r125/125 [==============================] - 35s 279ms/step - loss: 0.1553 - accuracy: 0.9637 - val_loss: 0.1546 - val_accuracy: 0.9634 - lr: 0.0010\n",
            "Epoch 25/180\n",
            "125/125 [==============================] - ETA: 0s - loss: 0.1486 - accuracy: 0.9642\n",
            "Epoch 00025: val_accuracy improved from 0.96345 to 0.96414, saving model to ion_switch/res/wavenet-dlr-res/ClassifierCBRWmulti-Prob11-NESCAL/all/0_fold/checkpoint-modelonly-0.h5\n"
          ],
          "name": "stdout"
        },
        {
          "output_type": "stream",
          "text": [
            "2020-05-13 03:14:32,751 INFO \n",
            " epoch:024, F1Macro: 0.93470\n"
          ],
          "name": "stderr"
        },
        {
          "output_type": "stream",
          "text": [
            "\b\b\b\b\b\b\b\b\b\b\b\b\b\b\b\b\b\b\b\b\b\b\b\b\b\b\b\b\b\b\b\b\b\b\b\b\b\b\b\b\b\b\b\b\b\b\b\b\b\b\b\b\b\b\b\b\b\b\b\b\b\b\b\b\b\b\b\b\b\b\b\b\b\b\b\b\b\b\b\b\b\b\b\b\r125/125 [==============================] - 36s 291ms/step - loss: 0.1486 - accuracy: 0.9642 - val_loss: 0.1476 - val_accuracy: 0.9641 - lr: 0.0010\n",
            "Epoch 26/180\n",
            "125/125 [==============================] - ETA: 0s - loss: 0.1458 - accuracy: 0.9638\n",
            "Epoch 00026: val_accuracy did not improve from 0.96414\n"
          ],
          "name": "stdout"
        },
        {
          "output_type": "stream",
          "text": [
            "2020-05-13 03:15:08,699 INFO \n",
            " epoch:025, F1Macro: 0.93223\n"
          ],
          "name": "stderr"
        },
        {
          "output_type": "stream",
          "text": [
            "\b\b\b\b\b\b\b\b\b\b\b\b\b\b\b\b\b\b\b\b\b\b\b\b\b\b\b\b\b\b\b\b\b\b\b\b\b\b\b\b\b\b\b\b\b\b\b\b\b\b\b\b\b\b\b\b\b\b\b\b\b\b\b\b\b\b\b\b\b\b\b\b\b\b\b\b\b\b\b\b\b\b\b\b\r125/125 [==============================] - 35s 279ms/step - loss: 0.1458 - accuracy: 0.9638 - val_loss: 0.1445 - val_accuracy: 0.9636 - lr: 0.0010\n",
            "Epoch 27/180\n",
            "125/125 [==============================] - ETA: 0s - loss: 0.1393 - accuracy: 0.9645\n",
            "Epoch 00027: val_accuracy did not improve from 0.96414\n"
          ],
          "name": "stdout"
        },
        {
          "output_type": "stream",
          "text": [
            "2020-05-13 03:15:43,922 INFO \n",
            " epoch:026, F1Macro: 0.93377\n"
          ],
          "name": "stderr"
        },
        {
          "output_type": "stream",
          "text": [
            "\b\b\b\b\b\b\b\b\b\b\b\b\b\b\b\b\b\b\b\b\b\b\b\b\b\b\b\b\b\b\b\b\b\b\b\b\b\b\b\b\b\b\b\b\b\b\b\b\b\b\b\b\b\b\b\b\b\b\b\b\b\b\b\b\b\b\b\b\b\b\b\b\b\b\b\b\b\b\b\b\b\b\b\b\r125/125 [==============================] - 35s 280ms/step - loss: 0.1393 - accuracy: 0.9645 - val_loss: 0.1397 - val_accuracy: 0.9637 - lr: 0.0010\n",
            "Epoch 28/180\n",
            "125/125 [==============================] - ETA: 0s - loss: 0.1360 - accuracy: 0.9644\n",
            "Epoch 00028: val_accuracy improved from 0.96414 to 0.96439, saving model to ion_switch/res/wavenet-dlr-res/ClassifierCBRWmulti-Prob11-NESCAL/all/0_fold/checkpoint-modelonly-0.h5\n"
          ],
          "name": "stdout"
        },
        {
          "output_type": "stream",
          "text": [
            "2020-05-13 03:16:20,891 INFO \n",
            " epoch:027, F1Macro: 0.93474\n"
          ],
          "name": "stderr"
        },
        {
          "output_type": "stream",
          "text": [
            "\b\b\b\b\b\b\b\b\b\b\b\b\b\b\b\b\b\b\b\b\b\b\b\b\b\b\b\b\b\b\b\b\b\b\b\b\b\b\b\b\b\b\b\b\b\b\b\b\b\b\b\b\b\b\b\b\b\b\b\b\b\b\b\b\b\b\b\b\b\b\b\b\b\b\b\b\b\b\b\b\b\b\b\b\r125/125 [==============================] - 37s 299ms/step - loss: 0.1360 - accuracy: 0.9644 - val_loss: 0.1341 - val_accuracy: 0.9644 - lr: 0.0010\n",
            "Epoch 29/180\n",
            "125/125 [==============================] - ETA: 0s - loss: 0.1323 - accuracy: 0.9645\n",
            "Epoch 00029: val_accuracy improved from 0.96439 to 0.96440, saving model to ion_switch/res/wavenet-dlr-res/ClassifierCBRWmulti-Prob11-NESCAL/all/0_fold/checkpoint-modelonly-0.h5\n"
          ],
          "name": "stdout"
        },
        {
          "output_type": "stream",
          "text": [
            "2020-05-13 03:16:57,365 INFO \n",
            " epoch:028, F1Macro: 0.93492\n"
          ],
          "name": "stderr"
        },
        {
          "output_type": "stream",
          "text": [
            "\b\b\b\b\b\b\b\b\b\b\b\b\b\b\b\b\b\b\b\b\b\b\b\b\b\b\b\b\b\b\b\b\b\b\b\b\b\b\b\b\b\b\b\b\b\b\b\b\b\b\b\b\b\b\b\b\b\b\b\b\b\b\b\b\b\b\b\b\b\b\b\b\b\b\b\b\b\b\b\b\b\b\b\b\r125/125 [==============================] - 36s 290ms/step - loss: 0.1323 - accuracy: 0.9645 - val_loss: 0.1315 - val_accuracy: 0.9644 - lr: 0.0010\n",
            "Epoch 30/180\n",
            "125/125 [==============================] - ETA: 0s - loss: 0.1302 - accuracy: 0.9644\n",
            "Epoch 00030: val_accuracy did not improve from 0.96440\n"
          ],
          "name": "stdout"
        },
        {
          "output_type": "stream",
          "text": [
            "2020-05-13 03:17:33,090 INFO \n",
            " epoch:029, F1Macro: 0.93436\n"
          ],
          "name": "stderr"
        },
        {
          "output_type": "stream",
          "text": [
            "\b\b\b\b\b\b\b\b\b\b\b\b\b\b\b\b\b\b\b\b\b\b\b\b\b\b\b\b\b\b\b\b\b\b\b\b\b\b\b\b\b\b\b\b\b\b\b\b\b\b\b\b\b\b\b\b\b\b\b\b\b\b\b\b\b\b\b\b\b\b\b\b\b\b\b\b\b\b\b\b\b\b\b\b\r125/125 [==============================] - 35s 278ms/step - loss: 0.1302 - accuracy: 0.9644 - val_loss: 0.1308 - val_accuracy: 0.9635 - lr: 0.0010\n",
            "Epoch 31/180\n",
            "125/125 [==============================] - ETA: 0s - loss: 0.1255 - accuracy: 0.9655\n",
            "Epoch 00031: val_accuracy improved from 0.96440 to 0.96505, saving model to ion_switch/res/wavenet-dlr-res/ClassifierCBRWmulti-Prob11-NESCAL/all/0_fold/checkpoint-modelonly-0.h5\n"
          ],
          "name": "stdout"
        },
        {
          "output_type": "stream",
          "text": [
            "2020-05-13 03:18:09,831 INFO \n",
            " epoch:030, F1Macro: 0.93657\n"
          ],
          "name": "stderr"
        },
        {
          "output_type": "stream",
          "text": [
            "\b\b\b\b\b\b\b\b\b\b\b\b\b\b\b\b\b\b\b\b\b\b\b\b\b\b\b\b\b\b\b\b\b\b\b\b\b\b\b\b\b\b\b\b\b\b\b\b\b\b\b\b\b\b\b\b\b\b\b\b\b\b\b\b\b\b\b\b\b\b\b\b\b\b\b\b\b\b\b\b\b\b\b\b\r125/125 [==============================] - 37s 298ms/step - loss: 0.1255 - accuracy: 0.9655 - val_loss: 0.1254 - val_accuracy: 0.9650 - lr: 3.3333e-04\n",
            "Epoch 32/180\n",
            "125/125 [==============================] - ETA: 0s - loss: 0.1239 - accuracy: 0.9657\n",
            "Epoch 00032: val_accuracy did not improve from 0.96505\n"
          ],
          "name": "stdout"
        },
        {
          "output_type": "stream",
          "text": [
            "2020-05-13 03:18:45,533 INFO \n",
            " epoch:031, F1Macro: 0.93493\n"
          ],
          "name": "stderr"
        },
        {
          "output_type": "stream",
          "text": [
            "\b\b\b\b\b\b\b\b\b\b\b\b\b\b\b\b\b\b\b\b\b\b\b\b\b\b\b\b\b\b\b\b\b\b\b\b\b\b\b\b\b\b\b\b\b\b\b\b\b\b\b\b\b\b\b\b\b\b\b\b\b\b\b\b\b\b\b\b\b\b\b\b\b\b\b\b\b\b\b\b\b\b\b\b\r125/125 [==============================] - 35s 277ms/step - loss: 0.1239 - accuracy: 0.9657 - val_loss: 0.1263 - val_accuracy: 0.9645 - lr: 3.3333e-04\n",
            "Epoch 33/180\n",
            "125/125 [==============================] - ETA: 0s - loss: 0.1217 - accuracy: 0.9660\n",
            "Epoch 00033: val_accuracy did not improve from 0.96505\n"
          ],
          "name": "stdout"
        },
        {
          "output_type": "stream",
          "text": [
            "2020-05-13 03:19:20,482 INFO \n",
            " epoch:032, F1Macro: 0.93627\n"
          ],
          "name": "stderr"
        },
        {
          "output_type": "stream",
          "text": [
            "\b\b\b\b\b\b\b\b\b\b\b\b\b\b\b\b\b\b\b\b\b\b\b\b\b\b\b\b\b\b\b\b\b\b\b\b\b\b\b\b\b\b\b\b\b\b\b\b\b\b\b\b\b\b\b\b\b\b\b\b\b\b\b\b\b\b\b\b\b\b\b\b\b\b\b\b\b\b\b\b\b\b\b\b\r125/125 [==============================] - 35s 277ms/step - loss: 0.1217 - accuracy: 0.9660 - val_loss: 0.1233 - val_accuracy: 0.9649 - lr: 3.3333e-04\n",
            "Epoch 34/180\n",
            "125/125 [==============================] - ETA: 0s - loss: 0.1219 - accuracy: 0.9657\n",
            "Epoch 00034: val_accuracy did not improve from 0.96505\n"
          ],
          "name": "stdout"
        },
        {
          "output_type": "stream",
          "text": [
            "2020-05-13 03:19:55,514 INFO \n",
            " epoch:033, F1Macro: 0.93534\n"
          ],
          "name": "stderr"
        },
        {
          "output_type": "stream",
          "text": [
            "\b\b\b\b\b\b\b\b\b\b\b\b\b\b\b\b\b\b\b\b\b\b\b\b\b\b\b\b\b\b\b\b\b\b\b\b\b\b\b\b\b\b\b\b\b\b\b\b\b\b\b\b\b\b\b\b\b\b\b\b\b\b\b\b\b\b\b\b\b\b\b\b\b\b\b\b\b\b\b\b\b\b\b\b\r125/125 [==============================] - 35s 278ms/step - loss: 0.1219 - accuracy: 0.9657 - val_loss: 0.1244 - val_accuracy: 0.9644 - lr: 3.3333e-04\n",
            "Epoch 35/180\n",
            "125/125 [==============================] - ETA: 0s - loss: 0.1201 - accuracy: 0.9659\n",
            "Epoch 00035: val_accuracy did not improve from 0.96505\n"
          ],
          "name": "stdout"
        },
        {
          "output_type": "stream",
          "text": [
            "2020-05-13 03:20:30,543 INFO \n",
            " epoch:034, F1Macro: 0.93289\n"
          ],
          "name": "stderr"
        },
        {
          "output_type": "stream",
          "text": [
            "\b\b\b\b\b\b\b\b\b\b\b\b\b\b\b\b\b\b\b\b\b\b\b\b\b\b\b\b\b\b\b\b\b\b\b\b\b\b\b\b\b\b\b\b\b\b\b\b\b\b\b\b\b\b\b\b\b\b\b\b\b\b\b\b\b\b\b\b\b\b\b\b\b\b\b\b\b\b\b\b\b\b\b\b\r125/125 [==============================] - 35s 278ms/step - loss: 0.1201 - accuracy: 0.9659 - val_loss: 0.1248 - val_accuracy: 0.9637 - lr: 3.3333e-04\n",
            "Epoch 36/180\n",
            "125/125 [==============================] - ETA: 0s - loss: 0.1193 - accuracy: 0.9658\n",
            "Epoch 00036: val_accuracy did not improve from 0.96505\n"
          ],
          "name": "stdout"
        },
        {
          "output_type": "stream",
          "text": [
            "2020-05-13 03:21:05,511 INFO \n",
            " epoch:035, F1Macro: 0.93668\n"
          ],
          "name": "stderr"
        },
        {
          "output_type": "stream",
          "text": [
            "\b\b\b\b\b\b\b\b\b\b\b\b\b\b\b\b\b\b\b\b\b\b\b\b\b\b\b\b\b\b\b\b\b\b\b\b\b\b\b\b\b\b\b\b\b\b\b\b\b\b\b\b\b\b\b\b\b\b\b\b\b\b\b\b\b\b\b\b\b\b\b\b\b\b\b\b\b\b\b\b\b\b\b\b\r125/125 [==============================] - 35s 284ms/step - loss: 0.1193 - accuracy: 0.9658 - val_loss: 0.1203 - val_accuracy: 0.9650 - lr: 3.3333e-04\n",
            "Epoch 37/180\n",
            "125/125 [==============================] - ETA: 0s - loss: 0.1171 - accuracy: 0.9660\n",
            "Epoch 00037: val_accuracy did not improve from 0.96505\n"
          ],
          "name": "stdout"
        },
        {
          "output_type": "stream",
          "text": [
            "2020-05-13 03:21:41,282 INFO \n",
            " epoch:036, F1Macro: 0.93650\n"
          ],
          "name": "stderr"
        },
        {
          "output_type": "stream",
          "text": [
            "\b\b\b\b\b\b\b\b\b\b\b\b\b\b\b\b\b\b\b\b\b\b\b\b\b\b\b\b\b\b\b\b\b\b\b\b\b\b\b\b\b\b\b\b\b\b\b\b\b\b\b\b\b\b\b\b\b\b\b\b\b\b\b\b\b\b\b\b\b\b\b\b\b\b\b\b\b\b\b\b\b\b\b\b\r125/125 [==============================] - 35s 278ms/step - loss: 0.1171 - accuracy: 0.9660 - val_loss: 0.1184 - val_accuracy: 0.9650 - lr: 3.3333e-04\n",
            "Epoch 38/180\n",
            "125/125 [==============================] - ETA: 0s - loss: 0.1158 - accuracy: 0.9661\n",
            "Epoch 00038: val_accuracy did not improve from 0.96505\n"
          ],
          "name": "stdout"
        },
        {
          "output_type": "stream",
          "text": [
            "2020-05-13 03:22:16,367 INFO \n",
            " epoch:037, F1Macro: 0.93654\n"
          ],
          "name": "stderr"
        },
        {
          "output_type": "stream",
          "text": [
            "\b\b\b\b\b\b\b\b\b\b\b\b\b\b\b\b\b\b\b\b\b\b\b\b\b\b\b\b\b\b\b\b\b\b\b\b\b\b\b\b\b\b\b\b\b\b\b\b\b\b\b\b\b\b\b\b\b\b\b\b\b\b\b\b\b\b\b\b\b\b\b\b\b\b\b\b\b\b\b\b\b\b\b\b\r125/125 [==============================] - 35s 279ms/step - loss: 0.1158 - accuracy: 0.9661 - val_loss: 0.1175 - val_accuracy: 0.9650 - lr: 3.3333e-04\n",
            "Epoch 39/180\n",
            "125/125 [==============================] - ETA: 0s - loss: 0.1148 - accuracy: 0.9661\n",
            "Epoch 00039: val_accuracy did not improve from 0.96505\n"
          ],
          "name": "stdout"
        },
        {
          "output_type": "stream",
          "text": [
            "2020-05-13 03:22:51,585 INFO \n",
            " epoch:038, F1Macro: 0.93583\n"
          ],
          "name": "stderr"
        },
        {
          "output_type": "stream",
          "text": [
            "\b\b\b\b\b\b\b\b\b\b\b\b\b\b\b\b\b\b\b\b\b\b\b\b\b\b\b\b\b\b\b\b\b\b\b\b\b\b\b\b\b\b\b\b\b\b\b\b\b\b\b\b\b\b\b\b\b\b\b\b\b\b\b\b\b\b\b\b\b\b\b\b\b\b\b\b\b\b\b\b\b\b\b\b\r125/125 [==============================] - 35s 280ms/step - loss: 0.1148 - accuracy: 0.9661 - val_loss: 0.1171 - val_accuracy: 0.9647 - lr: 3.3333e-04\n",
            "Epoch 40/180\n",
            "125/125 [==============================] - ETA: 0s - loss: 0.1134 - accuracy: 0.9664\n",
            "Epoch 00040: val_accuracy improved from 0.96505 to 0.96525, saving model to ion_switch/res/wavenet-dlr-res/ClassifierCBRWmulti-Prob11-NESCAL/all/0_fold/checkpoint-modelonly-0.h5\n"
          ],
          "name": "stdout"
        },
        {
          "output_type": "stream",
          "text": [
            "2020-05-13 03:23:27,438 INFO \n",
            " epoch:039, F1Macro: 0.93647\n"
          ],
          "name": "stderr"
        },
        {
          "output_type": "stream",
          "text": [
            "\b\b\b\b\b\b\b\b\b\b\b\b\b\b\b\b\b\b\b\b\b\b\b\b\b\b\b\b\b\b\b\b\b\b\b\b\b\b\b\b\b\b\b\b\b\b\b\b\b\b\b\b\b\b\b\b\b\b\b\b\b\b\b\b\b\b\b\b\b\b\b\b\b\b\b\b\b\b\b\b\b\b\b\b\r125/125 [==============================] - 36s 285ms/step - loss: 0.1134 - accuracy: 0.9664 - val_loss: 0.1154 - val_accuracy: 0.9653 - lr: 3.3333e-04\n",
            "Epoch 41/180\n",
            "125/125 [==============================] - ETA: 0s - loss: 0.1124 - accuracy: 0.9669\n",
            "Epoch 00041: val_accuracy improved from 0.96525 to 0.96579, saving model to ion_switch/res/wavenet-dlr-res/ClassifierCBRWmulti-Prob11-NESCAL/all/0_fold/checkpoint-modelonly-0.h5\n"
          ],
          "name": "stdout"
        },
        {
          "output_type": "stream",
          "text": [
            "2020-05-13 03:24:03,304 INFO \n",
            " epoch:040, F1Macro: 0.93665\n"
          ],
          "name": "stderr"
        },
        {
          "output_type": "stream",
          "text": [
            "\b\b\b\b\b\b\b\b\b\b\b\b\b\b\b\b\b\b\b\b\b\b\b\b\b\b\b\b\b\b\b\b\b\b\b\b\b\b\b\b\b\b\b\b\b\b\b\b\b\b\b\b\b\b\b\b\b\b\b\b\b\b\b\b\b\b\b\b\b\b\b\b\b\b\b\b\b\b\b\b\b\b\b\b\r125/125 [==============================] - 36s 285ms/step - loss: 0.1124 - accuracy: 0.9669 - val_loss: 0.1152 - val_accuracy: 0.9658 - lr: 2.0000e-04\n",
            "Epoch 42/180\n",
            "125/125 [==============================] - ETA: 0s - loss: 0.1122 - accuracy: 0.9669\n",
            "Epoch 00042: val_accuracy did not improve from 0.96579\n"
          ],
          "name": "stdout"
        },
        {
          "output_type": "stream",
          "text": [
            "2020-05-13 03:24:38,399 INFO \n",
            " epoch:041, F1Macro: 0.93689\n"
          ],
          "name": "stderr"
        },
        {
          "output_type": "stream",
          "text": [
            "\b\b\b\b\b\b\b\b\b\b\b\b\b\b\b\b\b\b\b\b\b\b\b\b\b\b\b\b\b\b\b\b\b\b\b\b\b\b\b\b\b\b\b\b\b\b\b\b\b\b\b\b\b\b\b\b\b\b\b\b\b\b\b\b\b\b\b\b\b\b\b\b\b\b\b\b\b\b\b\b\b\b\b\b\r125/125 [==============================] - 36s 284ms/step - loss: 0.1122 - accuracy: 0.9669 - val_loss: 0.1156 - val_accuracy: 0.9656 - lr: 2.0000e-04\n",
            "Epoch 43/180\n",
            "125/125 [==============================] - ETA: 0s - loss: 0.1110 - accuracy: 0.9673\n",
            "Epoch 00043: val_accuracy did not improve from 0.96579\n"
          ],
          "name": "stdout"
        },
        {
          "output_type": "stream",
          "text": [
            "2020-05-13 03:25:14,151 INFO \n",
            " epoch:042, F1Macro: 0.93585\n"
          ],
          "name": "stderr"
        },
        {
          "output_type": "stream",
          "text": [
            "\b\b\b\b\b\b\b\b\b\b\b\b\b\b\b\b\b\b\b\b\b\b\b\b\b\b\b\b\b\b\b\b\b\b\b\b\b\b\b\b\b\b\b\b\b\b\b\b\b\b\b\b\b\b\b\b\b\b\b\b\b\b\b\b\b\b\b\b\b\b\b\b\b\b\b\b\b\b\b\b\b\b\b\b\r125/125 [==============================] - 35s 278ms/step - loss: 0.1110 - accuracy: 0.9673 - val_loss: 0.1146 - val_accuracy: 0.9655 - lr: 2.0000e-04\n",
            "Epoch 44/180\n",
            "125/125 [==============================] - ETA: 0s - loss: 0.1111 - accuracy: 0.9672\n",
            "Epoch 00044: val_accuracy improved from 0.96579 to 0.96607, saving model to ion_switch/res/wavenet-dlr-res/ClassifierCBRWmulti-Prob11-NESCAL/all/0_fold/checkpoint-modelonly-0.h5\n"
          ],
          "name": "stdout"
        },
        {
          "output_type": "stream",
          "text": [
            "2020-05-13 03:25:50,079 INFO \n",
            " epoch:043, F1Macro: 0.93698\n"
          ],
          "name": "stderr"
        },
        {
          "output_type": "stream",
          "text": [
            "\b\b\b\b\b\b\b\b\b\b\b\b\b\b\b\b\b\b\b\b\b\b\b\b\b\b\b\b\b\b\b\b\b\b\b\b\b\b\b\b\b\b\b\b\b\b\b\b\b\b\b\b\b\b\b\b\b\b\b\b\b\b\b\b\b\b\b\b\b\b\b\b\b\b\b\b\b\b\b\b\b\b\b\b\r125/125 [==============================] - 36s 291ms/step - loss: 0.1111 - accuracy: 0.9672 - val_loss: 0.1135 - val_accuracy: 0.9661 - lr: 2.0000e-04\n",
            "Epoch 45/180\n",
            "125/125 [==============================] - ETA: 0s - loss: 0.1102 - accuracy: 0.9672\n",
            "Epoch 00045: val_accuracy did not improve from 0.96607\n"
          ],
          "name": "stdout"
        },
        {
          "output_type": "stream",
          "text": [
            "2020-05-13 03:26:25,937 INFO \n",
            " epoch:044, F1Macro: 0.93598\n"
          ],
          "name": "stderr"
        },
        {
          "output_type": "stream",
          "text": [
            "\b\b\b\b\b\b\b\b\b\b\b\b\b\b\b\b\b\b\b\b\b\b\b\b\b\b\b\b\b\b\b\b\b\b\b\b\b\b\b\b\b\b\b\b\b\b\b\b\b\b\b\b\b\b\b\b\b\b\b\b\b\b\b\b\b\b\b\b\b\b\b\b\b\b\b\b\b\b\b\b\b\b\b\b\r125/125 [==============================] - 35s 279ms/step - loss: 0.1102 - accuracy: 0.9672 - val_loss: 0.1133 - val_accuracy: 0.9660 - lr: 2.0000e-04\n",
            "Epoch 46/180\n",
            "125/125 [==============================] - ETA: 0s - loss: 0.1090 - accuracy: 0.9676\n",
            "Epoch 00046: val_accuracy improved from 0.96607 to 0.96654, saving model to ion_switch/res/wavenet-dlr-res/ClassifierCBRWmulti-Prob11-NESCAL/all/0_fold/checkpoint-modelonly-0.h5\n"
          ],
          "name": "stdout"
        },
        {
          "output_type": "stream",
          "text": [
            "2020-05-13 03:27:01,795 INFO \n",
            " epoch:045, F1Macro: 0.93754\n"
          ],
          "name": "stderr"
        },
        {
          "output_type": "stream",
          "text": [
            "\b\b\b\b\b\b\b\b\b\b\b\b\b\b\b\b\b\b\b\b\b\b\b\b\b\b\b\b\b\b\b\b\b\b\b\b\b\b\b\b\b\b\b\b\b\b\b\b\b\b\b\b\b\b\b\b\b\b\b\b\b\b\b\b\b\b\b\b\b\b\b\b\b\b\b\b\b\b\b\b\b\b\b\b\r125/125 [==============================] - 36s 291ms/step - loss: 0.1090 - accuracy: 0.9676 - val_loss: 0.1114 - val_accuracy: 0.9665 - lr: 2.0000e-04\n",
            "Epoch 47/180\n",
            "125/125 [==============================] - ETA: 0s - loss: 0.1084 - accuracy: 0.9676\n",
            "Epoch 00047: val_accuracy did not improve from 0.96654\n"
          ],
          "name": "stdout"
        },
        {
          "output_type": "stream",
          "text": [
            "2020-05-13 03:27:37,678 INFO \n",
            " epoch:046, F1Macro: 0.93714\n"
          ],
          "name": "stderr"
        },
        {
          "output_type": "stream",
          "text": [
            "\b\b\b\b\b\b\b\b\b\b\b\b\b\b\b\b\b\b\b\b\b\b\b\b\b\b\b\b\b\b\b\b\b\b\b\b\b\b\b\b\b\b\b\b\b\b\b\b\b\b\b\b\b\b\b\b\b\b\b\b\b\b\b\b\b\b\b\b\b\b\b\b\b\b\b\b\b\b\b\b\b\b\b\b\r125/125 [==============================] - 35s 279ms/step - loss: 0.1084 - accuracy: 0.9676 - val_loss: 0.1116 - val_accuracy: 0.9663 - lr: 2.0000e-04\n",
            "Epoch 48/180\n",
            "125/125 [==============================] - ETA: 0s - loss: 0.1080 - accuracy: 0.9676\n",
            "Epoch 00048: val_accuracy improved from 0.96654 to 0.96659, saving model to ion_switch/res/wavenet-dlr-res/ClassifierCBRWmulti-Prob11-NESCAL/all/0_fold/checkpoint-modelonly-0.h5\n"
          ],
          "name": "stdout"
        },
        {
          "output_type": "stream",
          "text": [
            "2020-05-13 03:28:13,581 INFO \n",
            " epoch:047, F1Macro: 0.93772\n"
          ],
          "name": "stderr"
        },
        {
          "output_type": "stream",
          "text": [
            "\b\b\b\b\b\b\b\b\b\b\b\b\b\b\b\b\b\b\b\b\b\b\b\b\b\b\b\b\b\b\b\b\b\b\b\b\b\b\b\b\b\b\b\b\b\b\b\b\b\b\b\b\b\b\b\b\b\b\b\b\b\b\b\b\b\b\b\b\b\b\b\b\b\b\b\b\b\b\b\b\b\b\b\b\r125/125 [==============================] - 36s 291ms/step - loss: 0.1080 - accuracy: 0.9676 - val_loss: 0.1104 - val_accuracy: 0.9666 - lr: 2.0000e-04\n",
            "Epoch 49/180\n",
            "125/125 [==============================] - ETA: 0s - loss: 0.1077 - accuracy: 0.9676\n",
            "Epoch 00049: val_accuracy did not improve from 0.96659\n"
          ],
          "name": "stdout"
        },
        {
          "output_type": "stream",
          "text": [
            "2020-05-13 03:28:49,403 INFO \n",
            " epoch:048, F1Macro: 0.93615\n"
          ],
          "name": "stderr"
        },
        {
          "output_type": "stream",
          "text": [
            "\b\b\b\b\b\b\b\b\b\b\b\b\b\b\b\b\b\b\b\b\b\b\b\b\b\b\b\b\b\b\b\b\b\b\b\b\b\b\b\b\b\b\b\b\b\b\b\b\b\b\b\b\b\b\b\b\b\b\b\b\b\b\b\b\b\b\b\b\b\b\b\b\b\b\b\b\b\b\b\b\b\b\b\b\r125/125 [==============================] - 35s 279ms/step - loss: 0.1077 - accuracy: 0.9676 - val_loss: 0.1116 - val_accuracy: 0.9658 - lr: 2.0000e-04\n",
            "Epoch 50/180\n",
            "125/125 [==============================] - ETA: 0s - loss: 0.1069 - accuracy: 0.9677\n",
            "Epoch 00050: val_accuracy did not improve from 0.96659\n"
          ],
          "name": "stdout"
        },
        {
          "output_type": "stream",
          "text": [
            "2020-05-13 03:29:24,514 INFO \n",
            " epoch:049, F1Macro: 0.93725\n"
          ],
          "name": "stderr"
        },
        {
          "output_type": "stream",
          "text": [
            "\b\b\b\b\b\b\b\b\b\b\b\b\b\b\b\b\b\b\b\b\b\b\b\b\b\b\b\b\b\b\b\b\b\b\b\b\b\b\b\b\b\b\b\b\b\b\b\b\b\b\b\b\b\b\b\b\b\b\b\b\b\b\b\b\b\b\b\b\b\b\b\b\b\b\b\b\b\b\b\b\b\b\b\b\r125/125 [==============================] - 35s 279ms/step - loss: 0.1069 - accuracy: 0.9677 - val_loss: 0.1098 - val_accuracy: 0.9664 - lr: 2.0000e-04\n",
            "Epoch 51/180\n",
            "125/125 [==============================] - ETA: 0s - loss: 0.1057 - accuracy: 0.9679\n",
            "Epoch 00051: val_accuracy did not improve from 0.96659\n"
          ],
          "name": "stdout"
        },
        {
          "output_type": "stream",
          "text": [
            "2020-05-13 03:29:59,643 INFO \n",
            " epoch:050, F1Macro: 0.93674\n"
          ],
          "name": "stderr"
        },
        {
          "output_type": "stream",
          "text": [
            "\b\b\b\b\b\b\b\b\b\b\b\b\b\b\b\b\b\b\b\b\b\b\b\b\b\b\b\b\b\b\b\b\b\b\b\b\b\b\b\b\b\b\b\b\b\b\b\b\b\b\b\b\b\b\b\b\b\b\b\b\b\b\b\b\b\b\b\b\b\b\b\b\b\b\b\b\b\b\b\b\b\b\b\b\r125/125 [==============================] - 35s 279ms/step - loss: 0.1057 - accuracy: 0.9679 - val_loss: 0.1104 - val_accuracy: 0.9659 - lr: 1.4286e-04\n",
            "Epoch 52/180\n",
            "125/125 [==============================] - ETA: 0s - loss: 0.1053 - accuracy: 0.9679\n",
            "Epoch 00052: val_accuracy did not improve from 0.96659\n"
          ],
          "name": "stdout"
        },
        {
          "output_type": "stream",
          "text": [
            "2020-05-13 03:30:34,756 INFO \n",
            " epoch:051, F1Macro: 0.93609\n"
          ],
          "name": "stderr"
        },
        {
          "output_type": "stream",
          "text": [
            "\b\b\b\b\b\b\b\b\b\b\b\b\b\b\b\b\b\b\b\b\b\b\b\b\b\b\b\b\b\b\b\b\b\b\b\b\b\b\b\b\b\b\b\b\b\b\b\b\b\b\b\b\b\b\b\b\b\b\b\b\b\b\b\b\b\b\b\b\b\b\b\b\b\b\b\b\b\b\b\b\b\b\b\b\r125/125 [==============================] - 35s 279ms/step - loss: 0.1053 - accuracy: 0.9679 - val_loss: 0.1105 - val_accuracy: 0.9658 - lr: 1.4286e-04\n",
            "Epoch 53/180\n",
            "125/125 [==============================] - ETA: 0s - loss: 0.1052 - accuracy: 0.9679\n",
            "Epoch 00053: val_accuracy did not improve from 0.96659\n"
          ],
          "name": "stdout"
        },
        {
          "output_type": "stream",
          "text": [
            "2020-05-13 03:31:09,868 INFO \n",
            " epoch:052, F1Macro: 0.93753\n"
          ],
          "name": "stderr"
        },
        {
          "output_type": "stream",
          "text": [
            "\b\b\b\b\b\b\b\b\b\b\b\b\b\b\b\b\b\b\b\b\b\b\b\b\b\b\b\b\b\b\b\b\b\b\b\b\b\b\b\b\b\b\b\b\b\b\b\b\b\b\b\b\b\b\b\b\b\b\b\b\b\b\b\b\b\b\b\b\b\b\b\b\b\b\b\b\b\b\b\b\b\b\b\b\r125/125 [==============================] - 35s 279ms/step - loss: 0.1052 - accuracy: 0.9679 - val_loss: 0.1080 - val_accuracy: 0.9664 - lr: 1.4286e-04\n",
            "Epoch 54/180\n",
            "125/125 [==============================] - ETA: 0s - loss: 0.1046 - accuracy: 0.9679\n",
            "Epoch 00054: val_accuracy did not improve from 0.96659\n"
          ],
          "name": "stdout"
        },
        {
          "output_type": "stream",
          "text": [
            "2020-05-13 03:31:44,926 INFO \n",
            " epoch:053, F1Macro: 0.93739\n"
          ],
          "name": "stderr"
        },
        {
          "output_type": "stream",
          "text": [
            "\b\b\b\b\b\b\b\b\b\b\b\b\b\b\b\b\b\b\b\b\b\b\b\b\b\b\b\b\b\b\b\b\b\b\b\b\b\b\b\b\b\b\b\b\b\b\b\b\b\b\b\b\b\b\b\b\b\b\b\b\b\b\b\b\b\b\b\b\b\b\b\b\b\b\b\b\b\b\b\b\b\b\b\b\r125/125 [==============================] - 35s 278ms/step - loss: 0.1046 - accuracy: 0.9679 - val_loss: 0.1085 - val_accuracy: 0.9662 - lr: 1.4286e-04\n",
            "Epoch 55/180\n",
            "125/125 [==============================] - ETA: 0s - loss: 0.1044 - accuracy: 0.9679\n",
            "Epoch 00055: val_accuracy did not improve from 0.96659\n"
          ],
          "name": "stdout"
        },
        {
          "output_type": "stream",
          "text": [
            "2020-05-13 03:32:20,034 INFO \n",
            " epoch:054, F1Macro: 0.93761\n"
          ],
          "name": "stderr"
        },
        {
          "output_type": "stream",
          "text": [
            "\b\b\b\b\b\b\b\b\b\b\b\b\b\b\b\b\b\b\b\b\b\b\b\b\b\b\b\b\b\b\b\b\b\b\b\b\b\b\b\b\b\b\b\b\b\b\b\b\b\b\b\b\b\b\b\b\b\b\b\b\b\b\b\b\b\b\b\b\b\b\b\b\b\b\b\b\b\b\b\b\b\b\b\b\r125/125 [==============================] - 35s 279ms/step - loss: 0.1044 - accuracy: 0.9679 - val_loss: 0.1075 - val_accuracy: 0.9665 - lr: 1.4286e-04\n",
            "Epoch 56/180\n",
            "125/125 [==============================] - ETA: 0s - loss: 0.1032 - accuracy: 0.9682\n",
            "Epoch 00056: val_accuracy did not improve from 0.96659\n"
          ],
          "name": "stdout"
        },
        {
          "output_type": "stream",
          "text": [
            "2020-05-13 03:32:55,095 INFO \n",
            " epoch:055, F1Macro: 0.93716\n"
          ],
          "name": "stderr"
        },
        {
          "output_type": "stream",
          "text": [
            "\b\b\b\b\b\b\b\b\b\b\b\b\b\b\b\b\b\b\b\b\b\b\b\b\b\b\b\b\b\b\b\b\b\b\b\b\b\b\b\b\b\b\b\b\b\b\b\b\b\b\b\b\b\b\b\b\b\b\b\b\b\b\b\b\b\b\b\b\b\b\b\b\b\b\b\b\b\b\b\b\b\b\b\b\r125/125 [==============================] - 35s 278ms/step - loss: 0.1032 - accuracy: 0.9682 - val_loss: 0.1072 - val_accuracy: 0.9662 - lr: 1.4286e-04\n",
            "Epoch 57/180\n",
            "125/125 [==============================] - ETA: 0s - loss: 0.1029 - accuracy: 0.9681\n",
            "Epoch 00057: val_accuracy improved from 0.96659 to 0.96660, saving model to ion_switch/res/wavenet-dlr-res/ClassifierCBRWmulti-Prob11-NESCAL/all/0_fold/checkpoint-modelonly-0.h5\n"
          ],
          "name": "stdout"
        },
        {
          "output_type": "stream",
          "text": [
            "2020-05-13 03:33:30,920 INFO \n",
            " epoch:056, F1Macro: 0.93756\n"
          ],
          "name": "stderr"
        },
        {
          "output_type": "stream",
          "text": [
            "\b\b\b\b\b\b\b\b\b\b\b\b\b\b\b\b\b\b\b\b\b\b\b\b\b\b\b\b\b\b\b\b\b\b\b\b\b\b\b\b\b\b\b\b\b\b\b\b\b\b\b\b\b\b\b\b\b\b\b\b\b\b\b\b\b\b\b\b\b\b\b\b\b\b\b\b\b\b\b\b\b\b\b\b\r125/125 [==============================] - 36s 284ms/step - loss: 0.1029 - accuracy: 0.9681 - val_loss: 0.1061 - val_accuracy: 0.9666 - lr: 1.4286e-04\n",
            "Epoch 58/180\n",
            "125/125 [==============================] - ETA: 0s - loss: 0.1032 - accuracy: 0.9679\n",
            "Epoch 00058: val_accuracy did not improve from 0.96660\n"
          ],
          "name": "stdout"
        },
        {
          "output_type": "stream",
          "text": [
            "2020-05-13 03:34:05,935 INFO \n",
            " epoch:057, F1Macro: 0.93719\n"
          ],
          "name": "stderr"
        },
        {
          "output_type": "stream",
          "text": [
            "\b\b\b\b\b\b\b\b\b\b\b\b\b\b\b\b\b\b\b\b\b\b\b\b\b\b\b\b\b\b\b\b\b\b\b\b\b\b\b\b\b\b\b\b\b\b\b\b\b\b\b\b\b\b\b\b\b\b\b\b\b\b\b\b\b\b\b\b\b\b\b\b\b\b\b\b\b\b\b\b\b\b\b\b\r125/125 [==============================] - 35s 278ms/step - loss: 0.1032 - accuracy: 0.9679 - val_loss: 0.1071 - val_accuracy: 0.9661 - lr: 1.4286e-04\n",
            "Epoch 59/180\n",
            "125/125 [==============================] - ETA: 0s - loss: 0.1034 - accuracy: 0.9677\n",
            "Epoch 00059: val_accuracy did not improve from 0.96660\n"
          ],
          "name": "stdout"
        },
        {
          "output_type": "stream",
          "text": [
            "2020-05-13 03:34:40,942 INFO \n",
            " epoch:058, F1Macro: 0.93571\n"
          ],
          "name": "stderr"
        },
        {
          "output_type": "stream",
          "text": [
            "\b\b\b\b\b\b\b\b\b\b\b\b\b\b\b\b\b\b\b\b\b\b\b\b\b\b\b\b\b\b\b\b\b\b\b\b\b\b\b\b\b\b\b\b\b\b\b\b\b\b\b\b\b\b\b\b\b\b\b\b\b\b\b\b\b\b\b\b\b\b\b\b\b\b\b\b\b\b\b\b\b\b\b\b\r125/125 [==============================] - 35s 278ms/step - loss: 0.1034 - accuracy: 0.9677 - val_loss: 0.1074 - val_accuracy: 0.9660 - lr: 1.4286e-04\n",
            "Epoch 60/180\n",
            "125/125 [==============================] - ETA: 0s - loss: 0.1020 - accuracy: 0.9681\n",
            "Epoch 00060: val_accuracy did not improve from 0.96660\n"
          ],
          "name": "stdout"
        },
        {
          "output_type": "stream",
          "text": [
            "2020-05-13 03:35:16,101 INFO \n",
            " epoch:059, F1Macro: 0.93732\n"
          ],
          "name": "stderr"
        },
        {
          "output_type": "stream",
          "text": [
            "\b\b\b\b\b\b\b\b\b\b\b\b\b\b\b\b\b\b\b\b\b\b\b\b\b\b\b\b\b\b\b\b\b\b\b\b\b\b\b\b\b\b\b\b\b\b\b\b\b\b\b\b\b\b\b\b\b\b\b\b\b\b\b\b\b\b\b\b\b\b\b\b\b\b\b\b\b\b\b\b\b\b\b\b\r125/125 [==============================] - 35s 279ms/step - loss: 0.1020 - accuracy: 0.9681 - val_loss: 0.1061 - val_accuracy: 0.9662 - lr: 1.4286e-04\n",
            "Epoch 61/180\n",
            "125/125 [==============================] - ETA: 0s - loss: 0.1010 - accuracy: 0.9683\n",
            "Epoch 00061: val_accuracy did not improve from 0.96660\n"
          ],
          "name": "stdout"
        },
        {
          "output_type": "stream",
          "text": [
            "2020-05-13 03:35:51,358 INFO \n",
            " epoch:060, F1Macro: 0.93769\n"
          ],
          "name": "stderr"
        },
        {
          "output_type": "stream",
          "text": [
            "\b\b\b\b\b\b\b\b\b\b\b\b\b\b\b\b\b\b\b\b\b\b\b\b\b\b\b\b\b\b\b\b\b\b\b\b\b\b\b\b\b\b\b\b\b\b\b\b\b\b\b\b\b\b\b\b\b\b\b\b\b\b\b\b\b\b\b\b\b\b\b\b\b\b\b\b\b\b\b\b\b\b\b\b\r125/125 [==============================] - 35s 280ms/step - loss: 0.1010 - accuracy: 0.9683 - val_loss: 0.1049 - val_accuracy: 0.9665 - lr: 1.1111e-04\n",
            "Epoch 62/180\n",
            "125/125 [==============================] - ETA: 0s - loss: 0.1009 - accuracy: 0.9683\n",
            "Epoch 00062: val_accuracy improved from 0.96660 to 0.96668, saving model to ion_switch/res/wavenet-dlr-res/ClassifierCBRWmulti-Prob11-NESCAL/all/0_fold/checkpoint-modelonly-0.h5\n"
          ],
          "name": "stdout"
        },
        {
          "output_type": "stream",
          "text": [
            "2020-05-13 03:36:27,402 INFO \n",
            " epoch:061, F1Macro: 0.93771\n"
          ],
          "name": "stderr"
        },
        {
          "output_type": "stream",
          "text": [
            "\b\b\b\b\b\b\b\b\b\b\b\b\b\b\b\b\b\b\b\b\b\b\b\b\b\b\b\b\b\b\b\b\b\b\b\b\b\b\b\b\b\b\b\b\b\b\b\b\b\b\b\b\b\b\b\b\b\b\b\b\b\b\b\b\b\b\b\b\b\b\b\b\b\b\b\b\b\b\b\b\b\b\b\b\r125/125 [==============================] - 36s 286ms/step - loss: 0.1009 - accuracy: 0.9683 - val_loss: 0.1044 - val_accuracy: 0.9667 - lr: 1.1111e-04\n",
            "Epoch 63/180\n",
            "125/125 [==============================] - ETA: 0s - loss: 0.1006 - accuracy: 0.9683\n",
            "Epoch 00063: val_accuracy did not improve from 0.96668\n"
          ],
          "name": "stdout"
        },
        {
          "output_type": "stream",
          "text": [
            "2020-05-13 03:37:02,729 INFO \n",
            " epoch:062, F1Macro: 0.93773\n"
          ],
          "name": "stderr"
        },
        {
          "output_type": "stream",
          "text": [
            "\b\b\b\b\b\b\b\b\b\b\b\b\b\b\b\b\b\b\b\b\b\b\b\b\b\b\b\b\b\b\b\b\b\b\b\b\b\b\b\b\b\b\b\b\b\b\b\b\b\b\b\b\b\b\b\b\b\b\b\b\b\b\b\b\b\b\b\b\b\b\b\b\b\b\b\b\b\b\b\b\b\b\b\b\r125/125 [==============================] - 36s 287ms/step - loss: 0.1006 - accuracy: 0.9683 - val_loss: 0.1042 - val_accuracy: 0.9666 - lr: 1.1111e-04\n",
            "Epoch 64/180\n",
            "125/125 [==============================] - ETA: 0s - loss: 0.0998 - accuracy: 0.9684\n",
            "Epoch 00064: val_accuracy improved from 0.96668 to 0.96682, saving model to ion_switch/res/wavenet-dlr-res/ClassifierCBRWmulti-Prob11-NESCAL/all/0_fold/checkpoint-modelonly-0.h5\n"
          ],
          "name": "stdout"
        },
        {
          "output_type": "stream",
          "text": [
            "2020-05-13 03:37:39,585 INFO \n",
            " epoch:063, F1Macro: 0.93808\n"
          ],
          "name": "stderr"
        },
        {
          "output_type": "stream",
          "text": [
            "\b\b\b\b\b\b\b\b\b\b\b\b\b\b\b\b\b\b\b\b\b\b\b\b\b\b\b\b\b\b\b\b\b\b\b\b\b\b\b\b\b\b\b\b\b\b\b\b\b\b\b\b\b\b\b\b\b\b\b\b\b\b\b\b\b\b\b\b\b\b\b\b\b\b\b\b\b\b\b\b\b\b\b\b\r125/125 [==============================] - 37s 292ms/step - loss: 0.0998 - accuracy: 0.9684 - val_loss: 0.1032 - val_accuracy: 0.9668 - lr: 1.1111e-04\n",
            "Epoch 65/180\n",
            "125/125 [==============================] - ETA: 0s - loss: 0.1077 - accuracy: 0.9657\n",
            "Epoch 00065: val_accuracy did not improve from 0.96682\n"
          ],
          "name": "stdout"
        },
        {
          "output_type": "stream",
          "text": [
            "2020-05-13 03:38:15,673 INFO \n",
            " epoch:064, F1Macro: 0.93771\n"
          ],
          "name": "stderr"
        },
        {
          "output_type": "stream",
          "text": [
            "\b\b\b\b\b\b\b\b\b\b\b\b\b\b\b\b\b\b\b\b\b\b\b\b\b\b\b\b\b\b\b\b\b\b\b\b\b\b\b\b\b\b\b\b\b\b\b\b\b\b\b\b\b\b\b\b\b\b\b\b\b\b\b\b\b\b\b\b\b\b\b\b\b\b\b\b\b\b\b\b\b\b\b\b\r125/125 [==============================] - 35s 281ms/step - loss: 0.1077 - accuracy: 0.9657 - val_loss: 0.1035 - val_accuracy: 0.9667 - lr: 1.1111e-04\n",
            "Epoch 66/180\n",
            "125/125 [==============================] - ETA: 0s - loss: 0.0995 - accuracy: 0.9684\n",
            "Epoch 00066: val_accuracy did not improve from 0.96682\n"
          ],
          "name": "stdout"
        },
        {
          "output_type": "stream",
          "text": [
            "2020-05-13 03:38:51,003 INFO \n",
            " epoch:065, F1Macro: 0.93774\n"
          ],
          "name": "stderr"
        },
        {
          "output_type": "stream",
          "text": [
            "\b\b\b\b\b\b\b\b\b\b\b\b\b\b\b\b\b\b\b\b\b\b\b\b\b\b\b\b\b\b\b\b\b\b\b\b\b\b\b\b\b\b\b\b\b\b\b\b\b\b\b\b\b\b\b\b\b\b\b\b\b\b\b\b\b\b\b\b\b\b\b\b\b\b\b\b\b\b\b\b\b\b\b\b\r125/125 [==============================] - 35s 281ms/step - loss: 0.0995 - accuracy: 0.9684 - val_loss: 0.1030 - val_accuracy: 0.9668 - lr: 1.1111e-04\n",
            "Epoch 67/180\n",
            "125/125 [==============================] - ETA: 0s - loss: 0.0997 - accuracy: 0.9682\n",
            "Epoch 00067: val_accuracy did not improve from 0.96682\n"
          ],
          "name": "stdout"
        },
        {
          "output_type": "stream",
          "text": [
            "2020-05-13 03:39:26,267 INFO \n",
            " epoch:066, F1Macro: 0.93781\n"
          ],
          "name": "stderr"
        },
        {
          "output_type": "stream",
          "text": [
            "\b\b\b\b\b\b\b\b\b\b\b\b\b\b\b\b\b\b\b\b\b\b\b\b\b\b\b\b\b\b\b\b\b\b\b\b\b\b\b\b\b\b\b\b\b\b\b\b\b\b\b\b\b\b\b\b\b\b\b\b\b\b\b\b\b\b\b\b\b\b\b\b\b\b\b\b\b\b\b\b\b\b\b\b\r125/125 [==============================] - 35s 280ms/step - loss: 0.0997 - accuracy: 0.9682 - val_loss: 0.1031 - val_accuracy: 0.9666 - lr: 1.1111e-04\n",
            "Epoch 68/180\n",
            "125/125 [==============================] - ETA: 0s - loss: 0.0989 - accuracy: 0.9684\n",
            "Epoch 00068: val_accuracy did not improve from 0.96682\n"
          ],
          "name": "stdout"
        },
        {
          "output_type": "stream",
          "text": [
            "2020-05-13 03:40:01,609 INFO \n",
            " epoch:067, F1Macro: 0.93704\n"
          ],
          "name": "stderr"
        },
        {
          "output_type": "stream",
          "text": [
            "\b\b\b\b\b\b\b\b\b\b\b\b\b\b\b\b\b\b\b\b\b\b\b\b\b\b\b\b\b\b\b\b\b\b\b\b\b\b\b\b\b\b\b\b\b\b\b\b\b\b\b\b\b\b\b\b\b\b\b\b\b\b\b\b\b\b\b\b\b\b\b\b\b\b\b\b\b\b\b\b\b\b\b\b\r125/125 [==============================] - 35s 281ms/step - loss: 0.0989 - accuracy: 0.9684 - val_loss: 0.1032 - val_accuracy: 0.9664 - lr: 1.1111e-04\n",
            "Epoch 69/180\n",
            "125/125 [==============================] - ETA: 0s - loss: 0.0983 - accuracy: 0.9685\n",
            "Epoch 00069: val_accuracy did not improve from 0.96682\n"
          ],
          "name": "stdout"
        },
        {
          "output_type": "stream",
          "text": [
            "2020-05-13 03:40:36,886 INFO \n",
            " epoch:068, F1Macro: 0.93793\n"
          ],
          "name": "stderr"
        },
        {
          "output_type": "stream",
          "text": [
            "\b\b\b\b\b\b\b\b\b\b\b\b\b\b\b\b\b\b\b\b\b\b\b\b\b\b\b\b\b\b\b\b\b\b\b\b\b\b\b\b\b\b\b\b\b\b\b\b\b\b\b\b\b\b\b\b\b\b\b\b\b\b\b\b\b\b\b\b\b\b\b\b\b\b\b\b\b\b\b\b\b\b\b\b\r125/125 [==============================] - 35s 280ms/step - loss: 0.0983 - accuracy: 0.9685 - val_loss: 0.1022 - val_accuracy: 0.9668 - lr: 1.1111e-04\n",
            "Epoch 70/180\n",
            "125/125 [==============================] - ETA: 0s - loss: 0.0984 - accuracy: 0.9683\n",
            "Epoch 00070: val_accuracy did not improve from 0.96682\n"
          ],
          "name": "stdout"
        },
        {
          "output_type": "stream",
          "text": [
            "2020-05-13 03:41:12,215 INFO \n",
            " epoch:069, F1Macro: 0.93601\n"
          ],
          "name": "stderr"
        },
        {
          "output_type": "stream",
          "text": [
            "\b\b\b\b\b\b\b\b\b\b\b\b\b\b\b\b\b\b\b\b\b\b\b\b\b\b\b\b\b\b\b\b\b\b\b\b\b\b\b\b\b\b\b\b\b\b\b\b\b\b\b\b\b\b\b\b\b\b\b\b\b\b\b\b\b\b\b\b\b\b\b\b\b\b\b\b\b\b\b\b\b\b\b\b\r125/125 [==============================] - 35s 280ms/step - loss: 0.0984 - accuracy: 0.9683 - val_loss: 0.1035 - val_accuracy: 0.9661 - lr: 1.1111e-04\n",
            "Epoch 71/180\n",
            "125/125 [==============================] - ETA: 0s - loss: 0.0979 - accuracy: 0.9684\n",
            "Epoch 00071: val_accuracy did not improve from 0.96682\n"
          ],
          "name": "stdout"
        },
        {
          "output_type": "stream",
          "text": [
            "2020-05-13 03:41:47,503 INFO \n",
            " epoch:070, F1Macro: 0.93675\n"
          ],
          "name": "stderr"
        },
        {
          "output_type": "stream",
          "text": [
            "\b\b\b\b\b\b\b\b\b\b\b\b\b\b\b\b\b\b\b\b\b\b\b\b\b\b\b\b\b\b\b\b\b\b\b\b\b\b\b\b\b\b\b\b\b\b\b\b\b\b\b\b\b\b\b\b\b\b\b\b\b\b\b\b\b\b\b\b\b\b\b\b\b\b\b\b\b\b\b\b\b\b\b\b\r125/125 [==============================] - 35s 280ms/step - loss: 0.0979 - accuracy: 0.9684 - val_loss: 0.1029 - val_accuracy: 0.9663 - lr: 9.0909e-05\n",
            "Epoch 72/180\n",
            "125/125 [==============================] - ETA: 0s - loss: 0.0973 - accuracy: 0.9686\n",
            "Epoch 00072: val_accuracy did not improve from 0.96682\n"
          ],
          "name": "stdout"
        },
        {
          "output_type": "stream",
          "text": [
            "2020-05-13 03:42:22,689 INFO \n",
            " epoch:071, F1Macro: 0.93781\n"
          ],
          "name": "stderr"
        },
        {
          "output_type": "stream",
          "text": [
            "\b\b\b\b\b\b\b\b\b\b\b\b\b\b\b\b\b\b\b\b\b\b\b\b\b\b\b\b\b\b\b\b\b\b\b\b\b\b\b\b\b\b\b\b\b\b\b\b\b\b\b\b\b\b\b\b\b\b\b\b\b\b\b\b\b\b\b\b\b\b\b\b\b\b\b\b\b\b\b\b\b\b\b\b\r125/125 [==============================] - 35s 279ms/step - loss: 0.0973 - accuracy: 0.9686 - val_loss: 0.1016 - val_accuracy: 0.9666 - lr: 9.0909e-05\n",
            "Epoch 73/180\n",
            "125/125 [==============================] - ETA: 0s - loss: 0.0972 - accuracy: 0.9686\n",
            "Epoch 00073: val_accuracy did not improve from 0.96682\n"
          ],
          "name": "stdout"
        },
        {
          "output_type": "stream",
          "text": [
            "2020-05-13 03:42:57,886 INFO \n",
            " epoch:072, F1Macro: 0.93784\n"
          ],
          "name": "stderr"
        },
        {
          "output_type": "stream",
          "text": [
            "\b\b\b\b\b\b\b\b\b\b\b\b\b\b\b\b\b\b\b\b\b\b\b\b\b\b\b\b\b\b\b\b\b\b\b\b\b\b\b\b\b\b\b\b\b\b\b\b\b\b\b\b\b\b\b\b\b\b\b\b\b\b\b\b\b\b\b\b\b\b\b\b\b\b\b\b\b\b\b\b\b\b\b\b\r125/125 [==============================] - 35s 279ms/step - loss: 0.0972 - accuracy: 0.9686 - val_loss: 0.1015 - val_accuracy: 0.9666 - lr: 9.0909e-05\n",
            "Epoch 74/180\n",
            "125/125 [==============================] - ETA: 0s - loss: 0.0969 - accuracy: 0.9686\n",
            "Epoch 00074: val_accuracy did not improve from 0.96682\n"
          ],
          "name": "stdout"
        },
        {
          "output_type": "stream",
          "text": [
            "2020-05-13 03:43:33,025 INFO \n",
            " epoch:073, F1Macro: 0.93782\n"
          ],
          "name": "stderr"
        },
        {
          "output_type": "stream",
          "text": [
            "\b\b\b\b\b\b\b\b\b\b\b\b\b\b\b\b\b\b\b\b\b\b\b\b\b\b\b\b\b\b\b\b\b\b\b\b\b\b\b\b\b\b\b\b\b\b\b\b\b\b\b\b\b\b\b\b\b\b\b\b\b\b\b\b\b\b\b\b\b\b\b\b\b\b\b\b\b\b\b\b\b\b\b\b\r125/125 [==============================] - 35s 279ms/step - loss: 0.0969 - accuracy: 0.9686 - val_loss: 0.1013 - val_accuracy: 0.9667 - lr: 9.0909e-05\n",
            "Epoch 75/180\n",
            "125/125 [==============================] - ETA: 0s - loss: 0.0966 - accuracy: 0.9686\n",
            "Epoch 00075: val_accuracy did not improve from 0.96682\n"
          ],
          "name": "stdout"
        },
        {
          "output_type": "stream",
          "text": [
            "2020-05-13 03:44:08,154 INFO \n",
            " epoch:074, F1Macro: 0.93818\n"
          ],
          "name": "stderr"
        },
        {
          "output_type": "stream",
          "text": [
            "\b\b\b\b\b\b\b\b\b\b\b\b\b\b\b\b\b\b\b\b\b\b\b\b\b\b\b\b\b\b\b\b\b\b\b\b\b\b\b\b\b\b\b\b\b\b\b\b\b\b\b\b\b\b\b\b\b\b\b\b\b\b\b\b\b\b\b\b\b\b\b\b\b\b\b\b\b\b\b\b\b\b\b\b\r125/125 [==============================] - 36s 285ms/step - loss: 0.0966 - accuracy: 0.9686 - val_loss: 0.1005 - val_accuracy: 0.9668 - lr: 9.0909e-05\n",
            "Epoch 76/180\n",
            "125/125 [==============================] - ETA: 0s - loss: 0.0965 - accuracy: 0.9685\n",
            "Epoch 00076: val_accuracy did not improve from 0.96682\n"
          ],
          "name": "stdout"
        },
        {
          "output_type": "stream",
          "text": [
            "2020-05-13 03:44:44,009 INFO \n",
            " epoch:075, F1Macro: 0.93740\n"
          ],
          "name": "stderr"
        },
        {
          "output_type": "stream",
          "text": [
            "\b\b\b\b\b\b\b\b\b\b\b\b\b\b\b\b\b\b\b\b\b\b\b\b\b\b\b\b\b\b\b\b\b\b\b\b\b\b\b\b\b\b\b\b\b\b\b\b\b\b\b\b\b\b\b\b\b\b\b\b\b\b\b\b\b\b\b\b\b\b\b\b\b\b\b\b\b\b\b\b\b\b\b\b\r125/125 [==============================] - 35s 278ms/step - loss: 0.0965 - accuracy: 0.9685 - val_loss: 0.1015 - val_accuracy: 0.9664 - lr: 9.0909e-05\n",
            "Epoch 77/180\n",
            "125/125 [==============================] - ETA: 0s - loss: 0.0967 - accuracy: 0.9684\n",
            "Epoch 00077: val_accuracy did not improve from 0.96682\n"
          ],
          "name": "stdout"
        },
        {
          "output_type": "stream",
          "text": [
            "2020-05-13 03:45:19,061 INFO \n",
            " epoch:076, F1Macro: 0.93749\n"
          ],
          "name": "stderr"
        },
        {
          "output_type": "stream",
          "text": [
            "\b\b\b\b\b\b\b\b\b\b\b\b\b\b\b\b\b\b\b\b\b\b\b\b\b\b\b\b\b\b\b\b\b\b\b\b\b\b\b\b\b\b\b\b\b\b\b\b\b\b\b\b\b\b\b\b\b\b\b\b\b\b\b\b\b\b\b\b\b\b\b\b\b\b\b\b\b\b\b\b\b\b\b\b\r125/125 [==============================] - 35s 278ms/step - loss: 0.0967 - accuracy: 0.9684 - val_loss: 0.1010 - val_accuracy: 0.9667 - lr: 9.0909e-05\n",
            "Epoch 78/180\n",
            "125/125 [==============================] - ETA: 0s - loss: 0.0958 - accuracy: 0.9686\n",
            "Epoch 00078: val_accuracy improved from 0.96682 to 0.96684, saving model to ion_switch/res/wavenet-dlr-res/ClassifierCBRWmulti-Prob11-NESCAL/all/0_fold/checkpoint-modelonly-0.h5\n"
          ],
          "name": "stdout"
        },
        {
          "output_type": "stream",
          "text": [
            "2020-05-13 03:45:54,814 INFO \n",
            " epoch:077, F1Macro: 0.93823\n"
          ],
          "name": "stderr"
        },
        {
          "output_type": "stream",
          "text": [
            "\b\b\b\b\b\b\b\b\b\b\b\b\b\b\b\b\b\b\b\b\b\b\b\b\b\b\b\b\b\b\b\b\b\b\b\b\b\b\b\b\b\b\b\b\b\b\b\b\b\b\b\b\b\b\b\b\b\b\b\b\b\b\b\b\b\b\b\b\b\b\b\b\b\b\b\b\b\b\b\b\b\b\b\b\r125/125 [==============================] - 36s 289ms/step - loss: 0.0958 - accuracy: 0.9686 - val_loss: 0.1001 - val_accuracy: 0.9668 - lr: 9.0909e-05\n",
            "Epoch 79/180\n",
            "125/125 [==============================] - ETA: 0s - loss: 0.0964 - accuracy: 0.9684\n",
            "Epoch 00079: val_accuracy did not improve from 0.96684\n"
          ],
          "name": "stdout"
        },
        {
          "output_type": "stream",
          "text": [
            "2020-05-13 03:46:30,322 INFO \n",
            " epoch:078, F1Macro: 0.93700\n"
          ],
          "name": "stderr"
        },
        {
          "output_type": "stream",
          "text": [
            "\b\b\b\b\b\b\b\b\b\b\b\b\b\b\b\b\b\b\b\b\b\b\b\b\b\b\b\b\b\b\b\b\b\b\b\b\b\b\b\b\b\b\b\b\b\b\b\b\b\b\b\b\b\b\b\b\b\b\b\b\b\b\b\b\b\b\b\b\b\b\b\b\b\b\b\b\b\b\b\b\b\b\b\b\r125/125 [==============================] - 35s 276ms/step - loss: 0.0964 - accuracy: 0.9684 - val_loss: 0.1014 - val_accuracy: 0.9661 - lr: 9.0909e-05\n",
            "Epoch 80/180\n",
            "125/125 [==============================] - ETA: 0s - loss: 0.0955 - accuracy: 0.9686\n",
            "Epoch 00080: val_accuracy did not improve from 0.96684\n"
          ],
          "name": "stdout"
        },
        {
          "output_type": "stream",
          "text": [
            "2020-05-13 03:47:05,182 INFO \n",
            " epoch:079, F1Macro: 0.93747\n"
          ],
          "name": "stderr"
        },
        {
          "output_type": "stream",
          "text": [
            "\b\b\b\b\b\b\b\b\b\b\b\b\b\b\b\b\b\b\b\b\b\b\b\b\b\b\b\b\b\b\b\b\b\b\b\b\b\b\b\b\b\b\b\b\b\b\b\b\b\b\b\b\b\b\b\b\b\b\b\b\b\b\b\b\b\b\b\b\b\b\b\b\b\b\b\b\b\b\b\b\b\b\b\b\r125/125 [==============================] - 35s 277ms/step - loss: 0.0955 - accuracy: 0.9686 - val_loss: 0.1003 - val_accuracy: 0.9665 - lr: 9.0909e-05\n",
            "Epoch 81/180\n",
            "125/125 [==============================] - ETA: 0s - loss: 0.0949 - accuracy: 0.9688\n",
            "Epoch 00081: val_accuracy improved from 0.96684 to 0.96686, saving model to ion_switch/res/wavenet-dlr-res/ClassifierCBRWmulti-Prob11-NESCAL/all/0_fold/checkpoint-modelonly-0.h5\n"
          ],
          "name": "stdout"
        },
        {
          "output_type": "stream",
          "text": [
            "2020-05-13 03:47:40,757 INFO \n",
            " epoch:080, F1Macro: 0.93813\n"
          ],
          "name": "stderr"
        },
        {
          "output_type": "stream",
          "text": [
            "\b\b\b\b\b\b\b\b\b\b\b\b\b\b\b\b\b\b\b\b\b\b\b\b\b\b\b\b\b\b\b\b\b\b\b\b\b\b\b\b\b\b\b\b\b\b\b\b\b\b\b\b\b\b\b\b\b\b\b\b\b\b\b\b\b\b\b\b\b\b\b\b\b\b\b\b\b\b\b\b\b\b\b\b\r125/125 [==============================] - 35s 283ms/step - loss: 0.0949 - accuracy: 0.9688 - val_loss: 0.0994 - val_accuracy: 0.9669 - lr: 7.6923e-05\n",
            "Epoch 82/180\n",
            "125/125 [==============================] - ETA: 0s - loss: 0.0952 - accuracy: 0.9686\n",
            "Epoch 00082: val_accuracy did not improve from 0.96686\n"
          ],
          "name": "stdout"
        },
        {
          "output_type": "stream",
          "text": [
            "2020-05-13 03:48:15,574 INFO \n",
            " epoch:081, F1Macro: 0.93795\n"
          ],
          "name": "stderr"
        },
        {
          "output_type": "stream",
          "text": [
            "\b\b\b\b\b\b\b\b\b\b\b\b\b\b\b\b\b\b\b\b\b\b\b\b\b\b\b\b\b\b\b\b\b\b\b\b\b\b\b\b\b\b\b\b\b\b\b\b\b\b\b\b\b\b\b\b\b\b\b\b\b\b\b\b\b\b\b\b\b\b\b\b\b\b\b\b\b\b\b\b\b\b\b\b\r125/125 [==============================] - 35s 276ms/step - loss: 0.0952 - accuracy: 0.9686 - val_loss: 0.0998 - val_accuracy: 0.9667 - lr: 7.6923e-05\n",
            "Epoch 83/180\n",
            "125/125 [==============================] - ETA: 0s - loss: 0.0945 - accuracy: 0.9688\n",
            "Epoch 00083: val_accuracy did not improve from 0.96686\n"
          ],
          "name": "stdout"
        },
        {
          "output_type": "stream",
          "text": [
            "2020-05-13 03:48:50,389 INFO \n",
            " epoch:082, F1Macro: 0.93798\n"
          ],
          "name": "stderr"
        },
        {
          "output_type": "stream",
          "text": [
            "\b\b\b\b\b\b\b\b\b\b\b\b\b\b\b\b\b\b\b\b\b\b\b\b\b\b\b\b\b\b\b\b\b\b\b\b\b\b\b\b\b\b\b\b\b\b\b\b\b\b\b\b\b\b\b\b\b\b\b\b\b\b\b\b\b\b\b\b\b\b\b\b\b\b\b\b\b\b\b\b\b\b\b\b\r125/125 [==============================] - 35s 276ms/step - loss: 0.0945 - accuracy: 0.9688 - val_loss: 0.0995 - val_accuracy: 0.9666 - lr: 7.6923e-05\n",
            "Epoch 84/180\n",
            "125/125 [==============================] - ETA: 0s - loss: 0.0948 - accuracy: 0.9687\n",
            "Epoch 00084: val_accuracy did not improve from 0.96686\n"
          ],
          "name": "stdout"
        },
        {
          "output_type": "stream",
          "text": [
            "2020-05-13 03:49:25,230 INFO \n",
            " epoch:083, F1Macro: 0.93797\n"
          ],
          "name": "stderr"
        },
        {
          "output_type": "stream",
          "text": [
            "\b\b\b\b\b\b\b\b\b\b\b\b\b\b\b\b\b\b\b\b\b\b\b\b\b\b\b\b\b\b\b\b\b\b\b\b\b\b\b\b\b\b\b\b\b\b\b\b\b\b\b\b\b\b\b\b\b\b\b\b\b\b\b\b\b\b\b\b\b\b\b\b\b\b\b\b\b\b\b\b\b\b\b\b\r125/125 [==============================] - 35s 277ms/step - loss: 0.0948 - accuracy: 0.9687 - val_loss: 0.0990 - val_accuracy: 0.9668 - lr: 7.6923e-05\n",
            "Epoch 85/180\n",
            "125/125 [==============================] - ETA: 0s - loss: 0.0943 - accuracy: 0.9687\n",
            "Epoch 00085: val_accuracy did not improve from 0.96686\n"
          ],
          "name": "stdout"
        },
        {
          "output_type": "stream",
          "text": [
            "2020-05-13 03:50:00,023 INFO \n",
            " epoch:084, F1Macro: 0.93797\n"
          ],
          "name": "stderr"
        },
        {
          "output_type": "stream",
          "text": [
            "\b\b\b\b\b\b\b\b\b\b\b\b\b\b\b\b\b\b\b\b\b\b\b\b\b\b\b\b\b\b\b\b\b\b\b\b\b\b\b\b\b\b\b\b\b\b\b\b\b\b\b\b\b\b\b\b\b\b\b\b\b\b\b\b\b\b\b\b\b\b\b\b\b\b\b\b\b\b\b\b\b\b\b\b\r125/125 [==============================] - 35s 276ms/step - loss: 0.0943 - accuracy: 0.9687 - val_loss: 0.0991 - val_accuracy: 0.9667 - lr: 7.6923e-05\n",
            "Epoch 86/180\n",
            "125/125 [==============================] - ETA: 0s - loss: 0.0938 - accuracy: 0.9688\n",
            "Epoch 00086: val_accuracy did not improve from 0.96686\n"
          ],
          "name": "stdout"
        },
        {
          "output_type": "stream",
          "text": [
            "2020-05-13 03:50:34,753 INFO \n",
            " epoch:085, F1Macro: 0.93733\n"
          ],
          "name": "stderr"
        },
        {
          "output_type": "stream",
          "text": [
            "\b\b\b\b\b\b\b\b\b\b\b\b\b\b\b\b\b\b\b\b\b\b\b\b\b\b\b\b\b\b\b\b\b\b\b\b\b\b\b\b\b\b\b\b\b\b\b\b\b\b\b\b\b\b\b\b\b\b\b\b\b\b\b\b\b\b\b\b\b\b\b\b\b\b\b\b\b\b\b\b\b\b\b\b\r125/125 [==============================] - 34s 276ms/step - loss: 0.0938 - accuracy: 0.9688 - val_loss: 0.0990 - val_accuracy: 0.9667 - lr: 7.6923e-05\n",
            "Epoch 87/180\n",
            "125/125 [==============================] - ETA: 0s - loss: 0.0945 - accuracy: 0.9685\n",
            "Epoch 00087: val_accuracy did not improve from 0.96686\n"
          ],
          "name": "stdout"
        },
        {
          "output_type": "stream",
          "text": [
            "2020-05-13 03:51:09,518 INFO \n",
            " epoch:086, F1Macro: 0.93731\n"
          ],
          "name": "stderr"
        },
        {
          "output_type": "stream",
          "text": [
            "\b\b\b\b\b\b\b\b\b\b\b\b\b\b\b\b\b\b\b\b\b\b\b\b\b\b\b\b\b\b\b\b\b\b\b\b\b\b\b\b\b\b\b\b\b\b\b\b\b\b\b\b\b\b\b\b\b\b\b\b\b\b\b\b\b\b\b\b\b\b\b\b\b\b\b\b\b\b\b\b\b\b\b\b\r125/125 [==============================] - 34s 276ms/step - loss: 0.0945 - accuracy: 0.9685 - val_loss: 0.0994 - val_accuracy: 0.9664 - lr: 7.6923e-05\n",
            "Epoch 88/180\n",
            "125/125 [==============================] - ETA: 0s - loss: 0.0939 - accuracy: 0.9688\n",
            "Epoch 00088: val_accuracy did not improve from 0.96686\n"
          ],
          "name": "stdout"
        },
        {
          "output_type": "stream",
          "text": [
            "2020-05-13 03:51:44,259 INFO \n",
            " epoch:087, F1Macro: 0.93771\n"
          ],
          "name": "stderr"
        },
        {
          "output_type": "stream",
          "text": [
            "\b\b\b\b\b\b\b\b\b\b\b\b\b\b\b\b\b\b\b\b\b\b\b\b\b\b\b\b\b\b\b\b\b\b\b\b\b\b\b\b\b\b\b\b\b\b\b\b\b\b\b\b\b\b\b\b\b\b\b\b\b\b\b\b\b\b\b\b\b\b\b\b\b\b\b\b\b\b\b\b\b\b\b\b\r125/125 [==============================] - 34s 276ms/step - loss: 0.0939 - accuracy: 0.9688 - val_loss: 0.0990 - val_accuracy: 0.9665 - lr: 7.6923e-05\n",
            "Epoch 89/180\n",
            "125/125 [==============================] - ETA: 0s - loss: 0.0935 - accuracy: 0.9688\n",
            "Epoch 00089: val_accuracy did not improve from 0.96686\n"
          ],
          "name": "stdout"
        },
        {
          "output_type": "stream",
          "text": [
            "2020-05-13 03:52:18,912 INFO \n",
            " epoch:088, F1Macro: 0.93739\n"
          ],
          "name": "stderr"
        },
        {
          "output_type": "stream",
          "text": [
            "\b\b\b\b\b\b\b\b\b\b\b\b\b\b\b\b\b\b\b\b\b\b\b\b\b\b\b\b\b\b\b\b\b\b\b\b\b\b\b\b\b\b\b\b\b\b\b\b\b\b\b\b\b\b\b\b\b\b\b\b\b\b\b\b\b\b\b\b\b\b\b\b\b\b\b\b\b\b\b\b\b\b\b\b\r125/125 [==============================] - 34s 275ms/step - loss: 0.0935 - accuracy: 0.9688 - val_loss: 0.0992 - val_accuracy: 0.9664 - lr: 7.6923e-05\n",
            "Epoch 90/180\n",
            "125/125 [==============================] - ETA: 0s - loss: 0.0930 - accuracy: 0.9689\n",
            "Epoch 00090: val_accuracy did not improve from 0.96686\n"
          ],
          "name": "stdout"
        },
        {
          "output_type": "stream",
          "text": [
            "2020-05-13 03:52:53,557 INFO \n",
            " epoch:089, F1Macro: 0.93794\n"
          ],
          "name": "stderr"
        },
        {
          "output_type": "stream",
          "text": [
            "\b\b\b\b\b\b\b\b\b\b\b\b\b\b\b\b\b\b\b\b\b\b\b\b\b\b\b\b\b\b\b\b\b\b\b\b\b\b\b\b\b\b\b\b\b\b\b\b\b\b\b\b\b\b\b\b\b\b\b\b\b\b\b\b\b\b\b\b\b\b\b\b\b\b\b\b\b\b\b\b\b\b\b\b\r125/125 [==============================] - 34s 275ms/step - loss: 0.0930 - accuracy: 0.9689 - val_loss: 0.0987 - val_accuracy: 0.9666 - lr: 7.6923e-05\n",
            "Epoch 91/180\n",
            "125/125 [==============================] - ETA: 0s - loss: 0.0931 - accuracy: 0.9689\n",
            "Epoch 00091: val_accuracy did not improve from 0.96686\n"
          ],
          "name": "stdout"
        },
        {
          "output_type": "stream",
          "text": [
            "2020-05-13 03:53:28,328 INFO \n",
            " epoch:090, F1Macro: 0.93805\n"
          ],
          "name": "stderr"
        },
        {
          "output_type": "stream",
          "text": [
            "\b\b\b\b\b\b\b\b\b\b\b\b\b\b\b\b\b\b\b\b\b\b\b\b\b\b\b\b\b\b\b\b\b\b\b\b\b\b\b\b\b\b\b\b\b\b\b\b\b\b\b\b\b\b\b\b\b\b\b\b\b\b\b\b\b\b\b\b\b\b\b\b\b\b\b\b\b\b\b\b\b\b\b\b\r125/125 [==============================] - 34s 276ms/step - loss: 0.0931 - accuracy: 0.9689 - val_loss: 0.0982 - val_accuracy: 0.9667 - lr: 1.0000e-05\n",
            "Epoch 92/180\n",
            "125/125 [==============================] - ETA: 0s - loss: 0.0925 - accuracy: 0.9691\n",
            "Epoch 00092: val_accuracy improved from 0.96686 to 0.96697, saving model to ion_switch/res/wavenet-dlr-res/ClassifierCBRWmulti-Prob11-NESCAL/all/0_fold/checkpoint-modelonly-0.h5\n"
          ],
          "name": "stdout"
        },
        {
          "output_type": "stream",
          "text": [
            "2020-05-13 03:54:03,862 INFO \n",
            " epoch:091, F1Macro: 0.93835\n"
          ],
          "name": "stderr"
        },
        {
          "output_type": "stream",
          "text": [
            "\b\b\b\b\b\b\b\b\b\b\b\b\b\b\b\b\b\b\b\b\b\b\b\b\b\b\b\b\b\b\b\b\b\b\b\b\b\b\b\b\b\b\b\b\b\b\b\b\b\b\b\b\b\b\b\b\b\b\b\b\b\b\b\b\b\b\b\b\b\b\b\b\b\b\b\b\b\b\b\b\b\b\b\b\r125/125 [==============================] - 36s 288ms/step - loss: 0.0925 - accuracy: 0.9691 - val_loss: 0.0975 - val_accuracy: 0.9670 - lr: 1.0000e-05\n",
            "Epoch 93/180\n",
            "125/125 [==============================] - ETA: 0s - loss: 0.0929 - accuracy: 0.9690\n",
            "Epoch 00093: val_accuracy did not improve from 0.96697\n"
          ],
          "name": "stdout"
        },
        {
          "output_type": "stream",
          "text": [
            "2020-05-13 03:54:39,326 INFO \n",
            " epoch:092, F1Macro: 0.93784\n"
          ],
          "name": "stderr"
        },
        {
          "output_type": "stream",
          "text": [
            "\b\b\b\b\b\b\b\b\b\b\b\b\b\b\b\b\b\b\b\b\b\b\b\b\b\b\b\b\b\b\b\b\b\b\b\b\b\b\b\b\b\b\b\b\b\b\b\b\b\b\b\b\b\b\b\b\b\b\b\b\b\b\b\b\b\b\b\b\b\b\b\b\b\b\b\b\b\b\b\b\b\b\b\b\r125/125 [==============================] - 34s 276ms/step - loss: 0.0929 - accuracy: 0.9690 - val_loss: 0.0983 - val_accuracy: 0.9667 - lr: 1.0000e-05\n",
            "Epoch 94/180\n",
            "125/125 [==============================] - ETA: 0s - loss: 0.0927 - accuracy: 0.9690\n",
            "Epoch 00094: val_accuracy did not improve from 0.96697\n"
          ],
          "name": "stdout"
        },
        {
          "output_type": "stream",
          "text": [
            "2020-05-13 03:55:14,023 INFO \n",
            " epoch:093, F1Macro: 0.93789\n"
          ],
          "name": "stderr"
        },
        {
          "output_type": "stream",
          "text": [
            "\b\b\b\b\b\b\b\b\b\b\b\b\b\b\b\b\b\b\b\b\b\b\b\b\b\b\b\b\b\b\b\b\b\b\b\b\b\b\b\b\b\b\b\b\b\b\b\b\b\b\b\b\b\b\b\b\b\b\b\b\b\b\b\b\b\b\b\b\b\b\b\b\b\b\b\b\b\b\b\b\b\b\b\b\r125/125 [==============================] - 34s 275ms/step - loss: 0.0927 - accuracy: 0.9690 - val_loss: 0.0982 - val_accuracy: 0.9667 - lr: 1.0000e-05\n",
            "Epoch 95/180\n",
            "125/125 [==============================] - ETA: 0s - loss: 0.0931 - accuracy: 0.9689\n",
            "Epoch 00095: val_accuracy did not improve from 0.96697\n"
          ],
          "name": "stdout"
        },
        {
          "output_type": "stream",
          "text": [
            "2020-05-13 03:55:48,724 INFO \n",
            " epoch:094, F1Macro: 0.93817\n"
          ],
          "name": "stderr"
        },
        {
          "output_type": "stream",
          "text": [
            "\b\b\b\b\b\b\b\b\b\b\b\b\b\b\b\b\b\b\b\b\b\b\b\b\b\b\b\b\b\b\b\b\b\b\b\b\b\b\b\b\b\b\b\b\b\b\b\b\b\b\b\b\b\b\b\b\b\b\b\b\b\b\b\b\b\b\b\b\b\b\b\b\b\b\b\b\b\b\b\b\b\b\b\b\r125/125 [==============================] - 34s 276ms/step - loss: 0.0931 - accuracy: 0.9689 - val_loss: 0.0978 - val_accuracy: 0.9668 - lr: 1.0000e-05\n",
            "Epoch 96/180\n",
            "125/125 [==============================] - ETA: 0s - loss: 0.0925 - accuracy: 0.9691\n",
            "Epoch 00096: val_accuracy did not improve from 0.96697\n"
          ],
          "name": "stdout"
        },
        {
          "output_type": "stream",
          "text": [
            "2020-05-13 03:56:23,483 INFO \n",
            " epoch:095, F1Macro: 0.93815\n"
          ],
          "name": "stderr"
        },
        {
          "output_type": "stream",
          "text": [
            "\b\b\b\b\b\b\b\b\b\b\b\b\b\b\b\b\b\b\b\b\b\b\b\b\b\b\b\b\b\b\b\b\b\b\b\b\b\b\b\b\b\b\b\b\b\b\b\b\b\b\b\b\b\b\b\b\b\b\b\b\b\b\b\b\b\b\b\b\b\b\b\b\b\b\b\b\b\b\b\b\b\b\b\b\r125/125 [==============================] - 34s 276ms/step - loss: 0.0925 - accuracy: 0.9691 - val_loss: 0.0977 - val_accuracy: 0.9668 - lr: 1.0000e-05\n",
            "Epoch 97/180\n",
            "125/125 [==============================] - ETA: 0s - loss: 0.0927 - accuracy: 0.9690\n",
            "Epoch 00097: val_accuracy did not improve from 0.96697\n"
          ],
          "name": "stdout"
        },
        {
          "output_type": "stream",
          "text": [
            "2020-05-13 03:56:58,160 INFO \n",
            " epoch:096, F1Macro: 0.93810\n"
          ],
          "name": "stderr"
        },
        {
          "output_type": "stream",
          "text": [
            "\b\b\b\b\b\b\b\b\b\b\b\b\b\b\b\b\b\b\b\b\b\b\b\b\b\b\b\b\b\b\b\b\b\b\b\b\b\b\b\b\b\b\b\b\b\b\b\b\b\b\b\b\b\b\b\b\b\b\b\b\b\b\b\b\b\b\b\b\b\b\b\b\b\b\b\b\b\b\b\b\b\b\b\b\r125/125 [==============================] - 34s 275ms/step - loss: 0.0927 - accuracy: 0.9690 - val_loss: 0.0978 - val_accuracy: 0.9668 - lr: 1.0000e-05\n",
            "Epoch 98/180\n",
            "125/125 [==============================] - ETA: 0s - loss: 0.0926 - accuracy: 0.9690\n",
            "Epoch 00098: val_accuracy did not improve from 0.96697\n"
          ],
          "name": "stdout"
        },
        {
          "output_type": "stream",
          "text": [
            "2020-05-13 03:57:32,852 INFO \n",
            " epoch:097, F1Macro: 0.93791\n"
          ],
          "name": "stderr"
        },
        {
          "output_type": "stream",
          "text": [
            "\b\b\b\b\b\b\b\b\b\b\b\b\b\b\b\b\b\b\b\b\b\b\b\b\b\b\b\b\b\b\b\b\b\b\b\b\b\b\b\b\b\b\b\b\b\b\b\b\b\b\b\b\b\b\b\b\b\b\b\b\b\b\b\b\b\b\b\b\b\b\b\b\b\b\b\b\b\b\b\b\b\b\b\b\r125/125 [==============================] - 34s 275ms/step - loss: 0.0926 - accuracy: 0.9690 - val_loss: 0.0980 - val_accuracy: 0.9667 - lr: 1.0000e-05\n",
            "Epoch 99/180\n",
            "125/125 [==============================] - ETA: 0s - loss: 0.0928 - accuracy: 0.9690\n",
            "Epoch 00099: val_accuracy did not improve from 0.96697\n"
          ],
          "name": "stdout"
        },
        {
          "output_type": "stream",
          "text": [
            "2020-05-13 03:58:07,679 INFO \n",
            " epoch:098, F1Macro: 0.93811\n"
          ],
          "name": "stderr"
        },
        {
          "output_type": "stream",
          "text": [
            "\b\b\b\b\b\b\b\b\b\b\b\b\b\b\b\b\b\b\b\b\b\b\b\b\b\b\b\b\b\b\b\b\b\b\b\b\b\b\b\b\b\b\b\b\b\b\b\b\b\b\b\b\b\b\b\b\b\b\b\b\b\b\b\b\b\b\b\b\b\b\b\b\b\b\b\b\b\b\b\b\b\b\b\b\r125/125 [==============================] - 35s 276ms/step - loss: 0.0928 - accuracy: 0.9690 - val_loss: 0.0979 - val_accuracy: 0.9668 - lr: 1.0000e-05\n",
            "Epoch 100/180\n",
            "125/125 [==============================] - ETA: 0s - loss: 0.0926 - accuracy: 0.9690\n",
            "Epoch 00100: val_accuracy did not improve from 0.96697\n"
          ],
          "name": "stdout"
        },
        {
          "output_type": "stream",
          "text": [
            "2020-05-13 03:58:42,461 INFO \n",
            " epoch:099, F1Macro: 0.93804\n"
          ],
          "name": "stderr"
        },
        {
          "output_type": "stream",
          "text": [
            "\b\b\b\b\b\b\b\b\b\b\b\b\b\b\b\b\b\b\b\b\b\b\b\b\b\b\b\b\b\b\b\b\b\b\b\b\b\b\b\b\b\b\b\b\b\b\b\b\b\b\b\b\b\b\b\b\b\b\b\b\b\b\b\b\b\b\b\b\b\b\b\b\b\b\b\b\b\b\b\b\b\b\b\b\r125/125 [==============================] - 35s 276ms/step - loss: 0.0926 - accuracy: 0.9690 - val_loss: 0.0980 - val_accuracy: 0.9667 - lr: 1.0000e-05\n",
            "Epoch 101/180\n",
            "125/125 [==============================] - ETA: 0s - loss: 0.0924 - accuracy: 0.9690\n",
            "Epoch 00101: val_accuracy did not improve from 0.96697\n"
          ],
          "name": "stdout"
        },
        {
          "output_type": "stream",
          "text": [
            "2020-05-13 03:59:17,198 INFO \n",
            " epoch:100, F1Macro: 0.93795\n"
          ],
          "name": "stderr"
        },
        {
          "output_type": "stream",
          "text": [
            "\b\b\b\b\b\b\b\b\b\b\b\b\b\b\b\b\b\b\b\b\b\b\b\b\b\b\b\b\b\b\b\b\b\b\b\b\b\b\b\b\b\b\b\b\b\b\b\b\b\b\b\b\b\b\b\b\b\b\b\b\b\b\b\b\b\b\b\b\b\b\b\b\b\b\b\b\b\b\b\b\b\b\b\b\r125/125 [==============================] - 34s 276ms/step - loss: 0.0924 - accuracy: 0.9690 - val_loss: 0.0980 - val_accuracy: 0.9667 - lr: 1.0000e-05\n",
            "Epoch 102/180\n",
            "125/125 [==============================] - ETA: 0s - loss: 0.0925 - accuracy: 0.9690\n",
            "Epoch 00102: val_accuracy did not improve from 0.96697\n"
          ],
          "name": "stdout"
        },
        {
          "output_type": "stream",
          "text": [
            "2020-05-13 03:59:51,909 INFO \n",
            " epoch:101, F1Macro: 0.93817\n"
          ],
          "name": "stderr"
        },
        {
          "output_type": "stream",
          "text": [
            "\b\b\b\b\b\b\b\b\b\b\b\b\b\b\b\b\b\b\b\b\b\b\b\b\b\b\b\b\b\b\b\b\b\b\b\b\b\b\b\b\b\b\b\b\b\b\b\b\b\b\b\b\b\b\b\b\b\b\b\b\b\b\b\b\b\b\b\b\b\b\b\b\b\b\b\b\b\b\b\b\b\b\b\b\r125/125 [==============================] - 34s 276ms/step - loss: 0.0925 - accuracy: 0.9690 - val_loss: 0.0976 - val_accuracy: 0.9668 - lr: 1.0000e-05\n",
            "Epoch 103/180\n",
            "125/125 [==============================] - ETA: 0s - loss: 0.0925 - accuracy: 0.9691\n",
            "Epoch 00103: val_accuracy did not improve from 0.96697\n"
          ],
          "name": "stdout"
        },
        {
          "output_type": "stream",
          "text": [
            "2020-05-13 04:00:26,614 INFO \n",
            " epoch:102, F1Macro: 0.93796\n"
          ],
          "name": "stderr"
        },
        {
          "output_type": "stream",
          "text": [
            "\b\b\b\b\b\b\b\b\b\b\b\b\b\b\b\b\b\b\b\b\b\b\b\b\b\b\b\b\b\b\b\b\b\b\b\b\b\b\b\b\b\b\b\b\b\b\b\b\b\b\b\b\b\b\b\b\b\b\b\b\b\b\b\b\b\b\b\b\b\b\b\b\b\b\b\b\b\b\b\b\b\b\b\b\r125/125 [==============================] - 34s 276ms/step - loss: 0.0925 - accuracy: 0.9691 - val_loss: 0.0977 - val_accuracy: 0.9668 - lr: 1.0000e-05\n",
            "Epoch 104/180\n",
            "125/125 [==============================] - ETA: 0s - loss: 0.0927 - accuracy: 0.9690\n",
            "Epoch 00104: val_accuracy did not improve from 0.96697\n"
          ],
          "name": "stdout"
        },
        {
          "output_type": "stream",
          "text": [
            "2020-05-13 04:01:01,286 INFO \n",
            " epoch:103, F1Macro: 0.93797\n"
          ],
          "name": "stderr"
        },
        {
          "output_type": "stream",
          "text": [
            "\b\b\b\b\b\b\b\b\b\b\b\b\b\b\b\b\b\b\b\b\b\b\b\b\b\b\b\b\b\b\b\b\b\b\b\b\b\b\b\b\b\b\b\b\b\b\b\b\b\b\b\b\b\b\b\b\b\b\b\b\b\b\b\b\b\b\b\b\b\b\b\b\b\b\b\b\b\b\b\b\b\b\b\b\r125/125 [==============================] - 34s 275ms/step - loss: 0.0927 - accuracy: 0.9690 - val_loss: 0.0979 - val_accuracy: 0.9667 - lr: 1.0000e-05\n",
            "Epoch 105/180\n",
            "125/125 [==============================] - ETA: 0s - loss: 0.0924 - accuracy: 0.9690\n",
            "Epoch 00105: val_accuracy did not improve from 0.96697\n"
          ],
          "name": "stdout"
        },
        {
          "output_type": "stream",
          "text": [
            "2020-05-13 04:01:35,911 INFO \n",
            " epoch:104, F1Macro: 0.93811\n"
          ],
          "name": "stderr"
        },
        {
          "output_type": "stream",
          "text": [
            "\b\b\b\b\b\b\b\b\b\b\b\b\b\b\b\b\b\b\b\b\b\b\b\b\b\b\b\b\b\b\b\b\b\b\b\b\b\b\b\b\b\b\b\b\b\b\b\b\b\b\b\b\b\b\b\b\b\b\b\b\b\b\b\b\b\b\b\b\b\b\b\b\b\b\b\b\b\b\b\b\b\b\b\b\r125/125 [==============================] - 34s 275ms/step - loss: 0.0924 - accuracy: 0.9690 - val_loss: 0.0976 - val_accuracy: 0.9668 - lr: 1.0000e-05\n",
            "Epoch 106/180\n",
            "125/125 [==============================] - ETA: 0s - loss: 0.0923 - accuracy: 0.9690\n",
            "Epoch 00106: val_accuracy did not improve from 0.96697\n"
          ],
          "name": "stdout"
        },
        {
          "output_type": "stream",
          "text": [
            "2020-05-13 04:02:10,584 INFO \n",
            " epoch:105, F1Macro: 0.93821\n"
          ],
          "name": "stderr"
        },
        {
          "output_type": "stream",
          "text": [
            "\b\b\b\b\b\b\b\b\b\b\b\b\b\b\b\b\b\b\b\b\b\b\b\b\b\b\b\b\b\b\b\b\b\b\b\b\b\b\b\b\b\b\b\b\b\b\b\b\b\b\b\b\b\b\b\b\b\b\b\b\b\b\b\b\b\b\b\b\b\b\b\b\b\b\b\b\b\b\b\b\b\b\b\b\r125/125 [==============================] - 34s 275ms/step - loss: 0.0923 - accuracy: 0.9690 - val_loss: 0.0974 - val_accuracy: 0.9669 - lr: 1.0000e-05\n",
            "Epoch 107/180\n",
            "125/125 [==============================] - ETA: 0s - loss: 0.0923 - accuracy: 0.9690\n",
            "Epoch 00107: val_accuracy did not improve from 0.96697\n"
          ],
          "name": "stdout"
        },
        {
          "output_type": "stream",
          "text": [
            "2020-05-13 04:02:45,207 INFO \n",
            " epoch:106, F1Macro: 0.93815\n"
          ],
          "name": "stderr"
        },
        {
          "output_type": "stream",
          "text": [
            "\b\b\b\b\b\b\b\b\b\b\b\b\b\b\b\b\b\b\b\b\b\b\b\b\b\b\b\b\b\b\b\b\b\b\b\b\b\b\b\b\b\b\b\b\b\b\b\b\b\b\b\b\b\b\b\b\b\b\b\b\b\b\b\b\b\b\b\b\b\b\b\b\b\b\b\b\b\b\b\b\b\b\b\b\r125/125 [==============================] - 34s 275ms/step - loss: 0.0923 - accuracy: 0.9690 - val_loss: 0.0975 - val_accuracy: 0.9668 - lr: 1.0000e-05\n",
            "Epoch 108/180\n",
            "125/125 [==============================] - ETA: 0s - loss: 0.0927 - accuracy: 0.9689\n",
            "Epoch 00108: val_accuracy did not improve from 0.96697\n"
          ],
          "name": "stdout"
        },
        {
          "output_type": "stream",
          "text": [
            "2020-05-13 04:03:19,888 INFO \n",
            " epoch:107, F1Macro: 0.93795\n"
          ],
          "name": "stderr"
        },
        {
          "output_type": "stream",
          "text": [
            "\b\b\b\b\b\b\b\b\b\b\b\b\b\b\b\b\b\b\b\b\b\b\b\b\b\b\b\b\b\b\b\b\b\b\b\b\b\b\b\b\b\b\b\b\b\b\b\b\b\b\b\b\b\b\b\b\b\b\b\b\b\b\b\b\b\b\b\b\b\b\b\b\b\b\b\b\b\b\b\b\b\b\b\b\r125/125 [==============================] - 34s 275ms/step - loss: 0.0927 - accuracy: 0.9689 - val_loss: 0.0977 - val_accuracy: 0.9667 - lr: 1.0000e-05\n",
            "Epoch 109/180\n",
            "125/125 [==============================] - ETA: 0s - loss: 0.0926 - accuracy: 0.9690\n",
            "Epoch 00109: val_accuracy did not improve from 0.96697\n"
          ],
          "name": "stdout"
        },
        {
          "output_type": "stream",
          "text": [
            "2020-05-13 04:03:54,563 INFO \n",
            " epoch:108, F1Macro: 0.93795\n"
          ],
          "name": "stderr"
        },
        {
          "output_type": "stream",
          "text": [
            "\b\b\b\b\b\b\b\b\b\b\b\b\b\b\b\b\b\b\b\b\b\b\b\b\b\b\b\b\b\b\b\b\b\b\b\b\b\b\b\b\b\b\b\b\b\b\b\b\b\b\b\b\b\b\b\b\b\b\b\b\b\b\b\b\b\b\b\b\b\b\b\b\b\b\b\b\b\b\b\b\b\b\b\b\r125/125 [==============================] - 34s 275ms/step - loss: 0.0926 - accuracy: 0.9690 - val_loss: 0.0977 - val_accuracy: 0.9667 - lr: 1.0000e-05\n",
            "Epoch 110/180\n",
            "125/125 [==============================] - ETA: 0s - loss: 0.0919 - accuracy: 0.9691\n",
            "Epoch 00110: val_accuracy did not improve from 0.96697\n"
          ],
          "name": "stdout"
        },
        {
          "output_type": "stream",
          "text": [
            "2020-05-13 04:04:29,281 INFO \n",
            " epoch:109, F1Macro: 0.93822\n"
          ],
          "name": "stderr"
        },
        {
          "output_type": "stream",
          "text": [
            "\b\b\b\b\b\b\b\b\b\b\b\b\b\b\b\b\b\b\b\b\b\b\b\b\b\b\b\b\b\b\b\b\b\b\b\b\b\b\b\b\b\b\b\b\b\b\b\b\b\b\b\b\b\b\b\b\b\b\b\b\b\b\b\b\b\b\b\b\b\b\b\b\b\b\b\b\b\b\b\b\b\b\b\b\r125/125 [==============================] - 34s 276ms/step - loss: 0.0919 - accuracy: 0.9691 - val_loss: 0.0973 - val_accuracy: 0.9669 - lr: 1.0000e-05\n",
            "Epoch 111/180\n",
            "125/125 [==============================] - ETA: 0s - loss: 0.0923 - accuracy: 0.9690\n",
            "Epoch 00111: val_accuracy did not improve from 0.96697\n"
          ],
          "name": "stdout"
        },
        {
          "output_type": "stream",
          "text": [
            "2020-05-13 04:05:03,980 INFO \n",
            " epoch:110, F1Macro: 0.93788\n"
          ],
          "name": "stderr"
        },
        {
          "output_type": "stream",
          "text": [
            "\b\b\b\b\b\b\b\b\b\b\b\b\b\b\b\b\b\b\b\b\b\b\b\b\b\b\b\b\b\b\b\b\b\b\b\b\b\b\b\b\b\b\b\b\b\b\b\b\b\b\b\b\b\b\b\b\b\b\b\b\b\b\b\b\b\b\b\b\b\b\b\b\b\b\b\b\b\b\b\b\b\b\b\b\r125/125 [==============================] - 34s 275ms/step - loss: 0.0923 - accuracy: 0.9690 - val_loss: 0.0978 - val_accuracy: 0.9667 - lr: 1.0000e-05\n",
            "Epoch 112/180\n",
            "125/125 [==============================] - ETA: 0s - loss: 0.0920 - accuracy: 0.9691\n",
            "Epoch 00112: val_accuracy did not improve from 0.96697\n"
          ],
          "name": "stdout"
        },
        {
          "output_type": "stream",
          "text": [
            "2020-05-13 04:05:38,597 INFO \n",
            " epoch:111, F1Macro: 0.93816\n"
          ],
          "name": "stderr"
        },
        {
          "output_type": "stream",
          "text": [
            "\b\b\b\b\b\b\b\b\b\b\b\b\b\b\b\b\b\b\b\b\b\b\b\b\b\b\b\b\b\b\b\b\b\b\b\b\b\b\b\b\b\b\b\b\b\b\b\b\b\b\b\b\b\b\b\b\b\b\b\b\b\b\b\b\b\b\b\b\b\b\b\b\b\b\b\b\b\b\b\b\b\b\b\b\r125/125 [==============================] - 34s 275ms/step - loss: 0.0920 - accuracy: 0.9691 - val_loss: 0.0974 - val_accuracy: 0.9668 - lr: 1.0000e-05\n",
            "Epoch 113/180\n",
            "125/125 [==============================] - ETA: 0s - loss: 0.0921 - accuracy: 0.9691\n",
            "Epoch 00113: val_accuracy did not improve from 0.96697\n"
          ],
          "name": "stdout"
        },
        {
          "output_type": "stream",
          "text": [
            "2020-05-13 04:06:13,330 INFO \n",
            " epoch:112, F1Macro: 0.93797\n"
          ],
          "name": "stderr"
        },
        {
          "output_type": "stream",
          "text": [
            "\b\b\b\b\b\b\b\b\b\b\b\b\b\b\b\b\b\b\b\b\b\b\b\b\b\b\b\b\b\b\b\b\b\b\b\b\b\b\b\b\b\b\b\b\b\b\b\b\b\b\b\b\b\b\b\b\b\b\b\b\b\b\b\b\b\b\b\b\b\b\b\b\b\b\b\b\b\b\b\b\b\b\b\b\r125/125 [==============================] - 34s 276ms/step - loss: 0.0921 - accuracy: 0.9691 - val_loss: 0.0977 - val_accuracy: 0.9667 - lr: 1.0000e-05\n",
            "Epoch 114/180\n",
            "125/125 [==============================] - ETA: 0s - loss: 0.0925 - accuracy: 0.9689\n",
            "Epoch 00114: val_accuracy did not improve from 0.96697\n"
          ],
          "name": "stdout"
        },
        {
          "output_type": "stream",
          "text": [
            "2020-05-13 04:06:47,985 INFO \n",
            " epoch:113, F1Macro: 0.93781\n"
          ],
          "name": "stderr"
        },
        {
          "output_type": "stream",
          "text": [
            "\b\b\b\b\b\b\b\b\b\b\b\b\b\b\b\b\b\b\b\b\b\b\b\b\b\b\b\b\b\b\b\b\b\b\b\b\b\b\b\b\b\b\b\b\b\b\b\b\b\b\b\b\b\b\b\b\b\b\b\b\b\b\b\b\b\b\b\b\b\b\b\b\b\b\b\b\b\b\b\b\b\b\b\b\r125/125 [==============================] - 34s 275ms/step - loss: 0.0925 - accuracy: 0.9689 - val_loss: 0.0978 - val_accuracy: 0.9666 - lr: 1.0000e-05\n",
            "Epoch 115/180\n",
            "125/125 [==============================] - ETA: 0s - loss: 0.0919 - accuracy: 0.9691\n",
            "Epoch 00115: val_accuracy did not improve from 0.96697\n"
          ],
          "name": "stdout"
        },
        {
          "output_type": "stream",
          "text": [
            "2020-05-13 04:07:22,712 INFO \n",
            " epoch:114, F1Macro: 0.93816\n"
          ],
          "name": "stderr"
        },
        {
          "output_type": "stream",
          "text": [
            "\b\b\b\b\b\b\b\b\b\b\b\b\b\b\b\b\b\b\b\b\b\b\b\b\b\b\b\b\b\b\b\b\b\b\b\b\b\b\b\b\b\b\b\b\b\b\b\b\b\b\b\b\b\b\b\b\b\b\b\b\b\b\b\b\b\b\b\b\b\b\b\b\b\b\b\b\b\b\b\b\b\b\b\b\r125/125 [==============================] - 34s 276ms/step - loss: 0.0919 - accuracy: 0.9691 - val_loss: 0.0972 - val_accuracy: 0.9669 - lr: 1.0000e-05\n",
            "Epoch 116/180\n",
            "125/125 [==============================] - ETA: 0s - loss: 0.0919 - accuracy: 0.9691\n",
            "Epoch 00116: val_accuracy did not improve from 0.96697\n"
          ],
          "name": "stdout"
        },
        {
          "output_type": "stream",
          "text": [
            "2020-05-13 04:07:57,321 INFO \n",
            " epoch:115, F1Macro: 0.93828\n"
          ],
          "name": "stderr"
        },
        {
          "output_type": "stream",
          "text": [
            "\b\b\b\b\b\b\b\b\b\b\b\b\b\b\b\b\b\b\b\b\b\b\b\b\b\b\b\b\b\b\b\b\b\b\b\b\b\b\b\b\b\b\b\b\b\b\b\b\b\b\b\b\b\b\b\b\b\b\b\b\b\b\b\b\b\b\b\b\b\b\b\b\b\b\b\b\b\b\b\b\b\b\b\b\r125/125 [==============================] - 34s 275ms/step - loss: 0.0919 - accuracy: 0.9691 - val_loss: 0.0970 - val_accuracy: 0.9669 - lr: 1.0000e-05\n",
            "Epoch 117/180\n",
            "125/125 [==============================] - ETA: 0s - loss: 0.0924 - accuracy: 0.9690\n",
            "Epoch 00117: val_accuracy did not improve from 0.96697\n"
          ],
          "name": "stdout"
        },
        {
          "output_type": "stream",
          "text": [
            "2020-05-13 04:08:32,031 INFO \n",
            " epoch:116, F1Macro: 0.93788\n"
          ],
          "name": "stderr"
        },
        {
          "output_type": "stream",
          "text": [
            "\b\b\b\b\b\b\b\b\b\b\b\b\b\b\b\b\b\b\b\b\b\b\b\b\b\b\b\b\b\b\b\b\b\b\b\b\b\b\b\b\b\b\b\b\b\b\b\b\b\b\b\b\b\b\b\b\b\b\b\b\b\b\b\b\b\b\b\b\b\b\b\b\b\b\b\b\b\b\b\b\b\b\b\b\r125/125 [==============================] - 34s 276ms/step - loss: 0.0924 - accuracy: 0.9690 - val_loss: 0.0979 - val_accuracy: 0.9665 - lr: 1.0000e-05\n",
            "Epoch 118/180\n",
            "125/125 [==============================] - ETA: 0s - loss: 0.0919 - accuracy: 0.9691\n",
            "Epoch 00118: val_accuracy did not improve from 0.96697\n"
          ],
          "name": "stdout"
        },
        {
          "output_type": "stream",
          "text": [
            "2020-05-13 04:09:06,785 INFO \n",
            " epoch:117, F1Macro: 0.93777\n"
          ],
          "name": "stderr"
        },
        {
          "output_type": "stream",
          "text": [
            "\b\b\b\b\b\b\b\b\b\b\b\b\b\b\b\b\b\b\b\b\b\b\b\b\b\b\b\b\b\b\b\b\b\b\b\b\b\b\b\b\b\b\b\b\b\b\b\b\b\b\b\b\b\b\b\b\b\b\b\b\b\b\b\b\b\b\b\b\b\b\b\b\b\b\b\b\b\b\b\b\b\b\b\b\r125/125 [==============================] - 34s 276ms/step - loss: 0.0919 - accuracy: 0.9691 - val_loss: 0.0978 - val_accuracy: 0.9665 - lr: 1.0000e-05\n",
            "Epoch 119/180\n",
            "125/125 [==============================] - ETA: 0s - loss: 0.0920 - accuracy: 0.9690\n",
            "Epoch 00119: val_accuracy did not improve from 0.96697\n"
          ],
          "name": "stdout"
        },
        {
          "output_type": "stream",
          "text": [
            "2020-05-13 04:09:41,518 INFO \n",
            " epoch:118, F1Macro: 0.93801\n"
          ],
          "name": "stderr"
        },
        {
          "output_type": "stream",
          "text": [
            "\b\b\b\b\b\b\b\b\b\b\b\b\b\b\b\b\b\b\b\b\b\b\b\b\b\b\b\b\b\b\b\b\b\b\b\b\b\b\b\b\b\b\b\b\b\b\b\b\b\b\b\b\b\b\b\b\b\b\b\b\b\b\b\b\b\b\b\b\b\b\b\b\b\b\b\b\b\b\b\b\b\b\b\b\r125/125 [==============================] - 34s 276ms/step - loss: 0.0920 - accuracy: 0.9690 - val_loss: 0.0973 - val_accuracy: 0.9668 - lr: 1.0000e-05\n",
            "Epoch 120/180\n",
            "125/125 [==============================] - ETA: 0s - loss: 0.0919 - accuracy: 0.9691\n",
            "Epoch 00120: val_accuracy did not improve from 0.96697\n"
          ],
          "name": "stdout"
        },
        {
          "output_type": "stream",
          "text": [
            "2020-05-13 04:10:16,241 INFO \n",
            " epoch:119, F1Macro: 0.93818\n"
          ],
          "name": "stderr"
        },
        {
          "output_type": "stream",
          "text": [
            "\b\b\b\b\b\b\b\b\b\b\b\b\b\b\b\b\b\b\b\b\b\b\b\b\b\b\b\b\b\b\b\b\b\b\b\b\b\b\b\b\b\b\b\b\b\b\b\b\b\b\b\b\b\b\b\b\b\b\b\b\b\b\b\b\b\b\b\b\b\b\b\b\b\b\b\b\b\b\b\b\b\b\b\b\r125/125 [==============================] - 34s 276ms/step - loss: 0.0919 - accuracy: 0.9691 - val_loss: 0.0971 - val_accuracy: 0.9668 - lr: 1.0000e-05\n",
            "Epoch 121/180\n",
            "125/125 [==============================] - ETA: 0s - loss: 0.0924 - accuracy: 0.9689\n",
            "Epoch 00121: val_accuracy did not improve from 0.96697\n"
          ],
          "name": "stdout"
        },
        {
          "output_type": "stream",
          "text": [
            "2020-05-13 04:10:51,095 INFO \n",
            " epoch:120, F1Macro: 0.93793\n"
          ],
          "name": "stderr"
        },
        {
          "output_type": "stream",
          "text": [
            "\b\b\b\b\b\b\b\b\b\b\b\b\b\b\b\b\b\b\b\b\b\b\b\b\b\b\b\b\b\b\b\b\b\b\b\b\b\b\b\b\b\b\b\b\b\b\b\b\b\b\b\b\b\b\b\b\b\b\b\b\b\b\b\b\b\b\b\b\b\b\b\b\b\b\b\b\b\b\b\b\b\b\b\b\r125/125 [==============================] - 35s 277ms/step - loss: 0.0924 - accuracy: 0.9689 - val_loss: 0.0974 - val_accuracy: 0.9668 - lr: 1.0000e-05\n",
            "Epoch 122/180\n",
            "125/125 [==============================] - ETA: 0s - loss: 0.0921 - accuracy: 0.9690\n",
            "Epoch 00122: val_accuracy did not improve from 0.96697\n"
          ],
          "name": "stdout"
        },
        {
          "output_type": "stream",
          "text": [
            "2020-05-13 04:11:25,972 INFO \n",
            " epoch:121, F1Macro: 0.93777\n"
          ],
          "name": "stderr"
        },
        {
          "output_type": "stream",
          "text": [
            "\b\b\b\b\b\b\b\b\b\b\b\b\b\b\b\b\b\b\b\b\b\b\b\b\b\b\b\b\b\b\b\b\b\b\b\b\b\b\b\b\b\b\b\b\b\b\b\b\b\b\b\b\b\b\b\b\b\b\b\b\b\b\b\b\b\b\b\b\b\b\b\b\b\b\b\b\b\b\b\b\b\b\b\b\r125/125 [==============================] - 35s 277ms/step - loss: 0.0921 - accuracy: 0.9690 - val_loss: 0.0976 - val_accuracy: 0.9667 - lr: 1.0000e-05\n",
            "Epoch 123/180\n",
            "125/125 [==============================] - ETA: 0s - loss: 0.0918 - accuracy: 0.9691\n",
            "Epoch 00123: val_accuracy did not improve from 0.96697\n"
          ],
          "name": "stdout"
        },
        {
          "output_type": "stream",
          "text": [
            "2020-05-13 04:12:00,715 INFO \n",
            " epoch:122, F1Macro: 0.93789\n"
          ],
          "name": "stderr"
        },
        {
          "output_type": "stream",
          "text": [
            "\b\b\b\b\b\b\b\b\b\b\b\b\b\b\b\b\b\b\b\b\b\b\b\b\b\b\b\b\b\b\b\b\b\b\b\b\b\b\b\b\b\b\b\b\b\b\b\b\b\b\b\b\b\b\b\b\b\b\b\b\b\b\b\b\b\b\b\b\b\b\b\b\b\b\b\b\b\b\b\b\b\b\b\b\r125/125 [==============================] - 34s 276ms/step - loss: 0.0918 - accuracy: 0.9691 - val_loss: 0.0972 - val_accuracy: 0.9668 - lr: 1.0000e-05\n",
            "Epoch 124/180\n",
            "125/125 [==============================] - ETA: 0s - loss: 0.0921 - accuracy: 0.9690\n",
            "Epoch 00124: val_accuracy did not improve from 0.96697\n"
          ],
          "name": "stdout"
        },
        {
          "output_type": "stream",
          "text": [
            "2020-05-13 04:12:35,446 INFO \n",
            " epoch:123, F1Macro: 0.93794\n"
          ],
          "name": "stderr"
        },
        {
          "output_type": "stream",
          "text": [
            "\b\b\b\b\b\b\b\b\b\b\b\b\b\b\b\b\b\b\b\b\b\b\b\b\b\b\b\b\b\b\b\b\b\b\b\b\b\b\b\b\b\b\b\b\b\b\b\b\b\b\b\b\b\b\b\b\b\b\b\b\b\b\b\b\b\b\b\b\b\b\b\b\b\b\b\b\b\b\b\b\b\b\b\b\r125/125 [==============================] - 34s 276ms/step - loss: 0.0921 - accuracy: 0.9690 - val_loss: 0.0974 - val_accuracy: 0.9667 - lr: 1.0000e-05\n",
            "Epoch 125/180\n",
            "125/125 [==============================] - ETA: 0s - loss: 0.0917 - accuracy: 0.9691\n",
            "Epoch 00125: val_accuracy did not improve from 0.96697\n"
          ],
          "name": "stdout"
        },
        {
          "output_type": "stream",
          "text": [
            "2020-05-13 04:13:10,191 INFO \n",
            " epoch:124, F1Macro: 0.93813\n"
          ],
          "name": "stderr"
        },
        {
          "output_type": "stream",
          "text": [
            "\b\b\b\b\b\b\b\b\b\b\b\b\b\b\b\b\b\b\b\b\b\b\b\b\b\b\b\b\b\b\b\b\b\b\b\b\b\b\b\b\b\b\b\b\b\b\b\b\b\b\b\b\b\b\b\b\b\b\b\b\b\b\b\b\b\b\b\b\b\b\b\b\b\b\b\b\b\b\b\b\b\b\b\b\r125/125 [==============================] - 34s 276ms/step - loss: 0.0917 - accuracy: 0.9691 - val_loss: 0.0971 - val_accuracy: 0.9668 - lr: 1.0000e-05\n",
            "Epoch 126/180\n",
            "125/125 [==============================] - ETA: 0s - loss: 0.0919 - accuracy: 0.9691\n",
            "Epoch 00126: val_accuracy did not improve from 0.96697\n"
          ],
          "name": "stdout"
        },
        {
          "output_type": "stream",
          "text": [
            "2020-05-13 04:13:45,007 INFO \n",
            " epoch:125, F1Macro: 0.93799\n"
          ],
          "name": "stderr"
        },
        {
          "output_type": "stream",
          "text": [
            "\b\b\b\b\b\b\b\b\b\b\b\b\b\b\b\b\b\b\b\b\b\b\b\b\b\b\b\b\b\b\b\b\b\b\b\b\b\b\b\b\b\b\b\b\b\b\b\b\b\b\b\b\b\b\b\b\b\b\b\b\b\b\b\b\b\b\b\b\b\b\b\b\b\b\b\b\b\b\b\b\b\b\b\b\r125/125 [==============================] - 35s 276ms/step - loss: 0.0919 - accuracy: 0.9691 - val_loss: 0.0972 - val_accuracy: 0.9667 - lr: 1.0000e-05\n",
            "Epoch 127/180\n",
            "125/125 [==============================] - ETA: 0s - loss: 0.0918 - accuracy: 0.9690\n",
            "Epoch 00127: val_accuracy did not improve from 0.96697\n"
          ],
          "name": "stdout"
        },
        {
          "output_type": "stream",
          "text": [
            "2020-05-13 04:14:19,757 INFO \n",
            " epoch:126, F1Macro: 0.93797\n"
          ],
          "name": "stderr"
        },
        {
          "output_type": "stream",
          "text": [
            "\b\b\b\b\b\b\b\b\b\b\b\b\b\b\b\b\b\b\b\b\b\b\b\b\b\b\b\b\b\b\b\b\b\b\b\b\b\b\b\b\b\b\b\b\b\b\b\b\b\b\b\b\b\b\b\b\b\b\b\b\b\b\b\b\b\b\b\b\b\b\b\b\b\b\b\b\b\b\b\b\b\b\b\b\r125/125 [==============================] - 34s 276ms/step - loss: 0.0918 - accuracy: 0.9690 - val_loss: 0.0972 - val_accuracy: 0.9667 - lr: 1.0000e-05\n",
            "Epoch 128/180\n",
            "125/125 [==============================] - ETA: 0s - loss: 0.0919 - accuracy: 0.9691\n",
            "Epoch 00128: val_accuracy did not improve from 0.96697\n"
          ],
          "name": "stdout"
        },
        {
          "output_type": "stream",
          "text": [
            "2020-05-13 04:14:54,551 INFO \n",
            " epoch:127, F1Macro: 0.93786\n"
          ],
          "name": "stderr"
        },
        {
          "output_type": "stream",
          "text": [
            "\b\b\b\b\b\b\b\b\b\b\b\b\b\b\b\b\b\b\b\b\b\b\b\b\b\b\b\b\b\b\b\b\b\b\b\b\b\b\b\b\b\b\b\b\b\b\b\b\b\b\b\b\b\b\b\b\b\b\b\b\b\b\b\b\b\b\b\b\b\b\b\b\b\b\b\b\b\b\b\b\b\b\b\b\r125/125 [==============================] - 35s 276ms/step - loss: 0.0919 - accuracy: 0.9691 - val_loss: 0.0976 - val_accuracy: 0.9666 - lr: 1.0000e-05\n",
            "Epoch 129/180\n",
            "125/125 [==============================] - ETA: 0s - loss: 0.0920 - accuracy: 0.9690\n",
            "Epoch 00129: val_accuracy did not improve from 0.96697\n"
          ],
          "name": "stdout"
        },
        {
          "output_type": "stream",
          "text": [
            "2020-05-13 04:15:29,347 INFO \n",
            " epoch:128, F1Macro: 0.93766\n"
          ],
          "name": "stderr"
        },
        {
          "output_type": "stream",
          "text": [
            "\b\b\b\b\b\b\b\b\b\b\b\b\b\b\b\b\b\b\b\b\b\b\b\b\b\b\b\b\b\b\b\b\b\b\b\b\b\b\b\b\b\b\b\b\b\b\b\b\b\b\b\b\b\b\b\b\b\b\b\b\b\b\b\b\b\b\b\b\b\b\b\b\b\b\b\b\b\b\b\b\b\b\b\b\r125/125 [==============================] - 35s 276ms/step - loss: 0.0920 - accuracy: 0.9690 - val_loss: 0.0976 - val_accuracy: 0.9665 - lr: 1.0000e-05\n",
            "Epoch 130/180\n",
            "125/125 [==============================] - ETA: 0s - loss: 0.0918 - accuracy: 0.9690\n",
            "Epoch 00130: val_accuracy did not improve from 0.96697\n"
          ],
          "name": "stdout"
        },
        {
          "output_type": "stream",
          "text": [
            "2020-05-13 04:16:04,059 INFO \n",
            " epoch:129, F1Macro: 0.93807\n"
          ],
          "name": "stderr"
        },
        {
          "output_type": "stream",
          "text": [
            "\b\b\b\b\b\b\b\b\b\b\b\b\b\b\b\b\b\b\b\b\b\b\b\b\b\b\b\b\b\b\b\b\b\b\b\b\b\b\b\b\b\b\b\b\b\b\b\b\b\b\b\b\b\b\b\b\b\b\b\b\b\b\b\b\b\b\b\b\b\b\b\b\b\b\b\b\b\b\b\b\b\b\b\b\r125/125 [==============================] - 34s 276ms/step - loss: 0.0918 - accuracy: 0.9690 - val_loss: 0.0970 - val_accuracy: 0.9668 - lr: 1.0000e-05\n",
            "Epoch 131/180\n",
            "125/125 [==============================] - ETA: 0s - loss: 0.0914 - accuracy: 0.9692\n",
            "Epoch 00131: val_accuracy did not improve from 0.96697\n"
          ],
          "name": "stdout"
        },
        {
          "output_type": "stream",
          "text": [
            "2020-05-13 04:16:38,896 INFO \n",
            " epoch:130, F1Macro: 0.93794\n"
          ],
          "name": "stderr"
        },
        {
          "output_type": "stream",
          "text": [
            "\b\b\b\b\b\b\b\b\b\b\b\b\b\b\b\b\b\b\b\b\b\b\b\b\b\b\b\b\b\b\b\b\b\b\b\b\b\b\b\b\b\b\b\b\b\b\b\b\b\b\b\b\b\b\b\b\b\b\b\b\b\b\b\b\b\b\b\b\b\b\b\b\b\b\b\b\b\b\b\b\b\b\b\b\r125/125 [==============================] - 35s 277ms/step - loss: 0.0914 - accuracy: 0.9692 - val_loss: 0.0972 - val_accuracy: 0.9667 - lr: 1.0000e-05\n",
            "Epoch 132/180\n",
            "125/125 [==============================] - ETA: 0s - loss: 0.0921 - accuracy: 0.9690\n",
            "Epoch 00132: val_accuracy did not improve from 0.96697\n"
          ],
          "name": "stdout"
        },
        {
          "output_type": "stream",
          "text": [
            "2020-05-13 04:17:13,824 INFO \n",
            " epoch:131, F1Macro: 0.93781\n"
          ],
          "name": "stderr"
        },
        {
          "output_type": "stream",
          "text": [
            "\b\b\b\b\b\b\b\b\b\b\b\b\b\b\b\b\b\b\b\b\b\b\b\b\b\b\b\b\b\b\b\b\b\b\b\b\b\b\b\b\b\b\b\b\b\b\b\b\b\b\b\b\b\b\b\b\b\b\b\b\b\b\b\b\b\b\b\b\b\b\b\b\b\b\b\b\b\b\b\b\b\b\b\b\r125/125 [==============================] - 35s 277ms/step - loss: 0.0921 - accuracy: 0.9690 - val_loss: 0.0973 - val_accuracy: 0.9666 - lr: 1.0000e-05\n",
            "Epoch 133/180\n",
            "125/125 [==============================] - ETA: 0s - loss: 0.0937 - accuracy: 0.9683\n",
            "Epoch 00133: val_accuracy did not improve from 0.96697\n"
          ],
          "name": "stdout"
        },
        {
          "output_type": "stream",
          "text": [
            "2020-05-13 04:17:48,742 INFO \n",
            " epoch:132, F1Macro: 0.93778\n"
          ],
          "name": "stderr"
        },
        {
          "output_type": "stream",
          "text": [
            "\b\b\b\b\b\b\b\b\b\b\b\b\b\b\b\b\b\b\b\b\b\b\b\b\b\b\b\b\b\b\b\b\b\b\b\b\b\b\b\b\b\b\b\b\b\b\b\b\b\b\b\b\b\b\b\b\b\b\b\b\b\b\b\b\b\b\b\b\b\b\b\b\b\b\b\b\b\b\b\b\b\b\b\b\r125/125 [==============================] - 35s 277ms/step - loss: 0.0937 - accuracy: 0.9683 - val_loss: 0.0975 - val_accuracy: 0.9665 - lr: 1.0000e-05\n",
            "Epoch 134/180\n",
            "125/125 [==============================] - ETA: 0s - loss: 0.0913 - accuracy: 0.9691\n",
            "Epoch 00134: val_accuracy did not improve from 0.96697\n"
          ],
          "name": "stdout"
        },
        {
          "output_type": "stream",
          "text": [
            "2020-05-13 04:18:23,547 INFO \n",
            " epoch:133, F1Macro: 0.93796\n"
          ],
          "name": "stderr"
        },
        {
          "output_type": "stream",
          "text": [
            "\b\b\b\b\b\b\b\b\b\b\b\b\b\b\b\b\b\b\b\b\b\b\b\b\b\b\b\b\b\b\b\b\b\b\b\b\b\b\b\b\b\b\b\b\b\b\b\b\b\b\b\b\b\b\b\b\b\b\b\b\b\b\b\b\b\b\b\b\b\b\b\b\b\b\b\b\b\b\b\b\b\b\b\b\r125/125 [==============================] - 35s 276ms/step - loss: 0.0913 - accuracy: 0.9691 - val_loss: 0.0970 - val_accuracy: 0.9668 - lr: 1.0000e-05\n",
            "Epoch 135/180\n",
            "125/125 [==============================] - ETA: 0s - loss: 0.0914 - accuracy: 0.9691\n",
            "Epoch 00135: val_accuracy did not improve from 0.96697\n"
          ],
          "name": "stdout"
        },
        {
          "output_type": "stream",
          "text": [
            "2020-05-13 04:18:58,504 INFO \n",
            " epoch:134, F1Macro: 0.93825\n"
          ],
          "name": "stderr"
        },
        {
          "output_type": "stream",
          "text": [
            "\b\b\b\b\b\b\b\b\b\b\b\b\b\b\b\b\b\b\b\b\b\b\b\b\b\b\b\b\b\b\b\b\b\b\b\b\b\b\b\b\b\b\b\b\b\b\b\b\b\b\b\b\b\b\b\b\b\b\b\b\b\b\b\b\b\b\b\b\b\b\b\b\b\b\b\b\b\b\b\b\b\b\b\b\r125/125 [==============================] - 35s 277ms/step - loss: 0.0914 - accuracy: 0.9691 - val_loss: 0.0969 - val_accuracy: 0.9668 - lr: 1.0000e-05\n",
            "Epoch 136/180\n",
            "125/125 [==============================] - ETA: 0s - loss: 0.0915 - accuracy: 0.9691\n",
            "Epoch 00136: val_accuracy did not improve from 0.96697\n"
          ],
          "name": "stdout"
        },
        {
          "output_type": "stream",
          "text": [
            "2020-05-13 04:19:33,151 INFO \n",
            " epoch:135, F1Macro: 0.93812\n"
          ],
          "name": "stderr"
        },
        {
          "output_type": "stream",
          "text": [
            "\b\b\b\b\b\b\b\b\b\b\b\b\b\b\b\b\b\b\b\b\b\b\b\b\b\b\b\b\b\b\b\b\b\b\b\b\b\b\b\b\b\b\b\b\b\b\b\b\b\b\b\b\b\b\b\b\b\b\b\b\b\b\b\b\b\b\b\b\b\b\b\b\b\b\b\b\b\b\b\b\b\b\b\b\r125/125 [==============================] - 34s 275ms/step - loss: 0.0915 - accuracy: 0.9691 - val_loss: 0.0970 - val_accuracy: 0.9667 - lr: 1.0000e-05\n",
            "Epoch 137/180\n",
            "125/125 [==============================] - ETA: 0s - loss: 0.0912 - accuracy: 0.9692\n",
            "Epoch 00137: val_accuracy did not improve from 0.96697\n"
          ],
          "name": "stdout"
        },
        {
          "output_type": "stream",
          "text": [
            "2020-05-13 04:20:07,856 INFO \n",
            " epoch:136, F1Macro: 0.93790\n"
          ],
          "name": "stderr"
        },
        {
          "output_type": "stream",
          "text": [
            "\b\b\b\b\b\b\b\b\b\b\b\b\b\b\b\b\b\b\b\b\b\b\b\b\b\b\b\b\b\b\b\b\b\b\b\b\b\b\b\b\b\b\b\b\b\b\b\b\b\b\b\b\b\b\b\b\b\b\b\b\b\b\b\b\b\b\b\b\b\b\b\b\b\b\b\b\b\b\b\b\b\b\b\b\r125/125 [==============================] - 34s 276ms/step - loss: 0.0912 - accuracy: 0.9692 - val_loss: 0.0971 - val_accuracy: 0.9668 - lr: 1.0000e-05\n",
            "Epoch 138/180\n",
            "125/125 [==============================] - ETA: 0s - loss: 0.0917 - accuracy: 0.9690\n",
            "Epoch 00138: val_accuracy did not improve from 0.96697\n"
          ],
          "name": "stdout"
        },
        {
          "output_type": "stream",
          "text": [
            "2020-05-13 04:20:42,719 INFO \n",
            " epoch:137, F1Macro: 0.93800\n"
          ],
          "name": "stderr"
        },
        {
          "output_type": "stream",
          "text": [
            "\b\b\b\b\b\b\b\b\b\b\b\b\b\b\b\b\b\b\b\b\b\b\b\b\b\b\b\b\b\b\b\b\b\b\b\b\b\b\b\b\b\b\b\b\b\b\b\b\b\b\b\b\b\b\b\b\b\b\b\b\b\b\b\b\b\b\b\b\b\b\b\b\b\b\b\b\b\b\b\b\b\b\b\b\r125/125 [==============================] - 35s 277ms/step - loss: 0.0917 - accuracy: 0.9690 - val_loss: 0.0970 - val_accuracy: 0.9668 - lr: 1.0000e-05\n",
            "Epoch 139/180\n",
            "125/125 [==============================] - ETA: 0s - loss: 0.0915 - accuracy: 0.9690\n",
            "Epoch 00139: val_accuracy did not improve from 0.96697\n"
          ],
          "name": "stdout"
        },
        {
          "output_type": "stream",
          "text": [
            "2020-05-13 04:21:17,399 INFO \n",
            " epoch:138, F1Macro: 0.93805\n"
          ],
          "name": "stderr"
        },
        {
          "output_type": "stream",
          "text": [
            "\b\b\b\b\b\b\b\b\b\b\b\b\b\b\b\b\b\b\b\b\b\b\b\b\b\b\b\b\b\b\b\b\b\b\b\b\b\b\b\b\b\b\b\b\b\b\b\b\b\b\b\b\b\b\b\b\b\b\b\b\b\b\b\b\b\b\b\b\b\b\b\b\b\b\b\b\b\b\b\b\b\b\b\b\r125/125 [==============================] - 34s 275ms/step - loss: 0.0915 - accuracy: 0.9690 - val_loss: 0.0971 - val_accuracy: 0.9667 - lr: 1.0000e-05\n",
            "Epoch 140/180\n",
            "125/125 [==============================] - ETA: 0s - loss: 0.0916 - accuracy: 0.9690\n",
            "Epoch 00140: val_accuracy did not improve from 0.96697\n"
          ],
          "name": "stdout"
        },
        {
          "output_type": "stream",
          "text": [
            "2020-05-13 04:21:52,044 INFO \n",
            " epoch:139, F1Macro: 0.93792\n"
          ],
          "name": "stderr"
        },
        {
          "output_type": "stream",
          "text": [
            "\b\b\b\b\b\b\b\b\b\b\b\b\b\b\b\b\b\b\b\b\b\b\b\b\b\b\b\b\b\b\b\b\b\b\b\b\b\b\b\b\b\b\b\b\b\b\b\b\b\b\b\b\b\b\b\b\b\b\b\b\b\b\b\b\b\b\b\b\b\b\b\b\b\b\b\b\b\b\b\b\b\b\b\b\r125/125 [==============================] - 34s 275ms/step - loss: 0.0916 - accuracy: 0.9690 - val_loss: 0.0973 - val_accuracy: 0.9666 - lr: 1.0000e-05\n",
            "Epoch 141/180\n",
            "125/125 [==============================] - ETA: 0s - loss: 0.0914 - accuracy: 0.9691\n",
            "Epoch 00141: val_accuracy did not improve from 0.96697\n"
          ],
          "name": "stdout"
        },
        {
          "output_type": "stream",
          "text": [
            "2020-05-13 04:22:26,676 INFO \n",
            " epoch:140, F1Macro: 0.93789\n"
          ],
          "name": "stderr"
        },
        {
          "output_type": "stream",
          "text": [
            "\b\b\b\b\b\b\b\b\b\b\b\b\b\b\b\b\b\b\b\b\b\b\b\b\b\b\b\b\b\b\b\b\b\b\b\b\b\b\b\b\b\b\b\b\b\b\b\b\b\b\b\b\b\b\b\b\b\b\b\b\b\b\b\b\b\b\b\b\b\b\b\b\b\b\b\b\b\b\b\b\b\b\b\b\r125/125 [==============================] - 34s 275ms/step - loss: 0.0914 - accuracy: 0.9691 - val_loss: 0.0970 - val_accuracy: 0.9667 - lr: 1.0000e-05\n",
            "Epoch 142/180\n",
            "125/125 [==============================] - ETA: 0s - loss: 0.0914 - accuracy: 0.9691\n",
            "Epoch 00142: val_accuracy did not improve from 0.96697\n"
          ],
          "name": "stdout"
        },
        {
          "output_type": "stream",
          "text": [
            "2020-05-13 04:23:01,369 INFO \n",
            " epoch:141, F1Macro: 0.93814\n"
          ],
          "name": "stderr"
        },
        {
          "output_type": "stream",
          "text": [
            "\b\b\b\b\b\b\b\b\b\b\b\b\b\b\b\b\b\b\b\b\b\b\b\b\b\b\b\b\b\b\b\b\b\b\b\b\b\b\b\b\b\b\b\b\b\b\b\b\b\b\b\b\b\b\b\b\b\b\b\b\b\b\b\b\b\b\b\b\b\b\b\b\b\b\b\b\b\b\b\b\b\b\b\b\r125/125 [==============================] - 34s 275ms/step - loss: 0.0914 - accuracy: 0.9691 - val_loss: 0.0968 - val_accuracy: 0.9668 - lr: 1.0000e-05\n",
            "Epoch 143/180\n",
            "125/125 [==============================] - ETA: 0s - loss: 0.0917 - accuracy: 0.9690\n",
            "Epoch 00143: val_accuracy did not improve from 0.96697\n"
          ],
          "name": "stdout"
        },
        {
          "output_type": "stream",
          "text": [
            "2020-05-13 04:23:36,059 INFO \n",
            " epoch:142, F1Macro: 0.93795\n"
          ],
          "name": "stderr"
        },
        {
          "output_type": "stream",
          "text": [
            "\b\b\b\b\b\b\b\b\b\b\b\b\b\b\b\b\b\b\b\b\b\b\b\b\b\b\b\b\b\b\b\b\b\b\b\b\b\b\b\b\b\b\b\b\b\b\b\b\b\b\b\b\b\b\b\b\b\b\b\b\b\b\b\b\b\b\b\b\b\b\b\b\b\b\b\b\b\b\b\b\b\b\b\b\r125/125 [==============================] - 34s 275ms/step - loss: 0.0917 - accuracy: 0.9690 - val_loss: 0.0972 - val_accuracy: 0.9666 - lr: 1.0000e-05\n",
            "Epoch 144/180\n",
            "125/125 [==============================] - ETA: 0s - loss: 0.0913 - accuracy: 0.9692\n",
            "Epoch 00144: val_accuracy did not improve from 0.96697\n"
          ],
          "name": "stdout"
        },
        {
          "output_type": "stream",
          "text": [
            "2020-05-13 04:24:10,562 INFO \n",
            " epoch:143, F1Macro: 0.93773\n"
          ],
          "name": "stderr"
        },
        {
          "output_type": "stream",
          "text": [
            "\b\b\b\b\b\b\b\b\b\b\b\b\b\b\b\b\b\b\b\b\b\b\b\b\b\b\b\b\b\b\b\b\b\b\b\b\b\b\b\b\b\b\b\b\b\b\b\b\b\b\b\b\b\b\b\b\b\b\b\b\b\b\b\b\b\b\b\b\b\b\b\b\b\b\b\b\b\b\b\b\b\b\b\b\r125/125 [==============================] - 34s 274ms/step - loss: 0.0913 - accuracy: 0.9692 - val_loss: 0.0971 - val_accuracy: 0.9667 - lr: 1.0000e-05\n",
            "Epoch 145/180\n",
            "125/125 [==============================] - ETA: 0s - loss: 0.0913 - accuracy: 0.9691\n",
            "Epoch 00145: val_accuracy did not improve from 0.96697\n"
          ],
          "name": "stdout"
        },
        {
          "output_type": "stream",
          "text": [
            "2020-05-13 04:24:45,111 INFO \n",
            " epoch:144, F1Macro: 0.93798\n"
          ],
          "name": "stderr"
        },
        {
          "output_type": "stream",
          "text": [
            "\b\b\b\b\b\b\b\b\b\b\b\b\b\b\b\b\b\b\b\b\b\b\b\b\b\b\b\b\b\b\b\b\b\b\b\b\b\b\b\b\b\b\b\b\b\b\b\b\b\b\b\b\b\b\b\b\b\b\b\b\b\b\b\b\b\b\b\b\b\b\b\b\b\b\b\b\b\b\b\b\b\b\b\b\r125/125 [==============================] - 34s 274ms/step - loss: 0.0913 - accuracy: 0.9691 - val_loss: 0.0968 - val_accuracy: 0.9668 - lr: 1.0000e-05\n",
            "Epoch 146/180\n",
            "125/125 [==============================] - ETA: 0s - loss: 0.0910 - accuracy: 0.9692\n",
            "Epoch 00146: val_accuracy did not improve from 0.96697\n"
          ],
          "name": "stdout"
        },
        {
          "output_type": "stream",
          "text": [
            "2020-05-13 04:25:19,641 INFO \n",
            " epoch:145, F1Macro: 0.93840\n"
          ],
          "name": "stderr"
        },
        {
          "output_type": "stream",
          "text": [
            "\b\b\b\b\b\b\b\b\b\b\b\b\b\b\b\b\b\b\b\b\b\b\b\b\b\b\b\b\b\b\b\b\b\b\b\b\b\b\b\b\b\b\b\b\b\b\b\b\b\b\b\b\b\b\b\b\b\b\b\b\b\b\b\b\b\b\b\b\b\b\b\b\b\b\b\b\b\b\b\b\b\b\b\b\r125/125 [==============================] - 35s 280ms/step - loss: 0.0910 - accuracy: 0.9692 - val_loss: 0.0964 - val_accuracy: 0.9669 - lr: 1.0000e-05\n",
            "Epoch 147/180\n",
            "125/125 [==============================] - ETA: 0s - loss: 0.0913 - accuracy: 0.9691\n",
            "Epoch 00147: val_accuracy did not improve from 0.96697\n"
          ],
          "name": "stdout"
        },
        {
          "output_type": "stream",
          "text": [
            "2020-05-13 04:25:54,932 INFO \n",
            " epoch:146, F1Macro: 0.93822\n"
          ],
          "name": "stderr"
        },
        {
          "output_type": "stream",
          "text": [
            "\b\b\b\b\b\b\b\b\b\b\b\b\b\b\b\b\b\b\b\b\b\b\b\b\b\b\b\b\b\b\b\b\b\b\b\b\b\b\b\b\b\b\b\b\b\b\b\b\b\b\b\b\b\b\b\b\b\b\b\b\b\b\b\b\b\b\b\b\b\b\b\b\b\b\b\b\b\b\b\b\b\b\b\b\r125/125 [==============================] - 34s 274ms/step - loss: 0.0913 - accuracy: 0.9691 - val_loss: 0.0966 - val_accuracy: 0.9668 - lr: 1.0000e-05\n",
            "Epoch 148/180\n",
            "125/125 [==============================] - ETA: 0s - loss: 0.0915 - accuracy: 0.9690\n",
            "Epoch 00148: val_accuracy did not improve from 0.96697\n"
          ],
          "name": "stdout"
        },
        {
          "output_type": "stream",
          "text": [
            "2020-05-13 04:26:29,550 INFO \n",
            " epoch:147, F1Macro: 0.93780\n"
          ],
          "name": "stderr"
        },
        {
          "output_type": "stream",
          "text": [
            "\b\b\b\b\b\b\b\b\b\b\b\b\b\b\b\b\b\b\b\b\b\b\b\b\b\b\b\b\b\b\b\b\b\b\b\b\b\b\b\b\b\b\b\b\b\b\b\b\b\b\b\b\b\b\b\b\b\b\b\b\b\b\b\b\b\b\b\b\b\b\b\b\b\b\b\b\b\b\b\b\b\b\b\b\r125/125 [==============================] - 34s 275ms/step - loss: 0.0915 - accuracy: 0.9690 - val_loss: 0.0972 - val_accuracy: 0.9666 - lr: 1.0000e-05\n",
            "Epoch 149/180\n",
            "125/125 [==============================] - ETA: 0s - loss: 0.0910 - accuracy: 0.9692\n",
            "Epoch 00149: val_accuracy did not improve from 0.96697\n"
          ],
          "name": "stdout"
        },
        {
          "output_type": "stream",
          "text": [
            "2020-05-13 04:27:04,159 INFO \n",
            " epoch:148, F1Macro: 0.93802\n"
          ],
          "name": "stderr"
        },
        {
          "output_type": "stream",
          "text": [
            "\b\b\b\b\b\b\b\b\b\b\b\b\b\b\b\b\b\b\b\b\b\b\b\b\b\b\b\b\b\b\b\b\b\b\b\b\b\b\b\b\b\b\b\b\b\b\b\b\b\b\b\b\b\b\b\b\b\b\b\b\b\b\b\b\b\b\b\b\b\b\b\b\b\b\b\b\b\b\b\b\b\b\b\b\r125/125 [==============================] - 34s 275ms/step - loss: 0.0910 - accuracy: 0.9692 - val_loss: 0.0967 - val_accuracy: 0.9668 - lr: 1.0000e-05\n",
            "Epoch 150/180\n",
            "125/125 [==============================] - ETA: 0s - loss: 0.0911 - accuracy: 0.9691\n",
            "Epoch 00150: val_accuracy did not improve from 0.96697\n"
          ],
          "name": "stdout"
        },
        {
          "output_type": "stream",
          "text": [
            "2020-05-13 04:27:38,656 INFO \n",
            " epoch:149, F1Macro: 0.93808\n"
          ],
          "name": "stderr"
        },
        {
          "output_type": "stream",
          "text": [
            "\b\b\b\b\b\b\b\b\b\b\b\b\b\b\b\b\b\b\b\b\b\b\b\b\b\b\b\b\b\b\b\b\b\b\b\b\b\b\b\b\b\b\b\b\b\b\b\b\b\b\b\b\b\b\b\b\b\b\b\b\b\b\b\b\b\b\b\b\b\b\b\b\b\b\b\b\b\b\b\b\b\b\b\b\r125/125 [==============================] - 34s 274ms/step - loss: 0.0911 - accuracy: 0.9691 - val_loss: 0.0967 - val_accuracy: 0.9667 - lr: 1.0000e-05\n",
            "Epoch 151/180\n",
            "125/125 [==============================] - ETA: 0s - loss: 0.0913 - accuracy: 0.9691\n",
            "Epoch 00151: val_accuracy did not improve from 0.96697\n"
          ],
          "name": "stdout"
        },
        {
          "output_type": "stream",
          "text": [
            "2020-05-13 04:28:13,129 INFO \n",
            " epoch:150, F1Macro: 0.93811\n"
          ],
          "name": "stderr"
        },
        {
          "output_type": "stream",
          "text": [
            "\b\b\b\b\b\b\b\b\b\b\b\b\b\b\b\b\b\b\b\b\b\b\b\b\b\b\b\b\b\b\b\b\b\b\b\b\b\b\b\b\b\b\b\b\b\b\b\b\b\b\b\b\b\b\b\b\b\b\b\b\b\b\b\b\b\b\b\b\b\b\b\b\b\b\b\b\b\b\b\b\b\b\b\b\r125/125 [==============================] - 34s 274ms/step - loss: 0.0913 - accuracy: 0.9691 - val_loss: 0.0966 - val_accuracy: 0.9668 - lr: 1.0000e-06\n",
            "Epoch 152/180\n",
            "125/125 [==============================] - ETA: 0s - loss: 0.0910 - accuracy: 0.9692\n",
            "Epoch 00152: val_accuracy did not improve from 0.96697\n"
          ],
          "name": "stdout"
        },
        {
          "output_type": "stream",
          "text": [
            "2020-05-13 04:28:47,633 INFO \n",
            " epoch:151, F1Macro: 0.93812\n"
          ],
          "name": "stderr"
        },
        {
          "output_type": "stream",
          "text": [
            "\b\b\b\b\b\b\b\b\b\b\b\b\b\b\b\b\b\b\b\b\b\b\b\b\b\b\b\b\b\b\b\b\b\b\b\b\b\b\b\b\b\b\b\b\b\b\b\b\b\b\b\b\b\b\b\b\b\b\b\b\b\b\b\b\b\b\b\b\b\b\b\b\b\b\b\b\b\b\b\b\b\b\b\b\r125/125 [==============================] - 34s 274ms/step - loss: 0.0910 - accuracy: 0.9692 - val_loss: 0.0967 - val_accuracy: 0.9668 - lr: 1.0000e-06\n",
            "Epoch 153/180\n",
            "125/125 [==============================] - ETA: 0s - loss: 0.0910 - accuracy: 0.9691\n",
            "Epoch 00153: val_accuracy did not improve from 0.96697\n"
          ],
          "name": "stdout"
        },
        {
          "output_type": "stream",
          "text": [
            "2020-05-13 04:29:22,139 INFO \n",
            " epoch:152, F1Macro: 0.93820\n"
          ],
          "name": "stderr"
        },
        {
          "output_type": "stream",
          "text": [
            "\b\b\b\b\b\b\b\b\b\b\b\b\b\b\b\b\b\b\b\b\b\b\b\b\b\b\b\b\b\b\b\b\b\b\b\b\b\b\b\b\b\b\b\b\b\b\b\b\b\b\b\b\b\b\b\b\b\b\b\b\b\b\b\b\b\b\b\b\b\b\b\b\b\b\b\b\b\b\b\b\b\b\b\b\r125/125 [==============================] - 34s 274ms/step - loss: 0.0910 - accuracy: 0.9691 - val_loss: 0.0965 - val_accuracy: 0.9668 - lr: 1.0000e-06\n",
            "Epoch 154/180\n",
            "125/125 [==============================] - ETA: 0s - loss: 0.0914 - accuracy: 0.9691\n",
            "Epoch 00154: val_accuracy did not improve from 0.96697\n"
          ],
          "name": "stdout"
        },
        {
          "output_type": "stream",
          "text": [
            "2020-05-13 04:29:56,619 INFO \n",
            " epoch:153, F1Macro: 0.93818\n"
          ],
          "name": "stderr"
        },
        {
          "output_type": "stream",
          "text": [
            "\b\b\b\b\b\b\b\b\b\b\b\b\b\b\b\b\b\b\b\b\b\b\b\b\b\b\b\b\b\b\b\b\b\b\b\b\b\b\b\b\b\b\b\b\b\b\b\b\b\b\b\b\b\b\b\b\b\b\b\b\b\b\b\b\b\b\b\b\b\b\b\b\b\b\b\b\b\b\b\b\b\b\b\b\r125/125 [==============================] - 34s 274ms/step - loss: 0.0914 - accuracy: 0.9691 - val_loss: 0.0965 - val_accuracy: 0.9668 - lr: 1.0000e-06\n",
            "Epoch 155/180\n",
            "125/125 [==============================] - ETA: 0s - loss: 0.0909 - accuracy: 0.9692\n",
            "Epoch 00155: val_accuracy did not improve from 0.96697\n"
          ],
          "name": "stdout"
        },
        {
          "output_type": "stream",
          "text": [
            "2020-05-13 04:30:31,107 INFO \n",
            " epoch:154, F1Macro: 0.93812\n"
          ],
          "name": "stderr"
        },
        {
          "output_type": "stream",
          "text": [
            "\b\b\b\b\b\b\b\b\b\b\b\b\b\b\b\b\b\b\b\b\b\b\b\b\b\b\b\b\b\b\b\b\b\b\b\b\b\b\b\b\b\b\b\b\b\b\b\b\b\b\b\b\b\b\b\b\b\b\b\b\b\b\b\b\b\b\b\b\b\b\b\b\b\b\b\b\b\b\b\b\b\b\b\b\r125/125 [==============================] - 34s 274ms/step - loss: 0.0909 - accuracy: 0.9692 - val_loss: 0.0967 - val_accuracy: 0.9668 - lr: 1.0000e-06\n",
            "Epoch 156/180\n",
            "125/125 [==============================] - ETA: 0s - loss: 0.0915 - accuracy: 0.9690\n",
            "Epoch 00156: val_accuracy did not improve from 0.96697\n"
          ],
          "name": "stdout"
        },
        {
          "output_type": "stream",
          "text": [
            "2020-05-13 04:31:05,660 INFO \n",
            " epoch:155, F1Macro: 0.93793\n"
          ],
          "name": "stderr"
        },
        {
          "output_type": "stream",
          "text": [
            "\b\b\b\b\b\b\b\b\b\b\b\b\b\b\b\b\b\b\b\b\b\b\b\b\b\b\b\b\b\b\b\b\b\b\b\b\b\b\b\b\b\b\b\b\b\b\b\b\b\b\b\b\b\b\b\b\b\b\b\b\b\b\b\b\b\b\b\b\b\b\b\b\b\b\b\b\b\b\b\b\b\b\b\b\r125/125 [==============================] - 34s 274ms/step - loss: 0.0915 - accuracy: 0.9690 - val_loss: 0.0971 - val_accuracy: 0.9666 - lr: 1.0000e-06\n",
            "Epoch 157/180\n",
            "125/125 [==============================] - ETA: 0s - loss: 0.0909 - accuracy: 0.9692\n",
            "Epoch 00157: val_accuracy did not improve from 0.96697\n"
          ],
          "name": "stdout"
        },
        {
          "output_type": "stream",
          "text": [
            "2020-05-13 04:31:40,164 INFO \n",
            " epoch:156, F1Macro: 0.93810\n"
          ],
          "name": "stderr"
        },
        {
          "output_type": "stream",
          "text": [
            "\b\b\b\b\b\b\b\b\b\b\b\b\b\b\b\b\b\b\b\b\b\b\b\b\b\b\b\b\b\b\b\b\b\b\b\b\b\b\b\b\b\b\b\b\b\b\b\b\b\b\b\b\b\b\b\b\b\b\b\b\b\b\b\b\b\b\b\b\b\b\b\b\b\b\b\b\b\b\b\b\b\b\b\b\r125/125 [==============================] - 34s 274ms/step - loss: 0.0909 - accuracy: 0.9692 - val_loss: 0.0966 - val_accuracy: 0.9668 - lr: 1.0000e-06\n",
            "Epoch 158/180\n",
            "125/125 [==============================] - ETA: 0s - loss: 0.0912 - accuracy: 0.9691\n",
            "Epoch 00158: val_accuracy did not improve from 0.96697\n"
          ],
          "name": "stdout"
        },
        {
          "output_type": "stream",
          "text": [
            "2020-05-13 04:32:14,587 INFO \n",
            " epoch:157, F1Macro: 0.93817\n"
          ],
          "name": "stderr"
        },
        {
          "output_type": "stream",
          "text": [
            "\b\b\b\b\b\b\b\b\b\b\b\b\b\b\b\b\b\b\b\b\b\b\b\b\b\b\b\b\b\b\b\b\b\b\b\b\b\b\b\b\b\b\b\b\b\b\b\b\b\b\b\b\b\b\b\b\b\b\b\b\b\b\b\b\b\b\b\b\b\b\b\b\b\b\b\b\b\b\b\b\b\b\b\b\r125/125 [==============================] - 34s 273ms/step - loss: 0.0912 - accuracy: 0.9691 - val_loss: 0.0966 - val_accuracy: 0.9668 - lr: 1.0000e-06\n",
            "Epoch 159/180\n",
            "125/125 [==============================] - ETA: 0s - loss: 0.0910 - accuracy: 0.9692\n",
            "Epoch 00159: val_accuracy did not improve from 0.96697\n"
          ],
          "name": "stdout"
        },
        {
          "output_type": "stream",
          "text": [
            "2020-05-13 04:32:49,107 INFO \n",
            " epoch:158, F1Macro: 0.93822\n"
          ],
          "name": "stderr"
        },
        {
          "output_type": "stream",
          "text": [
            "\b\b\b\b\b\b\b\b\b\b\b\b\b\b\b\b\b\b\b\b\b\b\b\b\b\b\b\b\b\b\b\b\b\b\b\b\b\b\b\b\b\b\b\b\b\b\b\b\b\b\b\b\b\b\b\b\b\b\b\b\b\b\b\b\b\b\b\b\b\b\b\b\b\b\b\b\b\b\b\b\b\b\b\b\r125/125 [==============================] - 34s 274ms/step - loss: 0.0910 - accuracy: 0.9692 - val_loss: 0.0964 - val_accuracy: 0.9669 - lr: 1.0000e-06\n",
            "Epoch 160/180\n",
            "125/125 [==============================] - ETA: 0s - loss: 0.0910 - accuracy: 0.9692\n",
            "Epoch 00160: val_accuracy did not improve from 0.96697\n"
          ],
          "name": "stdout"
        },
        {
          "output_type": "stream",
          "text": [
            "2020-05-13 04:33:23,643 INFO \n",
            " epoch:159, F1Macro: 0.93818\n"
          ],
          "name": "stderr"
        },
        {
          "output_type": "stream",
          "text": [
            "\b\b\b\b\b\b\b\b\b\b\b\b\b\b\b\b\b\b\b\b\b\b\b\b\b\b\b\b\b\b\b\b\b\b\b\b\b\b\b\b\b\b\b\b\b\b\b\b\b\b\b\b\b\b\b\b\b\b\b\b\b\b\b\b\b\b\b\b\b\b\b\b\b\b\b\b\b\b\b\b\b\b\b\b\r125/125 [==============================] - 34s 274ms/step - loss: 0.0910 - accuracy: 0.9692 - val_loss: 0.0965 - val_accuracy: 0.9668 - lr: 1.0000e-06\n",
            "Epoch 161/180\n",
            "125/125 [==============================] - ETA: 0s - loss: 0.0912 - accuracy: 0.9691\n",
            "Epoch 00161: val_accuracy did not improve from 0.96697\n"
          ],
          "name": "stdout"
        },
        {
          "output_type": "stream",
          "text": [
            "2020-05-13 04:33:58,099 INFO \n",
            " epoch:160, F1Macro: 0.93809\n"
          ],
          "name": "stderr"
        },
        {
          "output_type": "stream",
          "text": [
            "\b\b\b\b\b\b\b\b\b\b\b\b\b\b\b\b\b\b\b\b\b\b\b\b\b\b\b\b\b\b\b\b\b\b\b\b\b\b\b\b\b\b\b\b\b\b\b\b\b\b\b\b\b\b\b\b\b\b\b\b\b\b\b\b\b\b\b\b\b\b\b\b\b\b\b\b\b\b\b\b\b\b\b\b\r125/125 [==============================] - 34s 274ms/step - loss: 0.0912 - accuracy: 0.9691 - val_loss: 0.0967 - val_accuracy: 0.9668 - lr: 1.0000e-06\n",
            "Epoch 162/180\n",
            "125/125 [==============================] - ETA: 0s - loss: 0.0908 - accuracy: 0.9692\n",
            "Epoch 00162: val_accuracy did not improve from 0.96697\n"
          ],
          "name": "stdout"
        },
        {
          "output_type": "stream",
          "text": [
            "2020-05-13 04:34:32,574 INFO \n",
            " epoch:161, F1Macro: 0.93816\n"
          ],
          "name": "stderr"
        },
        {
          "output_type": "stream",
          "text": [
            "\b\b\b\b\b\b\b\b\b\b\b\b\b\b\b\b\b\b\b\b\b\b\b\b\b\b\b\b\b\b\b\b\b\b\b\b\b\b\b\b\b\b\b\b\b\b\b\b\b\b\b\b\b\b\b\b\b\b\b\b\b\b\b\b\b\b\b\b\b\b\b\b\b\b\b\b\b\b\b\b\b\b\b\b\r125/125 [==============================] - 34s 274ms/step - loss: 0.0908 - accuracy: 0.9692 - val_loss: 0.0965 - val_accuracy: 0.9668 - lr: 1.0000e-06\n",
            "Epoch 163/180\n",
            "125/125 [==============================] - ETA: 0s - loss: 0.0909 - accuracy: 0.9692\n",
            "Epoch 00163: val_accuracy did not improve from 0.96697\n"
          ],
          "name": "stdout"
        },
        {
          "output_type": "stream",
          "text": [
            "2020-05-13 04:35:07,110 INFO \n",
            " epoch:162, F1Macro: 0.93821\n"
          ],
          "name": "stderr"
        },
        {
          "output_type": "stream",
          "text": [
            "\b\b\b\b\b\b\b\b\b\b\b\b\b\b\b\b\b\b\b\b\b\b\b\b\b\b\b\b\b\b\b\b\b\b\b\b\b\b\b\b\b\b\b\b\b\b\b\b\b\b\b\b\b\b\b\b\b\b\b\b\b\b\b\b\b\b\b\b\b\b\b\b\b\b\b\b\b\b\b\b\b\b\b\b\r125/125 [==============================] - 34s 274ms/step - loss: 0.0909 - accuracy: 0.9692 - val_loss: 0.0963 - val_accuracy: 0.9669 - lr: 1.0000e-06\n",
            "Epoch 164/180\n",
            "125/125 [==============================] - ETA: 0s - loss: 0.0908 - accuracy: 0.9692\n",
            "Epoch 00164: val_accuracy did not improve from 0.96697\n"
          ],
          "name": "stdout"
        },
        {
          "output_type": "stream",
          "text": [
            "2020-05-13 04:35:41,880 INFO \n",
            " epoch:163, F1Macro: 0.93818\n"
          ],
          "name": "stderr"
        },
        {
          "output_type": "stream",
          "text": [
            "\b\b\b\b\b\b\b\b\b\b\b\b\b\b\b\b\b\b\b\b\b\b\b\b\b\b\b\b\b\b\b\b\b\b\b\b\b\b\b\b\b\b\b\b\b\b\b\b\b\b\b\b\b\b\b\b\b\b\b\b\b\b\b\b\b\b\b\b\b\b\b\b\b\b\b\b\b\b\b\b\b\b\b\b\r125/125 [==============================] - 35s 276ms/step - loss: 0.0908 - accuracy: 0.9692 - val_loss: 0.0966 - val_accuracy: 0.9668 - lr: 1.0000e-06\n",
            "Epoch 165/180\n",
            "125/125 [==============================] - ETA: 0s - loss: 0.0913 - accuracy: 0.9691\n",
            "Epoch 00165: val_accuracy did not improve from 0.96697\n"
          ],
          "name": "stdout"
        },
        {
          "output_type": "stream",
          "text": [
            "2020-05-13 04:36:16,494 INFO \n",
            " epoch:164, F1Macro: 0.93807\n"
          ],
          "name": "stderr"
        },
        {
          "output_type": "stream",
          "text": [
            "\b\b\b\b\b\b\b\b\b\b\b\b\b\b\b\b\b\b\b\b\b\b\b\b\b\b\b\b\b\b\b\b\b\b\b\b\b\b\b\b\b\b\b\b\b\b\b\b\b\b\b\b\b\b\b\b\b\b\b\b\b\b\b\b\b\b\b\b\b\b\b\b\b\b\b\b\b\b\b\b\b\b\b\b\r125/125 [==============================] - 34s 275ms/step - loss: 0.0913 - accuracy: 0.9691 - val_loss: 0.0967 - val_accuracy: 0.9667 - lr: 1.0000e-06\n",
            "Epoch 166/180\n",
            "125/125 [==============================] - ETA: 0s - loss: 0.0909 - accuracy: 0.9692\n",
            "Epoch 00166: val_accuracy did not improve from 0.96697\n"
          ],
          "name": "stdout"
        },
        {
          "output_type": "stream",
          "text": [
            "2020-05-13 04:36:51,216 INFO \n",
            " epoch:165, F1Macro: 0.93805\n"
          ],
          "name": "stderr"
        },
        {
          "output_type": "stream",
          "text": [
            "\b\b\b\b\b\b\b\b\b\b\b\b\b\b\b\b\b\b\b\b\b\b\b\b\b\b\b\b\b\b\b\b\b\b\b\b\b\b\b\b\b\b\b\b\b\b\b\b\b\b\b\b\b\b\b\b\b\b\b\b\b\b\b\b\b\b\b\b\b\b\b\b\b\b\b\b\b\b\b\b\b\b\b\b\r125/125 [==============================] - 34s 276ms/step - loss: 0.0909 - accuracy: 0.9692 - val_loss: 0.0968 - val_accuracy: 0.9667 - lr: 1.0000e-06\n",
            "Epoch 167/180\n",
            "125/125 [==============================] - ETA: 0s - loss: 0.0910 - accuracy: 0.9692\n",
            "Epoch 00167: val_accuracy did not improve from 0.96697\n"
          ],
          "name": "stdout"
        },
        {
          "output_type": "stream",
          "text": [
            "2020-05-13 04:37:26,022 INFO \n",
            " epoch:166, F1Macro: 0.93811\n"
          ],
          "name": "stderr"
        },
        {
          "output_type": "stream",
          "text": [
            "\b\b\b\b\b\b\b\b\b\b\b\b\b\b\b\b\b\b\b\b\b\b\b\b\b\b\b\b\b\b\b\b\b\b\b\b\b\b\b\b\b\b\b\b\b\b\b\b\b\b\b\b\b\b\b\b\b\b\b\b\b\b\b\b\b\b\b\b\b\b\b\b\b\b\b\b\b\b\b\b\b\b\b\b\r125/125 [==============================] - 35s 276ms/step - loss: 0.0910 - accuracy: 0.9692 - val_loss: 0.0966 - val_accuracy: 0.9668 - lr: 1.0000e-06\n",
            "Epoch 168/180\n",
            "125/125 [==============================] - ETA: 0s - loss: 0.0910 - accuracy: 0.9692\n",
            "Epoch 00168: val_accuracy did not improve from 0.96697\n"
          ],
          "name": "stdout"
        },
        {
          "output_type": "stream",
          "text": [
            "2020-05-13 04:38:00,795 INFO \n",
            " epoch:167, F1Macro: 0.93813\n"
          ],
          "name": "stderr"
        },
        {
          "output_type": "stream",
          "text": [
            "\b\b\b\b\b\b\b\b\b\b\b\b\b\b\b\b\b\b\b\b\b\b\b\b\b\b\b\b\b\b\b\b\b\b\b\b\b\b\b\b\b\b\b\b\b\b\b\b\b\b\b\b\b\b\b\b\b\b\b\b\b\b\b\b\b\b\b\b\b\b\b\b\b\b\b\b\b\b\b\b\b\b\b\b\r125/125 [==============================] - 35s 276ms/step - loss: 0.0910 - accuracy: 0.9692 - val_loss: 0.0966 - val_accuracy: 0.9668 - lr: 1.0000e-06\n",
            "Epoch 169/180\n",
            "125/125 [==============================] - ETA: 0s - loss: 0.0910 - accuracy: 0.9692\n",
            "Epoch 00169: val_accuracy did not improve from 0.96697\n"
          ],
          "name": "stdout"
        },
        {
          "output_type": "stream",
          "text": [
            "2020-05-13 04:38:35,587 INFO \n",
            " epoch:168, F1Macro: 0.93809\n"
          ],
          "name": "stderr"
        },
        {
          "output_type": "stream",
          "text": [
            "\b\b\b\b\b\b\b\b\b\b\b\b\b\b\b\b\b\b\b\b\b\b\b\b\b\b\b\b\b\b\b\b\b\b\b\b\b\b\b\b\b\b\b\b\b\b\b\b\b\b\b\b\b\b\b\b\b\b\b\b\b\b\b\b\b\b\b\b\b\b\b\b\b\b\b\b\b\b\b\b\b\b\b\b\r125/125 [==============================] - 35s 276ms/step - loss: 0.0910 - accuracy: 0.9692 - val_loss: 0.0967 - val_accuracy: 0.9668 - lr: 1.0000e-06\n",
            "Epoch 170/180\n",
            "125/125 [==============================] - ETA: 0s - loss: 0.0911 - accuracy: 0.9691\n",
            "Epoch 00170: val_accuracy did not improve from 0.96697\n"
          ],
          "name": "stdout"
        },
        {
          "output_type": "stream",
          "text": [
            "2020-05-13 04:39:10,511 INFO \n",
            " epoch:169, F1Macro: 0.93812\n"
          ],
          "name": "stderr"
        },
        {
          "output_type": "stream",
          "text": [
            "\b\b\b\b\b\b\b\b\b\b\b\b\b\b\b\b\b\b\b\b\b\b\b\b\b\b\b\b\b\b\b\b\b\b\b\b\b\b\b\b\b\b\b\b\b\b\b\b\b\b\b\b\b\b\b\b\b\b\b\b\b\b\b\b\b\b\b\b\b\b\b\b\b\b\b\b\b\b\b\b\b\b\b\b\r125/125 [==============================] - 35s 277ms/step - loss: 0.0911 - accuracy: 0.9691 - val_loss: 0.0966 - val_accuracy: 0.9668 - lr: 1.0000e-06\n",
            "Epoch 171/180\n",
            "125/125 [==============================] - ETA: 0s - loss: 0.0910 - accuracy: 0.9691\n",
            "Epoch 00171: val_accuracy did not improve from 0.96697\n"
          ],
          "name": "stdout"
        },
        {
          "output_type": "stream",
          "text": [
            "2020-05-13 04:39:45,406 INFO \n",
            " epoch:170, F1Macro: 0.93811\n"
          ],
          "name": "stderr"
        },
        {
          "output_type": "stream",
          "text": [
            "\b\b\b\b\b\b\b\b\b\b\b\b\b\b\b\b\b\b\b\b\b\b\b\b\b\b\b\b\b\b\b\b\b\b\b\b\b\b\b\b\b\b\b\b\b\b\b\b\b\b\b\b\b\b\b\b\b\b\b\b\b\b\b\b\b\b\b\b\b\b\b\b\b\b\b\b\b\b\b\b\b\b\b\b\r125/125 [==============================] - 35s 277ms/step - loss: 0.0910 - accuracy: 0.9691 - val_loss: 0.0966 - val_accuracy: 0.9668 - lr: 1.0000e-06\n",
            "Epoch 172/180\n",
            "125/125 [==============================] - ETA: 0s - loss: 0.0911 - accuracy: 0.9691\n",
            "Epoch 00172: val_accuracy did not improve from 0.96697\n"
          ],
          "name": "stdout"
        },
        {
          "output_type": "stream",
          "text": [
            "2020-05-13 04:40:20,369 INFO \n",
            " epoch:171, F1Macro: 0.93815\n"
          ],
          "name": "stderr"
        },
        {
          "output_type": "stream",
          "text": [
            "\b\b\b\b\b\b\b\b\b\b\b\b\b\b\b\b\b\b\b\b\b\b\b\b\b\b\b\b\b\b\b\b\b\b\b\b\b\b\b\b\b\b\b\b\b\b\b\b\b\b\b\b\b\b\b\b\b\b\b\b\b\b\b\b\b\b\b\b\b\b\b\b\b\b\b\b\b\b\b\b\b\b\b\b\r125/125 [==============================] - 35s 278ms/step - loss: 0.0911 - accuracy: 0.9691 - val_loss: 0.0965 - val_accuracy: 0.9668 - lr: 1.0000e-06\n",
            "Epoch 173/180\n",
            "125/125 [==============================] - ETA: 0s - loss: 0.0910 - accuracy: 0.9692\n",
            "Epoch 00173: val_accuracy did not improve from 0.96697\n"
          ],
          "name": "stdout"
        },
        {
          "output_type": "stream",
          "text": [
            "2020-05-13 04:40:55,395 INFO \n",
            " epoch:172, F1Macro: 0.93811\n"
          ],
          "name": "stderr"
        },
        {
          "output_type": "stream",
          "text": [
            "\b\b\b\b\b\b\b\b\b\b\b\b\b\b\b\b\b\b\b\b\b\b\b\b\b\b\b\b\b\b\b\b\b\b\b\b\b\b\b\b\b\b\b\b\b\b\b\b\b\b\b\b\b\b\b\b\b\b\b\b\b\b\b\b\b\b\b\b\b\b\b\b\b\b\b\b\b\b\b\b\b\b\b\b\r125/125 [==============================] - 35s 278ms/step - loss: 0.0910 - accuracy: 0.9692 - val_loss: 0.0966 - val_accuracy: 0.9668 - lr: 1.0000e-06\n",
            "Epoch 174/180\n",
            "125/125 [==============================] - ETA: 0s - loss: 0.0909 - accuracy: 0.9692\n",
            "Epoch 00174: val_accuracy did not improve from 0.96697\n"
          ],
          "name": "stdout"
        },
        {
          "output_type": "stream",
          "text": [
            "2020-05-13 04:41:30,370 INFO \n",
            " epoch:173, F1Macro: 0.93796\n"
          ],
          "name": "stderr"
        },
        {
          "output_type": "stream",
          "text": [
            "\b\b\b\b\b\b\b\b\b\b\b\b\b\b\b\b\b\b\b\b\b\b\b\b\b\b\b\b\b\b\b\b\b\b\b\b\b\b\b\b\b\b\b\b\b\b\b\b\b\b\b\b\b\b\b\b\b\b\b\b\b\b\b\b\b\b\b\b\b\b\b\b\b\b\b\b\b\b\b\b\b\b\b\b\r125/125 [==============================] - 35s 278ms/step - loss: 0.0909 - accuracy: 0.9692 - val_loss: 0.0969 - val_accuracy: 0.9667 - lr: 1.0000e-06\n",
            "Epoch 175/180\n",
            "125/125 [==============================] - ETA: 0s - loss: 0.0911 - accuracy: 0.9691\n",
            "Epoch 00175: val_accuracy did not improve from 0.96697\n"
          ],
          "name": "stdout"
        },
        {
          "output_type": "stream",
          "text": [
            "2020-05-13 04:42:05,323 INFO \n",
            " epoch:174, F1Macro: 0.93802\n"
          ],
          "name": "stderr"
        },
        {
          "output_type": "stream",
          "text": [
            "\b\b\b\b\b\b\b\b\b\b\b\b\b\b\b\b\b\b\b\b\b\b\b\b\b\b\b\b\b\b\b\b\b\b\b\b\b\b\b\b\b\b\b\b\b\b\b\b\b\b\b\b\b\b\b\b\b\b\b\b\b\b\b\b\b\b\b\b\b\b\b\b\b\b\b\b\b\b\b\b\b\b\b\b\r125/125 [==============================] - 35s 278ms/step - loss: 0.0911 - accuracy: 0.9691 - val_loss: 0.0968 - val_accuracy: 0.9667 - lr: 1.0000e-06\n",
            "Epoch 176/180\n",
            "125/125 [==============================] - ETA: 0s - loss: 0.0910 - accuracy: 0.9691\n",
            "Epoch 00176: val_accuracy did not improve from 0.96697\n"
          ],
          "name": "stdout"
        },
        {
          "output_type": "stream",
          "text": [
            "2020-05-13 04:42:40,326 INFO \n",
            " epoch:175, F1Macro: 0.93811\n"
          ],
          "name": "stderr"
        },
        {
          "output_type": "stream",
          "text": [
            "\b\b\b\b\b\b\b\b\b\b\b\b\b\b\b\b\b\b\b\b\b\b\b\b\b\b\b\b\b\b\b\b\b\b\b\b\b\b\b\b\b\b\b\b\b\b\b\b\b\b\b\b\b\b\b\b\b\b\b\b\b\b\b\b\b\b\b\b\b\b\b\b\b\b\b\b\b\b\b\b\b\b\b\b\r125/125 [==============================] - 35s 278ms/step - loss: 0.0910 - accuracy: 0.9691 - val_loss: 0.0966 - val_accuracy: 0.9668 - lr: 1.0000e-06\n",
            "Epoch 177/180\n",
            "125/125 [==============================] - ETA: 0s - loss: 0.0911 - accuracy: 0.9691\n",
            "Epoch 00177: val_accuracy did not improve from 0.96697\n"
          ],
          "name": "stdout"
        },
        {
          "output_type": "stream",
          "text": [
            "2020-05-13 04:43:15,330 INFO \n",
            " epoch:176, F1Macro: 0.93803\n"
          ],
          "name": "stderr"
        },
        {
          "output_type": "stream",
          "text": [
            "\b\b\b\b\b\b\b\b\b\b\b\b\b\b\b\b\b\b\b\b\b\b\b\b\b\b\b\b\b\b\b\b\b\b\b\b\b\b\b\b\b\b\b\b\b\b\b\b\b\b\b\b\b\b\b\b\b\b\b\b\b\b\b\b\b\b\b\b\b\b\b\b\b\b\b\b\b\b\b\b\b\b\b\b\r125/125 [==============================] - 35s 278ms/step - loss: 0.0911 - accuracy: 0.9691 - val_loss: 0.0968 - val_accuracy: 0.9667 - lr: 1.0000e-06\n",
            "Epoch 178/180\n",
            "125/125 [==============================] - ETA: 0s - loss: 0.0913 - accuracy: 0.9691\n",
            "Epoch 00178: val_accuracy did not improve from 0.96697\n"
          ],
          "name": "stdout"
        },
        {
          "output_type": "stream",
          "text": [
            "2020-05-13 04:43:50,140 INFO \n",
            " epoch:177, F1Macro: 0.93806\n"
          ],
          "name": "stderr"
        },
        {
          "output_type": "stream",
          "text": [
            "\b\b\b\b\b\b\b\b\b\b\b\b\b\b\b\b\b\b\b\b\b\b\b\b\b\b\b\b\b\b\b\b\b\b\b\b\b\b\b\b\b\b\b\b\b\b\b\b\b\b\b\b\b\b\b\b\b\b\b\b\b\b\b\b\b\b\b\b\b\b\b\b\b\b\b\b\b\b\b\b\b\b\b\b\r125/125 [==============================] - 35s 276ms/step - loss: 0.0913 - accuracy: 0.9691 - val_loss: 0.0967 - val_accuracy: 0.9668 - lr: 1.0000e-06\n",
            "Epoch 179/180\n",
            "125/125 [==============================] - ETA: 0s - loss: 0.0909 - accuracy: 0.9692\n",
            "Epoch 00179: val_accuracy did not improve from 0.96697\n"
          ],
          "name": "stdout"
        },
        {
          "output_type": "stream",
          "text": [
            "2020-05-13 04:44:25,015 INFO \n",
            " epoch:178, F1Macro: 0.93807\n"
          ],
          "name": "stderr"
        },
        {
          "output_type": "stream",
          "text": [
            "\b\b\b\b\b\b\b\b\b\b\b\b\b\b\b\b\b\b\b\b\b\b\b\b\b\b\b\b\b\b\b\b\b\b\b\b\b\b\b\b\b\b\b\b\b\b\b\b\b\b\b\b\b\b\b\b\b\b\b\b\b\b\b\b\b\b\b\b\b\b\b\b\b\b\b\b\b\b\b\b\b\b\b\b\r125/125 [==============================] - 35s 277ms/step - loss: 0.0909 - accuracy: 0.9692 - val_loss: 0.0966 - val_accuracy: 0.9668 - lr: 1.0000e-06\n",
            "Epoch 180/180\n",
            "125/125 [==============================] - ETA: 0s - loss: 0.0907 - accuracy: 0.9693\n",
            "Epoch 00180: val_accuracy did not improve from 0.96697\n"
          ],
          "name": "stdout"
        },
        {
          "output_type": "stream",
          "text": [
            "2020-05-13 04:44:59,818 INFO \n",
            " epoch:179, F1Macro: 0.93822\n"
          ],
          "name": "stderr"
        },
        {
          "output_type": "stream",
          "text": [
            "125/125 [==============================] - 35s 276ms/step - loss: 0.0907 - accuracy: 0.9693 - val_loss: 0.0964 - val_accuracy: 0.9669 - lr: 1.0000e-06\n",
            "preds_f shape: (250, 4000, 11)\n"
          ],
          "name": "stdout"
        },
        {
          "output_type": "stream",
          "text": [
            "2020-05-13 04:45:02,236 INFO Training fold 1 completed. macro f1 score : 0.93822\n"
          ],
          "name": "stderr"
        },
        {
          "output_type": "stream",
          "text": [
            "X_aug shape 1: (1000, 4000, 9)\n",
            "X_aug shape 2: (1000, 4000, 10)\n",
            "unique train_x[8]: [0. 1.]\n",
            "test shape after roll diff: (500, 4000, 10)\n",
            "train_x shape 3:  (2000, 4000, 10)\n",
            "train_y shape 3:  (2000, 4000, 11)\n",
            "shape_: (4000, 10)\n",
            "model initilization done!\n"
          ],
          "name": "stdout"
        },
        {
          "output_type": "display_data",
          "data": {
            "application/vnd.jupyter.widget-view+json": {
              "model_id": "8748397ed4b94eb8bf2c5122cf510a80",
              "version_minor": 0,
              "version_major": 2
            },
            "text/plain": [
              "HBox(children=(FloatProgress(value=0.0, description='Training', layout=Layout(flex='2'), max=180.0, style=Prog…"
            ]
          },
          "metadata": {
            "tags": []
          }
        },
        {
          "output_type": "stream",
          "text": [
            "Epoch 1/180\n",
            "125/125 [==============================] - ETA: 0s - loss: 1.7716 - accuracy: 0.6413\n",
            "Epoch 00001: val_accuracy improved from -inf to 0.64992, saving model to ion_switch/res/wavenet-dlr-res/ClassifierCBRWmulti-Prob11-NESCAL/all/1_fold/checkpoint-modelonly-1.h5\n"
          ],
          "name": "stdout"
        },
        {
          "output_type": "stream",
          "text": [
            "2020-05-13 04:46:44,800 INFO \n",
            " epoch:000, F1Macro: 0.43662\n"
          ],
          "name": "stderr"
        },
        {
          "output_type": "stream",
          "text": [
            "\b\b\b\b\b\b\b\b\b\b\b\b\b\b\b\b\b\b\b\b\b\b\b\b\b\b\b\b\b\b\b\b\b\b\b\b\b\b\b\b\b\b\b\b\b\b\b\b\b\b\b\b\b\b\b\b\b\b\b\b\b\b\b\b\b\b\b\b\b\b\b\b\b\b\b\b\b\b\b\b\b\b\b\b\r125/125 [==============================] - 41s 331ms/step - loss: 1.7716 - accuracy: 0.6413 - val_loss: 1.7855 - val_accuracy: 0.6499 - lr: 0.0010\n",
            "Epoch 2/180\n",
            "125/125 [==============================] - ETA: 0s - loss: 1.3858 - accuracy: 0.7469\n",
            "Epoch 00002: val_accuracy improved from 0.64992 to 0.73871, saving model to ion_switch/res/wavenet-dlr-res/ClassifierCBRWmulti-Prob11-NESCAL/all/1_fold/checkpoint-modelonly-1.h5\n"
          ],
          "name": "stdout"
        },
        {
          "output_type": "stream",
          "text": [
            "2020-05-13 04:47:21,331 INFO \n",
            " epoch:001, F1Macro: 0.53197\n"
          ],
          "name": "stderr"
        },
        {
          "output_type": "stream",
          "text": [
            "\b\b\b\b\b\b\b\b\b\b\b\b\b\b\b\b\b\b\b\b\b\b\b\b\b\b\b\b\b\b\b\b\b\b\b\b\b\b\b\b\b\b\b\b\b\b\b\b\b\b\b\b\b\b\b\b\b\b\b\b\b\b\b\b\b\b\b\b\b\b\b\b\b\b\b\b\b\b\b\b\b\b\b\b\r125/125 [==============================] - 36s 290ms/step - loss: 1.3858 - accuracy: 0.7469 - val_loss: 1.3082 - val_accuracy: 0.7387 - lr: 0.0010\n",
            "Epoch 3/180\n",
            "125/125 [==============================] - ETA: 0s - loss: 1.1081 - accuracy: 0.7936\n",
            "Epoch 00003: val_accuracy improved from 0.73871 to 0.82359, saving model to ion_switch/res/wavenet-dlr-res/ClassifierCBRWmulti-Prob11-NESCAL/all/1_fold/checkpoint-modelonly-1.h5\n"
          ],
          "name": "stdout"
        },
        {
          "output_type": "stream",
          "text": [
            "2020-05-13 04:47:57,828 INFO \n",
            " epoch:002, F1Macro: 0.60882\n"
          ],
          "name": "stderr"
        },
        {
          "output_type": "stream",
          "text": [
            "\b\b\b\b\b\b\b\b\b\b\b\b\b\b\b\b\b\b\b\b\b\b\b\b\b\b\b\b\b\b\b\b\b\b\b\b\b\b\b\b\b\b\b\b\b\b\b\b\b\b\b\b\b\b\b\b\b\b\b\b\b\b\b\b\b\b\b\b\b\b\b\b\b\b\b\b\b\b\b\b\b\b\b\b\r125/125 [==============================] - 36s 289ms/step - loss: 1.1081 - accuracy: 0.7936 - val_loss: 0.9691 - val_accuracy: 0.8236 - lr: 0.0010\n",
            "Epoch 4/180\n",
            "125/125 [==============================] - ETA: 0s - loss: 0.9052 - accuracy: 0.8126\n",
            "Epoch 00004: val_accuracy improved from 0.82359 to 0.82942, saving model to ion_switch/res/wavenet-dlr-res/ClassifierCBRWmulti-Prob11-NESCAL/all/1_fold/checkpoint-modelonly-1.h5\n"
          ],
          "name": "stdout"
        },
        {
          "output_type": "stream",
          "text": [
            "2020-05-13 04:48:34,075 INFO \n",
            " epoch:003, F1Macro: 0.61972\n"
          ],
          "name": "stderr"
        },
        {
          "output_type": "stream",
          "text": [
            "\b\b\b\b\b\b\b\b\b\b\b\b\b\b\b\b\b\b\b\b\b\b\b\b\b\b\b\b\b\b\b\b\b\b\b\b\b\b\b\b\b\b\b\b\b\b\b\b\b\b\b\b\b\b\b\b\b\b\b\b\b\b\b\b\b\b\b\b\b\b\b\b\b\b\b\b\b\b\b\b\b\b\b\b\r125/125 [==============================] - 36s 288ms/step - loss: 0.9052 - accuracy: 0.8126 - val_loss: 0.8040 - val_accuracy: 0.8294 - lr: 0.0010\n",
            "Epoch 5/180\n",
            "125/125 [==============================] - ETA: 0s - loss: 0.7681 - accuracy: 0.8407\n",
            "Epoch 00005: val_accuracy improved from 0.82942 to 0.87515, saving model to ion_switch/res/wavenet-dlr-res/ClassifierCBRWmulti-Prob11-NESCAL/all/1_fold/checkpoint-modelonly-1.h5\n"
          ],
          "name": "stdout"
        },
        {
          "output_type": "stream",
          "text": [
            "2020-05-13 04:49:10,145 INFO \n",
            " epoch:004, F1Macro: 0.66057\n"
          ],
          "name": "stderr"
        },
        {
          "output_type": "stream",
          "text": [
            "\b\b\b\b\b\b\b\b\b\b\b\b\b\b\b\b\b\b\b\b\b\b\b\b\b\b\b\b\b\b\b\b\b\b\b\b\b\b\b\b\b\b\b\b\b\b\b\b\b\b\b\b\b\b\b\b\b\b\b\b\b\b\b\b\b\b\b\b\b\b\b\b\b\b\b\b\b\b\b\b\b\b\b\b\r125/125 [==============================] - 36s 287ms/step - loss: 0.7681 - accuracy: 0.8407 - val_loss: 0.7043 - val_accuracy: 0.8751 - lr: 0.0010\n",
            "Epoch 6/180\n",
            "125/125 [==============================] - ETA: 0s - loss: 0.6476 - accuracy: 0.8964\n",
            "Epoch 00006: val_accuracy improved from 0.87515 to 0.92225, saving model to ion_switch/res/wavenet-dlr-res/ClassifierCBRWmulti-Prob11-NESCAL/all/1_fold/checkpoint-modelonly-1.h5\n"
          ],
          "name": "stdout"
        },
        {
          "output_type": "stream",
          "text": [
            "2020-05-13 04:49:46,211 INFO \n",
            " epoch:005, F1Macro: 0.74905\n"
          ],
          "name": "stderr"
        },
        {
          "output_type": "stream",
          "text": [
            "\b\b\b\b\b\b\b\b\b\b\b\b\b\b\b\b\b\b\b\b\b\b\b\b\b\b\b\b\b\b\b\b\b\b\b\b\b\b\b\b\b\b\b\b\b\b\b\b\b\b\b\b\b\b\b\b\b\b\b\b\b\b\b\b\b\b\b\b\b\b\b\b\b\b\b\b\b\b\b\b\b\b\b\b\r125/125 [==============================] - 36s 286ms/step - loss: 0.6476 - accuracy: 0.8964 - val_loss: 0.5683 - val_accuracy: 0.9222 - lr: 0.0010\n",
            "Epoch 7/180\n",
            "125/125 [==============================] - ETA: 0s - loss: 0.5658 - accuracy: 0.9026\n",
            "Epoch 00007: val_accuracy did not improve from 0.92225\n"
          ],
          "name": "stdout"
        },
        {
          "output_type": "stream",
          "text": [
            "2020-05-13 04:50:21,620 INFO \n",
            " epoch:006, F1Macro: 0.74466\n"
          ],
          "name": "stderr"
        },
        {
          "output_type": "stream",
          "text": [
            "\b\b\b\b\b\b\b\b\b\b\b\b\b\b\b\b\b\b\b\b\b\b\b\b\b\b\b\b\b\b\b\b\b\b\b\b\b\b\b\b\b\b\b\b\b\b\b\b\b\b\b\b\b\b\b\b\b\b\b\b\b\b\b\b\b\b\b\b\b\b\b\b\b\b\b\b\b\b\b\b\b\b\b\b\r125/125 [==============================] - 34s 275ms/step - loss: 0.5658 - accuracy: 0.9026 - val_loss: 0.5012 - val_accuracy: 0.9190 - lr: 0.0010\n",
            "Epoch 8/180\n",
            "125/125 [==============================] - ETA: 0s - loss: 0.4789 - accuracy: 0.9183\n",
            "Epoch 00008: val_accuracy improved from 0.92225 to 0.92599, saving model to ion_switch/res/wavenet-dlr-res/ClassifierCBRWmulti-Prob11-NESCAL/all/1_fold/checkpoint-modelonly-1.h5\n"
          ],
          "name": "stdout"
        },
        {
          "output_type": "stream",
          "text": [
            "2020-05-13 04:50:56,949 INFO \n",
            " epoch:007, F1Macro: 0.82045\n"
          ],
          "name": "stderr"
        },
        {
          "output_type": "stream",
          "text": [
            "\b\b\b\b\b\b\b\b\b\b\b\b\b\b\b\b\b\b\b\b\b\b\b\b\b\b\b\b\b\b\b\b\b\b\b\b\b\b\b\b\b\b\b\b\b\b\b\b\b\b\b\b\b\b\b\b\b\b\b\b\b\b\b\b\b\b\b\b\b\b\b\b\b\b\b\b\b\b\b\b\b\b\b\b\r125/125 [==============================] - 36s 287ms/step - loss: 0.4789 - accuracy: 0.9183 - val_loss: 0.4372 - val_accuracy: 0.9260 - lr: 0.0010\n",
            "Epoch 9/180\n",
            "125/125 [==============================] - ETA: 0s - loss: 0.4208 - accuracy: 0.9225\n",
            "Epoch 00009: val_accuracy improved from 0.92599 to 0.93168, saving model to ion_switch/res/wavenet-dlr-res/ClassifierCBRWmulti-Prob11-NESCAL/all/1_fold/checkpoint-modelonly-1.h5\n"
          ],
          "name": "stdout"
        },
        {
          "output_type": "stream",
          "text": [
            "2020-05-13 04:51:33,050 INFO \n",
            " epoch:008, F1Macro: 0.83248\n"
          ],
          "name": "stderr"
        },
        {
          "output_type": "stream",
          "text": [
            "\b\b\b\b\b\b\b\b\b\b\b\b\b\b\b\b\b\b\b\b\b\b\b\b\b\b\b\b\b\b\b\b\b\b\b\b\b\b\b\b\b\b\b\b\b\b\b\b\b\b\b\b\b\b\b\b\b\b\b\b\b\b\b\b\b\b\b\b\b\b\b\b\b\b\b\b\b\b\b\b\b\b\b\b\r125/125 [==============================] - 36s 286ms/step - loss: 0.4208 - accuracy: 0.9225 - val_loss: 0.3779 - val_accuracy: 0.9317 - lr: 0.0010\n",
            "Epoch 10/180\n",
            "125/125 [==============================] - ETA: 0s - loss: 0.3774 - accuracy: 0.9245\n",
            "Epoch 00010: val_accuracy improved from 0.93168 to 0.93358, saving model to ion_switch/res/wavenet-dlr-res/ClassifierCBRWmulti-Prob11-NESCAL/all/1_fold/checkpoint-modelonly-1.h5\n"
          ],
          "name": "stdout"
        },
        {
          "output_type": "stream",
          "text": [
            "2020-05-13 04:52:09,200 INFO \n",
            " epoch:009, F1Macro: 0.83705\n"
          ],
          "name": "stderr"
        },
        {
          "output_type": "stream",
          "text": [
            "\b\b\b\b\b\b\b\b\b\b\b\b\b\b\b\b\b\b\b\b\b\b\b\b\b\b\b\b\b\b\b\b\b\b\b\b\b\b\b\b\b\b\b\b\b\b\b\b\b\b\b\b\b\b\b\b\b\b\b\b\b\b\b\b\b\b\b\b\b\b\b\b\b\b\b\b\b\b\b\b\b\b\b\b\r125/125 [==============================] - 36s 287ms/step - loss: 0.3774 - accuracy: 0.9245 - val_loss: 0.3455 - val_accuracy: 0.9336 - lr: 0.0010\n",
            "Epoch 11/180\n",
            "125/125 [==============================] - ETA: 0s - loss: 0.3564 - accuracy: 0.9235\n",
            "Epoch 00011: val_accuracy improved from 0.93358 to 0.93621, saving model to ion_switch/res/wavenet-dlr-res/ClassifierCBRWmulti-Prob11-NESCAL/all/1_fold/checkpoint-modelonly-1.h5\n"
          ],
          "name": "stdout"
        },
        {
          "output_type": "stream",
          "text": [
            "2020-05-13 04:52:45,422 INFO \n",
            " epoch:010, F1Macro: 0.83784\n"
          ],
          "name": "stderr"
        },
        {
          "output_type": "stream",
          "text": [
            "\b\b\b\b\b\b\b\b\b\b\b\b\b\b\b\b\b\b\b\b\b\b\b\b\b\b\b\b\b\b\b\b\b\b\b\b\b\b\b\b\b\b\b\b\b\b\b\b\b\b\b\b\b\b\b\b\b\b\b\b\b\b\b\b\b\b\b\b\b\b\b\b\b\b\b\b\b\b\b\b\b\b\b\b\r125/125 [==============================] - 36s 288ms/step - loss: 0.3564 - accuracy: 0.9235 - val_loss: 0.3160 - val_accuracy: 0.9362 - lr: 0.0010\n",
            "Epoch 12/180\n",
            "125/125 [==============================] - ETA: 0s - loss: 0.3181 - accuracy: 0.9312\n",
            "Epoch 00012: val_accuracy did not improve from 0.93621\n"
          ],
          "name": "stdout"
        },
        {
          "output_type": "stream",
          "text": [
            "2020-05-13 04:53:20,725 INFO \n",
            " epoch:011, F1Macro: 0.83903\n"
          ],
          "name": "stderr"
        },
        {
          "output_type": "stream",
          "text": [
            "\b\b\b\b\b\b\b\b\b\b\b\b\b\b\b\b\b\b\b\b\b\b\b\b\b\b\b\b\b\b\b\b\b\b\b\b\b\b\b\b\b\b\b\b\b\b\b\b\b\b\b\b\b\b\b\b\b\b\b\b\b\b\b\b\b\b\b\b\b\b\b\b\b\b\b\b\b\b\b\b\b\b\b\b\r125/125 [==============================] - 35s 281ms/step - loss: 0.3181 - accuracy: 0.9312 - val_loss: 0.2942 - val_accuracy: 0.9361 - lr: 0.0010\n",
            "Epoch 13/180\n",
            "125/125 [==============================] - ETA: 0s - loss: 0.2970 - accuracy: 0.9316\n",
            "Epoch 00013: val_accuracy did not improve from 0.93621\n"
          ],
          "name": "stdout"
        },
        {
          "output_type": "stream",
          "text": [
            "2020-05-13 04:53:56,070 INFO \n",
            " epoch:012, F1Macro: 0.83500\n"
          ],
          "name": "stderr"
        },
        {
          "output_type": "stream",
          "text": [
            "\b\b\b\b\b\b\b\b\b\b\b\b\b\b\b\b\b\b\b\b\b\b\b\b\b\b\b\b\b\b\b\b\b\b\b\b\b\b\b\b\b\b\b\b\b\b\b\b\b\b\b\b\b\b\b\b\b\b\b\b\b\b\b\b\b\b\b\b\b\b\b\b\b\b\b\b\b\b\b\b\b\b\b\b\r125/125 [==============================] - 34s 275ms/step - loss: 0.2970 - accuracy: 0.9316 - val_loss: 0.2843 - val_accuracy: 0.9316 - lr: 0.0010\n",
            "Epoch 14/180\n",
            "125/125 [==============================] - ETA: 0s - loss: 0.2910 - accuracy: 0.9281\n",
            "Epoch 00014: val_accuracy did not improve from 0.93621\n"
          ],
          "name": "stdout"
        },
        {
          "output_type": "stream",
          "text": [
            "2020-05-13 04:54:30,752 INFO \n",
            " epoch:013, F1Macro: 0.83156\n"
          ],
          "name": "stderr"
        },
        {
          "output_type": "stream",
          "text": [
            "\b\b\b\b\b\b\b\b\b\b\b\b\b\b\b\b\b\b\b\b\b\b\b\b\b\b\b\b\b\b\b\b\b\b\b\b\b\b\b\b\b\b\b\b\b\b\b\b\b\b\b\b\b\b\b\b\b\b\b\b\b\b\b\b\b\b\b\b\b\b\b\b\b\b\b\b\b\b\b\b\b\b\b\b\r125/125 [==============================] - 34s 275ms/step - loss: 0.2910 - accuracy: 0.9281 - val_loss: 0.2648 - val_accuracy: 0.9310 - lr: 0.0010\n",
            "Epoch 15/180\n",
            "125/125 [==============================] - ETA: 0s - loss: 0.2630 - accuracy: 0.9350\n",
            "Epoch 00015: val_accuracy improved from 0.93621 to 0.94407, saving model to ion_switch/res/wavenet-dlr-res/ClassifierCBRWmulti-Prob11-NESCAL/all/1_fold/checkpoint-modelonly-1.h5\n"
          ],
          "name": "stdout"
        },
        {
          "output_type": "stream",
          "text": [
            "2020-05-13 04:55:06,107 INFO \n",
            " epoch:014, F1Macro: 0.86735\n"
          ],
          "name": "stderr"
        },
        {
          "output_type": "stream",
          "text": [
            "\b\b\b\b\b\b\b\b\b\b\b\b\b\b\b\b\b\b\b\b\b\b\b\b\b\b\b\b\b\b\b\b\b\b\b\b\b\b\b\b\b\b\b\b\b\b\b\b\b\b\b\b\b\b\b\b\b\b\b\b\b\b\b\b\b\b\b\b\b\b\b\b\b\b\b\b\b\b\b\b\b\b\b\b\r125/125 [==============================] - 36s 287ms/step - loss: 0.2630 - accuracy: 0.9350 - val_loss: 0.2410 - val_accuracy: 0.9441 - lr: 0.0010\n",
            "Epoch 16/180\n",
            "125/125 [==============================] - ETA: 0s - loss: 0.2503 - accuracy: 0.9384\n",
            "Epoch 00016: val_accuracy did not improve from 0.94407\n"
          ],
          "name": "stdout"
        },
        {
          "output_type": "stream",
          "text": [
            "2020-05-13 04:55:41,617 INFO \n",
            " epoch:015, F1Macro: 0.86109\n"
          ],
          "name": "stderr"
        },
        {
          "output_type": "stream",
          "text": [
            "\b\b\b\b\b\b\b\b\b\b\b\b\b\b\b\b\b\b\b\b\b\b\b\b\b\b\b\b\b\b\b\b\b\b\b\b\b\b\b\b\b\b\b\b\b\b\b\b\b\b\b\b\b\b\b\b\b\b\b\b\b\b\b\b\b\b\b\b\b\b\b\b\b\b\b\b\b\b\b\b\b\b\b\b\r125/125 [==============================] - 34s 276ms/step - loss: 0.2503 - accuracy: 0.9384 - val_loss: 0.2317 - val_accuracy: 0.9411 - lr: 0.0010\n",
            "Epoch 17/180\n",
            "125/125 [==============================] - ETA: 0s - loss: 0.2372 - accuracy: 0.9443\n",
            "Epoch 00017: val_accuracy improved from 0.94407 to 0.95523, saving model to ion_switch/res/wavenet-dlr-res/ClassifierCBRWmulti-Prob11-NESCAL/all/1_fold/checkpoint-modelonly-1.h5\n"
          ],
          "name": "stdout"
        },
        {
          "output_type": "stream",
          "text": [
            "2020-05-13 04:56:17,027 INFO \n",
            " epoch:016, F1Macro: 0.90311\n"
          ],
          "name": "stderr"
        },
        {
          "output_type": "stream",
          "text": [
            "\b\b\b\b\b\b\b\b\b\b\b\b\b\b\b\b\b\b\b\b\b\b\b\b\b\b\b\b\b\b\b\b\b\b\b\b\b\b\b\b\b\b\b\b\b\b\b\b\b\b\b\b\b\b\b\b\b\b\b\b\b\b\b\b\b\b\b\b\b\b\b\b\b\b\b\b\b\b\b\b\b\b\b\b\r125/125 [==============================] - 36s 286ms/step - loss: 0.2372 - accuracy: 0.9443 - val_loss: 0.2131 - val_accuracy: 0.9552 - lr: 0.0010\n",
            "Epoch 18/180\n",
            "125/125 [==============================] - ETA: 0s - loss: 0.2221 - accuracy: 0.9520\n",
            "Epoch 00018: val_accuracy improved from 0.95523 to 0.96204, saving model to ion_switch/res/wavenet-dlr-res/ClassifierCBRWmulti-Prob11-NESCAL/all/1_fold/checkpoint-modelonly-1.h5\n"
          ],
          "name": "stdout"
        },
        {
          "output_type": "stream",
          "text": [
            "2020-05-13 04:56:53,398 INFO \n",
            " epoch:017, F1Macro: 0.92302\n"
          ],
          "name": "stderr"
        },
        {
          "output_type": "stream",
          "text": [
            "\b\b\b\b\b\b\b\b\b\b\b\b\b\b\b\b\b\b\b\b\b\b\b\b\b\b\b\b\b\b\b\b\b\b\b\b\b\b\b\b\b\b\b\b\b\b\b\b\b\b\b\b\b\b\b\b\b\b\b\b\b\b\b\b\b\b\b\b\b\b\b\b\b\b\b\b\b\b\b\b\b\b\b\b\r125/125 [==============================] - 36s 289ms/step - loss: 0.2221 - accuracy: 0.9520 - val_loss: 0.2015 - val_accuracy: 0.9620 - lr: 0.0010\n",
            "Epoch 19/180\n",
            "125/125 [==============================] - ETA: 0s - loss: 0.2110 - accuracy: 0.9556\n",
            "Epoch 00019: val_accuracy improved from 0.96204 to 0.96270, saving model to ion_switch/res/wavenet-dlr-res/ClassifierCBRWmulti-Prob11-NESCAL/all/1_fold/checkpoint-modelonly-1.h5\n"
          ],
          "name": "stdout"
        },
        {
          "output_type": "stream",
          "text": [
            "2020-05-13 04:57:29,520 INFO \n",
            " epoch:018, F1Macro: 0.92505\n"
          ],
          "name": "stderr"
        },
        {
          "output_type": "stream",
          "text": [
            "\b\b\b\b\b\b\b\b\b\b\b\b\b\b\b\b\b\b\b\b\b\b\b\b\b\b\b\b\b\b\b\b\b\b\b\b\b\b\b\b\b\b\b\b\b\b\b\b\b\b\b\b\b\b\b\b\b\b\b\b\b\b\b\b\b\b\b\b\b\b\b\b\b\b\b\b\b\b\b\b\b\b\b\b\r125/125 [==============================] - 36s 288ms/step - loss: 0.2110 - accuracy: 0.9556 - val_loss: 0.1979 - val_accuracy: 0.9627 - lr: 0.0010\n",
            "Epoch 20/180\n",
            "125/125 [==============================] - ETA: 0s - loss: 0.2023 - accuracy: 0.9575\n",
            "Epoch 00020: val_accuracy did not improve from 0.96270\n"
          ],
          "name": "stdout"
        },
        {
          "output_type": "stream",
          "text": [
            "2020-05-13 04:58:05,080 INFO \n",
            " epoch:019, F1Macro: 0.91078\n"
          ],
          "name": "stderr"
        },
        {
          "output_type": "stream",
          "text": [
            "\b\b\b\b\b\b\b\b\b\b\b\b\b\b\b\b\b\b\b\b\b\b\b\b\b\b\b\b\b\b\b\b\b\b\b\b\b\b\b\b\b\b\b\b\b\b\b\b\b\b\b\b\b\b\b\b\b\b\b\b\b\b\b\b\b\b\b\b\b\b\b\b\b\b\b\b\b\b\b\b\b\b\b\b\r125/125 [==============================] - 35s 276ms/step - loss: 0.2023 - accuracy: 0.9575 - val_loss: 0.1912 - val_accuracy: 0.9566 - lr: 0.0010\n",
            "Epoch 21/180\n",
            "125/125 [==============================] - ETA: 0s - loss: 0.1915 - accuracy: 0.9595\n",
            "Epoch 00021: val_accuracy improved from 0.96270 to 0.96689, saving model to ion_switch/res/wavenet-dlr-res/ClassifierCBRWmulti-Prob11-NESCAL/all/1_fold/checkpoint-modelonly-1.h5\n"
          ],
          "name": "stdout"
        },
        {
          "output_type": "stream",
          "text": [
            "2020-05-13 04:58:40,495 INFO \n",
            " epoch:020, F1Macro: 0.93497\n"
          ],
          "name": "stderr"
        },
        {
          "output_type": "stream",
          "text": [
            "\b\b\b\b\b\b\b\b\b\b\b\b\b\b\b\b\b\b\b\b\b\b\b\b\b\b\b\b\b\b\b\b\b\b\b\b\b\b\b\b\b\b\b\b\b\b\b\b\b\b\b\b\b\b\b\b\b\b\b\b\b\b\b\b\b\b\b\b\b\b\b\b\b\b\b\b\b\b\b\b\b\b\b\b\r125/125 [==============================] - 36s 287ms/step - loss: 0.1915 - accuracy: 0.9595 - val_loss: 0.1737 - val_accuracy: 0.9669 - lr: 0.0010\n",
            "Epoch 22/180\n",
            "125/125 [==============================] - ETA: 0s - loss: 0.2035 - accuracy: 0.9533\n",
            "Epoch 00022: val_accuracy did not improve from 0.96689\n"
          ],
          "name": "stdout"
        },
        {
          "output_type": "stream",
          "text": [
            "2020-05-13 04:59:16,005 INFO \n",
            " epoch:021, F1Macro: 0.86438\n"
          ],
          "name": "stderr"
        },
        {
          "output_type": "stream",
          "text": [
            "\b\b\b\b\b\b\b\b\b\b\b\b\b\b\b\b\b\b\b\b\b\b\b\b\b\b\b\b\b\b\b\b\b\b\b\b\b\b\b\b\b\b\b\b\b\b\b\b\b\b\b\b\b\b\b\b\b\b\b\b\b\b\b\b\b\b\b\b\b\b\b\b\b\b\b\b\b\b\b\b\b\b\b\b\r125/125 [==============================] - 35s 277ms/step - loss: 0.2035 - accuracy: 0.9533 - val_loss: 0.3241 - val_accuracy: 0.8988 - lr: 0.0010\n",
            "Epoch 23/180\n",
            "125/125 [==============================] - ETA: 0s - loss: 0.2594 - accuracy: 0.9315\n",
            "Epoch 00023: val_accuracy did not improve from 0.96689\n"
          ],
          "name": "stdout"
        },
        {
          "output_type": "stream",
          "text": [
            "2020-05-13 04:59:50,805 INFO \n",
            " epoch:022, F1Macro: 0.91493\n"
          ],
          "name": "stderr"
        },
        {
          "output_type": "stream",
          "text": [
            "\b\b\b\b\b\b\b\b\b\b\b\b\b\b\b\b\b\b\b\b\b\b\b\b\b\b\b\b\b\b\b\b\b\b\b\b\b\b\b\b\b\b\b\b\b\b\b\b\b\b\b\b\b\b\b\b\b\b\b\b\b\b\b\b\b\b\b\b\b\b\b\b\b\b\b\b\b\b\b\b\b\b\b\b\r125/125 [==============================] - 35s 276ms/step - loss: 0.2594 - accuracy: 0.9315 - val_loss: 0.2132 - val_accuracy: 0.9508 - lr: 0.0010\n",
            "Epoch 24/180\n",
            "125/125 [==============================] - ETA: 0s - loss: 0.1839 - accuracy: 0.9577\n",
            "Epoch 00024: val_accuracy did not improve from 0.96689\n"
          ],
          "name": "stdout"
        },
        {
          "output_type": "stream",
          "text": [
            "2020-05-13 05:00:25,530 INFO \n",
            " epoch:023, F1Macro: 0.93167\n"
          ],
          "name": "stderr"
        },
        {
          "output_type": "stream",
          "text": [
            "\b\b\b\b\b\b\b\b\b\b\b\b\b\b\b\b\b\b\b\b\b\b\b\b\b\b\b\b\b\b\b\b\b\b\b\b\b\b\b\b\b\b\b\b\b\b\b\b\b\b\b\b\b\b\b\b\b\b\b\b\b\b\b\b\b\b\b\b\b\b\b\b\b\b\b\b\b\b\b\b\b\b\b\b\r125/125 [==============================] - 34s 276ms/step - loss: 0.1839 - accuracy: 0.9577 - val_loss: 0.1614 - val_accuracy: 0.9645 - lr: 0.0010\n",
            "Epoch 25/180\n",
            "125/125 [==============================] - ETA: 0s - loss: 0.1700 - accuracy: 0.9615\n",
            "Epoch 00025: val_accuracy did not improve from 0.96689\n"
          ],
          "name": "stdout"
        },
        {
          "output_type": "stream",
          "text": [
            "2020-05-13 05:01:00,309 INFO \n",
            " epoch:024, F1Macro: 0.93502\n"
          ],
          "name": "stderr"
        },
        {
          "output_type": "stream",
          "text": [
            "\b\b\b\b\b\b\b\b\b\b\b\b\b\b\b\b\b\b\b\b\b\b\b\b\b\b\b\b\b\b\b\b\b\b\b\b\b\b\b\b\b\b\b\b\b\b\b\b\b\b\b\b\b\b\b\b\b\b\b\b\b\b\b\b\b\b\b\b\b\b\b\b\b\b\b\b\b\b\b\b\b\b\b\b\r125/125 [==============================] - 35s 283ms/step - loss: 0.1700 - accuracy: 0.9615 - val_loss: 0.1528 - val_accuracy: 0.9666 - lr: 0.0010\n",
            "Epoch 26/180\n",
            "125/125 [==============================] - ETA: 0s - loss: 0.1646 - accuracy: 0.9615\n",
            "Epoch 00026: val_accuracy did not improve from 0.96689\n"
          ],
          "name": "stdout"
        },
        {
          "output_type": "stream",
          "text": [
            "2020-05-13 05:01:35,980 INFO \n",
            " epoch:025, F1Macro: 0.92943\n"
          ],
          "name": "stderr"
        },
        {
          "output_type": "stream",
          "text": [
            "\b\b\b\b\b\b\b\b\b\b\b\b\b\b\b\b\b\b\b\b\b\b\b\b\b\b\b\b\b\b\b\b\b\b\b\b\b\b\b\b\b\b\b\b\b\b\b\b\b\b\b\b\b\b\b\b\b\b\b\b\b\b\b\b\b\b\b\b\b\b\b\b\b\b\b\b\b\b\b\b\b\b\b\b\r125/125 [==============================] - 35s 277ms/step - loss: 0.1646 - accuracy: 0.9615 - val_loss: 0.1510 - val_accuracy: 0.9640 - lr: 0.0010\n",
            "Epoch 27/180\n",
            "125/125 [==============================] - ETA: 0s - loss: 0.1567 - accuracy: 0.9628\n",
            "Epoch 00027: val_accuracy improved from 0.96689 to 0.96747, saving model to ion_switch/res/wavenet-dlr-res/ClassifierCBRWmulti-Prob11-NESCAL/all/1_fold/checkpoint-modelonly-1.h5\n"
          ],
          "name": "stdout"
        },
        {
          "output_type": "stream",
          "text": [
            "2020-05-13 05:02:11,445 INFO \n",
            " epoch:026, F1Macro: 0.93673\n"
          ],
          "name": "stderr"
        },
        {
          "output_type": "stream",
          "text": [
            "\b\b\b\b\b\b\b\b\b\b\b\b\b\b\b\b\b\b\b\b\b\b\b\b\b\b\b\b\b\b\b\b\b\b\b\b\b\b\b\b\b\b\b\b\b\b\b\b\b\b\b\b\b\b\b\b\b\b\b\b\b\b\b\b\b\b\b\b\b\b\b\b\b\b\b\b\b\b\b\b\b\b\b\b\r125/125 [==============================] - 36s 288ms/step - loss: 0.1567 - accuracy: 0.9628 - val_loss: 0.1409 - val_accuracy: 0.9675 - lr: 0.0010\n",
            "Epoch 28/180\n",
            "125/125 [==============================] - ETA: 0s - loss: 0.1521 - accuracy: 0.9629\n",
            "Epoch 00028: val_accuracy did not improve from 0.96747\n"
          ],
          "name": "stdout"
        },
        {
          "output_type": "stream",
          "text": [
            "2020-05-13 05:02:47,041 INFO \n",
            " epoch:027, F1Macro: 0.93591\n"
          ],
          "name": "stderr"
        },
        {
          "output_type": "stream",
          "text": [
            "\b\b\b\b\b\b\b\b\b\b\b\b\b\b\b\b\b\b\b\b\b\b\b\b\b\b\b\b\b\b\b\b\b\b\b\b\b\b\b\b\b\b\b\b\b\b\b\b\b\b\b\b\b\b\b\b\b\b\b\b\b\b\b\b\b\b\b\b\b\b\b\b\b\b\b\b\b\b\b\b\b\b\b\b\r125/125 [==============================] - 34s 276ms/step - loss: 0.1521 - accuracy: 0.9629 - val_loss: 0.1374 - val_accuracy: 0.9668 - lr: 0.0010\n",
            "Epoch 29/180\n",
            "125/125 [==============================] - ETA: 0s - loss: 0.1468 - accuracy: 0.9630\n",
            "Epoch 00029: val_accuracy did not improve from 0.96747\n"
          ],
          "name": "stdout"
        },
        {
          "output_type": "stream",
          "text": [
            "2020-05-13 05:03:21,804 INFO \n",
            " epoch:028, F1Macro: 0.92874\n"
          ],
          "name": "stderr"
        },
        {
          "output_type": "stream",
          "text": [
            "\b\b\b\b\b\b\b\b\b\b\b\b\b\b\b\b\b\b\b\b\b\b\b\b\b\b\b\b\b\b\b\b\b\b\b\b\b\b\b\b\b\b\b\b\b\b\b\b\b\b\b\b\b\b\b\b\b\b\b\b\b\b\b\b\b\b\b\b\b\b\b\b\b\b\b\b\b\b\b\b\b\b\b\b\r125/125 [==============================] - 34s 276ms/step - loss: 0.1468 - accuracy: 0.9630 - val_loss: 0.1357 - val_accuracy: 0.9647 - lr: 0.0010\n",
            "Epoch 30/180\n",
            "125/125 [==============================] - ETA: 0s - loss: 0.1466 - accuracy: 0.9616\n",
            "Epoch 00030: val_accuracy did not improve from 0.96747\n"
          ],
          "name": "stdout"
        },
        {
          "output_type": "stream",
          "text": [
            "2020-05-13 05:03:56,599 INFO \n",
            " epoch:029, F1Macro: 0.92927\n"
          ],
          "name": "stderr"
        },
        {
          "output_type": "stream",
          "text": [
            "\b\b\b\b\b\b\b\b\b\b\b\b\b\b\b\b\b\b\b\b\b\b\b\b\b\b\b\b\b\b\b\b\b\b\b\b\b\b\b\b\b\b\b\b\b\b\b\b\b\b\b\b\b\b\b\b\b\b\b\b\b\b\b\b\b\b\b\b\b\b\b\b\b\b\b\b\b\b\b\b\b\b\b\b\r125/125 [==============================] - 35s 276ms/step - loss: 0.1466 - accuracy: 0.9616 - val_loss: 0.1343 - val_accuracy: 0.9647 - lr: 0.0010\n",
            "Epoch 31/180\n",
            "125/125 [==============================] - ETA: 0s - loss: 0.1382 - accuracy: 0.9647\n",
            "Epoch 00031: val_accuracy improved from 0.96747 to 0.96844, saving model to ion_switch/res/wavenet-dlr-res/ClassifierCBRWmulti-Prob11-NESCAL/all/1_fold/checkpoint-modelonly-1.h5\n"
          ],
          "name": "stdout"
        },
        {
          "output_type": "stream",
          "text": [
            "2020-05-13 05:04:32,081 INFO \n",
            " epoch:030, F1Macro: 0.93786\n"
          ],
          "name": "stderr"
        },
        {
          "output_type": "stream",
          "text": [
            "\b\b\b\b\b\b\b\b\b\b\b\b\b\b\b\b\b\b\b\b\b\b\b\b\b\b\b\b\b\b\b\b\b\b\b\b\b\b\b\b\b\b\b\b\b\b\b\b\b\b\b\b\b\b\b\b\b\b\b\b\b\b\b\b\b\b\b\b\b\b\b\b\b\b\b\b\b\b\b\b\b\b\b\b\r125/125 [==============================] - 36s 290ms/step - loss: 0.1382 - accuracy: 0.9647 - val_loss: 0.1254 - val_accuracy: 0.9684 - lr: 3.3333e-04\n",
            "Epoch 32/180\n",
            "125/125 [==============================] - ETA: 0s - loss: 0.1344 - accuracy: 0.9656\n",
            "Epoch 00032: val_accuracy did not improve from 0.96844\n"
          ],
          "name": "stdout"
        },
        {
          "output_type": "stream",
          "text": [
            "2020-05-13 05:05:07,868 INFO \n",
            " epoch:031, F1Macro: 0.93699\n"
          ],
          "name": "stderr"
        },
        {
          "output_type": "stream",
          "text": [
            "\b\b\b\b\b\b\b\b\b\b\b\b\b\b\b\b\b\b\b\b\b\b\b\b\b\b\b\b\b\b\b\b\b\b\b\b\b\b\b\b\b\b\b\b\b\b\b\b\b\b\b\b\b\b\b\b\b\b\b\b\b\b\b\b\b\b\b\b\b\b\b\b\b\b\b\b\b\b\b\b\b\b\b\b\r125/125 [==============================] - 34s 276ms/step - loss: 0.1344 - accuracy: 0.9656 - val_loss: 0.1243 - val_accuracy: 0.9682 - lr: 3.3333e-04\n",
            "Epoch 33/180\n",
            "125/125 [==============================] - ETA: 0s - loss: 0.1322 - accuracy: 0.9658\n",
            "Epoch 00033: val_accuracy improved from 0.96844 to 0.96880, saving model to ion_switch/res/wavenet-dlr-res/ClassifierCBRWmulti-Prob11-NESCAL/all/1_fold/checkpoint-modelonly-1.h5\n"
          ],
          "name": "stdout"
        },
        {
          "output_type": "stream",
          "text": [
            "2020-05-13 05:05:43,451 INFO \n",
            " epoch:032, F1Macro: 0.93821\n"
          ],
          "name": "stderr"
        },
        {
          "output_type": "stream",
          "text": [
            "\b\b\b\b\b\b\b\b\b\b\b\b\b\b\b\b\b\b\b\b\b\b\b\b\b\b\b\b\b\b\b\b\b\b\b\b\b\b\b\b\b\b\b\b\b\b\b\b\b\b\b\b\b\b\b\b\b\b\b\b\b\b\b\b\b\b\b\b\b\b\b\b\b\b\b\b\b\b\b\b\b\b\b\b\r125/125 [==============================] - 36s 288ms/step - loss: 0.1322 - accuracy: 0.9658 - val_loss: 0.1217 - val_accuracy: 0.9688 - lr: 3.3333e-04\n",
            "Epoch 34/180\n",
            "125/125 [==============================] - ETA: 0s - loss: 0.1324 - accuracy: 0.9653\n",
            "Epoch 00034: val_accuracy did not improve from 0.96880\n"
          ],
          "name": "stdout"
        },
        {
          "output_type": "stream",
          "text": [
            "2020-05-13 05:06:19,005 INFO \n",
            " epoch:033, F1Macro: 0.93691\n"
          ],
          "name": "stderr"
        },
        {
          "output_type": "stream",
          "text": [
            "\b\b\b\b\b\b\b\b\b\b\b\b\b\b\b\b\b\b\b\b\b\b\b\b\b\b\b\b\b\b\b\b\b\b\b\b\b\b\b\b\b\b\b\b\b\b\b\b\b\b\b\b\b\b\b\b\b\b\b\b\b\b\b\b\b\b\b\b\b\b\b\b\b\b\b\b\b\b\b\b\b\b\b\b\r125/125 [==============================] - 35s 277ms/step - loss: 0.1324 - accuracy: 0.9653 - val_loss: 0.1221 - val_accuracy: 0.9678 - lr: 3.3333e-04\n",
            "Epoch 35/180\n",
            "125/125 [==============================] - ETA: 0s - loss: 0.1297 - accuracy: 0.9657\n",
            "Epoch 00035: val_accuracy improved from 0.96880 to 0.96881, saving model to ion_switch/res/wavenet-dlr-res/ClassifierCBRWmulti-Prob11-NESCAL/all/1_fold/checkpoint-modelonly-1.h5\n"
          ],
          "name": "stdout"
        },
        {
          "output_type": "stream",
          "text": [
            "2020-05-13 05:06:54,475 INFO \n",
            " epoch:034, F1Macro: 0.93831\n"
          ],
          "name": "stderr"
        },
        {
          "output_type": "stream",
          "text": [
            "\b\b\b\b\b\b\b\b\b\b\b\b\b\b\b\b\b\b\b\b\b\b\b\b\b\b\b\b\b\b\b\b\b\b\b\b\b\b\b\b\b\b\b\b\b\b\b\b\b\b\b\b\b\b\b\b\b\b\b\b\b\b\b\b\b\b\b\b\b\b\b\b\b\b\b\b\b\b\b\b\b\b\b\b\r125/125 [==============================] - 36s 287ms/step - loss: 0.1297 - accuracy: 0.9657 - val_loss: 0.1195 - val_accuracy: 0.9688 - lr: 3.3333e-04\n",
            "Epoch 36/180\n",
            "125/125 [==============================] - ETA: 0s - loss: 0.1282 - accuracy: 0.9658\n",
            "Epoch 00036: val_accuracy did not improve from 0.96881\n"
          ],
          "name": "stdout"
        },
        {
          "output_type": "stream",
          "text": [
            "2020-05-13 05:07:29,962 INFO \n",
            " epoch:035, F1Macro: 0.93726\n"
          ],
          "name": "stderr"
        },
        {
          "output_type": "stream",
          "text": [
            "\b\b\b\b\b\b\b\b\b\b\b\b\b\b\b\b\b\b\b\b\b\b\b\b\b\b\b\b\b\b\b\b\b\b\b\b\b\b\b\b\b\b\b\b\b\b\b\b\b\b\b\b\b\b\b\b\b\b\b\b\b\b\b\b\b\b\b\b\b\b\b\b\b\b\b\b\b\b\b\b\b\b\b\b\r125/125 [==============================] - 35s 276ms/step - loss: 0.1282 - accuracy: 0.9658 - val_loss: 0.1188 - val_accuracy: 0.9688 - lr: 3.3333e-04\n",
            "Epoch 37/180\n",
            "125/125 [==============================] - ETA: 0s - loss: 0.1262 - accuracy: 0.9661\n",
            "Epoch 00037: val_accuracy did not improve from 0.96881\n"
          ],
          "name": "stdout"
        },
        {
          "output_type": "stream",
          "text": [
            "2020-05-13 05:08:04,730 INFO \n",
            " epoch:036, F1Macro: 0.93605\n"
          ],
          "name": "stderr"
        },
        {
          "output_type": "stream",
          "text": [
            "\b\b\b\b\b\b\b\b\b\b\b\b\b\b\b\b\b\b\b\b\b\b\b\b\b\b\b\b\b\b\b\b\b\b\b\b\b\b\b\b\b\b\b\b\b\b\b\b\b\b\b\b\b\b\b\b\b\b\b\b\b\b\b\b\b\b\b\b\b\b\b\b\b\b\b\b\b\b\b\b\b\b\b\b\r125/125 [==============================] - 34s 276ms/step - loss: 0.1262 - accuracy: 0.9661 - val_loss: 0.1174 - val_accuracy: 0.9682 - lr: 3.3333e-04\n",
            "Epoch 38/180\n",
            "125/125 [==============================] - ETA: 0s - loss: 0.1251 - accuracy: 0.9660\n",
            "Epoch 00038: val_accuracy did not improve from 0.96881\n"
          ],
          "name": "stdout"
        },
        {
          "output_type": "stream",
          "text": [
            "2020-05-13 05:08:39,483 INFO \n",
            " epoch:037, F1Macro: 0.93653\n"
          ],
          "name": "stderr"
        },
        {
          "output_type": "stream",
          "text": [
            "\b\b\b\b\b\b\b\b\b\b\b\b\b\b\b\b\b\b\b\b\b\b\b\b\b\b\b\b\b\b\b\b\b\b\b\b\b\b\b\b\b\b\b\b\b\b\b\b\b\b\b\b\b\b\b\b\b\b\b\b\b\b\b\b\b\b\b\b\b\b\b\b\b\b\b\b\b\b\b\b\b\b\b\b\r125/125 [==============================] - 34s 276ms/step - loss: 0.1251 - accuracy: 0.9660 - val_loss: 0.1172 - val_accuracy: 0.9685 - lr: 3.3333e-04\n",
            "Epoch 39/180\n",
            "125/125 [==============================] - ETA: 0s - loss: 0.1235 - accuracy: 0.9662\n",
            "Epoch 00039: val_accuracy improved from 0.96881 to 0.96908, saving model to ion_switch/res/wavenet-dlr-res/ClassifierCBRWmulti-Prob11-NESCAL/all/1_fold/checkpoint-modelonly-1.h5\n"
          ],
          "name": "stdout"
        },
        {
          "output_type": "stream",
          "text": [
            "2020-05-13 05:09:14,916 INFO \n",
            " epoch:038, F1Macro: 0.93863\n"
          ],
          "name": "stderr"
        },
        {
          "output_type": "stream",
          "text": [
            "\b\b\b\b\b\b\b\b\b\b\b\b\b\b\b\b\b\b\b\b\b\b\b\b\b\b\b\b\b\b\b\b\b\b\b\b\b\b\b\b\b\b\b\b\b\b\b\b\b\b\b\b\b\b\b\b\b\b\b\b\b\b\b\b\b\b\b\b\b\b\b\b\b\b\b\b\b\b\b\b\b\b\b\b\r125/125 [==============================] - 36s 287ms/step - loss: 0.1235 - accuracy: 0.9662 - val_loss: 0.1140 - val_accuracy: 0.9691 - lr: 3.3333e-04\n",
            "Epoch 40/180\n",
            "125/125 [==============================] - ETA: 0s - loss: 0.1221 - accuracy: 0.9661\n",
            "Epoch 00040: val_accuracy did not improve from 0.96908\n"
          ],
          "name": "stdout"
        },
        {
          "output_type": "stream",
          "text": [
            "2020-05-13 05:09:50,388 INFO \n",
            " epoch:039, F1Macro: 0.93775\n"
          ],
          "name": "stderr"
        },
        {
          "output_type": "stream",
          "text": [
            "\b\b\b\b\b\b\b\b\b\b\b\b\b\b\b\b\b\b\b\b\b\b\b\b\b\b\b\b\b\b\b\b\b\b\b\b\b\b\b\b\b\b\b\b\b\b\b\b\b\b\b\b\b\b\b\b\b\b\b\b\b\b\b\b\b\b\b\b\b\b\b\b\b\b\b\b\b\b\b\b\b\b\b\b\r125/125 [==============================] - 35s 276ms/step - loss: 0.1221 - accuracy: 0.9661 - val_loss: 0.1136 - val_accuracy: 0.9685 - lr: 3.3333e-04\n",
            "Epoch 41/180\n",
            "125/125 [==============================] - ETA: 0s - loss: 0.1211 - accuracy: 0.9662\n",
            "Epoch 00041: val_accuracy did not improve from 0.96908\n"
          ],
          "name": "stdout"
        },
        {
          "output_type": "stream",
          "text": [
            "2020-05-13 05:10:25,178 INFO \n",
            " epoch:040, F1Macro: 0.93856\n"
          ],
          "name": "stderr"
        },
        {
          "output_type": "stream",
          "text": [
            "\b\b\b\b\b\b\b\b\b\b\b\b\b\b\b\b\b\b\b\b\b\b\b\b\b\b\b\b\b\b\b\b\b\b\b\b\b\b\b\b\b\b\b\b\b\b\b\b\b\b\b\b\b\b\b\b\b\b\b\b\b\b\b\b\b\b\b\b\b\b\b\b\b\b\b\b\b\b\b\b\b\b\b\b\r125/125 [==============================] - 35s 276ms/step - loss: 0.1211 - accuracy: 0.9662 - val_loss: 0.1126 - val_accuracy: 0.9689 - lr: 2.0000e-04\n",
            "Epoch 42/180\n",
            "125/125 [==============================] - ETA: 0s - loss: 0.1205 - accuracy: 0.9662\n",
            "Epoch 00042: val_accuracy did not improve from 0.96908\n"
          ],
          "name": "stdout"
        },
        {
          "output_type": "stream",
          "text": [
            "2020-05-13 05:10:59,972 INFO \n",
            " epoch:041, F1Macro: 0.93787\n"
          ],
          "name": "stderr"
        },
        {
          "output_type": "stream",
          "text": [
            "\b\b\b\b\b\b\b\b\b\b\b\b\b\b\b\b\b\b\b\b\b\b\b\b\b\b\b\b\b\b\b\b\b\b\b\b\b\b\b\b\b\b\b\b\b\b\b\b\b\b\b\b\b\b\b\b\b\b\b\b\b\b\b\b\b\b\b\b\b\b\b\b\b\b\b\b\b\b\b\b\b\b\b\b\r125/125 [==============================] - 35s 276ms/step - loss: 0.1205 - accuracy: 0.9662 - val_loss: 0.1122 - val_accuracy: 0.9685 - lr: 2.0000e-04\n",
            "Epoch 43/180\n",
            "125/125 [==============================] - ETA: 0s - loss: 0.1189 - accuracy: 0.9665\n",
            "Epoch 00043: val_accuracy did not improve from 0.96908\n"
          ],
          "name": "stdout"
        },
        {
          "output_type": "stream",
          "text": [
            "2020-05-13 05:11:34,780 INFO \n",
            " epoch:042, F1Macro: 0.93820\n"
          ],
          "name": "stderr"
        },
        {
          "output_type": "stream",
          "text": [
            "\b\b\b\b\b\b\b\b\b\b\b\b\b\b\b\b\b\b\b\b\b\b\b\b\b\b\b\b\b\b\b\b\b\b\b\b\b\b\b\b\b\b\b\b\b\b\b\b\b\b\b\b\b\b\b\b\b\b\b\b\b\b\b\b\b\b\b\b\b\b\b\b\b\b\b\b\b\b\b\b\b\b\b\b\r125/125 [==============================] - 35s 276ms/step - loss: 0.1189 - accuracy: 0.9665 - val_loss: 0.1108 - val_accuracy: 0.9689 - lr: 2.0000e-04\n",
            "Epoch 44/180\n",
            "125/125 [==============================] - ETA: 0s - loss: 0.1197 - accuracy: 0.9659\n",
            "Epoch 00044: val_accuracy did not improve from 0.96908\n"
          ],
          "name": "stdout"
        },
        {
          "output_type": "stream",
          "text": [
            "2020-05-13 05:12:09,580 INFO \n",
            " epoch:043, F1Macro: 0.93806\n"
          ],
          "name": "stderr"
        },
        {
          "output_type": "stream",
          "text": [
            "\b\b\b\b\b\b\b\b\b\b\b\b\b\b\b\b\b\b\b\b\b\b\b\b\b\b\b\b\b\b\b\b\b\b\b\b\b\b\b\b\b\b\b\b\b\b\b\b\b\b\b\b\b\b\b\b\b\b\b\b\b\b\b\b\b\b\b\b\b\b\b\b\b\b\b\b\b\b\b\b\b\b\b\b\r125/125 [==============================] - 35s 276ms/step - loss: 0.1197 - accuracy: 0.9659 - val_loss: 0.1113 - val_accuracy: 0.9688 - lr: 2.0000e-04\n",
            "Epoch 45/180\n",
            "125/125 [==============================] - ETA: 0s - loss: 0.1173 - accuracy: 0.9665\n",
            "Epoch 00045: val_accuracy did not improve from 0.96908\n"
          ],
          "name": "stdout"
        },
        {
          "output_type": "stream",
          "text": [
            "2020-05-13 05:12:44,360 INFO \n",
            " epoch:044, F1Macro: 0.93876\n"
          ],
          "name": "stderr"
        },
        {
          "output_type": "stream",
          "text": [
            "\b\b\b\b\b\b\b\b\b\b\b\b\b\b\b\b\b\b\b\b\b\b\b\b\b\b\b\b\b\b\b\b\b\b\b\b\b\b\b\b\b\b\b\b\b\b\b\b\b\b\b\b\b\b\b\b\b\b\b\b\b\b\b\b\b\b\b\b\b\b\b\b\b\b\b\b\b\b\b\b\b\b\b\b\r125/125 [==============================] - 35s 282ms/step - loss: 0.1173 - accuracy: 0.9665 - val_loss: 0.1090 - val_accuracy: 0.9691 - lr: 2.0000e-04\n",
            "Epoch 46/180\n",
            "125/125 [==============================] - ETA: 0s - loss: 0.1162 - accuracy: 0.9667\n",
            "Epoch 00046: val_accuracy did not improve from 0.96908\n"
          ],
          "name": "stdout"
        },
        {
          "output_type": "stream",
          "text": [
            "2020-05-13 05:13:19,845 INFO \n",
            " epoch:045, F1Macro: 0.93812\n"
          ],
          "name": "stderr"
        },
        {
          "output_type": "stream",
          "text": [
            "\b\b\b\b\b\b\b\b\b\b\b\b\b\b\b\b\b\b\b\b\b\b\b\b\b\b\b\b\b\b\b\b\b\b\b\b\b\b\b\b\b\b\b\b\b\b\b\b\b\b\b\b\b\b\b\b\b\b\b\b\b\b\b\b\b\b\b\b\b\b\b\b\b\b\b\b\b\b\b\b\b\b\b\b\r125/125 [==============================] - 35s 276ms/step - loss: 0.1162 - accuracy: 0.9667 - val_loss: 0.1088 - val_accuracy: 0.9688 - lr: 2.0000e-04\n",
            "Epoch 47/180\n",
            "125/125 [==============================] - ETA: 0s - loss: 0.1157 - accuracy: 0.9666\n",
            "Epoch 00047: val_accuracy did not improve from 0.96908\n"
          ],
          "name": "stdout"
        },
        {
          "output_type": "stream",
          "text": [
            "2020-05-13 05:13:54,594 INFO \n",
            " epoch:046, F1Macro: 0.93776\n"
          ],
          "name": "stderr"
        },
        {
          "output_type": "stream",
          "text": [
            "\b\b\b\b\b\b\b\b\b\b\b\b\b\b\b\b\b\b\b\b\b\b\b\b\b\b\b\b\b\b\b\b\b\b\b\b\b\b\b\b\b\b\b\b\b\b\b\b\b\b\b\b\b\b\b\b\b\b\b\b\b\b\b\b\b\b\b\b\b\b\b\b\b\b\b\b\b\b\b\b\b\b\b\b\r125/125 [==============================] - 34s 276ms/step - loss: 0.1157 - accuracy: 0.9666 - val_loss: 0.1080 - val_accuracy: 0.9690 - lr: 2.0000e-04\n",
            "Epoch 48/180\n",
            "125/125 [==============================] - ETA: 0s - loss: 0.1151 - accuracy: 0.9665\n",
            "Epoch 00048: val_accuracy improved from 0.96908 to 0.96937, saving model to ion_switch/res/wavenet-dlr-res/ClassifierCBRWmulti-Prob11-NESCAL/all/1_fold/checkpoint-modelonly-1.h5\n"
          ],
          "name": "stdout"
        },
        {
          "output_type": "stream",
          "text": [
            "2020-05-13 05:14:30,098 INFO \n",
            " epoch:047, F1Macro: 0.93919\n"
          ],
          "name": "stderr"
        },
        {
          "output_type": "stream",
          "text": [
            "\b\b\b\b\b\b\b\b\b\b\b\b\b\b\b\b\b\b\b\b\b\b\b\b\b\b\b\b\b\b\b\b\b\b\b\b\b\b\b\b\b\b\b\b\b\b\b\b\b\b\b\b\b\b\b\b\b\b\b\b\b\b\b\b\b\b\b\b\b\b\b\b\b\b\b\b\b\b\b\b\b\b\b\b\r125/125 [==============================] - 36s 287ms/step - loss: 0.1151 - accuracy: 0.9665 - val_loss: 0.1068 - val_accuracy: 0.9694 - lr: 2.0000e-04\n",
            "Epoch 49/180\n",
            "125/125 [==============================] - ETA: 0s - loss: 0.1148 - accuracy: 0.9665\n",
            "Epoch 00049: val_accuracy did not improve from 0.96937\n"
          ],
          "name": "stdout"
        },
        {
          "output_type": "stream",
          "text": [
            "2020-05-13 05:15:05,507 INFO \n",
            " epoch:048, F1Macro: 0.93835\n"
          ],
          "name": "stderr"
        },
        {
          "output_type": "stream",
          "text": [
            "\b\b\b\b\b\b\b\b\b\b\b\b\b\b\b\b\b\b\b\b\b\b\b\b\b\b\b\b\b\b\b\b\b\b\b\b\b\b\b\b\b\b\b\b\b\b\b\b\b\b\b\b\b\b\b\b\b\b\b\b\b\b\b\b\b\b\b\b\b\b\b\b\b\b\b\b\b\b\b\b\b\b\b\b\r125/125 [==============================] - 34s 276ms/step - loss: 0.1148 - accuracy: 0.9665 - val_loss: 0.1070 - val_accuracy: 0.9689 - lr: 2.0000e-04\n",
            "Epoch 50/180\n",
            "125/125 [==============================] - ETA: 0s - loss: 0.1141 - accuracy: 0.9665\n",
            "Epoch 00050: val_accuracy did not improve from 0.96937\n"
          ],
          "name": "stdout"
        },
        {
          "output_type": "stream",
          "text": [
            "2020-05-13 05:15:40,239 INFO \n",
            " epoch:049, F1Macro: 0.93600\n"
          ],
          "name": "stderr"
        },
        {
          "output_type": "stream",
          "text": [
            "\b\b\b\b\b\b\b\b\b\b\b\b\b\b\b\b\b\b\b\b\b\b\b\b\b\b\b\b\b\b\b\b\b\b\b\b\b\b\b\b\b\b\b\b\b\b\b\b\b\b\b\b\b\b\b\b\b\b\b\b\b\b\b\b\b\b\b\b\b\b\b\b\b\b\b\b\b\b\b\b\b\b\b\b\r125/125 [==============================] - 34s 276ms/step - loss: 0.1141 - accuracy: 0.9665 - val_loss: 0.1078 - val_accuracy: 0.9682 - lr: 2.0000e-04\n",
            "Epoch 51/180\n",
            "125/125 [==============================] - ETA: 0s - loss: 0.1126 - accuracy: 0.9667\n",
            "Epoch 00051: val_accuracy did not improve from 0.96937\n"
          ],
          "name": "stdout"
        },
        {
          "output_type": "stream",
          "text": [
            "2020-05-13 05:16:14,973 INFO \n",
            " epoch:050, F1Macro: 0.93851\n"
          ],
          "name": "stderr"
        },
        {
          "output_type": "stream",
          "text": [
            "\b\b\b\b\b\b\b\b\b\b\b\b\b\b\b\b\b\b\b\b\b\b\b\b\b\b\b\b\b\b\b\b\b\b\b\b\b\b\b\b\b\b\b\b\b\b\b\b\b\b\b\b\b\b\b\b\b\b\b\b\b\b\b\b\b\b\b\b\b\b\b\b\b\b\b\b\b\b\b\b\b\b\b\b\r125/125 [==============================] - 34s 276ms/step - loss: 0.1126 - accuracy: 0.9667 - val_loss: 0.1050 - val_accuracy: 0.9692 - lr: 1.4286e-04\n",
            "Epoch 52/180\n",
            "125/125 [==============================] - ETA: 0s - loss: 0.1117 - accuracy: 0.9670\n",
            "Epoch 00052: val_accuracy improved from 0.96937 to 0.96943, saving model to ion_switch/res/wavenet-dlr-res/ClassifierCBRWmulti-Prob11-NESCAL/all/1_fold/checkpoint-modelonly-1.h5\n"
          ],
          "name": "stdout"
        },
        {
          "output_type": "stream",
          "text": [
            "2020-05-13 05:16:50,449 INFO \n",
            " epoch:051, F1Macro: 0.93919\n"
          ],
          "name": "stderr"
        },
        {
          "output_type": "stream",
          "text": [
            "\b\b\b\b\b\b\b\b\b\b\b\b\b\b\b\b\b\b\b\b\b\b\b\b\b\b\b\b\b\b\b\b\b\b\b\b\b\b\b\b\b\b\b\b\b\b\b\b\b\b\b\b\b\b\b\b\b\b\b\b\b\b\b\b\b\b\b\b\b\b\b\b\b\b\b\b\b\b\b\b\b\b\b\b\r125/125 [==============================] - 36s 287ms/step - loss: 0.1117 - accuracy: 0.9670 - val_loss: 0.1041 - val_accuracy: 0.9694 - lr: 1.4286e-04\n",
            "Epoch 53/180\n",
            "125/125 [==============================] - ETA: 0s - loss: 0.1116 - accuracy: 0.9668\n",
            "Epoch 00053: val_accuracy did not improve from 0.96943\n"
          ],
          "name": "stdout"
        },
        {
          "output_type": "stream",
          "text": [
            "2020-05-13 05:17:25,814 INFO \n",
            " epoch:052, F1Macro: 0.93871\n"
          ],
          "name": "stderr"
        },
        {
          "output_type": "stream",
          "text": [
            "\b\b\b\b\b\b\b\b\b\b\b\b\b\b\b\b\b\b\b\b\b\b\b\b\b\b\b\b\b\b\b\b\b\b\b\b\b\b\b\b\b\b\b\b\b\b\b\b\b\b\b\b\b\b\b\b\b\b\b\b\b\b\b\b\b\b\b\b\b\b\b\b\b\b\b\b\b\b\b\b\b\b\b\b\r125/125 [==============================] - 34s 275ms/step - loss: 0.1116 - accuracy: 0.9668 - val_loss: 0.1046 - val_accuracy: 0.9691 - lr: 1.4286e-04\n",
            "Epoch 54/180\n",
            "125/125 [==============================] - ETA: 0s - loss: 0.1112 - accuracy: 0.9668\n",
            "Epoch 00054: val_accuracy did not improve from 0.96943\n"
          ],
          "name": "stdout"
        },
        {
          "output_type": "stream",
          "text": [
            "2020-05-13 05:18:00,487 INFO \n",
            " epoch:053, F1Macro: 0.93815\n"
          ],
          "name": "stderr"
        },
        {
          "output_type": "stream",
          "text": [
            "\b\b\b\b\b\b\b\b\b\b\b\b\b\b\b\b\b\b\b\b\b\b\b\b\b\b\b\b\b\b\b\b\b\b\b\b\b\b\b\b\b\b\b\b\b\b\b\b\b\b\b\b\b\b\b\b\b\b\b\b\b\b\b\b\b\b\b\b\b\b\b\b\b\b\b\b\b\b\b\b\b\b\b\b\r125/125 [==============================] - 34s 275ms/step - loss: 0.1112 - accuracy: 0.9668 - val_loss: 0.1040 - val_accuracy: 0.9689 - lr: 1.4286e-04\n",
            "Epoch 55/180\n",
            "125/125 [==============================] - ETA: 0s - loss: 0.1104 - accuracy: 0.9669\n",
            "Epoch 00055: val_accuracy did not improve from 0.96943\n"
          ],
          "name": "stdout"
        },
        {
          "output_type": "stream",
          "text": [
            "2020-05-13 05:18:35,226 INFO \n",
            " epoch:054, F1Macro: 0.93895\n"
          ],
          "name": "stderr"
        },
        {
          "output_type": "stream",
          "text": [
            "\b\b\b\b\b\b\b\b\b\b\b\b\b\b\b\b\b\b\b\b\b\b\b\b\b\b\b\b\b\b\b\b\b\b\b\b\b\b\b\b\b\b\b\b\b\b\b\b\b\b\b\b\b\b\b\b\b\b\b\b\b\b\b\b\b\b\b\b\b\b\b\b\b\b\b\b\b\b\b\b\b\b\b\b\r125/125 [==============================] - 34s 276ms/step - loss: 0.1104 - accuracy: 0.9669 - val_loss: 0.1033 - val_accuracy: 0.9693 - lr: 1.4286e-04\n",
            "Epoch 56/180\n",
            "125/125 [==============================] - ETA: 0s - loss: 0.1093 - accuracy: 0.9671\n",
            "Epoch 00056: val_accuracy did not improve from 0.96943\n"
          ],
          "name": "stdout"
        },
        {
          "output_type": "stream",
          "text": [
            "2020-05-13 05:19:10,008 INFO \n",
            " epoch:055, F1Macro: 0.93891\n"
          ],
          "name": "stderr"
        },
        {
          "output_type": "stream",
          "text": [
            "\b\b\b\b\b\b\b\b\b\b\b\b\b\b\b\b\b\b\b\b\b\b\b\b\b\b\b\b\b\b\b\b\b\b\b\b\b\b\b\b\b\b\b\b\b\b\b\b\b\b\b\b\b\b\b\b\b\b\b\b\b\b\b\b\b\b\b\b\b\b\b\b\b\b\b\b\b\b\b\b\b\b\b\b\r125/125 [==============================] - 35s 276ms/step - loss: 0.1093 - accuracy: 0.9671 - val_loss: 0.1024 - val_accuracy: 0.9694 - lr: 1.4286e-04\n",
            "Epoch 57/180\n",
            "125/125 [==============================] - ETA: 0s - loss: 0.1087 - accuracy: 0.9672\n",
            "Epoch 00057: val_accuracy did not improve from 0.96943\n"
          ],
          "name": "stdout"
        },
        {
          "output_type": "stream",
          "text": [
            "2020-05-13 05:19:44,762 INFO \n",
            " epoch:056, F1Macro: 0.93770\n"
          ],
          "name": "stderr"
        },
        {
          "output_type": "stream",
          "text": [
            "\b\b\b\b\b\b\b\b\b\b\b\b\b\b\b\b\b\b\b\b\b\b\b\b\b\b\b\b\b\b\b\b\b\b\b\b\b\b\b\b\b\b\b\b\b\b\b\b\b\b\b\b\b\b\b\b\b\b\b\b\b\b\b\b\b\b\b\b\b\b\b\b\b\b\b\b\b\b\b\b\b\b\b\b\r125/125 [==============================] - 34s 276ms/step - loss: 0.1087 - accuracy: 0.9672 - val_loss: 0.1027 - val_accuracy: 0.9691 - lr: 1.4286e-04\n",
            "Epoch 58/180\n",
            "125/125 [==============================] - ETA: 0s - loss: 0.1090 - accuracy: 0.9669\n",
            "Epoch 00058: val_accuracy did not improve from 0.96943\n"
          ],
          "name": "stdout"
        },
        {
          "output_type": "stream",
          "text": [
            "2020-05-13 05:20:19,496 INFO \n",
            " epoch:057, F1Macro: 0.93910\n"
          ],
          "name": "stderr"
        },
        {
          "output_type": "stream",
          "text": [
            "\b\b\b\b\b\b\b\b\b\b\b\b\b\b\b\b\b\b\b\b\b\b\b\b\b\b\b\b\b\b\b\b\b\b\b\b\b\b\b\b\b\b\b\b\b\b\b\b\b\b\b\b\b\b\b\b\b\b\b\b\b\b\b\b\b\b\b\b\b\b\b\b\b\b\b\b\b\b\b\b\b\b\b\b\r125/125 [==============================] - 34s 276ms/step - loss: 0.1090 - accuracy: 0.9669 - val_loss: 0.1017 - val_accuracy: 0.9692 - lr: 1.4286e-04\n",
            "Epoch 59/180\n",
            "125/125 [==============================] - ETA: 0s - loss: 0.1081 - accuracy: 0.9670\n",
            "Epoch 00059: val_accuracy did not improve from 0.96943\n"
          ],
          "name": "stdout"
        },
        {
          "output_type": "stream",
          "text": [
            "2020-05-13 05:20:54,250 INFO \n",
            " epoch:058, F1Macro: 0.93761\n"
          ],
          "name": "stderr"
        },
        {
          "output_type": "stream",
          "text": [
            "\b\b\b\b\b\b\b\b\b\b\b\b\b\b\b\b\b\b\b\b\b\b\b\b\b\b\b\b\b\b\b\b\b\b\b\b\b\b\b\b\b\b\b\b\b\b\b\b\b\b\b\b\b\b\b\b\b\b\b\b\b\b\b\b\b\b\b\b\b\b\b\b\b\b\b\b\b\b\b\b\b\b\b\b\r125/125 [==============================] - 34s 276ms/step - loss: 0.1081 - accuracy: 0.9670 - val_loss: 0.1022 - val_accuracy: 0.9688 - lr: 1.4286e-04\n",
            "Epoch 60/180\n",
            "125/125 [==============================] - ETA: 0s - loss: 0.1071 - accuracy: 0.9672\n",
            "Epoch 00060: val_accuracy did not improve from 0.96943\n"
          ],
          "name": "stdout"
        },
        {
          "output_type": "stream",
          "text": [
            "2020-05-13 05:21:29,031 INFO \n",
            " epoch:059, F1Macro: 0.93830\n"
          ],
          "name": "stderr"
        },
        {
          "output_type": "stream",
          "text": [
            "\b\b\b\b\b\b\b\b\b\b\b\b\b\b\b\b\b\b\b\b\b\b\b\b\b\b\b\b\b\b\b\b\b\b\b\b\b\b\b\b\b\b\b\b\b\b\b\b\b\b\b\b\b\b\b\b\b\b\b\b\b\b\b\b\b\b\b\b\b\b\b\b\b\b\b\b\b\b\b\b\b\b\b\b\r125/125 [==============================] - 35s 276ms/step - loss: 0.1071 - accuracy: 0.9672 - val_loss: 0.1016 - val_accuracy: 0.9690 - lr: 1.4286e-04\n",
            "Epoch 61/180\n",
            "125/125 [==============================] - ETA: 0s - loss: 0.1064 - accuracy: 0.9673\n",
            "Epoch 00061: val_accuracy did not improve from 0.96943\n"
          ],
          "name": "stdout"
        },
        {
          "output_type": "stream",
          "text": [
            "2020-05-13 05:22:03,782 INFO \n",
            " epoch:060, F1Macro: 0.93903\n"
          ],
          "name": "stderr"
        },
        {
          "output_type": "stream",
          "text": [
            "\b\b\b\b\b\b\b\b\b\b\b\b\b\b\b\b\b\b\b\b\b\b\b\b\b\b\b\b\b\b\b\b\b\b\b\b\b\b\b\b\b\b\b\b\b\b\b\b\b\b\b\b\b\b\b\b\b\b\b\b\b\b\b\b\b\b\b\b\b\b\b\b\b\b\b\b\b\b\b\b\b\b\b\b\r125/125 [==============================] - 34s 276ms/step - loss: 0.1064 - accuracy: 0.9673 - val_loss: 0.1002 - val_accuracy: 0.9693 - lr: 1.1111e-04\n",
            "Epoch 62/180\n",
            "125/125 [==============================] - ETA: 0s - loss: 0.1061 - accuracy: 0.9673\n",
            "Epoch 00062: val_accuracy did not improve from 0.96943\n"
          ],
          "name": "stdout"
        },
        {
          "output_type": "stream",
          "text": [
            "2020-05-13 05:22:38,538 INFO \n",
            " epoch:061, F1Macro: 0.93895\n"
          ],
          "name": "stderr"
        },
        {
          "output_type": "stream",
          "text": [
            "\b\b\b\b\b\b\b\b\b\b\b\b\b\b\b\b\b\b\b\b\b\b\b\b\b\b\b\b\b\b\b\b\b\b\b\b\b\b\b\b\b\b\b\b\b\b\b\b\b\b\b\b\b\b\b\b\b\b\b\b\b\b\b\b\b\b\b\b\b\b\b\b\b\b\b\b\b\b\b\b\b\b\b\b\r125/125 [==============================] - 34s 276ms/step - loss: 0.1061 - accuracy: 0.9673 - val_loss: 0.0998 - val_accuracy: 0.9693 - lr: 1.1111e-04\n",
            "Epoch 63/180\n",
            "125/125 [==============================] - ETA: 0s - loss: 0.1069 - accuracy: 0.9669\n",
            "Epoch 00063: val_accuracy did not improve from 0.96943\n"
          ],
          "name": "stdout"
        },
        {
          "output_type": "stream",
          "text": [
            "2020-05-13 05:23:13,294 INFO \n",
            " epoch:062, F1Macro: 0.93921\n"
          ],
          "name": "stderr"
        },
        {
          "output_type": "stream",
          "text": [
            "\b\b\b\b\b\b\b\b\b\b\b\b\b\b\b\b\b\b\b\b\b\b\b\b\b\b\b\b\b\b\b\b\b\b\b\b\b\b\b\b\b\b\b\b\b\b\b\b\b\b\b\b\b\b\b\b\b\b\b\b\b\b\b\b\b\b\b\b\b\b\b\b\b\b\b\b\b\b\b\b\b\b\b\b\r125/125 [==============================] - 35s 282ms/step - loss: 0.1069 - accuracy: 0.9669 - val_loss: 0.0997 - val_accuracy: 0.9694 - lr: 1.1111e-04\n",
            "Epoch 64/180\n",
            "125/125 [==============================] - ETA: 0s - loss: 0.1051 - accuracy: 0.9674\n",
            "Epoch 00064: val_accuracy improved from 0.96943 to 0.96948, saving model to ion_switch/res/wavenet-dlr-res/ClassifierCBRWmulti-Prob11-NESCAL/all/1_fold/checkpoint-modelonly-1.h5\n"
          ],
          "name": "stdout"
        },
        {
          "output_type": "stream",
          "text": [
            "2020-05-13 05:23:51,492 INFO \n",
            " epoch:063, F1Macro: 0.93926\n"
          ],
          "name": "stderr"
        },
        {
          "output_type": "stream",
          "text": [
            "\b\b\b\b\b\b\b\b\b\b\b\b\b\b\b\b\b\b\b\b\b\b\b\b\b\b\b\b\b\b\b\b\b\b\b\b\b\b\b\b\b\b\b\b\b\b\b\b\b\b\b\b\b\b\b\b\b\b\b\b\b\b\b\b\b\b\b\b\b\b\b\b\b\b\b\b\b\b\b\b\b\b\b\b\r125/125 [==============================] - 38s 303ms/step - loss: 0.1051 - accuracy: 0.9674 - val_loss: 0.0988 - val_accuracy: 0.9695 - lr: 1.1111e-04\n",
            "Epoch 65/180\n",
            "125/125 [==============================] - ETA: 0s - loss: 0.1130 - accuracy: 0.9647\n",
            "Epoch 00065: val_accuracy did not improve from 0.96948\n"
          ],
          "name": "stdout"
        },
        {
          "output_type": "stream",
          "text": [
            "2020-05-13 05:24:26,932 INFO \n",
            " epoch:064, F1Macro: 0.93898\n"
          ],
          "name": "stderr"
        },
        {
          "output_type": "stream",
          "text": [
            "\b\b\b\b\b\b\b\b\b\b\b\b\b\b\b\b\b\b\b\b\b\b\b\b\b\b\b\b\b\b\b\b\b\b\b\b\b\b\b\b\b\b\b\b\b\b\b\b\b\b\b\b\b\b\b\b\b\b\b\b\b\b\b\b\b\b\b\b\b\b\b\b\b\b\b\b\b\b\b\b\b\b\b\b\r125/125 [==============================] - 34s 276ms/step - loss: 0.1130 - accuracy: 0.9647 - val_loss: 0.0991 - val_accuracy: 0.9691 - lr: 1.1111e-04\n",
            "Epoch 66/180\n",
            "125/125 [==============================] - ETA: 0s - loss: 0.1046 - accuracy: 0.9673\n",
            "Epoch 00066: val_accuracy improved from 0.96948 to 0.96963, saving model to ion_switch/res/wavenet-dlr-res/ClassifierCBRWmulti-Prob11-NESCAL/all/1_fold/checkpoint-modelonly-1.h5\n"
          ],
          "name": "stdout"
        },
        {
          "output_type": "stream",
          "text": [
            "2020-05-13 05:25:02,443 INFO \n",
            " epoch:065, F1Macro: 0.93957\n"
          ],
          "name": "stderr"
        },
        {
          "output_type": "stream",
          "text": [
            "\b\b\b\b\b\b\b\b\b\b\b\b\b\b\b\b\b\b\b\b\b\b\b\b\b\b\b\b\b\b\b\b\b\b\b\b\b\b\b\b\b\b\b\b\b\b\b\b\b\b\b\b\b\b\b\b\b\b\b\b\b\b\b\b\b\b\b\b\b\b\b\b\b\b\b\b\b\b\b\b\b\b\b\b\r125/125 [==============================] - 36s 287ms/step - loss: 0.1046 - accuracy: 0.9673 - val_loss: 0.0982 - val_accuracy: 0.9696 - lr: 1.1111e-04\n",
            "Epoch 67/180\n",
            "125/125 [==============================] - ETA: 0s - loss: 0.1046 - accuracy: 0.9673\n",
            "Epoch 00067: val_accuracy did not improve from 0.96963\n"
          ],
          "name": "stdout"
        },
        {
          "output_type": "stream",
          "text": [
            "2020-05-13 05:25:37,837 INFO \n",
            " epoch:066, F1Macro: 0.93927\n"
          ],
          "name": "stderr"
        },
        {
          "output_type": "stream",
          "text": [
            "\b\b\b\b\b\b\b\b\b\b\b\b\b\b\b\b\b\b\b\b\b\b\b\b\b\b\b\b\b\b\b\b\b\b\b\b\b\b\b\b\b\b\b\b\b\b\b\b\b\b\b\b\b\b\b\b\b\b\b\b\b\b\b\b\b\b\b\b\b\b\b\b\b\b\b\b\b\b\b\b\b\b\b\b\r125/125 [==============================] - 34s 276ms/step - loss: 0.1046 - accuracy: 0.9673 - val_loss: 0.0981 - val_accuracy: 0.9694 - lr: 1.1111e-04\n",
            "Epoch 68/180\n",
            "125/125 [==============================] - ETA: 0s - loss: 0.1039 - accuracy: 0.9674\n",
            "Epoch 00068: val_accuracy did not improve from 0.96963\n"
          ],
          "name": "stdout"
        },
        {
          "output_type": "stream",
          "text": [
            "2020-05-13 05:26:12,551 INFO \n",
            " epoch:067, F1Macro: 0.93845\n"
          ],
          "name": "stderr"
        },
        {
          "output_type": "stream",
          "text": [
            "\b\b\b\b\b\b\b\b\b\b\b\b\b\b\b\b\b\b\b\b\b\b\b\b\b\b\b\b\b\b\b\b\b\b\b\b\b\b\b\b\b\b\b\b\b\b\b\b\b\b\b\b\b\b\b\b\b\b\b\b\b\b\b\b\b\b\b\b\b\b\b\b\b\b\b\b\b\b\b\b\b\b\b\b\r125/125 [==============================] - 34s 276ms/step - loss: 0.1039 - accuracy: 0.9674 - val_loss: 0.0980 - val_accuracy: 0.9692 - lr: 1.1111e-04\n",
            "Epoch 69/180\n",
            "125/125 [==============================] - ETA: 0s - loss: 0.1033 - accuracy: 0.9675\n",
            "Epoch 00069: val_accuracy did not improve from 0.96963\n"
          ],
          "name": "stdout"
        },
        {
          "output_type": "stream",
          "text": [
            "2020-05-13 05:26:47,363 INFO \n",
            " epoch:068, F1Macro: 0.93923\n"
          ],
          "name": "stderr"
        },
        {
          "output_type": "stream",
          "text": [
            "\b\b\b\b\b\b\b\b\b\b\b\b\b\b\b\b\b\b\b\b\b\b\b\b\b\b\b\b\b\b\b\b\b\b\b\b\b\b\b\b\b\b\b\b\b\b\b\b\b\b\b\b\b\b\b\b\b\b\b\b\b\b\b\b\b\b\b\b\b\b\b\b\b\b\b\b\b\b\b\b\b\b\b\b\r125/125 [==============================] - 35s 276ms/step - loss: 0.1033 - accuracy: 0.9675 - val_loss: 0.0973 - val_accuracy: 0.9694 - lr: 1.1111e-04\n",
            "Epoch 70/180\n",
            "125/125 [==============================] - ETA: 0s - loss: 0.1031 - accuracy: 0.9674\n",
            "Epoch 00070: val_accuracy improved from 0.96963 to 0.96968, saving model to ion_switch/res/wavenet-dlr-res/ClassifierCBRWmulti-Prob11-NESCAL/all/1_fold/checkpoint-modelonly-1.h5\n"
          ],
          "name": "stdout"
        },
        {
          "output_type": "stream",
          "text": [
            "2020-05-13 05:27:22,883 INFO \n",
            " epoch:069, F1Macro: 0.93961\n"
          ],
          "name": "stderr"
        },
        {
          "output_type": "stream",
          "text": [
            "\b\b\b\b\b\b\b\b\b\b\b\b\b\b\b\b\b\b\b\b\b\b\b\b\b\b\b\b\b\b\b\b\b\b\b\b\b\b\b\b\b\b\b\b\b\b\b\b\b\b\b\b\b\b\b\b\b\b\b\b\b\b\b\b\b\b\b\b\b\b\b\b\b\b\b\b\b\b\b\b\b\b\b\b\r125/125 [==============================] - 36s 288ms/step - loss: 0.1031 - accuracy: 0.9674 - val_loss: 0.0968 - val_accuracy: 0.9697 - lr: 1.1111e-04\n",
            "Epoch 71/180\n",
            "125/125 [==============================] - ETA: 0s - loss: 0.1026 - accuracy: 0.9675\n",
            "Epoch 00071: val_accuracy did not improve from 0.96968\n"
          ],
          "name": "stdout"
        },
        {
          "output_type": "stream",
          "text": [
            "2020-05-13 05:27:58,381 INFO \n",
            " epoch:070, F1Macro: 0.93861\n"
          ],
          "name": "stderr"
        },
        {
          "output_type": "stream",
          "text": [
            "\b\b\b\b\b\b\b\b\b\b\b\b\b\b\b\b\b\b\b\b\b\b\b\b\b\b\b\b\b\b\b\b\b\b\b\b\b\b\b\b\b\b\b\b\b\b\b\b\b\b\b\b\b\b\b\b\b\b\b\b\b\b\b\b\b\b\b\b\b\b\b\b\b\b\b\b\b\b\b\b\b\b\b\b\r125/125 [==============================] - 35s 276ms/step - loss: 0.1026 - accuracy: 0.9675 - val_loss: 0.0968 - val_accuracy: 0.9694 - lr: 9.0909e-05\n",
            "Epoch 72/180\n",
            "125/125 [==============================] - ETA: 0s - loss: 0.1021 - accuracy: 0.9676\n",
            "Epoch 00072: val_accuracy did not improve from 0.96968\n"
          ],
          "name": "stdout"
        },
        {
          "output_type": "stream",
          "text": [
            "2020-05-13 05:28:33,089 INFO \n",
            " epoch:071, F1Macro: 0.93907\n"
          ],
          "name": "stderr"
        },
        {
          "output_type": "stream",
          "text": [
            "\b\b\b\b\b\b\b\b\b\b\b\b\b\b\b\b\b\b\b\b\b\b\b\b\b\b\b\b\b\b\b\b\b\b\b\b\b\b\b\b\b\b\b\b\b\b\b\b\b\b\b\b\b\b\b\b\b\b\b\b\b\b\b\b\b\b\b\b\b\b\b\b\b\b\b\b\b\b\b\b\b\b\b\b\r125/125 [==============================] - 34s 276ms/step - loss: 0.1021 - accuracy: 0.9676 - val_loss: 0.0967 - val_accuracy: 0.9693 - lr: 9.0909e-05\n",
            "Epoch 73/180\n",
            "125/125 [==============================] - ETA: 0s - loss: 0.1019 - accuracy: 0.9675\n",
            "Epoch 00073: val_accuracy did not improve from 0.96968\n"
          ],
          "name": "stdout"
        },
        {
          "output_type": "stream",
          "text": [
            "2020-05-13 05:29:07,826 INFO \n",
            " epoch:072, F1Macro: 0.93929\n"
          ],
          "name": "stderr"
        },
        {
          "output_type": "stream",
          "text": [
            "\b\b\b\b\b\b\b\b\b\b\b\b\b\b\b\b\b\b\b\b\b\b\b\b\b\b\b\b\b\b\b\b\b\b\b\b\b\b\b\b\b\b\b\b\b\b\b\b\b\b\b\b\b\b\b\b\b\b\b\b\b\b\b\b\b\b\b\b\b\b\b\b\b\b\b\b\b\b\b\b\b\b\b\b\r125/125 [==============================] - 34s 276ms/step - loss: 0.1019 - accuracy: 0.9675 - val_loss: 0.0960 - val_accuracy: 0.9696 - lr: 9.0909e-05\n",
            "Epoch 74/180\n",
            "125/125 [==============================] - ETA: 0s - loss: 0.1017 - accuracy: 0.9675\n",
            "Epoch 00074: val_accuracy did not improve from 0.96968\n"
          ],
          "name": "stdout"
        },
        {
          "output_type": "stream",
          "text": [
            "2020-05-13 05:29:42,616 INFO \n",
            " epoch:073, F1Macro: 0.93928\n"
          ],
          "name": "stderr"
        },
        {
          "output_type": "stream",
          "text": [
            "\b\b\b\b\b\b\b\b\b\b\b\b\b\b\b\b\b\b\b\b\b\b\b\b\b\b\b\b\b\b\b\b\b\b\b\b\b\b\b\b\b\b\b\b\b\b\b\b\b\b\b\b\b\b\b\b\b\b\b\b\b\b\b\b\b\b\b\b\b\b\b\b\b\b\b\b\b\b\b\b\b\b\b\b\r125/125 [==============================] - 35s 276ms/step - loss: 0.1017 - accuracy: 0.9675 - val_loss: 0.0961 - val_accuracy: 0.9695 - lr: 9.0909e-05\n",
            "Epoch 75/180\n",
            "125/125 [==============================] - ETA: 0s - loss: 0.1011 - accuracy: 0.9676\n",
            "Epoch 00075: val_accuracy did not improve from 0.96968\n"
          ],
          "name": "stdout"
        },
        {
          "output_type": "stream",
          "text": [
            "2020-05-13 05:30:17,403 INFO \n",
            " epoch:074, F1Macro: 0.93913\n"
          ],
          "name": "stderr"
        },
        {
          "output_type": "stream",
          "text": [
            "\b\b\b\b\b\b\b\b\b\b\b\b\b\b\b\b\b\b\b\b\b\b\b\b\b\b\b\b\b\b\b\b\b\b\b\b\b\b\b\b\b\b\b\b\b\b\b\b\b\b\b\b\b\b\b\b\b\b\b\b\b\b\b\b\b\b\b\b\b\b\b\b\b\b\b\b\b\b\b\b\b\b\b\b\r125/125 [==============================] - 35s 276ms/step - loss: 0.1011 - accuracy: 0.9676 - val_loss: 0.0959 - val_accuracy: 0.9693 - lr: 9.0909e-05\n",
            "Epoch 76/180\n",
            "125/125 [==============================] - ETA: 0s - loss: 0.1011 - accuracy: 0.9676\n",
            "Epoch 00076: val_accuracy did not improve from 0.96968\n"
          ],
          "name": "stdout"
        },
        {
          "output_type": "stream",
          "text": [
            "2020-05-13 05:30:52,156 INFO \n",
            " epoch:075, F1Macro: 0.93950\n"
          ],
          "name": "stderr"
        },
        {
          "output_type": "stream",
          "text": [
            "\b\b\b\b\b\b\b\b\b\b\b\b\b\b\b\b\b\b\b\b\b\b\b\b\b\b\b\b\b\b\b\b\b\b\b\b\b\b\b\b\b\b\b\b\b\b\b\b\b\b\b\b\b\b\b\b\b\b\b\b\b\b\b\b\b\b\b\b\b\b\b\b\b\b\b\b\b\b\b\b\b\b\b\b\r125/125 [==============================] - 34s 276ms/step - loss: 0.1011 - accuracy: 0.9676 - val_loss: 0.0952 - val_accuracy: 0.9696 - lr: 9.0909e-05\n",
            "Epoch 77/180\n",
            "125/125 [==============================] - ETA: 0s - loss: 0.1007 - accuracy: 0.9676\n",
            "Epoch 00077: val_accuracy did not improve from 0.96968\n"
          ],
          "name": "stdout"
        },
        {
          "output_type": "stream",
          "text": [
            "2020-05-13 05:31:26,920 INFO \n",
            " epoch:076, F1Macro: 0.93959\n"
          ],
          "name": "stderr"
        },
        {
          "output_type": "stream",
          "text": [
            "\b\b\b\b\b\b\b\b\b\b\b\b\b\b\b\b\b\b\b\b\b\b\b\b\b\b\b\b\b\b\b\b\b\b\b\b\b\b\b\b\b\b\b\b\b\b\b\b\b\b\b\b\b\b\b\b\b\b\b\b\b\b\b\b\b\b\b\b\b\b\b\b\b\b\b\b\b\b\b\b\b\b\b\b\r125/125 [==============================] - 34s 276ms/step - loss: 0.1007 - accuracy: 0.9676 - val_loss: 0.0951 - val_accuracy: 0.9696 - lr: 9.0909e-05\n",
            "Epoch 78/180\n",
            "125/125 [==============================] - ETA: 0s - loss: 0.1004 - accuracy: 0.9676\n",
            "Epoch 00078: val_accuracy did not improve from 0.96968\n"
          ],
          "name": "stdout"
        },
        {
          "output_type": "stream",
          "text": [
            "2020-05-13 05:32:01,709 INFO \n",
            " epoch:077, F1Macro: 0.93957\n"
          ],
          "name": "stderr"
        },
        {
          "output_type": "stream",
          "text": [
            "\b\b\b\b\b\b\b\b\b\b\b\b\b\b\b\b\b\b\b\b\b\b\b\b\b\b\b\b\b\b\b\b\b\b\b\b\b\b\b\b\b\b\b\b\b\b\b\b\b\b\b\b\b\b\b\b\b\b\b\b\b\b\b\b\b\b\b\b\b\b\b\b\b\b\b\b\b\b\b\b\b\b\b\b\r125/125 [==============================] - 35s 276ms/step - loss: 0.1004 - accuracy: 0.9676 - val_loss: 0.0949 - val_accuracy: 0.9696 - lr: 9.0909e-05\n",
            "Epoch 79/180\n",
            "125/125 [==============================] - ETA: 0s - loss: 0.1007 - accuracy: 0.9674\n",
            "Epoch 00079: val_accuracy did not improve from 0.96968\n"
          ],
          "name": "stdout"
        },
        {
          "output_type": "stream",
          "text": [
            "2020-05-13 05:32:36,485 INFO \n",
            " epoch:078, F1Macro: 0.93949\n"
          ],
          "name": "stderr"
        },
        {
          "output_type": "stream",
          "text": [
            "\b\b\b\b\b\b\b\b\b\b\b\b\b\b\b\b\b\b\b\b\b\b\b\b\b\b\b\b\b\b\b\b\b\b\b\b\b\b\b\b\b\b\b\b\b\b\b\b\b\b\b\b\b\b\b\b\b\b\b\b\b\b\b\b\b\b\b\b\b\b\b\b\b\b\b\b\b\b\b\b\b\b\b\b\r125/125 [==============================] - 35s 276ms/step - loss: 0.1007 - accuracy: 0.9674 - val_loss: 0.0945 - val_accuracy: 0.9696 - lr: 9.0909e-05\n",
            "Epoch 80/180\n",
            "125/125 [==============================] - ETA: 0s - loss: 0.1000 - accuracy: 0.9676\n",
            "Epoch 00080: val_accuracy did not improve from 0.96968\n"
          ],
          "name": "stdout"
        },
        {
          "output_type": "stream",
          "text": [
            "2020-05-13 05:33:11,270 INFO \n",
            " epoch:079, F1Macro: 0.93922\n"
          ],
          "name": "stderr"
        },
        {
          "output_type": "stream",
          "text": [
            "\b\b\b\b\b\b\b\b\b\b\b\b\b\b\b\b\b\b\b\b\b\b\b\b\b\b\b\b\b\b\b\b\b\b\b\b\b\b\b\b\b\b\b\b\b\b\b\b\b\b\b\b\b\b\b\b\b\b\b\b\b\b\b\b\b\b\b\b\b\b\b\b\b\b\b\b\b\b\b\b\b\b\b\b\r125/125 [==============================] - 35s 276ms/step - loss: 0.1000 - accuracy: 0.9676 - val_loss: 0.0945 - val_accuracy: 0.9693 - lr: 9.0909e-05\n",
            "Epoch 81/180\n",
            "125/125 [==============================] - ETA: 0s - loss: 0.0993 - accuracy: 0.9678\n",
            "Epoch 00081: val_accuracy did not improve from 0.96968\n"
          ],
          "name": "stdout"
        },
        {
          "output_type": "stream",
          "text": [
            "2020-05-13 05:33:46,068 INFO \n",
            " epoch:080, F1Macro: 0.93962\n"
          ],
          "name": "stderr"
        },
        {
          "output_type": "stream",
          "text": [
            "\b\b\b\b\b\b\b\b\b\b\b\b\b\b\b\b\b\b\b\b\b\b\b\b\b\b\b\b\b\b\b\b\b\b\b\b\b\b\b\b\b\b\b\b\b\b\b\b\b\b\b\b\b\b\b\b\b\b\b\b\b\b\b\b\b\b\b\b\b\b\b\b\b\b\b\b\b\b\b\b\b\b\b\b\r125/125 [==============================] - 35s 282ms/step - loss: 0.0993 - accuracy: 0.9678 - val_loss: 0.0939 - val_accuracy: 0.9697 - lr: 7.6923e-05\n",
            "Epoch 82/180\n",
            "125/125 [==============================] - ETA: 0s - loss: 0.0992 - accuracy: 0.9678\n",
            "Epoch 00082: val_accuracy did not improve from 0.96968\n"
          ],
          "name": "stdout"
        },
        {
          "output_type": "stream",
          "text": [
            "2020-05-13 05:34:21,544 INFO \n",
            " epoch:081, F1Macro: 0.93860\n"
          ],
          "name": "stderr"
        },
        {
          "output_type": "stream",
          "text": [
            "\b\b\b\b\b\b\b\b\b\b\b\b\b\b\b\b\b\b\b\b\b\b\b\b\b\b\b\b\b\b\b\b\b\b\b\b\b\b\b\b\b\b\b\b\b\b\b\b\b\b\b\b\b\b\b\b\b\b\b\b\b\b\b\b\b\b\b\b\b\b\b\b\b\b\b\b\b\b\b\b\b\b\b\b\r125/125 [==============================] - 35s 276ms/step - loss: 0.0992 - accuracy: 0.9678 - val_loss: 0.0944 - val_accuracy: 0.9693 - lr: 7.6923e-05\n",
            "Epoch 83/180\n",
            "125/125 [==============================] - ETA: 0s - loss: 0.0987 - accuracy: 0.9678\n",
            "Epoch 00083: val_accuracy improved from 0.96968 to 0.96984, saving model to ion_switch/res/wavenet-dlr-res/ClassifierCBRWmulti-Prob11-NESCAL/all/1_fold/checkpoint-modelonly-1.h5\n"
          ],
          "name": "stdout"
        },
        {
          "output_type": "stream",
          "text": [
            "2020-05-13 05:34:57,206 INFO \n",
            " epoch:082, F1Macro: 0.93969\n"
          ],
          "name": "stderr"
        },
        {
          "output_type": "stream",
          "text": [
            "\b\b\b\b\b\b\b\b\b\b\b\b\b\b\b\b\b\b\b\b\b\b\b\b\b\b\b\b\b\b\b\b\b\b\b\b\b\b\b\b\b\b\b\b\b\b\b\b\b\b\b\b\b\b\b\b\b\b\b\b\b\b\b\b\b\b\b\b\b\b\b\b\b\b\b\b\b\b\b\b\b\b\b\b\r125/125 [==============================] - 36s 289ms/step - loss: 0.0987 - accuracy: 0.9678 - val_loss: 0.0933 - val_accuracy: 0.9698 - lr: 7.6923e-05\n",
            "Epoch 84/180\n",
            "125/125 [==============================] - ETA: 0s - loss: 0.0989 - accuracy: 0.9677\n",
            "Epoch 00084: val_accuracy did not improve from 0.96984\n"
          ],
          "name": "stdout"
        },
        {
          "output_type": "stream",
          "text": [
            "2020-05-13 05:35:32,915 INFO \n",
            " epoch:083, F1Macro: 0.93941\n"
          ],
          "name": "stderr"
        },
        {
          "output_type": "stream",
          "text": [
            "\b\b\b\b\b\b\b\b\b\b\b\b\b\b\b\b\b\b\b\b\b\b\b\b\b\b\b\b\b\b\b\b\b\b\b\b\b\b\b\b\b\b\b\b\b\b\b\b\b\b\b\b\b\b\b\b\b\b\b\b\b\b\b\b\b\b\b\b\b\b\b\b\b\b\b\b\b\b\b\b\b\b\b\b\r125/125 [==============================] - 35s 278ms/step - loss: 0.0989 - accuracy: 0.9677 - val_loss: 0.0935 - val_accuracy: 0.9697 - lr: 7.6923e-05\n",
            "Epoch 85/180\n",
            "125/125 [==============================] - ETA: 0s - loss: 0.0987 - accuracy: 0.9677\n",
            "Epoch 00085: val_accuracy did not improve from 0.96984\n"
          ],
          "name": "stdout"
        },
        {
          "output_type": "stream",
          "text": [
            "2020-05-13 05:36:07,909 INFO \n",
            " epoch:084, F1Macro: 0.93930\n"
          ],
          "name": "stderr"
        },
        {
          "output_type": "stream",
          "text": [
            "\b\b\b\b\b\b\b\b\b\b\b\b\b\b\b\b\b\b\b\b\b\b\b\b\b\b\b\b\b\b\b\b\b\b\b\b\b\b\b\b\b\b\b\b\b\b\b\b\b\b\b\b\b\b\b\b\b\b\b\b\b\b\b\b\b\b\b\b\b\b\b\b\b\b\b\b\b\b\b\b\b\b\b\b\r125/125 [==============================] - 35s 278ms/step - loss: 0.0987 - accuracy: 0.9677 - val_loss: 0.0933 - val_accuracy: 0.9695 - lr: 7.6923e-05\n",
            "Epoch 86/180\n",
            "125/125 [==============================] - ETA: 0s - loss: 0.0980 - accuracy: 0.9679\n",
            "Epoch 00086: val_accuracy did not improve from 0.96984\n"
          ],
          "name": "stdout"
        },
        {
          "output_type": "stream",
          "text": [
            "2020-05-13 05:36:42,849 INFO \n",
            " epoch:085, F1Macro: 0.93957\n"
          ],
          "name": "stderr"
        },
        {
          "output_type": "stream",
          "text": [
            "\b\b\b\b\b\b\b\b\b\b\b\b\b\b\b\b\b\b\b\b\b\b\b\b\b\b\b\b\b\b\b\b\b\b\b\b\b\b\b\b\b\b\b\b\b\b\b\b\b\b\b\b\b\b\b\b\b\b\b\b\b\b\b\b\b\b\b\b\b\b\b\b\b\b\b\b\b\b\b\b\b\b\b\b\r125/125 [==============================] - 35s 277ms/step - loss: 0.0980 - accuracy: 0.9679 - val_loss: 0.0930 - val_accuracy: 0.9697 - lr: 7.6923e-05\n",
            "Epoch 87/180\n",
            "125/125 [==============================] - ETA: 0s - loss: 0.0984 - accuracy: 0.9677\n",
            "Epoch 00087: val_accuracy did not improve from 0.96984\n"
          ],
          "name": "stdout"
        },
        {
          "output_type": "stream",
          "text": [
            "2020-05-13 05:37:17,867 INFO \n",
            " epoch:086, F1Macro: 0.93925\n"
          ],
          "name": "stderr"
        },
        {
          "output_type": "stream",
          "text": [
            "\b\b\b\b\b\b\b\b\b\b\b\b\b\b\b\b\b\b\b\b\b\b\b\b\b\b\b\b\b\b\b\b\b\b\b\b\b\b\b\b\b\b\b\b\b\b\b\b\b\b\b\b\b\b\b\b\b\b\b\b\b\b\b\b\b\b\b\b\b\b\b\b\b\b\b\b\b\b\b\b\b\b\b\b\r125/125 [==============================] - 35s 278ms/step - loss: 0.0984 - accuracy: 0.9677 - val_loss: 0.0930 - val_accuracy: 0.9695 - lr: 7.6923e-05\n",
            "Epoch 88/180\n",
            "125/125 [==============================] - ETA: 0s - loss: 0.0981 - accuracy: 0.9677\n",
            "Epoch 00088: val_accuracy did not improve from 0.96984\n"
          ],
          "name": "stdout"
        },
        {
          "output_type": "stream",
          "text": [
            "2020-05-13 05:37:52,830 INFO \n",
            " epoch:087, F1Macro: 0.93939\n"
          ],
          "name": "stderr"
        },
        {
          "output_type": "stream",
          "text": [
            "\b\b\b\b\b\b\b\b\b\b\b\b\b\b\b\b\b\b\b\b\b\b\b\b\b\b\b\b\b\b\b\b\b\b\b\b\b\b\b\b\b\b\b\b\b\b\b\b\b\b\b\b\b\b\b\b\b\b\b\b\b\b\b\b\b\b\b\b\b\b\b\b\b\b\b\b\b\b\b\b\b\b\b\b\r125/125 [==============================] - 35s 278ms/step - loss: 0.0981 - accuracy: 0.9677 - val_loss: 0.0927 - val_accuracy: 0.9696 - lr: 7.6923e-05\n",
            "Epoch 89/180\n",
            "125/125 [==============================] - ETA: 0s - loss: 0.0974 - accuracy: 0.9679\n",
            "Epoch 00089: val_accuracy did not improve from 0.96984\n"
          ],
          "name": "stdout"
        },
        {
          "output_type": "stream",
          "text": [
            "2020-05-13 05:38:27,851 INFO \n",
            " epoch:088, F1Macro: 0.93930\n"
          ],
          "name": "stderr"
        },
        {
          "output_type": "stream",
          "text": [
            "\b\b\b\b\b\b\b\b\b\b\b\b\b\b\b\b\b\b\b\b\b\b\b\b\b\b\b\b\b\b\b\b\b\b\b\b\b\b\b\b\b\b\b\b\b\b\b\b\b\b\b\b\b\b\b\b\b\b\b\b\b\b\b\b\b\b\b\b\b\b\b\b\b\b\b\b\b\b\b\b\b\b\b\b\r125/125 [==============================] - 35s 278ms/step - loss: 0.0974 - accuracy: 0.9679 - val_loss: 0.0925 - val_accuracy: 0.9696 - lr: 7.6923e-05\n",
            "Epoch 90/180\n",
            "125/125 [==============================] - ETA: 0s - loss: 0.0971 - accuracy: 0.9679\n",
            "Epoch 00090: val_accuracy did not improve from 0.96984\n"
          ],
          "name": "stdout"
        },
        {
          "output_type": "stream",
          "text": [
            "2020-05-13 05:39:02,815 INFO \n",
            " epoch:089, F1Macro: 0.93921\n"
          ],
          "name": "stderr"
        },
        {
          "output_type": "stream",
          "text": [
            "\b\b\b\b\b\b\b\b\b\b\b\b\b\b\b\b\b\b\b\b\b\b\b\b\b\b\b\b\b\b\b\b\b\b\b\b\b\b\b\b\b\b\b\b\b\b\b\b\b\b\b\b\b\b\b\b\b\b\b\b\b\b\b\b\b\b\b\b\b\b\b\b\b\b\b\b\b\b\b\b\b\b\b\b\r125/125 [==============================] - 35s 278ms/step - loss: 0.0971 - accuracy: 0.9679 - val_loss: 0.0921 - val_accuracy: 0.9697 - lr: 7.6923e-05\n",
            "Epoch 91/180\n",
            "125/125 [==============================] - ETA: 0s - loss: 0.0972 - accuracy: 0.9679\n",
            "Epoch 00091: val_accuracy did not improve from 0.96984\n"
          ],
          "name": "stdout"
        },
        {
          "output_type": "stream",
          "text": [
            "2020-05-13 05:39:37,806 INFO \n",
            " epoch:090, F1Macro: 0.93967\n"
          ],
          "name": "stderr"
        },
        {
          "output_type": "stream",
          "text": [
            "\b\b\b\b\b\b\b\b\b\b\b\b\b\b\b\b\b\b\b\b\b\b\b\b\b\b\b\b\b\b\b\b\b\b\b\b\b\b\b\b\b\b\b\b\b\b\b\b\b\b\b\b\b\b\b\b\b\b\b\b\b\b\b\b\b\b\b\b\b\b\b\b\b\b\b\b\b\b\b\b\b\b\b\b\r125/125 [==============================] - 35s 278ms/step - loss: 0.0972 - accuracy: 0.9679 - val_loss: 0.0920 - val_accuracy: 0.9697 - lr: 1.0000e-05\n",
            "Epoch 92/180\n",
            "125/125 [==============================] - ETA: 0s - loss: 0.0965 - accuracy: 0.9681\n",
            "Epoch 00092: val_accuracy did not improve from 0.96984\n"
          ],
          "name": "stdout"
        },
        {
          "output_type": "stream",
          "text": [
            "2020-05-13 05:40:12,843 INFO \n",
            " epoch:091, F1Macro: 0.93968\n"
          ],
          "name": "stderr"
        },
        {
          "output_type": "stream",
          "text": [
            "\b\b\b\b\b\b\b\b\b\b\b\b\b\b\b\b\b\b\b\b\b\b\b\b\b\b\b\b\b\b\b\b\b\b\b\b\b\b\b\b\b\b\b\b\b\b\b\b\b\b\b\b\b\b\b\b\b\b\b\b\b\b\b\b\b\b\b\b\b\b\b\b\b\b\b\b\b\b\b\b\b\b\b\b\r125/125 [==============================] - 35s 278ms/step - loss: 0.0965 - accuracy: 0.9681 - val_loss: 0.0918 - val_accuracy: 0.9698 - lr: 1.0000e-05\n",
            "Epoch 93/180\n",
            "125/125 [==============================] - ETA: 0s - loss: 0.0969 - accuracy: 0.9680\n",
            "Epoch 00093: val_accuracy did not improve from 0.96984\n"
          ],
          "name": "stdout"
        },
        {
          "output_type": "stream",
          "text": [
            "2020-05-13 05:40:47,885 INFO \n",
            " epoch:092, F1Macro: 0.93969\n"
          ],
          "name": "stderr"
        },
        {
          "output_type": "stream",
          "text": [
            "\b\b\b\b\b\b\b\b\b\b\b\b\b\b\b\b\b\b\b\b\b\b\b\b\b\b\b\b\b\b\b\b\b\b\b\b\b\b\b\b\b\b\b\b\b\b\b\b\b\b\b\b\b\b\b\b\b\b\b\b\b\b\b\b\b\b\b\b\b\b\b\b\b\b\b\b\b\b\b\b\b\b\b\b\r125/125 [==============================] - 35s 278ms/step - loss: 0.0969 - accuracy: 0.9680 - val_loss: 0.0919 - val_accuracy: 0.9697 - lr: 1.0000e-05\n",
            "Epoch 94/180\n",
            "125/125 [==============================] - ETA: 0s - loss: 0.0967 - accuracy: 0.9680\n",
            "Epoch 00094: val_accuracy did not improve from 0.96984\n"
          ],
          "name": "stdout"
        },
        {
          "output_type": "stream",
          "text": [
            "2020-05-13 05:41:22,885 INFO \n",
            " epoch:093, F1Macro: 0.93953\n"
          ],
          "name": "stderr"
        },
        {
          "output_type": "stream",
          "text": [
            "\b\b\b\b\b\b\b\b\b\b\b\b\b\b\b\b\b\b\b\b\b\b\b\b\b\b\b\b\b\b\b\b\b\b\b\b\b\b\b\b\b\b\b\b\b\b\b\b\b\b\b\b\b\b\b\b\b\b\b\b\b\b\b\b\b\b\b\b\b\b\b\b\b\b\b\b\b\b\b\b\b\b\b\b\r125/125 [==============================] - 35s 278ms/step - loss: 0.0967 - accuracy: 0.9680 - val_loss: 0.0920 - val_accuracy: 0.9697 - lr: 1.0000e-05\n",
            "Epoch 95/180\n",
            "125/125 [==============================] - ETA: 0s - loss: 0.0970 - accuracy: 0.9680\n",
            "Epoch 00095: val_accuracy did not improve from 0.96984\n"
          ],
          "name": "stdout"
        },
        {
          "output_type": "stream",
          "text": [
            "2020-05-13 05:41:57,861 INFO \n",
            " epoch:094, F1Macro: 0.93957\n"
          ],
          "name": "stderr"
        },
        {
          "output_type": "stream",
          "text": [
            "\b\b\b\b\b\b\b\b\b\b\b\b\b\b\b\b\b\b\b\b\b\b\b\b\b\b\b\b\b\b\b\b\b\b\b\b\b\b\b\b\b\b\b\b\b\b\b\b\b\b\b\b\b\b\b\b\b\b\b\b\b\b\b\b\b\b\b\b\b\b\b\b\b\b\b\b\b\b\b\b\b\b\b\b\r125/125 [==============================] - 35s 278ms/step - loss: 0.0970 - accuracy: 0.9680 - val_loss: 0.0919 - val_accuracy: 0.9697 - lr: 1.0000e-05\n",
            "Epoch 96/180\n",
            "125/125 [==============================] - ETA: 0s - loss: 0.0966 - accuracy: 0.9681\n",
            "Epoch 00096: val_accuracy did not improve from 0.96984\n"
          ],
          "name": "stdout"
        },
        {
          "output_type": "stream",
          "text": [
            "2020-05-13 05:42:32,842 INFO \n",
            " epoch:095, F1Macro: 0.93960\n"
          ],
          "name": "stderr"
        },
        {
          "output_type": "stream",
          "text": [
            "\b\b\b\b\b\b\b\b\b\b\b\b\b\b\b\b\b\b\b\b\b\b\b\b\b\b\b\b\b\b\b\b\b\b\b\b\b\b\b\b\b\b\b\b\b\b\b\b\b\b\b\b\b\b\b\b\b\b\b\b\b\b\b\b\b\b\b\b\b\b\b\b\b\b\b\b\b\b\b\b\b\b\b\b\r125/125 [==============================] - 35s 278ms/step - loss: 0.0966 - accuracy: 0.9681 - val_loss: 0.0919 - val_accuracy: 0.9697 - lr: 1.0000e-05\n",
            "Epoch 97/180\n",
            "125/125 [==============================] - ETA: 0s - loss: 0.0965 - accuracy: 0.9680\n",
            "Epoch 00097: val_accuracy improved from 0.96984 to 0.96985, saving model to ion_switch/res/wavenet-dlr-res/ClassifierCBRWmulti-Prob11-NESCAL/all/1_fold/checkpoint-modelonly-1.h5\n"
          ],
          "name": "stdout"
        },
        {
          "output_type": "stream",
          "text": [
            "2020-05-13 05:43:08,553 INFO \n",
            " epoch:096, F1Macro: 0.93983\n"
          ],
          "name": "stderr"
        },
        {
          "output_type": "stream",
          "text": [
            "\b\b\b\b\b\b\b\b\b\b\b\b\b\b\b\b\b\b\b\b\b\b\b\b\b\b\b\b\b\b\b\b\b\b\b\b\b\b\b\b\b\b\b\b\b\b\b\b\b\b\b\b\b\b\b\b\b\b\b\b\b\b\b\b\b\b\b\b\b\b\b\b\b\b\b\b\b\b\b\b\b\b\b\b\r125/125 [==============================] - 36s 289ms/step - loss: 0.0965 - accuracy: 0.9680 - val_loss: 0.0917 - val_accuracy: 0.9699 - lr: 1.0000e-05\n",
            "Epoch 98/180\n",
            "125/125 [==============================] - ETA: 0s - loss: 0.0965 - accuracy: 0.9680\n",
            "Epoch 00098: val_accuracy did not improve from 0.96985\n"
          ],
          "name": "stdout"
        },
        {
          "output_type": "stream",
          "text": [
            "2020-05-13 05:43:44,244 INFO \n",
            " epoch:097, F1Macro: 0.93969\n"
          ],
          "name": "stderr"
        },
        {
          "output_type": "stream",
          "text": [
            "\b\b\b\b\b\b\b\b\b\b\b\b\b\b\b\b\b\b\b\b\b\b\b\b\b\b\b\b\b\b\b\b\b\b\b\b\b\b\b\b\b\b\b\b\b\b\b\b\b\b\b\b\b\b\b\b\b\b\b\b\b\b\b\b\b\b\b\b\b\b\b\b\b\b\b\b\b\b\b\b\b\b\b\b\r125/125 [==============================] - 35s 278ms/step - loss: 0.0965 - accuracy: 0.9680 - val_loss: 0.0917 - val_accuracy: 0.9698 - lr: 1.0000e-05\n",
            "Epoch 99/180\n",
            "125/125 [==============================] - ETA: 0s - loss: 0.0966 - accuracy: 0.9680\n",
            "Epoch 00099: val_accuracy did not improve from 0.96985\n"
          ],
          "name": "stdout"
        },
        {
          "output_type": "stream",
          "text": [
            "2020-05-13 05:44:19,164 INFO \n",
            " epoch:098, F1Macro: 0.93958\n"
          ],
          "name": "stderr"
        },
        {
          "output_type": "stream",
          "text": [
            "\b\b\b\b\b\b\b\b\b\b\b\b\b\b\b\b\b\b\b\b\b\b\b\b\b\b\b\b\b\b\b\b\b\b\b\b\b\b\b\b\b\b\b\b\b\b\b\b\b\b\b\b\b\b\b\b\b\b\b\b\b\b\b\b\b\b\b\b\b\b\b\b\b\b\b\b\b\b\b\b\b\b\b\b\r125/125 [==============================] - 35s 277ms/step - loss: 0.0966 - accuracy: 0.9680 - val_loss: 0.0918 - val_accuracy: 0.9697 - lr: 1.0000e-05\n",
            "Epoch 100/180\n",
            "125/125 [==============================] - ETA: 0s - loss: 0.0965 - accuracy: 0.9680\n",
            "Epoch 00100: val_accuracy did not improve from 0.96985\n"
          ],
          "name": "stdout"
        },
        {
          "output_type": "stream",
          "text": [
            "2020-05-13 05:44:54,104 INFO \n",
            " epoch:099, F1Macro: 0.93946\n"
          ],
          "name": "stderr"
        },
        {
          "output_type": "stream",
          "text": [
            "\b\b\b\b\b\b\b\b\b\b\b\b\b\b\b\b\b\b\b\b\b\b\b\b\b\b\b\b\b\b\b\b\b\b\b\b\b\b\b\b\b\b\b\b\b\b\b\b\b\b\b\b\b\b\b\b\b\b\b\b\b\b\b\b\b\b\b\b\b\b\b\b\b\b\b\b\b\b\b\b\b\b\b\b\r125/125 [==============================] - 35s 277ms/step - loss: 0.0965 - accuracy: 0.9680 - val_loss: 0.0919 - val_accuracy: 0.9696 - lr: 1.0000e-05\n",
            "Epoch 101/180\n",
            "125/125 [==============================] - ETA: 0s - loss: 0.0963 - accuracy: 0.9681\n",
            "Epoch 00101: val_accuracy did not improve from 0.96985\n"
          ],
          "name": "stdout"
        },
        {
          "output_type": "stream",
          "text": [
            "2020-05-13 05:45:29,040 INFO \n",
            " epoch:100, F1Macro: 0.93963\n"
          ],
          "name": "stderr"
        },
        {
          "output_type": "stream",
          "text": [
            "\b\b\b\b\b\b\b\b\b\b\b\b\b\b\b\b\b\b\b\b\b\b\b\b\b\b\b\b\b\b\b\b\b\b\b\b\b\b\b\b\b\b\b\b\b\b\b\b\b\b\b\b\b\b\b\b\b\b\b\b\b\b\b\b\b\b\b\b\b\b\b\b\b\b\b\b\b\b\b\b\b\b\b\b\r125/125 [==============================] - 35s 277ms/step - loss: 0.0963 - accuracy: 0.9681 - val_loss: 0.0917 - val_accuracy: 0.9698 - lr: 1.0000e-05\n",
            "Epoch 102/180\n",
            "125/125 [==============================] - ETA: 0s - loss: 0.0967 - accuracy: 0.9680\n",
            "Epoch 00102: val_accuracy did not improve from 0.96985\n"
          ],
          "name": "stdout"
        },
        {
          "output_type": "stream",
          "text": [
            "2020-05-13 05:46:03,961 INFO \n",
            " epoch:101, F1Macro: 0.93968\n"
          ],
          "name": "stderr"
        },
        {
          "output_type": "stream",
          "text": [
            "\b\b\b\b\b\b\b\b\b\b\b\b\b\b\b\b\b\b\b\b\b\b\b\b\b\b\b\b\b\b\b\b\b\b\b\b\b\b\b\b\b\b\b\b\b\b\b\b\b\b\b\b\b\b\b\b\b\b\b\b\b\b\b\b\b\b\b\b\b\b\b\b\b\b\b\b\b\b\b\b\b\b\b\b\r125/125 [==============================] - 35s 277ms/step - loss: 0.0967 - accuracy: 0.9680 - val_loss: 0.0916 - val_accuracy: 0.9697 - lr: 1.0000e-05\n",
            "Epoch 103/180\n",
            "125/125 [==============================] - ETA: 0s - loss: 0.0965 - accuracy: 0.9680\n",
            "Epoch 00103: val_accuracy improved from 0.96985 to 0.96986, saving model to ion_switch/res/wavenet-dlr-res/ClassifierCBRWmulti-Prob11-NESCAL/all/1_fold/checkpoint-modelonly-1.h5\n"
          ],
          "name": "stdout"
        },
        {
          "output_type": "stream",
          "text": [
            "2020-05-13 05:46:39,849 INFO \n",
            " epoch:102, F1Macro: 0.93981\n"
          ],
          "name": "stderr"
        },
        {
          "output_type": "stream",
          "text": [
            "\b\b\b\b\b\b\b\b\b\b\b\b\b\b\b\b\b\b\b\b\b\b\b\b\b\b\b\b\b\b\b\b\b\b\b\b\b\b\b\b\b\b\b\b\b\b\b\b\b\b\b\b\b\b\b\b\b\b\b\b\b\b\b\b\b\b\b\b\b\b\b\b\b\b\b\b\b\b\b\b\b\b\b\b\r125/125 [==============================] - 36s 285ms/step - loss: 0.0965 - accuracy: 0.9680 - val_loss: 0.0915 - val_accuracy: 0.9699 - lr: 1.0000e-05\n",
            "Epoch 104/180\n",
            "125/125 [==============================] - ETA: 0s - loss: 0.0969 - accuracy: 0.9679\n",
            "Epoch 00104: val_accuracy did not improve from 0.96986\n"
          ],
          "name": "stdout"
        },
        {
          "output_type": "stream",
          "text": [
            "2020-05-13 05:47:14,734 INFO \n",
            " epoch:103, F1Macro: 0.93959\n"
          ],
          "name": "stderr"
        },
        {
          "output_type": "stream",
          "text": [
            "\b\b\b\b\b\b\b\b\b\b\b\b\b\b\b\b\b\b\b\b\b\b\b\b\b\b\b\b\b\b\b\b\b\b\b\b\b\b\b\b\b\b\b\b\b\b\b\b\b\b\b\b\b\b\b\b\b\b\b\b\b\b\b\b\b\b\b\b\b\b\b\b\b\b\b\b\b\b\b\b\b\b\b\b\r125/125 [==============================] - 35s 277ms/step - loss: 0.0969 - accuracy: 0.9679 - val_loss: 0.0917 - val_accuracy: 0.9697 - lr: 1.0000e-05\n",
            "Epoch 105/180\n",
            "125/125 [==============================] - ETA: 0s - loss: 0.0962 - accuracy: 0.9681\n",
            "Epoch 00105: val_accuracy did not improve from 0.96986\n"
          ],
          "name": "stdout"
        },
        {
          "output_type": "stream",
          "text": [
            "2020-05-13 05:47:49,535 INFO \n",
            " epoch:104, F1Macro: 0.93968\n"
          ],
          "name": "stderr"
        },
        {
          "output_type": "stream",
          "text": [
            "\b\b\b\b\b\b\b\b\b\b\b\b\b\b\b\b\b\b\b\b\b\b\b\b\b\b\b\b\b\b\b\b\b\b\b\b\b\b\b\b\b\b\b\b\b\b\b\b\b\b\b\b\b\b\b\b\b\b\b\b\b\b\b\b\b\b\b\b\b\b\b\b\b\b\b\b\b\b\b\b\b\b\b\b\r125/125 [==============================] - 35s 276ms/step - loss: 0.0962 - accuracy: 0.9681 - val_loss: 0.0916 - val_accuracy: 0.9698 - lr: 1.0000e-05\n",
            "Epoch 106/180\n",
            "125/125 [==============================] - ETA: 0s - loss: 0.0962 - accuracy: 0.9681\n",
            "Epoch 00106: val_accuracy did not improve from 0.96986\n"
          ],
          "name": "stdout"
        },
        {
          "output_type": "stream",
          "text": [
            "2020-05-13 05:48:24,321 INFO \n",
            " epoch:105, F1Macro: 0.93978\n"
          ],
          "name": "stderr"
        },
        {
          "output_type": "stream",
          "text": [
            "\b\b\b\b\b\b\b\b\b\b\b\b\b\b\b\b\b\b\b\b\b\b\b\b\b\b\b\b\b\b\b\b\b\b\b\b\b\b\b\b\b\b\b\b\b\b\b\b\b\b\b\b\b\b\b\b\b\b\b\b\b\b\b\b\b\b\b\b\b\b\b\b\b\b\b\b\b\b\b\b\b\b\b\b\r125/125 [==============================] - 35s 276ms/step - loss: 0.0962 - accuracy: 0.9681 - val_loss: 0.0914 - val_accuracy: 0.9698 - lr: 1.0000e-05\n",
            "Epoch 107/180\n",
            "125/125 [==============================] - ETA: 0s - loss: 0.0962 - accuracy: 0.9681\n",
            "Epoch 00107: val_accuracy did not improve from 0.96986\n"
          ],
          "name": "stdout"
        },
        {
          "output_type": "stream",
          "text": [
            "2020-05-13 05:48:59,102 INFO \n",
            " epoch:106, F1Macro: 0.93975\n"
          ],
          "name": "stderr"
        },
        {
          "output_type": "stream",
          "text": [
            "\b\b\b\b\b\b\b\b\b\b\b\b\b\b\b\b\b\b\b\b\b\b\b\b\b\b\b\b\b\b\b\b\b\b\b\b\b\b\b\b\b\b\b\b\b\b\b\b\b\b\b\b\b\b\b\b\b\b\b\b\b\b\b\b\b\b\b\b\b\b\b\b\b\b\b\b\b\b\b\b\b\b\b\b\r125/125 [==============================] - 35s 276ms/step - loss: 0.0962 - accuracy: 0.9681 - val_loss: 0.0913 - val_accuracy: 0.9698 - lr: 1.0000e-05\n",
            "Epoch 108/180\n",
            "125/125 [==============================] - ETA: 0s - loss: 0.0965 - accuracy: 0.9680\n",
            "Epoch 00108: val_accuracy did not improve from 0.96986\n"
          ],
          "name": "stdout"
        },
        {
          "output_type": "stream",
          "text": [
            "2020-05-13 05:49:33,847 INFO \n",
            " epoch:107, F1Macro: 0.93965\n"
          ],
          "name": "stderr"
        },
        {
          "output_type": "stream",
          "text": [
            "\b\b\b\b\b\b\b\b\b\b\b\b\b\b\b\b\b\b\b\b\b\b\b\b\b\b\b\b\b\b\b\b\b\b\b\b\b\b\b\b\b\b\b\b\b\b\b\b\b\b\b\b\b\b\b\b\b\b\b\b\b\b\b\b\b\b\b\b\b\b\b\b\b\b\b\b\b\b\b\b\b\b\b\b\r125/125 [==============================] - 34s 276ms/step - loss: 0.0965 - accuracy: 0.9680 - val_loss: 0.0916 - val_accuracy: 0.9697 - lr: 1.0000e-05\n",
            "Epoch 109/180\n",
            "125/125 [==============================] - ETA: 0s - loss: 0.0966 - accuracy: 0.9679\n",
            "Epoch 00109: val_accuracy did not improve from 0.96986\n"
          ],
          "name": "stdout"
        },
        {
          "output_type": "stream",
          "text": [
            "2020-05-13 05:50:08,601 INFO \n",
            " epoch:108, F1Macro: 0.93958\n"
          ],
          "name": "stderr"
        },
        {
          "output_type": "stream",
          "text": [
            "\b\b\b\b\b\b\b\b\b\b\b\b\b\b\b\b\b\b\b\b\b\b\b\b\b\b\b\b\b\b\b\b\b\b\b\b\b\b\b\b\b\b\b\b\b\b\b\b\b\b\b\b\b\b\b\b\b\b\b\b\b\b\b\b\b\b\b\b\b\b\b\b\b\b\b\b\b\b\b\b\b\b\b\b\r125/125 [==============================] - 34s 276ms/step - loss: 0.0966 - accuracy: 0.9679 - val_loss: 0.0916 - val_accuracy: 0.9697 - lr: 1.0000e-05\n",
            "Epoch 110/180\n",
            "125/125 [==============================] - ETA: 0s - loss: 0.0959 - accuracy: 0.9681\n",
            "Epoch 00110: val_accuracy did not improve from 0.96986\n"
          ],
          "name": "stdout"
        },
        {
          "output_type": "stream",
          "text": [
            "2020-05-13 05:50:43,322 INFO \n",
            " epoch:109, F1Macro: 0.93982\n"
          ],
          "name": "stderr"
        },
        {
          "output_type": "stream",
          "text": [
            "\b\b\b\b\b\b\b\b\b\b\b\b\b\b\b\b\b\b\b\b\b\b\b\b\b\b\b\b\b\b\b\b\b\b\b\b\b\b\b\b\b\b\b\b\b\b\b\b\b\b\b\b\b\b\b\b\b\b\b\b\b\b\b\b\b\b\b\b\b\b\b\b\b\b\b\b\b\b\b\b\b\b\b\b\r125/125 [==============================] - 34s 276ms/step - loss: 0.0959 - accuracy: 0.9681 - val_loss: 0.0913 - val_accuracy: 0.9698 - lr: 1.0000e-05\n",
            "Epoch 111/180\n",
            "125/125 [==============================] - ETA: 0s - loss: 0.0961 - accuracy: 0.9681\n",
            "Epoch 00111: val_accuracy did not improve from 0.96986\n"
          ],
          "name": "stdout"
        },
        {
          "output_type": "stream",
          "text": [
            "2020-05-13 05:51:18,105 INFO \n",
            " epoch:110, F1Macro: 0.93981\n"
          ],
          "name": "stderr"
        },
        {
          "output_type": "stream",
          "text": [
            "\b\b\b\b\b\b\b\b\b\b\b\b\b\b\b\b\b\b\b\b\b\b\b\b\b\b\b\b\b\b\b\b\b\b\b\b\b\b\b\b\b\b\b\b\b\b\b\b\b\b\b\b\b\b\b\b\b\b\b\b\b\b\b\b\b\b\b\b\b\b\b\b\b\b\b\b\b\b\b\b\b\b\b\b\r125/125 [==============================] - 35s 276ms/step - loss: 0.0961 - accuracy: 0.9681 - val_loss: 0.0914 - val_accuracy: 0.9698 - lr: 1.0000e-05\n",
            "Epoch 112/180\n",
            "125/125 [==============================] - ETA: 0s - loss: 0.0959 - accuracy: 0.9681\n",
            "Epoch 00112: val_accuracy did not improve from 0.96986\n"
          ],
          "name": "stdout"
        },
        {
          "output_type": "stream",
          "text": [
            "2020-05-13 05:51:52,858 INFO \n",
            " epoch:111, F1Macro: 0.93975\n"
          ],
          "name": "stderr"
        },
        {
          "output_type": "stream",
          "text": [
            "\b\b\b\b\b\b\b\b\b\b\b\b\b\b\b\b\b\b\b\b\b\b\b\b\b\b\b\b\b\b\b\b\b\b\b\b\b\b\b\b\b\b\b\b\b\b\b\b\b\b\b\b\b\b\b\b\b\b\b\b\b\b\b\b\b\b\b\b\b\b\b\b\b\b\b\b\b\b\b\b\b\b\b\b\r125/125 [==============================] - 34s 276ms/step - loss: 0.0959 - accuracy: 0.9681 - val_loss: 0.0914 - val_accuracy: 0.9698 - lr: 1.0000e-05\n",
            "Epoch 113/180\n",
            "125/125 [==============================] - ETA: 0s - loss: 0.0959 - accuracy: 0.9681\n",
            "Epoch 00113: val_accuracy did not improve from 0.96986\n"
          ],
          "name": "stdout"
        },
        {
          "output_type": "stream",
          "text": [
            "2020-05-13 05:52:27,618 INFO \n",
            " epoch:112, F1Macro: 0.93968\n"
          ],
          "name": "stderr"
        },
        {
          "output_type": "stream",
          "text": [
            "\b\b\b\b\b\b\b\b\b\b\b\b\b\b\b\b\b\b\b\b\b\b\b\b\b\b\b\b\b\b\b\b\b\b\b\b\b\b\b\b\b\b\b\b\b\b\b\b\b\b\b\b\b\b\b\b\b\b\b\b\b\b\b\b\b\b\b\b\b\b\b\b\b\b\b\b\b\b\b\b\b\b\b\b\r125/125 [==============================] - 34s 276ms/step - loss: 0.0959 - accuracy: 0.9681 - val_loss: 0.0913 - val_accuracy: 0.9698 - lr: 1.0000e-05\n",
            "Epoch 114/180\n",
            "125/125 [==============================] - ETA: 0s - loss: 0.0963 - accuracy: 0.9680\n",
            "Epoch 00114: val_accuracy did not improve from 0.96986\n"
          ],
          "name": "stdout"
        },
        {
          "output_type": "stream",
          "text": [
            "2020-05-13 05:53:02,374 INFO \n",
            " epoch:113, F1Macro: 0.93979\n"
          ],
          "name": "stderr"
        },
        {
          "output_type": "stream",
          "text": [
            "\b\b\b\b\b\b\b\b\b\b\b\b\b\b\b\b\b\b\b\b\b\b\b\b\b\b\b\b\b\b\b\b\b\b\b\b\b\b\b\b\b\b\b\b\b\b\b\b\b\b\b\b\b\b\b\b\b\b\b\b\b\b\b\b\b\b\b\b\b\b\b\b\b\b\b\b\b\b\b\b\b\b\b\b\r125/125 [==============================] - 34s 276ms/step - loss: 0.0963 - accuracy: 0.9680 - val_loss: 0.0913 - val_accuracy: 0.9698 - lr: 1.0000e-05\n",
            "Epoch 115/180\n",
            "125/125 [==============================] - ETA: 0s - loss: 0.0959 - accuracy: 0.9681\n",
            "Epoch 00115: val_accuracy did not improve from 0.96986\n"
          ],
          "name": "stdout"
        },
        {
          "output_type": "stream",
          "text": [
            "2020-05-13 05:53:37,115 INFO \n",
            " epoch:114, F1Macro: 0.93980\n"
          ],
          "name": "stderr"
        },
        {
          "output_type": "stream",
          "text": [
            "\b\b\b\b\b\b\b\b\b\b\b\b\b\b\b\b\b\b\b\b\b\b\b\b\b\b\b\b\b\b\b\b\b\b\b\b\b\b\b\b\b\b\b\b\b\b\b\b\b\b\b\b\b\b\b\b\b\b\b\b\b\b\b\b\b\b\b\b\b\b\b\b\b\b\b\b\b\b\b\b\b\b\b\b\r125/125 [==============================] - 34s 276ms/step - loss: 0.0959 - accuracy: 0.9681 - val_loss: 0.0912 - val_accuracy: 0.9699 - lr: 1.0000e-05\n",
            "Epoch 116/180\n",
            "125/125 [==============================] - ETA: 0s - loss: 0.0959 - accuracy: 0.9681\n",
            "Epoch 00116: val_accuracy did not improve from 0.96986\n"
          ],
          "name": "stdout"
        },
        {
          "output_type": "stream",
          "text": [
            "2020-05-13 05:54:11,866 INFO \n",
            " epoch:115, F1Macro: 0.93983\n"
          ],
          "name": "stderr"
        },
        {
          "output_type": "stream",
          "text": [
            "\b\b\b\b\b\b\b\b\b\b\b\b\b\b\b\b\b\b\b\b\b\b\b\b\b\b\b\b\b\b\b\b\b\b\b\b\b\b\b\b\b\b\b\b\b\b\b\b\b\b\b\b\b\b\b\b\b\b\b\b\b\b\b\b\b\b\b\b\b\b\b\b\b\b\b\b\b\b\b\b\b\b\b\b\r125/125 [==============================] - 35s 281ms/step - loss: 0.0959 - accuracy: 0.9681 - val_loss: 0.0911 - val_accuracy: 0.9699 - lr: 1.0000e-05\n",
            "Epoch 117/180\n",
            "125/125 [==============================] - ETA: 0s - loss: 0.0962 - accuracy: 0.9680\n",
            "Epoch 00117: val_accuracy did not improve from 0.96986\n"
          ],
          "name": "stdout"
        },
        {
          "output_type": "stream",
          "text": [
            "2020-05-13 05:54:47,324 INFO \n",
            " epoch:116, F1Macro: 0.93957\n"
          ],
          "name": "stderr"
        },
        {
          "output_type": "stream",
          "text": [
            "\b\b\b\b\b\b\b\b\b\b\b\b\b\b\b\b\b\b\b\b\b\b\b\b\b\b\b\b\b\b\b\b\b\b\b\b\b\b\b\b\b\b\b\b\b\b\b\b\b\b\b\b\b\b\b\b\b\b\b\b\b\b\b\b\b\b\b\b\b\b\b\b\b\b\b\b\b\b\b\b\b\b\b\b\r125/125 [==============================] - 35s 276ms/step - loss: 0.0962 - accuracy: 0.9680 - val_loss: 0.0914 - val_accuracy: 0.9697 - lr: 1.0000e-05\n",
            "Epoch 118/180\n",
            "125/125 [==============================] - ETA: 0s - loss: 0.0958 - accuracy: 0.9682\n",
            "Epoch 00118: val_accuracy did not improve from 0.96986\n"
          ],
          "name": "stdout"
        },
        {
          "output_type": "stream",
          "text": [
            "2020-05-13 05:55:22,118 INFO \n",
            " epoch:117, F1Macro: 0.93974\n"
          ],
          "name": "stderr"
        },
        {
          "output_type": "stream",
          "text": [
            "\b\b\b\b\b\b\b\b\b\b\b\b\b\b\b\b\b\b\b\b\b\b\b\b\b\b\b\b\b\b\b\b\b\b\b\b\b\b\b\b\b\b\b\b\b\b\b\b\b\b\b\b\b\b\b\b\b\b\b\b\b\b\b\b\b\b\b\b\b\b\b\b\b\b\b\b\b\b\b\b\b\b\b\b\r125/125 [==============================] - 35s 276ms/step - loss: 0.0958 - accuracy: 0.9682 - val_loss: 0.0913 - val_accuracy: 0.9698 - lr: 1.0000e-05\n",
            "Epoch 119/180\n",
            "125/125 [==============================] - ETA: 0s - loss: 0.0959 - accuracy: 0.9681\n",
            "Epoch 00119: val_accuracy did not improve from 0.96986\n"
          ],
          "name": "stdout"
        },
        {
          "output_type": "stream",
          "text": [
            "2020-05-13 05:55:56,858 INFO \n",
            " epoch:118, F1Macro: 0.93947\n"
          ],
          "name": "stderr"
        },
        {
          "output_type": "stream",
          "text": [
            "\b\b\b\b\b\b\b\b\b\b\b\b\b\b\b\b\b\b\b\b\b\b\b\b\b\b\b\b\b\b\b\b\b\b\b\b\b\b\b\b\b\b\b\b\b\b\b\b\b\b\b\b\b\b\b\b\b\b\b\b\b\b\b\b\b\b\b\b\b\b\b\b\b\b\b\b\b\b\b\b\b\b\b\b\r125/125 [==============================] - 34s 276ms/step - loss: 0.0959 - accuracy: 0.9681 - val_loss: 0.0913 - val_accuracy: 0.9697 - lr: 1.0000e-05\n",
            "Epoch 120/180\n",
            "125/125 [==============================] - ETA: 0s - loss: 0.0958 - accuracy: 0.9681\n",
            "Epoch 00120: val_accuracy did not improve from 0.96986\n"
          ],
          "name": "stdout"
        },
        {
          "output_type": "stream",
          "text": [
            "2020-05-13 05:56:31,622 INFO \n",
            " epoch:119, F1Macro: 0.93970\n"
          ],
          "name": "stderr"
        },
        {
          "output_type": "stream",
          "text": [
            "\b\b\b\b\b\b\b\b\b\b\b\b\b\b\b\b\b\b\b\b\b\b\b\b\b\b\b\b\b\b\b\b\b\b\b\b\b\b\b\b\b\b\b\b\b\b\b\b\b\b\b\b\b\b\b\b\b\b\b\b\b\b\b\b\b\b\b\b\b\b\b\b\b\b\b\b\b\b\b\b\b\b\b\b\r125/125 [==============================] - 35s 276ms/step - loss: 0.0958 - accuracy: 0.9681 - val_loss: 0.0912 - val_accuracy: 0.9698 - lr: 1.0000e-05\n",
            "Epoch 121/180\n",
            "125/125 [==============================] - ETA: 0s - loss: 0.0963 - accuracy: 0.9679\n",
            "Epoch 00121: val_accuracy did not improve from 0.96986\n"
          ],
          "name": "stdout"
        },
        {
          "output_type": "stream",
          "text": [
            "2020-05-13 05:57:06,403 INFO \n",
            " epoch:120, F1Macro: 0.93964\n"
          ],
          "name": "stderr"
        },
        {
          "output_type": "stream",
          "text": [
            "\b\b\b\b\b\b\b\b\b\b\b\b\b\b\b\b\b\b\b\b\b\b\b\b\b\b\b\b\b\b\b\b\b\b\b\b\b\b\b\b\b\b\b\b\b\b\b\b\b\b\b\b\b\b\b\b\b\b\b\b\b\b\b\b\b\b\b\b\b\b\b\b\b\b\b\b\b\b\b\b\b\b\b\b\r125/125 [==============================] - 35s 276ms/step - loss: 0.0963 - accuracy: 0.9679 - val_loss: 0.0913 - val_accuracy: 0.9697 - lr: 1.0000e-05\n",
            "Epoch 122/180\n",
            "125/125 [==============================] - ETA: 0s - loss: 0.0960 - accuracy: 0.9680\n",
            "Epoch 00122: val_accuracy did not improve from 0.96986\n"
          ],
          "name": "stdout"
        },
        {
          "output_type": "stream",
          "text": [
            "2020-05-13 05:57:41,161 INFO \n",
            " epoch:121, F1Macro: 0.93960\n"
          ],
          "name": "stderr"
        },
        {
          "output_type": "stream",
          "text": [
            "\b\b\b\b\b\b\b\b\b\b\b\b\b\b\b\b\b\b\b\b\b\b\b\b\b\b\b\b\b\b\b\b\b\b\b\b\b\b\b\b\b\b\b\b\b\b\b\b\b\b\b\b\b\b\b\b\b\b\b\b\b\b\b\b\b\b\b\b\b\b\b\b\b\b\b\b\b\b\b\b\b\b\b\b\r125/125 [==============================] - 34s 276ms/step - loss: 0.0960 - accuracy: 0.9680 - val_loss: 0.0913 - val_accuracy: 0.9697 - lr: 1.0000e-05\n",
            "Epoch 123/180\n",
            "125/125 [==============================] - ETA: 0s - loss: 0.0957 - accuracy: 0.9681\n",
            "Epoch 00123: val_accuracy did not improve from 0.96986\n"
          ],
          "name": "stdout"
        },
        {
          "output_type": "stream",
          "text": [
            "2020-05-13 05:58:15,900 INFO \n",
            " epoch:122, F1Macro: 0.93964\n"
          ],
          "name": "stderr"
        },
        {
          "output_type": "stream",
          "text": [
            "\b\b\b\b\b\b\b\b\b\b\b\b\b\b\b\b\b\b\b\b\b\b\b\b\b\b\b\b\b\b\b\b\b\b\b\b\b\b\b\b\b\b\b\b\b\b\b\b\b\b\b\b\b\b\b\b\b\b\b\b\b\b\b\b\b\b\b\b\b\b\b\b\b\b\b\b\b\b\b\b\b\b\b\b\r125/125 [==============================] - 34s 276ms/step - loss: 0.0957 - accuracy: 0.9681 - val_loss: 0.0911 - val_accuracy: 0.9698 - lr: 1.0000e-05\n",
            "Epoch 124/180\n",
            "125/125 [==============================] - ETA: 0s - loss: 0.0957 - accuracy: 0.9681\n",
            "Epoch 00124: val_accuracy did not improve from 0.96986\n"
          ],
          "name": "stdout"
        },
        {
          "output_type": "stream",
          "text": [
            "2020-05-13 05:58:50,681 INFO \n",
            " epoch:123, F1Macro: 0.93986\n"
          ],
          "name": "stderr"
        },
        {
          "output_type": "stream",
          "text": [
            "\b\b\b\b\b\b\b\b\b\b\b\b\b\b\b\b\b\b\b\b\b\b\b\b\b\b\b\b\b\b\b\b\b\b\b\b\b\b\b\b\b\b\b\b\b\b\b\b\b\b\b\b\b\b\b\b\b\b\b\b\b\b\b\b\b\b\b\b\b\b\b\b\b\b\b\b\b\b\b\b\b\b\b\b\r125/125 [==============================] - 35s 282ms/step - loss: 0.0957 - accuracy: 0.9681 - val_loss: 0.0909 - val_accuracy: 0.9698 - lr: 1.0000e-05\n",
            "Epoch 125/180\n",
            "125/125 [==============================] - ETA: 0s - loss: 0.0956 - accuracy: 0.9681\n",
            "Epoch 00125: val_accuracy did not improve from 0.96986\n"
          ],
          "name": "stdout"
        },
        {
          "output_type": "stream",
          "text": [
            "2020-05-13 05:59:26,239 INFO \n",
            " epoch:124, F1Macro: 0.93982\n"
          ],
          "name": "stderr"
        },
        {
          "output_type": "stream",
          "text": [
            "\b\b\b\b\b\b\b\b\b\b\b\b\b\b\b\b\b\b\b\b\b\b\b\b\b\b\b\b\b\b\b\b\b\b\b\b\b\b\b\b\b\b\b\b\b\b\b\b\b\b\b\b\b\b\b\b\b\b\b\b\b\b\b\b\b\b\b\b\b\b\b\b\b\b\b\b\b\b\b\b\b\b\b\b\r125/125 [==============================] - 35s 276ms/step - loss: 0.0956 - accuracy: 0.9681 - val_loss: 0.0909 - val_accuracy: 0.9698 - lr: 1.0000e-05\n",
            "Epoch 126/180\n",
            "125/125 [==============================] - ETA: 0s - loss: 0.0960 - accuracy: 0.9680\n",
            "Epoch 00126: val_accuracy did not improve from 0.96986\n"
          ],
          "name": "stdout"
        },
        {
          "output_type": "stream",
          "text": [
            "2020-05-13 06:00:01,003 INFO \n",
            " epoch:125, F1Macro: 0.93991\n"
          ],
          "name": "stderr"
        },
        {
          "output_type": "stream",
          "text": [
            "\b\b\b\b\b\b\b\b\b\b\b\b\b\b\b\b\b\b\b\b\b\b\b\b\b\b\b\b\b\b\b\b\b\b\b\b\b\b\b\b\b\b\b\b\b\b\b\b\b\b\b\b\b\b\b\b\b\b\b\b\b\b\b\b\b\b\b\b\b\b\b\b\b\b\b\b\b\b\b\b\b\b\b\b\r125/125 [==============================] - 35s 281ms/step - loss: 0.0960 - accuracy: 0.9680 - val_loss: 0.0910 - val_accuracy: 0.9698 - lr: 1.0000e-05\n",
            "Epoch 127/180\n",
            "125/125 [==============================] - ETA: 0s - loss: 0.0958 - accuracy: 0.9680\n",
            "Epoch 00127: val_accuracy did not improve from 0.96986\n"
          ],
          "name": "stdout"
        },
        {
          "output_type": "stream",
          "text": [
            "2020-05-13 06:00:36,426 INFO \n",
            " epoch:126, F1Macro: 0.93970\n"
          ],
          "name": "stderr"
        },
        {
          "output_type": "stream",
          "text": [
            "\b\b\b\b\b\b\b\b\b\b\b\b\b\b\b\b\b\b\b\b\b\b\b\b\b\b\b\b\b\b\b\b\b\b\b\b\b\b\b\b\b\b\b\b\b\b\b\b\b\b\b\b\b\b\b\b\b\b\b\b\b\b\b\b\b\b\b\b\b\b\b\b\b\b\b\b\b\b\b\b\b\b\b\b\r125/125 [==============================] - 35s 276ms/step - loss: 0.0958 - accuracy: 0.9680 - val_loss: 0.0910 - val_accuracy: 0.9697 - lr: 1.0000e-05\n",
            "Epoch 128/180\n",
            "125/125 [==============================] - ETA: 0s - loss: 0.0958 - accuracy: 0.9681\n",
            "Epoch 00128: val_accuracy did not improve from 0.96986\n"
          ],
          "name": "stdout"
        },
        {
          "output_type": "stream",
          "text": [
            "2020-05-13 06:01:11,235 INFO \n",
            " epoch:127, F1Macro: 0.93972\n"
          ],
          "name": "stderr"
        },
        {
          "output_type": "stream",
          "text": [
            "\b\b\b\b\b\b\b\b\b\b\b\b\b\b\b\b\b\b\b\b\b\b\b\b\b\b\b\b\b\b\b\b\b\b\b\b\b\b\b\b\b\b\b\b\b\b\b\b\b\b\b\b\b\b\b\b\b\b\b\b\b\b\b\b\b\b\b\b\b\b\b\b\b\b\b\b\b\b\b\b\b\b\b\b\r125/125 [==============================] - 35s 276ms/step - loss: 0.0958 - accuracy: 0.9681 - val_loss: 0.0910 - val_accuracy: 0.9698 - lr: 1.0000e-05\n",
            "Epoch 129/180\n",
            "125/125 [==============================] - ETA: 0s - loss: 0.0958 - accuracy: 0.9680\n",
            "Epoch 00129: val_accuracy did not improve from 0.96986\n"
          ],
          "name": "stdout"
        },
        {
          "output_type": "stream",
          "text": [
            "2020-05-13 06:01:45,993 INFO \n",
            " epoch:128, F1Macro: 0.93968\n"
          ],
          "name": "stderr"
        },
        {
          "output_type": "stream",
          "text": [
            "\b\b\b\b\b\b\b\b\b\b\b\b\b\b\b\b\b\b\b\b\b\b\b\b\b\b\b\b\b\b\b\b\b\b\b\b\b\b\b\b\b\b\b\b\b\b\b\b\b\b\b\b\b\b\b\b\b\b\b\b\b\b\b\b\b\b\b\b\b\b\b\b\b\b\b\b\b\b\b\b\b\b\b\b\r125/125 [==============================] - 34s 276ms/step - loss: 0.0958 - accuracy: 0.9680 - val_loss: 0.0911 - val_accuracy: 0.9697 - lr: 1.0000e-05\n",
            "Epoch 130/180\n",
            "125/125 [==============================] - ETA: 0s - loss: 0.0957 - accuracy: 0.9681\n",
            "Epoch 00130: val_accuracy did not improve from 0.96986\n"
          ],
          "name": "stdout"
        },
        {
          "output_type": "stream",
          "text": [
            "2020-05-13 06:02:20,762 INFO \n",
            " epoch:129, F1Macro: 0.93974\n"
          ],
          "name": "stderr"
        },
        {
          "output_type": "stream",
          "text": [
            "\b\b\b\b\b\b\b\b\b\b\b\b\b\b\b\b\b\b\b\b\b\b\b\b\b\b\b\b\b\b\b\b\b\b\b\b\b\b\b\b\b\b\b\b\b\b\b\b\b\b\b\b\b\b\b\b\b\b\b\b\b\b\b\b\b\b\b\b\b\b\b\b\b\b\b\b\b\b\b\b\b\b\b\b\r125/125 [==============================] - 34s 276ms/step - loss: 0.0957 - accuracy: 0.9681 - val_loss: 0.0909 - val_accuracy: 0.9698 - lr: 1.0000e-05\n",
            "Epoch 131/180\n",
            "125/125 [==============================] - ETA: 0s - loss: 0.0954 - accuracy: 0.9682\n",
            "Epoch 00131: val_accuracy did not improve from 0.96986\n"
          ],
          "name": "stdout"
        },
        {
          "output_type": "stream",
          "text": [
            "2020-05-13 06:02:55,526 INFO \n",
            " epoch:130, F1Macro: 0.93959\n"
          ],
          "name": "stderr"
        },
        {
          "output_type": "stream",
          "text": [
            "\b\b\b\b\b\b\b\b\b\b\b\b\b\b\b\b\b\b\b\b\b\b\b\b\b\b\b\b\b\b\b\b\b\b\b\b\b\b\b\b\b\b\b\b\b\b\b\b\b\b\b\b\b\b\b\b\b\b\b\b\b\b\b\b\b\b\b\b\b\b\b\b\b\b\b\b\b\b\b\b\b\b\b\b\r125/125 [==============================] - 34s 276ms/step - loss: 0.0954 - accuracy: 0.9682 - val_loss: 0.0910 - val_accuracy: 0.9697 - lr: 1.0000e-05\n",
            "Epoch 132/180\n",
            "125/125 [==============================] - ETA: 0s - loss: 0.0958 - accuracy: 0.9680\n",
            "Epoch 00132: val_accuracy did not improve from 0.96986\n"
          ],
          "name": "stdout"
        },
        {
          "output_type": "stream",
          "text": [
            "2020-05-13 06:03:30,351 INFO \n",
            " epoch:131, F1Macro: 0.93962\n"
          ],
          "name": "stderr"
        },
        {
          "output_type": "stream",
          "text": [
            "\b\b\b\b\b\b\b\b\b\b\b\b\b\b\b\b\b\b\b\b\b\b\b\b\b\b\b\b\b\b\b\b\b\b\b\b\b\b\b\b\b\b\b\b\b\b\b\b\b\b\b\b\b\b\b\b\b\b\b\b\b\b\b\b\b\b\b\b\b\b\b\b\b\b\b\b\b\b\b\b\b\b\b\b\r125/125 [==============================] - 35s 276ms/step - loss: 0.0958 - accuracy: 0.9680 - val_loss: 0.0910 - val_accuracy: 0.9697 - lr: 1.0000e-05\n",
            "Epoch 133/180\n",
            "125/125 [==============================] - ETA: 0s - loss: 0.0971 - accuracy: 0.9676\n",
            "Epoch 00133: val_accuracy did not improve from 0.96986\n"
          ],
          "name": "stdout"
        },
        {
          "output_type": "stream",
          "text": [
            "2020-05-13 06:04:05,167 INFO \n",
            " epoch:132, F1Macro: 0.93962\n"
          ],
          "name": "stderr"
        },
        {
          "output_type": "stream",
          "text": [
            "\b\b\b\b\b\b\b\b\b\b\b\b\b\b\b\b\b\b\b\b\b\b\b\b\b\b\b\b\b\b\b\b\b\b\b\b\b\b\b\b\b\b\b\b\b\b\b\b\b\b\b\b\b\b\b\b\b\b\b\b\b\b\b\b\b\b\b\b\b\b\b\b\b\b\b\b\b\b\b\b\b\b\b\b\r125/125 [==============================] - 35s 276ms/step - loss: 0.0971 - accuracy: 0.9676 - val_loss: 0.0910 - val_accuracy: 0.9697 - lr: 1.0000e-05\n",
            "Epoch 134/180\n",
            "125/125 [==============================] - ETA: 0s - loss: 0.0953 - accuracy: 0.9682\n",
            "Epoch 00134: val_accuracy did not improve from 0.96986\n"
          ],
          "name": "stdout"
        },
        {
          "output_type": "stream",
          "text": [
            "2020-05-13 06:04:39,906 INFO \n",
            " epoch:133, F1Macro: 0.93969\n"
          ],
          "name": "stderr"
        },
        {
          "output_type": "stream",
          "text": [
            "\b\b\b\b\b\b\b\b\b\b\b\b\b\b\b\b\b\b\b\b\b\b\b\b\b\b\b\b\b\b\b\b\b\b\b\b\b\b\b\b\b\b\b\b\b\b\b\b\b\b\b\b\b\b\b\b\b\b\b\b\b\b\b\b\b\b\b\b\b\b\b\b\b\b\b\b\b\b\b\b\b\b\b\b\r125/125 [==============================] - 34s 276ms/step - loss: 0.0953 - accuracy: 0.9682 - val_loss: 0.0907 - val_accuracy: 0.9698 - lr: 1.0000e-05\n",
            "Epoch 135/180\n",
            "125/125 [==============================] - ETA: 0s - loss: 0.0952 - accuracy: 0.9682\n",
            "Epoch 00135: val_accuracy did not improve from 0.96986\n"
          ],
          "name": "stdout"
        },
        {
          "output_type": "stream",
          "text": [
            "2020-05-13 06:05:14,710 INFO \n",
            " epoch:134, F1Macro: 0.93976\n"
          ],
          "name": "stderr"
        },
        {
          "output_type": "stream",
          "text": [
            "\b\b\b\b\b\b\b\b\b\b\b\b\b\b\b\b\b\b\b\b\b\b\b\b\b\b\b\b\b\b\b\b\b\b\b\b\b\b\b\b\b\b\b\b\b\b\b\b\b\b\b\b\b\b\b\b\b\b\b\b\b\b\b\b\b\b\b\b\b\b\b\b\b\b\b\b\b\b\b\b\b\b\b\b\r125/125 [==============================] - 35s 276ms/step - loss: 0.0952 - accuracy: 0.9682 - val_loss: 0.0907 - val_accuracy: 0.9698 - lr: 1.0000e-05\n",
            "Epoch 136/180\n",
            "125/125 [==============================] - ETA: 0s - loss: 0.0954 - accuracy: 0.9681\n",
            "Epoch 00136: val_accuracy did not improve from 0.96986\n"
          ],
          "name": "stdout"
        },
        {
          "output_type": "stream",
          "text": [
            "2020-05-13 06:05:49,495 INFO \n",
            " epoch:135, F1Macro: 0.93990\n"
          ],
          "name": "stderr"
        },
        {
          "output_type": "stream",
          "text": [
            "\b\b\b\b\b\b\b\b\b\b\b\b\b\b\b\b\b\b\b\b\b\b\b\b\b\b\b\b\b\b\b\b\b\b\b\b\b\b\b\b\b\b\b\b\b\b\b\b\b\b\b\b\b\b\b\b\b\b\b\b\b\b\b\b\b\b\b\b\b\b\b\b\b\b\b\b\b\b\b\b\b\b\b\b\r125/125 [==============================] - 35s 276ms/step - loss: 0.0954 - accuracy: 0.9681 - val_loss: 0.0906 - val_accuracy: 0.9699 - lr: 1.0000e-05\n",
            "Epoch 137/180\n",
            "125/125 [==============================] - ETA: 0s - loss: 0.0951 - accuracy: 0.9682\n",
            "Epoch 00137: val_accuracy did not improve from 0.96986\n"
          ],
          "name": "stdout"
        },
        {
          "output_type": "stream",
          "text": [
            "2020-05-13 06:06:24,243 INFO \n",
            " epoch:136, F1Macro: 0.93969\n"
          ],
          "name": "stderr"
        },
        {
          "output_type": "stream",
          "text": [
            "\b\b\b\b\b\b\b\b\b\b\b\b\b\b\b\b\b\b\b\b\b\b\b\b\b\b\b\b\b\b\b\b\b\b\b\b\b\b\b\b\b\b\b\b\b\b\b\b\b\b\b\b\b\b\b\b\b\b\b\b\b\b\b\b\b\b\b\b\b\b\b\b\b\b\b\b\b\b\b\b\b\b\b\b\r125/125 [==============================] - 34s 276ms/step - loss: 0.0951 - accuracy: 0.9682 - val_loss: 0.0907 - val_accuracy: 0.9698 - lr: 1.0000e-05\n",
            "Epoch 138/180\n",
            "125/125 [==============================] - ETA: 0s - loss: 0.0955 - accuracy: 0.9681\n",
            "Epoch 00138: val_accuracy did not improve from 0.96986\n"
          ],
          "name": "stdout"
        },
        {
          "output_type": "stream",
          "text": [
            "2020-05-13 06:06:58,991 INFO \n",
            " epoch:137, F1Macro: 0.93956\n"
          ],
          "name": "stderr"
        },
        {
          "output_type": "stream",
          "text": [
            "\b\b\b\b\b\b\b\b\b\b\b\b\b\b\b\b\b\b\b\b\b\b\b\b\b\b\b\b\b\b\b\b\b\b\b\b\b\b\b\b\b\b\b\b\b\b\b\b\b\b\b\b\b\b\b\b\b\b\b\b\b\b\b\b\b\b\b\b\b\b\b\b\b\b\b\b\b\b\b\b\b\b\b\b\r125/125 [==============================] - 34s 276ms/step - loss: 0.0955 - accuracy: 0.9681 - val_loss: 0.0908 - val_accuracy: 0.9697 - lr: 1.0000e-05\n",
            "Epoch 139/180\n",
            "125/125 [==============================] - ETA: 0s - loss: 0.0953 - accuracy: 0.9681\n",
            "Epoch 00139: val_accuracy did not improve from 0.96986\n"
          ],
          "name": "stdout"
        },
        {
          "output_type": "stream",
          "text": [
            "2020-05-13 06:07:33,773 INFO \n",
            " epoch:138, F1Macro: 0.93983\n"
          ],
          "name": "stderr"
        },
        {
          "output_type": "stream",
          "text": [
            "\b\b\b\b\b\b\b\b\b\b\b\b\b\b\b\b\b\b\b\b\b\b\b\b\b\b\b\b\b\b\b\b\b\b\b\b\b\b\b\b\b\b\b\b\b\b\b\b\b\b\b\b\b\b\b\b\b\b\b\b\b\b\b\b\b\b\b\b\b\b\b\b\b\b\b\b\b\b\b\b\b\b\b\b\r125/125 [==============================] - 35s 276ms/step - loss: 0.0953 - accuracy: 0.9681 - val_loss: 0.0907 - val_accuracy: 0.9698 - lr: 1.0000e-05\n",
            "Epoch 140/180\n",
            "125/125 [==============================] - ETA: 0s - loss: 0.0954 - accuracy: 0.9681\n",
            "Epoch 00140: val_accuracy did not improve from 0.96986\n"
          ],
          "name": "stdout"
        },
        {
          "output_type": "stream",
          "text": [
            "2020-05-13 06:08:08,555 INFO \n",
            " epoch:139, F1Macro: 0.93962\n"
          ],
          "name": "stderr"
        },
        {
          "output_type": "stream",
          "text": [
            "\b\b\b\b\b\b\b\b\b\b\b\b\b\b\b\b\b\b\b\b\b\b\b\b\b\b\b\b\b\b\b\b\b\b\b\b\b\b\b\b\b\b\b\b\b\b\b\b\b\b\b\b\b\b\b\b\b\b\b\b\b\b\b\b\b\b\b\b\b\b\b\b\b\b\b\b\b\b\b\b\b\b\b\b\r125/125 [==============================] - 35s 276ms/step - loss: 0.0954 - accuracy: 0.9681 - val_loss: 0.0908 - val_accuracy: 0.9697 - lr: 1.0000e-05\n",
            "Epoch 141/180\n",
            "125/125 [==============================] - ETA: 0s - loss: 0.0950 - accuracy: 0.9682\n",
            "Epoch 00141: val_accuracy did not improve from 0.96986\n"
          ],
          "name": "stdout"
        },
        {
          "output_type": "stream",
          "text": [
            "2020-05-13 06:08:43,296 INFO \n",
            " epoch:140, F1Macro: 0.93981\n"
          ],
          "name": "stderr"
        },
        {
          "output_type": "stream",
          "text": [
            "\b\b\b\b\b\b\b\b\b\b\b\b\b\b\b\b\b\b\b\b\b\b\b\b\b\b\b\b\b\b\b\b\b\b\b\b\b\b\b\b\b\b\b\b\b\b\b\b\b\b\b\b\b\b\b\b\b\b\b\b\b\b\b\b\b\b\b\b\b\b\b\b\b\b\b\b\b\b\b\b\b\b\b\b\r125/125 [==============================] - 34s 276ms/step - loss: 0.0950 - accuracy: 0.9682 - val_loss: 0.0906 - val_accuracy: 0.9699 - lr: 1.0000e-05\n",
            "Epoch 142/180\n",
            "125/125 [==============================] - ETA: 0s - loss: 0.0951 - accuracy: 0.9681\n",
            "Epoch 00142: val_accuracy did not improve from 0.96986\n"
          ],
          "name": "stdout"
        },
        {
          "output_type": "stream",
          "text": [
            "2020-05-13 06:09:18,086 INFO \n",
            " epoch:141, F1Macro: 0.93986\n"
          ],
          "name": "stderr"
        },
        {
          "output_type": "stream",
          "text": [
            "\b\b\b\b\b\b\b\b\b\b\b\b\b\b\b\b\b\b\b\b\b\b\b\b\b\b\b\b\b\b\b\b\b\b\b\b\b\b\b\b\b\b\b\b\b\b\b\b\b\b\b\b\b\b\b\b\b\b\b\b\b\b\b\b\b\b\b\b\b\b\b\b\b\b\b\b\b\b\b\b\b\b\b\b\r125/125 [==============================] - 35s 276ms/step - loss: 0.0951 - accuracy: 0.9681 - val_loss: 0.0906 - val_accuracy: 0.9698 - lr: 1.0000e-05\n",
            "Epoch 143/180\n",
            "125/125 [==============================] - ETA: 0s - loss: 0.0954 - accuracy: 0.9680\n",
            "Epoch 00143: val_accuracy did not improve from 0.96986\n"
          ],
          "name": "stdout"
        },
        {
          "output_type": "stream",
          "text": [
            "2020-05-13 06:09:52,871 INFO \n",
            " epoch:142, F1Macro: 0.93991\n"
          ],
          "name": "stderr"
        },
        {
          "output_type": "stream",
          "text": [
            "\b\b\b\b\b\b\b\b\b\b\b\b\b\b\b\b\b\b\b\b\b\b\b\b\b\b\b\b\b\b\b\b\b\b\b\b\b\b\b\b\b\b\b\b\b\b\b\b\b\b\b\b\b\b\b\b\b\b\b\b\b\b\b\b\b\b\b\b\b\b\b\b\b\b\b\b\b\b\b\b\b\b\b\b\r125/125 [==============================] - 35s 276ms/step - loss: 0.0954 - accuracy: 0.9680 - val_loss: 0.0906 - val_accuracy: 0.9698 - lr: 1.0000e-05\n",
            "Epoch 144/180\n",
            "125/125 [==============================] - ETA: 0s - loss: 0.0951 - accuracy: 0.9682\n",
            "Epoch 00144: val_accuracy did not improve from 0.96986\n"
          ],
          "name": "stdout"
        },
        {
          "output_type": "stream",
          "text": [
            "2020-05-13 06:10:27,661 INFO \n",
            " epoch:143, F1Macro: 0.93970\n"
          ],
          "name": "stderr"
        },
        {
          "output_type": "stream",
          "text": [
            "\b\b\b\b\b\b\b\b\b\b\b\b\b\b\b\b\b\b\b\b\b\b\b\b\b\b\b\b\b\b\b\b\b\b\b\b\b\b\b\b\b\b\b\b\b\b\b\b\b\b\b\b\b\b\b\b\b\b\b\b\b\b\b\b\b\b\b\b\b\b\b\b\b\b\b\b\b\b\b\b\b\b\b\b\r125/125 [==============================] - 35s 276ms/step - loss: 0.0951 - accuracy: 0.9682 - val_loss: 0.0905 - val_accuracy: 0.9698 - lr: 1.0000e-05\n",
            "Epoch 145/180\n",
            "125/125 [==============================] - ETA: 0s - loss: 0.0950 - accuracy: 0.9682\n",
            "Epoch 00145: val_accuracy improved from 0.96986 to 0.96990, saving model to ion_switch/res/wavenet-dlr-res/ClassifierCBRWmulti-Prob11-NESCAL/all/1_fold/checkpoint-modelonly-1.h5\n"
          ],
          "name": "stdout"
        },
        {
          "output_type": "stream",
          "text": [
            "2020-05-13 06:11:03,170 INFO \n",
            " epoch:144, F1Macro: 0.94003\n"
          ],
          "name": "stderr"
        },
        {
          "output_type": "stream",
          "text": [
            "\b\b\b\b\b\b\b\b\b\b\b\b\b\b\b\b\b\b\b\b\b\b\b\b\b\b\b\b\b\b\b\b\b\b\b\b\b\b\b\b\b\b\b\b\b\b\b\b\b\b\b\b\b\b\b\b\b\b\b\b\b\b\b\b\b\b\b\b\b\b\b\b\b\b\b\b\b\b\b\b\b\b\b\b\r125/125 [==============================] - 36s 289ms/step - loss: 0.0950 - accuracy: 0.9682 - val_loss: 0.0903 - val_accuracy: 0.9699 - lr: 1.0000e-05\n",
            "Epoch 146/180\n",
            "125/125 [==============================] - ETA: 0s - loss: 0.0949 - accuracy: 0.9682\n",
            "Epoch 00146: val_accuracy did not improve from 0.96990\n"
          ],
          "name": "stdout"
        },
        {
          "output_type": "stream",
          "text": [
            "2020-05-13 06:11:38,783 INFO \n",
            " epoch:145, F1Macro: 0.93980\n"
          ],
          "name": "stderr"
        },
        {
          "output_type": "stream",
          "text": [
            "\b\b\b\b\b\b\b\b\b\b\b\b\b\b\b\b\b\b\b\b\b\b\b\b\b\b\b\b\b\b\b\b\b\b\b\b\b\b\b\b\b\b\b\b\b\b\b\b\b\b\b\b\b\b\b\b\b\b\b\b\b\b\b\b\b\b\b\b\b\b\b\b\b\b\b\b\b\b\b\b\b\b\b\b\r125/125 [==============================] - 34s 276ms/step - loss: 0.0949 - accuracy: 0.9682 - val_loss: 0.0904 - val_accuracy: 0.9698 - lr: 1.0000e-05\n",
            "Epoch 147/180\n",
            "125/125 [==============================] - ETA: 0s - loss: 0.0951 - accuracy: 0.9681\n",
            "Epoch 00147: val_accuracy did not improve from 0.96990\n"
          ],
          "name": "stdout"
        },
        {
          "output_type": "stream",
          "text": [
            "2020-05-13 06:12:13,569 INFO \n",
            " epoch:146, F1Macro: 0.93989\n"
          ],
          "name": "stderr"
        },
        {
          "output_type": "stream",
          "text": [
            "\b\b\b\b\b\b\b\b\b\b\b\b\b\b\b\b\b\b\b\b\b\b\b\b\b\b\b\b\b\b\b\b\b\b\b\b\b\b\b\b\b\b\b\b\b\b\b\b\b\b\b\b\b\b\b\b\b\b\b\b\b\b\b\b\b\b\b\b\b\b\b\b\b\b\b\b\b\b\b\b\b\b\b\b\r125/125 [==============================] - 35s 276ms/step - loss: 0.0951 - accuracy: 0.9681 - val_loss: 0.0904 - val_accuracy: 0.9698 - lr: 1.0000e-05\n",
            "Epoch 148/180\n",
            "125/125 [==============================] - ETA: 0s - loss: 0.0951 - accuracy: 0.9681\n",
            "Epoch 00148: val_accuracy did not improve from 0.96990\n"
          ],
          "name": "stdout"
        },
        {
          "output_type": "stream",
          "text": [
            "2020-05-13 06:12:48,315 INFO \n",
            " epoch:147, F1Macro: 0.93944\n"
          ],
          "name": "stderr"
        },
        {
          "output_type": "stream",
          "text": [
            "\b\b\b\b\b\b\b\b\b\b\b\b\b\b\b\b\b\b\b\b\b\b\b\b\b\b\b\b\b\b\b\b\b\b\b\b\b\b\b\b\b\b\b\b\b\b\b\b\b\b\b\b\b\b\b\b\b\b\b\b\b\b\b\b\b\b\b\b\b\b\b\b\b\b\b\b\b\b\b\b\b\b\b\b\r125/125 [==============================] - 34s 276ms/step - loss: 0.0951 - accuracy: 0.9681 - val_loss: 0.0907 - val_accuracy: 0.9697 - lr: 1.0000e-05\n",
            "Epoch 149/180\n",
            "125/125 [==============================] - ETA: 0s - loss: 0.0947 - accuracy: 0.9682\n",
            "Epoch 00149: val_accuracy did not improve from 0.96990\n"
          ],
          "name": "stdout"
        },
        {
          "output_type": "stream",
          "text": [
            "2020-05-13 06:13:23,148 INFO \n",
            " epoch:148, F1Macro: 0.93980\n"
          ],
          "name": "stderr"
        },
        {
          "output_type": "stream",
          "text": [
            "\b\b\b\b\b\b\b\b\b\b\b\b\b\b\b\b\b\b\b\b\b\b\b\b\b\b\b\b\b\b\b\b\b\b\b\b\b\b\b\b\b\b\b\b\b\b\b\b\b\b\b\b\b\b\b\b\b\b\b\b\b\b\b\b\b\b\b\b\b\b\b\b\b\b\b\b\b\b\b\b\b\b\b\b\r125/125 [==============================] - 35s 276ms/step - loss: 0.0947 - accuracy: 0.9682 - val_loss: 0.0904 - val_accuracy: 0.9698 - lr: 1.0000e-05\n",
            "Epoch 150/180\n",
            "125/125 [==============================] - ETA: 0s - loss: 0.0949 - accuracy: 0.9682\n",
            "Epoch 00150: val_accuracy did not improve from 0.96990\n"
          ],
          "name": "stdout"
        },
        {
          "output_type": "stream",
          "text": [
            "2020-05-13 06:13:57,946 INFO \n",
            " epoch:149, F1Macro: 0.93971\n"
          ],
          "name": "stderr"
        },
        {
          "output_type": "stream",
          "text": [
            "\b\b\b\b\b\b\b\b\b\b\b\b\b\b\b\b\b\b\b\b\b\b\b\b\b\b\b\b\b\b\b\b\b\b\b\b\b\b\b\b\b\b\b\b\b\b\b\b\b\b\b\b\b\b\b\b\b\b\b\b\b\b\b\b\b\b\b\b\b\b\b\b\b\b\b\b\b\b\b\b\b\b\b\b\r125/125 [==============================] - 35s 276ms/step - loss: 0.0949 - accuracy: 0.9682 - val_loss: 0.0904 - val_accuracy: 0.9698 - lr: 1.0000e-05\n",
            "Epoch 151/180\n",
            "125/125 [==============================] - ETA: 0s - loss: 0.0948 - accuracy: 0.9682\n",
            "Epoch 00151: val_accuracy did not improve from 0.96990\n"
          ],
          "name": "stdout"
        },
        {
          "output_type": "stream",
          "text": [
            "2020-05-13 06:14:32,710 INFO \n",
            " epoch:150, F1Macro: 0.93979\n"
          ],
          "name": "stderr"
        },
        {
          "output_type": "stream",
          "text": [
            "\b\b\b\b\b\b\b\b\b\b\b\b\b\b\b\b\b\b\b\b\b\b\b\b\b\b\b\b\b\b\b\b\b\b\b\b\b\b\b\b\b\b\b\b\b\b\b\b\b\b\b\b\b\b\b\b\b\b\b\b\b\b\b\b\b\b\b\b\b\b\b\b\b\b\b\b\b\b\b\b\b\b\b\b\r125/125 [==============================] - 34s 276ms/step - loss: 0.0948 - accuracy: 0.9682 - val_loss: 0.0903 - val_accuracy: 0.9698 - lr: 1.0000e-06\n",
            "Epoch 152/180\n",
            "125/125 [==============================] - ETA: 0s - loss: 0.0948 - accuracy: 0.9682\n",
            "Epoch 00152: val_accuracy did not improve from 0.96990\n"
          ],
          "name": "stdout"
        },
        {
          "output_type": "stream",
          "text": [
            "2020-05-13 06:15:07,567 INFO \n",
            " epoch:151, F1Macro: 0.93975\n"
          ],
          "name": "stderr"
        },
        {
          "output_type": "stream",
          "text": [
            "\b\b\b\b\b\b\b\b\b\b\b\b\b\b\b\b\b\b\b\b\b\b\b\b\b\b\b\b\b\b\b\b\b\b\b\b\b\b\b\b\b\b\b\b\b\b\b\b\b\b\b\b\b\b\b\b\b\b\b\b\b\b\b\b\b\b\b\b\b\b\b\b\b\b\b\b\b\b\b\b\b\b\b\b\r125/125 [==============================] - 35s 277ms/step - loss: 0.0948 - accuracy: 0.9682 - val_loss: 0.0904 - val_accuracy: 0.9698 - lr: 1.0000e-06\n",
            "Epoch 153/180\n",
            "125/125 [==============================] - ETA: 0s - loss: 0.0948 - accuracy: 0.9682\n",
            "Epoch 00153: val_accuracy did not improve from 0.96990\n"
          ],
          "name": "stdout"
        },
        {
          "output_type": "stream",
          "text": [
            "2020-05-13 06:15:42,548 INFO \n",
            " epoch:152, F1Macro: 0.93984\n"
          ],
          "name": "stderr"
        },
        {
          "output_type": "stream",
          "text": [
            "\b\b\b\b\b\b\b\b\b\b\b\b\b\b\b\b\b\b\b\b\b\b\b\b\b\b\b\b\b\b\b\b\b\b\b\b\b\b\b\b\b\b\b\b\b\b\b\b\b\b\b\b\b\b\b\b\b\b\b\b\b\b\b\b\b\b\b\b\b\b\b\b\b\b\b\b\b\b\b\b\b\b\b\b\r125/125 [==============================] - 35s 278ms/step - loss: 0.0948 - accuracy: 0.9682 - val_loss: 0.0903 - val_accuracy: 0.9698 - lr: 1.0000e-06\n",
            "Epoch 154/180\n",
            "125/125 [==============================] - ETA: 0s - loss: 0.0949 - accuracy: 0.9682\n",
            "Epoch 00154: val_accuracy did not improve from 0.96990\n"
          ],
          "name": "stdout"
        },
        {
          "output_type": "stream",
          "text": [
            "2020-05-13 06:16:17,598 INFO \n",
            " epoch:153, F1Macro: 0.93991\n"
          ],
          "name": "stderr"
        },
        {
          "output_type": "stream",
          "text": [
            "\b\b\b\b\b\b\b\b\b\b\b\b\b\b\b\b\b\b\b\b\b\b\b\b\b\b\b\b\b\b\b\b\b\b\b\b\b\b\b\b\b\b\b\b\b\b\b\b\b\b\b\b\b\b\b\b\b\b\b\b\b\b\b\b\b\b\b\b\b\b\b\b\b\b\b\b\b\b\b\b\b\b\b\b\r125/125 [==============================] - 35s 278ms/step - loss: 0.0949 - accuracy: 0.9682 - val_loss: 0.0903 - val_accuracy: 0.9698 - lr: 1.0000e-06\n",
            "Epoch 155/180\n",
            "125/125 [==============================] - ETA: 0s - loss: 0.0947 - accuracy: 0.9682\n",
            "Epoch 00155: val_accuracy did not improve from 0.96990\n"
          ],
          "name": "stdout"
        },
        {
          "output_type": "stream",
          "text": [
            "2020-05-13 06:16:52,600 INFO \n",
            " epoch:154, F1Macro: 0.93980\n"
          ],
          "name": "stderr"
        },
        {
          "output_type": "stream",
          "text": [
            "\b\b\b\b\b\b\b\b\b\b\b\b\b\b\b\b\b\b\b\b\b\b\b\b\b\b\b\b\b\b\b\b\b\b\b\b\b\b\b\b\b\b\b\b\b\b\b\b\b\b\b\b\b\b\b\b\b\b\b\b\b\b\b\b\b\b\b\b\b\b\b\b\b\b\b\b\b\b\b\b\b\b\b\b\r125/125 [==============================] - 35s 278ms/step - loss: 0.0947 - accuracy: 0.9682 - val_loss: 0.0903 - val_accuracy: 0.9698 - lr: 1.0000e-06\n",
            "Epoch 156/180\n",
            "125/125 [==============================] - ETA: 0s - loss: 0.0952 - accuracy: 0.9681\n",
            "Epoch 00156: val_accuracy did not improve from 0.96990\n"
          ],
          "name": "stdout"
        },
        {
          "output_type": "stream",
          "text": [
            "2020-05-13 06:17:27,597 INFO \n",
            " epoch:155, F1Macro: 0.93968\n"
          ],
          "name": "stderr"
        },
        {
          "output_type": "stream",
          "text": [
            "\b\b\b\b\b\b\b\b\b\b\b\b\b\b\b\b\b\b\b\b\b\b\b\b\b\b\b\b\b\b\b\b\b\b\b\b\b\b\b\b\b\b\b\b\b\b\b\b\b\b\b\b\b\b\b\b\b\b\b\b\b\b\b\b\b\b\b\b\b\b\b\b\b\b\b\b\b\b\b\b\b\b\b\b\r125/125 [==============================] - 35s 278ms/step - loss: 0.0952 - accuracy: 0.9681 - val_loss: 0.0906 - val_accuracy: 0.9697 - lr: 1.0000e-06\n",
            "Epoch 157/180\n",
            "125/125 [==============================] - ETA: 0s - loss: 0.0947 - accuracy: 0.9683\n",
            "Epoch 00157: val_accuracy did not improve from 0.96990\n"
          ],
          "name": "stdout"
        },
        {
          "output_type": "stream",
          "text": [
            "2020-05-13 06:18:02,437 INFO \n",
            " epoch:156, F1Macro: 0.93985\n"
          ],
          "name": "stderr"
        },
        {
          "output_type": "stream",
          "text": [
            "\b\b\b\b\b\b\b\b\b\b\b\b\b\b\b\b\b\b\b\b\b\b\b\b\b\b\b\b\b\b\b\b\b\b\b\b\b\b\b\b\b\b\b\b\b\b\b\b\b\b\b\b\b\b\b\b\b\b\b\b\b\b\b\b\b\b\b\b\b\b\b\b\b\b\b\b\b\b\b\b\b\b\b\b\r125/125 [==============================] - 35s 277ms/step - loss: 0.0947 - accuracy: 0.9683 - val_loss: 0.0903 - val_accuracy: 0.9698 - lr: 1.0000e-06\n",
            "Epoch 158/180\n",
            "125/125 [==============================] - ETA: 0s - loss: 0.0949 - accuracy: 0.9682\n",
            "Epoch 00158: val_accuracy did not improve from 0.96990\n"
          ],
          "name": "stdout"
        },
        {
          "output_type": "stream",
          "text": [
            "2020-05-13 06:18:37,178 INFO \n",
            " epoch:157, F1Macro: 0.93987\n"
          ],
          "name": "stderr"
        },
        {
          "output_type": "stream",
          "text": [
            "\b\b\b\b\b\b\b\b\b\b\b\b\b\b\b\b\b\b\b\b\b\b\b\b\b\b\b\b\b\b\b\b\b\b\b\b\b\b\b\b\b\b\b\b\b\b\b\b\b\b\b\b\b\b\b\b\b\b\b\b\b\b\b\b\b\b\b\b\b\b\b\b\b\b\b\b\b\b\b\b\b\b\b\b\r125/125 [==============================] - 34s 276ms/step - loss: 0.0949 - accuracy: 0.9682 - val_loss: 0.0903 - val_accuracy: 0.9699 - lr: 1.0000e-06\n",
            "Epoch 159/180\n",
            "125/125 [==============================] - ETA: 0s - loss: 0.0949 - accuracy: 0.9682\n",
            "Epoch 00159: val_accuracy did not improve from 0.96990\n"
          ],
          "name": "stdout"
        },
        {
          "output_type": "stream",
          "text": [
            "2020-05-13 06:19:11,980 INFO \n",
            " epoch:158, F1Macro: 0.93988\n"
          ],
          "name": "stderr"
        },
        {
          "output_type": "stream",
          "text": [
            "\b\b\b\b\b\b\b\b\b\b\b\b\b\b\b\b\b\b\b\b\b\b\b\b\b\b\b\b\b\b\b\b\b\b\b\b\b\b\b\b\b\b\b\b\b\b\b\b\b\b\b\b\b\b\b\b\b\b\b\b\b\b\b\b\b\b\b\b\b\b\b\b\b\b\b\b\b\b\b\b\b\b\b\b\r125/125 [==============================] - 35s 276ms/step - loss: 0.0949 - accuracy: 0.9682 - val_loss: 0.0903 - val_accuracy: 0.9698 - lr: 1.0000e-06\n",
            "Epoch 160/180\n",
            "125/125 [==============================] - ETA: 0s - loss: 0.0947 - accuracy: 0.9682\n",
            "Epoch 00160: val_accuracy did not improve from 0.96990\n"
          ],
          "name": "stdout"
        },
        {
          "output_type": "stream",
          "text": [
            "2020-05-13 06:19:46,743 INFO \n",
            " epoch:159, F1Macro: 0.93987\n"
          ],
          "name": "stderr"
        },
        {
          "output_type": "stream",
          "text": [
            "\b\b\b\b\b\b\b\b\b\b\b\b\b\b\b\b\b\b\b\b\b\b\b\b\b\b\b\b\b\b\b\b\b\b\b\b\b\b\b\b\b\b\b\b\b\b\b\b\b\b\b\b\b\b\b\b\b\b\b\b\b\b\b\b\b\b\b\b\b\b\b\b\b\b\b\b\b\b\b\b\b\b\b\b\r125/125 [==============================] - 34s 276ms/step - loss: 0.0947 - accuracy: 0.9682 - val_loss: 0.0903 - val_accuracy: 0.9698 - lr: 1.0000e-06\n",
            "Epoch 161/180\n",
            "125/125 [==============================] - ETA: 0s - loss: 0.0951 - accuracy: 0.9681\n",
            "Epoch 00161: val_accuracy did not improve from 0.96990\n"
          ],
          "name": "stdout"
        },
        {
          "output_type": "stream",
          "text": [
            "2020-05-13 06:20:21,542 INFO \n",
            " epoch:160, F1Macro: 0.93981\n"
          ],
          "name": "stderr"
        },
        {
          "output_type": "stream",
          "text": [
            "\b\b\b\b\b\b\b\b\b\b\b\b\b\b\b\b\b\b\b\b\b\b\b\b\b\b\b\b\b\b\b\b\b\b\b\b\b\b\b\b\b\b\b\b\b\b\b\b\b\b\b\b\b\b\b\b\b\b\b\b\b\b\b\b\b\b\b\b\b\b\b\b\b\b\b\b\b\b\b\b\b\b\b\b\r125/125 [==============================] - 35s 276ms/step - loss: 0.0951 - accuracy: 0.9681 - val_loss: 0.0904 - val_accuracy: 0.9698 - lr: 1.0000e-06\n",
            "Epoch 162/180\n",
            "125/125 [==============================] - ETA: 0s - loss: 0.0945 - accuracy: 0.9683\n",
            "Epoch 00162: val_accuracy did not improve from 0.96990\n"
          ],
          "name": "stdout"
        },
        {
          "output_type": "stream",
          "text": [
            "2020-05-13 06:20:56,298 INFO \n",
            " epoch:161, F1Macro: 0.93991\n"
          ],
          "name": "stderr"
        },
        {
          "output_type": "stream",
          "text": [
            "\b\b\b\b\b\b\b\b\b\b\b\b\b\b\b\b\b\b\b\b\b\b\b\b\b\b\b\b\b\b\b\b\b\b\b\b\b\b\b\b\b\b\b\b\b\b\b\b\b\b\b\b\b\b\b\b\b\b\b\b\b\b\b\b\b\b\b\b\b\b\b\b\b\b\b\b\b\b\b\b\b\b\b\b\r125/125 [==============================] - 34s 276ms/step - loss: 0.0945 - accuracy: 0.9683 - val_loss: 0.0903 - val_accuracy: 0.9698 - lr: 1.0000e-06\n",
            "Epoch 163/180\n",
            "125/125 [==============================] - ETA: 0s - loss: 0.0946 - accuracy: 0.9683\n",
            "Epoch 00163: val_accuracy did not improve from 0.96990\n"
          ],
          "name": "stdout"
        },
        {
          "output_type": "stream",
          "text": [
            "2020-05-13 06:21:31,047 INFO \n",
            " epoch:162, F1Macro: 0.93991\n"
          ],
          "name": "stderr"
        },
        {
          "output_type": "stream",
          "text": [
            "\b\b\b\b\b\b\b\b\b\b\b\b\b\b\b\b\b\b\b\b\b\b\b\b\b\b\b\b\b\b\b\b\b\b\b\b\b\b\b\b\b\b\b\b\b\b\b\b\b\b\b\b\b\b\b\b\b\b\b\b\b\b\b\b\b\b\b\b\b\b\b\b\b\b\b\b\b\b\b\b\b\b\b\b\r125/125 [==============================] - 34s 276ms/step - loss: 0.0946 - accuracy: 0.9683 - val_loss: 0.0902 - val_accuracy: 0.9699 - lr: 1.0000e-06\n",
            "Epoch 164/180\n",
            "125/125 [==============================] - ETA: 0s - loss: 0.0947 - accuracy: 0.9682\n",
            "Epoch 00164: val_accuracy did not improve from 0.96990\n"
          ],
          "name": "stdout"
        },
        {
          "output_type": "stream",
          "text": [
            "2020-05-13 06:22:05,812 INFO \n",
            " epoch:163, F1Macro: 0.93987\n"
          ],
          "name": "stderr"
        },
        {
          "output_type": "stream",
          "text": [
            "\b\b\b\b\b\b\b\b\b\b\b\b\b\b\b\b\b\b\b\b\b\b\b\b\b\b\b\b\b\b\b\b\b\b\b\b\b\b\b\b\b\b\b\b\b\b\b\b\b\b\b\b\b\b\b\b\b\b\b\b\b\b\b\b\b\b\b\b\b\b\b\b\b\b\b\b\b\b\b\b\b\b\b\b\r125/125 [==============================] - 34s 276ms/step - loss: 0.0947 - accuracy: 0.9682 - val_loss: 0.0903 - val_accuracy: 0.9698 - lr: 1.0000e-06\n",
            "Epoch 165/180\n",
            "125/125 [==============================] - ETA: 0s - loss: 0.0951 - accuracy: 0.9680\n",
            "Epoch 00165: val_accuracy did not improve from 0.96990\n"
          ],
          "name": "stdout"
        },
        {
          "output_type": "stream",
          "text": [
            "2020-05-13 06:22:40,589 INFO \n",
            " epoch:164, F1Macro: 0.93975\n"
          ],
          "name": "stderr"
        },
        {
          "output_type": "stream",
          "text": [
            "\b\b\b\b\b\b\b\b\b\b\b\b\b\b\b\b\b\b\b\b\b\b\b\b\b\b\b\b\b\b\b\b\b\b\b\b\b\b\b\b\b\b\b\b\b\b\b\b\b\b\b\b\b\b\b\b\b\b\b\b\b\b\b\b\b\b\b\b\b\b\b\b\b\b\b\b\b\b\b\b\b\b\b\b\r125/125 [==============================] - 35s 276ms/step - loss: 0.0951 - accuracy: 0.9680 - val_loss: 0.0904 - val_accuracy: 0.9698 - lr: 1.0000e-06\n",
            "Epoch 166/180\n",
            "125/125 [==============================] - ETA: 0s - loss: 0.0946 - accuracy: 0.9682\n",
            "Epoch 00166: val_accuracy did not improve from 0.96990\n"
          ],
          "name": "stdout"
        },
        {
          "output_type": "stream",
          "text": [
            "2020-05-13 06:23:15,322 INFO \n",
            " epoch:165, F1Macro: 0.93978\n"
          ],
          "name": "stderr"
        },
        {
          "output_type": "stream",
          "text": [
            "\b\b\b\b\b\b\b\b\b\b\b\b\b\b\b\b\b\b\b\b\b\b\b\b\b\b\b\b\b\b\b\b\b\b\b\b\b\b\b\b\b\b\b\b\b\b\b\b\b\b\b\b\b\b\b\b\b\b\b\b\b\b\b\b\b\b\b\b\b\b\b\b\b\b\b\b\b\b\b\b\b\b\b\b\r125/125 [==============================] - 34s 276ms/step - loss: 0.0946 - accuracy: 0.9682 - val_loss: 0.0904 - val_accuracy: 0.9698 - lr: 1.0000e-06\n",
            "Epoch 167/180\n",
            "125/125 [==============================] - ETA: 0s - loss: 0.0946 - accuracy: 0.9683\n",
            "Epoch 00167: val_accuracy did not improve from 0.96990\n"
          ],
          "name": "stdout"
        },
        {
          "output_type": "stream",
          "text": [
            "2020-05-13 06:23:50,077 INFO \n",
            " epoch:166, F1Macro: 0.93972\n"
          ],
          "name": "stderr"
        },
        {
          "output_type": "stream",
          "text": [
            "\b\b\b\b\b\b\b\b\b\b\b\b\b\b\b\b\b\b\b\b\b\b\b\b\b\b\b\b\b\b\b\b\b\b\b\b\b\b\b\b\b\b\b\b\b\b\b\b\b\b\b\b\b\b\b\b\b\b\b\b\b\b\b\b\b\b\b\b\b\b\b\b\b\b\b\b\b\b\b\b\b\b\b\b\r125/125 [==============================] - 34s 276ms/step - loss: 0.0946 - accuracy: 0.9683 - val_loss: 0.0903 - val_accuracy: 0.9698 - lr: 1.0000e-06\n",
            "Epoch 168/180\n",
            "125/125 [==============================] - ETA: 0s - loss: 0.0947 - accuracy: 0.9682\n",
            "Epoch 00168: val_accuracy did not improve from 0.96990\n"
          ],
          "name": "stdout"
        },
        {
          "output_type": "stream",
          "text": [
            "2020-05-13 06:24:24,858 INFO \n",
            " epoch:167, F1Macro: 0.93979\n"
          ],
          "name": "stderr"
        },
        {
          "output_type": "stream",
          "text": [
            "\b\b\b\b\b\b\b\b\b\b\b\b\b\b\b\b\b\b\b\b\b\b\b\b\b\b\b\b\b\b\b\b\b\b\b\b\b\b\b\b\b\b\b\b\b\b\b\b\b\b\b\b\b\b\b\b\b\b\b\b\b\b\b\b\b\b\b\b\b\b\b\b\b\b\b\b\b\b\b\b\b\b\b\b\r125/125 [==============================] - 35s 276ms/step - loss: 0.0947 - accuracy: 0.9682 - val_loss: 0.0903 - val_accuracy: 0.9698 - lr: 1.0000e-06\n",
            "Epoch 169/180\n",
            "125/125 [==============================] - ETA: 0s - loss: 0.0949 - accuracy: 0.9682\n",
            "Epoch 00169: val_accuracy did not improve from 0.96990\n"
          ],
          "name": "stdout"
        },
        {
          "output_type": "stream",
          "text": [
            "2020-05-13 06:24:59,630 INFO \n",
            " epoch:168, F1Macro: 0.93975\n"
          ],
          "name": "stderr"
        },
        {
          "output_type": "stream",
          "text": [
            "\b\b\b\b\b\b\b\b\b\b\b\b\b\b\b\b\b\b\b\b\b\b\b\b\b\b\b\b\b\b\b\b\b\b\b\b\b\b\b\b\b\b\b\b\b\b\b\b\b\b\b\b\b\b\b\b\b\b\b\b\b\b\b\b\b\b\b\b\b\b\b\b\b\b\b\b\b\b\b\b\b\b\b\b\r125/125 [==============================] - 35s 276ms/step - loss: 0.0949 - accuracy: 0.9682 - val_loss: 0.0904 - val_accuracy: 0.9698 - lr: 1.0000e-06\n",
            "Epoch 170/180\n",
            "125/125 [==============================] - ETA: 0s - loss: 0.0949 - accuracy: 0.9681\n",
            "Epoch 00170: val_accuracy did not improve from 0.96990\n"
          ],
          "name": "stdout"
        },
        {
          "output_type": "stream",
          "text": [
            "2020-05-13 06:25:34,349 INFO \n",
            " epoch:169, F1Macro: 0.93982\n"
          ],
          "name": "stderr"
        },
        {
          "output_type": "stream",
          "text": [
            "\b\b\b\b\b\b\b\b\b\b\b\b\b\b\b\b\b\b\b\b\b\b\b\b\b\b\b\b\b\b\b\b\b\b\b\b\b\b\b\b\b\b\b\b\b\b\b\b\b\b\b\b\b\b\b\b\b\b\b\b\b\b\b\b\b\b\b\b\b\b\b\b\b\b\b\b\b\b\b\b\b\b\b\b\r125/125 [==============================] - 34s 276ms/step - loss: 0.0949 - accuracy: 0.9681 - val_loss: 0.0903 - val_accuracy: 0.9698 - lr: 1.0000e-06\n",
            "Epoch 171/180\n",
            "125/125 [==============================] - ETA: 0s - loss: 0.0947 - accuracy: 0.9682\n",
            "Epoch 00171: val_accuracy did not improve from 0.96990\n"
          ],
          "name": "stdout"
        },
        {
          "output_type": "stream",
          "text": [
            "2020-05-13 06:26:09,117 INFO \n",
            " epoch:170, F1Macro: 0.93982\n"
          ],
          "name": "stderr"
        },
        {
          "output_type": "stream",
          "text": [
            "\b\b\b\b\b\b\b\b\b\b\b\b\b\b\b\b\b\b\b\b\b\b\b\b\b\b\b\b\b\b\b\b\b\b\b\b\b\b\b\b\b\b\b\b\b\b\b\b\b\b\b\b\b\b\b\b\b\b\b\b\b\b\b\b\b\b\b\b\b\b\b\b\b\b\b\b\b\b\b\b\b\b\b\b\r125/125 [==============================] - 34s 276ms/step - loss: 0.0947 - accuracy: 0.9682 - val_loss: 0.0903 - val_accuracy: 0.9698 - lr: 1.0000e-06\n",
            "Epoch 172/180\n",
            "125/125 [==============================] - ETA: 0s - loss: 0.0948 - accuracy: 0.9682\n",
            "Epoch 00172: val_accuracy did not improve from 0.96990\n"
          ],
          "name": "stdout"
        },
        {
          "output_type": "stream",
          "text": [
            "2020-05-13 06:26:43,824 INFO \n",
            " epoch:171, F1Macro: 0.93989\n"
          ],
          "name": "stderr"
        },
        {
          "output_type": "stream",
          "text": [
            "\b\b\b\b\b\b\b\b\b\b\b\b\b\b\b\b\b\b\b\b\b\b\b\b\b\b\b\b\b\b\b\b\b\b\b\b\b\b\b\b\b\b\b\b\b\b\b\b\b\b\b\b\b\b\b\b\b\b\b\b\b\b\b\b\b\b\b\b\b\b\b\b\b\b\b\b\b\b\b\b\b\b\b\b\r125/125 [==============================] - 34s 276ms/step - loss: 0.0948 - accuracy: 0.9682 - val_loss: 0.0902 - val_accuracy: 0.9699 - lr: 1.0000e-06\n",
            "Epoch 173/180\n",
            "125/125 [==============================] - ETA: 0s - loss: 0.0947 - accuracy: 0.9682\n",
            "Epoch 00173: val_accuracy did not improve from 0.96990\n"
          ],
          "name": "stdout"
        },
        {
          "output_type": "stream",
          "text": [
            "2020-05-13 06:27:18,597 INFO \n",
            " epoch:172, F1Macro: 0.93989\n"
          ],
          "name": "stderr"
        },
        {
          "output_type": "stream",
          "text": [
            "\b\b\b\b\b\b\b\b\b\b\b\b\b\b\b\b\b\b\b\b\b\b\b\b\b\b\b\b\b\b\b\b\b\b\b\b\b\b\b\b\b\b\b\b\b\b\b\b\b\b\b\b\b\b\b\b\b\b\b\b\b\b\b\b\b\b\b\b\b\b\b\b\b\b\b\b\b\b\b\b\b\b\b\b\r125/125 [==============================] - 35s 276ms/step - loss: 0.0947 - accuracy: 0.9682 - val_loss: 0.0902 - val_accuracy: 0.9699 - lr: 1.0000e-06\n",
            "Epoch 174/180\n",
            "125/125 [==============================] - ETA: 0s - loss: 0.0947 - accuracy: 0.9682\n",
            "Epoch 00174: val_accuracy did not improve from 0.96990\n"
          ],
          "name": "stdout"
        },
        {
          "output_type": "stream",
          "text": [
            "2020-05-13 06:27:53,352 INFO \n",
            " epoch:173, F1Macro: 0.93976\n"
          ],
          "name": "stderr"
        },
        {
          "output_type": "stream",
          "text": [
            "\b\b\b\b\b\b\b\b\b\b\b\b\b\b\b\b\b\b\b\b\b\b\b\b\b\b\b\b\b\b\b\b\b\b\b\b\b\b\b\b\b\b\b\b\b\b\b\b\b\b\b\b\b\b\b\b\b\b\b\b\b\b\b\b\b\b\b\b\b\b\b\b\b\b\b\b\b\b\b\b\b\b\b\b\r125/125 [==============================] - 34s 276ms/step - loss: 0.0947 - accuracy: 0.9682 - val_loss: 0.0904 - val_accuracy: 0.9698 - lr: 1.0000e-06\n",
            "Epoch 175/180\n",
            "125/125 [==============================] - ETA: 0s - loss: 0.0947 - accuracy: 0.9682\n",
            "Epoch 00175: val_accuracy did not improve from 0.96990\n"
          ],
          "name": "stdout"
        },
        {
          "output_type": "stream",
          "text": [
            "2020-05-13 06:28:28,043 INFO \n",
            " epoch:174, F1Macro: 0.93979\n"
          ],
          "name": "stderr"
        },
        {
          "output_type": "stream",
          "text": [
            "\b\b\b\b\b\b\b\b\b\b\b\b\b\b\b\b\b\b\b\b\b\b\b\b\b\b\b\b\b\b\b\b\b\b\b\b\b\b\b\b\b\b\b\b\b\b\b\b\b\b\b\b\b\b\b\b\b\b\b\b\b\b\b\b\b\b\b\b\b\b\b\b\b\b\b\b\b\b\b\b\b\b\b\b\r125/125 [==============================] - 34s 275ms/step - loss: 0.0947 - accuracy: 0.9682 - val_loss: 0.0903 - val_accuracy: 0.9698 - lr: 1.0000e-06\n",
            "Epoch 176/180\n",
            "125/125 [==============================] - ETA: 0s - loss: 0.0948 - accuracy: 0.9682\n",
            "Epoch 00176: val_accuracy did not improve from 0.96990\n"
          ],
          "name": "stdout"
        },
        {
          "output_type": "stream",
          "text": [
            "2020-05-13 06:29:02,810 INFO \n",
            " epoch:175, F1Macro: 0.93986\n"
          ],
          "name": "stderr"
        },
        {
          "output_type": "stream",
          "text": [
            "\b\b\b\b\b\b\b\b\b\b\b\b\b\b\b\b\b\b\b\b\b\b\b\b\b\b\b\b\b\b\b\b\b\b\b\b\b\b\b\b\b\b\b\b\b\b\b\b\b\b\b\b\b\b\b\b\b\b\b\b\b\b\b\b\b\b\b\b\b\b\b\b\b\b\b\b\b\b\b\b\b\b\b\b\r125/125 [==============================] - 34s 276ms/step - loss: 0.0948 - accuracy: 0.9682 - val_loss: 0.0903 - val_accuracy: 0.9698 - lr: 1.0000e-06\n",
            "Epoch 177/180\n",
            "125/125 [==============================] - ETA: 0s - loss: 0.0949 - accuracy: 0.9681\n",
            "Epoch 00177: val_accuracy did not improve from 0.96990\n"
          ],
          "name": "stdout"
        },
        {
          "output_type": "stream",
          "text": [
            "2020-05-13 06:29:37,551 INFO \n",
            " epoch:176, F1Macro: 0.93973\n"
          ],
          "name": "stderr"
        },
        {
          "output_type": "stream",
          "text": [
            "\b\b\b\b\b\b\b\b\b\b\b\b\b\b\b\b\b\b\b\b\b\b\b\b\b\b\b\b\b\b\b\b\b\b\b\b\b\b\b\b\b\b\b\b\b\b\b\b\b\b\b\b\b\b\b\b\b\b\b\b\b\b\b\b\b\b\b\b\b\b\b\b\b\b\b\b\b\b\b\b\b\b\b\b\r125/125 [==============================] - 34s 276ms/step - loss: 0.0949 - accuracy: 0.9681 - val_loss: 0.0904 - val_accuracy: 0.9698 - lr: 1.0000e-06\n",
            "Epoch 178/180\n",
            "125/125 [==============================] - ETA: 0s - loss: 0.0948 - accuracy: 0.9682\n",
            "Epoch 00178: val_accuracy did not improve from 0.96990\n"
          ],
          "name": "stdout"
        },
        {
          "output_type": "stream",
          "text": [
            "2020-05-13 06:30:12,320 INFO \n",
            " epoch:177, F1Macro: 0.93980\n"
          ],
          "name": "stderr"
        },
        {
          "output_type": "stream",
          "text": [
            "\b\b\b\b\b\b\b\b\b\b\b\b\b\b\b\b\b\b\b\b\b\b\b\b\b\b\b\b\b\b\b\b\b\b\b\b\b\b\b\b\b\b\b\b\b\b\b\b\b\b\b\b\b\b\b\b\b\b\b\b\b\b\b\b\b\b\b\b\b\b\b\b\b\b\b\b\b\b\b\b\b\b\b\b\r125/125 [==============================] - 35s 276ms/step - loss: 0.0948 - accuracy: 0.9682 - val_loss: 0.0903 - val_accuracy: 0.9698 - lr: 1.0000e-06\n",
            "Epoch 179/180\n",
            "125/125 [==============================] - ETA: 0s - loss: 0.0946 - accuracy: 0.9682\n",
            "Epoch 00179: val_accuracy did not improve from 0.96990\n"
          ],
          "name": "stdout"
        },
        {
          "output_type": "stream",
          "text": [
            "2020-05-13 06:30:47,062 INFO \n",
            " epoch:178, F1Macro: 0.93978\n"
          ],
          "name": "stderr"
        },
        {
          "output_type": "stream",
          "text": [
            "\b\b\b\b\b\b\b\b\b\b\b\b\b\b\b\b\b\b\b\b\b\b\b\b\b\b\b\b\b\b\b\b\b\b\b\b\b\b\b\b\b\b\b\b\b\b\b\b\b\b\b\b\b\b\b\b\b\b\b\b\b\b\b\b\b\b\b\b\b\b\b\b\b\b\b\b\b\b\b\b\b\b\b\b\r125/125 [==============================] - 34s 276ms/step - loss: 0.0946 - accuracy: 0.9682 - val_loss: 0.0903 - val_accuracy: 0.9698 - lr: 1.0000e-06\n",
            "Epoch 180/180\n",
            "125/125 [==============================] - ETA: 0s - loss: 0.0945 - accuracy: 0.9683\n",
            "Epoch 00180: val_accuracy did not improve from 0.96990\n"
          ],
          "name": "stdout"
        },
        {
          "output_type": "stream",
          "text": [
            "2020-05-13 06:31:21,802 INFO \n",
            " epoch:179, F1Macro: 0.93997\n"
          ],
          "name": "stderr"
        },
        {
          "output_type": "stream",
          "text": [
            "125/125 [==============================] - 34s 276ms/step - loss: 0.0945 - accuracy: 0.9683 - val_loss: 0.0902 - val_accuracy: 0.9699 - lr: 1.0000e-06\n",
            "preds_f shape: (250, 4000, 11)\n"
          ],
          "name": "stdout"
        },
        {
          "output_type": "stream",
          "text": [
            "2020-05-13 06:31:24,411 INFO Training fold 2 completed. macro f1 score : 0.93997\n"
          ],
          "name": "stderr"
        },
        {
          "output_type": "stream",
          "text": [
            "X_aug shape 1: (1000, 4000, 9)\n",
            "X_aug shape 2: (1000, 4000, 10)\n",
            "unique train_x[8]: [0. 1.]\n",
            "test shape after roll diff: (500, 4000, 10)\n",
            "train_x shape 3:  (2000, 4000, 10)\n",
            "train_y shape 3:  (2000, 4000, 11)\n",
            "shape_: (4000, 10)\n",
            "model initilization done!\n"
          ],
          "name": "stdout"
        },
        {
          "output_type": "display_data",
          "data": {
            "application/vnd.jupyter.widget-view+json": {
              "model_id": "7b1c9b7401d44b15b6c43ebfa7a0f672",
              "version_minor": 0,
              "version_major": 2
            },
            "text/plain": [
              "HBox(children=(FloatProgress(value=0.0, description='Training', layout=Layout(flex='2'), max=180.0, style=Prog…"
            ]
          },
          "metadata": {
            "tags": []
          }
        },
        {
          "output_type": "stream",
          "text": [
            "Epoch 1/180\n",
            "125/125 [==============================] - ETA: 0s - loss: 1.8045 - accuracy: 0.7069\n",
            "Epoch 00001: val_accuracy improved from -inf to 0.69300, saving model to ion_switch/res/wavenet-dlr-res/ClassifierCBRWmulti-Prob11-NESCAL/all/2_fold/checkpoint-modelonly-2.h5\n"
          ],
          "name": "stdout"
        },
        {
          "output_type": "stream",
          "text": [
            "2020-05-13 06:33:06,362 INFO \n",
            " epoch:000, F1Macro: 0.53504\n"
          ],
          "name": "stderr"
        },
        {
          "output_type": "stream",
          "text": [
            "\b\b\b\b\b\b\b\b\b\b\b\b\b\b\b\b\b\b\b\b\b\b\b\b\b\b\b\b\b\b\b\b\b\b\b\b\b\b\b\b\b\b\b\b\b\b\b\b\b\b\b\b\b\b\b\b\b\b\b\b\b\b\b\b\b\b\b\b\b\b\b\b\b\b\b\b\b\b\b\b\b\b\b\b\r125/125 [==============================] - 40s 322ms/step - loss: 1.8045 - accuracy: 0.7069 - val_loss: 1.7510 - val_accuracy: 0.6930 - lr: 0.0010\n",
            "Epoch 2/180\n",
            "125/125 [==============================] - ETA: 0s - loss: 1.4109 - accuracy: 0.8608\n",
            "Epoch 00002: val_accuracy improved from 0.69300 to 0.85746, saving model to ion_switch/res/wavenet-dlr-res/ClassifierCBRWmulti-Prob11-NESCAL/all/2_fold/checkpoint-modelonly-2.h5\n"
          ],
          "name": "stdout"
        },
        {
          "output_type": "stream",
          "text": [
            "2020-05-13 06:33:42,449 INFO \n",
            " epoch:001, F1Macro: 0.73461\n"
          ],
          "name": "stderr"
        },
        {
          "output_type": "stream",
          "text": [
            "\b\b\b\b\b\b\b\b\b\b\b\b\b\b\b\b\b\b\b\b\b\b\b\b\b\b\b\b\b\b\b\b\b\b\b\b\b\b\b\b\b\b\b\b\b\b\b\b\b\b\b\b\b\b\b\b\b\b\b\b\b\b\b\b\b\b\b\b\b\b\b\b\b\b\b\b\b\b\b\b\b\b\b\b\r125/125 [==============================] - 36s 289ms/step - loss: 1.4109 - accuracy: 0.8608 - val_loss: 1.3305 - val_accuracy: 0.8575 - lr: 0.0010\n",
            "Epoch 3/180\n",
            "125/125 [==============================] - ETA: 0s - loss: 1.1462 - accuracy: 0.8947\n",
            "Epoch 00003: val_accuracy improved from 0.85746 to 0.91388, saving model to ion_switch/res/wavenet-dlr-res/ClassifierCBRWmulti-Prob11-NESCAL/all/2_fold/checkpoint-modelonly-2.h5\n"
          ],
          "name": "stdout"
        },
        {
          "output_type": "stream",
          "text": [
            "2020-05-13 06:34:18,867 INFO \n",
            " epoch:002, F1Macro: 0.78588\n"
          ],
          "name": "stderr"
        },
        {
          "output_type": "stream",
          "text": [
            "\b\b\b\b\b\b\b\b\b\b\b\b\b\b\b\b\b\b\b\b\b\b\b\b\b\b\b\b\b\b\b\b\b\b\b\b\b\b\b\b\b\b\b\b\b\b\b\b\b\b\b\b\b\b\b\b\b\b\b\b\b\b\b\b\b\b\b\b\b\b\b\b\b\b\b\b\b\b\b\b\b\b\b\b\r125/125 [==============================] - 36s 289ms/step - loss: 1.1462 - accuracy: 0.8947 - val_loss: 1.0167 - val_accuracy: 0.9139 - lr: 0.0010\n",
            "Epoch 4/180\n",
            "125/125 [==============================] - ETA: 0s - loss: 0.9341 - accuracy: 0.9178\n",
            "Epoch 00004: val_accuracy improved from 0.91388 to 0.93136, saving model to ion_switch/res/wavenet-dlr-res/ClassifierCBRWmulti-Prob11-NESCAL/all/2_fold/checkpoint-modelonly-2.h5\n"
          ],
          "name": "stdout"
        },
        {
          "output_type": "stream",
          "text": [
            "2020-05-13 06:34:55,197 INFO \n",
            " epoch:003, F1Macro: 0.79268\n"
          ],
          "name": "stderr"
        },
        {
          "output_type": "stream",
          "text": [
            "\b\b\b\b\b\b\b\b\b\b\b\b\b\b\b\b\b\b\b\b\b\b\b\b\b\b\b\b\b\b\b\b\b\b\b\b\b\b\b\b\b\b\b\b\b\b\b\b\b\b\b\b\b\b\b\b\b\b\b\b\b\b\b\b\b\b\b\b\b\b\b\b\b\b\b\b\b\b\b\b\b\b\b\b\r125/125 [==============================] - 36s 287ms/step - loss: 0.9341 - accuracy: 0.9178 - val_loss: 0.8346 - val_accuracy: 0.9314 - lr: 0.0010\n",
            "Epoch 5/180\n",
            "125/125 [==============================] - ETA: 0s - loss: 0.7790 - accuracy: 0.9257\n",
            "Epoch 00005: val_accuracy did not improve from 0.93136\n"
          ],
          "name": "stdout"
        },
        {
          "output_type": "stream",
          "text": [
            "2020-05-13 06:35:30,794 INFO \n",
            " epoch:004, F1Macro: 0.79843\n"
          ],
          "name": "stderr"
        },
        {
          "output_type": "stream",
          "text": [
            "\b\b\b\b\b\b\b\b\b\b\b\b\b\b\b\b\b\b\b\b\b\b\b\b\b\b\b\b\b\b\b\b\b\b\b\b\b\b\b\b\b\b\b\b\b\b\b\b\b\b\b\b\b\b\b\b\b\b\b\b\b\b\b\b\b\b\b\b\b\b\b\b\b\b\b\b\b\b\b\b\b\b\b\b\r125/125 [==============================] - 35s 283ms/step - loss: 0.7790 - accuracy: 0.9257 - val_loss: 0.7070 - val_accuracy: 0.9299 - lr: 0.0010\n",
            "Epoch 6/180\n",
            "125/125 [==============================] - ETA: 0s - loss: 0.6622 - accuracy: 0.9346\n",
            "Epoch 00006: val_accuracy improved from 0.93136 to 0.94872, saving model to ion_switch/res/wavenet-dlr-res/ClassifierCBRWmulti-Prob11-NESCAL/all/2_fold/checkpoint-modelonly-2.h5\n"
          ],
          "name": "stdout"
        },
        {
          "output_type": "stream",
          "text": [
            "2020-05-13 06:36:07,294 INFO \n",
            " epoch:005, F1Macro: 0.90604\n"
          ],
          "name": "stderr"
        },
        {
          "output_type": "stream",
          "text": [
            "\b\b\b\b\b\b\b\b\b\b\b\b\b\b\b\b\b\b\b\b\b\b\b\b\b\b\b\b\b\b\b\b\b\b\b\b\b\b\b\b\b\b\b\b\b\b\b\b\b\b\b\b\b\b\b\b\b\b\b\b\b\b\b\b\b\b\b\b\b\b\b\b\b\b\b\b\b\b\b\b\b\b\b\b\r125/125 [==============================] - 36s 290ms/step - loss: 0.6622 - accuracy: 0.9346 - val_loss: 0.5925 - val_accuracy: 0.9487 - lr: 0.0010\n",
            "Epoch 7/180\n",
            "125/125 [==============================] - ETA: 0s - loss: 0.5682 - accuracy: 0.9456\n",
            "Epoch 00007: val_accuracy did not improve from 0.94872\n"
          ],
          "name": "stdout"
        },
        {
          "output_type": "stream",
          "text": [
            "2020-05-13 06:36:42,982 INFO \n",
            " epoch:006, F1Macro: 0.91135\n"
          ],
          "name": "stderr"
        },
        {
          "output_type": "stream",
          "text": [
            "\b\b\b\b\b\b\b\b\b\b\b\b\b\b\b\b\b\b\b\b\b\b\b\b\b\b\b\b\b\b\b\b\b\b\b\b\b\b\b\b\b\b\b\b\b\b\b\b\b\b\b\b\b\b\b\b\b\b\b\b\b\b\b\b\b\b\b\b\b\b\b\b\b\b\b\b\b\b\b\b\b\b\b\b\r125/125 [==============================] - 35s 283ms/step - loss: 0.5682 - accuracy: 0.9456 - val_loss: 0.5729 - val_accuracy: 0.9420 - lr: 0.0010\n",
            "Epoch 8/180\n",
            "125/125 [==============================] - ETA: 0s - loss: 0.4959 - accuracy: 0.9495\n",
            "Epoch 00008: val_accuracy improved from 0.94872 to 0.95694, saving model to ion_switch/res/wavenet-dlr-res/ClassifierCBRWmulti-Prob11-NESCAL/all/2_fold/checkpoint-modelonly-2.h5\n"
          ],
          "name": "stdout"
        },
        {
          "output_type": "stream",
          "text": [
            "2020-05-13 06:37:19,471 INFO \n",
            " epoch:007, F1Macro: 0.91879\n"
          ],
          "name": "stderr"
        },
        {
          "output_type": "stream",
          "text": [
            "\b\b\b\b\b\b\b\b\b\b\b\b\b\b\b\b\b\b\b\b\b\b\b\b\b\b\b\b\b\b\b\b\b\b\b\b\b\b\b\b\b\b\b\b\b\b\b\b\b\b\b\b\b\b\b\b\b\b\b\b\b\b\b\b\b\b\b\b\b\b\b\b\b\b\b\b\b\b\b\b\b\b\b\b\r125/125 [==============================] - 36s 289ms/step - loss: 0.4959 - accuracy: 0.9495 - val_loss: 0.4465 - val_accuracy: 0.9569 - lr: 0.0010\n",
            "Epoch 9/180\n",
            "125/125 [==============================] - ETA: 0s - loss: 0.4330 - accuracy: 0.9534\n",
            "Epoch 00009: val_accuracy improved from 0.95694 to 0.95990, saving model to ion_switch/res/wavenet-dlr-res/ClassifierCBRWmulti-Prob11-NESCAL/all/2_fold/checkpoint-modelonly-2.h5\n"
          ],
          "name": "stdout"
        },
        {
          "output_type": "stream",
          "text": [
            "2020-05-13 06:37:55,895 INFO \n",
            " epoch:008, F1Macro: 0.92359\n"
          ],
          "name": "stderr"
        },
        {
          "output_type": "stream",
          "text": [
            "\b\b\b\b\b\b\b\b\b\b\b\b\b\b\b\b\b\b\b\b\b\b\b\b\b\b\b\b\b\b\b\b\b\b\b\b\b\b\b\b\b\b\b\b\b\b\b\b\b\b\b\b\b\b\b\b\b\b\b\b\b\b\b\b\b\b\b\b\b\b\b\b\b\b\b\b\b\b\b\b\b\b\b\b\r125/125 [==============================] - 36s 290ms/step - loss: 0.4330 - accuracy: 0.9534 - val_loss: 0.3915 - val_accuracy: 0.9599 - lr: 0.0010\n",
            "Epoch 10/180\n",
            "125/125 [==============================] - ETA: 0s - loss: 0.3814 - accuracy: 0.9573\n",
            "Epoch 00010: val_accuracy did not improve from 0.95990\n"
          ],
          "name": "stdout"
        },
        {
          "output_type": "stream",
          "text": [
            "2020-05-13 06:38:31,597 INFO \n",
            " epoch:009, F1Macro: 0.92612\n"
          ],
          "name": "stderr"
        },
        {
          "output_type": "stream",
          "text": [
            "\b\b\b\b\b\b\b\b\b\b\b\b\b\b\b\b\b\b\b\b\b\b\b\b\b\b\b\b\b\b\b\b\b\b\b\b\b\b\b\b\b\b\b\b\b\b\b\b\b\b\b\b\b\b\b\b\b\b\b\b\b\b\b\b\b\b\b\b\b\b\b\b\b\b\b\b\b\b\b\b\b\b\b\b\r125/125 [==============================] - 35s 283ms/step - loss: 0.3814 - accuracy: 0.9573 - val_loss: 0.3556 - val_accuracy: 0.9593 - lr: 0.0010\n",
            "Epoch 11/180\n",
            "125/125 [==============================] - ETA: 0s - loss: 0.3500 - accuracy: 0.9557\n",
            "Epoch 00011: val_accuracy did not improve from 0.95990\n"
          ],
          "name": "stdout"
        },
        {
          "output_type": "stream",
          "text": [
            "2020-05-13 06:39:07,345 INFO \n",
            " epoch:010, F1Macro: 0.90812\n"
          ],
          "name": "stderr"
        },
        {
          "output_type": "stream",
          "text": [
            "\b\b\b\b\b\b\b\b\b\b\b\b\b\b\b\b\b\b\b\b\b\b\b\b\b\b\b\b\b\b\b\b\b\b\b\b\b\b\b\b\b\b\b\b\b\b\b\b\b\b\b\b\b\b\b\b\b\b\b\b\b\b\b\b\b\b\b\b\b\b\b\b\b\b\b\b\b\b\b\b\b\b\b\b\r125/125 [==============================] - 35s 278ms/step - loss: 0.3500 - accuracy: 0.9557 - val_loss: 0.3352 - val_accuracy: 0.9546 - lr: 0.0010\n",
            "Epoch 12/180\n",
            "125/125 [==============================] - ETA: 0s - loss: 0.3158 - accuracy: 0.9578\n",
            "Epoch 00012: val_accuracy did not improve from 0.95990\n"
          ],
          "name": "stdout"
        },
        {
          "output_type": "stream",
          "text": [
            "2020-05-13 06:39:42,402 INFO \n",
            " epoch:011, F1Macro: 0.92172\n"
          ],
          "name": "stderr"
        },
        {
          "output_type": "stream",
          "text": [
            "\b\b\b\b\b\b\b\b\b\b\b\b\b\b\b\b\b\b\b\b\b\b\b\b\b\b\b\b\b\b\b\b\b\b\b\b\b\b\b\b\b\b\b\b\b\b\b\b\b\b\b\b\b\b\b\b\b\b\b\b\b\b\b\b\b\b\b\b\b\b\b\b\b\b\b\b\b\b\b\b\b\b\b\b\r125/125 [==============================] - 35s 278ms/step - loss: 0.3158 - accuracy: 0.9578 - val_loss: 0.3010 - val_accuracy: 0.9587 - lr: 0.0010\n",
            "Epoch 13/180\n",
            "125/125 [==============================] - ETA: 0s - loss: 0.3012 - accuracy: 0.9550\n",
            "Epoch 00013: val_accuracy did not improve from 0.95990\n"
          ],
          "name": "stdout"
        },
        {
          "output_type": "stream",
          "text": [
            "2020-05-13 06:40:17,468 INFO \n",
            " epoch:012, F1Macro: 0.91001\n"
          ],
          "name": "stderr"
        },
        {
          "output_type": "stream",
          "text": [
            "\b\b\b\b\b\b\b\b\b\b\b\b\b\b\b\b\b\b\b\b\b\b\b\b\b\b\b\b\b\b\b\b\b\b\b\b\b\b\b\b\b\b\b\b\b\b\b\b\b\b\b\b\b\b\b\b\b\b\b\b\b\b\b\b\b\b\b\b\b\b\b\b\b\b\b\b\b\b\b\b\b\b\b\b\r125/125 [==============================] - 35s 278ms/step - loss: 0.3012 - accuracy: 0.9550 - val_loss: 0.2932 - val_accuracy: 0.9527 - lr: 0.0010\n",
            "Epoch 14/180\n",
            "125/125 [==============================] - ETA: 0s - loss: 0.2809 - accuracy: 0.9556\n",
            "Epoch 00014: val_accuracy did not improve from 0.95990\n"
          ],
          "name": "stdout"
        },
        {
          "output_type": "stream",
          "text": [
            "2020-05-13 06:40:52,553 INFO \n",
            " epoch:013, F1Macro: 0.92212\n"
          ],
          "name": "stderr"
        },
        {
          "output_type": "stream",
          "text": [
            "\b\b\b\b\b\b\b\b\b\b\b\b\b\b\b\b\b\b\b\b\b\b\b\b\b\b\b\b\b\b\b\b\b\b\b\b\b\b\b\b\b\b\b\b\b\b\b\b\b\b\b\b\b\b\b\b\b\b\b\b\b\b\b\b\b\b\b\b\b\b\b\b\b\b\b\b\b\b\b\b\b\b\b\b\r125/125 [==============================] - 35s 279ms/step - loss: 0.2809 - accuracy: 0.9556 - val_loss: 0.2634 - val_accuracy: 0.9569 - lr: 0.0010\n",
            "Epoch 15/180\n",
            "125/125 [==============================] - ETA: 0s - loss: 0.3259 - accuracy: 0.9313\n",
            "Epoch 00015: val_accuracy did not improve from 0.95990\n"
          ],
          "name": "stdout"
        },
        {
          "output_type": "stream",
          "text": [
            "2020-05-13 06:41:27,480 INFO \n",
            " epoch:014, F1Macro: 0.78710\n"
          ],
          "name": "stderr"
        },
        {
          "output_type": "stream",
          "text": [
            "\b\b\b\b\b\b\b\b\b\b\b\b\b\b\b\b\b\b\b\b\b\b\b\b\b\b\b\b\b\b\b\b\b\b\b\b\b\b\b\b\b\b\b\b\b\b\b\b\b\b\b\b\b\b\b\b\b\b\b\b\b\b\b\b\b\b\b\b\b\b\b\b\b\b\b\b\b\b\b\b\b\b\b\b\r125/125 [==============================] - 35s 277ms/step - loss: 0.3259 - accuracy: 0.9313 - val_loss: 0.4680 - val_accuracy: 0.8792 - lr: 0.0010\n",
            "Epoch 16/180\n",
            "125/125 [==============================] - ETA: 0s - loss: 0.3064 - accuracy: 0.9371\n",
            "Epoch 00016: val_accuracy did not improve from 0.95990\n"
          ],
          "name": "stdout"
        },
        {
          "output_type": "stream",
          "text": [
            "2020-05-13 06:42:02,441 INFO \n",
            " epoch:015, F1Macro: 0.92309\n"
          ],
          "name": "stderr"
        },
        {
          "output_type": "stream",
          "text": [
            "\b\b\b\b\b\b\b\b\b\b\b\b\b\b\b\b\b\b\b\b\b\b\b\b\b\b\b\b\b\b\b\b\b\b\b\b\b\b\b\b\b\b\b\b\b\b\b\b\b\b\b\b\b\b\b\b\b\b\b\b\b\b\b\b\b\b\b\b\b\b\b\b\b\b\b\b\b\b\b\b\b\b\b\b\r125/125 [==============================] - 35s 278ms/step - loss: 0.3064 - accuracy: 0.9371 - val_loss: 0.2382 - val_accuracy: 0.9579 - lr: 0.0010\n",
            "Epoch 17/180\n",
            "125/125 [==============================] - ETA: 0s - loss: 0.2349 - accuracy: 0.9573\n",
            "Epoch 00017: val_accuracy improved from 0.95990 to 0.96205, saving model to ion_switch/res/wavenet-dlr-res/ClassifierCBRWmulti-Prob11-NESCAL/all/2_fold/checkpoint-modelonly-2.h5\n"
          ],
          "name": "stdout"
        },
        {
          "output_type": "stream",
          "text": [
            "2020-05-13 06:42:39,079 INFO \n",
            " epoch:016, F1Macro: 0.92982\n"
          ],
          "name": "stderr"
        },
        {
          "output_type": "stream",
          "text": [
            "\b\b\b\b\b\b\b\b\b\b\b\b\b\b\b\b\b\b\b\b\b\b\b\b\b\b\b\b\b\b\b\b\b\b\b\b\b\b\b\b\b\b\b\b\b\b\b\b\b\b\b\b\b\b\b\b\b\b\b\b\b\b\b\b\b\b\b\b\b\b\b\b\b\b\b\b\b\b\b\b\b\b\b\b\r125/125 [==============================] - 37s 297ms/step - loss: 0.2349 - accuracy: 0.9573 - val_loss: 0.2148 - val_accuracy: 0.9620 - lr: 0.0010\n",
            "Epoch 18/180\n",
            "125/125 [==============================] - ETA: 0s - loss: 0.2214 - accuracy: 0.9591\n",
            "Epoch 00018: val_accuracy improved from 0.96205 to 0.96487, saving model to ion_switch/res/wavenet-dlr-res/ClassifierCBRWmulti-Prob11-NESCAL/all/2_fold/checkpoint-modelonly-2.h5\n"
          ],
          "name": "stdout"
        },
        {
          "output_type": "stream",
          "text": [
            "2020-05-13 06:43:15,358 INFO \n",
            " epoch:017, F1Macro: 0.93257\n"
          ],
          "name": "stderr"
        },
        {
          "output_type": "stream",
          "text": [
            "\b\b\b\b\b\b\b\b\b\b\b\b\b\b\b\b\b\b\b\b\b\b\b\b\b\b\b\b\b\b\b\b\b\b\b\b\b\b\b\b\b\b\b\b\b\b\b\b\b\b\b\b\b\b\b\b\b\b\b\b\b\b\b\b\b\b\b\b\b\b\b\b\b\b\b\b\b\b\b\b\b\b\b\b\r125/125 [==============================] - 36s 288ms/step - loss: 0.2214 - accuracy: 0.9591 - val_loss: 0.2022 - val_accuracy: 0.9649 - lr: 0.0010\n",
            "Epoch 19/180\n",
            "125/125 [==============================] - ETA: 0s - loss: 0.2064 - accuracy: 0.9616\n",
            "Epoch 00019: val_accuracy did not improve from 0.96487\n"
          ],
          "name": "stdout"
        },
        {
          "output_type": "stream",
          "text": [
            "2020-05-13 06:43:50,910 INFO \n",
            " epoch:018, F1Macro: 0.92938\n"
          ],
          "name": "stderr"
        },
        {
          "output_type": "stream",
          "text": [
            "\b\b\b\b\b\b\b\b\b\b\b\b\b\b\b\b\b\b\b\b\b\b\b\b\b\b\b\b\b\b\b\b\b\b\b\b\b\b\b\b\b\b\b\b\b\b\b\b\b\b\b\b\b\b\b\b\b\b\b\b\b\b\b\b\b\b\b\b\b\b\b\b\b\b\b\b\b\b\b\b\b\b\b\b\r125/125 [==============================] - 35s 276ms/step - loss: 0.2064 - accuracy: 0.9616 - val_loss: 0.1951 - val_accuracy: 0.9644 - lr: 0.0010\n",
            "Epoch 20/180\n",
            "125/125 [==============================] - ETA: 0s - loss: 0.2008 - accuracy: 0.9607\n",
            "Epoch 00020: val_accuracy did not improve from 0.96487\n"
          ],
          "name": "stdout"
        },
        {
          "output_type": "stream",
          "text": [
            "2020-05-13 06:44:25,725 INFO \n",
            " epoch:019, F1Macro: 0.91998\n"
          ],
          "name": "stderr"
        },
        {
          "output_type": "stream",
          "text": [
            "\b\b\b\b\b\b\b\b\b\b\b\b\b\b\b\b\b\b\b\b\b\b\b\b\b\b\b\b\b\b\b\b\b\b\b\b\b\b\b\b\b\b\b\b\b\b\b\b\b\b\b\b\b\b\b\b\b\b\b\b\b\b\b\b\b\b\b\b\b\b\b\b\b\b\b\b\b\b\b\b\b\b\b\b\r125/125 [==============================] - 35s 276ms/step - loss: 0.2008 - accuracy: 0.9607 - val_loss: 0.1994 - val_accuracy: 0.9585 - lr: 0.0010\n",
            "Epoch 21/180\n",
            "125/125 [==============================] - ETA: 0s - loss: 0.1865 - accuracy: 0.9633\n",
            "Epoch 00021: val_accuracy improved from 0.96487 to 0.96557, saving model to ion_switch/res/wavenet-dlr-res/ClassifierCBRWmulti-Prob11-NESCAL/all/2_fold/checkpoint-modelonly-2.h5\n"
          ],
          "name": "stdout"
        },
        {
          "output_type": "stream",
          "text": [
            "2020-05-13 06:45:01,338 INFO \n",
            " epoch:020, F1Macro: 0.93247\n"
          ],
          "name": "stderr"
        },
        {
          "output_type": "stream",
          "text": [
            "\b\b\b\b\b\b\b\b\b\b\b\b\b\b\b\b\b\b\b\b\b\b\b\b\b\b\b\b\b\b\b\b\b\b\b\b\b\b\b\b\b\b\b\b\b\b\b\b\b\b\b\b\b\b\b\b\b\b\b\b\b\b\b\b\b\b\b\b\b\b\b\b\b\b\b\b\b\b\b\b\b\b\b\b\r125/125 [==============================] - 35s 283ms/step - loss: 0.1865 - accuracy: 0.9633 - val_loss: 0.1757 - val_accuracy: 0.9656 - lr: 0.0010\n",
            "Epoch 22/180\n",
            "125/125 [==============================] - ETA: 0s - loss: 0.1788 - accuracy: 0.9636\n",
            "Epoch 00022: val_accuracy did not improve from 0.96557\n"
          ],
          "name": "stdout"
        },
        {
          "output_type": "stream",
          "text": [
            "2020-05-13 06:45:36,184 INFO \n",
            " epoch:021, F1Macro: 0.92776\n"
          ],
          "name": "stderr"
        },
        {
          "output_type": "stream",
          "text": [
            "\b\b\b\b\b\b\b\b\b\b\b\b\b\b\b\b\b\b\b\b\b\b\b\b\b\b\b\b\b\b\b\b\b\b\b\b\b\b\b\b\b\b\b\b\b\b\b\b\b\b\b\b\b\b\b\b\b\b\b\b\b\b\b\b\b\b\b\b\b\b\b\b\b\b\b\b\b\b\b\b\b\b\b\b\r125/125 [==============================] - 35s 277ms/step - loss: 0.1788 - accuracy: 0.9636 - val_loss: 0.1788 - val_accuracy: 0.9619 - lr: 0.0010\n",
            "Epoch 23/180\n",
            "125/125 [==============================] - ETA: 0s - loss: 0.1867 - accuracy: 0.9595\n",
            "Epoch 00023: val_accuracy did not improve from 0.96557\n"
          ],
          "name": "stdout"
        },
        {
          "output_type": "stream",
          "text": [
            "2020-05-13 06:46:10,988 INFO \n",
            " epoch:022, F1Macro: 0.93336\n"
          ],
          "name": "stderr"
        },
        {
          "output_type": "stream",
          "text": [
            "\b\b\b\b\b\b\b\b\b\b\b\b\b\b\b\b\b\b\b\b\b\b\b\b\b\b\b\b\b\b\b\b\b\b\b\b\b\b\b\b\b\b\b\b\b\b\b\b\b\b\b\b\b\b\b\b\b\b\b\b\b\b\b\b\b\b\b\b\b\b\b\b\b\b\b\b\b\b\b\b\b\b\b\b\r125/125 [==============================] - 35s 282ms/step - loss: 0.1867 - accuracy: 0.9595 - val_loss: 0.1645 - val_accuracy: 0.9655 - lr: 0.0010\n",
            "Epoch 24/180\n",
            "125/125 [==============================] - ETA: 0s - loss: 0.1662 - accuracy: 0.9640\n",
            "Epoch 00024: val_accuracy improved from 0.96557 to 0.96626, saving model to ion_switch/res/wavenet-dlr-res/ClassifierCBRWmulti-Prob11-NESCAL/all/2_fold/checkpoint-modelonly-2.h5\n"
          ],
          "name": "stdout"
        },
        {
          "output_type": "stream",
          "text": [
            "2020-05-13 06:46:47,195 INFO \n",
            " epoch:023, F1Macro: 0.93476\n"
          ],
          "name": "stderr"
        },
        {
          "output_type": "stream",
          "text": [
            "\b\b\b\b\b\b\b\b\b\b\b\b\b\b\b\b\b\b\b\b\b\b\b\b\b\b\b\b\b\b\b\b\b\b\b\b\b\b\b\b\b\b\b\b\b\b\b\b\b\b\b\b\b\b\b\b\b\b\b\b\b\b\b\b\b\b\b\b\b\b\b\b\b\b\b\b\b\b\b\b\b\b\b\b\r125/125 [==============================] - 36s 288ms/step - loss: 0.1662 - accuracy: 0.9640 - val_loss: 0.1553 - val_accuracy: 0.9663 - lr: 0.0010\n",
            "Epoch 25/180\n",
            "125/125 [==============================] - ETA: 0s - loss: 0.1602 - accuracy: 0.9642\n",
            "Epoch 00025: val_accuracy did not improve from 0.96626\n"
          ],
          "name": "stdout"
        },
        {
          "output_type": "stream",
          "text": [
            "2020-05-13 06:47:22,806 INFO \n",
            " epoch:024, F1Macro: 0.93495\n"
          ],
          "name": "stderr"
        },
        {
          "output_type": "stream",
          "text": [
            "\b\b\b\b\b\b\b\b\b\b\b\b\b\b\b\b\b\b\b\b\b\b\b\b\b\b\b\b\b\b\b\b\b\b\b\b\b\b\b\b\b\b\b\b\b\b\b\b\b\b\b\b\b\b\b\b\b\b\b\b\b\b\b\b\b\b\b\b\b\b\b\b\b\b\b\b\b\b\b\b\b\b\b\b\r125/125 [==============================] - 35s 282ms/step - loss: 0.1602 - accuracy: 0.9642 - val_loss: 0.1503 - val_accuracy: 0.9662 - lr: 0.0010\n",
            "Epoch 26/180\n",
            "125/125 [==============================] - ETA: 0s - loss: 0.1547 - accuracy: 0.9643\n",
            "Epoch 00026: val_accuracy improved from 0.96626 to 0.96693, saving model to ion_switch/res/wavenet-dlr-res/ClassifierCBRWmulti-Prob11-NESCAL/all/2_fold/checkpoint-modelonly-2.h5\n"
          ],
          "name": "stdout"
        },
        {
          "output_type": "stream",
          "text": [
            "2020-05-13 06:47:58,906 INFO \n",
            " epoch:025, F1Macro: 0.93512\n"
          ],
          "name": "stderr"
        },
        {
          "output_type": "stream",
          "text": [
            "\b\b\b\b\b\b\b\b\b\b\b\b\b\b\b\b\b\b\b\b\b\b\b\b\b\b\b\b\b\b\b\b\b\b\b\b\b\b\b\b\b\b\b\b\b\b\b\b\b\b\b\b\b\b\b\b\b\b\b\b\b\b\b\b\b\b\b\b\b\b\b\b\b\b\b\b\b\b\b\b\b\b\b\b\r125/125 [==============================] - 36s 286ms/step - loss: 0.1547 - accuracy: 0.9643 - val_loss: 0.1439 - val_accuracy: 0.9669 - lr: 0.0010\n",
            "Epoch 27/180\n",
            "125/125 [==============================] - ETA: 0s - loss: 0.1486 - accuracy: 0.9648\n",
            "Epoch 00027: val_accuracy did not improve from 0.96693\n"
          ],
          "name": "stdout"
        },
        {
          "output_type": "stream",
          "text": [
            "2020-05-13 06:48:34,306 INFO \n",
            " epoch:026, F1Macro: 0.93320\n"
          ],
          "name": "stderr"
        },
        {
          "output_type": "stream",
          "text": [
            "\b\b\b\b\b\b\b\b\b\b\b\b\b\b\b\b\b\b\b\b\b\b\b\b\b\b\b\b\b\b\b\b\b\b\b\b\b\b\b\b\b\b\b\b\b\b\b\b\b\b\b\b\b\b\b\b\b\b\b\b\b\b\b\b\b\b\b\b\b\b\b\b\b\b\b\b\b\b\b\b\b\b\b\b\r125/125 [==============================] - 34s 276ms/step - loss: 0.1486 - accuracy: 0.9648 - val_loss: 0.1406 - val_accuracy: 0.9666 - lr: 0.0010\n",
            "Epoch 28/180\n",
            "125/125 [==============================] - ETA: 0s - loss: 0.1445 - accuracy: 0.9647\n",
            "Epoch 00028: val_accuracy did not improve from 0.96693\n"
          ],
          "name": "stdout"
        },
        {
          "output_type": "stream",
          "text": [
            "2020-05-13 06:49:09,037 INFO \n",
            " epoch:027, F1Macro: 0.93004\n"
          ],
          "name": "stderr"
        },
        {
          "output_type": "stream",
          "text": [
            "\b\b\b\b\b\b\b\b\b\b\b\b\b\b\b\b\b\b\b\b\b\b\b\b\b\b\b\b\b\b\b\b\b\b\b\b\b\b\b\b\b\b\b\b\b\b\b\b\b\b\b\b\b\b\b\b\b\b\b\b\b\b\b\b\b\b\b\b\b\b\b\b\b\b\b\b\b\b\b\b\b\b\b\b\r125/125 [==============================] - 34s 276ms/step - loss: 0.1445 - accuracy: 0.9647 - val_loss: 0.1380 - val_accuracy: 0.9657 - lr: 0.0010\n",
            "Epoch 29/180\n",
            "125/125 [==============================] - ETA: 0s - loss: 0.1401 - accuracy: 0.9649\n",
            "Epoch 00029: val_accuracy did not improve from 0.96693\n"
          ],
          "name": "stdout"
        },
        {
          "output_type": "stream",
          "text": [
            "2020-05-13 06:49:43,786 INFO \n",
            " epoch:028, F1Macro: 0.93467\n"
          ],
          "name": "stderr"
        },
        {
          "output_type": "stream",
          "text": [
            "\b\b\b\b\b\b\b\b\b\b\b\b\b\b\b\b\b\b\b\b\b\b\b\b\b\b\b\b\b\b\b\b\b\b\b\b\b\b\b\b\b\b\b\b\b\b\b\b\b\b\b\b\b\b\b\b\b\b\b\b\b\b\b\b\b\b\b\b\b\b\b\b\b\b\b\b\b\b\b\b\b\b\b\b\r125/125 [==============================] - 34s 276ms/step - loss: 0.1401 - accuracy: 0.9649 - val_loss: 0.1326 - val_accuracy: 0.9668 - lr: 0.0010\n",
            "Epoch 30/180\n",
            "125/125 [==============================] - ETA: 0s - loss: 0.1391 - accuracy: 0.9643\n",
            "Epoch 00030: val_accuracy did not improve from 0.96693\n"
          ],
          "name": "stdout"
        },
        {
          "output_type": "stream",
          "text": [
            "2020-05-13 06:50:18,609 INFO \n",
            " epoch:029, F1Macro: 0.93195\n"
          ],
          "name": "stderr"
        },
        {
          "output_type": "stream",
          "text": [
            "\b\b\b\b\b\b\b\b\b\b\b\b\b\b\b\b\b\b\b\b\b\b\b\b\b\b\b\b\b\b\b\b\b\b\b\b\b\b\b\b\b\b\b\b\b\b\b\b\b\b\b\b\b\b\b\b\b\b\b\b\b\b\b\b\b\b\b\b\b\b\b\b\b\b\b\b\b\b\b\b\b\b\b\b\r125/125 [==============================] - 35s 276ms/step - loss: 0.1391 - accuracy: 0.9643 - val_loss: 0.1470 - val_accuracy: 0.9639 - lr: 0.0010\n",
            "Epoch 31/180\n",
            "125/125 [==============================] - ETA: 0s - loss: 0.1352 - accuracy: 0.9653\n",
            "Epoch 00031: val_accuracy improved from 0.96693 to 0.96756, saving model to ion_switch/res/wavenet-dlr-res/ClassifierCBRWmulti-Prob11-NESCAL/all/2_fold/checkpoint-modelonly-2.h5\n"
          ],
          "name": "stdout"
        },
        {
          "output_type": "stream",
          "text": [
            "2020-05-13 06:50:54,077 INFO \n",
            " epoch:030, F1Macro: 0.93514\n"
          ],
          "name": "stderr"
        },
        {
          "output_type": "stream",
          "text": [
            "\b\b\b\b\b\b\b\b\b\b\b\b\b\b\b\b\b\b\b\b\b\b\b\b\b\b\b\b\b\b\b\b\b\b\b\b\b\b\b\b\b\b\b\b\b\b\b\b\b\b\b\b\b\b\b\b\b\b\b\b\b\b\b\b\b\b\b\b\b\b\b\b\b\b\b\b\b\b\b\b\b\b\b\b\r125/125 [==============================] - 36s 287ms/step - loss: 0.1352 - accuracy: 0.9653 - val_loss: 0.1265 - val_accuracy: 0.9676 - lr: 3.3333e-04\n",
            "Epoch 32/180\n",
            "125/125 [==============================] - ETA: 0s - loss: 0.1306 - accuracy: 0.9663\n",
            "Epoch 00032: val_accuracy did not improve from 0.96756\n"
          ],
          "name": "stdout"
        },
        {
          "output_type": "stream",
          "text": [
            "2020-05-13 06:51:29,533 INFO \n",
            " epoch:031, F1Macro: 0.93394\n"
          ],
          "name": "stderr"
        },
        {
          "output_type": "stream",
          "text": [
            "\b\b\b\b\b\b\b\b\b\b\b\b\b\b\b\b\b\b\b\b\b\b\b\b\b\b\b\b\b\b\b\b\b\b\b\b\b\b\b\b\b\b\b\b\b\b\b\b\b\b\b\b\b\b\b\b\b\b\b\b\b\b\b\b\b\b\b\b\b\b\b\b\b\b\b\b\b\b\b\b\b\b\b\b\r125/125 [==============================] - 35s 276ms/step - loss: 0.1306 - accuracy: 0.9663 - val_loss: 0.1275 - val_accuracy: 0.9668 - lr: 3.3333e-04\n",
            "Epoch 33/180\n",
            "125/125 [==============================] - ETA: 0s - loss: 0.1289 - accuracy: 0.9665\n",
            "Epoch 00033: val_accuracy improved from 0.96756 to 0.96791, saving model to ion_switch/res/wavenet-dlr-res/ClassifierCBRWmulti-Prob11-NESCAL/all/2_fold/checkpoint-modelonly-2.h5\n"
          ],
          "name": "stdout"
        },
        {
          "output_type": "stream",
          "text": [
            "2020-05-13 06:52:05,005 INFO \n",
            " epoch:032, F1Macro: 0.93602\n"
          ],
          "name": "stderr"
        },
        {
          "output_type": "stream",
          "text": [
            "\b\b\b\b\b\b\b\b\b\b\b\b\b\b\b\b\b\b\b\b\b\b\b\b\b\b\b\b\b\b\b\b\b\b\b\b\b\b\b\b\b\b\b\b\b\b\b\b\b\b\b\b\b\b\b\b\b\b\b\b\b\b\b\b\b\b\b\b\b\b\b\b\b\b\b\b\b\b\b\b\b\b\b\b\r125/125 [==============================] - 36s 288ms/step - loss: 0.1289 - accuracy: 0.9665 - val_loss: 0.1234 - val_accuracy: 0.9679 - lr: 3.3333e-04\n",
            "Epoch 34/180\n",
            "125/125 [==============================] - ETA: 0s - loss: 0.1289 - accuracy: 0.9661\n",
            "Epoch 00034: val_accuracy did not improve from 0.96791\n"
          ],
          "name": "stdout"
        },
        {
          "output_type": "stream",
          "text": [
            "2020-05-13 06:52:40,564 INFO \n",
            " epoch:033, F1Macro: 0.93382\n"
          ],
          "name": "stderr"
        },
        {
          "output_type": "stream",
          "text": [
            "\b\b\b\b\b\b\b\b\b\b\b\b\b\b\b\b\b\b\b\b\b\b\b\b\b\b\b\b\b\b\b\b\b\b\b\b\b\b\b\b\b\b\b\b\b\b\b\b\b\b\b\b\b\b\b\b\b\b\b\b\b\b\b\b\b\b\b\b\b\b\b\b\b\b\b\b\b\b\b\b\b\b\b\b\r125/125 [==============================] - 35s 276ms/step - loss: 0.1289 - accuracy: 0.9661 - val_loss: 0.1237 - val_accuracy: 0.9672 - lr: 3.3333e-04\n",
            "Epoch 35/180\n",
            "125/125 [==============================] - ETA: 0s - loss: 0.1264 - accuracy: 0.9666\n",
            "Epoch 00035: val_accuracy improved from 0.96791 to 0.96805, saving model to ion_switch/res/wavenet-dlr-res/ClassifierCBRWmulti-Prob11-NESCAL/all/2_fold/checkpoint-modelonly-2.h5\n"
          ],
          "name": "stdout"
        },
        {
          "output_type": "stream",
          "text": [
            "2020-05-13 06:53:16,089 INFO \n",
            " epoch:034, F1Macro: 0.93661\n"
          ],
          "name": "stderr"
        },
        {
          "output_type": "stream",
          "text": [
            "\b\b\b\b\b\b\b\b\b\b\b\b\b\b\b\b\b\b\b\b\b\b\b\b\b\b\b\b\b\b\b\b\b\b\b\b\b\b\b\b\b\b\b\b\b\b\b\b\b\b\b\b\b\b\b\b\b\b\b\b\b\b\b\b\b\b\b\b\b\b\b\b\b\b\b\b\b\b\b\b\b\b\b\b\r125/125 [==============================] - 36s 288ms/step - loss: 0.1264 - accuracy: 0.9666 - val_loss: 0.1212 - val_accuracy: 0.9680 - lr: 3.3333e-04\n",
            "Epoch 36/180\n",
            "125/125 [==============================] - ETA: 0s - loss: 0.1254 - accuracy: 0.9666\n",
            "Epoch 00036: val_accuracy did not improve from 0.96805\n"
          ],
          "name": "stdout"
        },
        {
          "output_type": "stream",
          "text": [
            "2020-05-13 06:53:51,646 INFO \n",
            " epoch:035, F1Macro: 0.93529\n"
          ],
          "name": "stderr"
        },
        {
          "output_type": "stream",
          "text": [
            "\b\b\b\b\b\b\b\b\b\b\b\b\b\b\b\b\b\b\b\b\b\b\b\b\b\b\b\b\b\b\b\b\b\b\b\b\b\b\b\b\b\b\b\b\b\b\b\b\b\b\b\b\b\b\b\b\b\b\b\b\b\b\b\b\b\b\b\b\b\b\b\b\b\b\b\b\b\b\b\b\b\b\b\b\r125/125 [==============================] - 35s 276ms/step - loss: 0.1254 - accuracy: 0.9666 - val_loss: 0.1217 - val_accuracy: 0.9673 - lr: 3.3333e-04\n",
            "Epoch 37/180\n",
            "125/125 [==============================] - ETA: 0s - loss: 0.1238 - accuracy: 0.9667\n",
            "Epoch 00037: val_accuracy did not improve from 0.96805\n"
          ],
          "name": "stdout"
        },
        {
          "output_type": "stream",
          "text": [
            "2020-05-13 06:54:26,394 INFO \n",
            " epoch:036, F1Macro: 0.93661\n"
          ],
          "name": "stderr"
        },
        {
          "output_type": "stream",
          "text": [
            "\b\b\b\b\b\b\b\b\b\b\b\b\b\b\b\b\b\b\b\b\b\b\b\b\b\b\b\b\b\b\b\b\b\b\b\b\b\b\b\b\b\b\b\b\b\b\b\b\b\b\b\b\b\b\b\b\b\b\b\b\b\b\b\b\b\b\b\b\b\b\b\b\b\b\b\b\b\b\b\b\b\b\b\b\r125/125 [==============================] - 35s 281ms/step - loss: 0.1238 - accuracy: 0.9667 - val_loss: 0.1193 - val_accuracy: 0.9679 - lr: 3.3333e-04\n",
            "Epoch 38/180\n",
            "125/125 [==============================] - ETA: 0s - loss: 0.1230 - accuracy: 0.9667\n",
            "Epoch 00038: val_accuracy did not improve from 0.96805\n"
          ],
          "name": "stdout"
        },
        {
          "output_type": "stream",
          "text": [
            "2020-05-13 06:55:01,888 INFO \n",
            " epoch:037, F1Macro: 0.93428\n"
          ],
          "name": "stderr"
        },
        {
          "output_type": "stream",
          "text": [
            "\b\b\b\b\b\b\b\b\b\b\b\b\b\b\b\b\b\b\b\b\b\b\b\b\b\b\b\b\b\b\b\b\b\b\b\b\b\b\b\b\b\b\b\b\b\b\b\b\b\b\b\b\b\b\b\b\b\b\b\b\b\b\b\b\b\b\b\b\b\b\b\b\b\b\b\b\b\b\b\b\b\b\b\b\r125/125 [==============================] - 35s 276ms/step - loss: 0.1230 - accuracy: 0.9667 - val_loss: 0.1196 - val_accuracy: 0.9671 - lr: 3.3333e-04\n",
            "Epoch 39/180\n",
            "125/125 [==============================] - ETA: 0s - loss: 0.1214 - accuracy: 0.9668\n",
            "Epoch 00039: val_accuracy improved from 0.96805 to 0.96836, saving model to ion_switch/res/wavenet-dlr-res/ClassifierCBRWmulti-Prob11-NESCAL/all/2_fold/checkpoint-modelonly-2.h5\n"
          ],
          "name": "stdout"
        },
        {
          "output_type": "stream",
          "text": [
            "2020-05-13 06:55:37,449 INFO \n",
            " epoch:038, F1Macro: 0.93702\n"
          ],
          "name": "stderr"
        },
        {
          "output_type": "stream",
          "text": [
            "\b\b\b\b\b\b\b\b\b\b\b\b\b\b\b\b\b\b\b\b\b\b\b\b\b\b\b\b\b\b\b\b\b\b\b\b\b\b\b\b\b\b\b\b\b\b\b\b\b\b\b\b\b\b\b\b\b\b\b\b\b\b\b\b\b\b\b\b\b\b\b\b\b\b\b\b\b\b\b\b\b\b\b\b\r125/125 [==============================] - 36s 288ms/step - loss: 0.1214 - accuracy: 0.9668 - val_loss: 0.1162 - val_accuracy: 0.9684 - lr: 3.3333e-04\n",
            "Epoch 40/180\n",
            "125/125 [==============================] - ETA: 0s - loss: 0.1200 - accuracy: 0.9670\n",
            "Epoch 00040: val_accuracy did not improve from 0.96836\n"
          ],
          "name": "stdout"
        },
        {
          "output_type": "stream",
          "text": [
            "2020-05-13 06:56:12,976 INFO \n",
            " epoch:039, F1Macro: 0.93680\n"
          ],
          "name": "stderr"
        },
        {
          "output_type": "stream",
          "text": [
            "\b\b\b\b\b\b\b\b\b\b\b\b\b\b\b\b\b\b\b\b\b\b\b\b\b\b\b\b\b\b\b\b\b\b\b\b\b\b\b\b\b\b\b\b\b\b\b\b\b\b\b\b\b\b\b\b\b\b\b\b\b\b\b\b\b\b\b\b\b\b\b\b\b\b\b\b\b\b\b\b\b\b\b\b\r125/125 [==============================] - 35s 276ms/step - loss: 0.1200 - accuracy: 0.9670 - val_loss: 0.1157 - val_accuracy: 0.9681 - lr: 3.3333e-04\n",
            "Epoch 41/180\n",
            "125/125 [==============================] - ETA: 0s - loss: 0.1187 - accuracy: 0.9672\n",
            "Epoch 00041: val_accuracy did not improve from 0.96836\n"
          ],
          "name": "stdout"
        },
        {
          "output_type": "stream",
          "text": [
            "2020-05-13 06:56:47,821 INFO \n",
            " epoch:040, F1Macro: 0.93674\n"
          ],
          "name": "stderr"
        },
        {
          "output_type": "stream",
          "text": [
            "\b\b\b\b\b\b\b\b\b\b\b\b\b\b\b\b\b\b\b\b\b\b\b\b\b\b\b\b\b\b\b\b\b\b\b\b\b\b\b\b\b\b\b\b\b\b\b\b\b\b\b\b\b\b\b\b\b\b\b\b\b\b\b\b\b\b\b\b\b\b\b\b\b\b\b\b\b\b\b\b\b\b\b\b\r125/125 [==============================] - 35s 277ms/step - loss: 0.1187 - accuracy: 0.9672 - val_loss: 0.1150 - val_accuracy: 0.9682 - lr: 2.0000e-04\n",
            "Epoch 42/180\n",
            "125/125 [==============================] - ETA: 0s - loss: 0.1187 - accuracy: 0.9669\n",
            "Epoch 00042: val_accuracy did not improve from 0.96836\n"
          ],
          "name": "stdout"
        },
        {
          "output_type": "stream",
          "text": [
            "2020-05-13 06:57:22,771 INFO \n",
            " epoch:041, F1Macro: 0.93683\n"
          ],
          "name": "stderr"
        },
        {
          "output_type": "stream",
          "text": [
            "\b\b\b\b\b\b\b\b\b\b\b\b\b\b\b\b\b\b\b\b\b\b\b\b\b\b\b\b\b\b\b\b\b\b\b\b\b\b\b\b\b\b\b\b\b\b\b\b\b\b\b\b\b\b\b\b\b\b\b\b\b\b\b\b\b\b\b\b\b\b\b\b\b\b\b\b\b\b\b\b\b\b\b\b\r125/125 [==============================] - 35s 277ms/step - loss: 0.1187 - accuracy: 0.9669 - val_loss: 0.1147 - val_accuracy: 0.9681 - lr: 2.0000e-04\n",
            "Epoch 43/180\n",
            "125/125 [==============================] - ETA: 0s - loss: 0.1179 - accuracy: 0.9670\n",
            "Epoch 00043: val_accuracy did not improve from 0.96836\n"
          ],
          "name": "stdout"
        },
        {
          "output_type": "stream",
          "text": [
            "2020-05-13 06:57:57,655 INFO \n",
            " epoch:042, F1Macro: 0.93561\n"
          ],
          "name": "stderr"
        },
        {
          "output_type": "stream",
          "text": [
            "\b\b\b\b\b\b\b\b\b\b\b\b\b\b\b\b\b\b\b\b\b\b\b\b\b\b\b\b\b\b\b\b\b\b\b\b\b\b\b\b\b\b\b\b\b\b\b\b\b\b\b\b\b\b\b\b\b\b\b\b\b\b\b\b\b\b\b\b\b\b\b\b\b\b\b\b\b\b\b\b\b\b\b\b\r125/125 [==============================] - 35s 277ms/step - loss: 0.1179 - accuracy: 0.9670 - val_loss: 0.1143 - val_accuracy: 0.9678 - lr: 2.0000e-04\n",
            "Epoch 44/180\n",
            "125/125 [==============================] - ETA: 0s - loss: 0.1174 - accuracy: 0.9670\n",
            "Epoch 00044: val_accuracy did not improve from 0.96836\n"
          ],
          "name": "stdout"
        },
        {
          "output_type": "stream",
          "text": [
            "2020-05-13 06:58:32,425 INFO \n",
            " epoch:043, F1Macro: 0.93674\n"
          ],
          "name": "stderr"
        },
        {
          "output_type": "stream",
          "text": [
            "\b\b\b\b\b\b\b\b\b\b\b\b\b\b\b\b\b\b\b\b\b\b\b\b\b\b\b\b\b\b\b\b\b\b\b\b\b\b\b\b\b\b\b\b\b\b\b\b\b\b\b\b\b\b\b\b\b\b\b\b\b\b\b\b\b\b\b\b\b\b\b\b\b\b\b\b\b\b\b\b\b\b\b\b\r125/125 [==============================] - 34s 276ms/step - loss: 0.1174 - accuracy: 0.9670 - val_loss: 0.1129 - val_accuracy: 0.9682 - lr: 2.0000e-04\n",
            "Epoch 45/180\n",
            "125/125 [==============================] - ETA: 0s - loss: 0.1159 - accuracy: 0.9672\n",
            "Epoch 00045: val_accuracy did not improve from 0.96836\n"
          ],
          "name": "stdout"
        },
        {
          "output_type": "stream",
          "text": [
            "2020-05-13 06:59:07,173 INFO \n",
            " epoch:044, F1Macro: 0.93718\n"
          ],
          "name": "stderr"
        },
        {
          "output_type": "stream",
          "text": [
            "\b\b\b\b\b\b\b\b\b\b\b\b\b\b\b\b\b\b\b\b\b\b\b\b\b\b\b\b\b\b\b\b\b\b\b\b\b\b\b\b\b\b\b\b\b\b\b\b\b\b\b\b\b\b\b\b\b\b\b\b\b\b\b\b\b\b\b\b\b\b\b\b\b\b\b\b\b\b\b\b\b\b\b\b\r125/125 [==============================] - 35s 282ms/step - loss: 0.1159 - accuracy: 0.9672 - val_loss: 0.1120 - val_accuracy: 0.9683 - lr: 2.0000e-04\n",
            "Epoch 46/180\n",
            "125/125 [==============================] - ETA: 0s - loss: 0.1148 - accuracy: 0.9674\n",
            "Epoch 00046: val_accuracy did not improve from 0.96836\n"
          ],
          "name": "stdout"
        },
        {
          "output_type": "stream",
          "text": [
            "2020-05-13 06:59:42,641 INFO \n",
            " epoch:045, F1Macro: 0.93665\n"
          ],
          "name": "stderr"
        },
        {
          "output_type": "stream",
          "text": [
            "\b\b\b\b\b\b\b\b\b\b\b\b\b\b\b\b\b\b\b\b\b\b\b\b\b\b\b\b\b\b\b\b\b\b\b\b\b\b\b\b\b\b\b\b\b\b\b\b\b\b\b\b\b\b\b\b\b\b\b\b\b\b\b\b\b\b\b\b\b\b\b\b\b\b\b\b\b\b\b\b\b\b\b\b\r125/125 [==============================] - 34s 276ms/step - loss: 0.1148 - accuracy: 0.9674 - val_loss: 0.1117 - val_accuracy: 0.9681 - lr: 2.0000e-04\n",
            "Epoch 47/180\n",
            "125/125 [==============================] - ETA: 0s - loss: 0.1147 - accuracy: 0.9672\n",
            "Epoch 00047: val_accuracy did not improve from 0.96836\n"
          ],
          "name": "stdout"
        },
        {
          "output_type": "stream",
          "text": [
            "2020-05-13 07:00:17,522 INFO \n",
            " epoch:046, F1Macro: 0.93605\n"
          ],
          "name": "stderr"
        },
        {
          "output_type": "stream",
          "text": [
            "\b\b\b\b\b\b\b\b\b\b\b\b\b\b\b\b\b\b\b\b\b\b\b\b\b\b\b\b\b\b\b\b\b\b\b\b\b\b\b\b\b\b\b\b\b\b\b\b\b\b\b\b\b\b\b\b\b\b\b\b\b\b\b\b\b\b\b\b\b\b\b\b\b\b\b\b\b\b\b\b\b\b\b\b\r125/125 [==============================] - 35s 277ms/step - loss: 0.1147 - accuracy: 0.9672 - val_loss: 0.1114 - val_accuracy: 0.9680 - lr: 2.0000e-04\n",
            "Epoch 48/180\n",
            "125/125 [==============================] - ETA: 0s - loss: 0.1144 - accuracy: 0.9671\n",
            "Epoch 00048: val_accuracy did not improve from 0.96836\n"
          ],
          "name": "stdout"
        },
        {
          "output_type": "stream",
          "text": [
            "2020-05-13 07:00:52,320 INFO \n",
            " epoch:047, F1Macro: 0.93536\n"
          ],
          "name": "stderr"
        },
        {
          "output_type": "stream",
          "text": [
            "\b\b\b\b\b\b\b\b\b\b\b\b\b\b\b\b\b\b\b\b\b\b\b\b\b\b\b\b\b\b\b\b\b\b\b\b\b\b\b\b\b\b\b\b\b\b\b\b\b\b\b\b\b\b\b\b\b\b\b\b\b\b\b\b\b\b\b\b\b\b\b\b\b\b\b\b\b\b\b\b\b\b\b\b\r125/125 [==============================] - 35s 276ms/step - loss: 0.1144 - accuracy: 0.9671 - val_loss: 0.1107 - val_accuracy: 0.9680 - lr: 2.0000e-04\n",
            "Epoch 49/180\n",
            "125/125 [==============================] - ETA: 0s - loss: 0.1139 - accuracy: 0.9672\n",
            "Epoch 00049: val_accuracy did not improve from 0.96836\n"
          ],
          "name": "stdout"
        },
        {
          "output_type": "stream",
          "text": [
            "2020-05-13 07:01:27,043 INFO \n",
            " epoch:048, F1Macro: 0.93393\n"
          ],
          "name": "stderr"
        },
        {
          "output_type": "stream",
          "text": [
            "\b\b\b\b\b\b\b\b\b\b\b\b\b\b\b\b\b\b\b\b\b\b\b\b\b\b\b\b\b\b\b\b\b\b\b\b\b\b\b\b\b\b\b\b\b\b\b\b\b\b\b\b\b\b\b\b\b\b\b\b\b\b\b\b\b\b\b\b\b\b\b\b\b\b\b\b\b\b\b\b\b\b\b\b\r125/125 [==============================] - 34s 276ms/step - loss: 0.1139 - accuracy: 0.9672 - val_loss: 0.1110 - val_accuracy: 0.9674 - lr: 2.0000e-04\n",
            "Epoch 50/180\n",
            "125/125 [==============================] - ETA: 0s - loss: 0.1127 - accuracy: 0.9673\n",
            "Epoch 00050: val_accuracy did not improve from 0.96836\n"
          ],
          "name": "stdout"
        },
        {
          "output_type": "stream",
          "text": [
            "2020-05-13 07:02:01,757 INFO \n",
            " epoch:049, F1Macro: 0.93699\n"
          ],
          "name": "stderr"
        },
        {
          "output_type": "stream",
          "text": [
            "\b\b\b\b\b\b\b\b\b\b\b\b\b\b\b\b\b\b\b\b\b\b\b\b\b\b\b\b\b\b\b\b\b\b\b\b\b\b\b\b\b\b\b\b\b\b\b\b\b\b\b\b\b\b\b\b\b\b\b\b\b\b\b\b\b\b\b\b\b\b\b\b\b\b\b\b\b\b\b\b\b\b\b\b\r125/125 [==============================] - 34s 276ms/step - loss: 0.1127 - accuracy: 0.9673 - val_loss: 0.1093 - val_accuracy: 0.9682 - lr: 2.0000e-04\n",
            "Epoch 51/180\n",
            "125/125 [==============================] - ETA: 0s - loss: 0.1118 - accuracy: 0.9674\n",
            "Epoch 00051: val_accuracy did not improve from 0.96836\n"
          ],
          "name": "stdout"
        },
        {
          "output_type": "stream",
          "text": [
            "2020-05-13 07:02:36,545 INFO \n",
            " epoch:050, F1Macro: 0.93664\n"
          ],
          "name": "stderr"
        },
        {
          "output_type": "stream",
          "text": [
            "\b\b\b\b\b\b\b\b\b\b\b\b\b\b\b\b\b\b\b\b\b\b\b\b\b\b\b\b\b\b\b\b\b\b\b\b\b\b\b\b\b\b\b\b\b\b\b\b\b\b\b\b\b\b\b\b\b\b\b\b\b\b\b\b\b\b\b\b\b\b\b\b\b\b\b\b\b\b\b\b\b\b\b\b\r125/125 [==============================] - 35s 276ms/step - loss: 0.1118 - accuracy: 0.9674 - val_loss: 0.1096 - val_accuracy: 0.9679 - lr: 1.4286e-04\n",
            "Epoch 52/180\n",
            "125/125 [==============================] - ETA: 0s - loss: 0.1110 - accuracy: 0.9675\n",
            "Epoch 00052: val_accuracy did not improve from 0.96836\n"
          ],
          "name": "stdout"
        },
        {
          "output_type": "stream",
          "text": [
            "2020-05-13 07:03:11,340 INFO \n",
            " epoch:051, F1Macro: 0.93535\n"
          ],
          "name": "stderr"
        },
        {
          "output_type": "stream",
          "text": [
            "\b\b\b\b\b\b\b\b\b\b\b\b\b\b\b\b\b\b\b\b\b\b\b\b\b\b\b\b\b\b\b\b\b\b\b\b\b\b\b\b\b\b\b\b\b\b\b\b\b\b\b\b\b\b\b\b\b\b\b\b\b\b\b\b\b\b\b\b\b\b\b\b\b\b\b\b\b\b\b\b\b\b\b\b\r125/125 [==============================] - 35s 276ms/step - loss: 0.1110 - accuracy: 0.9675 - val_loss: 0.1086 - val_accuracy: 0.9681 - lr: 1.4286e-04\n",
            "Epoch 53/180\n",
            "125/125 [==============================] - ETA: 0s - loss: 0.1102 - accuracy: 0.9676\n",
            "Epoch 00053: val_accuracy improved from 0.96836 to 0.96851, saving model to ion_switch/res/wavenet-dlr-res/ClassifierCBRWmulti-Prob11-NESCAL/all/2_fold/checkpoint-modelonly-2.h5\n"
          ],
          "name": "stdout"
        },
        {
          "output_type": "stream",
          "text": [
            "2020-05-13 07:03:46,770 INFO \n",
            " epoch:052, F1Macro: 0.93735\n"
          ],
          "name": "stderr"
        },
        {
          "output_type": "stream",
          "text": [
            "\b\b\b\b\b\b\b\b\b\b\b\b\b\b\b\b\b\b\b\b\b\b\b\b\b\b\b\b\b\b\b\b\b\b\b\b\b\b\b\b\b\b\b\b\b\b\b\b\b\b\b\b\b\b\b\b\b\b\b\b\b\b\b\b\b\b\b\b\b\b\b\b\b\b\b\b\b\b\b\b\b\b\b\b\r125/125 [==============================] - 36s 287ms/step - loss: 0.1102 - accuracy: 0.9676 - val_loss: 0.1073 - val_accuracy: 0.9685 - lr: 1.4286e-04\n",
            "Epoch 54/180\n",
            "125/125 [==============================] - ETA: 0s - loss: 0.1107 - accuracy: 0.9673\n",
            "Epoch 00054: val_accuracy did not improve from 0.96851\n"
          ],
          "name": "stdout"
        },
        {
          "output_type": "stream",
          "text": [
            "2020-05-13 07:04:22,314 INFO \n",
            " epoch:053, F1Macro: 0.93626\n"
          ],
          "name": "stderr"
        },
        {
          "output_type": "stream",
          "text": [
            "\b\b\b\b\b\b\b\b\b\b\b\b\b\b\b\b\b\b\b\b\b\b\b\b\b\b\b\b\b\b\b\b\b\b\b\b\b\b\b\b\b\b\b\b\b\b\b\b\b\b\b\b\b\b\b\b\b\b\b\b\b\b\b\b\b\b\b\b\b\b\b\b\b\b\b\b\b\b\b\b\b\b\b\b\r125/125 [==============================] - 35s 276ms/step - loss: 0.1107 - accuracy: 0.9673 - val_loss: 0.1083 - val_accuracy: 0.9678 - lr: 1.4286e-04\n",
            "Epoch 55/180\n",
            "125/125 [==============================] - ETA: 0s - loss: 0.1100 - accuracy: 0.9673\n",
            "Epoch 00055: val_accuracy did not improve from 0.96851\n"
          ],
          "name": "stdout"
        },
        {
          "output_type": "stream",
          "text": [
            "2020-05-13 07:04:57,073 INFO \n",
            " epoch:054, F1Macro: 0.93599\n"
          ],
          "name": "stderr"
        },
        {
          "output_type": "stream",
          "text": [
            "\b\b\b\b\b\b\b\b\b\b\b\b\b\b\b\b\b\b\b\b\b\b\b\b\b\b\b\b\b\b\b\b\b\b\b\b\b\b\b\b\b\b\b\b\b\b\b\b\b\b\b\b\b\b\b\b\b\b\b\b\b\b\b\b\b\b\b\b\b\b\b\b\b\b\b\b\b\b\b\b\b\b\b\b\r125/125 [==============================] - 34s 276ms/step - loss: 0.1100 - accuracy: 0.9673 - val_loss: 0.1077 - val_accuracy: 0.9679 - lr: 1.4286e-04\n",
            "Epoch 56/180\n",
            "125/125 [==============================] - ETA: 0s - loss: 0.1085 - accuracy: 0.9677\n",
            "Epoch 00056: val_accuracy did not improve from 0.96851\n"
          ],
          "name": "stdout"
        },
        {
          "output_type": "stream",
          "text": [
            "2020-05-13 07:05:31,900 INFO \n",
            " epoch:055, F1Macro: 0.93656\n"
          ],
          "name": "stderr"
        },
        {
          "output_type": "stream",
          "text": [
            "\b\b\b\b\b\b\b\b\b\b\b\b\b\b\b\b\b\b\b\b\b\b\b\b\b\b\b\b\b\b\b\b\b\b\b\b\b\b\b\b\b\b\b\b\b\b\b\b\b\b\b\b\b\b\b\b\b\b\b\b\b\b\b\b\b\b\b\b\b\b\b\b\b\b\b\b\b\b\b\b\b\b\b\b\r125/125 [==============================] - 35s 276ms/step - loss: 0.1085 - accuracy: 0.9677 - val_loss: 0.1062 - val_accuracy: 0.9683 - lr: 1.4286e-04\n",
            "Epoch 57/180\n",
            "125/125 [==============================] - ETA: 0s - loss: 0.1082 - accuracy: 0.9677\n",
            "Epoch 00057: val_accuracy did not improve from 0.96851\n"
          ],
          "name": "stdout"
        },
        {
          "output_type": "stream",
          "text": [
            "2020-05-13 07:06:06,680 INFO \n",
            " epoch:056, F1Macro: 0.93707\n"
          ],
          "name": "stderr"
        },
        {
          "output_type": "stream",
          "text": [
            "\b\b\b\b\b\b\b\b\b\b\b\b\b\b\b\b\b\b\b\b\b\b\b\b\b\b\b\b\b\b\b\b\b\b\b\b\b\b\b\b\b\b\b\b\b\b\b\b\b\b\b\b\b\b\b\b\b\b\b\b\b\b\b\b\b\b\b\b\b\b\b\b\b\b\b\b\b\b\b\b\b\b\b\b\r125/125 [==============================] - 35s 276ms/step - loss: 0.1082 - accuracy: 0.9677 - val_loss: 0.1056 - val_accuracy: 0.9684 - lr: 1.4286e-04\n",
            "Epoch 58/180\n",
            "125/125 [==============================] - ETA: 0s - loss: 0.1085 - accuracy: 0.9675\n",
            "Epoch 00058: val_accuracy did not improve from 0.96851\n"
          ],
          "name": "stdout"
        },
        {
          "output_type": "stream",
          "text": [
            "2020-05-13 07:06:41,345 INFO \n",
            " epoch:057, F1Macro: 0.93699\n"
          ],
          "name": "stderr"
        },
        {
          "output_type": "stream",
          "text": [
            "\b\b\b\b\b\b\b\b\b\b\b\b\b\b\b\b\b\b\b\b\b\b\b\b\b\b\b\b\b\b\b\b\b\b\b\b\b\b\b\b\b\b\b\b\b\b\b\b\b\b\b\b\b\b\b\b\b\b\b\b\b\b\b\b\b\b\b\b\b\b\b\b\b\b\b\b\b\b\b\b\b\b\b\b\r125/125 [==============================] - 34s 275ms/step - loss: 0.1085 - accuracy: 0.9675 - val_loss: 0.1054 - val_accuracy: 0.9684 - lr: 1.4286e-04\n",
            "Epoch 59/180\n",
            "125/125 [==============================] - ETA: 0s - loss: 0.1076 - accuracy: 0.9676\n",
            "Epoch 00059: val_accuracy did not improve from 0.96851\n"
          ],
          "name": "stdout"
        },
        {
          "output_type": "stream",
          "text": [
            "2020-05-13 07:07:16,111 INFO \n",
            " epoch:058, F1Macro: 0.93475\n"
          ],
          "name": "stderr"
        },
        {
          "output_type": "stream",
          "text": [
            "\b\b\b\b\b\b\b\b\b\b\b\b\b\b\b\b\b\b\b\b\b\b\b\b\b\b\b\b\b\b\b\b\b\b\b\b\b\b\b\b\b\b\b\b\b\b\b\b\b\b\b\b\b\b\b\b\b\b\b\b\b\b\b\b\b\b\b\b\b\b\b\b\b\b\b\b\b\b\b\b\b\b\b\b\r125/125 [==============================] - 34s 276ms/step - loss: 0.1076 - accuracy: 0.9676 - val_loss: 0.1068 - val_accuracy: 0.9674 - lr: 1.4286e-04\n",
            "Epoch 60/180\n",
            "125/125 [==============================] - ETA: 0s - loss: 0.1070 - accuracy: 0.9676\n",
            "Epoch 00060: val_accuracy did not improve from 0.96851\n"
          ],
          "name": "stdout"
        },
        {
          "output_type": "stream",
          "text": [
            "2020-05-13 07:07:50,787 INFO \n",
            " epoch:059, F1Macro: 0.93611\n"
          ],
          "name": "stderr"
        },
        {
          "output_type": "stream",
          "text": [
            "\b\b\b\b\b\b\b\b\b\b\b\b\b\b\b\b\b\b\b\b\b\b\b\b\b\b\b\b\b\b\b\b\b\b\b\b\b\b\b\b\b\b\b\b\b\b\b\b\b\b\b\b\b\b\b\b\b\b\b\b\b\b\b\b\b\b\b\b\b\b\b\b\b\b\b\b\b\b\b\b\b\b\b\b\r125/125 [==============================] - 34s 275ms/step - loss: 0.1070 - accuracy: 0.9676 - val_loss: 0.1056 - val_accuracy: 0.9677 - lr: 1.4286e-04\n",
            "Epoch 61/180\n",
            "125/125 [==============================] - ETA: 0s - loss: 0.1059 - accuracy: 0.9679\n",
            "Epoch 00061: val_accuracy did not improve from 0.96851\n"
          ],
          "name": "stdout"
        },
        {
          "output_type": "stream",
          "text": [
            "2020-05-13 07:08:25,546 INFO \n",
            " epoch:060, F1Macro: 0.93596\n"
          ],
          "name": "stderr"
        },
        {
          "output_type": "stream",
          "text": [
            "\b\b\b\b\b\b\b\b\b\b\b\b\b\b\b\b\b\b\b\b\b\b\b\b\b\b\b\b\b\b\b\b\b\b\b\b\b\b\b\b\b\b\b\b\b\b\b\b\b\b\b\b\b\b\b\b\b\b\b\b\b\b\b\b\b\b\b\b\b\b\b\b\b\b\b\b\b\b\b\b\b\b\b\b\r125/125 [==============================] - 34s 276ms/step - loss: 0.1059 - accuracy: 0.9679 - val_loss: 0.1051 - val_accuracy: 0.9679 - lr: 1.1111e-04\n",
            "Epoch 62/180\n",
            "125/125 [==============================] - ETA: 0s - loss: 0.1054 - accuracy: 0.9680\n",
            "Epoch 00062: val_accuracy did not improve from 0.96851\n"
          ],
          "name": "stdout"
        },
        {
          "output_type": "stream",
          "text": [
            "2020-05-13 07:09:00,257 INFO \n",
            " epoch:061, F1Macro: 0.93643\n"
          ],
          "name": "stderr"
        },
        {
          "output_type": "stream",
          "text": [
            "\b\b\b\b\b\b\b\b\b\b\b\b\b\b\b\b\b\b\b\b\b\b\b\b\b\b\b\b\b\b\b\b\b\b\b\b\b\b\b\b\b\b\b\b\b\b\b\b\b\b\b\b\b\b\b\b\b\b\b\b\b\b\b\b\b\b\b\b\b\b\b\b\b\b\b\b\b\b\b\b\b\b\b\b\r125/125 [==============================] - 34s 275ms/step - loss: 0.1054 - accuracy: 0.9680 - val_loss: 0.1046 - val_accuracy: 0.9680 - lr: 1.1111e-04\n",
            "Epoch 63/180\n",
            "125/125 [==============================] - ETA: 0s - loss: 0.1061 - accuracy: 0.9676\n",
            "Epoch 00063: val_accuracy did not improve from 0.96851\n"
          ],
          "name": "stdout"
        },
        {
          "output_type": "stream",
          "text": [
            "2020-05-13 07:09:34,967 INFO \n",
            " epoch:062, F1Macro: 0.93624\n"
          ],
          "name": "stderr"
        },
        {
          "output_type": "stream",
          "text": [
            "\b\b\b\b\b\b\b\b\b\b\b\b\b\b\b\b\b\b\b\b\b\b\b\b\b\b\b\b\b\b\b\b\b\b\b\b\b\b\b\b\b\b\b\b\b\b\b\b\b\b\b\b\b\b\b\b\b\b\b\b\b\b\b\b\b\b\b\b\b\b\b\b\b\b\b\b\b\b\b\b\b\b\b\b\r125/125 [==============================] - 34s 276ms/step - loss: 0.1061 - accuracy: 0.9676 - val_loss: 0.1034 - val_accuracy: 0.9683 - lr: 1.1111e-04\n",
            "Epoch 64/180\n",
            "125/125 [==============================] - ETA: 0s - loss: 0.1045 - accuracy: 0.9680\n",
            "Epoch 00064: val_accuracy did not improve from 0.96851\n"
          ],
          "name": "stdout"
        },
        {
          "output_type": "stream",
          "text": [
            "2020-05-13 07:10:09,708 INFO \n",
            " epoch:063, F1Macro: 0.93710\n"
          ],
          "name": "stderr"
        },
        {
          "output_type": "stream",
          "text": [
            "\b\b\b\b\b\b\b\b\b\b\b\b\b\b\b\b\b\b\b\b\b\b\b\b\b\b\b\b\b\b\b\b\b\b\b\b\b\b\b\b\b\b\b\b\b\b\b\b\b\b\b\b\b\b\b\b\b\b\b\b\b\b\b\b\b\b\b\b\b\b\b\b\b\b\b\b\b\b\b\b\b\b\b\b\r125/125 [==============================] - 34s 276ms/step - loss: 0.1045 - accuracy: 0.9680 - val_loss: 0.1029 - val_accuracy: 0.9684 - lr: 1.1111e-04\n",
            "Epoch 65/180\n",
            "125/125 [==============================] - ETA: 0s - loss: 0.1126 - accuracy: 0.9656\n",
            "Epoch 00065: val_accuracy did not improve from 0.96851\n"
          ],
          "name": "stdout"
        },
        {
          "output_type": "stream",
          "text": [
            "2020-05-13 07:10:44,461 INFO \n",
            " epoch:064, F1Macro: 0.93706\n"
          ],
          "name": "stderr"
        },
        {
          "output_type": "stream",
          "text": [
            "\b\b\b\b\b\b\b\b\b\b\b\b\b\b\b\b\b\b\b\b\b\b\b\b\b\b\b\b\b\b\b\b\b\b\b\b\b\b\b\b\b\b\b\b\b\b\b\b\b\b\b\b\b\b\b\b\b\b\b\b\b\b\b\b\b\b\b\b\b\b\b\b\b\b\b\b\b\b\b\b\b\b\b\b\r125/125 [==============================] - 34s 276ms/step - loss: 0.1126 - accuracy: 0.9656 - val_loss: 0.1027 - val_accuracy: 0.9685 - lr: 1.1111e-04\n",
            "Epoch 66/180\n",
            "125/125 [==============================] - ETA: 0s - loss: 0.1040 - accuracy: 0.9680\n",
            "Epoch 00066: val_accuracy improved from 0.96851 to 0.96869, saving model to ion_switch/res/wavenet-dlr-res/ClassifierCBRWmulti-Prob11-NESCAL/all/2_fold/checkpoint-modelonly-2.h5\n"
          ],
          "name": "stdout"
        },
        {
          "output_type": "stream",
          "text": [
            "2020-05-13 07:11:19,922 INFO \n",
            " epoch:065, F1Macro: 0.93766\n"
          ],
          "name": "stderr"
        },
        {
          "output_type": "stream",
          "text": [
            "\b\b\b\b\b\b\b\b\b\b\b\b\b\b\b\b\b\b\b\b\b\b\b\b\b\b\b\b\b\b\b\b\b\b\b\b\b\b\b\b\b\b\b\b\b\b\b\b\b\b\b\b\b\b\b\b\b\b\b\b\b\b\b\b\b\b\b\b\b\b\b\b\b\b\b\b\b\b\b\b\b\b\b\b\r125/125 [==============================] - 36s 287ms/step - loss: 0.1040 - accuracy: 0.9680 - val_loss: 0.1017 - val_accuracy: 0.9687 - lr: 1.1111e-04\n",
            "Epoch 67/180\n",
            "125/125 [==============================] - ETA: 0s - loss: 0.1041 - accuracy: 0.9679\n",
            "Epoch 00067: val_accuracy did not improve from 0.96869\n"
          ],
          "name": "stdout"
        },
        {
          "output_type": "stream",
          "text": [
            "2020-05-13 07:11:55,325 INFO \n",
            " epoch:066, F1Macro: 0.93723\n"
          ],
          "name": "stderr"
        },
        {
          "output_type": "stream",
          "text": [
            "\b\b\b\b\b\b\b\b\b\b\b\b\b\b\b\b\b\b\b\b\b\b\b\b\b\b\b\b\b\b\b\b\b\b\b\b\b\b\b\b\b\b\b\b\b\b\b\b\b\b\b\b\b\b\b\b\b\b\b\b\b\b\b\b\b\b\b\b\b\b\b\b\b\b\b\b\b\b\b\b\b\b\b\b\r125/125 [==============================] - 34s 276ms/step - loss: 0.1041 - accuracy: 0.9679 - val_loss: 0.1025 - val_accuracy: 0.9683 - lr: 1.1111e-04\n",
            "Epoch 68/180\n",
            "125/125 [==============================] - ETA: 0s - loss: 0.1036 - accuracy: 0.9679\n",
            "Epoch 00068: val_accuracy did not improve from 0.96869\n"
          ],
          "name": "stdout"
        },
        {
          "output_type": "stream",
          "text": [
            "2020-05-13 07:12:30,026 INFO \n",
            " epoch:067, F1Macro: 0.93432\n"
          ],
          "name": "stderr"
        },
        {
          "output_type": "stream",
          "text": [
            "\b\b\b\b\b\b\b\b\b\b\b\b\b\b\b\b\b\b\b\b\b\b\b\b\b\b\b\b\b\b\b\b\b\b\b\b\b\b\b\b\b\b\b\b\b\b\b\b\b\b\b\b\b\b\b\b\b\b\b\b\b\b\b\b\b\b\b\b\b\b\b\b\b\b\b\b\b\b\b\b\b\b\b\b\r125/125 [==============================] - 34s 275ms/step - loss: 0.1036 - accuracy: 0.9679 - val_loss: 0.1030 - val_accuracy: 0.9679 - lr: 1.1111e-04\n",
            "Epoch 69/180\n",
            "125/125 [==============================] - ETA: 0s - loss: 0.1028 - accuracy: 0.9681\n",
            "Epoch 00069: val_accuracy did not improve from 0.96869\n"
          ],
          "name": "stdout"
        },
        {
          "output_type": "stream",
          "text": [
            "2020-05-13 07:13:04,763 INFO \n",
            " epoch:068, F1Macro: 0.93737\n"
          ],
          "name": "stderr"
        },
        {
          "output_type": "stream",
          "text": [
            "\b\b\b\b\b\b\b\b\b\b\b\b\b\b\b\b\b\b\b\b\b\b\b\b\b\b\b\b\b\b\b\b\b\b\b\b\b\b\b\b\b\b\b\b\b\b\b\b\b\b\b\b\b\b\b\b\b\b\b\b\b\b\b\b\b\b\b\b\b\b\b\b\b\b\b\b\b\b\b\b\b\b\b\b\r125/125 [==============================] - 34s 276ms/step - loss: 0.1028 - accuracy: 0.9681 - val_loss: 0.1011 - val_accuracy: 0.9686 - lr: 1.1111e-04\n",
            "Epoch 70/180\n",
            "125/125 [==============================] - ETA: 0s - loss: 0.1027 - accuracy: 0.9680\n",
            "Epoch 00070: val_accuracy did not improve from 0.96869\n"
          ],
          "name": "stdout"
        },
        {
          "output_type": "stream",
          "text": [
            "2020-05-13 07:13:39,478 INFO \n",
            " epoch:069, F1Macro: 0.93583\n"
          ],
          "name": "stderr"
        },
        {
          "output_type": "stream",
          "text": [
            "\b\b\b\b\b\b\b\b\b\b\b\b\b\b\b\b\b\b\b\b\b\b\b\b\b\b\b\b\b\b\b\b\b\b\b\b\b\b\b\b\b\b\b\b\b\b\b\b\b\b\b\b\b\b\b\b\b\b\b\b\b\b\b\b\b\b\b\b\b\b\b\b\b\b\b\b\b\b\b\b\b\b\b\b\r125/125 [==============================] - 34s 276ms/step - loss: 0.1027 - accuracy: 0.9680 - val_loss: 0.1016 - val_accuracy: 0.9681 - lr: 1.1111e-04\n",
            "Epoch 71/180\n",
            "125/125 [==============================] - ETA: 0s - loss: 0.1020 - accuracy: 0.9682\n",
            "Epoch 00071: val_accuracy did not improve from 0.96869\n"
          ],
          "name": "stdout"
        },
        {
          "output_type": "stream",
          "text": [
            "2020-05-13 07:14:14,170 INFO \n",
            " epoch:070, F1Macro: 0.93724\n"
          ],
          "name": "stderr"
        },
        {
          "output_type": "stream",
          "text": [
            "\b\b\b\b\b\b\b\b\b\b\b\b\b\b\b\b\b\b\b\b\b\b\b\b\b\b\b\b\b\b\b\b\b\b\b\b\b\b\b\b\b\b\b\b\b\b\b\b\b\b\b\b\b\b\b\b\b\b\b\b\b\b\b\b\b\b\b\b\b\b\b\b\b\b\b\b\b\b\b\b\b\b\b\b\r125/125 [==============================] - 34s 275ms/step - loss: 0.1020 - accuracy: 0.9682 - val_loss: 0.1009 - val_accuracy: 0.9684 - lr: 9.0909e-05\n",
            "Epoch 72/180\n",
            "125/125 [==============================] - ETA: 0s - loss: 0.1015 - accuracy: 0.9683\n",
            "Epoch 00072: val_accuracy did not improve from 0.96869\n"
          ],
          "name": "stdout"
        },
        {
          "output_type": "stream",
          "text": [
            "2020-05-13 07:14:48,909 INFO \n",
            " epoch:071, F1Macro: 0.93768\n"
          ],
          "name": "stderr"
        },
        {
          "output_type": "stream",
          "text": [
            "\b\b\b\b\b\b\b\b\b\b\b\b\b\b\b\b\b\b\b\b\b\b\b\b\b\b\b\b\b\b\b\b\b\b\b\b\b\b\b\b\b\b\b\b\b\b\b\b\b\b\b\b\b\b\b\b\b\b\b\b\b\b\b\b\b\b\b\b\b\b\b\b\b\b\b\b\b\b\b\b\b\b\b\b\r125/125 [==============================] - 35s 281ms/step - loss: 0.1015 - accuracy: 0.9683 - val_loss: 0.1000 - val_accuracy: 0.9686 - lr: 9.0909e-05\n",
            "Epoch 73/180\n",
            "125/125 [==============================] - ETA: 0s - loss: 0.1013 - accuracy: 0.9682\n",
            "Epoch 00073: val_accuracy did not improve from 0.96869\n"
          ],
          "name": "stdout"
        },
        {
          "output_type": "stream",
          "text": [
            "2020-05-13 07:15:24,379 INFO \n",
            " epoch:072, F1Macro: 0.93689\n"
          ],
          "name": "stderr"
        },
        {
          "output_type": "stream",
          "text": [
            "\b\b\b\b\b\b\b\b\b\b\b\b\b\b\b\b\b\b\b\b\b\b\b\b\b\b\b\b\b\b\b\b\b\b\b\b\b\b\b\b\b\b\b\b\b\b\b\b\b\b\b\b\b\b\b\b\b\b\b\b\b\b\b\b\b\b\b\b\b\b\b\b\b\b\b\b\b\b\b\b\b\b\b\b\r125/125 [==============================] - 35s 276ms/step - loss: 0.1013 - accuracy: 0.9682 - val_loss: 0.1001 - val_accuracy: 0.9685 - lr: 9.0909e-05\n",
            "Epoch 74/180\n",
            "125/125 [==============================] - ETA: 0s - loss: 0.1013 - accuracy: 0.9682\n",
            "Epoch 00074: val_accuracy did not improve from 0.96869\n"
          ],
          "name": "stdout"
        },
        {
          "output_type": "stream",
          "text": [
            "2020-05-13 07:15:59,136 INFO \n",
            " epoch:073, F1Macro: 0.93764\n"
          ],
          "name": "stderr"
        },
        {
          "output_type": "stream",
          "text": [
            "\b\b\b\b\b\b\b\b\b\b\b\b\b\b\b\b\b\b\b\b\b\b\b\b\b\b\b\b\b\b\b\b\b\b\b\b\b\b\b\b\b\b\b\b\b\b\b\b\b\b\b\b\b\b\b\b\b\b\b\b\b\b\b\b\b\b\b\b\b\b\b\b\b\b\b\b\b\b\b\b\b\b\b\b\r125/125 [==============================] - 34s 276ms/step - loss: 0.1013 - accuracy: 0.9682 - val_loss: 0.0995 - val_accuracy: 0.9686 - lr: 9.0909e-05\n",
            "Epoch 75/180\n",
            "125/125 [==============================] - ETA: 0s - loss: 0.1007 - accuracy: 0.9683\n",
            "Epoch 00075: val_accuracy did not improve from 0.96869\n"
          ],
          "name": "stdout"
        },
        {
          "output_type": "stream",
          "text": [
            "2020-05-13 07:16:33,835 INFO \n",
            " epoch:074, F1Macro: 0.93759\n"
          ],
          "name": "stderr"
        },
        {
          "output_type": "stream",
          "text": [
            "\b\b\b\b\b\b\b\b\b\b\b\b\b\b\b\b\b\b\b\b\b\b\b\b\b\b\b\b\b\b\b\b\b\b\b\b\b\b\b\b\b\b\b\b\b\b\b\b\b\b\b\b\b\b\b\b\b\b\b\b\b\b\b\b\b\b\b\b\b\b\b\b\b\b\b\b\b\b\b\b\b\b\b\b\r125/125 [==============================] - 34s 275ms/step - loss: 0.1007 - accuracy: 0.9683 - val_loss: 0.0992 - val_accuracy: 0.9686 - lr: 9.0909e-05\n",
            "Epoch 76/180\n",
            "125/125 [==============================] - ETA: 0s - loss: 0.1006 - accuracy: 0.9682\n",
            "Epoch 00076: val_accuracy did not improve from 0.96869\n"
          ],
          "name": "stdout"
        },
        {
          "output_type": "stream",
          "text": [
            "2020-05-13 07:17:08,554 INFO \n",
            " epoch:075, F1Macro: 0.93730\n"
          ],
          "name": "stderr"
        },
        {
          "output_type": "stream",
          "text": [
            "\b\b\b\b\b\b\b\b\b\b\b\b\b\b\b\b\b\b\b\b\b\b\b\b\b\b\b\b\b\b\b\b\b\b\b\b\b\b\b\b\b\b\b\b\b\b\b\b\b\b\b\b\b\b\b\b\b\b\b\b\b\b\b\b\b\b\b\b\b\b\b\b\b\b\b\b\b\b\b\b\b\b\b\b\r125/125 [==============================] - 34s 276ms/step - loss: 0.1006 - accuracy: 0.9682 - val_loss: 0.0994 - val_accuracy: 0.9684 - lr: 9.0909e-05\n",
            "Epoch 77/180\n",
            "125/125 [==============================] - ETA: 0s - loss: 0.1005 - accuracy: 0.9682\n",
            "Epoch 00077: val_accuracy did not improve from 0.96869\n"
          ],
          "name": "stdout"
        },
        {
          "output_type": "stream",
          "text": [
            "2020-05-13 07:17:43,285 INFO \n",
            " epoch:076, F1Macro: 0.93500\n"
          ],
          "name": "stderr"
        },
        {
          "output_type": "stream",
          "text": [
            "\b\b\b\b\b\b\b\b\b\b\b\b\b\b\b\b\b\b\b\b\b\b\b\b\b\b\b\b\b\b\b\b\b\b\b\b\b\b\b\b\b\b\b\b\b\b\b\b\b\b\b\b\b\b\b\b\b\b\b\b\b\b\b\b\b\b\b\b\b\b\b\b\b\b\b\b\b\b\b\b\b\b\b\b\r125/125 [==============================] - 34s 276ms/step - loss: 0.1005 - accuracy: 0.9682 - val_loss: 0.1005 - val_accuracy: 0.9678 - lr: 9.0909e-05\n",
            "Epoch 78/180\n",
            "125/125 [==============================] - ETA: 0s - loss: 0.1002 - accuracy: 0.9681\n",
            "Epoch 00078: val_accuracy did not improve from 0.96869\n"
          ],
          "name": "stdout"
        },
        {
          "output_type": "stream",
          "text": [
            "2020-05-13 07:18:17,990 INFO \n",
            " epoch:077, F1Macro: 0.93723\n"
          ],
          "name": "stderr"
        },
        {
          "output_type": "stream",
          "text": [
            "\b\b\b\b\b\b\b\b\b\b\b\b\b\b\b\b\b\b\b\b\b\b\b\b\b\b\b\b\b\b\b\b\b\b\b\b\b\b\b\b\b\b\b\b\b\b\b\b\b\b\b\b\b\b\b\b\b\b\b\b\b\b\b\b\b\b\b\b\b\b\b\b\b\b\b\b\b\b\b\b\b\b\b\b\r125/125 [==============================] - 34s 276ms/step - loss: 0.1002 - accuracy: 0.9681 - val_loss: 0.0987 - val_accuracy: 0.9685 - lr: 9.0909e-05\n",
            "Epoch 79/180\n",
            "125/125 [==============================] - ETA: 0s - loss: 0.1007 - accuracy: 0.9679\n",
            "Epoch 00079: val_accuracy did not improve from 0.96869\n"
          ],
          "name": "stdout"
        },
        {
          "output_type": "stream",
          "text": [
            "2020-05-13 07:18:52,695 INFO \n",
            " epoch:078, F1Macro: 0.93699\n"
          ],
          "name": "stderr"
        },
        {
          "output_type": "stream",
          "text": [
            "\b\b\b\b\b\b\b\b\b\b\b\b\b\b\b\b\b\b\b\b\b\b\b\b\b\b\b\b\b\b\b\b\b\b\b\b\b\b\b\b\b\b\b\b\b\b\b\b\b\b\b\b\b\b\b\b\b\b\b\b\b\b\b\b\b\b\b\b\b\b\b\b\b\b\b\b\b\b\b\b\b\b\b\b\r125/125 [==============================] - 34s 276ms/step - loss: 0.1007 - accuracy: 0.9679 - val_loss: 0.0994 - val_accuracy: 0.9683 - lr: 9.0909e-05\n",
            "Epoch 80/180\n",
            "125/125 [==============================] - ETA: 0s - loss: 0.0995 - accuracy: 0.9683\n",
            "Epoch 00080: val_accuracy did not improve from 0.96869\n"
          ],
          "name": "stdout"
        },
        {
          "output_type": "stream",
          "text": [
            "2020-05-13 07:19:27,508 INFO \n",
            " epoch:079, F1Macro: 0.93737\n"
          ],
          "name": "stderr"
        },
        {
          "output_type": "stream",
          "text": [
            "\b\b\b\b\b\b\b\b\b\b\b\b\b\b\b\b\b\b\b\b\b\b\b\b\b\b\b\b\b\b\b\b\b\b\b\b\b\b\b\b\b\b\b\b\b\b\b\b\b\b\b\b\b\b\b\b\b\b\b\b\b\b\b\b\b\b\b\b\b\b\b\b\b\b\b\b\b\b\b\b\b\b\b\b\r125/125 [==============================] - 35s 276ms/step - loss: 0.0995 - accuracy: 0.9683 - val_loss: 0.0982 - val_accuracy: 0.9685 - lr: 9.0909e-05\n",
            "Epoch 81/180\n",
            "125/125 [==============================] - ETA: 0s - loss: 0.0988 - accuracy: 0.9684\n",
            "Epoch 00081: val_accuracy did not improve from 0.96869\n"
          ],
          "name": "stdout"
        },
        {
          "output_type": "stream",
          "text": [
            "2020-05-13 07:20:02,270 INFO \n",
            " epoch:080, F1Macro: 0.93748\n"
          ],
          "name": "stderr"
        },
        {
          "output_type": "stream",
          "text": [
            "\b\b\b\b\b\b\b\b\b\b\b\b\b\b\b\b\b\b\b\b\b\b\b\b\b\b\b\b\b\b\b\b\b\b\b\b\b\b\b\b\b\b\b\b\b\b\b\b\b\b\b\b\b\b\b\b\b\b\b\b\b\b\b\b\b\b\b\b\b\b\b\b\b\b\b\b\b\b\b\b\b\b\b\b\r125/125 [==============================] - 34s 276ms/step - loss: 0.0988 - accuracy: 0.9684 - val_loss: 0.0978 - val_accuracy: 0.9686 - lr: 7.6923e-05\n",
            "Epoch 82/180\n",
            "125/125 [==============================] - ETA: 0s - loss: 0.0989 - accuracy: 0.9683\n",
            "Epoch 00082: val_accuracy did not improve from 0.96869\n"
          ],
          "name": "stdout"
        },
        {
          "output_type": "stream",
          "text": [
            "2020-05-13 07:20:36,960 INFO \n",
            " epoch:081, F1Macro: 0.93730\n"
          ],
          "name": "stderr"
        },
        {
          "output_type": "stream",
          "text": [
            "\b\b\b\b\b\b\b\b\b\b\b\b\b\b\b\b\b\b\b\b\b\b\b\b\b\b\b\b\b\b\b\b\b\b\b\b\b\b\b\b\b\b\b\b\b\b\b\b\b\b\b\b\b\b\b\b\b\b\b\b\b\b\b\b\b\b\b\b\b\b\b\b\b\b\b\b\b\b\b\b\b\b\b\b\r125/125 [==============================] - 34s 275ms/step - loss: 0.0989 - accuracy: 0.9683 - val_loss: 0.0982 - val_accuracy: 0.9684 - lr: 7.6923e-05\n",
            "Epoch 83/180\n",
            "125/125 [==============================] - ETA: 0s - loss: 0.0982 - accuracy: 0.9684\n",
            "Epoch 00083: val_accuracy did not improve from 0.96869\n"
          ],
          "name": "stdout"
        },
        {
          "output_type": "stream",
          "text": [
            "2020-05-13 07:21:11,699 INFO \n",
            " epoch:082, F1Macro: 0.93591\n"
          ],
          "name": "stderr"
        },
        {
          "output_type": "stream",
          "text": [
            "\b\b\b\b\b\b\b\b\b\b\b\b\b\b\b\b\b\b\b\b\b\b\b\b\b\b\b\b\b\b\b\b\b\b\b\b\b\b\b\b\b\b\b\b\b\b\b\b\b\b\b\b\b\b\b\b\b\b\b\b\b\b\b\b\b\b\b\b\b\b\b\b\b\b\b\b\b\b\b\b\b\b\b\b\r125/125 [==============================] - 34s 276ms/step - loss: 0.0982 - accuracy: 0.9684 - val_loss: 0.0984 - val_accuracy: 0.9681 - lr: 7.6923e-05\n",
            "Epoch 84/180\n",
            "125/125 [==============================] - ETA: 0s - loss: 0.0983 - accuracy: 0.9684\n",
            "Epoch 00084: val_accuracy did not improve from 0.96869\n"
          ],
          "name": "stdout"
        },
        {
          "output_type": "stream",
          "text": [
            "2020-05-13 07:21:46,447 INFO \n",
            " epoch:083, F1Macro: 0.93592\n"
          ],
          "name": "stderr"
        },
        {
          "output_type": "stream",
          "text": [
            "\b\b\b\b\b\b\b\b\b\b\b\b\b\b\b\b\b\b\b\b\b\b\b\b\b\b\b\b\b\b\b\b\b\b\b\b\b\b\b\b\b\b\b\b\b\b\b\b\b\b\b\b\b\b\b\b\b\b\b\b\b\b\b\b\b\b\b\b\b\b\b\b\b\b\b\b\b\b\b\b\b\b\b\b\r125/125 [==============================] - 34s 276ms/step - loss: 0.0983 - accuracy: 0.9684 - val_loss: 0.0982 - val_accuracy: 0.9682 - lr: 7.6923e-05\n",
            "Epoch 85/180\n",
            "125/125 [==============================] - ETA: 0s - loss: 0.0978 - accuracy: 0.9685\n",
            "Epoch 00085: val_accuracy did not improve from 0.96869\n"
          ],
          "name": "stdout"
        },
        {
          "output_type": "stream",
          "text": [
            "2020-05-13 07:22:21,161 INFO \n",
            " epoch:084, F1Macro: 0.93754\n"
          ],
          "name": "stderr"
        },
        {
          "output_type": "stream",
          "text": [
            "\b\b\b\b\b\b\b\b\b\b\b\b\b\b\b\b\b\b\b\b\b\b\b\b\b\b\b\b\b\b\b\b\b\b\b\b\b\b\b\b\b\b\b\b\b\b\b\b\b\b\b\b\b\b\b\b\b\b\b\b\b\b\b\b\b\b\b\b\b\b\b\b\b\b\b\b\b\b\b\b\b\b\b\b\r125/125 [==============================] - 34s 276ms/step - loss: 0.0978 - accuracy: 0.9685 - val_loss: 0.0971 - val_accuracy: 0.9685 - lr: 7.6923e-05\n",
            "Epoch 86/180\n",
            "125/125 [==============================] - ETA: 0s - loss: 0.0977 - accuracy: 0.9685\n",
            "Epoch 00086: val_accuracy did not improve from 0.96869\n"
          ],
          "name": "stdout"
        },
        {
          "output_type": "stream",
          "text": [
            "2020-05-13 07:22:55,892 INFO \n",
            " epoch:085, F1Macro: 0.93641\n"
          ],
          "name": "stderr"
        },
        {
          "output_type": "stream",
          "text": [
            "\b\b\b\b\b\b\b\b\b\b\b\b\b\b\b\b\b\b\b\b\b\b\b\b\b\b\b\b\b\b\b\b\b\b\b\b\b\b\b\b\b\b\b\b\b\b\b\b\b\b\b\b\b\b\b\b\b\b\b\b\b\b\b\b\b\b\b\b\b\b\b\b\b\b\b\b\b\b\b\b\b\b\b\b\r125/125 [==============================] - 34s 276ms/step - loss: 0.0977 - accuracy: 0.9685 - val_loss: 0.0982 - val_accuracy: 0.9681 - lr: 7.6923e-05\n",
            "Epoch 87/180\n",
            "125/125 [==============================] - ETA: 0s - loss: 0.0980 - accuracy: 0.9683\n",
            "Epoch 00087: val_accuracy did not improve from 0.96869\n"
          ],
          "name": "stdout"
        },
        {
          "output_type": "stream",
          "text": [
            "2020-05-13 07:23:30,685 INFO \n",
            " epoch:086, F1Macro: 0.93745\n"
          ],
          "name": "stderr"
        },
        {
          "output_type": "stream",
          "text": [
            "\b\b\b\b\b\b\b\b\b\b\b\b\b\b\b\b\b\b\b\b\b\b\b\b\b\b\b\b\b\b\b\b\b\b\b\b\b\b\b\b\b\b\b\b\b\b\b\b\b\b\b\b\b\b\b\b\b\b\b\b\b\b\b\b\b\b\b\b\b\b\b\b\b\b\b\b\b\b\b\b\b\b\b\b\r125/125 [==============================] - 35s 276ms/step - loss: 0.0980 - accuracy: 0.9683 - val_loss: 0.0969 - val_accuracy: 0.9685 - lr: 7.6923e-05\n",
            "Epoch 88/180\n",
            "125/125 [==============================] - ETA: 0s - loss: 0.0976 - accuracy: 0.9683\n",
            "Epoch 00088: val_accuracy did not improve from 0.96869\n"
          ],
          "name": "stdout"
        },
        {
          "output_type": "stream",
          "text": [
            "2020-05-13 07:24:05,351 INFO \n",
            " epoch:087, F1Macro: 0.93592\n"
          ],
          "name": "stderr"
        },
        {
          "output_type": "stream",
          "text": [
            "\b\b\b\b\b\b\b\b\b\b\b\b\b\b\b\b\b\b\b\b\b\b\b\b\b\b\b\b\b\b\b\b\b\b\b\b\b\b\b\b\b\b\b\b\b\b\b\b\b\b\b\b\b\b\b\b\b\b\b\b\b\b\b\b\b\b\b\b\b\b\b\b\b\b\b\b\b\b\b\b\b\b\b\b\r125/125 [==============================] - 34s 275ms/step - loss: 0.0976 - accuracy: 0.9683 - val_loss: 0.0975 - val_accuracy: 0.9681 - lr: 7.6923e-05\n",
            "Epoch 89/180\n",
            "125/125 [==============================] - ETA: 0s - loss: 0.0972 - accuracy: 0.9684\n",
            "Epoch 00089: val_accuracy did not improve from 0.96869\n"
          ],
          "name": "stdout"
        },
        {
          "output_type": "stream",
          "text": [
            "2020-05-13 07:24:40,048 INFO \n",
            " epoch:088, F1Macro: 0.93654\n"
          ],
          "name": "stderr"
        },
        {
          "output_type": "stream",
          "text": [
            "\b\b\b\b\b\b\b\b\b\b\b\b\b\b\b\b\b\b\b\b\b\b\b\b\b\b\b\b\b\b\b\b\b\b\b\b\b\b\b\b\b\b\b\b\b\b\b\b\b\b\b\b\b\b\b\b\b\b\b\b\b\b\b\b\b\b\b\b\b\b\b\b\b\b\b\b\b\b\b\b\b\b\b\b\r125/125 [==============================] - 34s 275ms/step - loss: 0.0972 - accuracy: 0.9684 - val_loss: 0.0970 - val_accuracy: 0.9683 - lr: 7.6923e-05\n",
            "Epoch 90/180\n",
            "125/125 [==============================] - ETA: 0s - loss: 0.0966 - accuracy: 0.9686\n",
            "Epoch 00090: val_accuracy did not improve from 0.96869\n"
          ],
          "name": "stdout"
        },
        {
          "output_type": "stream",
          "text": [
            "2020-05-13 07:25:14,799 INFO \n",
            " epoch:089, F1Macro: 0.93705\n"
          ],
          "name": "stderr"
        },
        {
          "output_type": "stream",
          "text": [
            "\b\b\b\b\b\b\b\b\b\b\b\b\b\b\b\b\b\b\b\b\b\b\b\b\b\b\b\b\b\b\b\b\b\b\b\b\b\b\b\b\b\b\b\b\b\b\b\b\b\b\b\b\b\b\b\b\b\b\b\b\b\b\b\b\b\b\b\b\b\b\b\b\b\b\b\b\b\b\b\b\b\b\b\b\r125/125 [==============================] - 34s 276ms/step - loss: 0.0966 - accuracy: 0.9686 - val_loss: 0.0964 - val_accuracy: 0.9686 - lr: 7.6923e-05\n",
            "Epoch 91/180\n",
            "125/125 [==============================] - ETA: 0s - loss: 0.0966 - accuracy: 0.9685\n",
            "Epoch 00091: val_accuracy did not improve from 0.96869\n"
          ],
          "name": "stdout"
        },
        {
          "output_type": "stream",
          "text": [
            "2020-05-13 07:25:49,562 INFO \n",
            " epoch:090, F1Macro: 0.93691\n"
          ],
          "name": "stderr"
        },
        {
          "output_type": "stream",
          "text": [
            "\b\b\b\b\b\b\b\b\b\b\b\b\b\b\b\b\b\b\b\b\b\b\b\b\b\b\b\b\b\b\b\b\b\b\b\b\b\b\b\b\b\b\b\b\b\b\b\b\b\b\b\b\b\b\b\b\b\b\b\b\b\b\b\b\b\b\b\b\b\b\b\b\b\b\b\b\b\b\b\b\b\b\b\b\r125/125 [==============================] - 34s 276ms/step - loss: 0.0966 - accuracy: 0.9685 - val_loss: 0.0964 - val_accuracy: 0.9685 - lr: 1.0000e-05\n",
            "Epoch 92/180\n",
            "125/125 [==============================] - ETA: 0s - loss: 0.0961 - accuracy: 0.9687\n",
            "Epoch 00092: val_accuracy did not improve from 0.96869\n"
          ],
          "name": "stdout"
        },
        {
          "output_type": "stream",
          "text": [
            "2020-05-13 07:26:24,363 INFO \n",
            " epoch:091, F1Macro: 0.93774\n"
          ],
          "name": "stderr"
        },
        {
          "output_type": "stream",
          "text": [
            "\b\b\b\b\b\b\b\b\b\b\b\b\b\b\b\b\b\b\b\b\b\b\b\b\b\b\b\b\b\b\b\b\b\b\b\b\b\b\b\b\b\b\b\b\b\b\b\b\b\b\b\b\b\b\b\b\b\b\b\b\b\b\b\b\b\b\b\b\b\b\b\b\b\b\b\b\b\b\b\b\b\b\b\b\r125/125 [==============================] - 35s 282ms/step - loss: 0.0961 - accuracy: 0.9687 - val_loss: 0.0958 - val_accuracy: 0.9687 - lr: 1.0000e-05\n",
            "Epoch 93/180\n",
            "125/125 [==============================] - ETA: 0s - loss: 0.0964 - accuracy: 0.9686\n",
            "Epoch 00093: val_accuracy did not improve from 0.96869\n"
          ],
          "name": "stdout"
        },
        {
          "output_type": "stream",
          "text": [
            "2020-05-13 07:26:59,961 INFO \n",
            " epoch:092, F1Macro: 0.93746\n"
          ],
          "name": "stderr"
        },
        {
          "output_type": "stream",
          "text": [
            "\b\b\b\b\b\b\b\b\b\b\b\b\b\b\b\b\b\b\b\b\b\b\b\b\b\b\b\b\b\b\b\b\b\b\b\b\b\b\b\b\b\b\b\b\b\b\b\b\b\b\b\b\b\b\b\b\b\b\b\b\b\b\b\b\b\b\b\b\b\b\b\b\b\b\b\b\b\b\b\b\b\b\b\b\r125/125 [==============================] - 35s 277ms/step - loss: 0.0964 - accuracy: 0.9686 - val_loss: 0.0961 - val_accuracy: 0.9686 - lr: 1.0000e-05\n",
            "Epoch 94/180\n",
            "125/125 [==============================] - ETA: 0s - loss: 0.0962 - accuracy: 0.9686\n",
            "Epoch 00094: val_accuracy did not improve from 0.96869\n"
          ],
          "name": "stdout"
        },
        {
          "output_type": "stream",
          "text": [
            "2020-05-13 07:27:34,726 INFO \n",
            " epoch:093, F1Macro: 0.93743\n"
          ],
          "name": "stderr"
        },
        {
          "output_type": "stream",
          "text": [
            "\b\b\b\b\b\b\b\b\b\b\b\b\b\b\b\b\b\b\b\b\b\b\b\b\b\b\b\b\b\b\b\b\b\b\b\b\b\b\b\b\b\b\b\b\b\b\b\b\b\b\b\b\b\b\b\b\b\b\b\b\b\b\b\b\b\b\b\b\b\b\b\b\b\b\b\b\b\b\b\b\b\b\b\b\r125/125 [==============================] - 34s 276ms/step - loss: 0.0962 - accuracy: 0.9686 - val_loss: 0.0960 - val_accuracy: 0.9686 - lr: 1.0000e-05\n",
            "Epoch 95/180\n",
            "125/125 [==============================] - ETA: 0s - loss: 0.0965 - accuracy: 0.9686\n",
            "Epoch 00095: val_accuracy did not improve from 0.96869\n"
          ],
          "name": "stdout"
        },
        {
          "output_type": "stream",
          "text": [
            "2020-05-13 07:28:09,491 INFO \n",
            " epoch:094, F1Macro: 0.93742\n"
          ],
          "name": "stderr"
        },
        {
          "output_type": "stream",
          "text": [
            "\b\b\b\b\b\b\b\b\b\b\b\b\b\b\b\b\b\b\b\b\b\b\b\b\b\b\b\b\b\b\b\b\b\b\b\b\b\b\b\b\b\b\b\b\b\b\b\b\b\b\b\b\b\b\b\b\b\b\b\b\b\b\b\b\b\b\b\b\b\b\b\b\b\b\b\b\b\b\b\b\b\b\b\b\r125/125 [==============================] - 34s 276ms/step - loss: 0.0965 - accuracy: 0.9686 - val_loss: 0.0960 - val_accuracy: 0.9686 - lr: 1.0000e-05\n",
            "Epoch 96/180\n",
            "125/125 [==============================] - ETA: 0s - loss: 0.0961 - accuracy: 0.9686\n",
            "Epoch 00096: val_accuracy did not improve from 0.96869\n"
          ],
          "name": "stdout"
        },
        {
          "output_type": "stream",
          "text": [
            "2020-05-13 07:28:44,201 INFO \n",
            " epoch:095, F1Macro: 0.93742\n"
          ],
          "name": "stderr"
        },
        {
          "output_type": "stream",
          "text": [
            "\b\b\b\b\b\b\b\b\b\b\b\b\b\b\b\b\b\b\b\b\b\b\b\b\b\b\b\b\b\b\b\b\b\b\b\b\b\b\b\b\b\b\b\b\b\b\b\b\b\b\b\b\b\b\b\b\b\b\b\b\b\b\b\b\b\b\b\b\b\b\b\b\b\b\b\b\b\b\b\b\b\b\b\b\r125/125 [==============================] - 34s 276ms/step - loss: 0.0961 - accuracy: 0.9686 - val_loss: 0.0959 - val_accuracy: 0.9686 - lr: 1.0000e-05\n",
            "Epoch 97/180\n",
            "125/125 [==============================] - ETA: 0s - loss: 0.0959 - accuracy: 0.9687\n",
            "Epoch 00097: val_accuracy did not improve from 0.96869\n"
          ],
          "name": "stdout"
        },
        {
          "output_type": "stream",
          "text": [
            "2020-05-13 07:29:18,954 INFO \n",
            " epoch:096, F1Macro: 0.93749\n"
          ],
          "name": "stderr"
        },
        {
          "output_type": "stream",
          "text": [
            "\b\b\b\b\b\b\b\b\b\b\b\b\b\b\b\b\b\b\b\b\b\b\b\b\b\b\b\b\b\b\b\b\b\b\b\b\b\b\b\b\b\b\b\b\b\b\b\b\b\b\b\b\b\b\b\b\b\b\b\b\b\b\b\b\b\b\b\b\b\b\b\b\b\b\b\b\b\b\b\b\b\b\b\b\r125/125 [==============================] - 34s 276ms/step - loss: 0.0959 - accuracy: 0.9687 - val_loss: 0.0958 - val_accuracy: 0.9686 - lr: 1.0000e-05\n",
            "Epoch 98/180\n",
            "125/125 [==============================] - ETA: 0s - loss: 0.0961 - accuracy: 0.9686\n",
            "Epoch 00098: val_accuracy did not improve from 0.96869\n"
          ],
          "name": "stdout"
        },
        {
          "output_type": "stream",
          "text": [
            "2020-05-13 07:29:53,767 INFO \n",
            " epoch:097, F1Macro: 0.93710\n"
          ],
          "name": "stderr"
        },
        {
          "output_type": "stream",
          "text": [
            "\b\b\b\b\b\b\b\b\b\b\b\b\b\b\b\b\b\b\b\b\b\b\b\b\b\b\b\b\b\b\b\b\b\b\b\b\b\b\b\b\b\b\b\b\b\b\b\b\b\b\b\b\b\b\b\b\b\b\b\b\b\b\b\b\b\b\b\b\b\b\b\b\b\b\b\b\b\b\b\b\b\b\b\b\r125/125 [==============================] - 35s 276ms/step - loss: 0.0961 - accuracy: 0.9686 - val_loss: 0.0961 - val_accuracy: 0.9685 - lr: 1.0000e-05\n",
            "Epoch 99/180\n",
            "125/125 [==============================] - ETA: 0s - loss: 0.0964 - accuracy: 0.9685\n",
            "Epoch 00099: val_accuracy did not improve from 0.96869\n"
          ],
          "name": "stdout"
        },
        {
          "output_type": "stream",
          "text": [
            "2020-05-13 07:30:28,519 INFO \n",
            " epoch:098, F1Macro: 0.93737\n"
          ],
          "name": "stderr"
        },
        {
          "output_type": "stream",
          "text": [
            "\b\b\b\b\b\b\b\b\b\b\b\b\b\b\b\b\b\b\b\b\b\b\b\b\b\b\b\b\b\b\b\b\b\b\b\b\b\b\b\b\b\b\b\b\b\b\b\b\b\b\b\b\b\b\b\b\b\b\b\b\b\b\b\b\b\b\b\b\b\b\b\b\b\b\b\b\b\b\b\b\b\b\b\b\r125/125 [==============================] - 34s 276ms/step - loss: 0.0964 - accuracy: 0.9685 - val_loss: 0.0961 - val_accuracy: 0.9685 - lr: 1.0000e-05\n",
            "Epoch 100/180\n",
            "125/125 [==============================] - ETA: 0s - loss: 0.0961 - accuracy: 0.9687\n",
            "Epoch 00100: val_accuracy did not improve from 0.96869\n"
          ],
          "name": "stdout"
        },
        {
          "output_type": "stream",
          "text": [
            "2020-05-13 07:31:03,283 INFO \n",
            " epoch:099, F1Macro: 0.93727\n"
          ],
          "name": "stderr"
        },
        {
          "output_type": "stream",
          "text": [
            "\b\b\b\b\b\b\b\b\b\b\b\b\b\b\b\b\b\b\b\b\b\b\b\b\b\b\b\b\b\b\b\b\b\b\b\b\b\b\b\b\b\b\b\b\b\b\b\b\b\b\b\b\b\b\b\b\b\b\b\b\b\b\b\b\b\b\b\b\b\b\b\b\b\b\b\b\b\b\b\b\b\b\b\b\r125/125 [==============================] - 34s 276ms/step - loss: 0.0961 - accuracy: 0.9687 - val_loss: 0.0961 - val_accuracy: 0.9685 - lr: 1.0000e-05\n",
            "Epoch 101/180\n",
            "125/125 [==============================] - ETA: 0s - loss: 0.0957 - accuracy: 0.9687\n",
            "Epoch 00101: val_accuracy did not improve from 0.96869\n"
          ],
          "name": "stdout"
        },
        {
          "output_type": "stream",
          "text": [
            "2020-05-13 07:31:37,998 INFO \n",
            " epoch:100, F1Macro: 0.93697\n"
          ],
          "name": "stderr"
        },
        {
          "output_type": "stream",
          "text": [
            "\b\b\b\b\b\b\b\b\b\b\b\b\b\b\b\b\b\b\b\b\b\b\b\b\b\b\b\b\b\b\b\b\b\b\b\b\b\b\b\b\b\b\b\b\b\b\b\b\b\b\b\b\b\b\b\b\b\b\b\b\b\b\b\b\b\b\b\b\b\b\b\b\b\b\b\b\b\b\b\b\b\b\b\b\r125/125 [==============================] - 34s 276ms/step - loss: 0.0957 - accuracy: 0.9687 - val_loss: 0.0960 - val_accuracy: 0.9685 - lr: 1.0000e-05\n",
            "Epoch 102/180\n",
            "125/125 [==============================] - ETA: 0s - loss: 0.0963 - accuracy: 0.9686\n",
            "Epoch 00102: val_accuracy did not improve from 0.96869\n"
          ],
          "name": "stdout"
        },
        {
          "output_type": "stream",
          "text": [
            "2020-05-13 07:32:12,716 INFO \n",
            " epoch:101, F1Macro: 0.93737\n"
          ],
          "name": "stderr"
        },
        {
          "output_type": "stream",
          "text": [
            "\b\b\b\b\b\b\b\b\b\b\b\b\b\b\b\b\b\b\b\b\b\b\b\b\b\b\b\b\b\b\b\b\b\b\b\b\b\b\b\b\b\b\b\b\b\b\b\b\b\b\b\b\b\b\b\b\b\b\b\b\b\b\b\b\b\b\b\b\b\b\b\b\b\b\b\b\b\b\b\b\b\b\b\b\r125/125 [==============================] - 34s 276ms/step - loss: 0.0963 - accuracy: 0.9686 - val_loss: 0.0958 - val_accuracy: 0.9686 - lr: 1.0000e-05\n",
            "Epoch 103/180\n",
            "125/125 [==============================] - ETA: 0s - loss: 0.0960 - accuracy: 0.9686\n",
            "Epoch 00103: val_accuracy did not improve from 0.96869\n"
          ],
          "name": "stdout"
        },
        {
          "output_type": "stream",
          "text": [
            "2020-05-13 07:32:47,528 INFO \n",
            " epoch:102, F1Macro: 0.93696\n"
          ],
          "name": "stderr"
        },
        {
          "output_type": "stream",
          "text": [
            "\b\b\b\b\b\b\b\b\b\b\b\b\b\b\b\b\b\b\b\b\b\b\b\b\b\b\b\b\b\b\b\b\b\b\b\b\b\b\b\b\b\b\b\b\b\b\b\b\b\b\b\b\b\b\b\b\b\b\b\b\b\b\b\b\b\b\b\b\b\b\b\b\b\b\b\b\b\b\b\b\b\b\b\b\r125/125 [==============================] - 35s 276ms/step - loss: 0.0960 - accuracy: 0.9686 - val_loss: 0.0959 - val_accuracy: 0.9685 - lr: 1.0000e-05\n",
            "Epoch 104/180\n",
            "125/125 [==============================] - ETA: 0s - loss: 0.0964 - accuracy: 0.9685\n",
            "Epoch 00104: val_accuracy did not improve from 0.96869\n"
          ],
          "name": "stdout"
        },
        {
          "output_type": "stream",
          "text": [
            "2020-05-13 07:33:22,315 INFO \n",
            " epoch:103, F1Macro: 0.93691\n"
          ],
          "name": "stderr"
        },
        {
          "output_type": "stream",
          "text": [
            "\b\b\b\b\b\b\b\b\b\b\b\b\b\b\b\b\b\b\b\b\b\b\b\b\b\b\b\b\b\b\b\b\b\b\b\b\b\b\b\b\b\b\b\b\b\b\b\b\b\b\b\b\b\b\b\b\b\b\b\b\b\b\b\b\b\b\b\b\b\b\b\b\b\b\b\b\b\b\b\b\b\b\b\b\r125/125 [==============================] - 35s 276ms/step - loss: 0.0964 - accuracy: 0.9685 - val_loss: 0.0961 - val_accuracy: 0.9684 - lr: 1.0000e-05\n",
            "Epoch 105/180\n",
            "125/125 [==============================] - ETA: 0s - loss: 0.0959 - accuracy: 0.9687\n",
            "Epoch 00105: val_accuracy did not improve from 0.96869\n"
          ],
          "name": "stdout"
        },
        {
          "output_type": "stream",
          "text": [
            "2020-05-13 07:33:57,106 INFO \n",
            " epoch:104, F1Macro: 0.93732\n"
          ],
          "name": "stderr"
        },
        {
          "output_type": "stream",
          "text": [
            "\b\b\b\b\b\b\b\b\b\b\b\b\b\b\b\b\b\b\b\b\b\b\b\b\b\b\b\b\b\b\b\b\b\b\b\b\b\b\b\b\b\b\b\b\b\b\b\b\b\b\b\b\b\b\b\b\b\b\b\b\b\b\b\b\b\b\b\b\b\b\b\b\b\b\b\b\b\b\b\b\b\b\b\b\r125/125 [==============================] - 35s 276ms/step - loss: 0.0959 - accuracy: 0.9687 - val_loss: 0.0958 - val_accuracy: 0.9686 - lr: 1.0000e-05\n",
            "Epoch 106/180\n",
            "125/125 [==============================] - ETA: 0s - loss: 0.0956 - accuracy: 0.9687\n",
            "Epoch 00106: val_accuracy did not improve from 0.96869\n"
          ],
          "name": "stdout"
        },
        {
          "output_type": "stream",
          "text": [
            "2020-05-13 07:34:31,879 INFO \n",
            " epoch:105, F1Macro: 0.93724\n"
          ],
          "name": "stderr"
        },
        {
          "output_type": "stream",
          "text": [
            "\b\b\b\b\b\b\b\b\b\b\b\b\b\b\b\b\b\b\b\b\b\b\b\b\b\b\b\b\b\b\b\b\b\b\b\b\b\b\b\b\b\b\b\b\b\b\b\b\b\b\b\b\b\b\b\b\b\b\b\b\b\b\b\b\b\b\b\b\b\b\b\b\b\b\b\b\b\b\b\b\b\b\b\b\r125/125 [==============================] - 35s 276ms/step - loss: 0.0956 - accuracy: 0.9687 - val_loss: 0.0958 - val_accuracy: 0.9685 - lr: 1.0000e-05\n",
            "Epoch 107/180\n",
            "125/125 [==============================] - ETA: 0s - loss: 0.0956 - accuracy: 0.9688\n",
            "Epoch 00107: val_accuracy did not improve from 0.96869\n"
          ],
          "name": "stdout"
        },
        {
          "output_type": "stream",
          "text": [
            "2020-05-13 07:35:06,565 INFO \n",
            " epoch:106, F1Macro: 0.93755\n"
          ],
          "name": "stderr"
        },
        {
          "output_type": "stream",
          "text": [
            "\b\b\b\b\b\b\b\b\b\b\b\b\b\b\b\b\b\b\b\b\b\b\b\b\b\b\b\b\b\b\b\b\b\b\b\b\b\b\b\b\b\b\b\b\b\b\b\b\b\b\b\b\b\b\b\b\b\b\b\b\b\b\b\b\b\b\b\b\b\b\b\b\b\b\b\b\b\b\b\b\b\b\b\b\r125/125 [==============================] - 34s 275ms/step - loss: 0.0956 - accuracy: 0.9688 - val_loss: 0.0956 - val_accuracy: 0.9687 - lr: 1.0000e-05\n",
            "Epoch 108/180\n",
            "125/125 [==============================] - ETA: 0s - loss: 0.0961 - accuracy: 0.9686\n",
            "Epoch 00108: val_accuracy did not improve from 0.96869\n"
          ],
          "name": "stdout"
        },
        {
          "output_type": "stream",
          "text": [
            "2020-05-13 07:35:41,346 INFO \n",
            " epoch:107, F1Macro: 0.93721\n"
          ],
          "name": "stderr"
        },
        {
          "output_type": "stream",
          "text": [
            "\b\b\b\b\b\b\b\b\b\b\b\b\b\b\b\b\b\b\b\b\b\b\b\b\b\b\b\b\b\b\b\b\b\b\b\b\b\b\b\b\b\b\b\b\b\b\b\b\b\b\b\b\b\b\b\b\b\b\b\b\b\b\b\b\b\b\b\b\b\b\b\b\b\b\b\b\b\b\b\b\b\b\b\b\r125/125 [==============================] - 35s 276ms/step - loss: 0.0961 - accuracy: 0.9686 - val_loss: 0.0959 - val_accuracy: 0.9685 - lr: 1.0000e-05\n",
            "Epoch 109/180\n",
            "125/125 [==============================] - ETA: 0s - loss: 0.0960 - accuracy: 0.9686\n",
            "Epoch 00109: val_accuracy did not improve from 0.96869\n"
          ],
          "name": "stdout"
        },
        {
          "output_type": "stream",
          "text": [
            "2020-05-13 07:36:16,138 INFO \n",
            " epoch:108, F1Macro: 0.93695\n"
          ],
          "name": "stderr"
        },
        {
          "output_type": "stream",
          "text": [
            "\b\b\b\b\b\b\b\b\b\b\b\b\b\b\b\b\b\b\b\b\b\b\b\b\b\b\b\b\b\b\b\b\b\b\b\b\b\b\b\b\b\b\b\b\b\b\b\b\b\b\b\b\b\b\b\b\b\b\b\b\b\b\b\b\b\b\b\b\b\b\b\b\b\b\b\b\b\b\b\b\b\b\b\b\r125/125 [==============================] - 35s 276ms/step - loss: 0.0960 - accuracy: 0.9686 - val_loss: 0.0959 - val_accuracy: 0.9684 - lr: 1.0000e-05\n",
            "Epoch 110/180\n",
            "125/125 [==============================] - ETA: 0s - loss: 0.0955 - accuracy: 0.9687\n",
            "Epoch 00110: val_accuracy did not improve from 0.96869\n"
          ],
          "name": "stdout"
        },
        {
          "output_type": "stream",
          "text": [
            "2020-05-13 07:36:51,123 INFO \n",
            " epoch:109, F1Macro: 0.93750\n"
          ],
          "name": "stderr"
        },
        {
          "output_type": "stream",
          "text": [
            "\b\b\b\b\b\b\b\b\b\b\b\b\b\b\b\b\b\b\b\b\b\b\b\b\b\b\b\b\b\b\b\b\b\b\b\b\b\b\b\b\b\b\b\b\b\b\b\b\b\b\b\b\b\b\b\b\b\b\b\b\b\b\b\b\b\b\b\b\b\b\b\b\b\b\b\b\b\b\b\b\b\b\b\b\r125/125 [==============================] - 35s 278ms/step - loss: 0.0955 - accuracy: 0.9687 - val_loss: 0.0955 - val_accuracy: 0.9686 - lr: 1.0000e-05\n",
            "Epoch 111/180\n",
            "125/125 [==============================] - ETA: 0s - loss: 0.0957 - accuracy: 0.9687\n",
            "Epoch 00111: val_accuracy did not improve from 0.96869\n"
          ],
          "name": "stdout"
        },
        {
          "output_type": "stream",
          "text": [
            "2020-05-13 07:37:26,018 INFO \n",
            " epoch:110, F1Macro: 0.93720\n"
          ],
          "name": "stderr"
        },
        {
          "output_type": "stream",
          "text": [
            "\b\b\b\b\b\b\b\b\b\b\b\b\b\b\b\b\b\b\b\b\b\b\b\b\b\b\b\b\b\b\b\b\b\b\b\b\b\b\b\b\b\b\b\b\b\b\b\b\b\b\b\b\b\b\b\b\b\b\b\b\b\b\b\b\b\b\b\b\b\b\b\b\b\b\b\b\b\b\b\b\b\b\b\b\r125/125 [==============================] - 35s 277ms/step - loss: 0.0957 - accuracy: 0.9687 - val_loss: 0.0957 - val_accuracy: 0.9685 - lr: 1.0000e-05\n",
            "Epoch 112/180\n",
            "125/125 [==============================] - ETA: 0s - loss: 0.0954 - accuracy: 0.9687\n",
            "Epoch 00112: val_accuracy did not improve from 0.96869\n"
          ],
          "name": "stdout"
        },
        {
          "output_type": "stream",
          "text": [
            "2020-05-13 07:38:00,969 INFO \n",
            " epoch:111, F1Macro: 0.93746\n"
          ],
          "name": "stderr"
        },
        {
          "output_type": "stream",
          "text": [
            "\b\b\b\b\b\b\b\b\b\b\b\b\b\b\b\b\b\b\b\b\b\b\b\b\b\b\b\b\b\b\b\b\b\b\b\b\b\b\b\b\b\b\b\b\b\b\b\b\b\b\b\b\b\b\b\b\b\b\b\b\b\b\b\b\b\b\b\b\b\b\b\b\b\b\b\b\b\b\b\b\b\b\b\b\r125/125 [==============================] - 35s 278ms/step - loss: 0.0954 - accuracy: 0.9687 - val_loss: 0.0954 - val_accuracy: 0.9686 - lr: 1.0000e-05\n",
            "Epoch 113/180\n",
            "125/125 [==============================] - ETA: 0s - loss: 0.0954 - accuracy: 0.9688\n",
            "Epoch 00113: val_accuracy did not improve from 0.96869\n"
          ],
          "name": "stdout"
        },
        {
          "output_type": "stream",
          "text": [
            "2020-05-13 07:38:35,904 INFO \n",
            " epoch:112, F1Macro: 0.93729\n"
          ],
          "name": "stderr"
        },
        {
          "output_type": "stream",
          "text": [
            "\b\b\b\b\b\b\b\b\b\b\b\b\b\b\b\b\b\b\b\b\b\b\b\b\b\b\b\b\b\b\b\b\b\b\b\b\b\b\b\b\b\b\b\b\b\b\b\b\b\b\b\b\b\b\b\b\b\b\b\b\b\b\b\b\b\b\b\b\b\b\b\b\b\b\b\b\b\b\b\b\b\b\b\b\r125/125 [==============================] - 35s 277ms/step - loss: 0.0954 - accuracy: 0.9688 - val_loss: 0.0956 - val_accuracy: 0.9686 - lr: 1.0000e-05\n",
            "Epoch 114/180\n",
            "125/125 [==============================] - ETA: 0s - loss: 0.0961 - accuracy: 0.9685\n",
            "Epoch 00114: val_accuracy did not improve from 0.96869\n"
          ],
          "name": "stdout"
        },
        {
          "output_type": "stream",
          "text": [
            "2020-05-13 07:39:10,837 INFO \n",
            " epoch:113, F1Macro: 0.93723\n"
          ],
          "name": "stderr"
        },
        {
          "output_type": "stream",
          "text": [
            "\b\b\b\b\b\b\b\b\b\b\b\b\b\b\b\b\b\b\b\b\b\b\b\b\b\b\b\b\b\b\b\b\b\b\b\b\b\b\b\b\b\b\b\b\b\b\b\b\b\b\b\b\b\b\b\b\b\b\b\b\b\b\b\b\b\b\b\b\b\b\b\b\b\b\b\b\b\b\b\b\b\b\b\b\r125/125 [==============================] - 35s 277ms/step - loss: 0.0961 - accuracy: 0.9685 - val_loss: 0.0957 - val_accuracy: 0.9685 - lr: 1.0000e-05\n",
            "Epoch 115/180\n",
            "125/125 [==============================] - ETA: 0s - loss: 0.0954 - accuracy: 0.9687\n",
            "Epoch 00115: val_accuracy did not improve from 0.96869\n"
          ],
          "name": "stdout"
        },
        {
          "output_type": "stream",
          "text": [
            "2020-05-13 07:39:45,610 INFO \n",
            " epoch:114, F1Macro: 0.93749\n"
          ],
          "name": "stderr"
        },
        {
          "output_type": "stream",
          "text": [
            "\b\b\b\b\b\b\b\b\b\b\b\b\b\b\b\b\b\b\b\b\b\b\b\b\b\b\b\b\b\b\b\b\b\b\b\b\b\b\b\b\b\b\b\b\b\b\b\b\b\b\b\b\b\b\b\b\b\b\b\b\b\b\b\b\b\b\b\b\b\b\b\b\b\b\b\b\b\b\b\b\b\b\b\b\r125/125 [==============================] - 35s 276ms/step - loss: 0.0954 - accuracy: 0.9687 - val_loss: 0.0953 - val_accuracy: 0.9687 - lr: 1.0000e-05\n",
            "Epoch 116/180\n",
            "125/125 [==============================] - ETA: 0s - loss: 0.0955 - accuracy: 0.9687\n",
            "Epoch 00116: val_accuracy did not improve from 0.96869\n"
          ],
          "name": "stdout"
        },
        {
          "output_type": "stream",
          "text": [
            "2020-05-13 07:40:20,510 INFO \n",
            " epoch:115, F1Macro: 0.93731\n"
          ],
          "name": "stderr"
        },
        {
          "output_type": "stream",
          "text": [
            "\b\b\b\b\b\b\b\b\b\b\b\b\b\b\b\b\b\b\b\b\b\b\b\b\b\b\b\b\b\b\b\b\b\b\b\b\b\b\b\b\b\b\b\b\b\b\b\b\b\b\b\b\b\b\b\b\b\b\b\b\b\b\b\b\b\b\b\b\b\b\b\b\b\b\b\b\b\b\b\b\b\b\b\b\r125/125 [==============================] - 35s 277ms/step - loss: 0.0955 - accuracy: 0.9687 - val_loss: 0.0953 - val_accuracy: 0.9686 - lr: 1.0000e-05\n",
            "Epoch 117/180\n",
            "125/125 [==============================] - ETA: 0s - loss: 0.0959 - accuracy: 0.9685\n",
            "Epoch 00117: val_accuracy did not improve from 0.96869\n"
          ],
          "name": "stdout"
        },
        {
          "output_type": "stream",
          "text": [
            "2020-05-13 07:40:55,331 INFO \n",
            " epoch:116, F1Macro: 0.93698\n"
          ],
          "name": "stderr"
        },
        {
          "output_type": "stream",
          "text": [
            "\b\b\b\b\b\b\b\b\b\b\b\b\b\b\b\b\b\b\b\b\b\b\b\b\b\b\b\b\b\b\b\b\b\b\b\b\b\b\b\b\b\b\b\b\b\b\b\b\b\b\b\b\b\b\b\b\b\b\b\b\b\b\b\b\b\b\b\b\b\b\b\b\b\b\b\b\b\b\b\b\b\b\b\b\r125/125 [==============================] - 35s 276ms/step - loss: 0.0959 - accuracy: 0.9685 - val_loss: 0.0959 - val_accuracy: 0.9684 - lr: 1.0000e-05\n",
            "Epoch 118/180\n",
            "125/125 [==============================] - ETA: 0s - loss: 0.0955 - accuracy: 0.9687\n",
            "Epoch 00118: val_accuracy did not improve from 0.96869\n"
          ],
          "name": "stdout"
        },
        {
          "output_type": "stream",
          "text": [
            "2020-05-13 07:41:30,154 INFO \n",
            " epoch:117, F1Macro: 0.93724\n"
          ],
          "name": "stderr"
        },
        {
          "output_type": "stream",
          "text": [
            "\b\b\b\b\b\b\b\b\b\b\b\b\b\b\b\b\b\b\b\b\b\b\b\b\b\b\b\b\b\b\b\b\b\b\b\b\b\b\b\b\b\b\b\b\b\b\b\b\b\b\b\b\b\b\b\b\b\b\b\b\b\b\b\b\b\b\b\b\b\b\b\b\b\b\b\b\b\b\b\b\b\b\b\b\r125/125 [==============================] - 35s 276ms/step - loss: 0.0955 - accuracy: 0.9687 - val_loss: 0.0956 - val_accuracy: 0.9685 - lr: 1.0000e-05\n",
            "Epoch 119/180\n",
            "125/125 [==============================] - ETA: 0s - loss: 0.0954 - accuracy: 0.9686\n",
            "Epoch 00119: val_accuracy did not improve from 0.96869\n"
          ],
          "name": "stdout"
        },
        {
          "output_type": "stream",
          "text": [
            "2020-05-13 07:42:04,925 INFO \n",
            " epoch:118, F1Macro: 0.93706\n"
          ],
          "name": "stderr"
        },
        {
          "output_type": "stream",
          "text": [
            "\b\b\b\b\b\b\b\b\b\b\b\b\b\b\b\b\b\b\b\b\b\b\b\b\b\b\b\b\b\b\b\b\b\b\b\b\b\b\b\b\b\b\b\b\b\b\b\b\b\b\b\b\b\b\b\b\b\b\b\b\b\b\b\b\b\b\b\b\b\b\b\b\b\b\b\b\b\b\b\b\b\b\b\b\r125/125 [==============================] - 35s 276ms/step - loss: 0.0954 - accuracy: 0.9686 - val_loss: 0.0955 - val_accuracy: 0.9684 - lr: 1.0000e-05\n",
            "Epoch 120/180\n",
            "125/125 [==============================] - ETA: 0s - loss: 0.0953 - accuracy: 0.9687\n",
            "Epoch 00120: val_accuracy did not improve from 0.96869\n"
          ],
          "name": "stdout"
        },
        {
          "output_type": "stream",
          "text": [
            "2020-05-13 07:42:39,613 INFO \n",
            " epoch:119, F1Macro: 0.93750\n"
          ],
          "name": "stderr"
        },
        {
          "output_type": "stream",
          "text": [
            "\b\b\b\b\b\b\b\b\b\b\b\b\b\b\b\b\b\b\b\b\b\b\b\b\b\b\b\b\b\b\b\b\b\b\b\b\b\b\b\b\b\b\b\b\b\b\b\b\b\b\b\b\b\b\b\b\b\b\b\b\b\b\b\b\b\b\b\b\b\b\b\b\b\b\b\b\b\b\b\b\b\b\b\b\r125/125 [==============================] - 34s 275ms/step - loss: 0.0953 - accuracy: 0.9687 - val_loss: 0.0953 - val_accuracy: 0.9686 - lr: 1.0000e-05\n",
            "Epoch 121/180\n",
            "125/125 [==============================] - ETA: 0s - loss: 0.0961 - accuracy: 0.9685\n",
            "Epoch 00121: val_accuracy did not improve from 0.96869\n"
          ],
          "name": "stdout"
        },
        {
          "output_type": "stream",
          "text": [
            "2020-05-13 07:43:14,269 INFO \n",
            " epoch:120, F1Macro: 0.93723\n"
          ],
          "name": "stderr"
        },
        {
          "output_type": "stream",
          "text": [
            "\b\b\b\b\b\b\b\b\b\b\b\b\b\b\b\b\b\b\b\b\b\b\b\b\b\b\b\b\b\b\b\b\b\b\b\b\b\b\b\b\b\b\b\b\b\b\b\b\b\b\b\b\b\b\b\b\b\b\b\b\b\b\b\b\b\b\b\b\b\b\b\b\b\b\b\b\b\b\b\b\b\b\b\b\r125/125 [==============================] - 34s 275ms/step - loss: 0.0961 - accuracy: 0.9685 - val_loss: 0.0955 - val_accuracy: 0.9685 - lr: 1.0000e-05\n",
            "Epoch 122/180\n",
            "125/125 [==============================] - ETA: 0s - loss: 0.0956 - accuracy: 0.9686\n",
            "Epoch 00122: val_accuracy did not improve from 0.96869\n"
          ],
          "name": "stdout"
        },
        {
          "output_type": "stream",
          "text": [
            "2020-05-13 07:43:49,007 INFO \n",
            " epoch:121, F1Macro: 0.93713\n"
          ],
          "name": "stderr"
        },
        {
          "output_type": "stream",
          "text": [
            "\b\b\b\b\b\b\b\b\b\b\b\b\b\b\b\b\b\b\b\b\b\b\b\b\b\b\b\b\b\b\b\b\b\b\b\b\b\b\b\b\b\b\b\b\b\b\b\b\b\b\b\b\b\b\b\b\b\b\b\b\b\b\b\b\b\b\b\b\b\b\b\b\b\b\b\b\b\b\b\b\b\b\b\b\r125/125 [==============================] - 34s 276ms/step - loss: 0.0956 - accuracy: 0.9686 - val_loss: 0.0955 - val_accuracy: 0.9685 - lr: 1.0000e-05\n",
            "Epoch 123/180\n",
            "125/125 [==============================] - ETA: 0s - loss: 0.0951 - accuracy: 0.9688\n",
            "Epoch 00123: val_accuracy did not improve from 0.96869\n"
          ],
          "name": "stdout"
        },
        {
          "output_type": "stream",
          "text": [
            "2020-05-13 07:44:23,738 INFO \n",
            " epoch:122, F1Macro: 0.93728\n"
          ],
          "name": "stderr"
        },
        {
          "output_type": "stream",
          "text": [
            "\b\b\b\b\b\b\b\b\b\b\b\b\b\b\b\b\b\b\b\b\b\b\b\b\b\b\b\b\b\b\b\b\b\b\b\b\b\b\b\b\b\b\b\b\b\b\b\b\b\b\b\b\b\b\b\b\b\b\b\b\b\b\b\b\b\b\b\b\b\b\b\b\b\b\b\b\b\b\b\b\b\b\b\b\r125/125 [==============================] - 34s 276ms/step - loss: 0.0951 - accuracy: 0.9688 - val_loss: 0.0953 - val_accuracy: 0.9686 - lr: 1.0000e-05\n",
            "Epoch 124/180\n",
            "125/125 [==============================] - ETA: 0s - loss: 0.0953 - accuracy: 0.9687\n",
            "Epoch 00124: val_accuracy did not improve from 0.96869\n"
          ],
          "name": "stdout"
        },
        {
          "output_type": "stream",
          "text": [
            "2020-05-13 07:44:58,523 INFO \n",
            " epoch:123, F1Macro: 0.93738\n"
          ],
          "name": "stderr"
        },
        {
          "output_type": "stream",
          "text": [
            "\b\b\b\b\b\b\b\b\b\b\b\b\b\b\b\b\b\b\b\b\b\b\b\b\b\b\b\b\b\b\b\b\b\b\b\b\b\b\b\b\b\b\b\b\b\b\b\b\b\b\b\b\b\b\b\b\b\b\b\b\b\b\b\b\b\b\b\b\b\b\b\b\b\b\b\b\b\b\b\b\b\b\b\b\r125/125 [==============================] - 35s 276ms/step - loss: 0.0953 - accuracy: 0.9687 - val_loss: 0.0952 - val_accuracy: 0.9686 - lr: 1.0000e-05\n",
            "Epoch 125/180\n",
            "125/125 [==============================] - ETA: 0s - loss: 0.0953 - accuracy: 0.9687\n",
            "Epoch 00125: val_accuracy did not improve from 0.96869\n"
          ],
          "name": "stdout"
        },
        {
          "output_type": "stream",
          "text": [
            "2020-05-13 07:45:33,333 INFO \n",
            " epoch:124, F1Macro: 0.93733\n"
          ],
          "name": "stderr"
        },
        {
          "output_type": "stream",
          "text": [
            "\b\b\b\b\b\b\b\b\b\b\b\b\b\b\b\b\b\b\b\b\b\b\b\b\b\b\b\b\b\b\b\b\b\b\b\b\b\b\b\b\b\b\b\b\b\b\b\b\b\b\b\b\b\b\b\b\b\b\b\b\b\b\b\b\b\b\b\b\b\b\b\b\b\b\b\b\b\b\b\b\b\b\b\b\r125/125 [==============================] - 35s 276ms/step - loss: 0.0953 - accuracy: 0.9687 - val_loss: 0.0952 - val_accuracy: 0.9685 - lr: 1.0000e-05\n",
            "Epoch 126/180\n",
            "125/125 [==============================] - ETA: 0s - loss: 0.0954 - accuracy: 0.9686\n",
            "Epoch 00126: val_accuracy did not improve from 0.96869\n"
          ],
          "name": "stdout"
        },
        {
          "output_type": "stream",
          "text": [
            "2020-05-13 07:46:08,123 INFO \n",
            " epoch:125, F1Macro: 0.93727\n"
          ],
          "name": "stderr"
        },
        {
          "output_type": "stream",
          "text": [
            "\b\b\b\b\b\b\b\b\b\b\b\b\b\b\b\b\b\b\b\b\b\b\b\b\b\b\b\b\b\b\b\b\b\b\b\b\b\b\b\b\b\b\b\b\b\b\b\b\b\b\b\b\b\b\b\b\b\b\b\b\b\b\b\b\b\b\b\b\b\b\b\b\b\b\b\b\b\b\b\b\b\b\b\b\r125/125 [==============================] - 35s 276ms/step - loss: 0.0954 - accuracy: 0.9686 - val_loss: 0.0952 - val_accuracy: 0.9685 - lr: 1.0000e-05\n",
            "Epoch 127/180\n",
            "125/125 [==============================] - ETA: 0s - loss: 0.0952 - accuracy: 0.9687\n",
            "Epoch 00127: val_accuracy did not improve from 0.96869\n"
          ],
          "name": "stdout"
        },
        {
          "output_type": "stream",
          "text": [
            "2020-05-13 07:46:42,891 INFO \n",
            " epoch:126, F1Macro: 0.93736\n"
          ],
          "name": "stderr"
        },
        {
          "output_type": "stream",
          "text": [
            "\b\b\b\b\b\b\b\b\b\b\b\b\b\b\b\b\b\b\b\b\b\b\b\b\b\b\b\b\b\b\b\b\b\b\b\b\b\b\b\b\b\b\b\b\b\b\b\b\b\b\b\b\b\b\b\b\b\b\b\b\b\b\b\b\b\b\b\b\b\b\b\b\b\b\b\b\b\b\b\b\b\b\b\b\r125/125 [==============================] - 35s 276ms/step - loss: 0.0952 - accuracy: 0.9687 - val_loss: 0.0951 - val_accuracy: 0.9686 - lr: 1.0000e-05\n",
            "Epoch 128/180\n",
            "125/125 [==============================] - ETA: 0s - loss: 0.0953 - accuracy: 0.9687\n",
            "Epoch 00128: val_accuracy did not improve from 0.96869\n"
          ],
          "name": "stdout"
        },
        {
          "output_type": "stream",
          "text": [
            "2020-05-13 07:47:17,703 INFO \n",
            " epoch:127, F1Macro: 0.93721\n"
          ],
          "name": "stderr"
        },
        {
          "output_type": "stream",
          "text": [
            "\b\b\b\b\b\b\b\b\b\b\b\b\b\b\b\b\b\b\b\b\b\b\b\b\b\b\b\b\b\b\b\b\b\b\b\b\b\b\b\b\b\b\b\b\b\b\b\b\b\b\b\b\b\b\b\b\b\b\b\b\b\b\b\b\b\b\b\b\b\b\b\b\b\b\b\b\b\b\b\b\b\b\b\b\r125/125 [==============================] - 35s 276ms/step - loss: 0.0953 - accuracy: 0.9687 - val_loss: 0.0955 - val_accuracy: 0.9685 - lr: 1.0000e-05\n",
            "Epoch 129/180\n",
            "125/125 [==============================] - ETA: 0s - loss: 0.0953 - accuracy: 0.9686\n",
            "Epoch 00129: val_accuracy did not improve from 0.96869\n"
          ],
          "name": "stdout"
        },
        {
          "output_type": "stream",
          "text": [
            "2020-05-13 07:47:52,322 INFO \n",
            " epoch:128, F1Macro: 0.93713\n"
          ],
          "name": "stderr"
        },
        {
          "output_type": "stream",
          "text": [
            "\b\b\b\b\b\b\b\b\b\b\b\b\b\b\b\b\b\b\b\b\b\b\b\b\b\b\b\b\b\b\b\b\b\b\b\b\b\b\b\b\b\b\b\b\b\b\b\b\b\b\b\b\b\b\b\b\b\b\b\b\b\b\b\b\b\b\b\b\b\b\b\b\b\b\b\b\b\b\b\b\b\b\b\b\r125/125 [==============================] - 34s 275ms/step - loss: 0.0953 - accuracy: 0.9686 - val_loss: 0.0954 - val_accuracy: 0.9685 - lr: 1.0000e-05\n",
            "Epoch 130/180\n",
            "125/125 [==============================] - ETA: 0s - loss: 0.0950 - accuracy: 0.9687\n",
            "Epoch 00130: val_accuracy did not improve from 0.96869\n"
          ],
          "name": "stdout"
        },
        {
          "output_type": "stream",
          "text": [
            "2020-05-13 07:48:26,950 INFO \n",
            " epoch:129, F1Macro: 0.93751\n"
          ],
          "name": "stderr"
        },
        {
          "output_type": "stream",
          "text": [
            "\b\b\b\b\b\b\b\b\b\b\b\b\b\b\b\b\b\b\b\b\b\b\b\b\b\b\b\b\b\b\b\b\b\b\b\b\b\b\b\b\b\b\b\b\b\b\b\b\b\b\b\b\b\b\b\b\b\b\b\b\b\b\b\b\b\b\b\b\b\b\b\b\b\b\b\b\b\b\b\b\b\b\b\b\r125/125 [==============================] - 34s 275ms/step - loss: 0.0950 - accuracy: 0.9687 - val_loss: 0.0949 - val_accuracy: 0.9687 - lr: 1.0000e-05\n",
            "Epoch 131/180\n",
            "125/125 [==============================] - ETA: 0s - loss: 0.0949 - accuracy: 0.9688\n",
            "Epoch 00131: val_accuracy did not improve from 0.96869\n"
          ],
          "name": "stdout"
        },
        {
          "output_type": "stream",
          "text": [
            "2020-05-13 07:49:01,675 INFO \n",
            " epoch:130, F1Macro: 0.93728\n"
          ],
          "name": "stderr"
        },
        {
          "output_type": "stream",
          "text": [
            "\b\b\b\b\b\b\b\b\b\b\b\b\b\b\b\b\b\b\b\b\b\b\b\b\b\b\b\b\b\b\b\b\b\b\b\b\b\b\b\b\b\b\b\b\b\b\b\b\b\b\b\b\b\b\b\b\b\b\b\b\b\b\b\b\b\b\b\b\b\b\b\b\b\b\b\b\b\b\b\b\b\b\b\b\r125/125 [==============================] - 34s 276ms/step - loss: 0.0949 - accuracy: 0.9688 - val_loss: 0.0951 - val_accuracy: 0.9686 - lr: 1.0000e-05\n",
            "Epoch 132/180\n",
            "125/125 [==============================] - ETA: 0s - loss: 0.0956 - accuracy: 0.9685\n",
            "Epoch 00132: val_accuracy did not improve from 0.96869\n"
          ],
          "name": "stdout"
        },
        {
          "output_type": "stream",
          "text": [
            "2020-05-13 07:49:36,335 INFO \n",
            " epoch:131, F1Macro: 0.93713\n"
          ],
          "name": "stderr"
        },
        {
          "output_type": "stream",
          "text": [
            "\b\b\b\b\b\b\b\b\b\b\b\b\b\b\b\b\b\b\b\b\b\b\b\b\b\b\b\b\b\b\b\b\b\b\b\b\b\b\b\b\b\b\b\b\b\b\b\b\b\b\b\b\b\b\b\b\b\b\b\b\b\b\b\b\b\b\b\b\b\b\b\b\b\b\b\b\b\b\b\b\b\b\b\b\r125/125 [==============================] - 34s 275ms/step - loss: 0.0956 - accuracy: 0.9685 - val_loss: 0.0953 - val_accuracy: 0.9684 - lr: 1.0000e-05\n",
            "Epoch 133/180\n",
            "125/125 [==============================] - ETA: 0s - loss: 0.0987 - accuracy: 0.9676\n",
            "Epoch 00133: val_accuracy did not improve from 0.96869\n"
          ],
          "name": "stdout"
        },
        {
          "output_type": "stream",
          "text": [
            "2020-05-13 07:50:10,990 INFO \n",
            " epoch:132, F1Macro: 0.93621\n"
          ],
          "name": "stderr"
        },
        {
          "output_type": "stream",
          "text": [
            "\b\b\b\b\b\b\b\b\b\b\b\b\b\b\b\b\b\b\b\b\b\b\b\b\b\b\b\b\b\b\b\b\b\b\b\b\b\b\b\b\b\b\b\b\b\b\b\b\b\b\b\b\b\b\b\b\b\b\b\b\b\b\b\b\b\b\b\b\b\b\b\b\b\b\b\b\b\b\b\b\b\b\b\b\r125/125 [==============================] - 34s 275ms/step - loss: 0.0987 - accuracy: 0.9676 - val_loss: 0.0958 - val_accuracy: 0.9682 - lr: 1.0000e-05\n",
            "Epoch 134/180\n",
            "125/125 [==============================] - ETA: 0s - loss: 0.0949 - accuracy: 0.9687\n",
            "Epoch 00134: val_accuracy did not improve from 0.96869\n"
          ],
          "name": "stdout"
        },
        {
          "output_type": "stream",
          "text": [
            "2020-05-13 07:50:45,634 INFO \n",
            " epoch:133, F1Macro: 0.93735\n"
          ],
          "name": "stderr"
        },
        {
          "output_type": "stream",
          "text": [
            "\b\b\b\b\b\b\b\b\b\b\b\b\b\b\b\b\b\b\b\b\b\b\b\b\b\b\b\b\b\b\b\b\b\b\b\b\b\b\b\b\b\b\b\b\b\b\b\b\b\b\b\b\b\b\b\b\b\b\b\b\b\b\b\b\b\b\b\b\b\b\b\b\b\b\b\b\b\b\b\b\b\b\b\b\r125/125 [==============================] - 34s 275ms/step - loss: 0.0949 - accuracy: 0.9687 - val_loss: 0.0950 - val_accuracy: 0.9686 - lr: 1.0000e-05\n",
            "Epoch 135/180\n",
            "125/125 [==============================] - ETA: 0s - loss: 0.0948 - accuracy: 0.9688\n",
            "Epoch 00135: val_accuracy did not improve from 0.96869\n"
          ],
          "name": "stdout"
        },
        {
          "output_type": "stream",
          "text": [
            "2020-05-13 07:51:20,325 INFO \n",
            " epoch:134, F1Macro: 0.93718\n"
          ],
          "name": "stderr"
        },
        {
          "output_type": "stream",
          "text": [
            "\b\b\b\b\b\b\b\b\b\b\b\b\b\b\b\b\b\b\b\b\b\b\b\b\b\b\b\b\b\b\b\b\b\b\b\b\b\b\b\b\b\b\b\b\b\b\b\b\b\b\b\b\b\b\b\b\b\b\b\b\b\b\b\b\b\b\b\b\b\b\b\b\b\b\b\b\b\b\b\b\b\b\b\b\r125/125 [==============================] - 34s 275ms/step - loss: 0.0948 - accuracy: 0.9688 - val_loss: 0.0951 - val_accuracy: 0.9685 - lr: 1.0000e-05\n",
            "Epoch 136/180\n",
            "125/125 [==============================] - ETA: 0s - loss: 0.0949 - accuracy: 0.9687\n",
            "Epoch 00136: val_accuracy did not improve from 0.96869\n"
          ],
          "name": "stdout"
        },
        {
          "output_type": "stream",
          "text": [
            "2020-05-13 07:51:55,057 INFO \n",
            " epoch:135, F1Macro: 0.93715\n"
          ],
          "name": "stderr"
        },
        {
          "output_type": "stream",
          "text": [
            "\b\b\b\b\b\b\b\b\b\b\b\b\b\b\b\b\b\b\b\b\b\b\b\b\b\b\b\b\b\b\b\b\b\b\b\b\b\b\b\b\b\b\b\b\b\b\b\b\b\b\b\b\b\b\b\b\b\b\b\b\b\b\b\b\b\b\b\b\b\b\b\b\b\b\b\b\b\b\b\b\b\b\b\b\r125/125 [==============================] - 34s 276ms/step - loss: 0.0949 - accuracy: 0.9687 - val_loss: 0.0951 - val_accuracy: 0.9685 - lr: 1.0000e-05\n",
            "Epoch 137/180\n",
            "125/125 [==============================] - ETA: 0s - loss: 0.0945 - accuracy: 0.9688\n",
            "Epoch 00137: val_accuracy did not improve from 0.96869\n"
          ],
          "name": "stdout"
        },
        {
          "output_type": "stream",
          "text": [
            "2020-05-13 07:52:29,695 INFO \n",
            " epoch:136, F1Macro: 0.93734\n"
          ],
          "name": "stderr"
        },
        {
          "output_type": "stream",
          "text": [
            "\b\b\b\b\b\b\b\b\b\b\b\b\b\b\b\b\b\b\b\b\b\b\b\b\b\b\b\b\b\b\b\b\b\b\b\b\b\b\b\b\b\b\b\b\b\b\b\b\b\b\b\b\b\b\b\b\b\b\b\b\b\b\b\b\b\b\b\b\b\b\b\b\b\b\b\b\b\b\b\b\b\b\b\b\r125/125 [==============================] - 34s 275ms/step - loss: 0.0945 - accuracy: 0.9688 - val_loss: 0.0949 - val_accuracy: 0.9686 - lr: 1.0000e-05\n",
            "Epoch 138/180\n",
            "125/125 [==============================] - ETA: 0s - loss: 0.0949 - accuracy: 0.9687\n",
            "Epoch 00138: val_accuracy did not improve from 0.96869\n"
          ],
          "name": "stdout"
        },
        {
          "output_type": "stream",
          "text": [
            "2020-05-13 07:53:04,348 INFO \n",
            " epoch:137, F1Macro: 0.93749\n"
          ],
          "name": "stderr"
        },
        {
          "output_type": "stream",
          "text": [
            "\b\b\b\b\b\b\b\b\b\b\b\b\b\b\b\b\b\b\b\b\b\b\b\b\b\b\b\b\b\b\b\b\b\b\b\b\b\b\b\b\b\b\b\b\b\b\b\b\b\b\b\b\b\b\b\b\b\b\b\b\b\b\b\b\b\b\b\b\b\b\b\b\b\b\b\b\b\b\b\b\b\b\b\b\r125/125 [==============================] - 34s 275ms/step - loss: 0.0949 - accuracy: 0.9687 - val_loss: 0.0948 - val_accuracy: 0.9686 - lr: 1.0000e-05\n",
            "Epoch 139/180\n",
            "125/125 [==============================] - ETA: 0s - loss: 0.0947 - accuracy: 0.9687\n",
            "Epoch 00139: val_accuracy did not improve from 0.96869\n"
          ],
          "name": "stdout"
        },
        {
          "output_type": "stream",
          "text": [
            "2020-05-13 07:53:39,015 INFO \n",
            " epoch:138, F1Macro: 0.93749\n"
          ],
          "name": "stderr"
        },
        {
          "output_type": "stream",
          "text": [
            "\b\b\b\b\b\b\b\b\b\b\b\b\b\b\b\b\b\b\b\b\b\b\b\b\b\b\b\b\b\b\b\b\b\b\b\b\b\b\b\b\b\b\b\b\b\b\b\b\b\b\b\b\b\b\b\b\b\b\b\b\b\b\b\b\b\b\b\b\b\b\b\b\b\b\b\b\b\b\b\b\b\b\b\b\r125/125 [==============================] - 34s 275ms/step - loss: 0.0947 - accuracy: 0.9687 - val_loss: 0.0948 - val_accuracy: 0.9686 - lr: 1.0000e-05\n",
            "Epoch 140/180\n",
            "125/125 [==============================] - ETA: 0s - loss: 0.0949 - accuracy: 0.9686\n",
            "Epoch 00140: val_accuracy did not improve from 0.96869\n"
          ],
          "name": "stdout"
        },
        {
          "output_type": "stream",
          "text": [
            "2020-05-13 07:54:13,656 INFO \n",
            " epoch:139, F1Macro: 0.93722\n"
          ],
          "name": "stderr"
        },
        {
          "output_type": "stream",
          "text": [
            "\b\b\b\b\b\b\b\b\b\b\b\b\b\b\b\b\b\b\b\b\b\b\b\b\b\b\b\b\b\b\b\b\b\b\b\b\b\b\b\b\b\b\b\b\b\b\b\b\b\b\b\b\b\b\b\b\b\b\b\b\b\b\b\b\b\b\b\b\b\b\b\b\b\b\b\b\b\b\b\b\b\b\b\b\r125/125 [==============================] - 34s 275ms/step - loss: 0.0949 - accuracy: 0.9686 - val_loss: 0.0951 - val_accuracy: 0.9685 - lr: 1.0000e-05\n",
            "Epoch 141/180\n",
            "125/125 [==============================] - ETA: 0s - loss: 0.0947 - accuracy: 0.9688\n",
            "Epoch 00141: val_accuracy did not improve from 0.96869\n"
          ],
          "name": "stdout"
        },
        {
          "output_type": "stream",
          "text": [
            "2020-05-13 07:54:48,260 INFO \n",
            " epoch:140, F1Macro: 0.93718\n"
          ],
          "name": "stderr"
        },
        {
          "output_type": "stream",
          "text": [
            "\b\b\b\b\b\b\b\b\b\b\b\b\b\b\b\b\b\b\b\b\b\b\b\b\b\b\b\b\b\b\b\b\b\b\b\b\b\b\b\b\b\b\b\b\b\b\b\b\b\b\b\b\b\b\b\b\b\b\b\b\b\b\b\b\b\b\b\b\b\b\b\b\b\b\b\b\b\b\b\b\b\b\b\b\r125/125 [==============================] - 34s 275ms/step - loss: 0.0947 - accuracy: 0.9688 - val_loss: 0.0949 - val_accuracy: 0.9685 - lr: 1.0000e-05\n",
            "Epoch 142/180\n",
            "125/125 [==============================] - ETA: 0s - loss: 0.0947 - accuracy: 0.9688\n",
            "Epoch 00142: val_accuracy did not improve from 0.96869\n"
          ],
          "name": "stdout"
        },
        {
          "output_type": "stream",
          "text": [
            "2020-05-13 07:55:22,993 INFO \n",
            " epoch:141, F1Macro: 0.93746\n"
          ],
          "name": "stderr"
        },
        {
          "output_type": "stream",
          "text": [
            "\b\b\b\b\b\b\b\b\b\b\b\b\b\b\b\b\b\b\b\b\b\b\b\b\b\b\b\b\b\b\b\b\b\b\b\b\b\b\b\b\b\b\b\b\b\b\b\b\b\b\b\b\b\b\b\b\b\b\b\b\b\b\b\b\b\b\b\b\b\b\b\b\b\b\b\b\b\b\b\b\b\b\b\b\r125/125 [==============================] - 34s 276ms/step - loss: 0.0947 - accuracy: 0.9688 - val_loss: 0.0949 - val_accuracy: 0.9686 - lr: 1.0000e-05\n",
            "Epoch 143/180\n",
            "125/125 [==============================] - ETA: 0s - loss: 0.0953 - accuracy: 0.9685\n",
            "Epoch 00143: val_accuracy did not improve from 0.96869\n"
          ],
          "name": "stdout"
        },
        {
          "output_type": "stream",
          "text": [
            "2020-05-13 07:55:57,657 INFO \n",
            " epoch:142, F1Macro: 0.93737\n"
          ],
          "name": "stderr"
        },
        {
          "output_type": "stream",
          "text": [
            "\b\b\b\b\b\b\b\b\b\b\b\b\b\b\b\b\b\b\b\b\b\b\b\b\b\b\b\b\b\b\b\b\b\b\b\b\b\b\b\b\b\b\b\b\b\b\b\b\b\b\b\b\b\b\b\b\b\b\b\b\b\b\b\b\b\b\b\b\b\b\b\b\b\b\b\b\b\b\b\b\b\b\b\b\r125/125 [==============================] - 34s 275ms/step - loss: 0.0953 - accuracy: 0.9685 - val_loss: 0.0949 - val_accuracy: 0.9685 - lr: 1.0000e-05\n",
            "Epoch 144/180\n",
            "125/125 [==============================] - ETA: 0s - loss: 0.0947 - accuracy: 0.9688\n",
            "Epoch 00144: val_accuracy did not improve from 0.96869\n"
          ],
          "name": "stdout"
        },
        {
          "output_type": "stream",
          "text": [
            "2020-05-13 07:56:32,303 INFO \n",
            " epoch:143, F1Macro: 0.93706\n"
          ],
          "name": "stderr"
        },
        {
          "output_type": "stream",
          "text": [
            "\b\b\b\b\b\b\b\b\b\b\b\b\b\b\b\b\b\b\b\b\b\b\b\b\b\b\b\b\b\b\b\b\b\b\b\b\b\b\b\b\b\b\b\b\b\b\b\b\b\b\b\b\b\b\b\b\b\b\b\b\b\b\b\b\b\b\b\b\b\b\b\b\b\b\b\b\b\b\b\b\b\b\b\b\r125/125 [==============================] - 34s 275ms/step - loss: 0.0947 - accuracy: 0.9688 - val_loss: 0.0949 - val_accuracy: 0.9685 - lr: 1.0000e-05\n",
            "Epoch 145/180\n",
            "125/125 [==============================] - ETA: 0s - loss: 0.0947 - accuracy: 0.9688\n",
            "Epoch 00145: val_accuracy did not improve from 0.96869\n"
          ],
          "name": "stdout"
        },
        {
          "output_type": "stream",
          "text": [
            "2020-05-13 07:57:06,993 INFO \n",
            " epoch:144, F1Macro: 0.93726\n"
          ],
          "name": "stderr"
        },
        {
          "output_type": "stream",
          "text": [
            "\b\b\b\b\b\b\b\b\b\b\b\b\b\b\b\b\b\b\b\b\b\b\b\b\b\b\b\b\b\b\b\b\b\b\b\b\b\b\b\b\b\b\b\b\b\b\b\b\b\b\b\b\b\b\b\b\b\b\b\b\b\b\b\b\b\b\b\b\b\b\b\b\b\b\b\b\b\b\b\b\b\b\b\b\r125/125 [==============================] - 34s 275ms/step - loss: 0.0947 - accuracy: 0.9688 - val_loss: 0.0948 - val_accuracy: 0.9686 - lr: 1.0000e-05\n",
            "Epoch 146/180\n",
            "125/125 [==============================] - ETA: 0s - loss: 0.0943 - accuracy: 0.9688\n",
            "Epoch 00146: val_accuracy did not improve from 0.96869\n"
          ],
          "name": "stdout"
        },
        {
          "output_type": "stream",
          "text": [
            "2020-05-13 07:57:41,687 INFO \n",
            " epoch:145, F1Macro: 0.93741\n"
          ],
          "name": "stderr"
        },
        {
          "output_type": "stream",
          "text": [
            "\b\b\b\b\b\b\b\b\b\b\b\b\b\b\b\b\b\b\b\b\b\b\b\b\b\b\b\b\b\b\b\b\b\b\b\b\b\b\b\b\b\b\b\b\b\b\b\b\b\b\b\b\b\b\b\b\b\b\b\b\b\b\b\b\b\b\b\b\b\b\b\b\b\b\b\b\b\b\b\b\b\b\b\b\r125/125 [==============================] - 34s 275ms/step - loss: 0.0943 - accuracy: 0.9688 - val_loss: 0.0946 - val_accuracy: 0.9686 - lr: 1.0000e-05\n",
            "Epoch 147/180\n",
            "125/125 [==============================] - ETA: 0s - loss: 0.0947 - accuracy: 0.9687\n",
            "Epoch 00147: val_accuracy did not improve from 0.96869\n"
          ],
          "name": "stdout"
        },
        {
          "output_type": "stream",
          "text": [
            "2020-05-13 07:58:16,239 INFO \n",
            " epoch:146, F1Macro: 0.93746\n"
          ],
          "name": "stderr"
        },
        {
          "output_type": "stream",
          "text": [
            "\b\b\b\b\b\b\b\b\b\b\b\b\b\b\b\b\b\b\b\b\b\b\b\b\b\b\b\b\b\b\b\b\b\b\b\b\b\b\b\b\b\b\b\b\b\b\b\b\b\b\b\b\b\b\b\b\b\b\b\b\b\b\b\b\b\b\b\b\b\b\b\b\b\b\b\b\b\b\b\b\b\b\b\b\r125/125 [==============================] - 34s 274ms/step - loss: 0.0947 - accuracy: 0.9687 - val_loss: 0.0947 - val_accuracy: 0.9686 - lr: 1.0000e-05\n",
            "Epoch 148/180\n",
            "125/125 [==============================] - ETA: 0s - loss: 0.0948 - accuracy: 0.9687\n",
            "Epoch 00148: val_accuracy did not improve from 0.96869\n"
          ],
          "name": "stdout"
        },
        {
          "output_type": "stream",
          "text": [
            "2020-05-13 07:58:50,906 INFO \n",
            " epoch:147, F1Macro: 0.93692\n"
          ],
          "name": "stderr"
        },
        {
          "output_type": "stream",
          "text": [
            "\b\b\b\b\b\b\b\b\b\b\b\b\b\b\b\b\b\b\b\b\b\b\b\b\b\b\b\b\b\b\b\b\b\b\b\b\b\b\b\b\b\b\b\b\b\b\b\b\b\b\b\b\b\b\b\b\b\b\b\b\b\b\b\b\b\b\b\b\b\b\b\b\b\b\b\b\b\b\b\b\b\b\b\b\r125/125 [==============================] - 34s 275ms/step - loss: 0.0948 - accuracy: 0.9687 - val_loss: 0.0949 - val_accuracy: 0.9685 - lr: 1.0000e-05\n",
            "Epoch 149/180\n",
            "125/125 [==============================] - ETA: 0s - loss: 0.0943 - accuracy: 0.9688\n",
            "Epoch 00149: val_accuracy did not improve from 0.96869\n"
          ],
          "name": "stdout"
        },
        {
          "output_type": "stream",
          "text": [
            "2020-05-13 07:59:25,621 INFO \n",
            " epoch:148, F1Macro: 0.93736\n"
          ],
          "name": "stderr"
        },
        {
          "output_type": "stream",
          "text": [
            "\b\b\b\b\b\b\b\b\b\b\b\b\b\b\b\b\b\b\b\b\b\b\b\b\b\b\b\b\b\b\b\b\b\b\b\b\b\b\b\b\b\b\b\b\b\b\b\b\b\b\b\b\b\b\b\b\b\b\b\b\b\b\b\b\b\b\b\b\b\b\b\b\b\b\b\b\b\b\b\b\b\b\b\b\r125/125 [==============================] - 34s 276ms/step - loss: 0.0943 - accuracy: 0.9688 - val_loss: 0.0946 - val_accuracy: 0.9686 - lr: 1.0000e-05\n",
            "Epoch 150/180\n",
            "125/125 [==============================] - ETA: 0s - loss: 0.0942 - accuracy: 0.9688\n",
            "Epoch 00150: val_accuracy did not improve from 0.96869\n"
          ],
          "name": "stdout"
        },
        {
          "output_type": "stream",
          "text": [
            "2020-05-13 08:00:00,303 INFO \n",
            " epoch:149, F1Macro: 0.93716\n"
          ],
          "name": "stderr"
        },
        {
          "output_type": "stream",
          "text": [
            "\b\b\b\b\b\b\b\b\b\b\b\b\b\b\b\b\b\b\b\b\b\b\b\b\b\b\b\b\b\b\b\b\b\b\b\b\b\b\b\b\b\b\b\b\b\b\b\b\b\b\b\b\b\b\b\b\b\b\b\b\b\b\b\b\b\b\b\b\b\b\b\b\b\b\b\b\b\b\b\b\b\b\b\b\r125/125 [==============================] - 34s 275ms/step - loss: 0.0942 - accuracy: 0.9688 - val_loss: 0.0948 - val_accuracy: 0.9685 - lr: 1.0000e-05\n",
            "Epoch 151/180\n",
            "125/125 [==============================] - ETA: 0s - loss: 0.0945 - accuracy: 0.9687\n",
            "Epoch 00151: val_accuracy did not improve from 0.96869\n"
          ],
          "name": "stdout"
        },
        {
          "output_type": "stream",
          "text": [
            "2020-05-13 08:00:34,970 INFO \n",
            " epoch:150, F1Macro: 0.93736\n"
          ],
          "name": "stderr"
        },
        {
          "output_type": "stream",
          "text": [
            "\b\b\b\b\b\b\b\b\b\b\b\b\b\b\b\b\b\b\b\b\b\b\b\b\b\b\b\b\b\b\b\b\b\b\b\b\b\b\b\b\b\b\b\b\b\b\b\b\b\b\b\b\b\b\b\b\b\b\b\b\b\b\b\b\b\b\b\b\b\b\b\b\b\b\b\b\b\b\b\b\b\b\b\b\r125/125 [==============================] - 34s 275ms/step - loss: 0.0945 - accuracy: 0.9687 - val_loss: 0.0946 - val_accuracy: 0.9686 - lr: 1.0000e-06\n",
            "Epoch 152/180\n",
            "125/125 [==============================] - ETA: 0s - loss: 0.0943 - accuracy: 0.9688\n",
            "Epoch 00152: val_accuracy did not improve from 0.96869\n"
          ],
          "name": "stdout"
        },
        {
          "output_type": "stream",
          "text": [
            "2020-05-13 08:01:09,623 INFO \n",
            " epoch:151, F1Macro: 0.93732\n"
          ],
          "name": "stderr"
        },
        {
          "output_type": "stream",
          "text": [
            "\b\b\b\b\b\b\b\b\b\b\b\b\b\b\b\b\b\b\b\b\b\b\b\b\b\b\b\b\b\b\b\b\b\b\b\b\b\b\b\b\b\b\b\b\b\b\b\b\b\b\b\b\b\b\b\b\b\b\b\b\b\b\b\b\b\b\b\b\b\b\b\b\b\b\b\b\b\b\b\b\b\b\b\b\r125/125 [==============================] - 34s 275ms/step - loss: 0.0943 - accuracy: 0.9688 - val_loss: 0.0946 - val_accuracy: 0.9686 - lr: 1.0000e-06\n",
            "Epoch 153/180\n",
            "125/125 [==============================] - ETA: 0s - loss: 0.0945 - accuracy: 0.9687\n",
            "Epoch 00153: val_accuracy did not improve from 0.96869\n"
          ],
          "name": "stdout"
        },
        {
          "output_type": "stream",
          "text": [
            "2020-05-13 08:01:44,308 INFO \n",
            " epoch:152, F1Macro: 0.93719\n"
          ],
          "name": "stderr"
        },
        {
          "output_type": "stream",
          "text": [
            "\b\b\b\b\b\b\b\b\b\b\b\b\b\b\b\b\b\b\b\b\b\b\b\b\b\b\b\b\b\b\b\b\b\b\b\b\b\b\b\b\b\b\b\b\b\b\b\b\b\b\b\b\b\b\b\b\b\b\b\b\b\b\b\b\b\b\b\b\b\b\b\b\b\b\b\b\b\b\b\b\b\b\b\b\r125/125 [==============================] - 34s 275ms/step - loss: 0.0945 - accuracy: 0.9687 - val_loss: 0.0946 - val_accuracy: 0.9685 - lr: 1.0000e-06\n",
            "Epoch 154/180\n",
            "125/125 [==============================] - ETA: 0s - loss: 0.0945 - accuracy: 0.9688\n",
            "Epoch 00154: val_accuracy did not improve from 0.96869\n"
          ],
          "name": "stdout"
        },
        {
          "output_type": "stream",
          "text": [
            "2020-05-13 08:02:19,172 INFO \n",
            " epoch:153, F1Macro: 0.93725\n"
          ],
          "name": "stderr"
        },
        {
          "output_type": "stream",
          "text": [
            "\b\b\b\b\b\b\b\b\b\b\b\b\b\b\b\b\b\b\b\b\b\b\b\b\b\b\b\b\b\b\b\b\b\b\b\b\b\b\b\b\b\b\b\b\b\b\b\b\b\b\b\b\b\b\b\b\b\b\b\b\b\b\b\b\b\b\b\b\b\b\b\b\b\b\b\b\b\b\b\b\b\b\b\b\r125/125 [==============================] - 35s 277ms/step - loss: 0.0945 - accuracy: 0.9688 - val_loss: 0.0945 - val_accuracy: 0.9686 - lr: 1.0000e-06\n",
            "Epoch 155/180\n",
            "125/125 [==============================] - ETA: 0s - loss: 0.0943 - accuracy: 0.9688\n",
            "Epoch 00155: val_accuracy did not improve from 0.96869\n"
          ],
          "name": "stdout"
        },
        {
          "output_type": "stream",
          "text": [
            "2020-05-13 08:02:53,884 INFO \n",
            " epoch:154, F1Macro: 0.93735\n"
          ],
          "name": "stderr"
        },
        {
          "output_type": "stream",
          "text": [
            "\b\b\b\b\b\b\b\b\b\b\b\b\b\b\b\b\b\b\b\b\b\b\b\b\b\b\b\b\b\b\b\b\b\b\b\b\b\b\b\b\b\b\b\b\b\b\b\b\b\b\b\b\b\b\b\b\b\b\b\b\b\b\b\b\b\b\b\b\b\b\b\b\b\b\b\b\b\b\b\b\b\b\b\b\r125/125 [==============================] - 34s 276ms/step - loss: 0.0943 - accuracy: 0.9688 - val_loss: 0.0946 - val_accuracy: 0.9686 - lr: 1.0000e-06\n",
            "Epoch 156/180\n",
            "125/125 [==============================] - ETA: 0s - loss: 0.0951 - accuracy: 0.9686\n",
            "Epoch 00156: val_accuracy did not improve from 0.96869\n"
          ],
          "name": "stdout"
        },
        {
          "output_type": "stream",
          "text": [
            "2020-05-13 08:03:28,511 INFO \n",
            " epoch:155, F1Macro: 0.93705\n"
          ],
          "name": "stderr"
        },
        {
          "output_type": "stream",
          "text": [
            "\b\b\b\b\b\b\b\b\b\b\b\b\b\b\b\b\b\b\b\b\b\b\b\b\b\b\b\b\b\b\b\b\b\b\b\b\b\b\b\b\b\b\b\b\b\b\b\b\b\b\b\b\b\b\b\b\b\b\b\b\b\b\b\b\b\b\b\b\b\b\b\b\b\b\b\b\b\b\b\b\b\b\b\b\r125/125 [==============================] - 34s 275ms/step - loss: 0.0951 - accuracy: 0.9686 - val_loss: 0.0949 - val_accuracy: 0.9685 - lr: 1.0000e-06\n",
            "Epoch 157/180\n",
            "125/125 [==============================] - ETA: 0s - loss: 0.0941 - accuracy: 0.9689\n",
            "Epoch 00157: val_accuracy did not improve from 0.96869\n"
          ],
          "name": "stdout"
        },
        {
          "output_type": "stream",
          "text": [
            "2020-05-13 08:04:03,149 INFO \n",
            " epoch:156, F1Macro: 0.93728\n"
          ],
          "name": "stderr"
        },
        {
          "output_type": "stream",
          "text": [
            "\b\b\b\b\b\b\b\b\b\b\b\b\b\b\b\b\b\b\b\b\b\b\b\b\b\b\b\b\b\b\b\b\b\b\b\b\b\b\b\b\b\b\b\b\b\b\b\b\b\b\b\b\b\b\b\b\b\b\b\b\b\b\b\b\b\b\b\b\b\b\b\b\b\b\b\b\b\b\b\b\b\b\b\b\r125/125 [==============================] - 34s 275ms/step - loss: 0.0941 - accuracy: 0.9689 - val_loss: 0.0946 - val_accuracy: 0.9686 - lr: 1.0000e-06\n",
            "Epoch 158/180\n",
            "125/125 [==============================] - ETA: 0s - loss: 0.0945 - accuracy: 0.9687\n",
            "Epoch 00158: val_accuracy did not improve from 0.96869\n"
          ],
          "name": "stdout"
        },
        {
          "output_type": "stream",
          "text": [
            "2020-05-13 08:04:37,778 INFO \n",
            " epoch:157, F1Macro: 0.93724\n"
          ],
          "name": "stderr"
        },
        {
          "output_type": "stream",
          "text": [
            "\b\b\b\b\b\b\b\b\b\b\b\b\b\b\b\b\b\b\b\b\b\b\b\b\b\b\b\b\b\b\b\b\b\b\b\b\b\b\b\b\b\b\b\b\b\b\b\b\b\b\b\b\b\b\b\b\b\b\b\b\b\b\b\b\b\b\b\b\b\b\b\b\b\b\b\b\b\b\b\b\b\b\b\b\r125/125 [==============================] - 34s 275ms/step - loss: 0.0945 - accuracy: 0.9687 - val_loss: 0.0946 - val_accuracy: 0.9685 - lr: 1.0000e-06\n",
            "Epoch 159/180\n",
            "125/125 [==============================] - ETA: 0s - loss: 0.0943 - accuracy: 0.9688\n",
            "Epoch 00159: val_accuracy did not improve from 0.96869\n"
          ],
          "name": "stdout"
        },
        {
          "output_type": "stream",
          "text": [
            "2020-05-13 08:05:12,400 INFO \n",
            " epoch:158, F1Macro: 0.93742\n"
          ],
          "name": "stderr"
        },
        {
          "output_type": "stream",
          "text": [
            "\b\b\b\b\b\b\b\b\b\b\b\b\b\b\b\b\b\b\b\b\b\b\b\b\b\b\b\b\b\b\b\b\b\b\b\b\b\b\b\b\b\b\b\b\b\b\b\b\b\b\b\b\b\b\b\b\b\b\b\b\b\b\b\b\b\b\b\b\b\b\b\b\b\b\b\b\b\b\b\b\b\b\b\b\r125/125 [==============================] - 34s 275ms/step - loss: 0.0943 - accuracy: 0.9688 - val_loss: 0.0945 - val_accuracy: 0.9686 - lr: 1.0000e-06\n",
            "Epoch 160/180\n",
            "125/125 [==============================] - ETA: 0s - loss: 0.0943 - accuracy: 0.9688\n",
            "Epoch 00160: val_accuracy did not improve from 0.96869\n"
          ],
          "name": "stdout"
        },
        {
          "output_type": "stream",
          "text": [
            "2020-05-13 08:05:47,043 INFO \n",
            " epoch:159, F1Macro: 0.93734\n"
          ],
          "name": "stderr"
        },
        {
          "output_type": "stream",
          "text": [
            "\b\b\b\b\b\b\b\b\b\b\b\b\b\b\b\b\b\b\b\b\b\b\b\b\b\b\b\b\b\b\b\b\b\b\b\b\b\b\b\b\b\b\b\b\b\b\b\b\b\b\b\b\b\b\b\b\b\b\b\b\b\b\b\b\b\b\b\b\b\b\b\b\b\b\b\b\b\b\b\b\b\b\b\b\r125/125 [==============================] - 34s 275ms/step - loss: 0.0943 - accuracy: 0.9688 - val_loss: 0.0946 - val_accuracy: 0.9686 - lr: 1.0000e-06\n",
            "Epoch 161/180\n",
            "125/125 [==============================] - ETA: 0s - loss: 0.0946 - accuracy: 0.9687\n",
            "Epoch 00161: val_accuracy did not improve from 0.96869\n"
          ],
          "name": "stdout"
        },
        {
          "output_type": "stream",
          "text": [
            "2020-05-13 08:06:21,660 INFO \n",
            " epoch:160, F1Macro: 0.93721\n"
          ],
          "name": "stderr"
        },
        {
          "output_type": "stream",
          "text": [
            "\b\b\b\b\b\b\b\b\b\b\b\b\b\b\b\b\b\b\b\b\b\b\b\b\b\b\b\b\b\b\b\b\b\b\b\b\b\b\b\b\b\b\b\b\b\b\b\b\b\b\b\b\b\b\b\b\b\b\b\b\b\b\b\b\b\b\b\b\b\b\b\b\b\b\b\b\b\b\b\b\b\b\b\b\r125/125 [==============================] - 34s 275ms/step - loss: 0.0946 - accuracy: 0.9687 - val_loss: 0.0947 - val_accuracy: 0.9686 - lr: 1.0000e-06\n",
            "Epoch 162/180\n",
            "125/125 [==============================] - ETA: 0s - loss: 0.0942 - accuracy: 0.9688\n",
            "Epoch 00162: val_accuracy did not improve from 0.96869\n"
          ],
          "name": "stdout"
        },
        {
          "output_type": "stream",
          "text": [
            "2020-05-13 08:06:56,308 INFO \n",
            " epoch:161, F1Macro: 0.93724\n"
          ],
          "name": "stderr"
        },
        {
          "output_type": "stream",
          "text": [
            "\b\b\b\b\b\b\b\b\b\b\b\b\b\b\b\b\b\b\b\b\b\b\b\b\b\b\b\b\b\b\b\b\b\b\b\b\b\b\b\b\b\b\b\b\b\b\b\b\b\b\b\b\b\b\b\b\b\b\b\b\b\b\b\b\b\b\b\b\b\b\b\b\b\b\b\b\b\b\b\b\b\b\b\b\r125/125 [==============================] - 34s 275ms/step - loss: 0.0942 - accuracy: 0.9688 - val_loss: 0.0946 - val_accuracy: 0.9686 - lr: 1.0000e-06\n"
          ],
          "name": "stdout"
        },
        {
          "output_type": "stream",
          "text": [
            "2020-05-13 08:06:56,315 INFO Epoch 00162: early stopping\n"
          ],
          "name": "stderr"
        },
        {
          "output_type": "stream",
          "text": [
            "\rpreds_f shape: (250, 4000, 11)\n"
          ],
          "name": "stdout"
        },
        {
          "output_type": "stream",
          "text": [
            "2020-05-13 08:06:58,333 INFO Training fold 3 completed. macro f1 score : 0.93724\n"
          ],
          "name": "stderr"
        },
        {
          "output_type": "stream",
          "text": [
            "X_aug shape 1: (1000, 4000, 9)\n",
            "X_aug shape 2: (1000, 4000, 10)\n",
            "unique train_x[8]: [0. 1.]\n",
            "test shape after roll diff: (500, 4000, 10)\n",
            "train_x shape 3:  (2000, 4000, 10)\n",
            "train_y shape 3:  (2000, 4000, 11)\n",
            "shape_: (4000, 10)\n",
            "model initilization done!\n"
          ],
          "name": "stdout"
        },
        {
          "output_type": "display_data",
          "data": {
            "application/vnd.jupyter.widget-view+json": {
              "model_id": "f78160be8e6545908860f404362972e2",
              "version_minor": 0,
              "version_major": 2
            },
            "text/plain": [
              "HBox(children=(FloatProgress(value=0.0, description='Training', layout=Layout(flex='2'), max=180.0, style=Prog…"
            ]
          },
          "metadata": {
            "tags": []
          }
        },
        {
          "output_type": "stream",
          "text": [
            "Epoch 1/180\n",
            "125/125 [==============================] - ETA: 0s - loss: 1.8254 - accuracy: 0.6888\n",
            "Epoch 00001: val_accuracy improved from -inf to 0.63876, saving model to ion_switch/res/wavenet-dlr-res/ClassifierCBRWmulti-Prob11-NESCAL/all/3_fold/checkpoint-modelonly-3.h5\n"
          ],
          "name": "stdout"
        },
        {
          "output_type": "stream",
          "text": [
            "2020-05-13 08:08:38,094 INFO \n",
            " epoch:000, F1Macro: 0.37020\n"
          ],
          "name": "stderr"
        },
        {
          "output_type": "stream",
          "text": [
            "\b\b\b\b\b\b\b\b\b\b\b\b\b\b\b\b\b\b\b\b\b\b\b\b\b\b\b\b\b\b\b\b\b\b\b\b\b\b\b\b\b\b\b\b\b\b\b\b\b\b\b\b\b\b\b\b\b\b\b\b\b\b\b\b\b\b\b\b\b\b\b\b\b\b\b\b\b\b\b\b\b\b\b\b\r125/125 [==============================] - 40s 321ms/step - loss: 1.8254 - accuracy: 0.6888 - val_loss: 1.7583 - val_accuracy: 0.6388 - lr: 0.0010\n",
            "Epoch 2/180\n",
            "125/125 [==============================] - ETA: 0s - loss: 1.4171 - accuracy: 0.8185\n",
            "Epoch 00002: val_accuracy improved from 0.63876 to 0.85666, saving model to ion_switch/res/wavenet-dlr-res/ClassifierCBRWmulti-Prob11-NESCAL/all/3_fold/checkpoint-modelonly-3.h5\n"
          ],
          "name": "stdout"
        },
        {
          "output_type": "stream",
          "text": [
            "2020-05-13 08:09:13,971 INFO \n",
            " epoch:001, F1Macro: 0.66974\n"
          ],
          "name": "stderr"
        },
        {
          "output_type": "stream",
          "text": [
            "\b\b\b\b\b\b\b\b\b\b\b\b\b\b\b\b\b\b\b\b\b\b\b\b\b\b\b\b\b\b\b\b\b\b\b\b\b\b\b\b\b\b\b\b\b\b\b\b\b\b\b\b\b\b\b\b\b\b\b\b\b\b\b\b\b\b\b\b\b\b\b\b\b\b\b\b\b\b\b\b\b\b\b\b\r125/125 [==============================] - 36s 287ms/step - loss: 1.4171 - accuracy: 0.8185 - val_loss: 1.2718 - val_accuracy: 0.8567 - lr: 0.0010\n",
            "Epoch 3/180\n",
            "125/125 [==============================] - ETA: 0s - loss: 1.1310 - accuracy: 0.8660\n",
            "Epoch 00003: val_accuracy improved from 0.85666 to 0.88864, saving model to ion_switch/res/wavenet-dlr-res/ClassifierCBRWmulti-Prob11-NESCAL/all/3_fold/checkpoint-modelonly-3.h5\n"
          ],
          "name": "stdout"
        },
        {
          "output_type": "stream",
          "text": [
            "2020-05-13 08:09:50,066 INFO \n",
            " epoch:002, F1Macro: 0.70107\n"
          ],
          "name": "stderr"
        },
        {
          "output_type": "stream",
          "text": [
            "\b\b\b\b\b\b\b\b\b\b\b\b\b\b\b\b\b\b\b\b\b\b\b\b\b\b\b\b\b\b\b\b\b\b\b\b\b\b\b\b\b\b\b\b\b\b\b\b\b\b\b\b\b\b\b\b\b\b\b\b\b\b\b\b\b\b\b\b\b\b\b\b\b\b\b\b\b\b\b\b\b\b\b\b\r125/125 [==============================] - 36s 288ms/step - loss: 1.1310 - accuracy: 0.8660 - val_loss: 1.0067 - val_accuracy: 0.8886 - lr: 0.0010\n",
            "Epoch 4/180\n",
            "125/125 [==============================] - ETA: 0s - loss: 0.9253 - accuracy: 0.8810\n",
            "Epoch 00004: val_accuracy improved from 0.88864 to 0.90558, saving model to ion_switch/res/wavenet-dlr-res/ClassifierCBRWmulti-Prob11-NESCAL/all/3_fold/checkpoint-modelonly-3.h5\n"
          ],
          "name": "stdout"
        },
        {
          "output_type": "stream",
          "text": [
            "2020-05-13 08:10:26,356 INFO \n",
            " epoch:003, F1Macro: 0.73320\n"
          ],
          "name": "stderr"
        },
        {
          "output_type": "stream",
          "text": [
            "\b\b\b\b\b\b\b\b\b\b\b\b\b\b\b\b\b\b\b\b\b\b\b\b\b\b\b\b\b\b\b\b\b\b\b\b\b\b\b\b\b\b\b\b\b\b\b\b\b\b\b\b\b\b\b\b\b\b\b\b\b\b\b\b\b\b\b\b\b\b\b\b\b\b\b\b\b\b\b\b\b\b\b\b\r125/125 [==============================] - 36s 287ms/step - loss: 0.9253 - accuracy: 0.8810 - val_loss: 0.8267 - val_accuracy: 0.9056 - lr: 0.0010\n",
            "Epoch 5/180\n",
            "125/125 [==============================] - ETA: 0s - loss: 0.7647 - accuracy: 0.9161\n",
            "Epoch 00005: val_accuracy improved from 0.90558 to 0.92930, saving model to ion_switch/res/wavenet-dlr-res/ClassifierCBRWmulti-Prob11-NESCAL/all/3_fold/checkpoint-modelonly-3.h5\n"
          ],
          "name": "stdout"
        },
        {
          "output_type": "stream",
          "text": [
            "2020-05-13 08:11:02,587 INFO \n",
            " epoch:004, F1Macro: 0.79975\n"
          ],
          "name": "stderr"
        },
        {
          "output_type": "stream",
          "text": [
            "\b\b\b\b\b\b\b\b\b\b\b\b\b\b\b\b\b\b\b\b\b\b\b\b\b\b\b\b\b\b\b\b\b\b\b\b\b\b\b\b\b\b\b\b\b\b\b\b\b\b\b\b\b\b\b\b\b\b\b\b\b\b\b\b\b\b\b\b\b\b\b\b\b\b\b\b\b\b\b\b\b\b\b\b\r125/125 [==============================] - 36s 288ms/step - loss: 0.7647 - accuracy: 0.9161 - val_loss: 0.6971 - val_accuracy: 0.9293 - lr: 0.0010\n",
            "Epoch 6/180\n",
            "125/125 [==============================] - ETA: 0s - loss: 0.6602 - accuracy: 0.9199\n",
            "Epoch 00006: val_accuracy did not improve from 0.92930\n"
          ],
          "name": "stdout"
        },
        {
          "output_type": "stream",
          "text": [
            "2020-05-13 08:11:37,873 INFO \n",
            " epoch:005, F1Macro: 0.80220\n"
          ],
          "name": "stderr"
        },
        {
          "output_type": "stream",
          "text": [
            "\b\b\b\b\b\b\b\b\b\b\b\b\b\b\b\b\b\b\b\b\b\b\b\b\b\b\b\b\b\b\b\b\b\b\b\b\b\b\b\b\b\b\b\b\b\b\b\b\b\b\b\b\b\b\b\b\b\b\b\b\b\b\b\b\b\b\b\b\b\b\b\b\b\b\b\b\b\b\b\b\b\b\b\b\r125/125 [==============================] - 35s 280ms/step - loss: 0.6602 - accuracy: 0.9199 - val_loss: 0.6048 - val_accuracy: 0.9290 - lr: 0.0010\n",
            "Epoch 7/180\n",
            "125/125 [==============================] - ETA: 0s - loss: 0.5690 - accuracy: 0.9276\n",
            "Epoch 00007: val_accuracy improved from 0.92930 to 0.93399, saving model to ion_switch/res/wavenet-dlr-res/ClassifierCBRWmulti-Prob11-NESCAL/all/3_fold/checkpoint-modelonly-3.h5\n"
          ],
          "name": "stdout"
        },
        {
          "output_type": "stream",
          "text": [
            "2020-05-13 08:12:13,946 INFO \n",
            " epoch:006, F1Macro: 0.80631\n"
          ],
          "name": "stderr"
        },
        {
          "output_type": "stream",
          "text": [
            "\b\b\b\b\b\b\b\b\b\b\b\b\b\b\b\b\b\b\b\b\b\b\b\b\b\b\b\b\b\b\b\b\b\b\b\b\b\b\b\b\b\b\b\b\b\b\b\b\b\b\b\b\b\b\b\b\b\b\b\b\b\b\b\b\b\b\b\b\b\b\b\b\b\b\b\b\b\b\b\b\b\b\b\b\r125/125 [==============================] - 36s 287ms/step - loss: 0.5690 - accuracy: 0.9276 - val_loss: 0.5257 - val_accuracy: 0.9340 - lr: 0.0010\n",
            "Epoch 8/180\n",
            "125/125 [==============================] - ETA: 0s - loss: 0.4983 - accuracy: 0.9322\n",
            "Epoch 00008: val_accuracy did not improve from 0.93399\n"
          ],
          "name": "stdout"
        },
        {
          "output_type": "stream",
          "text": [
            "2020-05-13 08:12:49,411 INFO \n",
            " epoch:007, F1Macro: 0.80093\n"
          ],
          "name": "stderr"
        },
        {
          "output_type": "stream",
          "text": [
            "\b\b\b\b\b\b\b\b\b\b\b\b\b\b\b\b\b\b\b\b\b\b\b\b\b\b\b\b\b\b\b\b\b\b\b\b\b\b\b\b\b\b\b\b\b\b\b\b\b\b\b\b\b\b\b\b\b\b\b\b\b\b\b\b\b\b\b\b\b\b\b\b\b\b\b\b\b\b\b\b\b\b\b\b\r125/125 [==============================] - 34s 276ms/step - loss: 0.4983 - accuracy: 0.9322 - val_loss: 0.4761 - val_accuracy: 0.9319 - lr: 0.0010\n",
            "Epoch 9/180\n",
            "125/125 [==============================] - ETA: 0s - loss: 0.4413 - accuracy: 0.9353\n",
            "Epoch 00009: val_accuracy improved from 0.93399 to 0.93943, saving model to ion_switch/res/wavenet-dlr-res/ClassifierCBRWmulti-Prob11-NESCAL/all/3_fold/checkpoint-modelonly-3.h5\n"
          ],
          "name": "stdout"
        },
        {
          "output_type": "stream",
          "text": [
            "2020-05-13 08:13:24,795 INFO \n",
            " epoch:008, F1Macro: 0.81375\n"
          ],
          "name": "stderr"
        },
        {
          "output_type": "stream",
          "text": [
            "\b\b\b\b\b\b\b\b\b\b\b\b\b\b\b\b\b\b\b\b\b\b\b\b\b\b\b\b\b\b\b\b\b\b\b\b\b\b\b\b\b\b\b\b\b\b\b\b\b\b\b\b\b\b\b\b\b\b\b\b\b\b\b\b\b\b\b\b\b\b\b\b\b\b\b\b\b\b\b\b\b\b\b\b\r125/125 [==============================] - 36s 287ms/step - loss: 0.4413 - accuracy: 0.9353 - val_loss: 0.4102 - val_accuracy: 0.9394 - lr: 0.0010\n",
            "Epoch 10/180\n",
            "125/125 [==============================] - ETA: 0s - loss: 0.3926 - accuracy: 0.9400\n",
            "Epoch 00010: val_accuracy improved from 0.93943 to 0.94180, saving model to ion_switch/res/wavenet-dlr-res/ClassifierCBRWmulti-Prob11-NESCAL/all/3_fold/checkpoint-modelonly-3.h5\n"
          ],
          "name": "stdout"
        },
        {
          "output_type": "stream",
          "text": [
            "2020-05-13 08:14:01,009 INFO \n",
            " epoch:009, F1Macro: 0.81716\n"
          ],
          "name": "stderr"
        },
        {
          "output_type": "stream",
          "text": [
            "\b\b\b\b\b\b\b\b\b\b\b\b\b\b\b\b\b\b\b\b\b\b\b\b\b\b\b\b\b\b\b\b\b\b\b\b\b\b\b\b\b\b\b\b\b\b\b\b\b\b\b\b\b\b\b\b\b\b\b\b\b\b\b\b\b\b\b\b\b\b\b\b\b\b\b\b\b\b\b\b\b\b\b\b\r125/125 [==============================] - 36s 286ms/step - loss: 0.3926 - accuracy: 0.9400 - val_loss: 0.3701 - val_accuracy: 0.9418 - lr: 0.0010\n",
            "Epoch 11/180\n",
            "125/125 [==============================] - ETA: 0s - loss: 0.3916 - accuracy: 0.9270\n",
            "Epoch 00011: val_accuracy did not improve from 0.94180\n"
          ],
          "name": "stdout"
        },
        {
          "output_type": "stream",
          "text": [
            "2020-05-13 08:14:36,340 INFO \n",
            " epoch:010, F1Macro: 0.81376\n"
          ],
          "name": "stderr"
        },
        {
          "output_type": "stream",
          "text": [
            "\b\b\b\b\b\b\b\b\b\b\b\b\b\b\b\b\b\b\b\b\b\b\b\b\b\b\b\b\b\b\b\b\b\b\b\b\b\b\b\b\b\b\b\b\b\b\b\b\b\b\b\b\b\b\b\b\b\b\b\b\b\b\b\b\b\b\b\b\b\b\b\b\b\b\b\b\b\b\b\b\b\b\b\b\r125/125 [==============================] - 34s 275ms/step - loss: 0.3916 - accuracy: 0.9270 - val_loss: 0.3464 - val_accuracy: 0.9401 - lr: 0.0010\n",
            "Epoch 12/180\n",
            "125/125 [==============================] - ETA: 0s - loss: 0.3478 - accuracy: 0.9351\n",
            "Epoch 00012: val_accuracy did not improve from 0.94180\n"
          ],
          "name": "stdout"
        },
        {
          "output_type": "stream",
          "text": [
            "2020-05-13 08:15:11,094 INFO \n",
            " epoch:011, F1Macro: 0.80792\n"
          ],
          "name": "stderr"
        },
        {
          "output_type": "stream",
          "text": [
            "\b\b\b\b\b\b\b\b\b\b\b\b\b\b\b\b\b\b\b\b\b\b\b\b\b\b\b\b\b\b\b\b\b\b\b\b\b\b\b\b\b\b\b\b\b\b\b\b\b\b\b\b\b\b\b\b\b\b\b\b\b\b\b\b\b\b\b\b\b\b\b\b\b\b\b\b\b\b\b\b\b\b\b\b\r125/125 [==============================] - 34s 276ms/step - loss: 0.3478 - accuracy: 0.9351 - val_loss: 0.3404 - val_accuracy: 0.9356 - lr: 0.0010\n",
            "Epoch 13/180\n",
            "125/125 [==============================] - ETA: 0s - loss: 0.3261 - accuracy: 0.9364\n",
            "Epoch 00013: val_accuracy improved from 0.94180 to 0.94270, saving model to ion_switch/res/wavenet-dlr-res/ClassifierCBRWmulti-Prob11-NESCAL/all/3_fold/checkpoint-modelonly-3.h5\n"
          ],
          "name": "stdout"
        },
        {
          "output_type": "stream",
          "text": [
            "2020-05-13 08:15:46,646 INFO \n",
            " epoch:012, F1Macro: 0.81606\n"
          ],
          "name": "stderr"
        },
        {
          "output_type": "stream",
          "text": [
            "\b\b\b\b\b\b\b\b\b\b\b\b\b\b\b\b\b\b\b\b\b\b\b\b\b\b\b\b\b\b\b\b\b\b\b\b\b\b\b\b\b\b\b\b\b\b\b\b\b\b\b\b\b\b\b\b\b\b\b\b\b\b\b\b\b\b\b\b\b\b\b\b\b\b\b\b\b\b\b\b\b\b\b\b\r125/125 [==============================] - 35s 282ms/step - loss: 0.3261 - accuracy: 0.9364 - val_loss: 0.3012 - val_accuracy: 0.9427 - lr: 0.0010\n",
            "Epoch 14/180\n",
            "125/125 [==============================] - ETA: 0s - loss: 0.3001 - accuracy: 0.9398\n",
            "Epoch 00014: val_accuracy did not improve from 0.94270\n"
          ],
          "name": "stdout"
        },
        {
          "output_type": "stream",
          "text": [
            "2020-05-13 08:16:21,367 INFO \n",
            " epoch:013, F1Macro: 0.81400\n"
          ],
          "name": "stderr"
        },
        {
          "output_type": "stream",
          "text": [
            "\b\b\b\b\b\b\b\b\b\b\b\b\b\b\b\b\b\b\b\b\b\b\b\b\b\b\b\b\b\b\b\b\b\b\b\b\b\b\b\b\b\b\b\b\b\b\b\b\b\b\b\b\b\b\b\b\b\b\b\b\b\b\b\b\b\b\b\b\b\b\b\b\b\b\b\b\b\b\b\b\b\b\b\b\r125/125 [==============================] - 34s 276ms/step - loss: 0.3001 - accuracy: 0.9398 - val_loss: 0.2883 - val_accuracy: 0.9406 - lr: 0.0010\n",
            "Epoch 15/180\n",
            "125/125 [==============================] - ETA: 0s - loss: 0.2833 - accuracy: 0.9406\n",
            "Epoch 00015: val_accuracy did not improve from 0.94270\n"
          ],
          "name": "stdout"
        },
        {
          "output_type": "stream",
          "text": [
            "2020-05-13 08:16:56,101 INFO \n",
            " epoch:014, F1Macro: 0.81439\n"
          ],
          "name": "stderr"
        },
        {
          "output_type": "stream",
          "text": [
            "\b\b\b\b\b\b\b\b\b\b\b\b\b\b\b\b\b\b\b\b\b\b\b\b\b\b\b\b\b\b\b\b\b\b\b\b\b\b\b\b\b\b\b\b\b\b\b\b\b\b\b\b\b\b\b\b\b\b\b\b\b\b\b\b\b\b\b\b\b\b\b\b\b\b\b\b\b\b\b\b\b\b\b\b\r125/125 [==============================] - 34s 276ms/step - loss: 0.2833 - accuracy: 0.9406 - val_loss: 0.2728 - val_accuracy: 0.9417 - lr: 0.0010\n",
            "Epoch 16/180\n",
            "125/125 [==============================] - ETA: 0s - loss: 0.2551 - accuracy: 0.9511\n",
            "Epoch 00016: val_accuracy improved from 0.94270 to 0.95753, saving model to ion_switch/res/wavenet-dlr-res/ClassifierCBRWmulti-Prob11-NESCAL/all/3_fold/checkpoint-modelonly-3.h5\n"
          ],
          "name": "stdout"
        },
        {
          "output_type": "stream",
          "text": [
            "2020-05-13 08:17:31,539 INFO \n",
            " epoch:015, F1Macro: 0.84499\n"
          ],
          "name": "stderr"
        },
        {
          "output_type": "stream",
          "text": [
            "\b\b\b\b\b\b\b\b\b\b\b\b\b\b\b\b\b\b\b\b\b\b\b\b\b\b\b\b\b\b\b\b\b\b\b\b\b\b\b\b\b\b\b\b\b\b\b\b\b\b\b\b\b\b\b\b\b\b\b\b\b\b\b\b\b\b\b\b\b\b\b\b\b\b\b\b\b\b\b\b\b\b\b\b\r125/125 [==============================] - 36s 288ms/step - loss: 0.2551 - accuracy: 0.9511 - val_loss: 0.2367 - val_accuracy: 0.9575 - lr: 0.0010\n",
            "Epoch 17/180\n",
            "125/125 [==============================] - ETA: 0s - loss: 0.2309 - accuracy: 0.9573\n",
            "Epoch 00017: val_accuracy did not improve from 0.95753\n"
          ],
          "name": "stdout"
        },
        {
          "output_type": "stream",
          "text": [
            "2020-05-13 08:18:07,042 INFO \n",
            " epoch:016, F1Macro: 0.83465\n"
          ],
          "name": "stderr"
        },
        {
          "output_type": "stream",
          "text": [
            "\b\b\b\b\b\b\b\b\b\b\b\b\b\b\b\b\b\b\b\b\b\b\b\b\b\b\b\b\b\b\b\b\b\b\b\b\b\b\b\b\b\b\b\b\b\b\b\b\b\b\b\b\b\b\b\b\b\b\b\b\b\b\b\b\b\b\b\b\b\b\b\b\b\b\b\b\b\b\b\b\b\b\b\b\r125/125 [==============================] - 34s 276ms/step - loss: 0.2309 - accuracy: 0.9573 - val_loss: 0.2336 - val_accuracy: 0.9544 - lr: 0.0010\n",
            "Epoch 18/180\n",
            "125/125 [==============================] - ETA: 0s - loss: 0.2203 - accuracy: 0.9569\n",
            "Epoch 00018: val_accuracy did not improve from 0.95753\n"
          ],
          "name": "stdout"
        },
        {
          "output_type": "stream",
          "text": [
            "2020-05-13 08:18:41,725 INFO \n",
            " epoch:017, F1Macro: 0.84388\n"
          ],
          "name": "stderr"
        },
        {
          "output_type": "stream",
          "text": [
            "\b\b\b\b\b\b\b\b\b\b\b\b\b\b\b\b\b\b\b\b\b\b\b\b\b\b\b\b\b\b\b\b\b\b\b\b\b\b\b\b\b\b\b\b\b\b\b\b\b\b\b\b\b\b\b\b\b\b\b\b\b\b\b\b\b\b\b\b\b\b\b\b\b\b\b\b\b\b\b\b\b\b\b\b\r125/125 [==============================] - 34s 275ms/step - loss: 0.2203 - accuracy: 0.9569 - val_loss: 0.2106 - val_accuracy: 0.9565 - lr: 0.0010\n",
            "Epoch 19/180\n",
            "125/125 [==============================] - ETA: 0s - loss: 0.2058 - accuracy: 0.9584\n",
            "Epoch 00019: val_accuracy improved from 0.95753 to 0.96055, saving model to ion_switch/res/wavenet-dlr-res/ClassifierCBRWmulti-Prob11-NESCAL/all/3_fold/checkpoint-modelonly-3.h5\n"
          ],
          "name": "stdout"
        },
        {
          "output_type": "stream",
          "text": [
            "2020-05-13 08:19:17,146 INFO \n",
            " epoch:018, F1Macro: 0.84842\n"
          ],
          "name": "stderr"
        },
        {
          "output_type": "stream",
          "text": [
            "\b\b\b\b\b\b\b\b\b\b\b\b\b\b\b\b\b\b\b\b\b\b\b\b\b\b\b\b\b\b\b\b\b\b\b\b\b\b\b\b\b\b\b\b\b\b\b\b\b\b\b\b\b\b\b\b\b\b\b\b\b\b\b\b\b\b\b\b\b\b\b\b\b\b\b\b\b\b\b\b\b\b\b\b\r125/125 [==============================] - 36s 288ms/step - loss: 0.2058 - accuracy: 0.9584 - val_loss: 0.1966 - val_accuracy: 0.9606 - lr: 0.0010\n",
            "Epoch 20/180\n",
            "125/125 [==============================] - ETA: 0s - loss: 0.1968 - accuracy: 0.9584\n",
            "Epoch 00020: val_accuracy did not improve from 0.96055\n"
          ],
          "name": "stdout"
        },
        {
          "output_type": "stream",
          "text": [
            "2020-05-13 08:19:52,769 INFO \n",
            " epoch:019, F1Macro: 0.84274\n"
          ],
          "name": "stderr"
        },
        {
          "output_type": "stream",
          "text": [
            "\b\b\b\b\b\b\b\b\b\b\b\b\b\b\b\b\b\b\b\b\b\b\b\b\b\b\b\b\b\b\b\b\b\b\b\b\b\b\b\b\b\b\b\b\b\b\b\b\b\b\b\b\b\b\b\b\b\b\b\b\b\b\b\b\b\b\b\b\b\b\b\b\b\b\b\b\b\b\b\b\b\b\b\b\r125/125 [==============================] - 34s 276ms/step - loss: 0.1968 - accuracy: 0.9584 - val_loss: 0.1943 - val_accuracy: 0.9581 - lr: 0.0010\n",
            "Epoch 21/180\n",
            "125/125 [==============================] - ETA: 0s - loss: 0.1883 - accuracy: 0.9582\n",
            "Epoch 00021: val_accuracy did not improve from 0.96055\n"
          ],
          "name": "stdout"
        },
        {
          "output_type": "stream",
          "text": [
            "2020-05-13 08:20:27,484 INFO \n",
            " epoch:020, F1Macro: 0.84969\n"
          ],
          "name": "stderr"
        },
        {
          "output_type": "stream",
          "text": [
            "\b\b\b\b\b\b\b\b\b\b\b\b\b\b\b\b\b\b\b\b\b\b\b\b\b\b\b\b\b\b\b\b\b\b\b\b\b\b\b\b\b\b\b\b\b\b\b\b\b\b\b\b\b\b\b\b\b\b\b\b\b\b\b\b\b\b\b\b\b\b\b\b\b\b\b\b\b\b\b\b\b\b\b\b\r125/125 [==============================] - 35s 281ms/step - loss: 0.1883 - accuracy: 0.9582 - val_loss: 0.1781 - val_accuracy: 0.9604 - lr: 0.0010\n",
            "Epoch 22/180\n",
            "125/125 [==============================] - ETA: 0s - loss: 0.1888 - accuracy: 0.9560\n",
            "Epoch 00022: val_accuracy did not improve from 0.96055\n"
          ],
          "name": "stdout"
        },
        {
          "output_type": "stream",
          "text": [
            "2020-05-13 08:21:02,837 INFO \n",
            " epoch:021, F1Macro: 0.86018\n"
          ],
          "name": "stderr"
        },
        {
          "output_type": "stream",
          "text": [
            "\b\b\b\b\b\b\b\b\b\b\b\b\b\b\b\b\b\b\b\b\b\b\b\b\b\b\b\b\b\b\b\b\b\b\b\b\b\b\b\b\b\b\b\b\b\b\b\b\b\b\b\b\b\b\b\b\b\b\b\b\b\b\b\b\b\b\b\b\b\b\b\b\b\b\b\b\b\b\b\b\b\b\b\b\r125/125 [==============================] - 35s 281ms/step - loss: 0.1888 - accuracy: 0.9560 - val_loss: 0.2722 - val_accuracy: 0.9198 - lr: 0.0010\n",
            "Epoch 23/180\n",
            "125/125 [==============================] - ETA: 0s - loss: 0.2493 - accuracy: 0.9369\n",
            "Epoch 00023: val_accuracy did not improve from 0.96055\n"
          ],
          "name": "stdout"
        },
        {
          "output_type": "stream",
          "text": [
            "2020-05-13 08:21:38,205 INFO \n",
            " epoch:022, F1Macro: 0.92077\n"
          ],
          "name": "stderr"
        },
        {
          "output_type": "stream",
          "text": [
            "\b\b\b\b\b\b\b\b\b\b\b\b\b\b\b\b\b\b\b\b\b\b\b\b\b\b\b\b\b\b\b\b\b\b\b\b\b\b\b\b\b\b\b\b\b\b\b\b\b\b\b\b\b\b\b\b\b\b\b\b\b\b\b\b\b\b\b\b\b\b\b\b\b\b\b\b\b\b\b\b\b\b\b\b\r125/125 [==============================] - 35s 280ms/step - loss: 0.2493 - accuracy: 0.9369 - val_loss: 0.1953 - val_accuracy: 0.9563 - lr: 0.0010\n",
            "Epoch 24/180\n",
            "125/125 [==============================] - ETA: 0s - loss: 0.1804 - accuracy: 0.9591\n",
            "Epoch 00024: val_accuracy improved from 0.96055 to 0.96349, saving model to ion_switch/res/wavenet-dlr-res/ClassifierCBRWmulti-Prob11-NESCAL/all/3_fold/checkpoint-modelonly-3.h5\n"
          ],
          "name": "stdout"
        },
        {
          "output_type": "stream",
          "text": [
            "2020-05-13 08:22:14,226 INFO \n",
            " epoch:023, F1Macro: 0.93059\n"
          ],
          "name": "stderr"
        },
        {
          "output_type": "stream",
          "text": [
            "\b\b\b\b\b\b\b\b\b\b\b\b\b\b\b\b\b\b\b\b\b\b\b\b\b\b\b\b\b\b\b\b\b\b\b\b\b\b\b\b\b\b\b\b\b\b\b\b\b\b\b\b\b\b\b\b\b\b\b\b\b\b\b\b\b\b\b\b\b\b\b\b\b\b\b\b\b\b\b\b\b\b\b\b\r125/125 [==============================] - 36s 287ms/step - loss: 0.1804 - accuracy: 0.9591 - val_loss: 0.1629 - val_accuracy: 0.9635 - lr: 0.0010\n",
            "Epoch 25/180\n",
            "125/125 [==============================] - ETA: 0s - loss: 0.1600 - accuracy: 0.9638\n",
            "Epoch 00025: val_accuracy did not improve from 0.96349\n"
          ],
          "name": "stdout"
        },
        {
          "output_type": "stream",
          "text": [
            "2020-05-13 08:22:49,710 INFO \n",
            " epoch:024, F1Macro: 0.92932\n"
          ],
          "name": "stderr"
        },
        {
          "output_type": "stream",
          "text": [
            "\b\b\b\b\b\b\b\b\b\b\b\b\b\b\b\b\b\b\b\b\b\b\b\b\b\b\b\b\b\b\b\b\b\b\b\b\b\b\b\b\b\b\b\b\b\b\b\b\b\b\b\b\b\b\b\b\b\b\b\b\b\b\b\b\b\b\b\b\b\b\b\b\b\b\b\b\b\b\b\b\b\b\b\b\r125/125 [==============================] - 34s 276ms/step - loss: 0.1600 - accuracy: 0.9638 - val_loss: 0.1638 - val_accuracy: 0.9615 - lr: 0.0010\n",
            "Epoch 26/180\n",
            "125/125 [==============================] - ETA: 0s - loss: 0.1538 - accuracy: 0.9641\n",
            "Epoch 00026: val_accuracy improved from 0.96349 to 0.96439, saving model to ion_switch/res/wavenet-dlr-res/ClassifierCBRWmulti-Prob11-NESCAL/all/3_fold/checkpoint-modelonly-3.h5\n"
          ],
          "name": "stdout"
        },
        {
          "output_type": "stream",
          "text": [
            "2020-05-13 08:23:25,104 INFO \n",
            " epoch:025, F1Macro: 0.92816\n"
          ],
          "name": "stderr"
        },
        {
          "output_type": "stream",
          "text": [
            "\b\b\b\b\b\b\b\b\b\b\b\b\b\b\b\b\b\b\b\b\b\b\b\b\b\b\b\b\b\b\b\b\b\b\b\b\b\b\b\b\b\b\b\b\b\b\b\b\b\b\b\b\b\b\b\b\b\b\b\b\b\b\b\b\b\b\b\b\b\b\b\b\b\b\b\b\b\b\b\b\b\b\b\b\r125/125 [==============================] - 35s 281ms/step - loss: 0.1538 - accuracy: 0.9641 - val_loss: 0.1478 - val_accuracy: 0.9644 - lr: 0.0010\n",
            "Epoch 27/180\n",
            "125/125 [==============================] - ETA: 0s - loss: 0.1471 - accuracy: 0.9647\n",
            "Epoch 00027: val_accuracy improved from 0.96439 to 0.96644, saving model to ion_switch/res/wavenet-dlr-res/ClassifierCBRWmulti-Prob11-NESCAL/all/3_fold/checkpoint-modelonly-3.h5\n"
          ],
          "name": "stdout"
        },
        {
          "output_type": "stream",
          "text": [
            "2020-05-13 08:24:00,504 INFO \n",
            " epoch:026, F1Macro: 0.93493\n"
          ],
          "name": "stderr"
        },
        {
          "output_type": "stream",
          "text": [
            "\b\b\b\b\b\b\b\b\b\b\b\b\b\b\b\b\b\b\b\b\b\b\b\b\b\b\b\b\b\b\b\b\b\b\b\b\b\b\b\b\b\b\b\b\b\b\b\b\b\b\b\b\b\b\b\b\b\b\b\b\b\b\b\b\b\b\b\b\b\b\b\b\b\b\b\b\b\b\b\b\b\b\b\b\r125/125 [==============================] - 36s 286ms/step - loss: 0.1471 - accuracy: 0.9647 - val_loss: 0.1398 - val_accuracy: 0.9664 - lr: 0.0010\n",
            "Epoch 28/180\n",
            "125/125 [==============================] - ETA: 0s - loss: 0.1436 - accuracy: 0.9645\n",
            "Epoch 00028: val_accuracy did not improve from 0.96644\n"
          ],
          "name": "stdout"
        },
        {
          "output_type": "stream",
          "text": [
            "2020-05-13 08:24:35,798 INFO \n",
            " epoch:027, F1Macro: 0.93518\n"
          ],
          "name": "stderr"
        },
        {
          "output_type": "stream",
          "text": [
            "\b\b\b\b\b\b\b\b\b\b\b\b\b\b\b\b\b\b\b\b\b\b\b\b\b\b\b\b\b\b\b\b\b\b\b\b\b\b\b\b\b\b\b\b\b\b\b\b\b\b\b\b\b\b\b\b\b\b\b\b\b\b\b\b\b\b\b\b\b\b\b\b\b\b\b\b\b\b\b\b\b\b\b\b\r125/125 [==============================] - 35s 280ms/step - loss: 0.1436 - accuracy: 0.9645 - val_loss: 0.1366 - val_accuracy: 0.9661 - lr: 0.0010\n",
            "Epoch 29/180\n",
            "125/125 [==============================] - ETA: 0s - loss: 0.1376 - accuracy: 0.9653\n",
            "Epoch 00029: val_accuracy did not improve from 0.96644\n"
          ],
          "name": "stdout"
        },
        {
          "output_type": "stream",
          "text": [
            "2020-05-13 08:25:11,196 INFO \n",
            " epoch:028, F1Macro: 0.93419\n"
          ],
          "name": "stderr"
        },
        {
          "output_type": "stream",
          "text": [
            "\b\b\b\b\b\b\b\b\b\b\b\b\b\b\b\b\b\b\b\b\b\b\b\b\b\b\b\b\b\b\b\b\b\b\b\b\b\b\b\b\b\b\b\b\b\b\b\b\b\b\b\b\b\b\b\b\b\b\b\b\b\b\b\b\b\b\b\b\b\b\b\b\b\b\b\b\b\b\b\b\b\b\b\b\r125/125 [==============================] - 34s 276ms/step - loss: 0.1376 - accuracy: 0.9653 - val_loss: 0.1325 - val_accuracy: 0.9662 - lr: 0.0010\n",
            "Epoch 30/180\n",
            "125/125 [==============================] - ETA: 0s - loss: 0.1354 - accuracy: 0.9649\n",
            "Epoch 00030: val_accuracy did not improve from 0.96644\n"
          ],
          "name": "stdout"
        },
        {
          "output_type": "stream",
          "text": [
            "2020-05-13 08:25:45,906 INFO \n",
            " epoch:029, F1Macro: 0.93342\n"
          ],
          "name": "stderr"
        },
        {
          "output_type": "stream",
          "text": [
            "\b\b\b\b\b\b\b\b\b\b\b\b\b\b\b\b\b\b\b\b\b\b\b\b\b\b\b\b\b\b\b\b\b\b\b\b\b\b\b\b\b\b\b\b\b\b\b\b\b\b\b\b\b\b\b\b\b\b\b\b\b\b\b\b\b\b\b\b\b\b\b\b\b\b\b\b\b\b\b\b\b\b\b\b\r125/125 [==============================] - 34s 276ms/step - loss: 0.1354 - accuracy: 0.9649 - val_loss: 0.1310 - val_accuracy: 0.9658 - lr: 0.0010\n",
            "Epoch 31/180\n",
            "125/125 [==============================] - ETA: 0s - loss: 0.1307 - accuracy: 0.9659\n",
            "Epoch 00031: val_accuracy improved from 0.96644 to 0.96685, saving model to ion_switch/res/wavenet-dlr-res/ClassifierCBRWmulti-Prob11-NESCAL/all/3_fold/checkpoint-modelonly-3.h5\n"
          ],
          "name": "stdout"
        },
        {
          "output_type": "stream",
          "text": [
            "2020-05-13 08:26:21,284 INFO \n",
            " epoch:030, F1Macro: 0.93567\n"
          ],
          "name": "stderr"
        },
        {
          "output_type": "stream",
          "text": [
            "\b\b\b\b\b\b\b\b\b\b\b\b\b\b\b\b\b\b\b\b\b\b\b\b\b\b\b\b\b\b\b\b\b\b\b\b\b\b\b\b\b\b\b\b\b\b\b\b\b\b\b\b\b\b\b\b\b\b\b\b\b\b\b\b\b\b\b\b\b\b\b\b\b\b\b\b\b\b\b\b\b\b\b\b\r125/125 [==============================] - 36s 287ms/step - loss: 0.1307 - accuracy: 0.9659 - val_loss: 0.1265 - val_accuracy: 0.9669 - lr: 3.3333e-04\n",
            "Epoch 32/180\n",
            "125/125 [==============================] - ETA: 0s - loss: 0.1281 - accuracy: 0.9665\n",
            "Epoch 00032: val_accuracy did not improve from 0.96685\n"
          ],
          "name": "stdout"
        },
        {
          "output_type": "stream",
          "text": [
            "2020-05-13 08:26:56,722 INFO \n",
            " epoch:031, F1Macro: 0.93546\n"
          ],
          "name": "stderr"
        },
        {
          "output_type": "stream",
          "text": [
            "\b\b\b\b\b\b\b\b\b\b\b\b\b\b\b\b\b\b\b\b\b\b\b\b\b\b\b\b\b\b\b\b\b\b\b\b\b\b\b\b\b\b\b\b\b\b\b\b\b\b\b\b\b\b\b\b\b\b\b\b\b\b\b\b\b\b\b\b\b\b\b\b\b\b\b\b\b\b\b\b\b\b\b\b\r125/125 [==============================] - 34s 276ms/step - loss: 0.1281 - accuracy: 0.9665 - val_loss: 0.1270 - val_accuracy: 0.9661 - lr: 3.3333e-04\n",
            "Epoch 33/180\n",
            "125/125 [==============================] - ETA: 0s - loss: 0.1261 - accuracy: 0.9668\n",
            "Epoch 00033: val_accuracy improved from 0.96685 to 0.96704, saving model to ion_switch/res/wavenet-dlr-res/ClassifierCBRWmulti-Prob11-NESCAL/all/3_fold/checkpoint-modelonly-3.h5\n"
          ],
          "name": "stdout"
        },
        {
          "output_type": "stream",
          "text": [
            "2020-05-13 08:27:32,086 INFO \n",
            " epoch:032, F1Macro: 0.93550\n"
          ],
          "name": "stderr"
        },
        {
          "output_type": "stream",
          "text": [
            "\b\b\b\b\b\b\b\b\b\b\b\b\b\b\b\b\b\b\b\b\b\b\b\b\b\b\b\b\b\b\b\b\b\b\b\b\b\b\b\b\b\b\b\b\b\b\b\b\b\b\b\b\b\b\b\b\b\b\b\b\b\b\b\b\b\b\b\b\b\b\b\b\b\b\b\b\b\b\b\b\b\b\b\b\r125/125 [==============================] - 35s 281ms/step - loss: 0.1261 - accuracy: 0.9668 - val_loss: 0.1240 - val_accuracy: 0.9670 - lr: 3.3333e-04\n",
            "Epoch 34/180\n",
            "125/125 [==============================] - ETA: 0s - loss: 0.1262 - accuracy: 0.9665\n",
            "Epoch 00034: val_accuracy did not improve from 0.96704\n"
          ],
          "name": "stdout"
        },
        {
          "output_type": "stream",
          "text": [
            "2020-05-13 08:28:06,860 INFO \n",
            " epoch:033, F1Macro: 0.93372\n"
          ],
          "name": "stderr"
        },
        {
          "output_type": "stream",
          "text": [
            "\b\b\b\b\b\b\b\b\b\b\b\b\b\b\b\b\b\b\b\b\b\b\b\b\b\b\b\b\b\b\b\b\b\b\b\b\b\b\b\b\b\b\b\b\b\b\b\b\b\b\b\b\b\b\b\b\b\b\b\b\b\b\b\b\b\b\b\b\b\b\b\b\b\b\b\b\b\b\b\b\b\b\b\b\r125/125 [==============================] - 35s 276ms/step - loss: 0.1262 - accuracy: 0.9665 - val_loss: 0.1250 - val_accuracy: 0.9662 - lr: 3.3333e-04\n",
            "Epoch 35/180\n",
            "125/125 [==============================] - ETA: 0s - loss: 0.1244 - accuracy: 0.9667\n",
            "Epoch 00035: val_accuracy did not improve from 0.96704\n"
          ],
          "name": "stdout"
        },
        {
          "output_type": "stream",
          "text": [
            "2020-05-13 08:28:41,565 INFO \n",
            " epoch:034, F1Macro: 0.93632\n"
          ],
          "name": "stderr"
        },
        {
          "output_type": "stream",
          "text": [
            "\b\b\b\b\b\b\b\b\b\b\b\b\b\b\b\b\b\b\b\b\b\b\b\b\b\b\b\b\b\b\b\b\b\b\b\b\b\b\b\b\b\b\b\b\b\b\b\b\b\b\b\b\b\b\b\b\b\b\b\b\b\b\b\b\b\b\b\b\b\b\b\b\b\b\b\b\b\b\b\b\b\b\b\b\r125/125 [==============================] - 35s 281ms/step - loss: 0.1244 - accuracy: 0.9667 - val_loss: 0.1223 - val_accuracy: 0.9669 - lr: 3.3333e-04\n",
            "Epoch 36/180\n",
            "125/125 [==============================] - ETA: 0s - loss: 0.1229 - accuracy: 0.9668\n",
            "Epoch 00036: val_accuracy did not improve from 0.96704\n"
          ],
          "name": "stdout"
        },
        {
          "output_type": "stream",
          "text": [
            "2020-05-13 08:29:16,904 INFO \n",
            " epoch:035, F1Macro: 0.93418\n"
          ],
          "name": "stderr"
        },
        {
          "output_type": "stream",
          "text": [
            "\b\b\b\b\b\b\b\b\b\b\b\b\b\b\b\b\b\b\b\b\b\b\b\b\b\b\b\b\b\b\b\b\b\b\b\b\b\b\b\b\b\b\b\b\b\b\b\b\b\b\b\b\b\b\b\b\b\b\b\b\b\b\b\b\b\b\b\b\b\b\b\b\b\b\b\b\b\b\b\b\b\b\b\b\r125/125 [==============================] - 34s 275ms/step - loss: 0.1229 - accuracy: 0.9668 - val_loss: 0.1220 - val_accuracy: 0.9666 - lr: 3.3333e-04\n",
            "Epoch 37/180\n",
            "125/125 [==============================] - ETA: 0s - loss: 0.1215 - accuracy: 0.9670\n",
            "Epoch 00037: val_accuracy did not improve from 0.96704\n"
          ],
          "name": "stdout"
        },
        {
          "output_type": "stream",
          "text": [
            "2020-05-13 08:29:51,581 INFO \n",
            " epoch:036, F1Macro: 0.93605\n"
          ],
          "name": "stderr"
        },
        {
          "output_type": "stream",
          "text": [
            "\b\b\b\b\b\b\b\b\b\b\b\b\b\b\b\b\b\b\b\b\b\b\b\b\b\b\b\b\b\b\b\b\b\b\b\b\b\b\b\b\b\b\b\b\b\b\b\b\b\b\b\b\b\b\b\b\b\b\b\b\b\b\b\b\b\b\b\b\b\b\b\b\b\b\b\b\b\b\b\b\b\b\b\b\r125/125 [==============================] - 34s 275ms/step - loss: 0.1215 - accuracy: 0.9670 - val_loss: 0.1202 - val_accuracy: 0.9667 - lr: 3.3333e-04\n",
            "Epoch 38/180\n",
            "125/125 [==============================] - ETA: 0s - loss: 0.1208 - accuracy: 0.9669\n",
            "Epoch 00038: val_accuracy improved from 0.96704 to 0.96736, saving model to ion_switch/res/wavenet-dlr-res/ClassifierCBRWmulti-Prob11-NESCAL/all/3_fold/checkpoint-modelonly-3.h5\n"
          ],
          "name": "stdout"
        },
        {
          "output_type": "stream",
          "text": [
            "2020-05-13 08:30:27,021 INFO \n",
            " epoch:037, F1Macro: 0.93674\n"
          ],
          "name": "stderr"
        },
        {
          "output_type": "stream",
          "text": [
            "\b\b\b\b\b\b\b\b\b\b\b\b\b\b\b\b\b\b\b\b\b\b\b\b\b\b\b\b\b\b\b\b\b\b\b\b\b\b\b\b\b\b\b\b\b\b\b\b\b\b\b\b\b\b\b\b\b\b\b\b\b\b\b\b\b\b\b\b\b\b\b\b\b\b\b\b\b\b\b\b\b\b\b\b\r125/125 [==============================] - 36s 287ms/step - loss: 0.1208 - accuracy: 0.9669 - val_loss: 0.1186 - val_accuracy: 0.9674 - lr: 3.3333e-04\n",
            "Epoch 39/180\n",
            "125/125 [==============================] - ETA: 0s - loss: 0.1187 - accuracy: 0.9672\n",
            "Epoch 00039: val_accuracy did not improve from 0.96736\n"
          ],
          "name": "stdout"
        },
        {
          "output_type": "stream",
          "text": [
            "2020-05-13 08:31:02,496 INFO \n",
            " epoch:038, F1Macro: 0.93646\n"
          ],
          "name": "stderr"
        },
        {
          "output_type": "stream",
          "text": [
            "\b\b\b\b\b\b\b\b\b\b\b\b\b\b\b\b\b\b\b\b\b\b\b\b\b\b\b\b\b\b\b\b\b\b\b\b\b\b\b\b\b\b\b\b\b\b\b\b\b\b\b\b\b\b\b\b\b\b\b\b\b\b\b\b\b\b\b\b\b\b\b\b\b\b\b\b\b\b\b\b\b\b\b\b\r125/125 [==============================] - 34s 276ms/step - loss: 0.1187 - accuracy: 0.9672 - val_loss: 0.1175 - val_accuracy: 0.9671 - lr: 3.3333e-04\n",
            "Epoch 40/180\n",
            "125/125 [==============================] - ETA: 0s - loss: 0.1179 - accuracy: 0.9671\n",
            "Epoch 00040: val_accuracy did not improve from 0.96736\n"
          ],
          "name": "stdout"
        },
        {
          "output_type": "stream",
          "text": [
            "2020-05-13 08:31:37,233 INFO \n",
            " epoch:039, F1Macro: 0.93661\n"
          ],
          "name": "stderr"
        },
        {
          "output_type": "stream",
          "text": [
            "\b\b\b\b\b\b\b\b\b\b\b\b\b\b\b\b\b\b\b\b\b\b\b\b\b\b\b\b\b\b\b\b\b\b\b\b\b\b\b\b\b\b\b\b\b\b\b\b\b\b\b\b\b\b\b\b\b\b\b\b\b\b\b\b\b\b\b\b\b\b\b\b\b\b\b\b\b\b\b\b\b\b\b\b\r125/125 [==============================] - 34s 276ms/step - loss: 0.1179 - accuracy: 0.9671 - val_loss: 0.1169 - val_accuracy: 0.9670 - lr: 3.3333e-04\n",
            "Epoch 41/180\n",
            "125/125 [==============================] - ETA: 0s - loss: 0.1163 - accuracy: 0.9675\n",
            "Epoch 00041: val_accuracy did not improve from 0.96736\n"
          ],
          "name": "stdout"
        },
        {
          "output_type": "stream",
          "text": [
            "2020-05-13 08:32:11,912 INFO \n",
            " epoch:040, F1Macro: 0.93697\n"
          ],
          "name": "stderr"
        },
        {
          "output_type": "stream",
          "text": [
            "\b\b\b\b\b\b\b\b\b\b\b\b\b\b\b\b\b\b\b\b\b\b\b\b\b\b\b\b\b\b\b\b\b\b\b\b\b\b\b\b\b\b\b\b\b\b\b\b\b\b\b\b\b\b\b\b\b\b\b\b\b\b\b\b\b\b\b\b\b\b\b\b\b\b\b\b\b\b\b\b\b\b\b\b\r125/125 [==============================] - 35s 281ms/step - loss: 0.1163 - accuracy: 0.9675 - val_loss: 0.1155 - val_accuracy: 0.9673 - lr: 2.0000e-04\n",
            "Epoch 42/180\n",
            "125/125 [==============================] - ETA: 0s - loss: 0.1161 - accuracy: 0.9673\n",
            "Epoch 00042: val_accuracy did not improve from 0.96736\n"
          ],
          "name": "stdout"
        },
        {
          "output_type": "stream",
          "text": [
            "2020-05-13 08:32:47,292 INFO \n",
            " epoch:041, F1Macro: 0.93684\n"
          ],
          "name": "stderr"
        },
        {
          "output_type": "stream",
          "text": [
            "\b\b\b\b\b\b\b\b\b\b\b\b\b\b\b\b\b\b\b\b\b\b\b\b\b\b\b\b\b\b\b\b\b\b\b\b\b\b\b\b\b\b\b\b\b\b\b\b\b\b\b\b\b\b\b\b\b\b\b\b\b\b\b\b\b\b\b\b\b\b\b\b\b\b\b\b\b\b\b\b\b\b\b\b\r125/125 [==============================] - 34s 275ms/step - loss: 0.1161 - accuracy: 0.9673 - val_loss: 0.1157 - val_accuracy: 0.9671 - lr: 2.0000e-04\n",
            "Epoch 43/180\n",
            "125/125 [==============================] - ETA: 0s - loss: 0.1154 - accuracy: 0.9673\n",
            "Epoch 00043: val_accuracy did not improve from 0.96736\n"
          ],
          "name": "stdout"
        },
        {
          "output_type": "stream",
          "text": [
            "2020-05-13 08:33:22,052 INFO \n",
            " epoch:042, F1Macro: 0.93683\n"
          ],
          "name": "stderr"
        },
        {
          "output_type": "stream",
          "text": [
            "\b\b\b\b\b\b\b\b\b\b\b\b\b\b\b\b\b\b\b\b\b\b\b\b\b\b\b\b\b\b\b\b\b\b\b\b\b\b\b\b\b\b\b\b\b\b\b\b\b\b\b\b\b\b\b\b\b\b\b\b\b\b\b\b\b\b\b\b\b\b\b\b\b\b\b\b\b\b\b\b\b\b\b\b\r125/125 [==============================] - 34s 276ms/step - loss: 0.1154 - accuracy: 0.9673 - val_loss: 0.1146 - val_accuracy: 0.9673 - lr: 2.0000e-04\n",
            "Epoch 44/180\n",
            "125/125 [==============================] - ETA: 0s - loss: 0.1158 - accuracy: 0.9670\n",
            "Epoch 00044: val_accuracy did not improve from 0.96736\n"
          ],
          "name": "stdout"
        },
        {
          "output_type": "stream",
          "text": [
            "2020-05-13 08:33:56,760 INFO \n",
            " epoch:043, F1Macro: 0.93494\n"
          ],
          "name": "stderr"
        },
        {
          "output_type": "stream",
          "text": [
            "\b\b\b\b\b\b\b\b\b\b\b\b\b\b\b\b\b\b\b\b\b\b\b\b\b\b\b\b\b\b\b\b\b\b\b\b\b\b\b\b\b\b\b\b\b\b\b\b\b\b\b\b\b\b\b\b\b\b\b\b\b\b\b\b\b\b\b\b\b\b\b\b\b\b\b\b\b\b\b\b\b\b\b\b\r125/125 [==============================] - 34s 276ms/step - loss: 0.1158 - accuracy: 0.9670 - val_loss: 0.1144 - val_accuracy: 0.9670 - lr: 2.0000e-04\n",
            "Epoch 45/180\n",
            "125/125 [==============================] - ETA: 0s - loss: 0.1137 - accuracy: 0.9675\n",
            "Epoch 00045: val_accuracy improved from 0.96736 to 0.96747, saving model to ion_switch/res/wavenet-dlr-res/ClassifierCBRWmulti-Prob11-NESCAL/all/3_fold/checkpoint-modelonly-3.h5\n"
          ],
          "name": "stdout"
        },
        {
          "output_type": "stream",
          "text": [
            "2020-05-13 08:34:32,182 INFO \n",
            " epoch:044, F1Macro: 0.93724\n"
          ],
          "name": "stderr"
        },
        {
          "output_type": "stream",
          "text": [
            "\b\b\b\b\b\b\b\b\b\b\b\b\b\b\b\b\b\b\b\b\b\b\b\b\b\b\b\b\b\b\b\b\b\b\b\b\b\b\b\b\b\b\b\b\b\b\b\b\b\b\b\b\b\b\b\b\b\b\b\b\b\b\b\b\b\b\b\b\b\b\b\b\b\b\b\b\b\b\b\b\b\b\b\b\r125/125 [==============================] - 36s 287ms/step - loss: 0.1137 - accuracy: 0.9675 - val_loss: 0.1126 - val_accuracy: 0.9675 - lr: 2.0000e-04\n",
            "Epoch 46/180\n",
            "125/125 [==============================] - ETA: 0s - loss: 0.1130 - accuracy: 0.9675\n",
            "Epoch 00046: val_accuracy improved from 0.96747 to 0.96748, saving model to ion_switch/res/wavenet-dlr-res/ClassifierCBRWmulti-Prob11-NESCAL/all/3_fold/checkpoint-modelonly-3.h5\n"
          ],
          "name": "stdout"
        },
        {
          "output_type": "stream",
          "text": [
            "2020-05-13 08:35:08,239 INFO \n",
            " epoch:045, F1Macro: 0.93739\n"
          ],
          "name": "stderr"
        },
        {
          "output_type": "stream",
          "text": [
            "\b\b\b\b\b\b\b\b\b\b\b\b\b\b\b\b\b\b\b\b\b\b\b\b\b\b\b\b\b\b\b\b\b\b\b\b\b\b\b\b\b\b\b\b\b\b\b\b\b\b\b\b\b\b\b\b\b\b\b\b\b\b\b\b\b\b\b\b\b\b\b\b\b\b\b\b\b\b\b\b\b\b\b\b\r125/125 [==============================] - 36s 287ms/step - loss: 0.1130 - accuracy: 0.9675 - val_loss: 0.1118 - val_accuracy: 0.9675 - lr: 2.0000e-04\n",
            "Epoch 47/180\n",
            "125/125 [==============================] - ETA: 0s - loss: 0.1127 - accuracy: 0.9674\n",
            "Epoch 00047: val_accuracy did not improve from 0.96748\n"
          ],
          "name": "stdout"
        },
        {
          "output_type": "stream",
          "text": [
            "2020-05-13 08:35:43,740 INFO \n",
            " epoch:046, F1Macro: 0.93657\n"
          ],
          "name": "stderr"
        },
        {
          "output_type": "stream",
          "text": [
            "\b\b\b\b\b\b\b\b\b\b\b\b\b\b\b\b\b\b\b\b\b\b\b\b\b\b\b\b\b\b\b\b\b\b\b\b\b\b\b\b\b\b\b\b\b\b\b\b\b\b\b\b\b\b\b\b\b\b\b\b\b\b\b\b\b\b\b\b\b\b\b\b\b\b\b\b\b\b\b\b\b\b\b\b\r125/125 [==============================] - 34s 276ms/step - loss: 0.1127 - accuracy: 0.9674 - val_loss: 0.1117 - val_accuracy: 0.9672 - lr: 2.0000e-04\n",
            "Epoch 48/180\n",
            "125/125 [==============================] - ETA: 0s - loss: 0.1118 - accuracy: 0.9675\n",
            "Epoch 00048: val_accuracy did not improve from 0.96748\n"
          ],
          "name": "stdout"
        },
        {
          "output_type": "stream",
          "text": [
            "2020-05-13 08:36:18,450 INFO \n",
            " epoch:047, F1Macro: 0.93653\n"
          ],
          "name": "stderr"
        },
        {
          "output_type": "stream",
          "text": [
            "\b\b\b\b\b\b\b\b\b\b\b\b\b\b\b\b\b\b\b\b\b\b\b\b\b\b\b\b\b\b\b\b\b\b\b\b\b\b\b\b\b\b\b\b\b\b\b\b\b\b\b\b\b\b\b\b\b\b\b\b\b\b\b\b\b\b\b\b\b\b\b\b\b\b\b\b\b\b\b\b\b\b\b\b\r125/125 [==============================] - 34s 276ms/step - loss: 0.1118 - accuracy: 0.9675 - val_loss: 0.1116 - val_accuracy: 0.9673 - lr: 2.0000e-04\n",
            "Epoch 49/180\n",
            "125/125 [==============================] - ETA: 0s - loss: 0.1111 - accuracy: 0.9676\n",
            "Epoch 00049: val_accuracy did not improve from 0.96748\n"
          ],
          "name": "stdout"
        },
        {
          "output_type": "stream",
          "text": [
            "2020-05-13 08:36:53,190 INFO \n",
            " epoch:048, F1Macro: 0.93490\n"
          ],
          "name": "stderr"
        },
        {
          "output_type": "stream",
          "text": [
            "\b\b\b\b\b\b\b\b\b\b\b\b\b\b\b\b\b\b\b\b\b\b\b\b\b\b\b\b\b\b\b\b\b\b\b\b\b\b\b\b\b\b\b\b\b\b\b\b\b\b\b\b\b\b\b\b\b\b\b\b\b\b\b\b\b\b\b\b\b\b\b\b\b\b\b\b\b\b\b\b\b\b\b\b\r125/125 [==============================] - 34s 276ms/step - loss: 0.1111 - accuracy: 0.9676 - val_loss: 0.1120 - val_accuracy: 0.9669 - lr: 2.0000e-04\n",
            "Epoch 50/180\n",
            "125/125 [==============================] - ETA: 0s - loss: 0.1105 - accuracy: 0.9676\n",
            "Epoch 00050: val_accuracy did not improve from 0.96748\n"
          ],
          "name": "stdout"
        },
        {
          "output_type": "stream",
          "text": [
            "2020-05-13 08:37:28,022 INFO \n",
            " epoch:049, F1Macro: 0.93690\n"
          ],
          "name": "stderr"
        },
        {
          "output_type": "stream",
          "text": [
            "\b\b\b\b\b\b\b\b\b\b\b\b\b\b\b\b\b\b\b\b\b\b\b\b\b\b\b\b\b\b\b\b\b\b\b\b\b\b\b\b\b\b\b\b\b\b\b\b\b\b\b\b\b\b\b\b\b\b\b\b\b\b\b\b\b\b\b\b\b\b\b\b\b\b\b\b\b\b\b\b\b\b\b\b\r125/125 [==============================] - 35s 277ms/step - loss: 0.1105 - accuracy: 0.9676 - val_loss: 0.1098 - val_accuracy: 0.9674 - lr: 2.0000e-04\n",
            "Epoch 51/180\n",
            "125/125 [==============================] - ETA: 0s - loss: 0.1092 - accuracy: 0.9678\n",
            "Epoch 00051: val_accuracy improved from 0.96748 to 0.96768, saving model to ion_switch/res/wavenet-dlr-res/ClassifierCBRWmulti-Prob11-NESCAL/all/3_fold/checkpoint-modelonly-3.h5\n"
          ],
          "name": "stdout"
        },
        {
          "output_type": "stream",
          "text": [
            "2020-05-13 08:38:03,452 INFO \n",
            " epoch:050, F1Macro: 0.93762\n"
          ],
          "name": "stderr"
        },
        {
          "output_type": "stream",
          "text": [
            "\b\b\b\b\b\b\b\b\b\b\b\b\b\b\b\b\b\b\b\b\b\b\b\b\b\b\b\b\b\b\b\b\b\b\b\b\b\b\b\b\b\b\b\b\b\b\b\b\b\b\b\b\b\b\b\b\b\b\b\b\b\b\b\b\b\b\b\b\b\b\b\b\b\b\b\b\b\b\b\b\b\b\b\b\r125/125 [==============================] - 36s 287ms/step - loss: 0.1092 - accuracy: 0.9678 - val_loss: 0.1088 - val_accuracy: 0.9677 - lr: 1.4286e-04\n",
            "Epoch 52/180\n",
            "125/125 [==============================] - ETA: 0s - loss: 0.1089 - accuracy: 0.9678\n",
            "Epoch 00052: val_accuracy did not improve from 0.96768\n"
          ],
          "name": "stdout"
        },
        {
          "output_type": "stream",
          "text": [
            "2020-05-13 08:38:38,970 INFO \n",
            " epoch:051, F1Macro: 0.93683\n"
          ],
          "name": "stderr"
        },
        {
          "output_type": "stream",
          "text": [
            "\b\b\b\b\b\b\b\b\b\b\b\b\b\b\b\b\b\b\b\b\b\b\b\b\b\b\b\b\b\b\b\b\b\b\b\b\b\b\b\b\b\b\b\b\b\b\b\b\b\b\b\b\b\b\b\b\b\b\b\b\b\b\b\b\b\b\b\b\b\b\b\b\b\b\b\b\b\b\b\b\b\b\b\b\r125/125 [==============================] - 35s 276ms/step - loss: 0.1089 - accuracy: 0.9678 - val_loss: 0.1091 - val_accuracy: 0.9674 - lr: 1.4286e-04\n",
            "Epoch 53/180\n",
            "125/125 [==============================] - ETA: 0s - loss: 0.1084 - accuracy: 0.9678\n",
            "Epoch 00053: val_accuracy did not improve from 0.96768\n"
          ],
          "name": "stdout"
        },
        {
          "output_type": "stream",
          "text": [
            "2020-05-13 08:39:13,729 INFO \n",
            " epoch:052, F1Macro: 0.93677\n"
          ],
          "name": "stderr"
        },
        {
          "output_type": "stream",
          "text": [
            "\b\b\b\b\b\b\b\b\b\b\b\b\b\b\b\b\b\b\b\b\b\b\b\b\b\b\b\b\b\b\b\b\b\b\b\b\b\b\b\b\b\b\b\b\b\b\b\b\b\b\b\b\b\b\b\b\b\b\b\b\b\b\b\b\b\b\b\b\b\b\b\b\b\b\b\b\b\b\b\b\b\b\b\b\r125/125 [==============================] - 34s 276ms/step - loss: 0.1084 - accuracy: 0.9678 - val_loss: 0.1088 - val_accuracy: 0.9673 - lr: 1.4286e-04\n",
            "Epoch 54/180\n",
            "125/125 [==============================] - ETA: 0s - loss: 0.1085 - accuracy: 0.9675\n",
            "Epoch 00054: val_accuracy did not improve from 0.96768\n"
          ],
          "name": "stdout"
        },
        {
          "output_type": "stream",
          "text": [
            "2020-05-13 08:39:48,399 INFO \n",
            " epoch:053, F1Macro: 0.93622\n"
          ],
          "name": "stderr"
        },
        {
          "output_type": "stream",
          "text": [
            "\b\b\b\b\b\b\b\b\b\b\b\b\b\b\b\b\b\b\b\b\b\b\b\b\b\b\b\b\b\b\b\b\b\b\b\b\b\b\b\b\b\b\b\b\b\b\b\b\b\b\b\b\b\b\b\b\b\b\b\b\b\b\b\b\b\b\b\b\b\b\b\b\b\b\b\b\b\b\b\b\b\b\b\b\r125/125 [==============================] - 34s 275ms/step - loss: 0.1085 - accuracy: 0.9675 - val_loss: 0.1088 - val_accuracy: 0.9671 - lr: 1.4286e-04\n",
            "Epoch 55/180\n",
            "125/125 [==============================] - ETA: 0s - loss: 0.1075 - accuracy: 0.9678\n",
            "Epoch 00055: val_accuracy did not improve from 0.96768\n"
          ],
          "name": "stdout"
        },
        {
          "output_type": "stream",
          "text": [
            "2020-05-13 08:40:23,021 INFO \n",
            " epoch:054, F1Macro: 0.93661\n"
          ],
          "name": "stderr"
        },
        {
          "output_type": "stream",
          "text": [
            "\b\b\b\b\b\b\b\b\b\b\b\b\b\b\b\b\b\b\b\b\b\b\b\b\b\b\b\b\b\b\b\b\b\b\b\b\b\b\b\b\b\b\b\b\b\b\b\b\b\b\b\b\b\b\b\b\b\b\b\b\b\b\b\b\b\b\b\b\b\b\b\b\b\b\b\b\b\b\b\b\b\b\b\b\r125/125 [==============================] - 34s 275ms/step - loss: 0.1075 - accuracy: 0.9678 - val_loss: 0.1076 - val_accuracy: 0.9674 - lr: 1.4286e-04\n",
            "Epoch 56/180\n",
            "125/125 [==============================] - ETA: 0s - loss: 0.1065 - accuracy: 0.9680\n",
            "Epoch 00056: val_accuracy improved from 0.96768 to 0.96779, saving model to ion_switch/res/wavenet-dlr-res/ClassifierCBRWmulti-Prob11-NESCAL/all/3_fold/checkpoint-modelonly-3.h5\n"
          ],
          "name": "stdout"
        },
        {
          "output_type": "stream",
          "text": [
            "2020-05-13 08:40:58,479 INFO \n",
            " epoch:055, F1Macro: 0.93755\n"
          ],
          "name": "stderr"
        },
        {
          "output_type": "stream",
          "text": [
            "\b\b\b\b\b\b\b\b\b\b\b\b\b\b\b\b\b\b\b\b\b\b\b\b\b\b\b\b\b\b\b\b\b\b\b\b\b\b\b\b\b\b\b\b\b\b\b\b\b\b\b\b\b\b\b\b\b\b\b\b\b\b\b\b\b\b\b\b\b\b\b\b\b\b\b\b\b\b\b\b\b\b\b\b\r125/125 [==============================] - 35s 282ms/step - loss: 0.1065 - accuracy: 0.9680 - val_loss: 0.1065 - val_accuracy: 0.9678 - lr: 1.4286e-04\n",
            "Epoch 57/180\n",
            "125/125 [==============================] - ETA: 0s - loss: 0.1060 - accuracy: 0.9680\n",
            "Epoch 00057: val_accuracy did not improve from 0.96779\n"
          ],
          "name": "stdout"
        },
        {
          "output_type": "stream",
          "text": [
            "2020-05-13 08:41:33,220 INFO \n",
            " epoch:056, F1Macro: 0.93728\n"
          ],
          "name": "stderr"
        },
        {
          "output_type": "stream",
          "text": [
            "\b\b\b\b\b\b\b\b\b\b\b\b\b\b\b\b\b\b\b\b\b\b\b\b\b\b\b\b\b\b\b\b\b\b\b\b\b\b\b\b\b\b\b\b\b\b\b\b\b\b\b\b\b\b\b\b\b\b\b\b\b\b\b\b\b\b\b\b\b\b\b\b\b\b\b\b\b\b\b\b\b\b\b\b\r125/125 [==============================] - 34s 276ms/step - loss: 0.1060 - accuracy: 0.9680 - val_loss: 0.1066 - val_accuracy: 0.9674 - lr: 1.4286e-04\n",
            "Epoch 58/180\n",
            "125/125 [==============================] - ETA: 0s - loss: 0.1066 - accuracy: 0.9677\n",
            "Epoch 00058: val_accuracy did not improve from 0.96779\n"
          ],
          "name": "stdout"
        },
        {
          "output_type": "stream",
          "text": [
            "2020-05-13 08:42:07,915 INFO \n",
            " epoch:057, F1Macro: 0.93484\n"
          ],
          "name": "stderr"
        },
        {
          "output_type": "stream",
          "text": [
            "\b\b\b\b\b\b\b\b\b\b\b\b\b\b\b\b\b\b\b\b\b\b\b\b\b\b\b\b\b\b\b\b\b\b\b\b\b\b\b\b\b\b\b\b\b\b\b\b\b\b\b\b\b\b\b\b\b\b\b\b\b\b\b\b\b\b\b\b\b\b\b\b\b\b\b\b\b\b\b\b\b\b\b\b\r125/125 [==============================] - 34s 275ms/step - loss: 0.1066 - accuracy: 0.9677 - val_loss: 0.1079 - val_accuracy: 0.9668 - lr: 1.4286e-04\n",
            "Epoch 59/180\n",
            "125/125 [==============================] - ETA: 0s - loss: 0.1059 - accuracy: 0.9677\n",
            "Epoch 00059: val_accuracy did not improve from 0.96779\n"
          ],
          "name": "stdout"
        },
        {
          "output_type": "stream",
          "text": [
            "2020-05-13 08:42:42,615 INFO \n",
            " epoch:058, F1Macro: 0.93591\n"
          ],
          "name": "stderr"
        },
        {
          "output_type": "stream",
          "text": [
            "\b\b\b\b\b\b\b\b\b\b\b\b\b\b\b\b\b\b\b\b\b\b\b\b\b\b\b\b\b\b\b\b\b\b\b\b\b\b\b\b\b\b\b\b\b\b\b\b\b\b\b\b\b\b\b\b\b\b\b\b\b\b\b\b\b\b\b\b\b\b\b\b\b\b\b\b\b\b\b\b\b\b\b\b\r125/125 [==============================] - 34s 275ms/step - loss: 0.1059 - accuracy: 0.9677 - val_loss: 0.1068 - val_accuracy: 0.9670 - lr: 1.4286e-04\n",
            "Epoch 60/180\n",
            "125/125 [==============================] - ETA: 0s - loss: 0.1045 - accuracy: 0.9681\n",
            "Epoch 00060: val_accuracy did not improve from 0.96779\n"
          ],
          "name": "stdout"
        },
        {
          "output_type": "stream",
          "text": [
            "2020-05-13 08:43:17,255 INFO \n",
            " epoch:059, F1Macro: 0.93749\n"
          ],
          "name": "stderr"
        },
        {
          "output_type": "stream",
          "text": [
            "\b\b\b\b\b\b\b\b\b\b\b\b\b\b\b\b\b\b\b\b\b\b\b\b\b\b\b\b\b\b\b\b\b\b\b\b\b\b\b\b\b\b\b\b\b\b\b\b\b\b\b\b\b\b\b\b\b\b\b\b\b\b\b\b\b\b\b\b\b\b\b\b\b\b\b\b\b\b\b\b\b\b\b\b\r125/125 [==============================] - 34s 275ms/step - loss: 0.1045 - accuracy: 0.9681 - val_loss: 0.1047 - val_accuracy: 0.9677 - lr: 1.4286e-04\n",
            "Epoch 61/180\n",
            "125/125 [==============================] - ETA: 0s - loss: 0.1041 - accuracy: 0.9680\n",
            "Epoch 00061: val_accuracy did not improve from 0.96779\n"
          ],
          "name": "stdout"
        },
        {
          "output_type": "stream",
          "text": [
            "2020-05-13 08:43:52,012 INFO \n",
            " epoch:060, F1Macro: 0.93706\n"
          ],
          "name": "stderr"
        },
        {
          "output_type": "stream",
          "text": [
            "\b\b\b\b\b\b\b\b\b\b\b\b\b\b\b\b\b\b\b\b\b\b\b\b\b\b\b\b\b\b\b\b\b\b\b\b\b\b\b\b\b\b\b\b\b\b\b\b\b\b\b\b\b\b\b\b\b\b\b\b\b\b\b\b\b\b\b\b\b\b\b\b\b\b\b\b\b\b\b\b\b\b\b\b\r125/125 [==============================] - 34s 276ms/step - loss: 0.1041 - accuracy: 0.9680 - val_loss: 0.1047 - val_accuracy: 0.9675 - lr: 1.1111e-04\n",
            "Epoch 62/180\n",
            "125/125 [==============================] - ETA: 0s - loss: 0.1036 - accuracy: 0.9682\n",
            "Epoch 00062: val_accuracy did not improve from 0.96779\n"
          ],
          "name": "stdout"
        },
        {
          "output_type": "stream",
          "text": [
            "2020-05-13 08:44:26,726 INFO \n",
            " epoch:061, F1Macro: 0.93720\n"
          ],
          "name": "stderr"
        },
        {
          "output_type": "stream",
          "text": [
            "\b\b\b\b\b\b\b\b\b\b\b\b\b\b\b\b\b\b\b\b\b\b\b\b\b\b\b\b\b\b\b\b\b\b\b\b\b\b\b\b\b\b\b\b\b\b\b\b\b\b\b\b\b\b\b\b\b\b\b\b\b\b\b\b\b\b\b\b\b\b\b\b\b\b\b\b\b\b\b\b\b\b\b\b\r125/125 [==============================] - 34s 276ms/step - loss: 0.1036 - accuracy: 0.9682 - val_loss: 0.1043 - val_accuracy: 0.9675 - lr: 1.1111e-04\n",
            "Epoch 63/180\n",
            "125/125 [==============================] - ETA: 0s - loss: 0.1034 - accuracy: 0.9681\n",
            "Epoch 00063: val_accuracy did not improve from 0.96779\n"
          ],
          "name": "stdout"
        },
        {
          "output_type": "stream",
          "text": [
            "2020-05-13 08:45:01,395 INFO \n",
            " epoch:062, F1Macro: 0.93774\n"
          ],
          "name": "stderr"
        },
        {
          "output_type": "stream",
          "text": [
            "\b\b\b\b\b\b\b\b\b\b\b\b\b\b\b\b\b\b\b\b\b\b\b\b\b\b\b\b\b\b\b\b\b\b\b\b\b\b\b\b\b\b\b\b\b\b\b\b\b\b\b\b\b\b\b\b\b\b\b\b\b\b\b\b\b\b\b\b\b\b\b\b\b\b\b\b\b\b\b\b\b\b\b\b\r125/125 [==============================] - 35s 281ms/step - loss: 0.1034 - accuracy: 0.9681 - val_loss: 0.1034 - val_accuracy: 0.9678 - lr: 1.1111e-04\n",
            "Epoch 64/180\n",
            "125/125 [==============================] - ETA: 0s - loss: 0.1025 - accuracy: 0.9683\n",
            "Epoch 00064: val_accuracy did not improve from 0.96779\n"
          ],
          "name": "stdout"
        },
        {
          "output_type": "stream",
          "text": [
            "2020-05-13 08:45:36,680 INFO \n",
            " epoch:063, F1Macro: 0.93686\n"
          ],
          "name": "stderr"
        },
        {
          "output_type": "stream",
          "text": [
            "\b\b\b\b\b\b\b\b\b\b\b\b\b\b\b\b\b\b\b\b\b\b\b\b\b\b\b\b\b\b\b\b\b\b\b\b\b\b\b\b\b\b\b\b\b\b\b\b\b\b\b\b\b\b\b\b\b\b\b\b\b\b\b\b\b\b\b\b\b\b\b\b\b\b\b\b\b\b\b\b\b\b\b\b\r125/125 [==============================] - 34s 274ms/step - loss: 0.1025 - accuracy: 0.9683 - val_loss: 0.1038 - val_accuracy: 0.9674 - lr: 1.1111e-04\n",
            "Epoch 65/180\n",
            "125/125 [==============================] - ETA: 0s - loss: 0.1113 - accuracy: 0.9657\n",
            "Epoch 00065: val_accuracy did not improve from 0.96779\n"
          ],
          "name": "stdout"
        },
        {
          "output_type": "stream",
          "text": [
            "2020-05-13 08:46:11,378 INFO \n",
            " epoch:064, F1Macro: 0.93546\n"
          ],
          "name": "stderr"
        },
        {
          "output_type": "stream",
          "text": [
            "\b\b\b\b\b\b\b\b\b\b\b\b\b\b\b\b\b\b\b\b\b\b\b\b\b\b\b\b\b\b\b\b\b\b\b\b\b\b\b\b\b\b\b\b\b\b\b\b\b\b\b\b\b\b\b\b\b\b\b\b\b\b\b\b\b\b\b\b\b\b\b\b\b\b\b\b\b\b\b\b\b\b\b\b\r125/125 [==============================] - 34s 275ms/step - loss: 0.1113 - accuracy: 0.9657 - val_loss: 0.1040 - val_accuracy: 0.9673 - lr: 1.1111e-04\n",
            "Epoch 66/180\n",
            "125/125 [==============================] - ETA: 0s - loss: 0.1020 - accuracy: 0.9683\n",
            "Epoch 00066: val_accuracy did not improve from 0.96779\n"
          ],
          "name": "stdout"
        },
        {
          "output_type": "stream",
          "text": [
            "2020-05-13 08:46:46,096 INFO \n",
            " epoch:065, F1Macro: 0.93759\n"
          ],
          "name": "stderr"
        },
        {
          "output_type": "stream",
          "text": [
            "\b\b\b\b\b\b\b\b\b\b\b\b\b\b\b\b\b\b\b\b\b\b\b\b\b\b\b\b\b\b\b\b\b\b\b\b\b\b\b\b\b\b\b\b\b\b\b\b\b\b\b\b\b\b\b\b\b\b\b\b\b\b\b\b\b\b\b\b\b\b\b\b\b\b\b\b\b\b\b\b\b\b\b\b\r125/125 [==============================] - 34s 276ms/step - loss: 0.1020 - accuracy: 0.9683 - val_loss: 0.1023 - val_accuracy: 0.9678 - lr: 1.1111e-04\n",
            "Epoch 67/180\n",
            "125/125 [==============================] - ETA: 0s - loss: 0.1022 - accuracy: 0.9681\n",
            "Epoch 00067: val_accuracy did not improve from 0.96779\n"
          ],
          "name": "stdout"
        },
        {
          "output_type": "stream",
          "text": [
            "2020-05-13 08:47:20,754 INFO \n",
            " epoch:066, F1Macro: 0.93758\n"
          ],
          "name": "stderr"
        },
        {
          "output_type": "stream",
          "text": [
            "\b\b\b\b\b\b\b\b\b\b\b\b\b\b\b\b\b\b\b\b\b\b\b\b\b\b\b\b\b\b\b\b\b\b\b\b\b\b\b\b\b\b\b\b\b\b\b\b\b\b\b\b\b\b\b\b\b\b\b\b\b\b\b\b\b\b\b\b\b\b\b\b\b\b\b\b\b\b\b\b\b\b\b\b\r125/125 [==============================] - 34s 275ms/step - loss: 0.1022 - accuracy: 0.9681 - val_loss: 0.1022 - val_accuracy: 0.9677 - lr: 1.1111e-04\n",
            "Epoch 68/180\n",
            "125/125 [==============================] - ETA: 0s - loss: 0.1014 - accuracy: 0.9683\n",
            "Epoch 00068: val_accuracy did not improve from 0.96779\n"
          ],
          "name": "stdout"
        },
        {
          "output_type": "stream",
          "text": [
            "2020-05-13 08:47:55,370 INFO \n",
            " epoch:067, F1Macro: 0.93711\n"
          ],
          "name": "stderr"
        },
        {
          "output_type": "stream",
          "text": [
            "\b\b\b\b\b\b\b\b\b\b\b\b\b\b\b\b\b\b\b\b\b\b\b\b\b\b\b\b\b\b\b\b\b\b\b\b\b\b\b\b\b\b\b\b\b\b\b\b\b\b\b\b\b\b\b\b\b\b\b\b\b\b\b\b\b\b\b\b\b\b\b\b\b\b\b\b\b\b\b\b\b\b\b\b\r125/125 [==============================] - 34s 275ms/step - loss: 0.1014 - accuracy: 0.9683 - val_loss: 0.1027 - val_accuracy: 0.9674 - lr: 1.1111e-04\n",
            "Epoch 69/180\n",
            "125/125 [==============================] - ETA: 0s - loss: 0.1007 - accuracy: 0.9684\n",
            "Epoch 00069: val_accuracy did not improve from 0.96779\n"
          ],
          "name": "stdout"
        },
        {
          "output_type": "stream",
          "text": [
            "2020-05-13 08:48:30,053 INFO \n",
            " epoch:068, F1Macro: 0.93733\n"
          ],
          "name": "stderr"
        },
        {
          "output_type": "stream",
          "text": [
            "\b\b\b\b\b\b\b\b\b\b\b\b\b\b\b\b\b\b\b\b\b\b\b\b\b\b\b\b\b\b\b\b\b\b\b\b\b\b\b\b\b\b\b\b\b\b\b\b\b\b\b\b\b\b\b\b\b\b\b\b\b\b\b\b\b\b\b\b\b\b\b\b\b\b\b\b\b\b\b\b\b\b\b\b\r125/125 [==============================] - 34s 275ms/step - loss: 0.1007 - accuracy: 0.9684 - val_loss: 0.1017 - val_accuracy: 0.9677 - lr: 1.1111e-04\n",
            "Epoch 70/180\n",
            "125/125 [==============================] - ETA: 0s - loss: 0.1009 - accuracy: 0.9682\n",
            "Epoch 00070: val_accuracy did not improve from 0.96779\n"
          ],
          "name": "stdout"
        },
        {
          "output_type": "stream",
          "text": [
            "2020-05-13 08:49:04,794 INFO \n",
            " epoch:069, F1Macro: 0.93719\n"
          ],
          "name": "stderr"
        },
        {
          "output_type": "stream",
          "text": [
            "\b\b\b\b\b\b\b\b\b\b\b\b\b\b\b\b\b\b\b\b\b\b\b\b\b\b\b\b\b\b\b\b\b\b\b\b\b\b\b\b\b\b\b\b\b\b\b\b\b\b\b\b\b\b\b\b\b\b\b\b\b\b\b\b\b\b\b\b\b\b\b\b\b\b\b\b\b\b\b\b\b\b\b\b\r125/125 [==============================] - 34s 276ms/step - loss: 0.1009 - accuracy: 0.9682 - val_loss: 0.1021 - val_accuracy: 0.9675 - lr: 1.1111e-04\n",
            "Epoch 71/180\n",
            "125/125 [==============================] - ETA: 0s - loss: 0.1002 - accuracy: 0.9683\n",
            "Epoch 00071: val_accuracy did not improve from 0.96779\n"
          ],
          "name": "stdout"
        },
        {
          "output_type": "stream",
          "text": [
            "2020-05-13 08:49:39,469 INFO \n",
            " epoch:070, F1Macro: 0.93749\n"
          ],
          "name": "stderr"
        },
        {
          "output_type": "stream",
          "text": [
            "\b\b\b\b\b\b\b\b\b\b\b\b\b\b\b\b\b\b\b\b\b\b\b\b\b\b\b\b\b\b\b\b\b\b\b\b\b\b\b\b\b\b\b\b\b\b\b\b\b\b\b\b\b\b\b\b\b\b\b\b\b\b\b\b\b\b\b\b\b\b\b\b\b\b\b\b\b\b\b\b\b\b\b\b\r125/125 [==============================] - 34s 275ms/step - loss: 0.1002 - accuracy: 0.9683 - val_loss: 0.1012 - val_accuracy: 0.9677 - lr: 9.0909e-05\n",
            "Epoch 72/180\n",
            "125/125 [==============================] - ETA: 0s - loss: 0.0996 - accuracy: 0.9685\n",
            "Epoch 00072: val_accuracy did not improve from 0.96779\n"
          ],
          "name": "stdout"
        },
        {
          "output_type": "stream",
          "text": [
            "2020-05-13 08:50:14,071 INFO \n",
            " epoch:071, F1Macro: 0.93751\n"
          ],
          "name": "stderr"
        },
        {
          "output_type": "stream",
          "text": [
            "\b\b\b\b\b\b\b\b\b\b\b\b\b\b\b\b\b\b\b\b\b\b\b\b\b\b\b\b\b\b\b\b\b\b\b\b\b\b\b\b\b\b\b\b\b\b\b\b\b\b\b\b\b\b\b\b\b\b\b\b\b\b\b\b\b\b\b\b\b\b\b\b\b\b\b\b\b\b\b\b\b\b\b\b\r125/125 [==============================] - 34s 275ms/step - loss: 0.0996 - accuracy: 0.9685 - val_loss: 0.1009 - val_accuracy: 0.9676 - lr: 9.0909e-05\n",
            "Epoch 73/180\n",
            "125/125 [==============================] - ETA: 0s - loss: 0.0995 - accuracy: 0.9684\n",
            "Epoch 00073: val_accuracy did not improve from 0.96779\n"
          ],
          "name": "stdout"
        },
        {
          "output_type": "stream",
          "text": [
            "2020-05-13 08:50:48,747 INFO \n",
            " epoch:072, F1Macro: 0.93748\n"
          ],
          "name": "stderr"
        },
        {
          "output_type": "stream",
          "text": [
            "\b\b\b\b\b\b\b\b\b\b\b\b\b\b\b\b\b\b\b\b\b\b\b\b\b\b\b\b\b\b\b\b\b\b\b\b\b\b\b\b\b\b\b\b\b\b\b\b\b\b\b\b\b\b\b\b\b\b\b\b\b\b\b\b\b\b\b\b\b\b\b\b\b\b\b\b\b\b\b\b\b\b\b\b\r125/125 [==============================] - 34s 275ms/step - loss: 0.0995 - accuracy: 0.9684 - val_loss: 0.1006 - val_accuracy: 0.9677 - lr: 9.0909e-05\n",
            "Epoch 74/180\n",
            "125/125 [==============================] - ETA: 0s - loss: 0.0995 - accuracy: 0.9684\n",
            "Epoch 00074: val_accuracy did not improve from 0.96779\n"
          ],
          "name": "stdout"
        },
        {
          "output_type": "stream",
          "text": [
            "2020-05-13 08:51:23,436 INFO \n",
            " epoch:073, F1Macro: 0.93710\n"
          ],
          "name": "stderr"
        },
        {
          "output_type": "stream",
          "text": [
            "\b\b\b\b\b\b\b\b\b\b\b\b\b\b\b\b\b\b\b\b\b\b\b\b\b\b\b\b\b\b\b\b\b\b\b\b\b\b\b\b\b\b\b\b\b\b\b\b\b\b\b\b\b\b\b\b\b\b\b\b\b\b\b\b\b\b\b\b\b\b\b\b\b\b\b\b\b\b\b\b\b\b\b\b\r125/125 [==============================] - 34s 275ms/step - loss: 0.0995 - accuracy: 0.9684 - val_loss: 0.1009 - val_accuracy: 0.9674 - lr: 9.0909e-05\n",
            "Epoch 75/180\n",
            "125/125 [==============================] - ETA: 0s - loss: 0.0989 - accuracy: 0.9685\n",
            "Epoch 00075: val_accuracy improved from 0.96779 to 0.96789, saving model to ion_switch/res/wavenet-dlr-res/ClassifierCBRWmulti-Prob11-NESCAL/all/3_fold/checkpoint-modelonly-3.h5\n"
          ],
          "name": "stdout"
        },
        {
          "output_type": "stream",
          "text": [
            "2020-05-13 08:51:58,768 INFO \n",
            " epoch:074, F1Macro: 0.93790\n"
          ],
          "name": "stderr"
        },
        {
          "output_type": "stream",
          "text": [
            "\b\b\b\b\b\b\b\b\b\b\b\b\b\b\b\b\b\b\b\b\b\b\b\b\b\b\b\b\b\b\b\b\b\b\b\b\b\b\b\b\b\b\b\b\b\b\b\b\b\b\b\b\b\b\b\b\b\b\b\b\b\b\b\b\b\b\b\b\b\b\b\b\b\b\b\b\b\b\b\b\b\b\b\b\r125/125 [==============================] - 36s 287ms/step - loss: 0.0989 - accuracy: 0.9685 - val_loss: 0.0999 - val_accuracy: 0.9679 - lr: 9.0909e-05\n",
            "Epoch 76/180\n",
            "125/125 [==============================] - ETA: 0s - loss: 0.0987 - accuracy: 0.9684\n",
            "Epoch 00076: val_accuracy did not improve from 0.96789\n"
          ],
          "name": "stdout"
        },
        {
          "output_type": "stream",
          "text": [
            "2020-05-13 08:52:34,163 INFO \n",
            " epoch:075, F1Macro: 0.93768\n"
          ],
          "name": "stderr"
        },
        {
          "output_type": "stream",
          "text": [
            "\b\b\b\b\b\b\b\b\b\b\b\b\b\b\b\b\b\b\b\b\b\b\b\b\b\b\b\b\b\b\b\b\b\b\b\b\b\b\b\b\b\b\b\b\b\b\b\b\b\b\b\b\b\b\b\b\b\b\b\b\b\b\b\b\b\b\b\b\b\b\b\b\b\b\b\b\b\b\b\b\b\b\b\b\r125/125 [==============================] - 34s 275ms/step - loss: 0.0987 - accuracy: 0.9684 - val_loss: 0.1001 - val_accuracy: 0.9677 - lr: 9.0909e-05\n",
            "Epoch 77/180\n",
            "125/125 [==============================] - ETA: 0s - loss: 0.0989 - accuracy: 0.9683\n",
            "Epoch 00077: val_accuracy did not improve from 0.96789\n"
          ],
          "name": "stdout"
        },
        {
          "output_type": "stream",
          "text": [
            "2020-05-13 08:53:08,858 INFO \n",
            " epoch:076, F1Macro: 0.93762\n"
          ],
          "name": "stderr"
        },
        {
          "output_type": "stream",
          "text": [
            "\b\b\b\b\b\b\b\b\b\b\b\b\b\b\b\b\b\b\b\b\b\b\b\b\b\b\b\b\b\b\b\b\b\b\b\b\b\b\b\b\b\b\b\b\b\b\b\b\b\b\b\b\b\b\b\b\b\b\b\b\b\b\b\b\b\b\b\b\b\b\b\b\b\b\b\b\b\b\b\b\b\b\b\b\r125/125 [==============================] - 34s 275ms/step - loss: 0.0989 - accuracy: 0.9683 - val_loss: 0.1000 - val_accuracy: 0.9677 - lr: 9.0909e-05\n",
            "Epoch 78/180\n",
            "125/125 [==============================] - ETA: 0s - loss: 0.0983 - accuracy: 0.9684\n",
            "Epoch 00078: val_accuracy improved from 0.96789 to 0.96789, saving model to ion_switch/res/wavenet-dlr-res/ClassifierCBRWmulti-Prob11-NESCAL/all/3_fold/checkpoint-modelonly-3.h5\n"
          ],
          "name": "stdout"
        },
        {
          "output_type": "stream",
          "text": [
            "2020-05-13 08:53:44,281 INFO \n",
            " epoch:077, F1Macro: 0.93780\n"
          ],
          "name": "stderr"
        },
        {
          "output_type": "stream",
          "text": [
            "\b\b\b\b\b\b\b\b\b\b\b\b\b\b\b\b\b\b\b\b\b\b\b\b\b\b\b\b\b\b\b\b\b\b\b\b\b\b\b\b\b\b\b\b\b\b\b\b\b\b\b\b\b\b\b\b\b\b\b\b\b\b\b\b\b\b\b\b\b\b\b\b\b\b\b\b\b\b\b\b\b\b\b\b\r125/125 [==============================] - 35s 281ms/step - loss: 0.0983 - accuracy: 0.9684 - val_loss: 0.0990 - val_accuracy: 0.9679 - lr: 9.0909e-05\n",
            "Epoch 79/180\n",
            "125/125 [==============================] - ETA: 0s - loss: 0.0982 - accuracy: 0.9684\n",
            "Epoch 00079: val_accuracy did not improve from 0.96789\n"
          ],
          "name": "stdout"
        },
        {
          "output_type": "stream",
          "text": [
            "2020-05-13 08:54:18,968 INFO \n",
            " epoch:078, F1Macro: 0.93737\n"
          ],
          "name": "stderr"
        },
        {
          "output_type": "stream",
          "text": [
            "\b\b\b\b\b\b\b\b\b\b\b\b\b\b\b\b\b\b\b\b\b\b\b\b\b\b\b\b\b\b\b\b\b\b\b\b\b\b\b\b\b\b\b\b\b\b\b\b\b\b\b\b\b\b\b\b\b\b\b\b\b\b\b\b\b\b\b\b\b\b\b\b\b\b\b\b\b\b\b\b\b\b\b\b\r125/125 [==============================] - 34s 275ms/step - loss: 0.0982 - accuracy: 0.9684 - val_loss: 0.0992 - val_accuracy: 0.9677 - lr: 9.0909e-05\n",
            "Epoch 80/180\n",
            "125/125 [==============================] - ETA: 0s - loss: 0.0975 - accuracy: 0.9686\n",
            "Epoch 00080: val_accuracy did not improve from 0.96789\n"
          ],
          "name": "stdout"
        },
        {
          "output_type": "stream",
          "text": [
            "2020-05-13 08:54:53,598 INFO \n",
            " epoch:079, F1Macro: 0.93747\n"
          ],
          "name": "stderr"
        },
        {
          "output_type": "stream",
          "text": [
            "\b\b\b\b\b\b\b\b\b\b\b\b\b\b\b\b\b\b\b\b\b\b\b\b\b\b\b\b\b\b\b\b\b\b\b\b\b\b\b\b\b\b\b\b\b\b\b\b\b\b\b\b\b\b\b\b\b\b\b\b\b\b\b\b\b\b\b\b\b\b\b\b\b\b\b\b\b\b\b\b\b\b\b\b\r125/125 [==============================] - 34s 275ms/step - loss: 0.0975 - accuracy: 0.9686 - val_loss: 0.0989 - val_accuracy: 0.9677 - lr: 9.0909e-05\n",
            "Epoch 81/180\n",
            "125/125 [==============================] - ETA: 0s - loss: 0.0970 - accuracy: 0.9687\n",
            "Epoch 00081: val_accuracy did not improve from 0.96789\n"
          ],
          "name": "stdout"
        },
        {
          "output_type": "stream",
          "text": [
            "2020-05-13 08:55:28,312 INFO \n",
            " epoch:080, F1Macro: 0.93764\n"
          ],
          "name": "stderr"
        },
        {
          "output_type": "stream",
          "text": [
            "\b\b\b\b\b\b\b\b\b\b\b\b\b\b\b\b\b\b\b\b\b\b\b\b\b\b\b\b\b\b\b\b\b\b\b\b\b\b\b\b\b\b\b\b\b\b\b\b\b\b\b\b\b\b\b\b\b\b\b\b\b\b\b\b\b\b\b\b\b\b\b\b\b\b\b\b\b\b\b\b\b\b\b\b\r125/125 [==============================] - 34s 276ms/step - loss: 0.0970 - accuracy: 0.9687 - val_loss: 0.0983 - val_accuracy: 0.9679 - lr: 7.6923e-05\n",
            "Epoch 82/180\n",
            "125/125 [==============================] - ETA: 0s - loss: 0.0971 - accuracy: 0.9686\n",
            "Epoch 00082: val_accuracy did not improve from 0.96789\n"
          ],
          "name": "stdout"
        },
        {
          "output_type": "stream",
          "text": [
            "2020-05-13 08:56:03,014 INFO \n",
            " epoch:081, F1Macro: 0.93757\n"
          ],
          "name": "stderr"
        },
        {
          "output_type": "stream",
          "text": [
            "\b\b\b\b\b\b\b\b\b\b\b\b\b\b\b\b\b\b\b\b\b\b\b\b\b\b\b\b\b\b\b\b\b\b\b\b\b\b\b\b\b\b\b\b\b\b\b\b\b\b\b\b\b\b\b\b\b\b\b\b\b\b\b\b\b\b\b\b\b\b\b\b\b\b\b\b\b\b\b\b\b\b\b\b\r125/125 [==============================] - 34s 275ms/step - loss: 0.0971 - accuracy: 0.9686 - val_loss: 0.0985 - val_accuracy: 0.9678 - lr: 7.6923e-05\n",
            "Epoch 83/180\n",
            "125/125 [==============================] - ETA: 0s - loss: 0.0964 - accuracy: 0.9688\n",
            "Epoch 00083: val_accuracy did not improve from 0.96789\n"
          ],
          "name": "stdout"
        },
        {
          "output_type": "stream",
          "text": [
            "2020-05-13 08:56:37,673 INFO \n",
            " epoch:082, F1Macro: 0.93783\n"
          ],
          "name": "stderr"
        },
        {
          "output_type": "stream",
          "text": [
            "\b\b\b\b\b\b\b\b\b\b\b\b\b\b\b\b\b\b\b\b\b\b\b\b\b\b\b\b\b\b\b\b\b\b\b\b\b\b\b\b\b\b\b\b\b\b\b\b\b\b\b\b\b\b\b\b\b\b\b\b\b\b\b\b\b\b\b\b\b\b\b\b\b\b\b\b\b\b\b\b\b\b\b\b\r125/125 [==============================] - 34s 275ms/step - loss: 0.0964 - accuracy: 0.9688 - val_loss: 0.0982 - val_accuracy: 0.9678 - lr: 7.6923e-05\n",
            "Epoch 84/180\n",
            "125/125 [==============================] - ETA: 0s - loss: 0.0967 - accuracy: 0.9686\n",
            "Epoch 00084: val_accuracy did not improve from 0.96789\n"
          ],
          "name": "stdout"
        },
        {
          "output_type": "stream",
          "text": [
            "2020-05-13 08:57:12,414 INFO \n",
            " epoch:083, F1Macro: 0.93662\n"
          ],
          "name": "stderr"
        },
        {
          "output_type": "stream",
          "text": [
            "\b\b\b\b\b\b\b\b\b\b\b\b\b\b\b\b\b\b\b\b\b\b\b\b\b\b\b\b\b\b\b\b\b\b\b\b\b\b\b\b\b\b\b\b\b\b\b\b\b\b\b\b\b\b\b\b\b\b\b\b\b\b\b\b\b\b\b\b\b\b\b\b\b\b\b\b\b\b\b\b\b\b\b\b\r125/125 [==============================] - 34s 276ms/step - loss: 0.0967 - accuracy: 0.9686 - val_loss: 0.0988 - val_accuracy: 0.9675 - lr: 7.6923e-05\n",
            "Epoch 85/180\n",
            "125/125 [==============================] - ETA: 0s - loss: 0.0962 - accuracy: 0.9687\n",
            "Epoch 00085: val_accuracy did not improve from 0.96789\n"
          ],
          "name": "stdout"
        },
        {
          "output_type": "stream",
          "text": [
            "2020-05-13 08:57:47,054 INFO \n",
            " epoch:084, F1Macro: 0.93754\n"
          ],
          "name": "stderr"
        },
        {
          "output_type": "stream",
          "text": [
            "\b\b\b\b\b\b\b\b\b\b\b\b\b\b\b\b\b\b\b\b\b\b\b\b\b\b\b\b\b\b\b\b\b\b\b\b\b\b\b\b\b\b\b\b\b\b\b\b\b\b\b\b\b\b\b\b\b\b\b\b\b\b\b\b\b\b\b\b\b\b\b\b\b\b\b\b\b\b\b\b\b\b\b\b\r125/125 [==============================] - 34s 275ms/step - loss: 0.0962 - accuracy: 0.9687 - val_loss: 0.0978 - val_accuracy: 0.9678 - lr: 7.6923e-05\n",
            "Epoch 86/180\n",
            "125/125 [==============================] - ETA: 0s - loss: 0.0957 - accuracy: 0.9687\n",
            "Epoch 00086: val_accuracy did not improve from 0.96789\n"
          ],
          "name": "stdout"
        },
        {
          "output_type": "stream",
          "text": [
            "2020-05-13 08:58:21,730 INFO \n",
            " epoch:085, F1Macro: 0.93738\n"
          ],
          "name": "stderr"
        },
        {
          "output_type": "stream",
          "text": [
            "\b\b\b\b\b\b\b\b\b\b\b\b\b\b\b\b\b\b\b\b\b\b\b\b\b\b\b\b\b\b\b\b\b\b\b\b\b\b\b\b\b\b\b\b\b\b\b\b\b\b\b\b\b\b\b\b\b\b\b\b\b\b\b\b\b\b\b\b\b\b\b\b\b\b\b\b\b\b\b\b\b\b\b\b\r125/125 [==============================] - 34s 275ms/step - loss: 0.0957 - accuracy: 0.9687 - val_loss: 0.0979 - val_accuracy: 0.9678 - lr: 7.6923e-05\n",
            "Epoch 87/180\n",
            "125/125 [==============================] - ETA: 0s - loss: 0.0961 - accuracy: 0.9685\n",
            "Epoch 00087: val_accuracy did not improve from 0.96789\n"
          ],
          "name": "stdout"
        },
        {
          "output_type": "stream",
          "text": [
            "2020-05-13 08:58:56,385 INFO \n",
            " epoch:086, F1Macro: 0.93678\n"
          ],
          "name": "stderr"
        },
        {
          "output_type": "stream",
          "text": [
            "\b\b\b\b\b\b\b\b\b\b\b\b\b\b\b\b\b\b\b\b\b\b\b\b\b\b\b\b\b\b\b\b\b\b\b\b\b\b\b\b\b\b\b\b\b\b\b\b\b\b\b\b\b\b\b\b\b\b\b\b\b\b\b\b\b\b\b\b\b\b\b\b\b\b\b\b\b\b\b\b\b\b\b\b\r125/125 [==============================] - 34s 275ms/step - loss: 0.0961 - accuracy: 0.9685 - val_loss: 0.0980 - val_accuracy: 0.9675 - lr: 7.6923e-05\n",
            "Epoch 88/180\n",
            "125/125 [==============================] - ETA: 0s - loss: 0.0958 - accuracy: 0.9686\n",
            "Epoch 00088: val_accuracy did not improve from 0.96789\n"
          ],
          "name": "stdout"
        },
        {
          "output_type": "stream",
          "text": [
            "2020-05-13 08:59:31,141 INFO \n",
            " epoch:087, F1Macro: 0.93771\n"
          ],
          "name": "stderr"
        },
        {
          "output_type": "stream",
          "text": [
            "\b\b\b\b\b\b\b\b\b\b\b\b\b\b\b\b\b\b\b\b\b\b\b\b\b\b\b\b\b\b\b\b\b\b\b\b\b\b\b\b\b\b\b\b\b\b\b\b\b\b\b\b\b\b\b\b\b\b\b\b\b\b\b\b\b\b\b\b\b\b\b\b\b\b\b\b\b\b\b\b\b\b\b\b\r125/125 [==============================] - 34s 276ms/step - loss: 0.0958 - accuracy: 0.9686 - val_loss: 0.0972 - val_accuracy: 0.9678 - lr: 7.6923e-05\n",
            "Epoch 89/180\n",
            "125/125 [==============================] - ETA: 0s - loss: 0.0951 - accuracy: 0.9688\n",
            "Epoch 00089: val_accuracy did not improve from 0.96789\n"
          ],
          "name": "stdout"
        },
        {
          "output_type": "stream",
          "text": [
            "2020-05-13 09:00:05,874 INFO \n",
            " epoch:088, F1Macro: 0.93732\n"
          ],
          "name": "stderr"
        },
        {
          "output_type": "stream",
          "text": [
            "\b\b\b\b\b\b\b\b\b\b\b\b\b\b\b\b\b\b\b\b\b\b\b\b\b\b\b\b\b\b\b\b\b\b\b\b\b\b\b\b\b\b\b\b\b\b\b\b\b\b\b\b\b\b\b\b\b\b\b\b\b\b\b\b\b\b\b\b\b\b\b\b\b\b\b\b\b\b\b\b\b\b\b\b\r125/125 [==============================] - 34s 276ms/step - loss: 0.0951 - accuracy: 0.9688 - val_loss: 0.0977 - val_accuracy: 0.9676 - lr: 7.6923e-05\n",
            "Epoch 90/180\n",
            "125/125 [==============================] - ETA: 0s - loss: 0.0949 - accuracy: 0.9688\n",
            "Epoch 00090: val_accuracy did not improve from 0.96789\n"
          ],
          "name": "stdout"
        },
        {
          "output_type": "stream",
          "text": [
            "2020-05-13 09:00:40,528 INFO \n",
            " epoch:089, F1Macro: 0.93732\n"
          ],
          "name": "stderr"
        },
        {
          "output_type": "stream",
          "text": [
            "\b\b\b\b\b\b\b\b\b\b\b\b\b\b\b\b\b\b\b\b\b\b\b\b\b\b\b\b\b\b\b\b\b\b\b\b\b\b\b\b\b\b\b\b\b\b\b\b\b\b\b\b\b\b\b\b\b\b\b\b\b\b\b\b\b\b\b\b\b\b\b\b\b\b\b\b\b\b\b\b\b\b\b\b\r125/125 [==============================] - 34s 275ms/step - loss: 0.0949 - accuracy: 0.9688 - val_loss: 0.0965 - val_accuracy: 0.9678 - lr: 7.6923e-05\n",
            "Epoch 91/180\n",
            "125/125 [==============================] - ETA: 0s - loss: 0.0949 - accuracy: 0.9689\n",
            "Epoch 00091: val_accuracy did not improve from 0.96789\n"
          ],
          "name": "stdout"
        },
        {
          "output_type": "stream",
          "text": [
            "2020-05-13 09:01:15,207 INFO \n",
            " epoch:090, F1Macro: 0.93738\n"
          ],
          "name": "stderr"
        },
        {
          "output_type": "stream",
          "text": [
            "\b\b\b\b\b\b\b\b\b\b\b\b\b\b\b\b\b\b\b\b\b\b\b\b\b\b\b\b\b\b\b\b\b\b\b\b\b\b\b\b\b\b\b\b\b\b\b\b\b\b\b\b\b\b\b\b\b\b\b\b\b\b\b\b\b\b\b\b\b\b\b\b\b\b\b\b\b\b\b\b\b\b\b\b\r125/125 [==============================] - 34s 275ms/step - loss: 0.0949 - accuracy: 0.9689 - val_loss: 0.0968 - val_accuracy: 0.9677 - lr: 1.0000e-05\n",
            "Epoch 92/180\n",
            "125/125 [==============================] - ETA: 0s - loss: 0.0942 - accuracy: 0.9690\n",
            "Epoch 00092: val_accuracy improved from 0.96789 to 0.96799, saving model to ion_switch/res/wavenet-dlr-res/ClassifierCBRWmulti-Prob11-NESCAL/all/3_fold/checkpoint-modelonly-3.h5\n"
          ],
          "name": "stdout"
        },
        {
          "output_type": "stream",
          "text": [
            "2020-05-13 09:01:50,459 INFO \n",
            " epoch:091, F1Macro: 0.93796\n"
          ],
          "name": "stderr"
        },
        {
          "output_type": "stream",
          "text": [
            "\b\b\b\b\b\b\b\b\b\b\b\b\b\b\b\b\b\b\b\b\b\b\b\b\b\b\b\b\b\b\b\b\b\b\b\b\b\b\b\b\b\b\b\b\b\b\b\b\b\b\b\b\b\b\b\b\b\b\b\b\b\b\b\b\b\b\b\b\b\b\b\b\b\b\b\b\b\b\b\b\b\b\b\b\r125/125 [==============================] - 36s 286ms/step - loss: 0.0942 - accuracy: 0.9690 - val_loss: 0.0963 - val_accuracy: 0.9680 - lr: 1.0000e-05\n",
            "Epoch 93/180\n",
            "125/125 [==============================] - ETA: 0s - loss: 0.0944 - accuracy: 0.9690\n",
            "Epoch 00093: val_accuracy did not improve from 0.96799\n"
          ],
          "name": "stdout"
        },
        {
          "output_type": "stream",
          "text": [
            "2020-05-13 09:02:25,897 INFO \n",
            " epoch:092, F1Macro: 0.93779\n"
          ],
          "name": "stderr"
        },
        {
          "output_type": "stream",
          "text": [
            "\b\b\b\b\b\b\b\b\b\b\b\b\b\b\b\b\b\b\b\b\b\b\b\b\b\b\b\b\b\b\b\b\b\b\b\b\b\b\b\b\b\b\b\b\b\b\b\b\b\b\b\b\b\b\b\b\b\b\b\b\b\b\b\b\b\b\b\b\b\b\b\b\b\b\b\b\b\b\b\b\b\b\b\b\r125/125 [==============================] - 34s 275ms/step - loss: 0.0944 - accuracy: 0.9690 - val_loss: 0.0965 - val_accuracy: 0.9679 - lr: 1.0000e-05\n",
            "Epoch 94/180\n",
            "125/125 [==============================] - ETA: 0s - loss: 0.0942 - accuracy: 0.9690\n",
            "Epoch 00094: val_accuracy did not improve from 0.96799\n"
          ],
          "name": "stdout"
        },
        {
          "output_type": "stream",
          "text": [
            "2020-05-13 09:03:00,546 INFO \n",
            " epoch:093, F1Macro: 0.93778\n"
          ],
          "name": "stderr"
        },
        {
          "output_type": "stream",
          "text": [
            "\b\b\b\b\b\b\b\b\b\b\b\b\b\b\b\b\b\b\b\b\b\b\b\b\b\b\b\b\b\b\b\b\b\b\b\b\b\b\b\b\b\b\b\b\b\b\b\b\b\b\b\b\b\b\b\b\b\b\b\b\b\b\b\b\b\b\b\b\b\b\b\b\b\b\b\b\b\b\b\b\b\b\b\b\r125/125 [==============================] - 34s 275ms/step - loss: 0.0942 - accuracy: 0.9690 - val_loss: 0.0965 - val_accuracy: 0.9679 - lr: 1.0000e-05\n",
            "Epoch 95/180\n",
            "125/125 [==============================] - ETA: 0s - loss: 0.0945 - accuracy: 0.9690\n",
            "Epoch 00095: val_accuracy did not improve from 0.96799\n"
          ],
          "name": "stdout"
        },
        {
          "output_type": "stream",
          "text": [
            "2020-05-13 09:03:35,276 INFO \n",
            " epoch:094, F1Macro: 0.93769\n"
          ],
          "name": "stderr"
        },
        {
          "output_type": "stream",
          "text": [
            "\b\b\b\b\b\b\b\b\b\b\b\b\b\b\b\b\b\b\b\b\b\b\b\b\b\b\b\b\b\b\b\b\b\b\b\b\b\b\b\b\b\b\b\b\b\b\b\b\b\b\b\b\b\b\b\b\b\b\b\b\b\b\b\b\b\b\b\b\b\b\b\b\b\b\b\b\b\b\b\b\b\b\b\b\r125/125 [==============================] - 34s 276ms/step - loss: 0.0945 - accuracy: 0.9690 - val_loss: 0.0964 - val_accuracy: 0.9679 - lr: 1.0000e-05\n",
            "Epoch 96/180\n",
            "125/125 [==============================] - ETA: 0s - loss: 0.0942 - accuracy: 0.9690\n",
            "Epoch 00096: val_accuracy did not improve from 0.96799\n"
          ],
          "name": "stdout"
        },
        {
          "output_type": "stream",
          "text": [
            "2020-05-13 09:04:09,898 INFO \n",
            " epoch:095, F1Macro: 0.93790\n"
          ],
          "name": "stderr"
        },
        {
          "output_type": "stream",
          "text": [
            "\b\b\b\b\b\b\b\b\b\b\b\b\b\b\b\b\b\b\b\b\b\b\b\b\b\b\b\b\b\b\b\b\b\b\b\b\b\b\b\b\b\b\b\b\b\b\b\b\b\b\b\b\b\b\b\b\b\b\b\b\b\b\b\b\b\b\b\b\b\b\b\b\b\b\b\b\b\b\b\b\b\b\b\b\r125/125 [==============================] - 34s 275ms/step - loss: 0.0942 - accuracy: 0.9690 - val_loss: 0.0963 - val_accuracy: 0.9680 - lr: 1.0000e-05\n",
            "Epoch 97/180\n",
            "125/125 [==============================] - ETA: 0s - loss: 0.0941 - accuracy: 0.9690\n",
            "Epoch 00097: val_accuracy did not improve from 0.96799\n"
          ],
          "name": "stdout"
        },
        {
          "output_type": "stream",
          "text": [
            "2020-05-13 09:04:44,625 INFO \n",
            " epoch:096, F1Macro: 0.93783\n"
          ],
          "name": "stderr"
        },
        {
          "output_type": "stream",
          "text": [
            "\b\b\b\b\b\b\b\b\b\b\b\b\b\b\b\b\b\b\b\b\b\b\b\b\b\b\b\b\b\b\b\b\b\b\b\b\b\b\b\b\b\b\b\b\b\b\b\b\b\b\b\b\b\b\b\b\b\b\b\b\b\b\b\b\b\b\b\b\b\b\b\b\b\b\b\b\b\b\b\b\b\b\b\b\r125/125 [==============================] - 34s 276ms/step - loss: 0.0941 - accuracy: 0.9690 - val_loss: 0.0962 - val_accuracy: 0.9679 - lr: 1.0000e-05\n",
            "Epoch 98/180\n",
            "125/125 [==============================] - ETA: 0s - loss: 0.0943 - accuracy: 0.9690\n",
            "Epoch 00098: val_accuracy did not improve from 0.96799\n"
          ],
          "name": "stdout"
        },
        {
          "output_type": "stream",
          "text": [
            "2020-05-13 09:05:19,273 INFO \n",
            " epoch:097, F1Macro: 0.93766\n"
          ],
          "name": "stderr"
        },
        {
          "output_type": "stream",
          "text": [
            "\b\b\b\b\b\b\b\b\b\b\b\b\b\b\b\b\b\b\b\b\b\b\b\b\b\b\b\b\b\b\b\b\b\b\b\b\b\b\b\b\b\b\b\b\b\b\b\b\b\b\b\b\b\b\b\b\b\b\b\b\b\b\b\b\b\b\b\b\b\b\b\b\b\b\b\b\b\b\b\b\b\b\b\b\r125/125 [==============================] - 34s 275ms/step - loss: 0.0943 - accuracy: 0.9690 - val_loss: 0.0964 - val_accuracy: 0.9679 - lr: 1.0000e-05\n",
            "Epoch 99/180\n",
            "125/125 [==============================] - ETA: 0s - loss: 0.0945 - accuracy: 0.9689\n",
            "Epoch 00099: val_accuracy did not improve from 0.96799\n"
          ],
          "name": "stdout"
        },
        {
          "output_type": "stream",
          "text": [
            "2020-05-13 09:05:53,935 INFO \n",
            " epoch:098, F1Macro: 0.93751\n"
          ],
          "name": "stderr"
        },
        {
          "output_type": "stream",
          "text": [
            "\b\b\b\b\b\b\b\b\b\b\b\b\b\b\b\b\b\b\b\b\b\b\b\b\b\b\b\b\b\b\b\b\b\b\b\b\b\b\b\b\b\b\b\b\b\b\b\b\b\b\b\b\b\b\b\b\b\b\b\b\b\b\b\b\b\b\b\b\b\b\b\b\b\b\b\b\b\b\b\b\b\b\b\b\r125/125 [==============================] - 34s 275ms/step - loss: 0.0945 - accuracy: 0.9689 - val_loss: 0.0966 - val_accuracy: 0.9678 - lr: 1.0000e-05\n",
            "Epoch 100/180\n",
            "125/125 [==============================] - ETA: 0s - loss: 0.0943 - accuracy: 0.9689\n",
            "Epoch 00100: val_accuracy did not improve from 0.96799\n"
          ],
          "name": "stdout"
        },
        {
          "output_type": "stream",
          "text": [
            "2020-05-13 09:06:28,586 INFO \n",
            " epoch:099, F1Macro: 0.93762\n"
          ],
          "name": "stderr"
        },
        {
          "output_type": "stream",
          "text": [
            "\b\b\b\b\b\b\b\b\b\b\b\b\b\b\b\b\b\b\b\b\b\b\b\b\b\b\b\b\b\b\b\b\b\b\b\b\b\b\b\b\b\b\b\b\b\b\b\b\b\b\b\b\b\b\b\b\b\b\b\b\b\b\b\b\b\b\b\b\b\b\b\b\b\b\b\b\b\b\b\b\b\b\b\b\r125/125 [==============================] - 34s 275ms/step - loss: 0.0943 - accuracy: 0.9689 - val_loss: 0.0965 - val_accuracy: 0.9678 - lr: 1.0000e-05\n",
            "Epoch 101/180\n",
            "125/125 [==============================] - ETA: 0s - loss: 0.0941 - accuracy: 0.9690\n",
            "Epoch 00101: val_accuracy did not improve from 0.96799\n"
          ],
          "name": "stdout"
        },
        {
          "output_type": "stream",
          "text": [
            "2020-05-13 09:07:03,225 INFO \n",
            " epoch:100, F1Macro: 0.93732\n"
          ],
          "name": "stderr"
        },
        {
          "output_type": "stream",
          "text": [
            "\b\b\b\b\b\b\b\b\b\b\b\b\b\b\b\b\b\b\b\b\b\b\b\b\b\b\b\b\b\b\b\b\b\b\b\b\b\b\b\b\b\b\b\b\b\b\b\b\b\b\b\b\b\b\b\b\b\b\b\b\b\b\b\b\b\b\b\b\b\b\b\b\b\b\b\b\b\b\b\b\b\b\b\b\r125/125 [==============================] - 34s 275ms/step - loss: 0.0941 - accuracy: 0.9690 - val_loss: 0.0966 - val_accuracy: 0.9678 - lr: 1.0000e-05\n",
            "Epoch 102/180\n",
            "125/125 [==============================] - ETA: 0s - loss: 0.0944 - accuracy: 0.9690\n",
            "Epoch 00102: val_accuracy improved from 0.96799 to 0.96799, saving model to ion_switch/res/wavenet-dlr-res/ClassifierCBRWmulti-Prob11-NESCAL/all/3_fold/checkpoint-modelonly-3.h5\n"
          ],
          "name": "stdout"
        },
        {
          "output_type": "stream",
          "text": [
            "2020-05-13 09:07:38,640 INFO \n",
            " epoch:101, F1Macro: 0.93796\n"
          ],
          "name": "stderr"
        },
        {
          "output_type": "stream",
          "text": [
            "\b\b\b\b\b\b\b\b\b\b\b\b\b\b\b\b\b\b\b\b\b\b\b\b\b\b\b\b\b\b\b\b\b\b\b\b\b\b\b\b\b\b\b\b\b\b\b\b\b\b\b\b\b\b\b\b\b\b\b\b\b\b\b\b\b\b\b\b\b\b\b\b\b\b\b\b\b\b\b\b\b\b\b\b\r125/125 [==============================] - 36s 287ms/step - loss: 0.0944 - accuracy: 0.9690 - val_loss: 0.0962 - val_accuracy: 0.9680 - lr: 1.0000e-05\n",
            "Epoch 103/180\n",
            "125/125 [==============================] - ETA: 0s - loss: 0.0941 - accuracy: 0.9690\n",
            "Epoch 00103: val_accuracy did not improve from 0.96799\n"
          ],
          "name": "stdout"
        },
        {
          "output_type": "stream",
          "text": [
            "2020-05-13 09:08:14,140 INFO \n",
            " epoch:102, F1Macro: 0.93761\n"
          ],
          "name": "stderr"
        },
        {
          "output_type": "stream",
          "text": [
            "\b\b\b\b\b\b\b\b\b\b\b\b\b\b\b\b\b\b\b\b\b\b\b\b\b\b\b\b\b\b\b\b\b\b\b\b\b\b\b\b\b\b\b\b\b\b\b\b\b\b\b\b\b\b\b\b\b\b\b\b\b\b\b\b\b\b\b\b\b\b\b\b\b\b\b\b\b\b\b\b\b\b\b\b\r125/125 [==============================] - 34s 276ms/step - loss: 0.0941 - accuracy: 0.9690 - val_loss: 0.0964 - val_accuracy: 0.9679 - lr: 1.0000e-05\n",
            "Epoch 104/180\n",
            "125/125 [==============================] - ETA: 0s - loss: 0.0943 - accuracy: 0.9689\n",
            "Epoch 00104: val_accuracy did not improve from 0.96799\n"
          ],
          "name": "stdout"
        },
        {
          "output_type": "stream",
          "text": [
            "2020-05-13 09:08:48,808 INFO \n",
            " epoch:103, F1Macro: 0.93768\n"
          ],
          "name": "stderr"
        },
        {
          "output_type": "stream",
          "text": [
            "\b\b\b\b\b\b\b\b\b\b\b\b\b\b\b\b\b\b\b\b\b\b\b\b\b\b\b\b\b\b\b\b\b\b\b\b\b\b\b\b\b\b\b\b\b\b\b\b\b\b\b\b\b\b\b\b\b\b\b\b\b\b\b\b\b\b\b\b\b\b\b\b\b\b\b\b\b\b\b\b\b\b\b\b\r125/125 [==============================] - 34s 275ms/step - loss: 0.0943 - accuracy: 0.9689 - val_loss: 0.0964 - val_accuracy: 0.9679 - lr: 1.0000e-05\n",
            "Epoch 105/180\n",
            "125/125 [==============================] - ETA: 0s - loss: 0.0940 - accuracy: 0.9690\n",
            "Epoch 00105: val_accuracy did not improve from 0.96799\n"
          ],
          "name": "stdout"
        },
        {
          "output_type": "stream",
          "text": [
            "2020-05-13 09:09:23,429 INFO \n",
            " epoch:104, F1Macro: 0.93771\n"
          ],
          "name": "stderr"
        },
        {
          "output_type": "stream",
          "text": [
            "\b\b\b\b\b\b\b\b\b\b\b\b\b\b\b\b\b\b\b\b\b\b\b\b\b\b\b\b\b\b\b\b\b\b\b\b\b\b\b\b\b\b\b\b\b\b\b\b\b\b\b\b\b\b\b\b\b\b\b\b\b\b\b\b\b\b\b\b\b\b\b\b\b\b\b\b\b\b\b\b\b\b\b\b\r125/125 [==============================] - 34s 275ms/step - loss: 0.0940 - accuracy: 0.9690 - val_loss: 0.0961 - val_accuracy: 0.9680 - lr: 1.0000e-05\n",
            "Epoch 106/180\n",
            "125/125 [==============================] - ETA: 0s - loss: 0.0939 - accuracy: 0.9690\n",
            "Epoch 00106: val_accuracy did not improve from 0.96799\n"
          ],
          "name": "stdout"
        },
        {
          "output_type": "stream",
          "text": [
            "2020-05-13 09:09:58,054 INFO \n",
            " epoch:105, F1Macro: 0.93763\n"
          ],
          "name": "stderr"
        },
        {
          "output_type": "stream",
          "text": [
            "\b\b\b\b\b\b\b\b\b\b\b\b\b\b\b\b\b\b\b\b\b\b\b\b\b\b\b\b\b\b\b\b\b\b\b\b\b\b\b\b\b\b\b\b\b\b\b\b\b\b\b\b\b\b\b\b\b\b\b\b\b\b\b\b\b\b\b\b\b\b\b\b\b\b\b\b\b\b\b\b\b\b\b\b\r125/125 [==============================] - 34s 275ms/step - loss: 0.0939 - accuracy: 0.9690 - val_loss: 0.0961 - val_accuracy: 0.9679 - lr: 1.0000e-05\n",
            "Epoch 107/180\n",
            "125/125 [==============================] - ETA: 0s - loss: 0.0938 - accuracy: 0.9690\n",
            "Epoch 00107: val_accuracy did not improve from 0.96799\n"
          ],
          "name": "stdout"
        },
        {
          "output_type": "stream",
          "text": [
            "2020-05-13 09:10:32,758 INFO \n",
            " epoch:106, F1Macro: 0.93762\n"
          ],
          "name": "stderr"
        },
        {
          "output_type": "stream",
          "text": [
            "\b\b\b\b\b\b\b\b\b\b\b\b\b\b\b\b\b\b\b\b\b\b\b\b\b\b\b\b\b\b\b\b\b\b\b\b\b\b\b\b\b\b\b\b\b\b\b\b\b\b\b\b\b\b\b\b\b\b\b\b\b\b\b\b\b\b\b\b\b\b\b\b\b\b\b\b\b\b\b\b\b\b\b\b\r125/125 [==============================] - 34s 275ms/step - loss: 0.0938 - accuracy: 0.9690 - val_loss: 0.0962 - val_accuracy: 0.9679 - lr: 1.0000e-05\n",
            "Epoch 108/180\n",
            "125/125 [==============================] - ETA: 0s - loss: 0.0943 - accuracy: 0.9689\n",
            "Epoch 00108: val_accuracy did not improve from 0.96799\n"
          ],
          "name": "stdout"
        },
        {
          "output_type": "stream",
          "text": [
            "2020-05-13 09:11:07,399 INFO \n",
            " epoch:107, F1Macro: 0.93769\n"
          ],
          "name": "stderr"
        },
        {
          "output_type": "stream",
          "text": [
            "\b\b\b\b\b\b\b\b\b\b\b\b\b\b\b\b\b\b\b\b\b\b\b\b\b\b\b\b\b\b\b\b\b\b\b\b\b\b\b\b\b\b\b\b\b\b\b\b\b\b\b\b\b\b\b\b\b\b\b\b\b\b\b\b\b\b\b\b\b\b\b\b\b\b\b\b\b\b\b\b\b\b\b\b\r125/125 [==============================] - 34s 275ms/step - loss: 0.0943 - accuracy: 0.9689 - val_loss: 0.0963 - val_accuracy: 0.9679 - lr: 1.0000e-05\n",
            "Epoch 109/180\n",
            "125/125 [==============================] - ETA: 0s - loss: 0.0943 - accuracy: 0.9689\n",
            "Epoch 00109: val_accuracy did not improve from 0.96799\n"
          ],
          "name": "stdout"
        },
        {
          "output_type": "stream",
          "text": [
            "2020-05-13 09:11:42,052 INFO \n",
            " epoch:108, F1Macro: 0.93741\n"
          ],
          "name": "stderr"
        },
        {
          "output_type": "stream",
          "text": [
            "\b\b\b\b\b\b\b\b\b\b\b\b\b\b\b\b\b\b\b\b\b\b\b\b\b\b\b\b\b\b\b\b\b\b\b\b\b\b\b\b\b\b\b\b\b\b\b\b\b\b\b\b\b\b\b\b\b\b\b\b\b\b\b\b\b\b\b\b\b\b\b\b\b\b\b\b\b\b\b\b\b\b\b\b\r125/125 [==============================] - 34s 275ms/step - loss: 0.0943 - accuracy: 0.9689 - val_loss: 0.0963 - val_accuracy: 0.9678 - lr: 1.0000e-05\n",
            "Epoch 110/180\n",
            "125/125 [==============================] - ETA: 0s - loss: 0.0936 - accuracy: 0.9691\n",
            "Epoch 00110: val_accuracy did not improve from 0.96799\n"
          ],
          "name": "stdout"
        },
        {
          "output_type": "stream",
          "text": [
            "2020-05-13 09:12:16,730 INFO \n",
            " epoch:109, F1Macro: 0.93771\n"
          ],
          "name": "stderr"
        },
        {
          "output_type": "stream",
          "text": [
            "\b\b\b\b\b\b\b\b\b\b\b\b\b\b\b\b\b\b\b\b\b\b\b\b\b\b\b\b\b\b\b\b\b\b\b\b\b\b\b\b\b\b\b\b\b\b\b\b\b\b\b\b\b\b\b\b\b\b\b\b\b\b\b\b\b\b\b\b\b\b\b\b\b\b\b\b\b\b\b\b\b\b\b\b\r125/125 [==============================] - 34s 275ms/step - loss: 0.0936 - accuracy: 0.9691 - val_loss: 0.0960 - val_accuracy: 0.9679 - lr: 1.0000e-05\n",
            "Epoch 111/180\n",
            "125/125 [==============================] - ETA: 0s - loss: 0.0937 - accuracy: 0.9691\n",
            "Epoch 00111: val_accuracy did not improve from 0.96799\n"
          ],
          "name": "stdout"
        },
        {
          "output_type": "stream",
          "text": [
            "2020-05-13 09:12:51,395 INFO \n",
            " epoch:110, F1Macro: 0.93777\n"
          ],
          "name": "stderr"
        },
        {
          "output_type": "stream",
          "text": [
            "\b\b\b\b\b\b\b\b\b\b\b\b\b\b\b\b\b\b\b\b\b\b\b\b\b\b\b\b\b\b\b\b\b\b\b\b\b\b\b\b\b\b\b\b\b\b\b\b\b\b\b\b\b\b\b\b\b\b\b\b\b\b\b\b\b\b\b\b\b\b\b\b\b\b\b\b\b\b\b\b\b\b\b\b\r125/125 [==============================] - 34s 275ms/step - loss: 0.0937 - accuracy: 0.9691 - val_loss: 0.0960 - val_accuracy: 0.9679 - lr: 1.0000e-05\n",
            "Epoch 112/180\n",
            "125/125 [==============================] - ETA: 0s - loss: 0.0936 - accuracy: 0.9691\n",
            "Epoch 00112: val_accuracy did not improve from 0.96799\n"
          ],
          "name": "stdout"
        },
        {
          "output_type": "stream",
          "text": [
            "2020-05-13 09:13:26,086 INFO \n",
            " epoch:111, F1Macro: 0.93774\n"
          ],
          "name": "stderr"
        },
        {
          "output_type": "stream",
          "text": [
            "\b\b\b\b\b\b\b\b\b\b\b\b\b\b\b\b\b\b\b\b\b\b\b\b\b\b\b\b\b\b\b\b\b\b\b\b\b\b\b\b\b\b\b\b\b\b\b\b\b\b\b\b\b\b\b\b\b\b\b\b\b\b\b\b\b\b\b\b\b\b\b\b\b\b\b\b\b\b\b\b\b\b\b\b\r125/125 [==============================] - 34s 275ms/step - loss: 0.0936 - accuracy: 0.9691 - val_loss: 0.0960 - val_accuracy: 0.9679 - lr: 1.0000e-05\n",
            "Epoch 113/180\n",
            "125/125 [==============================] - ETA: 0s - loss: 0.0936 - accuracy: 0.9691\n",
            "Epoch 00113: val_accuracy did not improve from 0.96799\n"
          ],
          "name": "stdout"
        },
        {
          "output_type": "stream",
          "text": [
            "2020-05-13 09:14:00,726 INFO \n",
            " epoch:112, F1Macro: 0.93786\n"
          ],
          "name": "stderr"
        },
        {
          "output_type": "stream",
          "text": [
            "\b\b\b\b\b\b\b\b\b\b\b\b\b\b\b\b\b\b\b\b\b\b\b\b\b\b\b\b\b\b\b\b\b\b\b\b\b\b\b\b\b\b\b\b\b\b\b\b\b\b\b\b\b\b\b\b\b\b\b\b\b\b\b\b\b\b\b\b\b\b\b\b\b\b\b\b\b\b\b\b\b\b\b\b\r125/125 [==============================] - 34s 275ms/step - loss: 0.0936 - accuracy: 0.9691 - val_loss: 0.0958 - val_accuracy: 0.9680 - lr: 1.0000e-05\n",
            "Epoch 114/180\n",
            "125/125 [==============================] - ETA: 0s - loss: 0.0942 - accuracy: 0.9689\n",
            "Epoch 00114: val_accuracy did not improve from 0.96799\n"
          ],
          "name": "stdout"
        },
        {
          "output_type": "stream",
          "text": [
            "2020-05-13 09:14:35,399 INFO \n",
            " epoch:113, F1Macro: 0.93763\n"
          ],
          "name": "stderr"
        },
        {
          "output_type": "stream",
          "text": [
            "\b\b\b\b\b\b\b\b\b\b\b\b\b\b\b\b\b\b\b\b\b\b\b\b\b\b\b\b\b\b\b\b\b\b\b\b\b\b\b\b\b\b\b\b\b\b\b\b\b\b\b\b\b\b\b\b\b\b\b\b\b\b\b\b\b\b\b\b\b\b\b\b\b\b\b\b\b\b\b\b\b\b\b\b\r125/125 [==============================] - 34s 275ms/step - loss: 0.0942 - accuracy: 0.9689 - val_loss: 0.0961 - val_accuracy: 0.9678 - lr: 1.0000e-05\n",
            "Epoch 115/180\n",
            "125/125 [==============================] - ETA: 0s - loss: 0.0936 - accuracy: 0.9691\n",
            "Epoch 00115: val_accuracy did not improve from 0.96799\n"
          ],
          "name": "stdout"
        },
        {
          "output_type": "stream",
          "text": [
            "2020-05-13 09:15:10,174 INFO \n",
            " epoch:114, F1Macro: 0.93776\n"
          ],
          "name": "stderr"
        },
        {
          "output_type": "stream",
          "text": [
            "\b\b\b\b\b\b\b\b\b\b\b\b\b\b\b\b\b\b\b\b\b\b\b\b\b\b\b\b\b\b\b\b\b\b\b\b\b\b\b\b\b\b\b\b\b\b\b\b\b\b\b\b\b\b\b\b\b\b\b\b\b\b\b\b\b\b\b\b\b\b\b\b\b\b\b\b\b\b\b\b\b\b\b\b\r125/125 [==============================] - 35s 276ms/step - loss: 0.0936 - accuracy: 0.9691 - val_loss: 0.0958 - val_accuracy: 0.9679 - lr: 1.0000e-05\n",
            "Epoch 116/180\n",
            "125/125 [==============================] - ETA: 0s - loss: 0.0935 - accuracy: 0.9691\n",
            "Epoch 00116: val_accuracy improved from 0.96799 to 0.96808, saving model to ion_switch/res/wavenet-dlr-res/ClassifierCBRWmulti-Prob11-NESCAL/all/3_fold/checkpoint-modelonly-3.h5\n"
          ],
          "name": "stdout"
        },
        {
          "output_type": "stream",
          "text": [
            "2020-05-13 09:15:45,669 INFO \n",
            " epoch:115, F1Macro: 0.93803\n"
          ],
          "name": "stderr"
        },
        {
          "output_type": "stream",
          "text": [
            "\b\b\b\b\b\b\b\b\b\b\b\b\b\b\b\b\b\b\b\b\b\b\b\b\b\b\b\b\b\b\b\b\b\b\b\b\b\b\b\b\b\b\b\b\b\b\b\b\b\b\b\b\b\b\b\b\b\b\b\b\b\b\b\b\b\b\b\b\b\b\b\b\b\b\b\b\b\b\b\b\b\b\b\b\r125/125 [==============================] - 36s 287ms/step - loss: 0.0935 - accuracy: 0.9691 - val_loss: 0.0956 - val_accuracy: 0.9681 - lr: 1.0000e-05\n",
            "Epoch 117/180\n",
            "125/125 [==============================] - ETA: 0s - loss: 0.0940 - accuracy: 0.9689\n",
            "Epoch 00117: val_accuracy did not improve from 0.96808\n"
          ],
          "name": "stdout"
        },
        {
          "output_type": "stream",
          "text": [
            "2020-05-13 09:16:21,281 INFO \n",
            " epoch:116, F1Macro: 0.93755\n"
          ],
          "name": "stderr"
        },
        {
          "output_type": "stream",
          "text": [
            "\b\b\b\b\b\b\b\b\b\b\b\b\b\b\b\b\b\b\b\b\b\b\b\b\b\b\b\b\b\b\b\b\b\b\b\b\b\b\b\b\b\b\b\b\b\b\b\b\b\b\b\b\b\b\b\b\b\b\b\b\b\b\b\b\b\b\b\b\b\b\b\b\b\b\b\b\b\b\b\b\b\b\b\b\r125/125 [==============================] - 35s 277ms/step - loss: 0.0940 - accuracy: 0.9689 - val_loss: 0.0962 - val_accuracy: 0.9678 - lr: 1.0000e-05\n",
            "Epoch 118/180\n",
            "125/125 [==============================] - ETA: 0s - loss: 0.0936 - accuracy: 0.9690\n",
            "Epoch 00118: val_accuracy did not improve from 0.96808\n"
          ],
          "name": "stdout"
        },
        {
          "output_type": "stream",
          "text": [
            "2020-05-13 09:16:56,134 INFO \n",
            " epoch:117, F1Macro: 0.93761\n"
          ],
          "name": "stderr"
        },
        {
          "output_type": "stream",
          "text": [
            "\b\b\b\b\b\b\b\b\b\b\b\b\b\b\b\b\b\b\b\b\b\b\b\b\b\b\b\b\b\b\b\b\b\b\b\b\b\b\b\b\b\b\b\b\b\b\b\b\b\b\b\b\b\b\b\b\b\b\b\b\b\b\b\b\b\b\b\b\b\b\b\b\b\b\b\b\b\b\b\b\b\b\b\b\r125/125 [==============================] - 35s 277ms/step - loss: 0.0936 - accuracy: 0.9690 - val_loss: 0.0961 - val_accuracy: 0.9678 - lr: 1.0000e-05\n",
            "Epoch 119/180\n",
            "125/125 [==============================] - ETA: 0s - loss: 0.0937 - accuracy: 0.9690\n",
            "Epoch 00119: val_accuracy did not improve from 0.96808\n"
          ],
          "name": "stdout"
        },
        {
          "output_type": "stream",
          "text": [
            "2020-05-13 09:17:31,106 INFO \n",
            " epoch:118, F1Macro: 0.93753\n"
          ],
          "name": "stderr"
        },
        {
          "output_type": "stream",
          "text": [
            "\b\b\b\b\b\b\b\b\b\b\b\b\b\b\b\b\b\b\b\b\b\b\b\b\b\b\b\b\b\b\b\b\b\b\b\b\b\b\b\b\b\b\b\b\b\b\b\b\b\b\b\b\b\b\b\b\b\b\b\b\b\b\b\b\b\b\b\b\b\b\b\b\b\b\b\b\b\b\b\b\b\b\b\b\r125/125 [==============================] - 35s 278ms/step - loss: 0.0937 - accuracy: 0.9690 - val_loss: 0.0960 - val_accuracy: 0.9678 - lr: 1.0000e-05\n",
            "Epoch 120/180\n",
            "125/125 [==============================] - ETA: 0s - loss: 0.0934 - accuracy: 0.9691\n",
            "Epoch 00120: val_accuracy did not improve from 0.96808\n"
          ],
          "name": "stdout"
        },
        {
          "output_type": "stream",
          "text": [
            "2020-05-13 09:18:06,086 INFO \n",
            " epoch:119, F1Macro: 0.93785\n"
          ],
          "name": "stderr"
        },
        {
          "output_type": "stream",
          "text": [
            "\b\b\b\b\b\b\b\b\b\b\b\b\b\b\b\b\b\b\b\b\b\b\b\b\b\b\b\b\b\b\b\b\b\b\b\b\b\b\b\b\b\b\b\b\b\b\b\b\b\b\b\b\b\b\b\b\b\b\b\b\b\b\b\b\b\b\b\b\b\b\b\b\b\b\b\b\b\b\b\b\b\b\b\b\r125/125 [==============================] - 35s 278ms/step - loss: 0.0934 - accuracy: 0.9691 - val_loss: 0.0957 - val_accuracy: 0.9680 - lr: 1.0000e-05\n",
            "Epoch 121/180\n",
            "125/125 [==============================] - ETA: 0s - loss: 0.0937 - accuracy: 0.9690\n",
            "Epoch 00121: val_accuracy did not improve from 0.96808\n"
          ],
          "name": "stdout"
        },
        {
          "output_type": "stream",
          "text": [
            "2020-05-13 09:18:40,926 INFO \n",
            " epoch:120, F1Macro: 0.93766\n"
          ],
          "name": "stderr"
        },
        {
          "output_type": "stream",
          "text": [
            "\b\b\b\b\b\b\b\b\b\b\b\b\b\b\b\b\b\b\b\b\b\b\b\b\b\b\b\b\b\b\b\b\b\b\b\b\b\b\b\b\b\b\b\b\b\b\b\b\b\b\b\b\b\b\b\b\b\b\b\b\b\b\b\b\b\b\b\b\b\b\b\b\b\b\b\b\b\b\b\b\b\b\b\b\r125/125 [==============================] - 35s 277ms/step - loss: 0.0937 - accuracy: 0.9690 - val_loss: 0.0958 - val_accuracy: 0.9680 - lr: 1.0000e-05\n",
            "Epoch 122/180\n",
            "125/125 [==============================] - ETA: 0s - loss: 0.0936 - accuracy: 0.9690\n",
            "Epoch 00122: val_accuracy did not improve from 0.96808\n"
          ],
          "name": "stdout"
        },
        {
          "output_type": "stream",
          "text": [
            "2020-05-13 09:19:15,503 INFO \n",
            " epoch:121, F1Macro: 0.93723\n"
          ],
          "name": "stderr"
        },
        {
          "output_type": "stream",
          "text": [
            "\b\b\b\b\b\b\b\b\b\b\b\b\b\b\b\b\b\b\b\b\b\b\b\b\b\b\b\b\b\b\b\b\b\b\b\b\b\b\b\b\b\b\b\b\b\b\b\b\b\b\b\b\b\b\b\b\b\b\b\b\b\b\b\b\b\b\b\b\b\b\b\b\b\b\b\b\b\b\b\b\b\b\b\b\r125/125 [==============================] - 34s 274ms/step - loss: 0.0936 - accuracy: 0.9690 - val_loss: 0.0963 - val_accuracy: 0.9677 - lr: 1.0000e-05\n",
            "Epoch 123/180\n",
            "125/125 [==============================] - ETA: 0s - loss: 0.0935 - accuracy: 0.9690\n",
            "Epoch 00123: val_accuracy did not improve from 0.96808\n"
          ],
          "name": "stdout"
        },
        {
          "output_type": "stream",
          "text": [
            "2020-05-13 09:19:50,116 INFO \n",
            " epoch:122, F1Macro: 0.93763\n"
          ],
          "name": "stderr"
        },
        {
          "output_type": "stream",
          "text": [
            "\b\b\b\b\b\b\b\b\b\b\b\b\b\b\b\b\b\b\b\b\b\b\b\b\b\b\b\b\b\b\b\b\b\b\b\b\b\b\b\b\b\b\b\b\b\b\b\b\b\b\b\b\b\b\b\b\b\b\b\b\b\b\b\b\b\b\b\b\b\b\b\b\b\b\b\b\b\b\b\b\b\b\b\b\r125/125 [==============================] - 34s 275ms/step - loss: 0.0935 - accuracy: 0.9690 - val_loss: 0.0958 - val_accuracy: 0.9679 - lr: 1.0000e-05\n",
            "Epoch 124/180\n",
            "125/125 [==============================] - ETA: 0s - loss: 0.0933 - accuracy: 0.9691\n",
            "Epoch 00124: val_accuracy did not improve from 0.96808\n"
          ],
          "name": "stdout"
        },
        {
          "output_type": "stream",
          "text": [
            "2020-05-13 09:20:24,808 INFO \n",
            " epoch:123, F1Macro: 0.93768\n"
          ],
          "name": "stderr"
        },
        {
          "output_type": "stream",
          "text": [
            "\b\b\b\b\b\b\b\b\b\b\b\b\b\b\b\b\b\b\b\b\b\b\b\b\b\b\b\b\b\b\b\b\b\b\b\b\b\b\b\b\b\b\b\b\b\b\b\b\b\b\b\b\b\b\b\b\b\b\b\b\b\b\b\b\b\b\b\b\b\b\b\b\b\b\b\b\b\b\b\b\b\b\b\b\r125/125 [==============================] - 34s 275ms/step - loss: 0.0933 - accuracy: 0.9691 - val_loss: 0.0956 - val_accuracy: 0.9679 - lr: 1.0000e-05\n",
            "Epoch 125/180\n",
            "125/125 [==============================] - ETA: 0s - loss: 0.0933 - accuracy: 0.9691\n",
            "Epoch 00125: val_accuracy did not improve from 0.96808\n"
          ],
          "name": "stdout"
        },
        {
          "output_type": "stream",
          "text": [
            "2020-05-13 09:20:59,476 INFO \n",
            " epoch:124, F1Macro: 0.93751\n"
          ],
          "name": "stderr"
        },
        {
          "output_type": "stream",
          "text": [
            "\b\b\b\b\b\b\b\b\b\b\b\b\b\b\b\b\b\b\b\b\b\b\b\b\b\b\b\b\b\b\b\b\b\b\b\b\b\b\b\b\b\b\b\b\b\b\b\b\b\b\b\b\b\b\b\b\b\b\b\b\b\b\b\b\b\b\b\b\b\b\b\b\b\b\b\b\b\b\b\b\b\b\b\b\r125/125 [==============================] - 34s 275ms/step - loss: 0.0933 - accuracy: 0.9691 - val_loss: 0.0958 - val_accuracy: 0.9678 - lr: 1.0000e-05\n",
            "Epoch 126/180\n",
            "125/125 [==============================] - ETA: 0s - loss: 0.0936 - accuracy: 0.9690\n",
            "Epoch 00126: val_accuracy did not improve from 0.96808\n"
          ],
          "name": "stdout"
        },
        {
          "output_type": "stream",
          "text": [
            "2020-05-13 09:21:34,062 INFO \n",
            " epoch:125, F1Macro: 0.93780\n"
          ],
          "name": "stderr"
        },
        {
          "output_type": "stream",
          "text": [
            "\b\b\b\b\b\b\b\b\b\b\b\b\b\b\b\b\b\b\b\b\b\b\b\b\b\b\b\b\b\b\b\b\b\b\b\b\b\b\b\b\b\b\b\b\b\b\b\b\b\b\b\b\b\b\b\b\b\b\b\b\b\b\b\b\b\b\b\b\b\b\b\b\b\b\b\b\b\b\b\b\b\b\b\b\r125/125 [==============================] - 34s 275ms/step - loss: 0.0936 - accuracy: 0.9690 - val_loss: 0.0955 - val_accuracy: 0.9679 - lr: 1.0000e-05\n",
            "Epoch 127/180\n",
            "125/125 [==============================] - ETA: 0s - loss: 0.0934 - accuracy: 0.9690\n",
            "Epoch 00127: val_accuracy did not improve from 0.96808\n"
          ],
          "name": "stdout"
        },
        {
          "output_type": "stream",
          "text": [
            "2020-05-13 09:22:08,761 INFO \n",
            " epoch:126, F1Macro: 0.93789\n"
          ],
          "name": "stderr"
        },
        {
          "output_type": "stream",
          "text": [
            "\b\b\b\b\b\b\b\b\b\b\b\b\b\b\b\b\b\b\b\b\b\b\b\b\b\b\b\b\b\b\b\b\b\b\b\b\b\b\b\b\b\b\b\b\b\b\b\b\b\b\b\b\b\b\b\b\b\b\b\b\b\b\b\b\b\b\b\b\b\b\b\b\b\b\b\b\b\b\b\b\b\b\b\b\r125/125 [==============================] - 34s 275ms/step - loss: 0.0934 - accuracy: 0.9690 - val_loss: 0.0955 - val_accuracy: 0.9680 - lr: 1.0000e-05\n",
            "Epoch 128/180\n",
            "125/125 [==============================] - ETA: 0s - loss: 0.0935 - accuracy: 0.9690\n",
            "Epoch 00128: val_accuracy did not improve from 0.96808\n"
          ],
          "name": "stdout"
        },
        {
          "output_type": "stream",
          "text": [
            "2020-05-13 09:22:43,520 INFO \n",
            " epoch:127, F1Macro: 0.93760\n"
          ],
          "name": "stderr"
        },
        {
          "output_type": "stream",
          "text": [
            "\b\b\b\b\b\b\b\b\b\b\b\b\b\b\b\b\b\b\b\b\b\b\b\b\b\b\b\b\b\b\b\b\b\b\b\b\b\b\b\b\b\b\b\b\b\b\b\b\b\b\b\b\b\b\b\b\b\b\b\b\b\b\b\b\b\b\b\b\b\b\b\b\b\b\b\b\b\b\b\b\b\b\b\b\r125/125 [==============================] - 34s 276ms/step - loss: 0.0935 - accuracy: 0.9690 - val_loss: 0.0957 - val_accuracy: 0.9678 - lr: 1.0000e-05\n",
            "Epoch 129/180\n",
            "125/125 [==============================] - ETA: 0s - loss: 0.0936 - accuracy: 0.9690\n",
            "Epoch 00129: val_accuracy did not improve from 0.96808\n"
          ],
          "name": "stdout"
        },
        {
          "output_type": "stream",
          "text": [
            "2020-05-13 09:23:18,212 INFO \n",
            " epoch:128, F1Macro: 0.93733\n"
          ],
          "name": "stderr"
        },
        {
          "output_type": "stream",
          "text": [
            "\b\b\b\b\b\b\b\b\b\b\b\b\b\b\b\b\b\b\b\b\b\b\b\b\b\b\b\b\b\b\b\b\b\b\b\b\b\b\b\b\b\b\b\b\b\b\b\b\b\b\b\b\b\b\b\b\b\b\b\b\b\b\b\b\b\b\b\b\b\b\b\b\b\b\b\b\b\b\b\b\b\b\b\b\r125/125 [==============================] - 34s 275ms/step - loss: 0.0936 - accuracy: 0.9690 - val_loss: 0.0960 - val_accuracy: 0.9677 - lr: 1.0000e-05\n",
            "Epoch 130/180\n",
            "125/125 [==============================] - ETA: 0s - loss: 0.0933 - accuracy: 0.9691\n",
            "Epoch 00130: val_accuracy did not improve from 0.96808\n"
          ],
          "name": "stdout"
        },
        {
          "output_type": "stream",
          "text": [
            "2020-05-13 09:23:52,833 INFO \n",
            " epoch:129, F1Macro: 0.93764\n"
          ],
          "name": "stderr"
        },
        {
          "output_type": "stream",
          "text": [
            "\b\b\b\b\b\b\b\b\b\b\b\b\b\b\b\b\b\b\b\b\b\b\b\b\b\b\b\b\b\b\b\b\b\b\b\b\b\b\b\b\b\b\b\b\b\b\b\b\b\b\b\b\b\b\b\b\b\b\b\b\b\b\b\b\b\b\b\b\b\b\b\b\b\b\b\b\b\b\b\b\b\b\b\b\r125/125 [==============================] - 34s 275ms/step - loss: 0.0933 - accuracy: 0.9691 - val_loss: 0.0954 - val_accuracy: 0.9679 - lr: 1.0000e-05\n",
            "Epoch 131/180\n",
            "125/125 [==============================] - ETA: 0s - loss: 0.0930 - accuracy: 0.9691\n",
            "Epoch 00131: val_accuracy did not improve from 0.96808\n"
          ],
          "name": "stdout"
        },
        {
          "output_type": "stream",
          "text": [
            "2020-05-13 09:24:27,534 INFO \n",
            " epoch:130, F1Macro: 0.93769\n"
          ],
          "name": "stderr"
        },
        {
          "output_type": "stream",
          "text": [
            "\b\b\b\b\b\b\b\b\b\b\b\b\b\b\b\b\b\b\b\b\b\b\b\b\b\b\b\b\b\b\b\b\b\b\b\b\b\b\b\b\b\b\b\b\b\b\b\b\b\b\b\b\b\b\b\b\b\b\b\b\b\b\b\b\b\b\b\b\b\b\b\b\b\b\b\b\b\b\b\b\b\b\b\b\r125/125 [==============================] - 34s 275ms/step - loss: 0.0930 - accuracy: 0.9691 - val_loss: 0.0954 - val_accuracy: 0.9679 - lr: 1.0000e-05\n",
            "Epoch 132/180\n",
            "125/125 [==============================] - ETA: 0s - loss: 0.0932 - accuracy: 0.9690\n",
            "Epoch 00132: val_accuracy did not improve from 0.96808\n"
          ],
          "name": "stdout"
        },
        {
          "output_type": "stream",
          "text": [
            "2020-05-13 09:25:02,273 INFO \n",
            " epoch:131, F1Macro: 0.93784\n"
          ],
          "name": "stderr"
        },
        {
          "output_type": "stream",
          "text": [
            "\b\b\b\b\b\b\b\b\b\b\b\b\b\b\b\b\b\b\b\b\b\b\b\b\b\b\b\b\b\b\b\b\b\b\b\b\b\b\b\b\b\b\b\b\b\b\b\b\b\b\b\b\b\b\b\b\b\b\b\b\b\b\b\b\b\b\b\b\b\b\b\b\b\b\b\b\b\b\b\b\b\b\b\b\r125/125 [==============================] - 34s 276ms/step - loss: 0.0932 - accuracy: 0.9690 - val_loss: 0.0954 - val_accuracy: 0.9680 - lr: 1.0000e-05\n",
            "Epoch 133/180\n",
            "125/125 [==============================] - ETA: 0s - loss: 0.0951 - accuracy: 0.9685\n",
            "Epoch 00133: val_accuracy did not improve from 0.96808\n"
          ],
          "name": "stdout"
        },
        {
          "output_type": "stream",
          "text": [
            "2020-05-13 09:25:36,957 INFO \n",
            " epoch:132, F1Macro: 0.93786\n"
          ],
          "name": "stderr"
        },
        {
          "output_type": "stream",
          "text": [
            "\b\b\b\b\b\b\b\b\b\b\b\b\b\b\b\b\b\b\b\b\b\b\b\b\b\b\b\b\b\b\b\b\b\b\b\b\b\b\b\b\b\b\b\b\b\b\b\b\b\b\b\b\b\b\b\b\b\b\b\b\b\b\b\b\b\b\b\b\b\b\b\b\b\b\b\b\b\b\b\b\b\b\b\b\r125/125 [==============================] - 34s 275ms/step - loss: 0.0951 - accuracy: 0.9685 - val_loss: 0.0956 - val_accuracy: 0.9679 - lr: 1.0000e-05\n",
            "Epoch 134/180\n",
            "125/125 [==============================] - ETA: 0s - loss: 0.0929 - accuracy: 0.9691\n",
            "Epoch 00134: val_accuracy did not improve from 0.96808\n"
          ],
          "name": "stdout"
        },
        {
          "output_type": "stream",
          "text": [
            "2020-05-13 09:26:11,567 INFO \n",
            " epoch:133, F1Macro: 0.93778\n"
          ],
          "name": "stderr"
        },
        {
          "output_type": "stream",
          "text": [
            "\b\b\b\b\b\b\b\b\b\b\b\b\b\b\b\b\b\b\b\b\b\b\b\b\b\b\b\b\b\b\b\b\b\b\b\b\b\b\b\b\b\b\b\b\b\b\b\b\b\b\b\b\b\b\b\b\b\b\b\b\b\b\b\b\b\b\b\b\b\b\b\b\b\b\b\b\b\b\b\b\b\b\b\b\r125/125 [==============================] - 34s 275ms/step - loss: 0.0929 - accuracy: 0.9691 - val_loss: 0.0954 - val_accuracy: 0.9679 - lr: 1.0000e-05\n",
            "Epoch 135/180\n",
            "125/125 [==============================] - ETA: 0s - loss: 0.0929 - accuracy: 0.9691\n",
            "Epoch 00135: val_accuracy did not improve from 0.96808\n"
          ],
          "name": "stdout"
        },
        {
          "output_type": "stream",
          "text": [
            "2020-05-13 09:26:46,240 INFO \n",
            " epoch:134, F1Macro: 0.93772\n"
          ],
          "name": "stderr"
        },
        {
          "output_type": "stream",
          "text": [
            "\b\b\b\b\b\b\b\b\b\b\b\b\b\b\b\b\b\b\b\b\b\b\b\b\b\b\b\b\b\b\b\b\b\b\b\b\b\b\b\b\b\b\b\b\b\b\b\b\b\b\b\b\b\b\b\b\b\b\b\b\b\b\b\b\b\b\b\b\b\b\b\b\b\b\b\b\b\b\b\b\b\b\b\b\r125/125 [==============================] - 34s 275ms/step - loss: 0.0929 - accuracy: 0.9691 - val_loss: 0.0954 - val_accuracy: 0.9680 - lr: 1.0000e-05\n",
            "Epoch 136/180\n",
            "125/125 [==============================] - ETA: 0s - loss: 0.0930 - accuracy: 0.9691\n",
            "Epoch 00136: val_accuracy did not improve from 0.96808\n"
          ],
          "name": "stdout"
        },
        {
          "output_type": "stream",
          "text": [
            "2020-05-13 09:27:20,958 INFO \n",
            " epoch:135, F1Macro: 0.93751\n"
          ],
          "name": "stderr"
        },
        {
          "output_type": "stream",
          "text": [
            "\b\b\b\b\b\b\b\b\b\b\b\b\b\b\b\b\b\b\b\b\b\b\b\b\b\b\b\b\b\b\b\b\b\b\b\b\b\b\b\b\b\b\b\b\b\b\b\b\b\b\b\b\b\b\b\b\b\b\b\b\b\b\b\b\b\b\b\b\b\b\b\b\b\b\b\b\b\b\b\b\b\b\b\b\r125/125 [==============================] - 34s 276ms/step - loss: 0.0930 - accuracy: 0.9691 - val_loss: 0.0955 - val_accuracy: 0.9678 - lr: 1.0000e-05\n",
            "Epoch 137/180\n",
            "125/125 [==============================] - ETA: 0s - loss: 0.0928 - accuracy: 0.9691\n",
            "Epoch 00137: val_accuracy did not improve from 0.96808\n"
          ],
          "name": "stdout"
        },
        {
          "output_type": "stream",
          "text": [
            "2020-05-13 09:27:55,603 INFO \n",
            " epoch:136, F1Macro: 0.93773\n"
          ],
          "name": "stderr"
        },
        {
          "output_type": "stream",
          "text": [
            "\b\b\b\b\b\b\b\b\b\b\b\b\b\b\b\b\b\b\b\b\b\b\b\b\b\b\b\b\b\b\b\b\b\b\b\b\b\b\b\b\b\b\b\b\b\b\b\b\b\b\b\b\b\b\b\b\b\b\b\b\b\b\b\b\b\b\b\b\b\b\b\b\b\b\b\b\b\b\b\b\b\b\b\b\r125/125 [==============================] - 34s 275ms/step - loss: 0.0928 - accuracy: 0.9691 - val_loss: 0.0952 - val_accuracy: 0.9680 - lr: 1.0000e-05\n",
            "Epoch 138/180\n",
            "125/125 [==============================] - ETA: 0s - loss: 0.0932 - accuracy: 0.9691\n",
            "Epoch 00138: val_accuracy did not improve from 0.96808\n"
          ],
          "name": "stdout"
        },
        {
          "output_type": "stream",
          "text": [
            "2020-05-13 09:28:30,190 INFO \n",
            " epoch:137, F1Macro: 0.93767\n"
          ],
          "name": "stderr"
        },
        {
          "output_type": "stream",
          "text": [
            "\b\b\b\b\b\b\b\b\b\b\b\b\b\b\b\b\b\b\b\b\b\b\b\b\b\b\b\b\b\b\b\b\b\b\b\b\b\b\b\b\b\b\b\b\b\b\b\b\b\b\b\b\b\b\b\b\b\b\b\b\b\b\b\b\b\b\b\b\b\b\b\b\b\b\b\b\b\b\b\b\b\b\b\b\r125/125 [==============================] - 34s 275ms/step - loss: 0.0932 - accuracy: 0.9691 - val_loss: 0.0953 - val_accuracy: 0.9679 - lr: 1.0000e-05\n",
            "Epoch 139/180\n",
            "125/125 [==============================] - ETA: 0s - loss: 0.0930 - accuracy: 0.9691\n",
            "Epoch 00139: val_accuracy did not improve from 0.96808\n"
          ],
          "name": "stdout"
        },
        {
          "output_type": "stream",
          "text": [
            "2020-05-13 09:29:04,889 INFO \n",
            " epoch:138, F1Macro: 0.93772\n"
          ],
          "name": "stderr"
        },
        {
          "output_type": "stream",
          "text": [
            "\b\b\b\b\b\b\b\b\b\b\b\b\b\b\b\b\b\b\b\b\b\b\b\b\b\b\b\b\b\b\b\b\b\b\b\b\b\b\b\b\b\b\b\b\b\b\b\b\b\b\b\b\b\b\b\b\b\b\b\b\b\b\b\b\b\b\b\b\b\b\b\b\b\b\b\b\b\b\b\b\b\b\b\b\r125/125 [==============================] - 34s 275ms/step - loss: 0.0930 - accuracy: 0.9691 - val_loss: 0.0953 - val_accuracy: 0.9679 - lr: 1.0000e-05\n",
            "Epoch 140/180\n",
            "125/125 [==============================] - ETA: 0s - loss: 0.0931 - accuracy: 0.9691\n",
            "Epoch 00140: val_accuracy did not improve from 0.96808\n"
          ],
          "name": "stdout"
        },
        {
          "output_type": "stream",
          "text": [
            "2020-05-13 09:29:39,626 INFO \n",
            " epoch:139, F1Macro: 0.93752\n"
          ],
          "name": "stderr"
        },
        {
          "output_type": "stream",
          "text": [
            "\b\b\b\b\b\b\b\b\b\b\b\b\b\b\b\b\b\b\b\b\b\b\b\b\b\b\b\b\b\b\b\b\b\b\b\b\b\b\b\b\b\b\b\b\b\b\b\b\b\b\b\b\b\b\b\b\b\b\b\b\b\b\b\b\b\b\b\b\b\b\b\b\b\b\b\b\b\b\b\b\b\b\b\b\r125/125 [==============================] - 34s 276ms/step - loss: 0.0931 - accuracy: 0.9691 - val_loss: 0.0956 - val_accuracy: 0.9678 - lr: 1.0000e-05\n",
            "Epoch 141/180\n",
            "125/125 [==============================] - ETA: 0s - loss: 0.0927 - accuracy: 0.9692\n",
            "Epoch 00141: val_accuracy did not improve from 0.96808\n"
          ],
          "name": "stdout"
        },
        {
          "output_type": "stream",
          "text": [
            "2020-05-13 09:30:14,296 INFO \n",
            " epoch:140, F1Macro: 0.93792\n"
          ],
          "name": "stderr"
        },
        {
          "output_type": "stream",
          "text": [
            "\b\b\b\b\b\b\b\b\b\b\b\b\b\b\b\b\b\b\b\b\b\b\b\b\b\b\b\b\b\b\b\b\b\b\b\b\b\b\b\b\b\b\b\b\b\b\b\b\b\b\b\b\b\b\b\b\b\b\b\b\b\b\b\b\b\b\b\b\b\b\b\b\b\b\b\b\b\b\b\b\b\b\b\b\r125/125 [==============================] - 34s 275ms/step - loss: 0.0927 - accuracy: 0.9692 - val_loss: 0.0951 - val_accuracy: 0.9680 - lr: 1.0000e-05\n",
            "Epoch 142/180\n",
            "125/125 [==============================] - ETA: 0s - loss: 0.0928 - accuracy: 0.9691\n",
            "Epoch 00142: val_accuracy did not improve from 0.96808\n"
          ],
          "name": "stdout"
        },
        {
          "output_type": "stream",
          "text": [
            "2020-05-13 09:30:48,873 INFO \n",
            " epoch:141, F1Macro: 0.93784\n"
          ],
          "name": "stderr"
        },
        {
          "output_type": "stream",
          "text": [
            "\b\b\b\b\b\b\b\b\b\b\b\b\b\b\b\b\b\b\b\b\b\b\b\b\b\b\b\b\b\b\b\b\b\b\b\b\b\b\b\b\b\b\b\b\b\b\b\b\b\b\b\b\b\b\b\b\b\b\b\b\b\b\b\b\b\b\b\b\b\b\b\b\b\b\b\b\b\b\b\b\b\b\b\b\r125/125 [==============================] - 34s 274ms/step - loss: 0.0928 - accuracy: 0.9691 - val_loss: 0.0952 - val_accuracy: 0.9679 - lr: 1.0000e-05\n",
            "Epoch 143/180\n",
            "125/125 [==============================] - ETA: 0s - loss: 0.0934 - accuracy: 0.9689\n",
            "Epoch 00143: val_accuracy did not improve from 0.96808\n"
          ],
          "name": "stdout"
        },
        {
          "output_type": "stream",
          "text": [
            "2020-05-13 09:31:23,542 INFO \n",
            " epoch:142, F1Macro: 0.93734\n"
          ],
          "name": "stderr"
        },
        {
          "output_type": "stream",
          "text": [
            "\b\b\b\b\b\b\b\b\b\b\b\b\b\b\b\b\b\b\b\b\b\b\b\b\b\b\b\b\b\b\b\b\b\b\b\b\b\b\b\b\b\b\b\b\b\b\b\b\b\b\b\b\b\b\b\b\b\b\b\b\b\b\b\b\b\b\b\b\b\b\b\b\b\b\b\b\b\b\b\b\b\b\b\b\r125/125 [==============================] - 34s 275ms/step - loss: 0.0934 - accuracy: 0.9689 - val_loss: 0.0954 - val_accuracy: 0.9678 - lr: 1.0000e-05\n",
            "Epoch 144/180\n",
            "125/125 [==============================] - ETA: 0s - loss: 0.0927 - accuracy: 0.9691\n",
            "Epoch 00144: val_accuracy did not improve from 0.96808\n"
          ],
          "name": "stdout"
        },
        {
          "output_type": "stream",
          "text": [
            "2020-05-13 09:31:58,194 INFO \n",
            " epoch:143, F1Macro: 0.93773\n"
          ],
          "name": "stderr"
        },
        {
          "output_type": "stream",
          "text": [
            "\b\b\b\b\b\b\b\b\b\b\b\b\b\b\b\b\b\b\b\b\b\b\b\b\b\b\b\b\b\b\b\b\b\b\b\b\b\b\b\b\b\b\b\b\b\b\b\b\b\b\b\b\b\b\b\b\b\b\b\b\b\b\b\b\b\b\b\b\b\b\b\b\b\b\b\b\b\b\b\b\b\b\b\b\r125/125 [==============================] - 34s 275ms/step - loss: 0.0927 - accuracy: 0.9691 - val_loss: 0.0952 - val_accuracy: 0.9679 - lr: 1.0000e-05\n",
            "Epoch 145/180\n",
            "125/125 [==============================] - ETA: 0s - loss: 0.0927 - accuracy: 0.9691\n",
            "Epoch 00145: val_accuracy did not improve from 0.96808\n"
          ],
          "name": "stdout"
        },
        {
          "output_type": "stream",
          "text": [
            "2020-05-13 09:32:32,825 INFO \n",
            " epoch:144, F1Macro: 0.93778\n"
          ],
          "name": "stderr"
        },
        {
          "output_type": "stream",
          "text": [
            "\b\b\b\b\b\b\b\b\b\b\b\b\b\b\b\b\b\b\b\b\b\b\b\b\b\b\b\b\b\b\b\b\b\b\b\b\b\b\b\b\b\b\b\b\b\b\b\b\b\b\b\b\b\b\b\b\b\b\b\b\b\b\b\b\b\b\b\b\b\b\b\b\b\b\b\b\b\b\b\b\b\b\b\b\r125/125 [==============================] - 34s 275ms/step - loss: 0.0927 - accuracy: 0.9691 - val_loss: 0.0950 - val_accuracy: 0.9680 - lr: 1.0000e-05\n",
            "Epoch 146/180\n",
            "125/125 [==============================] - ETA: 0s - loss: 0.0924 - accuracy: 0.9692\n",
            "Epoch 00146: val_accuracy did not improve from 0.96808\n"
          ],
          "name": "stdout"
        },
        {
          "output_type": "stream",
          "text": [
            "2020-05-13 09:33:07,483 INFO \n",
            " epoch:145, F1Macro: 0.93770\n"
          ],
          "name": "stderr"
        },
        {
          "output_type": "stream",
          "text": [
            "\b\b\b\b\b\b\b\b\b\b\b\b\b\b\b\b\b\b\b\b\b\b\b\b\b\b\b\b\b\b\b\b\b\b\b\b\b\b\b\b\b\b\b\b\b\b\b\b\b\b\b\b\b\b\b\b\b\b\b\b\b\b\b\b\b\b\b\b\b\b\b\b\b\b\b\b\b\b\b\b\b\b\b\b\r125/125 [==============================] - 34s 275ms/step - loss: 0.0924 - accuracy: 0.9692 - val_loss: 0.0950 - val_accuracy: 0.9679 - lr: 1.0000e-05\n",
            "Epoch 147/180\n",
            "125/125 [==============================] - ETA: 0s - loss: 0.0930 - accuracy: 0.9690\n",
            "Epoch 00147: val_accuracy did not improve from 0.96808\n"
          ],
          "name": "stdout"
        },
        {
          "output_type": "stream",
          "text": [
            "2020-05-13 09:33:42,180 INFO \n",
            " epoch:146, F1Macro: 0.93759\n"
          ],
          "name": "stderr"
        },
        {
          "output_type": "stream",
          "text": [
            "\b\b\b\b\b\b\b\b\b\b\b\b\b\b\b\b\b\b\b\b\b\b\b\b\b\b\b\b\b\b\b\b\b\b\b\b\b\b\b\b\b\b\b\b\b\b\b\b\b\b\b\b\b\b\b\b\b\b\b\b\b\b\b\b\b\b\b\b\b\b\b\b\b\b\b\b\b\b\b\b\b\b\b\b\r125/125 [==============================] - 34s 275ms/step - loss: 0.0930 - accuracy: 0.9690 - val_loss: 0.0953 - val_accuracy: 0.9678 - lr: 1.0000e-05\n",
            "Epoch 148/180\n",
            "125/125 [==============================] - ETA: 0s - loss: 0.0930 - accuracy: 0.9690\n",
            "Epoch 00148: val_accuracy did not improve from 0.96808\n"
          ],
          "name": "stdout"
        },
        {
          "output_type": "stream",
          "text": [
            "2020-05-13 09:34:16,873 INFO \n",
            " epoch:147, F1Macro: 0.93758\n"
          ],
          "name": "stderr"
        },
        {
          "output_type": "stream",
          "text": [
            "\b\b\b\b\b\b\b\b\b\b\b\b\b\b\b\b\b\b\b\b\b\b\b\b\b\b\b\b\b\b\b\b\b\b\b\b\b\b\b\b\b\b\b\b\b\b\b\b\b\b\b\b\b\b\b\b\b\b\b\b\b\b\b\b\b\b\b\b\b\b\b\b\b\b\b\b\b\b\b\b\b\b\b\b\r125/125 [==============================] - 34s 275ms/step - loss: 0.0930 - accuracy: 0.9690 - val_loss: 0.0954 - val_accuracy: 0.9678 - lr: 1.0000e-05\n",
            "Epoch 149/180\n",
            "125/125 [==============================] - ETA: 0s - loss: 0.0924 - accuracy: 0.9692\n",
            "Epoch 00149: val_accuracy did not improve from 0.96808\n"
          ],
          "name": "stdout"
        },
        {
          "output_type": "stream",
          "text": [
            "2020-05-13 09:34:51,506 INFO \n",
            " epoch:148, F1Macro: 0.93785\n"
          ],
          "name": "stderr"
        },
        {
          "output_type": "stream",
          "text": [
            "\b\b\b\b\b\b\b\b\b\b\b\b\b\b\b\b\b\b\b\b\b\b\b\b\b\b\b\b\b\b\b\b\b\b\b\b\b\b\b\b\b\b\b\b\b\b\b\b\b\b\b\b\b\b\b\b\b\b\b\b\b\b\b\b\b\b\b\b\b\b\b\b\b\b\b\b\b\b\b\b\b\b\b\b\r125/125 [==============================] - 34s 275ms/step - loss: 0.0924 - accuracy: 0.9692 - val_loss: 0.0949 - val_accuracy: 0.9680 - lr: 1.0000e-05\n",
            "Epoch 150/180\n",
            "125/125 [==============================] - ETA: 0s - loss: 0.0926 - accuracy: 0.9691\n",
            "Epoch 00150: val_accuracy did not improve from 0.96808\n"
          ],
          "name": "stdout"
        },
        {
          "output_type": "stream",
          "text": [
            "2020-05-13 09:35:26,222 INFO \n",
            " epoch:149, F1Macro: 0.93787\n"
          ],
          "name": "stderr"
        },
        {
          "output_type": "stream",
          "text": [
            "\b\b\b\b\b\b\b\b\b\b\b\b\b\b\b\b\b\b\b\b\b\b\b\b\b\b\b\b\b\b\b\b\b\b\b\b\b\b\b\b\b\b\b\b\b\b\b\b\b\b\b\b\b\b\b\b\b\b\b\b\b\b\b\b\b\b\b\b\b\b\b\b\b\b\b\b\b\b\b\b\b\b\b\b\r125/125 [==============================] - 34s 276ms/step - loss: 0.0926 - accuracy: 0.9691 - val_loss: 0.0950 - val_accuracy: 0.9680 - lr: 1.0000e-05\n",
            "Epoch 151/180\n",
            "125/125 [==============================] - ETA: 0s - loss: 0.0925 - accuracy: 0.9692\n",
            "Epoch 00151: val_accuracy did not improve from 0.96808\n"
          ],
          "name": "stdout"
        },
        {
          "output_type": "stream",
          "text": [
            "2020-05-13 09:36:00,960 INFO \n",
            " epoch:150, F1Macro: 0.93776\n"
          ],
          "name": "stderr"
        },
        {
          "output_type": "stream",
          "text": [
            "\b\b\b\b\b\b\b\b\b\b\b\b\b\b\b\b\b\b\b\b\b\b\b\b\b\b\b\b\b\b\b\b\b\b\b\b\b\b\b\b\b\b\b\b\b\b\b\b\b\b\b\b\b\b\b\b\b\b\b\b\b\b\b\b\b\b\b\b\b\b\b\b\b\b\b\b\b\b\b\b\b\b\b\b\r125/125 [==============================] - 34s 276ms/step - loss: 0.0925 - accuracy: 0.9692 - val_loss: 0.0949 - val_accuracy: 0.9680 - lr: 1.0000e-06\n",
            "Epoch 152/180\n",
            "125/125 [==============================] - ETA: 0s - loss: 0.0926 - accuracy: 0.9692\n",
            "Epoch 00152: val_accuracy did not improve from 0.96808\n"
          ],
          "name": "stdout"
        },
        {
          "output_type": "stream",
          "text": [
            "2020-05-13 09:36:35,606 INFO \n",
            " epoch:151, F1Macro: 0.93780\n"
          ],
          "name": "stderr"
        },
        {
          "output_type": "stream",
          "text": [
            "\b\b\b\b\b\b\b\b\b\b\b\b\b\b\b\b\b\b\b\b\b\b\b\b\b\b\b\b\b\b\b\b\b\b\b\b\b\b\b\b\b\b\b\b\b\b\b\b\b\b\b\b\b\b\b\b\b\b\b\b\b\b\b\b\b\b\b\b\b\b\b\b\b\b\b\b\b\b\b\b\b\b\b\b\r125/125 [==============================] - 34s 275ms/step - loss: 0.0926 - accuracy: 0.9692 - val_loss: 0.0950 - val_accuracy: 0.9679 - lr: 1.0000e-06\n",
            "Epoch 153/180\n",
            "125/125 [==============================] - ETA: 0s - loss: 0.0924 - accuracy: 0.9692\n",
            "Epoch 00153: val_accuracy did not improve from 0.96808\n"
          ],
          "name": "stdout"
        },
        {
          "output_type": "stream",
          "text": [
            "2020-05-13 09:37:10,448 INFO \n",
            " epoch:152, F1Macro: 0.93778\n"
          ],
          "name": "stderr"
        },
        {
          "output_type": "stream",
          "text": [
            "\b\b\b\b\b\b\b\b\b\b\b\b\b\b\b\b\b\b\b\b\b\b\b\b\b\b\b\b\b\b\b\b\b\b\b\b\b\b\b\b\b\b\b\b\b\b\b\b\b\b\b\b\b\b\b\b\b\b\b\b\b\b\b\b\b\b\b\b\b\b\b\b\b\b\b\b\b\b\b\b\b\b\b\b\r125/125 [==============================] - 35s 277ms/step - loss: 0.0924 - accuracy: 0.9692 - val_loss: 0.0949 - val_accuracy: 0.9680 - lr: 1.0000e-06\n",
            "Epoch 154/180\n",
            "125/125 [==============================] - ETA: 0s - loss: 0.0927 - accuracy: 0.9691\n",
            "Epoch 00154: val_accuracy did not improve from 0.96808\n"
          ],
          "name": "stdout"
        },
        {
          "output_type": "stream",
          "text": [
            "2020-05-13 09:37:45,339 INFO \n",
            " epoch:153, F1Macro: 0.93775\n"
          ],
          "name": "stderr"
        },
        {
          "output_type": "stream",
          "text": [
            "\b\b\b\b\b\b\b\b\b\b\b\b\b\b\b\b\b\b\b\b\b\b\b\b\b\b\b\b\b\b\b\b\b\b\b\b\b\b\b\b\b\b\b\b\b\b\b\b\b\b\b\b\b\b\b\b\b\b\b\b\b\b\b\b\b\b\b\b\b\b\b\b\b\b\b\b\b\b\b\b\b\b\b\b\r125/125 [==============================] - 35s 277ms/step - loss: 0.0927 - accuracy: 0.9691 - val_loss: 0.0950 - val_accuracy: 0.9679 - lr: 1.0000e-06\n",
            "Epoch 155/180\n",
            "125/125 [==============================] - ETA: 0s - loss: 0.0923 - accuracy: 0.9691\n",
            "Epoch 00155: val_accuracy did not improve from 0.96808\n"
          ],
          "name": "stdout"
        },
        {
          "output_type": "stream",
          "text": [
            "2020-05-13 09:38:20,158 INFO \n",
            " epoch:154, F1Macro: 0.93771\n"
          ],
          "name": "stderr"
        },
        {
          "output_type": "stream",
          "text": [
            "\b\b\b\b\b\b\b\b\b\b\b\b\b\b\b\b\b\b\b\b\b\b\b\b\b\b\b\b\b\b\b\b\b\b\b\b\b\b\b\b\b\b\b\b\b\b\b\b\b\b\b\b\b\b\b\b\b\b\b\b\b\b\b\b\b\b\b\b\b\b\b\b\b\b\b\b\b\b\b\b\b\b\b\b\r125/125 [==============================] - 35s 276ms/step - loss: 0.0923 - accuracy: 0.9691 - val_loss: 0.0950 - val_accuracy: 0.9679 - lr: 1.0000e-06\n",
            "Epoch 156/180\n",
            "125/125 [==============================] - ETA: 0s - loss: 0.0929 - accuracy: 0.9690\n",
            "Epoch 00156: val_accuracy did not improve from 0.96808\n"
          ],
          "name": "stdout"
        },
        {
          "output_type": "stream",
          "text": [
            "2020-05-13 09:38:55,036 INFO \n",
            " epoch:155, F1Macro: 0.93748\n"
          ],
          "name": "stderr"
        },
        {
          "output_type": "stream",
          "text": [
            "\b\b\b\b\b\b\b\b\b\b\b\b\b\b\b\b\b\b\b\b\b\b\b\b\b\b\b\b\b\b\b\b\b\b\b\b\b\b\b\b\b\b\b\b\b\b\b\b\b\b\b\b\b\b\b\b\b\b\b\b\b\b\b\b\b\b\b\b\b\b\b\b\b\b\b\b\b\b\b\b\b\b\b\b\r125/125 [==============================] - 35s 277ms/step - loss: 0.0929 - accuracy: 0.9690 - val_loss: 0.0953 - val_accuracy: 0.9678 - lr: 1.0000e-06\n",
            "Epoch 157/180\n",
            "125/125 [==============================] - ETA: 0s - loss: 0.0923 - accuracy: 0.9692\n",
            "Epoch 00157: val_accuracy did not improve from 0.96808\n"
          ],
          "name": "stdout"
        },
        {
          "output_type": "stream",
          "text": [
            "2020-05-13 09:39:29,825 INFO \n",
            " epoch:156, F1Macro: 0.93773\n"
          ],
          "name": "stderr"
        },
        {
          "output_type": "stream",
          "text": [
            "\b\b\b\b\b\b\b\b\b\b\b\b\b\b\b\b\b\b\b\b\b\b\b\b\b\b\b\b\b\b\b\b\b\b\b\b\b\b\b\b\b\b\b\b\b\b\b\b\b\b\b\b\b\b\b\b\b\b\b\b\b\b\b\b\b\b\b\b\b\b\b\b\b\b\b\b\b\b\b\b\b\b\b\b\r125/125 [==============================] - 35s 276ms/step - loss: 0.0923 - accuracy: 0.9692 - val_loss: 0.0950 - val_accuracy: 0.9679 - lr: 1.0000e-06\n",
            "Epoch 158/180\n",
            "125/125 [==============================] - ETA: 0s - loss: 0.0926 - accuracy: 0.9691\n",
            "Epoch 00158: val_accuracy did not improve from 0.96808\n"
          ],
          "name": "stdout"
        },
        {
          "output_type": "stream",
          "text": [
            "2020-05-13 09:40:04,674 INFO \n",
            " epoch:157, F1Macro: 0.93769\n"
          ],
          "name": "stderr"
        },
        {
          "output_type": "stream",
          "text": [
            "\b\b\b\b\b\b\b\b\b\b\b\b\b\b\b\b\b\b\b\b\b\b\b\b\b\b\b\b\b\b\b\b\b\b\b\b\b\b\b\b\b\b\b\b\b\b\b\b\b\b\b\b\b\b\b\b\b\b\b\b\b\b\b\b\b\b\b\b\b\b\b\b\b\b\b\b\b\b\b\b\b\b\b\b\r125/125 [==============================] - 35s 277ms/step - loss: 0.0926 - accuracy: 0.9691 - val_loss: 0.0950 - val_accuracy: 0.9679 - lr: 1.0000e-06\n",
            "Epoch 159/180\n",
            "125/125 [==============================] - ETA: 0s - loss: 0.0925 - accuracy: 0.9692\n",
            "Epoch 00159: val_accuracy did not improve from 0.96808\n"
          ],
          "name": "stdout"
        },
        {
          "output_type": "stream",
          "text": [
            "2020-05-13 09:40:39,460 INFO \n",
            " epoch:158, F1Macro: 0.93776\n"
          ],
          "name": "stderr"
        },
        {
          "output_type": "stream",
          "text": [
            "\b\b\b\b\b\b\b\b\b\b\b\b\b\b\b\b\b\b\b\b\b\b\b\b\b\b\b\b\b\b\b\b\b\b\b\b\b\b\b\b\b\b\b\b\b\b\b\b\b\b\b\b\b\b\b\b\b\b\b\b\b\b\b\b\b\b\b\b\b\b\b\b\b\b\b\b\b\b\b\b\b\b\b\b\r125/125 [==============================] - 35s 276ms/step - loss: 0.0925 - accuracy: 0.9692 - val_loss: 0.0949 - val_accuracy: 0.9679 - lr: 1.0000e-06\n",
            "Epoch 160/180\n",
            "125/125 [==============================] - ETA: 0s - loss: 0.0924 - accuracy: 0.9692\n",
            "Epoch 00160: val_accuracy did not improve from 0.96808\n"
          ],
          "name": "stdout"
        },
        {
          "output_type": "stream",
          "text": [
            "2020-05-13 09:41:14,282 INFO \n",
            " epoch:159, F1Macro: 0.93775\n"
          ],
          "name": "stderr"
        },
        {
          "output_type": "stream",
          "text": [
            "\b\b\b\b\b\b\b\b\b\b\b\b\b\b\b\b\b\b\b\b\b\b\b\b\b\b\b\b\b\b\b\b\b\b\b\b\b\b\b\b\b\b\b\b\b\b\b\b\b\b\b\b\b\b\b\b\b\b\b\b\b\b\b\b\b\b\b\b\b\b\b\b\b\b\b\b\b\b\b\b\b\b\b\b\r125/125 [==============================] - 35s 276ms/step - loss: 0.0924 - accuracy: 0.9692 - val_loss: 0.0949 - val_accuracy: 0.9679 - lr: 1.0000e-06\n",
            "Epoch 161/180\n",
            "125/125 [==============================] - ETA: 0s - loss: 0.0928 - accuracy: 0.9690\n",
            "Epoch 00161: val_accuracy did not improve from 0.96808\n"
          ],
          "name": "stdout"
        },
        {
          "output_type": "stream",
          "text": [
            "2020-05-13 09:41:48,969 INFO \n",
            " epoch:160, F1Macro: 0.93770\n"
          ],
          "name": "stderr"
        },
        {
          "output_type": "stream",
          "text": [
            "\b\b\b\b\b\b\b\b\b\b\b\b\b\b\b\b\b\b\b\b\b\b\b\b\b\b\b\b\b\b\b\b\b\b\b\b\b\b\b\b\b\b\b\b\b\b\b\b\b\b\b\b\b\b\b\b\b\b\b\b\b\b\b\b\b\b\b\b\b\b\b\b\b\b\b\b\b\b\b\b\b\b\b\b\r125/125 [==============================] - 34s 275ms/step - loss: 0.0928 - accuracy: 0.9690 - val_loss: 0.0950 - val_accuracy: 0.9679 - lr: 1.0000e-06\n",
            "Epoch 162/180\n",
            "125/125 [==============================] - ETA: 0s - loss: 0.0923 - accuracy: 0.9692\n",
            "Epoch 00162: val_accuracy did not improve from 0.96808\n"
          ],
          "name": "stdout"
        },
        {
          "output_type": "stream",
          "text": [
            "2020-05-13 09:42:23,697 INFO \n",
            " epoch:161, F1Macro: 0.93779\n"
          ],
          "name": "stderr"
        },
        {
          "output_type": "stream",
          "text": [
            "\b\b\b\b\b\b\b\b\b\b\b\b\b\b\b\b\b\b\b\b\b\b\b\b\b\b\b\b\b\b\b\b\b\b\b\b\b\b\b\b\b\b\b\b\b\b\b\b\b\b\b\b\b\b\b\b\b\b\b\b\b\b\b\b\b\b\b\b\b\b\b\b\b\b\b\b\b\b\b\b\b\b\b\b\r125/125 [==============================] - 34s 276ms/step - loss: 0.0923 - accuracy: 0.9692 - val_loss: 0.0948 - val_accuracy: 0.9680 - lr: 1.0000e-06\n",
            "Epoch 163/180\n",
            "125/125 [==============================] - ETA: 0s - loss: 0.0923 - accuracy: 0.9692\n",
            "Epoch 00163: val_accuracy did not improve from 0.96808\n"
          ],
          "name": "stdout"
        },
        {
          "output_type": "stream",
          "text": [
            "2020-05-13 09:42:58,349 INFO \n",
            " epoch:162, F1Macro: 0.93783\n"
          ],
          "name": "stderr"
        },
        {
          "output_type": "stream",
          "text": [
            "\b\b\b\b\b\b\b\b\b\b\b\b\b\b\b\b\b\b\b\b\b\b\b\b\b\b\b\b\b\b\b\b\b\b\b\b\b\b\b\b\b\b\b\b\b\b\b\b\b\b\b\b\b\b\b\b\b\b\b\b\b\b\b\b\b\b\b\b\b\b\b\b\b\b\b\b\b\b\b\b\b\b\b\b\r125/125 [==============================] - 34s 275ms/step - loss: 0.0923 - accuracy: 0.9692 - val_loss: 0.0947 - val_accuracy: 0.9680 - lr: 1.0000e-06\n",
            "Epoch 164/180\n",
            "125/125 [==============================] - ETA: 0s - loss: 0.0923 - accuracy: 0.9692\n",
            "Epoch 00164: val_accuracy did not improve from 0.96808\n"
          ],
          "name": "stdout"
        },
        {
          "output_type": "stream",
          "text": [
            "2020-05-13 09:43:32,893 INFO \n",
            " epoch:163, F1Macro: 0.93770\n"
          ],
          "name": "stderr"
        },
        {
          "output_type": "stream",
          "text": [
            "\b\b\b\b\b\b\b\b\b\b\b\b\b\b\b\b\b\b\b\b\b\b\b\b\b\b\b\b\b\b\b\b\b\b\b\b\b\b\b\b\b\b\b\b\b\b\b\b\b\b\b\b\b\b\b\b\b\b\b\b\b\b\b\b\b\b\b\b\b\b\b\b\b\b\b\b\b\b\b\b\b\b\b\b\r125/125 [==============================] - 34s 274ms/step - loss: 0.0923 - accuracy: 0.9692 - val_loss: 0.0950 - val_accuracy: 0.9679 - lr: 1.0000e-06\n",
            "Epoch 165/180\n",
            "125/125 [==============================] - ETA: 0s - loss: 0.0926 - accuracy: 0.9691\n",
            "Epoch 00165: val_accuracy did not improve from 0.96808\n"
          ],
          "name": "stdout"
        },
        {
          "output_type": "stream",
          "text": [
            "2020-05-13 09:44:07,472 INFO \n",
            " epoch:164, F1Macro: 0.93755\n"
          ],
          "name": "stderr"
        },
        {
          "output_type": "stream",
          "text": [
            "\b\b\b\b\b\b\b\b\b\b\b\b\b\b\b\b\b\b\b\b\b\b\b\b\b\b\b\b\b\b\b\b\b\b\b\b\b\b\b\b\b\b\b\b\b\b\b\b\b\b\b\b\b\b\b\b\b\b\b\b\b\b\b\b\b\b\b\b\b\b\b\b\b\b\b\b\b\b\b\b\b\b\b\b\r125/125 [==============================] - 34s 275ms/step - loss: 0.0926 - accuracy: 0.9691 - val_loss: 0.0951 - val_accuracy: 0.9678 - lr: 1.0000e-06\n",
            "Epoch 166/180\n",
            "125/125 [==============================] - ETA: 0s - loss: 0.0924 - accuracy: 0.9691\n",
            "Epoch 00166: val_accuracy did not improve from 0.96808\n"
          ],
          "name": "stdout"
        },
        {
          "output_type": "stream",
          "text": [
            "2020-05-13 09:44:42,105 INFO \n",
            " epoch:165, F1Macro: 0.93764\n"
          ],
          "name": "stderr"
        },
        {
          "output_type": "stream",
          "text": [
            "\b\b\b\b\b\b\b\b\b\b\b\b\b\b\b\b\b\b\b\b\b\b\b\b\b\b\b\b\b\b\b\b\b\b\b\b\b\b\b\b\b\b\b\b\b\b\b\b\b\b\b\b\b\b\b\b\b\b\b\b\b\b\b\b\b\b\b\b\b\b\b\b\b\b\b\b\b\b\b\b\b\b\b\b\r125/125 [==============================] - 34s 275ms/step - loss: 0.0924 - accuracy: 0.9691 - val_loss: 0.0950 - val_accuracy: 0.9679 - lr: 1.0000e-06\n",
            "Epoch 167/180\n",
            "125/125 [==============================] - ETA: 0s - loss: 0.0924 - accuracy: 0.9692\n",
            "Epoch 00167: val_accuracy did not improve from 0.96808\n"
          ],
          "name": "stdout"
        },
        {
          "output_type": "stream",
          "text": [
            "2020-05-13 09:45:16,735 INFO \n",
            " epoch:166, F1Macro: 0.93773\n"
          ],
          "name": "stderr"
        },
        {
          "output_type": "stream",
          "text": [
            "\b\b\b\b\b\b\b\b\b\b\b\b\b\b\b\b\b\b\b\b\b\b\b\b\b\b\b\b\b\b\b\b\b\b\b\b\b\b\b\b\b\b\b\b\b\b\b\b\b\b\b\b\b\b\b\b\b\b\b\b\b\b\b\b\b\b\b\b\b\b\b\b\b\b\b\b\b\b\b\b\b\b\b\b\r125/125 [==============================] - 34s 275ms/step - loss: 0.0924 - accuracy: 0.9692 - val_loss: 0.0949 - val_accuracy: 0.9679 - lr: 1.0000e-06\n",
            "Epoch 168/180\n",
            "125/125 [==============================] - ETA: 0s - loss: 0.0924 - accuracy: 0.9692\n",
            "Epoch 00168: val_accuracy did not improve from 0.96808\n"
          ],
          "name": "stdout"
        },
        {
          "output_type": "stream",
          "text": [
            "2020-05-13 09:45:51,302 INFO \n",
            " epoch:167, F1Macro: 0.93776\n"
          ],
          "name": "stderr"
        },
        {
          "output_type": "stream",
          "text": [
            "\b\b\b\b\b\b\b\b\b\b\b\b\b\b\b\b\b\b\b\b\b\b\b\b\b\b\b\b\b\b\b\b\b\b\b\b\b\b\b\b\b\b\b\b\b\b\b\b\b\b\b\b\b\b\b\b\b\b\b\b\b\b\b\b\b\b\b\b\b\b\b\b\b\b\b\b\b\b\b\b\b\b\b\b\r125/125 [==============================] - 34s 274ms/step - loss: 0.0924 - accuracy: 0.9692 - val_loss: 0.0949 - val_accuracy: 0.9679 - lr: 1.0000e-06\n",
            "Epoch 169/180\n",
            "125/125 [==============================] - ETA: 0s - loss: 0.0926 - accuracy: 0.9691\n",
            "Epoch 00169: val_accuracy did not improve from 0.96808\n"
          ],
          "name": "stdout"
        },
        {
          "output_type": "stream",
          "text": [
            "2020-05-13 09:46:25,993 INFO \n",
            " epoch:168, F1Macro: 0.93760\n"
          ],
          "name": "stderr"
        },
        {
          "output_type": "stream",
          "text": [
            "\b\b\b\b\b\b\b\b\b\b\b\b\b\b\b\b\b\b\b\b\b\b\b\b\b\b\b\b\b\b\b\b\b\b\b\b\b\b\b\b\b\b\b\b\b\b\b\b\b\b\b\b\b\b\b\b\b\b\b\b\b\b\b\b\b\b\b\b\b\b\b\b\b\b\b\b\b\b\b\b\b\b\b\b\r125/125 [==============================] - 34s 275ms/step - loss: 0.0926 - accuracy: 0.9691 - val_loss: 0.0951 - val_accuracy: 0.9679 - lr: 1.0000e-06\n",
            "Epoch 170/180\n",
            "125/125 [==============================] - ETA: 0s - loss: 0.0924 - accuracy: 0.9692\n",
            "Epoch 00170: val_accuracy did not improve from 0.96808\n"
          ],
          "name": "stdout"
        },
        {
          "output_type": "stream",
          "text": [
            "2020-05-13 09:47:00,628 INFO \n",
            " epoch:169, F1Macro: 0.93764\n"
          ],
          "name": "stderr"
        },
        {
          "output_type": "stream",
          "text": [
            "\b\b\b\b\b\b\b\b\b\b\b\b\b\b\b\b\b\b\b\b\b\b\b\b\b\b\b\b\b\b\b\b\b\b\b\b\b\b\b\b\b\b\b\b\b\b\b\b\b\b\b\b\b\b\b\b\b\b\b\b\b\b\b\b\b\b\b\b\b\b\b\b\b\b\b\b\b\b\b\b\b\b\b\b\r125/125 [==============================] - 34s 275ms/step - loss: 0.0924 - accuracy: 0.9692 - val_loss: 0.0949 - val_accuracy: 0.9679 - lr: 1.0000e-06\n",
            "Epoch 171/180\n",
            "125/125 [==============================] - ETA: 0s - loss: 0.0923 - accuracy: 0.9692\n",
            "Epoch 00171: val_accuracy did not improve from 0.96808\n"
          ],
          "name": "stdout"
        },
        {
          "output_type": "stream",
          "text": [
            "2020-05-13 09:47:35,277 INFO \n",
            " epoch:170, F1Macro: 0.93773\n"
          ],
          "name": "stderr"
        },
        {
          "output_type": "stream",
          "text": [
            "\b\b\b\b\b\b\b\b\b\b\b\b\b\b\b\b\b\b\b\b\b\b\b\b\b\b\b\b\b\b\b\b\b\b\b\b\b\b\b\b\b\b\b\b\b\b\b\b\b\b\b\b\b\b\b\b\b\b\b\b\b\b\b\b\b\b\b\b\b\b\b\b\b\b\b\b\b\b\b\b\b\b\b\b\r125/125 [==============================] - 34s 275ms/step - loss: 0.0923 - accuracy: 0.9692 - val_loss: 0.0948 - val_accuracy: 0.9680 - lr: 1.0000e-06\n",
            "Epoch 172/180\n",
            "125/125 [==============================] - ETA: 0s - loss: 0.0924 - accuracy: 0.9692\n",
            "Epoch 00172: val_accuracy did not improve from 0.96808\n"
          ],
          "name": "stdout"
        },
        {
          "output_type": "stream",
          "text": [
            "2020-05-13 09:48:09,900 INFO \n",
            " epoch:171, F1Macro: 0.93774\n"
          ],
          "name": "stderr"
        },
        {
          "output_type": "stream",
          "text": [
            "\b\b\b\b\b\b\b\b\b\b\b\b\b\b\b\b\b\b\b\b\b\b\b\b\b\b\b\b\b\b\b\b\b\b\b\b\b\b\b\b\b\b\b\b\b\b\b\b\b\b\b\b\b\b\b\b\b\b\b\b\b\b\b\b\b\b\b\b\b\b\b\b\b\b\b\b\b\b\b\b\b\b\b\b\r125/125 [==============================] - 34s 275ms/step - loss: 0.0924 - accuracy: 0.9692 - val_loss: 0.0949 - val_accuracy: 0.9679 - lr: 1.0000e-06\n",
            "Epoch 173/180\n",
            "125/125 [==============================] - ETA: 0s - loss: 0.0924 - accuracy: 0.9692\n",
            "Epoch 00173: val_accuracy did not improve from 0.96808\n"
          ],
          "name": "stdout"
        },
        {
          "output_type": "stream",
          "text": [
            "2020-05-13 09:48:44,615 INFO \n",
            " epoch:172, F1Macro: 0.93771\n"
          ],
          "name": "stderr"
        },
        {
          "output_type": "stream",
          "text": [
            "\b\b\b\b\b\b\b\b\b\b\b\b\b\b\b\b\b\b\b\b\b\b\b\b\b\b\b\b\b\b\b\b\b\b\b\b\b\b\b\b\b\b\b\b\b\b\b\b\b\b\b\b\b\b\b\b\b\b\b\b\b\b\b\b\b\b\b\b\b\b\b\b\b\b\b\b\b\b\b\b\b\b\b\b\r125/125 [==============================] - 34s 276ms/step - loss: 0.0924 - accuracy: 0.9692 - val_loss: 0.0950 - val_accuracy: 0.9679 - lr: 1.0000e-06\n",
            "Epoch 174/180\n",
            "125/125 [==============================] - ETA: 0s - loss: 0.0924 - accuracy: 0.9692\n",
            "Epoch 00174: val_accuracy did not improve from 0.96808\n"
          ],
          "name": "stdout"
        },
        {
          "output_type": "stream",
          "text": [
            "2020-05-13 09:49:19,301 INFO \n",
            " epoch:173, F1Macro: 0.93755\n"
          ],
          "name": "stderr"
        },
        {
          "output_type": "stream",
          "text": [
            "\b\b\b\b\b\b\b\b\b\b\b\b\b\b\b\b\b\b\b\b\b\b\b\b\b\b\b\b\b\b\b\b\b\b\b\b\b\b\b\b\b\b\b\b\b\b\b\b\b\b\b\b\b\b\b\b\b\b\b\b\b\b\b\b\b\b\b\b\b\b\b\b\b\b\b\b\b\b\b\b\b\b\b\b\r125/125 [==============================] - 34s 275ms/step - loss: 0.0924 - accuracy: 0.9692 - val_loss: 0.0951 - val_accuracy: 0.9678 - lr: 1.0000e-06\n",
            "Epoch 175/180\n",
            "125/125 [==============================] - ETA: 0s - loss: 0.0925 - accuracy: 0.9691\n",
            "Epoch 00175: val_accuracy did not improve from 0.96808\n"
          ],
          "name": "stdout"
        },
        {
          "output_type": "stream",
          "text": [
            "2020-05-13 09:49:53,898 INFO \n",
            " epoch:174, F1Macro: 0.93756\n"
          ],
          "name": "stderr"
        },
        {
          "output_type": "stream",
          "text": [
            "\b\b\b\b\b\b\b\b\b\b\b\b\b\b\b\b\b\b\b\b\b\b\b\b\b\b\b\b\b\b\b\b\b\b\b\b\b\b\b\b\b\b\b\b\b\b\b\b\b\b\b\b\b\b\b\b\b\b\b\b\b\b\b\b\b\b\b\b\b\b\b\b\b\b\b\b\b\b\b\b\b\b\b\b\r125/125 [==============================] - 34s 275ms/step - loss: 0.0925 - accuracy: 0.9691 - val_loss: 0.0950 - val_accuracy: 0.9678 - lr: 1.0000e-06\n",
            "Epoch 176/180\n",
            "125/125 [==============================] - ETA: 0s - loss: 0.0924 - accuracy: 0.9692\n",
            "Epoch 00176: val_accuracy did not improve from 0.96808\n"
          ],
          "name": "stdout"
        },
        {
          "output_type": "stream",
          "text": [
            "2020-05-13 09:50:28,527 INFO \n",
            " epoch:175, F1Macro: 0.93769\n"
          ],
          "name": "stderr"
        },
        {
          "output_type": "stream",
          "text": [
            "\b\b\b\b\b\b\b\b\b\b\b\b\b\b\b\b\b\b\b\b\b\b\b\b\b\b\b\b\b\b\b\b\b\b\b\b\b\b\b\b\b\b\b\b\b\b\b\b\b\b\b\b\b\b\b\b\b\b\b\b\b\b\b\b\b\b\b\b\b\b\b\b\b\b\b\b\b\b\b\b\b\b\b\b\r125/125 [==============================] - 34s 275ms/step - loss: 0.0924 - accuracy: 0.9692 - val_loss: 0.0949 - val_accuracy: 0.9679 - lr: 1.0000e-06\n",
            "Epoch 177/180\n",
            "125/125 [==============================] - ETA: 0s - loss: 0.0926 - accuracy: 0.9691\n",
            "Epoch 00177: val_accuracy did not improve from 0.96808\n"
          ],
          "name": "stdout"
        },
        {
          "output_type": "stream",
          "text": [
            "2020-05-13 09:51:03,139 INFO \n",
            " epoch:176, F1Macro: 0.93755\n"
          ],
          "name": "stderr"
        },
        {
          "output_type": "stream",
          "text": [
            "\b\b\b\b\b\b\b\b\b\b\b\b\b\b\b\b\b\b\b\b\b\b\b\b\b\b\b\b\b\b\b\b\b\b\b\b\b\b\b\b\b\b\b\b\b\b\b\b\b\b\b\b\b\b\b\b\b\b\b\b\b\b\b\b\b\b\b\b\b\b\b\b\b\b\b\b\b\b\b\b\b\b\b\b\r125/125 [==============================] - 34s 275ms/step - loss: 0.0926 - accuracy: 0.9691 - val_loss: 0.0951 - val_accuracy: 0.9678 - lr: 1.0000e-06\n",
            "Epoch 178/180\n",
            "125/125 [==============================] - ETA: 0s - loss: 0.0926 - accuracy: 0.9690\n",
            "Epoch 00178: val_accuracy did not improve from 0.96808\n"
          ],
          "name": "stdout"
        },
        {
          "output_type": "stream",
          "text": [
            "2020-05-13 09:51:37,918 INFO \n",
            " epoch:177, F1Macro: 0.93755\n"
          ],
          "name": "stderr"
        },
        {
          "output_type": "stream",
          "text": [
            "\b\b\b\b\b\b\b\b\b\b\b\b\b\b\b\b\b\b\b\b\b\b\b\b\b\b\b\b\b\b\b\b\b\b\b\b\b\b\b\b\b\b\b\b\b\b\b\b\b\b\b\b\b\b\b\b\b\b\b\b\b\b\b\b\b\b\b\b\b\b\b\b\b\b\b\b\b\b\b\b\b\b\b\b\r125/125 [==============================] - 35s 276ms/step - loss: 0.0926 - accuracy: 0.9690 - val_loss: 0.0951 - val_accuracy: 0.9679 - lr: 1.0000e-06\n",
            "Epoch 179/180\n",
            "125/125 [==============================] - ETA: 0s - loss: 0.0923 - accuracy: 0.9692\n",
            "Epoch 00179: val_accuracy did not improve from 0.96808\n"
          ],
          "name": "stdout"
        },
        {
          "output_type": "stream",
          "text": [
            "2020-05-13 09:52:12,522 INFO \n",
            " epoch:178, F1Macro: 0.93763\n"
          ],
          "name": "stderr"
        },
        {
          "output_type": "stream",
          "text": [
            "\b\b\b\b\b\b\b\b\b\b\b\b\b\b\b\b\b\b\b\b\b\b\b\b\b\b\b\b\b\b\b\b\b\b\b\b\b\b\b\b\b\b\b\b\b\b\b\b\b\b\b\b\b\b\b\b\b\b\b\b\b\b\b\b\b\b\b\b\b\b\b\b\b\b\b\b\b\b\b\b\b\b\b\b\r125/125 [==============================] - 34s 275ms/step - loss: 0.0923 - accuracy: 0.9692 - val_loss: 0.0950 - val_accuracy: 0.9679 - lr: 1.0000e-06\n",
            "Epoch 180/180\n",
            "125/125 [==============================] - ETA: 0s - loss: 0.0921 - accuracy: 0.9693\n",
            "Epoch 00180: val_accuracy did not improve from 0.96808\n"
          ],
          "name": "stdout"
        },
        {
          "output_type": "stream",
          "text": [
            "2020-05-13 09:52:47,179 INFO \n",
            " epoch:179, F1Macro: 0.93779\n"
          ],
          "name": "stderr"
        },
        {
          "output_type": "stream",
          "text": [
            "125/125 [==============================] - 34s 275ms/step - loss: 0.0921 - accuracy: 0.9693 - val_loss: 0.0947 - val_accuracy: 0.9680 - lr: 1.0000e-06\n",
            "preds_f shape: (250, 4000, 11)\n"
          ],
          "name": "stdout"
        },
        {
          "output_type": "stream",
          "text": [
            "2020-05-13 09:52:49,231 INFO Training fold 4 completed. macro f1 score : 0.93779\n"
          ],
          "name": "stderr"
        },
        {
          "output_type": "stream",
          "text": [
            "X_aug shape 1: (1000, 4000, 9)\n",
            "X_aug shape 2: (1000, 4000, 10)\n",
            "unique train_x[8]: [0. 1.]\n",
            "test shape after roll diff: (500, 4000, 10)\n",
            "train_x shape 3:  (2000, 4000, 10)\n",
            "train_y shape 3:  (2000, 4000, 11)\n",
            "shape_: (4000, 10)\n",
            "model initilization done!\n"
          ],
          "name": "stdout"
        },
        {
          "output_type": "display_data",
          "data": {
            "application/vnd.jupyter.widget-view+json": {
              "model_id": "6f40f06425c84e0c942459ec2cad10da",
              "version_minor": 0,
              "version_major": 2
            },
            "text/plain": [
              "HBox(children=(FloatProgress(value=0.0, description='Training', layout=Layout(flex='2'), max=180.0, style=Prog…"
            ]
          },
          "metadata": {
            "tags": []
          }
        },
        {
          "output_type": "stream",
          "text": [
            "Epoch 1/180\n",
            "125/125 [==============================] - ETA: 0s - loss: 1.8914 - accuracy: 0.5746\n",
            "Epoch 00001: val_accuracy improved from -inf to 0.56871, saving model to ion_switch/res/wavenet-dlr-res/ClassifierCBRWmulti-Prob11-NESCAL/all/4_fold/checkpoint-modelonly-4.h5\n"
          ],
          "name": "stdout"
        },
        {
          "output_type": "stream",
          "text": [
            "2020-05-13 09:54:32,375 INFO \n",
            " epoch:000, F1Macro: 0.40471\n"
          ],
          "name": "stderr"
        },
        {
          "output_type": "stream",
          "text": [
            "\b\b\b\b\b\b\b\b\b\b\b\b\b\b\b\b\b\b\b\b\b\b\b\b\b\b\b\b\b\b\b\b\b\b\b\b\b\b\b\b\b\b\b\b\b\b\b\b\b\b\b\b\b\b\b\b\b\b\b\b\b\b\b\b\b\b\b\b\b\b\b\b\b\b\b\b\b\b\b\b\b\b\b\b\r125/125 [==============================] - 40s 322ms/step - loss: 1.8914 - accuracy: 0.5746 - val_loss: 1.8238 - val_accuracy: 0.5687 - lr: 0.0010\n",
            "Epoch 2/180\n",
            "125/125 [==============================] - ETA: 0s - loss: 1.4828 - accuracy: 0.8238\n",
            "Epoch 00002: val_accuracy improved from 0.56871 to 0.72593, saving model to ion_switch/res/wavenet-dlr-res/ClassifierCBRWmulti-Prob11-NESCAL/all/4_fold/checkpoint-modelonly-4.h5\n"
          ],
          "name": "stdout"
        },
        {
          "output_type": "stream",
          "text": [
            "2020-05-13 09:55:08,197 INFO \n",
            " epoch:001, F1Macro: 0.54208\n"
          ],
          "name": "stderr"
        },
        {
          "output_type": "stream",
          "text": [
            "\b\b\b\b\b\b\b\b\b\b\b\b\b\b\b\b\b\b\b\b\b\b\b\b\b\b\b\b\b\b\b\b\b\b\b\b\b\b\b\b\b\b\b\b\b\b\b\b\b\b\b\b\b\b\b\b\b\b\b\b\b\b\b\b\b\b\b\b\b\b\b\b\b\b\b\b\b\b\b\b\b\b\b\b\r125/125 [==============================] - 36s 287ms/step - loss: 1.4828 - accuracy: 0.8238 - val_loss: 1.4116 - val_accuracy: 0.7259 - lr: 0.0010\n",
            "Epoch 3/180\n",
            "125/125 [==============================] - ETA: 0s - loss: 1.1743 - accuracy: 0.8840\n",
            "Epoch 00003: val_accuracy improved from 0.72593 to 0.85763, saving model to ion_switch/res/wavenet-dlr-res/ClassifierCBRWmulti-Prob11-NESCAL/all/4_fold/checkpoint-modelonly-4.h5\n"
          ],
          "name": "stdout"
        },
        {
          "output_type": "stream",
          "text": [
            "2020-05-13 09:55:44,481 INFO \n",
            " epoch:002, F1Macro: 0.68111\n"
          ],
          "name": "stderr"
        },
        {
          "output_type": "stream",
          "text": [
            "\b\b\b\b\b\b\b\b\b\b\b\b\b\b\b\b\b\b\b\b\b\b\b\b\b\b\b\b\b\b\b\b\b\b\b\b\b\b\b\b\b\b\b\b\b\b\b\b\b\b\b\b\b\b\b\b\b\b\b\b\b\b\b\b\b\b\b\b\b\b\b\b\b\b\b\b\b\b\b\b\b\b\b\b\r125/125 [==============================] - 36s 288ms/step - loss: 1.1743 - accuracy: 0.8840 - val_loss: 1.0685 - val_accuracy: 0.8576 - lr: 0.0010\n",
            "Epoch 4/180\n",
            "125/125 [==============================] - ETA: 0s - loss: 0.9457 - accuracy: 0.9057\n",
            "Epoch 00004: val_accuracy improved from 0.85763 to 0.92040, saving model to ion_switch/res/wavenet-dlr-res/ClassifierCBRWmulti-Prob11-NESCAL/all/4_fold/checkpoint-modelonly-4.h5\n"
          ],
          "name": "stdout"
        },
        {
          "output_type": "stream",
          "text": [
            "2020-05-13 09:56:20,659 INFO \n",
            " epoch:003, F1Macro: 0.73704\n"
          ],
          "name": "stderr"
        },
        {
          "output_type": "stream",
          "text": [
            "\b\b\b\b\b\b\b\b\b\b\b\b\b\b\b\b\b\b\b\b\b\b\b\b\b\b\b\b\b\b\b\b\b\b\b\b\b\b\b\b\b\b\b\b\b\b\b\b\b\b\b\b\b\b\b\b\b\b\b\b\b\b\b\b\b\b\b\b\b\b\b\b\b\b\b\b\b\b\b\b\b\b\b\b\r125/125 [==============================] - 36s 288ms/step - loss: 0.9457 - accuracy: 0.9057 - val_loss: 0.8405 - val_accuracy: 0.9204 - lr: 0.0010\n",
            "Epoch 5/180\n",
            "125/125 [==============================] - ETA: 0s - loss: 0.7892 - accuracy: 0.9083\n",
            "Epoch 00005: val_accuracy did not improve from 0.92040\n"
          ],
          "name": "stdout"
        },
        {
          "output_type": "stream",
          "text": [
            "2020-05-13 09:56:56,091 INFO \n",
            " epoch:004, F1Macro: 0.69794\n"
          ],
          "name": "stderr"
        },
        {
          "output_type": "stream",
          "text": [
            "\b\b\b\b\b\b\b\b\b\b\b\b\b\b\b\b\b\b\b\b\b\b\b\b\b\b\b\b\b\b\b\b\b\b\b\b\b\b\b\b\b\b\b\b\b\b\b\b\b\b\b\b\b\b\b\b\b\b\b\b\b\b\b\b\b\b\b\b\b\b\b\b\b\b\b\b\b\b\b\b\b\b\b\b\r125/125 [==============================] - 34s 275ms/step - loss: 0.7892 - accuracy: 0.9083 - val_loss: 0.7397 - val_accuracy: 0.8945 - lr: 0.0010\n",
            "Epoch 6/180\n",
            "125/125 [==============================] - ETA: 0s - loss: 0.6678 - accuracy: 0.9154\n",
            "Epoch 00006: val_accuracy improved from 0.92040 to 0.92453, saving model to ion_switch/res/wavenet-dlr-res/ClassifierCBRWmulti-Prob11-NESCAL/all/4_fold/checkpoint-modelonly-4.h5\n"
          ],
          "name": "stdout"
        },
        {
          "output_type": "stream",
          "text": [
            "2020-05-13 09:57:31,565 INFO \n",
            " epoch:005, F1Macro: 0.74450\n"
          ],
          "name": "stderr"
        },
        {
          "output_type": "stream",
          "text": [
            "\b\b\b\b\b\b\b\b\b\b\b\b\b\b\b\b\b\b\b\b\b\b\b\b\b\b\b\b\b\b\b\b\b\b\b\b\b\b\b\b\b\b\b\b\b\b\b\b\b\b\b\b\b\b\b\b\b\b\b\b\b\b\b\b\b\b\b\b\b\b\b\b\b\b\b\b\b\b\b\b\b\b\b\b\r125/125 [==============================] - 36s 287ms/step - loss: 0.6678 - accuracy: 0.9154 - val_loss: 0.5994 - val_accuracy: 0.9245 - lr: 0.0010\n",
            "Epoch 7/180\n",
            "125/125 [==============================] - ETA: 0s - loss: 0.5699 - accuracy: 0.9212\n",
            "Epoch 00007: val_accuracy did not improve from 0.92453\n"
          ],
          "name": "stdout"
        },
        {
          "output_type": "stream",
          "text": [
            "2020-05-13 09:58:06,957 INFO \n",
            " epoch:006, F1Macro: 0.73986\n"
          ],
          "name": "stderr"
        },
        {
          "output_type": "stream",
          "text": [
            "\b\b\b\b\b\b\b\b\b\b\b\b\b\b\b\b\b\b\b\b\b\b\b\b\b\b\b\b\b\b\b\b\b\b\b\b\b\b\b\b\b\b\b\b\b\b\b\b\b\b\b\b\b\b\b\b\b\b\b\b\b\b\b\b\b\b\b\b\b\b\b\b\b\b\b\b\b\b\b\b\b\b\b\b\r125/125 [==============================] - 34s 276ms/step - loss: 0.5699 - accuracy: 0.9212 - val_loss: 0.5307 - val_accuracy: 0.9232 - lr: 0.0010\n",
            "Epoch 8/180\n",
            "125/125 [==============================] - ETA: 0s - loss: 0.5046 - accuracy: 0.9196\n",
            "Epoch 00008: val_accuracy did not improve from 0.92453\n"
          ],
          "name": "stdout"
        },
        {
          "output_type": "stream",
          "text": [
            "2020-05-13 09:58:41,664 INFO \n",
            " epoch:007, F1Macro: 0.74031\n"
          ],
          "name": "stderr"
        },
        {
          "output_type": "stream",
          "text": [
            "\b\b\b\b\b\b\b\b\b\b\b\b\b\b\b\b\b\b\b\b\b\b\b\b\b\b\b\b\b\b\b\b\b\b\b\b\b\b\b\b\b\b\b\b\b\b\b\b\b\b\b\b\b\b\b\b\b\b\b\b\b\b\b\b\b\b\b\b\b\b\b\b\b\b\b\b\b\b\b\b\b\b\b\b\r125/125 [==============================] - 34s 276ms/step - loss: 0.5046 - accuracy: 0.9196 - val_loss: 0.4707 - val_accuracy: 0.9185 - lr: 0.0010\n",
            "Epoch 9/180\n",
            "125/125 [==============================] - ETA: 0s - loss: 0.4432 - accuracy: 0.9255\n",
            "Epoch 00009: val_accuracy improved from 0.92453 to 0.92720, saving model to ion_switch/res/wavenet-dlr-res/ClassifierCBRWmulti-Prob11-NESCAL/all/4_fold/checkpoint-modelonly-4.h5\n"
          ],
          "name": "stdout"
        },
        {
          "output_type": "stream",
          "text": [
            "2020-05-13 09:59:17,089 INFO \n",
            " epoch:008, F1Macro: 0.80137\n"
          ],
          "name": "stderr"
        },
        {
          "output_type": "stream",
          "text": [
            "\b\b\b\b\b\b\b\b\b\b\b\b\b\b\b\b\b\b\b\b\b\b\b\b\b\b\b\b\b\b\b\b\b\b\b\b\b\b\b\b\b\b\b\b\b\b\b\b\b\b\b\b\b\b\b\b\b\b\b\b\b\b\b\b\b\b\b\b\b\b\b\b\b\b\b\b\b\b\b\b\b\b\b\b\r125/125 [==============================] - 36s 287ms/step - loss: 0.4432 - accuracy: 0.9255 - val_loss: 0.4180 - val_accuracy: 0.9272 - lr: 0.0010\n",
            "Epoch 10/180\n",
            "125/125 [==============================] - ETA: 0s - loss: 0.3935 - accuracy: 0.9314\n",
            "Epoch 00010: val_accuracy improved from 0.92720 to 0.93305, saving model to ion_switch/res/wavenet-dlr-res/ClassifierCBRWmulti-Prob11-NESCAL/all/4_fold/checkpoint-modelonly-4.h5\n"
          ],
          "name": "stdout"
        },
        {
          "output_type": "stream",
          "text": [
            "2020-05-13 09:59:53,111 INFO \n",
            " epoch:009, F1Macro: 0.83355\n"
          ],
          "name": "stderr"
        },
        {
          "output_type": "stream",
          "text": [
            "\b\b\b\b\b\b\b\b\b\b\b\b\b\b\b\b\b\b\b\b\b\b\b\b\b\b\b\b\b\b\b\b\b\b\b\b\b\b\b\b\b\b\b\b\b\b\b\b\b\b\b\b\b\b\b\b\b\b\b\b\b\b\b\b\b\b\b\b\b\b\b\b\b\b\b\b\b\b\b\b\b\b\b\b\r125/125 [==============================] - 36s 286ms/step - loss: 0.3935 - accuracy: 0.9314 - val_loss: 0.3697 - val_accuracy: 0.9331 - lr: 0.0010\n",
            "Epoch 11/180\n",
            "125/125 [==============================] - ETA: 0s - loss: 0.3666 - accuracy: 0.9278\n",
            "Epoch 00011: val_accuracy did not improve from 0.93305\n"
          ],
          "name": "stdout"
        },
        {
          "output_type": "stream",
          "text": [
            "2020-05-13 10:00:28,461 INFO \n",
            " epoch:010, F1Macro: 0.83381\n"
          ],
          "name": "stderr"
        },
        {
          "output_type": "stream",
          "text": [
            "\b\b\b\b\b\b\b\b\b\b\b\b\b\b\b\b\b\b\b\b\b\b\b\b\b\b\b\b\b\b\b\b\b\b\b\b\b\b\b\b\b\b\b\b\b\b\b\b\b\b\b\b\b\b\b\b\b\b\b\b\b\b\b\b\b\b\b\b\b\b\b\b\b\b\b\b\b\b\b\b\b\b\b\b\r125/125 [==============================] - 35s 281ms/step - loss: 0.3666 - accuracy: 0.9278 - val_loss: 0.3381 - val_accuracy: 0.9327 - lr: 0.0010\n",
            "Epoch 12/180\n",
            "125/125 [==============================] - ETA: 0s - loss: 0.3272 - accuracy: 0.9330\n",
            "Epoch 00012: val_accuracy did not improve from 0.93305\n"
          ],
          "name": "stdout"
        },
        {
          "output_type": "stream",
          "text": [
            "2020-05-13 10:01:03,812 INFO \n",
            " epoch:011, F1Macro: 0.82903\n"
          ],
          "name": "stderr"
        },
        {
          "output_type": "stream",
          "text": [
            "\b\b\b\b\b\b\b\b\b\b\b\b\b\b\b\b\b\b\b\b\b\b\b\b\b\b\b\b\b\b\b\b\b\b\b\b\b\b\b\b\b\b\b\b\b\b\b\b\b\b\b\b\b\b\b\b\b\b\b\b\b\b\b\b\b\b\b\b\b\b\b\b\b\b\b\b\b\b\b\b\b\b\b\b\r125/125 [==============================] - 34s 275ms/step - loss: 0.3272 - accuracy: 0.9330 - val_loss: 0.3172 - val_accuracy: 0.9317 - lr: 0.0010\n",
            "Epoch 13/180\n",
            "125/125 [==============================] - ETA: 0s - loss: 0.3082 - accuracy: 0.9312\n",
            "Epoch 00013: val_accuracy did not improve from 0.93305\n"
          ],
          "name": "stdout"
        },
        {
          "output_type": "stream",
          "text": [
            "2020-05-13 10:01:38,592 INFO \n",
            " epoch:012, F1Macro: 0.82820\n"
          ],
          "name": "stderr"
        },
        {
          "output_type": "stream",
          "text": [
            "\b\b\b\b\b\b\b\b\b\b\b\b\b\b\b\b\b\b\b\b\b\b\b\b\b\b\b\b\b\b\b\b\b\b\b\b\b\b\b\b\b\b\b\b\b\b\b\b\b\b\b\b\b\b\b\b\b\b\b\b\b\b\b\b\b\b\b\b\b\b\b\b\b\b\b\b\b\b\b\b\b\b\b\b\r125/125 [==============================] - 35s 276ms/step - loss: 0.3082 - accuracy: 0.9312 - val_loss: 0.2968 - val_accuracy: 0.9307 - lr: 0.0010\n",
            "Epoch 14/180\n",
            "125/125 [==============================] - ETA: 0s - loss: 0.2966 - accuracy: 0.9280\n",
            "Epoch 00014: val_accuracy improved from 0.93305 to 0.93763, saving model to ion_switch/res/wavenet-dlr-res/ClassifierCBRWmulti-Prob11-NESCAL/all/4_fold/checkpoint-modelonly-4.h5\n"
          ],
          "name": "stdout"
        },
        {
          "output_type": "stream",
          "text": [
            "2020-05-13 10:02:13,931 INFO \n",
            " epoch:013, F1Macro: 0.85330\n"
          ],
          "name": "stderr"
        },
        {
          "output_type": "stream",
          "text": [
            "\b\b\b\b\b\b\b\b\b\b\b\b\b\b\b\b\b\b\b\b\b\b\b\b\b\b\b\b\b\b\b\b\b\b\b\b\b\b\b\b\b\b\b\b\b\b\b\b\b\b\b\b\b\b\b\b\b\b\b\b\b\b\b\b\b\b\b\b\b\b\b\b\b\b\b\b\b\b\b\b\b\b\b\b\r125/125 [==============================] - 36s 287ms/step - loss: 0.2966 - accuracy: 0.9280 - val_loss: 0.2624 - val_accuracy: 0.9376 - lr: 0.0010\n",
            "Epoch 15/180\n",
            "125/125 [==============================] - ETA: 0s - loss: 0.2703 - accuracy: 0.9480\n",
            "Epoch 00015: val_accuracy improved from 0.93763 to 0.95894, saving model to ion_switch/res/wavenet-dlr-res/ClassifierCBRWmulti-Prob11-NESCAL/all/4_fold/checkpoint-modelonly-4.h5\n"
          ],
          "name": "stdout"
        },
        {
          "output_type": "stream",
          "text": [
            "2020-05-13 10:02:49,911 INFO \n",
            " epoch:014, F1Macro: 0.92612\n"
          ],
          "name": "stderr"
        },
        {
          "output_type": "stream",
          "text": [
            "\b\b\b\b\b\b\b\b\b\b\b\b\b\b\b\b\b\b\b\b\b\b\b\b\b\b\b\b\b\b\b\b\b\b\b\b\b\b\b\b\b\b\b\b\b\b\b\b\b\b\b\b\b\b\b\b\b\b\b\b\b\b\b\b\b\b\b\b\b\b\b\b\b\b\b\b\b\b\b\b\b\b\b\b\r125/125 [==============================] - 36s 285ms/step - loss: 0.2703 - accuracy: 0.9480 - val_loss: 0.2503 - val_accuracy: 0.9589 - lr: 0.0010\n",
            "Epoch 16/180\n",
            "125/125 [==============================] - ETA: 0s - loss: 0.2555 - accuracy: 0.9524\n",
            "Epoch 00016: val_accuracy improved from 0.95894 to 0.96240, saving model to ion_switch/res/wavenet-dlr-res/ClassifierCBRWmulti-Prob11-NESCAL/all/4_fold/checkpoint-modelonly-4.h5\n"
          ],
          "name": "stdout"
        },
        {
          "output_type": "stream",
          "text": [
            "2020-05-13 10:03:26,035 INFO \n",
            " epoch:015, F1Macro: 0.92951\n"
          ],
          "name": "stderr"
        },
        {
          "output_type": "stream",
          "text": [
            "\b\b\b\b\b\b\b\b\b\b\b\b\b\b\b\b\b\b\b\b\b\b\b\b\b\b\b\b\b\b\b\b\b\b\b\b\b\b\b\b\b\b\b\b\b\b\b\b\b\b\b\b\b\b\b\b\b\b\b\b\b\b\b\b\b\b\b\b\b\b\b\b\b\b\b\b\b\b\b\b\b\b\b\b\r125/125 [==============================] - 36s 287ms/step - loss: 0.2555 - accuracy: 0.9524 - val_loss: 0.2252 - val_accuracy: 0.9624 - lr: 0.0010\n",
            "Epoch 17/180\n",
            "125/125 [==============================] - ETA: 0s - loss: 0.2203 - accuracy: 0.9598\n",
            "Epoch 00017: val_accuracy improved from 0.96240 to 0.96428, saving model to ion_switch/res/wavenet-dlr-res/ClassifierCBRWmulti-Prob11-NESCAL/all/4_fold/checkpoint-modelonly-4.h5\n"
          ],
          "name": "stdout"
        },
        {
          "output_type": "stream",
          "text": [
            "2020-05-13 10:04:02,097 INFO \n",
            " epoch:016, F1Macro: 0.93350\n"
          ],
          "name": "stderr"
        },
        {
          "output_type": "stream",
          "text": [
            "\b\b\b\b\b\b\b\b\b\b\b\b\b\b\b\b\b\b\b\b\b\b\b\b\b\b\b\b\b\b\b\b\b\b\b\b\b\b\b\b\b\b\b\b\b\b\b\b\b\b\b\b\b\b\b\b\b\b\b\b\b\b\b\b\b\b\b\b\b\b\b\b\b\b\b\b\b\b\b\b\b\b\b\b\r125/125 [==============================] - 36s 286ms/step - loss: 0.2203 - accuracy: 0.9598 - val_loss: 0.2033 - val_accuracy: 0.9643 - lr: 0.0010\n",
            "Epoch 18/180\n",
            "125/125 [==============================] - ETA: 0s - loss: 0.2055 - accuracy: 0.9609\n",
            "Epoch 00018: val_accuracy did not improve from 0.96428\n"
          ],
          "name": "stdout"
        },
        {
          "output_type": "stream",
          "text": [
            "2020-05-13 10:04:37,425 INFO \n",
            " epoch:017, F1Macro: 0.93153\n"
          ],
          "name": "stderr"
        },
        {
          "output_type": "stream",
          "text": [
            "\b\b\b\b\b\b\b\b\b\b\b\b\b\b\b\b\b\b\b\b\b\b\b\b\b\b\b\b\b\b\b\b\b\b\b\b\b\b\b\b\b\b\b\b\b\b\b\b\b\b\b\b\b\b\b\b\b\b\b\b\b\b\b\b\b\b\b\b\b\b\b\b\b\b\b\b\b\b\b\b\b\b\b\b\r125/125 [==============================] - 34s 275ms/step - loss: 0.2055 - accuracy: 0.9609 - val_loss: 0.1904 - val_accuracy: 0.9632 - lr: 0.0010\n",
            "Epoch 19/180\n",
            "125/125 [==============================] - ETA: 0s - loss: 0.1902 - accuracy: 0.9625\n",
            "Epoch 00019: val_accuracy did not improve from 0.96428\n"
          ],
          "name": "stdout"
        },
        {
          "output_type": "stream",
          "text": [
            "2020-05-13 10:05:12,118 INFO \n",
            " epoch:018, F1Macro: 0.93042\n"
          ],
          "name": "stderr"
        },
        {
          "output_type": "stream",
          "text": [
            "\b\b\b\b\b\b\b\b\b\b\b\b\b\b\b\b\b\b\b\b\b\b\b\b\b\b\b\b\b\b\b\b\b\b\b\b\b\b\b\b\b\b\b\b\b\b\b\b\b\b\b\b\b\b\b\b\b\b\b\b\b\b\b\b\b\b\b\b\b\b\b\b\b\b\b\b\b\b\b\b\b\b\b\b\r125/125 [==============================] - 34s 275ms/step - loss: 0.1902 - accuracy: 0.9625 - val_loss: 0.1804 - val_accuracy: 0.9638 - lr: 0.0010\n",
            "Epoch 20/180\n",
            "125/125 [==============================] - ETA: 0s - loss: 0.1798 - accuracy: 0.9631\n",
            "Epoch 00020: val_accuracy did not improve from 0.96428\n"
          ],
          "name": "stdout"
        },
        {
          "output_type": "stream",
          "text": [
            "2020-05-13 10:05:46,837 INFO \n",
            " epoch:019, F1Macro: 0.92518\n"
          ],
          "name": "stderr"
        },
        {
          "output_type": "stream",
          "text": [
            "\b\b\b\b\b\b\b\b\b\b\b\b\b\b\b\b\b\b\b\b\b\b\b\b\b\b\b\b\b\b\b\b\b\b\b\b\b\b\b\b\b\b\b\b\b\b\b\b\b\b\b\b\b\b\b\b\b\b\b\b\b\b\b\b\b\b\b\b\b\b\b\b\b\b\b\b\b\b\b\b\b\b\b\b\r125/125 [==============================] - 34s 276ms/step - loss: 0.1798 - accuracy: 0.9631 - val_loss: 0.1760 - val_accuracy: 0.9624 - lr: 0.0010\n",
            "Epoch 21/180\n",
            "125/125 [==============================] - ETA: 0s - loss: 0.1705 - accuracy: 0.9637\n",
            "Epoch 00021: val_accuracy improved from 0.96428 to 0.96503, saving model to ion_switch/res/wavenet-dlr-res/ClassifierCBRWmulti-Prob11-NESCAL/all/4_fold/checkpoint-modelonly-4.h5\n"
          ],
          "name": "stdout"
        },
        {
          "output_type": "stream",
          "text": [
            "2020-05-13 10:06:22,353 INFO \n",
            " epoch:020, F1Macro: 0.93428\n"
          ],
          "name": "stderr"
        },
        {
          "output_type": "stream",
          "text": [
            "\b\b\b\b\b\b\b\b\b\b\b\b\b\b\b\b\b\b\b\b\b\b\b\b\b\b\b\b\b\b\b\b\b\b\b\b\b\b\b\b\b\b\b\b\b\b\b\b\b\b\b\b\b\b\b\b\b\b\b\b\b\b\b\b\b\b\b\b\b\b\b\b\b\b\b\b\b\b\b\b\b\b\b\b\r125/125 [==============================] - 36s 288ms/step - loss: 0.1705 - accuracy: 0.9637 - val_loss: 0.1625 - val_accuracy: 0.9650 - lr: 0.0010\n",
            "Epoch 22/180\n",
            "125/125 [==============================] - ETA: 0s - loss: 0.1824 - accuracy: 0.9567\n",
            "Epoch 00022: val_accuracy did not improve from 0.96503\n"
          ],
          "name": "stdout"
        },
        {
          "output_type": "stream",
          "text": [
            "2020-05-13 10:06:57,862 INFO \n",
            " epoch:021, F1Macro: 0.87934\n"
          ],
          "name": "stderr"
        },
        {
          "output_type": "stream",
          "text": [
            "\b\b\b\b\b\b\b\b\b\b\b\b\b\b\b\b\b\b\b\b\b\b\b\b\b\b\b\b\b\b\b\b\b\b\b\b\b\b\b\b\b\b\b\b\b\b\b\b\b\b\b\b\b\b\b\b\b\b\b\b\b\b\b\b\b\b\b\b\b\b\b\b\b\b\b\b\b\b\b\b\b\b\b\b\r125/125 [==============================] - 35s 276ms/step - loss: 0.1824 - accuracy: 0.9567 - val_loss: 0.2801 - val_accuracy: 0.9212 - lr: 0.0010\n",
            "Epoch 23/180\n",
            "125/125 [==============================] - ETA: 0s - loss: 0.2041 - accuracy: 0.9482\n",
            "Epoch 00023: val_accuracy did not improve from 0.96503\n"
          ],
          "name": "stdout"
        },
        {
          "output_type": "stream",
          "text": [
            "2020-05-13 10:07:32,545 INFO \n",
            " epoch:022, F1Macro: 0.92893\n"
          ],
          "name": "stderr"
        },
        {
          "output_type": "stream",
          "text": [
            "\b\b\b\b\b\b\b\b\b\b\b\b\b\b\b\b\b\b\b\b\b\b\b\b\b\b\b\b\b\b\b\b\b\b\b\b\b\b\b\b\b\b\b\b\b\b\b\b\b\b\b\b\b\b\b\b\b\b\b\b\b\b\b\b\b\b\b\b\b\b\b\b\b\b\b\b\b\b\b\b\b\b\b\b\r125/125 [==============================] - 34s 275ms/step - loss: 0.2041 - accuracy: 0.9482 - val_loss: 0.1681 - val_accuracy: 0.9618 - lr: 0.0010\n",
            "Epoch 24/180\n",
            "125/125 [==============================] - ETA: 0s - loss: 0.1593 - accuracy: 0.9627\n",
            "Epoch 00024: val_accuracy improved from 0.96503 to 0.96548, saving model to ion_switch/res/wavenet-dlr-res/ClassifierCBRWmulti-Prob11-NESCAL/all/4_fold/checkpoint-modelonly-4.h5\n"
          ],
          "name": "stdout"
        },
        {
          "output_type": "stream",
          "text": [
            "2020-05-13 10:08:07,938 INFO \n",
            " epoch:023, F1Macro: 0.93434\n"
          ],
          "name": "stderr"
        },
        {
          "output_type": "stream",
          "text": [
            "\b\b\b\b\b\b\b\b\b\b\b\b\b\b\b\b\b\b\b\b\b\b\b\b\b\b\b\b\b\b\b\b\b\b\b\b\b\b\b\b\b\b\b\b\b\b\b\b\b\b\b\b\b\b\b\b\b\b\b\b\b\b\b\b\b\b\b\b\b\b\b\b\b\b\b\b\b\b\b\b\b\b\b\b\r125/125 [==============================] - 36s 288ms/step - loss: 0.1593 - accuracy: 0.9627 - val_loss: 0.1499 - val_accuracy: 0.9655 - lr: 0.0010\n",
            "Epoch 25/180\n",
            "125/125 [==============================] - ETA: 0s - loss: 0.1501 - accuracy: 0.9643\n",
            "Epoch 00025: val_accuracy did not improve from 0.96548\n"
          ],
          "name": "stdout"
        },
        {
          "output_type": "stream",
          "text": [
            "2020-05-13 10:08:43,528 INFO \n",
            " epoch:024, F1Macro: 0.92875\n"
          ],
          "name": "stderr"
        },
        {
          "output_type": "stream",
          "text": [
            "\b\b\b\b\b\b\b\b\b\b\b\b\b\b\b\b\b\b\b\b\b\b\b\b\b\b\b\b\b\b\b\b\b\b\b\b\b\b\b\b\b\b\b\b\b\b\b\b\b\b\b\b\b\b\b\b\b\b\b\b\b\b\b\b\b\b\b\b\b\b\b\b\b\b\b\b\b\b\b\b\b\b\b\b\r125/125 [==============================] - 34s 276ms/step - loss: 0.1501 - accuracy: 0.9643 - val_loss: 0.1472 - val_accuracy: 0.9632 - lr: 0.0010\n",
            "Epoch 26/180\n",
            "125/125 [==============================] - ETA: 0s - loss: 0.1451 - accuracy: 0.9646\n",
            "Epoch 00026: val_accuracy did not improve from 0.96548\n"
          ],
          "name": "stdout"
        },
        {
          "output_type": "stream",
          "text": [
            "2020-05-13 10:09:18,262 INFO \n",
            " epoch:025, F1Macro: 0.93348\n"
          ],
          "name": "stderr"
        },
        {
          "output_type": "stream",
          "text": [
            "\b\b\b\b\b\b\b\b\b\b\b\b\b\b\b\b\b\b\b\b\b\b\b\b\b\b\b\b\b\b\b\b\b\b\b\b\b\b\b\b\b\b\b\b\b\b\b\b\b\b\b\b\b\b\b\b\b\b\b\b\b\b\b\b\b\b\b\b\b\b\b\b\b\b\b\b\b\b\b\b\b\b\b\b\r125/125 [==============================] - 34s 276ms/step - loss: 0.1451 - accuracy: 0.9646 - val_loss: 0.1382 - val_accuracy: 0.9653 - lr: 0.0010\n",
            "Epoch 27/180\n",
            "125/125 [==============================] - ETA: 0s - loss: 0.1402 - accuracy: 0.9649\n",
            "Epoch 00027: val_accuracy did not improve from 0.96548\n"
          ],
          "name": "stdout"
        },
        {
          "output_type": "stream",
          "text": [
            "2020-05-13 10:09:52,936 INFO \n",
            " epoch:026, F1Macro: 0.93167\n"
          ],
          "name": "stderr"
        },
        {
          "output_type": "stream",
          "text": [
            "\b\b\b\b\b\b\b\b\b\b\b\b\b\b\b\b\b\b\b\b\b\b\b\b\b\b\b\b\b\b\b\b\b\b\b\b\b\b\b\b\b\b\b\b\b\b\b\b\b\b\b\b\b\b\b\b\b\b\b\b\b\b\b\b\b\b\b\b\b\b\b\b\b\b\b\b\b\b\b\b\b\b\b\b\r125/125 [==============================] - 34s 275ms/step - loss: 0.1402 - accuracy: 0.9649 - val_loss: 0.1363 - val_accuracy: 0.9647 - lr: 0.0010\n",
            "Epoch 28/180\n",
            "125/125 [==============================] - ETA: 0s - loss: 0.1360 - accuracy: 0.9652\n",
            "Epoch 00028: val_accuracy improved from 0.96548 to 0.96614, saving model to ion_switch/res/wavenet-dlr-res/ClassifierCBRWmulti-Prob11-NESCAL/all/4_fold/checkpoint-modelonly-4.h5\n"
          ],
          "name": "stdout"
        },
        {
          "output_type": "stream",
          "text": [
            "2020-05-13 10:10:28,356 INFO \n",
            " epoch:027, F1Macro: 0.93581\n"
          ],
          "name": "stderr"
        },
        {
          "output_type": "stream",
          "text": [
            "\b\b\b\b\b\b\b\b\b\b\b\b\b\b\b\b\b\b\b\b\b\b\b\b\b\b\b\b\b\b\b\b\b\b\b\b\b\b\b\b\b\b\b\b\b\b\b\b\b\b\b\b\b\b\b\b\b\b\b\b\b\b\b\b\b\b\b\b\b\b\b\b\b\b\b\b\b\b\b\b\b\b\b\b\r125/125 [==============================] - 36s 287ms/step - loss: 0.1360 - accuracy: 0.9652 - val_loss: 0.1294 - val_accuracy: 0.9661 - lr: 0.0010\n",
            "Epoch 29/180\n",
            "125/125 [==============================] - ETA: 0s - loss: 0.1338 - accuracy: 0.9649\n",
            "Epoch 00029: val_accuracy did not improve from 0.96614\n"
          ],
          "name": "stdout"
        },
        {
          "output_type": "stream",
          "text": [
            "2020-05-13 10:11:03,859 INFO \n",
            " epoch:028, F1Macro: 0.93430\n"
          ],
          "name": "stderr"
        },
        {
          "output_type": "stream",
          "text": [
            "\b\b\b\b\b\b\b\b\b\b\b\b\b\b\b\b\b\b\b\b\b\b\b\b\b\b\b\b\b\b\b\b\b\b\b\b\b\b\b\b\b\b\b\b\b\b\b\b\b\b\b\b\b\b\b\b\b\b\b\b\b\b\b\b\b\b\b\b\b\b\b\b\b\b\b\b\b\b\b\b\b\b\b\b\r125/125 [==============================] - 34s 276ms/step - loss: 0.1338 - accuracy: 0.9649 - val_loss: 0.1283 - val_accuracy: 0.9657 - lr: 0.0010\n",
            "Epoch 30/180\n",
            "125/125 [==============================] - ETA: 0s - loss: 0.1320 - accuracy: 0.9644\n",
            "Epoch 00030: val_accuracy did not improve from 0.96614\n"
          ],
          "name": "stdout"
        },
        {
          "output_type": "stream",
          "text": [
            "2020-05-13 10:11:38,569 INFO \n",
            " epoch:029, F1Macro: 0.92793\n"
          ],
          "name": "stderr"
        },
        {
          "output_type": "stream",
          "text": [
            "\b\b\b\b\b\b\b\b\b\b\b\b\b\b\b\b\b\b\b\b\b\b\b\b\b\b\b\b\b\b\b\b\b\b\b\b\b\b\b\b\b\b\b\b\b\b\b\b\b\b\b\b\b\b\b\b\b\b\b\b\b\b\b\b\b\b\b\b\b\b\b\b\b\b\b\b\b\b\b\b\b\b\b\b\r125/125 [==============================] - 34s 276ms/step - loss: 0.1320 - accuracy: 0.9644 - val_loss: 0.1303 - val_accuracy: 0.9639 - lr: 0.0010\n",
            "Epoch 31/180\n",
            "125/125 [==============================] - ETA: 0s - loss: 0.1266 - accuracy: 0.9660\n",
            "Epoch 00031: val_accuracy improved from 0.96614 to 0.96670, saving model to ion_switch/res/wavenet-dlr-res/ClassifierCBRWmulti-Prob11-NESCAL/all/4_fold/checkpoint-modelonly-4.h5\n"
          ],
          "name": "stdout"
        },
        {
          "output_type": "stream",
          "text": [
            "2020-05-13 10:12:13,986 INFO \n",
            " epoch:030, F1Macro: 0.93655\n"
          ],
          "name": "stderr"
        },
        {
          "output_type": "stream",
          "text": [
            "\b\b\b\b\b\b\b\b\b\b\b\b\b\b\b\b\b\b\b\b\b\b\b\b\b\b\b\b\b\b\b\b\b\b\b\b\b\b\b\b\b\b\b\b\b\b\b\b\b\b\b\b\b\b\b\b\b\b\b\b\b\b\b\b\b\b\b\b\b\b\b\b\b\b\b\b\b\b\b\b\b\b\b\b\r125/125 [==============================] - 36s 288ms/step - loss: 0.1266 - accuracy: 0.9660 - val_loss: 0.1220 - val_accuracy: 0.9667 - lr: 3.3333e-04\n",
            "Epoch 32/180\n",
            "125/125 [==============================] - ETA: 0s - loss: 0.1238 - accuracy: 0.9666\n",
            "Epoch 00032: val_accuracy improved from 0.96670 to 0.96673, saving model to ion_switch/res/wavenet-dlr-res/ClassifierCBRWmulti-Prob11-NESCAL/all/4_fold/checkpoint-modelonly-4.h5\n"
          ],
          "name": "stdout"
        },
        {
          "output_type": "stream",
          "text": [
            "2020-05-13 10:12:50,177 INFO \n",
            " epoch:031, F1Macro: 0.93636\n"
          ],
          "name": "stderr"
        },
        {
          "output_type": "stream",
          "text": [
            "\b\b\b\b\b\b\b\b\b\b\b\b\b\b\b\b\b\b\b\b\b\b\b\b\b\b\b\b\b\b\b\b\b\b\b\b\b\b\b\b\b\b\b\b\b\b\b\b\b\b\b\b\b\b\b\b\b\b\b\b\b\b\b\b\b\b\b\b\b\b\b\b\b\b\b\b\b\b\b\b\b\b\b\b\r125/125 [==============================] - 35s 281ms/step - loss: 0.1238 - accuracy: 0.9666 - val_loss: 0.1210 - val_accuracy: 0.9667 - lr: 3.3333e-04\n",
            "Epoch 33/180\n",
            "125/125 [==============================] - ETA: 0s - loss: 0.1223 - accuracy: 0.9667\n",
            "Epoch 00033: val_accuracy improved from 0.96673 to 0.96699, saving model to ion_switch/res/wavenet-dlr-res/ClassifierCBRWmulti-Prob11-NESCAL/all/4_fold/checkpoint-modelonly-4.h5\n"
          ],
          "name": "stdout"
        },
        {
          "output_type": "stream",
          "text": [
            "2020-05-13 10:13:25,655 INFO \n",
            " epoch:032, F1Macro: 0.93698\n"
          ],
          "name": "stderr"
        },
        {
          "output_type": "stream",
          "text": [
            "\b\b\b\b\b\b\b\b\b\b\b\b\b\b\b\b\b\b\b\b\b\b\b\b\b\b\b\b\b\b\b\b\b\b\b\b\b\b\b\b\b\b\b\b\b\b\b\b\b\b\b\b\b\b\b\b\b\b\b\b\b\b\b\b\b\b\b\b\b\b\b\b\b\b\b\b\b\b\b\b\b\b\b\b\r125/125 [==============================] - 36s 287ms/step - loss: 0.1223 - accuracy: 0.9667 - val_loss: 0.1193 - val_accuracy: 0.9670 - lr: 3.3333e-04\n",
            "Epoch 34/180\n",
            "125/125 [==============================] - ETA: 0s - loss: 0.1224 - accuracy: 0.9665\n",
            "Epoch 00034: val_accuracy did not improve from 0.96699\n"
          ],
          "name": "stdout"
        },
        {
          "output_type": "stream",
          "text": [
            "2020-05-13 10:14:01,079 INFO \n",
            " epoch:033, F1Macro: 0.93659\n"
          ],
          "name": "stderr"
        },
        {
          "output_type": "stream",
          "text": [
            "\b\b\b\b\b\b\b\b\b\b\b\b\b\b\b\b\b\b\b\b\b\b\b\b\b\b\b\b\b\b\b\b\b\b\b\b\b\b\b\b\b\b\b\b\b\b\b\b\b\b\b\b\b\b\b\b\b\b\b\b\b\b\b\b\b\b\b\b\b\b\b\b\b\b\b\b\b\b\b\b\b\b\b\b\r125/125 [==============================] - 34s 275ms/step - loss: 0.1224 - accuracy: 0.9665 - val_loss: 0.1198 - val_accuracy: 0.9667 - lr: 3.3333e-04\n",
            "Epoch 35/180\n",
            "125/125 [==============================] - ETA: 0s - loss: 0.1204 - accuracy: 0.9668\n",
            "Epoch 00035: val_accuracy did not improve from 0.96699\n"
          ],
          "name": "stdout"
        },
        {
          "output_type": "stream",
          "text": [
            "2020-05-13 10:14:35,813 INFO \n",
            " epoch:034, F1Macro: 0.93455\n"
          ],
          "name": "stderr"
        },
        {
          "output_type": "stream",
          "text": [
            "\b\b\b\b\b\b\b\b\b\b\b\b\b\b\b\b\b\b\b\b\b\b\b\b\b\b\b\b\b\b\b\b\b\b\b\b\b\b\b\b\b\b\b\b\b\b\b\b\b\b\b\b\b\b\b\b\b\b\b\b\b\b\b\b\b\b\b\b\b\b\b\b\b\b\b\b\b\b\b\b\b\b\b\b\r125/125 [==============================] - 34s 276ms/step - loss: 0.1204 - accuracy: 0.9668 - val_loss: 0.1190 - val_accuracy: 0.9664 - lr: 3.3333e-04\n",
            "Epoch 36/180\n",
            "125/125 [==============================] - ETA: 0s - loss: 0.1192 - accuracy: 0.9669\n",
            "Epoch 00036: val_accuracy did not improve from 0.96699\n"
          ],
          "name": "stdout"
        },
        {
          "output_type": "stream",
          "text": [
            "2020-05-13 10:15:10,579 INFO \n",
            " epoch:035, F1Macro: 0.93625\n"
          ],
          "name": "stderr"
        },
        {
          "output_type": "stream",
          "text": [
            "\b\b\b\b\b\b\b\b\b\b\b\b\b\b\b\b\b\b\b\b\b\b\b\b\b\b\b\b\b\b\b\b\b\b\b\b\b\b\b\b\b\b\b\b\b\b\b\b\b\b\b\b\b\b\b\b\b\b\b\b\b\b\b\b\b\b\b\b\b\b\b\b\b\b\b\b\b\b\b\b\b\b\b\b\r125/125 [==============================] - 34s 276ms/step - loss: 0.1192 - accuracy: 0.9669 - val_loss: 0.1172 - val_accuracy: 0.9668 - lr: 3.3333e-04\n",
            "Epoch 37/180\n",
            "125/125 [==============================] - ETA: 0s - loss: 0.1181 - accuracy: 0.9670\n",
            "Epoch 00037: val_accuracy improved from 0.96699 to 0.96726, saving model to ion_switch/res/wavenet-dlr-res/ClassifierCBRWmulti-Prob11-NESCAL/all/4_fold/checkpoint-modelonly-4.h5\n"
          ],
          "name": "stdout"
        },
        {
          "output_type": "stream",
          "text": [
            "2020-05-13 10:15:46,061 INFO \n",
            " epoch:036, F1Macro: 0.93734\n"
          ],
          "name": "stderr"
        },
        {
          "output_type": "stream",
          "text": [
            "\b\b\b\b\b\b\b\b\b\b\b\b\b\b\b\b\b\b\b\b\b\b\b\b\b\b\b\b\b\b\b\b\b\b\b\b\b\b\b\b\b\b\b\b\b\b\b\b\b\b\b\b\b\b\b\b\b\b\b\b\b\b\b\b\b\b\b\b\b\b\b\b\b\b\b\b\b\b\b\b\b\b\b\b\r125/125 [==============================] - 36s 287ms/step - loss: 0.1181 - accuracy: 0.9670 - val_loss: 0.1153 - val_accuracy: 0.9673 - lr: 3.3333e-04\n",
            "Epoch 38/180\n",
            "125/125 [==============================] - ETA: 0s - loss: 0.1173 - accuracy: 0.9669\n",
            "Epoch 00038: val_accuracy improved from 0.96726 to 0.96729, saving model to ion_switch/res/wavenet-dlr-res/ClassifierCBRWmulti-Prob11-NESCAL/all/4_fold/checkpoint-modelonly-4.h5\n"
          ],
          "name": "stdout"
        },
        {
          "output_type": "stream",
          "text": [
            "2020-05-13 10:16:22,214 INFO \n",
            " epoch:037, F1Macro: 0.93611\n"
          ],
          "name": "stderr"
        },
        {
          "output_type": "stream",
          "text": [
            "\b\b\b\b\b\b\b\b\b\b\b\b\b\b\b\b\b\b\b\b\b\b\b\b\b\b\b\b\b\b\b\b\b\b\b\b\b\b\b\b\b\b\b\b\b\b\b\b\b\b\b\b\b\b\b\b\b\b\b\b\b\b\b\b\b\b\b\b\b\b\b\b\b\b\b\b\b\b\b\b\b\b\b\b\r125/125 [==============================] - 35s 281ms/step - loss: 0.1173 - accuracy: 0.9669 - val_loss: 0.1143 - val_accuracy: 0.9673 - lr: 3.3333e-04\n",
            "Epoch 39/180\n",
            "125/125 [==============================] - ETA: 0s - loss: 0.1156 - accuracy: 0.9672\n",
            "Epoch 00039: val_accuracy did not improve from 0.96729\n"
          ],
          "name": "stdout"
        },
        {
          "output_type": "stream",
          "text": [
            "2020-05-13 10:16:57,014 INFO \n",
            " epoch:038, F1Macro: 0.93646\n"
          ],
          "name": "stderr"
        },
        {
          "output_type": "stream",
          "text": [
            "\b\b\b\b\b\b\b\b\b\b\b\b\b\b\b\b\b\b\b\b\b\b\b\b\b\b\b\b\b\b\b\b\b\b\b\b\b\b\b\b\b\b\b\b\b\b\b\b\b\b\b\b\b\b\b\b\b\b\b\b\b\b\b\b\b\b\b\b\b\b\b\b\b\b\b\b\b\b\b\b\b\b\b\b\r125/125 [==============================] - 35s 276ms/step - loss: 0.1156 - accuracy: 0.9672 - val_loss: 0.1141 - val_accuracy: 0.9669 - lr: 3.3333e-04\n",
            "Epoch 40/180\n",
            "125/125 [==============================] - ETA: 0s - loss: 0.1145 - accuracy: 0.9672\n",
            "Epoch 00040: val_accuracy improved from 0.96729 to 0.96747, saving model to ion_switch/res/wavenet-dlr-res/ClassifierCBRWmulti-Prob11-NESCAL/all/4_fold/checkpoint-modelonly-4.h5\n"
          ],
          "name": "stdout"
        },
        {
          "output_type": "stream",
          "text": [
            "2020-05-13 10:17:32,528 INFO \n",
            " epoch:039, F1Macro: 0.93745\n"
          ],
          "name": "stderr"
        },
        {
          "output_type": "stream",
          "text": [
            "\b\b\b\b\b\b\b\b\b\b\b\b\b\b\b\b\b\b\b\b\b\b\b\b\b\b\b\b\b\b\b\b\b\b\b\b\b\b\b\b\b\b\b\b\b\b\b\b\b\b\b\b\b\b\b\b\b\b\b\b\b\b\b\b\b\b\b\b\b\b\b\b\b\b\b\b\b\b\b\b\b\b\b\b\r125/125 [==============================] - 36s 288ms/step - loss: 0.1145 - accuracy: 0.9672 - val_loss: 0.1122 - val_accuracy: 0.9675 - lr: 3.3333e-04\n",
            "Epoch 41/180\n",
            "125/125 [==============================] - ETA: 0s - loss: 0.1136 - accuracy: 0.9674\n",
            "Epoch 00041: val_accuracy did not improve from 0.96747\n"
          ],
          "name": "stdout"
        },
        {
          "output_type": "stream",
          "text": [
            "2020-05-13 10:18:07,948 INFO \n",
            " epoch:040, F1Macro: 0.93732\n"
          ],
          "name": "stderr"
        },
        {
          "output_type": "stream",
          "text": [
            "\b\b\b\b\b\b\b\b\b\b\b\b\b\b\b\b\b\b\b\b\b\b\b\b\b\b\b\b\b\b\b\b\b\b\b\b\b\b\b\b\b\b\b\b\b\b\b\b\b\b\b\b\b\b\b\b\b\b\b\b\b\b\b\b\b\b\b\b\b\b\b\b\b\b\b\b\b\b\b\b\b\b\b\b\r125/125 [==============================] - 34s 276ms/step - loss: 0.1136 - accuracy: 0.9674 - val_loss: 0.1119 - val_accuracy: 0.9674 - lr: 2.0000e-04\n",
            "Epoch 42/180\n",
            "125/125 [==============================] - ETA: 0s - loss: 0.1130 - accuracy: 0.9675\n",
            "Epoch 00042: val_accuracy did not improve from 0.96747\n"
          ],
          "name": "stdout"
        },
        {
          "output_type": "stream",
          "text": [
            "2020-05-13 10:18:42,667 INFO \n",
            " epoch:041, F1Macro: 0.93674\n"
          ],
          "name": "stderr"
        },
        {
          "output_type": "stream",
          "text": [
            "\b\b\b\b\b\b\b\b\b\b\b\b\b\b\b\b\b\b\b\b\b\b\b\b\b\b\b\b\b\b\b\b\b\b\b\b\b\b\b\b\b\b\b\b\b\b\b\b\b\b\b\b\b\b\b\b\b\b\b\b\b\b\b\b\b\b\b\b\b\b\b\b\b\b\b\b\b\b\b\b\b\b\b\b\r125/125 [==============================] - 34s 276ms/step - loss: 0.1130 - accuracy: 0.9675 - val_loss: 0.1110 - val_accuracy: 0.9673 - lr: 2.0000e-04\n",
            "Epoch 43/180\n",
            "125/125 [==============================] - ETA: 0s - loss: 0.1124 - accuracy: 0.9674\n",
            "Epoch 00043: val_accuracy did not improve from 0.96747\n"
          ],
          "name": "stdout"
        },
        {
          "output_type": "stream",
          "text": [
            "2020-05-13 10:19:17,368 INFO \n",
            " epoch:042, F1Macro: 0.93712\n"
          ],
          "name": "stderr"
        },
        {
          "output_type": "stream",
          "text": [
            "\b\b\b\b\b\b\b\b\b\b\b\b\b\b\b\b\b\b\b\b\b\b\b\b\b\b\b\b\b\b\b\b\b\b\b\b\b\b\b\b\b\b\b\b\b\b\b\b\b\b\b\b\b\b\b\b\b\b\b\b\b\b\b\b\b\b\b\b\b\b\b\b\b\b\b\b\b\b\b\b\b\b\b\b\r125/125 [==============================] - 34s 275ms/step - loss: 0.1124 - accuracy: 0.9674 - val_loss: 0.1105 - val_accuracy: 0.9672 - lr: 2.0000e-04\n",
            "Epoch 44/180\n",
            "125/125 [==============================] - ETA: 0s - loss: 0.1129 - accuracy: 0.9672\n",
            "Epoch 00044: val_accuracy did not improve from 0.96747\n"
          ],
          "name": "stdout"
        },
        {
          "output_type": "stream",
          "text": [
            "2020-05-13 10:19:52,090 INFO \n",
            " epoch:043, F1Macro: 0.93700\n"
          ],
          "name": "stderr"
        },
        {
          "output_type": "stream",
          "text": [
            "\b\b\b\b\b\b\b\b\b\b\b\b\b\b\b\b\b\b\b\b\b\b\b\b\b\b\b\b\b\b\b\b\b\b\b\b\b\b\b\b\b\b\b\b\b\b\b\b\b\b\b\b\b\b\b\b\b\b\b\b\b\b\b\b\b\b\b\b\b\b\b\b\b\b\b\b\b\b\b\b\b\b\b\b\r125/125 [==============================] - 34s 276ms/step - loss: 0.1129 - accuracy: 0.9672 - val_loss: 0.1097 - val_accuracy: 0.9671 - lr: 2.0000e-04\n",
            "Epoch 45/180\n",
            "125/125 [==============================] - ETA: 0s - loss: 0.1109 - accuracy: 0.9675\n",
            "Epoch 00045: val_accuracy did not improve from 0.96747\n"
          ],
          "name": "stdout"
        },
        {
          "output_type": "stream",
          "text": [
            "2020-05-13 10:20:26,776 INFO \n",
            " epoch:044, F1Macro: 0.93668\n"
          ],
          "name": "stderr"
        },
        {
          "output_type": "stream",
          "text": [
            "\b\b\b\b\b\b\b\b\b\b\b\b\b\b\b\b\b\b\b\b\b\b\b\b\b\b\b\b\b\b\b\b\b\b\b\b\b\b\b\b\b\b\b\b\b\b\b\b\b\b\b\b\b\b\b\b\b\b\b\b\b\b\b\b\b\b\b\b\b\b\b\b\b\b\b\b\b\b\b\b\b\b\b\b\r125/125 [==============================] - 34s 275ms/step - loss: 0.1109 - accuracy: 0.9675 - val_loss: 0.1097 - val_accuracy: 0.9671 - lr: 2.0000e-04\n",
            "Epoch 46/180\n",
            "125/125 [==============================] - ETA: 0s - loss: 0.1099 - accuracy: 0.9677\n",
            "Epoch 00046: val_accuracy did not improve from 0.96747\n"
          ],
          "name": "stdout"
        },
        {
          "output_type": "stream",
          "text": [
            "2020-05-13 10:21:01,441 INFO \n",
            " epoch:045, F1Macro: 0.93706\n"
          ],
          "name": "stderr"
        },
        {
          "output_type": "stream",
          "text": [
            "\b\b\b\b\b\b\b\b\b\b\b\b\b\b\b\b\b\b\b\b\b\b\b\b\b\b\b\b\b\b\b\b\b\b\b\b\b\b\b\b\b\b\b\b\b\b\b\b\b\b\b\b\b\b\b\b\b\b\b\b\b\b\b\b\b\b\b\b\b\b\b\b\b\b\b\b\b\b\b\b\b\b\b\b\r125/125 [==============================] - 34s 275ms/step - loss: 0.1099 - accuracy: 0.9677 - val_loss: 0.1088 - val_accuracy: 0.9673 - lr: 2.0000e-04\n",
            "Epoch 47/180\n",
            "125/125 [==============================] - ETA: 0s - loss: 0.1095 - accuracy: 0.9676\n",
            "Epoch 00047: val_accuracy did not improve from 0.96747\n"
          ],
          "name": "stdout"
        },
        {
          "output_type": "stream",
          "text": [
            "2020-05-13 10:21:36,146 INFO \n",
            " epoch:046, F1Macro: 0.93729\n"
          ],
          "name": "stderr"
        },
        {
          "output_type": "stream",
          "text": [
            "\b\b\b\b\b\b\b\b\b\b\b\b\b\b\b\b\b\b\b\b\b\b\b\b\b\b\b\b\b\b\b\b\b\b\b\b\b\b\b\b\b\b\b\b\b\b\b\b\b\b\b\b\b\b\b\b\b\b\b\b\b\b\b\b\b\b\b\b\b\b\b\b\b\b\b\b\b\b\b\b\b\b\b\b\r125/125 [==============================] - 34s 276ms/step - loss: 0.1095 - accuracy: 0.9676 - val_loss: 0.1074 - val_accuracy: 0.9675 - lr: 2.0000e-04\n",
            "Epoch 48/180\n",
            "125/125 [==============================] - ETA: 0s - loss: 0.1090 - accuracy: 0.9677\n",
            "Epoch 00048: val_accuracy improved from 0.96747 to 0.96748, saving model to ion_switch/res/wavenet-dlr-res/ClassifierCBRWmulti-Prob11-NESCAL/all/4_fold/checkpoint-modelonly-4.h5\n"
          ],
          "name": "stdout"
        },
        {
          "output_type": "stream",
          "text": [
            "2020-05-13 10:22:11,663 INFO \n",
            " epoch:047, F1Macro: 0.93739\n"
          ],
          "name": "stderr"
        },
        {
          "output_type": "stream",
          "text": [
            "\b\b\b\b\b\b\b\b\b\b\b\b\b\b\b\b\b\b\b\b\b\b\b\b\b\b\b\b\b\b\b\b\b\b\b\b\b\b\b\b\b\b\b\b\b\b\b\b\b\b\b\b\b\b\b\b\b\b\b\b\b\b\b\b\b\b\b\b\b\b\b\b\b\b\b\b\b\b\b\b\b\b\b\b\r125/125 [==============================] - 35s 282ms/step - loss: 0.1090 - accuracy: 0.9677 - val_loss: 0.1070 - val_accuracy: 0.9675 - lr: 2.0000e-04\n",
            "Epoch 49/180\n",
            "125/125 [==============================] - ETA: 0s - loss: 0.1082 - accuracy: 0.9678\n",
            "Epoch 00049: val_accuracy did not improve from 0.96748\n"
          ],
          "name": "stdout"
        },
        {
          "output_type": "stream",
          "text": [
            "2020-05-13 10:22:46,336 INFO \n",
            " epoch:048, F1Macro: 0.93738\n"
          ],
          "name": "stderr"
        },
        {
          "output_type": "stream",
          "text": [
            "\b\b\b\b\b\b\b\b\b\b\b\b\b\b\b\b\b\b\b\b\b\b\b\b\b\b\b\b\b\b\b\b\b\b\b\b\b\b\b\b\b\b\b\b\b\b\b\b\b\b\b\b\b\b\b\b\b\b\b\b\b\b\b\b\b\b\b\b\b\b\b\b\b\b\b\b\b\b\b\b\b\b\b\b\r125/125 [==============================] - 34s 275ms/step - loss: 0.1082 - accuracy: 0.9678 - val_loss: 0.1065 - val_accuracy: 0.9673 - lr: 2.0000e-04\n",
            "Epoch 50/180\n",
            "125/125 [==============================] - ETA: 0s - loss: 0.1075 - accuracy: 0.9678\n",
            "Epoch 00050: val_accuracy did not improve from 0.96748\n"
          ],
          "name": "stdout"
        },
        {
          "output_type": "stream",
          "text": [
            "2020-05-13 10:23:21,043 INFO \n",
            " epoch:049, F1Macro: 0.93681\n"
          ],
          "name": "stderr"
        },
        {
          "output_type": "stream",
          "text": [
            "\b\b\b\b\b\b\b\b\b\b\b\b\b\b\b\b\b\b\b\b\b\b\b\b\b\b\b\b\b\b\b\b\b\b\b\b\b\b\b\b\b\b\b\b\b\b\b\b\b\b\b\b\b\b\b\b\b\b\b\b\b\b\b\b\b\b\b\b\b\b\b\b\b\b\b\b\b\b\b\b\b\b\b\b\r125/125 [==============================] - 34s 276ms/step - loss: 0.1075 - accuracy: 0.9678 - val_loss: 0.1064 - val_accuracy: 0.9674 - lr: 2.0000e-04\n",
            "Epoch 51/180\n",
            "125/125 [==============================] - ETA: 0s - loss: 0.1063 - accuracy: 0.9680\n",
            "Epoch 00051: val_accuracy did not improve from 0.96748\n"
          ],
          "name": "stdout"
        },
        {
          "output_type": "stream",
          "text": [
            "2020-05-13 10:23:55,763 INFO \n",
            " epoch:050, F1Macro: 0.93717\n"
          ],
          "name": "stderr"
        },
        {
          "output_type": "stream",
          "text": [
            "\b\b\b\b\b\b\b\b\b\b\b\b\b\b\b\b\b\b\b\b\b\b\b\b\b\b\b\b\b\b\b\b\b\b\b\b\b\b\b\b\b\b\b\b\b\b\b\b\b\b\b\b\b\b\b\b\b\b\b\b\b\b\b\b\b\b\b\b\b\b\b\b\b\b\b\b\b\b\b\b\b\b\b\b\r125/125 [==============================] - 34s 276ms/step - loss: 0.1063 - accuracy: 0.9680 - val_loss: 0.1068 - val_accuracy: 0.9671 - lr: 1.4286e-04\n",
            "Epoch 52/180\n",
            "125/125 [==============================] - ETA: 0s - loss: 0.1059 - accuracy: 0.9680\n",
            "Epoch 00052: val_accuracy improved from 0.96748 to 0.96760, saving model to ion_switch/res/wavenet-dlr-res/ClassifierCBRWmulti-Prob11-NESCAL/all/4_fold/checkpoint-modelonly-4.h5\n"
          ],
          "name": "stdout"
        },
        {
          "output_type": "stream",
          "text": [
            "2020-05-13 10:24:31,206 INFO \n",
            " epoch:051, F1Macro: 0.93777\n"
          ],
          "name": "stderr"
        },
        {
          "output_type": "stream",
          "text": [
            "\b\b\b\b\b\b\b\b\b\b\b\b\b\b\b\b\b\b\b\b\b\b\b\b\b\b\b\b\b\b\b\b\b\b\b\b\b\b\b\b\b\b\b\b\b\b\b\b\b\b\b\b\b\b\b\b\b\b\b\b\b\b\b\b\b\b\b\b\b\b\b\b\b\b\b\b\b\b\b\b\b\b\b\b\r125/125 [==============================] - 36s 287ms/step - loss: 0.1059 - accuracy: 0.9680 - val_loss: 0.1051 - val_accuracy: 0.9676 - lr: 1.4286e-04\n",
            "Epoch 53/180\n",
            "125/125 [==============================] - ETA: 0s - loss: 0.1054 - accuracy: 0.9681\n",
            "Epoch 00053: val_accuracy improved from 0.96760 to 0.96769, saving model to ion_switch/res/wavenet-dlr-res/ClassifierCBRWmulti-Prob11-NESCAL/all/4_fold/checkpoint-modelonly-4.h5\n"
          ],
          "name": "stdout"
        },
        {
          "output_type": "stream",
          "text": [
            "2020-05-13 10:25:07,331 INFO \n",
            " epoch:052, F1Macro: 0.93726\n"
          ],
          "name": "stderr"
        },
        {
          "output_type": "stream",
          "text": [
            "\b\b\b\b\b\b\b\b\b\b\b\b\b\b\b\b\b\b\b\b\b\b\b\b\b\b\b\b\b\b\b\b\b\b\b\b\b\b\b\b\b\b\b\b\b\b\b\b\b\b\b\b\b\b\b\b\b\b\b\b\b\b\b\b\b\b\b\b\b\b\b\b\b\b\b\b\b\b\b\b\b\b\b\b\r125/125 [==============================] - 35s 281ms/step - loss: 0.1054 - accuracy: 0.9681 - val_loss: 0.1043 - val_accuracy: 0.9677 - lr: 1.4286e-04\n",
            "Epoch 54/180\n",
            "125/125 [==============================] - ETA: 0s - loss: 0.1054 - accuracy: 0.9679\n",
            "Epoch 00054: val_accuracy did not improve from 0.96769\n"
          ],
          "name": "stdout"
        },
        {
          "output_type": "stream",
          "text": [
            "2020-05-13 10:25:42,035 INFO \n",
            " epoch:053, F1Macro: 0.93736\n"
          ],
          "name": "stderr"
        },
        {
          "output_type": "stream",
          "text": [
            "\b\b\b\b\b\b\b\b\b\b\b\b\b\b\b\b\b\b\b\b\b\b\b\b\b\b\b\b\b\b\b\b\b\b\b\b\b\b\b\b\b\b\b\b\b\b\b\b\b\b\b\b\b\b\b\b\b\b\b\b\b\b\b\b\b\b\b\b\b\b\b\b\b\b\b\b\b\b\b\b\b\b\b\b\r125/125 [==============================] - 34s 275ms/step - loss: 0.1054 - accuracy: 0.9679 - val_loss: 0.1044 - val_accuracy: 0.9675 - lr: 1.4286e-04\n",
            "Epoch 55/180\n",
            "125/125 [==============================] - ETA: 0s - loss: 0.1046 - accuracy: 0.9681\n",
            "Epoch 00055: val_accuracy did not improve from 0.96769\n"
          ],
          "name": "stdout"
        },
        {
          "output_type": "stream",
          "text": [
            "2020-05-13 10:26:16,802 INFO \n",
            " epoch:054, F1Macro: 0.93746\n"
          ],
          "name": "stderr"
        },
        {
          "output_type": "stream",
          "text": [
            "\b\b\b\b\b\b\b\b\b\b\b\b\b\b\b\b\b\b\b\b\b\b\b\b\b\b\b\b\b\b\b\b\b\b\b\b\b\b\b\b\b\b\b\b\b\b\b\b\b\b\b\b\b\b\b\b\b\b\b\b\b\b\b\b\b\b\b\b\b\b\b\b\b\b\b\b\b\b\b\b\b\b\b\b\r125/125 [==============================] - 35s 276ms/step - loss: 0.1046 - accuracy: 0.9681 - val_loss: 0.1037 - val_accuracy: 0.9676 - lr: 1.4286e-04\n",
            "Epoch 56/180\n",
            "125/125 [==============================] - ETA: 0s - loss: 0.1039 - accuracy: 0.9681\n",
            "Epoch 00056: val_accuracy did not improve from 0.96769\n"
          ],
          "name": "stdout"
        },
        {
          "output_type": "stream",
          "text": [
            "2020-05-13 10:26:51,510 INFO \n",
            " epoch:055, F1Macro: 0.93655\n"
          ],
          "name": "stderr"
        },
        {
          "output_type": "stream",
          "text": [
            "\b\b\b\b\b\b\b\b\b\b\b\b\b\b\b\b\b\b\b\b\b\b\b\b\b\b\b\b\b\b\b\b\b\b\b\b\b\b\b\b\b\b\b\b\b\b\b\b\b\b\b\b\b\b\b\b\b\b\b\b\b\b\b\b\b\b\b\b\b\b\b\b\b\b\b\b\b\b\b\b\b\b\b\b\r125/125 [==============================] - 34s 276ms/step - loss: 0.1039 - accuracy: 0.9681 - val_loss: 0.1038 - val_accuracy: 0.9674 - lr: 1.4286e-04\n",
            "Epoch 57/180\n",
            "125/125 [==============================] - ETA: 0s - loss: 0.1033 - accuracy: 0.9682\n",
            "Epoch 00057: val_accuracy did not improve from 0.96769\n"
          ],
          "name": "stdout"
        },
        {
          "output_type": "stream",
          "text": [
            "2020-05-13 10:27:26,299 INFO \n",
            " epoch:056, F1Macro: 0.93654\n"
          ],
          "name": "stderr"
        },
        {
          "output_type": "stream",
          "text": [
            "\b\b\b\b\b\b\b\b\b\b\b\b\b\b\b\b\b\b\b\b\b\b\b\b\b\b\b\b\b\b\b\b\b\b\b\b\b\b\b\b\b\b\b\b\b\b\b\b\b\b\b\b\b\b\b\b\b\b\b\b\b\b\b\b\b\b\b\b\b\b\b\b\b\b\b\b\b\b\b\b\b\b\b\b\r125/125 [==============================] - 35s 276ms/step - loss: 0.1033 - accuracy: 0.9682 - val_loss: 0.1036 - val_accuracy: 0.9674 - lr: 1.4286e-04\n",
            "Epoch 58/180\n",
            "125/125 [==============================] - ETA: 0s - loss: 0.1042 - accuracy: 0.9679\n",
            "Epoch 00058: val_accuracy did not improve from 0.96769\n"
          ],
          "name": "stdout"
        },
        {
          "output_type": "stream",
          "text": [
            "2020-05-13 10:28:01,055 INFO \n",
            " epoch:057, F1Macro: 0.93763\n"
          ],
          "name": "stderr"
        },
        {
          "output_type": "stream",
          "text": [
            "\b\b\b\b\b\b\b\b\b\b\b\b\b\b\b\b\b\b\b\b\b\b\b\b\b\b\b\b\b\b\b\b\b\b\b\b\b\b\b\b\b\b\b\b\b\b\b\b\b\b\b\b\b\b\b\b\b\b\b\b\b\b\b\b\b\b\b\b\b\b\b\b\b\b\b\b\b\b\b\b\b\b\b\b\r125/125 [==============================] - 34s 276ms/step - loss: 0.1042 - accuracy: 0.9679 - val_loss: 0.1030 - val_accuracy: 0.9676 - lr: 1.4286e-04\n",
            "Epoch 59/180\n",
            "125/125 [==============================] - ETA: 0s - loss: 0.1031 - accuracy: 0.9681\n",
            "Epoch 00059: val_accuracy did not improve from 0.96769\n"
          ],
          "name": "stdout"
        },
        {
          "output_type": "stream",
          "text": [
            "2020-05-13 10:28:35,775 INFO \n",
            " epoch:058, F1Macro: 0.93656\n"
          ],
          "name": "stderr"
        },
        {
          "output_type": "stream",
          "text": [
            "\b\b\b\b\b\b\b\b\b\b\b\b\b\b\b\b\b\b\b\b\b\b\b\b\b\b\b\b\b\b\b\b\b\b\b\b\b\b\b\b\b\b\b\b\b\b\b\b\b\b\b\b\b\b\b\b\b\b\b\b\b\b\b\b\b\b\b\b\b\b\b\b\b\b\b\b\b\b\b\b\b\b\b\b\r125/125 [==============================] - 34s 276ms/step - loss: 0.1031 - accuracy: 0.9681 - val_loss: 0.1029 - val_accuracy: 0.9673 - lr: 1.4286e-04\n",
            "Epoch 60/180\n",
            "125/125 [==============================] - ETA: 0s - loss: 0.1020 - accuracy: 0.9683\n",
            "Epoch 00060: val_accuracy did not improve from 0.96769\n"
          ],
          "name": "stdout"
        },
        {
          "output_type": "stream",
          "text": [
            "2020-05-13 10:29:10,505 INFO \n",
            " epoch:059, F1Macro: 0.93738\n"
          ],
          "name": "stderr"
        },
        {
          "output_type": "stream",
          "text": [
            "\b\b\b\b\b\b\b\b\b\b\b\b\b\b\b\b\b\b\b\b\b\b\b\b\b\b\b\b\b\b\b\b\b\b\b\b\b\b\b\b\b\b\b\b\b\b\b\b\b\b\b\b\b\b\b\b\b\b\b\b\b\b\b\b\b\b\b\b\b\b\b\b\b\b\b\b\b\b\b\b\b\b\b\b\r125/125 [==============================] - 34s 276ms/step - loss: 0.1020 - accuracy: 0.9683 - val_loss: 0.1032 - val_accuracy: 0.9670 - lr: 1.4286e-04\n",
            "Epoch 61/180\n",
            "125/125 [==============================] - ETA: 0s - loss: 0.1014 - accuracy: 0.9683\n",
            "Epoch 00061: val_accuracy did not improve from 0.96769\n"
          ],
          "name": "stdout"
        },
        {
          "output_type": "stream",
          "text": [
            "2020-05-13 10:29:45,252 INFO \n",
            " epoch:060, F1Macro: 0.93729\n"
          ],
          "name": "stderr"
        },
        {
          "output_type": "stream",
          "text": [
            "\b\b\b\b\b\b\b\b\b\b\b\b\b\b\b\b\b\b\b\b\b\b\b\b\b\b\b\b\b\b\b\b\b\b\b\b\b\b\b\b\b\b\b\b\b\b\b\b\b\b\b\b\b\b\b\b\b\b\b\b\b\b\b\b\b\b\b\b\b\b\b\b\b\b\b\b\b\b\b\b\b\b\b\b\r125/125 [==============================] - 34s 276ms/step - loss: 0.1014 - accuracy: 0.9683 - val_loss: 0.1014 - val_accuracy: 0.9676 - lr: 1.1111e-04\n",
            "Epoch 62/180\n",
            "125/125 [==============================] - ETA: 0s - loss: 0.1007 - accuracy: 0.9685\n",
            "Epoch 00062: val_accuracy did not improve from 0.96769\n"
          ],
          "name": "stdout"
        },
        {
          "output_type": "stream",
          "text": [
            "2020-05-13 10:30:20,020 INFO \n",
            " epoch:061, F1Macro: 0.93790\n"
          ],
          "name": "stderr"
        },
        {
          "output_type": "stream",
          "text": [
            "\b\b\b\b\b\b\b\b\b\b\b\b\b\b\b\b\b\b\b\b\b\b\b\b\b\b\b\b\b\b\b\b\b\b\b\b\b\b\b\b\b\b\b\b\b\b\b\b\b\b\b\b\b\b\b\b\b\b\b\b\b\b\b\b\b\b\b\b\b\b\b\b\b\b\b\b\b\b\b\b\b\b\b\b\r125/125 [==============================] - 35s 281ms/step - loss: 0.1007 - accuracy: 0.9685 - val_loss: 0.1008 - val_accuracy: 0.9677 - lr: 1.1111e-04\n",
            "Epoch 63/180\n",
            "125/125 [==============================] - ETA: 0s - loss: 0.1005 - accuracy: 0.9685\n",
            "Epoch 00063: val_accuracy improved from 0.96769 to 0.96773, saving model to ion_switch/res/wavenet-dlr-res/ClassifierCBRWmulti-Prob11-NESCAL/all/4_fold/checkpoint-modelonly-4.h5\n"
          ],
          "name": "stdout"
        },
        {
          "output_type": "stream",
          "text": [
            "2020-05-13 10:30:56,089 INFO \n",
            " epoch:062, F1Macro: 0.93790\n"
          ],
          "name": "stderr"
        },
        {
          "output_type": "stream",
          "text": [
            "\b\b\b\b\b\b\b\b\b\b\b\b\b\b\b\b\b\b\b\b\b\b\b\b\b\b\b\b\b\b\b\b\b\b\b\b\b\b\b\b\b\b\b\b\b\b\b\b\b\b\b\b\b\b\b\b\b\b\b\b\b\b\b\b\b\b\b\b\b\b\b\b\b\b\b\b\b\b\b\b\b\b\b\b\r125/125 [==============================] - 35s 281ms/step - loss: 0.1005 - accuracy: 0.9685 - val_loss: 0.1004 - val_accuracy: 0.9677 - lr: 1.1111e-04\n",
            "Epoch 64/180\n",
            "125/125 [==============================] - ETA: 0s - loss: 0.0997 - accuracy: 0.9686\n",
            "Epoch 00064: val_accuracy improved from 0.96773 to 0.96778, saving model to ion_switch/res/wavenet-dlr-res/ClassifierCBRWmulti-Prob11-NESCAL/all/4_fold/checkpoint-modelonly-4.h5\n"
          ],
          "name": "stdout"
        },
        {
          "output_type": "stream",
          "text": [
            "2020-05-13 10:31:31,572 INFO \n",
            " epoch:063, F1Macro: 0.93773\n"
          ],
          "name": "stderr"
        },
        {
          "output_type": "stream",
          "text": [
            "\b\b\b\b\b\b\b\b\b\b\b\b\b\b\b\b\b\b\b\b\b\b\b\b\b\b\b\b\b\b\b\b\b\b\b\b\b\b\b\b\b\b\b\b\b\b\b\b\b\b\b\b\b\b\b\b\b\b\b\b\b\b\b\b\b\b\b\b\b\b\b\b\b\b\b\b\b\b\b\b\b\b\b\b\r125/125 [==============================] - 35s 282ms/step - loss: 0.0997 - accuracy: 0.9686 - val_loss: 0.1001 - val_accuracy: 0.9678 - lr: 1.1111e-04\n",
            "Epoch 65/180\n",
            "125/125 [==============================] - ETA: 0s - loss: 0.1069 - accuracy: 0.9664\n",
            "Epoch 00065: val_accuracy did not improve from 0.96778\n"
          ],
          "name": "stdout"
        },
        {
          "output_type": "stream",
          "text": [
            "2020-05-13 10:32:06,337 INFO \n",
            " epoch:064, F1Macro: 0.93689\n"
          ],
          "name": "stderr"
        },
        {
          "output_type": "stream",
          "text": [
            "\b\b\b\b\b\b\b\b\b\b\b\b\b\b\b\b\b\b\b\b\b\b\b\b\b\b\b\b\b\b\b\b\b\b\b\b\b\b\b\b\b\b\b\b\b\b\b\b\b\b\b\b\b\b\b\b\b\b\b\b\b\b\b\b\b\b\b\b\b\b\b\b\b\b\b\b\b\b\b\b\b\b\b\b\r125/125 [==============================] - 34s 276ms/step - loss: 0.1069 - accuracy: 0.9664 - val_loss: 0.1011 - val_accuracy: 0.9675 - lr: 1.1111e-04\n",
            "Epoch 66/180\n",
            "125/125 [==============================] - ETA: 0s - loss: 0.0996 - accuracy: 0.9685\n",
            "Epoch 00066: val_accuracy improved from 0.96778 to 0.96785, saving model to ion_switch/res/wavenet-dlr-res/ClassifierCBRWmulti-Prob11-NESCAL/all/4_fold/checkpoint-modelonly-4.h5\n"
          ],
          "name": "stdout"
        },
        {
          "output_type": "stream",
          "text": [
            "2020-05-13 10:32:41,727 INFO \n",
            " epoch:065, F1Macro: 0.93803\n"
          ],
          "name": "stderr"
        },
        {
          "output_type": "stream",
          "text": [
            "\b\b\b\b\b\b\b\b\b\b\b\b\b\b\b\b\b\b\b\b\b\b\b\b\b\b\b\b\b\b\b\b\b\b\b\b\b\b\b\b\b\b\b\b\b\b\b\b\b\b\b\b\b\b\b\b\b\b\b\b\b\b\b\b\b\b\b\b\b\b\b\b\b\b\b\b\b\b\b\b\b\b\b\b\r125/125 [==============================] - 36s 287ms/step - loss: 0.0996 - accuracy: 0.9685 - val_loss: 0.0993 - val_accuracy: 0.9679 - lr: 1.1111e-04\n",
            "Epoch 67/180\n",
            "125/125 [==============================] - ETA: 0s - loss: 0.0995 - accuracy: 0.9685\n",
            "Epoch 00067: val_accuracy did not improve from 0.96785\n"
          ],
          "name": "stdout"
        },
        {
          "output_type": "stream",
          "text": [
            "2020-05-13 10:33:17,259 INFO \n",
            " epoch:066, F1Macro: 0.93765\n"
          ],
          "name": "stderr"
        },
        {
          "output_type": "stream",
          "text": [
            "\b\b\b\b\b\b\b\b\b\b\b\b\b\b\b\b\b\b\b\b\b\b\b\b\b\b\b\b\b\b\b\b\b\b\b\b\b\b\b\b\b\b\b\b\b\b\b\b\b\b\b\b\b\b\b\b\b\b\b\b\b\b\b\b\b\b\b\b\b\b\b\b\b\b\b\b\b\b\b\b\b\b\b\b\r125/125 [==============================] - 35s 276ms/step - loss: 0.0995 - accuracy: 0.9685 - val_loss: 0.0999 - val_accuracy: 0.9675 - lr: 1.1111e-04\n",
            "Epoch 68/180\n",
            "125/125 [==============================] - ETA: 0s - loss: 0.0989 - accuracy: 0.9686\n",
            "Epoch 00068: val_accuracy did not improve from 0.96785\n"
          ],
          "name": "stdout"
        },
        {
          "output_type": "stream",
          "text": [
            "2020-05-13 10:33:52,044 INFO \n",
            " epoch:067, F1Macro: 0.93453\n"
          ],
          "name": "stderr"
        },
        {
          "output_type": "stream",
          "text": [
            "\b\b\b\b\b\b\b\b\b\b\b\b\b\b\b\b\b\b\b\b\b\b\b\b\b\b\b\b\b\b\b\b\b\b\b\b\b\b\b\b\b\b\b\b\b\b\b\b\b\b\b\b\b\b\b\b\b\b\b\b\b\b\b\b\b\b\b\b\b\b\b\b\b\b\b\b\b\b\b\b\b\b\b\b\r125/125 [==============================] - 35s 276ms/step - loss: 0.0989 - accuracy: 0.9686 - val_loss: 0.1016 - val_accuracy: 0.9667 - lr: 1.1111e-04\n",
            "Epoch 69/180\n",
            "125/125 [==============================] - ETA: 0s - loss: 0.0983 - accuracy: 0.9687\n",
            "Epoch 00069: val_accuracy did not improve from 0.96785\n"
          ],
          "name": "stdout"
        },
        {
          "output_type": "stream",
          "text": [
            "2020-05-13 10:34:26,816 INFO \n",
            " epoch:068, F1Macro: 0.93777\n"
          ],
          "name": "stderr"
        },
        {
          "output_type": "stream",
          "text": [
            "\b\b\b\b\b\b\b\b\b\b\b\b\b\b\b\b\b\b\b\b\b\b\b\b\b\b\b\b\b\b\b\b\b\b\b\b\b\b\b\b\b\b\b\b\b\b\b\b\b\b\b\b\b\b\b\b\b\b\b\b\b\b\b\b\b\b\b\b\b\b\b\b\b\b\b\b\b\b\b\b\b\b\b\b\r125/125 [==============================] - 34s 276ms/step - loss: 0.0983 - accuracy: 0.9687 - val_loss: 0.0987 - val_accuracy: 0.9678 - lr: 1.1111e-04\n",
            "Epoch 70/180\n",
            "125/125 [==============================] - ETA: 0s - loss: 0.0983 - accuracy: 0.9686\n",
            "Epoch 00070: val_accuracy did not improve from 0.96785\n"
          ],
          "name": "stdout"
        },
        {
          "output_type": "stream",
          "text": [
            "2020-05-13 10:35:01,531 INFO \n",
            " epoch:069, F1Macro: 0.93725\n"
          ],
          "name": "stderr"
        },
        {
          "output_type": "stream",
          "text": [
            "\b\b\b\b\b\b\b\b\b\b\b\b\b\b\b\b\b\b\b\b\b\b\b\b\b\b\b\b\b\b\b\b\b\b\b\b\b\b\b\b\b\b\b\b\b\b\b\b\b\b\b\b\b\b\b\b\b\b\b\b\b\b\b\b\b\b\b\b\b\b\b\b\b\b\b\b\b\b\b\b\b\b\b\b\r125/125 [==============================] - 34s 276ms/step - loss: 0.0983 - accuracy: 0.9686 - val_loss: 0.0991 - val_accuracy: 0.9675 - lr: 1.1111e-04\n",
            "Epoch 71/180\n",
            "125/125 [==============================] - ETA: 0s - loss: 0.0977 - accuracy: 0.9687\n",
            "Epoch 00071: val_accuracy did not improve from 0.96785\n"
          ],
          "name": "stdout"
        },
        {
          "output_type": "stream",
          "text": [
            "2020-05-13 10:35:36,195 INFO \n",
            " epoch:070, F1Macro: 0.93799\n"
          ],
          "name": "stderr"
        },
        {
          "output_type": "stream",
          "text": [
            "\b\b\b\b\b\b\b\b\b\b\b\b\b\b\b\b\b\b\b\b\b\b\b\b\b\b\b\b\b\b\b\b\b\b\b\b\b\b\b\b\b\b\b\b\b\b\b\b\b\b\b\b\b\b\b\b\b\b\b\b\b\b\b\b\b\b\b\b\b\b\b\b\b\b\b\b\b\b\b\b\b\b\b\b\r125/125 [==============================] - 34s 275ms/step - loss: 0.0977 - accuracy: 0.9687 - val_loss: 0.0980 - val_accuracy: 0.9677 - lr: 9.0909e-05\n",
            "Epoch 72/180\n",
            "125/125 [==============================] - ETA: 0s - loss: 0.0971 - accuracy: 0.9688\n",
            "Epoch 00072: val_accuracy did not improve from 0.96785\n"
          ],
          "name": "stdout"
        },
        {
          "output_type": "stream",
          "text": [
            "2020-05-13 10:36:10,811 INFO \n",
            " epoch:071, F1Macro: 0.93815\n"
          ],
          "name": "stderr"
        },
        {
          "output_type": "stream",
          "text": [
            "\b\b\b\b\b\b\b\b\b\b\b\b\b\b\b\b\b\b\b\b\b\b\b\b\b\b\b\b\b\b\b\b\b\b\b\b\b\b\b\b\b\b\b\b\b\b\b\b\b\b\b\b\b\b\b\b\b\b\b\b\b\b\b\b\b\b\b\b\b\b\b\b\b\b\b\b\b\b\b\b\b\b\b\b\r125/125 [==============================] - 35s 280ms/step - loss: 0.0971 - accuracy: 0.9688 - val_loss: 0.0975 - val_accuracy: 0.9678 - lr: 9.0909e-05\n",
            "Epoch 73/180\n",
            "125/125 [==============================] - ETA: 0s - loss: 0.0968 - accuracy: 0.9688\n",
            "Epoch 00073: val_accuracy did not improve from 0.96785\n"
          ],
          "name": "stdout"
        },
        {
          "output_type": "stream",
          "text": [
            "2020-05-13 10:36:46,228 INFO \n",
            " epoch:072, F1Macro: 0.93795\n"
          ],
          "name": "stderr"
        },
        {
          "output_type": "stream",
          "text": [
            "\b\b\b\b\b\b\b\b\b\b\b\b\b\b\b\b\b\b\b\b\b\b\b\b\b\b\b\b\b\b\b\b\b\b\b\b\b\b\b\b\b\b\b\b\b\b\b\b\b\b\b\b\b\b\b\b\b\b\b\b\b\b\b\b\b\b\b\b\b\b\b\b\b\b\b\b\b\b\b\b\b\b\b\b\r125/125 [==============================] - 34s 276ms/step - loss: 0.0968 - accuracy: 0.9688 - val_loss: 0.0974 - val_accuracy: 0.9678 - lr: 9.0909e-05\n",
            "Epoch 74/180\n",
            "125/125 [==============================] - ETA: 0s - loss: 0.0970 - accuracy: 0.9687\n",
            "Epoch 00074: val_accuracy did not improve from 0.96785\n"
          ],
          "name": "stdout"
        },
        {
          "output_type": "stream",
          "text": [
            "2020-05-13 10:37:21,075 INFO \n",
            " epoch:073, F1Macro: 0.93818\n"
          ],
          "name": "stderr"
        },
        {
          "output_type": "stream",
          "text": [
            "\b\b\b\b\b\b\b\b\b\b\b\b\b\b\b\b\b\b\b\b\b\b\b\b\b\b\b\b\b\b\b\b\b\b\b\b\b\b\b\b\b\b\b\b\b\b\b\b\b\b\b\b\b\b\b\b\b\b\b\b\b\b\b\b\b\b\b\b\b\b\b\b\b\b\b\b\b\b\b\b\b\b\b\b\r125/125 [==============================] - 35s 283ms/step - loss: 0.0970 - accuracy: 0.9687 - val_loss: 0.0971 - val_accuracy: 0.9678 - lr: 9.0909e-05\n",
            "Epoch 75/180\n",
            "125/125 [==============================] - ETA: 0s - loss: 0.0965 - accuracy: 0.9688\n",
            "Epoch 00075: val_accuracy improved from 0.96785 to 0.96789, saving model to ion_switch/res/wavenet-dlr-res/ClassifierCBRWmulti-Prob11-NESCAL/all/4_fold/checkpoint-modelonly-4.h5\n"
          ],
          "name": "stdout"
        },
        {
          "output_type": "stream",
          "text": [
            "2020-05-13 10:37:57,389 INFO \n",
            " epoch:074, F1Macro: 0.93808\n"
          ],
          "name": "stderr"
        },
        {
          "output_type": "stream",
          "text": [
            "\b\b\b\b\b\b\b\b\b\b\b\b\b\b\b\b\b\b\b\b\b\b\b\b\b\b\b\b\b\b\b\b\b\b\b\b\b\b\b\b\b\b\b\b\b\b\b\b\b\b\b\b\b\b\b\b\b\b\b\b\b\b\b\b\b\b\b\b\b\b\b\b\b\b\b\b\b\b\b\b\b\b\b\b\r125/125 [==============================] - 35s 282ms/step - loss: 0.0965 - accuracy: 0.9688 - val_loss: 0.0967 - val_accuracy: 0.9679 - lr: 9.0909e-05\n",
            "Epoch 76/180\n",
            "125/125 [==============================] - ETA: 0s - loss: 0.0962 - accuracy: 0.9688\n",
            "Epoch 00076: val_accuracy did not improve from 0.96789\n"
          ],
          "name": "stdout"
        },
        {
          "output_type": "stream",
          "text": [
            "2020-05-13 10:38:32,138 INFO \n",
            " epoch:075, F1Macro: 0.93790\n"
          ],
          "name": "stderr"
        },
        {
          "output_type": "stream",
          "text": [
            "\b\b\b\b\b\b\b\b\b\b\b\b\b\b\b\b\b\b\b\b\b\b\b\b\b\b\b\b\b\b\b\b\b\b\b\b\b\b\b\b\b\b\b\b\b\b\b\b\b\b\b\b\b\b\b\b\b\b\b\b\b\b\b\b\b\b\b\b\b\b\b\b\b\b\b\b\b\b\b\b\b\b\b\b\r125/125 [==============================] - 34s 276ms/step - loss: 0.0962 - accuracy: 0.9688 - val_loss: 0.0971 - val_accuracy: 0.9678 - lr: 9.0909e-05\n",
            "Epoch 77/180\n",
            "125/125 [==============================] - ETA: 0s - loss: 0.0962 - accuracy: 0.9688\n",
            "Epoch 00077: val_accuracy did not improve from 0.96789\n"
          ],
          "name": "stdout"
        },
        {
          "output_type": "stream",
          "text": [
            "2020-05-13 10:39:06,869 INFO \n",
            " epoch:076, F1Macro: 0.93773\n"
          ],
          "name": "stderr"
        },
        {
          "output_type": "stream",
          "text": [
            "\b\b\b\b\b\b\b\b\b\b\b\b\b\b\b\b\b\b\b\b\b\b\b\b\b\b\b\b\b\b\b\b\b\b\b\b\b\b\b\b\b\b\b\b\b\b\b\b\b\b\b\b\b\b\b\b\b\b\b\b\b\b\b\b\b\b\b\b\b\b\b\b\b\b\b\b\b\b\b\b\b\b\b\b\r125/125 [==============================] - 34s 276ms/step - loss: 0.0962 - accuracy: 0.9688 - val_loss: 0.0968 - val_accuracy: 0.9677 - lr: 9.0909e-05\n",
            "Epoch 78/180\n",
            "125/125 [==============================] - ETA: 0s - loss: 0.0958 - accuracy: 0.9688\n",
            "Epoch 00078: val_accuracy did not improve from 0.96789\n"
          ],
          "name": "stdout"
        },
        {
          "output_type": "stream",
          "text": [
            "2020-05-13 10:39:41,697 INFO \n",
            " epoch:077, F1Macro: 0.93771\n"
          ],
          "name": "stderr"
        },
        {
          "output_type": "stream",
          "text": [
            "\b\b\b\b\b\b\b\b\b\b\b\b\b\b\b\b\b\b\b\b\b\b\b\b\b\b\b\b\b\b\b\b\b\b\b\b\b\b\b\b\b\b\b\b\b\b\b\b\b\b\b\b\b\b\b\b\b\b\b\b\b\b\b\b\b\b\b\b\b\b\b\b\b\b\b\b\b\b\b\b\b\b\b\b\r125/125 [==============================] - 35s 276ms/step - loss: 0.0958 - accuracy: 0.9688 - val_loss: 0.0966 - val_accuracy: 0.9678 - lr: 9.0909e-05\n",
            "Epoch 79/180\n",
            "125/125 [==============================] - ETA: 0s - loss: 0.0963 - accuracy: 0.9686\n",
            "Epoch 00079: val_accuracy did not improve from 0.96789\n"
          ],
          "name": "stdout"
        },
        {
          "output_type": "stream",
          "text": [
            "2020-05-13 10:40:16,434 INFO \n",
            " epoch:078, F1Macro: 0.93817\n"
          ],
          "name": "stderr"
        },
        {
          "output_type": "stream",
          "text": [
            "\b\b\b\b\b\b\b\b\b\b\b\b\b\b\b\b\b\b\b\b\b\b\b\b\b\b\b\b\b\b\b\b\b\b\b\b\b\b\b\b\b\b\b\b\b\b\b\b\b\b\b\b\b\b\b\b\b\b\b\b\b\b\b\b\b\b\b\b\b\b\b\b\b\b\b\b\b\b\b\b\b\b\b\b\r125/125 [==============================] - 34s 276ms/step - loss: 0.0963 - accuracy: 0.9686 - val_loss: 0.0964 - val_accuracy: 0.9678 - lr: 9.0909e-05\n",
            "Epoch 80/180\n",
            "125/125 [==============================] - ETA: 0s - loss: 0.0953 - accuracy: 0.9688\n",
            "Epoch 00080: val_accuracy did not improve from 0.96789\n"
          ],
          "name": "stdout"
        },
        {
          "output_type": "stream",
          "text": [
            "2020-05-13 10:40:51,090 INFO \n",
            " epoch:079, F1Macro: 0.93771\n"
          ],
          "name": "stderr"
        },
        {
          "output_type": "stream",
          "text": [
            "\b\b\b\b\b\b\b\b\b\b\b\b\b\b\b\b\b\b\b\b\b\b\b\b\b\b\b\b\b\b\b\b\b\b\b\b\b\b\b\b\b\b\b\b\b\b\b\b\b\b\b\b\b\b\b\b\b\b\b\b\b\b\b\b\b\b\b\b\b\b\b\b\b\b\b\b\b\b\b\b\b\b\b\b\r125/125 [==============================] - 34s 275ms/step - loss: 0.0953 - accuracy: 0.9688 - val_loss: 0.0960 - val_accuracy: 0.9678 - lr: 9.0909e-05\n",
            "Epoch 81/180\n",
            "125/125 [==============================] - ETA: 0s - loss: 0.0947 - accuracy: 0.9690\n",
            "Epoch 00081: val_accuracy improved from 0.96789 to 0.96789, saving model to ion_switch/res/wavenet-dlr-res/ClassifierCBRWmulti-Prob11-NESCAL/all/4_fold/checkpoint-modelonly-4.h5\n"
          ],
          "name": "stdout"
        },
        {
          "output_type": "stream",
          "text": [
            "2020-05-13 10:41:26,506 INFO \n",
            " epoch:080, F1Macro: 0.93797\n"
          ],
          "name": "stderr"
        },
        {
          "output_type": "stream",
          "text": [
            "\b\b\b\b\b\b\b\b\b\b\b\b\b\b\b\b\b\b\b\b\b\b\b\b\b\b\b\b\b\b\b\b\b\b\b\b\b\b\b\b\b\b\b\b\b\b\b\b\b\b\b\b\b\b\b\b\b\b\b\b\b\b\b\b\b\b\b\b\b\b\b\b\b\b\b\b\b\b\b\b\b\b\b\b\r125/125 [==============================] - 35s 281ms/step - loss: 0.0947 - accuracy: 0.9690 - val_loss: 0.0956 - val_accuracy: 0.9679 - lr: 7.6923e-05\n",
            "Epoch 82/180\n",
            "125/125 [==============================] - ETA: 0s - loss: 0.0949 - accuracy: 0.9688\n",
            "Epoch 00082: val_accuracy did not improve from 0.96789\n"
          ],
          "name": "stdout"
        },
        {
          "output_type": "stream",
          "text": [
            "2020-05-13 10:42:01,198 INFO \n",
            " epoch:081, F1Macro: 0.93614\n"
          ],
          "name": "stderr"
        },
        {
          "output_type": "stream",
          "text": [
            "\b\b\b\b\b\b\b\b\b\b\b\b\b\b\b\b\b\b\b\b\b\b\b\b\b\b\b\b\b\b\b\b\b\b\b\b\b\b\b\b\b\b\b\b\b\b\b\b\b\b\b\b\b\b\b\b\b\b\b\b\b\b\b\b\b\b\b\b\b\b\b\b\b\b\b\b\b\b\b\b\b\b\b\b\r125/125 [==============================] - 34s 275ms/step - loss: 0.0949 - accuracy: 0.9688 - val_loss: 0.0972 - val_accuracy: 0.9671 - lr: 7.6923e-05\n",
            "Epoch 83/180\n",
            "125/125 [==============================] - ETA: 0s - loss: 0.0940 - accuracy: 0.9690\n",
            "Epoch 00083: val_accuracy did not improve from 0.96789\n"
          ],
          "name": "stdout"
        },
        {
          "output_type": "stream",
          "text": [
            "2020-05-13 10:42:35,899 INFO \n",
            " epoch:082, F1Macro: 0.93788\n"
          ],
          "name": "stderr"
        },
        {
          "output_type": "stream",
          "text": [
            "\b\b\b\b\b\b\b\b\b\b\b\b\b\b\b\b\b\b\b\b\b\b\b\b\b\b\b\b\b\b\b\b\b\b\b\b\b\b\b\b\b\b\b\b\b\b\b\b\b\b\b\b\b\b\b\b\b\b\b\b\b\b\b\b\b\b\b\b\b\b\b\b\b\b\b\b\b\b\b\b\b\b\b\b\r125/125 [==============================] - 34s 275ms/step - loss: 0.0940 - accuracy: 0.9690 - val_loss: 0.0956 - val_accuracy: 0.9677 - lr: 7.6923e-05\n",
            "Epoch 84/180\n",
            "125/125 [==============================] - ETA: 0s - loss: 0.0942 - accuracy: 0.9690\n",
            "Epoch 00084: val_accuracy did not improve from 0.96789\n"
          ],
          "name": "stdout"
        },
        {
          "output_type": "stream",
          "text": [
            "2020-05-13 10:43:10,506 INFO \n",
            " epoch:083, F1Macro: 0.93765\n"
          ],
          "name": "stderr"
        },
        {
          "output_type": "stream",
          "text": [
            "\b\b\b\b\b\b\b\b\b\b\b\b\b\b\b\b\b\b\b\b\b\b\b\b\b\b\b\b\b\b\b\b\b\b\b\b\b\b\b\b\b\b\b\b\b\b\b\b\b\b\b\b\b\b\b\b\b\b\b\b\b\b\b\b\b\b\b\b\b\b\b\b\b\b\b\b\b\b\b\b\b\b\b\b\r125/125 [==============================] - 34s 275ms/step - loss: 0.0942 - accuracy: 0.9690 - val_loss: 0.0953 - val_accuracy: 0.9678 - lr: 7.6923e-05\n",
            "Epoch 85/180\n",
            "125/125 [==============================] - ETA: 0s - loss: 0.0939 - accuracy: 0.9690\n",
            "Epoch 00085: val_accuracy improved from 0.96789 to 0.96789, saving model to ion_switch/res/wavenet-dlr-res/ClassifierCBRWmulti-Prob11-NESCAL/all/4_fold/checkpoint-modelonly-4.h5\n"
          ],
          "name": "stdout"
        },
        {
          "output_type": "stream",
          "text": [
            "2020-05-13 10:43:45,861 INFO \n",
            " epoch:084, F1Macro: 0.93816\n"
          ],
          "name": "stderr"
        },
        {
          "output_type": "stream",
          "text": [
            "\b\b\b\b\b\b\b\b\b\b\b\b\b\b\b\b\b\b\b\b\b\b\b\b\b\b\b\b\b\b\b\b\b\b\b\b\b\b\b\b\b\b\b\b\b\b\b\b\b\b\b\b\b\b\b\b\b\b\b\b\b\b\b\b\b\b\b\b\b\b\b\b\b\b\b\b\b\b\b\b\b\b\b\b\r125/125 [==============================] - 35s 281ms/step - loss: 0.0939 - accuracy: 0.9690 - val_loss: 0.0950 - val_accuracy: 0.9679 - lr: 7.6923e-05\n",
            "Epoch 86/180\n",
            "125/125 [==============================] - ETA: 0s - loss: 0.0935 - accuracy: 0.9691\n",
            "Epoch 00086: val_accuracy did not improve from 0.96789\n"
          ],
          "name": "stdout"
        },
        {
          "output_type": "stream",
          "text": [
            "2020-05-13 10:44:20,478 INFO \n",
            " epoch:085, F1Macro: 0.93732\n"
          ],
          "name": "stderr"
        },
        {
          "output_type": "stream",
          "text": [
            "\b\b\b\b\b\b\b\b\b\b\b\b\b\b\b\b\b\b\b\b\b\b\b\b\b\b\b\b\b\b\b\b\b\b\b\b\b\b\b\b\b\b\b\b\b\b\b\b\b\b\b\b\b\b\b\b\b\b\b\b\b\b\b\b\b\b\b\b\b\b\b\b\b\b\b\b\b\b\b\b\b\b\b\b\r125/125 [==============================] - 34s 275ms/step - loss: 0.0935 - accuracy: 0.9691 - val_loss: 0.0951 - val_accuracy: 0.9677 - lr: 7.6923e-05\n",
            "Epoch 87/180\n",
            "125/125 [==============================] - ETA: 0s - loss: 0.0939 - accuracy: 0.9689\n",
            "Epoch 00087: val_accuracy did not improve from 0.96789\n"
          ],
          "name": "stdout"
        },
        {
          "output_type": "stream",
          "text": [
            "2020-05-13 10:44:55,103 INFO \n",
            " epoch:086, F1Macro: 0.93790\n"
          ],
          "name": "stderr"
        },
        {
          "output_type": "stream",
          "text": [
            "\b\b\b\b\b\b\b\b\b\b\b\b\b\b\b\b\b\b\b\b\b\b\b\b\b\b\b\b\b\b\b\b\b\b\b\b\b\b\b\b\b\b\b\b\b\b\b\b\b\b\b\b\b\b\b\b\b\b\b\b\b\b\b\b\b\b\b\b\b\b\b\b\b\b\b\b\b\b\b\b\b\b\b\b\r125/125 [==============================] - 34s 275ms/step - loss: 0.0939 - accuracy: 0.9689 - val_loss: 0.0950 - val_accuracy: 0.9677 - lr: 7.6923e-05\n",
            "Epoch 88/180\n",
            "125/125 [==============================] - ETA: 0s - loss: 0.0935 - accuracy: 0.9690\n",
            "Epoch 00088: val_accuracy did not improve from 0.96789\n"
          ],
          "name": "stdout"
        },
        {
          "output_type": "stream",
          "text": [
            "2020-05-13 10:45:29,761 INFO \n",
            " epoch:087, F1Macro: 0.93707\n"
          ],
          "name": "stderr"
        },
        {
          "output_type": "stream",
          "text": [
            "\b\b\b\b\b\b\b\b\b\b\b\b\b\b\b\b\b\b\b\b\b\b\b\b\b\b\b\b\b\b\b\b\b\b\b\b\b\b\b\b\b\b\b\b\b\b\b\b\b\b\b\b\b\b\b\b\b\b\b\b\b\b\b\b\b\b\b\b\b\b\b\b\b\b\b\b\b\b\b\b\b\b\b\b\r125/125 [==============================] - 34s 275ms/step - loss: 0.0935 - accuracy: 0.9690 - val_loss: 0.0957 - val_accuracy: 0.9675 - lr: 7.6923e-05\n",
            "Epoch 89/180\n",
            "125/125 [==============================] - ETA: 0s - loss: 0.0930 - accuracy: 0.9691\n",
            "Epoch 00089: val_accuracy did not improve from 0.96789\n"
          ],
          "name": "stdout"
        },
        {
          "output_type": "stream",
          "text": [
            "2020-05-13 10:46:04,373 INFO \n",
            " epoch:088, F1Macro: 0.93773\n"
          ],
          "name": "stderr"
        },
        {
          "output_type": "stream",
          "text": [
            "\b\b\b\b\b\b\b\b\b\b\b\b\b\b\b\b\b\b\b\b\b\b\b\b\b\b\b\b\b\b\b\b\b\b\b\b\b\b\b\b\b\b\b\b\b\b\b\b\b\b\b\b\b\b\b\b\b\b\b\b\b\b\b\b\b\b\b\b\b\b\b\b\b\b\b\b\b\b\b\b\b\b\b\b\r125/125 [==============================] - 34s 275ms/step - loss: 0.0930 - accuracy: 0.9691 - val_loss: 0.0947 - val_accuracy: 0.9677 - lr: 7.6923e-05\n",
            "Epoch 90/180\n",
            "125/125 [==============================] - ETA: 0s - loss: 0.0927 - accuracy: 0.9691\n",
            "Epoch 00090: val_accuracy did not improve from 0.96789\n"
          ],
          "name": "stdout"
        },
        {
          "output_type": "stream",
          "text": [
            "2020-05-13 10:46:39,001 INFO \n",
            " epoch:089, F1Macro: 0.93797\n"
          ],
          "name": "stderr"
        },
        {
          "output_type": "stream",
          "text": [
            "\b\b\b\b\b\b\b\b\b\b\b\b\b\b\b\b\b\b\b\b\b\b\b\b\b\b\b\b\b\b\b\b\b\b\b\b\b\b\b\b\b\b\b\b\b\b\b\b\b\b\b\b\b\b\b\b\b\b\b\b\b\b\b\b\b\b\b\b\b\b\b\b\b\b\b\b\b\b\b\b\b\b\b\b\r125/125 [==============================] - 34s 275ms/step - loss: 0.0927 - accuracy: 0.9691 - val_loss: 0.0943 - val_accuracy: 0.9676 - lr: 7.6923e-05\n",
            "Epoch 91/180\n",
            "125/125 [==============================] - ETA: 0s - loss: 0.0928 - accuracy: 0.9691\n",
            "Epoch 00091: val_accuracy did not improve from 0.96789\n"
          ],
          "name": "stdout"
        },
        {
          "output_type": "stream",
          "text": [
            "2020-05-13 10:47:13,697 INFO \n",
            " epoch:090, F1Macro: 0.93785\n"
          ],
          "name": "stderr"
        },
        {
          "output_type": "stream",
          "text": [
            "\b\b\b\b\b\b\b\b\b\b\b\b\b\b\b\b\b\b\b\b\b\b\b\b\b\b\b\b\b\b\b\b\b\b\b\b\b\b\b\b\b\b\b\b\b\b\b\b\b\b\b\b\b\b\b\b\b\b\b\b\b\b\b\b\b\b\b\b\b\b\b\b\b\b\b\b\b\b\b\b\b\b\b\b\r125/125 [==============================] - 34s 275ms/step - loss: 0.0928 - accuracy: 0.9691 - val_loss: 0.0945 - val_accuracy: 0.9677 - lr: 1.0000e-05\n",
            "Epoch 92/180\n",
            "125/125 [==============================] - ETA: 0s - loss: 0.0921 - accuracy: 0.9693\n",
            "Epoch 00092: val_accuracy improved from 0.96789 to 0.96789, saving model to ion_switch/res/wavenet-dlr-res/ClassifierCBRWmulti-Prob11-NESCAL/all/4_fold/checkpoint-modelonly-4.h5\n"
          ],
          "name": "stdout"
        },
        {
          "output_type": "stream",
          "text": [
            "2020-05-13 10:47:49,168 INFO \n",
            " epoch:091, F1Macro: 0.93798\n"
          ],
          "name": "stderr"
        },
        {
          "output_type": "stream",
          "text": [
            "\b\b\b\b\b\b\b\b\b\b\b\b\b\b\b\b\b\b\b\b\b\b\b\b\b\b\b\b\b\b\b\b\b\b\b\b\b\b\b\b\b\b\b\b\b\b\b\b\b\b\b\b\b\b\b\b\b\b\b\b\b\b\b\b\b\b\b\b\b\b\b\b\b\b\b\b\b\b\b\b\b\b\b\b\r125/125 [==============================] - 35s 282ms/step - loss: 0.0921 - accuracy: 0.9693 - val_loss: 0.0938 - val_accuracy: 0.9679 - lr: 1.0000e-05\n",
            "Epoch 93/180\n",
            "125/125 [==============================] - ETA: 0s - loss: 0.0923 - accuracy: 0.9692\n",
            "Epoch 00093: val_accuracy improved from 0.96789 to 0.96790, saving model to ion_switch/res/wavenet-dlr-res/ClassifierCBRWmulti-Prob11-NESCAL/all/4_fold/checkpoint-modelonly-4.h5\n"
          ],
          "name": "stdout"
        },
        {
          "output_type": "stream",
          "text": [
            "2020-05-13 10:48:24,567 INFO \n",
            " epoch:092, F1Macro: 0.93812\n"
          ],
          "name": "stderr"
        },
        {
          "output_type": "stream",
          "text": [
            "\b\b\b\b\b\b\b\b\b\b\b\b\b\b\b\b\b\b\b\b\b\b\b\b\b\b\b\b\b\b\b\b\b\b\b\b\b\b\b\b\b\b\b\b\b\b\b\b\b\b\b\b\b\b\b\b\b\b\b\b\b\b\b\b\b\b\b\b\b\b\b\b\b\b\b\b\b\b\b\b\b\b\b\b\r125/125 [==============================] - 35s 281ms/step - loss: 0.0923 - accuracy: 0.9692 - val_loss: 0.0940 - val_accuracy: 0.9679 - lr: 1.0000e-05\n",
            "Epoch 94/180\n",
            "125/125 [==============================] - ETA: 0s - loss: 0.0923 - accuracy: 0.9693\n",
            "Epoch 00094: val_accuracy did not improve from 0.96790\n"
          ],
          "name": "stdout"
        },
        {
          "output_type": "stream",
          "text": [
            "2020-05-13 10:48:59,268 INFO \n",
            " epoch:093, F1Macro: 0.93781\n"
          ],
          "name": "stderr"
        },
        {
          "output_type": "stream",
          "text": [
            "\b\b\b\b\b\b\b\b\b\b\b\b\b\b\b\b\b\b\b\b\b\b\b\b\b\b\b\b\b\b\b\b\b\b\b\b\b\b\b\b\b\b\b\b\b\b\b\b\b\b\b\b\b\b\b\b\b\b\b\b\b\b\b\b\b\b\b\b\b\b\b\b\b\b\b\b\b\b\b\b\b\b\b\b\r125/125 [==============================] - 34s 275ms/step - loss: 0.0923 - accuracy: 0.9693 - val_loss: 0.0941 - val_accuracy: 0.9678 - lr: 1.0000e-05\n",
            "Epoch 95/180\n",
            "125/125 [==============================] - ETA: 0s - loss: 0.0926 - accuracy: 0.9692\n",
            "Epoch 00095: val_accuracy did not improve from 0.96790\n"
          ],
          "name": "stdout"
        },
        {
          "output_type": "stream",
          "text": [
            "2020-05-13 10:49:33,989 INFO \n",
            " epoch:094, F1Macro: 0.93797\n"
          ],
          "name": "stderr"
        },
        {
          "output_type": "stream",
          "text": [
            "\b\b\b\b\b\b\b\b\b\b\b\b\b\b\b\b\b\b\b\b\b\b\b\b\b\b\b\b\b\b\b\b\b\b\b\b\b\b\b\b\b\b\b\b\b\b\b\b\b\b\b\b\b\b\b\b\b\b\b\b\b\b\b\b\b\b\b\b\b\b\b\b\b\b\b\b\b\b\b\b\b\b\b\b\r125/125 [==============================] - 34s 276ms/step - loss: 0.0926 - accuracy: 0.9692 - val_loss: 0.0939 - val_accuracy: 0.9678 - lr: 1.0000e-05\n",
            "Epoch 96/180\n",
            "125/125 [==============================] - ETA: 0s - loss: 0.0921 - accuracy: 0.9693\n",
            "Epoch 00096: val_accuracy did not improve from 0.96790\n"
          ],
          "name": "stdout"
        },
        {
          "output_type": "stream",
          "text": [
            "2020-05-13 10:50:08,658 INFO \n",
            " epoch:095, F1Macro: 0.93803\n"
          ],
          "name": "stderr"
        },
        {
          "output_type": "stream",
          "text": [
            "\b\b\b\b\b\b\b\b\b\b\b\b\b\b\b\b\b\b\b\b\b\b\b\b\b\b\b\b\b\b\b\b\b\b\b\b\b\b\b\b\b\b\b\b\b\b\b\b\b\b\b\b\b\b\b\b\b\b\b\b\b\b\b\b\b\b\b\b\b\b\b\b\b\b\b\b\b\b\b\b\b\b\b\b\r125/125 [==============================] - 34s 275ms/step - loss: 0.0921 - accuracy: 0.9693 - val_loss: 0.0939 - val_accuracy: 0.9679 - lr: 1.0000e-05\n",
            "Epoch 97/180\n",
            "125/125 [==============================] - ETA: 0s - loss: 0.0921 - accuracy: 0.9693\n",
            "Epoch 00097: val_accuracy improved from 0.96790 to 0.96790, saving model to ion_switch/res/wavenet-dlr-res/ClassifierCBRWmulti-Prob11-NESCAL/all/4_fold/checkpoint-modelonly-4.h5\n"
          ],
          "name": "stdout"
        },
        {
          "output_type": "stream",
          "text": [
            "2020-05-13 10:50:44,008 INFO \n",
            " epoch:096, F1Macro: 0.93809\n"
          ],
          "name": "stderr"
        },
        {
          "output_type": "stream",
          "text": [
            "\b\b\b\b\b\b\b\b\b\b\b\b\b\b\b\b\b\b\b\b\b\b\b\b\b\b\b\b\b\b\b\b\b\b\b\b\b\b\b\b\b\b\b\b\b\b\b\b\b\b\b\b\b\b\b\b\b\b\b\b\b\b\b\b\b\b\b\b\b\b\b\b\b\b\b\b\b\b\b\b\b\b\b\b\r125/125 [==============================] - 35s 281ms/step - loss: 0.0921 - accuracy: 0.9693 - val_loss: 0.0937 - val_accuracy: 0.9679 - lr: 1.0000e-05\n",
            "Epoch 98/180\n",
            "125/125 [==============================] - ETA: 0s - loss: 0.0922 - accuracy: 0.9693\n",
            "Epoch 00098: val_accuracy did not improve from 0.96790\n"
          ],
          "name": "stdout"
        },
        {
          "output_type": "stream",
          "text": [
            "2020-05-13 10:51:18,694 INFO \n",
            " epoch:097, F1Macro: 0.93807\n"
          ],
          "name": "stderr"
        },
        {
          "output_type": "stream",
          "text": [
            "\b\b\b\b\b\b\b\b\b\b\b\b\b\b\b\b\b\b\b\b\b\b\b\b\b\b\b\b\b\b\b\b\b\b\b\b\b\b\b\b\b\b\b\b\b\b\b\b\b\b\b\b\b\b\b\b\b\b\b\b\b\b\b\b\b\b\b\b\b\b\b\b\b\b\b\b\b\b\b\b\b\b\b\b\r125/125 [==============================] - 34s 275ms/step - loss: 0.0922 - accuracy: 0.9693 - val_loss: 0.0938 - val_accuracy: 0.9679 - lr: 1.0000e-05\n",
            "Epoch 99/180\n",
            "125/125 [==============================] - ETA: 0s - loss: 0.0923 - accuracy: 0.9692\n",
            "Epoch 00099: val_accuracy did not improve from 0.96790\n"
          ],
          "name": "stdout"
        },
        {
          "output_type": "stream",
          "text": [
            "2020-05-13 10:51:53,384 INFO \n",
            " epoch:098, F1Macro: 0.93755\n"
          ],
          "name": "stderr"
        },
        {
          "output_type": "stream",
          "text": [
            "\b\b\b\b\b\b\b\b\b\b\b\b\b\b\b\b\b\b\b\b\b\b\b\b\b\b\b\b\b\b\b\b\b\b\b\b\b\b\b\b\b\b\b\b\b\b\b\b\b\b\b\b\b\b\b\b\b\b\b\b\b\b\b\b\b\b\b\b\b\b\b\b\b\b\b\b\b\b\b\b\b\b\b\b\r125/125 [==============================] - 34s 275ms/step - loss: 0.0923 - accuracy: 0.9692 - val_loss: 0.0943 - val_accuracy: 0.9677 - lr: 1.0000e-05\n",
            "Epoch 100/180\n",
            "125/125 [==============================] - ETA: 0s - loss: 0.0921 - accuracy: 0.9693\n",
            "Epoch 00100: val_accuracy did not improve from 0.96790\n"
          ],
          "name": "stdout"
        },
        {
          "output_type": "stream",
          "text": [
            "2020-05-13 10:52:28,072 INFO \n",
            " epoch:099, F1Macro: 0.93795\n"
          ],
          "name": "stderr"
        },
        {
          "output_type": "stream",
          "text": [
            "\b\b\b\b\b\b\b\b\b\b\b\b\b\b\b\b\b\b\b\b\b\b\b\b\b\b\b\b\b\b\b\b\b\b\b\b\b\b\b\b\b\b\b\b\b\b\b\b\b\b\b\b\b\b\b\b\b\b\b\b\b\b\b\b\b\b\b\b\b\b\b\b\b\b\b\b\b\b\b\b\b\b\b\b\r125/125 [==============================] - 34s 275ms/step - loss: 0.0921 - accuracy: 0.9693 - val_loss: 0.0942 - val_accuracy: 0.9678 - lr: 1.0000e-05\n",
            "Epoch 101/180\n",
            "125/125 [==============================] - ETA: 0s - loss: 0.0919 - accuracy: 0.9693\n",
            "Epoch 00101: val_accuracy did not improve from 0.96790\n"
          ],
          "name": "stdout"
        },
        {
          "output_type": "stream",
          "text": [
            "2020-05-13 10:53:02,780 INFO \n",
            " epoch:100, F1Macro: 0.93786\n"
          ],
          "name": "stderr"
        },
        {
          "output_type": "stream",
          "text": [
            "\b\b\b\b\b\b\b\b\b\b\b\b\b\b\b\b\b\b\b\b\b\b\b\b\b\b\b\b\b\b\b\b\b\b\b\b\b\b\b\b\b\b\b\b\b\b\b\b\b\b\b\b\b\b\b\b\b\b\b\b\b\b\b\b\b\b\b\b\b\b\b\b\b\b\b\b\b\b\b\b\b\b\b\b\r125/125 [==============================] - 34s 276ms/step - loss: 0.0919 - accuracy: 0.9693 - val_loss: 0.0938 - val_accuracy: 0.9679 - lr: 1.0000e-05\n",
            "Epoch 102/180\n",
            "125/125 [==============================] - ETA: 0s - loss: 0.0921 - accuracy: 0.9693\n",
            "Epoch 00102: val_accuracy did not improve from 0.96790\n"
          ],
          "name": "stdout"
        },
        {
          "output_type": "stream",
          "text": [
            "2020-05-13 10:53:37,384 INFO \n",
            " epoch:101, F1Macro: 0.93816\n"
          ],
          "name": "stderr"
        },
        {
          "output_type": "stream",
          "text": [
            "\b\b\b\b\b\b\b\b\b\b\b\b\b\b\b\b\b\b\b\b\b\b\b\b\b\b\b\b\b\b\b\b\b\b\b\b\b\b\b\b\b\b\b\b\b\b\b\b\b\b\b\b\b\b\b\b\b\b\b\b\b\b\b\b\b\b\b\b\b\b\b\b\b\b\b\b\b\b\b\b\b\b\b\b\r125/125 [==============================] - 34s 275ms/step - loss: 0.0921 - accuracy: 0.9693 - val_loss: 0.0939 - val_accuracy: 0.9678 - lr: 1.0000e-05\n",
            "Epoch 103/180\n",
            "125/125 [==============================] - ETA: 0s - loss: 0.0920 - accuracy: 0.9693\n",
            "Epoch 00103: val_accuracy did not improve from 0.96790\n"
          ],
          "name": "stdout"
        },
        {
          "output_type": "stream",
          "text": [
            "2020-05-13 10:54:12,050 INFO \n",
            " epoch:102, F1Macro: 0.93798\n"
          ],
          "name": "stderr"
        },
        {
          "output_type": "stream",
          "text": [
            "\b\b\b\b\b\b\b\b\b\b\b\b\b\b\b\b\b\b\b\b\b\b\b\b\b\b\b\b\b\b\b\b\b\b\b\b\b\b\b\b\b\b\b\b\b\b\b\b\b\b\b\b\b\b\b\b\b\b\b\b\b\b\b\b\b\b\b\b\b\b\b\b\b\b\b\b\b\b\b\b\b\b\b\b\r125/125 [==============================] - 34s 275ms/step - loss: 0.0920 - accuracy: 0.9693 - val_loss: 0.0937 - val_accuracy: 0.9679 - lr: 1.0000e-05\n",
            "Epoch 104/180\n",
            "125/125 [==============================] - ETA: 0s - loss: 0.0923 - accuracy: 0.9692\n",
            "Epoch 00104: val_accuracy did not improve from 0.96790\n"
          ],
          "name": "stdout"
        },
        {
          "output_type": "stream",
          "text": [
            "2020-05-13 10:54:46,628 INFO \n",
            " epoch:103, F1Macro: 0.93790\n"
          ],
          "name": "stderr"
        },
        {
          "output_type": "stream",
          "text": [
            "\b\b\b\b\b\b\b\b\b\b\b\b\b\b\b\b\b\b\b\b\b\b\b\b\b\b\b\b\b\b\b\b\b\b\b\b\b\b\b\b\b\b\b\b\b\b\b\b\b\b\b\b\b\b\b\b\b\b\b\b\b\b\b\b\b\b\b\b\b\b\b\b\b\b\b\b\b\b\b\b\b\b\b\b\r125/125 [==============================] - 34s 275ms/step - loss: 0.0923 - accuracy: 0.9692 - val_loss: 0.0937 - val_accuracy: 0.9678 - lr: 1.0000e-05\n",
            "Epoch 105/180\n",
            "125/125 [==============================] - ETA: 0s - loss: 0.0918 - accuracy: 0.9693\n",
            "Epoch 00105: val_accuracy improved from 0.96790 to 0.96791, saving model to ion_switch/res/wavenet-dlr-res/ClassifierCBRWmulti-Prob11-NESCAL/all/4_fold/checkpoint-modelonly-4.h5\n"
          ],
          "name": "stdout"
        },
        {
          "output_type": "stream",
          "text": [
            "2020-05-13 10:55:22,098 INFO \n",
            " epoch:104, F1Macro: 0.93808\n"
          ],
          "name": "stderr"
        },
        {
          "output_type": "stream",
          "text": [
            "\b\b\b\b\b\b\b\b\b\b\b\b\b\b\b\b\b\b\b\b\b\b\b\b\b\b\b\b\b\b\b\b\b\b\b\b\b\b\b\b\b\b\b\b\b\b\b\b\b\b\b\b\b\b\b\b\b\b\b\b\b\b\b\b\b\b\b\b\b\b\b\b\b\b\b\b\b\b\b\b\b\b\b\b\r125/125 [==============================] - 35s 282ms/step - loss: 0.0918 - accuracy: 0.9693 - val_loss: 0.0936 - val_accuracy: 0.9679 - lr: 1.0000e-05\n",
            "Epoch 106/180\n",
            "125/125 [==============================] - ETA: 0s - loss: 0.0918 - accuracy: 0.9693\n",
            "Epoch 00106: val_accuracy improved from 0.96791 to 0.96792, saving model to ion_switch/res/wavenet-dlr-res/ClassifierCBRWmulti-Prob11-NESCAL/all/4_fold/checkpoint-modelonly-4.h5\n"
          ],
          "name": "stdout"
        },
        {
          "output_type": "stream",
          "text": [
            "2020-05-13 10:55:57,446 INFO \n",
            " epoch:105, F1Macro: 0.93808\n"
          ],
          "name": "stderr"
        },
        {
          "output_type": "stream",
          "text": [
            "\b\b\b\b\b\b\b\b\b\b\b\b\b\b\b\b\b\b\b\b\b\b\b\b\b\b\b\b\b\b\b\b\b\b\b\b\b\b\b\b\b\b\b\b\b\b\b\b\b\b\b\b\b\b\b\b\b\b\b\b\b\b\b\b\b\b\b\b\b\b\b\b\b\b\b\b\b\b\b\b\b\b\b\b\r125/125 [==============================] - 35s 281ms/step - loss: 0.0918 - accuracy: 0.9693 - val_loss: 0.0935 - val_accuracy: 0.9679 - lr: 1.0000e-05\n",
            "Epoch 107/180\n",
            "125/125 [==============================] - ETA: 0s - loss: 0.0917 - accuracy: 0.9693\n",
            "Epoch 00107: val_accuracy improved from 0.96792 to 0.96793, saving model to ion_switch/res/wavenet-dlr-res/ClassifierCBRWmulti-Prob11-NESCAL/all/4_fold/checkpoint-modelonly-4.h5\n"
          ],
          "name": "stdout"
        },
        {
          "output_type": "stream",
          "text": [
            "2020-05-13 10:56:32,735 INFO \n",
            " epoch:106, F1Macro: 0.93812\n"
          ],
          "name": "stderr"
        },
        {
          "output_type": "stream",
          "text": [
            "\b\b\b\b\b\b\b\b\b\b\b\b\b\b\b\b\b\b\b\b\b\b\b\b\b\b\b\b\b\b\b\b\b\b\b\b\b\b\b\b\b\b\b\b\b\b\b\b\b\b\b\b\b\b\b\b\b\b\b\b\b\b\b\b\b\b\b\b\b\b\b\b\b\b\b\b\b\b\b\b\b\b\b\b\r125/125 [==============================] - 35s 280ms/step - loss: 0.0917 - accuracy: 0.9693 - val_loss: 0.0934 - val_accuracy: 0.9679 - lr: 1.0000e-05\n",
            "Epoch 108/180\n",
            "125/125 [==============================] - ETA: 0s - loss: 0.0922 - accuracy: 0.9692\n",
            "Epoch 00108: val_accuracy did not improve from 0.96793\n"
          ],
          "name": "stdout"
        },
        {
          "output_type": "stream",
          "text": [
            "2020-05-13 10:57:07,392 INFO \n",
            " epoch:107, F1Macro: 0.93796\n"
          ],
          "name": "stderr"
        },
        {
          "output_type": "stream",
          "text": [
            "\b\b\b\b\b\b\b\b\b\b\b\b\b\b\b\b\b\b\b\b\b\b\b\b\b\b\b\b\b\b\b\b\b\b\b\b\b\b\b\b\b\b\b\b\b\b\b\b\b\b\b\b\b\b\b\b\b\b\b\b\b\b\b\b\b\b\b\b\b\b\b\b\b\b\b\b\b\b\b\b\b\b\b\b\r125/125 [==============================] - 34s 275ms/step - loss: 0.0922 - accuracy: 0.9692 - val_loss: 0.0936 - val_accuracy: 0.9678 - lr: 1.0000e-05\n",
            "Epoch 109/180\n",
            "125/125 [==============================] - ETA: 0s - loss: 0.0922 - accuracy: 0.9691\n",
            "Epoch 00109: val_accuracy did not improve from 0.96793\n"
          ],
          "name": "stdout"
        },
        {
          "output_type": "stream",
          "text": [
            "2020-05-13 10:57:42,132 INFO \n",
            " epoch:108, F1Macro: 0.93774\n"
          ],
          "name": "stderr"
        },
        {
          "output_type": "stream",
          "text": [
            "\b\b\b\b\b\b\b\b\b\b\b\b\b\b\b\b\b\b\b\b\b\b\b\b\b\b\b\b\b\b\b\b\b\b\b\b\b\b\b\b\b\b\b\b\b\b\b\b\b\b\b\b\b\b\b\b\b\b\b\b\b\b\b\b\b\b\b\b\b\b\b\b\b\b\b\b\b\b\b\b\b\b\b\b\r125/125 [==============================] - 34s 276ms/step - loss: 0.0922 - accuracy: 0.9691 - val_loss: 0.0936 - val_accuracy: 0.9678 - lr: 1.0000e-05\n",
            "Epoch 110/180\n",
            "125/125 [==============================] - ETA: 0s - loss: 0.0915 - accuracy: 0.9694\n",
            "Epoch 00110: val_accuracy improved from 0.96793 to 0.96796, saving model to ion_switch/res/wavenet-dlr-res/ClassifierCBRWmulti-Prob11-NESCAL/all/4_fold/checkpoint-modelonly-4.h5\n"
          ],
          "name": "stdout"
        },
        {
          "output_type": "stream",
          "text": [
            "2020-05-13 10:58:17,579 INFO \n",
            " epoch:109, F1Macro: 0.93812\n"
          ],
          "name": "stderr"
        },
        {
          "output_type": "stream",
          "text": [
            "\b\b\b\b\b\b\b\b\b\b\b\b\b\b\b\b\b\b\b\b\b\b\b\b\b\b\b\b\b\b\b\b\b\b\b\b\b\b\b\b\b\b\b\b\b\b\b\b\b\b\b\b\b\b\b\b\b\b\b\b\b\b\b\b\b\b\b\b\b\b\b\b\b\b\b\b\b\b\b\b\b\b\b\b\r125/125 [==============================] - 35s 281ms/step - loss: 0.0915 - accuracy: 0.9694 - val_loss: 0.0932 - val_accuracy: 0.9680 - lr: 1.0000e-05\n",
            "Epoch 111/180\n",
            "125/125 [==============================] - ETA: 0s - loss: 0.0917 - accuracy: 0.9693\n",
            "Epoch 00111: val_accuracy did not improve from 0.96796\n"
          ],
          "name": "stdout"
        },
        {
          "output_type": "stream",
          "text": [
            "2020-05-13 10:58:52,263 INFO \n",
            " epoch:110, F1Macro: 0.93809\n"
          ],
          "name": "stderr"
        },
        {
          "output_type": "stream",
          "text": [
            "\b\b\b\b\b\b\b\b\b\b\b\b\b\b\b\b\b\b\b\b\b\b\b\b\b\b\b\b\b\b\b\b\b\b\b\b\b\b\b\b\b\b\b\b\b\b\b\b\b\b\b\b\b\b\b\b\b\b\b\b\b\b\b\b\b\b\b\b\b\b\b\b\b\b\b\b\b\b\b\b\b\b\b\b\r125/125 [==============================] - 34s 275ms/step - loss: 0.0917 - accuracy: 0.9693 - val_loss: 0.0935 - val_accuracy: 0.9679 - lr: 1.0000e-05\n",
            "Epoch 112/180\n",
            "125/125 [==============================] - ETA: 0s - loss: 0.0914 - accuracy: 0.9694\n",
            "Epoch 00112: val_accuracy did not improve from 0.96796\n"
          ],
          "name": "stdout"
        },
        {
          "output_type": "stream",
          "text": [
            "2020-05-13 10:59:26,937 INFO \n",
            " epoch:111, F1Macro: 0.93801\n"
          ],
          "name": "stderr"
        },
        {
          "output_type": "stream",
          "text": [
            "\b\b\b\b\b\b\b\b\b\b\b\b\b\b\b\b\b\b\b\b\b\b\b\b\b\b\b\b\b\b\b\b\b\b\b\b\b\b\b\b\b\b\b\b\b\b\b\b\b\b\b\b\b\b\b\b\b\b\b\b\b\b\b\b\b\b\b\b\b\b\b\b\b\b\b\b\b\b\b\b\b\b\b\b\r125/125 [==============================] - 34s 275ms/step - loss: 0.0914 - accuracy: 0.9694 - val_loss: 0.0935 - val_accuracy: 0.9679 - lr: 1.0000e-05\n",
            "Epoch 113/180\n",
            "125/125 [==============================] - ETA: 0s - loss: 0.0914 - accuracy: 0.9694\n",
            "Epoch 00113: val_accuracy did not improve from 0.96796\n"
          ],
          "name": "stdout"
        },
        {
          "output_type": "stream",
          "text": [
            "2020-05-13 11:00:01,597 INFO \n",
            " epoch:112, F1Macro: 0.93796\n"
          ],
          "name": "stderr"
        },
        {
          "output_type": "stream",
          "text": [
            "\b\b\b\b\b\b\b\b\b\b\b\b\b\b\b\b\b\b\b\b\b\b\b\b\b\b\b\b\b\b\b\b\b\b\b\b\b\b\b\b\b\b\b\b\b\b\b\b\b\b\b\b\b\b\b\b\b\b\b\b\b\b\b\b\b\b\b\b\b\b\b\b\b\b\b\b\b\b\b\b\b\b\b\b\r125/125 [==============================] - 34s 275ms/step - loss: 0.0914 - accuracy: 0.9694 - val_loss: 0.0936 - val_accuracy: 0.9679 - lr: 1.0000e-05\n",
            "Epoch 114/180\n",
            "125/125 [==============================] - ETA: 0s - loss: 0.0920 - accuracy: 0.9692\n",
            "Epoch 00114: val_accuracy did not improve from 0.96796\n"
          ],
          "name": "stdout"
        },
        {
          "output_type": "stream",
          "text": [
            "2020-05-13 11:00:36,199 INFO \n",
            " epoch:113, F1Macro: 0.93791\n"
          ],
          "name": "stderr"
        },
        {
          "output_type": "stream",
          "text": [
            "\b\b\b\b\b\b\b\b\b\b\b\b\b\b\b\b\b\b\b\b\b\b\b\b\b\b\b\b\b\b\b\b\b\b\b\b\b\b\b\b\b\b\b\b\b\b\b\b\b\b\b\b\b\b\b\b\b\b\b\b\b\b\b\b\b\b\b\b\b\b\b\b\b\b\b\b\b\b\b\b\b\b\b\b\r125/125 [==============================] - 34s 275ms/step - loss: 0.0920 - accuracy: 0.9692 - val_loss: 0.0938 - val_accuracy: 0.9678 - lr: 1.0000e-05\n",
            "Epoch 115/180\n",
            "125/125 [==============================] - ETA: 0s - loss: 0.0914 - accuracy: 0.9694\n",
            "Epoch 00115: val_accuracy did not improve from 0.96796\n"
          ],
          "name": "stdout"
        },
        {
          "output_type": "stream",
          "text": [
            "2020-05-13 11:01:10,789 INFO \n",
            " epoch:114, F1Macro: 0.93785\n"
          ],
          "name": "stderr"
        },
        {
          "output_type": "stream",
          "text": [
            "\b\b\b\b\b\b\b\b\b\b\b\b\b\b\b\b\b\b\b\b\b\b\b\b\b\b\b\b\b\b\b\b\b\b\b\b\b\b\b\b\b\b\b\b\b\b\b\b\b\b\b\b\b\b\b\b\b\b\b\b\b\b\b\b\b\b\b\b\b\b\b\b\b\b\b\b\b\b\b\b\b\b\b\b\r125/125 [==============================] - 34s 275ms/step - loss: 0.0914 - accuracy: 0.9694 - val_loss: 0.0933 - val_accuracy: 0.9679 - lr: 1.0000e-05\n",
            "Epoch 116/180\n",
            "125/125 [==============================] - ETA: 0s - loss: 0.0914 - accuracy: 0.9694\n",
            "Epoch 00116: val_accuracy did not improve from 0.96796\n"
          ],
          "name": "stdout"
        },
        {
          "output_type": "stream",
          "text": [
            "2020-05-13 11:01:45,393 INFO \n",
            " epoch:115, F1Macro: 0.93805\n"
          ],
          "name": "stderr"
        },
        {
          "output_type": "stream",
          "text": [
            "\b\b\b\b\b\b\b\b\b\b\b\b\b\b\b\b\b\b\b\b\b\b\b\b\b\b\b\b\b\b\b\b\b\b\b\b\b\b\b\b\b\b\b\b\b\b\b\b\b\b\b\b\b\b\b\b\b\b\b\b\b\b\b\b\b\b\b\b\b\b\b\b\b\b\b\b\b\b\b\b\b\b\b\b\r125/125 [==============================] - 34s 275ms/step - loss: 0.0914 - accuracy: 0.9694 - val_loss: 0.0933 - val_accuracy: 0.9679 - lr: 1.0000e-05\n",
            "Epoch 117/180\n",
            "125/125 [==============================] - ETA: 0s - loss: 0.0920 - accuracy: 0.9692\n",
            "Epoch 00117: val_accuracy did not improve from 0.96796\n"
          ],
          "name": "stdout"
        },
        {
          "output_type": "stream",
          "text": [
            "2020-05-13 11:02:20,065 INFO \n",
            " epoch:116, F1Macro: 0.93782\n"
          ],
          "name": "stderr"
        },
        {
          "output_type": "stream",
          "text": [
            "\b\b\b\b\b\b\b\b\b\b\b\b\b\b\b\b\b\b\b\b\b\b\b\b\b\b\b\b\b\b\b\b\b\b\b\b\b\b\b\b\b\b\b\b\b\b\b\b\b\b\b\b\b\b\b\b\b\b\b\b\b\b\b\b\b\b\b\b\b\b\b\b\b\b\b\b\b\b\b\b\b\b\b\b\r125/125 [==============================] - 34s 275ms/step - loss: 0.0920 - accuracy: 0.9692 - val_loss: 0.0941 - val_accuracy: 0.9676 - lr: 1.0000e-05\n",
            "Epoch 118/180\n",
            "125/125 [==============================] - ETA: 0s - loss: 0.0915 - accuracy: 0.9693\n",
            "Epoch 00118: val_accuracy did not improve from 0.96796\n"
          ],
          "name": "stdout"
        },
        {
          "output_type": "stream",
          "text": [
            "2020-05-13 11:02:54,742 INFO \n",
            " epoch:117, F1Macro: 0.93763\n"
          ],
          "name": "stderr"
        },
        {
          "output_type": "stream",
          "text": [
            "\b\b\b\b\b\b\b\b\b\b\b\b\b\b\b\b\b\b\b\b\b\b\b\b\b\b\b\b\b\b\b\b\b\b\b\b\b\b\b\b\b\b\b\b\b\b\b\b\b\b\b\b\b\b\b\b\b\b\b\b\b\b\b\b\b\b\b\b\b\b\b\b\b\b\b\b\b\b\b\b\b\b\b\b\r125/125 [==============================] - 34s 275ms/step - loss: 0.0915 - accuracy: 0.9693 - val_loss: 0.0939 - val_accuracy: 0.9677 - lr: 1.0000e-05\n",
            "Epoch 119/180\n",
            "125/125 [==============================] - ETA: 0s - loss: 0.0915 - accuracy: 0.9693\n",
            "Epoch 00119: val_accuracy did not improve from 0.96796\n"
          ],
          "name": "stdout"
        },
        {
          "output_type": "stream",
          "text": [
            "2020-05-13 11:03:29,367 INFO \n",
            " epoch:118, F1Macro: 0.93788\n"
          ],
          "name": "stderr"
        },
        {
          "output_type": "stream",
          "text": [
            "\b\b\b\b\b\b\b\b\b\b\b\b\b\b\b\b\b\b\b\b\b\b\b\b\b\b\b\b\b\b\b\b\b\b\b\b\b\b\b\b\b\b\b\b\b\b\b\b\b\b\b\b\b\b\b\b\b\b\b\b\b\b\b\b\b\b\b\b\b\b\b\b\b\b\b\b\b\b\b\b\b\b\b\b\r125/125 [==============================] - 34s 275ms/step - loss: 0.0915 - accuracy: 0.9693 - val_loss: 0.0933 - val_accuracy: 0.9678 - lr: 1.0000e-05\n",
            "Epoch 120/180\n",
            "125/125 [==============================] - ETA: 0s - loss: 0.0914 - accuracy: 0.9694\n",
            "Epoch 00120: val_accuracy did not improve from 0.96796\n"
          ],
          "name": "stdout"
        },
        {
          "output_type": "stream",
          "text": [
            "2020-05-13 11:04:04,052 INFO \n",
            " epoch:119, F1Macro: 0.93798\n"
          ],
          "name": "stderr"
        },
        {
          "output_type": "stream",
          "text": [
            "\b\b\b\b\b\b\b\b\b\b\b\b\b\b\b\b\b\b\b\b\b\b\b\b\b\b\b\b\b\b\b\b\b\b\b\b\b\b\b\b\b\b\b\b\b\b\b\b\b\b\b\b\b\b\b\b\b\b\b\b\b\b\b\b\b\b\b\b\b\b\b\b\b\b\b\b\b\b\b\b\b\b\b\b\r125/125 [==============================] - 34s 275ms/step - loss: 0.0914 - accuracy: 0.9694 - val_loss: 0.0933 - val_accuracy: 0.9679 - lr: 1.0000e-05\n",
            "Epoch 121/180\n",
            "125/125 [==============================] - ETA: 0s - loss: 0.0917 - accuracy: 0.9692\n",
            "Epoch 00121: val_accuracy did not improve from 0.96796\n"
          ],
          "name": "stdout"
        },
        {
          "output_type": "stream",
          "text": [
            "2020-05-13 11:04:38,634 INFO \n",
            " epoch:120, F1Macro: 0.93767\n"
          ],
          "name": "stderr"
        },
        {
          "output_type": "stream",
          "text": [
            "\b\b\b\b\b\b\b\b\b\b\b\b\b\b\b\b\b\b\b\b\b\b\b\b\b\b\b\b\b\b\b\b\b\b\b\b\b\b\b\b\b\b\b\b\b\b\b\b\b\b\b\b\b\b\b\b\b\b\b\b\b\b\b\b\b\b\b\b\b\b\b\b\b\b\b\b\b\b\b\b\b\b\b\b\r125/125 [==============================] - 34s 275ms/step - loss: 0.0917 - accuracy: 0.9692 - val_loss: 0.0935 - val_accuracy: 0.9679 - lr: 1.0000e-05\n",
            "Epoch 122/180\n",
            "125/125 [==============================] - ETA: 0s - loss: 0.0917 - accuracy: 0.9692\n",
            "Epoch 00122: val_accuracy did not improve from 0.96796\n"
          ],
          "name": "stdout"
        },
        {
          "output_type": "stream",
          "text": [
            "2020-05-13 11:05:13,255 INFO \n",
            " epoch:121, F1Macro: 0.93754\n"
          ],
          "name": "stderr"
        },
        {
          "output_type": "stream",
          "text": [
            "\b\b\b\b\b\b\b\b\b\b\b\b\b\b\b\b\b\b\b\b\b\b\b\b\b\b\b\b\b\b\b\b\b\b\b\b\b\b\b\b\b\b\b\b\b\b\b\b\b\b\b\b\b\b\b\b\b\b\b\b\b\b\b\b\b\b\b\b\b\b\b\b\b\b\b\b\b\b\b\b\b\b\b\b\r125/125 [==============================] - 34s 275ms/step - loss: 0.0917 - accuracy: 0.9692 - val_loss: 0.0936 - val_accuracy: 0.9678 - lr: 1.0000e-05\n",
            "Epoch 123/180\n",
            "125/125 [==============================] - ETA: 0s - loss: 0.0912 - accuracy: 0.9694\n",
            "Epoch 00123: val_accuracy did not improve from 0.96796\n"
          ],
          "name": "stdout"
        },
        {
          "output_type": "stream",
          "text": [
            "2020-05-13 11:05:47,906 INFO \n",
            " epoch:122, F1Macro: 0.93769\n"
          ],
          "name": "stderr"
        },
        {
          "output_type": "stream",
          "text": [
            "\b\b\b\b\b\b\b\b\b\b\b\b\b\b\b\b\b\b\b\b\b\b\b\b\b\b\b\b\b\b\b\b\b\b\b\b\b\b\b\b\b\b\b\b\b\b\b\b\b\b\b\b\b\b\b\b\b\b\b\b\b\b\b\b\b\b\b\b\b\b\b\b\b\b\b\b\b\b\b\b\b\b\b\b\r125/125 [==============================] - 34s 275ms/step - loss: 0.0912 - accuracy: 0.9694 - val_loss: 0.0932 - val_accuracy: 0.9679 - lr: 1.0000e-05\n",
            "Epoch 124/180\n",
            "125/125 [==============================] - ETA: 0s - loss: 0.0914 - accuracy: 0.9694\n",
            "Epoch 00124: val_accuracy did not improve from 0.96796\n"
          ],
          "name": "stdout"
        },
        {
          "output_type": "stream",
          "text": [
            "2020-05-13 11:06:22,474 INFO \n",
            " epoch:123, F1Macro: 0.93787\n"
          ],
          "name": "stderr"
        },
        {
          "output_type": "stream",
          "text": [
            "\b\b\b\b\b\b\b\b\b\b\b\b\b\b\b\b\b\b\b\b\b\b\b\b\b\b\b\b\b\b\b\b\b\b\b\b\b\b\b\b\b\b\b\b\b\b\b\b\b\b\b\b\b\b\b\b\b\b\b\b\b\b\b\b\b\b\b\b\b\b\b\b\b\b\b\b\b\b\b\b\b\b\b\b\r125/125 [==============================] - 34s 274ms/step - loss: 0.0914 - accuracy: 0.9694 - val_loss: 0.0932 - val_accuracy: 0.9679 - lr: 1.0000e-05\n",
            "Epoch 125/180\n",
            "125/125 [==============================] - ETA: 0s - loss: 0.0913 - accuracy: 0.9694\n",
            "Epoch 00125: val_accuracy did not improve from 0.96796\n"
          ],
          "name": "stdout"
        },
        {
          "output_type": "stream",
          "text": [
            "2020-05-13 11:06:57,079 INFO \n",
            " epoch:124, F1Macro: 0.93795\n"
          ],
          "name": "stderr"
        },
        {
          "output_type": "stream",
          "text": [
            "\b\b\b\b\b\b\b\b\b\b\b\b\b\b\b\b\b\b\b\b\b\b\b\b\b\b\b\b\b\b\b\b\b\b\b\b\b\b\b\b\b\b\b\b\b\b\b\b\b\b\b\b\b\b\b\b\b\b\b\b\b\b\b\b\b\b\b\b\b\b\b\b\b\b\b\b\b\b\b\b\b\b\b\b\r125/125 [==============================] - 34s 275ms/step - loss: 0.0913 - accuracy: 0.9694 - val_loss: 0.0934 - val_accuracy: 0.9678 - lr: 1.0000e-05\n",
            "Epoch 126/180\n",
            "125/125 [==============================] - ETA: 0s - loss: 0.0915 - accuracy: 0.9693\n",
            "Epoch 00126: val_accuracy did not improve from 0.96796\n"
          ],
          "name": "stdout"
        },
        {
          "output_type": "stream",
          "text": [
            "2020-05-13 11:07:31,727 INFO \n",
            " epoch:125, F1Macro: 0.93794\n"
          ],
          "name": "stderr"
        },
        {
          "output_type": "stream",
          "text": [
            "\b\b\b\b\b\b\b\b\b\b\b\b\b\b\b\b\b\b\b\b\b\b\b\b\b\b\b\b\b\b\b\b\b\b\b\b\b\b\b\b\b\b\b\b\b\b\b\b\b\b\b\b\b\b\b\b\b\b\b\b\b\b\b\b\b\b\b\b\b\b\b\b\b\b\b\b\b\b\b\b\b\b\b\b\r125/125 [==============================] - 34s 275ms/step - loss: 0.0915 - accuracy: 0.9693 - val_loss: 0.0932 - val_accuracy: 0.9679 - lr: 1.0000e-05\n",
            "Epoch 127/180\n",
            "125/125 [==============================] - ETA: 0s - loss: 0.0912 - accuracy: 0.9694\n",
            "Epoch 00127: val_accuracy did not improve from 0.96796\n"
          ],
          "name": "stdout"
        },
        {
          "output_type": "stream",
          "text": [
            "2020-05-13 11:08:06,330 INFO \n",
            " epoch:126, F1Macro: 0.93762\n"
          ],
          "name": "stderr"
        },
        {
          "output_type": "stream",
          "text": [
            "\b\b\b\b\b\b\b\b\b\b\b\b\b\b\b\b\b\b\b\b\b\b\b\b\b\b\b\b\b\b\b\b\b\b\b\b\b\b\b\b\b\b\b\b\b\b\b\b\b\b\b\b\b\b\b\b\b\b\b\b\b\b\b\b\b\b\b\b\b\b\b\b\b\b\b\b\b\b\b\b\b\b\b\b\r125/125 [==============================] - 34s 275ms/step - loss: 0.0912 - accuracy: 0.9694 - val_loss: 0.0934 - val_accuracy: 0.9678 - lr: 1.0000e-05\n",
            "Epoch 128/180\n",
            "125/125 [==============================] - ETA: 0s - loss: 0.0914 - accuracy: 0.9693\n",
            "Epoch 00128: val_accuracy did not improve from 0.96796\n"
          ],
          "name": "stdout"
        },
        {
          "output_type": "stream",
          "text": [
            "2020-05-13 11:08:40,990 INFO \n",
            " epoch:127, F1Macro: 0.93787\n"
          ],
          "name": "stderr"
        },
        {
          "output_type": "stream",
          "text": [
            "\b\b\b\b\b\b\b\b\b\b\b\b\b\b\b\b\b\b\b\b\b\b\b\b\b\b\b\b\b\b\b\b\b\b\b\b\b\b\b\b\b\b\b\b\b\b\b\b\b\b\b\b\b\b\b\b\b\b\b\b\b\b\b\b\b\b\b\b\b\b\b\b\b\b\b\b\b\b\b\b\b\b\b\b\r125/125 [==============================] - 34s 275ms/step - loss: 0.0914 - accuracy: 0.9693 - val_loss: 0.0935 - val_accuracy: 0.9677 - lr: 1.0000e-05\n",
            "Epoch 129/180\n",
            "125/125 [==============================] - ETA: 0s - loss: 0.0914 - accuracy: 0.9693\n",
            "Epoch 00129: val_accuracy did not improve from 0.96796\n"
          ],
          "name": "stdout"
        },
        {
          "output_type": "stream",
          "text": [
            "2020-05-13 11:09:15,657 INFO \n",
            " epoch:128, F1Macro: 0.93754\n"
          ],
          "name": "stderr"
        },
        {
          "output_type": "stream",
          "text": [
            "\b\b\b\b\b\b\b\b\b\b\b\b\b\b\b\b\b\b\b\b\b\b\b\b\b\b\b\b\b\b\b\b\b\b\b\b\b\b\b\b\b\b\b\b\b\b\b\b\b\b\b\b\b\b\b\b\b\b\b\b\b\b\b\b\b\b\b\b\b\b\b\b\b\b\b\b\b\b\b\b\b\b\b\b\r125/125 [==============================] - 34s 275ms/step - loss: 0.0914 - accuracy: 0.9693 - val_loss: 0.0935 - val_accuracy: 0.9677 - lr: 1.0000e-05\n",
            "Epoch 130/180\n",
            "125/125 [==============================] - ETA: 0s - loss: 0.0912 - accuracy: 0.9694\n",
            "Epoch 00130: val_accuracy did not improve from 0.96796\n"
          ],
          "name": "stdout"
        },
        {
          "output_type": "stream",
          "text": [
            "2020-05-13 11:09:50,278 INFO \n",
            " epoch:129, F1Macro: 0.93776\n"
          ],
          "name": "stderr"
        },
        {
          "output_type": "stream",
          "text": [
            "\b\b\b\b\b\b\b\b\b\b\b\b\b\b\b\b\b\b\b\b\b\b\b\b\b\b\b\b\b\b\b\b\b\b\b\b\b\b\b\b\b\b\b\b\b\b\b\b\b\b\b\b\b\b\b\b\b\b\b\b\b\b\b\b\b\b\b\b\b\b\b\b\b\b\b\b\b\b\b\b\b\b\b\b\r125/125 [==============================] - 34s 275ms/step - loss: 0.0912 - accuracy: 0.9694 - val_loss: 0.0932 - val_accuracy: 0.9678 - lr: 1.0000e-05\n",
            "Epoch 131/180\n",
            "125/125 [==============================] - ETA: 0s - loss: 0.0910 - accuracy: 0.9694\n",
            "Epoch 00131: val_accuracy did not improve from 0.96796\n"
          ],
          "name": "stdout"
        },
        {
          "output_type": "stream",
          "text": [
            "2020-05-13 11:10:24,918 INFO \n",
            " epoch:130, F1Macro: 0.93796\n"
          ],
          "name": "stderr"
        },
        {
          "output_type": "stream",
          "text": [
            "\b\b\b\b\b\b\b\b\b\b\b\b\b\b\b\b\b\b\b\b\b\b\b\b\b\b\b\b\b\b\b\b\b\b\b\b\b\b\b\b\b\b\b\b\b\b\b\b\b\b\b\b\b\b\b\b\b\b\b\b\b\b\b\b\b\b\b\b\b\b\b\b\b\b\b\b\b\b\b\b\b\b\b\b\r125/125 [==============================] - 34s 275ms/step - loss: 0.0910 - accuracy: 0.9694 - val_loss: 0.0931 - val_accuracy: 0.9679 - lr: 1.0000e-05\n",
            "Epoch 132/180\n",
            "125/125 [==============================] - ETA: 0s - loss: 0.0912 - accuracy: 0.9694\n",
            "Epoch 00132: val_accuracy did not improve from 0.96796\n"
          ],
          "name": "stdout"
        },
        {
          "output_type": "stream",
          "text": [
            "2020-05-13 11:10:59,579 INFO \n",
            " epoch:131, F1Macro: 0.93783\n"
          ],
          "name": "stderr"
        },
        {
          "output_type": "stream",
          "text": [
            "\b\b\b\b\b\b\b\b\b\b\b\b\b\b\b\b\b\b\b\b\b\b\b\b\b\b\b\b\b\b\b\b\b\b\b\b\b\b\b\b\b\b\b\b\b\b\b\b\b\b\b\b\b\b\b\b\b\b\b\b\b\b\b\b\b\b\b\b\b\b\b\b\b\b\b\b\b\b\b\b\b\b\b\b\r125/125 [==============================] - 34s 275ms/step - loss: 0.0912 - accuracy: 0.9694 - val_loss: 0.0931 - val_accuracy: 0.9678 - lr: 1.0000e-05\n",
            "Epoch 133/180\n",
            "125/125 [==============================] - ETA: 0s - loss: 0.0936 - accuracy: 0.9685\n",
            "Epoch 00133: val_accuracy did not improve from 0.96796\n"
          ],
          "name": "stdout"
        },
        {
          "output_type": "stream",
          "text": [
            "2020-05-13 11:11:34,261 INFO \n",
            " epoch:132, F1Macro: 0.93805\n"
          ],
          "name": "stderr"
        },
        {
          "output_type": "stream",
          "text": [
            "\b\b\b\b\b\b\b\b\b\b\b\b\b\b\b\b\b\b\b\b\b\b\b\b\b\b\b\b\b\b\b\b\b\b\b\b\b\b\b\b\b\b\b\b\b\b\b\b\b\b\b\b\b\b\b\b\b\b\b\b\b\b\b\b\b\b\b\b\b\b\b\b\b\b\b\b\b\b\b\b\b\b\b\b\r125/125 [==============================] - 34s 275ms/step - loss: 0.0936 - accuracy: 0.9685 - val_loss: 0.0931 - val_accuracy: 0.9679 - lr: 1.0000e-05\n",
            "Epoch 134/180\n",
            "125/125 [==============================] - ETA: 0s - loss: 0.0909 - accuracy: 0.9694\n",
            "Epoch 00134: val_accuracy did not improve from 0.96796\n"
          ],
          "name": "stdout"
        },
        {
          "output_type": "stream",
          "text": [
            "2020-05-13 11:12:08,899 INFO \n",
            " epoch:133, F1Macro: 0.93792\n"
          ],
          "name": "stderr"
        },
        {
          "output_type": "stream",
          "text": [
            "\b\b\b\b\b\b\b\b\b\b\b\b\b\b\b\b\b\b\b\b\b\b\b\b\b\b\b\b\b\b\b\b\b\b\b\b\b\b\b\b\b\b\b\b\b\b\b\b\b\b\b\b\b\b\b\b\b\b\b\b\b\b\b\b\b\b\b\b\b\b\b\b\b\b\b\b\b\b\b\b\b\b\b\b\r125/125 [==============================] - 34s 275ms/step - loss: 0.0909 - accuracy: 0.9694 - val_loss: 0.0931 - val_accuracy: 0.9678 - lr: 1.0000e-05\n",
            "Epoch 135/180\n",
            "125/125 [==============================] - ETA: 0s - loss: 0.0908 - accuracy: 0.9694\n",
            "Epoch 00135: val_accuracy did not improve from 0.96796\n"
          ],
          "name": "stdout"
        },
        {
          "output_type": "stream",
          "text": [
            "2020-05-13 11:12:43,559 INFO \n",
            " epoch:134, F1Macro: 0.93807\n"
          ],
          "name": "stderr"
        },
        {
          "output_type": "stream",
          "text": [
            "\b\b\b\b\b\b\b\b\b\b\b\b\b\b\b\b\b\b\b\b\b\b\b\b\b\b\b\b\b\b\b\b\b\b\b\b\b\b\b\b\b\b\b\b\b\b\b\b\b\b\b\b\b\b\b\b\b\b\b\b\b\b\b\b\b\b\b\b\b\b\b\b\b\b\b\b\b\b\b\b\b\b\b\b\r125/125 [==============================] - 34s 275ms/step - loss: 0.0908 - accuracy: 0.9694 - val_loss: 0.0928 - val_accuracy: 0.9679 - lr: 1.0000e-05\n",
            "Epoch 136/180\n",
            "125/125 [==============================] - ETA: 0s - loss: 0.0910 - accuracy: 0.9693\n",
            "Epoch 00136: val_accuracy did not improve from 0.96796\n"
          ],
          "name": "stdout"
        },
        {
          "output_type": "stream",
          "text": [
            "2020-05-13 11:13:18,171 INFO \n",
            " epoch:135, F1Macro: 0.93796\n"
          ],
          "name": "stderr"
        },
        {
          "output_type": "stream",
          "text": [
            "\b\b\b\b\b\b\b\b\b\b\b\b\b\b\b\b\b\b\b\b\b\b\b\b\b\b\b\b\b\b\b\b\b\b\b\b\b\b\b\b\b\b\b\b\b\b\b\b\b\b\b\b\b\b\b\b\b\b\b\b\b\b\b\b\b\b\b\b\b\b\b\b\b\b\b\b\b\b\b\b\b\b\b\b\r125/125 [==============================] - 34s 275ms/step - loss: 0.0910 - accuracy: 0.9693 - val_loss: 0.0932 - val_accuracy: 0.9678 - lr: 1.0000e-05\n",
            "Epoch 137/180\n",
            "125/125 [==============================] - ETA: 0s - loss: 0.0906 - accuracy: 0.9695\n",
            "Epoch 00137: val_accuracy improved from 0.96796 to 0.96798, saving model to ion_switch/res/wavenet-dlr-res/ClassifierCBRWmulti-Prob11-NESCAL/all/4_fold/checkpoint-modelonly-4.h5\n"
          ],
          "name": "stdout"
        },
        {
          "output_type": "stream",
          "text": [
            "2020-05-13 11:13:53,862 INFO \n",
            " epoch:136, F1Macro: 0.93816\n"
          ],
          "name": "stderr"
        },
        {
          "output_type": "stream",
          "text": [
            "\b\b\b\b\b\b\b\b\b\b\b\b\b\b\b\b\b\b\b\b\b\b\b\b\b\b\b\b\b\b\b\b\b\b\b\b\b\b\b\b\b\b\b\b\b\b\b\b\b\b\b\b\b\b\b\b\b\b\b\b\b\b\b\b\b\b\b\b\b\b\b\b\b\b\b\b\b\b\b\b\b\b\b\b\r125/125 [==============================] - 35s 283ms/step - loss: 0.0906 - accuracy: 0.9695 - val_loss: 0.0928 - val_accuracy: 0.9680 - lr: 1.0000e-05\n",
            "Epoch 138/180\n",
            "125/125 [==============================] - ETA: 0s - loss: 0.0910 - accuracy: 0.9694\n",
            "Epoch 00138: val_accuracy did not improve from 0.96798\n"
          ],
          "name": "stdout"
        },
        {
          "output_type": "stream",
          "text": [
            "2020-05-13 11:14:28,760 INFO \n",
            " epoch:137, F1Macro: 0.93791\n"
          ],
          "name": "stderr"
        },
        {
          "output_type": "stream",
          "text": [
            "\b\b\b\b\b\b\b\b\b\b\b\b\b\b\b\b\b\b\b\b\b\b\b\b\b\b\b\b\b\b\b\b\b\b\b\b\b\b\b\b\b\b\b\b\b\b\b\b\b\b\b\b\b\b\b\b\b\b\b\b\b\b\b\b\b\b\b\b\b\b\b\b\b\b\b\b\b\b\b\b\b\b\b\b\r125/125 [==============================] - 35s 277ms/step - loss: 0.0910 - accuracy: 0.9694 - val_loss: 0.0929 - val_accuracy: 0.9679 - lr: 1.0000e-05\n",
            "Epoch 139/180\n",
            "125/125 [==============================] - ETA: 0s - loss: 0.0909 - accuracy: 0.9693\n",
            "Epoch 00139: val_accuracy did not improve from 0.96798\n"
          ],
          "name": "stdout"
        },
        {
          "output_type": "stream",
          "text": [
            "2020-05-13 11:15:03,526 INFO \n",
            " epoch:138, F1Macro: 0.93806\n"
          ],
          "name": "stderr"
        },
        {
          "output_type": "stream",
          "text": [
            "\b\b\b\b\b\b\b\b\b\b\b\b\b\b\b\b\b\b\b\b\b\b\b\b\b\b\b\b\b\b\b\b\b\b\b\b\b\b\b\b\b\b\b\b\b\b\b\b\b\b\b\b\b\b\b\b\b\b\b\b\b\b\b\b\b\b\b\b\b\b\b\b\b\b\b\b\b\b\b\b\b\b\b\b\r125/125 [==============================] - 34s 276ms/step - loss: 0.0909 - accuracy: 0.9693 - val_loss: 0.0929 - val_accuracy: 0.9679 - lr: 1.0000e-05\n",
            "Epoch 140/180\n",
            "125/125 [==============================] - ETA: 0s - loss: 0.0911 - accuracy: 0.9693\n",
            "Epoch 00140: val_accuracy did not improve from 0.96798\n"
          ],
          "name": "stdout"
        },
        {
          "output_type": "stream",
          "text": [
            "2020-05-13 11:15:38,333 INFO \n",
            " epoch:139, F1Macro: 0.93754\n"
          ],
          "name": "stderr"
        },
        {
          "output_type": "stream",
          "text": [
            "\b\b\b\b\b\b\b\b\b\b\b\b\b\b\b\b\b\b\b\b\b\b\b\b\b\b\b\b\b\b\b\b\b\b\b\b\b\b\b\b\b\b\b\b\b\b\b\b\b\b\b\b\b\b\b\b\b\b\b\b\b\b\b\b\b\b\b\b\b\b\b\b\b\b\b\b\b\b\b\b\b\b\b\b\r125/125 [==============================] - 35s 276ms/step - loss: 0.0911 - accuracy: 0.9693 - val_loss: 0.0933 - val_accuracy: 0.9677 - lr: 1.0000e-05\n",
            "Epoch 141/180\n",
            "125/125 [==============================] - ETA: 0s - loss: 0.0906 - accuracy: 0.9694\n",
            "Epoch 00141: val_accuracy did not improve from 0.96798\n"
          ],
          "name": "stdout"
        },
        {
          "output_type": "stream",
          "text": [
            "2020-05-13 11:16:13,111 INFO \n",
            " epoch:140, F1Macro: 0.93782\n"
          ],
          "name": "stderr"
        },
        {
          "output_type": "stream",
          "text": [
            "\b\b\b\b\b\b\b\b\b\b\b\b\b\b\b\b\b\b\b\b\b\b\b\b\b\b\b\b\b\b\b\b\b\b\b\b\b\b\b\b\b\b\b\b\b\b\b\b\b\b\b\b\b\b\b\b\b\b\b\b\b\b\b\b\b\b\b\b\b\b\b\b\b\b\b\b\b\b\b\b\b\b\b\b\r125/125 [==============================] - 34s 276ms/step - loss: 0.0906 - accuracy: 0.9694 - val_loss: 0.0928 - val_accuracy: 0.9679 - lr: 1.0000e-05\n",
            "Epoch 142/180\n",
            "125/125 [==============================] - ETA: 0s - loss: 0.0908 - accuracy: 0.9694\n",
            "Epoch 00142: val_accuracy did not improve from 0.96798\n"
          ],
          "name": "stdout"
        },
        {
          "output_type": "stream",
          "text": [
            "2020-05-13 11:16:48,020 INFO \n",
            " epoch:141, F1Macro: 0.93798\n"
          ],
          "name": "stderr"
        },
        {
          "output_type": "stream",
          "text": [
            "\b\b\b\b\b\b\b\b\b\b\b\b\b\b\b\b\b\b\b\b\b\b\b\b\b\b\b\b\b\b\b\b\b\b\b\b\b\b\b\b\b\b\b\b\b\b\b\b\b\b\b\b\b\b\b\b\b\b\b\b\b\b\b\b\b\b\b\b\b\b\b\b\b\b\b\b\b\b\b\b\b\b\b\b\r125/125 [==============================] - 35s 277ms/step - loss: 0.0908 - accuracy: 0.9694 - val_loss: 0.0929 - val_accuracy: 0.9679 - lr: 1.0000e-05\n",
            "Epoch 143/180\n",
            "125/125 [==============================] - ETA: 0s - loss: 0.0911 - accuracy: 0.9693\n",
            "Epoch 00143: val_accuracy did not improve from 0.96798\n"
          ],
          "name": "stdout"
        },
        {
          "output_type": "stream",
          "text": [
            "2020-05-13 11:17:23,071 INFO \n",
            " epoch:142, F1Macro: 0.93799\n"
          ],
          "name": "stderr"
        },
        {
          "output_type": "stream",
          "text": [
            "\b\b\b\b\b\b\b\b\b\b\b\b\b\b\b\b\b\b\b\b\b\b\b\b\b\b\b\b\b\b\b\b\b\b\b\b\b\b\b\b\b\b\b\b\b\b\b\b\b\b\b\b\b\b\b\b\b\b\b\b\b\b\b\b\b\b\b\b\b\b\b\b\b\b\b\b\b\b\b\b\b\b\b\b\r125/125 [==============================] - 35s 278ms/step - loss: 0.0911 - accuracy: 0.9693 - val_loss: 0.0930 - val_accuracy: 0.9678 - lr: 1.0000e-05\n",
            "Epoch 144/180\n",
            "125/125 [==============================] - ETA: 0s - loss: 0.0907 - accuracy: 0.9694\n",
            "Epoch 00144: val_accuracy did not improve from 0.96798\n"
          ],
          "name": "stdout"
        },
        {
          "output_type": "stream",
          "text": [
            "2020-05-13 11:17:58,153 INFO \n",
            " epoch:143, F1Macro: 0.93784\n"
          ],
          "name": "stderr"
        },
        {
          "output_type": "stream",
          "text": [
            "\b\b\b\b\b\b\b\b\b\b\b\b\b\b\b\b\b\b\b\b\b\b\b\b\b\b\b\b\b\b\b\b\b\b\b\b\b\b\b\b\b\b\b\b\b\b\b\b\b\b\b\b\b\b\b\b\b\b\b\b\b\b\b\b\b\b\b\b\b\b\b\b\b\b\b\b\b\b\b\b\b\b\b\b\r125/125 [==============================] - 35s 279ms/step - loss: 0.0907 - accuracy: 0.9694 - val_loss: 0.0927 - val_accuracy: 0.9679 - lr: 1.0000e-05\n"
          ],
          "name": "stdout"
        },
        {
          "output_type": "stream",
          "text": [
            "2020-05-13 11:17:58,162 INFO Epoch 00144: early stopping\n"
          ],
          "name": "stderr"
        },
        {
          "output_type": "stream",
          "text": [
            "\rpreds_f shape: (250, 4000, 11)\n"
          ],
          "name": "stdout"
        },
        {
          "output_type": "stream",
          "text": [
            "2020-05-13 11:18:00,187 INFO Training fold 5 completed. macro f1 score : 0.93784\n",
            "2020-05-13 11:18:04,269 INFO Training completed. oof macro f1 score : 0.93825\n"
          ],
          "name": "stderr"
        },
        {
          "output_type": "display_data",
          "data": {
            "text/html": [
              "<div>\n",
              "<style scoped>\n",
              "    .dataframe tbody tr th:only-of-type {\n",
              "        vertical-align: middle;\n",
              "    }\n",
              "\n",
              "    .dataframe tbody tr th {\n",
              "        vertical-align: top;\n",
              "    }\n",
              "\n",
              "    .dataframe thead th {\n",
              "        text-align: right;\n",
              "    }\n",
              "</style>\n",
              "<table border=\"1\" class=\"dataframe\">\n",
              "  <thead>\n",
              "    <tr style=\"text-align: right;\">\n",
              "      <th></th>\n",
              "      <th>time</th>\n",
              "      <th>open_channels</th>\n",
              "    </tr>\n",
              "  </thead>\n",
              "  <tbody>\n",
              "    <tr>\n",
              "      <th>0</th>\n",
              "      <td>500.000092</td>\n",
              "      <td>0</td>\n",
              "    </tr>\n",
              "    <tr>\n",
              "      <th>1</th>\n",
              "      <td>500.000214</td>\n",
              "      <td>0</td>\n",
              "    </tr>\n",
              "    <tr>\n",
              "      <th>2</th>\n",
              "      <td>500.000305</td>\n",
              "      <td>0</td>\n",
              "    </tr>\n",
              "    <tr>\n",
              "      <th>3</th>\n",
              "      <td>500.000397</td>\n",
              "      <td>0</td>\n",
              "    </tr>\n",
              "    <tr>\n",
              "      <th>4</th>\n",
              "      <td>500.000488</td>\n",
              "      <td>0</td>\n",
              "    </tr>\n",
              "  </tbody>\n",
              "</table>\n",
              "</div>"
            ],
            "text/plain": [
              "         time  open_channels\n",
              "0  500.000092              0\n",
              "1  500.000214              0\n",
              "2  500.000305              0\n",
              "3  500.000397              0\n",
              "4  500.000488              0"
            ]
          },
          "metadata": {
            "tags": []
          }
        },
        {
          "output_type": "stream",
          "text": [
            "2020-05-13 11:18:08,489 INFO Training completed ...\n",
            "2020-05-13 11:18:08,496 INFO [Running Wavenet model] done in 29987 s\n"
          ],
          "name": "stderr"
        }
      ]
    },
    {
      "cell_type": "code",
      "metadata": {
        "id": "2CMgZCYC5Yh6",
        "trusted": true,
        "colab_type": "code",
        "outputId": "715953a4-19f2-4292-d02b-54a2bc5e9283",
        "colab": {
          "base_uri": "https://localhost:8080/",
          "height": 34
        }
      },
      "source": [
        "print(\"test\")"
      ],
      "execution_count": 62,
      "outputs": [
        {
          "output_type": "stream",
          "text": [
            "test\n"
          ],
          "name": "stdout"
        }
      ]
    },
    {
      "cell_type": "code",
      "metadata": {
        "id": "SrDMsCg1CxUV",
        "colab_type": "code",
        "colab": {}
      },
      "source": [
        ""
      ],
      "execution_count": 0,
      "outputs": []
    },
    {
      "cell_type": "code",
      "metadata": {
        "id": "-u3pTgK3mNFt",
        "trusted": true,
        "colab_type": "code",
        "colab": {}
      },
      "source": [
        ""
      ],
      "execution_count": 0,
      "outputs": []
    },
    {
      "cell_type": "code",
      "metadata": {
        "id": "MjHu5CkUrorQ",
        "trusted": true,
        "colab_type": "code",
        "colab": {}
      },
      "source": [
        ""
      ],
      "execution_count": 0,
      "outputs": []
    },
    {
      "cell_type": "markdown",
      "metadata": {
        "id": "ZHizylS_pMhI",
        "colab_type": "text"
      },
      "source": [
        ""
      ]
    },
    {
      "cell_type": "code",
      "metadata": {
        "id": "EbDSqah3O6Q4",
        "trusted": true,
        "colab_type": "code",
        "colab": {}
      },
      "source": [
        ""
      ],
      "execution_count": 0,
      "outputs": []
    },
    {
      "cell_type": "code",
      "metadata": {
        "id": "GIkAcnCRRN-O",
        "trusted": true,
        "colab_type": "code",
        "colab": {}
      },
      "source": [
        ""
      ],
      "execution_count": 0,
      "outputs": []
    }
  ]
}