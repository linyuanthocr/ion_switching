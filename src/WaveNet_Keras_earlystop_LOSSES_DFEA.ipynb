{
  "nbformat": 4,
  "nbformat_minor": 0,
  "metadata": {
    "colab": {
      "name": "WaveNet-Keras-earlystop-LOSSES_DFEA.ipynb",
      "provenance": [],
      "collapsed_sections": []
    },
    "kernelspec": {
      "name": "python3",
      "display_name": "Python 3"
    },
    "language_info": {
      "codemirror_mode": {
        "name": "ipython",
        "version": 3
      },
      "file_extension": ".py",
      "mimetype": "text/x-python",
      "name": "python",
      "nbconvert_exporter": "python",
      "pygments_lexer": "ipython3",
      "version": "3.7.5"
    },
    "widgets": {
      "application/vnd.jupyter.widget-state+json": {
        "7baff71f34b344599bc9284ac65c7e4e": {
          "model_module": "@jupyter-widgets/controls",
          "model_name": "HBoxModel",
          "state": {
            "_view_name": "HBoxView",
            "_dom_classes": [],
            "_model_name": "HBoxModel",
            "_view_module": "@jupyter-widgets/controls",
            "_model_module_version": "1.5.0",
            "_view_count": null,
            "_view_module_version": "1.5.0",
            "box_style": "",
            "layout": "IPY_MODEL_5e40fb9dad364f8aaf1838ea39ae25bb",
            "_model_module": "@jupyter-widgets/controls",
            "children": [
              "IPY_MODEL_d10327885d6f48aa9937d5cbc939ff5a",
              "IPY_MODEL_76991d7c189b48f896c191f25afc5850"
            ]
          }
        },
        "5e40fb9dad364f8aaf1838ea39ae25bb": {
          "model_module": "@jupyter-widgets/base",
          "model_name": "LayoutModel",
          "state": {
            "_view_name": "LayoutView",
            "grid_template_rows": null,
            "right": null,
            "justify_content": null,
            "_view_module": "@jupyter-widgets/base",
            "overflow": null,
            "_model_module_version": "1.2.0",
            "_view_count": null,
            "flex_flow": "row wrap",
            "width": "100%",
            "min_width": null,
            "border": null,
            "align_items": null,
            "bottom": null,
            "_model_module": "@jupyter-widgets/base",
            "top": null,
            "grid_column": null,
            "overflow_y": null,
            "overflow_x": null,
            "grid_auto_flow": null,
            "grid_area": null,
            "grid_template_columns": null,
            "flex": null,
            "_model_name": "LayoutModel",
            "justify_items": null,
            "grid_row": null,
            "max_height": null,
            "align_content": null,
            "visibility": null,
            "align_self": null,
            "height": null,
            "min_height": null,
            "padding": null,
            "grid_auto_rows": null,
            "grid_gap": null,
            "max_width": null,
            "order": null,
            "_view_module_version": "1.2.0",
            "grid_template_areas": null,
            "object_position": null,
            "object_fit": null,
            "grid_auto_columns": null,
            "margin": null,
            "display": "inline-flex",
            "left": null
          }
        },
        "d10327885d6f48aa9937d5cbc939ff5a": {
          "model_module": "@jupyter-widgets/controls",
          "model_name": "IntProgressModel",
          "state": {
            "_view_name": "ProgressView",
            "style": "IPY_MODEL_d0ff179000f14016abd2be74400b0e7a",
            "_dom_classes": [],
            "description": "Training: 100%",
            "_model_name": "IntProgressModel",
            "bar_style": "",
            "max": 150,
            "_view_module": "@jupyter-widgets/controls",
            "_model_module_version": "1.5.0",
            "value": 150,
            "_view_count": null,
            "_view_module_version": "1.5.0",
            "orientation": "horizontal",
            "min": 0,
            "description_tooltip": null,
            "_model_module": "@jupyter-widgets/controls",
            "layout": "IPY_MODEL_af549c0f73c84274b51134076f976fdc"
          }
        },
        "76991d7c189b48f896c191f25afc5850": {
          "model_module": "@jupyter-widgets/controls",
          "model_name": "HTMLModel",
          "state": {
            "_view_name": "HTMLView",
            "style": "IPY_MODEL_b6e22f3144c64a2e8a8a198caaccbefb",
            "_dom_classes": [],
            "description": "",
            "_model_name": "HTMLModel",
            "placeholder": "​",
            "_view_module": "@jupyter-widgets/controls",
            "_model_module_version": "1.5.0",
            "value": " 150/150 ETA: 00:00s,  30.09s/epochs",
            "_view_count": null,
            "_view_module_version": "1.5.0",
            "description_tooltip": null,
            "_model_module": "@jupyter-widgets/controls",
            "layout": "IPY_MODEL_fe74b5654ac54d7992f2d820a8c70960"
          }
        },
        "d0ff179000f14016abd2be74400b0e7a": {
          "model_module": "@jupyter-widgets/controls",
          "model_name": "ProgressStyleModel",
          "state": {
            "_view_name": "StyleView",
            "_model_name": "ProgressStyleModel",
            "description_width": "initial",
            "_view_module": "@jupyter-widgets/base",
            "_model_module_version": "1.5.0",
            "_view_count": null,
            "_view_module_version": "1.2.0",
            "bar_color": null,
            "_model_module": "@jupyter-widgets/controls"
          }
        },
        "af549c0f73c84274b51134076f976fdc": {
          "model_module": "@jupyter-widgets/base",
          "model_name": "LayoutModel",
          "state": {
            "_view_name": "LayoutView",
            "grid_template_rows": null,
            "right": null,
            "justify_content": null,
            "_view_module": "@jupyter-widgets/base",
            "overflow": null,
            "_model_module_version": "1.2.0",
            "_view_count": null,
            "flex_flow": null,
            "width": null,
            "min_width": null,
            "border": null,
            "align_items": null,
            "bottom": null,
            "_model_module": "@jupyter-widgets/base",
            "top": null,
            "grid_column": null,
            "overflow_y": null,
            "overflow_x": null,
            "grid_auto_flow": null,
            "grid_area": null,
            "grid_template_columns": null,
            "flex": "2",
            "_model_name": "LayoutModel",
            "justify_items": null,
            "grid_row": null,
            "max_height": null,
            "align_content": null,
            "visibility": null,
            "align_self": null,
            "height": null,
            "min_height": null,
            "padding": null,
            "grid_auto_rows": null,
            "grid_gap": null,
            "max_width": null,
            "order": null,
            "_view_module_version": "1.2.0",
            "grid_template_areas": null,
            "object_position": null,
            "object_fit": null,
            "grid_auto_columns": null,
            "margin": null,
            "display": null,
            "left": null
          }
        },
        "b6e22f3144c64a2e8a8a198caaccbefb": {
          "model_module": "@jupyter-widgets/controls",
          "model_name": "DescriptionStyleModel",
          "state": {
            "_view_name": "StyleView",
            "_model_name": "DescriptionStyleModel",
            "description_width": "",
            "_view_module": "@jupyter-widgets/base",
            "_model_module_version": "1.5.0",
            "_view_count": null,
            "_view_module_version": "1.2.0",
            "_model_module": "@jupyter-widgets/controls"
          }
        },
        "fe74b5654ac54d7992f2d820a8c70960": {
          "model_module": "@jupyter-widgets/base",
          "model_name": "LayoutModel",
          "state": {
            "_view_name": "LayoutView",
            "grid_template_rows": null,
            "right": null,
            "justify_content": null,
            "_view_module": "@jupyter-widgets/base",
            "overflow": null,
            "_model_module_version": "1.2.0",
            "_view_count": null,
            "flex_flow": null,
            "width": null,
            "min_width": null,
            "border": null,
            "align_items": null,
            "bottom": null,
            "_model_module": "@jupyter-widgets/base",
            "top": null,
            "grid_column": null,
            "overflow_y": null,
            "overflow_x": null,
            "grid_auto_flow": null,
            "grid_area": null,
            "grid_template_columns": null,
            "flex": null,
            "_model_name": "LayoutModel",
            "justify_items": null,
            "grid_row": null,
            "max_height": null,
            "align_content": null,
            "visibility": null,
            "align_self": null,
            "height": null,
            "min_height": null,
            "padding": null,
            "grid_auto_rows": null,
            "grid_gap": null,
            "max_width": null,
            "order": null,
            "_view_module_version": "1.2.0",
            "grid_template_areas": null,
            "object_position": null,
            "object_fit": null,
            "grid_auto_columns": null,
            "margin": null,
            "display": null,
            "left": null
          }
        }
      }
    },
    "accelerator": "GPU"
  },
  "cells": [
    {
      "cell_type": "markdown",
      "metadata": {
        "id": "huixWaL42uZi",
        "colab_type": "text"
      },
      "source": [
        "The validation scheme is based on [seq2seq-rnn-with-gru](https://www.kaggle.com/brandenkmurray/seq2seq-rnn-with-gru/output), and cleaned data is from [data-without-drift](https://www.kaggle.com/cdeotte/data-without-drift) and Kalman filter is from [https://www.kaggle.com/teejmahal20/single-model-lgbm-kalman-filter](single-model-lgbm-kalman-filter) and the added feature is from [wavenet-with-1-more-feature](wavenet-with-1-more-feature). I also used ragnar's data in this version [clean-kalman](https://www.kaggle.com/ragnar123/clean-kalman). The Wavenet is based on [https://github.com/philipperemy/keras-tcn](https://github.com/philipperemy/keras-tcn), [https://github.com/peustr/wavenet](https://github.com/peustr/wavenet) and [https://github.com/basveeling/wavenet](https://github.com/basveeling/wavenet) and also [https://www.kaggle.com/wimwim/wavenet-lstm](https://www.kaggle.com/wimwim/wavenet-lstm). If any refrence is not mentioned it was not intentional, please add them in comments.\n",
        "\n",
        "Previous versions were mainly based on [https://www.kaggle.com/wimwim/wavenet-lstm](https://www.kaggle.com/wimwim/wavenet-lstm)  "
      ]
    },
    {
      "cell_type": "code",
      "metadata": {
        "id": "sCEKkXoRPR-k",
        "colab_type": "code",
        "outputId": "1a40304d-a761-48ef-cd24-dd30e1363f7b",
        "colab": {
          "base_uri": "https://localhost:8080/",
          "height": 306
        }
      },
      "source": [
        "gpu_info = !nvidia-smi\n",
        "gpu_info = '\\n'.join(gpu_info)\n",
        "if gpu_info.find('failed') >= 0:\n",
        "  print('Select the Runtime → \"Change runtime type\" menu to enable a GPU accelerator, ')\n",
        "  print('and then re-execute this cell.')\n",
        "else:\n",
        "  print(gpu_info)"
      ],
      "execution_count": 0,
      "outputs": [
        {
          "output_type": "stream",
          "text": [
            "Thu Apr 16 22:34:56 2020       \n",
            "+-----------------------------------------------------------------------------+\n",
            "| NVIDIA-SMI 440.64.00    Driver Version: 418.67       CUDA Version: 10.1     |\n",
            "|-------------------------------+----------------------+----------------------+\n",
            "| GPU  Name        Persistence-M| Bus-Id        Disp.A | Volatile Uncorr. ECC |\n",
            "| Fan  Temp  Perf  Pwr:Usage/Cap|         Memory-Usage | GPU-Util  Compute M. |\n",
            "|===============================+======================+======================|\n",
            "|   0  Tesla P100-PCIE...  Off  | 00000000:00:04.0 Off |                    0 |\n",
            "| N/A   39C    P0    27W / 250W |      0MiB / 16280MiB |      0%      Default |\n",
            "+-------------------------------+----------------------+----------------------+\n",
            "                                                                               \n",
            "+-----------------------------------------------------------------------------+\n",
            "| Processes:                                                       GPU Memory |\n",
            "|  GPU       PID   Type   Process name                             Usage      |\n",
            "|=============================================================================|\n",
            "|  No running processes found                                                 |\n",
            "+-----------------------------------------------------------------------------+\n"
          ],
          "name": "stdout"
        }
      ]
    },
    {
      "cell_type": "code",
      "metadata": {
        "ExecuteTime": {
          "end_time": "2020-04-11T02:14:24.121605Z",
          "start_time": "2020-04-11T02:14:22.792317Z"
        },
        "_kg_hide-input": true,
        "id": "LqmWjeYJ2uZn",
        "trusted": true,
        "colab_type": "code",
        "colab": {}
      },
      "source": [
        "!pip install --no-warn-conflicts -q tensorflow-addons"
      ],
      "execution_count": 0,
      "outputs": []
    },
    {
      "cell_type": "code",
      "metadata": {
        "ExecuteTime": {
          "end_time": "2020-04-11T02:14:24.152214Z",
          "start_time": "2020-04-11T02:14:24.125295Z"
        },
        "_cell_guid": "b1076dfc-b9ad-4769-8c92-a6c4dae69d19",
        "_uuid": "8f2839f25d086af736a60e9eeb907d3b93b6e0e5",
        "id": "y1qOuodBfSxN",
        "trusted": true,
        "colab_type": "code",
        "colab": {}
      },
      "source": [
        "from tensorflow.keras.layers import (TimeDistributed, Dropout, BatchNormalization, Flatten, Convolution1D, Activation, Input, Dense, LSTM, Lambda, Bidirectional,\n",
        "                                     Add, AveragePooling1D, Multiply, GRU, GRUCell, LSTMCell, SimpleRNNCell, SimpleRNN, TimeDistributed, RNN,\n",
        "                                     RepeatVector, Conv1D, MaxPooling1D, Concatenate, GlobalAveragePooling1D, UpSampling1D)\n",
        "from tensorflow.keras.callbacks import ModelCheckpoint, EarlyStopping, Callback, ReduceLROnPlateau, LearningRateScheduler, CSVLogger\n",
        "from tensorflow.keras.losses import binary_crossentropy, categorical_crossentropy, mean_squared_error\n",
        "# from tensorflow.keras.experimental import export_saved_model, load_from_saved_model\n",
        "from tensorflow.keras.optimizers import Adam, RMSprop, SGD\n",
        "from tensorflow.keras.utils import Sequence, to_categorical\n",
        "from tensorflow.keras import losses, models, optimizers\n",
        "from tensorflow.keras import backend as K\n",
        "from tensorflow.python.ops import array_ops\n",
        "import tensorflow as tf\n",
        "from typing import List, NoReturn, Union, Tuple, Optional, Text, Generic, Callable, Dict\n",
        "from sklearn.metrics import f1_score, cohen_kappa_score, mean_squared_error\n",
        "from logging import getLogger, Formatter, StreamHandler, FileHandler, INFO, DEBUG, NOTSET\n",
        "from sklearn.model_selection import KFold, GroupKFold\n",
        "from tqdm import tqdm_notebook as tqdm\n",
        "from contextlib import contextmanager\n",
        "from joblib import Parallel, delayed\n",
        "from IPython.display import display\n",
        "from sklearn import preprocessing\n",
        "from sklearn.utils import class_weight\n",
        "import tensorflow_addons as tfa\n",
        "import scipy.stats as stats\n",
        "import random as rn\n",
        "import pandas as pd\n",
        "import numpy as np\n",
        "import scipy as sp\n",
        "import itertools\n",
        "import warnings\n",
        "import time\n",
        "import pywt\n",
        "import os\n",
        "import gc\n",
        "\n",
        "from tensorflow.keras.metrics import Precision, Recall\n",
        "# from tensorflow_addons.metrics import F1Score\n",
        "\n",
        "warnings.simplefilter('ignore')\n",
        "warnings.filterwarnings('ignore')\n",
        "pd.set_option('display.max_columns', 1000)\n",
        "pd.set_option('display.max_rows', 500)\n",
        "%matplotlib inline"
      ],
      "execution_count": 0,
      "outputs": []
    },
    {
      "cell_type": "code",
      "metadata": {
        "trusted": true,
        "id": "zcAdwMGxAHn9",
        "colab_type": "code",
        "colab": {}
      },
      "source": [
        "Kaggle = False\n",
        "Colab = True"
      ],
      "execution_count": 0,
      "outputs": []
    },
    {
      "cell_type": "code",
      "metadata": {
        "id": "LC8XqE14cSRm",
        "outputId": "d3b052c0-1c49-4f20-ddbe-a1a039432a79",
        "trusted": true,
        "colab_type": "code",
        "colab": {
          "base_uri": "https://localhost:8080/",
          "height": 34
        }
      },
      "source": [
        "import os, sys\n",
        "from pathlib import Path\n",
        "\n",
        "if Colab:\n",
        "    from google.colab import drive\n",
        "    drive.mount('/content/drive')\n",
        "\n",
        "    path = \"/content/drive/My Drive\"\n",
        "\n",
        "    os.chdir(path)\n",
        "    os.listdir(path)"
      ],
      "execution_count": 0,
      "outputs": [
        {
          "output_type": "stream",
          "text": [
            "Drive already mounted at /content/drive; to attempt to forcibly remount, call drive.mount(\"/content/drive\", force_remount=True).\n"
          ],
          "name": "stdout"
        }
      ]
    },
    {
      "cell_type": "code",
      "metadata": {
        "id": "M-sYfdXdWyTI",
        "trusted": true,
        "colab_type": "code",
        "colab": {}
      },
      "source": [
        "# sys.path.append('ion_switch/keras-one-cycle')\n",
        "# # os.listdir(patholr)\n",
        "# from clr import OneCycleLR"
      ],
      "execution_count": 0,
      "outputs": []
    },
    {
      "cell_type": "code",
      "metadata": {
        "ExecuteTime": {
          "end_time": "2020-04-11T02:14:24.159766Z",
          "start_time": "2020-04-11T02:14:24.155918Z"
        },
        "trusted": true,
        "id": "zdosugVWcOf0",
        "colab_type": "code",
        "colab": {}
      },
      "source": [
        "if Kaggle:\n",
        "    PATH = '/kaggle/input/'\n",
        "    outdir = '.'\n",
        "# PATH = '/Users/helen/Desktop/Data/'\n",
        "else:\n",
        "    PATH = 'ion_switch/'\n",
        "    outdir = Path(PATH+'res')\n",
        "    if not os.path.exists(outdir):\n",
        "        os.mkdir(outdir)\n",
        "    outdir = Path(PATH+'res/wavenet-clr-res')\n",
        "    if not os.path.exists(outdir):\n",
        "        os.mkdir(outdir)"
      ],
      "execution_count": 0,
      "outputs": []
    },
    {
      "cell_type": "code",
      "metadata": {
        "ExecuteTime": {
          "end_time": "2020-04-11T02:14:24.168634Z",
          "start_time": "2020-04-11T02:14:24.163612Z"
        },
        "id": "UafJMtyefSxU",
        "trusted": true,
        "colab_type": "code",
        "colab": {}
      },
      "source": [
        "EPOCHS=150\n",
        "NNBATCHSIZE=20\n",
        "BATCHSIZE = 4000\n",
        "SEED = 321\n",
        "SELECT = True\n",
        "SPLITS = 5\n",
        "LR = 0.001\n",
        "Gamma = 1.0 #0.99994\n",
        "BETA = 0.99996\n",
        "fe_config = [\n",
        "    (True, BATCHSIZE),\n",
        "]\n",
        "\n",
        "COMPETITION = 'ION-Switching'\n",
        "logger = getLogger(COMPETITION)\n",
        "LOGFORMAT = '%(asctime)s %(levelname)s %(message)s'\n",
        "MODELNAME = 'WaveNet-CLR-FOCALLOSS-5fd-df2'\n",
        "\n",
        "TRAINEDMODEL = os.path.join(outdir, 'wavenet-es-v1/wavenet_es_f0_checkpoint.h5')\n",
        "\n",
        "VERSION = '{}_len{}_lr{}'.format(MODELNAME, BATCHSIZE, LR)\n",
        "outdir = os.path.join(outdir, VERSION)\n",
        "if not os.path.exists(outdir):\n",
        "    os.mkdir(outdir)\n",
        "\n",
        "from datetime import datetime\n",
        "dateTimeObj = datetime.now()\n",
        "timestampStr = dateTimeObj.strftime(\"%d-%b-%Y-%H\")\n",
        "\n",
        "outdir = os.path.join(outdir, timestampStr)\n",
        "if not os.path.exists(outdir):\n",
        "    os.mkdir(outdir)"
      ],
      "execution_count": 0,
      "outputs": []
    },
    {
      "cell_type": "code",
      "metadata": {
        "id": "fouKVpNaFNKQ",
        "trusted": true,
        "colab_type": "code",
        "colab": {}
      },
      "source": [
        "\n",
        "@contextmanager\n",
        "def timer(name : Text):\n",
        "    t0 = time.time()\n",
        "    yield\n",
        "    logger.info(f'[{name}] done in {time.time() - t0:.0f} s')"
      ],
      "execution_count": 0,
      "outputs": []
    },
    {
      "cell_type": "code",
      "metadata": {
        "ExecuteTime": {
          "end_time": "2020-04-11T02:14:24.177661Z",
          "start_time": "2020-04-11T02:14:24.171732Z"
        },
        "id": "EE4v8h1tfSxb",
        "trusted": true,
        "colab_type": "code",
        "colab": {}
      },
      "source": [
        "\n",
        "def init_logger():\n",
        "\n",
        "    handler = StreamHandler()\n",
        "    handler.setLevel(INFO)\n",
        "    handler.setFormatter(Formatter(LOGFORMAT))\n",
        "    fh_handler = FileHandler(os.path.join(outdir,'{}-len{}-lr{}-{}.log'.format(MODELNAME,BATCHSIZE,LR,timestampStr)))\n",
        "    fh_handler.setFormatter(Formatter(LOGFORMAT))\n",
        "    logger.setLevel(INFO)\n",
        "    logger.addHandler(handler)\n",
        "    logger.addHandler(fh_handler)\n",
        "    "
      ],
      "execution_count": 0,
      "outputs": []
    },
    {
      "cell_type": "code",
      "metadata": {
        "ExecuteTime": {
          "end_time": "2020-04-11T02:14:24.358957Z",
          "start_time": "2020-04-11T02:14:24.187096Z"
        },
        "id": "OC5DOcDifSxx",
        "trusted": true,
        "colab_type": "code",
        "colab": {}
      },
      "source": [
        "\n",
        "def seed_everything(seed : int) -> NoReturn :\n",
        "    \n",
        "    rn.seed(seed)\n",
        "    np.random.seed(seed)\n",
        "    os.environ['PYTHONHASHSEED'] = str(seed)\n",
        "    tf.random.set_seed(seed)\n",
        "    # os.environ['TF_CUDNN_DETERMINISTIC'] = str(seed) \n",
        "\n",
        "seed_everything(SEED)"
      ],
      "execution_count": 0,
      "outputs": []
    },
    {
      "cell_type": "code",
      "metadata": {
        "id": "5tInVDxBn-lQ",
        "trusted": true,
        "colab_type": "code",
        "colab": {}
      },
      "source": [
        "class CyclicLR(tf.keras.callbacks.Callback):\n",
        "\n",
        "    def __init__(self, base_lr=0.001, max_lr=0.006, step_size=2000., mode='triangular',\n",
        "                 gamma=1., scale_fn=None, scale_mode='cycle'):\n",
        "        super(CyclicLR, self).__init__()\n",
        "\n",
        "        self.base_lr = base_lr\n",
        "        self.max_lr = max_lr\n",
        "        self.step_size = step_size\n",
        "        self.mode = mode\n",
        "        self.gamma = gamma\n",
        "        if scale_fn == None:\n",
        "            if self.mode == 'triangular':\n",
        "                self.scale_fn = lambda x: 1.\n",
        "                self.scale_mode = 'cycle'\n",
        "            elif self.mode == 'triangular2':\n",
        "                self.scale_fn = lambda x: 1 / (2. ** (x - 1))\n",
        "                self.scale_mode = 'cycle'\n",
        "            elif self.mode == 'exp_range':\n",
        "                self.scale_fn = lambda x: gamma ** (x)\n",
        "                self.scale_mode = 'iterations'\n",
        "        else:\n",
        "            self.scale_fn = scale_fn\n",
        "            self.scale_mode = scale_mode\n",
        "        self.clr_iterations = 0.\n",
        "        self.trn_iterations = 0.\n",
        "        self.history = {}\n",
        "\n",
        "        self._reset()\n",
        "\n",
        "    def _reset(self, new_base_lr=None, new_max_lr=None,\n",
        "               new_step_size=None):\n",
        "        \"\"\"Resets cycle iterations.\n",
        "        Optional boundary/step size adjustment.\n",
        "        \"\"\"\n",
        "        if new_base_lr != None:\n",
        "            self.base_lr = new_base_lr\n",
        "        if new_max_lr != None:\n",
        "            self.max_lr = new_max_lr\n",
        "        if new_step_size != None:\n",
        "            self.step_size = new_step_size\n",
        "        self.clr_iterations = 0.\n",
        "\n",
        "    def clr(self):\n",
        "        cycle = np.floor(1 + self.clr_iterations / (2 * self.step_size))\n",
        "        x = np.abs(self.clr_iterations / self.step_size - 2 * cycle + 1)\n",
        "        if self.scale_mode == 'cycle':\n",
        "            return self.base_lr + (self.max_lr - self.base_lr) * np.maximum(0, (1 - x)) * self.scale_fn(cycle)\n",
        "        else:\n",
        "            return self.base_lr + (self.max_lr - self.base_lr) * np.maximum(0, (1 - x)) * self.scale_fn(\n",
        "                self.clr_iterations)\n",
        "\n",
        "    def on_train_begin(self, logs={}):\n",
        "        logs = logs or {}\n",
        "\n",
        "        if self.clr_iterations == 0:\n",
        "            K.set_value(self.model.optimizer.lr, self.base_lr)\n",
        "        else:\n",
        "            K.set_value(self.model.optimizer.lr, self.clr())\n",
        "\n",
        "    def on_batch_end(self, epoch, logs=None):\n",
        "\n",
        "        logs = logs or {}\n",
        "        self.trn_iterations += 1\n",
        "        self.clr_iterations += 1\n",
        "\n",
        "        K.set_value(self.model.optimizer.lr, self.clr())\n",
        "        # print(\"learning rate- self.model.optimizer.lr: \", self.model.optimizer.lr)\n",
        "\n",
        "    # def on_epoch_end(self, epoch, logs=None):\n",
        "\n",
        "    #     logs = logs or {}\n",
        "    #     self.trn_iterations += 1\n",
        "    #     self.clr_iterations += 1\n",
        "\n",
        "    #     K.set_value(self.model.optimizer.lr, self.clr())\n",
        "    #     logger.info(f'epoch:{epoch:03d},'+str(K.eval(self.model.optimizer.lr)))"
      ],
      "execution_count": 0,
      "outputs": []
    },
    {
      "cell_type": "code",
      "metadata": {
        "id": "fmKgNg1Mmzrk",
        "trusted": true,
        "colab_type": "code",
        "colab": {}
      },
      "source": [
        "import matplotlib.pyplot as plt\n",
        "\n",
        "# 写一个LossHistory类，保存训练集的loss和acc\n",
        "# 当然我也可以完全不这么做，可以直接使用model.fit()方法返回的 history对象去做\n",
        "'''Callback有6个常用的方法，这里实现其中的四个\n",
        "    def on_epoch_begin(self, epoch, logs=None):\n",
        "    def on_epoch_end(self, epoch, logs=None):\n",
        "    def on_batch_begin(self, batch, logs=None):\n",
        "    def on_batch_end(self, batch, logs=None):\n",
        "    def on_train_begin(self, logs=None):\n",
        "    def on_train_end(self, logs=None):\n",
        "'''\n",
        "class LossHistory(Callback):  # 继承自Callback类\n",
        " \n",
        "    '''\n",
        "    在模型开始的时候定义四个属性，每一个属性都是字典类型，存储相对应的值和epoch\n",
        "    '''\n",
        "    def on_train_begin(self, logs={}):\n",
        "        self.losses = {'batch':[], 'epoch':[]}\n",
        "        self.accuracy = {'batch':[], 'epoch':[]}\n",
        "        self.val_loss = {'batch':[], 'epoch':[]}\n",
        "        self.val_acc = {'batch':[], 'epoch':[]}\n",
        " \n",
        "    # 在每一个batch结束后记录相应的值\n",
        "    def on_batch_end(self, batch, logs={}):\n",
        "        self.losses['batch'].append(logs.get('loss'))\n",
        "        self.accuracy['batch'].append(logs.get('accuracy'))\n",
        "        self.val_loss['batch'].append(logs.get('val_loss'))\n",
        "        self.val_acc['batch'].append(logs.get('val_accuracy'))\n",
        "    \n",
        "    # 在每一个epoch之后记录相应的值\n",
        "    def on_epoch_end(self, epoch, logs={}):\n",
        "        trloss, tracc, vloss, vacc = logs.get('loss'), logs.get('accuracy'), logs.get('val_loss'), logs.get('val_accuracy')\n",
        "        self.losses['epoch'].append(trloss)\n",
        "        self.accuracy['epoch'].append(tracc)\n",
        "        self.val_loss['epoch'].append(vloss)\n",
        "        self.val_acc['epoch'].append(vacc)\n",
        "        logger.info(\"epoch:{:03d}, train_loss:{:1.5f}, train_acc:{:1.5f}, val_loss:{:1.5f}, val_acc:{:1.5f}\".format(epoch, \n",
        "                                                                                                                trloss, tracc, vloss, vacc))\n",
        " \n",
        "    def loss_plot(self, loss_type, pngname):\n",
        "        '''\n",
        "        loss_type：指的是 'epoch'或者是'batch'，分别表示是一个batch之后记录还是一个epoch之后记录\n",
        "        '''\n",
        "        iters = range(len(self.losses[loss_type]))\n",
        "        plt.figure()\n",
        "        # acc\n",
        "        plt.plot(iters, self.accuracy[loss_type], 'r', label='train acc')\n",
        "        # loss\n",
        "        plt.plot(iters, self.losses[loss_type], 'g', label='train loss')\n",
        "        if loss_type == 'epoch':\n",
        "            # val_acc\n",
        "            plt.plot(iters, self.val_acc[loss_type], 'b', label='val acc')\n",
        "            # val_loss\n",
        "            plt.plot(iters, self.val_loss[loss_type], 'k', label='val loss')\n",
        "        plt.grid(True)\n",
        "        plt.xlabel(loss_type)\n",
        "        plt.ylabel('acc-loss')\n",
        "        plt.legend(loc=\"upper right\")\n",
        "        plt.savefig(pngname)\n",
        "        plt.show()"
      ],
      "execution_count": 0,
      "outputs": []
    },
    {
      "cell_type": "code",
      "metadata": {
        "ExecuteTime": {
          "end_time": "2020-04-11T02:14:24.368249Z",
          "start_time": "2020-04-11T02:14:24.362616Z"
        },
        "id": "adUHGQUTfSyA",
        "trusted": true,
        "colab_type": "code",
        "colab": {}
      },
      "source": [
        "\n",
        "def read_data(base : os.path.abspath) -> Tuple[pd.DataFrame, pd.DataFrame, pd.DataFrame]:\n",
        "    \n",
        "    train = pd.read_csv(PATH+'clean-kalman/train_clean_kalman.csv', dtype={'time': np.float32, 'signal': np.float32, 'open_channels':np.int32})\n",
        "    test  = pd.read_csv(PATH+'clean-kalman/test_clean_kalman.csv', dtype={'time': np.float32, 'signal': np.float32})\n",
        "    sub  = pd.read_csv(PATH+'liverpool-ion-switching/sample_submission.csv', dtype={'time': np.float32})\n",
        "    \n",
        "    return train, test, sub\n"
      ],
      "execution_count": 0,
      "outputs": []
    },
    {
      "cell_type": "code",
      "metadata": {
        "ExecuteTime": {
          "end_time": "2020-04-11T02:14:24.376185Z",
          "start_time": "2020-04-11T02:14:24.371687Z"
        },
        "id": "HpDaJQ5yfSyI",
        "trusted": true,
        "colab_type": "code",
        "colab": {}
      },
      "source": [
        "\n",
        "def batching(df : pd.DataFrame,\n",
        "             batch_size : int) -> pd.DataFrame :\n",
        "    \n",
        "    df['group'] = df.groupby(df.index//batch_size, sort=False)['signal'].agg(['ngroup']).values\n",
        "    df['group'] = df['group'].astype(np.uint16)\n",
        "        \n",
        "    return df\n"
      ],
      "execution_count": 0,
      "outputs": []
    },
    {
      "cell_type": "code",
      "metadata": {
        "ExecuteTime": {
          "end_time": "2020-04-11T02:14:24.391087Z",
          "start_time": "2020-04-11T02:14:24.378989Z"
        },
        "id": "iQxOYF3tfSyj",
        "trusted": true,
        "colab_type": "code",
        "colab": {}
      },
      "source": [
        "\n",
        "def reduce_mem_usage(df: pd.DataFrame,\n",
        "                     verbose: bool = True) -> pd.DataFrame:\n",
        "    \n",
        "    numerics = ['int16', 'int32', 'int64', 'float16', 'float32', 'float64']\n",
        "    start_mem = df.memory_usage().sum() / 1024**2\n",
        "\n",
        "    for col in df.columns:\n",
        "        col_type = df[col].dtypes\n",
        "\n",
        "        if col_type in numerics:\n",
        "            c_min = df[col].min()\n",
        "            c_max = df[col].max()\n",
        "\n",
        "            if str(col_type)[:3] == 'int':\n",
        "\n",
        "                if (c_min > np.iinfo(np.int32).min\n",
        "                      and c_max < np.iinfo(np.int32).max):\n",
        "                    df[col] = df[col].astype(np.int32)\n",
        "                elif (c_min > np.iinfo(np.int64).min\n",
        "                      and c_max < np.iinfo(np.int64).max):\n",
        "                    df[col] = df[col].astype(np.int64)\n",
        "            else:\n",
        "                if (c_min > np.finfo(np.float16).min\n",
        "                        and c_max < np.finfo(np.float16).max):\n",
        "                    df[col] = df[col].astype(np.float16)\n",
        "                elif (c_min > np.finfo(np.float32).min\n",
        "                      and c_max < np.finfo(np.float32).max):\n",
        "                    df[col] = df[col].astype(np.float32)\n",
        "                else:\n",
        "                    df[col] = df[col].astype(np.float64)\n",
        "\n",
        "    end_mem = df.memory_usage().sum() / 1024**2\n",
        "    reduction = (start_mem - end_mem) / start_mem\n",
        "\n",
        "    msg = f'Mem. usage decreased to {end_mem:5.2f} MB ({reduction * 100:.1f} % reduction)'\n",
        "    if verbose:\n",
        "        print(msg)\n",
        "\n",
        "    return df\n"
      ],
      "execution_count": 0,
      "outputs": []
    },
    {
      "cell_type": "code",
      "metadata": {
        "ExecuteTime": {
          "end_time": "2020-04-11T02:14:24.402186Z",
          "start_time": "2020-04-11T02:14:24.393787Z"
        },
        "id": "dytmNmL_fSzj",
        "trusted": true,
        "colab_type": "code",
        "colab": {}
      },
      "source": [
        "\n",
        "def lag_with_pct_change(df : pd.DataFrame,\n",
        "                        shift_sizes : Optional[List]=[1, 2],\n",
        "                        add_pct_change : Optional[bool]=False,\n",
        "                        add_pct_change_lag : Optional[bool]=False,\n",
        "                        add_diff : Optional[bool]=False) -> pd.DataFrame:\n",
        "    \n",
        "    for shift_size in shift_sizes:    \n",
        "        df['signal_shift_pos_'+str(shift_size)] = df.groupby('group')['signal'].shift(shift_size).fillna(0)\n",
        "        df['signal_shift_neg_'+str(shift_size)] = df.groupby('group')['signal'].shift(-1*shift_size).fillna(0)\n",
        "\n",
        "    if add_pct_change:\n",
        "        df['pct_change'] = df['signal'].pct_change()\n",
        "        if add_pct_change_lag:\n",
        "            for shift_size in shift_sizes:    \n",
        "                df['pct_change_shift_pos_'+str(shift_size)] = df.groupby('group')['pct_change'].shift(shift_size).fillna(0)\n",
        "                df['pct_change_shift_neg_'+str(shift_size)] = df.groupby('group')['pct_change'].shift(-1*shift_size).fillna(0)\n",
        "    if add_diff:\n",
        "        for c in [c1 for c1 in df.columns if c1 not in ['time', 'signal', 'open_channels', 'group', 'index']]:\n",
        "            df[c+'_msignal'] = df[c] - df['signal']\n",
        "    return df\n"
      ],
      "execution_count": 0,
      "outputs": []
    },
    {
      "cell_type": "code",
      "metadata": {
        "ExecuteTime": {
          "end_time": "2020-04-11T02:14:24.409381Z",
          "start_time": "2020-04-11T02:14:24.404800Z"
        },
        "id": "m-ULWLF_fS0B",
        "trusted": true,
        "colab_type": "code",
        "colab": {}
      },
      "source": [
        "\n",
        "def run_feat_enginnering(df : pd.DataFrame,\n",
        "                         create_all_data_feats : bool,\n",
        "                         batch_size : int) -> pd.DataFrame:\n",
        "    \n",
        "    df = batching(df, batch_size=batch_size)\n",
        "    if create_all_data_feats:\n",
        "        df = lag_with_pct_change(df, [1, 2, 3, 11, 15],  add_pct_change=False, add_pct_change_lag=False, add_diff=True)\n",
        "    df['signal_2'] = df['signal'] ** 2\n",
        "    return df\n"
      ],
      "execution_count": 0,
      "outputs": []
    },
    {
      "cell_type": "code",
      "metadata": {
        "ExecuteTime": {
          "end_time": "2020-04-11T02:14:24.419991Z",
          "start_time": "2020-04-11T02:14:24.412368Z"
        },
        "id": "6E87jcu2fS0O",
        "trusted": true,
        "colab_type": "code",
        "colab": {}
      },
      "source": [
        "def feature_selection(df : pd.DataFrame,\n",
        "                      df_test : pd.DataFrame) -> Tuple[pd.DataFrame , pd.DataFrame, List]:\n",
        "    use_cols = [col for col in df.columns if col not in ['index','group', 'open_channels', 'time']]\n",
        "    print(use_cols)\n",
        "    df = df.replace([np.inf, -np.inf], np.nan)\n",
        "    df_test = df_test.replace([np.inf, -np.inf], np.nan)\n",
        "    for col in use_cols:\n",
        "        col_mean = pd.concat([df[col], df_test[col]], axis=0).mean()\n",
        "        df[col] = df[col].fillna(col_mean)\n",
        "        df_test[col] = df_test[col].fillna(col_mean)\n",
        "   \n",
        "    gc.collect()\n",
        "    return df, df_test, use_cols\n"
      ],
      "execution_count": 0,
      "outputs": []
    },
    {
      "cell_type": "code",
      "metadata": {
        "ExecuteTime": {
          "end_time": "2020-04-11T02:14:24.427483Z",
          "start_time": "2020-04-11T02:14:24.422535Z"
        },
        "trusted": true,
        "id": "Ft7_2jVZcOgQ",
        "colab_type": "code",
        "colab": {}
      },
      "source": [
        "\n",
        "def augment(X: np.array, y:np.array) -> Tuple[np.array, np.array]:\n",
        "    \n",
        "    X = np.vstack((X, np.flip(X, axis=1)))\n",
        "    y = np.vstack((y, np.flip(y, axis=1)))\n",
        "    \n",
        "    return X, y"
      ],
      "execution_count": 0,
      "outputs": []
    },
    {
      "cell_type": "code",
      "metadata": {
        "ExecuteTime": {
          "end_time": "2020-04-11T02:14:24.432964Z",
          "start_time": "2020-04-11T02:14:24.430264Z"
        },
        "trusted": true,
        "id": "Y-nODxu7cOgS",
        "colab_type": "code",
        "colab": {}
      },
      "source": [
        "# Add ops to save and restore all the variables.\n",
        "# saver = tf.train.Saver()"
      ],
      "execution_count": 0,
      "outputs": []
    },
    {
      "cell_type": "code",
      "metadata": {
        "ExecuteTime": {
          "end_time": "2020-04-11T02:14:24.438940Z",
          "start_time": "2020-04-11T02:14:24.436211Z"
        },
        "trusted": true,
        "id": "VRzoz-eacOgU",
        "colab_type": "code",
        "colab": {}
      },
      "source": [
        "# # %% [code] {\"ExecuteTime\":{\"end_time\":\"2020-04-03T23:24:41.652529Z\",\"start_time\":\"2020-04-03T23:24:41.645025Z\"}}\n",
        "# class EarlyStopping:\n",
        "#     def __init__(self, patience=5, delta=0, checkpoint_path='checkpoint.pt', is_maximize=True):\n",
        "#         self.patience, self.delta, self.checkpoint_path = patience, delta, checkpoint_path\n",
        "#         self.counter, self.best_score = 0, None\n",
        "#         self.is_maximize = is_maximize\n",
        "\n",
        "#     def load_best_weights(self, sess):\n",
        "#         saver.restore(sess, self.checkpoint_path)\n",
        "\n",
        "#     def __call__(self, score, sess):\n",
        "#         if self.best_score is None or \\\n",
        "#         (score > self.best_score + self.delta if self.is_maximize else score < self.best_score - self.delta):\n",
        "#             saver.save(sess, self.checkpoint_path)\n",
        "#             self.best_score, self.counter = score, 0\n",
        "#         else:\n",
        "#             self.counter += 1\n",
        "#             if self.counter >= self.patience:\n",
        "#                 return True\n",
        "#         return False"
      ],
      "execution_count": 0,
      "outputs": []
    },
    {
      "cell_type": "code",
      "metadata": {
        "id": "e6l0nc-llBdy",
        "trusted": true,
        "colab_type": "code",
        "colab": {}
      },
      "source": [
        ""
      ],
      "execution_count": 0,
      "outputs": []
    },
    {
      "cell_type": "code",
      "metadata": {
        "ExecuteTime": {
          "end_time": "2020-04-11T02:14:24.477074Z",
          "start_time": "2020-04-11T02:14:24.441269Z"
        },
        "code_folding": [],
        "id": "e4QulGxHfS0n",
        "trusted": true,
        "colab_type": "code",
        "colab": {}
      },
      "source": [
        "\n",
        "def run_cv_model_by_batch(train : pd.DataFrame,\n",
        "                          test : pd.DataFrame,\n",
        "                          splits : int,\n",
        "                          batch_col : Text,\n",
        "                          feats : List,\n",
        "                          sample_submission: pd.DataFrame,\n",
        "                          nn_epochs : int,\n",
        "                          nn_batch_size : int) -> NoReturn:\n",
        "    seed_everything(SEED)\n",
        "    K.clear_session()\n",
        "    if not os.path.exists(outdir):\n",
        "      os.mkdir(outdir)\n",
        "    print(outdir)\n",
        "    config = tf.compat.v1.ConfigProto(intra_op_parallelism_threads=1,inter_op_parallelism_threads=1)\n",
        "    sess = tf.compat.v1.Session(graph=tf.compat.v1.get_default_graph(), config=config)\n",
        "    tf.compat.v1.keras.backend.set_session(sess)\n",
        "    oof_ = np.zeros((len(train), 11))\n",
        "    preds_ = np.zeros((len(test), 11))\n",
        "    target = ['open_channels']\n",
        "    group = train['group']\n",
        "    kf = GroupKFold(n_splits=5)\n",
        "    splits = [x for x in kf.split(train, train[target], group)]\n",
        "\n",
        "    new_splits = []\n",
        "    for sp in splits:\n",
        "        new_split = []\n",
        "        new_split.append(np.unique(group[sp[0]]))\n",
        "        new_split.append(np.unique(group[sp[1]]))\n",
        "        new_split.append(sp[1])    \n",
        "        new_splits.append(new_split)\n",
        "\n",
        "    # Calculate the weights for each class so that we can balance the data\n",
        "    weights_ = class_weight.compute_class_weight('balanced',\n",
        "                                                np.unique(train.open_channels),\n",
        "                                                train.open_channels)\n",
        "    print(\"weights_:\", weights_)\n",
        "\n",
        "    nums_ = train.open_channels.value_counts(sort=False)\n",
        "    print(\"nums_:\", nums_)\n",
        "    beta = BETA\n",
        "    effective_num = 1.0 - np.power(beta, nums_)\n",
        "    weights = (1.0 - beta) / np.array(effective_num)\n",
        "    cb_weights_ = weights / np.sum(weights) * 11\n",
        "    print(\"cb_weights_:\", cb_weights_)   \n",
        "        \n",
        "    tr = pd.concat([pd.get_dummies(train.open_channels), train[['group']]], axis=1)\n",
        "\n",
        "    tr.columns = ['target_'+str(i) for i in range(11)] + ['group']\n",
        "    # print(tr.head())\n",
        "    target_cols = ['target_'+str(i) for i in range(11)]\n",
        "    train_tr = np.array(list(tr.groupby('group').apply(lambda x: x[target_cols].values))).astype(np.float32)\n",
        "#     print(np.shape(train_tr))\n",
        "    train = np.array(list(train.groupby('group').apply(lambda x: x[feats].values)))\n",
        "#     print(np.shape(train))\n",
        "    test = np.array(list(test.groupby('group').apply(lambda x: x[feats].values)))\n",
        "#     print(np.shape(test))\n",
        "\n",
        "    for n_fold, (tr_idx, val_idx, val_orig_idx) in enumerate(new_splits[0:], start=0):\n",
        "        sub_dir = os.path.join(outdir,\"{}_fold\".format(n_fold))\n",
        "        if n_fold > 0:\n",
        "            break\n",
        "        if not os.path.exists(sub_dir):\n",
        "            os.mkdir(sub_dir)\n",
        "        \n",
        "        train_x, train_y = train[tr_idx], train_tr[tr_idx]\n",
        "        valid_x, valid_y = train[val_idx], train_tr[val_idx]\n",
        "        \n",
        "        # if n_fold < 2:\n",
        "        train_x, train_y = augment(train_x, train_y)\n",
        "\n",
        "        gc.collect()\n",
        "        shape_ = (None, train_x.shape[2])\n",
        "        model = ClassifierW(shape_, cb_weights_)\n",
        "        print(\"model initilization done!\")\n",
        "        # cb_lr_schedule = LearningRateScheduler(lr_schedule)\n",
        "        cb_clr = CyclicLR(base_lr=1e-7, max_lr = LR, step_size= int(1.0*(train.shape[0])/(nn_batch_size*4)) , \n",
        "                          mode='exp_range', gamma=Gamma, scale_fn=None, scale_mode='cycle')\n",
        "        cb_prg = tfa.callbacks.TQDMProgressBar(leave_epoch_progress=False,leave_overall_progress=False, \n",
        "                                               show_epoch_progress=False,show_overall_progress=True)\n",
        "        # cb_csv_logger= CSVLogger(os.path.join(sub_dir,'res.csv'))\n",
        "        # cb_history = LossHistory()  # 这里是使用自定义的Callback回调函数，当然本身fit函数也会返回一个history可供使用\n",
        "        \n",
        "        if Kaggle:\n",
        "            save_checkpoint_path = os.path.join(sub_dir,'checkpoint-modelonly-{}.h5'.format(n_fold))\n",
        "            save_finalmodel_path = os.path.join(sub_dir,'fmodel-modelonly-{}.h5'.format(n_fold))\n",
        "            save_bestf1macro_path = os.path.join(sub_dir,'checkpoint-{}.h5'.format(n_fold)) \n",
        "            cp_callback = tf.keras.callbacks.ModelCheckpoint(filepath=save_checkpoint_path,\n",
        "                                                 monitor='val_get_f1',\n",
        "                                                 mode = 'max',            \n",
        "                                                 save_weights_only=True,\n",
        "                                                 save_best_only=True,           \n",
        "                                                 verbose=1)\n",
        "            history = model.fit(train_x,train_y,\n",
        "                              epochs=nn_epochs,\n",
        "                              callbacks=[cb_prg, cb_clr, cp_callback,\n",
        "                                          MacroF1ES(model, valid_x, valid_y, patience=70, delta=0, \n",
        "                                                    checkpoint_path=save_bestf1macro_path)],\n",
        "                              batch_size=nn_batch_size,\n",
        "                              verbose=1,\n",
        "                              validation_data=(valid_x,valid_y))\n",
        "        else:\n",
        "            save_checkpoint_path = os.path.join(sub_dir,'checkpoint-modelonly.h5'.format(n_fold))\n",
        "            save_finalmodel_path = os.path.join(sub_dir,'fmodel.h5'.format(n_fold))\n",
        "            save_bestf1macro_path = os.path.join(sub_dir,'checkpoint-{}.h5'.format(n_fold)) \n",
        "            history = model.fit(train_x,train_y,\n",
        "                  epochs=nn_epochs,\n",
        "                  callbacks=[cb_prg, cb_clr,\n",
        "                              MacroF1ES(model, valid_x, valid_y, patience=70, delta=0, \n",
        "                                        checkpoint_path=save_bestf1macro_path)],\n",
        "                  batch_size=nn_batch_size,\n",
        "                  verbose=1,\n",
        "                  validation_data=(valid_x,valid_y))\n",
        "\n",
        "        pd.DataFrame(history.history).to_csv(os.path.join(sub_dir,'{}-len{}-lr{}-{}-log-{}.csv'.format(MODELNAME,BATCHSIZE,LR,timestampStr, n_fold)), float_format='%.4f')\n",
        "        # print('\\nhistory dict:', history.history)\n",
        "        # cb_history.loss_plot('epoch',os.path.join(outdir,'{}_f{}.png'.format(VERSION, n_fold)))\n",
        "        model.save(save_finalmodel_path)\n",
        "        model = ClassifierW(shape_, cb_weights_)\n",
        "        if Colab:\n",
        "            model = tf.keras.models.load_model(save_bestf1macro_path, custom_objects={'Activation': tf.keras.layers.Activation, \n",
        "                                                                                     'get_f1':get_f1, 'multi_category_focal_loss2_fixed':multi_category_focal_loss2})\n",
        "            # model = tf.keras.models.load_model(save_checkpoint_path, custom_objects={'Activation': tf.keras.layers.Activation, \n",
        "            #                                                                   'get_f1':get_f1, 'loss':categorical_focal_loss})\n",
        "#             model = tf.keras.models.load_model(save_checkpoint_path, custom_objects={'Activation': tf.keras.layers.Activation, \n",
        "#                                                                             'get_f1':get_f1, 'cb_focal_loss_fixed':cb_focal_loss})\n",
        "        elif Kaggle:\n",
        "            model.load_weights(save_checkpoint_path)\n",
        "\n",
        "        preds_f = model.predict(valid_x)\n",
        "        f1_score_ = f1_score(np.argmax(valid_y, axis=2).reshape(-1),  \n",
        "                             np.argmax(preds_f, axis=2).reshape(-1), average = 'macro')\n",
        "        logger.info(f'Training fold {n_fold + 1} completed. macro f1 score : {f1_score_ :1.5f}')\n",
        "        preds_f = preds_f.reshape(-1, preds_f.shape[-1])\n",
        "        oof_[val_orig_idx,:] += preds_f\n",
        "        te_preds = model.predict(test)\n",
        "        te_preds = te_preds.reshape(-1, te_preds.shape[-1])           \n",
        "        preds_ += te_preds / SPLITS\n",
        "\n",
        "    f1_score_ =f1_score(np.argmax(train_tr, axis=2).reshape(-1),  np.argmax(oof_, axis=1), average = 'macro')\n",
        "    logger.info(f'Training completed. oof macro f1 score : {f1_score_:1.5f}')\n",
        "    sample_submission['open_channels'] = np.argmax(preds_, axis=1).astype(int)\n",
        "    sample_submission.to_csv(os.path.join(outdir,'{}_pred.csv'.format(VERSION)), index=False, float_format='%.4f')\n",
        "    display(sample_submission.head())\n",
        "    # np.save(os.path.join(outdir,'oof.npy'), oof_)\n",
        "    # np.save(os.path.join(outdir,'preds.npy'), preds_)\n",
        "\n",
        "    return \n"
      ],
      "execution_count": 0,
      "outputs": []
    },
    {
      "cell_type": "code",
      "metadata": {
        "id": "2drz7lYE0wj9",
        "trusted": true,
        "colab_type": "code",
        "colab": {}
      },
      "source": [
        ""
      ],
      "execution_count": 0,
      "outputs": []
    },
    {
      "cell_type": "code",
      "metadata": {
        "ExecuteTime": {
          "end_time": "2020-04-11T02:14:24.485692Z",
          "start_time": "2020-04-11T02:14:24.479620Z"
        },
        "id": "dqt0VJAS2ucB",
        "trusted": true,
        "colab_type": "code",
        "colab": {}
      },
      "source": [
        "def lr_schedule(epoch):\n",
        "    if epoch < 40:\n",
        "        lr = LR\n",
        "    elif epoch < 50:\n",
        "        lr = LR / 3\n",
        "    elif epoch < 60:\n",
        "        lr = LR / 6\n",
        "    elif epoch < 75:\n",
        "        lr = LR / 9\n",
        "    elif epoch < 85:\n",
        "        lr = LR / 12\n",
        "    elif epoch < 100:\n",
        "        lr = LR / 15\n",
        "    else:\n",
        "        lr = LR / 50\n",
        "    return lr"
      ],
      "execution_count": 0,
      "outputs": []
    },
    {
      "cell_type": "code",
      "metadata": {
        "id": "aaClcd8zJIyC",
        "trusted": true,
        "colab_type": "code",
        "colab": {}
      },
      "source": [
        ""
      ],
      "execution_count": 0,
      "outputs": []
    },
    {
      "cell_type": "code",
      "metadata": {
        "ExecuteTime": {
          "end_time": "2020-04-11T02:14:24.499088Z",
          "start_time": "2020-04-11T02:14:24.488223Z"
        },
        "id": "SjbrEQSa2ucN",
        "trusted": true,
        "colab_type": "code",
        "colab": {}
      },
      "source": [
        "class Mish(tf.keras.layers.Layer):\n",
        "\n",
        "    def __init__(self, **kwargs):\n",
        "        super(Mish, self).__init__(**kwargs)\n",
        "        self.supports_masking = True\n",
        "\n",
        "    def call(self, inputs):\n",
        "        return inputs * K.tanh(K.softplus(inputs))\n",
        "\n",
        "    def get_config(self):\n",
        "        base_config = super(Mish, self).get_config()\n",
        "        return dict(list(base_config.items()) + list(config.items()))\n",
        "\n",
        "    def compute_output_shape(self, input_shape):\n",
        "        return input_shape\n",
        "def mish(x):\n",
        "\treturn tf.keras.layers.Lambda(lambda x: x*K.tanh(K.softplus(x)))(x)\n",
        " \n",
        "from tensorflow.keras.utils import get_custom_objects\n",
        "# from tensorflow.keras.layers import Activation\n",
        "get_custom_objects().update({'mish': Activation(mish)})"
      ],
      "execution_count": 0,
      "outputs": []
    },
    {
      "cell_type": "code",
      "metadata": {
        "ExecuteTime": {
          "end_time": "2020-04-11T02:14:24.521416Z",
          "start_time": "2020-04-11T02:14:24.502541Z"
        },
        "id": "dM8RiNfL2ucY",
        "trusted": true,
        "colab_type": "code",
        "colab": {}
      },
      "source": [
        "import tensorflow as tf\n",
        "from tensorflow.keras.layers import Layer\n",
        "from tensorflow.keras import initializers\n",
        "from tensorflow.keras import regularizers\n",
        "from tensorflow.keras import constraints\n",
        "\n",
        "class Attention(Layer):\n",
        "    \"\"\"Multi-headed attention layer.\"\"\"\n",
        "    \n",
        "    def __init__(self, hidden_size, \n",
        "                 num_heads = 8, \n",
        "                 attention_dropout=.1,\n",
        "                 trainable=True,\n",
        "                 name='Attention'):\n",
        "        \n",
        "        if hidden_size % num_heads != 0:\n",
        "            raise ValueError(\"Hidden size must be evenly divisible by the number of heads.\")\n",
        "            \n",
        "        self.hidden_size = hidden_size\n",
        "        self.num_heads = num_heads\n",
        "        self.trainable = trainable\n",
        "        self.attention_dropout = attention_dropout\n",
        "        self.dense = tf.keras.layers.Dense(self.hidden_size, use_bias=False)\n",
        "        super(Attention, self).__init__(name=name)\n",
        "\n",
        "    def split_heads(self, x):\n",
        "        \"\"\"Split x into different heads, and transpose the resulting value.\n",
        "        The tensor is transposed to insure the inner dimensions hold the correct\n",
        "        values during the matrix multiplication.\n",
        "        Args:\n",
        "          x: A tensor with shape [batch_size, length, hidden_size]\n",
        "        Returns:\n",
        "          A tensor with shape [batch_size, num_heads, length, hidden_size/num_heads]\n",
        "        \"\"\"\n",
        "        with tf.name_scope(\"split_heads\"):\n",
        "            batch_size = tf.shape(x)[0]\n",
        "            length = tf.shape(x)[1]\n",
        "\n",
        "            # Calculate depth of last dimension after it has been split.\n",
        "            depth = (self.hidden_size // self.num_heads)\n",
        "\n",
        "            # Split the last dimension\n",
        "            x = tf.reshape(x, [batch_size, length, self.num_heads, depth])\n",
        "\n",
        "            # Transpose the result\n",
        "            return tf.transpose(x, [0, 2, 1, 3])\n",
        "    \n",
        "    def combine_heads(self, x):\n",
        "        \"\"\"Combine tensor that has been split.\n",
        "        Args:\n",
        "          x: A tensor [batch_size, num_heads, length, hidden_size/num_heads]\n",
        "        Returns:\n",
        "          A tensor with shape [batch_size, length, hidden_size]\n",
        "        \"\"\"\n",
        "        with tf.name_scope(\"combine_heads\"):\n",
        "            batch_size = tf.shape(x)[0]\n",
        "            length = tf.shape(x)[2]\n",
        "            x = tf.transpose(x, [0, 2, 1, 3])  # --> [batch, length, num_heads, depth]\n",
        "            return tf.reshape(x, [batch_size, length, self.hidden_size])        \n",
        "\n",
        "    def call(self, inputs):\n",
        "        \"\"\"Apply attention mechanism to inputs.\n",
        "        Args:\n",
        "          inputs: a tensor with shape [batch_size, length_x, hidden_size]\n",
        "        Returns:\n",
        "          Attention layer output with shape [batch_size, length_x, hidden_size]\n",
        "        \"\"\"\n",
        "        # Google developper use tf.layer.Dense to linearly project the queries, keys, and values.\n",
        "        q = self.dense(inputs)\n",
        "        k = self.dense(inputs)\n",
        "        v = self.dense(inputs)\n",
        "\n",
        "        q = self.split_heads(q)\n",
        "        k = self.split_heads(k)\n",
        "        v = self.split_heads(v)\n",
        "        \n",
        "        # Scale q to prevent the dot product between q and k from growing too large.\n",
        "        depth = (self.hidden_size // self.num_heads)\n",
        "        q *= depth ** -0.5\n",
        "        \n",
        "        logits = tf.matmul(q, k, transpose_b=True)\n",
        "        # logits += self.bias\n",
        "        weights = tf.nn.softmax(logits, name=\"attention_weights\")\n",
        "        \n",
        "        if self.trainable:\n",
        "            weights = tf.nn.dropout(weights, 1.0 - self.attention_dropout)\n",
        "        \n",
        "        attention_output = tf.matmul(weights, v)\n",
        "        attention_output = self.combine_heads(attention_output)\n",
        "        attention_output = self.dense(attention_output)\n",
        "        return attention_output\n",
        "        \n",
        "    def compute_output_shape(self, input_shape):\n",
        "        return tf.TensorShape(input_shape)"
      ],
      "execution_count": 0,
      "outputs": []
    },
    {
      "cell_type": "code",
      "metadata": {
        "ExecuteTime": {
          "end_time": "2020-04-11T02:14:24.531056Z",
          "start_time": "2020-04-11T02:14:24.524047Z"
        },
        "id": "bG4cGcYYNVYw",
        "trusted": true,
        "colab_type": "code",
        "colab": {}
      },
      "source": [
        "def categorical_focal_loss(gamma=2.0, alpha=0.25):\n",
        "    \"\"\"\n",
        "    Implementation of Focal Loss from the paper in multiclass classification\n",
        "    Formula:\n",
        "        loss = -alpha*((1-p)^gamma)*log(p)\n",
        "    Parameters:\n",
        "        alpha -- the same as wighting factor in balanced cross entropy\n",
        "        gamma -- focusing parameter for modulating factor (1-p)\n",
        "    Default value:\n",
        "        gamma -- 2.0 as mentioned in the paper\n",
        "        alpha -- 0.25 as mentioned in the paper\n",
        "    \"\"\"\n",
        "    epsilon = 1.e-7\n",
        "    gamma = float(gamma)\n",
        "    alpha = tf.constant(alpha, dtype=tf.float32)\n",
        "    def loss(y_true, y_pred):\n",
        "        # Define epsilon so that the backpropagation will not result in NaN\n",
        "        # for 0 divisor case\n",
        "        # epsilon = K.epsilon()\n",
        "        # Add the epsilon to prediction value\n",
        "        #y_pred = y_pred + epsilon\n",
        "        # Clip the prediction value\n",
        "        y_pred = tf.clip_by_value(y_pred, epsilon, 1.0-epsilon)\n",
        "        # Calculate cross entropy\n",
        "        cross_entropy = -tf.multiply(y_true,tf.math.log(y_pred))\n",
        "        # Calculate weight that consists of  modulating factor and weighting factor\n",
        "        weight = tf.multiply(y_true , tf.pow((tf.subtract(1.,y_pred)), gamma))\n",
        "        weight = tf.multiply(alpha, weight)\n",
        "        # Calculate focal loss\n",
        "        wloss = tf.multiply(weight , cross_entropy)\n",
        "        # Sum the losses in mini_batch\n",
        "        wloss = tf.reduce_mean(wloss)\n",
        "        return wloss\n",
        "\n",
        "    return loss"
      ],
      "execution_count": 0,
      "outputs": []
    },
    {
      "cell_type": "code",
      "metadata": {
        "id": "fYJFMgfk8VXh",
        "trusted": true,
        "colab_type": "code",
        "colab": {}
      },
      "source": [
        "# focal loss with one-hot labels, multiclass\n",
        "def focal_loss(classes_num, gamma=2., alpha=.25, e=3e-4):\n",
        "    # classes_num contains sample number of each classes\n",
        "    def focal_loss_fixed(target_tensor, prediction_tensor):\n",
        "        '''\n",
        "        prediction_tensor is the output tensor with shape [None, 100], where 100 is the number of classes\n",
        "        target_tensor is the label tensor, same shape as predcition_tensor\n",
        "        '''\n",
        "\n",
        "        #1# get focal loss with no balanced weight which presented in paper function (4)\n",
        "        zeros = array_ops.zeros_like(prediction_tensor, dtype=prediction_tensor.dtype)\n",
        "        one_minus_p = array_ops.where(tf.greater(target_tensor,zeros), target_tensor - prediction_tensor, zeros)\n",
        "        FT = -1 * (one_minus_p ** gamma) * tf.math.log(tf.clip_by_value(prediction_tensor, 1e-8, 1.0))\n",
        "\n",
        "        #2# get balanced weight alpha\n",
        "        classes_weight = array_ops.zeros_like(prediction_tensor, dtype=prediction_tensor.dtype)\n",
        "\n",
        "        total_num = float(sum(classes_num))\n",
        "        classes_w_t1 = [ total_num / ff for ff in classes_num ]\n",
        "        sum_ = sum(classes_w_t1)\n",
        "        classes_w_t2 = [ ff/sum_ for ff in classes_w_t1 ]   #scale\n",
        "        classes_w_tensor = tf.convert_to_tensor(classes_w_t2, dtype=prediction_tensor.dtype)\n",
        "        classes_weight += classes_w_tensor\n",
        "\n",
        "        alpha = array_ops.where(tf.greater(target_tensor, zeros), classes_weight, zeros)\n",
        "\n",
        "        #3# get balanced focal loss\n",
        "        balanced_fl = alpha * FT\n",
        "        balanced_fl = tf.reduce_mean(balanced_fl)\n",
        "\n",
        "        #4# add other op to prevent overfit\n",
        "        # reference : https://spaces.ac.cn/archives/4493\n",
        "        nb_classes = len(classes_num)\n",
        "        fianal_loss = (1-e) * balanced_fl + e * K.categorical_crossentropy(K.ones_like(prediction_tensor)/nb_classes, prediction_tensor)\n",
        "\n",
        "        return fianal_loss\n",
        "    return focal_loss_fixed"
      ],
      "execution_count": 0,
      "outputs": []
    },
    {
      "cell_type": "code",
      "metadata": {
        "id": "Vrzikcyx8ptJ",
        "trusted": true,
        "colab_type": "code",
        "colab": {}
      },
      "source": [
        "# focal loss with one-hot labels, multiclass\n",
        "def cb_focal_loss(classes_weights, gamma=2., alpha=.25, w=3e-4):\n",
        "    # classes_weights contains weights of each classes\n",
        "    def cb_focal_loss_fixed(target_tensor, prediction_tensor):\n",
        "        '''\n",
        "        prediction_tensor is the output tensor with shape [None, 100], where 100 is the number of classes\n",
        "        target_tensor is the label tensor, same shape as predcition_tensor\n",
        "        '''\n",
        "\n",
        "        #1# get focal loss with no balanced weight which presented in paper function (4)\n",
        "        zeros = array_ops.zeros_like(prediction_tensor, dtype=prediction_tensor.dtype)\n",
        "        one_minus_p = array_ops.where(tf.greater(target_tensor,zeros), target_tensor - prediction_tensor, zeros)\n",
        "        FT = -1 * (one_minus_p ** gamma) * tf.math.log(tf.clip_by_value(prediction_tensor, 1e-8, 1.0))\n",
        "\n",
        "        #2# get balanced weight alpha\n",
        "        classes_weight = array_ops.zeros_like(prediction_tensor, dtype=prediction_tensor.dtype)\n",
        "        classes_w_tensor = tf.convert_to_tensor(classes_weights, dtype=prediction_tensor.dtype)\n",
        "        classes_weight += classes_w_tensor\n",
        "\n",
        "        alpha = array_ops.where(tf.greater(target_tensor, zeros), classes_weight, zeros)\n",
        "\n",
        "        #3# get balanced focal loss\n",
        "        balanced_fl = alpha * FT\n",
        "        balanced_fl = tf.reduce_mean(balanced_fl)\n",
        "\n",
        "        #4# add other op to prevent overfit\n",
        "        # reference : https://spaces.ac.cn/archives/4493\n",
        "        nb_classes = len(classes_weights)\n",
        "        fianal_loss = (1-w) * balanced_fl + w * K.categorical_crossentropy(K.ones_like(prediction_tensor)/nb_classes, prediction_tensor)\n",
        "\n",
        "        return fianal_loss\n",
        "    return cb_focal_loss_fixed"
      ],
      "execution_count": 0,
      "outputs": []
    },
    {
      "cell_type": "code",
      "metadata": {
        "id": "JM2iC9UwFd-c",
        "trusted": true,
        "colab_type": "code",
        "colab": {}
      },
      "source": [
        "def multi_category_focal_loss2(gamma=2., alpha=.25):\n",
        "    \"\"\"\n",
        "    focal loss for multi category of multi label problem\n",
        "    适用于多分类或多标签问题的focal loss\n",
        "    alpha控制真值y_true为1/0时的权重\n",
        "        1的权重为alpha, 0的权重为1-alpha\n",
        "    当你的模型欠拟合，学习存在困难时，可以尝试适用本函数作为loss\n",
        "    当模型过于激进(无论何时总是倾向于预测出1),尝试将alpha调小\n",
        "    当模型过于惰性(无论何时总是倾向于预测出0,或是某一个固定的常数,说明没有学到有效特征)\n",
        "        尝试将alpha调大,鼓励模型进行预测出1。\n",
        "    Usage:\n",
        "     model.compile(loss=[multi_category_focal_loss2(alpha=0.25, gamma=2)], metrics=[\"accuracy\"], optimizer=adam)\n",
        "    \"\"\"\n",
        "    epsilon = 1.e-7\n",
        "    gamma = float(gamma)\n",
        "    alpha = tf.constant(alpha, dtype=tf.float32)\n",
        "\n",
        "    def multi_category_focal_loss2_fixed(y_true, y_pred):\n",
        "        y_true = tf.cast(y_true, tf.float32)\n",
        "        y_pred = tf.clip_by_value(y_pred, epsilon, 1. - epsilon)\n",
        "    \n",
        "        alpha_t = y_true*alpha + (tf.ones_like(y_true)-y_true)*(1-alpha)\n",
        "        y_t = tf.multiply(y_true, y_pred) + tf.multiply(1-y_true, 1-y_pred)\n",
        "        ce = -tf.math.log(y_t)\n",
        "        weight = tf.pow(tf.subtract(1., y_t), gamma)\n",
        "        fl = tf.multiply(tf.multiply(weight, ce), alpha_t)\n",
        "        loss = tf.reduce_mean(fl)\n",
        "        return loss\n",
        "    return multi_category_focal_loss2_fixed"
      ],
      "execution_count": 0,
      "outputs": []
    },
    {
      "cell_type": "code",
      "metadata": {
        "id": "zAM_FzFH3RPv",
        "trusted": true,
        "colab_type": "code",
        "colab": {}
      },
      "source": [
        ""
      ],
      "execution_count": 0,
      "outputs": []
    },
    {
      "cell_type": "code",
      "metadata": {
        "id": "m8XTRWemZEoT",
        "trusted": true,
        "colab_type": "code",
        "colab": {}
      },
      "source": [
        "def f1v2(y_true, y_pred):\n",
        "    def recall(y_true, y_pred):\n",
        "        \"\"\"Recall metric.\n",
        "\n",
        "        Only computes a batch-wise average of recall.\n",
        "\n",
        "        Computes the recall, a metric for multi-label classification of\n",
        "        how many relevant items are selected.\n",
        "        \"\"\"\n",
        "        true_positives = K.sum(K.round(K.clip(y_true * y_pred, 0, 1)))\n",
        "        possible_positives = K.sum(K.round(K.clip(y_true, 0, 1)))\n",
        "        recall = true_positives / (possible_positives + K.epsilon())\n",
        "        return recall\n",
        "\n",
        "    def precision(y_true, y_pred):\n",
        "        \"\"\"Precision metric.\n",
        "\n",
        "        Only computes a batch-wise average of precision.\n",
        "\n",
        "        Computes the precision, a metric for multi-label classification of\n",
        "        how many selected items are relevant.\n",
        "        \"\"\"\n",
        "        true_positives = K.sum(K.round(K.clip(y_true * y_pred, 0, 1)))\n",
        "        predicted_positives = K.sum(K.round(K.clip(y_pred, 0, 1)))\n",
        "        precision = true_positives / (predicted_positives + K.epsilon())\n",
        "        return precision\n",
        "    precision = precision(y_true, y_pred)\n",
        "    recall = recall(y_true, y_pred)\n",
        "    return 2*((precision*recall)/(precision+recall+K.epsilon()))"
      ],
      "execution_count": 0,
      "outputs": []
    },
    {
      "cell_type": "code",
      "metadata": {
        "id": "Efvocyr0Okcy",
        "trusted": true,
        "colab_type": "code",
        "colab": {}
      },
      "source": [
        "def f1macro(y_true, y_pred):\n",
        "    b,l,c = np.shape(y_true)\n",
        "    y_pred = K.round(y_pred)\n",
        "    tp = K.sum(K.sum(K.cast(y_true*y_pred, 'float'), axis=2),axis=1)\n",
        "    tn = K.sum(K.sum(K.cast((1-y_true)*(1-y_pred), 'float'), axis=2),axis=1)\n",
        "    fp = K.sum(K.sum(K.cast((1-y_true)*y_pred, 'float'), axis=2),axis=1)\n",
        "    fn = K.sum(K.sum(K.cast(y_true*(1-y_pred), 'float'), axis=2),axis=1)\n",
        "    p = tp / (tp + fp + K.epsilon())\n",
        "    r = tp / (tp + fn + K.epsilon())\n",
        "\n",
        "    f1 = 2*p*r / (p+r+K.epsilon())\n",
        "    f1 = tf.where(tf.math.is_nan(f1), tf.zeros_like(f1), f1)\n",
        "    return K.mean(f1)"
      ],
      "execution_count": 0,
      "outputs": []
    },
    {
      "cell_type": "code",
      "metadata": {
        "id": "c6d4mH_0Omj2",
        "trusted": true,
        "colab_type": "code",
        "colab": {}
      },
      "source": [
        "def get_f1(y_true, y_pred): #taken from old keras source code\n",
        "    true_positives = K.sum(K.round(K.clip(y_true * y_pred, 0, 1)))\n",
        "    possible_positives = K.sum(K.round(K.clip(y_true, 0, 1)))\n",
        "    predicted_positives = K.sum(K.round(K.clip(y_pred, 0, 1)))\n",
        "    precision = true_positives / (predicted_positives + K.epsilon())\n",
        "    recall = true_positives / (possible_positives + K.epsilon())\n",
        "    f1_val = 2*(precision*recall)/(precision+recall+K.epsilon())\n",
        "    return f1_val"
      ],
      "execution_count": 0,
      "outputs": []
    },
    {
      "cell_type": "code",
      "metadata": {
        "id": "BuSYzMF2REK9",
        "trusted": true,
        "colab_type": "code",
        "colab": {}
      },
      "source": [
        "def fbeta_score_macro(y_true, y_pred, beta=1, threshold=0.5):\n",
        "\n",
        "    y_true = K.cast(y_true, 'float')\n",
        "    y_pred = K.cast(K.greater(K.cast(y_pred, 'float'), threshold), 'float')\n",
        "\n",
        "    tp = K.sum(y_true * y_pred, axis=0)\n",
        "    fp = K.sum((1 - y_true) * y_pred, axis=0)\n",
        "    fn = K.sum(y_true * (1 - y_pred), axis=0)\n",
        "\n",
        "    p = tp / (tp + fp + K.epsilon())\n",
        "    r = tp / (tp + fn + K.epsilon())\n",
        "\n",
        "    f1 = (1 + beta ** 2) * p * r / ((beta ** 2) * p + r + K.epsilon())\n",
        "    f1 = tf.where(tf.math.is_nan(f1), tf.zeros_like(f1), f1)\n",
        "\n",
        "    return K.mean(f1)"
      ],
      "execution_count": 0,
      "outputs": []
    },
    {
      "cell_type": "code",
      "metadata": {
        "ExecuteTime": {
          "end_time": "2020-04-11T02:14:24.549703Z",
          "start_time": "2020-04-11T02:14:24.533479Z"
        },
        "id": "YSESlpaNwkkx",
        "trusted": true,
        "colab_type": "code",
        "colab": {}
      },
      "source": [
        "def WaveNetResidualConv1D(num_filters, kernel_size, stacked_layer):\n",
        "\n",
        "    def build_residual_block(l_input):\n",
        "        resid_input = l_input\n",
        "        for dilation_rate in [2**i for i in range(stacked_layer)]:\n",
        "            l_sigmoid_conv1d = Conv1D(\n",
        "              num_filters, kernel_size, dilation_rate=dilation_rate,\n",
        "              padding='same', activation='sigmoid')(l_input)\n",
        "            l_tanh_conv1d = Conv1D(\n",
        "             num_filters, kernel_size, dilation_rate=dilation_rate,\n",
        "             padding='same', activation='mish')(l_input)\n",
        "            l_input = Multiply()([l_sigmoid_conv1d, l_tanh_conv1d])\n",
        "            l_input = Conv1D(num_filters, 1, padding='same')(l_input)\n",
        "            resid_input = Add()([resid_input ,l_input])\n",
        "        return resid_input\n",
        "    return build_residual_block\n"
      ],
      "execution_count": 0,
      "outputs": []
    },
    {
      "cell_type": "code",
      "metadata": {
        "id": "1PeJF2_Iad7g",
        "trusted": true,
        "colab_type": "code",
        "colab": {}
      },
      "source": [
        ""
      ],
      "execution_count": 0,
      "outputs": []
    },
    {
      "cell_type": "code",
      "metadata": {
        "id": "GEn4iIRTaslB",
        "trusted": true,
        "colab_type": "code",
        "colab": {}
      },
      "source": [
        "def Classifier(shape_):\n",
        "    num_filters_ = 16\n",
        "    kernel_size_ = 3\n",
        "    stacked_layers_ = [12, 8, 4, 1]\n",
        "    l_input = Input(shape=(shape_))\n",
        "    x = Conv1D(num_filters_, 1, padding='same')(l_input)\n",
        "    x = WaveNetResidualConv1D(num_filters_, kernel_size_, stacked_layers_[0])(x)\n",
        "    x = Conv1D(num_filters_*2, 1, padding='same')(x)\n",
        "    x = WaveNetResidualConv1D(num_filters_*2, kernel_size_, stacked_layers_[1])(x)\n",
        "    x = Conv1D(num_filters_*4, 1, padding='same')(x)\n",
        "    x = WaveNetResidualConv1D(num_filters_*4, kernel_size_, stacked_layers_[2])(x)\n",
        "    x = Conv1D(num_filters_*8, 1, padding='same')(x)\n",
        "    x = WaveNetResidualConv1D(num_filters_*8, kernel_size_, stacked_layers_[3])(x)\n",
        "    l_output = Dense(11, activation='softmax')(x)\n",
        "    model = models.Model(inputs=[l_input], outputs=[l_output])\n",
        "    opt = Adam(lr=LR)\n",
        "    opt = tfa.optimizers.SWA(opt)\n",
        "#      MacroF1(model, valid_x,valid_y)\n",
        "    model.compile(loss=losses.CategoricalCrossentropy(), optimizer=opt, \n",
        "                  metrics=['accuracy', Precision(), Recall(), get_f1])\n",
        "    return model"
      ],
      "execution_count": 0,
      "outputs": []
    },
    {
      "cell_type": "code",
      "metadata": {
        "id": "erbbJrcxlkdS",
        "trusted": true,
        "colab_type": "code",
        "colab": {}
      },
      "source": [
        "# def weighted_categorical_crossentropy(weights):\n",
        "#     \"\"\"\n",
        "#     A weighted version of keras.objectives.categorical_crossentropy\n",
        "    \n",
        "#     Variables:\n",
        "#         weights: numpy array of shape (C,) where C is the number of classes\n",
        "    \n",
        "#     Usage:\n",
        "#         weights = np.array([0.5,2,10]) # Class one at 0.5, class 2 twice the normal weights, class 3 10x.\n",
        "#         loss = weighted_categorical_crossentropy(weights)\n",
        "#         model.compile(loss=loss,optimizer='adam')\n",
        "#     \"\"\"\n",
        "    \n",
        "#     weights = K.variable(weights)\n",
        "        \n",
        "#     def loss(y_true, y_pred):\n",
        "#         # scale predictions so that the class probas of each sample sum to 1\n",
        "#         y_pred /= K.sum(y_pred, axis=-1, keepdims=True)\n",
        "#         # clip to prevent NaN's and Inf's\n",
        "#         y_pred = K.clip(y_pred, K.epsilon(), 1 - K.epsilon())\n",
        "#         # calc\n",
        "#         loss = y_true * K.log(y_pred) * weights\n",
        "#         loss = -K.sum(loss, -1)\n",
        "#         return loss\n",
        "    \n",
        "#     return loss"
      ],
      "execution_count": 0,
      "outputs": []
    },
    {
      "cell_type": "code",
      "metadata": {
        "id": "Ixp9c4OZrZL9",
        "trusted": true,
        "colab_type": "code",
        "colab": {}
      },
      "source": [
        "# def w_categorical_crossentropy(weights):\n",
        "#     \"\"\"\n",
        "#     Keras-style categorical crossentropy loss function, with weighting for each class.\n",
        "\n",
        "#     Parameters\n",
        "#     ----------\n",
        "#     y_true : Tensor\n",
        "#         Truth labels.\n",
        "#     y_pred : Tensor\n",
        "#         Predicted values.\n",
        "#     weights: Tensor\n",
        "#         Multiplicative factor for loss per class.\n",
        "\n",
        "#     Returns\n",
        "#     -------\n",
        "#     loss : Tensor\n",
        "#         Weighted crossentropy loss between labels and predictions.\n",
        "#     \"\"\"\n",
        "#     weights = K.variable(weights)\n",
        "#     def loss(y_true, y_pred):\n",
        "#         y_true_max = K.argmax(y_true, axis=-1)\n",
        "#         weighted_true = K.gather(weights, y_true_max)\n",
        "#         loss = K.categorical_crossentropy(y_pred, y_true)*weighted_true\n",
        "#         return loss\n",
        "\n",
        "#     return loss "
      ],
      "execution_count": 0,
      "outputs": []
    },
    {
      "cell_type": "code",
      "metadata": {
        "id": "uX3YFhsglyLz",
        "trusted": true,
        "colab_type": "code",
        "colab": {}
      },
      "source": [
        "# # # Custom loss function with costs\n",
        "# def w_categorical_crossentropy(y_true, y_pred, weights):\n",
        "#     nb_cl = len(weights)\n",
        "#     final_mask = K.zeros_like(y_pred[:, 0])\n",
        "#     y_pred_max = K.max(y_pred, axis=1)\n",
        "#     y_pred_max = K.expand_dims(y_pred_max, 1)\n",
        "#     y_pred_max_mat = K.equal(y_pred, y_pred_max)\n",
        "#     for c_p, c_t in product(range(nb_cl), range(nb_cl)):\n",
        "#         final_mask += (K.cast(weights[c_t, c_p],K.floatx()) * K.cast(y_pred_max_mat[:, c_p] ,K.floatx())* \n",
        "#                        K.cast(y_true[:, c_t],K.floatx()))\n",
        "#     return K.categorical_crossentropy(y_pred, y_true) * final_mask\n",
        "\n",
        "# w_array = np.ones((3,3))\n",
        "# w_array[2,1] = 1.2\n",
        "# w_array[1,2] = 1.2\n",
        "# ncce = partial(w_categorical_crossentropy, weights=w_array)\n",
        "# ncce.__name__ ='w_categorical_crossentropy'"
      ],
      "execution_count": 0,
      "outputs": []
    },
    {
      "cell_type": "code",
      "metadata": {
        "id": "ZymKtoVo8F06",
        "trusted": true,
        "colab_type": "code",
        "colab": {}
      },
      "source": [
        "def ClassifierW(shape_, weights_):\n",
        "    num_filters_ = 16\n",
        "    kernel_size_ = 3\n",
        "    stacked_layers_ = [12, 8, 4, 1]*2\n",
        "    l_input = Input(shape=(shape_))\n",
        "    x = Conv1D(num_filters_, 1, padding='same')(l_input)\n",
        "    x = WaveNetResidualConv1D(num_filters_, kernel_size_, stacked_layers_[0])(x)\n",
        "    x = Conv1D(num_filters_*2, 1, padding='same')(x)\n",
        "    x = WaveNetResidualConv1D(num_filters_*2, kernel_size_, stacked_layers_[1])(x)\n",
        "    x = Conv1D(num_filters_*4, 1, padding='same')(x)\n",
        "    x = WaveNetResidualConv1D(num_filters_*4, kernel_size_, stacked_layers_[2])(x)\n",
        "    x = Conv1D(num_filters_*8, 1, padding='same')(x)\n",
        "    x = WaveNetResidualConv1D(num_filters_*8, kernel_size_, stacked_layers_[3])(x)\n",
        "    l_output = Dense(11, activation='softmax')(x)\n",
        "    model = models.Model(inputs=[l_input], outputs=[l_output])\n",
        "    opt = Adam(lr=LR)\n",
        "    opt = tfa.optimizers.SWA(opt)\n",
        "\n",
        "#      MacroF1(model, valid_x,valid_y)\n",
        "    model.compile(loss = [multi_category_focal_loss2(alpha=0.25, gamma=2)], optimizer=opt, \n",
        "                  metrics=['accuracy', Precision(), Recall(), get_f1])\n",
        "\n",
        "    # model.compile(loss = [categorical_focal_loss(alpha=0.25, gamma=2)], optimizer=opt, \n",
        "    #               metrics=['accuracy', Precision(), Recall(), get_f1])    \n",
        "\n",
        "#     model.compile(loss = [cb_focal_loss(weights_, alpha=0.25, gamma=2)], optimizer=opt, \n",
        "#                   metrics=['accuracy', Precision(), Recall(), get_f1])    \n",
        "    return model"
      ],
      "execution_count": 0,
      "outputs": []
    },
    {
      "cell_type": "code",
      "metadata": {
        "id": "mVBENxS0NBeR",
        "trusted": true,
        "colab_type": "code",
        "colab": {}
      },
      "source": [
        ""
      ],
      "execution_count": 0,
      "outputs": []
    },
    {
      "cell_type": "code",
      "metadata": {
        "id": "Y794Tm9HNQHw",
        "trusted": true,
        "colab_type": "code",
        "colab": {}
      },
      "source": [
        ""
      ],
      "execution_count": 0,
      "outputs": []
    },
    {
      "cell_type": "code",
      "metadata": {
        "id": "4ovQbnpINeq4",
        "trusted": true,
        "colab_type": "code",
        "colab": {}
      },
      "source": [
        ""
      ],
      "execution_count": 0,
      "outputs": []
    },
    {
      "cell_type": "code",
      "metadata": {
        "id": "pnR2IhRSj8Gc",
        "trusted": true,
        "colab_type": "code",
        "colab": {}
      },
      "source": [
        ""
      ],
      "execution_count": 0,
      "outputs": []
    },
    {
      "cell_type": "code",
      "metadata": {
        "ExecuteTime": {
          "end_time": "2020-04-11T02:14:24.563702Z",
          "start_time": "2020-04-11T02:14:24.556844Z"
        },
        "id": "9Cckpy4I2uco",
        "trusted": true,
        "colab_type": "code",
        "colab": {}
      },
      "source": [
        "def Classifierx(shape_):        \n",
        "    #dsize = [256, 512, 256, 128, 11]\n",
        "    dsize = [64, 128, 64, 32, 11]  \n",
        "    inp = Input(shape=(shape_))\n",
        "    x = Bidirectional(GRU(dsize[0], return_sequences=True))(inp)\n",
        "    x = Attention(dsize[1])(x)\n",
        "    x = TimeDistributed(Dense(dsize[2], activation='mish'))(x)\n",
        "    x = TimeDistributed(Dense(dsize[3], activation='mish'))(x)\n",
        "    out = TimeDistributed(Dense(dsize[4], activation='softmax', name='out'))(x)\n",
        "    \n",
        "    model = models.Model(inputs=inp, outputs=out) \n",
        "    \n",
        "    opt = Adam(lr=LR)\n",
        "    opt = tfa.optimizers.SWA(opt)\n",
        "    model.compile(loss=losses.CategoricalCrossentropy(), optimizer=opt, \n",
        "                  metrics=['accuracy'])\n",
        "    return model"
      ],
      "execution_count": 0,
      "outputs": []
    },
    {
      "cell_type": "code",
      "metadata": {
        "ExecuteTime": {
          "end_time": "2020-04-11T02:14:24.579491Z",
          "start_time": "2020-04-11T02:14:24.567764Z"
        },
        "trusted": true,
        "id": "L4cQ0L8ucOgn",
        "colab_type": "code",
        "colab": {}
      },
      "source": [
        "\n",
        "class MacroF1ES(Callback):\n",
        "    def __init__(self, model, inputs, targets, \n",
        "                 patience=5, delta=0, checkpoint_path='checkpoint.h5', is_maximize=True):\n",
        "        \n",
        "        self.model = model\n",
        "        self.inputs = inputs\n",
        "        self.targets = np.argmax(targets, axis=2).reshape(-1)\n",
        "        self.patience, self.delta, self.checkpoint_path = patience, delta, checkpoint_path\n",
        "        self.counter, self.best_score = 0, None\n",
        "        self.is_maximize = is_maximize\n",
        "        self.stopped_epoch = 0\n",
        "        \n",
        "    def on_epoch_end(self, epoch, logs):\n",
        "        pred = np.argmax(self.model.predict(self.inputs), axis=2).reshape(-1)\n",
        "        score = f1_score(self.targets, pred, average=\"macro\")\n",
        "        logger.info(f'\\n epoch:{epoch:03d}, F1Macro: {score:.5f}')   \n",
        "        \n",
        "        if self.best_score is None or \\\n",
        "        (score > self.best_score + self.delta if self.is_maximize else score < self.best_score - self.delta):\n",
        "            self.model.save(self.checkpoint_path)\n",
        "#             torch.save(model.state_dict(), self.checkpoint_path)\n",
        "            self.best_score, self.counter = score, 0\n",
        "        else:\n",
        "            self.counter += 1\n",
        "            if self.counter >= self.patience: ##stop training\n",
        "                self.stopped_epoch = epoch\n",
        "                self.model.stop_training = True\n",
        "                \n",
        "    def on_train_end(self, logs=None):\n",
        "        if self.stopped_epoch > 0:\n",
        "              logger.info('Epoch %05d: early stopping' % (self.stopped_epoch + 1))   "
      ],
      "execution_count": 0,
      "outputs": []
    },
    {
      "cell_type": "code",
      "metadata": {
        "id": "415IZHTAHw5g",
        "trusted": true,
        "colab_type": "code",
        "colab": {}
      },
      "source": [
        ""
      ],
      "execution_count": 0,
      "outputs": []
    },
    {
      "cell_type": "code",
      "metadata": {
        "ExecuteTime": {
          "end_time": "2020-04-11T02:14:24.589759Z",
          "start_time": "2020-04-11T02:14:24.582640Z"
        },
        "id": "1yfpldH_2ucw",
        "trusted": true,
        "colab_type": "code",
        "colab": {}
      },
      "source": [
        "class MacroF1(Callback):\n",
        "    def __init__(self, model, inputs, targets):\n",
        "        self.model = model\n",
        "        self.inputs = inputs\n",
        "        self.targets = np.argmax(targets, axis=2).reshape(-1)\n",
        "\n",
        "    def on_epoch_end(self, epoch, logs):\n",
        "        pred = np.argmax(self.model.predict(self.inputs), axis=2).reshape(-1)\n",
        "        score = f1_score(self.targets, pred, average=\"macro\")\n",
        "        print(f' F1Macro: {score:.5f}')    "
      ],
      "execution_count": 0,
      "outputs": []
    },
    {
      "cell_type": "code",
      "metadata": {
        "ExecuteTime": {
          "end_time": "2020-04-11T02:14:24.596693Z",
          "start_time": "2020-04-11T02:14:24.591931Z"
        },
        "id": "skru4lPt2uc6",
        "trusted": true,
        "colab_type": "code",
        "colab": {}
      },
      "source": [
        "def normalize(train, test):\n",
        "    \n",
        "    train_input_mean = train.signal.mean()\n",
        "    train_input_sigma = train.signal.std()\n",
        "    train['signal'] = (train.signal-train_input_mean)/train_input_sigma\n",
        "    test['signal'] = (test.signal-train_input_mean)/train_input_sigma\n",
        "\n",
        "    return train, test"
      ],
      "execution_count": 0,
      "outputs": []
    },
    {
      "cell_type": "code",
      "metadata": {
        "ExecuteTime": {
          "end_time": "2020-04-11T02:14:24.609602Z",
          "start_time": "2020-04-11T02:14:24.600166Z"
        },
        "id": "02TDJtejfS0_",
        "trusted": true,
        "colab_type": "code",
        "colab": {}
      },
      "source": [
        "\n",
        "def run_everything(fe_config : List) -> NoReturn:\n",
        "    not_feats_cols = ['time']\n",
        "    target_col = ['open_channels']\n",
        "    init_logger()\n",
        "    with timer(f'Reading Data'):\n",
        "        logger.info('Reading Data Started ...')\n",
        "        base = os.path.abspath(PATH+'liverpool-ion-switching/')\n",
        "        train, test, sample_submission = read_data(base)\n",
        "        train, test = normalize(train, test)    \n",
        "        logger.info('Reading and Normalizing Data Completed ...')\n",
        "    with timer(f'Creating Features'):\n",
        "        logger.info('Feature Enginnering Started ...')\n",
        "        for config in fe_config:\n",
        "            train = run_feat_enginnering(train, create_all_data_feats=config[0], batch_size=config[1])\n",
        "            train = reduce_mem_usage(train)\n",
        "            test  = run_feat_enginnering(test,  create_all_data_feats=config[0], batch_size=config[1])\n",
        "            test = reduce_mem_usage(test)\n",
        "        train, test, feats = feature_selection(train, test)\n",
        "        logger.info('Feature Enginnering Completed ...')\n",
        "\n",
        "    with timer(f'Running Wavenet model'):\n",
        "        logger.info(f'Training Wavenet model with {SPLITS} folds of GroupKFold Started ...')\n",
        "        run_cv_model_by_batch(train, test, splits=SPLITS, batch_col='group', feats=feats, \n",
        "                              sample_submission=sample_submission, nn_epochs=EPOCHS, nn_batch_size=NNBATCHSIZE)\n",
        "        logger.info(f'Training completed ...')\n"
      ],
      "execution_count": 0,
      "outputs": []
    },
    {
      "cell_type": "code",
      "metadata": {
        "ExecuteTime": {
          "end_time": "2020-04-11T02:15:53.901793Z",
          "start_time": "2020-04-11T02:14:24.612467Z"
        },
        "id": "_w4_OJJtfS1K",
        "outputId": "53435ecc-e230-4b1f-e383-6bcc6c0e73b1",
        "trusted": true,
        "colab_type": "code",
        "colab": {
          "base_uri": "https://localhost:8080/",
          "height": 1000,
          "referenced_widgets": [
            "7baff71f34b344599bc9284ac65c7e4e",
            "5e40fb9dad364f8aaf1838ea39ae25bb",
            "d10327885d6f48aa9937d5cbc939ff5a",
            "76991d7c189b48f896c191f25afc5850",
            "d0ff179000f14016abd2be74400b0e7a",
            "af549c0f73c84274b51134076f976fdc",
            "b6e22f3144c64a2e8a8a198caaccbefb",
            "fe74b5654ac54d7992f2d820a8c70960"
          ]
        }
      },
      "source": [
        "run_everything(fe_config)"
      ],
      "execution_count": 0,
      "outputs": [
        {
          "output_type": "stream",
          "text": [
            "2020-04-16 22:35:05,759 INFO Reading Data Started ...\n",
            "2020-04-16 22:35:08,167 INFO Reading and Normalizing Data Completed ...\n",
            "2020-04-16 22:35:08,169 INFO [Reading Data] done in 2 s\n",
            "2020-04-16 22:35:08,172 INFO Feature Enginnering Started ...\n"
          ],
          "name": "stderr"
        },
        {
          "output_type": "stream",
          "text": [
            "Mem. usage decreased to 247.96 MB (72.0 % reduction)\n",
            "Mem. usage decreased to 91.55 MB (73.6 % reduction)\n",
            "['signal', 'signal_shift_pos_1', 'signal_shift_neg_1', 'signal_shift_pos_2', 'signal_shift_neg_2', 'signal_shift_pos_3', 'signal_shift_neg_3', 'signal_shift_pos_11', 'signal_shift_neg_11', 'signal_shift_pos_15', 'signal_shift_neg_15', 'signal_shift_pos_1_msignal', 'signal_shift_neg_1_msignal', 'signal_shift_pos_2_msignal', 'signal_shift_neg_2_msignal', 'signal_shift_pos_3_msignal', 'signal_shift_neg_3_msignal', 'signal_shift_pos_11_msignal', 'signal_shift_neg_11_msignal', 'signal_shift_pos_15_msignal', 'signal_shift_neg_15_msignal', 'signal_2']\n"
          ],
          "name": "stdout"
        },
        {
          "output_type": "stream",
          "text": [
            "2020-04-16 22:35:21,994 INFO Feature Enginnering Completed ...\n",
            "2020-04-16 22:35:21,997 INFO [Creating Features] done in 14 s\n",
            "2020-04-16 22:35:21,999 INFO Training Wavenet model with 5 folds of GroupKFold Started ...\n"
          ],
          "name": "stderr"
        },
        {
          "output_type": "stream",
          "text": [
            "ion_switch/res/wavenet-clr-res/WaveNet-CLR-FOCALLOSS-5fd-f32-df2_len4000_lr0.001/16-Apr-2020-22\n",
            "weights_: [ 0.36652399  0.46106257  0.82059173  0.67983748  1.12675802  1.63577934\n",
            "  2.41635544  1.71516878  1.85390282  3.33929955 12.72060713]\n",
            "nums_: 0     1240152\n",
            "1      985865\n",
            "2      553924\n",
            "3      668609\n",
            "4      403410\n",
            "5      277877\n",
            "6      188112\n",
            "7      265015\n",
            "8      245183\n",
            "9      136120\n",
            "10      35733\n",
            "Name: open_channels, dtype: int64\n",
            "cb_weights_: [0.97174558 0.97174558 0.97174558 0.97174558 0.97174567 0.97176004\n",
            " 0.97227024 0.97176977 0.97179906 0.97596    1.27771292]\n",
            "model initilization done!\n"
          ],
          "name": "stdout"
        },
        {
          "output_type": "display_data",
          "data": {
            "application/vnd.jupyter.widget-view+json": {
              "model_id": "7baff71f34b344599bc9284ac65c7e4e",
              "version_minor": 0,
              "version_major": 2
            },
            "text/plain": [
              "HBox(children=(IntProgress(value=0, description='Training', layout=Layout(flex='2'), max=150, style=ProgressSt…"
            ]
          },
          "metadata": {
            "tags": []
          }
        },
        {
          "output_type": "stream",
          "text": [
            "Epoch 1/150\n",
            "WARNING:tensorflow:From /usr/local/lib/python3.6/dist-packages/tensorflow/python/ops/resource_variable_ops.py:1817: calling BaseResourceVariable.__init__ (from tensorflow.python.ops.resource_variable_ops) with constraint is deprecated and will be removed in a future version.\n",
            "Instructions for updating:\n",
            "If using Keras pass *_constraint arguments to layers.\n",
            "100/100 [==============================] - ETA: 0s - loss: 0.0142 - accuracy: 0.7324 - precision: 0.9361 - recall: 0.5134 - get_f1: 0.6192"
          ],
          "name": "stdout"
        },
        {
          "output_type": "stream",
          "text": [
            "2020-04-16 22:36:43,503 INFO \n",
            " epoch:000, F1Macro: 0.84408\n"
          ],
          "name": "stderr"
        },
        {
          "output_type": "stream",
          "text": [
            "\b\b\b\b\b\b\b\b\b\b\b\b\b\b\b\b\b\b\b\b\b\b\b\b\b\b\b\b\b\b\b\b\b\b\b\b\b\b\b\b\b\b\b\b\b\b\b\b\b\b\b\b\b\b\b\b\b\b\b\b\b\b\b\b\b\b\b\b\b\b\b\b\b\b\b\b\b\b\b\b\b\b\b\b\b\b\b\b\b\b\b\b\b\b\b\b\b\b\b\b\b\b\b\b\b\b\b\b\b\b\b\b\b\b\b\b\b\b\b\b\b\b\b\b\b\b\b\b\b\b\b\b\b\b\b\b\b\b\r100/100 [==============================] - 37s 375ms/step - loss: 0.0142 - accuracy: 0.7324 - precision: 0.9361 - recall: 0.5134 - get_f1: 0.6192 - val_loss: 0.0064 - val_accuracy: 0.9047 - val_precision: 0.9605 - val_recall: 0.7685 - val_get_f1: 0.8226\n",
            "Epoch 2/150\n",
            "100/100 [==============================] - ETA: 0s - loss: 0.0043 - accuracy: 0.9232 - precision: 0.9636 - recall: 0.8519 - get_f1: 0.9033"
          ],
          "name": "stdout"
        },
        {
          "output_type": "stream",
          "text": [
            "2020-04-16 22:37:14,263 INFO \n",
            " epoch:001, F1Macro: 0.91907\n"
          ],
          "name": "stderr"
        },
        {
          "output_type": "stream",
          "text": [
            "\b\b\b\b\b\b\b\b\b\b\b\b\b\b\b\b\b\b\b\b\b\b\b\b\b\b\b\b\b\b\b\b\b\b\b\b\b\b\b\b\b\b\b\b\b\b\b\b\b\b\b\b\b\b\b\b\b\b\b\b\b\b\b\b\b\b\b\b\b\b\b\b\b\b\b\b\b\b\b\b\b\b\b\b\b\b\b\b\b\b\b\b\b\b\b\b\b\b\b\b\b\b\b\b\b\b\b\b\b\b\b\b\b\b\b\b\b\b\b\b\b\b\b\b\b\b\b\b\b\b\b\b\b\b\b\b\b\b\r100/100 [==============================] - 31s 310ms/step - loss: 0.0043 - accuracy: 0.9232 - precision: 0.9636 - recall: 0.8519 - get_f1: 0.9033 - val_loss: 0.0028 - val_accuracy: 0.9546 - val_precision: 0.9687 - val_recall: 0.9340 - val_get_f1: 0.9457\n",
            "Epoch 3/150\n",
            "100/100 [==============================] - ETA: 0s - loss: 0.0023 - accuracy: 0.9608 - precision: 0.9725 - recall: 0.9415 - get_f1: 0.9567"
          ],
          "name": "stdout"
        },
        {
          "output_type": "stream",
          "text": [
            "2020-04-16 22:37:45,406 INFO \n",
            " epoch:002, F1Macro: 0.93063\n"
          ],
          "name": "stderr"
        },
        {
          "output_type": "stream",
          "text": [
            "\b\b\b\b\b\b\b\b\b\b\b\b\b\b\b\b\b\b\b\b\b\b\b\b\b\b\b\b\b\b\b\b\b\b\b\b\b\b\b\b\b\b\b\b\b\b\b\b\b\b\b\b\b\b\b\b\b\b\b\b\b\b\b\b\b\b\b\b\b\b\b\b\b\b\b\b\b\b\b\b\b\b\b\b\b\b\b\b\b\b\b\b\b\b\b\b\b\b\b\b\b\b\b\b\b\b\b\b\b\b\b\b\b\b\b\b\b\b\b\b\b\b\b\b\b\b\b\b\b\b\b\b\b\b\b\b\b\b\r100/100 [==============================] - 31s 308ms/step - loss: 0.0023 - accuracy: 0.9608 - precision: 0.9725 - recall: 0.9415 - get_f1: 0.9567 - val_loss: 0.0024 - val_accuracy: 0.9614 - val_precision: 0.9724 - val_recall: 0.9438 - val_get_f1: 0.9532\n",
            "Epoch 4/150\n",
            "100/100 [==============================] - ETA: 0s - loss: 0.0021 - accuracy: 0.9639 - precision: 0.9746 - recall: 0.9470 - get_f1: 0.9605"
          ],
          "name": "stdout"
        },
        {
          "output_type": "stream",
          "text": [
            "2020-04-16 22:38:16,483 INFO \n",
            " epoch:003, F1Macro: 0.93284\n"
          ],
          "name": "stderr"
        },
        {
          "output_type": "stream",
          "text": [
            "\b\b\b\b\b\b\b\b\b\b\b\b\b\b\b\b\b\b\b\b\b\b\b\b\b\b\b\b\b\b\b\b\b\b\b\b\b\b\b\b\b\b\b\b\b\b\b\b\b\b\b\b\b\b\b\b\b\b\b\b\b\b\b\b\b\b\b\b\b\b\b\b\b\b\b\b\b\b\b\b\b\b\b\b\b\b\b\b\b\b\b\b\b\b\b\b\b\b\b\b\b\b\b\b\b\b\b\b\b\b\b\b\b\b\b\b\b\b\b\b\b\b\b\b\b\b\b\b\b\b\b\b\b\b\b\b\b\b\r100/100 [==============================] - 31s 308ms/step - loss: 0.0021 - accuracy: 0.9639 - precision: 0.9746 - recall: 0.9470 - get_f1: 0.9605 - val_loss: 0.0023 - val_accuracy: 0.9623 - val_precision: 0.9755 - val_recall: 0.9410 - val_get_f1: 0.9526\n",
            "Epoch 5/150\n",
            "100/100 [==============================] - ETA: 0s - loss: 0.0020 - accuracy: 0.9652 - precision: 0.9765 - recall: 0.9474 - get_f1: 0.9617"
          ],
          "name": "stdout"
        },
        {
          "output_type": "stream",
          "text": [
            "2020-04-16 22:38:47,549 INFO \n",
            " epoch:004, F1Macro: 0.93388\n"
          ],
          "name": "stderr"
        },
        {
          "output_type": "stream",
          "text": [
            "\b\b\b\b\b\b\b\b\b\b\b\b\b\b\b\b\b\b\b\b\b\b\b\b\b\b\b\b\b\b\b\b\b\b\b\b\b\b\b\b\b\b\b\b\b\b\b\b\b\b\b\b\b\b\b\b\b\b\b\b\b\b\b\b\b\b\b\b\b\b\b\b\b\b\b\b\b\b\b\b\b\b\b\b\b\b\b\b\b\b\b\b\b\b\b\b\b\b\b\b\b\b\b\b\b\b\b\b\b\b\b\b\b\b\b\b\b\b\b\b\b\b\b\b\b\b\b\b\b\b\b\b\b\b\b\b\b\b\r100/100 [==============================] - 31s 307ms/step - loss: 0.0020 - accuracy: 0.9652 - precision: 0.9765 - recall: 0.9474 - get_f1: 0.9617 - val_loss: 0.0023 - val_accuracy: 0.9623 - val_precision: 0.9747 - val_recall: 0.9434 - val_get_f1: 0.9543\n",
            "Epoch 6/150\n",
            "100/100 [==============================] - ETA: 0s - loss: 0.0019 - accuracy: 0.9660 - precision: 0.9774 - recall: 0.9484 - get_f1: 0.9626"
          ],
          "name": "stdout"
        },
        {
          "output_type": "stream",
          "text": [
            "2020-04-16 22:39:18,629 INFO \n",
            " epoch:005, F1Macro: 0.93574\n"
          ],
          "name": "stderr"
        },
        {
          "output_type": "stream",
          "text": [
            "\b\b\b\b\b\b\b\b\b\b\b\b\b\b\b\b\b\b\b\b\b\b\b\b\b\b\b\b\b\b\b\b\b\b\b\b\b\b\b\b\b\b\b\b\b\b\b\b\b\b\b\b\b\b\b\b\b\b\b\b\b\b\b\b\b\b\b\b\b\b\b\b\b\b\b\b\b\b\b\b\b\b\b\b\b\b\b\b\b\b\b\b\b\b\b\b\b\b\b\b\b\b\b\b\b\b\b\b\b\b\b\b\b\b\b\b\b\b\b\b\b\b\b\b\b\b\b\b\b\b\b\b\b\b\b\b\b\b\r100/100 [==============================] - 31s 308ms/step - loss: 0.0019 - accuracy: 0.9660 - precision: 0.9774 - recall: 0.9484 - get_f1: 0.9626 - val_loss: 0.0021 - val_accuracy: 0.9645 - val_precision: 0.9768 - val_recall: 0.9457 - val_get_f1: 0.9565\n",
            "Epoch 7/150\n",
            "100/100 [==============================] - ETA: 0s - loss: 0.0019 - accuracy: 0.9659 - precision: 0.9779 - recall: 0.9473 - get_f1: 0.9623"
          ],
          "name": "stdout"
        },
        {
          "output_type": "stream",
          "text": [
            "2020-04-16 22:39:49,726 INFO \n",
            " epoch:006, F1Macro: 0.93546\n"
          ],
          "name": "stderr"
        },
        {
          "output_type": "stream",
          "text": [
            "\b\b\b\b\b\b\b\b\b\b\b\b\b\b\b\b\b\b\b\b\b\b\b\b\b\b\b\b\b\b\b\b\b\b\b\b\b\b\b\b\b\b\b\b\b\b\b\b\b\b\b\b\b\b\b\b\b\b\b\b\b\b\b\b\b\b\b\b\b\b\b\b\b\b\b\b\b\b\b\b\b\b\b\b\b\b\b\b\b\b\b\b\b\b\b\b\b\b\b\b\b\b\b\b\b\b\b\b\b\b\b\b\b\b\b\b\b\b\b\b\b\b\b\b\b\b\b\b\b\b\b\b\b\b\b\b\b\b\r100/100 [==============================] - 30s 298ms/step - loss: 0.0019 - accuracy: 0.9659 - precision: 0.9779 - recall: 0.9473 - get_f1: 0.9623 - val_loss: 0.0021 - val_accuracy: 0.9648 - val_precision: 0.9773 - val_recall: 0.9460 - val_get_f1: 0.9568\n",
            "Epoch 8/150\n",
            "100/100 [==============================] - ETA: 0s - loss: 0.0019 - accuracy: 0.9664 - precision: 0.9783 - recall: 0.9482 - get_f1: 0.9629"
          ],
          "name": "stdout"
        },
        {
          "output_type": "stream",
          "text": [
            "2020-04-16 22:40:19,693 INFO \n",
            " epoch:007, F1Macro: 0.92474\n"
          ],
          "name": "stderr"
        },
        {
          "output_type": "stream",
          "text": [
            "\b\b\b\b\b\b\b\b\b\b\b\b\b\b\b\b\b\b\b\b\b\b\b\b\b\b\b\b\b\b\b\b\b\b\b\b\b\b\b\b\b\b\b\b\b\b\b\b\b\b\b\b\b\b\b\b\b\b\b\b\b\b\b\b\b\b\b\b\b\b\b\b\b\b\b\b\b\b\b\b\b\b\b\b\b\b\b\b\b\b\b\b\b\b\b\b\b\b\b\b\b\b\b\b\b\b\b\b\b\b\b\b\b\b\b\b\b\b\b\b\b\b\b\b\b\b\b\b\b\b\b\b\b\b\b\b\b\b\r100/100 [==============================] - 30s 297ms/step - loss: 0.0019 - accuracy: 0.9664 - precision: 0.9783 - recall: 0.9482 - get_f1: 0.9629 - val_loss: 0.0024 - val_accuracy: 0.9618 - val_precision: 0.9730 - val_recall: 0.9449 - val_get_f1: 0.9539\n",
            "Epoch 9/150\n",
            "100/100 [==============================] - ETA: 0s - loss: 0.0019 - accuracy: 0.9663 - precision: 0.9783 - recall: 0.9478 - get_f1: 0.9628"
          ],
          "name": "stdout"
        },
        {
          "output_type": "stream",
          "text": [
            "2020-04-16 22:40:49,761 INFO \n",
            " epoch:008, F1Macro: 0.93624\n"
          ],
          "name": "stderr"
        },
        {
          "output_type": "stream",
          "text": [
            "\b\b\b\b\b\b\b\b\b\b\b\b\b\b\b\b\b\b\b\b\b\b\b\b\b\b\b\b\b\b\b\b\b\b\b\b\b\b\b\b\b\b\b\b\b\b\b\b\b\b\b\b\b\b\b\b\b\b\b\b\b\b\b\b\b\b\b\b\b\b\b\b\b\b\b\b\b\b\b\b\b\b\b\b\b\b\b\b\b\b\b\b\b\b\b\b\b\b\b\b\b\b\b\b\b\b\b\b\b\b\b\b\b\b\b\b\b\b\b\b\b\b\b\b\b\b\b\b\b\b\b\b\b\b\b\b\b\b\r100/100 [==============================] - 31s 307ms/step - loss: 0.0019 - accuracy: 0.9663 - precision: 0.9783 - recall: 0.9478 - get_f1: 0.9628 - val_loss: 0.0021 - val_accuracy: 0.9651 - val_precision: 0.9786 - val_recall: 0.9446 - val_get_f1: 0.9565\n",
            "Epoch 10/150\n",
            "100/100 [==============================] - ETA: 0s - loss: 0.0018 - accuracy: 0.9668 - precision: 0.9794 - recall: 0.9476 - get_f1: 0.9632"
          ],
          "name": "stdout"
        },
        {
          "output_type": "stream",
          "text": [
            "2020-04-16 22:41:20,742 INFO \n",
            " epoch:009, F1Macro: 0.93632\n"
          ],
          "name": "stderr"
        },
        {
          "output_type": "stream",
          "text": [
            "\b\b\b\b\b\b\b\b\b\b\b\b\b\b\b\b\b\b\b\b\b\b\b\b\b\b\b\b\b\b\b\b\b\b\b\b\b\b\b\b\b\b\b\b\b\b\b\b\b\b\b\b\b\b\b\b\b\b\b\b\b\b\b\b\b\b\b\b\b\b\b\b\b\b\b\b\b\b\b\b\b\b\b\b\b\b\b\b\b\b\b\b\b\b\b\b\b\b\b\b\b\b\b\b\b\b\b\b\b\b\b\b\b\b\b\b\b\b\b\b\b\b\b\b\b\b\b\b\b\b\b\b\b\b\b\b\b\b\r100/100 [==============================] - 31s 308ms/step - loss: 0.0018 - accuracy: 0.9668 - precision: 0.9794 - recall: 0.9476 - get_f1: 0.9632 - val_loss: 0.0021 - val_accuracy: 0.9647 - val_precision: 0.9781 - val_recall: 0.9441 - val_get_f1: 0.9563\n",
            "Epoch 11/150\n",
            "100/100 [==============================] - ETA: 0s - loss: 0.0018 - accuracy: 0.9665 - precision: 0.9794 - recall: 0.9468 - get_f1: 0.9628"
          ],
          "name": "stdout"
        },
        {
          "output_type": "stream",
          "text": [
            "2020-04-16 22:41:51,848 INFO \n",
            " epoch:010, F1Macro: 0.93219\n"
          ],
          "name": "stderr"
        },
        {
          "output_type": "stream",
          "text": [
            "\b\b\b\b\b\b\b\b\b\b\b\b\b\b\b\b\b\b\b\b\b\b\b\b\b\b\b\b\b\b\b\b\b\b\b\b\b\b\b\b\b\b\b\b\b\b\b\b\b\b\b\b\b\b\b\b\b\b\b\b\b\b\b\b\b\b\b\b\b\b\b\b\b\b\b\b\b\b\b\b\b\b\b\b\b\b\b\b\b\b\b\b\b\b\b\b\b\b\b\b\b\b\b\b\b\b\b\b\b\b\b\b\b\b\b\b\b\b\b\b\b\b\b\b\b\b\b\b\b\b\b\b\b\b\b\b\b\b\r100/100 [==============================] - 30s 298ms/step - loss: 0.0018 - accuracy: 0.9665 - precision: 0.9794 - recall: 0.9468 - get_f1: 0.9628 - val_loss: 0.0021 - val_accuracy: 0.9643 - val_precision: 0.9781 - val_recall: 0.9435 - val_get_f1: 0.9558\n",
            "Epoch 12/150\n",
            "100/100 [==============================] - ETA: 0s - loss: 0.0018 - accuracy: 0.9664 - precision: 0.9795 - recall: 0.9461 - get_f1: 0.9624"
          ],
          "name": "stdout"
        },
        {
          "output_type": "stream",
          "text": [
            "2020-04-16 22:42:21,910 INFO \n",
            " epoch:011, F1Macro: 0.93691\n"
          ],
          "name": "stderr"
        },
        {
          "output_type": "stream",
          "text": [
            "\b\b\b\b\b\b\b\b\b\b\b\b\b\b\b\b\b\b\b\b\b\b\b\b\b\b\b\b\b\b\b\b\b\b\b\b\b\b\b\b\b\b\b\b\b\b\b\b\b\b\b\b\b\b\b\b\b\b\b\b\b\b\b\b\b\b\b\b\b\b\b\b\b\b\b\b\b\b\b\b\b\b\b\b\b\b\b\b\b\b\b\b\b\b\b\b\b\b\b\b\b\b\b\b\b\b\b\b\b\b\b\b\b\b\b\b\b\b\b\b\b\b\b\b\b\b\b\b\b\b\b\b\b\b\b\b\b\b\r100/100 [==============================] - 31s 308ms/step - loss: 0.0018 - accuracy: 0.9664 - precision: 0.9795 - recall: 0.9461 - get_f1: 0.9624 - val_loss: 0.0020 - val_accuracy: 0.9656 - val_precision: 0.9794 - val_recall: 0.9447 - val_get_f1: 0.9570\n",
            "Epoch 13/150\n",
            "100/100 [==============================] - ETA: 0s - loss: 0.0018 - accuracy: 0.9674 - precision: 0.9801 - recall: 0.9479 - get_f1: 0.9637"
          ],
          "name": "stdout"
        },
        {
          "output_type": "stream",
          "text": [
            "2020-04-16 22:42:52,989 INFO \n",
            " epoch:012, F1Macro: 0.93323\n"
          ],
          "name": "stderr"
        },
        {
          "output_type": "stream",
          "text": [
            "\b\b\b\b\b\b\b\b\b\b\b\b\b\b\b\b\b\b\b\b\b\b\b\b\b\b\b\b\b\b\b\b\b\b\b\b\b\b\b\b\b\b\b\b\b\b\b\b\b\b\b\b\b\b\b\b\b\b\b\b\b\b\b\b\b\b\b\b\b\b\b\b\b\b\b\b\b\b\b\b\b\b\b\b\b\b\b\b\b\b\b\b\b\b\b\b\b\b\b\b\b\b\b\b\b\b\b\b\b\b\b\b\b\b\b\b\b\b\b\b\b\b\b\b\b\b\b\b\b\b\b\b\b\b\b\b\b\b\r100/100 [==============================] - 30s 298ms/step - loss: 0.0018 - accuracy: 0.9674 - precision: 0.9801 - recall: 0.9479 - get_f1: 0.9637 - val_loss: 0.0021 - val_accuracy: 0.9648 - val_precision: 0.9775 - val_recall: 0.9463 - val_get_f1: 0.9571\n",
            "Epoch 14/150\n",
            "100/100 [==============================] - ETA: 0s - loss: 0.0018 - accuracy: 0.9666 - precision: 0.9797 - recall: 0.9463 - get_f1: 0.9626"
          ],
          "name": "stdout"
        },
        {
          "output_type": "stream",
          "text": [
            "2020-04-16 22:43:23,021 INFO \n",
            " epoch:013, F1Macro: 0.92942\n"
          ],
          "name": "stderr"
        },
        {
          "output_type": "stream",
          "text": [
            "\b\b\b\b\b\b\b\b\b\b\b\b\b\b\b\b\b\b\b\b\b\b\b\b\b\b\b\b\b\b\b\b\b\b\b\b\b\b\b\b\b\b\b\b\b\b\b\b\b\b\b\b\b\b\b\b\b\b\b\b\b\b\b\b\b\b\b\b\b\b\b\b\b\b\b\b\b\b\b\b\b\b\b\b\b\b\b\b\b\b\b\b\b\b\b\b\b\b\b\b\b\b\b\b\b\b\b\b\b\b\b\b\b\b\b\b\b\b\b\b\b\b\b\b\b\b\b\b\b\b\b\b\b\b\b\b\b\b\r100/100 [==============================] - 30s 298ms/step - loss: 0.0018 - accuracy: 0.9666 - precision: 0.9797 - recall: 0.9463 - get_f1: 0.9626 - val_loss: 0.0023 - val_accuracy: 0.9614 - val_precision: 0.9757 - val_recall: 0.9398 - val_get_f1: 0.9525\n",
            "Epoch 15/150\n",
            "100/100 [==============================] - ETA: 0s - loss: 0.0018 - accuracy: 0.9663 - precision: 0.9798 - recall: 0.9455 - get_f1: 0.9623"
          ],
          "name": "stdout"
        },
        {
          "output_type": "stream",
          "text": [
            "2020-04-16 22:43:53,018 INFO \n",
            " epoch:014, F1Macro: 0.93510\n"
          ],
          "name": "stderr"
        },
        {
          "output_type": "stream",
          "text": [
            "\b\b\b\b\b\b\b\b\b\b\b\b\b\b\b\b\b\b\b\b\b\b\b\b\b\b\b\b\b\b\b\b\b\b\b\b\b\b\b\b\b\b\b\b\b\b\b\b\b\b\b\b\b\b\b\b\b\b\b\b\b\b\b\b\b\b\b\b\b\b\b\b\b\b\b\b\b\b\b\b\b\b\b\b\b\b\b\b\b\b\b\b\b\b\b\b\b\b\b\b\b\b\b\b\b\b\b\b\b\b\b\b\b\b\b\b\b\b\b\b\b\b\b\b\b\b\b\b\b\b\b\b\b\b\b\b\b\b\r100/100 [==============================] - 30s 297ms/step - loss: 0.0018 - accuracy: 0.9663 - precision: 0.9798 - recall: 0.9455 - get_f1: 0.9623 - val_loss: 0.0021 - val_accuracy: 0.9643 - val_precision: 0.9790 - val_recall: 0.9420 - val_get_f1: 0.9552\n",
            "Epoch 16/150\n",
            "100/100 [==============================] - ETA: 0s - loss: 0.0018 - accuracy: 0.9666 - precision: 0.9799 - recall: 0.9460 - get_f1: 0.9626"
          ],
          "name": "stdout"
        },
        {
          "output_type": "stream",
          "text": [
            "2020-04-16 22:44:22,857 INFO \n",
            " epoch:015, F1Macro: 0.93657\n"
          ],
          "name": "stderr"
        },
        {
          "output_type": "stream",
          "text": [
            "\b\b\b\b\b\b\b\b\b\b\b\b\b\b\b\b\b\b\b\b\b\b\b\b\b\b\b\b\b\b\b\b\b\b\b\b\b\b\b\b\b\b\b\b\b\b\b\b\b\b\b\b\b\b\b\b\b\b\b\b\b\b\b\b\b\b\b\b\b\b\b\b\b\b\b\b\b\b\b\b\b\b\b\b\b\b\b\b\b\b\b\b\b\b\b\b\b\b\b\b\b\b\b\b\b\b\b\b\b\b\b\b\b\b\b\b\b\b\b\b\b\b\b\b\b\b\b\b\b\b\b\b\b\b\b\b\b\b\r100/100 [==============================] - 30s 296ms/step - loss: 0.0018 - accuracy: 0.9666 - precision: 0.9799 - recall: 0.9460 - get_f1: 0.9626 - val_loss: 0.0020 - val_accuracy: 0.9658 - val_precision: 0.9792 - val_recall: 0.9461 - val_get_f1: 0.9577\n",
            "Epoch 17/150\n",
            "100/100 [==============================] - ETA: 0s - loss: 0.0018 - accuracy: 0.9672 - precision: 0.9805 - recall: 0.9469 - get_f1: 0.9633"
          ],
          "name": "stdout"
        },
        {
          "output_type": "stream",
          "text": [
            "2020-04-16 22:44:52,648 INFO \n",
            " epoch:016, F1Macro: 0.93073\n"
          ],
          "name": "stderr"
        },
        {
          "output_type": "stream",
          "text": [
            "\b\b\b\b\b\b\b\b\b\b\b\b\b\b\b\b\b\b\b\b\b\b\b\b\b\b\b\b\b\b\b\b\b\b\b\b\b\b\b\b\b\b\b\b\b\b\b\b\b\b\b\b\b\b\b\b\b\b\b\b\b\b\b\b\b\b\b\b\b\b\b\b\b\b\b\b\b\b\b\b\b\b\b\b\b\b\b\b\b\b\b\b\b\b\b\b\b\b\b\b\b\b\b\b\b\b\b\b\b\b\b\b\b\b\b\b\b\b\b\b\b\b\b\b\b\b\b\b\b\b\b\b\b\b\b\b\b\b\r100/100 [==============================] - 30s 295ms/step - loss: 0.0018 - accuracy: 0.9672 - precision: 0.9805 - recall: 0.9469 - get_f1: 0.9633 - val_loss: 0.0022 - val_accuracy: 0.9628 - val_precision: 0.9781 - val_recall: 0.9376 - val_get_f1: 0.9516\n",
            "Epoch 18/150\n",
            "100/100 [==============================] - ETA: 0s - loss: 0.0018 - accuracy: 0.9667 - precision: 0.9801 - recall: 0.9457 - get_f1: 0.9625"
          ],
          "name": "stdout"
        },
        {
          "output_type": "stream",
          "text": [
            "2020-04-16 22:45:22,501 INFO \n",
            " epoch:017, F1Macro: 0.93703\n"
          ],
          "name": "stderr"
        },
        {
          "output_type": "stream",
          "text": [
            "\b\b\b\b\b\b\b\b\b\b\b\b\b\b\b\b\b\b\b\b\b\b\b\b\b\b\b\b\b\b\b\b\b\b\b\b\b\b\b\b\b\b\b\b\b\b\b\b\b\b\b\b\b\b\b\b\b\b\b\b\b\b\b\b\b\b\b\b\b\b\b\b\b\b\b\b\b\b\b\b\b\b\b\b\b\b\b\b\b\b\b\b\b\b\b\b\b\b\b\b\b\b\b\b\b\b\b\b\b\b\b\b\b\b\b\b\b\b\b\b\b\b\b\b\b\b\b\b\b\b\b\b\b\b\b\b\b\b\r100/100 [==============================] - 31s 306ms/step - loss: 0.0018 - accuracy: 0.9667 - precision: 0.9801 - recall: 0.9457 - get_f1: 0.9625 - val_loss: 0.0020 - val_accuracy: 0.9660 - val_precision: 0.9803 - val_recall: 0.9438 - val_get_f1: 0.9570\n",
            "Epoch 19/150\n",
            "100/100 [==============================] - ETA: 0s - loss: 0.0017 - accuracy: 0.9677 - precision: 0.9809 - recall: 0.9471 - get_f1: 0.9637"
          ],
          "name": "stdout"
        },
        {
          "output_type": "stream",
          "text": [
            "2020-04-16 22:45:53,315 INFO \n",
            " epoch:018, F1Macro: 0.93657\n"
          ],
          "name": "stderr"
        },
        {
          "output_type": "stream",
          "text": [
            "\b\b\b\b\b\b\b\b\b\b\b\b\b\b\b\b\b\b\b\b\b\b\b\b\b\b\b\b\b\b\b\b\b\b\b\b\b\b\b\b\b\b\b\b\b\b\b\b\b\b\b\b\b\b\b\b\b\b\b\b\b\b\b\b\b\b\b\b\b\b\b\b\b\b\b\b\b\b\b\b\b\b\b\b\b\b\b\b\b\b\b\b\b\b\b\b\b\b\b\b\b\b\b\b\b\b\b\b\b\b\b\b\b\b\b\b\b\b\b\b\b\b\b\b\b\b\b\b\b\b\b\b\b\b\b\b\b\b\r100/100 [==============================] - 30s 295ms/step - loss: 0.0017 - accuracy: 0.9677 - precision: 0.9809 - recall: 0.9471 - get_f1: 0.9637 - val_loss: 0.0020 - val_accuracy: 0.9655 - val_precision: 0.9801 - val_recall: 0.9432 - val_get_f1: 0.9563\n",
            "Epoch 20/150\n",
            "100/100 [==============================] - ETA: 0s - loss: 0.0018 - accuracy: 0.9669 - precision: 0.9807 - recall: 0.9454 - get_f1: 0.9626"
          ],
          "name": "stdout"
        },
        {
          "output_type": "stream",
          "text": [
            "2020-04-16 22:46:23,092 INFO \n",
            " epoch:019, F1Macro: 0.93724\n"
          ],
          "name": "stderr"
        },
        {
          "output_type": "stream",
          "text": [
            "\b\b\b\b\b\b\b\b\b\b\b\b\b\b\b\b\b\b\b\b\b\b\b\b\b\b\b\b\b\b\b\b\b\b\b\b\b\b\b\b\b\b\b\b\b\b\b\b\b\b\b\b\b\b\b\b\b\b\b\b\b\b\b\b\b\b\b\b\b\b\b\b\b\b\b\b\b\b\b\b\b\b\b\b\b\b\b\b\b\b\b\b\b\b\b\b\b\b\b\b\b\b\b\b\b\b\b\b\b\b\b\b\b\b\b\b\b\b\b\b\b\b\b\b\b\b\b\b\b\b\b\b\b\b\b\b\b\b\r100/100 [==============================] - 30s 304ms/step - loss: 0.0018 - accuracy: 0.9669 - precision: 0.9807 - recall: 0.9454 - get_f1: 0.9626 - val_loss: 0.0020 - val_accuracy: 0.9659 - val_precision: 0.9791 - val_recall: 0.9450 - val_get_f1: 0.9569\n",
            "Epoch 21/150\n",
            "100/100 [==============================] - ETA: 0s - loss: 0.0017 - accuracy: 0.9680 - precision: 0.9814 - recall: 0.9471 - get_f1: 0.9638"
          ],
          "name": "stdout"
        },
        {
          "output_type": "stream",
          "text": [
            "2020-04-16 22:46:53,880 INFO \n",
            " epoch:020, F1Macro: 0.93729\n"
          ],
          "name": "stderr"
        },
        {
          "output_type": "stream",
          "text": [
            "\b\b\b\b\b\b\b\b\b\b\b\b\b\b\b\b\b\b\b\b\b\b\b\b\b\b\b\b\b\b\b\b\b\b\b\b\b\b\b\b\b\b\b\b\b\b\b\b\b\b\b\b\b\b\b\b\b\b\b\b\b\b\b\b\b\b\b\b\b\b\b\b\b\b\b\b\b\b\b\b\b\b\b\b\b\b\b\b\b\b\b\b\b\b\b\b\b\b\b\b\b\b\b\b\b\b\b\b\b\b\b\b\b\b\b\b\b\b\b\b\b\b\b\b\b\b\b\b\b\b\b\b\b\b\b\b\b\b\r100/100 [==============================] - 31s 305ms/step - loss: 0.0017 - accuracy: 0.9680 - precision: 0.9814 - recall: 0.9471 - get_f1: 0.9638 - val_loss: 0.0020 - val_accuracy: 0.9662 - val_precision: 0.9806 - val_recall: 0.9438 - val_get_f1: 0.9571\n",
            "Epoch 22/150\n",
            "100/100 [==============================] - ETA: 0s - loss: 0.0018 - accuracy: 0.9675 - precision: 0.9812 - recall: 0.9461 - get_f1: 0.9633"
          ],
          "name": "stdout"
        },
        {
          "output_type": "stream",
          "text": [
            "2020-04-16 22:47:24,651 INFO \n",
            " epoch:021, F1Macro: 0.93617\n"
          ],
          "name": "stderr"
        },
        {
          "output_type": "stream",
          "text": [
            "\b\b\b\b\b\b\b\b\b\b\b\b\b\b\b\b\b\b\b\b\b\b\b\b\b\b\b\b\b\b\b\b\b\b\b\b\b\b\b\b\b\b\b\b\b\b\b\b\b\b\b\b\b\b\b\b\b\b\b\b\b\b\b\b\b\b\b\b\b\b\b\b\b\b\b\b\b\b\b\b\b\b\b\b\b\b\b\b\b\b\b\b\b\b\b\b\b\b\b\b\b\b\b\b\b\b\b\b\b\b\b\b\b\b\b\b\b\b\b\b\b\b\b\b\b\b\b\b\b\b\b\b\b\b\b\b\b\b\r100/100 [==============================] - 30s 295ms/step - loss: 0.0018 - accuracy: 0.9675 - precision: 0.9812 - recall: 0.9461 - get_f1: 0.9633 - val_loss: 0.0020 - val_accuracy: 0.9661 - val_precision: 0.9808 - val_recall: 0.9428 - val_get_f1: 0.9567\n",
            "Epoch 23/150\n",
            "100/100 [==============================] - ETA: 0s - loss: 0.0018 - accuracy: 0.9672 - precision: 0.9811 - recall: 0.9452 - get_f1: 0.9627"
          ],
          "name": "stdout"
        },
        {
          "output_type": "stream",
          "text": [
            "2020-04-16 22:47:54,504 INFO \n",
            " epoch:022, F1Macro: 0.93186\n"
          ],
          "name": "stderr"
        },
        {
          "output_type": "stream",
          "text": [
            "\b\b\b\b\b\b\b\b\b\b\b\b\b\b\b\b\b\b\b\b\b\b\b\b\b\b\b\b\b\b\b\b\b\b\b\b\b\b\b\b\b\b\b\b\b\b\b\b\b\b\b\b\b\b\b\b\b\b\b\b\b\b\b\b\b\b\b\b\b\b\b\b\b\b\b\b\b\b\b\b\b\b\b\b\b\b\b\b\b\b\b\b\b\b\b\b\b\b\b\b\b\b\b\b\b\b\b\b\b\b\b\b\b\b\b\b\b\b\b\b\b\b\b\b\b\b\b\b\b\b\b\b\b\b\b\b\b\b\r100/100 [==============================] - 30s 296ms/step - loss: 0.0018 - accuracy: 0.9672 - precision: 0.9811 - recall: 0.9452 - get_f1: 0.9627 - val_loss: 0.0021 - val_accuracy: 0.9646 - val_precision: 0.9784 - val_recall: 0.9437 - val_get_f1: 0.9559\n",
            "Epoch 24/150\n",
            "100/100 [==============================] - ETA: 0s - loss: 0.0017 - accuracy: 0.9679 - precision: 0.9816 - recall: 0.9463 - get_f1: 0.9636"
          ],
          "name": "stdout"
        },
        {
          "output_type": "stream",
          "text": [
            "2020-04-16 22:48:24,334 INFO \n",
            " epoch:023, F1Macro: 0.93740\n"
          ],
          "name": "stderr"
        },
        {
          "output_type": "stream",
          "text": [
            "\b\b\b\b\b\b\b\b\b\b\b\b\b\b\b\b\b\b\b\b\b\b\b\b\b\b\b\b\b\b\b\b\b\b\b\b\b\b\b\b\b\b\b\b\b\b\b\b\b\b\b\b\b\b\b\b\b\b\b\b\b\b\b\b\b\b\b\b\b\b\b\b\b\b\b\b\b\b\b\b\b\b\b\b\b\b\b\b\b\b\b\b\b\b\b\b\b\b\b\b\b\b\b\b\b\b\b\b\b\b\b\b\b\b\b\b\b\b\b\b\b\b\b\b\b\b\b\b\b\b\b\b\b\b\b\b\b\b\r100/100 [==============================] - 31s 306ms/step - loss: 0.0017 - accuracy: 0.9679 - precision: 0.9816 - recall: 0.9463 - get_f1: 0.9636 - val_loss: 0.0020 - val_accuracy: 0.9656 - val_precision: 0.9798 - val_recall: 0.9447 - val_get_f1: 0.9571\n",
            "Epoch 25/150\n",
            "100/100 [==============================] - ETA: 0s - loss: 0.0017 - accuracy: 0.9680 - precision: 0.9817 - recall: 0.9466 - get_f1: 0.9637"
          ],
          "name": "stdout"
        },
        {
          "output_type": "stream",
          "text": [
            "2020-04-16 22:48:55,146 INFO \n",
            " epoch:024, F1Macro: 0.93723\n"
          ],
          "name": "stderr"
        },
        {
          "output_type": "stream",
          "text": [
            "\b\b\b\b\b\b\b\b\b\b\b\b\b\b\b\b\b\b\b\b\b\b\b\b\b\b\b\b\b\b\b\b\b\b\b\b\b\b\b\b\b\b\b\b\b\b\b\b\b\b\b\b\b\b\b\b\b\b\b\b\b\b\b\b\b\b\b\b\b\b\b\b\b\b\b\b\b\b\b\b\b\b\b\b\b\b\b\b\b\b\b\b\b\b\b\b\b\b\b\b\b\b\b\b\b\b\b\b\b\b\b\b\b\b\b\b\b\b\b\b\b\b\b\b\b\b\b\b\b\b\b\b\b\b\b\b\b\b\r100/100 [==============================] - 30s 295ms/step - loss: 0.0017 - accuracy: 0.9680 - precision: 0.9817 - recall: 0.9466 - get_f1: 0.9637 - val_loss: 0.0020 - val_accuracy: 0.9662 - val_precision: 0.9810 - val_recall: 0.9422 - val_get_f1: 0.9564\n",
            "Epoch 26/150\n",
            "100/100 [==============================] - ETA: 0s - loss: 0.0018 - accuracy: 0.9673 - precision: 0.9814 - recall: 0.9446 - get_f1: 0.9626"
          ],
          "name": "stdout"
        },
        {
          "output_type": "stream",
          "text": [
            "2020-04-16 22:49:24,974 INFO \n",
            " epoch:025, F1Macro: 0.93756\n"
          ],
          "name": "stderr"
        },
        {
          "output_type": "stream",
          "text": [
            "\b\b\b\b\b\b\b\b\b\b\b\b\b\b\b\b\b\b\b\b\b\b\b\b\b\b\b\b\b\b\b\b\b\b\b\b\b\b\b\b\b\b\b\b\b\b\b\b\b\b\b\b\b\b\b\b\b\b\b\b\b\b\b\b\b\b\b\b\b\b\b\b\b\b\b\b\b\b\b\b\b\b\b\b\b\b\b\b\b\b\b\b\b\b\b\b\b\b\b\b\b\b\b\b\b\b\b\b\b\b\b\b\b\b\b\b\b\b\b\b\b\b\b\b\b\b\b\b\b\b\b\b\b\b\b\b\b\b\r100/100 [==============================] - 31s 305ms/step - loss: 0.0018 - accuracy: 0.9673 - precision: 0.9814 - recall: 0.9446 - get_f1: 0.9626 - val_loss: 0.0020 - val_accuracy: 0.9662 - val_precision: 0.9810 - val_recall: 0.9429 - val_get_f1: 0.9567\n",
            "Epoch 27/150\n",
            "100/100 [==============================] - ETA: 0s - loss: 0.0017 - accuracy: 0.9680 - precision: 0.9819 - recall: 0.9458 - get_f1: 0.9635"
          ],
          "name": "stdout"
        },
        {
          "output_type": "stream",
          "text": [
            "2020-04-16 22:49:55,747 INFO \n",
            " epoch:026, F1Macro: 0.93770\n"
          ],
          "name": "stderr"
        },
        {
          "output_type": "stream",
          "text": [
            "\b\b\b\b\b\b\b\b\b\b\b\b\b\b\b\b\b\b\b\b\b\b\b\b\b\b\b\b\b\b\b\b\b\b\b\b\b\b\b\b\b\b\b\b\b\b\b\b\b\b\b\b\b\b\b\b\b\b\b\b\b\b\b\b\b\b\b\b\b\b\b\b\b\b\b\b\b\b\b\b\b\b\b\b\b\b\b\b\b\b\b\b\b\b\b\b\b\b\b\b\b\b\b\b\b\b\b\b\b\b\b\b\b\b\b\b\b\b\b\b\b\b\b\b\b\b\b\b\b\b\b\b\b\b\b\b\b\b\r100/100 [==============================] - 31s 306ms/step - loss: 0.0017 - accuracy: 0.9680 - precision: 0.9819 - recall: 0.9458 - get_f1: 0.9635 - val_loss: 0.0019 - val_accuracy: 0.9664 - val_precision: 0.9809 - val_recall: 0.9437 - val_get_f1: 0.9571\n",
            "Epoch 28/150\n",
            "100/100 [==============================] - ETA: 0s - loss: 0.0018 - accuracy: 0.9670 - precision: 0.9814 - recall: 0.9439 - get_f1: 0.9622"
          ],
          "name": "stdout"
        },
        {
          "output_type": "stream",
          "text": [
            "2020-04-16 22:50:26,785 INFO \n",
            " epoch:027, F1Macro: 0.93693\n"
          ],
          "name": "stderr"
        },
        {
          "output_type": "stream",
          "text": [
            "\b\b\b\b\b\b\b\b\b\b\b\b\b\b\b\b\b\b\b\b\b\b\b\b\b\b\b\b\b\b\b\b\b\b\b\b\b\b\b\b\b\b\b\b\b\b\b\b\b\b\b\b\b\b\b\b\b\b\b\b\b\b\b\b\b\b\b\b\b\b\b\b\b\b\b\b\b\b\b\b\b\b\b\b\b\b\b\b\b\b\b\b\b\b\b\b\b\b\b\b\b\b\b\b\b\b\b\b\b\b\b\b\b\b\b\b\b\b\b\b\b\b\b\b\b\b\b\b\b\b\b\b\b\b\b\b\b\b\r100/100 [==============================] - 30s 297ms/step - loss: 0.0018 - accuracy: 0.9670 - precision: 0.9814 - recall: 0.9439 - get_f1: 0.9622 - val_loss: 0.0020 - val_accuracy: 0.9660 - val_precision: 0.9810 - val_recall: 0.9427 - val_get_f1: 0.9566\n",
            "Epoch 29/150\n",
            "100/100 [==============================] - ETA: 0s - loss: 0.0017 - accuracy: 0.9673 - precision: 0.9817 - recall: 0.9444 - get_f1: 0.9626"
          ],
          "name": "stdout"
        },
        {
          "output_type": "stream",
          "text": [
            "2020-04-16 22:50:56,816 INFO \n",
            " epoch:028, F1Macro: 0.93633\n"
          ],
          "name": "stderr"
        },
        {
          "output_type": "stream",
          "text": [
            "\b\b\b\b\b\b\b\b\b\b\b\b\b\b\b\b\b\b\b\b\b\b\b\b\b\b\b\b\b\b\b\b\b\b\b\b\b\b\b\b\b\b\b\b\b\b\b\b\b\b\b\b\b\b\b\b\b\b\b\b\b\b\b\b\b\b\b\b\b\b\b\b\b\b\b\b\b\b\b\b\b\b\b\b\b\b\b\b\b\b\b\b\b\b\b\b\b\b\b\b\b\b\b\b\b\b\b\b\b\b\b\b\b\b\b\b\b\b\b\b\b\b\b\b\b\b\b\b\b\b\b\b\b\b\b\b\b\b\r100/100 [==============================] - 30s 298ms/step - loss: 0.0017 - accuracy: 0.9673 - precision: 0.9817 - recall: 0.9444 - get_f1: 0.9626 - val_loss: 0.0020 - val_accuracy: 0.9652 - val_precision: 0.9813 - val_recall: 0.9404 - val_get_f1: 0.9551\n",
            "Epoch 30/150\n",
            "100/100 [==============================] - ETA: 0s - loss: 0.0017 - accuracy: 0.9680 - precision: 0.9822 - recall: 0.9452 - get_f1: 0.9632"
          ],
          "name": "stdout"
        },
        {
          "output_type": "stream",
          "text": [
            "2020-04-16 22:51:26,958 INFO \n",
            " epoch:029, F1Macro: 0.93783\n"
          ],
          "name": "stderr"
        },
        {
          "output_type": "stream",
          "text": [
            "\b\b\b\b\b\b\b\b\b\b\b\b\b\b\b\b\b\b\b\b\b\b\b\b\b\b\b\b\b\b\b\b\b\b\b\b\b\b\b\b\b\b\b\b\b\b\b\b\b\b\b\b\b\b\b\b\b\b\b\b\b\b\b\b\b\b\b\b\b\b\b\b\b\b\b\b\b\b\b\b\b\b\b\b\b\b\b\b\b\b\b\b\b\b\b\b\b\b\b\b\b\b\b\b\b\b\b\b\b\b\b\b\b\b\b\b\b\b\b\b\b\b\b\b\b\b\b\b\b\b\b\b\b\b\b\b\b\b\r100/100 [==============================] - 31s 309ms/step - loss: 0.0017 - accuracy: 0.9680 - precision: 0.9822 - recall: 0.9452 - get_f1: 0.9632 - val_loss: 0.0020 - val_accuracy: 0.9661 - val_precision: 0.9810 - val_recall: 0.9436 - val_get_f1: 0.9570\n",
            "Epoch 31/150\n",
            "100/100 [==============================] - ETA: 0s - loss: 0.0017 - accuracy: 0.9674 - precision: 0.9819 - recall: 0.9440 - get_f1: 0.9625"
          ],
          "name": "stdout"
        },
        {
          "output_type": "stream",
          "text": [
            "2020-04-16 22:51:58,050 INFO \n",
            " epoch:030, F1Macro: 0.92882\n"
          ],
          "name": "stderr"
        },
        {
          "output_type": "stream",
          "text": [
            "\b\b\b\b\b\b\b\b\b\b\b\b\b\b\b\b\b\b\b\b\b\b\b\b\b\b\b\b\b\b\b\b\b\b\b\b\b\b\b\b\b\b\b\b\b\b\b\b\b\b\b\b\b\b\b\b\b\b\b\b\b\b\b\b\b\b\b\b\b\b\b\b\b\b\b\b\b\b\b\b\b\b\b\b\b\b\b\b\b\b\b\b\b\b\b\b\b\b\b\b\b\b\b\b\b\b\b\b\b\b\b\b\b\b\b\b\b\b\b\b\b\b\b\b\b\b\b\b\b\b\b\b\b\b\b\b\b\b\r100/100 [==============================] - 30s 298ms/step - loss: 0.0017 - accuracy: 0.9674 - precision: 0.9819 - recall: 0.9440 - get_f1: 0.9625 - val_loss: 0.0021 - val_accuracy: 0.9634 - val_precision: 0.9810 - val_recall: 0.9331 - val_get_f1: 0.9508\n",
            "Epoch 32/150\n",
            "100/100 [==============================] - ETA: 0s - loss: 0.0067 - accuracy: 0.8912 - precision: 0.9555 - recall: 0.7923 - get_f1: 0.8608"
          ],
          "name": "stdout"
        },
        {
          "output_type": "stream",
          "text": [
            "2020-04-16 22:52:28,131 INFO \n",
            " epoch:031, F1Macro: 0.92275\n"
          ],
          "name": "stderr"
        },
        {
          "output_type": "stream",
          "text": [
            "\b\b\b\b\b\b\b\b\b\b\b\b\b\b\b\b\b\b\b\b\b\b\b\b\b\b\b\b\b\b\b\b\b\b\b\b\b\b\b\b\b\b\b\b\b\b\b\b\b\b\b\b\b\b\b\b\b\b\b\b\b\b\b\b\b\b\b\b\b\b\b\b\b\b\b\b\b\b\b\b\b\b\b\b\b\b\b\b\b\b\b\b\b\b\b\b\b\b\b\b\b\b\b\b\b\b\b\b\b\b\b\b\b\b\b\b\b\b\b\b\b\b\b\b\b\b\b\b\b\b\b\b\b\b\b\b\b\b\r100/100 [==============================] - 30s 298ms/step - loss: 0.0067 - accuracy: 0.8912 - precision: 0.9555 - recall: 0.7923 - get_f1: 0.8608 - val_loss: 0.0027 - val_accuracy: 0.9556 - val_precision: 0.9714 - val_recall: 0.9338 - val_get_f1: 0.9469\n",
            "Epoch 33/150\n",
            "100/100 [==============================] - ETA: 0s - loss: 0.0020 - accuracy: 0.9642 - precision: 0.9772 - recall: 0.9444 - get_f1: 0.9605"
          ],
          "name": "stdout"
        },
        {
          "output_type": "stream",
          "text": [
            "2020-04-16 22:52:58,267 INFO \n",
            " epoch:032, F1Macro: 0.93492\n"
          ],
          "name": "stderr"
        },
        {
          "output_type": "stream",
          "text": [
            "\b\b\b\b\b\b\b\b\b\b\b\b\b\b\b\b\b\b\b\b\b\b\b\b\b\b\b\b\b\b\b\b\b\b\b\b\b\b\b\b\b\b\b\b\b\b\b\b\b\b\b\b\b\b\b\b\b\b\b\b\b\b\b\b\b\b\b\b\b\b\b\b\b\b\b\b\b\b\b\b\b\b\b\b\b\b\b\b\b\b\b\b\b\b\b\b\b\b\b\b\b\b\b\b\b\b\b\b\b\b\b\b\b\b\b\b\b\b\b\b\b\b\b\b\b\b\b\b\b\b\b\b\b\b\b\b\b\b\r100/100 [==============================] - 30s 299ms/step - loss: 0.0020 - accuracy: 0.9642 - precision: 0.9772 - recall: 0.9444 - get_f1: 0.9605 - val_loss: 0.0021 - val_accuracy: 0.9646 - val_precision: 0.9770 - val_recall: 0.9467 - val_get_f1: 0.9571\n",
            "Epoch 34/150\n",
            "100/100 [==============================] - ETA: 0s - loss: 0.0018 - accuracy: 0.9668 - precision: 0.9789 - recall: 0.9484 - get_f1: 0.9634"
          ],
          "name": "stdout"
        },
        {
          "output_type": "stream",
          "text": [
            "2020-04-16 22:53:28,331 INFO \n",
            " epoch:033, F1Macro: 0.93635\n"
          ],
          "name": "stderr"
        },
        {
          "output_type": "stream",
          "text": [
            "\b\b\b\b\b\b\b\b\b\b\b\b\b\b\b\b\b\b\b\b\b\b\b\b\b\b\b\b\b\b\b\b\b\b\b\b\b\b\b\b\b\b\b\b\b\b\b\b\b\b\b\b\b\b\b\b\b\b\b\b\b\b\b\b\b\b\b\b\b\b\b\b\b\b\b\b\b\b\b\b\b\b\b\b\b\b\b\b\b\b\b\b\b\b\b\b\b\b\b\b\b\b\b\b\b\b\b\b\b\b\b\b\b\b\b\b\b\b\b\b\b\b\b\b\b\b\b\b\b\b\b\b\b\b\b\b\b\b\r100/100 [==============================] - 30s 298ms/step - loss: 0.0018 - accuracy: 0.9668 - precision: 0.9789 - recall: 0.9484 - get_f1: 0.9634 - val_loss: 0.0021 - val_accuracy: 0.9651 - val_precision: 0.9782 - val_recall: 0.9453 - val_get_f1: 0.9569\n",
            "Epoch 35/150\n",
            "100/100 [==============================] - ETA: 0s - loss: 0.0018 - accuracy: 0.9671 - precision: 0.9795 - recall: 0.9485 - get_f1: 0.9637"
          ],
          "name": "stdout"
        },
        {
          "output_type": "stream",
          "text": [
            "2020-04-16 22:53:58,352 INFO \n",
            " epoch:034, F1Macro: 0.93650\n"
          ],
          "name": "stderr"
        },
        {
          "output_type": "stream",
          "text": [
            "\b\b\b\b\b\b\b\b\b\b\b\b\b\b\b\b\b\b\b\b\b\b\b\b\b\b\b\b\b\b\b\b\b\b\b\b\b\b\b\b\b\b\b\b\b\b\b\b\b\b\b\b\b\b\b\b\b\b\b\b\b\b\b\b\b\b\b\b\b\b\b\b\b\b\b\b\b\b\b\b\b\b\b\b\b\b\b\b\b\b\b\b\b\b\b\b\b\b\b\b\b\b\b\b\b\b\b\b\b\b\b\b\b\b\b\b\b\b\b\b\b\b\b\b\b\b\b\b\b\b\b\b\b\b\b\b\b\b\r100/100 [==============================] - 30s 297ms/step - loss: 0.0018 - accuracy: 0.9671 - precision: 0.9795 - recall: 0.9485 - get_f1: 0.9637 - val_loss: 0.0020 - val_accuracy: 0.9652 - val_precision: 0.9792 - val_recall: 0.9445 - val_get_f1: 0.9569\n",
            "Epoch 36/150\n",
            "100/100 [==============================] - ETA: 0s - loss: 0.0018 - accuracy: 0.9674 - precision: 0.9802 - recall: 0.9479 - get_f1: 0.9637"
          ],
          "name": "stdout"
        },
        {
          "output_type": "stream",
          "text": [
            "2020-04-16 22:54:28,373 INFO \n",
            " epoch:035, F1Macro: 0.93688\n"
          ],
          "name": "stderr"
        },
        {
          "output_type": "stream",
          "text": [
            "\b\b\b\b\b\b\b\b\b\b\b\b\b\b\b\b\b\b\b\b\b\b\b\b\b\b\b\b\b\b\b\b\b\b\b\b\b\b\b\b\b\b\b\b\b\b\b\b\b\b\b\b\b\b\b\b\b\b\b\b\b\b\b\b\b\b\b\b\b\b\b\b\b\b\b\b\b\b\b\b\b\b\b\b\b\b\b\b\b\b\b\b\b\b\b\b\b\b\b\b\b\b\b\b\b\b\b\b\b\b\b\b\b\b\b\b\b\b\b\b\b\b\b\b\b\b\b\b\b\b\b\b\b\b\b\b\b\b\r100/100 [==============================] - 30s 297ms/step - loss: 0.0018 - accuracy: 0.9674 - precision: 0.9802 - recall: 0.9479 - get_f1: 0.9637 - val_loss: 0.0020 - val_accuracy: 0.9657 - val_precision: 0.9794 - val_recall: 0.9455 - val_get_f1: 0.9575\n",
            "Epoch 37/150\n",
            "100/100 [==============================] - ETA: 0s - loss: 0.0017 - accuracy: 0.9677 - precision: 0.9806 - recall: 0.9480 - get_f1: 0.9640"
          ],
          "name": "stdout"
        },
        {
          "output_type": "stream",
          "text": [
            "2020-04-16 22:54:58,410 INFO \n",
            " epoch:036, F1Macro: 0.93725\n"
          ],
          "name": "stderr"
        },
        {
          "output_type": "stream",
          "text": [
            "\b\b\b\b\b\b\b\b\b\b\b\b\b\b\b\b\b\b\b\b\b\b\b\b\b\b\b\b\b\b\b\b\b\b\b\b\b\b\b\b\b\b\b\b\b\b\b\b\b\b\b\b\b\b\b\b\b\b\b\b\b\b\b\b\b\b\b\b\b\b\b\b\b\b\b\b\b\b\b\b\b\b\b\b\b\b\b\b\b\b\b\b\b\b\b\b\b\b\b\b\b\b\b\b\b\b\b\b\b\b\b\b\b\b\b\b\b\b\b\b\b\b\b\b\b\b\b\b\b\b\b\b\b\b\b\b\b\b\r100/100 [==============================] - 30s 298ms/step - loss: 0.0017 - accuracy: 0.9677 - precision: 0.9806 - recall: 0.9480 - get_f1: 0.9640 - val_loss: 0.0020 - val_accuracy: 0.9660 - val_precision: 0.9797 - val_recall: 0.9448 - val_get_f1: 0.9573\n",
            "Epoch 38/150\n",
            "100/100 [==============================] - ETA: 0s - loss: 0.0017 - accuracy: 0.9678 - precision: 0.9810 - recall: 0.9475 - get_f1: 0.9639"
          ],
          "name": "stdout"
        },
        {
          "output_type": "stream",
          "text": [
            "2020-04-16 22:55:28,463 INFO \n",
            " epoch:037, F1Macro: 0.93575\n"
          ],
          "name": "stderr"
        },
        {
          "output_type": "stream",
          "text": [
            "\b\b\b\b\b\b\b\b\b\b\b\b\b\b\b\b\b\b\b\b\b\b\b\b\b\b\b\b\b\b\b\b\b\b\b\b\b\b\b\b\b\b\b\b\b\b\b\b\b\b\b\b\b\b\b\b\b\b\b\b\b\b\b\b\b\b\b\b\b\b\b\b\b\b\b\b\b\b\b\b\b\b\b\b\b\b\b\b\b\b\b\b\b\b\b\b\b\b\b\b\b\b\b\b\b\b\b\b\b\b\b\b\b\b\b\b\b\b\b\b\b\b\b\b\b\b\b\b\b\b\b\b\b\b\b\b\b\b\r100/100 [==============================] - 30s 298ms/step - loss: 0.0017 - accuracy: 0.9678 - precision: 0.9810 - recall: 0.9475 - get_f1: 0.9639 - val_loss: 0.0020 - val_accuracy: 0.9654 - val_precision: 0.9788 - val_recall: 0.9458 - val_get_f1: 0.9574\n",
            "Epoch 39/150\n",
            "100/100 [==============================] - ETA: 0s - loss: 0.0017 - accuracy: 0.9678 - precision: 0.9811 - recall: 0.9474 - get_f1: 0.9639"
          ],
          "name": "stdout"
        },
        {
          "output_type": "stream",
          "text": [
            "2020-04-16 22:55:58,489 INFO \n",
            " epoch:038, F1Macro: 0.93635\n"
          ],
          "name": "stderr"
        },
        {
          "output_type": "stream",
          "text": [
            "\b\b\b\b\b\b\b\b\b\b\b\b\b\b\b\b\b\b\b\b\b\b\b\b\b\b\b\b\b\b\b\b\b\b\b\b\b\b\b\b\b\b\b\b\b\b\b\b\b\b\b\b\b\b\b\b\b\b\b\b\b\b\b\b\b\b\b\b\b\b\b\b\b\b\b\b\b\b\b\b\b\b\b\b\b\b\b\b\b\b\b\b\b\b\b\b\b\b\b\b\b\b\b\b\b\b\b\b\b\b\b\b\b\b\b\b\b\b\b\b\b\b\b\b\b\b\b\b\b\b\b\b\b\b\b\b\b\b\r100/100 [==============================] - 30s 297ms/step - loss: 0.0017 - accuracy: 0.9678 - precision: 0.9811 - recall: 0.9474 - get_f1: 0.9639 - val_loss: 0.0020 - val_accuracy: 0.9657 - val_precision: 0.9802 - val_recall: 0.9444 - val_get_f1: 0.9573\n",
            "Epoch 40/150\n",
            "100/100 [==============================] - ETA: 0s - loss: 0.0017 - accuracy: 0.9678 - precision: 0.9812 - recall: 0.9469 - get_f1: 0.9637"
          ],
          "name": "stdout"
        },
        {
          "output_type": "stream",
          "text": [
            "2020-04-16 22:56:28,493 INFO \n",
            " epoch:039, F1Macro: 0.93760\n"
          ],
          "name": "stderr"
        },
        {
          "output_type": "stream",
          "text": [
            "\b\b\b\b\b\b\b\b\b\b\b\b\b\b\b\b\b\b\b\b\b\b\b\b\b\b\b\b\b\b\b\b\b\b\b\b\b\b\b\b\b\b\b\b\b\b\b\b\b\b\b\b\b\b\b\b\b\b\b\b\b\b\b\b\b\b\b\b\b\b\b\b\b\b\b\b\b\b\b\b\b\b\b\b\b\b\b\b\b\b\b\b\b\b\b\b\b\b\b\b\b\b\b\b\b\b\b\b\b\b\b\b\b\b\b\b\b\b\b\b\b\b\b\b\b\b\b\b\b\b\b\b\b\b\b\b\b\b\r100/100 [==============================] - 30s 297ms/step - loss: 0.0017 - accuracy: 0.9678 - precision: 0.9812 - recall: 0.9469 - get_f1: 0.9637 - val_loss: 0.0020 - val_accuracy: 0.9661 - val_precision: 0.9804 - val_recall: 0.9435 - val_get_f1: 0.9570\n",
            "Epoch 41/150\n",
            "100/100 [==============================] - ETA: 0s - loss: 0.0017 - accuracy: 0.9678 - precision: 0.9813 - recall: 0.9467 - get_f1: 0.9637"
          ],
          "name": "stdout"
        },
        {
          "output_type": "stream",
          "text": [
            "2020-04-16 22:56:58,604 INFO \n",
            " epoch:040, F1Macro: 0.93627\n"
          ],
          "name": "stderr"
        },
        {
          "output_type": "stream",
          "text": [
            "\b\b\b\b\b\b\b\b\b\b\b\b\b\b\b\b\b\b\b\b\b\b\b\b\b\b\b\b\b\b\b\b\b\b\b\b\b\b\b\b\b\b\b\b\b\b\b\b\b\b\b\b\b\b\b\b\b\b\b\b\b\b\b\b\b\b\b\b\b\b\b\b\b\b\b\b\b\b\b\b\b\b\b\b\b\b\b\b\b\b\b\b\b\b\b\b\b\b\b\b\b\b\b\b\b\b\b\b\b\b\b\b\b\b\b\b\b\b\b\b\b\b\b\b\b\b\b\b\b\b\b\b\b\b\b\b\b\b\r100/100 [==============================] - 30s 298ms/step - loss: 0.0017 - accuracy: 0.9678 - precision: 0.9813 - recall: 0.9467 - get_f1: 0.9637 - val_loss: 0.0020 - val_accuracy: 0.9657 - val_precision: 0.9809 - val_recall: 0.9416 - val_get_f1: 0.9557\n",
            "Epoch 42/150\n",
            "100/100 [==============================] - ETA: 0s - loss: 0.0017 - accuracy: 0.9679 - precision: 0.9815 - recall: 0.9464 - get_f1: 0.9636"
          ],
          "name": "stdout"
        },
        {
          "output_type": "stream",
          "text": [
            "2020-04-16 22:57:28,753 INFO \n",
            " epoch:041, F1Macro: 0.93599\n"
          ],
          "name": "stderr"
        },
        {
          "output_type": "stream",
          "text": [
            "\b\b\b\b\b\b\b\b\b\b\b\b\b\b\b\b\b\b\b\b\b\b\b\b\b\b\b\b\b\b\b\b\b\b\b\b\b\b\b\b\b\b\b\b\b\b\b\b\b\b\b\b\b\b\b\b\b\b\b\b\b\b\b\b\b\b\b\b\b\b\b\b\b\b\b\b\b\b\b\b\b\b\b\b\b\b\b\b\b\b\b\b\b\b\b\b\b\b\b\b\b\b\b\b\b\b\b\b\b\b\b\b\b\b\b\b\b\b\b\b\b\b\b\b\b\b\b\b\b\b\b\b\b\b\b\b\b\b\r100/100 [==============================] - 30s 299ms/step - loss: 0.0017 - accuracy: 0.9679 - precision: 0.9815 - recall: 0.9464 - get_f1: 0.9636 - val_loss: 0.0020 - val_accuracy: 0.9659 - val_precision: 0.9801 - val_recall: 0.9436 - val_get_f1: 0.9567\n",
            "Epoch 43/150\n",
            "100/100 [==============================] - ETA: 0s - loss: 0.0017 - accuracy: 0.9680 - precision: 0.9816 - recall: 0.9466 - get_f1: 0.9637"
          ],
          "name": "stdout"
        },
        {
          "output_type": "stream",
          "text": [
            "2020-04-16 22:57:58,848 INFO \n",
            " epoch:042, F1Macro: 0.93745\n"
          ],
          "name": "stderr"
        },
        {
          "output_type": "stream",
          "text": [
            "\b\b\b\b\b\b\b\b\b\b\b\b\b\b\b\b\b\b\b\b\b\b\b\b\b\b\b\b\b\b\b\b\b\b\b\b\b\b\b\b\b\b\b\b\b\b\b\b\b\b\b\b\b\b\b\b\b\b\b\b\b\b\b\b\b\b\b\b\b\b\b\b\b\b\b\b\b\b\b\b\b\b\b\b\b\b\b\b\b\b\b\b\b\b\b\b\b\b\b\b\b\b\b\b\b\b\b\b\b\b\b\b\b\b\b\b\b\b\b\b\b\b\b\b\b\b\b\b\b\b\b\b\b\b\b\b\b\b\r100/100 [==============================] - 30s 298ms/step - loss: 0.0017 - accuracy: 0.9680 - precision: 0.9816 - recall: 0.9466 - get_f1: 0.9637 - val_loss: 0.0020 - val_accuracy: 0.9658 - val_precision: 0.9803 - val_recall: 0.9442 - val_get_f1: 0.9572\n",
            "Epoch 44/150\n",
            "100/100 [==============================] - ETA: 0s - loss: 0.0017 - accuracy: 0.9680 - precision: 0.9816 - recall: 0.9469 - get_f1: 0.9639"
          ],
          "name": "stdout"
        },
        {
          "output_type": "stream",
          "text": [
            "2020-04-16 22:58:28,921 INFO \n",
            " epoch:043, F1Macro: 0.93749\n"
          ],
          "name": "stderr"
        },
        {
          "output_type": "stream",
          "text": [
            "\b\b\b\b\b\b\b\b\b\b\b\b\b\b\b\b\b\b\b\b\b\b\b\b\b\b\b\b\b\b\b\b\b\b\b\b\b\b\b\b\b\b\b\b\b\b\b\b\b\b\b\b\b\b\b\b\b\b\b\b\b\b\b\b\b\b\b\b\b\b\b\b\b\b\b\b\b\b\b\b\b\b\b\b\b\b\b\b\b\b\b\b\b\b\b\b\b\b\b\b\b\b\b\b\b\b\b\b\b\b\b\b\b\b\b\b\b\b\b\b\b\b\b\b\b\b\b\b\b\b\b\b\b\b\b\b\b\b\r100/100 [==============================] - 30s 298ms/step - loss: 0.0017 - accuracy: 0.9680 - precision: 0.9816 - recall: 0.9469 - get_f1: 0.9639 - val_loss: 0.0020 - val_accuracy: 0.9660 - val_precision: 0.9812 - val_recall: 0.9424 - val_get_f1: 0.9566\n",
            "Epoch 45/150\n",
            "100/100 [==============================] - ETA: 0s - loss: 0.0017 - accuracy: 0.9681 - precision: 0.9819 - recall: 0.9464 - get_f1: 0.9637"
          ],
          "name": "stdout"
        },
        {
          "output_type": "stream",
          "text": [
            "2020-04-16 22:58:59,006 INFO \n",
            " epoch:044, F1Macro: 0.93781\n"
          ],
          "name": "stderr"
        },
        {
          "output_type": "stream",
          "text": [
            "\b\b\b\b\b\b\b\b\b\b\b\b\b\b\b\b\b\b\b\b\b\b\b\b\b\b\b\b\b\b\b\b\b\b\b\b\b\b\b\b\b\b\b\b\b\b\b\b\b\b\b\b\b\b\b\b\b\b\b\b\b\b\b\b\b\b\b\b\b\b\b\b\b\b\b\b\b\b\b\b\b\b\b\b\b\b\b\b\b\b\b\b\b\b\b\b\b\b\b\b\b\b\b\b\b\b\b\b\b\b\b\b\b\b\b\b\b\b\b\b\b\b\b\b\b\b\b\b\b\b\b\b\b\b\b\b\b\b\r100/100 [==============================] - 30s 298ms/step - loss: 0.0017 - accuracy: 0.9681 - precision: 0.9819 - recall: 0.9464 - get_f1: 0.9637 - val_loss: 0.0019 - val_accuracy: 0.9665 - val_precision: 0.9807 - val_recall: 0.9444 - val_get_f1: 0.9575\n",
            "Epoch 46/150\n",
            "100/100 [==============================] - ETA: 0s - loss: 0.0017 - accuracy: 0.9680 - precision: 0.9818 - recall: 0.9462 - get_f1: 0.9636"
          ],
          "name": "stdout"
        },
        {
          "output_type": "stream",
          "text": [
            "2020-04-16 22:59:29,047 INFO \n",
            " epoch:045, F1Macro: 0.93630\n"
          ],
          "name": "stderr"
        },
        {
          "output_type": "stream",
          "text": [
            "\b\b\b\b\b\b\b\b\b\b\b\b\b\b\b\b\b\b\b\b\b\b\b\b\b\b\b\b\b\b\b\b\b\b\b\b\b\b\b\b\b\b\b\b\b\b\b\b\b\b\b\b\b\b\b\b\b\b\b\b\b\b\b\b\b\b\b\b\b\b\b\b\b\b\b\b\b\b\b\b\b\b\b\b\b\b\b\b\b\b\b\b\b\b\b\b\b\b\b\b\b\b\b\b\b\b\b\b\b\b\b\b\b\b\b\b\b\b\b\b\b\b\b\b\b\b\b\b\b\b\b\b\b\b\b\b\b\b\r100/100 [==============================] - 30s 298ms/step - loss: 0.0017 - accuracy: 0.9680 - precision: 0.9818 - recall: 0.9462 - get_f1: 0.9636 - val_loss: 0.0020 - val_accuracy: 0.9656 - val_precision: 0.9818 - val_recall: 0.9392 - val_get_f1: 0.9547\n",
            "Epoch 47/150\n",
            "100/100 [==============================] - ETA: 0s - loss: 0.0017 - accuracy: 0.9679 - precision: 0.9818 - recall: 0.9455 - get_f1: 0.9632"
          ],
          "name": "stdout"
        },
        {
          "output_type": "stream",
          "text": [
            "2020-04-16 22:59:59,102 INFO \n",
            " epoch:046, F1Macro: 0.93778\n"
          ],
          "name": "stderr"
        },
        {
          "output_type": "stream",
          "text": [
            "\b\b\b\b\b\b\b\b\b\b\b\b\b\b\b\b\b\b\b\b\b\b\b\b\b\b\b\b\b\b\b\b\b\b\b\b\b\b\b\b\b\b\b\b\b\b\b\b\b\b\b\b\b\b\b\b\b\b\b\b\b\b\b\b\b\b\b\b\b\b\b\b\b\b\b\b\b\b\b\b\b\b\b\b\b\b\b\b\b\b\b\b\b\b\b\b\b\b\b\b\b\b\b\b\b\b\b\b\b\b\b\b\b\b\b\b\b\b\b\b\b\b\b\b\b\b\b\b\b\b\b\b\b\b\b\b\b\b\r100/100 [==============================] - 30s 298ms/step - loss: 0.0017 - accuracy: 0.9679 - precision: 0.9818 - recall: 0.9455 - get_f1: 0.9632 - val_loss: 0.0019 - val_accuracy: 0.9662 - val_precision: 0.9811 - val_recall: 0.9427 - val_get_f1: 0.9566\n",
            "Epoch 48/150\n",
            "100/100 [==============================] - ETA: 0s - loss: 0.0017 - accuracy: 0.9682 - precision: 0.9820 - recall: 0.9462 - get_f1: 0.9637"
          ],
          "name": "stdout"
        },
        {
          "output_type": "stream",
          "text": [
            "2020-04-16 23:00:29,158 INFO \n",
            " epoch:047, F1Macro: 0.93800\n"
          ],
          "name": "stderr"
        },
        {
          "output_type": "stream",
          "text": [
            "\b\b\b\b\b\b\b\b\b\b\b\b\b\b\b\b\b\b\b\b\b\b\b\b\b\b\b\b\b\b\b\b\b\b\b\b\b\b\b\b\b\b\b\b\b\b\b\b\b\b\b\b\b\b\b\b\b\b\b\b\b\b\b\b\b\b\b\b\b\b\b\b\b\b\b\b\b\b\b\b\b\b\b\b\b\b\b\b\b\b\b\b\b\b\b\b\b\b\b\b\b\b\b\b\b\b\b\b\b\b\b\b\b\b\b\b\b\b\b\b\b\b\b\b\b\b\b\b\b\b\b\b\b\b\b\b\b\b\r100/100 [==============================] - 31s 308ms/step - loss: 0.0017 - accuracy: 0.9682 - precision: 0.9820 - recall: 0.9462 - get_f1: 0.9637 - val_loss: 0.0019 - val_accuracy: 0.9665 - val_precision: 0.9806 - val_recall: 0.9448 - val_get_f1: 0.9576\n",
            "Epoch 49/150\n",
            "100/100 [==============================] - ETA: 0s - loss: 0.0017 - accuracy: 0.9679 - precision: 0.9819 - recall: 0.9454 - get_f1: 0.9632"
          ],
          "name": "stdout"
        },
        {
          "output_type": "stream",
          "text": [
            "2020-04-16 23:01:00,303 INFO \n",
            " epoch:048, F1Macro: 0.93761\n"
          ],
          "name": "stderr"
        },
        {
          "output_type": "stream",
          "text": [
            "\b\b\b\b\b\b\b\b\b\b\b\b\b\b\b\b\b\b\b\b\b\b\b\b\b\b\b\b\b\b\b\b\b\b\b\b\b\b\b\b\b\b\b\b\b\b\b\b\b\b\b\b\b\b\b\b\b\b\b\b\b\b\b\b\b\b\b\b\b\b\b\b\b\b\b\b\b\b\b\b\b\b\b\b\b\b\b\b\b\b\b\b\b\b\b\b\b\b\b\b\b\b\b\b\b\b\b\b\b\b\b\b\b\b\b\b\b\b\b\b\b\b\b\b\b\b\b\b\b\b\b\b\b\b\b\b\b\b\r100/100 [==============================] - 30s 298ms/step - loss: 0.0017 - accuracy: 0.9679 - precision: 0.9819 - recall: 0.9454 - get_f1: 0.9632 - val_loss: 0.0019 - val_accuracy: 0.9663 - val_precision: 0.9804 - val_recall: 0.9448 - val_get_f1: 0.9576\n",
            "Epoch 50/150\n",
            "100/100 [==============================] - ETA: 0s - loss: 0.0017 - accuracy: 0.9683 - precision: 0.9822 - recall: 0.9461 - get_f1: 0.9637"
          ],
          "name": "stdout"
        },
        {
          "output_type": "stream",
          "text": [
            "2020-04-16 23:01:30,452 INFO \n",
            " epoch:049, F1Macro: 0.93716\n"
          ],
          "name": "stderr"
        },
        {
          "output_type": "stream",
          "text": [
            "\b\b\b\b\b\b\b\b\b\b\b\b\b\b\b\b\b\b\b\b\b\b\b\b\b\b\b\b\b\b\b\b\b\b\b\b\b\b\b\b\b\b\b\b\b\b\b\b\b\b\b\b\b\b\b\b\b\b\b\b\b\b\b\b\b\b\b\b\b\b\b\b\b\b\b\b\b\b\b\b\b\b\b\b\b\b\b\b\b\b\b\b\b\b\b\b\b\b\b\b\b\b\b\b\b\b\b\b\b\b\b\b\b\b\b\b\b\b\b\b\b\b\b\b\b\b\b\b\b\b\b\b\b\b\b\b\b\b\r100/100 [==============================] - 30s 299ms/step - loss: 0.0017 - accuracy: 0.9683 - precision: 0.9822 - recall: 0.9461 - get_f1: 0.9637 - val_loss: 0.0020 - val_accuracy: 0.9662 - val_precision: 0.9807 - val_recall: 0.9430 - val_get_f1: 0.9566\n",
            "Epoch 51/150\n",
            "100/100 [==============================] - ETA: 0s - loss: 0.0017 - accuracy: 0.9683 - precision: 0.9823 - recall: 0.9459 - get_f1: 0.9637"
          ],
          "name": "stdout"
        },
        {
          "output_type": "stream",
          "text": [
            "2020-04-16 23:02:00,552 INFO \n",
            " epoch:050, F1Macro: 0.93809\n"
          ],
          "name": "stderr"
        },
        {
          "output_type": "stream",
          "text": [
            "\b\b\b\b\b\b\b\b\b\b\b\b\b\b\b\b\b\b\b\b\b\b\b\b\b\b\b\b\b\b\b\b\b\b\b\b\b\b\b\b\b\b\b\b\b\b\b\b\b\b\b\b\b\b\b\b\b\b\b\b\b\b\b\b\b\b\b\b\b\b\b\b\b\b\b\b\b\b\b\b\b\b\b\b\b\b\b\b\b\b\b\b\b\b\b\b\b\b\b\b\b\b\b\b\b\b\b\b\b\b\b\b\b\b\b\b\b\b\b\b\b\b\b\b\b\b\b\b\b\b\b\b\b\b\b\b\b\b\r100/100 [==============================] - 31s 308ms/step - loss: 0.0017 - accuracy: 0.9683 - precision: 0.9823 - recall: 0.9459 - get_f1: 0.9637 - val_loss: 0.0019 - val_accuracy: 0.9667 - val_precision: 0.9817 - val_recall: 0.9425 - val_get_f1: 0.9568\n",
            "Epoch 52/150\n",
            "100/100 [==============================] - ETA: 0s - loss: 0.0018 - accuracy: 0.9669 - precision: 0.9816 - recall: 0.9431 - get_f1: 0.9619"
          ],
          "name": "stdout"
        },
        {
          "output_type": "stream",
          "text": [
            "2020-04-16 23:02:31,594 INFO \n",
            " epoch:051, F1Macro: 0.93524\n"
          ],
          "name": "stderr"
        },
        {
          "output_type": "stream",
          "text": [
            "\b\b\b\b\b\b\b\b\b\b\b\b\b\b\b\b\b\b\b\b\b\b\b\b\b\b\b\b\b\b\b\b\b\b\b\b\b\b\b\b\b\b\b\b\b\b\b\b\b\b\b\b\b\b\b\b\b\b\b\b\b\b\b\b\b\b\b\b\b\b\b\b\b\b\b\b\b\b\b\b\b\b\b\b\b\b\b\b\b\b\b\b\b\b\b\b\b\b\b\b\b\b\b\b\b\b\b\b\b\b\b\b\b\b\b\b\b\b\b\b\b\b\b\b\b\b\b\b\b\b\b\b\b\b\b\b\b\b\r100/100 [==============================] - 30s 298ms/step - loss: 0.0018 - accuracy: 0.9669 - precision: 0.9816 - recall: 0.9431 - get_f1: 0.9619 - val_loss: 0.0020 - val_accuracy: 0.9645 - val_precision: 0.9792 - val_recall: 0.9413 - val_get_f1: 0.9550\n",
            "Epoch 53/150\n",
            "100/100 [==============================] - ETA: 0s - loss: 0.0017 - accuracy: 0.9680 - precision: 0.9822 - recall: 0.9451 - get_f1: 0.9633"
          ],
          "name": "stdout"
        },
        {
          "output_type": "stream",
          "text": [
            "2020-04-16 23:03:01,694 INFO \n",
            " epoch:052, F1Macro: 0.93744\n"
          ],
          "name": "stderr"
        },
        {
          "output_type": "stream",
          "text": [
            "\b\b\b\b\b\b\b\b\b\b\b\b\b\b\b\b\b\b\b\b\b\b\b\b\b\b\b\b\b\b\b\b\b\b\b\b\b\b\b\b\b\b\b\b\b\b\b\b\b\b\b\b\b\b\b\b\b\b\b\b\b\b\b\b\b\b\b\b\b\b\b\b\b\b\b\b\b\b\b\b\b\b\b\b\b\b\b\b\b\b\b\b\b\b\b\b\b\b\b\b\b\b\b\b\b\b\b\b\b\b\b\b\b\b\b\b\b\b\b\b\b\b\b\b\b\b\b\b\b\b\b\b\b\b\b\b\b\b\r100/100 [==============================] - 30s 298ms/step - loss: 0.0017 - accuracy: 0.9680 - precision: 0.9822 - recall: 0.9451 - get_f1: 0.9633 - val_loss: 0.0019 - val_accuracy: 0.9663 - val_precision: 0.9811 - val_recall: 0.9429 - val_get_f1: 0.9568\n",
            "Epoch 54/150\n",
            "100/100 [==============================] - ETA: 0s - loss: 0.0017 - accuracy: 0.9682 - precision: 0.9824 - recall: 0.9454 - get_f1: 0.9635"
          ],
          "name": "stdout"
        },
        {
          "output_type": "stream",
          "text": [
            "2020-04-16 23:03:31,844 INFO \n",
            " epoch:053, F1Macro: 0.93473\n"
          ],
          "name": "stderr"
        },
        {
          "output_type": "stream",
          "text": [
            "\b\b\b\b\b\b\b\b\b\b\b\b\b\b\b\b\b\b\b\b\b\b\b\b\b\b\b\b\b\b\b\b\b\b\b\b\b\b\b\b\b\b\b\b\b\b\b\b\b\b\b\b\b\b\b\b\b\b\b\b\b\b\b\b\b\b\b\b\b\b\b\b\b\b\b\b\b\b\b\b\b\b\b\b\b\b\b\b\b\b\b\b\b\b\b\b\b\b\b\b\b\b\b\b\b\b\b\b\b\b\b\b\b\b\b\b\b\b\b\b\b\b\b\b\b\b\b\b\b\b\b\b\b\b\b\b\b\b\r100/100 [==============================] - 30s 299ms/step - loss: 0.0017 - accuracy: 0.9682 - precision: 0.9824 - recall: 0.9454 - get_f1: 0.9635 - val_loss: 0.0020 - val_accuracy: 0.9656 - val_precision: 0.9803 - val_recall: 0.9432 - val_get_f1: 0.9564\n",
            "Epoch 55/150\n",
            "100/100 [==============================] - ETA: 0s - loss: 0.0017 - accuracy: 0.9678 - precision: 0.9822 - recall: 0.9446 - get_f1: 0.9629"
          ],
          "name": "stdout"
        },
        {
          "output_type": "stream",
          "text": [
            "2020-04-16 23:04:01,958 INFO \n",
            " epoch:054, F1Macro: 0.93788\n"
          ],
          "name": "stderr"
        },
        {
          "output_type": "stream",
          "text": [
            "\b\b\b\b\b\b\b\b\b\b\b\b\b\b\b\b\b\b\b\b\b\b\b\b\b\b\b\b\b\b\b\b\b\b\b\b\b\b\b\b\b\b\b\b\b\b\b\b\b\b\b\b\b\b\b\b\b\b\b\b\b\b\b\b\b\b\b\b\b\b\b\b\b\b\b\b\b\b\b\b\b\b\b\b\b\b\b\b\b\b\b\b\b\b\b\b\b\b\b\b\b\b\b\b\b\b\b\b\b\b\b\b\b\b\b\b\b\b\b\b\b\b\b\b\b\b\b\b\b\b\b\b\b\b\b\b\b\b\r100/100 [==============================] - 30s 298ms/step - loss: 0.0017 - accuracy: 0.9678 - precision: 0.9822 - recall: 0.9446 - get_f1: 0.9629 - val_loss: 0.0019 - val_accuracy: 0.9666 - val_precision: 0.9822 - val_recall: 0.9412 - val_get_f1: 0.9562\n",
            "Epoch 56/150\n",
            "100/100 [==============================] - ETA: 0s - loss: 0.0017 - accuracy: 0.9681 - precision: 0.9822 - recall: 0.9455 - get_f1: 0.9634"
          ],
          "name": "stdout"
        },
        {
          "output_type": "stream",
          "text": [
            "2020-04-16 23:04:32,028 INFO \n",
            " epoch:055, F1Macro: 0.93734\n"
          ],
          "name": "stderr"
        },
        {
          "output_type": "stream",
          "text": [
            "\b\b\b\b\b\b\b\b\b\b\b\b\b\b\b\b\b\b\b\b\b\b\b\b\b\b\b\b\b\b\b\b\b\b\b\b\b\b\b\b\b\b\b\b\b\b\b\b\b\b\b\b\b\b\b\b\b\b\b\b\b\b\b\b\b\b\b\b\b\b\b\b\b\b\b\b\b\b\b\b\b\b\b\b\b\b\b\b\b\b\b\b\b\b\b\b\b\b\b\b\b\b\b\b\b\b\b\b\b\b\b\b\b\b\b\b\b\b\b\b\b\b\b\b\b\b\b\b\b\b\b\b\b\b\b\b\b\b\r100/100 [==============================] - 30s 298ms/step - loss: 0.0017 - accuracy: 0.9681 - precision: 0.9822 - recall: 0.9455 - get_f1: 0.9634 - val_loss: 0.0020 - val_accuracy: 0.9657 - val_precision: 0.9813 - val_recall: 0.9399 - val_get_f1: 0.9552\n",
            "Epoch 57/150\n",
            "100/100 [==============================] - ETA: 0s - loss: 0.0017 - accuracy: 0.9683 - precision: 0.9826 - recall: 0.9454 - get_f1: 0.9635"
          ],
          "name": "stdout"
        },
        {
          "output_type": "stream",
          "text": [
            "2020-04-16 23:05:02,157 INFO \n",
            " epoch:056, F1Macro: 0.93837\n"
          ],
          "name": "stderr"
        },
        {
          "output_type": "stream",
          "text": [
            "\b\b\b\b\b\b\b\b\b\b\b\b\b\b\b\b\b\b\b\b\b\b\b\b\b\b\b\b\b\b\b\b\b\b\b\b\b\b\b\b\b\b\b\b\b\b\b\b\b\b\b\b\b\b\b\b\b\b\b\b\b\b\b\b\b\b\b\b\b\b\b\b\b\b\b\b\b\b\b\b\b\b\b\b\b\b\b\b\b\b\b\b\b\b\b\b\b\b\b\b\b\b\b\b\b\b\b\b\b\b\b\b\b\b\b\b\b\b\b\b\b\b\b\b\b\b\b\b\b\b\b\b\b\b\b\b\b\b\r100/100 [==============================] - 31s 308ms/step - loss: 0.0017 - accuracy: 0.9683 - precision: 0.9826 - recall: 0.9454 - get_f1: 0.9635 - val_loss: 0.0019 - val_accuracy: 0.9670 - val_precision: 0.9821 - val_recall: 0.9424 - val_get_f1: 0.9568\n",
            "Epoch 58/150\n",
            "100/100 [==============================] - ETA: 0s - loss: 0.0017 - accuracy: 0.9685 - precision: 0.9829 - recall: 0.9452 - get_f1: 0.9636"
          ],
          "name": "stdout"
        },
        {
          "output_type": "stream",
          "text": [
            "2020-04-16 23:05:33,284 INFO \n",
            " epoch:057, F1Macro: 0.93834\n"
          ],
          "name": "stderr"
        },
        {
          "output_type": "stream",
          "text": [
            "\b\b\b\b\b\b\b\b\b\b\b\b\b\b\b\b\b\b\b\b\b\b\b\b\b\b\b\b\b\b\b\b\b\b\b\b\b\b\b\b\b\b\b\b\b\b\b\b\b\b\b\b\b\b\b\b\b\b\b\b\b\b\b\b\b\b\b\b\b\b\b\b\b\b\b\b\b\b\b\b\b\b\b\b\b\b\b\b\b\b\b\b\b\b\b\b\b\b\b\b\b\b\b\b\b\b\b\b\b\b\b\b\b\b\b\b\b\b\b\b\b\b\b\b\b\b\b\b\b\b\b\b\b\b\b\b\b\b\r100/100 [==============================] - 30s 299ms/step - loss: 0.0017 - accuracy: 0.9685 - precision: 0.9829 - recall: 0.9452 - get_f1: 0.9636 - val_loss: 0.0019 - val_accuracy: 0.9669 - val_precision: 0.9823 - val_recall: 0.9415 - val_get_f1: 0.9564\n",
            "Epoch 59/150\n",
            "100/100 [==============================] - ETA: 0s - loss: 0.0017 - accuracy: 0.9683 - precision: 0.9829 - recall: 0.9450 - get_f1: 0.9635"
          ],
          "name": "stdout"
        },
        {
          "output_type": "stream",
          "text": [
            "2020-04-16 23:06:03,378 INFO \n",
            " epoch:058, F1Macro: 0.93749\n"
          ],
          "name": "stderr"
        },
        {
          "output_type": "stream",
          "text": [
            "\b\b\b\b\b\b\b\b\b\b\b\b\b\b\b\b\b\b\b\b\b\b\b\b\b\b\b\b\b\b\b\b\b\b\b\b\b\b\b\b\b\b\b\b\b\b\b\b\b\b\b\b\b\b\b\b\b\b\b\b\b\b\b\b\b\b\b\b\b\b\b\b\b\b\b\b\b\b\b\b\b\b\b\b\b\b\b\b\b\b\b\b\b\b\b\b\b\b\b\b\b\b\b\b\b\b\b\b\b\b\b\b\b\b\b\b\b\b\b\b\b\b\b\b\b\b\b\b\b\b\b\b\b\b\b\b\b\b\r100/100 [==============================] - 30s 298ms/step - loss: 0.0017 - accuracy: 0.9683 - precision: 0.9829 - recall: 0.9450 - get_f1: 0.9635 - val_loss: 0.0019 - val_accuracy: 0.9663 - val_precision: 0.9822 - val_recall: 0.9396 - val_get_f1: 0.9553\n",
            "Epoch 60/150\n",
            "100/100 [==============================] - ETA: 0s - loss: 0.0017 - accuracy: 0.9685 - precision: 0.9831 - recall: 0.9448 - get_f1: 0.9635"
          ],
          "name": "stdout"
        },
        {
          "output_type": "stream",
          "text": [
            "2020-04-16 23:06:33,514 INFO \n",
            " epoch:059, F1Macro: 0.93676\n"
          ],
          "name": "stderr"
        },
        {
          "output_type": "stream",
          "text": [
            "\b\b\b\b\b\b\b\b\b\b\b\b\b\b\b\b\b\b\b\b\b\b\b\b\b\b\b\b\b\b\b\b\b\b\b\b\b\b\b\b\b\b\b\b\b\b\b\b\b\b\b\b\b\b\b\b\b\b\b\b\b\b\b\b\b\b\b\b\b\b\b\b\b\b\b\b\b\b\b\b\b\b\b\b\b\b\b\b\b\b\b\b\b\b\b\b\b\b\b\b\b\b\b\b\b\b\b\b\b\b\b\b\b\b\b\b\b\b\b\b\b\b\b\b\b\b\b\b\b\b\b\b\b\b\b\b\b\b\r100/100 [==============================] - 30s 299ms/step - loss: 0.0017 - accuracy: 0.9685 - precision: 0.9831 - recall: 0.9448 - get_f1: 0.9635 - val_loss: 0.0019 - val_accuracy: 0.9664 - val_precision: 0.9819 - val_recall: 0.9410 - val_get_f1: 0.9559\n",
            "Epoch 61/150\n",
            "100/100 [==============================] - ETA: 0s - loss: 0.0017 - accuracy: 0.9685 - precision: 0.9830 - recall: 0.9447 - get_f1: 0.9634"
          ],
          "name": "stdout"
        },
        {
          "output_type": "stream",
          "text": [
            "2020-04-16 23:07:03,610 INFO \n",
            " epoch:060, F1Macro: 0.93838\n"
          ],
          "name": "stderr"
        },
        {
          "output_type": "stream",
          "text": [
            "\b\b\b\b\b\b\b\b\b\b\b\b\b\b\b\b\b\b\b\b\b\b\b\b\b\b\b\b\b\b\b\b\b\b\b\b\b\b\b\b\b\b\b\b\b\b\b\b\b\b\b\b\b\b\b\b\b\b\b\b\b\b\b\b\b\b\b\b\b\b\b\b\b\b\b\b\b\b\b\b\b\b\b\b\b\b\b\b\b\b\b\b\b\b\b\b\b\b\b\b\b\b\b\b\b\b\b\b\b\b\b\b\b\b\b\b\b\b\b\b\b\b\b\b\b\b\b\b\b\b\b\b\b\b\b\b\b\b\r100/100 [==============================] - 31s 309ms/step - loss: 0.0017 - accuracy: 0.9685 - precision: 0.9830 - recall: 0.9447 - get_f1: 0.9634 - val_loss: 0.0019 - val_accuracy: 0.9669 - val_precision: 0.9826 - val_recall: 0.9407 - val_get_f1: 0.9562\n",
            "Epoch 62/150\n",
            "100/100 [==============================] - ETA: 0s - loss: 0.0017 - accuracy: 0.9685 - precision: 0.9832 - recall: 0.9444 - get_f1: 0.9633"
          ],
          "name": "stdout"
        },
        {
          "output_type": "stream",
          "text": [
            "2020-04-16 23:07:34,825 INFO \n",
            " epoch:061, F1Macro: 0.93762\n"
          ],
          "name": "stderr"
        },
        {
          "output_type": "stream",
          "text": [
            "\b\b\b\b\b\b\b\b\b\b\b\b\b\b\b\b\b\b\b\b\b\b\b\b\b\b\b\b\b\b\b\b\b\b\b\b\b\b\b\b\b\b\b\b\b\b\b\b\b\b\b\b\b\b\b\b\b\b\b\b\b\b\b\b\b\b\b\b\b\b\b\b\b\b\b\b\b\b\b\b\b\b\b\b\b\b\b\b\b\b\b\b\b\b\b\b\b\b\b\b\b\b\b\b\b\b\b\b\b\b\b\b\b\b\b\b\b\b\b\b\b\b\b\b\b\b\b\b\b\b\b\b\b\b\b\b\b\b\r100/100 [==============================] - 30s 299ms/step - loss: 0.0017 - accuracy: 0.9685 - precision: 0.9832 - recall: 0.9444 - get_f1: 0.9633 - val_loss: 0.0019 - val_accuracy: 0.9664 - val_precision: 0.9817 - val_recall: 0.9416 - val_get_f1: 0.9564\n",
            "Epoch 63/150\n",
            "100/100 [==============================] - ETA: 0s - loss: 0.0017 - accuracy: 0.9687 - precision: 0.9834 - recall: 0.9444 - get_f1: 0.9634"
          ],
          "name": "stdout"
        },
        {
          "output_type": "stream",
          "text": [
            "2020-04-16 23:08:04,924 INFO \n",
            " epoch:062, F1Macro: 0.93843\n"
          ],
          "name": "stderr"
        },
        {
          "output_type": "stream",
          "text": [
            "\b\b\b\b\b\b\b\b\b\b\b\b\b\b\b\b\b\b\b\b\b\b\b\b\b\b\b\b\b\b\b\b\b\b\b\b\b\b\b\b\b\b\b\b\b\b\b\b\b\b\b\b\b\b\b\b\b\b\b\b\b\b\b\b\b\b\b\b\b\b\b\b\b\b\b\b\b\b\b\b\b\b\b\b\b\b\b\b\b\b\b\b\b\b\b\b\b\b\b\b\b\b\b\b\b\b\b\b\b\b\b\b\b\b\b\b\b\b\b\b\b\b\b\b\b\b\b\b\b\b\b\b\b\b\b\b\b\b\r100/100 [==============================] - 31s 308ms/step - loss: 0.0017 - accuracy: 0.9687 - precision: 0.9834 - recall: 0.9444 - get_f1: 0.9634 - val_loss: 0.0019 - val_accuracy: 0.9671 - val_precision: 0.9826 - val_recall: 0.9409 - val_get_f1: 0.9560\n",
            "Epoch 64/150\n",
            "100/100 [==============================] - ETA: 0s - loss: 0.0017 - accuracy: 0.9687 - precision: 0.9835 - recall: 0.9442 - get_f1: 0.9634"
          ],
          "name": "stdout"
        },
        {
          "output_type": "stream",
          "text": [
            "2020-04-16 23:08:36,072 INFO \n",
            " epoch:063, F1Macro: 0.93822\n"
          ],
          "name": "stderr"
        },
        {
          "output_type": "stream",
          "text": [
            "\b\b\b\b\b\b\b\b\b\b\b\b\b\b\b\b\b\b\b\b\b\b\b\b\b\b\b\b\b\b\b\b\b\b\b\b\b\b\b\b\b\b\b\b\b\b\b\b\b\b\b\b\b\b\b\b\b\b\b\b\b\b\b\b\b\b\b\b\b\b\b\b\b\b\b\b\b\b\b\b\b\b\b\b\b\b\b\b\b\b\b\b\b\b\b\b\b\b\b\b\b\b\b\b\b\b\b\b\b\b\b\b\b\b\b\b\b\b\b\b\b\b\b\b\b\b\b\b\b\b\b\b\b\b\b\b\b\b\r100/100 [==============================] - 30s 299ms/step - loss: 0.0017 - accuracy: 0.9687 - precision: 0.9835 - recall: 0.9442 - get_f1: 0.9634 - val_loss: 0.0019 - val_accuracy: 0.9669 - val_precision: 0.9825 - val_recall: 0.9406 - val_get_f1: 0.9558\n",
            "Epoch 65/150\n",
            "100/100 [==============================] - ETA: 0s - loss: 0.0017 - accuracy: 0.9682 - precision: 0.9832 - recall: 0.9433 - get_f1: 0.9627"
          ],
          "name": "stdout"
        },
        {
          "output_type": "stream",
          "text": [
            "2020-04-16 23:09:06,242 INFO \n",
            " epoch:064, F1Macro: 0.93773\n"
          ],
          "name": "stderr"
        },
        {
          "output_type": "stream",
          "text": [
            "\b\b\b\b\b\b\b\b\b\b\b\b\b\b\b\b\b\b\b\b\b\b\b\b\b\b\b\b\b\b\b\b\b\b\b\b\b\b\b\b\b\b\b\b\b\b\b\b\b\b\b\b\b\b\b\b\b\b\b\b\b\b\b\b\b\b\b\b\b\b\b\b\b\b\b\b\b\b\b\b\b\b\b\b\b\b\b\b\b\b\b\b\b\b\b\b\b\b\b\b\b\b\b\b\b\b\b\b\b\b\b\b\b\b\b\b\b\b\b\b\b\b\b\b\b\b\b\b\b\b\b\b\b\b\b\b\b\b\r100/100 [==============================] - 30s 299ms/step - loss: 0.0017 - accuracy: 0.9682 - precision: 0.9832 - recall: 0.9433 - get_f1: 0.9627 - val_loss: 0.0019 - val_accuracy: 0.9665 - val_precision: 0.9823 - val_recall: 0.9402 - val_get_f1: 0.9555\n",
            "Epoch 66/150\n",
            "100/100 [==============================] - ETA: 0s - loss: 0.0017 - accuracy: 0.9684 - precision: 0.9834 - recall: 0.9436 - get_f1: 0.9630"
          ],
          "name": "stdout"
        },
        {
          "output_type": "stream",
          "text": [
            "2020-04-16 23:09:36,373 INFO \n",
            " epoch:065, F1Macro: 0.93812\n"
          ],
          "name": "stderr"
        },
        {
          "output_type": "stream",
          "text": [
            "\b\b\b\b\b\b\b\b\b\b\b\b\b\b\b\b\b\b\b\b\b\b\b\b\b\b\b\b\b\b\b\b\b\b\b\b\b\b\b\b\b\b\b\b\b\b\b\b\b\b\b\b\b\b\b\b\b\b\b\b\b\b\b\b\b\b\b\b\b\b\b\b\b\b\b\b\b\b\b\b\b\b\b\b\b\b\b\b\b\b\b\b\b\b\b\b\b\b\b\b\b\b\b\b\b\b\b\b\b\b\b\b\b\b\b\b\b\b\b\b\b\b\b\b\b\b\b\b\b\b\b\b\b\b\b\b\b\b\r100/100 [==============================] - 30s 298ms/step - loss: 0.0017 - accuracy: 0.9684 - precision: 0.9834 - recall: 0.9436 - get_f1: 0.9630 - val_loss: 0.0019 - val_accuracy: 0.9667 - val_precision: 0.9827 - val_recall: 0.9404 - val_get_f1: 0.9558\n",
            "Epoch 67/150\n",
            "100/100 [==============================] - ETA: 0s - loss: 0.0017 - accuracy: 0.9682 - precision: 0.9834 - recall: 0.9430 - get_f1: 0.9627"
          ],
          "name": "stdout"
        },
        {
          "output_type": "stream",
          "text": [
            "2020-04-16 23:10:06,538 INFO \n",
            " epoch:066, F1Macro: 0.93743\n"
          ],
          "name": "stderr"
        },
        {
          "output_type": "stream",
          "text": [
            "\b\b\b\b\b\b\b\b\b\b\b\b\b\b\b\b\b\b\b\b\b\b\b\b\b\b\b\b\b\b\b\b\b\b\b\b\b\b\b\b\b\b\b\b\b\b\b\b\b\b\b\b\b\b\b\b\b\b\b\b\b\b\b\b\b\b\b\b\b\b\b\b\b\b\b\b\b\b\b\b\b\b\b\b\b\b\b\b\b\b\b\b\b\b\b\b\b\b\b\b\b\b\b\b\b\b\b\b\b\b\b\b\b\b\b\b\b\b\b\b\b\b\b\b\b\b\b\b\b\b\b\b\b\b\b\b\b\b\r100/100 [==============================] - 30s 299ms/step - loss: 0.0017 - accuracy: 0.9682 - precision: 0.9834 - recall: 0.9430 - get_f1: 0.9627 - val_loss: 0.0019 - val_accuracy: 0.9666 - val_precision: 0.9828 - val_recall: 0.9386 - val_get_f1: 0.9548\n",
            "Epoch 68/150\n",
            "100/100 [==============================] - ETA: 0s - loss: 0.0017 - accuracy: 0.9684 - precision: 0.9835 - recall: 0.9432 - get_f1: 0.9628"
          ],
          "name": "stdout"
        },
        {
          "output_type": "stream",
          "text": [
            "2020-04-16 23:10:36,662 INFO \n",
            " epoch:067, F1Macro: 0.93673\n"
          ],
          "name": "stderr"
        },
        {
          "output_type": "stream",
          "text": [
            "\b\b\b\b\b\b\b\b\b\b\b\b\b\b\b\b\b\b\b\b\b\b\b\b\b\b\b\b\b\b\b\b\b\b\b\b\b\b\b\b\b\b\b\b\b\b\b\b\b\b\b\b\b\b\b\b\b\b\b\b\b\b\b\b\b\b\b\b\b\b\b\b\b\b\b\b\b\b\b\b\b\b\b\b\b\b\b\b\b\b\b\b\b\b\b\b\b\b\b\b\b\b\b\b\b\b\b\b\b\b\b\b\b\b\b\b\b\b\b\b\b\b\b\b\b\b\b\b\b\b\b\b\b\b\b\b\b\b\r100/100 [==============================] - 30s 298ms/step - loss: 0.0017 - accuracy: 0.9684 - precision: 0.9835 - recall: 0.9432 - get_f1: 0.9628 - val_loss: 0.0020 - val_accuracy: 0.9662 - val_precision: 0.9816 - val_recall: 0.9408 - val_get_f1: 0.9557\n",
            "Epoch 69/150\n",
            "100/100 [==============================] - ETA: 0s - loss: 0.0017 - accuracy: 0.9678 - precision: 0.9833 - recall: 0.9418 - get_f1: 0.9620"
          ],
          "name": "stdout"
        },
        {
          "output_type": "stream",
          "text": [
            "2020-04-16 23:11:06,764 INFO \n",
            " epoch:068, F1Macro: 0.93823\n"
          ],
          "name": "stderr"
        },
        {
          "output_type": "stream",
          "text": [
            "\b\b\b\b\b\b\b\b\b\b\b\b\b\b\b\b\b\b\b\b\b\b\b\b\b\b\b\b\b\b\b\b\b\b\b\b\b\b\b\b\b\b\b\b\b\b\b\b\b\b\b\b\b\b\b\b\b\b\b\b\b\b\b\b\b\b\b\b\b\b\b\b\b\b\b\b\b\b\b\b\b\b\b\b\b\b\b\b\b\b\b\b\b\b\b\b\b\b\b\b\b\b\b\b\b\b\b\b\b\b\b\b\b\b\b\b\b\b\b\b\b\b\b\b\b\b\b\b\b\b\b\b\b\b\b\b\b\b\r100/100 [==============================] - 30s 298ms/step - loss: 0.0017 - accuracy: 0.9678 - precision: 0.9833 - recall: 0.9418 - get_f1: 0.9620 - val_loss: 0.0019 - val_accuracy: 0.9669 - val_precision: 0.9822 - val_recall: 0.9420 - val_get_f1: 0.9566\n",
            "Epoch 70/150\n",
            "100/100 [==============================] - ETA: 0s - loss: 0.0017 - accuracy: 0.9687 - precision: 0.9837 - recall: 0.9435 - get_f1: 0.9631"
          ],
          "name": "stdout"
        },
        {
          "output_type": "stream",
          "text": [
            "2020-04-16 23:11:36,896 INFO \n",
            " epoch:069, F1Macro: 0.93860\n"
          ],
          "name": "stderr"
        },
        {
          "output_type": "stream",
          "text": [
            "\b\b\b\b\b\b\b\b\b\b\b\b\b\b\b\b\b\b\b\b\b\b\b\b\b\b\b\b\b\b\b\b\b\b\b\b\b\b\b\b\b\b\b\b\b\b\b\b\b\b\b\b\b\b\b\b\b\b\b\b\b\b\b\b\b\b\b\b\b\b\b\b\b\b\b\b\b\b\b\b\b\b\b\b\b\b\b\b\b\b\b\b\b\b\b\b\b\b\b\b\b\b\b\b\b\b\b\b\b\b\b\b\b\b\b\b\b\b\b\b\b\b\b\b\b\b\b\b\b\b\b\b\b\b\b\b\b\b\r100/100 [==============================] - 31s 309ms/step - loss: 0.0017 - accuracy: 0.9687 - precision: 0.9837 - recall: 0.9435 - get_f1: 0.9631 - val_loss: 0.0019 - val_accuracy: 0.9671 - val_precision: 0.9824 - val_recall: 0.9418 - val_get_f1: 0.9565\n",
            "Epoch 71/150\n",
            "100/100 [==============================] - ETA: 0s - loss: 0.0016 - accuracy: 0.9688 - precision: 0.9839 - recall: 0.9433 - get_f1: 0.9631"
          ],
          "name": "stdout"
        },
        {
          "output_type": "stream",
          "text": [
            "2020-04-16 23:12:08,079 INFO \n",
            " epoch:070, F1Macro: 0.93834\n"
          ],
          "name": "stderr"
        },
        {
          "output_type": "stream",
          "text": [
            "\b\b\b\b\b\b\b\b\b\b\b\b\b\b\b\b\b\b\b\b\b\b\b\b\b\b\b\b\b\b\b\b\b\b\b\b\b\b\b\b\b\b\b\b\b\b\b\b\b\b\b\b\b\b\b\b\b\b\b\b\b\b\b\b\b\b\b\b\b\b\b\b\b\b\b\b\b\b\b\b\b\b\b\b\b\b\b\b\b\b\b\b\b\b\b\b\b\b\b\b\b\b\b\b\b\b\b\b\b\b\b\b\b\b\b\b\b\b\b\b\b\b\b\b\b\b\b\b\b\b\b\b\b\b\b\b\b\b\r100/100 [==============================] - 30s 299ms/step - loss: 0.0016 - accuracy: 0.9688 - precision: 0.9839 - recall: 0.9433 - get_f1: 0.9631 - val_loss: 0.0019 - val_accuracy: 0.9669 - val_precision: 0.9831 - val_recall: 0.9393 - val_get_f1: 0.9554\n",
            "Epoch 72/150\n",
            "100/100 [==============================] - ETA: 0s - loss: 0.0017 - accuracy: 0.9687 - precision: 0.9839 - recall: 0.9428 - get_f1: 0.9629"
          ],
          "name": "stdout"
        },
        {
          "output_type": "stream",
          "text": [
            "2020-04-16 23:12:38,184 INFO \n",
            " epoch:071, F1Macro: 0.93850\n"
          ],
          "name": "stderr"
        },
        {
          "output_type": "stream",
          "text": [
            "\b\b\b\b\b\b\b\b\b\b\b\b\b\b\b\b\b\b\b\b\b\b\b\b\b\b\b\b\b\b\b\b\b\b\b\b\b\b\b\b\b\b\b\b\b\b\b\b\b\b\b\b\b\b\b\b\b\b\b\b\b\b\b\b\b\b\b\b\b\b\b\b\b\b\b\b\b\b\b\b\b\b\b\b\b\b\b\b\b\b\b\b\b\b\b\b\b\b\b\b\b\b\b\b\b\b\b\b\b\b\b\b\b\b\b\b\b\b\b\b\b\b\b\b\b\b\b\b\b\b\b\b\b\b\b\b\b\b\r100/100 [==============================] - 30s 298ms/step - loss: 0.0017 - accuracy: 0.9687 - precision: 0.9839 - recall: 0.9428 - get_f1: 0.9629 - val_loss: 0.0019 - val_accuracy: 0.9670 - val_precision: 0.9826 - val_recall: 0.9413 - val_get_f1: 0.9563\n",
            "Epoch 73/150\n",
            "100/100 [==============================] - ETA: 0s - loss: 0.0016 - accuracy: 0.9689 - precision: 0.9840 - recall: 0.9432 - get_f1: 0.9631"
          ],
          "name": "stdout"
        },
        {
          "output_type": "stream",
          "text": [
            "2020-04-16 23:13:08,281 INFO \n",
            " epoch:072, F1Macro: 0.93795\n"
          ],
          "name": "stderr"
        },
        {
          "output_type": "stream",
          "text": [
            "\b\b\b\b\b\b\b\b\b\b\b\b\b\b\b\b\b\b\b\b\b\b\b\b\b\b\b\b\b\b\b\b\b\b\b\b\b\b\b\b\b\b\b\b\b\b\b\b\b\b\b\b\b\b\b\b\b\b\b\b\b\b\b\b\b\b\b\b\b\b\b\b\b\b\b\b\b\b\b\b\b\b\b\b\b\b\b\b\b\b\b\b\b\b\b\b\b\b\b\b\b\b\b\b\b\b\b\b\b\b\b\b\b\b\b\b\b\b\b\b\b\b\b\b\b\b\b\b\b\b\b\b\b\b\b\b\b\b\r100/100 [==============================] - 30s 298ms/step - loss: 0.0016 - accuracy: 0.9689 - precision: 0.9840 - recall: 0.9432 - get_f1: 0.9631 - val_loss: 0.0019 - val_accuracy: 0.9670 - val_precision: 0.9828 - val_recall: 0.9403 - val_get_f1: 0.9558\n",
            "Epoch 74/150\n",
            "100/100 [==============================] - ETA: 0s - loss: 0.0016 - accuracy: 0.9689 - precision: 0.9841 - recall: 0.9431 - get_f1: 0.9631"
          ],
          "name": "stdout"
        },
        {
          "output_type": "stream",
          "text": [
            "2020-04-16 23:13:38,499 INFO \n",
            " epoch:073, F1Macro: 0.93785\n"
          ],
          "name": "stderr"
        },
        {
          "output_type": "stream",
          "text": [
            "\b\b\b\b\b\b\b\b\b\b\b\b\b\b\b\b\b\b\b\b\b\b\b\b\b\b\b\b\b\b\b\b\b\b\b\b\b\b\b\b\b\b\b\b\b\b\b\b\b\b\b\b\b\b\b\b\b\b\b\b\b\b\b\b\b\b\b\b\b\b\b\b\b\b\b\b\b\b\b\b\b\b\b\b\b\b\b\b\b\b\b\b\b\b\b\b\b\b\b\b\b\b\b\b\b\b\b\b\b\b\b\b\b\b\b\b\b\b\b\b\b\b\b\b\b\b\b\b\b\b\b\b\b\b\b\b\b\b\r100/100 [==============================] - 30s 299ms/step - loss: 0.0016 - accuracy: 0.9689 - precision: 0.9841 - recall: 0.9431 - get_f1: 0.9631 - val_loss: 0.0019 - val_accuracy: 0.9664 - val_precision: 0.9825 - val_recall: 0.9395 - val_get_f1: 0.9554\n",
            "Epoch 75/150\n",
            "100/100 [==============================] - ETA: 0s - loss: 0.0017 - accuracy: 0.9677 - precision: 0.9836 - recall: 0.9406 - get_f1: 0.9615"
          ],
          "name": "stdout"
        },
        {
          "output_type": "stream",
          "text": [
            "2020-04-16 23:14:08,600 INFO \n",
            " epoch:074, F1Macro: 0.93429\n"
          ],
          "name": "stderr"
        },
        {
          "output_type": "stream",
          "text": [
            "\b\b\b\b\b\b\b\b\b\b\b\b\b\b\b\b\b\b\b\b\b\b\b\b\b\b\b\b\b\b\b\b\b\b\b\b\b\b\b\b\b\b\b\b\b\b\b\b\b\b\b\b\b\b\b\b\b\b\b\b\b\b\b\b\b\b\b\b\b\b\b\b\b\b\b\b\b\b\b\b\b\b\b\b\b\b\b\b\b\b\b\b\b\b\b\b\b\b\b\b\b\b\b\b\b\b\b\b\b\b\b\b\b\b\b\b\b\b\b\b\b\b\b\b\b\b\b\b\b\b\b\b\b\b\b\b\b\b\r100/100 [==============================] - 30s 298ms/step - loss: 0.0017 - accuracy: 0.9677 - precision: 0.9836 - recall: 0.9406 - get_f1: 0.9615 - val_loss: 0.0020 - val_accuracy: 0.9650 - val_precision: 0.9828 - val_recall: 0.9340 - val_get_f1: 0.9521\n",
            "Epoch 76/150\n",
            "100/100 [==============================] - ETA: 0s - loss: 0.0093 - accuracy: 0.8661 - precision: 0.9453 - recall: 0.7689 - get_f1: 0.8237"
          ],
          "name": "stdout"
        },
        {
          "output_type": "stream",
          "text": [
            "2020-04-16 23:14:38,678 INFO \n",
            " epoch:075, F1Macro: 0.89494\n"
          ],
          "name": "stderr"
        },
        {
          "output_type": "stream",
          "text": [
            "\b\b\b\b\b\b\b\b\b\b\b\b\b\b\b\b\b\b\b\b\b\b\b\b\b\b\b\b\b\b\b\b\b\b\b\b\b\b\b\b\b\b\b\b\b\b\b\b\b\b\b\b\b\b\b\b\b\b\b\b\b\b\b\b\b\b\b\b\b\b\b\b\b\b\b\b\b\b\b\b\b\b\b\b\b\b\b\b\b\b\b\b\b\b\b\b\b\b\b\b\b\b\b\b\b\b\b\b\b\b\b\b\b\b\b\b\b\b\b\b\b\b\b\b\b\b\b\b\b\b\b\b\b\b\b\b\b\b\r100/100 [==============================] - 30s 298ms/step - loss: 0.0093 - accuracy: 0.8661 - precision: 0.9453 - recall: 0.7689 - get_f1: 0.8237 - val_loss: 0.0034 - val_accuracy: 0.9420 - val_precision: 0.9634 - val_recall: 0.9040 - val_get_f1: 0.9256\n",
            "Epoch 77/150\n",
            "100/100 [==============================] - ETA: 0s - loss: 0.0023 - accuracy: 0.9590 - precision: 0.9747 - recall: 0.9314 - get_f1: 0.9523"
          ],
          "name": "stdout"
        },
        {
          "output_type": "stream",
          "text": [
            "2020-04-16 23:15:08,801 INFO \n",
            " epoch:076, F1Macro: 0.93371\n"
          ],
          "name": "stderr"
        },
        {
          "output_type": "stream",
          "text": [
            "\b\b\b\b\b\b\b\b\b\b\b\b\b\b\b\b\b\b\b\b\b\b\b\b\b\b\b\b\b\b\b\b\b\b\b\b\b\b\b\b\b\b\b\b\b\b\b\b\b\b\b\b\b\b\b\b\b\b\b\b\b\b\b\b\b\b\b\b\b\b\b\b\b\b\b\b\b\b\b\b\b\b\b\b\b\b\b\b\b\b\b\b\b\b\b\b\b\b\b\b\b\b\b\b\b\b\b\b\b\b\b\b\b\b\b\b\b\b\b\b\b\b\b\b\b\b\b\b\b\b\b\b\b\b\b\b\b\b\r100/100 [==============================] - 30s 298ms/step - loss: 0.0023 - accuracy: 0.9590 - precision: 0.9747 - recall: 0.9314 - get_f1: 0.9523 - val_loss: 0.0022 - val_accuracy: 0.9636 - val_precision: 0.9763 - val_recall: 0.9442 - val_get_f1: 0.9551\n",
            "Epoch 78/150\n",
            "100/100 [==============================] - ETA: 0s - loss: 0.0019 - accuracy: 0.9662 - precision: 0.9787 - recall: 0.9470 - get_f1: 0.9626"
          ],
          "name": "stdout"
        },
        {
          "output_type": "stream",
          "text": [
            "2020-04-16 23:15:38,846 INFO \n",
            " epoch:077, F1Macro: 0.93543\n"
          ],
          "name": "stderr"
        },
        {
          "output_type": "stream",
          "text": [
            "\b\b\b\b\b\b\b\b\b\b\b\b\b\b\b\b\b\b\b\b\b\b\b\b\b\b\b\b\b\b\b\b\b\b\b\b\b\b\b\b\b\b\b\b\b\b\b\b\b\b\b\b\b\b\b\b\b\b\b\b\b\b\b\b\b\b\b\b\b\b\b\b\b\b\b\b\b\b\b\b\b\b\b\b\b\b\b\b\b\b\b\b\b\b\b\b\b\b\b\b\b\b\b\b\b\b\b\b\b\b\b\b\b\b\b\b\b\b\b\b\b\b\b\b\b\b\b\b\b\b\b\b\b\b\b\b\b\b\r100/100 [==============================] - 30s 298ms/step - loss: 0.0019 - accuracy: 0.9662 - precision: 0.9787 - recall: 0.9470 - get_f1: 0.9626 - val_loss: 0.0021 - val_accuracy: 0.9649 - val_precision: 0.9781 - val_recall: 0.9446 - val_get_f1: 0.9562\n",
            "Epoch 79/150\n",
            "100/100 [==============================] - ETA: 0s - loss: 0.0018 - accuracy: 0.9668 - precision: 0.9795 - recall: 0.9473 - get_f1: 0.9631"
          ],
          "name": "stdout"
        },
        {
          "output_type": "stream",
          "text": [
            "2020-04-16 23:16:08,918 INFO \n",
            " epoch:078, F1Macro: 0.93589\n"
          ],
          "name": "stderr"
        },
        {
          "output_type": "stream",
          "text": [
            "\b\b\b\b\b\b\b\b\b\b\b\b\b\b\b\b\b\b\b\b\b\b\b\b\b\b\b\b\b\b\b\b\b\b\b\b\b\b\b\b\b\b\b\b\b\b\b\b\b\b\b\b\b\b\b\b\b\b\b\b\b\b\b\b\b\b\b\b\b\b\b\b\b\b\b\b\b\b\b\b\b\b\b\b\b\b\b\b\b\b\b\b\b\b\b\b\b\b\b\b\b\b\b\b\b\b\b\b\b\b\b\b\b\b\b\b\b\b\b\b\b\b\b\b\b\b\b\b\b\b\b\b\b\b\b\b\b\b\r100/100 [==============================] - 30s 298ms/step - loss: 0.0018 - accuracy: 0.9668 - precision: 0.9795 - recall: 0.9473 - get_f1: 0.9631 - val_loss: 0.0020 - val_accuracy: 0.9652 - val_precision: 0.9780 - val_recall: 0.9458 - val_get_f1: 0.9569\n",
            "Epoch 80/150\n",
            "100/100 [==============================] - ETA: 0s - loss: 0.0018 - accuracy: 0.9670 - precision: 0.9799 - recall: 0.9470 - get_f1: 0.9631"
          ],
          "name": "stdout"
        },
        {
          "output_type": "stream",
          "text": [
            "2020-04-16 23:16:38,913 INFO \n",
            " epoch:079, F1Macro: 0.93543\n"
          ],
          "name": "stderr"
        },
        {
          "output_type": "stream",
          "text": [
            "\b\b\b\b\b\b\b\b\b\b\b\b\b\b\b\b\b\b\b\b\b\b\b\b\b\b\b\b\b\b\b\b\b\b\b\b\b\b\b\b\b\b\b\b\b\b\b\b\b\b\b\b\b\b\b\b\b\b\b\b\b\b\b\b\b\b\b\b\b\b\b\b\b\b\b\b\b\b\b\b\b\b\b\b\b\b\b\b\b\b\b\b\b\b\b\b\b\b\b\b\b\b\b\b\b\b\b\b\b\b\b\b\b\b\b\b\b\b\b\b\b\b\b\b\b\b\b\b\b\b\b\b\b\b\b\b\b\b\r100/100 [==============================] - 30s 297ms/step - loss: 0.0018 - accuracy: 0.9670 - precision: 0.9799 - recall: 0.9470 - get_f1: 0.9631 - val_loss: 0.0021 - val_accuracy: 0.9648 - val_precision: 0.9790 - val_recall: 0.9425 - val_get_f1: 0.9553\n",
            "Epoch 81/150\n",
            "100/100 [==============================] - ETA: 0s - loss: 0.0018 - accuracy: 0.9673 - precision: 0.9804 - recall: 0.9471 - get_f1: 0.9634"
          ],
          "name": "stdout"
        },
        {
          "output_type": "stream",
          "text": [
            "2020-04-16 23:17:08,918 INFO \n",
            " epoch:080, F1Macro: 0.93673\n"
          ],
          "name": "stderr"
        },
        {
          "output_type": "stream",
          "text": [
            "\b\b\b\b\b\b\b\b\b\b\b\b\b\b\b\b\b\b\b\b\b\b\b\b\b\b\b\b\b\b\b\b\b\b\b\b\b\b\b\b\b\b\b\b\b\b\b\b\b\b\b\b\b\b\b\b\b\b\b\b\b\b\b\b\b\b\b\b\b\b\b\b\b\b\b\b\b\b\b\b\b\b\b\b\b\b\b\b\b\b\b\b\b\b\b\b\b\b\b\b\b\b\b\b\b\b\b\b\b\b\b\b\b\b\b\b\b\b\b\b\b\b\b\b\b\b\b\b\b\b\b\b\b\b\b\b\b\b\r100/100 [==============================] - 30s 297ms/step - loss: 0.0018 - accuracy: 0.9673 - precision: 0.9804 - recall: 0.9471 - get_f1: 0.9634 - val_loss: 0.0020 - val_accuracy: 0.9658 - val_precision: 0.9794 - val_recall: 0.9450 - val_get_f1: 0.9571\n",
            "Epoch 82/150\n",
            "100/100 [==============================] - ETA: 0s - loss: 0.0018 - accuracy: 0.9675 - precision: 0.9808 - recall: 0.9469 - get_f1: 0.9635"
          ],
          "name": "stdout"
        },
        {
          "output_type": "stream",
          "text": [
            "2020-04-16 23:17:39,016 INFO \n",
            " epoch:081, F1Macro: 0.93663\n"
          ],
          "name": "stderr"
        },
        {
          "output_type": "stream",
          "text": [
            "\b\b\b\b\b\b\b\b\b\b\b\b\b\b\b\b\b\b\b\b\b\b\b\b\b\b\b\b\b\b\b\b\b\b\b\b\b\b\b\b\b\b\b\b\b\b\b\b\b\b\b\b\b\b\b\b\b\b\b\b\b\b\b\b\b\b\b\b\b\b\b\b\b\b\b\b\b\b\b\b\b\b\b\b\b\b\b\b\b\b\b\b\b\b\b\b\b\b\b\b\b\b\b\b\b\b\b\b\b\b\b\b\b\b\b\b\b\b\b\b\b\b\b\b\b\b\b\b\b\b\b\b\b\b\b\b\b\b\r100/100 [==============================] - 30s 298ms/step - loss: 0.0018 - accuracy: 0.9675 - precision: 0.9808 - recall: 0.9469 - get_f1: 0.9635 - val_loss: 0.0020 - val_accuracy: 0.9657 - val_precision: 0.9797 - val_recall: 0.9444 - val_get_f1: 0.9569\n",
            "Epoch 83/150\n",
            "100/100 [==============================] - ETA: 0s - loss: 0.0017 - accuracy: 0.9675 - precision: 0.9810 - recall: 0.9468 - get_f1: 0.9635"
          ],
          "name": "stdout"
        },
        {
          "output_type": "stream",
          "text": [
            "2020-04-16 23:18:09,131 INFO \n",
            " epoch:082, F1Macro: 0.93729\n"
          ],
          "name": "stderr"
        },
        {
          "output_type": "stream",
          "text": [
            "\b\b\b\b\b\b\b\b\b\b\b\b\b\b\b\b\b\b\b\b\b\b\b\b\b\b\b\b\b\b\b\b\b\b\b\b\b\b\b\b\b\b\b\b\b\b\b\b\b\b\b\b\b\b\b\b\b\b\b\b\b\b\b\b\b\b\b\b\b\b\b\b\b\b\b\b\b\b\b\b\b\b\b\b\b\b\b\b\b\b\b\b\b\b\b\b\b\b\b\b\b\b\b\b\b\b\b\b\b\b\b\b\b\b\b\b\b\b\b\b\b\b\b\b\b\b\b\b\b\b\b\b\b\b\b\b\b\b\r100/100 [==============================] - 30s 298ms/step - loss: 0.0017 - accuracy: 0.9675 - precision: 0.9810 - recall: 0.9468 - get_f1: 0.9635 - val_loss: 0.0020 - val_accuracy: 0.9659 - val_precision: 0.9799 - val_recall: 0.9445 - val_get_f1: 0.9570\n",
            "Epoch 84/150\n",
            "100/100 [==============================] - ETA: 0s - loss: 0.0017 - accuracy: 0.9678 - precision: 0.9813 - recall: 0.9468 - get_f1: 0.9637"
          ],
          "name": "stdout"
        },
        {
          "output_type": "stream",
          "text": [
            "2020-04-16 23:18:39,243 INFO \n",
            " epoch:083, F1Macro: 0.93754\n"
          ],
          "name": "stderr"
        },
        {
          "output_type": "stream",
          "text": [
            "\b\b\b\b\b\b\b\b\b\b\b\b\b\b\b\b\b\b\b\b\b\b\b\b\b\b\b\b\b\b\b\b\b\b\b\b\b\b\b\b\b\b\b\b\b\b\b\b\b\b\b\b\b\b\b\b\b\b\b\b\b\b\b\b\b\b\b\b\b\b\b\b\b\b\b\b\b\b\b\b\b\b\b\b\b\b\b\b\b\b\b\b\b\b\b\b\b\b\b\b\b\b\b\b\b\b\b\b\b\b\b\b\b\b\b\b\b\b\b\b\b\b\b\b\b\b\b\b\b\b\b\b\b\b\b\b\b\b\r100/100 [==============================] - 30s 298ms/step - loss: 0.0017 - accuracy: 0.9678 - precision: 0.9813 - recall: 0.9468 - get_f1: 0.9637 - val_loss: 0.0020 - val_accuracy: 0.9663 - val_precision: 0.9805 - val_recall: 0.9435 - val_get_f1: 0.9567\n",
            "Epoch 85/150\n",
            "100/100 [==============================] - ETA: 0s - loss: 0.0017 - accuracy: 0.9679 - precision: 0.9814 - recall: 0.9467 - get_f1: 0.9637"
          ],
          "name": "stdout"
        },
        {
          "output_type": "stream",
          "text": [
            "2020-04-16 23:19:09,413 INFO \n",
            " epoch:084, F1Macro: 0.93742\n"
          ],
          "name": "stderr"
        },
        {
          "output_type": "stream",
          "text": [
            "\b\b\b\b\b\b\b\b\b\b\b\b\b\b\b\b\b\b\b\b\b\b\b\b\b\b\b\b\b\b\b\b\b\b\b\b\b\b\b\b\b\b\b\b\b\b\b\b\b\b\b\b\b\b\b\b\b\b\b\b\b\b\b\b\b\b\b\b\b\b\b\b\b\b\b\b\b\b\b\b\b\b\b\b\b\b\b\b\b\b\b\b\b\b\b\b\b\b\b\b\b\b\b\b\b\b\b\b\b\b\b\b\b\b\b\b\b\b\b\b\b\b\b\b\b\b\b\b\b\b\b\b\b\b\b\b\b\b\r100/100 [==============================] - 30s 299ms/step - loss: 0.0017 - accuracy: 0.9679 - precision: 0.9814 - recall: 0.9467 - get_f1: 0.9637 - val_loss: 0.0020 - val_accuracy: 0.9662 - val_precision: 0.9806 - val_recall: 0.9434 - val_get_f1: 0.9568\n",
            "Epoch 86/150\n",
            "100/100 [==============================] - ETA: 0s - loss: 0.0017 - accuracy: 0.9680 - precision: 0.9818 - recall: 0.9464 - get_f1: 0.9637"
          ],
          "name": "stdout"
        },
        {
          "output_type": "stream",
          "text": [
            "2020-04-16 23:19:39,548 INFO \n",
            " epoch:085, F1Macro: 0.93723\n"
          ],
          "name": "stderr"
        },
        {
          "output_type": "stream",
          "text": [
            "\b\b\b\b\b\b\b\b\b\b\b\b\b\b\b\b\b\b\b\b\b\b\b\b\b\b\b\b\b\b\b\b\b\b\b\b\b\b\b\b\b\b\b\b\b\b\b\b\b\b\b\b\b\b\b\b\b\b\b\b\b\b\b\b\b\b\b\b\b\b\b\b\b\b\b\b\b\b\b\b\b\b\b\b\b\b\b\b\b\b\b\b\b\b\b\b\b\b\b\b\b\b\b\b\b\b\b\b\b\b\b\b\b\b\b\b\b\b\b\b\b\b\b\b\b\b\b\b\b\b\b\b\b\b\b\b\b\b\r100/100 [==============================] - 30s 299ms/step - loss: 0.0017 - accuracy: 0.9680 - precision: 0.9818 - recall: 0.9464 - get_f1: 0.9637 - val_loss: 0.0020 - val_accuracy: 0.9663 - val_precision: 0.9805 - val_recall: 0.9434 - val_get_f1: 0.9567\n",
            "Epoch 87/150\n",
            "100/100 [==============================] - ETA: 0s - loss: 0.0017 - accuracy: 0.9681 - precision: 0.9818 - recall: 0.9463 - get_f1: 0.9637"
          ],
          "name": "stdout"
        },
        {
          "output_type": "stream",
          "text": [
            "2020-04-16 23:20:09,637 INFO \n",
            " epoch:086, F1Macro: 0.93750\n"
          ],
          "name": "stderr"
        },
        {
          "output_type": "stream",
          "text": [
            "\b\b\b\b\b\b\b\b\b\b\b\b\b\b\b\b\b\b\b\b\b\b\b\b\b\b\b\b\b\b\b\b\b\b\b\b\b\b\b\b\b\b\b\b\b\b\b\b\b\b\b\b\b\b\b\b\b\b\b\b\b\b\b\b\b\b\b\b\b\b\b\b\b\b\b\b\b\b\b\b\b\b\b\b\b\b\b\b\b\b\b\b\b\b\b\b\b\b\b\b\b\b\b\b\b\b\b\b\b\b\b\b\b\b\b\b\b\b\b\b\b\b\b\b\b\b\b\b\b\b\b\b\b\b\b\b\b\b\r100/100 [==============================] - 30s 298ms/step - loss: 0.0017 - accuracy: 0.9681 - precision: 0.9818 - recall: 0.9463 - get_f1: 0.9637 - val_loss: 0.0019 - val_accuracy: 0.9665 - val_precision: 0.9808 - val_recall: 0.9436 - val_get_f1: 0.9570\n",
            "Epoch 88/150\n",
            "100/100 [==============================] - ETA: 0s - loss: 0.0017 - accuracy: 0.9681 - precision: 0.9819 - recall: 0.9461 - get_f1: 0.9636"
          ],
          "name": "stdout"
        },
        {
          "output_type": "stream",
          "text": [
            "2020-04-16 23:20:39,767 INFO \n",
            " epoch:087, F1Macro: 0.93773\n"
          ],
          "name": "stderr"
        },
        {
          "output_type": "stream",
          "text": [
            "\b\b\b\b\b\b\b\b\b\b\b\b\b\b\b\b\b\b\b\b\b\b\b\b\b\b\b\b\b\b\b\b\b\b\b\b\b\b\b\b\b\b\b\b\b\b\b\b\b\b\b\b\b\b\b\b\b\b\b\b\b\b\b\b\b\b\b\b\b\b\b\b\b\b\b\b\b\b\b\b\b\b\b\b\b\b\b\b\b\b\b\b\b\b\b\b\b\b\b\b\b\b\b\b\b\b\b\b\b\b\b\b\b\b\b\b\b\b\b\b\b\b\b\b\b\b\b\b\b\b\b\b\b\b\b\b\b\b\r100/100 [==============================] - 30s 298ms/step - loss: 0.0017 - accuracy: 0.9681 - precision: 0.9819 - recall: 0.9461 - get_f1: 0.9636 - val_loss: 0.0019 - val_accuracy: 0.9664 - val_precision: 0.9809 - val_recall: 0.9433 - val_get_f1: 0.9568\n",
            "Epoch 89/150\n",
            "100/100 [==============================] - ETA: 0s - loss: 0.0017 - accuracy: 0.9682 - precision: 0.9822 - recall: 0.9458 - get_f1: 0.9636"
          ],
          "name": "stdout"
        },
        {
          "output_type": "stream",
          "text": [
            "2020-04-16 23:21:09,900 INFO \n",
            " epoch:088, F1Macro: 0.93750\n"
          ],
          "name": "stderr"
        },
        {
          "output_type": "stream",
          "text": [
            "\b\b\b\b\b\b\b\b\b\b\b\b\b\b\b\b\b\b\b\b\b\b\b\b\b\b\b\b\b\b\b\b\b\b\b\b\b\b\b\b\b\b\b\b\b\b\b\b\b\b\b\b\b\b\b\b\b\b\b\b\b\b\b\b\b\b\b\b\b\b\b\b\b\b\b\b\b\b\b\b\b\b\b\b\b\b\b\b\b\b\b\b\b\b\b\b\b\b\b\b\b\b\b\b\b\b\b\b\b\b\b\b\b\b\b\b\b\b\b\b\b\b\b\b\b\b\b\b\b\b\b\b\b\b\b\b\b\b\r100/100 [==============================] - 30s 299ms/step - loss: 0.0017 - accuracy: 0.9682 - precision: 0.9822 - recall: 0.9458 - get_f1: 0.9636 - val_loss: 0.0019 - val_accuracy: 0.9662 - val_precision: 0.9811 - val_recall: 0.9425 - val_get_f1: 0.9565\n",
            "Epoch 90/150\n",
            "100/100 [==============================] - ETA: 0s - loss: 0.0017 - accuracy: 0.9683 - precision: 0.9823 - recall: 0.9459 - get_f1: 0.9637"
          ],
          "name": "stdout"
        },
        {
          "output_type": "stream",
          "text": [
            "2020-04-16 23:21:40,032 INFO \n",
            " epoch:089, F1Macro: 0.93760\n"
          ],
          "name": "stderr"
        },
        {
          "output_type": "stream",
          "text": [
            "\b\b\b\b\b\b\b\b\b\b\b\b\b\b\b\b\b\b\b\b\b\b\b\b\b\b\b\b\b\b\b\b\b\b\b\b\b\b\b\b\b\b\b\b\b\b\b\b\b\b\b\b\b\b\b\b\b\b\b\b\b\b\b\b\b\b\b\b\b\b\b\b\b\b\b\b\b\b\b\b\b\b\b\b\b\b\b\b\b\b\b\b\b\b\b\b\b\b\b\b\b\b\b\b\b\b\b\b\b\b\b\b\b\b\b\b\b\b\b\b\b\b\b\b\b\b\b\b\b\b\b\b\b\b\b\b\b\b\r100/100 [==============================] - 30s 298ms/step - loss: 0.0017 - accuracy: 0.9683 - precision: 0.9823 - recall: 0.9459 - get_f1: 0.9637 - val_loss: 0.0019 - val_accuracy: 0.9665 - val_precision: 0.9812 - val_recall: 0.9428 - val_get_f1: 0.9567\n",
            "Epoch 91/150\n",
            "100/100 [==============================] - ETA: 0s - loss: 0.0017 - accuracy: 0.9682 - precision: 0.9824 - recall: 0.9455 - get_f1: 0.9635"
          ],
          "name": "stdout"
        },
        {
          "output_type": "stream",
          "text": [
            "2020-04-16 23:22:10,060 INFO \n",
            " epoch:090, F1Macro: 0.93783\n"
          ],
          "name": "stderr"
        },
        {
          "output_type": "stream",
          "text": [
            "\b\b\b\b\b\b\b\b\b\b\b\b\b\b\b\b\b\b\b\b\b\b\b\b\b\b\b\b\b\b\b\b\b\b\b\b\b\b\b\b\b\b\b\b\b\b\b\b\b\b\b\b\b\b\b\b\b\b\b\b\b\b\b\b\b\b\b\b\b\b\b\b\b\b\b\b\b\b\b\b\b\b\b\b\b\b\b\b\b\b\b\b\b\b\b\b\b\b\b\b\b\b\b\b\b\b\b\b\b\b\b\b\b\b\b\b\b\b\b\b\b\b\b\b\b\b\b\b\b\b\b\b\b\b\b\b\b\b\r100/100 [==============================] - 30s 298ms/step - loss: 0.0017 - accuracy: 0.9682 - precision: 0.9824 - recall: 0.9455 - get_f1: 0.9635 - val_loss: 0.0019 - val_accuracy: 0.9665 - val_precision: 0.9818 - val_recall: 0.9414 - val_get_f1: 0.9560\n",
            "Epoch 92/150\n",
            "100/100 [==============================] - ETA: 0s - loss: 0.0017 - accuracy: 0.9683 - precision: 0.9824 - recall: 0.9454 - get_f1: 0.9635"
          ],
          "name": "stdout"
        },
        {
          "output_type": "stream",
          "text": [
            "2020-04-16 23:22:40,074 INFO \n",
            " epoch:091, F1Macro: 0.93733\n"
          ],
          "name": "stderr"
        },
        {
          "output_type": "stream",
          "text": [
            "\b\b\b\b\b\b\b\b\b\b\b\b\b\b\b\b\b\b\b\b\b\b\b\b\b\b\b\b\b\b\b\b\b\b\b\b\b\b\b\b\b\b\b\b\b\b\b\b\b\b\b\b\b\b\b\b\b\b\b\b\b\b\b\b\b\b\b\b\b\b\b\b\b\b\b\b\b\b\b\b\b\b\b\b\b\b\b\b\b\b\b\b\b\b\b\b\b\b\b\b\b\b\b\b\b\b\b\b\b\b\b\b\b\b\b\b\b\b\b\b\b\b\b\b\b\b\b\b\b\b\b\b\b\b\b\b\b\b\r100/100 [==============================] - 30s 297ms/step - loss: 0.0017 - accuracy: 0.9683 - precision: 0.9824 - recall: 0.9454 - get_f1: 0.9635 - val_loss: 0.0019 - val_accuracy: 0.9664 - val_precision: 0.9814 - val_recall: 0.9415 - val_get_f1: 0.9560\n",
            "Epoch 93/150\n",
            "100/100 [==============================] - ETA: 0s - loss: 0.0017 - accuracy: 0.9685 - precision: 0.9826 - recall: 0.9456 - get_f1: 0.9637"
          ],
          "name": "stdout"
        },
        {
          "output_type": "stream",
          "text": [
            "2020-04-16 23:23:10,131 INFO \n",
            " epoch:092, F1Macro: 0.93789\n"
          ],
          "name": "stderr"
        },
        {
          "output_type": "stream",
          "text": [
            "\b\b\b\b\b\b\b\b\b\b\b\b\b\b\b\b\b\b\b\b\b\b\b\b\b\b\b\b\b\b\b\b\b\b\b\b\b\b\b\b\b\b\b\b\b\b\b\b\b\b\b\b\b\b\b\b\b\b\b\b\b\b\b\b\b\b\b\b\b\b\b\b\b\b\b\b\b\b\b\b\b\b\b\b\b\b\b\b\b\b\b\b\b\b\b\b\b\b\b\b\b\b\b\b\b\b\b\b\b\b\b\b\b\b\b\b\b\b\b\b\b\b\b\b\b\b\b\b\b\b\b\b\b\b\b\b\b\b\r100/100 [==============================] - 30s 298ms/step - loss: 0.0017 - accuracy: 0.9685 - precision: 0.9826 - recall: 0.9456 - get_f1: 0.9637 - val_loss: 0.0019 - val_accuracy: 0.9663 - val_precision: 0.9817 - val_recall: 0.9424 - val_get_f1: 0.9566\n",
            "Epoch 94/150\n",
            "100/100 [==============================] - ETA: 0s - loss: 0.0017 - accuracy: 0.9682 - precision: 0.9824 - recall: 0.9453 - get_f1: 0.9635"
          ],
          "name": "stdout"
        },
        {
          "output_type": "stream",
          "text": [
            "2020-04-16 23:23:40,261 INFO \n",
            " epoch:093, F1Macro: 0.93815\n"
          ],
          "name": "stderr"
        },
        {
          "output_type": "stream",
          "text": [
            "\b\b\b\b\b\b\b\b\b\b\b\b\b\b\b\b\b\b\b\b\b\b\b\b\b\b\b\b\b\b\b\b\b\b\b\b\b\b\b\b\b\b\b\b\b\b\b\b\b\b\b\b\b\b\b\b\b\b\b\b\b\b\b\b\b\b\b\b\b\b\b\b\b\b\b\b\b\b\b\b\b\b\b\b\b\b\b\b\b\b\b\b\b\b\b\b\b\b\b\b\b\b\b\b\b\b\b\b\b\b\b\b\b\b\b\b\b\b\b\b\b\b\b\b\b\b\b\b\b\b\b\b\b\b\b\b\b\b\r100/100 [==============================] - 30s 299ms/step - loss: 0.0017 - accuracy: 0.9682 - precision: 0.9824 - recall: 0.9453 - get_f1: 0.9635 - val_loss: 0.0019 - val_accuracy: 0.9668 - val_precision: 0.9815 - val_recall: 0.9429 - val_get_f1: 0.9569\n",
            "Epoch 95/150\n",
            "100/100 [==============================] - ETA: 0s - loss: 0.0017 - accuracy: 0.9683 - precision: 0.9827 - recall: 0.9447 - get_f1: 0.9633"
          ],
          "name": "stdout"
        },
        {
          "output_type": "stream",
          "text": [
            "2020-04-16 23:24:10,352 INFO \n",
            " epoch:094, F1Macro: 0.93805\n"
          ],
          "name": "stderr"
        },
        {
          "output_type": "stream",
          "text": [
            "\b\b\b\b\b\b\b\b\b\b\b\b\b\b\b\b\b\b\b\b\b\b\b\b\b\b\b\b\b\b\b\b\b\b\b\b\b\b\b\b\b\b\b\b\b\b\b\b\b\b\b\b\b\b\b\b\b\b\b\b\b\b\b\b\b\b\b\b\b\b\b\b\b\b\b\b\b\b\b\b\b\b\b\b\b\b\b\b\b\b\b\b\b\b\b\b\b\b\b\b\b\b\b\b\b\b\b\b\b\b\b\b\b\b\b\b\b\b\b\b\b\b\b\b\b\b\b\b\b\b\b\b\b\b\b\b\b\b\r100/100 [==============================] - 30s 298ms/step - loss: 0.0017 - accuracy: 0.9683 - precision: 0.9827 - recall: 0.9447 - get_f1: 0.9633 - val_loss: 0.0019 - val_accuracy: 0.9667 - val_precision: 0.9819 - val_recall: 0.9416 - val_get_f1: 0.9562\n",
            "Epoch 96/150\n",
            "100/100 [==============================] - ETA: 0s - loss: 0.0017 - accuracy: 0.9685 - precision: 0.9829 - recall: 0.9450 - get_f1: 0.9635"
          ],
          "name": "stdout"
        },
        {
          "output_type": "stream",
          "text": [
            "2020-04-16 23:24:40,449 INFO \n",
            " epoch:095, F1Macro: 0.93816\n"
          ],
          "name": "stderr"
        },
        {
          "output_type": "stream",
          "text": [
            "\b\b\b\b\b\b\b\b\b\b\b\b\b\b\b\b\b\b\b\b\b\b\b\b\b\b\b\b\b\b\b\b\b\b\b\b\b\b\b\b\b\b\b\b\b\b\b\b\b\b\b\b\b\b\b\b\b\b\b\b\b\b\b\b\b\b\b\b\b\b\b\b\b\b\b\b\b\b\b\b\b\b\b\b\b\b\b\b\b\b\b\b\b\b\b\b\b\b\b\b\b\b\b\b\b\b\b\b\b\b\b\b\b\b\b\b\b\b\b\b\b\b\b\b\b\b\b\b\b\b\b\b\b\b\b\b\b\b\r100/100 [==============================] - 30s 298ms/step - loss: 0.0017 - accuracy: 0.9685 - precision: 0.9829 - recall: 0.9450 - get_f1: 0.9635 - val_loss: 0.0019 - val_accuracy: 0.9668 - val_precision: 0.9817 - val_recall: 0.9428 - val_get_f1: 0.9568\n",
            "Epoch 97/150\n",
            "100/100 [==============================] - ETA: 0s - loss: 0.0017 - accuracy: 0.9685 - precision: 0.9830 - recall: 0.9449 - get_f1: 0.9635"
          ],
          "name": "stdout"
        },
        {
          "output_type": "stream",
          "text": [
            "2020-04-16 23:25:10,653 INFO \n",
            " epoch:096, F1Macro: 0.93826\n"
          ],
          "name": "stderr"
        },
        {
          "output_type": "stream",
          "text": [
            "\b\b\b\b\b\b\b\b\b\b\b\b\b\b\b\b\b\b\b\b\b\b\b\b\b\b\b\b\b\b\b\b\b\b\b\b\b\b\b\b\b\b\b\b\b\b\b\b\b\b\b\b\b\b\b\b\b\b\b\b\b\b\b\b\b\b\b\b\b\b\b\b\b\b\b\b\b\b\b\b\b\b\b\b\b\b\b\b\b\b\b\b\b\b\b\b\b\b\b\b\b\b\b\b\b\b\b\b\b\b\b\b\b\b\b\b\b\b\b\b\b\b\b\b\b\b\b\b\b\b\b\b\b\b\b\b\b\b\r100/100 [==============================] - 30s 299ms/step - loss: 0.0017 - accuracy: 0.9685 - precision: 0.9830 - recall: 0.9449 - get_f1: 0.9635 - val_loss: 0.0019 - val_accuracy: 0.9668 - val_precision: 0.9821 - val_recall: 0.9420 - val_get_f1: 0.9566\n",
            "Epoch 98/150\n",
            "100/100 [==============================] - ETA: 0s - loss: 0.0017 - accuracy: 0.9683 - precision: 0.9828 - recall: 0.9446 - get_f1: 0.9632"
          ],
          "name": "stdout"
        },
        {
          "output_type": "stream",
          "text": [
            "2020-04-16 23:25:40,823 INFO \n",
            " epoch:097, F1Macro: 0.93779\n"
          ],
          "name": "stderr"
        },
        {
          "output_type": "stream",
          "text": [
            "\b\b\b\b\b\b\b\b\b\b\b\b\b\b\b\b\b\b\b\b\b\b\b\b\b\b\b\b\b\b\b\b\b\b\b\b\b\b\b\b\b\b\b\b\b\b\b\b\b\b\b\b\b\b\b\b\b\b\b\b\b\b\b\b\b\b\b\b\b\b\b\b\b\b\b\b\b\b\b\b\b\b\b\b\b\b\b\b\b\b\b\b\b\b\b\b\b\b\b\b\b\b\b\b\b\b\b\b\b\b\b\b\b\b\b\b\b\b\b\b\b\b\b\b\b\b\b\b\b\b\b\b\b\b\b\b\b\b\r100/100 [==============================] - 30s 299ms/step - loss: 0.0017 - accuracy: 0.9683 - precision: 0.9828 - recall: 0.9446 - get_f1: 0.9632 - val_loss: 0.0019 - val_accuracy: 0.9667 - val_precision: 0.9820 - val_recall: 0.9413 - val_get_f1: 0.9561\n",
            "Epoch 99/150\n",
            "100/100 [==============================] - ETA: 0s - loss: 0.0017 - accuracy: 0.9682 - precision: 0.9830 - recall: 0.9439 - get_f1: 0.9629"
          ],
          "name": "stdout"
        },
        {
          "output_type": "stream",
          "text": [
            "2020-04-16 23:26:11,013 INFO \n",
            " epoch:098, F1Macro: 0.93828\n"
          ],
          "name": "stderr"
        },
        {
          "output_type": "stream",
          "text": [
            "\b\b\b\b\b\b\b\b\b\b\b\b\b\b\b\b\b\b\b\b\b\b\b\b\b\b\b\b\b\b\b\b\b\b\b\b\b\b\b\b\b\b\b\b\b\b\b\b\b\b\b\b\b\b\b\b\b\b\b\b\b\b\b\b\b\b\b\b\b\b\b\b\b\b\b\b\b\b\b\b\b\b\b\b\b\b\b\b\b\b\b\b\b\b\b\b\b\b\b\b\b\b\b\b\b\b\b\b\b\b\b\b\b\b\b\b\b\b\b\b\b\b\b\b\b\b\b\b\b\b\b\b\b\b\b\b\b\b\r100/100 [==============================] - 30s 299ms/step - loss: 0.0017 - accuracy: 0.9682 - precision: 0.9830 - recall: 0.9439 - get_f1: 0.9629 - val_loss: 0.0019 - val_accuracy: 0.9669 - val_precision: 0.9825 - val_recall: 0.9410 - val_get_f1: 0.9561\n",
            "Epoch 100/150\n",
            "100/100 [==============================] - ETA: 0s - loss: 0.0017 - accuracy: 0.9684 - precision: 0.9831 - recall: 0.9445 - get_f1: 0.9633"
          ],
          "name": "stdout"
        },
        {
          "output_type": "stream",
          "text": [
            "2020-04-16 23:26:41,115 INFO \n",
            " epoch:099, F1Macro: 0.93827\n"
          ],
          "name": "stderr"
        },
        {
          "output_type": "stream",
          "text": [
            "\b\b\b\b\b\b\b\b\b\b\b\b\b\b\b\b\b\b\b\b\b\b\b\b\b\b\b\b\b\b\b\b\b\b\b\b\b\b\b\b\b\b\b\b\b\b\b\b\b\b\b\b\b\b\b\b\b\b\b\b\b\b\b\b\b\b\b\b\b\b\b\b\b\b\b\b\b\b\b\b\b\b\b\b\b\b\b\b\b\b\b\b\b\b\b\b\b\b\b\b\b\b\b\b\b\b\b\b\b\b\b\b\b\b\b\b\b\b\b\b\b\b\b\b\b\b\b\b\b\b\b\b\b\b\b\b\b\b\r100/100 [==============================] - 30s 298ms/step - loss: 0.0017 - accuracy: 0.9684 - precision: 0.9831 - recall: 0.9445 - get_f1: 0.9633 - val_loss: 0.0019 - val_accuracy: 0.9669 - val_precision: 0.9819 - val_recall: 0.9424 - val_get_f1: 0.9567\n",
            "Epoch 101/150\n",
            "100/100 [==============================] - ETA: 0s - loss: 0.0017 - accuracy: 0.9687 - precision: 0.9833 - recall: 0.9445 - get_f1: 0.9635"
          ],
          "name": "stdout"
        },
        {
          "output_type": "stream",
          "text": [
            "2020-04-16 23:27:11,253 INFO \n",
            " epoch:100, F1Macro: 0.93766\n"
          ],
          "name": "stderr"
        },
        {
          "output_type": "stream",
          "text": [
            "\b\b\b\b\b\b\b\b\b\b\b\b\b\b\b\b\b\b\b\b\b\b\b\b\b\b\b\b\b\b\b\b\b\b\b\b\b\b\b\b\b\b\b\b\b\b\b\b\b\b\b\b\b\b\b\b\b\b\b\b\b\b\b\b\b\b\b\b\b\b\b\b\b\b\b\b\b\b\b\b\b\b\b\b\b\b\b\b\b\b\b\b\b\b\b\b\b\b\b\b\b\b\b\b\b\b\b\b\b\b\b\b\b\b\b\b\b\b\b\b\b\b\b\b\b\b\b\b\b\b\b\b\b\b\b\b\b\b\r100/100 [==============================] - 30s 299ms/step - loss: 0.0017 - accuracy: 0.9687 - precision: 0.9833 - recall: 0.9445 - get_f1: 0.9635 - val_loss: 0.0019 - val_accuracy: 0.9668 - val_precision: 0.9823 - val_recall: 0.9414 - val_get_f1: 0.9563\n",
            "Epoch 102/150\n",
            "100/100 [==============================] - ETA: 0s - loss: 0.0017 - accuracy: 0.9687 - precision: 0.9834 - recall: 0.9444 - get_f1: 0.9635"
          ],
          "name": "stdout"
        },
        {
          "output_type": "stream",
          "text": [
            "2020-04-16 23:27:41,398 INFO \n",
            " epoch:101, F1Macro: 0.93824\n"
          ],
          "name": "stderr"
        },
        {
          "output_type": "stream",
          "text": [
            "\b\b\b\b\b\b\b\b\b\b\b\b\b\b\b\b\b\b\b\b\b\b\b\b\b\b\b\b\b\b\b\b\b\b\b\b\b\b\b\b\b\b\b\b\b\b\b\b\b\b\b\b\b\b\b\b\b\b\b\b\b\b\b\b\b\b\b\b\b\b\b\b\b\b\b\b\b\b\b\b\b\b\b\b\b\b\b\b\b\b\b\b\b\b\b\b\b\b\b\b\b\b\b\b\b\b\b\b\b\b\b\b\b\b\b\b\b\b\b\b\b\b\b\b\b\b\b\b\b\b\b\b\b\b\b\b\b\b\r100/100 [==============================] - 30s 299ms/step - loss: 0.0017 - accuracy: 0.9687 - precision: 0.9834 - recall: 0.9444 - get_f1: 0.9635 - val_loss: 0.0019 - val_accuracy: 0.9670 - val_precision: 0.9823 - val_recall: 0.9416 - val_get_f1: 0.9564\n",
            "Epoch 103/150\n",
            "100/100 [==============================] - ETA: 0s - loss: 0.0017 - accuracy: 0.9687 - precision: 0.9834 - recall: 0.9442 - get_f1: 0.9633"
          ],
          "name": "stdout"
        },
        {
          "output_type": "stream",
          "text": [
            "2020-04-16 23:28:11,522 INFO \n",
            " epoch:102, F1Macro: 0.93829\n"
          ],
          "name": "stderr"
        },
        {
          "output_type": "stream",
          "text": [
            "\b\b\b\b\b\b\b\b\b\b\b\b\b\b\b\b\b\b\b\b\b\b\b\b\b\b\b\b\b\b\b\b\b\b\b\b\b\b\b\b\b\b\b\b\b\b\b\b\b\b\b\b\b\b\b\b\b\b\b\b\b\b\b\b\b\b\b\b\b\b\b\b\b\b\b\b\b\b\b\b\b\b\b\b\b\b\b\b\b\b\b\b\b\b\b\b\b\b\b\b\b\b\b\b\b\b\b\b\b\b\b\b\b\b\b\b\b\b\b\b\b\b\b\b\b\b\b\b\b\b\b\b\b\b\b\b\b\b\r100/100 [==============================] - 30s 299ms/step - loss: 0.0017 - accuracy: 0.9687 - precision: 0.9834 - recall: 0.9442 - get_f1: 0.9633 - val_loss: 0.0019 - val_accuracy: 0.9668 - val_precision: 0.9821 - val_recall: 0.9420 - val_get_f1: 0.9566\n",
            "Epoch 104/150\n",
            "100/100 [==============================] - ETA: 0s - loss: 0.0017 - accuracy: 0.9683 - precision: 0.9833 - recall: 0.9437 - get_f1: 0.9630"
          ],
          "name": "stdout"
        },
        {
          "output_type": "stream",
          "text": [
            "2020-04-16 23:28:41,614 INFO \n",
            " epoch:103, F1Macro: 0.93751\n"
          ],
          "name": "stderr"
        },
        {
          "output_type": "stream",
          "text": [
            "\b\b\b\b\b\b\b\b\b\b\b\b\b\b\b\b\b\b\b\b\b\b\b\b\b\b\b\b\b\b\b\b\b\b\b\b\b\b\b\b\b\b\b\b\b\b\b\b\b\b\b\b\b\b\b\b\b\b\b\b\b\b\b\b\b\b\b\b\b\b\b\b\b\b\b\b\b\b\b\b\b\b\b\b\b\b\b\b\b\b\b\b\b\b\b\b\b\b\b\b\b\b\b\b\b\b\b\b\b\b\b\b\b\b\b\b\b\b\b\b\b\b\b\b\b\b\b\b\b\b\b\b\b\b\b\b\b\b\r100/100 [==============================] - 30s 298ms/step - loss: 0.0017 - accuracy: 0.9683 - precision: 0.9833 - recall: 0.9437 - get_f1: 0.9630 - val_loss: 0.0019 - val_accuracy: 0.9663 - val_precision: 0.9824 - val_recall: 0.9400 - val_get_f1: 0.9555\n",
            "Epoch 105/150\n",
            "100/100 [==============================] - ETA: 0s - loss: 0.0017 - accuracy: 0.9686 - precision: 0.9835 - recall: 0.9439 - get_f1: 0.9632"
          ],
          "name": "stdout"
        },
        {
          "output_type": "stream",
          "text": [
            "2020-04-16 23:29:11,718 INFO \n",
            " epoch:104, F1Macro: 0.93867\n"
          ],
          "name": "stderr"
        },
        {
          "output_type": "stream",
          "text": [
            "\b\b\b\b\b\b\b\b\b\b\b\b\b\b\b\b\b\b\b\b\b\b\b\b\b\b\b\b\b\b\b\b\b\b\b\b\b\b\b\b\b\b\b\b\b\b\b\b\b\b\b\b\b\b\b\b\b\b\b\b\b\b\b\b\b\b\b\b\b\b\b\b\b\b\b\b\b\b\b\b\b\b\b\b\b\b\b\b\b\b\b\b\b\b\b\b\b\b\b\b\b\b\b\b\b\b\b\b\b\b\b\b\b\b\b\b\b\b\b\b\b\b\b\b\b\b\b\b\b\b\b\b\b\b\b\b\b\b\r100/100 [==============================] - 31s 308ms/step - loss: 0.0017 - accuracy: 0.9686 - precision: 0.9835 - recall: 0.9439 - get_f1: 0.9632 - val_loss: 0.0019 - val_accuracy: 0.9672 - val_precision: 0.9827 - val_recall: 0.9409 - val_get_f1: 0.9562\n",
            "Epoch 106/150\n",
            "100/100 [==============================] - ETA: 0s - loss: 0.0016 - accuracy: 0.9688 - precision: 0.9837 - recall: 0.9437 - get_f1: 0.9632"
          ],
          "name": "stdout"
        },
        {
          "output_type": "stream",
          "text": [
            "2020-04-16 23:29:42,818 INFO \n",
            " epoch:105, F1Macro: 0.93818\n"
          ],
          "name": "stderr"
        },
        {
          "output_type": "stream",
          "text": [
            "\b\b\b\b\b\b\b\b\b\b\b\b\b\b\b\b\b\b\b\b\b\b\b\b\b\b\b\b\b\b\b\b\b\b\b\b\b\b\b\b\b\b\b\b\b\b\b\b\b\b\b\b\b\b\b\b\b\b\b\b\b\b\b\b\b\b\b\b\b\b\b\b\b\b\b\b\b\b\b\b\b\b\b\b\b\b\b\b\b\b\b\b\b\b\b\b\b\b\b\b\b\b\b\b\b\b\b\b\b\b\b\b\b\b\b\b\b\b\b\b\b\b\b\b\b\b\b\b\b\b\b\b\b\b\b\b\b\b\r100/100 [==============================] - 30s 298ms/step - loss: 0.0016 - accuracy: 0.9688 - precision: 0.9837 - recall: 0.9437 - get_f1: 0.9632 - val_loss: 0.0019 - val_accuracy: 0.9669 - val_precision: 0.9823 - val_recall: 0.9416 - val_get_f1: 0.9564\n",
            "Epoch 107/150\n",
            "100/100 [==============================] - ETA: 0s - loss: 0.0017 - accuracy: 0.9685 - precision: 0.9835 - recall: 0.9435 - get_f1: 0.9630"
          ],
          "name": "stdout"
        },
        {
          "output_type": "stream",
          "text": [
            "2020-04-16 23:30:12,872 INFO \n",
            " epoch:106, F1Macro: 0.93695\n"
          ],
          "name": "stderr"
        },
        {
          "output_type": "stream",
          "text": [
            "\b\b\b\b\b\b\b\b\b\b\b\b\b\b\b\b\b\b\b\b\b\b\b\b\b\b\b\b\b\b\b\b\b\b\b\b\b\b\b\b\b\b\b\b\b\b\b\b\b\b\b\b\b\b\b\b\b\b\b\b\b\b\b\b\b\b\b\b\b\b\b\b\b\b\b\b\b\b\b\b\b\b\b\b\b\b\b\b\b\b\b\b\b\b\b\b\b\b\b\b\b\b\b\b\b\b\b\b\b\b\b\b\b\b\b\b\b\b\b\b\b\b\b\b\b\b\b\b\b\b\b\b\b\b\b\b\b\b\r100/100 [==============================] - 30s 298ms/step - loss: 0.0017 - accuracy: 0.9685 - precision: 0.9835 - recall: 0.9435 - get_f1: 0.9630 - val_loss: 0.0019 - val_accuracy: 0.9664 - val_precision: 0.9825 - val_recall: 0.9391 - val_get_f1: 0.9550\n",
            "Epoch 108/150\n",
            "100/100 [==============================] - ETA: 0s - loss: 0.0017 - accuracy: 0.9686 - precision: 0.9836 - recall: 0.9434 - get_f1: 0.9630"
          ],
          "name": "stdout"
        },
        {
          "output_type": "stream",
          "text": [
            "2020-04-16 23:30:42,918 INFO \n",
            " epoch:107, F1Macro: 0.93839\n"
          ],
          "name": "stderr"
        },
        {
          "output_type": "stream",
          "text": [
            "\b\b\b\b\b\b\b\b\b\b\b\b\b\b\b\b\b\b\b\b\b\b\b\b\b\b\b\b\b\b\b\b\b\b\b\b\b\b\b\b\b\b\b\b\b\b\b\b\b\b\b\b\b\b\b\b\b\b\b\b\b\b\b\b\b\b\b\b\b\b\b\b\b\b\b\b\b\b\b\b\b\b\b\b\b\b\b\b\b\b\b\b\b\b\b\b\b\b\b\b\b\b\b\b\b\b\b\b\b\b\b\b\b\b\b\b\b\b\b\b\b\b\b\b\b\b\b\b\b\b\b\b\b\b\b\b\b\b\r100/100 [==============================] - 30s 298ms/step - loss: 0.0017 - accuracy: 0.9686 - precision: 0.9836 - recall: 0.9434 - get_f1: 0.9630 - val_loss: 0.0019 - val_accuracy: 0.9669 - val_precision: 0.9829 - val_recall: 0.9400 - val_get_f1: 0.9556\n",
            "Epoch 109/150\n",
            "100/100 [==============================] - ETA: 0s - loss: 0.0017 - accuracy: 0.9684 - precision: 0.9836 - recall: 0.9428 - get_f1: 0.9627"
          ],
          "name": "stdout"
        },
        {
          "output_type": "stream",
          "text": [
            "2020-04-16 23:31:12,946 INFO \n",
            " epoch:108, F1Macro: 0.93789\n"
          ],
          "name": "stderr"
        },
        {
          "output_type": "stream",
          "text": [
            "\b\b\b\b\b\b\b\b\b\b\b\b\b\b\b\b\b\b\b\b\b\b\b\b\b\b\b\b\b\b\b\b\b\b\b\b\b\b\b\b\b\b\b\b\b\b\b\b\b\b\b\b\b\b\b\b\b\b\b\b\b\b\b\b\b\b\b\b\b\b\b\b\b\b\b\b\b\b\b\b\b\b\b\b\b\b\b\b\b\b\b\b\b\b\b\b\b\b\b\b\b\b\b\b\b\b\b\b\b\b\b\b\b\b\b\b\b\b\b\b\b\b\b\b\b\b\b\b\b\b\b\b\b\b\b\b\b\b\r100/100 [==============================] - 30s 297ms/step - loss: 0.0017 - accuracy: 0.9684 - precision: 0.9836 - recall: 0.9428 - get_f1: 0.9627 - val_loss: 0.0019 - val_accuracy: 0.9667 - val_precision: 0.9823 - val_recall: 0.9408 - val_get_f1: 0.9560\n",
            "Epoch 110/150\n",
            "100/100 [==============================] - ETA: 0s - loss: 0.0017 - accuracy: 0.9686 - precision: 0.9837 - recall: 0.9433 - get_f1: 0.9630"
          ],
          "name": "stdout"
        },
        {
          "output_type": "stream",
          "text": [
            "2020-04-16 23:31:43,119 INFO \n",
            " epoch:109, F1Macro: 0.93716\n"
          ],
          "name": "stderr"
        },
        {
          "output_type": "stream",
          "text": [
            "\b\b\b\b\b\b\b\b\b\b\b\b\b\b\b\b\b\b\b\b\b\b\b\b\b\b\b\b\b\b\b\b\b\b\b\b\b\b\b\b\b\b\b\b\b\b\b\b\b\b\b\b\b\b\b\b\b\b\b\b\b\b\b\b\b\b\b\b\b\b\b\b\b\b\b\b\b\b\b\b\b\b\b\b\b\b\b\b\b\b\b\b\b\b\b\b\b\b\b\b\b\b\b\b\b\b\b\b\b\b\b\b\b\b\b\b\b\b\b\b\b\b\b\b\b\b\b\b\b\b\b\b\b\b\b\b\b\b\r100/100 [==============================] - 30s 299ms/step - loss: 0.0017 - accuracy: 0.9686 - precision: 0.9837 - recall: 0.9433 - get_f1: 0.9630 - val_loss: 0.0019 - val_accuracy: 0.9666 - val_precision: 0.9825 - val_recall: 0.9398 - val_get_f1: 0.9555\n",
            "Epoch 111/150\n",
            "100/100 [==============================] - ETA: 0s - loss: 0.0017 - accuracy: 0.9682 - precision: 0.9834 - recall: 0.9425 - get_f1: 0.9624"
          ],
          "name": "stdout"
        },
        {
          "output_type": "stream",
          "text": [
            "2020-04-16 23:32:13,159 INFO \n",
            " epoch:110, F1Macro: 0.93759\n"
          ],
          "name": "stderr"
        },
        {
          "output_type": "stream",
          "text": [
            "\b\b\b\b\b\b\b\b\b\b\b\b\b\b\b\b\b\b\b\b\b\b\b\b\b\b\b\b\b\b\b\b\b\b\b\b\b\b\b\b\b\b\b\b\b\b\b\b\b\b\b\b\b\b\b\b\b\b\b\b\b\b\b\b\b\b\b\b\b\b\b\b\b\b\b\b\b\b\b\b\b\b\b\b\b\b\b\b\b\b\b\b\b\b\b\b\b\b\b\b\b\b\b\b\b\b\b\b\b\b\b\b\b\b\b\b\b\b\b\b\b\b\b\b\b\b\b\b\b\b\b\b\b\b\b\b\b\b\r100/100 [==============================] - 30s 298ms/step - loss: 0.0017 - accuracy: 0.9682 - precision: 0.9834 - recall: 0.9425 - get_f1: 0.9624 - val_loss: 0.0020 - val_accuracy: 0.9665 - val_precision: 0.9818 - val_recall: 0.9404 - val_get_f1: 0.9552\n",
            "Epoch 112/150\n",
            "100/100 [==============================] - ETA: 0s - loss: 0.0017 - accuracy: 0.9686 - precision: 0.9836 - recall: 0.9432 - get_f1: 0.9629"
          ],
          "name": "stdout"
        },
        {
          "output_type": "stream",
          "text": [
            "2020-04-16 23:32:43,182 INFO \n",
            " epoch:111, F1Macro: 0.93848\n"
          ],
          "name": "stderr"
        },
        {
          "output_type": "stream",
          "text": [
            "\b\b\b\b\b\b\b\b\b\b\b\b\b\b\b\b\b\b\b\b\b\b\b\b\b\b\b\b\b\b\b\b\b\b\b\b\b\b\b\b\b\b\b\b\b\b\b\b\b\b\b\b\b\b\b\b\b\b\b\b\b\b\b\b\b\b\b\b\b\b\b\b\b\b\b\b\b\b\b\b\b\b\b\b\b\b\b\b\b\b\b\b\b\b\b\b\b\b\b\b\b\b\b\b\b\b\b\b\b\b\b\b\b\b\b\b\b\b\b\b\b\b\b\b\b\b\b\b\b\b\b\b\b\b\b\b\b\b\r100/100 [==============================] - 30s 297ms/step - loss: 0.0017 - accuracy: 0.9686 - precision: 0.9836 - recall: 0.9432 - get_f1: 0.9629 - val_loss: 0.0019 - val_accuracy: 0.9671 - val_precision: 0.9826 - val_recall: 0.9409 - val_get_f1: 0.9561\n",
            "Epoch 113/150\n",
            "100/100 [==============================] - ETA: 0s - loss: 0.0017 - accuracy: 0.9684 - precision: 0.9837 - recall: 0.9424 - get_f1: 0.9626"
          ],
          "name": "stdout"
        },
        {
          "output_type": "stream",
          "text": [
            "2020-04-16 23:33:13,277 INFO \n",
            " epoch:112, F1Macro: 0.93809\n"
          ],
          "name": "stderr"
        },
        {
          "output_type": "stream",
          "text": [
            "\b\b\b\b\b\b\b\b\b\b\b\b\b\b\b\b\b\b\b\b\b\b\b\b\b\b\b\b\b\b\b\b\b\b\b\b\b\b\b\b\b\b\b\b\b\b\b\b\b\b\b\b\b\b\b\b\b\b\b\b\b\b\b\b\b\b\b\b\b\b\b\b\b\b\b\b\b\b\b\b\b\b\b\b\b\b\b\b\b\b\b\b\b\b\b\b\b\b\b\b\b\b\b\b\b\b\b\b\b\b\b\b\b\b\b\b\b\b\b\b\b\b\b\b\b\b\b\b\b\b\b\b\b\b\b\b\b\b\r100/100 [==============================] - 30s 298ms/step - loss: 0.0017 - accuracy: 0.9684 - precision: 0.9837 - recall: 0.9424 - get_f1: 0.9626 - val_loss: 0.0019 - val_accuracy: 0.9667 - val_precision: 0.9829 - val_recall: 0.9391 - val_get_f1: 0.9552\n",
            "Epoch 114/150\n",
            "100/100 [==============================] - ETA: 0s - loss: 0.0016 - accuracy: 0.9689 - precision: 0.9840 - recall: 0.9433 - get_f1: 0.9631"
          ],
          "name": "stdout"
        },
        {
          "output_type": "stream",
          "text": [
            "2020-04-16 23:33:43,341 INFO \n",
            " epoch:113, F1Macro: 0.93868\n"
          ],
          "name": "stderr"
        },
        {
          "output_type": "stream",
          "text": [
            "\b\b\b\b\b\b\b\b\b\b\b\b\b\b\b\b\b\b\b\b\b\b\b\b\b\b\b\b\b\b\b\b\b\b\b\b\b\b\b\b\b\b\b\b\b\b\b\b\b\b\b\b\b\b\b\b\b\b\b\b\b\b\b\b\b\b\b\b\b\b\b\b\b\b\b\b\b\b\b\b\b\b\b\b\b\b\b\b\b\b\b\b\b\b\b\b\b\b\b\b\b\b\b\b\b\b\b\b\b\b\b\b\b\b\b\b\b\b\b\b\b\b\b\b\b\b\b\b\b\b\b\b\b\b\b\b\b\b\r100/100 [==============================] - 31s 308ms/step - loss: 0.0016 - accuracy: 0.9689 - precision: 0.9840 - recall: 0.9433 - get_f1: 0.9631 - val_loss: 0.0019 - val_accuracy: 0.9671 - val_precision: 0.9832 - val_recall: 0.9397 - val_get_f1: 0.9557\n",
            "Epoch 115/150\n",
            "100/100 [==============================] - ETA: 0s - loss: 0.0016 - accuracy: 0.9689 - precision: 0.9841 - recall: 0.9431 - get_f1: 0.9631"
          ],
          "name": "stdout"
        },
        {
          "output_type": "stream",
          "text": [
            "2020-04-16 23:34:14,430 INFO \n",
            " epoch:114, F1Macro: 0.93815\n"
          ],
          "name": "stderr"
        },
        {
          "output_type": "stream",
          "text": [
            "\b\b\b\b\b\b\b\b\b\b\b\b\b\b\b\b\b\b\b\b\b\b\b\b\b\b\b\b\b\b\b\b\b\b\b\b\b\b\b\b\b\b\b\b\b\b\b\b\b\b\b\b\b\b\b\b\b\b\b\b\b\b\b\b\b\b\b\b\b\b\b\b\b\b\b\b\b\b\b\b\b\b\b\b\b\b\b\b\b\b\b\b\b\b\b\b\b\b\b\b\b\b\b\b\b\b\b\b\b\b\b\b\b\b\b\b\b\b\b\b\b\b\b\b\b\b\b\b\b\b\b\b\b\b\b\b\b\b\r100/100 [==============================] - 30s 298ms/step - loss: 0.0016 - accuracy: 0.9689 - precision: 0.9841 - recall: 0.9431 - get_f1: 0.9631 - val_loss: 0.0019 - val_accuracy: 0.9671 - val_precision: 0.9827 - val_recall: 0.9407 - val_get_f1: 0.9561\n",
            "Epoch 116/150\n",
            "100/100 [==============================] - ETA: 0s - loss: 0.0016 - accuracy: 0.9688 - precision: 0.9840 - recall: 0.9429 - get_f1: 0.9629"
          ],
          "name": "stdout"
        },
        {
          "output_type": "stream",
          "text": [
            "2020-04-16 23:34:44,517 INFO \n",
            " epoch:115, F1Macro: 0.93827\n"
          ],
          "name": "stderr"
        },
        {
          "output_type": "stream",
          "text": [
            "\b\b\b\b\b\b\b\b\b\b\b\b\b\b\b\b\b\b\b\b\b\b\b\b\b\b\b\b\b\b\b\b\b\b\b\b\b\b\b\b\b\b\b\b\b\b\b\b\b\b\b\b\b\b\b\b\b\b\b\b\b\b\b\b\b\b\b\b\b\b\b\b\b\b\b\b\b\b\b\b\b\b\b\b\b\b\b\b\b\b\b\b\b\b\b\b\b\b\b\b\b\b\b\b\b\b\b\b\b\b\b\b\b\b\b\b\b\b\b\b\b\b\b\b\b\b\b\b\b\b\b\b\b\b\b\b\b\b\r100/100 [==============================] - 30s 298ms/step - loss: 0.0016 - accuracy: 0.9688 - precision: 0.9840 - recall: 0.9429 - get_f1: 0.9629 - val_loss: 0.0019 - val_accuracy: 0.9670 - val_precision: 0.9833 - val_recall: 0.9388 - val_get_f1: 0.9552\n",
            "Epoch 117/150\n",
            "100/100 [==============================] - ETA: 0s - loss: 0.0017 - accuracy: 0.9687 - precision: 0.9840 - recall: 0.9427 - get_f1: 0.9628"
          ],
          "name": "stdout"
        },
        {
          "output_type": "stream",
          "text": [
            "2020-04-16 23:35:14,507 INFO \n",
            " epoch:116, F1Macro: 0.93779\n"
          ],
          "name": "stderr"
        },
        {
          "output_type": "stream",
          "text": [
            "\b\b\b\b\b\b\b\b\b\b\b\b\b\b\b\b\b\b\b\b\b\b\b\b\b\b\b\b\b\b\b\b\b\b\b\b\b\b\b\b\b\b\b\b\b\b\b\b\b\b\b\b\b\b\b\b\b\b\b\b\b\b\b\b\b\b\b\b\b\b\b\b\b\b\b\b\b\b\b\b\b\b\b\b\b\b\b\b\b\b\b\b\b\b\b\b\b\b\b\b\b\b\b\b\b\b\b\b\b\b\b\b\b\b\b\b\b\b\b\b\b\b\b\b\b\b\b\b\b\b\b\b\b\b\b\b\b\b\r100/100 [==============================] - 30s 297ms/step - loss: 0.0017 - accuracy: 0.9687 - precision: 0.9840 - recall: 0.9427 - get_f1: 0.9628 - val_loss: 0.0019 - val_accuracy: 0.9663 - val_precision: 0.9826 - val_recall: 0.9403 - val_get_f1: 0.9557\n",
            "Epoch 118/150\n",
            "100/100 [==============================] - ETA: 0s - loss: 0.0017 - accuracy: 0.9685 - precision: 0.9838 - recall: 0.9425 - get_f1: 0.9626"
          ],
          "name": "stdout"
        },
        {
          "output_type": "stream",
          "text": [
            "2020-04-16 23:35:44,577 INFO \n",
            " epoch:117, F1Macro: 0.93841\n"
          ],
          "name": "stderr"
        },
        {
          "output_type": "stream",
          "text": [
            "\b\b\b\b\b\b\b\b\b\b\b\b\b\b\b\b\b\b\b\b\b\b\b\b\b\b\b\b\b\b\b\b\b\b\b\b\b\b\b\b\b\b\b\b\b\b\b\b\b\b\b\b\b\b\b\b\b\b\b\b\b\b\b\b\b\b\b\b\b\b\b\b\b\b\b\b\b\b\b\b\b\b\b\b\b\b\b\b\b\b\b\b\b\b\b\b\b\b\b\b\b\b\b\b\b\b\b\b\b\b\b\b\b\b\b\b\b\b\b\b\b\b\b\b\b\b\b\b\b\b\b\b\b\b\b\b\b\b\r100/100 [==============================] - 30s 298ms/step - loss: 0.0017 - accuracy: 0.9685 - precision: 0.9838 - recall: 0.9425 - get_f1: 0.9626 - val_loss: 0.0019 - val_accuracy: 0.9669 - val_precision: 0.9826 - val_recall: 0.9408 - val_get_f1: 0.9561\n",
            "Epoch 119/150\n",
            "100/100 [==============================] - ETA: 0s - loss: 0.0017 - accuracy: 0.9685 - precision: 0.9839 - recall: 0.9426 - get_f1: 0.9627"
          ],
          "name": "stdout"
        },
        {
          "output_type": "stream",
          "text": [
            "2020-04-16 23:36:14,612 INFO \n",
            " epoch:118, F1Macro: 0.93770\n"
          ],
          "name": "stderr"
        },
        {
          "output_type": "stream",
          "text": [
            "\b\b\b\b\b\b\b\b\b\b\b\b\b\b\b\b\b\b\b\b\b\b\b\b\b\b\b\b\b\b\b\b\b\b\b\b\b\b\b\b\b\b\b\b\b\b\b\b\b\b\b\b\b\b\b\b\b\b\b\b\b\b\b\b\b\b\b\b\b\b\b\b\b\b\b\b\b\b\b\b\b\b\b\b\b\b\b\b\b\b\b\b\b\b\b\b\b\b\b\b\b\b\b\b\b\b\b\b\b\b\b\b\b\b\b\b\b\b\b\b\b\b\b\b\b\b\b\b\b\b\b\b\b\b\b\b\b\b\r100/100 [==============================] - 30s 298ms/step - loss: 0.0017 - accuracy: 0.9685 - precision: 0.9839 - recall: 0.9426 - get_f1: 0.9627 - val_loss: 0.0019 - val_accuracy: 0.9667 - val_precision: 0.9836 - val_recall: 0.9373 - val_get_f1: 0.9543\n",
            "Epoch 120/150\n",
            "100/100 [==============================] - ETA: 0s - loss: 0.0016 - accuracy: 0.9689 - precision: 0.9842 - recall: 0.9428 - get_f1: 0.9630"
          ],
          "name": "stdout"
        },
        {
          "output_type": "stream",
          "text": [
            "2020-04-16 23:36:44,665 INFO \n",
            " epoch:119, F1Macro: 0.93863\n"
          ],
          "name": "stderr"
        },
        {
          "output_type": "stream",
          "text": [
            "\b\b\b\b\b\b\b\b\b\b\b\b\b\b\b\b\b\b\b\b\b\b\b\b\b\b\b\b\b\b\b\b\b\b\b\b\b\b\b\b\b\b\b\b\b\b\b\b\b\b\b\b\b\b\b\b\b\b\b\b\b\b\b\b\b\b\b\b\b\b\b\b\b\b\b\b\b\b\b\b\b\b\b\b\b\b\b\b\b\b\b\b\b\b\b\b\b\b\b\b\b\b\b\b\b\b\b\b\b\b\b\b\b\b\b\b\b\b\b\b\b\b\b\b\b\b\b\b\b\b\b\b\b\b\b\b\b\b\r100/100 [==============================] - 30s 298ms/step - loss: 0.0016 - accuracy: 0.9689 - precision: 0.9842 - recall: 0.9428 - get_f1: 0.9630 - val_loss: 0.0019 - val_accuracy: 0.9672 - val_precision: 0.9835 - val_recall: 0.9395 - val_get_f1: 0.9557\n",
            "Epoch 121/150\n",
            "100/100 [==============================] - ETA: 0s - loss: 0.0016 - accuracy: 0.9688 - precision: 0.9841 - recall: 0.9426 - get_f1: 0.9628"
          ],
          "name": "stdout"
        },
        {
          "output_type": "stream",
          "text": [
            "2020-04-16 23:37:14,733 INFO \n",
            " epoch:120, F1Macro: 0.93349\n"
          ],
          "name": "stderr"
        },
        {
          "output_type": "stream",
          "text": [
            "\b\b\b\b\b\b\b\b\b\b\b\b\b\b\b\b\b\b\b\b\b\b\b\b\b\b\b\b\b\b\b\b\b\b\b\b\b\b\b\b\b\b\b\b\b\b\b\b\b\b\b\b\b\b\b\b\b\b\b\b\b\b\b\b\b\b\b\b\b\b\b\b\b\b\b\b\b\b\b\b\b\b\b\b\b\b\b\b\b\b\b\b\b\b\b\b\b\b\b\b\b\b\b\b\b\b\b\b\b\b\b\b\b\b\b\b\b\b\b\b\b\b\b\b\b\b\b\b\b\b\b\b\b\b\b\b\b\b\r100/100 [==============================] - 30s 298ms/step - loss: 0.0016 - accuracy: 0.9688 - precision: 0.9841 - recall: 0.9426 - get_f1: 0.9628 - val_loss: 0.0019 - val_accuracy: 0.9659 - val_precision: 0.9829 - val_recall: 0.9371 - val_get_f1: 0.9538\n",
            "Epoch 122/150\n",
            "100/100 [==============================] - ETA: 0s - loss: 0.0016 - accuracy: 0.9689 - precision: 0.9841 - recall: 0.9427 - get_f1: 0.9629"
          ],
          "name": "stdout"
        },
        {
          "output_type": "stream",
          "text": [
            "2020-04-16 23:37:44,838 INFO \n",
            " epoch:121, F1Macro: 0.93822\n"
          ],
          "name": "stderr"
        },
        {
          "output_type": "stream",
          "text": [
            "\b\b\b\b\b\b\b\b\b\b\b\b\b\b\b\b\b\b\b\b\b\b\b\b\b\b\b\b\b\b\b\b\b\b\b\b\b\b\b\b\b\b\b\b\b\b\b\b\b\b\b\b\b\b\b\b\b\b\b\b\b\b\b\b\b\b\b\b\b\b\b\b\b\b\b\b\b\b\b\b\b\b\b\b\b\b\b\b\b\b\b\b\b\b\b\b\b\b\b\b\b\b\b\b\b\b\b\b\b\b\b\b\b\b\b\b\b\b\b\b\b\b\b\b\b\b\b\b\b\b\b\b\b\b\b\b\b\b\r100/100 [==============================] - 30s 298ms/step - loss: 0.0016 - accuracy: 0.9689 - precision: 0.9841 - recall: 0.9427 - get_f1: 0.9629 - val_loss: 0.0019 - val_accuracy: 0.9668 - val_precision: 0.9830 - val_recall: 0.9394 - val_get_f1: 0.9552\n",
            "Epoch 123/150\n",
            "100/100 [==============================] - ETA: 0s - loss: 0.0016 - accuracy: 0.9687 - precision: 0.9841 - recall: 0.9425 - get_f1: 0.9628"
          ],
          "name": "stdout"
        },
        {
          "output_type": "stream",
          "text": [
            "2020-04-16 23:38:14,951 INFO \n",
            " epoch:122, F1Macro: 0.93848\n"
          ],
          "name": "stderr"
        },
        {
          "output_type": "stream",
          "text": [
            "\b\b\b\b\b\b\b\b\b\b\b\b\b\b\b\b\b\b\b\b\b\b\b\b\b\b\b\b\b\b\b\b\b\b\b\b\b\b\b\b\b\b\b\b\b\b\b\b\b\b\b\b\b\b\b\b\b\b\b\b\b\b\b\b\b\b\b\b\b\b\b\b\b\b\b\b\b\b\b\b\b\b\b\b\b\b\b\b\b\b\b\b\b\b\b\b\b\b\b\b\b\b\b\b\b\b\b\b\b\b\b\b\b\b\b\b\b\b\b\b\b\b\b\b\b\b\b\b\b\b\b\b\b\b\b\b\b\b\r100/100 [==============================] - 30s 298ms/step - loss: 0.0016 - accuracy: 0.9687 - precision: 0.9841 - recall: 0.9425 - get_f1: 0.9628 - val_loss: 0.0019 - val_accuracy: 0.9667 - val_precision: 0.9833 - val_recall: 0.9383 - val_get_f1: 0.9548\n",
            "Epoch 124/150\n",
            "100/100 [==============================] - ETA: 0s - loss: 0.0017 - accuracy: 0.9686 - precision: 0.9841 - recall: 0.9422 - get_f1: 0.9626"
          ],
          "name": "stdout"
        },
        {
          "output_type": "stream",
          "text": [
            "2020-04-16 23:38:45,099 INFO \n",
            " epoch:123, F1Macro: 0.93779\n"
          ],
          "name": "stderr"
        },
        {
          "output_type": "stream",
          "text": [
            "\b\b\b\b\b\b\b\b\b\b\b\b\b\b\b\b\b\b\b\b\b\b\b\b\b\b\b\b\b\b\b\b\b\b\b\b\b\b\b\b\b\b\b\b\b\b\b\b\b\b\b\b\b\b\b\b\b\b\b\b\b\b\b\b\b\b\b\b\b\b\b\b\b\b\b\b\b\b\b\b\b\b\b\b\b\b\b\b\b\b\b\b\b\b\b\b\b\b\b\b\b\b\b\b\b\b\b\b\b\b\b\b\b\b\b\b\b\b\b\b\b\b\b\b\b\b\b\b\b\b\b\b\b\b\b\b\b\b\r100/100 [==============================] - 30s 299ms/step - loss: 0.0017 - accuracy: 0.9686 - precision: 0.9841 - recall: 0.9422 - get_f1: 0.9626 - val_loss: 0.0019 - val_accuracy: 0.9664 - val_precision: 0.9819 - val_recall: 0.9406 - val_get_f1: 0.9554\n",
            "Epoch 125/150\n",
            "100/100 [==============================] - ETA: 0s - loss: 0.0017 - accuracy: 0.9686 - precision: 0.9841 - recall: 0.9421 - get_f1: 0.9625"
          ],
          "name": "stdout"
        },
        {
          "output_type": "stream",
          "text": [
            "2020-04-16 23:39:15,128 INFO \n",
            " epoch:124, F1Macro: 0.93461\n"
          ],
          "name": "stderr"
        },
        {
          "output_type": "stream",
          "text": [
            "\b\b\b\b\b\b\b\b\b\b\b\b\b\b\b\b\b\b\b\b\b\b\b\b\b\b\b\b\b\b\b\b\b\b\b\b\b\b\b\b\b\b\b\b\b\b\b\b\b\b\b\b\b\b\b\b\b\b\b\b\b\b\b\b\b\b\b\b\b\b\b\b\b\b\b\b\b\b\b\b\b\b\b\b\b\b\b\b\b\b\b\b\b\b\b\b\b\b\b\b\b\b\b\b\b\b\b\b\b\b\b\b\b\b\b\b\b\b\b\b\b\b\b\b\b\b\b\b\b\b\b\b\b\b\b\b\b\b\r100/100 [==============================] - 30s 297ms/step - loss: 0.0017 - accuracy: 0.9686 - precision: 0.9841 - recall: 0.9421 - get_f1: 0.9625 - val_loss: 0.0020 - val_accuracy: 0.9655 - val_precision: 0.9824 - val_recall: 0.9375 - val_get_f1: 0.9538\n",
            "Epoch 126/150\n",
            "100/100 [==============================] - ETA: 0s - loss: 0.0017 - accuracy: 0.9679 - precision: 0.9837 - recall: 0.9408 - get_f1: 0.9617"
          ],
          "name": "stdout"
        },
        {
          "output_type": "stream",
          "text": [
            "2020-04-16 23:39:45,259 INFO \n",
            " epoch:125, F1Macro: 0.93849\n"
          ],
          "name": "stderr"
        },
        {
          "output_type": "stream",
          "text": [
            "\b\b\b\b\b\b\b\b\b\b\b\b\b\b\b\b\b\b\b\b\b\b\b\b\b\b\b\b\b\b\b\b\b\b\b\b\b\b\b\b\b\b\b\b\b\b\b\b\b\b\b\b\b\b\b\b\b\b\b\b\b\b\b\b\b\b\b\b\b\b\b\b\b\b\b\b\b\b\b\b\b\b\b\b\b\b\b\b\b\b\b\b\b\b\b\b\b\b\b\b\b\b\b\b\b\b\b\b\b\b\b\b\b\b\b\b\b\b\b\b\b\b\b\b\b\b\b\b\b\b\b\b\b\b\b\b\b\b\r100/100 [==============================] - 30s 298ms/step - loss: 0.0017 - accuracy: 0.9679 - precision: 0.9837 - recall: 0.9408 - get_f1: 0.9617 - val_loss: 0.0019 - val_accuracy: 0.9671 - val_precision: 0.9835 - val_recall: 0.9389 - val_get_f1: 0.9552\n",
            "Epoch 127/150\n",
            "100/100 [==============================] - ETA: 0s - loss: 0.0016 - accuracy: 0.9691 - precision: 0.9844 - recall: 0.9428 - get_f1: 0.9631"
          ],
          "name": "stdout"
        },
        {
          "output_type": "stream",
          "text": [
            "2020-04-16 23:40:15,300 INFO \n",
            " epoch:126, F1Macro: 0.93824\n"
          ],
          "name": "stderr"
        },
        {
          "output_type": "stream",
          "text": [
            "\b\b\b\b\b\b\b\b\b\b\b\b\b\b\b\b\b\b\b\b\b\b\b\b\b\b\b\b\b\b\b\b\b\b\b\b\b\b\b\b\b\b\b\b\b\b\b\b\b\b\b\b\b\b\b\b\b\b\b\b\b\b\b\b\b\b\b\b\b\b\b\b\b\b\b\b\b\b\b\b\b\b\b\b\b\b\b\b\b\b\b\b\b\b\b\b\b\b\b\b\b\b\b\b\b\b\b\b\b\b\b\b\b\b\b\b\b\b\b\b\b\b\b\b\b\b\b\b\b\b\b\b\b\b\b\b\b\b\r100/100 [==============================] - 30s 298ms/step - loss: 0.0016 - accuracy: 0.9691 - precision: 0.9844 - recall: 0.9428 - get_f1: 0.9631 - val_loss: 0.0019 - val_accuracy: 0.9664 - val_precision: 0.9822 - val_recall: 0.9404 - val_get_f1: 0.9556\n",
            "Epoch 128/150\n",
            "100/100 [==============================] - ETA: 0s - loss: 0.0017 - accuracy: 0.9685 - precision: 0.9840 - recall: 0.9419 - get_f1: 0.9624"
          ],
          "name": "stdout"
        },
        {
          "output_type": "stream",
          "text": [
            "2020-04-16 23:40:45,311 INFO \n",
            " epoch:127, F1Macro: 0.93592\n"
          ],
          "name": "stderr"
        },
        {
          "output_type": "stream",
          "text": [
            "\b\b\b\b\b\b\b\b\b\b\b\b\b\b\b\b\b\b\b\b\b\b\b\b\b\b\b\b\b\b\b\b\b\b\b\b\b\b\b\b\b\b\b\b\b\b\b\b\b\b\b\b\b\b\b\b\b\b\b\b\b\b\b\b\b\b\b\b\b\b\b\b\b\b\b\b\b\b\b\b\b\b\b\b\b\b\b\b\b\b\b\b\b\b\b\b\b\b\b\b\b\b\b\b\b\b\b\b\b\b\b\b\b\b\b\b\b\b\b\b\b\b\b\b\b\b\b\b\b\b\b\b\b\b\b\b\b\b\r100/100 [==============================] - 30s 297ms/step - loss: 0.0017 - accuracy: 0.9685 - precision: 0.9840 - recall: 0.9419 - get_f1: 0.9624 - val_loss: 0.0020 - val_accuracy: 0.9650 - val_precision: 0.9820 - val_recall: 0.9364 - val_get_f1: 0.9534\n",
            "Epoch 129/150\n",
            "100/100 [==============================] - ETA: 0s - loss: 0.0016 - accuracy: 0.9688 - precision: 0.9843 - recall: 0.9422 - get_f1: 0.9627"
          ],
          "name": "stdout"
        },
        {
          "output_type": "stream",
          "text": [
            "2020-04-16 23:41:15,341 INFO \n",
            " epoch:128, F1Macro: 0.93843\n"
          ],
          "name": "stderr"
        },
        {
          "output_type": "stream",
          "text": [
            "\b\b\b\b\b\b\b\b\b\b\b\b\b\b\b\b\b\b\b\b\b\b\b\b\b\b\b\b\b\b\b\b\b\b\b\b\b\b\b\b\b\b\b\b\b\b\b\b\b\b\b\b\b\b\b\b\b\b\b\b\b\b\b\b\b\b\b\b\b\b\b\b\b\b\b\b\b\b\b\b\b\b\b\b\b\b\b\b\b\b\b\b\b\b\b\b\b\b\b\b\b\b\b\b\b\b\b\b\b\b\b\b\b\b\b\b\b\b\b\b\b\b\b\b\b\b\b\b\b\b\b\b\b\b\b\b\b\b\r100/100 [==============================] - 30s 297ms/step - loss: 0.0016 - accuracy: 0.9688 - precision: 0.9843 - recall: 0.9422 - get_f1: 0.9627 - val_loss: 0.0019 - val_accuracy: 0.9670 - val_precision: 0.9831 - val_recall: 0.9394 - val_get_f1: 0.9553\n",
            "Epoch 130/150\n",
            "100/100 [==============================] - ETA: 0s - loss: 0.0016 - accuracy: 0.9690 - precision: 0.9844 - recall: 0.9426 - get_f1: 0.9630"
          ],
          "name": "stdout"
        },
        {
          "output_type": "stream",
          "text": [
            "2020-04-16 23:41:45,374 INFO \n",
            " epoch:129, F1Macro: 0.93822\n"
          ],
          "name": "stderr"
        },
        {
          "output_type": "stream",
          "text": [
            "\b\b\b\b\b\b\b\b\b\b\b\b\b\b\b\b\b\b\b\b\b\b\b\b\b\b\b\b\b\b\b\b\b\b\b\b\b\b\b\b\b\b\b\b\b\b\b\b\b\b\b\b\b\b\b\b\b\b\b\b\b\b\b\b\b\b\b\b\b\b\b\b\b\b\b\b\b\b\b\b\b\b\b\b\b\b\b\b\b\b\b\b\b\b\b\b\b\b\b\b\b\b\b\b\b\b\b\b\b\b\b\b\b\b\b\b\b\b\b\b\b\b\b\b\b\b\b\b\b\b\b\b\b\b\b\b\b\b\r100/100 [==============================] - 30s 297ms/step - loss: 0.0016 - accuracy: 0.9690 - precision: 0.9844 - recall: 0.9426 - get_f1: 0.9630 - val_loss: 0.0019 - val_accuracy: 0.9670 - val_precision: 0.9834 - val_recall: 0.9392 - val_get_f1: 0.9553\n",
            "Epoch 131/150\n",
            "100/100 [==============================] - ETA: 0s - loss: 0.0016 - accuracy: 0.9687 - precision: 0.9842 - recall: 0.9421 - get_f1: 0.9626"
          ],
          "name": "stdout"
        },
        {
          "output_type": "stream",
          "text": [
            "2020-04-16 23:42:15,399 INFO \n",
            " epoch:130, F1Macro: 0.93821\n"
          ],
          "name": "stderr"
        },
        {
          "output_type": "stream",
          "text": [
            "\b\b\b\b\b\b\b\b\b\b\b\b\b\b\b\b\b\b\b\b\b\b\b\b\b\b\b\b\b\b\b\b\b\b\b\b\b\b\b\b\b\b\b\b\b\b\b\b\b\b\b\b\b\b\b\b\b\b\b\b\b\b\b\b\b\b\b\b\b\b\b\b\b\b\b\b\b\b\b\b\b\b\b\b\b\b\b\b\b\b\b\b\b\b\b\b\b\b\b\b\b\b\b\b\b\b\b\b\b\b\b\b\b\b\b\b\b\b\b\b\b\b\b\b\b\b\b\b\b\b\b\b\b\b\b\b\b\b\r100/100 [==============================] - 30s 297ms/step - loss: 0.0016 - accuracy: 0.9687 - precision: 0.9842 - recall: 0.9421 - get_f1: 0.9626 - val_loss: 0.0019 - val_accuracy: 0.9668 - val_precision: 0.9831 - val_recall: 0.9386 - val_get_f1: 0.9549\n",
            "Epoch 132/150\n",
            "100/100 [==============================] - ETA: 0s - loss: 0.0016 - accuracy: 0.9691 - precision: 0.9844 - recall: 0.9427 - get_f1: 0.9630"
          ],
          "name": "stdout"
        },
        {
          "output_type": "stream",
          "text": [
            "2020-04-16 23:42:45,458 INFO \n",
            " epoch:131, F1Macro: 0.93820\n"
          ],
          "name": "stderr"
        },
        {
          "output_type": "stream",
          "text": [
            "\b\b\b\b\b\b\b\b\b\b\b\b\b\b\b\b\b\b\b\b\b\b\b\b\b\b\b\b\b\b\b\b\b\b\b\b\b\b\b\b\b\b\b\b\b\b\b\b\b\b\b\b\b\b\b\b\b\b\b\b\b\b\b\b\b\b\b\b\b\b\b\b\b\b\b\b\b\b\b\b\b\b\b\b\b\b\b\b\b\b\b\b\b\b\b\b\b\b\b\b\b\b\b\b\b\b\b\b\b\b\b\b\b\b\b\b\b\b\b\b\b\b\b\b\b\b\b\b\b\b\b\b\b\b\b\b\b\b\r100/100 [==============================] - 30s 298ms/step - loss: 0.0016 - accuracy: 0.9691 - precision: 0.9844 - recall: 0.9427 - get_f1: 0.9630 - val_loss: 0.0019 - val_accuracy: 0.9669 - val_precision: 0.9834 - val_recall: 0.9389 - val_get_f1: 0.9552\n",
            "Epoch 133/150\n",
            "100/100 [==============================] - ETA: 0s - loss: 0.0016 - accuracy: 0.9691 - precision: 0.9845 - recall: 0.9425 - get_f1: 0.9630"
          ],
          "name": "stdout"
        },
        {
          "output_type": "stream",
          "text": [
            "2020-04-16 23:43:15,652 INFO \n",
            " epoch:132, F1Macro: 0.93806\n"
          ],
          "name": "stderr"
        },
        {
          "output_type": "stream",
          "text": [
            "\b\b\b\b\b\b\b\b\b\b\b\b\b\b\b\b\b\b\b\b\b\b\b\b\b\b\b\b\b\b\b\b\b\b\b\b\b\b\b\b\b\b\b\b\b\b\b\b\b\b\b\b\b\b\b\b\b\b\b\b\b\b\b\b\b\b\b\b\b\b\b\b\b\b\b\b\b\b\b\b\b\b\b\b\b\b\b\b\b\b\b\b\b\b\b\b\b\b\b\b\b\b\b\b\b\b\b\b\b\b\b\b\b\b\b\b\b\b\b\b\b\b\b\b\b\b\b\b\b\b\b\b\b\b\b\b\b\b\r100/100 [==============================] - 30s 299ms/step - loss: 0.0016 - accuracy: 0.9691 - precision: 0.9845 - recall: 0.9425 - get_f1: 0.9630 - val_loss: 0.0019 - val_accuracy: 0.9668 - val_precision: 0.9830 - val_recall: 0.9393 - val_get_f1: 0.9552\n",
            "Epoch 134/150\n",
            "100/100 [==============================] - ETA: 0s - loss: 0.0016 - accuracy: 0.9687 - precision: 0.9842 - recall: 0.9421 - get_f1: 0.9626"
          ],
          "name": "stdout"
        },
        {
          "output_type": "stream",
          "text": [
            "2020-04-16 23:43:45,704 INFO \n",
            " epoch:133, F1Macro: 0.93813\n"
          ],
          "name": "stderr"
        },
        {
          "output_type": "stream",
          "text": [
            "\b\b\b\b\b\b\b\b\b\b\b\b\b\b\b\b\b\b\b\b\b\b\b\b\b\b\b\b\b\b\b\b\b\b\b\b\b\b\b\b\b\b\b\b\b\b\b\b\b\b\b\b\b\b\b\b\b\b\b\b\b\b\b\b\b\b\b\b\b\b\b\b\b\b\b\b\b\b\b\b\b\b\b\b\b\b\b\b\b\b\b\b\b\b\b\b\b\b\b\b\b\b\b\b\b\b\b\b\b\b\b\b\b\b\b\b\b\b\b\b\b\b\b\b\b\b\b\b\b\b\b\b\b\b\b\b\b\b\r100/100 [==============================] - 30s 298ms/step - loss: 0.0016 - accuracy: 0.9687 - precision: 0.9842 - recall: 0.9421 - get_f1: 0.9626 - val_loss: 0.0019 - val_accuracy: 0.9668 - val_precision: 0.9832 - val_recall: 0.9394 - val_get_f1: 0.9553\n",
            "Epoch 135/150\n",
            "100/100 [==============================] - ETA: 0s - loss: 0.0017 - accuracy: 0.9684 - precision: 0.9839 - recall: 0.9414 - get_f1: 0.9621"
          ],
          "name": "stdout"
        },
        {
          "output_type": "stream",
          "text": [
            "2020-04-16 23:44:15,780 INFO \n",
            " epoch:134, F1Macro: 0.93664\n"
          ],
          "name": "stderr"
        },
        {
          "output_type": "stream",
          "text": [
            "\b\b\b\b\b\b\b\b\b\b\b\b\b\b\b\b\b\b\b\b\b\b\b\b\b\b\b\b\b\b\b\b\b\b\b\b\b\b\b\b\b\b\b\b\b\b\b\b\b\b\b\b\b\b\b\b\b\b\b\b\b\b\b\b\b\b\b\b\b\b\b\b\b\b\b\b\b\b\b\b\b\b\b\b\b\b\b\b\b\b\b\b\b\b\b\b\b\b\b\b\b\b\b\b\b\b\b\b\b\b\b\b\b\b\b\b\b\b\b\b\b\b\b\b\b\b\b\b\b\b\b\b\b\b\b\b\b\b\r100/100 [==============================] - 30s 298ms/step - loss: 0.0017 - accuracy: 0.9684 - precision: 0.9839 - recall: 0.9414 - get_f1: 0.9621 - val_loss: 0.0019 - val_accuracy: 0.9666 - val_precision: 0.9827 - val_recall: 0.9399 - val_get_f1: 0.9555\n",
            "Epoch 136/150\n",
            "100/100 [==============================] - ETA: 0s - loss: 0.0016 - accuracy: 0.9689 - precision: 0.9844 - recall: 0.9422 - get_f1: 0.9628"
          ],
          "name": "stdout"
        },
        {
          "output_type": "stream",
          "text": [
            "2020-04-16 23:44:45,845 INFO \n",
            " epoch:135, F1Macro: 0.93825\n"
          ],
          "name": "stderr"
        },
        {
          "output_type": "stream",
          "text": [
            "\b\b\b\b\b\b\b\b\b\b\b\b\b\b\b\b\b\b\b\b\b\b\b\b\b\b\b\b\b\b\b\b\b\b\b\b\b\b\b\b\b\b\b\b\b\b\b\b\b\b\b\b\b\b\b\b\b\b\b\b\b\b\b\b\b\b\b\b\b\b\b\b\b\b\b\b\b\b\b\b\b\b\b\b\b\b\b\b\b\b\b\b\b\b\b\b\b\b\b\b\b\b\b\b\b\b\b\b\b\b\b\b\b\b\b\b\b\b\b\b\b\b\b\b\b\b\b\b\b\b\b\b\b\b\b\b\b\b\r100/100 [==============================] - 30s 298ms/step - loss: 0.0016 - accuracy: 0.9689 - precision: 0.9844 - recall: 0.9422 - get_f1: 0.9628 - val_loss: 0.0019 - val_accuracy: 0.9671 - val_precision: 0.9832 - val_recall: 0.9397 - val_get_f1: 0.9555\n",
            "Epoch 137/150\n",
            "100/100 [==============================] - ETA: 0s - loss: 0.0016 - accuracy: 0.9689 - precision: 0.9844 - recall: 0.9420 - get_f1: 0.9627"
          ],
          "name": "stdout"
        },
        {
          "output_type": "stream",
          "text": [
            "2020-04-16 23:45:15,976 INFO \n",
            " epoch:136, F1Macro: 0.93821\n"
          ],
          "name": "stderr"
        },
        {
          "output_type": "stream",
          "text": [
            "\b\b\b\b\b\b\b\b\b\b\b\b\b\b\b\b\b\b\b\b\b\b\b\b\b\b\b\b\b\b\b\b\b\b\b\b\b\b\b\b\b\b\b\b\b\b\b\b\b\b\b\b\b\b\b\b\b\b\b\b\b\b\b\b\b\b\b\b\b\b\b\b\b\b\b\b\b\b\b\b\b\b\b\b\b\b\b\b\b\b\b\b\b\b\b\b\b\b\b\b\b\b\b\b\b\b\b\b\b\b\b\b\b\b\b\b\b\b\b\b\b\b\b\b\b\b\b\b\b\b\b\b\b\b\b\b\b\b\r100/100 [==============================] - 30s 298ms/step - loss: 0.0016 - accuracy: 0.9689 - precision: 0.9844 - recall: 0.9420 - get_f1: 0.9627 - val_loss: 0.0019 - val_accuracy: 0.9669 - val_precision: 0.9829 - val_recall: 0.9396 - val_get_f1: 0.9556\n",
            "Epoch 138/150\n",
            "100/100 [==============================] - ETA: 0s - loss: 0.0016 - accuracy: 0.9688 - precision: 0.9843 - recall: 0.9420 - get_f1: 0.9626"
          ],
          "name": "stdout"
        },
        {
          "output_type": "stream",
          "text": [
            "2020-04-16 23:45:46,043 INFO \n",
            " epoch:137, F1Macro: 0.93788\n"
          ],
          "name": "stderr"
        },
        {
          "output_type": "stream",
          "text": [
            "\b\b\b\b\b\b\b\b\b\b\b\b\b\b\b\b\b\b\b\b\b\b\b\b\b\b\b\b\b\b\b\b\b\b\b\b\b\b\b\b\b\b\b\b\b\b\b\b\b\b\b\b\b\b\b\b\b\b\b\b\b\b\b\b\b\b\b\b\b\b\b\b\b\b\b\b\b\b\b\b\b\b\b\b\b\b\b\b\b\b\b\b\b\b\b\b\b\b\b\b\b\b\b\b\b\b\b\b\b\b\b\b\b\b\b\b\b\b\b\b\b\b\b\b\b\b\b\b\b\b\b\b\b\b\b\b\b\b\r100/100 [==============================] - 30s 298ms/step - loss: 0.0016 - accuracy: 0.9688 - precision: 0.9843 - recall: 0.9420 - get_f1: 0.9626 - val_loss: 0.0020 - val_accuracy: 0.9659 - val_precision: 0.9825 - val_recall: 0.9390 - val_get_f1: 0.9548\n",
            "Epoch 139/150\n",
            "100/100 [==============================] - ETA: 0s - loss: 0.0016 - accuracy: 0.9689 - precision: 0.9844 - recall: 0.9423 - get_f1: 0.9628"
          ],
          "name": "stdout"
        },
        {
          "output_type": "stream",
          "text": [
            "2020-04-16 23:46:16,068 INFO \n",
            " epoch:138, F1Macro: 0.93836\n"
          ],
          "name": "stderr"
        },
        {
          "output_type": "stream",
          "text": [
            "\b\b\b\b\b\b\b\b\b\b\b\b\b\b\b\b\b\b\b\b\b\b\b\b\b\b\b\b\b\b\b\b\b\b\b\b\b\b\b\b\b\b\b\b\b\b\b\b\b\b\b\b\b\b\b\b\b\b\b\b\b\b\b\b\b\b\b\b\b\b\b\b\b\b\b\b\b\b\b\b\b\b\b\b\b\b\b\b\b\b\b\b\b\b\b\b\b\b\b\b\b\b\b\b\b\b\b\b\b\b\b\b\b\b\b\b\b\b\b\b\b\b\b\b\b\b\b\b\b\b\b\b\b\b\b\b\b\b\r100/100 [==============================] - 30s 297ms/step - loss: 0.0016 - accuracy: 0.9689 - precision: 0.9844 - recall: 0.9423 - get_f1: 0.9628 - val_loss: 0.0019 - val_accuracy: 0.9671 - val_precision: 0.9838 - val_recall: 0.9380 - val_get_f1: 0.9548\n",
            "Epoch 140/150\n",
            "100/100 [==============================] - ETA: 0s - loss: 0.0016 - accuracy: 0.9692 - precision: 0.9846 - recall: 0.9425 - get_f1: 0.9630"
          ],
          "name": "stdout"
        },
        {
          "output_type": "stream",
          "text": [
            "2020-04-16 23:46:46,114 INFO \n",
            " epoch:139, F1Macro: 0.93834\n"
          ],
          "name": "stderr"
        },
        {
          "output_type": "stream",
          "text": [
            "\b\b\b\b\b\b\b\b\b\b\b\b\b\b\b\b\b\b\b\b\b\b\b\b\b\b\b\b\b\b\b\b\b\b\b\b\b\b\b\b\b\b\b\b\b\b\b\b\b\b\b\b\b\b\b\b\b\b\b\b\b\b\b\b\b\b\b\b\b\b\b\b\b\b\b\b\b\b\b\b\b\b\b\b\b\b\b\b\b\b\b\b\b\b\b\b\b\b\b\b\b\b\b\b\b\b\b\b\b\b\b\b\b\b\b\b\b\b\b\b\b\b\b\b\b\b\b\b\b\b\b\b\b\b\b\b\b\b\r100/100 [==============================] - 30s 298ms/step - loss: 0.0016 - accuracy: 0.9692 - precision: 0.9846 - recall: 0.9425 - get_f1: 0.9630 - val_loss: 0.0019 - val_accuracy: 0.9669 - val_precision: 0.9831 - val_recall: 0.9395 - val_get_f1: 0.9553\n",
            "Epoch 141/150\n",
            "100/100 [==============================] - ETA: 0s - loss: 0.0016 - accuracy: 0.9686 - precision: 0.9843 - recall: 0.9413 - get_f1: 0.9622"
          ],
          "name": "stdout"
        },
        {
          "output_type": "stream",
          "text": [
            "2020-04-16 23:47:16,091 INFO \n",
            " epoch:140, F1Macro: 0.93290\n"
          ],
          "name": "stderr"
        },
        {
          "output_type": "stream",
          "text": [
            "\b\b\b\b\b\b\b\b\b\b\b\b\b\b\b\b\b\b\b\b\b\b\b\b\b\b\b\b\b\b\b\b\b\b\b\b\b\b\b\b\b\b\b\b\b\b\b\b\b\b\b\b\b\b\b\b\b\b\b\b\b\b\b\b\b\b\b\b\b\b\b\b\b\b\b\b\b\b\b\b\b\b\b\b\b\b\b\b\b\b\b\b\b\b\b\b\b\b\b\b\b\b\b\b\b\b\b\b\b\b\b\b\b\b\b\b\b\b\b\b\b\b\b\b\b\b\b\b\b\b\b\b\b\b\b\b\b\b\r100/100 [==============================] - 30s 297ms/step - loss: 0.0016 - accuracy: 0.9686 - precision: 0.9843 - recall: 0.9413 - get_f1: 0.9622 - val_loss: 0.0019 - val_accuracy: 0.9661 - val_precision: 0.9820 - val_recall: 0.9406 - val_get_f1: 0.9556\n",
            "Epoch 142/150\n",
            "100/100 [==============================] - ETA: 0s - loss: 0.0016 - accuracy: 0.9688 - precision: 0.9843 - recall: 0.9419 - get_f1: 0.9625"
          ],
          "name": "stdout"
        },
        {
          "output_type": "stream",
          "text": [
            "2020-04-16 23:47:46,195 INFO \n",
            " epoch:141, F1Macro: 0.93835\n"
          ],
          "name": "stderr"
        },
        {
          "output_type": "stream",
          "text": [
            "\b\b\b\b\b\b\b\b\b\b\b\b\b\b\b\b\b\b\b\b\b\b\b\b\b\b\b\b\b\b\b\b\b\b\b\b\b\b\b\b\b\b\b\b\b\b\b\b\b\b\b\b\b\b\b\b\b\b\b\b\b\b\b\b\b\b\b\b\b\b\b\b\b\b\b\b\b\b\b\b\b\b\b\b\b\b\b\b\b\b\b\b\b\b\b\b\b\b\b\b\b\b\b\b\b\b\b\b\b\b\b\b\b\b\b\b\b\b\b\b\b\b\b\b\b\b\b\b\b\b\b\b\b\b\b\b\b\b\r100/100 [==============================] - 30s 298ms/step - loss: 0.0016 - accuracy: 0.9688 - precision: 0.9843 - recall: 0.9419 - get_f1: 0.9625 - val_loss: 0.0019 - val_accuracy: 0.9669 - val_precision: 0.9833 - val_recall: 0.9391 - val_get_f1: 0.9553\n",
            "Epoch 143/150\n",
            "100/100 [==============================] - ETA: 0s - loss: 0.0016 - accuracy: 0.9693 - precision: 0.9846 - recall: 0.9425 - get_f1: 0.9630"
          ],
          "name": "stdout"
        },
        {
          "output_type": "stream",
          "text": [
            "2020-04-16 23:48:16,196 INFO \n",
            " epoch:142, F1Macro: 0.93769\n"
          ],
          "name": "stderr"
        },
        {
          "output_type": "stream",
          "text": [
            "\b\b\b\b\b\b\b\b\b\b\b\b\b\b\b\b\b\b\b\b\b\b\b\b\b\b\b\b\b\b\b\b\b\b\b\b\b\b\b\b\b\b\b\b\b\b\b\b\b\b\b\b\b\b\b\b\b\b\b\b\b\b\b\b\b\b\b\b\b\b\b\b\b\b\b\b\b\b\b\b\b\b\b\b\b\b\b\b\b\b\b\b\b\b\b\b\b\b\b\b\b\b\b\b\b\b\b\b\b\b\b\b\b\b\b\b\b\b\b\b\b\b\b\b\b\b\b\b\b\b\b\b\b\b\b\b\b\b\r100/100 [==============================] - 30s 297ms/step - loss: 0.0016 - accuracy: 0.9693 - precision: 0.9846 - recall: 0.9425 - get_f1: 0.9630 - val_loss: 0.0019 - val_accuracy: 0.9667 - val_precision: 0.9840 - val_recall: 0.9368 - val_get_f1: 0.9541\n",
            "Epoch 144/150\n",
            "100/100 [==============================] - ETA: 0s - loss: 0.0016 - accuracy: 0.9692 - precision: 0.9846 - recall: 0.9424 - get_f1: 0.9630"
          ],
          "name": "stdout"
        },
        {
          "output_type": "stream",
          "text": [
            "2020-04-16 23:48:46,283 INFO \n",
            " epoch:143, F1Macro: 0.93810\n"
          ],
          "name": "stderr"
        },
        {
          "output_type": "stream",
          "text": [
            "\b\b\b\b\b\b\b\b\b\b\b\b\b\b\b\b\b\b\b\b\b\b\b\b\b\b\b\b\b\b\b\b\b\b\b\b\b\b\b\b\b\b\b\b\b\b\b\b\b\b\b\b\b\b\b\b\b\b\b\b\b\b\b\b\b\b\b\b\b\b\b\b\b\b\b\b\b\b\b\b\b\b\b\b\b\b\b\b\b\b\b\b\b\b\b\b\b\b\b\b\b\b\b\b\b\b\b\b\b\b\b\b\b\b\b\b\b\b\b\b\b\b\b\b\b\b\b\b\b\b\b\b\b\b\b\b\b\b\r100/100 [==============================] - 30s 298ms/step - loss: 0.0016 - accuracy: 0.9692 - precision: 0.9846 - recall: 0.9424 - get_f1: 0.9630 - val_loss: 0.0019 - val_accuracy: 0.9670 - val_precision: 0.9834 - val_recall: 0.9391 - val_get_f1: 0.9553\n",
            "Epoch 145/150\n",
            "100/100 [==============================] - ETA: 0s - loss: 0.0016 - accuracy: 0.9691 - precision: 0.9846 - recall: 0.9424 - get_f1: 0.9629"
          ],
          "name": "stdout"
        },
        {
          "output_type": "stream",
          "text": [
            "2020-04-16 23:49:16,347 INFO \n",
            " epoch:144, F1Macro: 0.93804\n"
          ],
          "name": "stderr"
        },
        {
          "output_type": "stream",
          "text": [
            "\b\b\b\b\b\b\b\b\b\b\b\b\b\b\b\b\b\b\b\b\b\b\b\b\b\b\b\b\b\b\b\b\b\b\b\b\b\b\b\b\b\b\b\b\b\b\b\b\b\b\b\b\b\b\b\b\b\b\b\b\b\b\b\b\b\b\b\b\b\b\b\b\b\b\b\b\b\b\b\b\b\b\b\b\b\b\b\b\b\b\b\b\b\b\b\b\b\b\b\b\b\b\b\b\b\b\b\b\b\b\b\b\b\b\b\b\b\b\b\b\b\b\b\b\b\b\b\b\b\b\b\b\b\b\b\b\b\b\r100/100 [==============================] - 30s 298ms/step - loss: 0.0016 - accuracy: 0.9691 - precision: 0.9846 - recall: 0.9424 - get_f1: 0.9629 - val_loss: 0.0019 - val_accuracy: 0.9666 - val_precision: 0.9835 - val_recall: 0.9383 - val_get_f1: 0.9549\n",
            "Epoch 146/150\n",
            "100/100 [==============================] - ETA: 0s - loss: 0.0016 - accuracy: 0.9692 - precision: 0.9847 - recall: 0.9423 - get_f1: 0.9629"
          ],
          "name": "stdout"
        },
        {
          "output_type": "stream",
          "text": [
            "2020-04-16 23:49:46,426 INFO \n",
            " epoch:145, F1Macro: 0.93747\n"
          ],
          "name": "stderr"
        },
        {
          "output_type": "stream",
          "text": [
            "\b\b\b\b\b\b\b\b\b\b\b\b\b\b\b\b\b\b\b\b\b\b\b\b\b\b\b\b\b\b\b\b\b\b\b\b\b\b\b\b\b\b\b\b\b\b\b\b\b\b\b\b\b\b\b\b\b\b\b\b\b\b\b\b\b\b\b\b\b\b\b\b\b\b\b\b\b\b\b\b\b\b\b\b\b\b\b\b\b\b\b\b\b\b\b\b\b\b\b\b\b\b\b\b\b\b\b\b\b\b\b\b\b\b\b\b\b\b\b\b\b\b\b\b\b\b\b\b\b\b\b\b\b\b\b\b\b\b\r100/100 [==============================] - 30s 298ms/step - loss: 0.0016 - accuracy: 0.9692 - precision: 0.9847 - recall: 0.9423 - get_f1: 0.9629 - val_loss: 0.0019 - val_accuracy: 0.9668 - val_precision: 0.9831 - val_recall: 0.9391 - val_get_f1: 0.9551\n",
            "Epoch 147/150\n",
            "100/100 [==============================] - ETA: 0s - loss: 0.0016 - accuracy: 0.9689 - precision: 0.9845 - recall: 0.9418 - get_f1: 0.9626"
          ],
          "name": "stdout"
        },
        {
          "output_type": "stream",
          "text": [
            "2020-04-16 23:50:16,715 INFO \n",
            " epoch:146, F1Macro: 0.93606\n"
          ],
          "name": "stderr"
        },
        {
          "output_type": "stream",
          "text": [
            "\b\b\b\b\b\b\b\b\b\b\b\b\b\b\b\b\b\b\b\b\b\b\b\b\b\b\b\b\b\b\b\b\b\b\b\b\b\b\b\b\b\b\b\b\b\b\b\b\b\b\b\b\b\b\b\b\b\b\b\b\b\b\b\b\b\b\b\b\b\b\b\b\b\b\b\b\b\b\b\b\b\b\b\b\b\b\b\b\b\b\b\b\b\b\b\b\b\b\b\b\b\b\b\b\b\b\b\b\b\b\b\b\b\b\b\b\b\b\b\b\b\b\b\b\b\b\b\b\b\b\b\b\b\b\b\b\b\b\r100/100 [==============================] - 30s 300ms/step - loss: 0.0016 - accuracy: 0.9689 - precision: 0.9845 - recall: 0.9418 - get_f1: 0.9626 - val_loss: 0.0019 - val_accuracy: 0.9665 - val_precision: 0.9824 - val_recall: 0.9401 - val_get_f1: 0.9554\n",
            "Epoch 148/150\n",
            "100/100 [==============================] - ETA: 0s - loss: 0.0016 - accuracy: 0.9688 - precision: 0.9844 - recall: 0.9419 - get_f1: 0.9626"
          ],
          "name": "stdout"
        },
        {
          "output_type": "stream",
          "text": [
            "2020-04-16 23:50:46,758 INFO \n",
            " epoch:147, F1Macro: 0.93445\n"
          ],
          "name": "stderr"
        },
        {
          "output_type": "stream",
          "text": [
            "\b\b\b\b\b\b\b\b\b\b\b\b\b\b\b\b\b\b\b\b\b\b\b\b\b\b\b\b\b\b\b\b\b\b\b\b\b\b\b\b\b\b\b\b\b\b\b\b\b\b\b\b\b\b\b\b\b\b\b\b\b\b\b\b\b\b\b\b\b\b\b\b\b\b\b\b\b\b\b\b\b\b\b\b\b\b\b\b\b\b\b\b\b\b\b\b\b\b\b\b\b\b\b\b\b\b\b\b\b\b\b\b\b\b\b\b\b\b\b\b\b\b\b\b\b\b\b\b\b\b\b\b\b\b\b\b\b\b\r100/100 [==============================] - 30s 298ms/step - loss: 0.0016 - accuracy: 0.9688 - precision: 0.9844 - recall: 0.9419 - get_f1: 0.9626 - val_loss: 0.0019 - val_accuracy: 0.9662 - val_precision: 0.9826 - val_recall: 0.9387 - val_get_f1: 0.9547\n",
            "Epoch 149/150\n",
            "100/100 [==============================] - ETA: 0s - loss: 0.0016 - accuracy: 0.9690 - precision: 0.9845 - recall: 0.9419 - get_f1: 0.9626"
          ],
          "name": "stdout"
        },
        {
          "output_type": "stream",
          "text": [
            "2020-04-16 23:51:16,844 INFO \n",
            " epoch:148, F1Macro: 0.93799\n"
          ],
          "name": "stderr"
        },
        {
          "output_type": "stream",
          "text": [
            "\b\b\b\b\b\b\b\b\b\b\b\b\b\b\b\b\b\b\b\b\b\b\b\b\b\b\b\b\b\b\b\b\b\b\b\b\b\b\b\b\b\b\b\b\b\b\b\b\b\b\b\b\b\b\b\b\b\b\b\b\b\b\b\b\b\b\b\b\b\b\b\b\b\b\b\b\b\b\b\b\b\b\b\b\b\b\b\b\b\b\b\b\b\b\b\b\b\b\b\b\b\b\b\b\b\b\b\b\b\b\b\b\b\b\b\b\b\b\b\b\b\b\b\b\b\b\b\b\b\b\b\b\b\b\b\b\b\b\r100/100 [==============================] - 30s 298ms/step - loss: 0.0016 - accuracy: 0.9690 - precision: 0.9845 - recall: 0.9419 - get_f1: 0.9626 - val_loss: 0.0019 - val_accuracy: 0.9666 - val_precision: 0.9827 - val_recall: 0.9397 - val_get_f1: 0.9554\n",
            "Epoch 150/150\n",
            "100/100 [==============================] - ETA: 0s - loss: 0.0016 - accuracy: 0.9688 - precision: 0.9845 - recall: 0.9415 - get_f1: 0.9624"
          ],
          "name": "stdout"
        },
        {
          "output_type": "stream",
          "text": [
            "2020-04-16 23:51:46,881 INFO \n",
            " epoch:149, F1Macro: 0.93798\n"
          ],
          "name": "stderr"
        },
        {
          "output_type": "stream",
          "text": [
            "100/100 [==============================] - 30s 298ms/step - loss: 0.0016 - accuracy: 0.9688 - precision: 0.9845 - recall: 0.9415 - get_f1: 0.9624 - val_loss: 0.0019 - val_accuracy: 0.9668 - val_precision: 0.9837 - val_recall: 0.9370 - val_get_f1: 0.9542\n"
          ],
          "name": "stdout"
        },
        {
          "output_type": "stream",
          "text": [
            "2020-04-16 23:52:01,419 INFO Training fold 1 completed. macro f1 score : 0.93868\n",
            "2020-04-16 23:52:05,778 INFO Training completed. oof macro f1 score : 0.32917\n"
          ],
          "name": "stderr"
        },
        {
          "output_type": "display_data",
          "data": {
            "text/html": [
              "<div>\n",
              "<style scoped>\n",
              "    .dataframe tbody tr th:only-of-type {\n",
              "        vertical-align: middle;\n",
              "    }\n",
              "\n",
              "    .dataframe tbody tr th {\n",
              "        vertical-align: top;\n",
              "    }\n",
              "\n",
              "    .dataframe thead th {\n",
              "        text-align: right;\n",
              "    }\n",
              "</style>\n",
              "<table border=\"1\" class=\"dataframe\">\n",
              "  <thead>\n",
              "    <tr style=\"text-align: right;\">\n",
              "      <th></th>\n",
              "      <th>time</th>\n",
              "      <th>open_channels</th>\n",
              "    </tr>\n",
              "  </thead>\n",
              "  <tbody>\n",
              "    <tr>\n",
              "      <th>0</th>\n",
              "      <td>500.000092</td>\n",
              "      <td>0</td>\n",
              "    </tr>\n",
              "    <tr>\n",
              "      <th>1</th>\n",
              "      <td>500.000214</td>\n",
              "      <td>0</td>\n",
              "    </tr>\n",
              "    <tr>\n",
              "      <th>2</th>\n",
              "      <td>500.000305</td>\n",
              "      <td>0</td>\n",
              "    </tr>\n",
              "    <tr>\n",
              "      <th>3</th>\n",
              "      <td>500.000397</td>\n",
              "      <td>0</td>\n",
              "    </tr>\n",
              "    <tr>\n",
              "      <th>4</th>\n",
              "      <td>500.000488</td>\n",
              "      <td>0</td>\n",
              "    </tr>\n",
              "  </tbody>\n",
              "</table>\n",
              "</div>"
            ],
            "text/plain": [
              "         time  open_channels\n",
              "0  500.000092              0\n",
              "1  500.000214              0\n",
              "2  500.000305              0\n",
              "3  500.000397              0\n",
              "4  500.000488              0"
            ]
          },
          "metadata": {
            "tags": []
          }
        },
        {
          "output_type": "stream",
          "text": [
            "2020-04-16 23:52:09,789 INFO Training completed ...\n",
            "2020-04-16 23:52:09,801 INFO [Running Wavenet model] done in 4608 s\n"
          ],
          "name": "stderr"
        }
      ]
    },
    {
      "cell_type": "code",
      "metadata": {
        "id": "ztG5LowrD8-U",
        "trusted": true,
        "colab_type": "code",
        "colab": {}
      },
      "source": [
        " "
      ],
      "execution_count": 0,
      "outputs": []
    },
    {
      "cell_type": "code",
      "metadata": {
        "id": "Gh6dcdbkeELI",
        "trusted": true,
        "colab_type": "code",
        "colab": {}
      },
      "source": [
        ""
      ],
      "execution_count": 0,
      "outputs": []
    },
    {
      "cell_type": "code",
      "metadata": {
        "id": "k5Ei_ggnqUaq",
        "trusted": true,
        "colab_type": "code",
        "colab": {}
      },
      "source": [
        ""
      ],
      "execution_count": 0,
      "outputs": []
    },
    {
      "cell_type": "code",
      "metadata": {
        "id": "qRsp7eyDhXy4",
        "trusted": true,
        "colab_type": "code",
        "colab": {}
      },
      "source": [
        ""
      ],
      "execution_count": 0,
      "outputs": []
    },
    {
      "cell_type": "code",
      "metadata": {
        "id": "iFdl9TskgNxL",
        "trusted": true,
        "colab_type": "code",
        "colab": {}
      },
      "source": [
        ""
      ],
      "execution_count": 0,
      "outputs": []
    },
    {
      "cell_type": "code",
      "metadata": {
        "id": "ekHbPv0UlCSS",
        "trusted": true,
        "colab_type": "code",
        "colab": {}
      },
      "source": [
        ""
      ],
      "execution_count": 0,
      "outputs": []
    }
  ]
}