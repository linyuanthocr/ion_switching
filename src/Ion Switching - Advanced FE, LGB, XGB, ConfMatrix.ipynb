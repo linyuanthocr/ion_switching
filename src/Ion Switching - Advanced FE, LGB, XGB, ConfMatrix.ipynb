{
 "cells": [
  {
   "cell_type": "markdown",
   "metadata": {},
   "source": [
    "<a class=\"anchor\" id=\"0\"></a>\n",
    "# [University of Liverpool - Ion Switching](https://www.kaggle.com/c/liverpool-ion-switching)"
   ]
  },
  {
   "cell_type": "markdown",
   "metadata": {},
   "source": [
    "## The kernel initially consist of a thorough overview of the parameters of all successful commits, the result (LB) obtained and their analysis (see section \"My upgrade\").\n",
    "\n",
    "## I developed a shell to build different models, check the result of their work, using Confusion matrices and weighted average of their predictions.\n",
    "\n",
    "## I am experimenting with different good kernels for FE, models and their tuning. Already used more 10 different basic kernels (in each commit their list is in the \"Acknowledgements\" section and - in the kernel's code when the code was taken from the basic kernel unchanged or almost unchanged).\n",
    "\n",
    "In the section \"Acknowledgements\" I make a link to the basic kernel where I got the code from, and to where the code came from in the this basic kernel (the original source), after that I upvoted all these good kernels."
   ]
  },
  {
   "cell_type": "markdown",
   "metadata": {},
   "source": [
    "# Acknowledgements\n",
    "\n",
    "* [Physically Possible](https://www.kaggle.com/jazivxt/physically-possible)\n",
    "* [Simple EDA-Model](https://www.kaggle.com/siavrez/simple-eda-model)\n",
    "* [MM 2020 NCAAM: LGB, XGB, LogReg - Tuning&Merging](https://www.kaggle.com/vbmokin/mm-2020-ncaam-lgb-xgb-logreg-tuning-merging)\n",
    "* [Merging FE & Prediction - xgb, lgb, logr, linr](https://www.kaggle.com/vbmokin/merging-fe-prediction-xgb-lgb-logr-linr)\n",
    "* [BOD prediction in river - 15 regression models](https://www.kaggle.com/vbmokin/bod-prediction-in-river-15-regression-models)\n",
    "* [Automatic selection from 20 classifier models](https://www.kaggle.com/vbmokin/automatic-selection-from-20-classifier-models)\n",
    "* [💥3 Simple Ideas [Ensemble]](https://www.kaggle.com/teejmahal20/3-simple-ideas-ensemble)"
   ]
  },
  {
   "cell_type": "markdown",
   "metadata": {},
   "source": [
    "<a class=\"anchor\" id=\"0.1\"></a>\n",
    "## Table of Contents\n",
    "\n",
    "1. [My upgrade](#1)\n",
    "    -  [Commit now](#1.1)\n",
    "    -  [Previous commits: LGB-1, FE-1,2](#1.2)\n",
    "    -  [Previous commits: LGB-2, FE-3](#1.3)\n",
    "    -  [Previous commits: LGB-2, MLP, LogReg, FE-3](#1.4)\n",
    "    -  [Previous commits: Advanced FE & LGB-2](#1.5)\n",
    "    -  [Previous commits: Advanced FE & LGB-2 & XGB-1](#1.6)\n",
    "1. [Import libraries](#2)\n",
    "1. [Download data & FE](#3)\n",
    "1. [Models tuning](#4)\n",
    "    -  [Ridge Regression](#4.1)\n",
    "    -  [SGDRegressor](#4.2)    \n",
    "    -  [Logistic Regression](#4.3)\n",
    "    -  [MLP](#4.4)\n",
    "    -  [LGB](#4.5)\n",
    "    -  [XGB](#4.6)\n",
    "1. [Showing Confusion Matrices](#5)\n",
    "1. [Comparison and merging solutions](#6)\n",
    "1. [Submission](#7)"
   ]
  },
  {
   "cell_type": "markdown",
   "metadata": {},
   "source": [
    "## 1. My upgrade<a class=\"anchor\" id=\"1\"></a>\n",
    "\n",
    "[Back to Table of Contents](#0.1)"
   ]
  },
  {
   "cell_type": "markdown",
   "metadata": {},
   "source": [
    "The using and tuning different regression models and tuning LGB models, MLP model, building Confusion matrices, selection of seed_random."
   ]
  },
  {
   "cell_type": "markdown",
   "metadata": {},
   "source": [
    "## 1.1. Commit now <a class=\"anchor\" id=\"1.1\"></a>\n",
    "\n",
    "[Back to Table of Contents](#0.1)"
   ]
  },
  {
   "cell_type": "code",
   "execution_count": 34,
   "metadata": {
    "ExecuteTime": {
     "end_time": "2020-03-25T03:48:34.707080Z",
     "start_time": "2020-03-25T03:48:34.703192Z"
    }
   },
   "outputs": [
    {
     "name": "stdout",
     "output_type": "stream",
     "text": [
      "0.5\n"
     ]
    }
   ],
   "source": [
    "# FE-2 & FE-3\n",
    "\n",
    "# Seed for random_state\n",
    "seed_random = 42\n",
    "\n",
    "# FE-2 : window_sizes = [10, 25, 50, 100, 500, 1000, 5000, 10000, 25000, 50000, 100000, 500000]\n",
    "# About selection of these values see my post: https://www.kaggle.com/c/liverpool-ion-switching/discussion/135073\n",
    "window_sizes = [10, 50]\n",
    "# with new my features: signal_shift_+2, signal_shift_-2\n",
    "# without ratio-, diff-features\n",
    "# without 'medianbatch', 'abs_avgbatch', 'abs_maxbatch' with smallest feature importance\n",
    "\n",
    "# LGB-2 model tuning\n",
    "lr_lgb = 0.03\n",
    "num_leaves = 200\n",
    "num_iterations = 2000\n",
    "# 'metric'is 'logloss'\n",
    "\n",
    "# XGB-1 model tuning\n",
    "lr_xgb = 0.03\n",
    "max_depth_xgb = 10\n",
    "num_boost_round_xgb = 1000\n",
    "# 'eval_metric'is 'logloss'\n",
    "\n",
    "# Set weight of models\n",
    "w_lgb = 0.5\n",
    "w_xgb = 1 - w_lgb\n",
    "print(w_xgb)\n",
    "# without LogReg, MLP, Ridge Regression and SGDRegressor models"
   ]
  },
  {
   "cell_type": "markdown",
   "metadata": {},
   "source": [
    "* Variant 1 of FE (FE-1) from the kernels: https://www.kaggle.com/suicaokhoailang/an-embarrassingly-simple-baseline-0-960-lb and https://www.kaggle.com/tunguz/simple-ion-ridge-regression-starter\n",
    "* Variant 2 of FE (FE-2) from the kernel: https://www.kaggle.com/teejmahal20/regression-with-optimized-rounder and https://www.kaggle.com/pestipeti/eda-ion-switching\n",
    "* Variant 3 of FE (FE-3) from the kernels: https://www.kaggle.com/jazivxt/physically-possible and https://www.kaggle.com/siavrez/simple-eda-model"
   ]
  },
  {
   "cell_type": "markdown",
   "metadata": {},
   "source": [
    "* LGB model 1 (LGB-1) from the kernel https://www.kaggle.com/teejmahal20/regression-with-optimized-rounder\n",
    "* LGB model 2 (LGB-2) from the kernel https://www.kaggle.com/jazivxt/physically-possible"
   ]
  },
  {
   "cell_type": "markdown",
   "metadata": {},
   "source": [
    "* XGB model 1 (XGB-1) from the kernel https://www.kaggle.com/teejmahal20/3-simple-ideas-ensemble"
   ]
  },
  {
   "cell_type": "markdown",
   "metadata": {},
   "source": [
    "## Commits 1-12 (FE-1) are created under the first metric variant and are currently unsuccessful"
   ]
  },
  {
   "cell_type": "markdown",
   "metadata": {},
   "source": [
    "## 1.2. Previous commits: LGB-1, FE-1,2 <a class=\"anchor\" id=\"1.2\"></a>\n",
    "\n",
    "[Back to Table of Contents](#0.1)"
   ]
  },
  {
   "cell_type": "markdown",
   "metadata": {},
   "source": [
    "### Commit 13\n",
    "\n",
    "* seed_random = 42\n",
    "* lr = 0.05\n",
    "* num_iterations = 2000\n",
    "* w_ridge = 0.05\n",
    "* w_sgd = 0.05\n",
    "* w_lgb = 0.85 <- basic LGB-1\n",
    "* w_logreg = 1 - w_ridge - w_sgd - w_lgb\n",
    "* FE-1\n",
    "* FE-2 (window_sizes = [20] replace of [10, 25, 50, 100, 500, 1000, 5000, 10000, 25000])\n",
    "\n",
    "**LB = 0.179**"
   ]
  },
  {
   "cell_type": "markdown",
   "metadata": {},
   "source": [
    "### Commit 14\n",
    "\n",
    "* seed_random = 42\n",
    "* lr = 0.05\n",
    "* num_iterations = 2000\n",
    "* w_ridge = 0.05\n",
    "* w_sgd = 0.05\n",
    "* w_lgb = 0.85 <- basic LGB-1\n",
    "* w_logreg = 1 - w_ridge - w_sgd - w_lgb\n",
    "* FE-1\n",
    "\n",
    "**LB = 0.325**"
   ]
  },
  {
   "cell_type": "markdown",
   "metadata": {},
   "source": [
    "## 1.3. Previous commits: LGB-2, FE-3 <a class=\"anchor\" id=\"1.3\"></a>\n",
    "\n",
    "[Back to Table of Contents](#0.1)"
   ]
  },
  {
   "cell_type": "markdown",
   "metadata": {},
   "source": [
    "### Commit 21\n",
    "\n",
    "* seed_random = 42\n",
    "* num_leaves = 2**7+1\n",
    "* lr = 0.05\n",
    "* num_iterations = 2000\n",
    "* w_ridge = 0.001\n",
    "* w_sgd = 0.001\n",
    "* w_lgb = 0.996\n",
    "* w_logreg = 1 - w_ridge - w_sgd - w_lgb \n",
    "\n",
    "**LB = 0.936**"
   ]
  },
  {
   "cell_type": "markdown",
   "metadata": {},
   "source": [
    "### Commit 22\n",
    "\n",
    "* seed_random = 42\n",
    "* num_leaves = 2**7+1\n",
    "* lr = 0.05\n",
    "* num_iterations = 2000\n",
    "* w_ridge = 0.001\n",
    "* w_sgd = 0.001\n",
    "* w_lgb = 0.499\n",
    "* w_logreg = 1 - w_ridge - w_sgd - w_lgb \n",
    "\n",
    "**LB = 0.860**"
   ]
  },
  {
   "cell_type": "markdown",
   "metadata": {},
   "source": [
    "### Commit 23\n",
    "\n",
    "* seed_random = 42\n",
    "* num_leaves = 2**7+1\n",
    "* lr = 0.05\n",
    "* num_iterations = 10000\n",
    "* w_ridge = 0\n",
    "* w_sgd = 0\n",
    "* w_lgb = 0.998\n",
    "* w_logreg = 1 - w_ridge - w_sgd - w_lgb \n",
    "\n",
    "**LB = 0.936**"
   ]
  },
  {
   "cell_type": "markdown",
   "metadata": {},
   "source": [
    "### Commit 24\n",
    "\n",
    "* seed_random = 42\n",
    "* num_leaves = 2**7+1\n",
    "* lr = 0.01\n",
    "* num_iterations = 2000\n",
    "* w_ridge = 0\n",
    "* w_sgd = 0\n",
    "* w_lgb = 0.998\n",
    "* w_logreg = 1 - w_ridge - w_sgd - w_lgb \n",
    "\n",
    "**LB = 0.936**"
   ]
  },
  {
   "cell_type": "markdown",
   "metadata": {},
   "source": [
    "### Commit 24\n",
    "\n",
    "* seed_random = 42\n",
    "* num_leaves = 200\n",
    "* lr = 0.01\n",
    "* num_iterations = 2000\n",
    "* w_ridge = 0\n",
    "* w_sgd = 0\n",
    "* w_lgb = 0.998\n",
    "* w_logreg = 1 - w_ridge - w_sgd - w_lgb \n",
    "\n",
    "**LB = 0.936**"
   ]
  },
  {
   "cell_type": "markdown",
   "metadata": {},
   "source": [
    "## 1.4. Previous commits: LGB-2, MLP, LogReg, FE-3 <a class=\"anchor\" id=\"1.4\"></a>\n",
    "\n",
    "[Back to Table of Contents](#0.1)"
   ]
  },
  {
   "cell_type": "markdown",
   "metadata": {},
   "source": [
    "### Commit 27\n",
    "\n",
    "* seed_random = 42\n",
    "* num_leaves = 200\n",
    "* cv_mlp = 2\n",
    "* lr_mlp = 0.01\n",
    "* n_layer_0 = 2\n",
    "* n_layer_max = 10\n",
    "* lr_lgb = 0.05\n",
    "* num_leaves = 200\n",
    "* num_iterations = 2000\n",
    "* w_ridge = 0\n",
    "* w_sgd = 0\n",
    "* w_lgb = 0.7\n",
    "* w_mlp = 0.2\n",
    "* w_logreg = 1 - w_ridge - w_sgd - w_lgb \n",
    "\n",
    "**LB = 0.935**"
   ]
  },
  {
   "cell_type": "markdown",
   "metadata": {},
   "source": [
    "## 1.5. Previous commits: Advanced FE & LGB-2 <a class=\"anchor\" id=\"1.5\"></a>\n",
    "\n",
    "[Back to Table of Contents](#0.1)"
   ]
  },
  {
   "cell_type": "markdown",
   "metadata": {},
   "source": [
    "### Commit 30\n",
    "\n",
    "* FE-3 = 51 features\n",
    "* seed_random = 42\n",
    "* LGB-2\n",
    "* lr_lgb = 0.05\n",
    "* num_leaves = 200\n",
    "* num_iterations = 4000\n",
    "* w_lgb = 1\n",
    "\n",
    "**LB = 0.936**"
   ]
  },
  {
   "cell_type": "markdown",
   "metadata": {},
   "source": [
    "### Commit 32\n",
    "\n",
    "* FE-1 & FE-3 with 'group', without 'signal' = 52 features\n",
    "* seed_random = 42\n",
    "* LGB-2\n",
    "* lr_lgb = 0.05\n",
    "* num_leaves = 200\n",
    "* num_iterations = 4000\n",
    "* w_lgb = 1\n",
    "\n",
    "**LB = 0.882**"
   ]
  },
  {
   "cell_type": "markdown",
   "metadata": {},
   "source": [
    "### Commit 33\n",
    "\n",
    "* FE-1 & FE-3 without 'group', with 'signal' = 52 features\n",
    "* seed_random = 42\n",
    "* LGB-2\n",
    "* lr_lgb = 0.05\n",
    "* num_leaves = 200\n",
    "* num_iterations = 4000\n",
    "* w_lgb = 1\n",
    "\n",
    "**LB = 0.898**"
   ]
  },
  {
   "cell_type": "markdown",
   "metadata": {},
   "source": [
    "### Commit 35\n",
    "\n",
    "* FE-2 (window_sizes = [10, 50]) & FE-3 = 79 features\n",
    "* seed_random = 42\n",
    "* LGB-2\n",
    "* lr_lgb = 0.05\n",
    "* num_leaves = 200\n",
    "* num_iterations = 2000\n",
    "* w_lgb = 1\n",
    "\n",
    "**LB = 0.937**"
   ]
  },
  {
   "cell_type": "markdown",
   "metadata": {},
   "source": [
    "### Commit 36\n",
    "\n",
    "* FE-2 (window_sizes = [25, 100, 5000]) & FE-3 = 79 features\n",
    "* seed_random = 42\n",
    "* LGB-2\n",
    "* lr_lgb = 0.05\n",
    "* num_leaves = 200\n",
    "* num_iterations = 2000\n",
    "* w_lgb = 1\n",
    "\n",
    "**LB = 0.936**"
   ]
  },
  {
   "cell_type": "markdown",
   "metadata": {},
   "source": [
    "### Commit 37\n",
    "\n",
    "* FE-2 (window_sizes = [500, 1000, 10000]) & FE-3 = 79 features\n",
    "* seed_random = 42\n",
    "* LGB-2\n",
    "* lr_lgb = 0.05\n",
    "* num_leaves = 200\n",
    "* num_iterations = 2000\n",
    "* w_lgb = 1\n",
    "\n",
    "**LB = 0.935**"
   ]
  },
  {
   "cell_type": "markdown",
   "metadata": {},
   "source": [
    "### Commit 39\n",
    "\n",
    "* FE-2 (window_sizes = [10, 25, 50, 5000, 10000], without some features) & FE-3 = 88 features\n",
    "* seed_random = 42\n",
    "* LGB-2\n",
    "* lr_lgb = 0.05\n",
    "* num_leaves = 200\n",
    "* num_iterations = 2000\n",
    "* w_lgb = 1\n",
    "\n",
    "**LB = 0.936**"
   ]
  },
  {
   "cell_type": "markdown",
   "metadata": {},
   "source": [
    "### Commit 40\n",
    "\n",
    "* FE-2 (window_sizes = window_sizes = [10, 50, 5000]) & FE-3 = 96 features\n",
    "* seed_random = 42\n",
    "* LGB-2\n",
    "* lr_lgb = 0.05\n",
    "* num_leaves = 200\n",
    "* num_iterations = 2000\n",
    "* w_lgb = 1\n",
    "\n",
    "**LB = 0.937**"
   ]
  },
  {
   "cell_type": "markdown",
   "metadata": {},
   "source": [
    "### Commit 41\n",
    "\n",
    "* FE-2 (window_sizes = window_sizes = [10, 50] with new features: signal_shift_+2, signal_shift_-2) & FE-3 = 84 features\n",
    "* seed_random = 42\n",
    "* LGB-2\n",
    "* lr_lgb = 0.05\n",
    "* num_leaves = 200\n",
    "* num_iterations = 2000\n",
    "* w_lgb = 1\n",
    "\n",
    "**LB = 0.937**"
   ]
  },
  {
   "cell_type": "markdown",
   "metadata": {},
   "source": [
    "### Commit 42\n",
    "\n",
    "* FE-2 (window_sizes = window_sizes = [10, 50, 5000] with new features: signal_shift_+2, signal_shift_-2) & FE-3 = 99 features\n",
    "* seed_random = 42\n",
    "* LGB-2\n",
    "* lr_lgb = 0.05\n",
    "* num_leaves = 200\n",
    "* num_iterations = 2000\n",
    "* w_lgb = 1\n",
    "\n",
    "**LB = 0.937**"
   ]
  },
  {
   "cell_type": "markdown",
   "metadata": {},
   "source": [
    "### Commit 44\n",
    "\n",
    "* FE-2 (window_sizes = window_sizes = [20, 30, 25000] with new features: signal_shift_+2, signal_shift_-2) & FE-3 = 99 features\n",
    "* seed_random = 42\n",
    "* LGB-2\n",
    "* lr_lgb = 0.05\n",
    "* num_leaves = 200\n",
    "* num_iterations = 2000\n",
    "* w_lgb = 1\n",
    "\n",
    "**LB = 0.936**"
   ]
  },
  {
   "cell_type": "markdown",
   "metadata": {},
   "source": [
    "### Commit 45\n",
    "\n",
    "* FE-2 (window_sizes = window_sizes = [75, 2500, 15000] with new features: signal_shift_+2, signal_shift_-2) & FE-3 = 99 features\n",
    "* seed_random = 42\n",
    "* LGB-2\n",
    "* lr_lgb = 0.05\n",
    "* num_leaves = 200\n",
    "* num_iterations = 2000\n",
    "* w_lgb = 1\n",
    "\n",
    "**LB = 0.936**"
   ]
  },
  {
   "cell_type": "markdown",
   "metadata": {},
   "source": [
    "### Commit 46\n",
    "\n",
    "* FE-2 (window_sizes = window_sizes = [25, 5000, 10000] with new features: signal_shift_+2, signal_shift_-2) & FE-3 = 99 features\n",
    "* seed_random = 42\n",
    "* LGB-2\n",
    "* lr_lgb = 0.05\n",
    "* num_leaves = 200\n",
    "* num_iterations = 2000\n",
    "* w_lgb = 1\n",
    "\n",
    "**LB = 0.936**"
   ]
  },
  {
   "cell_type": "markdown",
   "metadata": {},
   "source": [
    "### Commit 47\n",
    "\n",
    "* FE-2 (window_sizes = window_sizes = [10, 50] with new features: signal_shift_+2, signal_shift_-2) & FE-3 = 84 features\n",
    "* seed_random = 42\n",
    "* LGB-2\n",
    "* lr_lgb = 0.05\n",
    "* num_leaves = 200\n",
    "* num_iterations = 2000\n",
    "* w_lgb = 1\n",
    "\n",
    "**LB = 0.937**"
   ]
  },
  {
   "cell_type": "markdown",
   "metadata": {},
   "source": [
    "### Commit 48\n",
    "\n",
    "* FE-2 (window_sizes = window_sizes = [10, 50] with new features: signal_shift_+2, signal_shift_-2) & FE-3 = 84 features\n",
    "* seed_random = 42\n",
    "* LGB-2\n",
    "* lr_lgb = 0.01\n",
    "* num_leaves = 200\n",
    "* num_iterations = 2000\n",
    "* w_lgb = 1\n",
    "\n",
    "**LB = 0.938**"
   ]
  },
  {
   "cell_type": "markdown",
   "metadata": {},
   "source": [
    "### Commit 49\n",
    "\n",
    "* FE-2 (window_sizes = window_sizes = [10, 50] with new features: signal_shift_+2, signal_shift_-2) & FE-3 = 84 features\n",
    "* seed_random = 42\n",
    "* LGB-2\n",
    "* lr_lgb = 0.01\n",
    "* num_leaves = 200\n",
    "* num_iterations = 10000\n",
    "* w_lgb = 1\n",
    "\n",
    "**LB = 0.937**\n",
    "\n",
    "Calculation Time - 5.2 hours"
   ]
  },
  {
   "cell_type": "markdown",
   "metadata": {},
   "source": [
    "### Commit 50\n",
    "\n",
    "* FE-2 (window_sizes = window_sizes = [10, 50] with new features: signal_shift_+2, signal_shift_-2) & FE-3 = 84 features\n",
    "* seed_random = 42\n",
    "* LGB-2\n",
    "* lr_lgb = 0.05\n",
    "* num_leaves = 511\n",
    "* num_iterations = 2000\n",
    "* w_lgb = 1\n",
    "\n",
    "**LB = 0.937**"
   ]
  },
  {
   "cell_type": "markdown",
   "metadata": {},
   "source": [
    "### Commit 51\n",
    "\n",
    "* FE-2 (window_sizes = window_sizes = [10, 50, 5000] with new features: signal_shift_+2, signal_shift_-2) & FE-3 = 99 features\n",
    "* seed_random = 42\n",
    "* LGB-2\n",
    "* lr_lgb = 0.01\n",
    "* num_leaves = 200\n",
    "* num_iterations = 2000\n",
    "* w_lgb = 1\n",
    "\n",
    "**LB = 0.937**"
   ]
  },
  {
   "cell_type": "markdown",
   "metadata": {},
   "source": [
    "### Commit 53\n",
    "\n",
    "* FE-2 (window_sizes = window_sizes = [10, 50] with new features: signal_shift_+2, signal_shift_-2) & FE-3 = 99 features\n",
    "* seed_random = 42\n",
    "* LGB-2\n",
    "* lr_lgb = 0.01\n",
    "* num_leaves = 200\n",
    "* num_iterations = 2000\n",
    "* w_lgb = 1\n",
    "* 'metrics': f1_score and 'logloss' (replace of f1_score and 'rmse' in previous commits)\n",
    "\n",
    "**LB = 0.938**\n",
    "\n",
    "The kernel calculated faster by 300 seconds, but the LB was the same (see commit 48)"
   ]
  },
  {
   "cell_type": "markdown",
   "metadata": {},
   "source": [
    "### Commit 54\n",
    "\n",
    "* FE-2 (window_sizes = window_sizes = [10, 50] with new features: signal_shift_+2, signal_shift_-2) & FE-3 = 99 features\n",
    "* seed_random = 42\n",
    "* LGB-2\n",
    "* lr_lgb = 0.01\n",
    "* num_leaves = 250\n",
    "* num_iterations = 2000\n",
    "* w_lgb = 1\n",
    "* 'metrics': f1_score and 'logloss' (replace of f1_score and 'rmse' in previous commits)\n",
    "\n",
    "**LB = 0.937**"
   ]
  },
  {
   "cell_type": "markdown",
   "metadata": {},
   "source": [
    "### Commit 55\n",
    "\n",
    "* FE-2 (window_sizes = window_sizes = [50000, 100000, 500000] with new features: signal_shift_+2, signal_shift_-2) & FE-3 = 99 features\n",
    "* seed_random = 42\n",
    "* LGB-2\n",
    "* lr_lgb = 0.05\n",
    "* num_leaves = 200\n",
    "* num_iterations = 2000\n",
    "* w_lgb = 1\n",
    "* metrics are 'logloss' & f1_score\n",
    "\n",
    "**LB = 0.919**"
   ]
  },
  {
   "cell_type": "markdown",
   "metadata": {},
   "source": [
    "### Commit 56\n",
    "\n",
    "* FE-2 (window_sizes = window_sizes = [10, 50, 50000] with new features: signal_shift_+2, signal_shift_-2) & FE-3 = 99 features\n",
    "* seed_random = 42\n",
    "* LGB-2\n",
    "* lr_lgb = 0.01\n",
    "* num_leaves = 200\n",
    "* num_iterations = 2000\n",
    "* w_lgb = 1\n",
    "* metrics are 'logloss' & f1_score\n",
    "\n",
    "**LB = 0.937**"
   ]
  },
  {
   "cell_type": "markdown",
   "metadata": {},
   "source": [
    "### Commit 57\n",
    "\n",
    "* FE-2 (window_sizes = window_sizes = [10, 50] with new features: signal_shift_+2, signal_shift_-2) & FE-3 = 84 features\n",
    "* seed_random = 0\n",
    "* LGB-2\n",
    "* lr_lgb = 0.01\n",
    "* num_leaves = 200\n",
    "* num_iterations = 2000\n",
    "* w_lgb = 1\n",
    "* metrics are 'logloss' & f1_score\n",
    "\n",
    "**LB = 0.937**"
   ]
  },
  {
   "cell_type": "markdown",
   "metadata": {},
   "source": [
    "### Commit 58\n",
    "\n",
    "* FE-2 (window_sizes = window_sizes = [10, 50] with new features: signal_shift_+2, signal_shift_-2) & FE-3 = 84 features\n",
    "* seed_random = 7\n",
    "* LGB-2\n",
    "* lr_lgb = 0.01\n",
    "* num_leaves = 200\n",
    "* num_iterations = 2000\n",
    "* w_lgb = 1\n",
    "* metrics are 'logloss' & f1_score\n",
    "\n",
    "**LB = 0.937**"
   ]
  },
  {
   "cell_type": "markdown",
   "metadata": {},
   "source": [
    "### Commit 59\n",
    "\n",
    "* FE-2 (window_sizes = window_sizes = [10, 50] with new features: signal_shift_+2, signal_shift_-2) & FE-3 = 84 features\n",
    "* seed_random = 42\n",
    "* LGB-2\n",
    "* lr_lgb = 0.015\n",
    "* num_leaves = 200\n",
    "* num_iterations = 2000\n",
    "* w_lgb = 1\n",
    "* metrics are 'logloss' & f1_score\n",
    "\n",
    "**LB = 0.937**"
   ]
  },
  {
   "cell_type": "markdown",
   "metadata": {},
   "source": [
    "## 1.6. Previous commits: Advanced FE & LGB-2 & XGB-1<a class=\"anchor\" id=\"1.6\"></a>\n",
    "\n",
    "[Back to Table of Contents](#0.1)"
   ]
  },
  {
   "cell_type": "markdown",
   "metadata": {},
   "source": [
    "### Commit 63\n",
    "\n",
    "* FE-2 (window_sizes = window_sizes = [10, 50] with new features: signal_shift_+2, signal_shift_-2, without ratio-, diff-, norm-features) & FE-3 = 72 features\n",
    "* seed_random = 42\n",
    "* LGB-2\n",
    "* lr_lgb = 0.1\n",
    "* num_leaves = 200\n",
    "* num_iterations = 200\n",
    "* w_lgb = 0.5\n",
    "* metris are 'logloss' & f1_score\n",
    "* XGB-1\n",
    "* lr_xgb = 0.1\n",
    "* max_depth_xgb = 10\n",
    "* num_boost_round_xgb = 22\n",
    "* w_xgb = 0.5\n",
    "* metrics is 'rmse'\n",
    "\n",
    "**LB = 0.937**"
   ]
  },
  {
   "cell_type": "markdown",
   "metadata": {},
   "source": [
    "### Commit 64\n",
    "\n",
    "* FE-2 (window_sizes = window_sizes = [10, 50] with new features: signal_shift_+2, signal_shift_-2, without ratio-, diff-, norm-features) & FE-3 = 72 features\n",
    "* seed_random = 42\n",
    "* LGB-2\n",
    "* lr_lgb = 0.1\n",
    "* num_leaves = 200\n",
    "* num_iterations = 2000\n",
    "* w_lgb = 0.5\n",
    "* metris are 'logloss' & f1_score\n",
    "* XGB-1\n",
    "* lr_xgb = 0.1\n",
    "* max_depth_xgb = 10\n",
    "* num_boost_round_xgb = 2000\n",
    "* w_xgb = 0.5\n",
    "* metrics is 'rmse'\n",
    "\n",
    "**LB = 0.937**"
   ]
  },
  {
   "cell_type": "markdown",
   "metadata": {},
   "source": [
    "### Commit 70\n",
    "\n",
    "* FE-2 (window_sizes = window_sizes = [10, 50] with new features: signal_shift_+2, signal_shift_-2, without 'medianbatch', 'abs_avgbatch', 'abs_maxbatch', ratio-, diff-, norm-features) & FE-3 = 69 features\n",
    "* seed_random = 42\n",
    "* LGB-2\n",
    "* lr_lgb = 0.1\n",
    "* num_leaves = 200\n",
    "* num_iterations = 2000\n",
    "* w_lgb = 0.5\n",
    "* metris are 'logloss' & f1_score\n",
    "* XGB-1\n",
    "* lr_xgb = 0.1\n",
    "* max_depth_xgb = 10\n",
    "* num_boost_round_xgb = 800\n",
    "* w_xgb = 0.5\n",
    "* metrics is 'rmse'\n",
    "\n",
    "**LB = 0.938**"
   ]
  },
  {
   "cell_type": "markdown",
   "metadata": {},
   "source": [
    "### Commit 71\n",
    "\n",
    "* FE-2 (window_sizes = window_sizes = [10, 50] with new features: signal_shift_+2, signal_shift_-2, without 'medianbatch', 'abs_avgbatch', 'abs_maxbatch', ratio-, diff-, norm-features) & FE-3 = 69 features\n",
    "* seed_random = 42\n",
    "* LGB-2\n",
    "* lr_lgb = 0.01\n",
    "* num_leaves = 200\n",
    "* num_iterations = 2000\n",
    "* w_lgb = 0.5\n",
    "* metris are 'logloss' & f1_score\n",
    "* XGB-1\n",
    "* lr_xgb = 0.1\n",
    "* max_depth_xgb = 10\n",
    "* num_boost_round_xgb = 800\n",
    "* w_xgb = 0.5\n",
    "* metrics is 'rmse'\n",
    "\n",
    "**LB = 0.938**"
   ]
  },
  {
   "cell_type": "markdown",
   "metadata": {},
   "source": [
    "### Commit 72\n",
    "\n",
    "* FE-2 (window_sizes = window_sizes = [10, 50] with new features: signal_shift_+2, signal_shift_-2, without 'medianbatch', 'abs_avgbatch', 'abs_maxbatch', ratio-, diff-, norm-features) & FE-3 = 69 features\n",
    "* seed_random = 42\n",
    "* LGB-2\n",
    "* lr_lgb = 0.1\n",
    "* num_leaves = 200\n",
    "* num_iterations = 2000\n",
    "* w_lgb = 0.5\n",
    "* metris are 'logloss' & f1_score\n",
    "* XGB-1\n",
    "* lr_xgb = 0.1\n",
    "* max_depth_xgb = 10\n",
    "* num_boost_round_xgb = 800\n",
    "* w_xgb = 0.5\n",
    "* metrics is 'logloss'\n",
    "\n",
    "**LB = 0.938**"
   ]
  },
  {
   "cell_type": "markdown",
   "metadata": {},
   "source": [
    "### Commit 74\n",
    "\n",
    "* FE-2 (window_sizes = window_sizes = [10, 50] with new features: signal_shift_+2, signal_shift_-2, without 'medianbatch', 'abs_avgbatch', 'abs_maxbatch', ratio-, diff-features) & FE-3 = 76 features\n",
    "* seed_random = 42\n",
    "* LGB-2\n",
    "* lr_lgb = 0.05\n",
    "* num_leaves = 200\n",
    "* num_iterations = 2000\n",
    "* w_lgb = 0.5\n",
    "* metris are 'logloss' & f1_score\n",
    "* XGB-1\n",
    "* lr_xgb = 0.05\n",
    "* max_depth_xgb = 10\n",
    "* num_boost_round_xgb = 1000\n",
    "* w_xgb = 0.5\n",
    "* metrics is 'logloss'\n",
    "\n",
    "**LB = 0.939 (the best)**"
   ]
  },
  {
   "cell_type": "markdown",
   "metadata": {},
   "source": [
    "## 2. Import libraries <a class=\"anchor\" id=\"2\"></a>\n",
    "\n",
    "[Back to Table of Contents](#0.1)"
   ]
  },
  {
   "cell_type": "code",
   "execution_count": 35,
   "metadata": {
    "ExecuteTime": {
     "end_time": "2020-03-25T03:48:34.734599Z",
     "start_time": "2020-03-25T03:48:34.729646Z"
    }
   },
   "outputs": [],
   "source": [
    "import warnings\n",
    "warnings.filterwarnings(\"ignore\")\n",
    "\n",
    "import pandas as pd\n",
    "import numpy as np\n",
    "import math\n",
    "import matplotlib.pyplot as plt\n",
    "import seaborn as sns\n",
    "\n",
    "from sklearn.linear_model import LogisticRegression, Ridge, SGDRegressor\n",
    "from sklearn.neural_network import MLPClassifier\n",
    "from sklearn.model_selection import GridSearchCV, KFold, train_test_split\n",
    "from sklearn.utils import shuffle\n",
    "from sklearn import preprocessing\n",
    "from sklearn.preprocessing import StandardScaler\n",
    "from sklearn.metrics import confusion_matrix, f1_score, mean_absolute_error, make_scorer\n",
    "import lightgbm as lgb\n",
    "import xgboost as xgb\n",
    "\n",
    "from functools import partial\n",
    "import scipy as sp\n",
    "\n",
    "import time\n",
    "import datetime\n",
    "\n",
    "import gc"
   ]
  },
  {
   "cell_type": "code",
   "execution_count": 36,
   "metadata": {
    "ExecuteTime": {
     "end_time": "2020-03-25T03:48:34.738650Z",
     "start_time": "2020-03-25T03:48:34.736516Z"
    }
   },
   "outputs": [],
   "source": [
    "# PATH = '/kaggle/input/'\n",
    "PATH = '/Users/helen/Desktop/Data/'"
   ]
  },
  {
   "cell_type": "markdown",
   "metadata": {},
   "source": [
    "## 3. Download data & FE <a class=\"anchor\" id=\"3\"></a>\n",
    "\n",
    "[Back to Table of Contents](#0.1)"
   ]
  },
  {
   "cell_type": "code",
   "execution_count": 37,
   "metadata": {
    "ExecuteTime": {
     "end_time": "2020-03-25T03:48:34.772209Z",
     "start_time": "2020-03-25T03:48:34.741287Z"
    }
   },
   "outputs": [],
   "source": [
    "def reduce_mem_usage(df, verbose=True):\n",
    "    numerics = ['int16', 'int32', 'int64', 'float16', 'float32', 'float64']\n",
    "    start_mem = df.memory_usage().sum() / 1024**2\n",
    "    for col in df.columns:\n",
    "        if col != 'time':\n",
    "            col_type = df[col].dtypes\n",
    "            if col_type in numerics:\n",
    "                c_min = df[col].min()\n",
    "                c_max = df[col].max()\n",
    "                if str(col_type)[:3] == 'int':\n",
    "                    if c_min > np.iinfo(np.int8).min and c_max < np.iinfo(np.int8).max:\n",
    "                        df[col] = df[col].astype(np.int8)\n",
    "                    elif c_min > np.iinfo(np.int16).min and c_max < np.iinfo(np.int16).max:\n",
    "                        df[col] = df[col].astype(np.int16)\n",
    "                    elif c_min > np.iinfo(np.int32).min and c_max < np.iinfo(np.int32).max:\n",
    "                        df[col] = df[col].astype(np.int32)\n",
    "                    elif c_min > np.iinfo(np.int64).min and c_max < np.iinfo(np.int64).max:\n",
    "                        df[col] = df[col].astype(np.int64)  \n",
    "                else:\n",
    "                    if c_min > np.finfo(np.float16).min and c_max < np.finfo(np.float16).max:\n",
    "                        df[col] = df[col].astype(np.float16)\n",
    "                    elif c_min > np.finfo(np.float32).min and c_max < np.finfo(np.float32).max:\n",
    "                        df[col] = df[col].astype(np.float32)\n",
    "                    else:\n",
    "                        df[col] = df[col].astype(np.float64)    \n",
    "    end_mem = df.memory_usage().sum() / 1024**2\n",
    "    if verbose: print('Mem. usage decreased to {:5.2f} Mb ({:.1f}% reduction)'.format(end_mem, 100 * (start_mem - end_mem) / start_mem))\n",
    "    return df"
   ]
  },
  {
   "cell_type": "code",
   "execution_count": 38,
   "metadata": {
    "ExecuteTime": {
     "end_time": "2020-03-25T03:48:36.045207Z",
     "start_time": "2020-03-25T03:48:34.774738Z"
    },
    "_cell_guid": "79c7e3d0-c299-4dcb-8224-4455121ee9b0",
    "_uuid": "d629ff2d2480ee46fbb7e2d37f6b5fab8052498a"
   },
   "outputs": [],
   "source": [
    "\n",
    "train = pd.read_csv(PATH+'liverpool-ion-switching/train.csv')\n",
    "test = pd.read_csv(PATH+'liverpool-ion-switching/test.csv')"
   ]
  },
  {
   "cell_type": "code",
   "execution_count": 39,
   "metadata": {
    "ExecuteTime": {
     "end_time": "2020-03-25T03:48:36.056531Z",
     "start_time": "2020-03-25T03:48:36.047251Z"
    }
   },
   "outputs": [
    {
     "data": {
      "text/html": [
       "<div>\n",
       "<style scoped>\n",
       "    .dataframe tbody tr th:only-of-type {\n",
       "        vertical-align: middle;\n",
       "    }\n",
       "\n",
       "    .dataframe tbody tr th {\n",
       "        vertical-align: top;\n",
       "    }\n",
       "\n",
       "    .dataframe thead th {\n",
       "        text-align: right;\n",
       "    }\n",
       "</style>\n",
       "<table border=\"1\" class=\"dataframe\">\n",
       "  <thead>\n",
       "    <tr style=\"text-align: right;\">\n",
       "      <th></th>\n",
       "      <th>time</th>\n",
       "      <th>signal</th>\n",
       "      <th>open_channels</th>\n",
       "    </tr>\n",
       "  </thead>\n",
       "  <tbody>\n",
       "    <tr>\n",
       "      <th>0</th>\n",
       "      <td>0.0001</td>\n",
       "      <td>-2.7600</td>\n",
       "      <td>0</td>\n",
       "    </tr>\n",
       "    <tr>\n",
       "      <th>1</th>\n",
       "      <td>0.0002</td>\n",
       "      <td>-2.8557</td>\n",
       "      <td>0</td>\n",
       "    </tr>\n",
       "    <tr>\n",
       "      <th>2</th>\n",
       "      <td>0.0003</td>\n",
       "      <td>-2.4074</td>\n",
       "      <td>0</td>\n",
       "    </tr>\n",
       "    <tr>\n",
       "      <th>3</th>\n",
       "      <td>0.0004</td>\n",
       "      <td>-3.1404</td>\n",
       "      <td>0</td>\n",
       "    </tr>\n",
       "    <tr>\n",
       "      <th>4</th>\n",
       "      <td>0.0005</td>\n",
       "      <td>-3.1525</td>\n",
       "      <td>0</td>\n",
       "    </tr>\n",
       "  </tbody>\n",
       "</table>\n",
       "</div>"
      ],
      "text/plain": [
       "     time  signal  open_channels\n",
       "0  0.0001 -2.7600              0\n",
       "1  0.0002 -2.8557              0\n",
       "2  0.0003 -2.4074              0\n",
       "3  0.0004 -3.1404              0\n",
       "4  0.0005 -3.1525              0"
      ]
     },
     "execution_count": 39,
     "metadata": {},
     "output_type": "execute_result"
    }
   ],
   "source": [
    "train.head()"
   ]
  },
  {
   "cell_type": "code",
   "execution_count": 40,
   "metadata": {
    "ExecuteTime": {
     "end_time": "2020-03-25T03:48:36.063559Z",
     "start_time": "2020-03-25T03:48:36.059704Z"
    }
   },
   "outputs": [
    {
     "data": {
      "text/plain": [
       "(5000000, 3)"
      ]
     },
     "execution_count": 40,
     "metadata": {},
     "output_type": "execute_result"
    }
   ],
   "source": [
    "train.shape"
   ]
  },
  {
   "cell_type": "code",
   "execution_count": 41,
   "metadata": {
    "ExecuteTime": {
     "end_time": "2020-03-25T03:48:36.074778Z",
     "start_time": "2020-03-25T03:48:36.066682Z"
    }
   },
   "outputs": [
    {
     "data": {
      "text/html": [
       "<div>\n",
       "<style scoped>\n",
       "    .dataframe tbody tr th:only-of-type {\n",
       "        vertical-align: middle;\n",
       "    }\n",
       "\n",
       "    .dataframe tbody tr th {\n",
       "        vertical-align: top;\n",
       "    }\n",
       "\n",
       "    .dataframe thead th {\n",
       "        text-align: right;\n",
       "    }\n",
       "</style>\n",
       "<table border=\"1\" class=\"dataframe\">\n",
       "  <thead>\n",
       "    <tr style=\"text-align: right;\">\n",
       "      <th></th>\n",
       "      <th>time</th>\n",
       "      <th>signal</th>\n",
       "    </tr>\n",
       "  </thead>\n",
       "  <tbody>\n",
       "    <tr>\n",
       "      <th>0</th>\n",
       "      <td>500.0001</td>\n",
       "      <td>-2.6498</td>\n",
       "    </tr>\n",
       "    <tr>\n",
       "      <th>1</th>\n",
       "      <td>500.0002</td>\n",
       "      <td>-2.8494</td>\n",
       "    </tr>\n",
       "    <tr>\n",
       "      <th>2</th>\n",
       "      <td>500.0003</td>\n",
       "      <td>-2.8600</td>\n",
       "    </tr>\n",
       "    <tr>\n",
       "      <th>3</th>\n",
       "      <td>500.0004</td>\n",
       "      <td>-2.4350</td>\n",
       "    </tr>\n",
       "    <tr>\n",
       "      <th>4</th>\n",
       "      <td>500.0005</td>\n",
       "      <td>-2.6155</td>\n",
       "    </tr>\n",
       "  </tbody>\n",
       "</table>\n",
       "</div>"
      ],
      "text/plain": [
       "       time  signal\n",
       "0  500.0001 -2.6498\n",
       "1  500.0002 -2.8494\n",
       "2  500.0003 -2.8600\n",
       "3  500.0004 -2.4350\n",
       "4  500.0005 -2.6155"
      ]
     },
     "execution_count": 41,
     "metadata": {},
     "output_type": "execute_result"
    }
   ],
   "source": [
    "test.head()"
   ]
  },
  {
   "cell_type": "markdown",
   "metadata": {},
   "source": [
    "### FE-2 - thanks to the kernels:\n",
    "* https://www.kaggle.com/teejmahal20/regression-with-optimized-rounder\n",
    "* https://www.kaggle.com/pestipeti/eda-ion-switching"
   ]
  },
  {
   "cell_type": "code",
   "execution_count": 42,
   "metadata": {
    "ExecuteTime": {
     "end_time": "2020-03-25T03:48:40.367339Z",
     "start_time": "2020-03-25T03:48:36.076899Z"
    }
   },
   "outputs": [
    {
     "name": "stdout",
     "output_type": "stream",
     "text": [
      "CPU times: user 10.6 s, sys: 2.74 s, total: 13.3 s\n",
      "Wall time: 4.29 s\n"
     ]
    }
   ],
   "source": [
    "%%time\n",
    "for window in window_sizes:\n",
    "    train[\"rolling_mean_\" + str(window)] = train['signal'].rolling(window=window).mean()\n",
    "    train[\"rolling_std_\" + str(window)] = train['signal'].rolling(window=window).std()\n",
    "    train[\"rolling_var_\" + str(window)] = train['signal'].rolling(window=window).var()\n",
    "    train[\"rolling_min_\" + str(window)] = train['signal'].rolling(window=window).min()\n",
    "    train[\"rolling_max_\" + str(window)] = train['signal'].rolling(window=window).max()\n",
    "    \n",
    "    #train[\"rolling_min_max_ratio_\" + str(window)] = train[\"rolling_min_\" + str(window)] / train[\"rolling_max_\" + str(window)]\n",
    "    #train[\"rolling_min_max_diff_\" + str(window)] = train[\"rolling_max_\" + str(window)] - train[\"rolling_min_\" + str(window)]\n",
    "    \n",
    "    a = (train['signal'] - train['rolling_min_' + str(window)]) / (train['rolling_max_' + str(window)] - train['rolling_min_' + str(window)])\n",
    "    train[\"norm_\" + str(window)] = a * (np.floor(train['rolling_max_' + str(window)]) - np.ceil(train['rolling_min_' + str(window)]))\n",
    "    \n",
    "train = train.replace([np.inf, -np.inf], np.nan)    \n",
    "train.fillna(0, inplace=True)"
   ]
  },
  {
   "cell_type": "code",
   "execution_count": 43,
   "metadata": {
    "ExecuteTime": {
     "end_time": "2020-03-25T03:48:41.691161Z",
     "start_time": "2020-03-25T03:48:40.369290Z"
    }
   },
   "outputs": [
    {
     "name": "stdout",
     "output_type": "stream",
     "text": [
      "CPU times: user 4.01 s, sys: 1.2 s, total: 5.22 s\n",
      "Wall time: 1.31 s\n"
     ]
    }
   ],
   "source": [
    "%%time\n",
    "for window in window_sizes:\n",
    "    test[\"rolling_mean_\" + str(window)] = test['signal'].rolling(window=window).mean()\n",
    "    test[\"rolling_std_\" + str(window)] = test['signal'].rolling(window=window).std()\n",
    "    test[\"rolling_var_\" + str(window)] = test['signal'].rolling(window=window).var()\n",
    "    test[\"rolling_min_\" + str(window)] = test['signal'].rolling(window=window).min()\n",
    "    test[\"rolling_max_\" + str(window)] = test['signal'].rolling(window=window).max()\n",
    "    \n",
    "    #test[\"rolling_min_max_ratio_\" + str(window)] = test[\"rolling_min_\" + str(window)] / test[\"rolling_max_\" + str(window)]\n",
    "    #test[\"rolling_min_max_diff_\" + str(window)] = test[\"rolling_max_\" + str(window)] - test[\"rolling_min_\" + str(window)]\n",
    "\n",
    "    \n",
    "    a = (test['signal'] - test['rolling_min_' + str(window)]) / (test['rolling_max_' + str(window)] - test['rolling_min_' + str(window)])\n",
    "    test[\"norm_\" + str(window)] = a * (np.floor(test['rolling_max_' + str(window)]) - np.ceil(test['rolling_min_' + str(window)]))\n",
    "\n",
    "test = test.replace([np.inf, -np.inf], np.nan)    \n",
    "test.fillna(0, inplace=True)"
   ]
  },
  {
   "cell_type": "markdown",
   "metadata": {},
   "source": [
    "### FE-3 - thanks to \n",
    "* https://www.kaggle.com/jazivxt/physically-possible\n",
    "* https://www.kaggle.com/siavrez/simple-eda-model"
   ]
  },
  {
   "cell_type": "code",
   "execution_count": 44,
   "metadata": {
    "ExecuteTime": {
     "end_time": "2020-03-25T03:51:34.638604Z",
     "start_time": "2020-03-25T03:48:41.693034Z"
    }
   },
   "outputs": [
    {
     "name": "stdout",
     "output_type": "stream",
     "text": [
      "CPU times: user 3min 19s, sys: 31.9 s, total: 3min 51s\n",
      "Wall time: 2min 52s\n"
     ]
    }
   ],
   "source": [
    "%%time\n",
    "def features(df):\n",
    "    df = df.sort_values(by=['time']).reset_index(drop=True)\n",
    "    df.index = ((df.time * 10_000) - 1).values\n",
    "    df['batch'] = df.index // 25_000\n",
    "    df['batch_index'] = df.index  - (df.batch * 25_000)\n",
    "    df['batch_slices'] = df['batch_index']  // 2500\n",
    "    df['batch_slices2'] = df.apply(lambda r: '_'.join([str(r['batch']).zfill(3), str(r['batch_slices']).zfill(3)]), axis=1)\n",
    "    \n",
    "    for c in ['batch','batch_slices2']:\n",
    "        d = {}\n",
    "        d['mean'+c] = df.groupby([c])['signal'].mean()\n",
    "        d['median'+c] = df.groupby([c])['signal'].median()\n",
    "        d['max'+c] = df.groupby([c])['signal'].max()\n",
    "        d['min'+c] = df.groupby([c])['signal'].min()\n",
    "        d['std'+c] = df.groupby([c])['signal'].std()\n",
    "        d['mean_abs_chg'+c] = df.groupby([c])['signal'].apply(lambda x: np.mean(np.abs(np.diff(x))))\n",
    "        d['abs_max'+c] = df.groupby([c])['signal'].apply(lambda x: np.max(np.abs(x)))\n",
    "        d['abs_min'+c] = df.groupby([c])['signal'].apply(lambda x: np.min(np.abs(x)))\n",
    "        d['range'+c] = d['max'+c] - d['min'+c]\n",
    "        d['maxtomin'+c] = d['max'+c] / d['min'+c]\n",
    "        d['abs_avg'+c] = (d['abs_min'+c] + d['abs_max'+c]) / 2\n",
    "        for v in d:\n",
    "            df[v] = df[c].map(d[v].to_dict())\n",
    "\n",
    "    \n",
    "    # add shifts_1\n",
    "    df['signal_shift_+1'] = [0,] + list(df['signal'].values[:-1])\n",
    "    df['signal_shift_-1'] = list(df['signal'].values[1:]) + [0]\n",
    "    for i in df[df['batch_index']==0].index:\n",
    "        df['signal_shift_+1'][i] = np.nan\n",
    "    for i in df[df['batch_index']==49999].index:\n",
    "        df['signal_shift_-1'][i] = np.nan\n",
    "    \n",
    "    # add shifts_2 - my upgrade\n",
    "    df['signal_shift_+2'] = [0,] + [1,] + list(df['signal'].values[:-2])\n",
    "    df['signal_shift_-2'] = list(df['signal'].values[2:]) + [0] + [1]\n",
    "    for i in df[df['batch_index']==0].index:\n",
    "        df['signal_shift_+2'][i] = np.nan\n",
    "    for i in df[df['batch_index']==1].index:\n",
    "        df['signal_shift_+2'][i] = np.nan\n",
    "    for i in df[df['batch_index']==49999].index:\n",
    "        df['signal_shift_-2'][i] = np.nan\n",
    "    for i in df[df['batch_index']==49998].index:\n",
    "        df['signal_shift_-2'][i] = np.nan\n",
    "    \n",
    "    df = df.drop(columns=['batch', 'batch_index', 'batch_slices', 'batch_slices2'])\n",
    "\n",
    "    for c in [c1 for c1 in df.columns if c1 not in ['time', 'signal', 'open_channels']]:\n",
    "        df[c+'_msignal'] = df[c] - df['signal']\n",
    "        \n",
    "    df = df.replace([np.inf, -np.inf], np.nan)    \n",
    "    df.fillna(0, inplace=True)\n",
    "    gc.collect()\n",
    "    return df\n",
    "\n",
    "train = features(train)\n",
    "test = features(test)"
   ]
  },
  {
   "cell_type": "code",
   "execution_count": 45,
   "metadata": {
    "ExecuteTime": {
     "end_time": "2020-03-25T03:51:34.658618Z",
     "start_time": "2020-03-25T03:51:34.640833Z"
    }
   },
   "outputs": [
    {
     "name": "stdout",
     "output_type": "stream",
     "text": [
      "<class 'pandas.core.frame.DataFrame'>\n",
      "Float64Index: 5000000 entries, 0.0 to 4999999.0\n",
      "Data columns (total 79 columns):\n",
      "time                                 float64\n",
      "signal                               float64\n",
      "open_channels                        int64\n",
      "rolling_mean_10                      float64\n",
      "rolling_std_10                       float64\n",
      "rolling_var_10                       float64\n",
      "rolling_min_10                       float64\n",
      "rolling_max_10                       float64\n",
      "norm_10                              float64\n",
      "rolling_mean_50                      float64\n",
      "rolling_std_50                       float64\n",
      "rolling_var_50                       float64\n",
      "rolling_min_50                       float64\n",
      "rolling_max_50                       float64\n",
      "norm_50                              float64\n",
      "meanbatch                            float64\n",
      "medianbatch                          float64\n",
      "maxbatch                             float64\n",
      "minbatch                             float64\n",
      "stdbatch                             float64\n",
      "mean_abs_chgbatch                    float64\n",
      "abs_maxbatch                         float64\n",
      "abs_minbatch                         float64\n",
      "rangebatch                           float64\n",
      "maxtominbatch                        float64\n",
      "abs_avgbatch                         float64\n",
      "meanbatch_slices2                    float64\n",
      "medianbatch_slices2                  float64\n",
      "maxbatch_slices2                     float64\n",
      "minbatch_slices2                     float64\n",
      "stdbatch_slices2                     float64\n",
      "mean_abs_chgbatch_slices2            float64\n",
      "abs_maxbatch_slices2                 float64\n",
      "abs_minbatch_slices2                 float64\n",
      "rangebatch_slices2                   float64\n",
      "maxtominbatch_slices2                float64\n",
      "abs_avgbatch_slices2                 float64\n",
      "signal_shift_+1                      float64\n",
      "signal_shift_-1                      float64\n",
      "signal_shift_+2                      float64\n",
      "signal_shift_-2                      float64\n",
      "rolling_mean_10_msignal              float64\n",
      "rolling_std_10_msignal               float64\n",
      "rolling_var_10_msignal               float64\n",
      "rolling_min_10_msignal               float64\n",
      "rolling_max_10_msignal               float64\n",
      "norm_10_msignal                      float64\n",
      "rolling_mean_50_msignal              float64\n",
      "rolling_std_50_msignal               float64\n",
      "rolling_var_50_msignal               float64\n",
      "rolling_min_50_msignal               float64\n",
      "rolling_max_50_msignal               float64\n",
      "norm_50_msignal                      float64\n",
      "meanbatch_msignal                    float64\n",
      "medianbatch_msignal                  float64\n",
      "maxbatch_msignal                     float64\n",
      "minbatch_msignal                     float64\n",
      "stdbatch_msignal                     float64\n",
      "mean_abs_chgbatch_msignal            float64\n",
      "abs_maxbatch_msignal                 float64\n",
      "abs_minbatch_msignal                 float64\n",
      "rangebatch_msignal                   float64\n",
      "maxtominbatch_msignal                float64\n",
      "abs_avgbatch_msignal                 float64\n",
      "meanbatch_slices2_msignal            float64\n",
      "medianbatch_slices2_msignal          float64\n",
      "maxbatch_slices2_msignal             float64\n",
      "minbatch_slices2_msignal             float64\n",
      "stdbatch_slices2_msignal             float64\n",
      "mean_abs_chgbatch_slices2_msignal    float64\n",
      "abs_maxbatch_slices2_msignal         float64\n",
      "abs_minbatch_slices2_msignal         float64\n",
      "rangebatch_slices2_msignal           float64\n",
      "maxtominbatch_slices2_msignal        float64\n",
      "abs_avgbatch_slices2_msignal         float64\n",
      "signal_shift_+1_msignal              float64\n",
      "signal_shift_-1_msignal              float64\n",
      "signal_shift_+2_msignal              float64\n",
      "signal_shift_-2_msignal              float64\n",
      "dtypes: float64(78), int64(1)\n",
      "memory usage: 3.0 GB\n"
     ]
    }
   ],
   "source": [
    "train.info()"
   ]
  },
  {
   "cell_type": "code",
   "execution_count": 46,
   "metadata": {
    "ExecuteTime": {
     "end_time": "2020-03-25T03:52:13.149167Z",
     "start_time": "2020-03-25T03:51:34.660646Z"
    }
   },
   "outputs": [
    {
     "name": "stdout",
     "output_type": "stream",
     "text": [
      "Mem. usage decreased to 815.39 Mb (73.3% reduction)\n"
     ]
    }
   ],
   "source": [
    "train = reduce_mem_usage(train)"
   ]
  },
  {
   "cell_type": "code",
   "execution_count": 47,
   "metadata": {
    "ExecuteTime": {
     "end_time": "2020-03-25T03:52:28.830170Z",
     "start_time": "2020-03-25T03:52:13.151056Z"
    }
   },
   "outputs": [
    {
     "name": "stdout",
     "output_type": "stream",
     "text": [
      "Mem. usage decreased to 324.25 Mb (73.1% reduction)\n"
     ]
    }
   ],
   "source": [
    "test = reduce_mem_usage(test)"
   ]
  },
  {
   "cell_type": "code",
   "execution_count": 48,
   "metadata": {
    "ExecuteTime": {
     "end_time": "2020-03-25T03:52:28.846627Z",
     "start_time": "2020-03-25T03:52:28.840988Z"
    }
   },
   "outputs": [],
   "source": [
    "y = train['open_channels']\n",
    "col = [c for c in train.columns if c not in ['time', 'open_channels', 'group', 'medianbatch', 'abs_avgbatch', 'abs_maxbatch']]"
   ]
  },
  {
   "cell_type": "code",
   "execution_count": 49,
   "metadata": {
    "ExecuteTime": {
     "end_time": "2020-03-25T03:52:29.356171Z",
     "start_time": "2020-03-25T03:52:28.850107Z"
    }
   },
   "outputs": [
    {
     "name": "stdout",
     "output_type": "stream",
     "text": [
      "<class 'pandas.core.frame.DataFrame'>\n",
      "Float64Index: 5000000 entries, 0.0 to 4999999.0\n",
      "Data columns (total 79 columns):\n",
      "time                                 float64\n",
      "signal                               float16\n",
      "open_channels                        int8\n",
      "rolling_mean_10                      float16\n",
      "rolling_std_10                       float16\n",
      "rolling_var_10                       float16\n",
      "rolling_min_10                       float16\n",
      "rolling_max_10                       float16\n",
      "norm_10                              float16\n",
      "rolling_mean_50                      float16\n",
      "rolling_std_50                       float16\n",
      "rolling_var_50                       float16\n",
      "rolling_min_50                       float16\n",
      "rolling_max_50                       float16\n",
      "norm_50                              float16\n",
      "meanbatch                            float16\n",
      "medianbatch                          float16\n",
      "maxbatch                             float16\n",
      "minbatch                             float16\n",
      "stdbatch                             float16\n",
      "mean_abs_chgbatch                    float16\n",
      "abs_maxbatch                         float16\n",
      "abs_minbatch                         float16\n",
      "rangebatch                           float16\n",
      "maxtominbatch                        float16\n",
      "abs_avgbatch                         float16\n",
      "meanbatch_slices2                    float16\n",
      "medianbatch_slices2                  float16\n",
      "maxbatch_slices2                     float16\n",
      "minbatch_slices2                     float16\n",
      "stdbatch_slices2                     float16\n",
      "mean_abs_chgbatch_slices2            float16\n",
      "abs_maxbatch_slices2                 float16\n",
      "abs_minbatch_slices2                 float16\n",
      "rangebatch_slices2                   float16\n",
      "maxtominbatch_slices2                float16\n",
      "abs_avgbatch_slices2                 float16\n",
      "signal_shift_+1                      float16\n",
      "signal_shift_-1                      float16\n",
      "signal_shift_+2                      float16\n",
      "signal_shift_-2                      float16\n",
      "rolling_mean_10_msignal              float16\n",
      "rolling_std_10_msignal               float16\n",
      "rolling_var_10_msignal               float16\n",
      "rolling_min_10_msignal               float16\n",
      "rolling_max_10_msignal               float16\n",
      "norm_10_msignal                      float16\n",
      "rolling_mean_50_msignal              float16\n",
      "rolling_std_50_msignal               float16\n",
      "rolling_var_50_msignal               float16\n",
      "rolling_min_50_msignal               float16\n",
      "rolling_max_50_msignal               float16\n",
      "norm_50_msignal                      float16\n",
      "meanbatch_msignal                    float16\n",
      "medianbatch_msignal                  float16\n",
      "maxbatch_msignal                     float16\n",
      "minbatch_msignal                     float16\n",
      "stdbatch_msignal                     float16\n",
      "mean_abs_chgbatch_msignal            float16\n",
      "abs_maxbatch_msignal                 float16\n",
      "abs_minbatch_msignal                 float16\n",
      "rangebatch_msignal                   float16\n",
      "maxtominbatch_msignal                float16\n",
      "abs_avgbatch_msignal                 float16\n",
      "meanbatch_slices2_msignal            float16\n",
      "medianbatch_slices2_msignal          float16\n",
      "maxbatch_slices2_msignal             float16\n",
      "minbatch_slices2_msignal             float16\n",
      "stdbatch_slices2_msignal             float16\n",
      "mean_abs_chgbatch_slices2_msignal    float16\n",
      "abs_maxbatch_slices2_msignal         float16\n",
      "abs_minbatch_slices2_msignal         float16\n",
      "rangebatch_slices2_msignal           float16\n",
      "maxtominbatch_slices2_msignal        float16\n",
      "abs_avgbatch_slices2_msignal         float16\n",
      "signal_shift_+1_msignal              float16\n",
      "signal_shift_-1_msignal              float16\n",
      "signal_shift_+2_msignal              float16\n",
      "signal_shift_-2_msignal              float16\n",
      "dtypes: float16(77), float64(1), int8(1)\n",
      "memory usage: 815.4 MB\n"
     ]
    }
   ],
   "source": [
    "train.info()"
   ]
  },
  {
   "cell_type": "code",
   "execution_count": 50,
   "metadata": {
    "ExecuteTime": {
     "end_time": "2020-03-25T03:52:29.382342Z",
     "start_time": "2020-03-25T03:52:29.358067Z"
    }
   },
   "outputs": [
    {
     "data": {
      "text/html": [
       "<div>\n",
       "<style scoped>\n",
       "    .dataframe tbody tr th:only-of-type {\n",
       "        vertical-align: middle;\n",
       "    }\n",
       "\n",
       "    .dataframe tbody tr th {\n",
       "        vertical-align: top;\n",
       "    }\n",
       "\n",
       "    .dataframe thead th {\n",
       "        text-align: right;\n",
       "    }\n",
       "</style>\n",
       "<table border=\"1\" class=\"dataframe\">\n",
       "  <thead>\n",
       "    <tr style=\"text-align: right;\">\n",
       "      <th></th>\n",
       "      <th>time</th>\n",
       "      <th>signal</th>\n",
       "      <th>open_channels</th>\n",
       "      <th>rolling_mean_10</th>\n",
       "      <th>rolling_std_10</th>\n",
       "      <th>rolling_var_10</th>\n",
       "      <th>rolling_min_10</th>\n",
       "      <th>rolling_max_10</th>\n",
       "      <th>norm_10</th>\n",
       "      <th>rolling_mean_50</th>\n",
       "      <th>...</th>\n",
       "      <th>mean_abs_chgbatch_slices2_msignal</th>\n",
       "      <th>abs_maxbatch_slices2_msignal</th>\n",
       "      <th>abs_minbatch_slices2_msignal</th>\n",
       "      <th>rangebatch_slices2_msignal</th>\n",
       "      <th>maxtominbatch_slices2_msignal</th>\n",
       "      <th>abs_avgbatch_slices2_msignal</th>\n",
       "      <th>signal_shift_+1_msignal</th>\n",
       "      <th>signal_shift_-1_msignal</th>\n",
       "      <th>signal_shift_+2_msignal</th>\n",
       "      <th>signal_shift_-2_msignal</th>\n",
       "    </tr>\n",
       "  </thead>\n",
       "  <tbody>\n",
       "    <tr>\n",
       "      <th>0.0</th>\n",
       "      <td>0.0001</td>\n",
       "      <td>-2.759766</td>\n",
       "      <td>0</td>\n",
       "      <td>0.0</td>\n",
       "      <td>0.0</td>\n",
       "      <td>0.0</td>\n",
       "      <td>0.0</td>\n",
       "      <td>0.0</td>\n",
       "      <td>0.0</td>\n",
       "      <td>0.0</td>\n",
       "      <td>...</td>\n",
       "      <td>3.029297</td>\n",
       "      <td>6.226562</td>\n",
       "      <td>4.664062</td>\n",
       "      <td>4.324219</td>\n",
       "      <td>3.308594</td>\n",
       "      <td>5.445312</td>\n",
       "      <td>0.000000</td>\n",
       "      <td>-0.095703</td>\n",
       "      <td>0.000000</td>\n",
       "      <td>0.352539</td>\n",
       "    </tr>\n",
       "    <tr>\n",
       "      <th>1.0</th>\n",
       "      <td>0.0002</td>\n",
       "      <td>-2.855469</td>\n",
       "      <td>0</td>\n",
       "      <td>0.0</td>\n",
       "      <td>0.0</td>\n",
       "      <td>0.0</td>\n",
       "      <td>0.0</td>\n",
       "      <td>0.0</td>\n",
       "      <td>0.0</td>\n",
       "      <td>0.0</td>\n",
       "      <td>...</td>\n",
       "      <td>3.125000</td>\n",
       "      <td>6.324219</td>\n",
       "      <td>4.757812</td>\n",
       "      <td>4.417969</td>\n",
       "      <td>3.404297</td>\n",
       "      <td>5.539062</td>\n",
       "      <td>0.095703</td>\n",
       "      <td>0.448242</td>\n",
       "      <td>0.000000</td>\n",
       "      <td>-0.284668</td>\n",
       "    </tr>\n",
       "    <tr>\n",
       "      <th>2.0</th>\n",
       "      <td>0.0003</td>\n",
       "      <td>-2.408203</td>\n",
       "      <td>0</td>\n",
       "      <td>0.0</td>\n",
       "      <td>0.0</td>\n",
       "      <td>0.0</td>\n",
       "      <td>0.0</td>\n",
       "      <td>0.0</td>\n",
       "      <td>0.0</td>\n",
       "      <td>0.0</td>\n",
       "      <td>...</td>\n",
       "      <td>2.675781</td>\n",
       "      <td>5.875000</td>\n",
       "      <td>4.308594</td>\n",
       "      <td>3.970703</td>\n",
       "      <td>2.957031</td>\n",
       "      <td>5.093750</td>\n",
       "      <td>-0.448242</td>\n",
       "      <td>-0.732910</td>\n",
       "      <td>-0.352539</td>\n",
       "      <td>-0.745117</td>\n",
       "    </tr>\n",
       "    <tr>\n",
       "      <th>3.0</th>\n",
       "      <td>0.0004</td>\n",
       "      <td>-3.140625</td>\n",
       "      <td>0</td>\n",
       "      <td>0.0</td>\n",
       "      <td>0.0</td>\n",
       "      <td>0.0</td>\n",
       "      <td>0.0</td>\n",
       "      <td>0.0</td>\n",
       "      <td>0.0</td>\n",
       "      <td>0.0</td>\n",
       "      <td>...</td>\n",
       "      <td>3.410156</td>\n",
       "      <td>6.605469</td>\n",
       "      <td>5.042969</td>\n",
       "      <td>4.703125</td>\n",
       "      <td>3.689453</td>\n",
       "      <td>5.824219</td>\n",
       "      <td>0.732910</td>\n",
       "      <td>-0.012100</td>\n",
       "      <td>0.284668</td>\n",
       "      <td>0.498535</td>\n",
       "    </tr>\n",
       "    <tr>\n",
       "      <th>4.0</th>\n",
       "      <td>0.0005</td>\n",
       "      <td>-3.152344</td>\n",
       "      <td>0</td>\n",
       "      <td>0.0</td>\n",
       "      <td>0.0</td>\n",
       "      <td>0.0</td>\n",
       "      <td>0.0</td>\n",
       "      <td>0.0</td>\n",
       "      <td>0.0</td>\n",
       "      <td>0.0</td>\n",
       "      <td>...</td>\n",
       "      <td>3.421875</td>\n",
       "      <td>6.621094</td>\n",
       "      <td>5.054688</td>\n",
       "      <td>4.714844</td>\n",
       "      <td>3.701172</td>\n",
       "      <td>5.835938</td>\n",
       "      <td>0.012100</td>\n",
       "      <td>0.510742</td>\n",
       "      <td>0.745117</td>\n",
       "      <td>0.453125</td>\n",
       "    </tr>\n",
       "  </tbody>\n",
       "</table>\n",
       "<p>5 rows × 79 columns</p>\n",
       "</div>"
      ],
      "text/plain": [
       "       time    signal  open_channels  rolling_mean_10  rolling_std_10  \\\n",
       "0.0  0.0001 -2.759766              0              0.0             0.0   \n",
       "1.0  0.0002 -2.855469              0              0.0             0.0   \n",
       "2.0  0.0003 -2.408203              0              0.0             0.0   \n",
       "3.0  0.0004 -3.140625              0              0.0             0.0   \n",
       "4.0  0.0005 -3.152344              0              0.0             0.0   \n",
       "\n",
       "     rolling_var_10  rolling_min_10  rolling_max_10  norm_10  rolling_mean_50  \\\n",
       "0.0             0.0             0.0             0.0      0.0              0.0   \n",
       "1.0             0.0             0.0             0.0      0.0              0.0   \n",
       "2.0             0.0             0.0             0.0      0.0              0.0   \n",
       "3.0             0.0             0.0             0.0      0.0              0.0   \n",
       "4.0             0.0             0.0             0.0      0.0              0.0   \n",
       "\n",
       "     ...  mean_abs_chgbatch_slices2_msignal  abs_maxbatch_slices2_msignal  \\\n",
       "0.0  ...                           3.029297                      6.226562   \n",
       "1.0  ...                           3.125000                      6.324219   \n",
       "2.0  ...                           2.675781                      5.875000   \n",
       "3.0  ...                           3.410156                      6.605469   \n",
       "4.0  ...                           3.421875                      6.621094   \n",
       "\n",
       "     abs_minbatch_slices2_msignal  rangebatch_slices2_msignal  \\\n",
       "0.0                      4.664062                    4.324219   \n",
       "1.0                      4.757812                    4.417969   \n",
       "2.0                      4.308594                    3.970703   \n",
       "3.0                      5.042969                    4.703125   \n",
       "4.0                      5.054688                    4.714844   \n",
       "\n",
       "     maxtominbatch_slices2_msignal  abs_avgbatch_slices2_msignal  \\\n",
       "0.0                       3.308594                      5.445312   \n",
       "1.0                       3.404297                      5.539062   \n",
       "2.0                       2.957031                      5.093750   \n",
       "3.0                       3.689453                      5.824219   \n",
       "4.0                       3.701172                      5.835938   \n",
       "\n",
       "     signal_shift_+1_msignal  signal_shift_-1_msignal  \\\n",
       "0.0                 0.000000                -0.095703   \n",
       "1.0                 0.095703                 0.448242   \n",
       "2.0                -0.448242                -0.732910   \n",
       "3.0                 0.732910                -0.012100   \n",
       "4.0                 0.012100                 0.510742   \n",
       "\n",
       "     signal_shift_+2_msignal  signal_shift_-2_msignal  \n",
       "0.0                 0.000000                 0.352539  \n",
       "1.0                 0.000000                -0.284668  \n",
       "2.0                -0.352539                -0.745117  \n",
       "3.0                 0.284668                 0.498535  \n",
       "4.0                 0.745117                 0.453125  \n",
       "\n",
       "[5 rows x 79 columns]"
      ]
     },
     "execution_count": 50,
     "metadata": {},
     "output_type": "execute_result"
    }
   ],
   "source": [
    "train.head()"
   ]
  },
  {
   "cell_type": "code",
   "execution_count": 51,
   "metadata": {
    "ExecuteTime": {
     "end_time": "2020-03-25T03:52:29.611739Z",
     "start_time": "2020-03-25T03:52:29.384230Z"
    }
   },
   "outputs": [
    {
     "name": "stdout",
     "output_type": "stream",
     "text": [
      "<class 'pandas.core.frame.DataFrame'>\n",
      "Float64Index: 2000000 entries, 5000000.0 to 6999999.0\n",
      "Data columns (total 78 columns):\n",
      "time                                 float64\n",
      "signal                               float16\n",
      "rolling_mean_10                      float16\n",
      "rolling_std_10                       float16\n",
      "rolling_var_10                       float16\n",
      "rolling_min_10                       float16\n",
      "rolling_max_10                       float16\n",
      "norm_10                              float16\n",
      "rolling_mean_50                      float16\n",
      "rolling_std_50                       float16\n",
      "rolling_var_50                       float16\n",
      "rolling_min_50                       float16\n",
      "rolling_max_50                       float16\n",
      "norm_50                              float16\n",
      "meanbatch                            float16\n",
      "medianbatch                          float16\n",
      "maxbatch                             float16\n",
      "minbatch                             float16\n",
      "stdbatch                             float16\n",
      "mean_abs_chgbatch                    float16\n",
      "abs_maxbatch                         float16\n",
      "abs_minbatch                         float16\n",
      "rangebatch                           float16\n",
      "maxtominbatch                        float16\n",
      "abs_avgbatch                         float16\n",
      "meanbatch_slices2                    float16\n",
      "medianbatch_slices2                  float16\n",
      "maxbatch_slices2                     float16\n",
      "minbatch_slices2                     float16\n",
      "stdbatch_slices2                     float16\n",
      "mean_abs_chgbatch_slices2            float16\n",
      "abs_maxbatch_slices2                 float16\n",
      "abs_minbatch_slices2                 float16\n",
      "rangebatch_slices2                   float16\n",
      "maxtominbatch_slices2                float16\n",
      "abs_avgbatch_slices2                 float16\n",
      "signal_shift_+1                      float16\n",
      "signal_shift_-1                      float16\n",
      "signal_shift_+2                      float16\n",
      "signal_shift_-2                      float16\n",
      "rolling_mean_10_msignal              float16\n",
      "rolling_std_10_msignal               float16\n",
      "rolling_var_10_msignal               float16\n",
      "rolling_min_10_msignal               float16\n",
      "rolling_max_10_msignal               float16\n",
      "norm_10_msignal                      float16\n",
      "rolling_mean_50_msignal              float16\n",
      "rolling_std_50_msignal               float16\n",
      "rolling_var_50_msignal               float16\n",
      "rolling_min_50_msignal               float16\n",
      "rolling_max_50_msignal               float16\n",
      "norm_50_msignal                      float16\n",
      "meanbatch_msignal                    float16\n",
      "medianbatch_msignal                  float16\n",
      "maxbatch_msignal                     float16\n",
      "minbatch_msignal                     float16\n",
      "stdbatch_msignal                     float16\n",
      "mean_abs_chgbatch_msignal            float16\n",
      "abs_maxbatch_msignal                 float16\n",
      "abs_minbatch_msignal                 float16\n",
      "rangebatch_msignal                   float16\n",
      "maxtominbatch_msignal                float16\n",
      "abs_avgbatch_msignal                 float16\n",
      "meanbatch_slices2_msignal            float16\n",
      "medianbatch_slices2_msignal          float16\n",
      "maxbatch_slices2_msignal             float16\n",
      "minbatch_slices2_msignal             float16\n",
      "stdbatch_slices2_msignal             float16\n",
      "mean_abs_chgbatch_slices2_msignal    float16\n",
      "abs_maxbatch_slices2_msignal         float16\n",
      "abs_minbatch_slices2_msignal         float16\n",
      "rangebatch_slices2_msignal           float16\n",
      "maxtominbatch_slices2_msignal        float16\n",
      "abs_avgbatch_slices2_msignal         float16\n",
      "signal_shift_+1_msignal              float16\n",
      "signal_shift_-1_msignal              float16\n",
      "signal_shift_+2_msignal              float16\n",
      "signal_shift_-2_msignal              float16\n",
      "dtypes: float16(77), float64(1)\n",
      "memory usage: 324.2 MB\n"
     ]
    }
   ],
   "source": [
    "test.info()"
   ]
  },
  {
   "cell_type": "code",
   "execution_count": 52,
   "metadata": {
    "ExecuteTime": {
     "end_time": "2020-03-25T03:52:29.634255Z",
     "start_time": "2020-03-25T03:52:29.613768Z"
    }
   },
   "outputs": [
    {
     "data": {
      "text/html": [
       "<div>\n",
       "<style scoped>\n",
       "    .dataframe tbody tr th:only-of-type {\n",
       "        vertical-align: middle;\n",
       "    }\n",
       "\n",
       "    .dataframe tbody tr th {\n",
       "        vertical-align: top;\n",
       "    }\n",
       "\n",
       "    .dataframe thead th {\n",
       "        text-align: right;\n",
       "    }\n",
       "</style>\n",
       "<table border=\"1\" class=\"dataframe\">\n",
       "  <thead>\n",
       "    <tr style=\"text-align: right;\">\n",
       "      <th></th>\n",
       "      <th>time</th>\n",
       "      <th>signal</th>\n",
       "      <th>rolling_mean_10</th>\n",
       "      <th>rolling_std_10</th>\n",
       "      <th>rolling_var_10</th>\n",
       "      <th>rolling_min_10</th>\n",
       "      <th>rolling_max_10</th>\n",
       "      <th>norm_10</th>\n",
       "      <th>rolling_mean_50</th>\n",
       "      <th>rolling_std_50</th>\n",
       "      <th>...</th>\n",
       "      <th>mean_abs_chgbatch_slices2_msignal</th>\n",
       "      <th>abs_maxbatch_slices2_msignal</th>\n",
       "      <th>abs_minbatch_slices2_msignal</th>\n",
       "      <th>rangebatch_slices2_msignal</th>\n",
       "      <th>maxtominbatch_slices2_msignal</th>\n",
       "      <th>abs_avgbatch_slices2_msignal</th>\n",
       "      <th>signal_shift_+1_msignal</th>\n",
       "      <th>signal_shift_-1_msignal</th>\n",
       "      <th>signal_shift_+2_msignal</th>\n",
       "      <th>signal_shift_-2_msignal</th>\n",
       "    </tr>\n",
       "  </thead>\n",
       "  <tbody>\n",
       "    <tr>\n",
       "      <th>5000000.0</th>\n",
       "      <td>500.0001</td>\n",
       "      <td>-2.650391</td>\n",
       "      <td>0.0</td>\n",
       "      <td>0.0</td>\n",
       "      <td>0.0</td>\n",
       "      <td>0.0</td>\n",
       "      <td>0.0</td>\n",
       "      <td>0.0</td>\n",
       "      <td>0.0</td>\n",
       "      <td>0.0</td>\n",
       "      <td>...</td>\n",
       "      <td>2.916016</td>\n",
       "      <td>6.046875</td>\n",
       "      <td>4.445312</td>\n",
       "      <td>4.253906</td>\n",
       "      <td>3.177734</td>\n",
       "      <td>5.246094</td>\n",
       "      <td>0.000000</td>\n",
       "      <td>-0.199585</td>\n",
       "      <td>0.000000</td>\n",
       "      <td>-0.210205</td>\n",
       "    </tr>\n",
       "    <tr>\n",
       "      <th>5000001.0</th>\n",
       "      <td>500.0002</td>\n",
       "      <td>-2.849609</td>\n",
       "      <td>0.0</td>\n",
       "      <td>0.0</td>\n",
       "      <td>0.0</td>\n",
       "      <td>0.0</td>\n",
       "      <td>0.0</td>\n",
       "      <td>0.0</td>\n",
       "      <td>0.0</td>\n",
       "      <td>0.0</td>\n",
       "      <td>...</td>\n",
       "      <td>3.117188</td>\n",
       "      <td>6.250000</td>\n",
       "      <td>4.644531</td>\n",
       "      <td>4.453125</td>\n",
       "      <td>3.376953</td>\n",
       "      <td>5.445312</td>\n",
       "      <td>0.199585</td>\n",
       "      <td>-0.010597</td>\n",
       "      <td>0.000000</td>\n",
       "      <td>0.414307</td>\n",
       "    </tr>\n",
       "    <tr>\n",
       "      <th>5000002.0</th>\n",
       "      <td>500.0003</td>\n",
       "      <td>-2.859375</td>\n",
       "      <td>0.0</td>\n",
       "      <td>0.0</td>\n",
       "      <td>0.0</td>\n",
       "      <td>0.0</td>\n",
       "      <td>0.0</td>\n",
       "      <td>0.0</td>\n",
       "      <td>0.0</td>\n",
       "      <td>0.0</td>\n",
       "      <td>...</td>\n",
       "      <td>3.126953</td>\n",
       "      <td>6.257812</td>\n",
       "      <td>4.656250</td>\n",
       "      <td>4.464844</td>\n",
       "      <td>3.388672</td>\n",
       "      <td>5.457031</td>\n",
       "      <td>0.010597</td>\n",
       "      <td>0.425049</td>\n",
       "      <td>0.210205</td>\n",
       "      <td>0.244507</td>\n",
       "    </tr>\n",
       "    <tr>\n",
       "      <th>5000003.0</th>\n",
       "      <td>500.0004</td>\n",
       "      <td>-2.435547</td>\n",
       "      <td>0.0</td>\n",
       "      <td>0.0</td>\n",
       "      <td>0.0</td>\n",
       "      <td>0.0</td>\n",
       "      <td>0.0</td>\n",
       "      <td>0.0</td>\n",
       "      <td>0.0</td>\n",
       "      <td>0.0</td>\n",
       "      <td>...</td>\n",
       "      <td>2.701172</td>\n",
       "      <td>5.832031</td>\n",
       "      <td>4.230469</td>\n",
       "      <td>4.039062</td>\n",
       "      <td>2.962891</td>\n",
       "      <td>5.031250</td>\n",
       "      <td>-0.425049</td>\n",
       "      <td>-0.180542</td>\n",
       "      <td>-0.414307</td>\n",
       "      <td>-0.130859</td>\n",
       "    </tr>\n",
       "    <tr>\n",
       "      <th>5000004.0</th>\n",
       "      <td>500.0005</td>\n",
       "      <td>-2.615234</td>\n",
       "      <td>0.0</td>\n",
       "      <td>0.0</td>\n",
       "      <td>0.0</td>\n",
       "      <td>0.0</td>\n",
       "      <td>0.0</td>\n",
       "      <td>0.0</td>\n",
       "      <td>0.0</td>\n",
       "      <td>0.0</td>\n",
       "      <td>...</td>\n",
       "      <td>2.882812</td>\n",
       "      <td>6.015625</td>\n",
       "      <td>4.410156</td>\n",
       "      <td>4.218750</td>\n",
       "      <td>3.144531</td>\n",
       "      <td>5.210938</td>\n",
       "      <td>0.180542</td>\n",
       "      <td>0.049591</td>\n",
       "      <td>-0.244507</td>\n",
       "      <td>-0.122314</td>\n",
       "    </tr>\n",
       "  </tbody>\n",
       "</table>\n",
       "<p>5 rows × 78 columns</p>\n",
       "</div>"
      ],
      "text/plain": [
       "               time    signal  rolling_mean_10  rolling_std_10  \\\n",
       "5000000.0  500.0001 -2.650391              0.0             0.0   \n",
       "5000001.0  500.0002 -2.849609              0.0             0.0   \n",
       "5000002.0  500.0003 -2.859375              0.0             0.0   \n",
       "5000003.0  500.0004 -2.435547              0.0             0.0   \n",
       "5000004.0  500.0005 -2.615234              0.0             0.0   \n",
       "\n",
       "           rolling_var_10  rolling_min_10  rolling_max_10  norm_10  \\\n",
       "5000000.0             0.0             0.0             0.0      0.0   \n",
       "5000001.0             0.0             0.0             0.0      0.0   \n",
       "5000002.0             0.0             0.0             0.0      0.0   \n",
       "5000003.0             0.0             0.0             0.0      0.0   \n",
       "5000004.0             0.0             0.0             0.0      0.0   \n",
       "\n",
       "           rolling_mean_50  rolling_std_50  ...  \\\n",
       "5000000.0              0.0             0.0  ...   \n",
       "5000001.0              0.0             0.0  ...   \n",
       "5000002.0              0.0             0.0  ...   \n",
       "5000003.0              0.0             0.0  ...   \n",
       "5000004.0              0.0             0.0  ...   \n",
       "\n",
       "           mean_abs_chgbatch_slices2_msignal  abs_maxbatch_slices2_msignal  \\\n",
       "5000000.0                           2.916016                      6.046875   \n",
       "5000001.0                           3.117188                      6.250000   \n",
       "5000002.0                           3.126953                      6.257812   \n",
       "5000003.0                           2.701172                      5.832031   \n",
       "5000004.0                           2.882812                      6.015625   \n",
       "\n",
       "           abs_minbatch_slices2_msignal  rangebatch_slices2_msignal  \\\n",
       "5000000.0                      4.445312                    4.253906   \n",
       "5000001.0                      4.644531                    4.453125   \n",
       "5000002.0                      4.656250                    4.464844   \n",
       "5000003.0                      4.230469                    4.039062   \n",
       "5000004.0                      4.410156                    4.218750   \n",
       "\n",
       "           maxtominbatch_slices2_msignal  abs_avgbatch_slices2_msignal  \\\n",
       "5000000.0                       3.177734                      5.246094   \n",
       "5000001.0                       3.376953                      5.445312   \n",
       "5000002.0                       3.388672                      5.457031   \n",
       "5000003.0                       2.962891                      5.031250   \n",
       "5000004.0                       3.144531                      5.210938   \n",
       "\n",
       "           signal_shift_+1_msignal  signal_shift_-1_msignal  \\\n",
       "5000000.0                 0.000000                -0.199585   \n",
       "5000001.0                 0.199585                -0.010597   \n",
       "5000002.0                 0.010597                 0.425049   \n",
       "5000003.0                -0.425049                -0.180542   \n",
       "5000004.0                 0.180542                 0.049591   \n",
       "\n",
       "           signal_shift_+2_msignal  signal_shift_-2_msignal  \n",
       "5000000.0                 0.000000                -0.210205  \n",
       "5000001.0                 0.000000                 0.414307  \n",
       "5000002.0                 0.210205                 0.244507  \n",
       "5000003.0                -0.414307                -0.130859  \n",
       "5000004.0                -0.244507                -0.122314  \n",
       "\n",
       "[5 rows x 78 columns]"
      ]
     },
     "execution_count": 52,
     "metadata": {},
     "output_type": "execute_result"
    }
   ],
   "source": [
    "test.head()"
   ]
  },
  {
   "cell_type": "markdown",
   "metadata": {},
   "source": [
    "## 4. Model tuning <a class=\"anchor\" id=\"4\"></a>\n",
    "\n",
    "[Back to Table of Contents](#0.1)"
   ]
  },
  {
   "cell_type": "markdown",
   "metadata": {},
   "source": [
    "### Standardization for regression model"
   ]
  },
  {
   "cell_type": "code",
   "execution_count": 53,
   "metadata": {
    "ExecuteTime": {
     "end_time": "2020-03-25T03:52:29.638334Z",
     "start_time": "2020-03-25T03:52:29.636084Z"
    }
   },
   "outputs": [],
   "source": [
    "# %%time\n",
    "# scaler = StandardScaler()\n",
    "# train_reg = pd.DataFrame(\n",
    "#     scaler.fit_transform(train[col]),\n",
    "#     columns=train[col].columns,\n",
    "#     index=train[col].index\n",
    "# )\n",
    "# test_reg = pd.DataFrame(\n",
    "#     scaler.transform(test[col]),\n",
    "#     columns=test[col].columns,\n",
    "#     index=test[col].index\n",
    "# )"
   ]
  },
  {
   "cell_type": "markdown",
   "metadata": {},
   "source": [
    "### 4.1 Ridge Regression<a class=\"anchor\" id=\"4.1\"></a>\n",
    "\n",
    "[Back to Table of Contents](#0.1)"
   ]
  },
  {
   "cell_type": "code",
   "execution_count": 54,
   "metadata": {
    "ExecuteTime": {
     "end_time": "2020-03-25T03:52:29.642634Z",
     "start_time": "2020-03-25T03:52:29.640407Z"
    }
   },
   "outputs": [],
   "source": [
    "# %%time\n",
    "# ridge_reg = Ridge(tol=5e-5, fit_intercept=False, random_state=seed_random)\n",
    "# ridge_reg.fit(train_reg, y)"
   ]
  },
  {
   "cell_type": "code",
   "execution_count": 55,
   "metadata": {
    "ExecuteTime": {
     "end_time": "2020-03-25T03:52:29.646796Z",
     "start_time": "2020-03-25T03:52:29.644606Z"
    }
   },
   "outputs": [],
   "source": [
    "# y_train_ridge = ridge_reg.predict(train_reg)\n",
    "# y_preds_ridge = ridge_reg.predict(test_reg)\n",
    "# y_train_ridge = np.clip(y_train_ridge, 0, 10).astype(int)\n",
    "# y_preds_ridge = np.clip(y_preds_ridge, 0, 10).astype(int)"
   ]
  },
  {
   "cell_type": "markdown",
   "metadata": {},
   "source": [
    "### 4.2 SGDRegressor <a class=\"anchor\" id=\"4.2\"></a>\n",
    "\n",
    "[Back to Table of Contents](#0.1)"
   ]
  },
  {
   "cell_type": "code",
   "execution_count": 56,
   "metadata": {
    "ExecuteTime": {
     "end_time": "2020-03-25T03:52:29.650972Z",
     "start_time": "2020-03-25T03:52:29.648768Z"
    }
   },
   "outputs": [],
   "source": [
    "# %%time\n",
    "# sgd = SGDRegressor(learning_rate = 'adaptive', fit_intercept=False, random_state=seed_random)\n",
    "# sgd.fit(train_reg, y)"
   ]
  },
  {
   "cell_type": "code",
   "execution_count": 57,
   "metadata": {
    "ExecuteTime": {
     "end_time": "2020-03-25T03:52:29.654902Z",
     "start_time": "2020-03-25T03:52:29.652848Z"
    }
   },
   "outputs": [],
   "source": [
    "# y_train_sgd = sgd.predict(train_reg)\n",
    "# y_preds_sgd = sgd.predict(test_reg)\n",
    "# y_train_sgd = np.clip(y_train_sgd, 0, 10).astype(int)\n",
    "# y_preds_sgd = np.clip(y_preds_sgd, 0, 10).astype(int)"
   ]
  },
  {
   "cell_type": "markdown",
   "metadata": {},
   "source": [
    "### 4.3 Logistic Regression <a class=\"anchor\" id=\"4.3\"></a>\n",
    "\n",
    "[Back to Table of Contents](#0.1)"
   ]
  },
  {
   "cell_type": "code",
   "execution_count": 58,
   "metadata": {
    "ExecuteTime": {
     "end_time": "2020-03-25T03:52:29.659099Z",
     "start_time": "2020-03-25T03:52:29.656875Z"
    }
   },
   "outputs": [],
   "source": [
    "# %%time\n",
    "# logreg = LogisticRegression(random_state=seed_random)\n",
    "# logreg.fit(train_reg, y)"
   ]
  },
  {
   "cell_type": "code",
   "execution_count": 59,
   "metadata": {
    "ExecuteTime": {
     "end_time": "2020-03-25T03:52:29.663323Z",
     "start_time": "2020-03-25T03:52:29.661066Z"
    }
   },
   "outputs": [],
   "source": [
    "# y_logreg_train = logreg.predict(train_reg)\n",
    "# y_logreg_pred = logreg.predict(test_reg)\n",
    "# y_logreg_train = np.clip(y_logreg_train, 0, 10).astype(int)\n",
    "# y_logreg_pred = np.clip(y_logreg_pred, 0, 10).astype(int)"
   ]
  },
  {
   "cell_type": "markdown",
   "metadata": {},
   "source": [
    "### 4.4 MLP <a class=\"anchor\" id=\"4.4\"></a>\n",
    "\n",
    "[Back to Table of Contents](#0.1)"
   ]
  },
  {
   "cell_type": "code",
   "execution_count": 60,
   "metadata": {
    "ExecuteTime": {
     "end_time": "2020-03-25T03:52:29.667672Z",
     "start_time": "2020-03-25T03:52:29.665256Z"
    }
   },
   "outputs": [],
   "source": [
    "# # https://www.kaggle.com/vbmokin/automatic-selection-from-20-classifier-models\n",
    "# # https://www.kaggle.com/vbmokin/bod-prediction-in-river-15-regression-models\n",
    "# mlp = MLPClassifier()\n",
    "# f1scoring = make_scorer(f1_score, average = 'macro')\n",
    "# param_grid = {'hidden_layer_sizes': [i for i in range(n_layer_0, n_layer_max)],\n",
    "#               'activation': ['relu'],\n",
    "#               'solver': ['adam'],\n",
    "#               'learning_rate': ['constant'],\n",
    "#               'learning_rate_init': [lr_mlp],\n",
    "#               'power_t': [0.5],\n",
    "#               'alpha': [0.0001],\n",
    "#               'max_iter': [1000],\n",
    "#               'early_stopping': [True],\n",
    "#               'warm_start': [False],\n",
    "#               'random_state': [seed_random]}\n",
    "# mlp_GS = GridSearchCV(mlp, param_grid=param_grid, scoring=f1scoring,\n",
    "#                    cv=cv_mlp, verbose=True, pre_dispatch='2*n_jobs')\n",
    "# mlp_GS.fit(train_reg, y)\n",
    "# print(\"Best parameters set:\", mlp_GS.best_params_)"
   ]
  },
  {
   "cell_type": "code",
   "execution_count": 61,
   "metadata": {
    "ExecuteTime": {
     "end_time": "2020-03-25T03:52:29.672177Z",
     "start_time": "2020-03-25T03:52:29.669773Z"
    }
   },
   "outputs": [],
   "source": [
    "# y_mlp_pred = mlp_GS.predict(test_reg)\n",
    "# y_pred_train_mlp = mlp_GS.predict(train_reg)"
   ]
  },
  {
   "cell_type": "code",
   "execution_count": 62,
   "metadata": {
    "ExecuteTime": {
     "end_time": "2020-03-25T03:52:29.677789Z",
     "start_time": "2020-03-25T03:52:29.674908Z"
    }
   },
   "outputs": [],
   "source": [
    "# del train_reg, test_reg\n",
    "# gc.collect()"
   ]
  },
  {
   "cell_type": "markdown",
   "metadata": {},
   "source": [
    "### 4.5 LGB <a class=\"anchor\" id=\"4.5\"></a>\n",
    "\n",
    "[Back to Table of Contents](#0.1)"
   ]
  },
  {
   "cell_type": "code",
   "execution_count": 63,
   "metadata": {
    "ExecuteTime": {
     "end_time": "2020-03-25T03:52:29.685674Z",
     "start_time": "2020-03-25T03:52:29.680399Z"
    }
   },
   "outputs": [],
   "source": [
    "# Thanks to https://www.kaggle.com/siavrez/simple-eda-model\n",
    "def MacroF1Metric(preds, dtrain):\n",
    "    labels = dtrain.get_label()\n",
    "    preds = np.round(np.clip(preds, 0, 10)).astype(int)\n",
    "    score = f1_score(labels, preds, average = 'macro')\n",
    "    return ('MacroF1Metric', score, True)"
   ]
  },
  {
   "cell_type": "code",
   "execution_count": 64,
   "metadata": {
    "ExecuteTime": {
     "end_time": "2020-03-25T04:22:55.461224Z",
     "start_time": "2020-03-25T03:52:29.688412Z"
    }
   },
   "outputs": [
    {
     "name": "stdout",
     "output_type": "stream",
     "text": [
      "Training until validation scores don't improve for 200 rounds\n",
      "[25]\tvalid_0's MacroF1Metric: 0.120772\n",
      "[50]\tvalid_0's MacroF1Metric: 0.340727\n",
      "[75]\tvalid_0's MacroF1Metric: 0.695587\n",
      "[100]\tvalid_0's MacroF1Metric: 0.914269\n",
      "[125]\tvalid_0's MacroF1Metric: 0.928331\n",
      "[150]\tvalid_0's MacroF1Metric: 0.931366\n",
      "[175]\tvalid_0's MacroF1Metric: 0.932681\n",
      "[200]\tvalid_0's MacroF1Metric: 0.933553\n",
      "[225]\tvalid_0's MacroF1Metric: 0.934113\n",
      "[250]\tvalid_0's MacroF1Metric: 0.934555\n",
      "[275]\tvalid_0's MacroF1Metric: 0.934872\n",
      "[300]\tvalid_0's MacroF1Metric: 0.93502\n",
      "[325]\tvalid_0's MacroF1Metric: 0.935227\n",
      "[350]\tvalid_0's MacroF1Metric: 0.935414\n",
      "[375]\tvalid_0's MacroF1Metric: 0.93545\n",
      "[400]\tvalid_0's MacroF1Metric: 0.935549\n",
      "[425]\tvalid_0's MacroF1Metric: 0.935653\n",
      "[450]\tvalid_0's MacroF1Metric: 0.93572\n",
      "[475]\tvalid_0's MacroF1Metric: 0.935754\n",
      "[500]\tvalid_0's MacroF1Metric: 0.935822\n",
      "[525]\tvalid_0's MacroF1Metric: 0.935854\n",
      "[550]\tvalid_0's MacroF1Metric: 0.935901\n",
      "[575]\tvalid_0's MacroF1Metric: 0.935906\n",
      "[600]\tvalid_0's MacroF1Metric: 0.93597\n",
      "[625]\tvalid_0's MacroF1Metric: 0.935986\n",
      "[650]\tvalid_0's MacroF1Metric: 0.936066\n",
      "[675]\tvalid_0's MacroF1Metric: 0.936071\n",
      "[700]\tvalid_0's MacroF1Metric: 0.936065\n",
      "[725]\tvalid_0's MacroF1Metric: 0.936084\n",
      "[750]\tvalid_0's MacroF1Metric: 0.936056\n",
      "[775]\tvalid_0's MacroF1Metric: 0.936081\n",
      "[800]\tvalid_0's MacroF1Metric: 0.936116\n",
      "[825]\tvalid_0's MacroF1Metric: 0.936161\n",
      "[850]\tvalid_0's MacroF1Metric: 0.936196\n",
      "[875]\tvalid_0's MacroF1Metric: 0.936186\n",
      "[900]\tvalid_0's MacroF1Metric: 0.936212\n",
      "[925]\tvalid_0's MacroF1Metric: 0.93619\n",
      "[950]\tvalid_0's MacroF1Metric: 0.936219\n",
      "[975]\tvalid_0's MacroF1Metric: 0.936221\n",
      "[1000]\tvalid_0's MacroF1Metric: 0.936235\n",
      "[1025]\tvalid_0's MacroF1Metric: 0.936255\n",
      "[1050]\tvalid_0's MacroF1Metric: 0.936278\n",
      "[1075]\tvalid_0's MacroF1Metric: 0.936333\n",
      "[1100]\tvalid_0's MacroF1Metric: 0.936364\n",
      "[1125]\tvalid_0's MacroF1Metric: 0.936362\n",
      "[1150]\tvalid_0's MacroF1Metric: 0.936365\n",
      "[1175]\tvalid_0's MacroF1Metric: 0.936395\n",
      "[1200]\tvalid_0's MacroF1Metric: 0.936432\n",
      "[1225]\tvalid_0's MacroF1Metric: 0.936485\n",
      "[1250]\tvalid_0's MacroF1Metric: 0.936489\n",
      "[1275]\tvalid_0's MacroF1Metric: 0.936506\n",
      "[1300]\tvalid_0's MacroF1Metric: 0.936509\n",
      "[1325]\tvalid_0's MacroF1Metric: 0.936514\n",
      "[1350]\tvalid_0's MacroF1Metric: 0.93652\n",
      "[1375]\tvalid_0's MacroF1Metric: 0.936515\n",
      "[1400]\tvalid_0's MacroF1Metric: 0.936617\n",
      "[1425]\tvalid_0's MacroF1Metric: 0.936626\n",
      "[1450]\tvalid_0's MacroF1Metric: 0.93658\n",
      "[1475]\tvalid_0's MacroF1Metric: 0.936549\n",
      "[1500]\tvalid_0's MacroF1Metric: 0.936575\n",
      "[1525]\tvalid_0's MacroF1Metric: 0.936551\n",
      "[1550]\tvalid_0's MacroF1Metric: 0.936524\n",
      "[1575]\tvalid_0's MacroF1Metric: 0.936516\n",
      "[1600]\tvalid_0's MacroF1Metric: 0.936518\n",
      "Early stopping, best iteration is:\n",
      "[1407]\tvalid_0's MacroF1Metric: 0.936633\n",
      "CPU times: user 2h 44min 6s, sys: 13min 30s, total: 2h 57min 37s\n",
      "Wall time: 30min 25s\n"
     ]
    },
    {
     "data": {
      "text/plain": [
       "288"
      ]
     },
     "execution_count": 64,
     "metadata": {},
     "output_type": "execute_result"
    }
   ],
   "source": [
    "%%time\n",
    "# Thanks to https://www.kaggle.com/jazivxt/physically-possible with tuning from https://www.kaggle.com/siavrez/simple-eda-model and my tuning\n",
    "X_train, X_valid, y_train, y_valid = train_test_split(train[col], y, test_size=0.3, random_state=seed_random)\n",
    "params = {'learning_rate': lr_lgb, \n",
    "          'max_depth': -1, \n",
    "          'num_leaves': num_leaves,\n",
    "          'metric': 'logloss', \n",
    "          'random_state': seed_random, \n",
    "          'n_jobs':-1, \n",
    "          'sample_fraction':0.33}\n",
    "model = lgb.train(params, lgb.Dataset(X_train, y_train), num_iterations, lgb.Dataset(X_valid, y_valid), verbose_eval=25, early_stopping_rounds=200, feval=MacroF1Metric)\n",
    "gc.collect()"
   ]
  },
  {
   "cell_type": "code",
   "execution_count": 65,
   "metadata": {
    "ExecuteTime": {
     "end_time": "2020-03-25T04:25:14.683662Z",
     "start_time": "2020-03-25T04:22:55.463218Z"
    }
   },
   "outputs": [
    {
     "name": "stdout",
     "output_type": "stream",
     "text": [
      "CPU times: user 15min 32s, sys: 4.14 s, total: 15min 36s\n",
      "Wall time: 2min 19s\n"
     ]
    },
    {
     "data": {
      "text/plain": [
       "44"
      ]
     },
     "execution_count": 65,
     "metadata": {},
     "output_type": "execute_result"
    }
   ],
   "source": [
    "%%time\n",
    "y_lgb_pred = model.predict(test[col], num_iteration=model.best_iteration)\n",
    "y_pred_train_lgb = model.predict(train[col], num_iteration=model.best_iteration)\n",
    "gc.collect()"
   ]
  },
  {
   "cell_type": "code",
   "execution_count": 66,
   "metadata": {
    "ExecuteTime": {
     "end_time": "2020-03-25T04:25:15.963781Z",
     "start_time": "2020-03-25T04:25:14.685315Z"
    }
   },
   "outputs": [
    {
     "name": "stdout",
     "output_type": "stream",
     "text": [
      "LGB score 0.9440\n"
     ]
    }
   ],
   "source": [
    "print('LGB score {0:.4f}'.format(np.mean(f1_score(y, np.round(np.clip(y_pred_train_lgb,0,10)).astype(int), average=\"macro\"))))"
   ]
  },
  {
   "cell_type": "code",
   "execution_count": 67,
   "metadata": {
    "ExecuteTime": {
     "end_time": "2020-03-25T04:25:17.071101Z",
     "start_time": "2020-03-25T04:25:15.965414Z"
    }
   },
   "outputs": [
    {
     "data": {
      "image/png": "[encoded data removed]",
      "text/plain": [
       "<Figure size 1080x1080 with 1 Axes>"
      ]
     },
     "metadata": {
      "needs_background": "light"
     },
     "output_type": "display_data"
    },
    {
     "data": {
      "text/plain": [
       "5"
      ]
     },
     "execution_count": 67,
     "metadata": {},
     "output_type": "execute_result"
    }
   ],
   "source": [
    "fig =  plt.figure(figsize = (15,15))\n",
    "axes = fig.add_subplot(111)\n",
    "lgb.plot_importance(model,ax = axes,height = 0.5)\n",
    "plt.show();plt.close()\n",
    "gc.collect()"
   ]
  },
  {
   "cell_type": "markdown",
   "metadata": {},
   "source": [
    "### 4.6 XGB <a class=\"anchor\" id=\"4.6\"></a>\n",
    "\n",
    "[Back to Table of Contents](#0.1)"
   ]
  },
  {
   "cell_type": "code",
   "execution_count": 68,
   "metadata": {
    "ExecuteTime": {
     "end_time": "2020-03-25T04:25:26.226844Z",
     "start_time": "2020-03-25T04:25:17.073236Z"
    }
   },
   "outputs": [
    {
     "data": {
      "text/plain": [
       "46"
      ]
     },
     "execution_count": 68,
     "metadata": {},
     "output_type": "execute_result"
    }
   ],
   "source": [
    "# Thanks to https://www.kaggle.com/teejmahal20/3-simple-ideas-ensemble\n",
    "train_set = xgb.DMatrix(X_train, y_train)\n",
    "val_set = xgb.DMatrix(X_valid, y_valid)\n",
    "del X_train, X_valid, y_train, y_valid\n",
    "gc.collect()"
   ]
  },
  {
   "cell_type": "code",
   "execution_count": 69,
   "metadata": {
    "ExecuteTime": {
     "end_time": "2020-03-25T09:04:14.362463Z",
     "start_time": "2020-03-25T04:25:26.228881Z"
    }
   },
   "outputs": [
    {
     "name": "stdout",
     "output_type": "stream",
     "text": [
      "[0]\ttrain-logloss:-0.800978\tval-logloss:-0.80918\n",
      "Multiple eval metrics have been passed: 'val-logloss' will be used for early stopping.\n",
      "\n",
      "Will train until val-logloss hasn't improved in 200 rounds.\n",
      "[25]\ttrain-logloss:-72.9026\tval-logloss:-72.6199\n",
      "[50]\ttrain-logloss:-72.9293\tval-logloss:-72.6564\n",
      "[75]\ttrain-logloss:-72.9347\tval-logloss:-72.6626\n",
      "[100]\ttrain-logloss:-72.9368\tval-logloss:-72.6647\n",
      "[125]\ttrain-logloss:-72.9378\tval-logloss:-72.6655\n",
      "[150]\ttrain-logloss:-72.9385\tval-logloss:-72.6657\n",
      "[175]\ttrain-logloss:-72.9389\tval-logloss:-72.6657\n",
      "[200]\ttrain-logloss:-72.9391\tval-logloss:-72.6657\n",
      "[225]\ttrain-logloss:-72.9393\tval-logloss:-72.6656\n",
      "[250]\ttrain-logloss:-72.9394\tval-logloss:-72.6657\n",
      "[275]\ttrain-logloss:-72.9395\tval-logloss:-72.6656\n",
      "[300]\ttrain-logloss:-72.9396\tval-logloss:-72.6654\n",
      "[325]\ttrain-logloss:-72.9397\tval-logloss:-72.6654\n",
      "[350]\ttrain-logloss:-72.9397\tval-logloss:-72.6653\n",
      "Stopping. Best iteration:\n",
      "[156]\ttrain-logloss:-72.9386\tval-logloss:-72.6658\n",
      "\n",
      "CPU times: user 4h 36min 51s, sys: 49.8 s, total: 4h 37min 40s\n",
      "Wall time: 4h 38min 48s\n"
     ]
    },
    {
     "data": {
      "text/plain": [
       "41"
      ]
     },
     "execution_count": 69,
     "metadata": {},
     "output_type": "execute_result"
    }
   ],
   "source": [
    "%%time\n",
    "params_xgb = {'colsample_bytree': 0.375,\n",
    "              'learning_rate': lr_xgb,\n",
    "              'max_depth': max_depth_xgb, \n",
    "              'subsample': 1, \n",
    "              'objective':'reg:squarederror',\n",
    "              'eval_metric':'logloss'}\n",
    "\n",
    "modelx = xgb.train(params_xgb, train_set, num_boost_round=num_boost_round_xgb, evals=[(train_set, 'train'), (val_set, 'val')], \n",
    "                                     verbose_eval=25, early_stopping_rounds=200)\n",
    "del train_set, val_set\n",
    "gc.collect()"
   ]
  },
  {
   "cell_type": "code",
   "execution_count": 70,
   "metadata": {
    "ExecuteTime": {
     "end_time": "2020-03-25T09:08:31.194515Z",
     "start_time": "2020-03-25T09:04:14.364566Z"
    }
   },
   "outputs": [
    {
     "name": "stdout",
     "output_type": "stream",
     "text": [
      "CPU times: user 4min 6s, sys: 9.52 s, total: 4min 15s\n",
      "Wall time: 4min 16s\n"
     ]
    },
    {
     "data": {
      "text/plain": [
       "42"
      ]
     },
     "execution_count": 70,
     "metadata": {},
     "output_type": "execute_result"
    }
   ],
   "source": [
    "%%time\n",
    "y_xgb_pred = modelx.predict(xgb.DMatrix(test[col]))\n",
    "y_pred_train_xgb = modelx.predict(xgb.DMatrix(train[col]))\n",
    "gc.collect()"
   ]
  },
  {
   "cell_type": "code",
   "execution_count": 71,
   "metadata": {
    "ExecuteTime": {
     "end_time": "2020-03-25T09:08:32.548241Z",
     "start_time": "2020-03-25T09:08:31.196742Z"
    }
   },
   "outputs": [
    {
     "name": "stdout",
     "output_type": "stream",
     "text": [
      "XGB score 0.9414\n"
     ]
    }
   ],
   "source": [
    "print('XGB score {0:.4f}'.format(np.mean(f1_score(y, np.round(np.clip(y_pred_train_xgb,0,10)).astype(int), average=\"macro\"))))"
   ]
  },
  {
   "cell_type": "markdown",
   "metadata": {},
   "source": [
    "## 5. Showing Confusion Matrices <a class=\"anchor\" id=\"5\"></a>\n",
    "\n",
    "[Back to Table of Contents](#0.1)"
   ]
  },
  {
   "cell_type": "code",
   "execution_count": 72,
   "metadata": {
    "ExecuteTime": {
     "end_time": "2020-03-25T09:08:32.589497Z",
     "start_time": "2020-03-25T09:08:32.567558Z"
    }
   },
   "outputs": [],
   "source": [
    "# Showing Confusion Matrix\n",
    "# Thanks to https://www.kaggle.com/marcovasquez/basic-nlp-with-tensorflow-and-wordcloud\n",
    "def plot_cm(y_true, y_pred, title):\n",
    "    figsize=(14,14)\n",
    "    y_pred = y_pred.astype(int)\n",
    "    cm = confusion_matrix(y_true, y_pred, labels=np.unique(y_true))\n",
    "    cm_sum = np.sum(cm, axis=1, keepdims=True)\n",
    "    cm_perc = cm / cm_sum.astype(float) * 100\n",
    "    annot = np.empty_like(cm).astype(str)\n",
    "    nrows, ncols = cm.shape\n",
    "    for i in range(nrows):\n",
    "        for j in range(ncols):\n",
    "            c = cm[i, j]\n",
    "            p = cm_perc[i, j]\n",
    "            if i == j:\n",
    "                s = cm_sum[i]\n",
    "                annot[i, j] = '%.1f%%\\n%d/%d' % (p, c, s)\n",
    "            elif c == 0:\n",
    "                annot[i, j] = ''\n",
    "            else:\n",
    "                annot[i, j] = '%.1f%%\\n%d' % (p, c)\n",
    "    cm = pd.DataFrame(cm, index=np.unique(y_true), columns=np.unique(y_true))\n",
    "    cm.index.name = 'Actual'\n",
    "    cm.columns.name = 'Predicted'\n",
    "    fig, ax = plt.subplots(figsize=figsize)\n",
    "    plt.title(title)\n",
    "    sns.heatmap(cm, cmap= \"YlGnBu\", annot=annot, fmt='', ax=ax)"
   ]
  },
  {
   "cell_type": "code",
   "execution_count": 73,
   "metadata": {
    "ExecuteTime": {
     "end_time": "2020-03-25T09:08:32.602011Z",
     "start_time": "2020-03-25T09:08:32.597107Z"
    }
   },
   "outputs": [],
   "source": [
    "# Showing Confusion Matrix for Ridge model\n",
    "#plot_cm(y, y_train_ridge, 'Confusion matrix for Ridge model')"
   ]
  },
  {
   "cell_type": "code",
   "execution_count": 74,
   "metadata": {
    "ExecuteTime": {
     "end_time": "2020-03-25T09:08:32.606168Z",
     "start_time": "2020-03-25T09:08:32.603891Z"
    }
   },
   "outputs": [],
   "source": [
    "# Showing Confusion Matrix for SGDRegressor model\n",
    "#plot_cm(y, y_train_sgd, 'Confusion matrix for SGDRegressor model')"
   ]
  },
  {
   "cell_type": "code",
   "execution_count": 75,
   "metadata": {
    "ExecuteTime": {
     "end_time": "2020-03-25T09:08:32.611106Z",
     "start_time": "2020-03-25T09:08:32.607876Z"
    }
   },
   "outputs": [],
   "source": [
    "# # Showing Confusion Matrix for Logistic Regression\n",
    "# plot_cm(y, y_logreg_train, 'Confusion matrix for Logistic Regression')"
   ]
  },
  {
   "cell_type": "code",
   "execution_count": 76,
   "metadata": {
    "ExecuteTime": {
     "end_time": "2020-03-25T09:08:43.628967Z",
     "start_time": "2020-03-25T09:08:32.612663Z"
    }
   },
   "outputs": [
    {
     "data": {
      "image/png": "[encoded data removed]",
      "text/plain": [
       "<Figure size 1008x1008 with 2 Axes>"
      ]
     },
     "metadata": {
      "needs_background": "light"
     },
     "output_type": "display_data"
    }
   ],
   "source": [
    "# Showing Confusion Matrix for LGB model\n",
    "plot_cm(y, y_pred_train_lgb, 'Confusion matrix for LGB model')"
   ]
  },
  {
   "cell_type": "code",
   "execution_count": 77,
   "metadata": {
    "ExecuteTime": {
     "end_time": "2020-03-25T09:08:54.357259Z",
     "start_time": "2020-03-25T09:08:43.633747Z"
    }
   },
   "outputs": [
    {
     "data": {
      "image/png": "[encoded data removed]",
      "text/plain": [
       "<Figure size 1008x1008 with 2 Axes>"
      ]
     },
     "metadata": {
      "needs_background": "light"
     },
     "output_type": "display_data"
    }
   ],
   "source": [
    "# Showing Confusion Matrix for LGB model\n",
    "plot_cm(y, y_pred_train_xgb, 'Confusion matrix for XGB model')"
   ]
  },
  {
   "cell_type": "code",
   "execution_count": 78,
   "metadata": {
    "ExecuteTime": {
     "end_time": "2020-03-25T09:08:54.364363Z",
     "start_time": "2020-03-25T09:08:54.362091Z"
    }
   },
   "outputs": [],
   "source": [
    "# # Showing Confusion Matrix for MLP model\n",
    "# plot_cm(y, y_pred_train_mlp, 'Confusion matrix for MLP model')"
   ]
  },
  {
   "cell_type": "code",
   "execution_count": 79,
   "metadata": {
    "ExecuteTime": {
     "end_time": "2020-03-25T09:08:54.425076Z",
     "start_time": "2020-03-25T09:08:54.368619Z"
    }
   },
   "outputs": [
    {
     "data": {
      "text/plain": [
       "21034"
      ]
     },
     "execution_count": 79,
     "metadata": {},
     "output_type": "execute_result"
    }
   ],
   "source": [
    "gc.collect()"
   ]
  },
  {
   "cell_type": "markdown",
   "metadata": {},
   "source": [
    "## 6. Comparison and merging solutions <a class=\"anchor\" id=\"6\"></a>\n",
    "\n",
    "[Back to Table of Contents](#0.1)"
   ]
  },
  {
   "cell_type": "markdown",
   "metadata": {},
   "source": [
    "### Merging solution"
   ]
  },
  {
   "cell_type": "code",
   "execution_count": 80,
   "metadata": {
    "ExecuteTime": {
     "end_time": "2020-03-25T09:09:04.982470Z",
     "start_time": "2020-03-25T09:08:54.426758Z"
    }
   },
   "outputs": [
    {
     "data": {
      "image/png": "[encoded data removed]",
      "text/plain": [
       "<Figure size 1008x1008 with 2 Axes>"
      ]
     },
     "metadata": {
      "needs_background": "light"
     },
     "output_type": "display_data"
    }
   ],
   "source": [
    "# Showing Confusion Matrix for the main solution before rounded\n",
    "y_train_preds = w_lgb*y_pred_train_lgb + w_xgb*y_pred_train_xgb\n",
    "plot_cm(y, y_train_preds, 'Confusion matrix for the main solution before rounded')"
   ]
  },
  {
   "cell_type": "code",
   "execution_count": 81,
   "metadata": {
    "ExecuteTime": {
     "end_time": "2020-03-25T09:09:05.052274Z",
     "start_time": "2020-03-25T09:09:04.984596Z"
    }
   },
   "outputs": [
    {
     "data": {
      "text/plain": [
       "10517"
      ]
     },
     "execution_count": 81,
     "metadata": {},
     "output_type": "execute_result"
    }
   ],
   "source": [
    "del y_pred_train_lgb, y_pred_train_xgb\n",
    "gc.collect()"
   ]
  },
  {
   "cell_type": "code",
   "execution_count": 82,
   "metadata": {
    "ExecuteTime": {
     "end_time": "2020-03-25T09:09:05.144203Z",
     "start_time": "2020-03-25T09:09:05.054645Z"
    }
   },
   "outputs": [],
   "source": [
    "#y_preds = w_ridge*y_preds_ridge + w_sgd*y_preds_sgd + w_logreg*y_logreg_pred + w_lgb*y_lgb_pred\n",
    "#y_preds = w_logreg*y_logreg_pred + w_lgb*y_lgb_pred + w_mlp*y_mlp_pred\n",
    "y_preds = w_lgb*y_lgb_pred + w_xgb*y_xgb_pred"
   ]
  },
  {
   "cell_type": "code",
   "execution_count": 83,
   "metadata": {
    "ExecuteTime": {
     "end_time": "2020-03-25T09:09:05.193080Z",
     "start_time": "2020-03-25T09:09:05.146746Z"
    }
   },
   "outputs": [
    {
     "data": {
      "text/plain": [
       "40"
      ]
     },
     "execution_count": 83,
     "metadata": {},
     "output_type": "execute_result"
    }
   ],
   "source": [
    "del y_lgb_pred, y_xgb_pred\n",
    "gc.collect()"
   ]
  },
  {
   "cell_type": "markdown",
   "metadata": {},
   "source": [
    "### Processing prediction"
   ]
  },
  {
   "cell_type": "code",
   "execution_count": 84,
   "metadata": {
    "ExecuteTime": {
     "end_time": "2020-03-25T09:09:05.199956Z",
     "start_time": "2020-03-25T09:09:05.195607Z"
    }
   },
   "outputs": [],
   "source": [
    "def pred_proc(pred):\n",
    "    pred = np.round(np.clip(pred, 0, 10))\n",
    "    return pred.astype(int)"
   ]
  },
  {
   "cell_type": "code",
   "execution_count": 85,
   "metadata": {
    "ExecuteTime": {
     "end_time": "2020-03-25T09:09:05.289804Z",
     "start_time": "2020-03-25T09:09:05.202496Z"
    }
   },
   "outputs": [],
   "source": [
    "# Prediction processing for the main solution\n",
    "y_preds = pred_proc(y_preds)\n",
    "y_train_preds = pred_proc(y_train_preds)"
   ]
  },
  {
   "cell_type": "markdown",
   "metadata": {},
   "source": [
    "### Building Confusion matrices for processing solutions"
   ]
  },
  {
   "cell_type": "code",
   "execution_count": 86,
   "metadata": {
    "ExecuteTime": {
     "end_time": "2020-03-25T09:09:05.296328Z",
     "start_time": "2020-03-25T09:09:05.292031Z"
    }
   },
   "outputs": [],
   "source": [
    "# Showing Confusion Matrix for processing solution of Ridge model\n",
    "#plot_cm(y, pred_proc(y_train_ridge), 'Confusion matrix for processing solution of Ridge model')"
   ]
  },
  {
   "cell_type": "code",
   "execution_count": 87,
   "metadata": {
    "ExecuteTime": {
     "end_time": "2020-03-25T09:09:05.300759Z",
     "start_time": "2020-03-25T09:09:05.298364Z"
    }
   },
   "outputs": [],
   "source": [
    "# Showing Confusion Matrix for processing solution of SGDRegression model\n",
    "#plot_cm(y, pred_proc(y_train_sgd), 'Confusion matrix for processing solution of SGDRegression model')"
   ]
  },
  {
   "cell_type": "code",
   "execution_count": 88,
   "metadata": {
    "ExecuteTime": {
     "end_time": "2020-03-25T09:09:05.305257Z",
     "start_time": "2020-03-25T09:09:05.302723Z"
    }
   },
   "outputs": [],
   "source": [
    "# # Showing Confusion Matrix for processing solution of Logistic Regression model\n",
    "# plot_cm(y, pred_proc(y_logreg_train), 'Confusion matrix for processing solution of Logistic Regression model')"
   ]
  },
  {
   "cell_type": "code",
   "execution_count": 89,
   "metadata": {
    "ExecuteTime": {
     "end_time": "2020-03-25T09:09:05.310541Z",
     "start_time": "2020-03-25T09:09:05.307888Z"
    }
   },
   "outputs": [],
   "source": [
    "# # Showing Confusion Matrix for processing solution of LGB model\n",
    "# plot_cm(y, pred_proc(y_pred_train_lgb), 'Confusion matrix for processing solution of LGB model')"
   ]
  },
  {
   "cell_type": "code",
   "execution_count": 90,
   "metadata": {
    "ExecuteTime": {
     "end_time": "2020-03-25T09:09:05.314705Z",
     "start_time": "2020-03-25T09:09:05.312525Z"
    }
   },
   "outputs": [],
   "source": [
    "# # Showing Confusion Matrix for processing solution of MLP model\n",
    "# plot_cm(y, pred_proc(y_pred_train_mlp), 'Confusion matrix for processing solution of MLP model')"
   ]
  },
  {
   "cell_type": "code",
   "execution_count": 91,
   "metadata": {
    "ExecuteTime": {
     "end_time": "2020-03-25T09:09:16.025017Z",
     "start_time": "2020-03-25T09:09:05.316743Z"
    }
   },
   "outputs": [
    {
     "data": {
      "image/png": "[encoded data removed]",
      "text/plain": [
       "<Figure size 1008x1008 with 2 Axes>"
      ]
     },
     "metadata": {
      "needs_background": "light"
     },
     "output_type": "display_data"
    }
   ],
   "source": [
    "# Showing Confusion Matrix for the processing main solution\n",
    "plot_cm(y, y_train_preds, 'Confusion matrix for the processing main solution')"
   ]
  },
  {
   "cell_type": "code",
   "execution_count": 92,
   "metadata": {
    "ExecuteTime": {
     "end_time": "2020-03-25T09:09:17.231229Z",
     "start_time": "2020-03-25T09:09:16.026715Z"
    }
   },
   "outputs": [
    {
     "name": "stdout",
     "output_type": "stream",
     "text": [
      "The main solution score 0.9429\n"
     ]
    }
   ],
   "source": [
    "print('The main solution score {0:.4f}'.format(np.mean(f1_score(y, y_train_preds, average=\"macro\"))))"
   ]
  },
  {
   "cell_type": "code",
   "execution_count": 93,
   "metadata": {
    "ExecuteTime": {
     "end_time": "2020-03-25T09:09:17.289186Z",
     "start_time": "2020-03-25T09:09:17.233265Z"
    }
   },
   "outputs": [
    {
     "data": {
      "text/plain": [
       "10537"
      ]
     },
     "execution_count": 93,
     "metadata": {},
     "output_type": "execute_result"
    }
   ],
   "source": [
    "del y_train_preds\n",
    "gc.collect()"
   ]
  },
  {
   "cell_type": "markdown",
   "metadata": {},
   "source": [
    "## 7. Submission <a class=\"anchor\" id=\"7\"></a>\n",
    "\n",
    "[Back to Table of Contents](#0.1)"
   ]
  },
  {
   "cell_type": "code",
   "execution_count": 94,
   "metadata": {
    "ExecuteTime": {
     "end_time": "2020-03-25T09:09:23.497625Z",
     "start_time": "2020-03-25T09:09:17.291512Z"
    }
   },
   "outputs": [],
   "source": [
    "test['open_channels'] = y_preds\n",
    "test[['time','open_channels']].to_csv('submission-lgb.csv', index=False, float_format='%.4f')"
   ]
  },
  {
   "cell_type": "code",
   "execution_count": 95,
   "metadata": {
    "ExecuteTime": {
     "end_time": "2020-03-25T09:09:23.521635Z",
     "start_time": "2020-03-25T09:09:23.499600Z"
    }
   },
   "outputs": [
    {
     "data": {
      "text/html": [
       "<div>\n",
       "<style scoped>\n",
       "    .dataframe tbody tr th:only-of-type {\n",
       "        vertical-align: middle;\n",
       "    }\n",
       "\n",
       "    .dataframe tbody tr th {\n",
       "        vertical-align: top;\n",
       "    }\n",
       "\n",
       "    .dataframe thead th {\n",
       "        text-align: right;\n",
       "    }\n",
       "</style>\n",
       "<table border=\"1\" class=\"dataframe\">\n",
       "  <thead>\n",
       "    <tr style=\"text-align: right;\">\n",
       "      <th></th>\n",
       "      <th>time</th>\n",
       "      <th>signal</th>\n",
       "      <th>rolling_mean_10</th>\n",
       "      <th>rolling_std_10</th>\n",
       "      <th>rolling_var_10</th>\n",
       "      <th>rolling_min_10</th>\n",
       "      <th>rolling_max_10</th>\n",
       "      <th>norm_10</th>\n",
       "      <th>rolling_mean_50</th>\n",
       "      <th>rolling_std_50</th>\n",
       "      <th>...</th>\n",
       "      <th>abs_maxbatch_slices2_msignal</th>\n",
       "      <th>abs_minbatch_slices2_msignal</th>\n",
       "      <th>rangebatch_slices2_msignal</th>\n",
       "      <th>maxtominbatch_slices2_msignal</th>\n",
       "      <th>abs_avgbatch_slices2_msignal</th>\n",
       "      <th>signal_shift_+1_msignal</th>\n",
       "      <th>signal_shift_-1_msignal</th>\n",
       "      <th>signal_shift_+2_msignal</th>\n",
       "      <th>signal_shift_-2_msignal</th>\n",
       "      <th>open_channels</th>\n",
       "    </tr>\n",
       "  </thead>\n",
       "  <tbody>\n",
       "    <tr>\n",
       "      <th>5000000.0</th>\n",
       "      <td>500.0001</td>\n",
       "      <td>-2.650391</td>\n",
       "      <td>0.0</td>\n",
       "      <td>0.0</td>\n",
       "      <td>0.0</td>\n",
       "      <td>0.0</td>\n",
       "      <td>0.0</td>\n",
       "      <td>0.0</td>\n",
       "      <td>0.0</td>\n",
       "      <td>0.0</td>\n",
       "      <td>...</td>\n",
       "      <td>6.046875</td>\n",
       "      <td>4.445312</td>\n",
       "      <td>4.253906</td>\n",
       "      <td>3.177734</td>\n",
       "      <td>5.246094</td>\n",
       "      <td>0.000000</td>\n",
       "      <td>-0.199585</td>\n",
       "      <td>0.000000</td>\n",
       "      <td>-0.210205</td>\n",
       "      <td>0</td>\n",
       "    </tr>\n",
       "    <tr>\n",
       "      <th>5000001.0</th>\n",
       "      <td>500.0002</td>\n",
       "      <td>-2.849609</td>\n",
       "      <td>0.0</td>\n",
       "      <td>0.0</td>\n",
       "      <td>0.0</td>\n",
       "      <td>0.0</td>\n",
       "      <td>0.0</td>\n",
       "      <td>0.0</td>\n",
       "      <td>0.0</td>\n",
       "      <td>0.0</td>\n",
       "      <td>...</td>\n",
       "      <td>6.250000</td>\n",
       "      <td>4.644531</td>\n",
       "      <td>4.453125</td>\n",
       "      <td>3.376953</td>\n",
       "      <td>5.445312</td>\n",
       "      <td>0.199585</td>\n",
       "      <td>-0.010597</td>\n",
       "      <td>0.000000</td>\n",
       "      <td>0.414307</td>\n",
       "      <td>0</td>\n",
       "    </tr>\n",
       "    <tr>\n",
       "      <th>5000002.0</th>\n",
       "      <td>500.0003</td>\n",
       "      <td>-2.859375</td>\n",
       "      <td>0.0</td>\n",
       "      <td>0.0</td>\n",
       "      <td>0.0</td>\n",
       "      <td>0.0</td>\n",
       "      <td>0.0</td>\n",
       "      <td>0.0</td>\n",
       "      <td>0.0</td>\n",
       "      <td>0.0</td>\n",
       "      <td>...</td>\n",
       "      <td>6.257812</td>\n",
       "      <td>4.656250</td>\n",
       "      <td>4.464844</td>\n",
       "      <td>3.388672</td>\n",
       "      <td>5.457031</td>\n",
       "      <td>0.010597</td>\n",
       "      <td>0.425049</td>\n",
       "      <td>0.210205</td>\n",
       "      <td>0.244507</td>\n",
       "      <td>0</td>\n",
       "    </tr>\n",
       "  </tbody>\n",
       "</table>\n",
       "<p>3 rows × 79 columns</p>\n",
       "</div>"
      ],
      "text/plain": [
       "               time    signal  rolling_mean_10  rolling_std_10  \\\n",
       "5000000.0  500.0001 -2.650391              0.0             0.0   \n",
       "5000001.0  500.0002 -2.849609              0.0             0.0   \n",
       "5000002.0  500.0003 -2.859375              0.0             0.0   \n",
       "\n",
       "           rolling_var_10  rolling_min_10  rolling_max_10  norm_10  \\\n",
       "5000000.0             0.0             0.0             0.0      0.0   \n",
       "5000001.0             0.0             0.0             0.0      0.0   \n",
       "5000002.0             0.0             0.0             0.0      0.0   \n",
       "\n",
       "           rolling_mean_50  rolling_std_50  ...  abs_maxbatch_slices2_msignal  \\\n",
       "5000000.0              0.0             0.0  ...                      6.046875   \n",
       "5000001.0              0.0             0.0  ...                      6.250000   \n",
       "5000002.0              0.0             0.0  ...                      6.257812   \n",
       "\n",
       "           abs_minbatch_slices2_msignal  rangebatch_slices2_msignal  \\\n",
       "5000000.0                      4.445312                    4.253906   \n",
       "5000001.0                      4.644531                    4.453125   \n",
       "5000002.0                      4.656250                    4.464844   \n",
       "\n",
       "           maxtominbatch_slices2_msignal  abs_avgbatch_slices2_msignal  \\\n",
       "5000000.0                       3.177734                      5.246094   \n",
       "5000001.0                       3.376953                      5.445312   \n",
       "5000002.0                       3.388672                      5.457031   \n",
       "\n",
       "           signal_shift_+1_msignal  signal_shift_-1_msignal  \\\n",
       "5000000.0                 0.000000                -0.199585   \n",
       "5000001.0                 0.199585                -0.010597   \n",
       "5000002.0                 0.010597                 0.425049   \n",
       "\n",
       "           signal_shift_+2_msignal  signal_shift_-2_msignal  open_channels  \n",
       "5000000.0                 0.000000                -0.210205              0  \n",
       "5000001.0                 0.000000                 0.414307              0  \n",
       "5000002.0                 0.210205                 0.244507              0  \n",
       "\n",
       "[3 rows x 79 columns]"
      ]
     },
     "execution_count": 95,
     "metadata": {},
     "output_type": "execute_result"
    }
   ],
   "source": [
    "test.head(3)"
   ]
  },
  {
   "cell_type": "code",
   "execution_count": 96,
   "metadata": {
    "ExecuteTime": {
     "end_time": "2020-03-25T09:09:23.695492Z",
     "start_time": "2020-03-25T09:09:23.529690Z"
    }
   },
   "outputs": [
    {
     "name": "stdout",
     "output_type": "stream",
     "text": [
      "[500.0001 500.0002 500.0003 500.0004 500.0005 500.0006 500.0007 500.0008\n",
      " 500.0009 500.001 ]\n",
      "1.380558\n",
      "AxesSubplot(0.125,0.125;0.775x0.755)\n"
     ]
    },
    {
     "data": {
      "image/png": "[encoded data removed]",
      "text/plain": [
       "<Figure size 432x288 with 1 Axes>"
      ]
     },
     "metadata": {
      "needs_background": "light"
     },
     "output_type": "display_data"
    }
   ],
   "source": [
    "print(test.time.values[:10])\n",
    "print(test['open_channels'].mean())\n",
    "print(test['open_channels'].hist())"
   ]
  },
  {
   "cell_type": "markdown",
   "metadata": {},
   "source": [
    "I hope you find this kernel useful and enjoyable."
   ]
  },
  {
   "cell_type": "markdown",
   "metadata": {},
   "source": [
    "Your comments and feedback are most welcome."
   ]
  },
  {
   "cell_type": "markdown",
   "metadata": {},
   "source": [
    "[Go to Top](#0)"
   ]
  }
 ],
 "metadata": {
  "kernelspec": {
   "display_name": "Python 3",
   "language": "python",
   "name": "python3"
  },
  "language_info": {
   "codemirror_mode": {
    "name": "ipython",
    "version": 3
   },
   "file_extension": ".py",
   "mimetype": "text/x-python",
   "name": "python",
   "nbconvert_exporter": "python",
   "pygments_lexer": "ipython3",
   "version": "3.7.5"
  }
 },
 "nbformat": 4,
 "nbformat_minor": 4
}
